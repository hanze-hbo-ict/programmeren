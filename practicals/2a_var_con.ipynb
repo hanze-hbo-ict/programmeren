{
 "cells": [
  {
   "attachments": {},
   "cell_type": "markdown",
   "metadata": {
    "slideshow": {
     "slide_type": "slide"
    }
   },
   "source": [
    "# Maximum\n"
   ]
  },
  {
   "attachments": {},
   "cell_type": "markdown",
   "metadata": {},
   "source": [
    "Het probleem: Gegeven twee getallen, welke van de twee getallen is de grootste?\n",
    "\n"
   ]
  },
  {
   "attachments": {},
   "cell_type": "markdown",
   "metadata": {},
   "source": [
    "De 3 p's:\n",
    "\n",
    "- **Probeer**: Probeer het probleem op te lossen op papier.\n",
    "- **Plan**: Noteer de stappen die zijn gebruikt om het probleem op te lossen. \n",
    "- **Programmeer**: Vertaal de stappen naar een programmeer taal. "
   ]
  },
  {
   "attachments": {},
   "cell_type": "markdown",
   "metadata": {},
   "source": [
    "**Stap 1: probeer**:\n",
    "In dit voorbeeld is de probeer fase niet erg indrukwekkend. Gegeven twee getallen kunnen wij als mens al heel snel zien welke van de twee groter is."
   ]
  },
  {
   "attachments": {},
   "cell_type": "markdown",
   "metadata": {},
   "source": [
    "**Stap 2: Plan**:\n",
    "1. Neem twee getallen a en b\n",
    "2. als a > b dan is a de grooste anders is b het grootste getal. "
   ]
  },
  {
   "attachments": {},
   "cell_type": "markdown",
   "metadata": {},
   "source": [
    "**Stap 3: Programmeer**:\n",
    "Nu het plan omzetten in code. Deze cursus gebruikt hiervoor python. De leerdoelen van deze werkcollege zijn:\n",
    "* Input en output\n",
    "* Variabelen\n",
    "* If-then-else\n",
    "\n",
    "Dit is de kennis dat nodig is om het gemaakte plan om te zetten tot programmeer code."
   ]
  },
  {
   "attachments": {},
   "cell_type": "markdown",
   "metadata": {},
   "source": [
    "## Input en output"
   ]
  },
  {
   "attachments": {},
   "cell_type": "markdown",
   "metadata": {},
   "source": [
    "De computer moet worden verteld welke twee getallen we met elkaar willen vergelijken. Dit kan gedaan worden met behulp van een Input functie. Een functie en is een opdracht dat een computer kan uitvoeren. \n"
   ]
  },
  {
   "cell_type": "code",
   "execution_count": null,
   "metadata": {},
   "outputs": [],
   "source": [
    "input()"
   ]
  },
  {
   "attachments": {},
   "cell_type": "markdown",
   "metadata": {},
   "source": [
    "De functie heeft als naam 'input'. Door het gebruik van haakjes weet de computer dat het hier gaat om een functie en dat er dus een opdracht uitgevoerd moet worden. In dit geval weet de computer dat er gevraagd moet worden voor input. Om te vertellen aan de gebruiker van het programma wat voor input er verwacht wordt kunnen we een string toevoegen aan de functie. Een string wordt aangegven met dubbele quotes, zo weet de computer dat het om een zin/woord gaat. "
   ]
  },
  {
   "cell_type": "code",
   "execution_count": null,
   "metadata": {},
   "outputs": [],
   "source": [
    "input(\"Geef getal a\")\n",
    "input(\"Geef getal b\")"
   ]
  },
  {
   "attachments": {},
   "cell_type": "markdown",
   "metadata": {},
   "source": [
    "De functie krijgt nu als parameter een string mee. De computer geeft deze zin als output voordat hij vraagt om input. Zo kan een gebruiker lezen welke input er gevraagd wordt. Om de computer enkel ouput te laten zien wordt de print functie gebruikt."
   ]
  },
  {
   "cell_type": "code",
   "execution_count": null,
   "metadata": {},
   "outputs": [],
   "source": [
    "print(\"Hello world\")"
   ]
  },
  {
   "attachments": {},
   "cell_type": "markdown",
   "metadata": {},
   "source": [
    "De computer print nu hello world als dit programma wordt gedraaid. \"Hello world\" worden vaak gebruikt als eerste kennis making met code. Voor python is deze ene zin genoeg. Er is een hele wikipage met 'hello world' programma's in allerlei verschillende programmeer talen. https://en.wikipedia.org/wiki/%22Hello,_World!%22_program"
   ]
  },
  {
   "attachments": {},
   "cell_type": "markdown",
   "metadata": {},
   "source": [
    "## Variabelen"
   ]
  },
  {
   "attachments": {},
   "cell_type": "markdown",
   "metadata": {},
   "source": [
    "De computer wordt nu verteld om om input te vragen, maar is nog niet verteld wat er met deze input moet gebeuren. Data kan bewaard worden in een variabele. Zie een variabele als een doos met daarop een naam, een adres en een type. In de doos wordt de data bewaard.\n",
    "* De naam bepalen we zelf als programmeur. Advies is om herkanbare namen te gebruiken voor variabelen. Dit maakt code leesbaarder. Werken met namen is voor ons als mensen makkelijker dan werken met geheugen adressen.\n",
    "* Het adres wordt door de computer bepaald. Zo weet de computer waar in het geheugen de data staat.\n",
    "* Het type verteld de computer wat voor soort data het is. Er zijn verschillende soorten datatypes. "
   ]
  },
  {
   "cell_type": "code",
   "execution_count": null,
   "metadata": {},
   "outputs": [],
   "source": [
    "getalA = input(\"Geef getal a\")\n",
    "getalB = input(\"Geef getal b\")"
   ]
  },
  {
   "attachments": {},
   "cell_type": "markdown",
   "metadata": {},
   "source": [
    "De computer zal nu de data opslaan in de variabelen getalA en getalB"
   ]
  },
  {
   "attachments": {},
   "cell_type": "markdown",
   "metadata": {},
   "source": [
    "Variabelen mogen geen spaties bevatten en moeten beginnen met een kleine letter. Er zijn twee verschillende manieren in omgang om variabelen op te schrijven. snake_case gebruikt de underscore als vervanging van de spatie. camelCase gebruikt hoofdletters voor elke nieuw woord. Welke van de twee gebruikt wordt maakt niet uit, maar wees consequent ter bevoordering van de leesbaarheid van je code."
   ]
  },
  {
   "attachments": {},
   "cell_type": "markdown",
   "metadata": {},
   "source": [
    "### Datatypes\n",
    "Er zijn verschillende soorten datatypes:\n",
    "- **int** Een geheel getal van 32 of 64 bits groot.\n",
    "- **float** Een komma getal\n",
    "- **Bool** Is afgeleid van boolean en heeft enkel de waarde True of False\n",
    "- **String** Een reeks van characters, zoals woorden en zinnen. Deze wordt aangegeven met de dubbele haakjes\n",
    "- **Array** Een lijst van objecten.\n",
    "\n",
    "Er zijn ook andere datatypes, maar voor nu is dit alles wat we gaan gebruiken. Zodra een variabelen wordt gemaakt probeert Python in te schatten welke datatype er wordt bedoelt. Dit gaat niet altijd goed. In andere talen, zoals java, moet de programmeer aangeven welke datatype de variabele heeft. \n"
   ]
  },
  {
   "cell_type": "code",
   "execution_count": null,
   "metadata": {},
   "outputs": [],
   "source": [
    "getalA = input(\"Geef getal a\")"
   ]
  },
  {
   "attachments": {},
   "cell_type": "markdown",
   "metadata": {},
   "source": [
    "Om ervoor te zorgen dat de input echt een getal is en geen woord kan de functie int() gebruikt worden. "
   ]
  },
  {
   "cell_type": "code",
   "execution_count": null,
   "metadata": {},
   "outputs": [],
   "source": [
    "getalA = int(input(\"Geef getal a\"))"
   ]
  },
  {
   "attachments": {},
   "cell_type": "markdown",
   "metadata": {},
   "source": [
    "De input dat gegeven wordt, wordt nu omgezet naar een int. "
   ]
  },
  {
   "attachments": {},
   "cell_type": "markdown",
   "metadata": {
    "slideshow": {
     "slide_type": "subslide"
    }
   },
   "source": [
    "### Python operatoren\n",
    "\n",
    "Python kent verschillende operatoren om mee te rekenen en om variabelen te vergelijken.\n",
    "\n",
    "| Betekenis                         |                                 |\n",
    "|-----------------------------------|---------------------------------|\n",
    "| groepering                        | `(` `)`                         |\n",
    "| machtsverheffing                  | `**`                            |\n",
    "| vermenigvuldiging, modulo, deling | `*` `%` `/` `//`                |\n",
    "| optelling, aftrekking             | `+` `-`                         |\n",
    "| vergelijking                      | `==` `!=`, `<`, `>`, `<=`, `>=` |\n",
    "| toekenning                        | `=`                             |\n"
   ]
  },
  {
   "attachments": {},
   "cell_type": "markdown",
   "metadata": {},
   "source": [
    "**Opdracht 1.**\n",
    "\n",
    "Gegeven een stukje code, welke ouput verwacht je?\n",
    "\n",
    "a. "
   ]
  },
  {
   "cell_type": "code",
   "execution_count": null,
   "metadata": {},
   "outputs": [],
   "source": [
    "a = 5\n",
    "b = 2\n",
    "print(a * b)\n"
   ]
  },
  {
   "attachments": {},
   "cell_type": "markdown",
   "metadata": {},
   "source": [
    "b. "
   ]
  },
  {
   "cell_type": "code",
   "execution_count": null,
   "metadata": {},
   "outputs": [],
   "source": [
    "a = \"5\"\n",
    "b = 2\n",
    "print(a * b)"
   ]
  },
  {
   "attachments": {},
   "cell_type": "markdown",
   "metadata": {},
   "source": [
    "c. "
   ]
  },
  {
   "cell_type": "code",
   "execution_count": null,
   "metadata": {},
   "outputs": [],
   "source": [
    "a = 5\n",
    "b = 2\n",
    "print(a < b)"
   ]
  },
  {
   "attachments": {},
   "cell_type": "markdown",
   "metadata": {},
   "source": [
    "d."
   ]
  },
  {
   "cell_type": "code",
   "execution_count": null,
   "metadata": {},
   "outputs": [],
   "source": [
    "a = \"5\"\n",
    "b = \"2\"\n",
    "print(a + b)"
   ]
  },
  {
   "attachments": {},
   "cell_type": "markdown",
   "metadata": {},
   "source": [
    "e. % staat voor modulo rekenen"
   ]
  },
  {
   "cell_type": "code",
   "execution_count": null,
   "metadata": {},
   "outputs": [],
   "source": [
    "a = 5\n",
    "b = 2\n",
    "print(a % b)"
   ]
  },
  {
   "attachments": {},
   "cell_type": "markdown",
   "metadata": {},
   "source": [
    "f. "
   ]
  },
  {
   "cell_type": "code",
   "execution_count": null,
   "metadata": {},
   "outputs": [],
   "source": [
    "a = 5\n",
    "b = a\n",
    "a = 2\n",
    "print(a)\n",
    "print(b)"
   ]
  },
  {
   "attachments": {},
   "cell_type": "markdown",
   "metadata": {},
   "source": [
    "g. Er zijn twee manieren gegeven voor een deling, namelijk / en //. Zoek uit wat het verschil is om te bepalen wat de ouput is van onderstaand programma. \n"
   ]
  },
  {
   "cell_type": "code",
   "execution_count": null,
   "metadata": {},
   "outputs": [],
   "source": [
    "a = 5\n",
    "b = 2\n",
    "print(a / b)\n",
    "print(a // b)\n"
   ]
  },
  {
   "attachments": {},
   "cell_type": "markdown",
   "metadata": {},
   "source": [
    "**Opdracht 2**\n",
    "\n",
    "Waar kan dit programma gebruikt voor worden?"
   ]
  },
  {
   "cell_type": "code",
   "execution_count": null,
   "metadata": {},
   "outputs": [],
   "source": [
    "getal = int(input(\"geef een geheel getal\"))\n",
    "print(getal * getal)"
   ]
  },
  {
   "attachments": {},
   "cell_type": "markdown",
   "metadata": {},
   "source": [
    "## If then else\n"
   ]
  },
  {
   "attachments": {},
   "cell_type": "markdown",
   "metadata": {},
   "source": [
    "Stap 1 van het plan was:  Neem twee getallen a en b. Via de input functie kan er gevraagd worden voor twee getallen en deze worden opgeslagen in variabelen. "
   ]
  },
  {
   "cell_type": "code",
   "execution_count": null,
   "metadata": {},
   "outputs": [],
   "source": [
    "getalA = int(input(\"Geef een geheel getal a: \"))\n",
    "getalB = int(input(\"Geef een geheel getal b: \"))"
   ]
  },
  {
   "attachments": {},
   "cell_type": "markdown",
   "metadata": {},
   "source": [
    "Nu stap 2 nog: de twee getallen met elkaar vergeleken worden om te bepalen welke van de twee getallen de grooste is. "
   ]
  },
  {
   "attachments": {},
   "cell_type": "markdown",
   "metadata": {},
   "source": [
    "**opdracht 3**\n",
    "\n",
    "Wat is het nadeel van onderstaande code?"
   ]
  },
  {
   "cell_type": "code",
   "execution_count": null,
   "metadata": {},
   "outputs": [],
   "source": [
    "getalA = int(input(\"Geef een geheel getal a: \"))\n",
    "getalB = int(input(\"Geef een geheel getal b: \"))\n",
    "print(getalA > getalB)"
   ]
  },
  {
   "attachments": {},
   "cell_type": "markdown",
   "metadata": {},
   "source": [
    "### De if statement\n",
    "\n",
    "Met behulp van een if-statement kan een computer verteld worden of een stuk code wel of niet uitgevoerd hoeft te worden. Als de if statement true is wordt de code binnen de if statement uitgevoerd. ALs de if statement false is slaat de computer de code over"
   ]
  },
  {
   "attachments": {},
   "cell_type": "markdown",
   "metadata": {},
   "source": [
    "if *conditie* :   \n",
    "&emsp;   Do this  \n",
    "&emsp;    Do this  \n",
    "&emsp;    Do this  "
   ]
  },
  {
   "attachments": {},
   "cell_type": "markdown",
   "metadata": {},
   "source": [
    "### syntax\n",
    "Let op de dubbele punt na de conditie, deze is verplicht. Ook heel belangrijk binnen python is het gebruik van tabs. De code dat uitgevoerd moet worden als de if statement true is hebben een tab, een zogenaamde indentation. Dit is gevoelig. Als de code ook maar een spatie uit lood ligt werkt de code niet of geeft het een andere uitkomst dan gewenst. \n",
    "Binnen python hoeven er geen haakjes om de conditie. Ook hier geldt dat je consequent moet zijn. Dus overal haakjes in de if-statement of nergens. \n",
    "\n",
    "Dit alles valt onder syntax. Als er een fout wordt gemaakt in de syntax geeft de compiler een `syntax error`. Vaak geeft het ook een regelnummer waar hij het probleem is tegengekomen. Vaak mist er dan dubbele puntjes. Een andere error wat je tegen kan komen is `indentation error`. Dan is er een probleem met het gebruik indentations, met andere worden, de tabs. "
   ]
  },
  {
   "attachments": {},
   "cell_type": "markdown",
   "metadata": {},
   "source": [
    "**Opdracht 4:**   Wat is de output?\n",
    "\n",
    "a."
   ]
  },
  {
   "cell_type": "code",
   "execution_count": null,
   "metadata": {},
   "outputs": [],
   "source": [
    "a = 5\n",
    "b = 2\n",
    "if (a < b):\n",
    "    print(a)\n",
    "print(b)"
   ]
  },
  {
   "attachments": {},
   "cell_type": "markdown",
   "metadata": {},
   "source": [
    "b. "
   ]
  },
  {
   "cell_type": "code",
   "execution_count": null,
   "metadata": {},
   "outputs": [],
   "source": [
    "a = 5\n",
    "b = 2\n",
    "if (a > b):\n",
    "    print(a)\n",
    "print(b)"
   ]
  },
  {
   "attachments": {},
   "cell_type": "markdown",
   "metadata": {},
   "source": [
    "c. "
   ]
  },
  {
   "cell_type": "code",
   "execution_count": null,
   "metadata": {},
   "outputs": [],
   "source": [
    "a = 5\n",
    "b = 2\n",
    "if (a == b):\n",
    "    print(a)\n",
    "    print(b)"
   ]
  },
  {
   "attachments": {},
   "cell_type": "markdown",
   "metadata": {},
   "source": [
    "d. "
   ]
  },
  {
   "cell_type": "code",
   "execution_count": null,
   "metadata": {},
   "outputs": [],
   "source": [
    "a = 5\n",
    "b = 2\n",
    "if (a == b):\n",
    "    print(a)\n",
    "   print(b)"
   ]
  },
  {
   "attachments": {},
   "cell_type": "markdown",
   "metadata": {},
   "source": [
    "### De if-else statement\n",
    "\n",
    "Soms is het nodig om een computer te laten kiezen tussen twee opties. Als a waar is voer opdracht a uit en anders voer opdracht b uit. "
   ]
  },
  {
   "attachments": {},
   "cell_type": "markdown",
   "metadata": {},
   "source": [
    "if *conditie* :   \n",
    "&emsp;   Do this  \n",
    "&emsp;    Do this  \n",
    "&emsp;    Do this  \n",
    "else :  \n",
    "&emsp;    Do that   \n",
    "&emsp;    Do that    "
   ]
  },
  {
   "attachments": {},
   "cell_type": "markdown",
   "metadata": {},
   "source": [
    "Ook hier is het weer belangrijk om aan de tabs te denken en aan de dubbele punten!"
   ]
  },
  {
   "attachments": {},
   "cell_type": "markdown",
   "metadata": {},
   "source": [
    "**Opdracht 5** Wat is de output?  \n",
    "a. \n"
   ]
  },
  {
   "cell_type": "code",
   "execution_count": null,
   "metadata": {},
   "outputs": [],
   "source": [
    "a = 5\n",
    "b = 2\n",
    "if (a < b):\n",
    "    print(a)\n",
    "else:\n",
    "    print(b)"
   ]
  },
  {
   "attachments": {},
   "cell_type": "markdown",
   "metadata": {},
   "source": [
    "b. "
   ]
  },
  {
   "cell_type": "code",
   "execution_count": null,
   "metadata": {},
   "outputs": [],
   "source": [
    "a = 5\n",
    "b = 2\n",
    "if (a > b):\n",
    "    print(a)\n",
    "else:\n",
    "    print(b)"
   ]
  },
  {
   "attachments": {},
   "cell_type": "markdown",
   "metadata": {},
   "source": [
    "c. "
   ]
  },
  {
   "cell_type": "code",
   "execution_count": null,
   "metadata": {},
   "outputs": [],
   "source": [
    "a = 5\n",
    "b = 2\n",
    "if (a > b):\n",
    "    print(a - b)\n",
    "else:\n",
    "    print(b - a)\n",
    "print(a + b)"
   ]
  },
  {
   "attachments": {},
   "cell_type": "markdown",
   "metadata": {},
   "source": [
    "### De if-then-else boom"
   ]
  },
  {
   "attachments": {},
   "cell_type": "markdown",
   "metadata": {},
   "source": [
    "Het is ook mogelijk om de computer te laten kiezen tussen verschillende opties, Dit kan gedaan worden door een else if te gebruiken, in python aangegen met elif. Als a waar is voer opdracht a uit anders als b waar is voer opdracht b uit anders voer opdracht c uit. "
   ]
  },
  {
   "attachments": {},
   "cell_type": "markdown",
   "metadata": {},
   "source": [
    "if *conditie* :   \n",
    "&emsp;   Do this  \n",
    "&emsp;    Do this  \n",
    "&emsp;    Do this  \n",
    "elif *conditie* :  \n",
    "&emsp;    Do this    \n",
    "&emsp;    Do this    \n",
    "else:  \n",
    "&emsp;    Do this    \n",
    "&emsp;    Do this    "
   ]
  },
  {
   "attachments": {},
   "cell_type": "markdown",
   "metadata": {},
   "source": [
    "Er kan een onbeperkte hoeveelheid else if condities toegevoegd worden en er hoeft niet altijd geëindigd te worden met else. De else statement wordt enkel uitgevoerd als alle bovenstaande statements false zijn. Zodra een true statement wordt gevonden zullen de andere statement binnen de boom niet meer gecontroleerd worden. "
   ]
  },
  {
   "attachments": {},
   "cell_type": "markdown",
   "metadata": {
    "slideshow": {
     "slide_type": "subslide"
    }
   },
   "source": [
    "```python\n",
    "if cijfer > 7.5:\n",
    "    print(\"Goed\")\n",
    "elif cijfer > 5.5:\n",
    "    print(\"Voldoende\")\n",
    "else:\n",
    "    print(\"Onvoldoende\")\n",
    "```"
   ]
  },
  {
   "attachments": {},
   "cell_type": "markdown",
   "metadata": {},
   "source": [
    "Als het behaalde cijfer een 8 is print dit programma 'goed'. Het ligt namelijk hoger dan een 7.5, dus de eerste statement is true en is de statement dat wordt uitgevoerd. De andere statements worden niet meer gecontroleerd. Dus ondanks dat een 8 ook hoger is dan een 5,5 wordt het woord 'voldoende' niet geprint.  \n",
    "\n",
    "Als het behaalde cijfer een 6 is print het programma 'voldoende'. De eerste statement is false, gezien 6 lager is dan een 7,5. De tweede statement is true en dus wordt het woord 'voldoende' geprint. \n",
    "\n",
    "Als het behaalde cijfer een 4 is print het programma onvoldoende gezien de eerste twee statements false zijn wordt automatisch de else statement uitgevoerd. "
   ]
  },
  {
   "attachments": {},
   "cell_type": "markdown",
   "metadata": {},
   "source": [
    "**Opdracht 6** Wat is de output?  \n",
    "\n",
    "a."
   ]
  },
  {
   "attachments": {},
   "cell_type": "markdown",
   "metadata": {},
   "source": [
    "```python\n",
    "getal = 6.8\n",
    "if getal > 7.5:\n",
    "    print(\"hello\")\n",
    "elif getal > 5.5:\n",
    "    print(\"bonjour\")\n",
    "else:\n",
    "    print(\"hoi\")\n",
    "```"
   ]
  },
  {
   "attachments": {},
   "cell_type": "markdown",
   "metadata": {},
   "source": [
    "b. "
   ]
  },
  {
   "attachments": {},
   "cell_type": "markdown",
   "metadata": {},
   "source": [
    "```python\n",
    "getal = 8.2\n",
    "if getal < 5.5:\n",
    "    print(\"bonjour\")\n",
    "elif getal < 7.6:\n",
    "    print(\"hoi\")\n",
    "else:\n",
    "    print(\"hello\")\n",
    "```"
   ]
  },
  {
   "attachments": {},
   "cell_type": "markdown",
   "metadata": {},
   "source": [
    "c. "
   ]
  },
  {
   "attachments": {},
   "cell_type": "markdown",
   "metadata": {},
   "source": [
    "```python\n",
    "getal = 7.5\n",
    "if getal >= 5.5 and getal < 7.5:\n",
    "    print(\"hoi\")\n",
    "elif getal > 7.5:\n",
    "    print(\"hello\")\n",
    "else:\n",
    "    print(\"bonjour\")\n",
    "\n",
    "```"
   ]
  },
  {
   "attachments": {},
   "cell_type": "markdown",
   "metadata": {},
   "source": [
    "d. "
   ]
  },
  {
   "attachments": {},
   "cell_type": "markdown",
   "metadata": {},
   "source": [
    "```python\n",
    "getal = 6.8\n",
    "if getal < 5.5:\n",
    "    print(\"hoi\")\n",
    "else:\n",
    "    if getal < 7.6:\n",
    "        print(\"hello\")\n",
    "    else:\n",
    "        print(\"bonjour\")\n",
    "\n",
    "```"
   ]
  },
  {
   "attachments": {},
   "cell_type": "markdown",
   "metadata": {},
   "source": [
    "**Opdracht 7** Wat is de output?  \n",
    "\n",
    "a."
   ]
  },
  {
   "attachments": {},
   "cell_type": "markdown",
   "metadata": {},
   "source": [
    "```python\n",
    "x = 42\n",
    "if x > 5 and x < 10:\n",
    "    x = x * 2\n",
    "elif x < 20 :\n",
    "    x = x / 2\n",
    "print(x)\n",
    "```"
   ]
  },
  {
   "attachments": {},
   "cell_type": "markdown",
   "metadata": {},
   "source": [
    "b. "
   ]
  },
  {
   "attachments": {},
   "cell_type": "markdown",
   "metadata": {},
   "source": [
    "```python\n",
    "x = 2\n",
    "if x < 5:\n",
    "    x = x * 2\n",
    "elif x < 10\n",
    "    x = x / 2\n",
    "print(x)\n",
    "```"
   ]
  },
  {
   "attachments": {},
   "cell_type": "markdown",
   "metadata": {},
   "source": [
    "c. "
   ]
  },
  {
   "attachments": {},
   "cell_type": "markdown",
   "metadata": {},
   "source": [
    "```python\n",
    "x = 6\n",
    "if x < 10:\n",
    "    x = x * 2\n",
    "if x < 20\n",
    "    x = x / 2\n",
    "print(x)\n",
    "```"
   ]
  },
  {
   "attachments": {},
   "cell_type": "markdown",
   "metadata": {},
   "source": [
    "d. "
   ]
  },
  {
   "attachments": {},
   "cell_type": "markdown",
   "metadata": {},
   "source": [
    "```python\n",
    "x = 42\n",
    "if x > 5 and x < 10:\n",
    "    x = x * 2\n",
    "elif x < 5 or x > 10:\n",
    "    x = x / 2\n",
    "else\n",
    "    x = x + 2\n",
    "print(x)\n",
    "```"
   ]
  },
  {
   "attachments": {},
   "cell_type": "markdown",
   "metadata": {},
   "source": [
    "e."
   ]
  },
  {
   "attachments": {},
   "cell_type": "markdown",
   "metadata": {},
   "source": [
    "```python\n",
    "x = 10\n",
    "if x > 5 and x < 10:\n",
    "    x = x * 2\n",
    "elif x < 5 or x > 10:\n",
    "    x = x / 2\n",
    "else\n",
    "    x = x + 2\n",
    "print(x)\n",
    "```"
   ]
  },
  {
   "attachments": {},
   "cell_type": "markdown",
   "metadata": {},
   "source": [
    "## Maximum probleem"
   ]
  },
  {
   "attachments": {},
   "cell_type": "markdown",
   "metadata": {},
   "source": [
    "Met behulp van een if-else statement kan het programma afgerond worden. Het plan was:\n",
    "\n",
    "1. Neem twee getallen a en b\n",
    "2. als a > b dan is a de grooste anders is b het grootste getal. "
   ]
  },
  {
   "attachments": {},
   "cell_type": "markdown",
   "metadata": {},
   "source": [
    "Met behulp van inputs en variabelen was stap 1 opgelost. "
   ]
  },
  {
   "cell_type": "code",
   "execution_count": null,
   "metadata": {},
   "outputs": [],
   "source": [
    "getalA = int(input(\"Geef een geheel getal a: \"))\n",
    "getalB = int(input(\"Geef een geheel getal b: \"))"
   ]
  },
  {
   "attachments": {},
   "cell_type": "markdown",
   "metadata": {},
   "source": [
    "Met behulp van if-else statements kunnen we stap twee oplossen door de twee getallen met elkaar te vergelijken en het grooste getal te printen. "
   ]
  },
  {
   "cell_type": "code",
   "execution_count": null,
   "metadata": {},
   "outputs": [],
   "source": [
    "getalA = int(input(\"Geef een geheel getal a: \"))\n",
    "getalB = int(input(\"Geef een geheel getal b: \"))\n",
    "\n",
    "if getalA > getalB:\n",
    "    print(getalA)\n",
    "else:\n",
    "    print(getalB)"
   ]
  },
  {
   "attachments": {},
   "cell_type": "markdown",
   "metadata": {},
   "source": [
    "**Opdracht 8**  \n",
    "rock-paper-scissors. \n",
    "\n",
    "Rock-paper-scissors is een bekend spel dat gespeeld wordt door twee spelers. Beide spelers kunnen kiezen tussen een steen, papier of een schaar. Steen wint van de schaar, schaar wint van papier en papier wint van de steen. Als beide spelers dezelfde kiezen is het gelijkspel. \n",
    "\n",
    "a. Een student heeft een poging gedaan om een stukje programma te schrijven dat een winaar kan aanwijzen. Het werkt alleen nog niet zo goed. Welke fouten zijn er gemaakt?\n"
   ]
  },
  {
   "cell_type": "code",
   "execution_count": null,
   "metadata": {},
   "outputs": [],
   "source": [
    "speler1 = (input(\"rock, paper of scissor \"))\n",
    "speler2 = (input(\"rock, paper of scissor \"))\n",
    "\n",
    "if speler1 == \"rock\" and speler2 ==\"rock\" :\n",
    "    print(\"Tie\")\n",
    "    if speler1 == \"scissor\" and speler2 ==\"scissor\" :\n",
    "        print(\"Tie\")\n",
    "        if speler1 == \"paper\" and speler2 ==\"paper\" :\n",
    "            print(\"tie\")\n",
    "\n",
    "if speler1 == \"rock\":\n",
    "    if speler2 ==\"scissor\":\n",
    "        print(\"speler 1 wins\")\n",
    "        if speler2 == \"paper\":\n",
    "            print(\"speler 2 wins\")\n",
    "\n",
    "\n",
    "if  speler1 == \"scissors\":\n",
    "    if speler2 ==\"paper\":\n",
    "        print(\"speler 1 wins\")\n",
    "    else:\n",
    "        print(\"speler 2 wins\")"
   ]
  },
  {
   "attachments": {},
   "cell_type": "markdown",
   "metadata": {},
   "source": [
    "b. Herschrijf de code tot een werkende versie.  \n",
    "c. (uitdaging). Herschrijf de code met zo min mogelijk regels code. Het probleem kan opgelost worden in 8 regels. Dit is mogelijk daar handig gebruik te maken van and en or a.k.a. boolean logica.  "
   ]
  }
 ],
 "metadata": {
  "kernelspec": {
   "display_name": "Python 3 (ipykernel)",
   "language": "python",
   "name": "python3"
  },
  "language_info": {
   "codemirror_mode": {
    "name": "ipython",
    "version": 3
   },
   "file_extension": ".py",
   "mimetype": "text/x-python",
   "name": "python",
   "nbconvert_exporter": "python",
   "pygments_lexer": "ipython3",
   "version": "3.10.6"
  }
 },
 "nbformat": 4,
 "nbformat_minor": 4
}
