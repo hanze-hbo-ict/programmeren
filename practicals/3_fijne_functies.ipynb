{
 "cells": [
  {
   "cell_type": "markdown",
   "id": "9e701544-115e-47c7-9419-5bb59cb44501",
   "metadata": {
    "editable": true,
    "slideshow": {
     "slide_type": ""
    },
    "tags": []
   },
   "source": [
    "# Fijne functies\n",
    "\n",
    "In deze opgave ga je oefenen met het schrijven van functies (de fundamentele bouwstenen van software) en het toepassen van onder andere string- en lijstbewerkingen.\n",
    "\n",
    "## Ingebouwde functies\n",
    "\n",
    "Je gaat eerst een aantal van de vele *ingebouwde* Python functies proberen.\n",
    "\n",
    "### `range`\n",
    "\n",
    "`range` geeft een *iterator* met integers terug. Het maakt niet uit als je niet precies weet wat een iterator is, het belangrijkst is dat je ziet dat `list` de iterator omzet naar een *lijst* met integers:\n",
    "\n",
    "```ipython\n",
    "In [1]: list(range(0, 100))\n",
    "Out[1]: [0, 1, 2, ..., 99]\n",
    "```\n",
    "\n",
    ":::{admonition} Tot het eind!\n",
    ":class: info\n",
    "\n",
    "Let op dat `range`, zoals bij vrijwel alles in Python, *tot* het eindpunt telt (en niet tot *en met*)!\n",
    ":::\n",
    "\n",
    "### `sum`\n",
    "\n",
    "`sum` telt een lijst van getallen op, en `range` maakt een lijst met integers (of eigenlijk een iterator met integers, maar daar kan `sum` ook mee overweg):\n",
    "\n",
    "```ipython\n",
    "In [2]: sum(range(3, 11))\n",
    "Out[2]: 52\n",
    "```\n",
    "\n",
    "Een omslachtige manier om `40 + 2` uit te rekenen:\n",
    "\n",
    "```ipython\n",
    "In [3]: sum([40, 2])\n",
    "Out[3]: 42\n",
    "```\n",
    "\n",
    "## Een nieuw bestand\n",
    "\n",
    "Functies zijn de fundamentele bouwstenen van programmeren. Wat Python onderscheidt van andere programmeertalen is het gemak waarmee je eigen functies kan maken!\n",
    "\n",
    "Kopieer het volgende commentaar en de definitie van een functie met de naam `dbl` naar jouw bestand:\n",
    "\n",
    "```python\n",
    "def dbl(x):\n",
    "    \"\"\"Returns twice the argument\n",
    "\n",
    "    Spam is great, and dbl(\"spam\") is better!\n",
    "\n",
    "    :param x: The value to double\n",
    "    :type x: int, float or string\n",
    "    :rtype: int, float or string\n",
    "    \"\"\"\n",
    "    return 2 * x\n",
    "```\n",
    "## Signature en docstring\n",
    "\n",
    "De eerste regel van een functie wordt de *signature* genoemd. De signature van een functie bevat het keyword `def` (een afkorting van \"define\"), de naam van de functie, en een lijst met argumenten voor de functie tussen haakjes. Let op de *dubbele punt* waar de signature mee wordt afgesloten.\n",
    "\n",
    "Direct onder de signature staat een string tussen drie dubbele aanhalingstekens `\"\"\"`, dit heet een *docstring* (een afkorting van \"documentation string\"). We verwachten dat je in al je functies een docstring schrijft, zelfs in eenvoudige functies zoals `dbl` zodat dit een gewoonte voor jou wordt.\n",
    "\n",
    "Een docstring moet de argumenten van de functie en het resultaat (de returnwaarde) beschrijven. Zoals je hierboven ziet kan je ook andere belangrijke informatie toevoegen.\n",
    "\n",
    ":::{admonition} Inspringen (indentatie)\n",
    ":class: warning\n",
    "\n",
    "De eerste driedubbele aanhalingstekens *moeten* ingesprongen worden direct onder de signatuur. De afsluitende driedubbele aanhalingstekens van de docstring springen op hetzelfde niveau en en alle volgende code binnen de functie (de functie \"body\").\n",
    ":::\n",
    "\n",
    "## Voorbeeldopgave\n",
    "\n",
    "Laten we beginnen met functies schrijven! Vergeet niet voor elk van deze functies een docstring toe te voegen die beschrijft wat je functie *doet* en wat de *argumenten* zijn. Zie het voorbeeld `tpl` hieronder voor hoe je dit kan doen, deze lijkt heel erg op `dbl` die je al eerder hebt gezien:\n",
    "\n",
    "Schrijf de functie `tpl(x)` die een getal als argument accepteert en drie keer de waarde van dat argument teruggeeft.\n",
    "\n",
    "### Uitwerking\n",
    "\n",
    "Kopieer de volgende oplossing (nadat je een paar regels nieuwe regels hebt toegevoegd om de leesbaarheid te verbeteren) naar jouw bestand:\n",
    "\n",
    "```python\n",
    "def tpl(x):\n",
    "    \"\"\"Returns thrice the argument\n",
    "\n",
    "    :param x: The value to triple\n",
    "    :type x: int, float or string\n",
    "    :rtype: int, float or string\n",
    "    \"\"\"\n",
    "    return 3 * x\n",
    "```\n",
    "\n",
    "## Opgaven\n",
    "\n",
    "Als in de opgaven wordt gesproken over een *getal*, neem dan aan dat dit een integer of een float mag zijn, in alle andere gevallen zal duidelijk worden worden gezegd welk type moet worden gebruikt.\n",
    "\n",
    "### `sq(x)`\n",
    "\n",
    "Schrijf de functie `sq(x)` die een getal `x` als argument accepteert en het *kwadraat* van het argument als resultaat teruggeeft. (Het kwadraat van `x` is `x` keer zichzelf...)"
   ]
  },
  {
   "cell_type": "code",
   "execution_count": null,
   "id": "1d964f53-b876-4ca2-964c-873116aa3fdf",
   "metadata": {
    "editable": true,
    "slideshow": {
     "slide_type": ""
    },
    "tags": [
     "skip-execution"
    ]
   },
   "outputs": [],
   "source": [
    "# jouw oplossing"
   ]
  },
  {
   "cell_type": "markdown",
   "id": "11b63d5d-7f02-42d0-9f47-d438bf9f6c3a",
   "metadata": {
    "editable": true,
    "slideshow": {
     "slide_type": ""
    },
    "tags": []
   },
   "source": [
    "### `interp(low, hi, fraction)`\n",
    "\n",
    "Schrijf de functie `interp(low, hi, fraction)` die de getallen `low`, `hi` en `fraction` als argumenten accepteert en een floating point getal teruggeeft.\n",
    "\n",
    "`fraction` staat voor een *fractie*, een deel van een geheel dat van een laagste waarde `low` naar een hoogste waarde `hi` loopt. Bijvoorbeeld, in het geval van een taart zou dit van waarde 0 (geen taart) naar 2 (twee, hmmm!) kunnen lopen, waar fractie 0.75 gelijk staat aan 1.5 (anderhalve taart, ook fijn).\n",
    "\n",
    "Hieruit volgt dat als `fraction` 0 is, `low` moet worden teruggegeven. Als `fraction` 1 is, zal `hi` moeten worden teruggegeven. Waarden voor `fraction` tussen `0` en `1` geven resultaten tussen `low` en `hi`.\n",
    "\n",
    "Sterker nog, `fraction` kan een waarde onder 0 krijgen en het resultaat zal dan kleiner zijn dan `low`. Ook kan `fraction` een waarde boven `1` krijgen, en het resultaat zal dan groter zijn dan `hi` (puristen zouden dit waarschijnlijk `extrap`olatie in plaats van `interp`olatie, noemen).\n",
    "\n",
    "Nu het probleem bekend is zal je misschien geneigd zijn de functie op te delen in een aantal condities en `if`, `elif` en dergelijke proberen te gebruiken. Je kan deze functie echter schrijven *zonder* conditionele statements (`if`, `elif`, `else`)! Probeer de functie te schrijven *zonder* `if` te gebruiken!\n",
    "\n",
    "Hier zijn een paar voorbeelden om te verduidelijken hoe `interp` zal moeten werken:\n",
    "\n",
    "```ipython\n",
    "In [1]: interp(1.0, 9.0, 0.25)  # Een kwart (.25) op weg van 1.0 naar 9.0\n",
    "Out[1]: 3.0\n",
    "\n",
    "In [2]: interp(1.0, 3.0, 0.25)  # Een kwart op weg van 1.0 naar 3.0\n",
    "Out[2]: 1.5\n",
    "\n",
    "In [3]: interp(2, 12, 0.22)     # 22% op weg van 2 naar 12\n",
    "Out[3]: 4.2\n",
    "```\n",
    "\n",
    ":::{admonition} Tip\n",
    ":class: tip\n",
    "\n",
    "\n",
    "Als je niet zeker weet hoe je moet beginnen, kan je naar het eerste voorbeeld hierboven kijken. Hierbij geldt dat\n",
    "\n",
    "```text\n",
    "low is 1.0\n",
    "hi is 9.0\n",
    "fraction is 0.25\n",
    "```\n",
    "\n",
    "Kijk of je kan bepalen hoe je deze drie waarden moet combineren om tot de correcte returnwaarde 3.0 te komen. Je zou kunnen beginnen met `(hi - low)` ...\n",
    ":::\n",
    "\n",
    "Hier zijn nog twee andere voorbeelden die je kan proberen:\n",
    "\n",
    "```ipython\n",
    "In [1]: interp(24, 42, 0)       # 0% op weg van 24 naar 42\n",
    "Out[1]: 24.0\n",
    "\n",
    "In [2]: interp(102, 117, -4.0)  # -400% op weg van 102 naar 117 (vreemd!)\n",
    "Out[2]: 42.0\n",
    "```"
   ]
  },
  {
   "cell_type": "code",
   "execution_count": null,
   "id": "f887e62e-7c86-4e16-8fbf-e812c1c45be9",
   "metadata": {
    "editable": true,
    "slideshow": {
     "slide_type": ""
    },
    "tags": [
     "skip-execution"
    ]
   },
   "outputs": [],
   "source": [
    "# jouw oplossing"
   ]
  },
  {
   "cell_type": "markdown",
   "id": "5f7cc02a-814a-4c7e-9f60-37faf8ba8c10",
   "metadata": {
    "editable": true,
    "slideshow": {
     "slide_type": ""
    },
    "tags": []
   },
   "source": [
    "In de volgende functies ga je strings gebruiken, reeksen van karakters. Schrijf ze allemaal in jouw bestand. Test elke functie die je hebt geschreven *voordat* je doorgaat naar de volgende. Zorg er ook voor dat je voor elke functie een docstring toevoegt die (heel kort) vertelt wat deze doet.\n",
    "\n",
    "### `checkends(s)`\n",
    "\n",
    "Schrijf een functie `checkends(s)` die als parameter een string `s` accepteert en `True` teruggeeft als het eerste karakter van `s` gelijk is aan het laatste karakter van `s`. Anders zal het `False` teruggeven. De functie `checkends` hoeft niet te werken met een lege string `s` (een string met waarde `\"\"`).\n",
    "\n",
    ":::{admonition} boolean waarden\n",
    ":class: warning\n",
    "\n",
    "De functie moet *geen* strings teruggeven! In plaats daarvan moet het een *boolean* teruggeven, dus `True` of `False`, zonder aanhalingstekens.\n",
    "\n",
    "In de editor zul je zien dat booleans een andere kleur krijgen (in het standaardkleurenschema van VSCode worden ze blauw) om aan te geven dat Python ze herkent als waarden van het type `bool`. Als je er per ongeluk strings van hebt gemaakt (`\"True\"` in plaats van `True`) dan worden ze oranje in VSCode.\n",
    "\n",
    "Voor alle duidelijkheid, booleans en strings zijn twee heel     verschillende dingen! Voor `True` en `False` heb je vrijwel altijd de booleans, dus zonder aanhalingstekens, nodig.\n",
    ":::\n",
    "\n",
    "We geven straks een aantal tips, maar bekijk eerst de volgende voorbeelden. Deze voorbeelden leggen uit hoe `checkends` werkt en vergeet niet ze te proberen als je een eerste versie van de functie geschreven hebt. Merk op dat het laatste, vierde voorbeeld hieronder de\n",
    "string met *een enkele spatie* is, dat is niet hetzelfde als de lege string, die bevat geen karakters:\n",
    "\n",
    "```ipython\n",
    "In [1]: checkends('niet gelijk')\n",
    "Out[1]: False\n",
    "\n",
    "In [2]: checkends('kijk! wel gelijk')\n",
    "Out[2]: True\n",
    "\n",
    "In [3]: checkends('q')\n",
    "Out[3]: True\n",
    "\n",
    "In [4]: checkends(' ')\n",
    "Out[4]: True\n",
    "```\n",
    "\n",
    "Zorg dat het laatste voorbeeld (de string met een enkele spatie) ook werkt in jouw functie. Zoals eerder gezegd, een lege string hoeft *niet* te werken.\n",
    "\n",
    ":::{admonition} Vergelijken\n",
    ":class: tip\n",
    "\n",
    "Je kan in deze functie gebruikmaken van een `if`-`else`-constructie, hier is een begin:\n",
    "\n",
    "```python\n",
    "if s[0] == ...:\n",
    "    return True\n",
    "else:\n",
    "    return False\n",
    "```\n",
    "\n",
    "Misschien kan je een oplossing vinden die helemaal geen `if` en `else` gebruikt, dit is ook goed!\n",
    "\n",
    "De vergelijking `x == 42` is een expressie waar `True` of `False` uitkomt.\n",
    ":::"
   ]
  },
  {
   "cell_type": "code",
   "execution_count": null,
   "id": "79f66379-6a75-4ea5-8b55-98e6eb782861",
   "metadata": {
    "editable": true,
    "slideshow": {
     "slide_type": ""
    },
    "tags": [
     "skip-execution"
    ]
   },
   "outputs": [],
   "source": [
    "# jouw oplossing"
   ]
  },
  {
   "cell_type": "markdown",
   "id": "166c20d6-3631-458b-974b-b7198add19f2",
   "metadata": {
    "editable": true,
    "slideshow": {
     "slide_type": ""
    },
    "tags": []
   },
   "source": [
    "### `flipside(s)`\n",
    "\n",
    "Schrijf een functie `flipside(s)` die als argument een string `s` accepteert en een string teruggeeft waarvan de eerste helft de\n",
    "tweede helft van `s` is en de tweede helft de eerste helft van `s`. De functie zal argument `s` dus *gespiegeld* teruggeven.\n",
    "\n",
    "Als `len(s)` (de lengte van `s`) oneven is, dan geldt dat *eerste helft* van `s` één karakter korter is dan de tweede helft. De tweede helft van de string die teruggegeven wordt zal in dit geval één karakter korter zijn dan de eerste helft. Na de onderstaande voorbeelden kan je ook een tip vinden.\n",
    "\n",
    ":::{admonition} Lengte bepalen\n",
    ":class: info\n",
    "\n",
    "Het kan hier handig zijn de ingebouwde functie `len(s)` te gebruiken, die de lengte van het argument, een string `s`, teruggeeft. De functie `len` kan je ook gebruiken voor andere typen, bijvoorbeeld lijsten (lists).\n",
    ":::\n",
    "\n",
    "Voorbeelden:\n",
    "\n",
    "```ipython\n",
    "In [1]: flipside('huiswerk')\n",
    "Out[1]: werkhuis\n",
    "\n",
    "In [2]: flipside('zijkant')\n",
    "Out[2]: kantzij\n",
    "```\n",
    "\n",
    ":::{admonition} Integerdeling\n",
    ":class: tip\n",
    "\n",
    "Deze functie is eenvoudiger als je op de eerste regel een variabele maakt die gelijk is aan `len(s) // 2`, bijvoorbeeld,\n",
    "\n",
    "```python\n",
    "def flipside(s):\n",
    "    \"\"\"Put your docstring here\n",
    "    \"\"\"\n",
    "    x = len(s) // 2\n",
    "\n",
    "    return ...\n",
    "```\n",
    "\n",
    "`//` staat voor een *integer deling*, zie hoe dit anders is dan een gewone `/` deling:\n",
    "\n",
    "```ipython\n",
    "In [1]: 3 / 2\n",
    "Out[1]: 1.5\n",
    "\n",
    "In [2]: 3 // 2\n",
    "Out[2]: 1\n",
    "```\n",
    "\n",
    "De oplossing en het return statement moet je natuurlijk verder aanvullen. Je zal de variabele `x` *twee keer* gaan gebruiken, daarom is het handig is om deze waarde een naam te geven, in plaats van het twee keer `len(s) // 2` te typen.\n",
    "\n",
    "Terzijde, de naam `x` is hier slecht gekozen, `l` (voor \"lengte\") zou beter zijn geweest. We hebben echter `l` niet gebruikt omdat het te veel lijkt op het nummer `1`. Welke naam zou beter kunnen zijn dan `x`? Bedenk dat Python namen met meerdere letters ondersteunt, en dat de naam `len` al in gebruik is!\n",
    ":::"
   ]
  },
  {
   "cell_type": "code",
   "execution_count": null,
   "id": "4ab4de12-6e5c-48cd-b8ae-da2960a0edb8",
   "metadata": {
    "editable": true,
    "slideshow": {
     "slide_type": ""
    },
    "tags": [
     "skip-execution"
    ]
   },
   "outputs": [],
   "source": [
    "# jouw oplossing"
   ]
  },
  {
   "cell_type": "markdown",
   "id": "16cf4b02-bfe4-44e7-969a-c141c933165b",
   "metadata": {
    "editable": true,
    "slideshow": {
     "slide_type": ""
    },
    "tags": []
   },
   "source": [
    "### `convert_from_seconds(s)`\n",
    "\n",
    "Schrijf een functie `convert_from_seconds(s)` die als argument een (niet-negatieve) integer `s` accepteert en een lijst met *vier* (niet negatieve) integers teruggeeft die het aantal seconden in een meer gebruikelijke vorm beschrijft, zodat:\n",
    "\n",
    "- het eerste element het *aantal dagen* bevat\n",
    "- het tweede element het *aantal uren* bevat\n",
    "- het derde element het *aantal minuten* bevat\n",
    "- het laatste element het *aantal seconden* bevat\n",
    "\n",
    "Je zult op het volgende moeten letten:\n",
    "\n",
    "- 0 ≤ seconden < 60\n",
    "- 0 ≤ minuten < 60\n",
    "- 0 ≤ uren < 24\n",
    "\n",
    "Er is geen limiet op het aantal dagen. Een paar voorbeelden:\n",
    "\n",
    "```ipython\n",
    "In [1]: convert_from_seconds(610)\n",
    "Out[1]: [0, 0, 10, 10]\n",
    "\n",
    "In [2]: convert_from_seconds(100000)\n",
    "Out[2]: [1, 3, 46, 40]\n",
    "```\n",
    "\n",
    "Hoe te beginnen? Je kan de volgende code (die *vier* variabelen telt) als begin gebruiken:\n",
    "\n",
    "```python\n",
    "def convert_from_seconds(s):\n",
    "    \"\"\"Put your docstring here\n",
    "    \"\"\"\n",
    "    days = s // (24 * 60 * 60)  # Het aantal dagen\n",
    "    s = s % (24 * 60 * 60)  # Het restant\n",
    "    hours = ...\n",
    "    minutes = ...\n",
    "    seconds = ...\n",
    "    return [days, hours, minutes, seconds]\n",
    "```\n",
    "\n",
    "De gedachte hier is dat wanneer je de vier variabelen (`days`, `hours`, `minutes` en `seconds`) klaarzet ze in één keer als lijst kunnnen worden teruggegeven, wat in de laatste regel gebeurt:\n",
    "\n",
    "```python\n",
    "return [days, hours, minutes, seconds]\n",
    "```\n",
    "\n",
    "De regel die het aantal dagen berekent is:\n",
    "\n",
    "```python\n",
    "days = s // (24 * 60 * 60)\n",
    "```\n",
    "\n",
    "Het is nu aan jou om te bedenken wat de regels voor `hours`, `minutes` en `seconds` moeten zijn!\n",
    "\n",
    "Je ziet in de bovenstaande code dat `s` op een gegeven moment een andere waarde aanneemt (het resultaat van een modulo `%` berekening). Het is mogelijk dit probleem op te lossen zonder de variabele `s` te veranderen, maar het al gaande wijzigen van `s` is een elegante en handige oplossingsstrategie om stap voor stap tot de waarde van de vier variabelen te komen. Probeer deze strategie in de bovenstaande code verder toe te passen."
   ]
  },
  {
   "cell_type": "code",
   "execution_count": null,
   "id": "e3ac31e0-074e-47e2-9823-5f7e8ec2ac74",
   "metadata": {
    "editable": true,
    "slideshow": {
     "slide_type": ""
    },
    "tags": [
     "skip-execution"
    ]
   },
   "outputs": [],
   "source": [
    "# jouw oplossing"
   ]
  }
 ],
 "metadata": {
  "kernelspec": {
   "display_name": "Python 3 (ipykernel)",
   "language": "python",
   "name": "python3"
  },
  "language_info": {
   "codemirror_mode": {
    "name": "ipython",
    "version": 3
   },
   "file_extension": ".py",
   "mimetype": "text/x-python",
   "name": "python",
   "nbconvert_exporter": "python",
   "pygments_lexer": "ipython3",
   "version": "3.12.3"
  }
 },
 "nbformat": 4,
 "nbformat_minor": 5
}
