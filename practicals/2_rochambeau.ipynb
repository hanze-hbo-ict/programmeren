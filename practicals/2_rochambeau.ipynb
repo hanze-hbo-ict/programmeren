{
 "cells": [
  {
   "cell_type": "markdown",
   "id": "e2759b5e-a4ba-40df-8769-77847e987a06",
   "metadata": {
    "editable": true,
    "slideshow": {
     "slide_type": ""
    },
    "tags": []
   },
   "source": [
    "# Rochambeau\n",
    "\n",
    "Rochambeau, roshambo, Jon Ken Pon of gewoon steen, papier en schaar? Het spel is onder [vele namen](https://www.wrpsa.com/why-do-people-call-rock-paper-scissors-roshambo/) bekend en er bestaat zelfs een heuse organisatie, de [Rock Paper Scissor Association](https://www.wrpsa.com/why-do-people-call-rock-paper-scissors-roshambo/)... In deze opgave ga je een programma schrijven om het spel tegen de computer te spelen!\n",
    "\n",
    "## Steen, papier en schaar\n",
    "\n",
    "In deze opgave ga je het volgende oefenen:\n",
    "\n",
    "- Het schrijven van eigen code door de onderstaande code aan te passen en uit te breiden\n",
    "- Werken met invoer en uitvoer van tekst in Python\n",
    "- Het maken van keuzes (op basis van de invoer van een gebruiker, jij!)\n",
    "\n",
    "## De regels\n",
    "\n",
    "![RPS-3](images/2/RPS-3_NL.png)\n",
    "\n",
    "Bij steen, papier en schaar gaan twee spelers eerst aftellen en vormen daarna tegelijkertijd met de hand een steen (een vuist), een schaar (twee uitgestoken vingers) of papier (een vlakke hand). Hierbij verslaat de steen de schaar, de schaar het papier en het papier de steen. Indien beide spelers dezelfde keuze maken wint geen van beide.\n",
    "\n",
    "## Een begin\n",
    "\n",
    "```python\n",
    "import random  # import the module named random\n",
    "\n",
    "def rps():\n",
    "    \"\"\"Play a game of rock-paper-scissors in Dutch\n",
    "\n",
    "    arguments: no arguments (prompted text doesn't count as an argument)\n",
    "    result: no result       (printing doesn't count as a result)\n",
    "    \"\"\"\n",
    "    user = input(\"Kies een wapen (steen, papier of schaar): \")\n",
    "    comp = random.choice([\"steen\", \"papier\", \"schaar\"])\n",
    "\n",
    "    print(\"De gebruiker (jij) koos\", user)\n",
    "    print(\"De computer (ik) koos\", comp)\n",
    "\n",
    "    if user == \"steen\":\n",
    "        print(\"Haha! Eigenlijk koos ik papier! IK HEB GEWONNEN!\")\n",
    "\n",
    "    print(\"Hopelijk heb je de volgende keer meer geluk...\")\n",
    "```\n",
    "\n",
    "## En verder!\n",
    "\n",
    "Werk de code nu verder uit tot een volledig programma dat:\n",
    "\n",
    "-   Een gebruiker uitnodigt het spel *steen, papier en schaar* te spelen\n",
    "-   De gebruiker uit minstens drie opties laat kiezen\n",
    "    -   dit hoeft niet steen, papier of schaar te zijn, je mag andere wapens kiezen!\n",
    "    -   maar jouw programma moet wel steeds anders reageren op basis van de drie mogelijke opties die de gebruiker kan invoeren (althans, *minimaal* drie opties)\n",
    "-   Het spel eerlijk speelt\n",
    "    - maar je mag het spel ook zo maken dat de speler altijd wint (of verliest)\n",
    "-   De keuze van de speler afdrukt (*print*)\n",
    "    -   je mag aannemen dat de gebruiker de keuze foutloos typt, dus altijd één van de mogelijke opties\n",
    "-   Afdrukt welke keuze het *zelf* heeft gemaakt uit de mogelijke opties (eerlijk of niet)\n",
    "-   Afdrukt wie het spel heeft gewonnen (of een gelijkspel, of een andere uitkomst)\n",
    "\n",
    "### Opgave\n",
    "\n",
    "We hebben de begincode hier alvast gekopiëerd indien je dit notebook wilt gebruiken om de opgave uit te werken (bijvoorbeeld in [Google Colab](https://colab.research.google.com/)). Maak je een fout of wil je opnieuw beginnen dan kan je altijd de bovenstaande code kopiëren en hier weer plakken."
   ]
  },
  {
   "cell_type": "code",
   "execution_count": 1,
   "id": "0d691f31-321f-47ef-aba2-5d62097dba1e",
   "metadata": {
    "editable": true,
    "slideshow": {
     "slide_type": ""
    },
    "tags": [
     "skip-execution"
    ]
   },
   "outputs": [],
   "source": [
    "import random  # import the module named random\n",
    "\n",
    "def rps():\n",
    "    \"\"\"Play a game of rock-paper-scissors in Dutch\n",
    "\n",
    "    arguments: no arguments (prompted text doesn't count as an argument)\n",
    "    result: no result       (printing doesn't count as a result)\n",
    "    \"\"\"\n",
    "    user = input(\"Kies een wapen (steen, papier of schaar): \")\n",
    "    comp = random.choice([\"steen\", \"papier\", \"schaar\"])\n",
    "\n",
    "    print(\"De gebruiker (jij) koos\", user)\n",
    "    print(\"De computer (ik) koos\", comp)\n",
    "\n",
    "    if user == \"steen\":\n",
    "        print(\"Haha! Eigenlijk koos ik papier! IK HEB GEWONNEN!\")\n",
    "\n",
    "    print(\"Hopelijk heb je de volgende keer meer geluk...\")"
   ]
  },
  {
   "cell_type": "markdown",
   "id": "806bc53c-9e62-457d-98b1-56e3e99f5eef",
   "metadata": {
    "editable": true,
    "slideshow": {
     "slide_type": ""
    },
    "tags": []
   },
   "source": [
    ":::{admonition} Extra commentaar\n",
    ":class: tip\n",
    "\n",
    "Het toevoegen van extra commentaar (`# ...`) aan de code is optioneel, maar is aan te raden om aantekeningen in de code te maken voor jezelf (of voor anderen die jouw code gaan lezen!).\n",
    ":::"
   ]
  },
  {
   "cell_type": "markdown",
   "id": "fb792e96-77c4-4a1f-af26-35a06d731e35",
   "metadata": {
    "editable": true,
    "slideshow": {
     "slide_type": ""
    },
    "tags": []
   },
   "source": [
    "## Uitbreidingen\n",
    "\n",
    "Heb je teveel tijd over? Dan vind je hier een aantal mogelijke uitbreidingen!\n",
    "\n",
    "### RPS-5 (RPSSL)\n",
    "\n",
    "![RPS Lizard Spock](images/2/RPS_lizard_spock.png)\n",
    "\n",
    "Sam Kass en Karen Bryla bedachten een uitbreiding van het spel en noemden het steen, papier, schaar, *Spock* en *hagedis* ([RPSSL](http://www.samkass.com/theories/RPSSL.html)). Het werkt volgens hetzelfde principe, maar er komen twee extra wapens bij: een *hagedis* (voorgesteld door met de hand een kousenpopachtige mond te vormen) en *Spock* (voorgesteld door de [Vulcaanse groet](http://nl.wikipedia.org/wiki/Vulcaanse_groet) uit de [Star Trek](https://nl.wikipedia.org/wiki/Star_Trek) reeks te maken). Hierdoor wordt de kans op een gelijkspel kleiner (van 1/3 naar 1/5). In vier afleveringen van de televisiereeks [The Big Bang Theory](https://nl.wikipedia.org/wiki/The_Big_Bang_Theory_%28televisieserie%29) wordt deze uitgebreide variant van het spel vermeld.\n",
    "\n",
    "<iframe width=\"560\" height=\"315\" src=\"https://www.youtube.com/embed/x5Q6-wMx-K8\" frameborder=\"0\" allow=\"accelerometer; autoplay; encrypted-media; gyroscope; picture-in-picture\" allowfullscreen></iframe>\n",
    "\n",
    "De regels van steen, papier, schaar, Spock en hagedis zijn:\n",
    "\n",
    "- schaar snijdt papier\n",
    "\n",
    "- papier bedekt steen\n",
    "\n",
    "- steen plet hagedis\n",
    "\n",
    "- hagedis vergiftigt Spock\n",
    "\n",
    "- Spock smelt schaar\n",
    "\n",
    "- schaar onthoofdt hagedis\n",
    "\n",
    "- hagedis eet papier\n",
    "\n",
    "- papier weerlegt Spock\n",
    "\n",
    "- Spock verdampt steen\n",
    "\n",
    "- steen breekt schaar\n",
    "\n",
    "### RPS-25\n",
    "\n",
    "Heb je nog meer tijd over? Je zou [RPS-25](http://www.umop.com/rps25.htm), een superset van steen, papier en schaar kunnen overwegen...\n",
    "\n",
    "![RPS-25](images/2/RPS-25.png)\n",
    "\n",
    "De complexiteit neemt toe maar het probleem blijft hetzelfde!\n",
    "\n",
    "### RPS-101\n",
    "\n",
    "Maar als je genoeg tijd hebt voor [RPS-101](http://www.umop.com/rps101/rps101chart.html) heb je echt een probleem!\n",
    "\n",
    "## Blijven spelen\n",
    "\n",
    "Als je wilt dat je programma blijft spelen, kan je een lus met `while True:` gebruiken.\n",
    "\n",
    "We laten twee voorbeelden zien in plaats van een gedetaileerde uitleg:\n",
    "\n",
    "```python\n",
    "while True:\n",
    "    print(\"Het draait nog steeds...\")\n",
    "    response = input(\"Nog een keer spelen? \")\n",
    "    if response == \"n\":\n",
    "        break\n",
    "```\n",
    "\n",
    "Hier zie je een andere mogelijkheid, een variant met het gebruik van een variabele `running` die aangeeft of het spel nog actief is of niet:\n",
    "\n",
    "```python\n",
    "running = True\n",
    "while running:\n",
    "    response = input(\"Nog een keer spelen? \")\n",
    "    if response == 'n':\n",
    "        running = False\n",
    "```\n",
    "\n",
    "Nogmaals, dit zijn voorbeelden en het is geen probleem als je niet begrijpt wat we hier staat, we komen later uitgebreid terug op het gebruik van *lussen* (een techniek om handelingen te herhalen)!"
   ]
  }
 ],
 "metadata": {
  "kernelspec": {
   "display_name": "Python 3 (ipykernel)",
   "language": "python",
   "name": "python3"
  },
  "language_info": {
   "codemirror_mode": {
    "name": "ipython",
    "version": 3
   },
   "file_extension": ".py",
   "mimetype": "text/x-python",
   "name": "python",
   "nbconvert_exporter": "python",
   "pygments_lexer": "ipython3",
   "version": "3.12.3"
  }
 },
 "nbformat": 4,
 "nbformat_minor": 5
}
