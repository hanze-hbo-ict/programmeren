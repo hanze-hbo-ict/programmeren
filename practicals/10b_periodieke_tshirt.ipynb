{
 "cells": [
  {
   "cell_type": "markdown",
   "metadata": {},
   "source": [
    "# Periodieke tshirt"
   ]
  },
  {
   "cell_type": "markdown",
   "metadata": {},
   "source": [
    "Je kunt tegenwoordig T-shirts kopen met teksten erop die bestaan uit de symbolen van elementen\n",
    "van het periodiek systeem. \n",
    "\n",
    "![subset](images/10/periodiek_tshirt.png)\n",
    "\n",
    "\n",
    "\n",
    "In deze opgave moet je nagaan of woorden kunnen worden\n",
    "samengesteld met behulp van de elementen.\n",
    "\n",
    "![subset](images/10/periodiek-systeem-elementen.png)\n",
    "\n"
   ]
  },
  {
   "cell_type": "markdown",
   "metadata": {},
   "source": [
    "Schrijf de functie `periodiek_tshirt(woord)` dat een woord als string ontvangt en teruggeeft of het mogelijk is om met de\n",
    "eerste 118 elementen van het periodiek systeem dit woord samen te stellen. "
   ]
  },
  {
   "cell_type": "markdown",
   "metadata": {},
   "source": [
    "``` python\n",
    "assert periodiek_tshirt(\"spuwers\") == True\n",
    "assert periodiek_tshirt(\"uitdaging\") == False\n",
    "assert periodiek_tshirt(\"kranten\") == True"
   ]
  },
  {
   "cell_type": "markdown",
   "metadata": {},
   "source": [
    "Elementen hebben 1 of 2 letters. Soms zijn er dan twee opties mogelijk. Bijvoorbeeld bij `\"kranten\"` is in het begin een optie om de *K* van Kalium te gebruiken of de *Kr* van Krytpon. Maar als de *Kr* wordt gekozen levert het een probleem op, want er is geen enkel element met als afkorting *A* of *An*. Daarintegen kan er wel een oplossing gevonden worden als eerst *K* wordt gekozen, namelijk *K* + *Ra* + *N* + *Te* + *N*"
   ]
  },
  {
   "cell_type": "markdown",
   "metadata": {},
   "source": [
    "Lijst van elementen dat gebruikt kan worden: \n",
    "``` python\n",
    "elements = [\"H\", \"He\", \"Li\", \"Be\", \"B\", \"C\", \"N\", \"O\", \"F\", \"Ne\", \"Na\", \"Mg\", \"Al\", \"Si\", \"P\",\n",
    "    \"S\", \"Cl\", \"Ar\", \"K\", \"Ca\", \"Sc\", \"Ti\", \"V\", \"Cr\", \"Mn\", \"Fe\", \"Co\", \"Ni\", \"Cu\", \"Zn\",\n",
    "    \"Ga\", \"Ge\", \"As\", \"Se\", \"Br\", \"Kr\", \"Rb\", \"Sr\", \"Y\", \"Zr\", \"Nb\", \"Mo\", \"Tc\", \"Ru\",\n",
    "    \"Rh\", \"Pd\", \"Ag\", \"Cd\", \"In\", \"Sn\", \"Sb\", \"Te\", \"I\", \"Xe\", \"Cs\", \"Ba\", \"La\", \"Ce\",\n",
    "    \"Pr\", \"Nd\", \"Pm\", \"Sm\", \"Eu\", \"Gd\", \"Tb\", \"Dy\", \"Ho\", \"Er\", \"Tm\", \"Yb\", \"Lu\", \"Hf\",\n",
    "    \"Ta\", \"W\", \"Re\", \"Os\", \"Ir\", \"Pt\", \"Au\", \"Hg\", \"Tl\", \"Pb\", \"Bi\", \"Po\", \"At\", \"Rn\",\n",
    "    \"Fr\", \"Ra\", \"Ac\", \"Th\", \"Pa\", \"U\", \"Np\", \"Pu\", \"Am\", \"Cm\", \"Bk\", \"Cf\", \"Es\", \"Fm\",\n",
    "    \"Md\", \"No\", \"Lr\", \"Rf\", \"Db\", \"Sg\", \"Bh\", \"Hs\", \"Mt\", \"Ds\", \"Rg\", \"Cn\", \"Nh\",\n",
    "    \"Fl\", \"Mc\", \"Lv\", \"Ts\", \"Og\"]\n",
    "```"
   ]
  },
  {
   "cell_type": "markdown",
   "metadata": {},
   "source": [
    "(Informatica Olympiade 20-21)"
   ]
  }
 ],
 "metadata": {
  "language_info": {
   "name": "python"
  }
 },
 "nbformat": 4,
 "nbformat_minor": 2
}
