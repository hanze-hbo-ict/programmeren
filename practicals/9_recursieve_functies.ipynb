{
 "cells": [
  {
   "cell_type": "markdown",
   "metadata": {},
   "source": [
    "# Recursieve functies"
   ]
  },
  {
   "cell_type": "markdown",
   "metadata": {},
   "source": [
    "Deze opgave bestaat uit het maken van verschillende functies **zonder** gebruik te maken van lussen. Vergeet niet elke functie te testen met assertions en vergeet de docstrings niet."
   ]
  },
  {
   "cell_type": "markdown",
   "metadata": {},
   "source": [
    "## Opdracht 1\n",
    "\n",
    "Schrijf een functie `no_doubles(l)`die een lijst `l` accepteert, alle dubbele waarden verwijdert uit `l` en deze nieuwe lijst teruggeeft.\n",
    "\n",
    "Voorbeelden\n",
    "\n",
    "```python\n",
    "no_doubles(\"test\") == \"est\"\n",
    "no_doubles([1, 2, 3, 3, 4, 5]) == [1, 2, 3, 4, 5]"
   ]
  },
  {
   "cell_type": "markdown",
   "metadata": {},
   "source": [
    "## Opdracht 2\n",
    "\n",
    "In de wiskunde komen de orders UNION, INTERSECT en EXCEPT voor dat op twee lijsten uitgevoerd kan worden.\n",
    "\n",
    "UNION houdt in dat alle informatie uit twee lijsten samengevoegd worden tot 1 lijst, zonder dubbele waardes\n",
    "INTERSECT houdt in dat enkel de informatie die in beide lijsten voorkomen in een nieuwe lijst worden geplaats\n",
    "EXCEPT houdt in dat enkel de informatie dat uniek in lijst a en dus niet in lijst b voorkomt in een nieuwe lijst wordt geplaatst."
   ]
  },
  {
   "cell_type": "markdown",
   "metadata": {},
   "source": [
    "a.\tSchrijf een functie `intersect_sets(a, b)` dat twee lijsten `a` en `b` binnen krijgt als paramaters. De functie geeft een lijst terug met elementen die zowel in lijst `a` als in lijst `b` voorkomt.\n",
    "\n",
    "\n",
    "```python\n",
    "intersect([1,2,3], [3, 4, 5]) == [3]\n",
    "```"
   ]
  },
  {
   "cell_type": "markdown",
   "metadata": {},
   "source": [
    "b.\tSchrijf een functie `except_sets(a,b)` dat twee lijsten `a` en `b` binnen krijgt als paramaters De functie geeft een lijst terug met alle elementen van `a` die niet in `b` voorkomen.\n",
    "\n",
    "```python\n",
    "except_sets([1,2,3], [3, 4, 5]) == [1,2]\n",
    "```"
   ]
  },
  {
   "cell_type": "markdown",
   "metadata": {},
   "source": [
    "c.\tSchrijf een functie `union_sets(a, b)` dat twee lijsten `a` en `b` binnen krijgt als paramaters. De functie geeft de union terug van deze twee lijsten.\n",
    "\n",
    "Voorbeeld\n",
    "```python\n",
    "union_sets([1,2,3], [3, 4, 5]) == [1,2,3,4,5]\n",
    "```"
   ]
  },
  {
   "cell_type": "markdown",
   "metadata": {},
   "source": [
    "## Opdracht 3\n",
    "De grootste gemene deler tussen twee getallen is de grootste deler die beide getallen gemeenschappelijk hebben. Doel is om een programma te maken dat de ggd kan berekenen. Dit gaan we stap voor stap doen."
   ]
  },
  {
   "cell_type": "markdown",
   "metadata": {},
   "source": [
    "a. Schrijf de functie `fact(number, counter=1)` dat twee integers `number` en `counter` accepteert. De functie verzamelt alle delers van het gegeven `number` en geeft deze allemaal terug in een lijst. De `counter` start automatisch op 1 en kan gebruikt worden om de delers van `number` te vinden.\n",
    "\n",
    "Voorbeelden\n",
    "```python\n",
    "fact(24) = [1, 2, 3, 4, 6, 8, 12, 24]\n",
    "fact(15) = [1, 3, ,5, 15]\n",
    "```\n"
   ]
  },
  {
   "cell_type": "markdown",
   "metadata": {},
   "source": [
    "b. Schrijf de functie `ggd(a, b)` dat twee integers `a` en `b` ontvangt en de ggd teruggeeft.\n",
    "\n",
    "**Tips:**\n",
    "1. Gebruik de `fact` functie om de delers van beide getallen te vinden\n",
    "2. Gebruik de `intersect` functie om alle gemeenschappelijke delers te vinden, aka, alle delers die in beide lijsten zitten.\n",
    "3. Geeft de hoogste waarde van de intersect lijst terug."
   ]
  },
  {
   "cell_type": "markdown",
   "metadata": {},
   "source": [
    "c. Een andere aanpak voor het vinden van de ggd is de het euclides algoritme.\n",
    "\n",
    "1.\tNoem het grootste van de beide getallen m, het andere n.\n",
    "2.\tr = m % n\n",
    "3.\tWanneer r gelijk is aan 0, geef n terug.\n",
    "4.\tZo niet, herhaal dan het algoritme met n en r.\n",
    "\n",
    "\n",
    "ggd van 900 en 1140\n",
    "\n",
    "1140 % 900 = 240<br/>\n",
    "900 % 240 = 180<br/>\n",
    "240 % 180 = 60<br/>\n",
    "180 % 60 = 0<br/>\n",
    "\n",
    "ggd is 60.\n",
    "\n",
    "\n",
    "Schrijf de functie `euclides(a, b)` dat twee integers `a` en `b` accepteert en via het euclides algoritme de ggd berekent en teruggeeft.\n"
   ]
  },
  {
   "cell_type": "markdown",
   "metadata": {},
   "source": [
    "d. Schrijf in een comment onderaan het bestand welke methode jij beter vindt en waarom."
   ]
  }
 ],
 "metadata": {
  "language_info": {
   "name": "python"
  }
 },
 "nbformat": 4,
 "nbformat_minor": 2
}
