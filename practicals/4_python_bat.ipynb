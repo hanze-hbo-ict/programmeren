{
 "cells": [
  {
   "cell_type": "markdown",
   "metadata": {},
   "source": [
    "# Lussen in PythonBat!"
   ]
  },
  {
   "cell_type": "markdown",
   "metadata": {},
   "source": [
    "In dit werkcollege ga je oefenen met de lussen van Python: `for` en `while`."
   ]
  },
  {
   "cell_type": "markdown",
   "metadata": {},
   "source": [
    "Er staan 12 lusproblemen op de twee PythonBat-pagina's:\n",
    "\n",
    "* Zes \"medium list problems\" om lussen te gebruiken op [CodingBat](http://codingbat.com/python/List-2)\n",
    "* Zes \"medium python string problems\" om lussen te gebruiken op [CodingBat](http://codingbat.com/python/String-2)"
   ]
  },
  {
   "cell_type": "markdown",
   "metadata": {},
   "source": [
    "Als je bijvoorbeeld de pagina met [\"medium python string problems\"](http://codingbat.com/python/String-2) opent, zie je dat het eerste probleem `double_char` heet. De pagina zegt\n",
    "\n",
    "> Given a string, return a string where for every char in the original, there are two chars.\n",
    ">\n",
    "> ```\n",
    "> double_char('The') → 'TThhee'\n",
    "> double_char('AAbb') → 'AAAAbbbb'\n",
    "> double_char('Hi-There') → 'HHii--TThheerree'\n",
    "> ```"
   ]
  },
  {
   "cell_type": "markdown",
   "metadata": {},
   "source": [
    "Het leuke aan de PythonBat-pagina's is dat ze je code meteen controleren."
   ]
  },
  {
   "cell_type": "markdown",
   "metadata": {},
   "source": [
    "Hier is een compleet en correct antwoord voor `double_char`:\n",
    "\n",
    "```python\n",
    "def double_char(str):\n",
    "    result = ''\n",
    "    for c in str:\n",
    "        result += c*2\n",
    "    return result\n",
    "```\n"
   ]
  },
  {
   "cell_type": "markdown",
   "metadata": {},
   "source": [
    "Zorg dat je de ***strategie*** voor deze oplossing voor `double_char` begrijpt:\n",
    "\n",
    "* We beginnen met een verzamelvariabele met een geschikte startwaarde\n",
    "    * Hier is dat de variabele `result`, die begint op de waarde `''` (de lege string)\n",
    "* We schrijven een lus die het gewenste resultaat verzamelt\n",
    "* Daarna geven we het resultaat terug"
   ]
  },
  {
   "cell_type": "markdown",
   "metadata": {},
   "source": [
    "Maak alle 12 oefeningen. De gemaakte code kan je kopieren naar een python bestand om het te bewaren. "
   ]
  }
 ],
 "metadata": {
  "language_info": {
   "name": "python"
  }
 },
 "nbformat": 4,
 "nbformat_minor": 2
}
