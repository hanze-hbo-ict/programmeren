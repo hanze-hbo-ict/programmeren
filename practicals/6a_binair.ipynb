{
 "cells": [
  {
   "cell_type": "markdown",
   "metadata": {
    "editable": true,
    "slideshow": {
     "slide_type": ""
    },
    "tags": []
   },
   "source": [
    "# Van decimaal naar binair en verder!\n"
   ]
  },
  {
   "cell_type": "markdown",
   "metadata": {},
   "source": [
    "Dit probleem gaat over het omzetten van getallen naar en van grondtal 10 (*decimaal*, wat de *meeste* mensen gebruiken) en van en naar grondtal 2 (*binair*, waar vrijwel alle computers mee werken).\n",
    "\n",
    "Aan het einde van de opdracht zal je dit uitbreiden naar *ternair*, oftewel grondtal 3, waar minder computers en mensen, maar veel meer buitenaardse wezens mee werken!"
   ]
  },
  {
   "cell_type": "markdown",
   "metadata": {},
   "source": [
    "## Functie 1: `is_odd(n)`"
   ]
  },
  {
   "cell_type": "markdown",
   "metadata": {},
   "source": [
    "Schrijf een Python functie `is_odd(n)` die als argument een integer `n` accepteert, en  `True` teruggeeft als `n` oneven is en `False` als `n` even is. Zorg ervoor dat je deze (boolean) waarden teruggeeft, niet strings! De even- of onevenheid van een getal noemen we zijn *pariteit*."
   ]
  },
  {
   "cell_type": "markdown",
   "metadata": {},
   "source": [
    "Je moet de `%`-operator (de \"modulo\"-operator) gebruiken. Onthoud dat in Python `n % d` de rest na deling van `n` door `d` teruggeeft (als `n` >= 0). Hier zijn twee voorbeelden van het gebruik van `is_odd`:\n",
    "\n",
    "```ipython\n",
    "In [1]: is_odd(42)\n",
    "Out[1]: False\n",
    "\n",
    "In [2]: is_odd(43)\n",
    "Out[2]: True\n",
    "```"
   ]
  },
  {
   "cell_type": "markdown",
   "metadata": {
    "editable": true,
    "slideshow": {
     "slide_type": ""
    },
    "tags": []
   },
   "source": [
    "Hier zijn een paar tests:\n",
    "\n",
    "```python\n",
    "assert is_odd(42) == False\n",
    "assert is_odd(43) == True\n",
    "```\n",
    "\n",
    "Als je liever kortere versies hebt van deze tests dan kan je de volgende gebruiken:\n",
    "\n",
    "```python\n",
    "assert not is_odd(42)\n",
    "assert is_odd(43)\n",
    "```"
   ]
  },
  {
   "cell_type": "code",
   "execution_count": null,
   "metadata": {
    "editable": true,
    "slideshow": {
     "slide_type": ""
    },
    "tags": [
     "skip-execution"
    ]
   },
   "outputs": [],
   "source": [
    "# jouw oplossing\n",
    "\n",
    "def is_odd(n):\n",
    "    ..."
   ]
  },
  {
   "cell_type": "markdown",
   "metadata": {
    "editable": true,
    "slideshow": {
     "slide_type": ""
    },
    "tags": []
   },
   "source": [
    "## Functie 2: `num_to_binary(n)`\n",
    "\n",
    "In dit onderdeel ga je getallen *bit voor bit,van rechts naar links* van decimaal naar binair omzetten, wat misschien \"even\" raar zal klinken...!\n",
    "\n",
    "Kort samengevat, je gaat een functie `num_to_binary(n)` schrijven die als volgt werkt:\n",
    "\n",
    "```ipython\n",
    "In [1]: num_to_binary(0)\n",
    "Out[1]: ''\n",
    "\n",
    "In [2]: num_to_binary(1)\n",
    "Out[2]: '1'\n",
    "\n",
    "In [3]: num_to_binary(4)\n",
    "Out[3]: '100'\n",
    "\n",
    "In [4]: num_to_binary(10)\n",
    "Out[4]: '1010'\n",
    "\n",
    "In [5]: num_to_binary(42)\n",
    "Out[5]: '101010'\n",
    "\n",
    "In [6]: num_to_binary(100)\n",
    "Out[6]: '1100100'\n",
    "```\n"
   ]
  },
  {
   "cell_type": "code",
   "execution_count": null,
   "metadata": {
    "editable": true,
    "slideshow": {
     "slide_type": ""
    },
    "tags": [
     "skip-execution"
    ]
   },
   "outputs": [],
   "source": [
    "# jouw oplossing\n",
    "\n",
    "def num_to_binary(n):\n",
    "    ..."
   ]
  },
  {
   "cell_type": "markdown",
   "metadata": {
    "editable": true,
    "slideshow": {
     "slide_type": ""
    },
    "tags": []
   },
   "source": [
    "## Functie 3: `binary_to_num(s)`"
   ]
  },
  {
   "cell_type": "markdown",
   "metadata": {},
   "source": [
    "Nu ga je het meer uitdagende probleem aanpakken om van grondtal 2 naar grondtal 10 te gaan, opnieuw van *rechts naar links*. We stellen een waarde met grondtal 2 voor als een reeks van 0'en en 1'en (bits)."
   ]
  },
  {
   "cell_type": "markdown",
   "metadata": {
    "editable": true,
    "slideshow": {
     "slide_type": ""
    },
    "tags": []
   },
   "source": [
    "Kort samengevat, je gaat een functie `binary_to_num(s)` schrijven die als volgt werkt:\n",
    "\n",
    "```ipython\n",
    "In [1]: binary_to_num(\"100\")\n",
    "Out[1]: 4\n",
    "\n",
    "In [2]: binary_to_num(\"1011\")\n",
    "Out[1]: 11\n",
    "\n",
    "In [3]: binary_to_num(\"00001011\")\n",
    "Out[1]: 11\n",
    "\n",
    "In [4]: binary_to_num(\"\")\n",
    "Out[1]: 0\n",
    "\n",
    "In [5]: binary_to_num(\"0\")\n",
    "Out[1]: 0\n",
    "\n",
    "In [6]: binary_to_num(\"1100100\")\n",
    "Out[1]: 100\n",
    "\n",
    "In [7]: binary_to_num(\"101010\")\n",
    "Out[1]: 42\n",
    "```\n"
   ]
  },
  {
   "cell_type": "code",
   "execution_count": null,
   "metadata": {
    "editable": true,
    "slideshow": {
     "slide_type": ""
    },
    "tags": [
     "skip-execution"
    ]
   },
   "outputs": [],
   "source": [
    "# jouw oplossing\n",
    "\n",
    "def binary_to_num(s):\n",
    "    ..."
   ]
  },
  {
   "cell_type": "markdown",
   "metadata": {},
   "source": [
    "## Functie 4: `increment(s)`"
   ]
  },
  {
   "cell_type": "markdown",
   "metadata": {},
   "source": [
    "In het kort, schrijft `increment(S)`, die een binaire string `s` met `0`'en en `1`'en accepteert en het volgende getal in grondtal 2 teruggeeft.\n"
   ]
  },
  {
   "cell_type": "markdown",
   "metadata": {},
   "source": [
    "Merk op dat `increment('11111111')` in de voorbeelden hier beneden weer uitkomt op een string met alleen maar nullen. Dit kan een speciaal geval zijn (`if`).\n",
    "\n",
    "Maak gebruik van de functies die je eerder hebt geschreven!"
   ]
  },
  {
   "cell_type": "markdown",
   "metadata": {
    "editable": true,
    "slideshow": {
     "slide_type": ""
    },
    "tags": []
   },
   "source": [
    "Hier zie je een aantal voorbeelden:\n",
    "\n",
    "```ipython\n",
    "In [1]: increment(\"00000000\")\n",
    "Out[1]: '00000001'\n",
    "\n",
    "In [2]: increment(\"00000001\")\n",
    "Out[2]: '00000010'\n",
    "\n",
    "In [3]: increment(\"00000111\")\n",
    "Out[3]: '00001000'\n",
    "\n",
    "In [4]: increment(\"11111111\")\n",
    "Out[4]: '00000000'\n",
    "```"
   ]
  },
  {
   "cell_type": "markdown",
   "metadata": {
    "editable": true,
    "slideshow": {
     "slide_type": ""
    },
    "tags": []
   },
   "source": [
    ":::{admonition} Tips\n",
    ":class: tip\n",
    "\n",
    "-   Het lastige deel is zorgen dat je genoeg voorloopnullen hebt (voor `y`, als je die naam hebt gebruikt).\n",
    "\n",
    "-   Je kan 42 nullen voor `y` zetten met `\"0\" * 42 + y`\n",
    "\n",
    "Nu moet je nog bedenken wat het *correcte* aantal nullen is... hiervoor heb je de functie `len` nodig!\n",
    ":::"
   ]
  },
  {
   "cell_type": "code",
   "execution_count": null,
   "metadata": {
    "editable": true,
    "slideshow": {
     "slide_type": ""
    },
    "tags": [
     "skip-execution"
    ]
   },
   "outputs": [],
   "source": [
    "# jouw oplossing\n",
    "\n",
    "def increment(s):\n",
    "    ..."
   ]
  },
  {
   "cell_type": "markdown",
   "metadata": {},
   "source": [
    "## Functie 5: `count(s, n)`\n"
   ]
  },
  {
   "cell_type": "markdown",
   "metadata": {},
   "source": [
    "Gebruik de functie `increment` om de functie `count(s, n)` te schrijven, die een binaire string van 8 tekens accepteert als argument en vervolgens `n` keer doortelt vanaf `s`, terwijl hij wordt afgedrukt."
   ]
  },
  {
   "cell_type": "markdown",
   "metadata": {},
   "source": [
    ":::{admonition} Opmerkingen\n",
    ":class: notice\n",
    "\n",
    "-   Dit betekent dat jouw functie in totaal `n+1` binaire strings zal afdrukken.\n",
    "\n",
    "-   Je moet de Python `print` functie gebruiken, omdat er niets wordt teruggegeven. We printen alleen naar het scherm.\n",
    "\n",
    ":::"
   ]
  },
  {
   "cell_type": "markdown",
   "metadata": {},
   "source": [
    "Hier zie je een aantal voorbeelden:\n",
    "\n",
    "```ipython\n",
    "In [1]: count(\"00000000\", 4)\n",
    "00000000\n",
    "00000001\n",
    "00000010\n",
    "00000011\n",
    "00000100\n",
    "\n",
    "In [2]: count(\"11111110\", 5)\n",
    "11111110\n",
    "11111111\n",
    "00000000\n",
    "00000001\n",
    "00000010\n",
    "00000011\n",
    "```"
   ]
  },
  {
   "cell_type": "markdown",
   "metadata": {
    "editable": true,
    "slideshow": {
     "slide_type": ""
    },
    "tags": []
   },
   "source": [
    "```{tip}\n",
    "Gebruik de functie `increment`!\n",
    "```"
   ]
  },
  {
   "cell_type": "code",
   "execution_count": null,
   "metadata": {
    "editable": true,
    "slideshow": {
     "slide_type": ""
    },
    "tags": [
     "skip-execution"
    ]
   },
   "outputs": [],
   "source": [
    "# jouw oplossing\n",
    "\n",
    "def count(s, n):\n",
    "    ..."
   ]
  },
  {
   "cell_type": "markdown",
   "metadata": {
    "editable": true,
    "slideshow": {
     "slide_type": ""
    },
    "tags": []
   },
   "source": [
    "## Ternaire getallen"
   ]
  },
  {
   "cell_type": "markdown",
   "metadata": {},
   "source": [
    "> Er zijn 10 soorten mensen in de wereld: zij die ternaire getallen kennen, zij die dat niet kennen, en zij die denken dat dit een binaire grap is."
   ]
  },
  {
   "cell_type": "markdown",
   "metadata": {},
   "source": [
    "De volgende functies gaan over ternaire getallen, oftewel waarden in grondtal 3."
   ]
  },
  {
   "cell_type": "markdown",
   "metadata": {},
   "source": [
    "Voor dit deel breiden we deze het idee van binaire getallen (grondtal 2) uit naar ternaire getallen (grondtal 3). Net zoals binaire getallen de twee cijfers 0 en 1 gebruiken, gebruiken ternaire getallen de cijfers 0, 1 en 2. Opeenvolgende kolommen in de ternaire getallen vertegenwoordigen opeenvolgende machten van drie. Bijvoorbeeld, het ternaire getal\n"
   ]
  },
  {
   "cell_type": "markdown",
   "metadata": {},
   "source": [
    "`1120`"
   ]
  },
  {
   "cell_type": "markdown",
   "metadata": {},
   "source": [
    "als je het van links naar rechts leest, evalueert het als `1` zevenentwintig, `1` negen, `2` drieën en `0` enen. Samengevat, het is gelijk aan `1*27 + 1*9 + 2*3 + 0*1 == 42`.\n"
   ]
  },
  {
   "cell_type": "markdown",
   "metadata": {},
   "source": [
    "Gebruik dezelfde ideeën die je hebt gebruikt om eerder binaire conversiefuncties te schrijven om de functie `num_to_ternary(n)` te schrijven die een ternaire string teruggeeft van de waarde van het argument `n` (net als `num_to_binary`).\n"
   ]
  },
  {
   "cell_type": "markdown",
   "metadata": {},
   "source": [
    "Hier zie je een aantal voorbeelden:\n",
    "\n",
    "```ipython\n",
    "In [1]: num_to_ternary(42)\n",
    "Out[1]: '1120'\n",
    "\n",
    "In [2]: num_to_ternary(4242)\n",
    "Out[2]: '12211010'\n",
    "```"
   ]
  },
  {
   "cell_type": "markdown",
   "metadata": {},
   "source": [
    ":::{admonition} Opmerkingen\n",
    ":class: notice\n",
    "\n",
    "We geven hier geen startcode, maar...\n",
    "\n",
    "-   Baseer jouw oplossing op de overeenkomstige functie `num_to_binary`!\n",
    "-   Het kopiëren en plakken van deze functie (en veranderen als dat nodig is) is de beste strategie.\n",
    "-   Gebuik `n % 3` om de waarde van het meest rechter cijfer te vinden.\n",
    ":::"
   ]
  },
  {
   "cell_type": "markdown",
   "metadata": {
    "editable": true,
    "slideshow": {
     "slide_type": ""
    },
    "tags": []
   },
   "source": [
    "### Functie 7: `ternary_to_num(s)`"
   ]
  },
  {
   "cell_type": "markdown",
   "metadata": {},
   "source": [
    "Scrijf de functie `ternary_to_num(s)`, die een integer representatie teruggeeft van de waarde van het argument `s` (net als `binary_to_num`)."
   ]
  },
  {
   "cell_type": "markdown",
   "metadata": {
    "editable": true,
    "slideshow": {
     "slide_type": ""
    },
    "tags": []
   },
   "source": [
    "Hier zie je een aantal voorbeelden:\n",
    "\n",
    "```ipython\n",
    "In [3]: ternary_to_num(\"1120\")\n",
    "Out[3]: 42\n",
    "\n",
    "In [4]: ternary_to_num(\"12211010\")\n",
    "Out[4]: 4242\n",
    "```\n",
    "\n",
    "Ook hier geldt dat de beste strategie is om `binary_to_num` te gebruiken en aan te passen."
   ]
  },
  {
   "cell_type": "code",
   "execution_count": null,
   "metadata": {
    "editable": true,
    "slideshow": {
     "slide_type": ""
    },
    "tags": [
     "skip-execution"
    ]
   },
   "outputs": [],
   "source": [
    "# jouw oplossing\n",
    "\n",
    "def ternary_to_num(s):\n",
    "    ..."
   ]
  }
 ],
 "metadata": {
  "kernelspec": {
   "display_name": "Python 3 (ipykernel)",
   "language": "python",
   "name": "python3"
  },
  "language_info": {
   "codemirror_mode": {
    "name": "ipython",
    "version": 3
   },
   "file_extension": ".py",
   "mimetype": "text/x-python",
   "name": "python",
   "nbconvert_exporter": "python",
   "pygments_lexer": "ipython3",
   "version": "3.12.3"
  }
 },
 "nbformat": 4,
 "nbformat_minor": 4
}
