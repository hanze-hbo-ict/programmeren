{
 "cells": [
  {
   "cell_type": "markdown",
   "metadata": {},
   "source": [
    "# Boter, kaas en eieren + N op een rij..."
   ]
  },
  {
   "cell_type": "markdown",
   "metadata": {},
   "source": [
    "In deze opgave moet je acht kleine functies, die allemaal erg op elkaar lijken, schrijven die tweedimensionale gegevens in Python verwerken, dat wil zeggen, lijsten-van-lijsten verwerken.\n"
   ]
  },
  {
   "cell_type": "markdown",
   "metadata": {},
   "source": [
    "De applicatie die we in gedachten hebben is een *spelbord* waarvan je programma gaat bepalen:"
   ]
  },
  {
   "cell_type": "markdown",
   "metadata": {},
   "source": [
    "* Of er drie op een rij is voor een bepaald karakter (vier functies), en\n",
    "* Of er `n` op een rij is voor een bepaald karakter (vier functies die op de vorige vier lijken)\n"
   ]
  },
  {
   "cell_type": "markdown",
   "metadata": {},
   "source": [
    "## Om te beginnen..."
   ]
  },
  {
   "cell_type": "markdown",
   "metadata": {},
   "source": [
    "```python\n",
    "\n",
    "# dit is een functie om tweedimensionale arrays\n",
    "#  (lijsten van lijsten) af te drukken\n",
    "def print_2d(a):\n",
    "    \"\"\"print_2d prints a 2D array, a\n",
    "       as rows and columns\n",
    "       Argument: a, a 2D list of lists\n",
    "       Result: None (no return value)\n",
    "    \"\"\"\n",
    "    rows = len(a)\n",
    "    cols = len(a[0])\n",
    "\n",
    "    for r in range(rows):      # rows == aantal rijen\n",
    "        for c in range(cols):  # cols == aantal kolommen\n",
    "            print(a[r][c], end=' ')\n",
    "        print()\n",
    "\n",
    "    return None  # dit is impliciet aanwezig\n",
    "    # als er geen return-statement aanwezig is\n",
    "\n",
    "\n",
    "# een paar tests voor print_2d\n",
    "a = [[\"X\", \" \", \"O\"], [\"O\", \"X\", \"O\"]]\n",
    "print(\"2-row, 3-col a is\")\n",
    "print_2d(a)\n",
    "\n",
    "a = [[\"X\", \"O\"], [\" \", \"X\"], [\"O\", \"O\"], [\"O\", \"X\"]]\n",
    "print(\"4-row, 2-col a is\")\n",
    "print_2d(a)\n",
    "\n",
    "\n",
    "# maak een tweedimensionale array van een ééndimensionale string\n",
    "def create_a(rows, cols, s):\n",
    "    \"\"\"Returns a 2D array with\n",
    "       rows rows and\n",
    "       cols cols\n",
    "       using the data from s: across the\n",
    "       first row, then the second, etc.\n",
    "       We'll only test it with enough data!\n",
    "    \"\"\"\n",
    "    a = []\n",
    "    for r in range(rows):\n",
    "        new_row = []\n",
    "        for c in range(cols):\n",
    "            new_row += [s[0]]  # voeg dat karakter toe\n",
    "            s = s[1:]          # verwijder het eerste karakter\n",
    "        a += [new_row]\n",
    "    return a\n",
    "\n",
    "\n",
    "# een paar tests voor create_a:\n",
    "a = [[\"X\", \" \", \"O\"], [\"O\", \"X\", \"O\"]]\n",
    "new_a = create_a(2, 3, \"X OOXO\")\n",
    "assert new_a == a\n",
    "print(\"Is new_a == a? moet True zijn:\", new_a == a)\n",
    "\n",
    "a = [[\"X\", \"O\"], [\" \", \"X\"], [\"O\", \"O\"], [\"O\", \"X\"]]\n",
    "new_a = create_a(4, 2, \"XO XOOOX\")\n",
    "assert new_a == a\n",
    "```"
   ]
  },
  {
   "cell_type": "markdown",
   "metadata": {},
   "source": [
    ":::{admonition} Gegevensformaat\n",
    ":class: notice\n",
    "\n",
    "Merk op dat alle tweedimensionele data in deze opgave lijsten van lijsten van losse karakters zijn:\n",
    "\n",
    "-   De algehele structuur, meestal `a` genoemd, is een lijst van rijen\n",
    "-   Elke rij is een lijst gegevenselementen\n",
    "-   Elk gegevenselement is een string met een enkel karakter\n",
    "-   Sterker nog, we beperken ons tot slechts drie strings:\n",
    "    *   `'X'`, een hoofdletter X,\n",
    "    *   `'O'`, een hoofdletter O,\n",
    "    *   en `' '`, het spatieteken (dit is *niet* de lege string!).\n",
    ":::\n"
   ]
  },
  {
   "cell_type": "markdown",
   "metadata": {},
   "source": [
    "## Drie op een rij\n"
   ]
  },
  {
   "cell_type": "markdown",
   "metadata": {},
   "source": [
    "De eerste vier functies die je gaat schrijven controleren of er drie op een rij is\n",
    "\n",
    "* in een specifieke richting (opgenomen in de functienaam),\n",
    "* voor een specifiek karakter `ch`,\n",
    "* op een specifieke startrij- en kolom: `r_start` en `c_start`, en\n",
    "* in een gegeven tweedimensionale array `a`."
   ]
  },
  {
   "cell_type": "markdown",
   "metadata": {},
   "source": [
    "Elk van de functies moet `False` teruggeven\n",
    "\n",
    "* als er **GEEN RUIMTE** is voor drie op een rij vanaf de startpositie gegeven door `r_start` en `c_start` (controleer dit eerst!), of\n",
    "* als `r_start` of `c_start` buiten de grenzen van `a` valt, of\n",
    "* (zelfs als er ruimte binnen de grenzen is), als er GEEN drie-op-een-rij-patroon binnen `a` is die helemaal bestaat uit het karakter `ch` in de specifieke richting beginnend bij de locatie gegeven door `r_start` en `c_start`."
   ]
  },
  {
   "cell_type": "markdown",
   "metadata": {},
   "source": [
    "Elke functie moet daarentegen `True` teruggeven\n",
    "\n",
    "* alleen maar als er een drie-op-een-rij-patroon in `a` is die helemaal bestaat uit het element `ch` in de specifieke richting beginnend bij de locatie van `r_start` en `c_start`."
   ]
  },
  {
   "cell_type": "markdown",
   "metadata": {},
   "source": [
    "### Voorbeeld"
   ]
  },
  {
   "cell_type": "markdown",
   "metadata": {},
   "source": [
    "Bekijk het volgende patroon, ontworpen voor de richting \"oost\"\n",
    "\n",
    "Hier zie je een paar grenscontroles en een voorbeeld van een `for`-lus:"
   ]
  },
  {
   "cell_type": "markdown",
   "metadata": {},
   "source": [
    "```python\n",
    "# voor de functie voor drie op een rij naar het oosten:\n",
    "\n",
    "rows = len(a)      # aantal rijen is len(a)\n",
    "cols = len(a[0])   # aantal kolommen is len(a[0])\n",
    "\n",
    "if r_start >= rows:\n",
    "    return False  # buiten de grenzen van de rijen\n",
    "\n",
    "# andere grenscontroles...\n",
    "if c_start > cols - 3:\n",
    "    return False  # buiten de grenzen van de kolommen\n",
    "\n",
    "# zijn alle gegevenselementen correct?\n",
    "for i in range(3):                   # lusindex is i\n",
    "    if a[r_start][c_start+i] != ch:  # controleer op fouten\n",
    "        return False                 # fout gevonden; geef False terug\n",
    "\n",
    "return True                          # geen fouten gevonden in de lus; geef True terug\n",
    "```"
   ]
  },
  {
   "cell_type": "markdown",
   "metadata": {},
   "source": [
    "Merk op dat voor andere richtingen\n",
    "\n",
    "* Je andere controles nodig hebt (om te kijken of je niet uit de grenzen loopt).\n",
    "* Ook moet je de lus aanpassen voor andere richtingen\n",
    "* Het voorbeeld hierboven kijkt alleen naar drie op een rij in oostelijke richting."
   ]
  },
  {
   "cell_type": "markdown",
   "metadata": {},
   "source": [
    "### Vier functies"
   ]
  },
  {
   "cell_type": "markdown",
   "metadata": {},
   "source": [
    "Hier zijn de signatures van de vier functies die je moet schrijven:\n",
    "\n",
    "1. `def in_a_row_3_east(ch, r_start, c_start, a):`\n",
    "\n",
    "   Deze moet bij `r_start` en `c_start` beginnen, kijken of er een drie op een rij van karakter `ch` is in **oostelijke richting** en een toepasselijke `True` of `False` teruggeven.\n",
    "2. `def in_a_row_3_south(ch, r_start, c_start, a):`\n",
    "\n",
    "   Deze moet bij `r_start` en `c_start` beginnen, kijken of er een drie op een rij van karakter `ch` is in **zuidelijke richting** en een toepasselijke `True` of `False` teruggeven.\n",
    "3. `def in_a_row_3_southeast(ch, r_start, c_start, a):`\n",
    "\n",
    "   Deze moet bij `r_start` en `c_start` beginnen, kijken of er een drie op een rij van karakter `ch` is in **zuidoostelijke richting** en een toepasselijke `True` of `False` teruggeven.\n",
    "4. `def in_a_row_3_northeast(ch, r_start, c_start, a):`\n",
    "\n",
    "   Deze moet bij `r_start` en `c_start` beginnen, kijken of er een drie op een rij van karakter `ch` is in **noordoostelijke richting** en een toepasselijke `True` of `False` teruggeven."
   ]
  },
  {
   "cell_type": "markdown",
   "metadata": {},
   "source": [
    "Deze functies kunnen gecombineerd worden om elke drie op een rij op een spelbord te herkennen, bijvoorbeeld voor Boter, Kaas en Eieren. Je gaat hierna meer algemene versies hiervan maken...\n",
    "\n"
   ]
  },
  {
   "cell_type": "markdown",
   "metadata": {},
   "source": [
    "Hier zijn vier tests voor elke functie; plak deze in je bestand en controleer dat ze werken!\n",
    "\n",
    "```python\n",
    "# tests voor in_a_row_3_east\n",
    "a = create_a(3, 4, \"XXOXXXOOOOOO\")\n",
    "assert not in_a_row_3_east(\"X\", 0, 0, a)\n",
    "assert in_a_row_3_east(\"O\", 2, 1, a)\n",
    "assert not in_a_row_3_east(\"X\", 2, 1, a)\n",
    "assert not in_a_row_3_east(\"O\", 2, 2, a)\n",
    "\n",
    "# tests voor in_a_row_3_south\n",
    "a = create_a(4, 4, \"XXOXXXOXXOO OOOX\")\n",
    "assert in_a_row_3_south(\"X\", 0, 0, a)\n",
    "assert not in_a_row_3_south(\"O\", 2, 2, a)\n",
    "assert not in_a_row_3_south(\"X\", 1, 3, a)\n",
    "assert not in_a_row_3_south(\"O\", 42, 42, a)\n",
    "\n",
    "# tests voor in_a_row_3_southeast\n",
    "a = create_a(4, 4, \"XOOXXXOXX XOOOOX\")\n",
    "assert in_a_row_3_southeast(\"X\", 1, 1, a)\n",
    "assert not in_a_row_3_southeast(\"X\", 1, 0, a)\n",
    "assert in_a_row_3_southeast(\"O\", 0, 1, a)\n",
    "assert not in_a_row_3_southeast(\"X\", 2, 2, a)\n",
    "\n",
    "# tests voor in_a_row_3_northeast\n",
    "a = create_a(4, 4, \"XOXXXXOXXOXOOOOX\")\n",
    "assert in_a_row_3_northeast(\"X\", 2, 0, a)\n",
    "assert in_a_row_3_northeast(\"O\", 3, 0, a)\n",
    "assert not in_a_row_3_northeast(\"O\", 3, 1, a)\n",
    "assert not in_a_row_3_northeast(\"X\", 3, 3, a)\n",
    "```"
   ]
  },
  {
   "cell_type": "markdown",
   "metadata": {},
   "source": [
    "## Van 3 naar N: N op een rij"
   ]
  },
  {
   "cell_type": "markdown",
   "metadata": {},
   "source": [
    "Boter, Kaas en Eieren is al lang opgelost! Laten we onbeperkt grote spelborden bekijken...\n",
    "\n",
    "Om dit te doen, ga je je drie-op-een-rij-functies uitbreiden naar N-op-een-rij-functies.\n"
   ]
  },
  {
   "cell_type": "markdown",
   "metadata": {},
   "source": [
    "Elke functie krijgt een extra argument aan het einde, een integer `n`, die het aantal identieke elementen (gelijk aan `ch`) voorstelt die gevonden moeten worden om `True` terug te geven.\n",
    "\n",
    "* Als de positie buiten de grenzen valt; of binnen de grenzen, maar alsnog buiten de grenzen valt door de waarde van `n`, moet je functie `False` teruggeven.\n",
    "* Je functie moet natuurlijk ook `False` teruggeven als de rij wel binnen de grenzen valt, maar er geen N op een rij is!"
   ]
  },
  {
   "cell_type": "markdown",
   "metadata": {},
   "source": [
    "Hier zijn de signatures van de vier N-op-een-rij-functies die je moet schrijven:\n",
    "\n",
    "1. `def in_a_row_n_east(ch, r_start, c_start, a, n):`\n",
    "\n",
    "   Deze moet bij `r_start` en `c_start` beginnen, kijken of er een N op een rij van karakter `ch` is in **oostelijke richting** en een toepasselijke `True` of `False` teruggeven.\n",
    "2. `def in_a_row_n_south(ch, r_start, c_start, a, n):`\n",
    "\n",
    "   Deze moet bij `r_start` en `c_start` beginnen, kijken of er een N op een rij van karakter `ch` is in **zuidelijke richting** en een toepasselijke `True` of `False` teruggeven.\n",
    "3. `def in_a_row_n_southeast(ch, r_start, c_start, a, n):`\n",
    "\n",
    "   Deze moet bij `r_start` en `c_start` beginnen, kijken of er een N op een rij van karakter `ch` is in **zuidoostelijke richting** en een toepasselijke `True` of `False` teruggeven.\n",
    "4. `def in_a_row_n_northeast(ch, r_start, c_start, a, n):`\n",
    "\n",
    "   Deze moet bij `r_start` en `c_start` beginnen, kijken of er een N op een rij van karakter `ch` is in **noordoostelijke richting** en een toepasselijke `True` of `False` teruggeven."
   ]
  },
  {
   "cell_type": "markdown",
   "metadata": {},
   "source": [
    "Ook hier zijn vier tests voor elke functie; plak deze in je bestand en controleer dat ze werken!\n",
    "\n",
    "```python\n",
    "# tests voor in_a_row_n_east\n",
    "a = create_a(5, 5, 'XXOXXXOOOOOOXXXX XXXOOOOO')\n",
    "assert in_a_row_n_east('O', 1, 1, a, 4)\n",
    "assert in_a_row_n_east('O', 1, 3, a, 2)\n",
    "assert not in_a_row_n_east('X', 3, 2, a, 4)\n",
    "assert in_a_row_n_east('O', 4, 0, a, 5)\n",
    "\n",
    "\n",
    "# tests voor in_a_row_n_south\n",
    "a = create_a(5, 5, 'XXOXXXOOOOOOXXXXOXXXOOOXO')\n",
    "assert not in_a_row_n_south('X', 0, 0, a, 5)\n",
    "assert in_a_row_n_south('O', 1, 1, a, 4)\n",
    "assert not in_a_row_n_south('O', 0, 1, a, 6)\n",
    "assert in_a_row_n_south('X', 4, 3, a, 1)\n",
    "\n",
    "\n",
    "# tests voor in_a_row_n_southeast\n",
    "a = create_a(5, 5, 'XOO XXXOXOOOXXXXOXXXOOOXX')\n",
    "assert in_a_row_n_southeast('X', 1, 1, a, 4)\n",
    "assert not in_a_row_n_southeast('O', 0, 1, a, 3)\n",
    "assert in_a_row_n_southeast('O', 0, 1, a, 2)\n",
    "assert not in_a_row_n_southeast('X', 3, 0, a, 2)\n",
    "\n",
    "\n",
    "# tests voor in_a_row_n_northeast\n",
    "a = create_a(5, 5, 'XOO XXXOXOOOXOXXXOXXXOOXX')\n",
    "assert in_a_row_n_northeast('X', 4, 0, a, 5)\n",
    "assert in_a_row_n_northeast('O', 4, 1, a, 4)\n",
    "assert not in_a_row_n_northeast('O', 2, 0, a, 2)\n",
    "assert not in_a_row_n_northeast('X', 0, 3, a, 1)\n",
    "```"
   ]
  }
 ],
 "metadata": {
  "language_info": {
   "name": "python"
  }
 },
 "nbformat": 4,
 "nbformat_minor": 2
}
