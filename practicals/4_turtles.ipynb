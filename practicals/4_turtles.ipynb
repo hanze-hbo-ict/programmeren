{
 "cells": [
  {
   "attachments": {},
   "cell_type": "markdown",
   "metadata": {
    "slideshow": {
     "slide_type": "slide"
    }
   },
   "source": [
    "# Turtles!\n"
   ]
  },
  {
   "attachments": {},
   "cell_type": "markdown",
   "metadata": {},
   "source": [
    "## Opdracht 1\n",
    "a. Kopieer onderstaande code over naar een bestand genaamd 'wk3wc2.py'"
   ]
  },
  {
   "attachments": {},
   "cell_type": "markdown",
   "metadata": {},
   "source": [
    "```python\n",
    "import time\n",
    "from turtle import *\n",
    "from random import *\n",
    "\n",
    "def main():\n",
    "    \"\"\"\n",
    "    Main functie. Roept de andere functies op om hun werk te doen. \n",
    "    \"\"\"\n",
    "    tri()\n",
    "    done() # tell turtle the drawing is done.\n",
    "\n",
    "def testing():\n",
    "    \"\"\"\n",
    "    Test functie. Hier staan alle assertions om de functies te testen.\n",
    "    \"\"\"\n",
    "\n",
    "def tri(n=3):\n",
    "    \"\"\"Draws n 100-pixel sides of an equilateral triangle.\n",
    "       Note that n doesn't have to be 3 (!)\n",
    "    \"\"\"\n",
    "\n",
    "    width(5)    # width of the line to draw\n",
    "    clr = choice(['darkgreen', 'red', 'blue'])  #choose a random color\n",
    "    color(clr)  # set the color of the line\n",
    "    shape('turtle') # set the shape of the pencil\n",
    "    dot(10, 'red')  # set the endpoints of the lines\n",
    "    if n == 0:\n",
    "        return      # Geen zijden om te tekenen, dus stop met tekenen\n",
    "    else:\n",
    "        forward(100)\n",
    "        left(120)\n",
    "        tri(n-1)    # Gebruik recursie om de overige zijden te tekenen!\n",
    "\n",
    "main()\n",
    "testing()\n",
    "```\n"
   ]
  },
  {
   "attachments": {},
   "cell_type": "markdown",
   "metadata": {},
   "source": [
    "b. Schrijf de functie `spiral(initial_length, angle, multiplier)`. Hier is de *signature* van deze functie met daaronder de docstring. Maak gebruik van recursie."
   ]
  },
  {
   "attachments": {},
   "cell_type": "markdown",
   "metadata": {},
   "source": [
    "```python\n",
    "def spiral(initial_length, angle, multiplier):\n",
    "    \"\"\"Spiral-drawing function.  Arguments:\n",
    "       initial_length = the length of the first leg of the spiral\n",
    "       angle = the angle, in degrees, turned after each spiral's leg\n",
    "       multiplier = the fraction by which each leg of the spiral changes\n",
    "    \"\"\"\n",
    "```"
   ]
  },
  {
   "attachments": {},
   "cell_type": "markdown",
   "metadata": {},
   "source": [
    "Hier zie je het resultaat van de aanroep `spiral(100, 90, 0.9)`\n",
    "\n",
    "![Spiraal](images/4/spiral.png)"
   ]
  },
  {
   "attachments": {},
   "cell_type": "markdown",
   "metadata": {},
   "source": [
    "-   Als de `multiplier` gelijk is aan `0.5` zal elke zijde van de spiraal *half* zo lang zijn als de vorige (ze worden steeds korter)\n",
    "-   Als de `multiplier` gelijk is aan `1.5` is zal elke zijde van de spiraal *anderhalf keer* zo lang zijn als de vorige zijde (ze worden steeds langer)"
   ]
  },
  {
   "attachments": {},
   "cell_type": "markdown",
   "metadata": {},
   "source": [
    "Probeer, Plan, Programmeer!  \n",
    "Probeer: Teken zelf een spiraal, Welke stappen maak je?  \n",
    "Plan: Hoe leg je een iemand anders uit welke stappen er gedaan moeten worden? Wat zijn de base cases zodat de turtle stopt met tekenen?   \n",
    "Programmeer!  "
   ]
  },
  {
   "attachments": {},
   "cell_type": "markdown",
   "metadata": {},
   "source": [
    "Probeer bijvoorbeeld een paar van deze aanroepen:\n",
    "\n",
    "* `spiral(100, 90, 0.9)`\n",
    "* `spiral(100, 170, 0.95)` (dit lijkt meer op een ster, gebruik Control-C om te functie te onderbreken...)\n",
    "* `spiral(400, 120, 0.8)` (een driehoekige spiraal)\n",
    "* `spiral(2, 1, 0.999)` (een ECHTE spiraal, gebruik weer Control-C om te stoppen)"
   ]
  },
  {
   "attachments": {},
   "cell_type": "markdown",
   "metadata": {},
   "source": [
    "## Opdracht 2"
   ]
  },
  {
   "attachments": {},
   "cell_type": "markdown",
   "metadata": {
    "slideshow": {
     "slide_type": "fragment"
    }
   },
   "source": [
    "```python\n",
    "def chai(dist):\n",
    "    \"\"\"fn mysterie!\n",
    "    \"\"\"\n",
    "    forward(dist)\n",
    "    left(45)\n",
    "    forward(dist / 2)\n",
    "    right(45)\n",
    "\n",
    "    right(45)\n",
    "    forward(dist)\n",
    "    left(45)\n",
    "\n",
    "    left(45)\n",
    "    forward(dist / 2.0)\n",
    "    right(45)\n",
    "    backward(dist)\n",
    "```\n",
    "\n",
    "Wat is het resultaat van `chai(100)`?"
   ]
  },
  {
   "attachments": {},
   "cell_type": "markdown",
   "metadata": {},
   "source": [
    "## Opdracht 3"
   ]
  },
  {
   "attachments": {},
   "cell_type": "markdown",
   "metadata": {},
   "source": [
    "Je gaat nu een ander vertakkend voorbeeld schrijven, een boom in *zijaanzicht*. In dit geval is \"vertakken\" een heel geschikte beschrijving!\n",
    "\n",
    "Het idee is om een functie te maken die een *zijaanzicht* van een boom tekent, een *side-view tree* (vandaar `svtree`). Lees deze docstring om een idee te krijgen wat de twee argumenten betekenen. Bekijk daarna het volgende begin en de afbeeldingen daaronder:"
   ]
  },
  {
   "attachments": {},
   "cell_type": "markdown",
   "metadata": {},
   "source": [
    "```python\n",
    "def svtree(trunklength, levels):\n",
    "    \"\"\"svtree: draws a side-view tree\n",
    "       trunklength = the length of the first line drawn (\"the trunk\")\n",
    "       levels = the depth of recursion to which it continues branching\n",
    "    \"\"\"\n",
    "```"
   ]
  },
  {
   "attachments": {},
   "cell_type": "markdown",
   "metadata": {},
   "source": [
    "Voordat je begint, bekijk eerst even de volgende twee voorbeelden en de analyse van het probleem. Het eerste voorbeeld is het resultaat wanneer `svtree(128, 6)` wordt aangeroepen:\n",
    "\n",
    "![Turtle boom](images/4/turtle_3.png)\n",
    "\n",
    "Merk op dat dit duidelijk een *zij*-aanzicht is! Hier zie je een voorbeeld van een mogelijke uitvoer van `svtree(50, 2)`:\n",
    "\n",
    "![Turtle kaal](images/4/turtle_4.png)\n",
    "\n",
    "Tot slot, als `svtree(50, 0)` wordt uitgevoerd moet niets getekend worden want de *base case* treedt op als `levels` gelijk is aan 0."
   ]
  },
  {
   "attachments": {},
   "cell_type": "markdown",
   "metadata": {},
   "source": [
    "## Opdracht 4\n",
    "\n",
    "Pas de functie `svtree` (nadat deze werkt met twee takken) aan zodat ze *drie* of *meer* takken heeft, in plaats van slechts twee...\n",
    "\n",
    "-   Je krijgt heel snel een heel dicht \"bladerdak\".\n",
    "-   De resultaten worden \"levensechter\" als je ongelijke hoeken gebruikt voor de vertakkingen en ongelijke factoren voor de lengte.\n",
    "-   Je kan ook de `width` of de `color` laten afhangen van de waarde van `levels`.\n",
    "-   Als je het laatste \"niveau\" rood maakt, krijg je een appelboom.\n",
    "\n",
    "    Bekijk het voorbeeld met `dot` in de functie `tri` om nog een manier te zien om fruit toe te voegen.\n",
    "\n",
    "-   Of, als je het laatste \"niveau\" een willekeurige kleur geeft, krijg je een effect alsof het herfstbladeren zijn..."
   ]
  }
 ],
 "metadata": {
  "kernelspec": {
   "display_name": "Python 3",
   "language": "python",
   "name": "python3"
  },
  "language_info": {
   "codemirror_mode": {
    "name": "ipython",
    "version": 3
   },
   "file_extension": ".py",
   "mimetype": "text/x-python",
   "name": "python",
   "nbconvert_exporter": "python",
   "pygments_lexer": "ipython3",
   "version": "3.11.2 (tags/v3.11.2:878ead1, Feb  7 2023, 16:38:35) [MSC v.1934 64 bit (AMD64)]"
  },
  "vscode": {
   "interpreter": {
    "hash": "7321d1f7eabf315803f0fbeb0be0427ff6d045140e09c9efe7edcc325df00e23"
   }
  }
 },
 "nbformat": 4,
 "nbformat_minor": 4
}
