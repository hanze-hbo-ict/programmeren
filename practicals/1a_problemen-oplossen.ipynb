{
 "cells": [
  {
   "attachments": {},
   "cell_type": "markdown",
   "metadata": {
    "slideshow": {
     "slide_type": "slide"
    }
   },
   "source": [
    "# Doel\n",
    "\n",
    "Hoe los je een probleem op? Dat is het doel van dit werkcollege; werken aan probleem oplossend vermogen. Dit is een belangrijke skill in programmeren. Er is eerst een oplossing nodig, een idee, voordat dit geprogrammeerd kan worden. "
   ]
  },
  {
   "attachments": {},
   "cell_type": "markdown",
   "metadata": {},
   "source": [
    "Het probleem oplossen is de eerste stap van de 3 p's:\n",
    "\n",
    "- **Probeer**: Probeer het probleem op te lossen op papier.\n",
    "- **Plan**: Noteer de stappen die zijn gebruikt om het probleem op te lossen. \n",
    "- **Programmeer**: Vertaal de stappen naar een programmeer taal. "
   ]
  },
  {
   "attachments": {},
   "cell_type": "markdown",
   "metadata": {},
   "source": [
    "# Strategiën"
   ]
  },
  {
   "attachments": {},
   "cell_type": "markdown",
   "metadata": {},
   "source": [
    "De strategie dat gebruikt kan worden om een oplossing te vinden verchilt per probleem. De ene strategie past beter dan de ander. Wat wel handig is om pen en papier te gebruiken. Hier zijn er aantal:\n",
    "\n",
    "- Teken het probleem op papier. Dit werkt vooral als je met ruimtelijke vragen bezig bent.\n",
    "- Maak het probleem kleiner. Bijvoorbeeld wordt er gevraagd om een methode te verzinnen om getallen te sorteren. Inplaats van het probleem op te lossen met 100 getallen, doe het eerst met twee getallen, daarna met drie, enz.\n",
    "- Probeer alle opties uit. Deze leent zich vooral als er niet teveel verschillende input is, zoals bij een logische schakeling.\n"
   ]
  },
  {
   "attachments": {},
   "cell_type": "markdown",
   "metadata": {},
   "source": [
    "### Opdracht: Nim\n",
    "\n",
    "Nim is een spel voor twee spelers. Er liggen 16 lucifers op tafel. Om de beurten pakt een speler 1, 2 of 3 lucifers. Degene die de laatste lucifer van tafel pakt heeft gewonnen. Als de speler die als tweede gaat de juiste strategie gebruikt kan hij/zij altijd winnen. De opdracht is om in tweetallen uit te vinden wat deze win strategie is. Bedenk ook samen welke oplosstrategie hier handig kan zijn. "
   ]
  },
  {
   "attachments": {},
   "cell_type": "markdown",
   "metadata": {},
   "source": [
    "### Opdracht+: SOS\n",
    "\n",
    "Mocht je de oplossing van Nim gevonden hebben, dan je jezelf uitdagen met deze opdracht. SOS is ook een spel voor twee spelers. Het speelveld is een rij van 100 vakjes. Om de beurten zet een speler een letter 'S' of 'O' in een vakje. Het spel is voorbij zodra er 'SOS' gespeld is op het bord, de kleur van de letters maakt niet uit. Wie de laatste letter heeft neergezet wint. Ook hier geldt dat als de speler die als tweede gaat de juiste strategie gebruikt kan hij/zij altijd winnen. "
   ]
  },
  {
   "attachments": {},
   "cell_type": "markdown",
   "metadata": {},
   "source": [
    "## Logica puzzles\n",
    "\n",
    "Logische schakelingen werken met drie poorten: `and`, `or` en `not` en het resultaat is een 0 of een 1. Ook bij Booelaanse logica maak je ook gebruik van 3 operatoren genaamd `and`, `or` en `not` en zijn er maar twee resulaten mogelijk namelijk True of False. Dit wordt gebruikt binnen het programmeren om aan de computer uit te leggen welke instructies wel of niet uitgevoerd moeten worden. Het is dus handig om er mee te oefenen en dat gaan we doen aan de hand van zogenaamde Truth en Lies puzzles. Deze puzzels trainen ook nog eens het probleemoplossend vermogen. "
   ]
  },
  {
   "attachments": {},
   "cell_type": "markdown",
   "metadata": {},
   "source": [
    "Ter herhaling. "
   ]
  },
  {
   "attachments": {},
   "cell_type": "markdown",
   "metadata": {},
   "source": [
    "### `AND`\n",
    "\n",
    "|       | input | output        |\n",
    "|-------|-------|---------------|\n",
    "| **x** | **y** | **AND(x, y)** |\n",
    "|  `0`  |  `0`  |      `0`      |\n",
    "|  `0`  |  `1`  |      `0`      |\n",
    "|  `1`  |  `0`  |      `0`      |\n",
    "|  `1`  |  `1`  |      `1`      |\n",
    "\n",
    "De output van AND is 1(True) als ALLE inputs gelijk aan zijn aan 1(True)."
   ]
  },
  {
   "attachments": {},
   "cell_type": "markdown",
   "metadata": {
    "slideshow": {
     "slide_type": "subslide"
    }
   },
   "source": [
    "### ``OR``\n",
    "\n",
    "|       | input | output       |\n",
    "|-------|-------|--------------|\n",
    "| **x** | **y** | **OR(x, y)** |\n",
    "|  `0`  |  `0`  |      `0`     |\n",
    "|  `0`  |  `1`  |      `1`     |\n",
    "|  `1`  |  `0`  |      `1`     |\n",
    "|  `1`  |  `1`  |      `1`     |\n",
    "\n",
    "De output van OR is 1(True) als MINSTENS één input gelijk is aan 1(True). "
   ]
  },
  {
   "attachments": {},
   "cell_type": "markdown",
   "metadata": {},
   "source": [
    "### `NOT`\n",
    "\n",
    "| input | output     |\n",
    "|-------|------------|\n",
    "| **x** | **NOT(x)** |\n",
    "|  `0`  |     `1`    |\n",
    "|  `1`  |     `0`    |\n",
    "\n",
    "De output van NOT is de omkering van de input."
   ]
  },
  {
   "attachments": {},
   "cell_type": "markdown",
   "metadata": {},
   "source": [
    "### Voorbeeld 1. \n",
    "\n",
    "Alice, Bob en Chris komen van een eiland waar sommige mensen altijd de waarheid spreken en en de rest altijd liegt. \n",
    "\n",
    "- Alice zegt: \"Bob liegt of Alice spreekt de waarheid\". \n",
    "- Alice zegt: \"Chris spreekt de waarheid\". \n",
    "- Bob zegt: \"Chris spreekt de waarheid\". \n",
    "\n",
    "Wie spreken altijd de waarheid en wie liegen er altijd?\n"
   ]
  },
  {
   "attachments": {},
   "cell_type": "markdown",
   "metadata": {},
   "source": [
    "Dit soort raadsels lenen zich ervoor om verschillende inputs te gebruiken. \n",
    "\n",
    "Wat als Alice liegt? Dan is haar statement \"Bob liegt of Alice spreekt de waarheid.\" dus False. Dit is een `or` statement dat enkel False is als alle input False is. Dit houdt in dat 'Bob liegt' False is en dat 'Alice spreekt de waarheid' False is. Daaruit volgt dat Bob de waarheid spreekt en Alice liegt. Nu hebben we een tegenspraak, want zowel Alice als Bob zeggen dat Chris de waarheid spreekt. De aanname dat Alice liegt is dus fout\n",
    "\n",
    "Wat als Alice de waarheid spreekt?  Dan is haar statement \"Bob liegt of Alice spreekt de waarheid.\" dus True. Dit is een `or` statement dat True is als minstens 1 input True is. Dit houdt in dat of 'Bob liegt' True is of dat 'Alice spreekt de waarheid' True is of beide statements zijn True. In dit geval is 'Alice spreekt de waarheid' True en dus is de de eerste statement van Alice True. We weten alleen nog niet of Bob liegt of niet, want dat maakt voor de eerste statement nu niet meer uit. \n",
    "\n",
    "We moeten naar de volgende statement kijken van ALice; 'Chris spreekt de waarheid' Onze aanname was dat Alice de waarheid spreekt, en dus nemen we nu ook aan dat Chris de waarheid spreekt. We weten nu nog steeds niks over Bob.\n",
    "\n",
    "We moeten naar de statement van Bob kijken; 'Chris spreekt de waarheid'. Dit is waar, want we hadden aangenomen dat Chris de waarheid spreekt. Bob spreekt dus ook de waarheid.\n",
    "\n",
    "Conclusie: Alice, Bob en Chris spreken alle drie de waarheid. "
   ]
  },
  {
   "attachments": {},
   "cell_type": "markdown",
   "metadata": {},
   "source": [
    "### Voorbeeld 2\n",
    "\n",
    "Alice, Bob, Chris en Dave komen van een eiland waar sommige mensen altijd de waarheid spreken en en de rest altijd liegt. \n",
    "\n",
    "- Bob zegt: \"Alice liegt en Chris en Dave spreken de waarheid\"\n",
    "- Bob zegt: \"Dave liegt of Chris spreekt de waarheid\"\n",
    "- Bob zegt: \"Chris liegt en Alice spreekt de waarheid.\" \n",
    "\n"
   ]
  },
  {
   "attachments": {},
   "cell_type": "markdown",
   "metadata": {},
   "source": [
    "Wat als Bob de waarheid spreekt? Dan is er al snel een tegenspraak. In de eerste statement zegt Bob dat ALice liegt en in zijn derde statement zegt hij dat Alice de waaheid spreekt. Bob spreekt dus niet de waarheid. Alle drie de statements moeten False zijn.\n",
    "\n",
    "Zowel de eerste als laatste statements zijn `and` statements. Deze zijn al false zodra 1 input false is. De tweede statement is interesanter om naar te kijken. Dat is namelijk een `or` statement en die zijn enkel False als alle input False is. Dus zowel \"Dave liegt\" en \"Chris spreekt de waarheid\" zijn false. Hieruit is te concluderen dat Dave de waarheid spreekt en Chris liegt. Nu alleen nog Alice. Statement 1 gaat ons niet veel helpen. Deze is namelijk al False omdat Chris liegt en verteld dus niks over Alice. Dan blijft enkel statement 3 over: \"Chris liegt en Al\n",
    "ice spreekt de waarheid.\" en deze moet false zijn. Gezien dit een `and` statement is moet dus minstens 1 input gelijk zijn aan false. Er was al aangenomen dat Chris liegt en dus is de input \"Chris liegt\" True. Hieruit volgt dat \"Alice spreekt de waarheid\" False moet zijn. ALice liegt dus ook. \n",
    "\n",
    "Conclusie:\n",
    "Bob, Alice and Chris liegen. Enkel Dave spreekt de waarheid. "
   ]
  }
 ],
 "metadata": {
  "kernelspec": {
   "display_name": "Python 3",
   "language": "python",
   "name": "python3"
  },
  "language_info": {
   "codemirror_mode": {
    "name": "ipython",
    "version": 3
   },
   "file_extension": ".py",
   "mimetype": "text/x-python",
   "name": "python",
   "nbconvert_exporter": "python",
   "pygments_lexer": "ipython3",
   "version": "3.11.2 (tags/v3.11.2:878ead1, Feb  7 2023, 16:38:35) [MSC v.1934 64 bit (AMD64)]"
  },
  "vscode": {
   "interpreter": {
    "hash": "7321d1f7eabf315803f0fbeb0be0427ff6d045140e09c9efe7edcc325df00e23"
   }
  }
 },
 "nbformat": 4,
 "nbformat_minor": 4
}
