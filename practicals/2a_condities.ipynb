{
 "cells": [
  {
   "cell_type": "markdown",
   "metadata": {
    "slideshow": {
     "slide_type": "slide"
    }
   },
   "source": [
    "# Condities\n",
    "\n",
    "![Keuzes maken](images/1/AB-Vzw.png)"
   ]
  },
  {
   "cell_type": "markdown",
   "metadata": {
    "slideshow": {
     "slide_type": "notes"
    }
   },
   "source": [
    "Een van de eerste concepten die we nodig hebben bij het programmeren is het **conditioneel statement**, dat ons in staat stelt om onze computer te vertellen dat het een set instructies moet volgen als aan een bepaalde voorwaarde is voldaan. Elke keer dat we controleren of aan een voorwaarde wordt voldaan wordt een **test** genoemd. Deze tests slagen als aan de voorwaarde wordt voldaan (waar, of `True` zijn), en falen als de uitkomst van de test `False` is."
   ]
  },
  {
   "cell_type": "markdown",
   "metadata": {
    "slideshow": {
     "slide_type": "subslide"
    }
   },
   "source": [
    "Een keus maken in Python kan heel eenvoudig zijn...\n",
    "\n",
    "```python\n",
    "if <conditie>:\n",
    "    <doe iets>\n",
    "```"
   ]
  },
  {
   "cell_type": "markdown",
   "metadata": {
    "slideshow": {
     "slide_type": "subslide"
    },
    "tags": []
   },
   "source": [
    "## Drie mogelijkheden\n",
    "\n",
    "- `if`\n",
    "- `elif`\n",
    "- `else`"
   ]
  },
  {
   "cell_type": "markdown",
   "metadata": {
    "slideshow": {
     "slide_type": "notes"
    }
   },
   "source": [
    "Er zijn drie manieren om een conditionele statement te schrijven. `if` is verplicht en kan gecombineerd worden met `elif` en/of `else`."
   ]
  },
  {
   "cell_type": "markdown",
   "metadata": {
    "slideshow": {
     "slide_type": "subslide"
    }
   },
   "source": [
    "### `if`\n",
    "\n",
    "```python\n",
    "if cijfer > 5.5:\n",
    "    print(\"Voldoende\")\n",
    "```"
   ]
  },
  {
   "cell_type": "markdown",
   "metadata": {
    "slideshow": {
     "slide_type": "notes"
    }
   },
   "source": [
    "Als aan de conditie is voldaan dan worden de instructies uitgevoerd die ingesprongen onder `if` staan. `if` is natuurlijk Engels voor \"als\", en zo zal je meer termen in het Engels gaan tegenkomen. En let op, het gebruik van `if` is verplicht, een `elif` of `else` zonder `if` is niet geldig!"
   ]
  },
  {
   "cell_type": "markdown",
   "metadata": {
    "slideshow": {
     "slide_type": "subslide"
    },
    "tags": []
   },
   "source": [
    "### `elif`\n",
    "\n",
    "```python\n",
    "if cijfer > 7.5:\n",
    "    print(\"Goed\")\n",
    "elif cijfer > 5.5:\n",
    "    print(\"Voldoende\")\n",
    "```"
   ]
  },
  {
   "cell_type": "markdown",
   "metadata": {
    "slideshow": {
     "slide_type": "notes"
    }
   },
   "source": [
    "`elif` is een afkorting van \"else if\", of \"anders als\". Dit geeft aan dat in het geval de test boven deze faalt (de `if`, in dit geval), een nieuwe conditie zal moeten worden gecontroleerd op dezelfde manier als het `if` statement. Als aan de voorwaarde erboven (`if`) al is voldaan, dan zal de `elif` niet worden uitgevoerd."
   ]
  },
  {
   "cell_type": "markdown",
   "metadata": {
    "slideshow": {
     "slide_type": "subslide"
    }
   },
   "source": [
    "### `else`\n",
    "\n",
    "```python\n",
    "if cijfer > 7.5:\n",
    "    print(\"Goed\")\n",
    "elif cijfer > 5.5:\n",
    "    print(\"Voldoende\")\n",
    "else:\n",
    "    print(\"Onvoldoende\")\n",
    "```"
   ]
  },
  {
   "cell_type": "markdown",
   "metadata": {
    "slideshow": {
     "slide_type": "fragment"
    },
    "tags": []
   },
   "source": [
    "`else` is de laatste optie: als alle voorgaande tests mislukken, voer dan de volgende instructie(s) uit."
   ]
  },
  {
   "cell_type": "markdown",
   "metadata": {
    "slideshow": {
     "slide_type": "skip"
    }
   },
   "source": [
    "Let op: Python is zeer gevoelig voor de manier waarop je jouw code schrijft, zowel de *syntaxis* (hoe je de woorden van de taal samenvoegt tot samenhangende instructies) als de inspringing (hoe ver de tekst van de linkerkant van het scherm af staat) zijn belangrijk.\n",
    "\n",
    "Voor conditionele statements moet je ervoor zorgen dat de instructies die bij elke test horen, daar direct onder staan en vier spaties onder het `if`, `elif` of `anders` statement ingesprongen staan.\n",
    "\n",
    "We zullen het nu hebben over waarom je misschien conditionele statements wilt gebruiken, en je zult zien hoe je ze schrijft. Vervolgens nemen we enkele voorbeelden door en leggen we uit waarom ze werken. Na deze lezing zal je voorbereid zijn om het steen, papier en schaar lezing te volgen en aan het huiswerk te beginnen."
   ]
  },
  {
   "cell_type": "markdown",
   "metadata": {
    "slideshow": {
     "slide_type": "slide"
    }
   },
   "source": [
    "## Waar of niet waar\n",
    "\n",
    "`True` of `False`"
   ]
  },
  {
   "cell_type": "markdown",
   "metadata": {
    "slideshow": {
     "slide_type": "notes"
    }
   },
   "source": [
    "Een conditioneel statement maakt het mogelijk dat onze code verschillende dingen kan doen, afhankelijk van de vraag of een conditie waar of niet waar was.\n",
    "\n",
    "Dit is waarschijnlijk de meest nuttige uitdrukking die we kunnen schrijven. Als we geen condities hadden dan zou onze code elke keer weer hetzelfde doen. Dat zou een niet heel erg nuttig programma zijn.\n",
    "\n",
    "Stel je voor dat jouw e-mailprovider je altijd laat inloggen, ongeacht het wachtwoord dat je gebruikt? Conditionele statements stellen ons programma in staat om het juiste antwoord te geven, zelfs als de invoer verandert. In dit geval is het *conditionele statement*: is het ingevoerde wachtwoord gelijk aan het eerder bewaarde wachtwoord van een gebruiker? "
   ]
  },
  {
   "cell_type": "code",
   "execution_count": 1,
   "metadata": {
    "slideshow": {
     "slide_type": "subslide"
    }
   },
   "outputs": [],
   "source": [
    "temp = 22.0\n",
    "\n",
    "if temp > 35.0:\n",
    "    print(\"Heet!\")"
   ]
  },
  {
   "cell_type": "markdown",
   "metadata": {
    "slideshow": {
     "slide_type": "notes"
    }
   },
   "source": [
    "Conditionele statements stellen ons programma in staat om het juiste antwoord te geven, zelfs als de invoer verandert.\n",
    "\n",
    "Stel je bijvoorbeeld voor dat we proberen te bepalen of het buiten heet is. Als het warmer is dan 35 graden Celsius zullen we zeggen dat het heet is.\n",
    "\n",
    "Een `if`-statement is de juiste keuze voor deze code omdat we alleen willen zeggen dat het heet is als de temperatuur hoger is dan 35 graden Celsius. Op dit moment hebben we de temperatuur gedefinieerd op 22. We weten dat 22 niet groter is dan 35, dus deze test zal mislukken. Wanneer een test faalt, dan zal zijn *body* niet worden uitgevoerd.\n",
    "\n",
    "Dus deze code zal *niets* afdrukken. Onthoud, dat is wat we willen!\n",
    "\n",
    "Merk op dat de body altijd één niveau dieper ingesprongen is dan de test en dat er een dubbele punt is geschreven na de test."
   ]
  },
  {
   "cell_type": "code",
   "execution_count": 2,
   "metadata": {
    "slideshow": {
     "slide_type": "subslide"
    }
   },
   "outputs": [
    {
     "name": "stdout",
     "output_type": "stream",
     "text": [
      "Heet!\n"
     ]
    }
   ],
   "source": [
    "temp = 36.0\n",
    "\n",
    "if temp > 35.0:\n",
    "    print(\"Heet!\")"
   ]
  },
  {
   "cell_type": "markdown",
   "metadata": {
    "slideshow": {
     "slide_type": "notes"
    }
   },
   "source": [
    "Als we de temperatuur veranderen naar 36 en dan de code uitvoeren, dan wordt er 'Heet!' geprint.\n",
    "\n",
    "Wat als we ook andere temperaturen willen classificeren? Om dit te doen, moeten we twee nieuwe conditionele statements introduceren, `elif` en `else`. Laten we beginnen met `elif`."
   ]
  },
  {
   "cell_type": "code",
   "execution_count": 3,
   "metadata": {
    "slideshow": {
     "slide_type": "subslide"
    }
   },
   "outputs": [
    {
     "name": "stdout",
     "output_type": "stream",
     "text": [
      "Heet!\n"
     ]
    }
   ],
   "source": [
    "temp = 36.0\n",
    "\n",
    "if temp > 35.0:\n",
    "    print(\"Heet!\")\n",
    "elif temp > 20.0:\n",
    "    print(\"Warm\")"
   ]
  },
  {
   "cell_type": "markdown",
   "metadata": {
    "slideshow": {
     "slide_type": "notes"
    }
   },
   "source": [
    "`elif` is een combinatie van de woorden \"else\" en \"if\". Het betekent dat als de vorige test is mislukt, doe dan deze test. Om te zien hoe het werkt, laten we een voorbeeld proberen.\n",
    "\n",
    "Hier is de temperatuur nog steeds 36. Net als eerder, de eerste `if` slaagt, dus de body wordt uitgevoerd en het programma drukt 'Heet!' af.\n",
    "\n",
    "Wordt het *tweede* blok uitgevoerd? Bedenk, `elif` betekent als de eerste test mislukt, voer deze test uit. Sinds de eerste test is geslaagd, voeren we de `elif` niet meer uit, en er wordt niets meer geprint."
   ]
  },
  {
   "cell_type": "code",
   "execution_count": 4,
   "metadata": {
    "slideshow": {
     "slide_type": "subslide"
    }
   },
   "outputs": [
    {
     "name": "stdout",
     "output_type": "stream",
     "text": [
      "Warm\n"
     ]
    }
   ],
   "source": [
    "temp = 23.0\n",
    "\n",
    "if temp > 35.0:\n",
    "    print(\"Heet!\")\n",
    "elif temp > 20.0:\n",
    "    print(\"Warm\")"
   ]
  },
  {
   "cell_type": "markdown",
   "metadata": {
    "slideshow": {
     "slide_type": "notes"
    }
   },
   "source": [
    "Wat gebeurt er als we de temperatuur op 23 zetten? Dan faalt de eerste test, zodat de body niet wordt uitgevoerd.\n",
    "\n",
    "Sinds de eerste test faalde, doen we vervolgens de `elif` test. We zien dat deze test slaagt, dus deze body wordt uitgevoerd en het programma drukt 'Warm' af."
   ]
  },
  {
   "cell_type": "code",
   "execution_count": 5,
   "metadata": {
    "slideshow": {
     "slide_type": "subslide"
    }
   },
   "outputs": [
    {
     "name": "stdout",
     "output_type": "stream",
     "text": [
      "Warm\n"
     ]
    }
   ],
   "source": [
    "temp = 23.0\n",
    "\n",
    "if temp > 35.0:\n",
    "    print(\"Heet!\")\n",
    "elif temp > 20.0:\n",
    "    print(\"Warm\")\n",
    "elif temp > 10.0:\n",
    "    print(\"Koel\")\n",
    "else:\n",
    "    print(\"Brrr!\")"
   ]
  },
  {
   "cell_type": "markdown",
   "metadata": {
    "slideshow": {
     "slide_type": "notes"
    }
   },
   "source": [
    "Laten we dit programma nu voltooien met een volledig temperatuurbereik. We hebben een classificatie van 'Koel' toegevoegd voor temperaturen tussen 10 graden en 20 graden. We hebben ook een nieuwe conditie toegevoegd, het `else`-statement. Het `else`-statement betekent dat als geen van de `if`'s of `elif`'s geslaagd is, de code in het `else`-statement wordt uitgevoerd.\n",
    "\n",
    "Hier betekent dat als de temperatuur niet hoger was dan 35, 20 of 10, we 'Brrr!' afdrukken. \n",
    "Bijvoorbeeld, de temperatuur is nu 23. Dus wat drukt onze code af? De eerste test faalt, maar we slagen voor de tweede test. Dat betekent dat de body van de tweede test wordt uitgevoerd, maar geen van de andere `elif`'s  of het `else`-statement.\n",
    "\n",
    "Onze code drukt 'Warm' af en dat is wat we willen."
   ]
  },
  {
   "cell_type": "code",
   "execution_count": 6,
   "metadata": {
    "slideshow": {
     "slide_type": "subslide"
    }
   },
   "outputs": [
    {
     "name": "stdout",
     "output_type": "stream",
     "text": [
      "Brrr!\n"
     ]
    }
   ],
   "source": [
    "temp = 0.0\n",
    "\n",
    "if temp > 35.0:\n",
    "    print(\"Heet!\")\n",
    "elif temp > 20.0:\n",
    "    print(\"Warm\")\n",
    "elif temp > 10.0:\n",
    "    print(\"Koel\")\n",
    "else:\n",
    "    print(\"Brrr!\")"
   ]
  },
  {
   "cell_type": "markdown",
   "metadata": {
    "slideshow": {
     "slide_type": "notes"
    }
   },
   "source": [
    "Wat gebeurt er als de temperatuur 0 is? Dan slagen we niet voor alle `if`- en `elif`-statements, dus geen van de bodies zal worden uitgevoerd. Aangezien alle tests mislukt zijn, wordt het `else`-statement uitgevoerd. Het heeft geen test en in plaats daarvan drukt het 'Brrr' af."
   ]
  },
  {
   "cell_type": "markdown",
   "metadata": {
    "slideshow": {
     "slide_type": "slide"
    }
   },
   "source": [
    "## Mogelijke fouten\n",
    "\n",
    "- volgorde\n",
    "- uitsluiting"
   ]
  },
  {
   "cell_type": "markdown",
   "metadata": {
    "slideshow": {
     "slide_type": "notes"
    }
   },
   "source": [
    "We laten nu een paar dingen zien die fout kunnen gaan bij het schrijven van het temperatuurprogramma."
   ]
  },
  {
   "cell_type": "markdown",
   "metadata": {
    "slideshow": {
     "slide_type": "subslide"
    }
   },
   "source": [
    "### Volgorde"
   ]
  },
  {
   "cell_type": "code",
   "execution_count": 7,
   "metadata": {
    "slideshow": {
     "slide_type": "subslide"
    }
   },
   "outputs": [
    {
     "name": "stdout",
     "output_type": "stream",
     "text": [
      "Heet!\n"
     ]
    }
   ],
   "source": [
    "temp = -10.0\n",
    "\n",
    "if temp > 0.0:\n",
    "    print(\"Brrr!\")\n",
    "elif temp > 10.0:\n",
    "    print(\"Koel\")\n",
    "elif temp > 20.0:\n",
    "    print(\"Warm\")\n",
    "else:\n",
    "    print(\"Heet!\")"
   ]
  },
  {
   "cell_type": "markdown",
   "metadata": {
    "slideshow": {
     "slide_type": "notes"
    }
   },
   "source": [
    "De code die je hier ziet is een soortgelijk programma dat we eerder hebben geschreven. Maar wat gebeurt er als je de temperatuur op negatief 10 zet? Het eerder geschreven programma zal 'Brrr!' afdrukken. Echter, het programma dat je hier ziet zal 'Heet!' afdrukken!\n",
    "\n",
    "Merk op dat het niet werkt voor negatieve getallen. Maar ook een temperatuur van bijvoorbeeld 15 zal niet het gewenste resultaat geven, en zal 'Brrr!' afdrukken ..."
   ]
  },
  {
   "cell_type": "markdown",
   "metadata": {
    "slideshow": {
     "slide_type": "subslide"
    }
   },
   "source": [
    "### Uitsluiting"
   ]
  },
  {
   "cell_type": "code",
   "execution_count": 8,
   "metadata": {
    "slideshow": {
     "slide_type": "subslide"
    }
   },
   "outputs": [
    {
     "name": "stdout",
     "output_type": "stream",
     "text": [
      "Heet!\n",
      "Warm\n",
      "Koel\n"
     ]
    }
   ],
   "source": [
    "temp = 40.0\n",
    "\n",
    "if temp > 35.0:\n",
    "    print(\"Heet!\")\n",
    "\n",
    "if temp > 20.0:\n",
    "    print(\"Warm\")\n",
    "\n",
    "if temp > 10.0:\n",
    "    print(\"Koel\")"
   ]
  },
  {
   "cell_type": "markdown",
   "metadata": {
    "slideshow": {
     "slide_type": "notes"
    }
   },
   "source": [
    "Laten we eens kijken naar een andere manier om dit programma te schrijven die misschien ook niet werkt zoals we zouden willen.\n",
    "\n",
    "In plaats van een heleboel `elif`-statements te schrijven, hadden we drie `if`-statements kunnen schrijven. Maar wat gebeurt er als de temperatuur 40 graden is?\n",
    "\n",
    "In dit geval zullen alle drie de tests slagen en drie verschillende statements over de temperatuur afdrukken. Dat gebeurt omdat de `if`-statements elkaar niet uitsluiten. Als één slaagt, dan wordt de rest nog steeds getest.\n",
    "\n",
    "Dat was veel informatie, dus laten we de belangrijke concepten even kort samenvatten."
   ]
  },
  {
   "cell_type": "markdown",
   "metadata": {
    "slideshow": {
     "slide_type": "slide"
    }
   },
   "source": [
    "## Conditionele statements\n",
    "\n",
    "- één of meerdere blokken\n",
    "- alleen de geslaagde test wordt uitgevoerd"
   ]
  },
  {
   "cell_type": "markdown",
   "metadata": {
    "slideshow": {
     "slide_type": "subslide"
    }
   },
   "source": [
    "### Blokken\n",
    "\n",
    "```python\n",
    "if temp > 35.0:\n",
    "    print(\"Heet!\")\n",
    "elif temp > 20.0:\n",
    "    print(\"Warm\")\n",
    "elif temp > 10.0:\n",
    "    print(\"Koel\")\n",
    "else:\n",
    "    print(\"Brrr!\")\n",
    "```"
   ]
  },
  {
   "cell_type": "markdown",
   "metadata": {
    "slideshow": {
     "slide_type": "notes"
    }
   },
   "source": [
    "Een `if`-statement laat een programma verschillende code uitvoeren, afhankelijk van het feit of een test slaagt of niet. Het typische `if`-statement heeft één of meer blokken, en elke `if` of `elif` heeft een test. Hier tel je 4 blokken (één `if`, twee `elif`'s en een `else`)"
   ]
  },
  {
   "cell_type": "markdown",
   "metadata": {
    "slideshow": {
     "slide_type": "subslide"
    }
   },
   "source": [
    "### Handelen\n",
    "\n",
    "```python\n",
    "temp = -10.0\n",
    "\n",
    "if temp > 35.0:\n",
    "    print(\"Heet!\")\n",
    "elif temp > 20.0:\n",
    "    print(\"Warm\")\n",
    "elif temp > 10.0:\n",
    "    print(\"Koel\")\n",
    "else:\n",
    "    print(\"Brrr!\")\n",
    "```"
   ]
  },
  {
   "cell_type": "markdown",
   "metadata": {
    "slideshow": {
     "slide_type": "notes"
    }
   },
   "source": [
    "Tests worden achtereenvolgens uitgevoerd totdat één slaagt. De code die bij deze test hoort wordt uitgevoerd, en er worden verder *geen* andere tests meer uitgevoerd.\n",
    "\n",
    "Als geen enkele test slaagt, dan wordt de optionele `else` uitgevoerd.\n",
    "\n",
    "Vergeet niet dat `if` tests altijd worden uitgevoerd, terwijl `elif` en `else` tests alleen worden uitgevoerd als de vorige tests zijn mislukt."
   ]
  },
  {
   "cell_type": "markdown",
   "metadata": {
    "slideshow": {
     "slide_type": "slide"
    }
   },
   "source": [
    "## Geneste blokken\n",
    "\n",
    "![Matroesjka](images/1/matroesjka.png)"
   ]
  },
  {
   "cell_type": "markdown",
   "metadata": {
    "slideshow": {
     "slide_type": "notes"
    }
   },
   "source": [
    "Blokken kunnen worden genest en we gaan een klein experiment doen om dit te laten zien: is `elif` echt nodig?"
   ]
  },
  {
   "cell_type": "markdown",
   "metadata": {
    "slideshow": {
     "slide_type": "slide"
    }
   },
   "source": [
    "### Is `elif` nodig?"
   ]
  },
  {
   "cell_type": "code",
   "execution_count": 9,
   "metadata": {
    "slideshow": {
     "slide_type": "subslide"
    }
   },
   "outputs": [
    {
     "name": "stdout",
     "output_type": "stream",
     "text": [
      "Brrr!\n"
     ]
    }
   ],
   "source": [
    "temp = -10.0\n",
    "\n",
    "if temp > 35.0:\n",
    "    print(\"Heet!\")\n",
    "elif temp > 20.0:\n",
    "    print(\"Warm\")\n",
    "elif temp > 10.0:\n",
    "    print(\"Koel\")\n",
    "else:\n",
    "    print(\"Brrr!\")"
   ]
  },
  {
   "cell_type": "markdown",
   "metadata": {
    "slideshow": {
     "slide_type": "notes"
    }
   },
   "source": [
    "Dit is het voorbeeld dat we al eerder hebben gezien. Wat nu als `elif` niet zou bestaan, kunnen we dit ook met alleen `if` en `else` schrijven? Laten we beginnen met de eerste conditie!"
   ]
  },
  {
   "cell_type": "code",
   "execution_count": 10,
   "metadata": {
    "slideshow": {
     "slide_type": "subslide"
    }
   },
   "outputs": [
    {
     "name": "stdout",
     "output_type": "stream",
     "text": [
      "Brrr!\n"
     ]
    }
   ],
   "source": [
    "temp = -10.0\n",
    "\n",
    "if temp > 35.0:\n",
    "    print(\"Heet!\")\n",
    "else:\n",
    "    if temp > 20.0:\n",
    "        print(\"Warm\")\n",
    "    elif temp > 10.0:\n",
    "        print(\"Koel\")\n",
    "    else:\n",
    "        print(\"Brrr!\")"
   ]
  },
  {
   "cell_type": "markdown",
   "metadata": {
    "slideshow": {
     "slide_type": "notes"
    }
   },
   "source": [
    "Als de eerste conditie (`temp > 35.0`) faalt, doe dan het volgende (`else`). Dit principe gaan we herhalen voor de volgende condities, tot er geen `elif` meer over is. En hier zie je ook een eerste genest blok!"
   ]
  },
  {
   "cell_type": "code",
   "execution_count": 11,
   "metadata": {
    "slideshow": {
     "slide_type": "subslide"
    }
   },
   "outputs": [
    {
     "name": "stdout",
     "output_type": "stream",
     "text": [
      "Koel\n"
     ]
    }
   ],
   "source": [
    "temp = 15.0\n",
    "\n",
    "if temp > 35.0:\n",
    "    print(\"Heet!\")\n",
    "else:\n",
    "    if temp > 20.0:\n",
    "        print(\"Warm\")\n",
    "    else:\n",
    "        if temp > 10.0:\n",
    "            print(\"Koel\")\n",
    "        else:\n",
    "            print(\"Brrr!\")"
   ]
  },
  {
   "cell_type": "markdown",
   "metadata": {
    "slideshow": {
     "slide_type": "notes"
    }
   },
   "source": [
    "Het blijkt dat we heel goed zonder `elif` kunnen! En je ziet ook dat we langzaam de diepte ingaan, een vorm die je misschien herkent als een beslissingsboom."
   ]
  },
  {
   "cell_type": "markdown",
   "metadata": {
    "slideshow": {
     "slide_type": "subslide"
    }
   },
   "source": [
    "![Beslisboom](images/1/decision_tree.png)"
   ]
  },
  {
   "cell_type": "markdown",
   "metadata": {
    "slideshow": {
     "slide_type": "notes"
    }
   },
   "source": [
    "Waarom tóch `elif` gebruiken? `elif` is een syntactisch hulpmiddel dat het voor ons gemakkelijker maakt: met heel veel keuzes zou onze code door alle inspringen van de pagina gaan lopen!"
   ]
  },
  {
   "cell_type": "markdown",
   "metadata": {
    "slideshow": {
     "slide_type": "slide"
    }
   },
   "source": [
    "## Steen, papier en schaar\n",
    "\n",
    "![RPS](images/1/RPS-3_NL.png)"
   ]
  },
  {
   "cell_type": "markdown",
   "metadata": {
    "slideshow": {
     "slide_type": "notes"
    }
   },
   "source": [
    "Een voorbeeld waar geneste conditionele statements kunnen worden gebruikt is bij het steen, papier en schaar spel (RPS, of *rock, paper and scissors*)."
   ]
  },
  {
   "cell_type": "markdown",
   "metadata": {
    "slideshow": {
     "slide_type": "subslide"
    }
   },
   "source": [
    "```python\n",
    "comp = \"steen\"\n",
    "user = \"papier\"\n",
    "\n",
    "if comp == \"papier\" and user == \"papier\":\n",
    "    print(\"Gelijkspel. Nog een keer?\")\n",
    "elif comp == \"steen\":\n",
    "    if user == \"schaar\":\n",
    "        print(\"Ik win! *_*\")\n",
    "    else:\n",
    "        print(\"Jij wint. Aargh!\")\n",
    "```"
   ]
  },
  {
   "cell_type": "markdown",
   "metadata": {
    "slideshow": {
     "slide_type": "notes"
    }
   },
   "source": [
    "We gaan dit spel tegen de computer spelen, waar de variabele `user` jouw keus is en de variabele `comp` de keus van de computer. De vraag is nu of dit programma correct is...\n",
    "\n",
    "1. zal dit programma de juiste uitkomst printen?\n",
    "2. zal het **altijd** de juiste uitkomst printen, ook als `user` en `comp` andere waarden krijgen?\n",
    "\n",
    "Let op, je ziet hier een voorbeeld hoe je meerdere condities kan combineren door middel van `and`: de test slaagt alleen als zowel de eerste (`comp == \"papier\"`) als de tweede test (`user == \"papier\"`) correct is!"
   ]
  },
  {
   "cell_type": "markdown",
   "metadata": {
    "slideshow": {
     "slide_type": "slide"
    }
   },
   "source": [
    "## Quiz"
   ]
  },
  {
   "cell_type": "markdown",
   "metadata": {
    "slideshow": {
     "slide_type": "subslide"
    },
    "tags": []
   },
   "source": [
    "### Vraag 1\n",
    "\n",
    "```python\n",
    "comp = \"steen\"\n",
    "user = \"steen\"\n",
    "\n",
    "if comp == \"steen\":\n",
    "    if user == \"papier\":\n",
    "        print(\"Ik win *_*!\")\n",
    "    elif user == \"schaar\":\n",
    "        print(\"Jij wint.\")\n",
    "else:\n",
    "    print(\"Gelijkspel.\")\n",
    "```\n",
    "\n",
    "- wat zal dit programma printen?\n",
    "- wat zal dit programma printen als het `else` blok inspringt zodat het onderdeel wordt van de geneste `if`-`elif`?"
   ]
  },
  {
   "cell_type": "markdown",
   "metadata": {
    "slideshow": {
     "slide_type": "subslide"
    }
   },
   "source": [
    "### Vraag 2\n",
    "\n",
    "```python\n",
    "comp = \"steen\"\n",
    "user = \"steen\"\n",
    "\n",
    "if comp == \"steen\":\n",
    "    print(\"Ik win *_*!\")\n",
    "\n",
    "if user == \"papier\":\n",
    "    print(\"Jij wint.\")\n",
    "else:\n",
    "    print(\"Gelijkspel.\")\n",
    "```\n",
    "\n",
    "- zoals dit programma nu is geschreven, wat zal het printen?\n",
    "- welke waarden moeten `comp` en `user` hebben om een juist antwoord te printen?\n",
    "- hoeveel van de mogelijke 9 combinaties wordt door dit programma correct afgehandeld?"
   ]
  },
  {
   "cell_type": "markdown",
   "metadata": {
    "slideshow": {
     "slide_type": "skip"
    }
   },
   "source": [
    "\n",
    "|            | **steen** | **papier** | **schaar** |\n",
    "|------------|-----------|------------|------------|\n",
    "| **steen**  |           |            |            |\n",
    "| **papier** |           |            |            |\n",
    "| **schaar** |           |            |            |\n",
    "\n",
    "Tip, gebruik een waarheidstabel om de combinaties te noteren die dit programma correct afhandelt waar de kolommen voor de keus van de computer staan en de rijen voor de keus van de gebruiker.\n",
    "\n",
    "Je zult merken dat voor het oplossen van het steen, papier en schaar spel (en zeker als je een variant met meer dan drie opties uitwerkt!) je een `if` ... `elif` ... `else` combinatie nodig hebt. Je zal jezelf ook kunnen gaan afvragen wat de meest *efficënte* oplossing is. Zou de oplossing nog steeds even efficiënt zijn bij een spel met 15 of 25 varianten of zal je daar andere oplossingen moeten vinden?"
   ]
  },
  {
   "cell_type": "markdown",
   "metadata": {
    "slideshow": {
     "slide_type": "skip"
    }
   },
   "source": [
    "### Vraag 3\n",
    "\n",
    "Gegeven de volgende twee programma's\n",
    "\n",
    "**Programma A**\n",
    "\n",
    "```python\n",
    "perc = 0.70\n",
    "\n",
    "if perc > 0.90:\n",
    "    print(\"Uitmuntend\")\n",
    "elif perc > 0.70:\n",
    "    print(\"Goed\")\n",
    "elif perc > 0.60:\n",
    "    print(\"Voldoende\")\n",
    "else:\n",
    "    print(\"Aargh!\")\n",
    "```\n",
    "\n",
    "**Programma B**\n",
    "\n",
    "```python\n",
    "perc = 0.70\n",
    "\n",
    "if perc > 0.00:\n",
    "    print(\"Aargh!\")\n",
    "elif perc > 0.60:\n",
    "    print(\"Voldoende\")\n",
    "elif perc > 0.75:\n",
    "    print(\"Goed\")\n",
    "else:\n",
    "    print(\"Uitmuntend\")\n",
    "```\n",
    "\n",
    "Wat zal programma **A** printen?\n",
    "\n",
    "- Uitmuntend\n",
    "- Goed\n",
    "- Voldoende\n",
    "- Aargh!\n",
    "\n",
    "Wat zal programma **B** printen?\n",
    "\n",
    "- Uitmuntend\n",
    "- Goed\n",
    "- Voldoende\n",
    "- Aargh!\n",
    "\n",
    "Wat is een mogelijke waarde van `perc` zodat programma **A** \"Goed\" zal printen?"
   ]
  }
 ],
 "metadata": {
  "kernelspec": {
   "display_name": "Python 3 (ipykernel)",
   "language": "python",
   "name": "python3"
  },
  "language_info": {
   "codemirror_mode": {
    "name": "ipython",
    "version": 3
   },
   "file_extension": ".py",
   "mimetype": "text/x-python",
   "name": "python",
   "nbconvert_exporter": "python",
   "pygments_lexer": "ipython3",
   "version": "3.10.6"
  }
 },
 "nbformat": 4,
 "nbformat_minor": 4
}
