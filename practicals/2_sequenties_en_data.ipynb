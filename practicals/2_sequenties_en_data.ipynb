{
 "cells": [
  {
   "cell_type": "markdown",
   "id": "26b04745-831f-46d5-8af2-b32c2e807f33",
   "metadata": {
    "editable": true,
    "slideshow": {
     "slide_type": ""
    },
    "tags": []
   },
   "source": [
    "# Sequenties en data\n",
    "\n",
    "In deze Jupyter Notebook ga je het volgende oefenen:\n",
    "- Splitsen en gebruiken van Python data\n",
    "- Schrijven van functies, de fundamentele bouwstenen van software"
   ]
  },
  {
   "cell_type": "markdown",
   "id": "237b7450-84bb-4798-9da4-d02a3cac64ac",
   "metadata": {
    "editable": true,
    "slideshow": {
     "slide_type": ""
    },
    "tags": []
   },
   "source": [
    "## Jupyter Notebooks Introductie\n",
    "\n",
    "We gaan eerst bekend raken met de omgeving waar je veel tijd in zal doorbrengen, Jupyter Notebooks. Dit is een interactieve omgeving waar je Python code kunt schrijven en uitvoeren.\n",
    "\n",
    "In Jupyter Notebooks werk je met cellen. Er zijn twee hoofdtypes cellen: code cellen en markdown cellen. We beginnen met code cellen. Hier kun je Python code schrijven en uitvoeren. Probeer de onderstaande voorbeelden in aparte cellen:"
   ]
  },
  {
   "cell_type": "code",
   "execution_count": null,
   "id": "031c21d0-4a23-4706-bded-5cf19c9b4a2b",
   "metadata": {
    "editable": true,
    "slideshow": {
     "slide_type": ""
    },
    "tags": [
     "skip-execution"
    ]
   },
   "outputs": [],
   "source": [
    "# Voer deze cel uit\n",
    "6 * 7"
   ]
  },
  {
   "cell_type": "code",
   "execution_count": null,
   "id": "50cb8d0c-dfc2-4866-87dc-87522c523c7c",
   "metadata": {
    "editable": true,
    "slideshow": {
     "slide_type": ""
    },
    "tags": [
     "skip-execution"
    ]
   },
   "outputs": [],
   "source": [
    "# Voer deze cel uit\n",
    "_ * 2  # In notebooks verwijst '_' naar de output van de vorige cel"
   ]
  },
  {
   "cell_type": "code",
   "execution_count": null,
   "id": "a3f71226-e5ac-41d2-a3b6-63f38329b23d",
   "metadata": {
    "editable": true,
    "slideshow": {
     "slide_type": ""
    },
    "tags": [
     "skip-execution"
    ]
   },
   "outputs": [],
   "source": [
    "# Voer deze cel uit\n",
    "'6*76*7'"
   ]
  },
  {
   "cell_type": "markdown",
   "id": "3b5a9c6f-c204-47d8-9b49-9ec788e34bb2",
   "metadata": {
    "editable": true,
    "slideshow": {
     "slide_type": ""
    },
    "tags": []
   },
   "source": [
    "Geweldig! Je kunt de output van vorige cellen gebruiken in nieuwe berekeningen. De Python `eval` functie voert strings uit alsof het Python commando's zijn. Probeer `eval('6*76*7')` eens in een nieuwe cel!"
   ]
  },
  {
   "cell_type": "markdown",
   "id": "1966fcf8-1a8a-42e1-b999-c878e761f247",
   "metadata": {
    "editable": true,
    "slideshow": {
     "slide_type": ""
    },
    "tags": []
   },
   "source": [
    "## Bewerkingen met Python\n",
    "\n",
    "Probeer de volgende bewerkingen in aparte cellen:"
   ]
  },
  {
   "cell_type": "code",
   "execution_count": null,
   "id": "0ad0e33d-15d5-489e-a0ba-51e873d0f5dc",
   "metadata": {
    "editable": true,
    "slideshow": {
     "slide_type": ""
    },
    "tags": [
     "skip-execution"
    ]
   },
   "outputs": [],
   "source": [
    "# Voer deze cel uit\n",
    "40 + 2"
   ]
  },
  {
   "cell_type": "code",
   "execution_count": null,
   "id": "e86221a9-0288-4e10-95ec-9bc6aa43213f",
   "metadata": {
    "editable": true,
    "slideshow": {
     "slide_type": ""
    },
    "tags": [
     "skip-execution"
    ]
   },
   "outputs": [],
   "source": [
    "# Voer deze cel uit\n",
    "40 ** 2"
   ]
  },
  {
   "cell_type": "code",
   "execution_count": null,
   "id": "a6681c59-5083-4e7b-8e93-804705f6d90f",
   "metadata": {
    "editable": true,
    "slideshow": {
     "slide_type": ""
    },
    "tags": [
     "skip-execution"
    ]
   },
   "outputs": [],
   "source": [
    "# Voer deze cel uit\n",
    "40 % 7  # 40 \"mod\" 7: de rest van 40 gedeeld door 7"
   ]
  },
  {
   "cell_type": "code",
   "execution_count": null,
   "id": "3dca3902-1f20-4a82-a5d6-2c0f4fcca0f9",
   "metadata": {
    "editable": true,
    "slideshow": {
     "slide_type": ""
    },
    "tags": [
     "skip-execution"
    ]
   },
   "outputs": [],
   "source": [
    "# Voer deze cel uit\n",
    "40 // 11  # integerdeling: de rest wordt genegeerd"
   ]
  },
  {
   "cell_type": "code",
   "execution_count": null,
   "id": "cdf88a06-8235-4b2e-99e4-f184f6fca2f8",
   "metadata": {
    "editable": true,
    "slideshow": {
     "slide_type": ""
    },
    "tags": [
     "skip-execution"
    ]
   },
   "outputs": [],
   "source": [
    "# Voer deze cel uit\n",
    "'hi there!'  # (zie hoe beleefd Python is!)"
   ]
  },
  {
   "cell_type": "code",
   "execution_count": null,
   "id": "729deea5-46b5-4c01-98a3-12aabd303513",
   "metadata": {
    "editable": true,
    "slideshow": {
     "slide_type": ""
    },
    "tags": [
     "skip-execution"
    ]
   },
   "outputs": [],
   "source": [
    "# Voer deze cel uit\n",
    "'who are you?'  # (maar is soms wat gevoelig.)"
   ]
  },
  {
   "cell_type": "code",
   "execution_count": null,
   "id": "391244db-c885-47e8-baf9-1b89bf6910a1",
   "metadata": {
    "editable": true,
    "slideshow": {
     "slide_type": ""
    },
    "tags": [
     "skip-execution"
    ]
   },
   "outputs": [],
   "source": [
    "# Voer deze cel uit\n",
    "L = [0, 1, 2, 3]  # Je kan gegevens (in dit geval een list) een naam geven (in dit geval de naam L)"
   ]
  },
  {
   "cell_type": "code",
   "execution_count": null,
   "id": "aa8bbf96-91c3-471b-890d-dafced7aaebb",
   "metadata": {
    "editable": true,
    "slideshow": {
     "slide_type": ""
    },
    "tags": [
     "skip-execution"
    ]
   },
   "outputs": [],
   "source": [
    "# Voer deze cel uit\n",
    "L[1:]  # Je kan lijsten slicen (in dit geval de list met naam L)"
   ]
  },
  {
   "cell_type": "code",
   "execution_count": null,
   "id": "fa5f2e99-6f65-42d5-b11a-1f84857dbb05",
   "metadata": {
    "editable": true,
    "slideshow": {
     "slide_type": ""
    },
    "tags": [
     "skip-execution"
    ]
   },
   "outputs": [],
   "source": [
    "# Voer deze cel uit\n",
    "L[::-1]  # Je kan lijsten omdraaien (ook strings!) door middel van \"stap\" slicing met -1 als de stapgrootte."
   ]
  },
  {
   "cell_type": "code",
   "execution_count": null,
   "id": "444b80f4-b7a8-4e1c-ae8e-bfaee3a73e40",
   "metadata": {
    "editable": true,
    "slideshow": {
     "slide_type": ""
    },
    "tags": [
     "skip-execution"
    ]
   },
   "outputs": [],
   "source": [
    "# Voer deze cel uit\n",
    "[6, 7, 8, 9][1:]  # Je kan lijsten slicen met de lijst zelf in plaats van een naam (Dat is in dit geval niet heel handig, inderdaad!)"
   ]
  },
  {
   "cell_type": "code",
   "execution_count": null,
   "id": "8b94a5ba-9b06-4594-8dcc-543f9433799f",
   "metadata": {
    "editable": true,
    "slideshow": {
     "slide_type": ""
    },
    "tags": [
     "skip-execution"
    ]
   },
   "outputs": [],
   "source": [
    "# Voer deze cel uit\n",
    "100*L + [42]*100"
   ]
  },
  {
   "cell_type": "code",
   "execution_count": null,
   "id": "ae9f862c-ad50-44f7-a180-32f206d1062e",
   "metadata": {
    "editable": true,
    "slideshow": {
     "slide_type": ""
    },
    "tags": [
     "skip-execution"
    ]
   },
   "outputs": [],
   "source": [
    "# Voer deze cel uit\n",
    "L = 42  # Je kan een andere waarde toekennen aan de naam L, zelfs van een ander type. Nu wijst L naar de integer 42, in plaats van de list waar het eerder naar verwees"
   ]
  },
  {
   "cell_type": "code",
   "execution_count": null,
   "id": "966829f8-628d-4e06-b639-d1fa02362a22",
   "metadata": {
    "editable": true,
    "slideshow": {
     "slide_type": ""
    },
    "tags": [
     "skip-execution"
    ]
   },
   "outputs": [],
   "source": [
    "# Voer deze cel uit\n",
    "L == 42  # Eén of twee gelijktekens maakt uit! Dit _vergelijkt_ de twee waarden."
   ]
  },
  {
   "cell_type": "code",
   "execution_count": null,
   "id": "34ac0a93-063c-4186-a814-cc676211903b",
   "metadata": {
    "editable": true,
    "slideshow": {
     "slide_type": ""
    },
    "tags": [
     "skip-execution"
    ]
   },
   "outputs": [],
   "source": [
    "# Voer deze cel uit\n",
    "L != 42  # Dit test op \"ongelijkheid\""
   ]
  },
  {
   "cell_type": "markdown",
   "id": "77125bbb-433a-4aac-9588-8d0a001b0f71",
   "metadata": {
    "editable": true,
    "slideshow": {
     "slide_type": ""
    },
    "tags": []
   },
   "source": [
    "## Fouten\n",
    "\n",
    "Fouten zijn onvermijdelijk! Deze fouten worden in Python ook wel *exceptions* genoemd en één van de belangrijkste gewoontes die je hopelijk tijdens het maken van de oefeningen zult ontwikkelen is dat wanneer een fout optreedt *je dit beschouwt als een kans, en niet als een probleem*!\n",
    "\n",
    "Laten we nu fouten gaan maken, oftewel *exceptions*. Neem hier *een paar minuten* de tijd voor en probeer in deze tijd zoveel mogelijk van de onderstaande *exceptions* te veroorzaken in aparte cellen:\n",
    "\n",
    "- `NameError`: Een onbekende variabele!\n",
    "- `TypeError`: Probeer bijvoorbeeld een integer te *slicen*, of een integer bij een string op te tellen!\n",
    "- `ZeroDivisionError`: De naam geeft het misschien al aan, iets delen door 0?\n",
    "- `SyntaxError`: Fouten die katten veroorzaken als ze over een toetsenbord lopen...\n",
    "- `IndexError`: Probeer een index die buiten de grenzen van een sequentie valt (bijvoorbeeld van een list of string)\n",
    "- `OverflowError`: Bedenk dat integers niet kunnen *overflowen*, als ze te groot worden voor het geheugen dan zal Python crashen (ook een leuk experiment!). Om een `OverflowError` te kunnen genereren zal je *floating point* getallen zoals bijvoorbeeld `42.0` in een berekening moeten gebruiken. Pas bijvoorbeeld de machtsverheffingsoperator `**` toe om snel tot heel grote getallen te komen!\n",
    "\n",
    "Voer de volgende cellen uit om deze fouten te zien:"
   ]
  },
  {
   "cell_type": "code",
   "execution_count": null,
   "id": "78b02b88-f9d2-4542-a96b-13cda97a75f6",
   "metadata": {
    "editable": true,
    "slideshow": {
     "slide_type": ""
    },
    "tags": [
     "skip-execution"
    ]
   },
   "outputs": [],
   "source": [
    "# NameError\n",
    "onbekende_variabele"
   ]
  },
  {
   "cell_type": "code",
   "execution_count": null,
   "id": "654125b4-f231-4571-8be3-84c4d3b0260c",
   "metadata": {
    "editable": true,
    "slideshow": {
     "slide_type": ""
    },
    "tags": [
     "skip-execution"
    ]
   },
   "outputs": [],
   "source": [
    "# TypeError\n",
    "5 + \"2\""
   ]
  },
  {
   "cell_type": "code",
   "execution_count": null,
   "id": "6fde845f-48f4-4cbb-892d-fdfeaddf5aef",
   "metadata": {
    "editable": true,
    "slideshow": {
     "slide_type": ""
    },
    "tags": [
     "skip-execution"
    ]
   },
   "outputs": [],
   "source": [
    "# ZeroDivisionError\n",
    "10 / 0"
   ]
  },
  {
   "cell_type": "code",
   "execution_count": null,
   "id": "bc703c40-2973-4000-865d-bdb7ce301c97",
   "metadata": {
    "editable": true,
    "slideshow": {
     "slide_type": ""
    },
    "tags": [
     "skip-execution"
    ]
   },
   "outputs": [],
   "source": [
    "# SyntaxError (een kat liep over het toetsenbord?)\n",
    "2 + 2qqqqqqqqqqqqqqqqqqqqqqqqqqqqqqqqqqqqqq"
   ]
  },
  {
   "cell_type": "code",
   "execution_count": null,
   "id": "0d922d84-09c7-41dd-bc1c-2916d4a7a846",
   "metadata": {
    "editable": true,
    "slideshow": {
     "slide_type": ""
    },
    "tags": [
     "skip-execution"
    ]
   },
   "outputs": [],
   "source": [
    "# IndexError\n",
    "L = [1, 2, 3]\n",
    "L[10]"
   ]
  },
  {
   "cell_type": "code",
   "execution_count": null,
   "id": "240703c9-cf9a-41a2-8f6f-60293ea90d2e",
   "metadata": {
    "editable": true,
    "slideshow": {
     "slide_type": ""
    },
    "tags": []
   },
   "outputs": [],
   "source": [
    "# OverflowError (dit kan lastig zijn om te reproduceren)\n",
    "2.0 ** 1000"
   ]
  },
  {
   "cell_type": "markdown",
   "id": "089d8050-dd2e-4f86-a5c9-ff4a58a1fb0b",
   "metadata": {
    "editable": true,
    "slideshow": {
     "slide_type": ""
    },
    "tags": []
   },
   "source": [
    "Probeer nu zelf code te schijven om een aantal van deze fouten te maken!"
   ]
  },
  {
   "cell_type": "code",
   "execution_count": null,
   "id": "c0e3fbce-6e40-4305-a246-32d85f932e25",
   "metadata": {
    "editable": true,
    "slideshow": {
     "slide_type": ""
    },
    "tags": [
     "skip-execution"
    ]
   },
   "outputs": [],
   "source": [
    "# NameError"
   ]
  },
  {
   "cell_type": "code",
   "execution_count": null,
   "id": "2bd2aa51-8c4f-4543-9a7e-84e30e2f898d",
   "metadata": {
    "editable": true,
    "slideshow": {
     "slide_type": ""
    },
    "tags": [
     "skip-execution"
    ]
   },
   "outputs": [],
   "source": [
    "# TypeError"
   ]
  },
  {
   "cell_type": "code",
   "execution_count": null,
   "id": "151f2720-e380-4801-911a-5df9f3eb7a6d",
   "metadata": {
    "editable": true,
    "slideshow": {
     "slide_type": ""
    },
    "tags": [
     "skip-execution"
    ]
   },
   "outputs": [],
   "source": [
    "# ZeroDivisionError"
   ]
  },
  {
   "cell_type": "code",
   "execution_count": null,
   "id": "e7c46242-117a-44c1-a193-ef892d5dba08",
   "metadata": {
    "editable": true,
    "slideshow": {
     "slide_type": ""
    },
    "tags": [
     "skip-execution"
    ]
   },
   "outputs": [],
   "source": [
    "# SyntaxError"
   ]
  },
  {
   "cell_type": "code",
   "execution_count": null,
   "id": "a11f3703-ee5f-41dc-91a6-6fed015dab2c",
   "metadata": {
    "editable": true,
    "slideshow": {
     "slide_type": ""
    },
    "tags": [
     "skip-execution"
    ]
   },
   "outputs": [],
   "source": [
    "# IndexError"
   ]
  },
  {
   "cell_type": "markdown",
   "id": "cd4f2da7-eeff-41f3-ba4c-0348a9b99e80",
   "metadata": {
    "editable": true,
    "slideshow": {
     "slide_type": ""
    },
    "tags": [
     "skip-execution"
    ]
   },
   "source": [
    "## Opgaven\n",
    "\n",
    "### Lijsten maken en bewerken\n",
    "\n",
    "In deze opgave ga je een aantal lijsten maken met *alleen* maar de getallen in de lijsten `pi` en `e` met behulp van de volgende bewerkingen:\n",
    "\n",
    "-   lijsten indexeren, bijvoorbeeld `pi[0]`\n",
    "-   lijsten slicen, bijvoorbeel `e[:1]`\n",
    "-   stapsgewijs slicen, bijvoorbeeld `pi[0:6:2]`\n",
    "-   lijsten samenvoegen met `+`, bijvoorbeeld `e[0:2] + pi[-2:]`\n",
    "\n",
    "    (voor deze opgaven vragen we jou `+` *niet* te gebruiken voor het optellen van getallen)\n",
    "\n",
    ":::{admonition} Nieuwe cellen en experimenteren\n",
    ":class: info\n",
    "\n",
    "Gebruik *nieuwe cellen* voor je antwoorden (zodat het zowel voor jou als voor ons goed leesbaar blijft!).\n",
    "\n",
    "Je kunt experimenteren in nieuwe cellen, probeer bijvoorbeeld `e[0:1] + pi[0:1]` te typen in een nieuwe cel.\n",
    "\n",
    "*Als je het leuk vindt* kan je proberen zo min mogelijk bewerkingen te gebruiken om tot eenvoudige, elegante en efficiënte oplossingen te komen.\n",
    ":::\n",
    "\n",
    "Gebruik de volgende lijsten voor de opdrachten:"
   ]
  },
  {
   "cell_type": "code",
   "execution_count": null,
   "id": "d9768042-7ed0-416c-8be1-04b6d5fcd3e2",
   "metadata": {
    "editable": true,
    "slideshow": {
     "slide_type": ""
    },
    "tags": [
     "skip-execution"
    ]
   },
   "outputs": [],
   "source": [
    "# Voer deze cel uit\n",
    "e = [2, 7, 1]\n",
    "pi = [3, 1, 4, 1, 5, 9]"
   ]
  },
  {
   "cell_type": "markdown",
   "id": "5bd8284f-7bab-4f0b-b3b1-33f129231c6b",
   "metadata": {
    "editable": true,
    "slideshow": {
     "slide_type": ""
    },
    "tags": []
   },
   "source": [
    "De eerste opgave krijg je van ons, dit is een voorbeeld van hoe je de opdrachten moet maken:"
   ]
  },
  {
   "cell_type": "code",
   "execution_count": null,
   "id": "774acf73-8330-4027-8fe5-952614fac0ea",
   "metadata": {
    "editable": true,
    "slideshow": {
     "slide_type": ""
    },
    "tags": [
     "skip-execution"
    ]
   },
   "outputs": [],
   "source": [
    "# Voorbeeldopgave lists, resultaat: [2, 7, 5, 9]\n",
    "answer0 = e[0:2] + pi[-2:]\n",
    "print(answer0)"
   ]
  },
  {
   "cell_type": "markdown",
   "id": "ba000c42-f9bb-4e76-aace-13014728d0a3",
   "metadata": {
    "editable": true,
    "slideshow": {
     "slide_type": ""
    },
    "tags": []
   },
   "source": [
    "Maak nu zelf de volgende lijsten:"
   ]
  },
  {
   "cell_type": "code",
   "execution_count": null,
   "id": "c0058bf2-4efd-4cbb-bed1-3977918f8f5b",
   "metadata": {
    "editable": true,
    "slideshow": {
     "slide_type": ""
    },
    "tags": [
     "skip-execution"
    ]
   },
   "outputs": [],
   "source": [
    "# Opgave 1: Maak de lijst [7, 1]\n",
    "answer1 = # Jouw code hier\n",
    "print(answer1)"
   ]
  },
  {
   "cell_type": "code",
   "execution_count": null,
   "id": "e32438bd-cca6-4032-b211-d75db1ecc0f5",
   "metadata": {
    "editable": true,
    "slideshow": {
     "slide_type": ""
    },
    "tags": [
     "skip-execution"
    ]
   },
   "outputs": [],
   "source": [
    "# Opgave 2: Maak de lijst [1, 1, 2]\n",
    "answer2 = # Jouw code hier\n",
    "print(answer2)"
   ]
  },
  {
   "cell_type": "code",
   "execution_count": null,
   "id": "bf9c8d30-c979-46a4-9f96-4a623f923f2a",
   "metadata": {
    "editable": true,
    "slideshow": {
     "slide_type": ""
    },
    "tags": [
     "skip-execution"
    ]
   },
   "outputs": [],
   "source": [
    "# Opgave 3: Maak de lijst [1, 4, 1, 5, 9]\n",
    "answer3 = # Jouw code hier\n",
    "print(answer3)"
   ]
  },
  {
   "cell_type": "code",
   "execution_count": null,
   "id": "c28e28e9-c956-4150-a553-d75d65abdb21",
   "metadata": {
    "editable": true,
    "slideshow": {
     "slide_type": ""
    },
    "tags": [
     "skip-execution"
    ]
   },
   "outputs": [],
   "source": [
    "# Opgave 4: Maak de lijst [1, 2, 3, 4, 5]\n",
    "answer4 = # Jouw code hier\n",
    "print(answer4)"
   ]
  },
  {
   "cell_type": "markdown",
   "id": "bbe10db6-b3c4-4bb2-9cf7-6c0516916e7d",
   "metadata": {
    "editable": true,
    "slideshow": {
     "slide_type": ""
    },
    "tags": []
   },
   "source": [
    "### Strings slicen en indexeren\n",
    "\n",
    "Deze opgave is in dezelfde stijl als de vorige, maar gebruikt strings in plaats van lijsten.\n",
    "\n",
    "Je mag elke combinatie van de onderstaande vier bewerkingen gebruiken:\n",
    "\n",
    "-   strings indexeren, bijvoorbeeld `h[0]`\n",
    "-   strings slicen, bijvoorbeeld `s[1:]`\n",
    "-   strings samenvoegen met `+`, bijvoorbeeld `h + s`\n",
    "-   herhalingen met `*`, bijvoorbeeld `42*g`"
   ]
  },
  {
   "cell_type": "code",
   "execution_count": null,
   "id": "84078c19-0f16-4035-a066-d08ff7a8e7ab",
   "metadata": {
    "editable": true,
    "slideshow": {
     "slide_type": ""
    },
    "tags": [
     "skip-execution"
    ]
   },
   "outputs": [],
   "source": [
    "# Voer deze cel uit\n",
    "h = \"hanze\"\n",
    "s = \"hogeschool\"\n",
    "g = \"groningen\""
   ]
  },
  {
   "cell_type": "markdown",
   "id": "976479d9-1f27-4e36-bd5b-52642c08baf7",
   "metadata": {
    "editable": true,
    "slideshow": {
     "slide_type": ""
    },
    "tags": []
   },
   "source": [
    "De eerste opgave krijg je van ons, Gebruik `h`, `s` of `g` om de string `hoi` te maken. Bewaar de string in de variabele met naam `answer5`. Hier is de oplossing:"
   ]
  },
  {
   "cell_type": "code",
   "execution_count": null,
   "id": "96180884-b9f6-4ccd-8d3f-316be8ee778a",
   "metadata": {
    "editable": true,
    "slideshow": {
     "slide_type": ""
    },
    "tags": [
     "skip-execution"
    ]
   },
   "outputs": [],
   "source": [
    "# Opgave 5: Maak de string 'hoi'\n",
    "answer5 = s[0:2] + g[4]\n",
    "print(answer5)"
   ]
  },
  {
   "cell_type": "markdown",
   "id": "732a1734-d2a1-47d2-b059-e726d1f90c0d",
   "metadata": {
    "editable": true,
    "slideshow": {
     "slide_type": ""
    },
    "tags": []
   },
   "source": [
    "In totaal zijn 3 bewerkingen nodig, het ophalen van `ho` met `s[0:2]` (slicen), het ophalen van `i` met `g[4]` (indexeren) en vervolgens deze twee waarden samenvoegen met `+` zodat we tot `hoi` komen als nieuwe waarde.\n",
    "\n",
    ":::{admonition} Meer of minder bewerkingen\n",
    ":class: warning\n",
    "\n",
    "Bij elk van de volgende opgaven zullen we steeds aangeven wat het minimaal aantal bewerkingen is dat wij hebben kunnen vinden. Het maakt niet uit als jij meer bewerkingen nodig hebt, zolang je maar tot een *juiste oplossing* komt!\n",
    ":::\n",
    "\n",
    "Maak nu zelf de volgende strings:"
   ]
  },
  {
   "cell_type": "code",
   "execution_count": null,
   "id": "dc2b798d-6d1f-4001-8082-5a333b9a7cf5",
   "metadata": {
    "editable": true,
    "slideshow": {
     "slide_type": ""
    },
    "tags": [
     "skip-execution"
    ]
   },
   "outputs": [],
   "source": [
    "# Opgave 6: Maak de string 'schoenen' (Ons record: 4 bewerkingen)\n",
    "answer6 = # Jouw code hier\n",
    "print(answer6)"
   ]
  },
  {
   "cell_type": "code",
   "execution_count": null,
   "id": "0a21bbd1-5d80-4e12-9d44-faac6d3a04f3",
   "metadata": {
    "editable": true,
    "slideshow": {
     "slide_type": ""
    },
    "tags": [
     "skip-execution"
    ]
   },
   "outputs": [],
   "source": [
    "# Opgave 7: Maak de string 'anzeogeschool' (Ons record: 3 bewerkingen)\n",
    "answer7 = # Jouw code hier\n",
    "print(answer7)"
   ]
  },
  {
   "cell_type": "code",
   "execution_count": null,
   "id": "0d6e47f6-3b25-4205-b42b-208861c11126",
   "metadata": {
    "editable": true,
    "slideshow": {
     "slide_type": ""
    },
    "tags": [
     "skip-execution"
    ]
   },
   "outputs": [],
   "source": [
    "# Opgave 8: Maak de string 'gnagnahahahahaha' (Ons record: 7 bewerkingen)\n",
    "answer8 = # Jouw code hier\n",
    "print(answer8)"
   ]
  },
  {
   "cell_type": "code",
   "execution_count": null,
   "id": "6d4b5840-8416-4cf6-82e4-14e75f5bdb3d",
   "metadata": {
    "editable": true,
    "slideshow": {
     "slide_type": ""
    },
    "tags": [
     "skip-execution"
    ]
   },
   "outputs": [],
   "source": [
    "# Opgave 9: Maak de string 'legonoego' (Ons record: 7 bewerkingen)\n",
    "answer9 = # Jouw code hier\n",
    "print(answer9)"
   ]
  },
  {
   "cell_type": "code",
   "execution_count": null,
   "id": "497a99d1-b51e-4dc2-8716-e76ed6c1e341",
   "metadata": {
    "editable": true,
    "slideshow": {
     "slide_type": ""
    },
    "tags": [
     "skip-execution"
    ]
   },
   "outputs": [],
   "source": [
    "# Opgave 10: Maak de string 'leggings' (Ons record: 7 bewerkingen)\n",
    "answer10 = # Jouw code hier\n",
    "print(answer10)"
   ]
  },
  {
   "cell_type": "markdown",
   "id": "27c67a24-748b-4833-8872-d8ea677cd380",
   "metadata": {
    "editable": true,
    "slideshow": {
     "slide_type": ""
    },
    "tags": []
   },
   "source": [
    "Gefeliciteerd, je hebt een eerste kennismaking met notebooks voltooid!"
   ]
  }
 ],
 "metadata": {
  "kernelspec": {
   "display_name": "Python 3 (ipykernel)",
   "language": "python",
   "name": "python3"
  },
  "language_info": {
   "codemirror_mode": {
    "name": "ipython",
    "version": 3
   },
   "file_extension": ".py",
   "mimetype": "text/x-python",
   "name": "python",
   "nbconvert_exporter": "python",
   "pygments_lexer": "ipython3",
   "version": "3.12.3"
  }
 },
 "nbformat": 4,
 "nbformat_minor": 5
}
