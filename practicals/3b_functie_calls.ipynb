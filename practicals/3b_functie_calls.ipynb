{
 "cells": [
  {
   "attachments": {},
   "cell_type": "markdown",
   "metadata": {
    "slideshow": {
     "slide_type": "slide"
    }
   },
   "source": [
    "# Turtles!\n"
   ]
  },
  {
   "attachments": {},
   "cell_type": "markdown",
   "metadata": {},
   "source": [
    "## Opdracht 1\n",
    "\n"
   ]
  },
  {
   "attachments": {},
   "cell_type": "markdown",
   "metadata": {},
   "source": [
    "```python\n",
    "def main():\n",
    "    \"\"\"\n",
    "    Main functie. Roept de andere functies op om hun werk te doen. \n",
    "    \"\"\"\n",
    "    x = blaat(5) + blaat(3)\n",
    "    print(x)\n",
    "\n",
    "def testing():\n",
    "    \"\"\"\n",
    "    Test functie. Hier staan alle assertions om de functies te testen.\n",
    "    \"\"\"\n",
    "\n",
    "def blaat(x):\n",
    "    l = list(range(x))\n",
    "    return sum(l)\n",
    "\n",
    "main()\n",
    "testing()\n",
    "\n",
    "```"
   ]
  },
  {
   "attachments": {},
   "cell_type": "markdown",
   "metadata": {},
   "source": [
    "a. Wat doet de functie blaat?  \n",
    "b. Wat is de ouput van dit programma?  \n",
    "c. Gebruik de [Python Tutor](http://www.pythontutor.com/visualize.html)  om je antwoord van a en b te controleren.   \n"
   ]
  },
  {
   "attachments": {},
   "cell_type": "markdown",
   "metadata": {},
   "source": [
    "## Opdracht 2"
   ]
  },
  {
   "attachments": {},
   "cell_type": "markdown",
   "metadata": {},
   "source": [
    "a. Kopieer onderstaande code over naar een bestand genaamd 'wk3wc2.py'"
   ]
  },
  {
   "attachments": {},
   "cell_type": "markdown",
   "metadata": {},
   "source": [
    "```python\n",
    "import time\n",
    "from turtle import *\n",
    "from random import *\n",
    "\n",
    "def main():\n",
    "    \"\"\"\n",
    "    Main functie. Roept de andere functies op om hun werk te doen. \n",
    "    \"\"\"\n",
    "    tri()\n",
    "    done() # tell turtle the drawing is done.\n",
    "\n",
    "def testing():\n",
    "    \"\"\"\n",
    "    Test functie. Hier staan alle assertions om de functies te testen.\n",
    "    \"\"\"\n",
    "\n",
    "def tri():\n",
    "    \"\"\"Draws 100-pixel sides of an equilateral triangle.\n",
    "    \"\"\"\n",
    "    width(5)    # width of the line to draw\n",
    "    clr = choice(['darkgreen', 'red', 'blue'])  #choose a random color\n",
    "    color(clr)  # set the color of the line\n",
    "    shape('turtle') # set the shape of the pencil\n",
    "    dot(10, 'red')  # set the endpoints of the lines\n",
    "\n",
    "    forward(100)    #move forward\n",
    "    left(120)       #turn 120 degrees left \n",
    "    forward(100)    #move forward\n",
    "    left(120)       #turn 120 degrees left \n",
    "    forward(100)    #move forward\n",
    "    left(120)       #turn 120 degrees left \n",
    "\n",
    "\n",
    "main()\n",
    "testing()\n",
    "```"
   ]
  },
  {
   "attachments": {},
   "cell_type": "markdown",
   "metadata": {},
   "source": [
    "b. Draai het programma. Als alles goed gaat wordt er in een nieuw scherm een driehoek getekend.   \n",
    "c. Pas de functie `tri()` aan zodat het een parameter accepteert dat de lengte van zijdes van de driehoek aangeeft. Vergeet niet de docstring aan te passen.  \n",
    "d. Schrijf de functie `sq()` dat een vierkant tekent met zijdes van 100 pixels lang. De kleur en dikte van de lijn maakt niet uit. Vergeet niet in de main functie je nieuw functie aan te roepen.  \n",
    "e. Schrijf de functie `bril()` dat de onderstaande bril maakt. De kleur en dikte van de lijn maakt niet uit. Maak gebruik van je eigen `sq()` functie. (Neusbrug is 50 px)"
   ]
  },
  {
   "attachments": {},
   "cell_type": "markdown",
   "metadata": {},
   "source": [
    "![turtle glasses](images/3/glasses.png)"
   ]
  },
  {
   "attachments": {},
   "cell_type": "markdown",
   "metadata": {},
   "source": [
    "f. Gegeven de functie `art()`"
   ]
  },
  {
   "attachments": {},
   "cell_type": "markdown",
   "metadata": {},
   "source": [
    "```python\n",
    "def art():\n",
    "    bril()\n",
    "    forward(100)\n",
    "    right(90)\n",
    "    bril()\n",
    "    forward(100)\n",
    "    right(90)\n",
    "    bril()\n",
    "    forward(100)\n",
    "    right(90)\n",
    "    bril()\n",
    "    forward(100)\n",
    "    right(90)\n",
    "```"
   ]
  },
  {
   "attachments": {},
   "cell_type": "markdown",
   "metadata": {},
   "source": [
    "Voorspel wat er wordt getekend als deze functie wordt aangeroepen. "
   ]
  },
  {
   "attachments": {},
   "cell_type": "markdown",
   "metadata": {},
   "source": [
    "g. Gegeven de functie `triRec()`"
   ]
  },
  {
   "attachments": {},
   "cell_type": "markdown",
   "metadata": {},
   "source": [
    "```python\n",
    "def triRec():\n",
    "    \"\"\"Draws 100-pixel sides of an equilateral triangle.\n",
    "    \"\"\"\n",
    "    width(5)    # width of the line to draw\n",
    "    clr = choice(['darkgreen', 'red', 'blue'])  #choose a color\n",
    "    color(clr)  # set the color of the line\n",
    "    shape('turtle') # set the shape of the pencil\n",
    "    dot(10, 'red')  # set the endpoints of the lines\n",
    "\n",
    "    forward(100)    #move forward\n",
    "    left(120)       #turn 120 degrees left \n",
    "    triRec()\n",
    "```"
   ]
  },
  {
   "attachments": {},
   "cell_type": "markdown",
   "metadata": {},
   "source": [
    "Deze functie roept zichzelf op aan het einde. Voorspel wat er gebeurt als je deze functie zal aanroepen. "
   ]
  },
  {
   "attachments": {},
   "cell_type": "markdown",
   "metadata": {},
   "source": [
    "h. Voeg de functie toe aan het bestand en pas de main functie aan zodat hij wordt aangeroepen. Check of je voorspelling bij `g.` juist was. "
   ]
  },
  {
   "attachments": {},
   "cell_type": "markdown",
   "metadata": {},
   "source": [
    "## Opdracht 3"
   ]
  },
  {
   "attachments": {},
   "cell_type": "markdown",
   "metadata": {},
   "source": [
    "a. Voorspel wat onderstaande programma zal doen als het uitgevoerd wordt. "
   ]
  },
  {
   "attachments": {},
   "cell_type": "markdown",
   "metadata": {},
   "source": [
    "```python\n",
    "def test(n):\n",
    "    print(n)\n",
    "    test(n-1)\n",
    "\n",
    "test(5)\n",
    "```\n"
   ]
  },
  {
   "attachments": {},
   "cell_type": "markdown",
   "metadata": {},
   "source": [
    "b. Open de [Python Tutor](http://www.pythontutor.com/visualize.html) en kopieer het programma. Test vervolgens of je voorspelling bij `a.` juist was door stap voor stap door het programma te lopen."
   ]
  },
  {
   "attachments": {},
   "cell_type": "markdown",
   "metadata": {},
   "source": [
    "c. Voorspel wat onderstaande programma zal doen als het uitgevoerd wordt. "
   ]
  },
  {
   "attachments": {},
   "cell_type": "markdown",
   "metadata": {},
   "source": [
    "```python\n",
    "def test(n):\n",
    "    print(n)\n",
    "\n",
    "    if n == 0:\n",
    "        return\n",
    "\n",
    "    test(n-1)\n",
    "\n",
    "test(5)\n",
    "```"
   ]
  },
  {
   "attachments": {},
   "cell_type": "markdown",
   "metadata": {},
   "source": [
    "d. Herstart de [Python Tutor](http://www.pythontutor.com/visualize.html) en kopieer het programma. Test vervolgens of je voorspelling bij `c.` juist was door stap voor stap door het programma te lopen."
   ]
  },
  {
   "attachments": {},
   "cell_type": "markdown",
   "metadata": {},
   "source": [
    "In opdracht 3 heb je je eerste recursieve programma geschreven. "
   ]
  },
  {
   "attachments": {},
   "cell_type": "markdown",
   "metadata": {},
   "source": [
    "Recursie volgens wikipedia:"
   ]
  },
  {
   "attachments": {},
   "cell_type": "markdown",
   "metadata": {
    "slideshow": {
     "slide_type": "subslide"
    }
   },
   "source": [
    "![Google Recursie](images/3/google_recursie.png)"
   ]
  },
  {
   "attachments": {},
   "cell_type": "markdown",
   "metadata": {},
   "source": [
    "Google geeft een goed voorbeeld van oneindige recursie. Hoe vaak ga je op de suggestie (\"Bedoelde je: ...\") klikken?"
   ]
  },
  {
   "attachments": {},
   "cell_type": "markdown",
   "metadata": {
    "slideshow": {
     "slide_type": "subslide"
    }
   },
   "source": [
    "![Droste cacao](images/3/Droste_cacao.jpg)"
   ]
  },
  {
   "attachments": {},
   "cell_type": "markdown",
   "metadata": {
    "slideshow": {
     "slide_type": "notes"
    }
   },
   "source": [
    "Dit zal waarschijnlijk het meest bekende voorbeeld zijn van een oneindige recursie, ook wel bekend als het [Droste effect](https://nl.wikipedia.org/wiki/Droste-effect). "
   ]
  },
  {
   "attachments": {},
   "cell_type": "markdown",
   "metadata": {},
   "source": [
    "![infinite](images/3/infinite_recursion.jpg)"
   ]
  },
  {
   "attachments": {},
   "cell_type": "markdown",
   "metadata": {},
   "source": [
    "*Ergens* moet de recursie stoppen en hebben we iets van een noodstop (of *noodzakelijke* stop) nodig, het moment dat een recursieve stap niet meer mogelijk is! Dit wordt ook wel de base case genoemd. "
   ]
  },
  {
   "attachments": {},
   "cell_type": "markdown",
   "metadata": {},
   "source": [
    "In opdracht 3 was de basecase `if n == 0` Met andere woorden, als de counter 0 bereikt willen we dat de recursie stopt. De return statement zorgt ervoor dat de functie stopt en dat het dus zichzelf niet meer kan aanroepen."
   ]
  },
  {
   "attachments": {},
   "cell_type": "markdown",
   "metadata": {},
   "source": [
    "```python\n",
    "def test(n):\n",
    "    print(n)\n",
    "\n",
    "    if n == 0:\n",
    "        return\n",
    "\n",
    "    test(n-1)\n",
    "\n",
    "test(5)\n",
    "```"
   ]
  },
  {
   "attachments": {},
   "cell_type": "markdown",
   "metadata": {},
   "source": [
    "## Opdracht 4\n",
    "\n",
    "a. Vervang `triRec()` in het bestand wk3wc2.py met onderstaande code. Zet in de main functie `triRec()` (dus **zonder** parameter) om de functie aan te roepen. \n",
    "\n",
    "```python\n",
    "def triRec(n=3):\n",
    "    \"\"\"Draws 100-pixel sides of an equilateral triangle.\n",
    "    \"\"\"\n",
    "    if n == 0:\n",
    "        return\n",
    "\n",
    "    width(5)    # width of the line to draw\n",
    "    clr = choice(['darkgreen', 'red', 'blue'])  #choose a color\n",
    "    color(clr)  # set the color of the line\n",
    "    shape('turtle') # set the shape of the pencil\n",
    "    dot(10, 'red')  # set the endpoints of the lines\n",
    "\n",
    "    forward(100)    #move forward\n",
    "    left(120)       #turn 120 degrees left \n",
    "    triRec(n-1)\n",
    "```"
   ]
  },
  {
   "attachments": {},
   "cell_type": "markdown",
   "metadata": {},
   "source": [
    "De signature `triRec(n=3)` geeft aan dat als de functie `triRec` *zonder* paramater wordt aangereoepen krijgt n automatisch de waarde 3. Als de functie *met* parameter wordt aangeroepen krijgt n de meegegeven waarden. As er meerdere paramaters zijn dan is volgorde erg belangrijk. Parameters met standaard waarde staan als laatste. "
   ]
  },
  {
   "attachments": {},
   "cell_type": "markdown",
   "metadata": {},
   "source": [
    "b. Schrijf de functie `sqRec(x=4)`. Deze functie tekent een vierkant met behulp van recursie zoals in de functie `triRec(n=3)`"
   ]
  },
  {
   "attachments": {},
   "cell_type": "markdown",
   "metadata": {},
   "source": [
    "## Opdracht 5\n",
    "\n",
    "Schrijf de functie `polygoon(r, n)` waarbij r aangeeft hoeveel zijdes er getekend moet worden en n het aantal max_zijdes aangeeft. Bijvoorbeeld `polygoon(4, 4)` tekent een vierkant en `polygoon(4,6)` tekent vier zijdes van een 6 hoek. Elke zijde is 50 pixels lang.   \n",
    "\n",
    "**TIP**: Probeer, plan, programmeer.     \n",
    "Probeer: Wat is de hoekgrootte bij verschillende figuren? Hoeveel graden moet de turtle draaien?  Hoe bereken je de hoekgrootte als je enkel de hoeveelheid zijdes weet?    \n",
    "Plan: Welke stappen zijn er nodig voor het tekenen van de polygoon? Wat is de basecase?   \n",
    "Programmeer!"
   ]
  }
 ],
 "metadata": {
  "kernelspec": {
   "display_name": "Python 3",
   "language": "python",
   "name": "python3"
  },
  "language_info": {
   "codemirror_mode": {
    "name": "ipython",
    "version": 3
   },
   "file_extension": ".py",
   "mimetype": "text/x-python",
   "name": "python",
   "nbconvert_exporter": "python",
   "pygments_lexer": "ipython3",
   "version": "3.11.2 (tags/v3.11.2:878ead1, Feb  7 2023, 16:38:35) [MSC v.1934 64 bit (AMD64)]"
  },
  "vscode": {
   "interpreter": {
    "hash": "7321d1f7eabf315803f0fbeb0be0427ff6d045140e09c9efe7edcc325df00e23"
   }
  }
 },
 "nbformat": 4,
 "nbformat_minor": 4
}
