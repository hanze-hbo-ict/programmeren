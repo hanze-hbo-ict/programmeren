{
 "cells": [
  {
   "attachments": {},
   "cell_type": "markdown",
   "metadata": {
    "slideshow": {
     "slide_type": "slide"
    }
   },
   "source": [
    "# Doel\n",
    "\n",
    "Als je dan een oplossing hebt, hoe zet je dat om tot een plan?  Dat is het doel van dit werkcollege; werken aan computational thinking. De vaardigheid om een set van stappen/instructies te ontwikkelen dat een gegeven probleem kan oplossen. Dit is een belangrijke skill in programmeren. Zodra er een set van stappen is ontworpen kan het worden geprogrammeerd."
   ]
  },
  {
   "attachments": {},
   "cell_type": "markdown",
   "metadata": {},
   "source": [
    "# Beslissings boom\n",
    "Beslissingsbomen, beter bekend als behavior trees kunnen gebruikt worden om instructies visual af te beelden. Een vorm die je misschien al herkent. \n",
    "\n",
    "Neem het algoritme van Euclides wat gebruikt kan worden om de grootste gemene deler tusse twee getallen te bepalen. Euclides had ontdekt dat via een paar instructies altijd te bereken is:\n",
    "1.\tNoem het grootste van de beide getallen m, het andere n.\n",
    "2.\tDeel m door n, bereken hoeveel je overhoudt en noem dat r.\n",
    "3.\tWanneer er 0 over blijft zijn we klaar, en is n de ggd.\n",
    "4.\tZo niet, herhaal dan het algoritme met n en r.\n",
    "\n",
    "Deze instructies kunnen afgebeeld worden in een beslissingsboom. Zo wordt het heel duidelijk wat de stappen zijn.\n",
    "\n"
   ]
  },
  {
   "attachments": {},
   "cell_type": "markdown",
   "metadata": {
    "slideshow": {
     "slide_type": "subslide"
    }
   },
   "source": [
    "![Beslisboom](images/1/beslisboom.gif)"
   ]
  },
  {
   "attachments": {},
   "cell_type": "markdown",
   "metadata": {},
   "source": [
    "Met het algoritme van Euclides kan dus de ggd van 900 en 1140 berekent worden.\n",
    "De $m$ wordt 1140 en de $n$ 900. \n",
    "\n",
    "$ 1140 = 1 * 900 + 240 $\n",
    "\n",
    "De rest is 240, wat niet gelijk is aan 0 en dus moet er verder gerekent worden. Dit keer is $m$ gelijk aan 900 en $n$ gelijk aan 240. \n",
    "\n",
    "$ 900 = 3 * 240 + 180 $\n",
    "\n",
    "De rest is 180, wat niet gelijk is aan 0 en dus moet er verder gerekent worden. Dit keer is $m$ gelijk aan 240 en $n$ gelijk aan 180. \n",
    "\n",
    "$ 240 = 1 * 180 + 60 $\n",
    "\n",
    "De rest is 60, wat niet gelijk is aan 0 en dus moet er verder gerekent worden. Dit keer is $m$ gelijk aan 180 en $n$ gelijk aan 60. \n",
    "\n",
    "$ 180 = 3 * 60 + 0 $\n",
    "\n",
    "\n",
    "Nu is de rest 0, en daarmee zijn we aan het einde gekomen. We hebben bepaald dat 60 de grootste gemene deler van 900 en 1140 is.\n"
   ]
  },
  {
   "attachments": {},
   "cell_type": "markdown",
   "metadata": {},
   "source": [
    "Modulo rekenen is de kunst van het rest rekenen. Modulo is een belangrijke tool voor een programmeur, naast de andere berekeningen zoals optellen, vermenigvuldigen, etc. \n",
    "\n",
    "$ 1140 mod 900 = 240 $\n",
    "\n",
    "$ 900 mod 240 = 180 $\n",
    "\n",
    "$ 240 mod 180 = 60 $\n",
    "\n",
    "$ 180 mod 60 = 0 $\n",
    "\n"
   ]
  },
  {
   "attachments": {},
   "cell_type": "markdown",
   "metadata": {},
   "source": [
    "## State Machine\n",
    "\n",
    "Een andere methode voor het ontwerpen van programma's is het gebruik van een state machine. Deze manier leent zich er vooral voor om een probleem in kleinere problemen te hakken. Een state machine bestaat uit verschillende states en heeft altijd een begin en eind state. Tussen de states zijn overgangen die aangeven wanneer er van state verandert wordt. \n",
    "\n",
    "Neem bijvoorbeeld de spookjes van pacman. Zodra het spel begint zoeken ze naar pacman en als ze hem zien gaan ze achter hem aan . Als Pacman een powerorb pakt moeten de spookjes juist vluchten. Dit idee kan afgebeeld worden in een state machine. \n"
   ]
  },
  {
   "attachments": {},
   "cell_type": "markdown",
   "metadata": {},
   "source": [
    "![State Machine](images/1/pacmanStates.png)"
   ]
  },
  {
   "attachments": {},
   "cell_type": "markdown",
   "metadata": {},
   "source": [
    "Na het ontwerpen van een de state machine kan er nagedacht worden over hoe de losstaande problemen opgelost kunnen. Dit kan weer gedaan worden via een belissisingsboom. "
   ]
  },
  {
   "attachments": {},
   "cell_type": "markdown",
   "metadata": {},
   "source": [
    "### Opdracht 1: Instructies aan een blinde\n",
    "\n",
    "Een geblinddoekte student staat op een random locatie in een lege kamer. \n"
   ]
  },
  {
   "attachments": {},
   "cell_type": "markdown",
   "metadata": {},
   "source": [
    "![Lege Kamer](images/1/picoLegekamer.png)"
   ]
  },
  {
   "attachments": {},
   "cell_type": "markdown",
   "metadata": {},
   "source": [
    "De Student gebruikt zijn/haar handen om obstakels te kunnen voelen, in dit geval dus enkel de muren. De student weet ten alle tijden waar het noorden van de kamer ligt. Welke set instructies geef je aan de student zodat hij/zij eindig in de linkerboven hoek? Maak een beslissingsboom en/of state machine. "
   ]
  },
  {
   "attachments": {},
   "cell_type": "markdown",
   "metadata": {},
   "source": [
    "## Picobot\n",
    "\n",
    "Je hebt vast wel eens gehoord van een robot stofzuiger. Een robot die automatisch door de hele kamer om overal te stofzuigen. De meest eenvoudige stofzuiger robot heeft geen fancy sensoren om de hele kamer te scannen. Ze hebben enkel een bumper om te weten of ze ergens tegen aan rijden. Ze zijn dus steke blind en toch krijgen ze het voor elkaar de hele kamer te stofzuigen. Ons doel is om een robot zo te programmeren dat het overal komt in een lege kamer. Het programma dat we hier voor gaan gebruiken is picobot. Dit 'robotje' zeer bijziend en kan dus alleen een obstakel zien dat deze heel dichtbij is. Het is ook heel voorzichtig en zal per instructie maar 1 stap zetten. "
   ]
  },
  {
   "attachments": {},
   "cell_type": "markdown",
   "metadata": {},
   "source": [
    "![Overzicht van Picobot](images/1/pico1.png)"
   ]
  },
  {
   "attachments": {},
   "cell_type": "markdown",
   "metadata": {},
   "source": [
    "### Opdracht 2: instructies voor de picobot\n",
    "\n",
    "- **Stap 1: Proberen.** Ga op papier uitzoeken wat een efficiente manier is om een lege kamer in zijn geheeld te verkennen.\n",
    "- **Stap 2: Plan.** Maak een state machine van jou oplossing en de instructies die bij elke state horen. "
   ]
  },
  {
   "attachments": {},
   "cell_type": "markdown",
   "metadata": {},
   "source": [
    "### Opdracht 2+: instructies voor de picobot\n",
    "\n",
    "Inplaats van een lege kamer moet een picobot een doolhof in zijn geheel verkennen. \n",
    "\n",
    "![Picobot doolhof](images/1/picoDoolhof.png)\n",
    "\n",
    "- **Stap 1: Proberen.** Probeer een efficiente manier te bedenken om een doolhof te verkennen. Hoe zou jij zelf geblindoekt zo'n doolhof kunnen verkennen?\n",
    "- **Stap 2: Plan.** Maak een state machine van jou oplossing en de instructies die bij elke state horen. "
   ]
  },
  {
   "attachments": {},
   "cell_type": "markdown",
   "metadata": {},
   "source": [
    "Na het ontwerpen van een plan, in dit geval een state machine, is de volgende stap om deze daadwerkelijk te programmeren. Picobotjes spreken hun eigen taal. Het doel is dus om de instructies te vertalen zodat de picobot ze uit kan voeren."
   ]
  },
  {
   "attachments": {},
   "cell_type": "markdown",
   "metadata": {
    "slideshow": {
     "slide_type": "slide"
    },
    "tags": []
   },
   "source": [
    "# De Picobot taal\n",
    "\n",
    "Picobot ziet alleen maar ten N, E, W, en S\n",
    "\n",
    "(NOWZ? ... Noord, Oost, West, Zuid!)"
   ]
  },
  {
   "attachments": {},
   "cell_type": "markdown",
   "metadata": {
    "slideshow": {
     "slide_type": "subslide"
    }
   },
   "source": [
    "![NEWS](images/1/picobot_news.png)"
   ]
  },
  {
   "cell_type": "markdown",
   "metadata": {
    "slideshow": {
     "slide_type": "notes"
    }
   },
   "source": [
    "Picobot kan dus alleen maar ten (N) noorden, (E) oosten, (W) westen en (Z) zuiden kijken, en niet bijvoorbeeld noord-west! We gaan de volgende notatie gebruiken om de omgeving aan te duiden: **`xxxx`**. Als Picobot muren ziet dan zal het in de notatie volgens NEWS worden aangegegven, bijvoorbeeld:"
   ]
  },
  {
   "attachments": {},
   "cell_type": "markdown",
   "metadata": {
    "slideshow": {
     "slide_type": "subslide"
    }
   },
   "source": [
    "![NEWS](images/1/picobot_sample.png)\n",
    "\n",
    "**`NxWx`**"
   ]
  },
  {
   "cell_type": "markdown",
   "metadata": {},
   "source": [
    "In dit geval geven we aan dat ten (N) noorden en (W) westen zich een muur bevindt en ten oosten en zuiden lege ruimte, daar blijft **`x`** staan. De huidige omgeving kan dus worden beschrven door **`NxWx`**."
   ]
  },
  {
   "attachments": {},
   "cell_type": "markdown",
   "metadata": {
    "slideshow": {
     "slide_type": "subslide"
    }
   },
   "source": [
    "![NEWS](images/1/picobot_options.png)"
   ]
  },
  {
   "cell_type": "markdown",
   "metadata": {
    "slideshow": {
     "slide_type": "notes"
    }
   },
   "source": [
    "In totaal zijn $2^4 == 16$ combinaties van omgevingen mogelijk waar Picobot zich op een enkel moment in kan bevinden. Bedenk ook dat de situatie **`NEWS`** niet zal kunnen gebeuren!"
   ]
  },
  {
   "attachments": {},
   "cell_type": "markdown",
   "metadata": {
    "slideshow": {
     "slide_type": "slide"
    },
    "tags": []
   },
   "source": [
    "### De staat\n",
    "\n",
    "De huidige staat (\"state\") waar Picbot zich in bevindt"
   ]
  },
  {
   "attachments": {},
   "cell_type": "markdown",
   "metadata": {
    "slideshow": {
     "slide_type": "notes"
    }
   },
   "source": [
    "Picobot's geheugen is een *enkel* getal en start altijd met `0` en dit representeert de huidige staat. *Staat* en *omgeving* is alles wat de Picobot kent van de wereld!"
   ]
  },
  {
   "attachments": {},
   "cell_type": "markdown",
   "metadata": {
    "slideshow": {
     "slide_type": "subslide"
    }
   },
   "source": [
    "![NEWS](images/1/picobot_state.png)"
   ]
  },
  {
   "cell_type": "markdown",
   "metadata": {
    "slideshow": {
     "slide_type": "slide"
    },
    "tags": []
   },
   "source": [
    "### De regels\n",
    "\n",
    "Het combineren in regels van omgeving en staat om door Picobot te worden uitgevoerd "
   ]
  },
  {
   "cell_type": "markdown",
   "metadata": {
    "slideshow": {
     "slide_type": "subslide"
    }
   },
   "source": [
    "Bijvoorbeeld, twee mogelijke regels:\n",
    "\n",
    "|           | Huidige staat | Omgeving   |   Stap   | Richting | Nieuwe staat |\n",
    "|-----------|---------------|------------|:--------:|----------|--------------|\n",
    "| *regel A* |    **`0`**    | **`Nxxx`** | **`->`** |  **`S`** |    **`0`**   |\n",
    "| *regel B* |    **`0`**    | **`xxxx`** | **`->`** |  **`N`** |    **`0`**   |\n"
   ]
  },
  {
   "cell_type": "markdown",
   "metadata": {
    "slideshow": {
     "slide_type": "notes"
    }
   },
   "source": [
    "Lees een regel (bijvoorbeeld regel A) als volgt: *als* de huidige staat van Picobot `0` is en de omgeving gelijk is aan **`Nxxx`**, neem dan één stap richting (S) zuid en zet de *nieuwe* staat op `0`. \n",
    "\n",
    "Zoals je straks kunt zien zal je een regel als volgt voor Picobot kunnen schrijven (syntax):\n",
    "\n",
    "**`0 Nxxx -> S 0`**\n",
    "\n",
    "Als Picobot een stap heeft genomen zal het het alle regels weer doornemen tot het een regel ziet die overeenkomt met zijn huidige *staat* en *omgeving* en zal deze vervolgens uitvoeren."
   ]
  },
  {
   "cell_type": "markdown",
   "metadata": {
    "slideshow": {
     "slide_type": "subslide"
    }
   },
   "source": [
    "### Wildcards\n",
    "\n",
    "Een optionele aanduiding van de omgeving\n",
    "\n",
    "|           | Huidige staat | Omgeving   |   Stap   | Richting | Nieuwe staat |\n",
    "|-----------|---------------|------------|:--------:|----------|--------------|\n",
    "| *regel A* |    **`0`**    | **`x***️`** | **`->`** |  **`S`** |    **`0`**   |\n"
   ]
  },
  {
   "cell_type": "markdown",
   "metadata": {
    "slideshow": {
     "slide_type": "notes"
    }
   },
   "source": [
    "Met een asterisk (\\*) kan je aangeven dat een bepaalde richting optioneel is. In dit voorbeeld **moet** het (N) noorden leeg zijn, (O) oost, (W) west en (Z) zuid **mogen** zowel leeg als gevuld zijn."
   ]
  },
  {
   "attachments": {},
   "cell_type": "markdown",
   "metadata": {},
   "source": [
    "### Opdracht 3: De hoek in\n",
    "\n",
    "Open de Picobot simulator: [www.cs.hmc.edu/picobot](http://www.cs.hmc.edu/picobot)\n",
    "\n",
    "1. De simulator heeft een voorbeeld code. Teken het pad wat de picobot zou lopen\n",
    "2. Klik op Go. Klopt jou voorspelling met wat de picobot laat zien? Zo niet, waar ging het fout met de voorspelling?\n",
    "3. Schrijf een programma zodat de picobot naar de linkerboven hoek rijdt. "
   ]
  },
  {
   "attachments": {},
   "cell_type": "markdown",
   "metadata": {},
   "source": [
    "Je kan nu de basis picobot opdracht: 'De lege kamer' maken. Vind je het nog lastig, dan kan je oefenen met de opstap picobot opdracht: \"Rondjes rijden\". Daarnaast zijn er meerdere context vragen.: \n",
    "-  \"doolhof\". Sommige huizen hebben zoveel gangen dat het op een doolhof lijkt.\n",
    "- \"Een huis met kamers\". Een huis heeft meer dan 1 kamer en deze moeten allemaal gestofzuigd worden. \n",
    "-  \"Picobot in een woonkamer\".  Het komt zelden voor dat een woonkamer leeg staat. Het zal dus veel voorkomen dat een picobot moet werken met obstakels."
   ]
  }
 ],
 "metadata": {
  "kernelspec": {
   "display_name": "Python 3 (ipykernel)",
   "language": "python",
   "name": "python3"
  },
  "language_info": {
   "codemirror_mode": {
    "name": "ipython",
    "version": 3
   },
   "file_extension": ".py",
   "mimetype": "text/x-python",
   "name": "python",
   "nbconvert_exporter": "python",
   "pygments_lexer": "ipython3",
   "version": "3.10.6"
  },
  "vscode": {
   "interpreter": {
    "hash": "e7370f93d1d0cde622a1f8e1c04877d8463912d04d973331ad4851f04de6915a"
   }
  }
 },
 "nbformat": 4,
 "nbformat_minor": 4
}
