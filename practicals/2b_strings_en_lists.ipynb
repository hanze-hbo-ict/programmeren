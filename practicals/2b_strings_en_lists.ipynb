{
 "cells": [
  {
   "cell_type": "markdown",
   "metadata": {
    "slideshow": {
     "slide_type": "slide"
    }
   },
   "source": [
    "# Strings\n",
    "\n",
    "Tekstuele data en collecties"
   ]
  },
  {
   "attachments": {},
   "cell_type": "markdown",
   "metadata": {},
   "source": [
    "Verzamelingen van data zijn heel natuurlijk, denk bijvoorbeeld aan een reeksen van dagelijkse temperaturen (het werk van het [KNMI](https://knmi.nl/)) of verkoopcijfers van een winkel om bijvoorbeeld de maand- of jaaromzet te kunnen berekenen. De volgorde maakt in al deze gevallen uit: het heeft *betekenis*. Tekst (wat je nu leest) is een opeenvolging van karakters en het datatype om tekstuele data te representeren is een *string*. Vergelijk het met een draad waar je individuele karakters aan vast rijgt.\n"
   ]
  },
  {
   "attachments": {},
   "cell_type": "markdown",
   "metadata": {
    "slideshow": {
     "slide_type": "subslide"
    }
   },
   "source": [
    "![character string](images/2/letter_beads.jpg)"
   ]
  },
  {
   "attachments": {},
   "cell_type": "markdown",
   "metadata": {
    "slideshow": {
     "slide_type": "notes"
    }
   },
   "source": [
    "Een computer herkent een string aan dubbele of enkele quotes, zolang je maar consequent bent, bijvoorbeeld `\"hoi'` zal een syntaxfout geven!"
   ]
  },
  {
   "attachments": {},
   "cell_type": "markdown",
   "metadata": {},
   "source": [
    "```python\n",
    "a = \"123\"\n",
    "b = 123\n",
    "```"
   ]
  },
  {
   "attachments": {},
   "cell_type": "markdown",
   "metadata": {},
   "source": [
    "In bovenstaande voorbeeld is variabele a een string en variabele b een integer. Om te checken welke type een variabele is kan de functie `type()` gebruikt worden"
   ]
  },
  {
   "cell_type": "markdown",
   "metadata": {
    "slideshow": {
     "slide_type": "subslide"
    }
   },
   "source": [
    "## `str`ings: tekstuele data\n",
    "\n",
    "|                  | Voorbeeld                             |\n",
    "|------------------|---------------------------------------|\n",
    "| strings          | `s = \"hanze\"`, `c = \"hogeschool\"`     |\n",
    "| type             | `type(s)`                             |\n",
    "| lengte           | `len(s)`                              |\n",
    "| optellen         | `s + c`                               |\n",
    "| vermenigvuldigen | `2*s + 3*c`                           |\n"
   ]
  },
  {
   "cell_type": "code",
   "execution_count": 1,
   "metadata": {
    "slideshow": {
     "slide_type": "fragment"
    }
   },
   "outputs": [
    {
     "data": {
      "text/plain": [
       "str"
      ]
     },
     "execution_count": 1,
     "metadata": {},
     "output_type": "execute_result"
    }
   ],
   "source": [
    "type(\"hanzehogeschool\")"
   ]
  },
  {
   "cell_type": "markdown",
   "metadata": {
    "slideshow": {
     "slide_type": "notes"
    }
   },
   "source": [
    "Je zult zien dat je bijzonder veel met strings kan doen, van bij elkaar optellen tot vermenigvuldigen!"
   ]
  },
  {
   "attachments": {},
   "cell_type": "markdown",
   "metadata": {
    "slideshow": {
     "slide_type": "subslide"
    }
   },
   "source": [
    "Gegeven de volgende twee *strings*\n",
    "\n",
    "```python\n",
    "s1 = \"ha\"\n",
    "s2 = \"k\"\n",
    "```"
   ]
  },
  {
   "cell_type": "markdown",
   "metadata": {
    "slideshow": {
     "slide_type": "subslide"
    }
   },
   "source": [
    "Strings optellen ..."
   ]
  },
  {
   "cell_type": "code",
   "execution_count": 2,
   "metadata": {
    "slideshow": {
     "slide_type": "fragment"
    }
   },
   "outputs": [
    {
     "name": "stdout",
     "output_type": "stream",
     "text": [
      "hak\n"
     ]
    }
   ],
   "source": [
    "s1 = \"ha\"\n",
    "s2 = \"k\"\n",
    "\n",
    "print(s1 + s2)"
   ]
  },
  {
   "cell_type": "markdown",
   "metadata": {
    "slideshow": {
     "slide_type": "subslide"
    }
   },
   "source": [
    "Strings vermenigvuldigen ..."
   ]
  },
  {
   "cell_type": "code",
   "execution_count": 3,
   "metadata": {
    "slideshow": {
     "slide_type": "fragment"
    }
   },
   "outputs": [
    {
     "name": "stdout",
     "output_type": "stream",
     "text": [
      "hahakhakhak\n"
     ]
    }
   ],
   "source": [
    "s1 = \"ha\"\n",
    "s2 = \"k\"\n",
    "\n",
    "print(2*s1 + s2 + 2*(s1 + s2))"
   ]
  },
  {
   "attachments": {},
   "cell_type": "markdown",
   "metadata": {},
   "source": [
    "**Opdracht 1**: Wat is de output ?\n",
    "a."
   ]
  },
  {
   "attachments": {},
   "cell_type": "markdown",
   "metadata": {},
   "source": [
    "```python\n",
    "a = \"123\"\n",
    "print(2 * a)\n",
    "```"
   ]
  },
  {
   "attachments": {},
   "cell_type": "markdown",
   "metadata": {},
   "source": [
    "b."
   ]
  },
  {
   "attachments": {},
   "cell_type": "markdown",
   "metadata": {},
   "source": [
    "```python\n",
    "a = \"hanze\"\n",
    "b = \"Hogeschool\"\n",
    "print(2 * a + b)\n",
    "```"
   ]
  },
  {
   "attachments": {},
   "cell_type": "markdown",
   "metadata": {},
   "source": [
    "c."
   ]
  },
  {
   "attachments": {},
   "cell_type": "markdown",
   "metadata": {},
   "source": [
    "```python\n",
    "a = 123\n",
    "b = \"456\"\n",
    "print(a, b)\n",
    "```"
   ]
  },
  {
   "attachments": {},
   "cell_type": "markdown",
   "metadata": {
    "slideshow": {
     "slide_type": "slide"
    }
   },
   "source": [
    "## Lists\n",
    "\n",
    "Verzamelingen van data.\n",
    "\n",
    "```python\n",
    "M = [4, 7, 100, 42, 5, 47]\n",
    "```"
   ]
  },
  {
   "cell_type": "markdown",
   "metadata": {
    "slideshow": {
     "slide_type": "notes"
    }
   },
   "source": [
    "Net als bij strings (draden?) gebruiken we ook hier de Engelse term *lists* (en niet lijsten). Je ziet hier een lijst met 6 elementen die aan de variabele M wordt toegekend. Met de vierkante haken geef je Python aan dat je hier een list bedoelt, elementen in de lijst scheid je met komma's."
   ]
  },
  {
   "cell_type": "markdown",
   "metadata": {
    "slideshow": {
     "slide_type": "subslide"
    }
   },
   "source": [
    "### Lengte\n",
    "\n",
    "De lengte van een lijst"
   ]
  },
  {
   "cell_type": "code",
   "execution_count": 4,
   "metadata": {
    "slideshow": {
     "slide_type": "fragment"
    }
   },
   "outputs": [
    {
     "data": {
      "text/plain": [
       "6"
      ]
     },
     "execution_count": 4,
     "metadata": {},
     "output_type": "execute_result"
    }
   ],
   "source": [
    "M = [4, 7, 100, 42, 5, 47]\n",
    "\n",
    "len(M)"
   ]
  },
  {
   "cell_type": "markdown",
   "metadata": {
    "slideshow": {
     "slide_type": "notes"
    }
   },
   "source": [
    "Een list is een sequentie en net als bij een string kan je de lengte (het aantal elementen) opvragen met `len(x)`. "
   ]
  },
  {
   "cell_type": "markdown",
   "metadata": {
    "slideshow": {
     "slide_type": "subslide"
    }
   },
   "source": [
    "### Index\n",
    "\n",
    "De elementen in de lijst zijn geïndexeerd, ze hebben een vaste positie.\n",
    "\n",
    "|     |   0  |   1  |    2   |   3   |   4  |   5  |     |\n",
    "|:---:|:----:|:----:|:------:|:-----:|:----:|:----:|:---:|\n",
    "| `[` | `4`, | `7`, | `100`, | `42`, | `5`, | `47` | `]` |\n"
   ]
  },
  {
   "cell_type": "markdown",
   "metadata": {
    "slideshow": {
     "slide_type": "notes"
    }
   },
   "source": [
    "In een sequentie staat elk element op een vaste positie en we beginnen altijd te tellen vanaf 0."
   ]
  },
  {
   "cell_type": "markdown",
   "metadata": {
    "slideshow": {
     "slide_type": "subslide"
    }
   },
   "source": [
    "### Positie\n",
    "\n",
    "Het element op index positie 0 opvragen"
   ]
  },
  {
   "cell_type": "code",
   "execution_count": 5,
   "metadata": {
    "slideshow": {
     "slide_type": "fragment"
    }
   },
   "outputs": [
    {
     "data": {
      "text/plain": [
       "4"
      ]
     },
     "execution_count": 5,
     "metadata": {},
     "output_type": "execute_result"
    }
   ],
   "source": [
    "M = [4, 7, 100, 42, 5, 47]\n",
    "\n",
    "M[0]"
   ]
  },
  {
   "cell_type": "markdown",
   "metadata": {
    "slideshow": {
     "slide_type": "notes"
    }
   },
   "source": [
    "De syntax lijkt wat eigenaardig omdat je hier wéér vierkante haken moet gebruiken, deze keer achter de varabele naam om het karakter op deze positie op te vragen."
   ]
  },
  {
   "cell_type": "markdown",
   "metadata": {
    "slideshow": {
     "slide_type": "subslide"
    }
   },
   "source": [
    "### Slicing\n",
    "\n",
    "Een opeenvolgende selectie van elementen opvragen"
   ]
  },
  {
   "cell_type": "code",
   "execution_count": 6,
   "metadata": {
    "slideshow": {
     "slide_type": "fragment"
    }
   },
   "outputs": [
    {
     "data": {
      "text/plain": [
       "[4, 7, 100]"
      ]
     },
     "execution_count": 6,
     "metadata": {},
     "output_type": "execute_result"
    }
   ],
   "source": [
    "M = [4, 7, 100, 42, 5, 47]\n",
    "\n",
    "M[0:3]"
   ]
  },
  {
   "cell_type": "markdown",
   "metadata": {
    "slideshow": {
     "slide_type": "notes"
    }
   },
   "source": [
    "Slicing, alsof je een puntje uit een taart snijdt! De eerste positie is de *start* index (0), de tweede de *stop* index (3). Stop is **tot** de index (en niet *tot en met*). Slicing geeft als resultaat altijd hetzelfde type terug (een list in dit geval). We zullen straks zien dat je ook strings kan slicen en dan zal het een substring teruggeven."
   ]
  },
  {
   "cell_type": "markdown",
   "metadata": {
    "slideshow": {
     "slide_type": "subslide"
    }
   },
   "source": [
    "### Alle data\n",
    "\n",
    "Een list kan alle datatypen bevatten\n",
    "\n",
    "```python\n",
    "L = [3.14, [2, 40], 'derde', 42]\n",
    "```"
   ]
  },
  {
   "cell_type": "markdown",
   "metadata": {
    "slideshow": {
     "slide_type": "notes"
    }
   },
   "source": [
    "Let hier even op, je ziet hier een een *lijst* als element op index positie 1 en een string op positie 2. Een lijst in een lijst, wat zal `len(x)` nu tellen?"
   ]
  },
  {
   "cell_type": "code",
   "execution_count": 7,
   "metadata": {
    "slideshow": {
     "slide_type": "fragment"
    }
   },
   "outputs": [
    {
     "data": {
      "text/plain": [
       "4"
      ]
     },
     "execution_count": 7,
     "metadata": {},
     "output_type": "execute_result"
    }
   ],
   "source": [
    "L = [3.14, [2, 40], 'derde', 42]\n",
    "\n",
    "len(L)"
   ]
  },
  {
   "cell_type": "markdown",
   "metadata": {
    "slideshow": {
     "slide_type": "notes"
    }
   },
   "source": [
    "Alleen de elementen van de lijst zelf worden geteld!"
   ]
  },
  {
   "cell_type": "markdown",
   "metadata": {
    "slideshow": {
     "slide_type": "slide"
    }
   },
   "source": [
    "## Strings en indexering\n",
    "\n",
    "String indexering met `[]`"
   ]
  },
  {
   "cell_type": "markdown",
   "metadata": {},
   "source": [
    "\n",
    "| 0     | 1     | 2     | 3     | 4     |\n",
    "|-------|-------|-------|-------|-------|\n",
    "| **h** | **a** | **n** | **z** | **e** |\n"
   ]
  },
  {
   "cell_type": "markdown",
   "metadata": {
    "slideshow": {
     "slide_type": "notes"
    }
   },
   "source": [
    "Goed nieuws! Net als lists zijn strings geïndexeerd en ook hier begint tellen bij 0!"
   ]
  },
  {
   "cell_type": "markdown",
   "metadata": {
    "slideshow": {
     "slide_type": "subslide"
    }
   },
   "source": [
    "### Positie\n",
    "\n",
    "Het karakter op index positie 0 opvragen"
   ]
  },
  {
   "cell_type": "code",
   "execution_count": 8,
   "metadata": {
    "slideshow": {
     "slide_type": "fragment"
    }
   },
   "outputs": [
    {
     "data": {
      "text/plain": [
       "'h'"
      ]
     },
     "execution_count": 8,
     "metadata": {},
     "output_type": "execute_result"
    }
   ],
   "source": [
    "s = 'hanze'\n",
    "\n",
    "s[0]"
   ]
  },
  {
   "cell_type": "markdown",
   "metadata": {
    "slideshow": {
     "slide_type": "notes"
    }
   },
   "source": [
    "Exact detzelfde syntax en werking als bij lists!"
   ]
  },
  {
   "cell_type": "markdown",
   "metadata": {
    "slideshow": {
     "slide_type": "subslide"
    }
   },
   "source": [
    "### Negatieve indices\n",
    "\n",
    "Negatieve indicess tellen van achteren naar voren!\n",
    "\n",
    "\n",
    "| 0     | 1     | 2     | 3     | 4     |\n",
    "|-------|-------|-------|-------|-------|\n",
    "| **h** | **a** | **n** | **z** | **e** |\n",
    "| -5    | -4    | -3    | -2    | -1    |\n"
   ]
  },
  {
   "cell_type": "code",
   "execution_count": 9,
   "metadata": {
    "slideshow": {
     "slide_type": "fragment"
    }
   },
   "outputs": [
    {
     "data": {
      "text/plain": [
       "'h'"
      ]
     },
     "execution_count": 9,
     "metadata": {},
     "output_type": "execute_result"
    }
   ],
   "source": [
    "s = 'hanze'\n",
    "\n",
    "s[-5]"
   ]
  },
  {
   "cell_type": "markdown",
   "metadata": {
    "slideshow": {
     "slide_type": "notes"
    }
   },
   "source": [
    "Negatieve indices introduceren we nu voor strings, maar je kan misschien al raden dat dit op dezelfde manier ook bij lists werkt!"
   ]
  },
  {
   "cell_type": "markdown",
   "metadata": {
    "slideshow": {
     "slide_type": "subslide"
    }
   },
   "source": [
    "### Slicing\n",
    "\n",
    "Een substring opvragen:"
   ]
  },
  {
   "cell_type": "code",
   "execution_count": 10,
   "metadata": {
    "slideshow": {
     "slide_type": "fragment"
    }
   },
   "outputs": [
    {
     "data": {
      "text/plain": [
       "'hanze'"
      ]
     },
     "execution_count": 10,
     "metadata": {},
     "output_type": "execute_result"
    }
   ],
   "source": [
    "s = \"hanzehogeschool\"\n",
    "\n",
    "s[0:5]"
   ]
  },
  {
   "cell_type": "code",
   "execution_count": 11,
   "metadata": {
    "slideshow": {
     "slide_type": "fragment"
    }
   },
   "outputs": [
    {
     "data": {
      "text/plain": [
       "'hogeschool'"
      ]
     },
     "execution_count": 11,
     "metadata": {},
     "output_type": "execute_result"
    }
   ],
   "source": [
    "s = \"hanzehogeschool\"\n",
    "\n",
    "s[5:]"
   ]
  },
  {
   "cell_type": "markdown",
   "metadata": {
    "slideshow": {
     "slide_type": "notes"
    }
   },
   "source": [
    "Het is je misschien opgevallen dat je de \"stop\" positie leeg kan laten, Python neemt dan aan dat je tot en met het einde van de sequentie (de string in dit geval) bedoelt. Wat zou gebeuren als we de \"start\" positie ook leeg laten?"
   ]
  },
  {
   "cell_type": "code",
   "execution_count": 12,
   "metadata": {
    "slideshow": {
     "slide_type": "subslide"
    }
   },
   "outputs": [
    {
     "data": {
      "text/plain": [
       "'hanzehogeschool'"
      ]
     },
     "execution_count": 12,
     "metadata": {},
     "output_type": "execute_result"
    }
   ],
   "source": [
    "s = \"hanzehogeschool\"\n",
    "\n",
    "s[:]"
   ]
  },
  {
   "cell_type": "markdown",
   "metadata": {},
   "source": [
    "De substring is in dit geval de hele string! Python vult voor jou het begin en einde in op bais van de lengte van de string. Bedenk dat dit een *kopie* van de string is, denk hier terug aan geheugenadressen: de waarden zijn hetzelfde, maar de identiteit is anders. Probeer dit zelf en vergelijk `id(s)` met `id(s[:])`. "
   ]
  },
  {
   "cell_type": "markdown",
   "metadata": {
    "slideshow": {
     "slide_type": "subslide"
    }
   },
   "source": [
    "### Stappen\n",
    "\n",
    "Met hoeveel stappen door de sequentie lopen (*skip-slicing*)\n",
    "\n",
    "```text\n",
    "[start:stop:step]\n",
    "```"
   ]
  },
  {
   "cell_type": "markdown",
   "metadata": {
    "slideshow": {
     "slide_type": "notes"
    }
   },
   "source": [
    "Standaard is de stap 1, dat wil zeggen, neem steeds 1 stap voor het volgend element dat we in de selectie zouden willen hebben. "
   ]
  },
  {
   "cell_type": "code",
   "execution_count": 13,
   "metadata": {
    "slideshow": {
     "slide_type": "fragment"
    }
   },
   "outputs": [
    {
     "data": {
      "text/plain": [
       "'hanzehogeschool'"
      ]
     },
     "execution_count": 13,
     "metadata": {},
     "output_type": "execute_result"
    }
   ],
   "source": [
    "s = 'hanzehogeschool'\n",
    "\n",
    "s[::1]"
   ]
  },
  {
   "cell_type": "markdown",
   "metadata": {
    "slideshow": {
     "slide_type": "subslide"
    }
   },
   "source": [
    "Twee stappen per keer:"
   ]
  },
  {
   "cell_type": "code",
   "execution_count": 14,
   "metadata": {
    "slideshow": {
     "slide_type": "fragment"
    }
   },
   "outputs": [
    {
     "data": {
      "text/plain": [
       "'hneoecol'"
      ]
     },
     "execution_count": 14,
     "metadata": {},
     "output_type": "execute_result"
    }
   ],
   "source": [
    "s = 'hanzehogeschool'\n",
    "\n",
    "s[::2]"
   ]
  },
  {
   "cell_type": "markdown",
   "metadata": {
    "slideshow": {
     "slide_type": "subslide"
    }
   },
   "source": [
    "### Achteruit lopen\n",
    "\n",
    "Stappen kunnen ook negatief zijn!"
   ]
  },
  {
   "cell_type": "code",
   "execution_count": 15,
   "metadata": {
    "slideshow": {
     "slide_type": "fragment"
    }
   },
   "outputs": [
    {
     "data": {
      "text/plain": [
       "'loohcsegoheznah'"
      ]
     },
     "execution_count": 15,
     "metadata": {},
     "output_type": "execute_result"
    }
   ],
   "source": [
    "s = 'hanzehogeschool'\n",
    "\n",
    "s[::-1]"
   ]
  },
  {
   "cell_type": "markdown",
   "metadata": {
    "slideshow": {
     "slide_type": "notes"
    }
   },
   "source": [
    "Als je goed oplet zie je dat we met een negatieve stap de string hebben omgedraaid! Python gebruikers willen graag opscheppen met deze \"truc\" om een string om te draaien en misschien hebben ze wel gelijk!"
   ]
  },
  {
   "cell_type": "markdown",
   "metadata": {},
   "source": [
    "#### Opgelet\n",
    "\n",
    "Let op: bij een negatieve staprichting moet de start- en stopindex omgekeerd zijn!"
   ]
  },
  {
   "cell_type": "code",
   "execution_count": 16,
   "metadata": {
    "slideshow": {
     "slide_type": "fragment"
    }
   },
   "outputs": [
    {
     "data": {
      "text/plain": [
       "'loohcs'"
      ]
     },
     "execution_count": 16,
     "metadata": {},
     "output_type": "execute_result"
    }
   ],
   "source": [
    "s = 'hanzehogeschool'\n",
    "\n",
    "s[14:8:-1]"
   ]
  },
  {
   "cell_type": "markdown",
   "metadata": {
    "slideshow": {
     "slide_type": "notes"
    }
   },
   "source": [
    "Omdat de staprichting wijzigt, wijzigt ook op welke index moet worden begonnen en tot welke index moet worden gelopen."
   ]
  },
  {
   "attachments": {},
   "cell_type": "markdown",
   "metadata": {
    "slideshow": {
     "slide_type": "slide"
    }
   },
   "source": [
    "**Opdracht 2**"
   ]
  },
  {
   "attachments": {},
   "cell_type": "markdown",
   "metadata": {
    "slideshow": {
     "slide_type": "subslide"
    }
   },
   "source": [
    "\n",
    "```python\n",
    "pi = [3, 1, 4, 1, 5, 9]\n",
    "\n",
    "L = ['pi', \"isn't\", [4,2]]\n",
    "```\n",
    "\n",
    "1. Wat is `len(pi)`?\n",
    "2. Wat is `len(L)`?\n",
    "3. Wat is `len(L[1])`?\n",
    "4. Wat is `pi[2:4]`?\n",
    "5. Welk puntje (\"slice\") `pi` is gelijk aan `[3,1,4]`? (hint, neem het aantal elementen als stop waarde)\n",
    "6. Welk puntje `pi` is `[3,4,5]`?"
   ]
  },
  {
   "attachments": {},
   "cell_type": "markdown",
   "metadata": {
    "slideshow": {
     "slide_type": "subslide"
    }
   },
   "source": [
    "**Opdracht 3**\n",
    "\n",
    "```python\n",
    "L = ['pi', \"isn't\", [4,2]]\n",
    "\n",
    "M = 'You need parentheses for chemistry !'\n",
    "#    0   4   8   12  16  20  24  28  32\n",
    "```\n",
    "\n",
    "1. Wat is `L[0]`?\n",
    "2. Wat is `L[0][1]`?\n",
    "3. Wat is `L[0:1]`?\n",
    "6. Wat is `M[9:15]`?\n",
    "7. Wat is `M[::5]`?\n",
    "4. Welk puntje M is `'try'`?\n",
    "5. Welk puntje M is `'shoe'`?\n"
   ]
  },
  {
   "attachments": {},
   "cell_type": "markdown",
   "metadata": {
    "slideshow": {
     "slide_type": "subslide"
    }
   },
   "source": [
    "**Opdracht 4**\n",
    "\n",
    "```python\n",
    "pi = [3, 1, 4, 1, 5, 9]\n",
    "```\n",
    "\n",
    "1. Wat is `pi[0] * (pi[1] + pi[2])`?\n",
    "2. Wat is `pi[0] * (pi[1:2] + pi[2:3])`?\n",
    "3. Hoe krijg je `[3,4,5,3,4,5]`?"
   ]
  },
  {
   "cell_type": "markdown",
   "metadata": {
    "slideshow": {
     "slide_type": "subslide"
    }
   },
   "source": [
    "## `max` of `min`\n",
    "\n",
    "De niet subtiele kunst van het uitzoeken van het beste (en slechtste) van alles: `>` of `<`"
   ]
  },
  {
   "cell_type": "code",
   "execution_count": null,
   "metadata": {
    "slideshow": {
     "slide_type": "fragment"
    }
   },
   "outputs": [
    {
     "data": {
      "text/plain": [
       "True"
      ]
     },
     "metadata": {},
     "output_type": "display_data"
    }
   ],
   "source": [
    "\"m&m's\" > \"koffie\""
   ]
  },
  {
   "cell_type": "code",
   "execution_count": null,
   "metadata": {
    "slideshow": {
     "slide_type": "fragment"
    }
   },
   "outputs": [
    {
     "data": {
      "text/plain": [
       "True"
      ]
     },
     "metadata": {},
     "output_type": "display_data"
    }
   ],
   "source": [
    "[0, 42] < [4, 2]"
   ]
  },
  {
   "cell_type": "code",
   "execution_count": null,
   "metadata": {
    "slideshow": {
     "slide_type": "fragment"
    }
   },
   "outputs": [
    {
     "data": {
      "text/plain": [
       "True"
      ]
     },
     "metadata": {},
     "output_type": "display_data"
    }
   ],
   "source": [
    "[0, \"m&m's\"] < [4, \"koffie\"]"
   ]
  },
  {
   "attachments": {},
   "cell_type": "markdown",
   "metadata": {
    "slideshow": {
     "slide_type": "subslide"
    }
   },
   "source": [
    "### `str`ings to the `max`\n",
    "\n",
    "Zowel bij Strings als bij lists kiest Python het *eerste* element voor vergelijkingen. Zijn deze aan elkaar gelijk, dan vergelijkt python de volgende twee elementen. Een leeg element is altijd kleiner. "
   ]
  },
  {
   "cell_type": "code",
   "execution_count": null,
   "metadata": {
    "slideshow": {
     "slide_type": "fragment"
    }
   },
   "outputs": [
    {
     "data": {
      "text/plain": [
       "True"
      ]
     },
     "metadata": {},
     "output_type": "display_data"
    }
   ],
   "source": [
    "\"w\" > \"e\""
   ]
  },
  {
   "attachments": {},
   "cell_type": "markdown",
   "metadata": {
    "slideshow": {
     "slide_type": "notes"
    }
   },
   "source": [
    "Intuïtief zou je denken dat dit een vergelijking is op basis van de positie in het alfabet. Hoe verder in het alfabet, hoe hoger de waarde van de letter."
   ]
  },
  {
   "cell_type": "code",
   "execution_count": null,
   "metadata": {
    "slideshow": {
     "slide_type": "fragment"
    }
   },
   "outputs": [
    {
     "data": {
      "text/plain": [
       "True"
      ]
     },
     "metadata": {},
     "output_type": "display_data"
    }
   ],
   "source": [
    "\"Emily\" > \"Misja\""
   ]
  },
  {
   "attachments": {},
   "cell_type": "markdown",
   "metadata": {},
   "source": [
    "`M` ligt verder in het alfabet dan `E` en dus is de statement false."
   ]
  },
  {
   "cell_type": "code",
   "execution_count": null,
   "metadata": {
    "slideshow": {
     "slide_type": "fragment"
    }
   },
   "outputs": [
    {
     "data": {
      "text/plain": [
       "True"
      ]
     },
     "metadata": {},
     "output_type": "display_data"
    }
   ],
   "source": [
    "\"Mug\" > \"Muis\""
   ]
  },
  {
   "attachments": {},
   "cell_type": "markdown",
   "metadata": {},
   "source": [
    "De eerste letters (`M`) zijn gelijk aan elkaar, er wordt dan gekeken naar de twee letters.  \n",
    "De tweede letters (`u`) zijn ook gelijk aan elkaar, er wordt dan gekeken naar de derde letters\n",
    "De derde letters zijn niet gelijk aan elkaar. `i` ligt verder in het alfebet dan `g` en dus is de statement false. "
   ]
  },
  {
   "attachments": {},
   "cell_type": "markdown",
   "metadata": {},
   "source": [
    "**Opdracht 5**\n",
    "True or false?\n",
    "\n",
    "```python\n",
    "a. [4,2] > [42]\n",
    "b. \"hoi\" > \"doei\"\n",
    "c. \"eten\" > \"werken\"\n",
    "d. \"Haard\" < \"Huis\"\n",
    "e. \"F\" < \"Fiets\"\n",
    "f. [4, \"m&m's\"] < [1, \"koffie\"]\n",
    "```"
   ]
  }
 ],
 "metadata": {
  "kernelspec": {
   "display_name": "Python 3",
   "language": "python",
   "name": "python3"
  },
  "language_info": {
   "codemirror_mode": {
    "name": "ipython",
    "version": 3
   },
   "file_extension": ".py",
   "mimetype": "text/x-python",
   "name": "python",
   "nbconvert_exporter": "python",
   "pygments_lexer": "ipython3",
   "version": "3.11.2 (tags/v3.11.2:878ead1, Feb  7 2023, 16:38:35) [MSC v.1934 64 bit (AMD64)]"
  },
  "vscode": {
   "interpreter": {
    "hash": "7321d1f7eabf315803f0fbeb0be0427ff6d045140e09c9efe7edcc325df00e23"
   }
  }
 },
 "nbformat": 4,
 "nbformat_minor": 4
}
