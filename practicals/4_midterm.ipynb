{
 "cells": [
  {
   "attachments": {},
   "cell_type": "markdown",
   "metadata": {
    "slideshow": {
     "slide_type": "slide"
    }
   },
   "source": [
    "# Reading code\n",
    "\n"
   ]
  },
  {
   "attachments": {},
   "cell_type": "markdown",
   "metadata": {},
   "source": [
    "# Opdracht 1"
   ]
  },
  {
   "attachments": {},
   "cell_type": "markdown",
   "metadata": {},
   "source": [
    "Welke error geeft onderstaande code?"
   ]
  },
  {
   "attachments": {},
   "cell_type": "markdown",
   "metadata": {},
   "source": [
    "```python\n",
    "def function(x):\n",
    "\n",
    "    print(x[0])\n",
    "\n",
    "    if len(x) == 0:\n",
    "        return\n",
    "    \n",
    "    function(x[:-1])\n",
    "\n",
    "function(\"Hanze\")\n",
    "```"
   ]
  },
  {
   "attachments": {},
   "cell_type": "markdown",
   "metadata": {},
   "source": [
    "# Opdracht 2"
   ]
  },
  {
   "attachments": {},
   "cell_type": "markdown",
   "metadata": {},
   "source": [
    "Wat is de output van onderstaande programma?"
   ]
  },
  {
   "attachments": {},
   "cell_type": "markdown",
   "metadata": {},
   "source": [
    "```python\n",
    "def function(x):\n",
    "    if len(x) == 0:\n",
    "        return\n",
    "    function(x[:-1])    \n",
    "    print(x[-1])\n",
    "\n",
    "function(\"Hanze\")\n",
    "```"
   ]
  },
  {
   "attachments": {},
   "cell_type": "markdown",
   "metadata": {},
   "source": [
    "# Opdracht 3"
   ]
  },
  {
   "attachments": {},
   "cell_type": "markdown",
   "metadata": {},
   "source": [
    "Gegeven de volgende regels aan code"
   ]
  },
  {
   "attachments": {},
   "cell_type": "markdown",
   "metadata": {},
   "source": [
    "```python\n",
    "1.\tdef function(x,y,z):\n",
    "2.\t    if y == z:\n",
    "3.\t        return\n",
    "4.\t    \n",
    "5.\t    function(x, y+1, z)    \n",
    "6.\t\n",
    "7.\tfunction(\"x\", 2, 5)\n",
    "```"
   ]
  },
  {
   "attachments": {},
   "cell_type": "markdown",
   "metadata": {},
   "source": [
    "Welke print statement moet er op regel 4 komen om de volgende output te generen?\n",
    "\n",
    "```ipython\n",
    "  xxxx  \n",
    " xxxxxx  \n",
    "xxxxxxxx\n",
    "```"
   ]
  },
  {
   "attachments": {},
   "cell_type": "markdown",
   "metadata": {},
   "source": [
    "# Opdracht 4"
   ]
  },
  {
   "attachments": {},
   "cell_type": "markdown",
   "metadata": {},
   "source": [
    "Wat is de output van onderstaande programma?"
   ]
  },
  {
   "attachments": {},
   "cell_type": "markdown",
   "metadata": {},
   "source": [
    "```python\n",
    "def main():\n",
    "    x = [1,7,3,8,9,5]\n",
    "    function(x)\n",
    "    print(x)\n",
    "\n",
    "def function(x):\n",
    "    if len(x) <= 1:\n",
    "        return\n",
    "    x[0] = function2(x[0], x[1])\n",
    "    function(x[1:])\n",
    "\n",
    "def function2(x, y):\n",
    "    if x < y:\n",
    "        return x\n",
    "    return y\n",
    "\n",
    "main()\n",
    "```"
   ]
  }
 ],
 "metadata": {
  "kernelspec": {
   "display_name": "Python 3 (ipykernel)",
   "language": "python",
   "name": "python3"
  },
  "language_info": {
   "codemirror_mode": {
    "name": "ipython",
    "version": 3
   },
   "file_extension": ".py",
   "mimetype": "text/x-python",
   "name": "python",
   "nbconvert_exporter": "python",
   "pygments_lexer": "ipython3",
   "version": "3.10.6"
  }
 },
 "nbformat": 4,
 "nbformat_minor": 4
}
