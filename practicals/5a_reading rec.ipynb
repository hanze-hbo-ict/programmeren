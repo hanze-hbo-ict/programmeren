{
 "cells": [
  {
   "attachments": {},
   "cell_type": "markdown",
   "metadata": {
    "slideshow": {
     "slide_type": "slide"
    }
   },
   "source": [
    "# Reading code\n",
    "\n"
   ]
  },
  {
   "attachments": {},
   "cell_type": "markdown",
   "metadata": {},
   "source": [
    "Onderstaande opdrachten gaan over het lezen van recursieve functies. Als het programma werkt, wat is dan de output? Als de functie niet werkt, geef dan aan waarom het niet werkt. Gebruik **geen** interpreter!"
   ]
  },
  {
   "attachments": {},
   "cell_type": "markdown",
   "metadata": {},
   "source": [
    "# Opdracht 1"
   ]
  },
  {
   "attachments": {},
   "cell_type": "markdown",
   "metadata": {},
   "source": [
    "```python\n",
    "def blaat(x):\n",
    "    if len(x) == 0:\n",
    "        return\n",
    "    print(x[0])\n",
    "    blaat(x[1:])    \n",
    "\n",
    "\n",
    "blaat(\"Hanze\")\n",
    "```"
   ]
  },
  {
   "attachments": {},
   "cell_type": "markdown",
   "metadata": {},
   "source": [
    "# Opdracht 2"
   ]
  },
  {
   "attachments": {},
   "cell_type": "markdown",
   "metadata": {},
   "source": [
    "```python\n",
    "def blaat(x):\n",
    "    if len(x) == 0:\n",
    "        return\n",
    "    print(x[0])\n",
    "    return 1 + blaat(x[1:])    \n",
    "\n",
    "\n",
    "blaat(\"Hanze\")\n",
    "```"
   ]
  },
  {
   "attachments": {},
   "cell_type": "markdown",
   "metadata": {},
   "source": [
    "# Opdracht 3"
   ]
  },
  {
   "attachments": {},
   "cell_type": "markdown",
   "metadata": {},
   "source": [
    "```python\n",
    "def blaat(x):\n",
    "    if x == 0:\n",
    "        return 0\n",
    "    return 1 * blaat(x-1)    \n",
    "\n",
    "\n",
    "assert blaat(3) == 6\n",
    "assert blaat(5) == 120\n",
    "```"
   ]
  },
  {
   "attachments": {},
   "cell_type": "markdown",
   "metadata": {},
   "source": [
    "# Opdracht 4"
   ]
  },
  {
   "attachments": {},
   "cell_type": "markdown",
   "metadata": {},
   "source": [
    "```python\n",
    "def main():\n",
    "    numbers = [1,2,3,4,5,6,7,8,9,0]\n",
    "    l = blaat(numbers)\n",
    "    print(l)\n",
    "\n",
    "def blaat(l):\n",
    "    if len(l) == 0:\n",
    "        return 0\n",
    "    if l[0] % 2 == 0:\n",
    "        return l[0] + blaat(l[1:])\n",
    "    else:  \n",
    "        return blaat(l[1:])\n",
    "\n",
    "main()\n",
    "```"
   ]
  },
  {
   "attachments": {},
   "cell_type": "markdown",
   "metadata": {},
   "source": [
    "# Opdracht 5"
   ]
  },
  {
   "attachments": {},
   "cell_type": "markdown",
   "metadata": {},
   "source": [
    "```python\n",
    "def main():\n",
    "    numbers = [1,2,3,4,5,6,7,8,9,0]\n",
    "    l = blaat(numbers)\n",
    "    print(l)\n",
    "\n",
    "def blaat(l):\n",
    "    if len(l) == 0:\n",
    "        return 0\n",
    "    if l[0] % 2 == 0:\n",
    "        return [l[0]] + blaat(l[1:])\n",
    "\n",
    "    return blaat(l[1:])\n",
    "\n",
    "main()\n",
    "```"
   ]
  },
  {
   "attachments": {},
   "cell_type": "markdown",
   "metadata": {},
   "source": [
    "# Opdracht 6"
   ]
  },
  {
   "attachments": {},
   "cell_type": "markdown",
   "metadata": {},
   "source": [
    "```python\n",
    "def main():\n",
    "    r = blaat(8)\n",
    "    print(r)\n",
    "\n",
    "def blaat(l):\n",
    "    if l == 0:\n",
    "        return [0]\n",
    "    return [l * 5] + blaat(l-1)\n",
    "\n",
    "main()\n",
    "```"
   ]
  },
  {
   "attachments": {},
   "cell_type": "markdown",
   "metadata": {},
   "source": [
    "# Opdracht 7"
   ]
  },
  {
   "attachments": {},
   "cell_type": "markdown",
   "metadata": {},
   "source": [
    "```python\n",
    "from random import *\n",
    "\n",
    "def main():\n",
    "    guess(44)\n",
    "\n",
    "\n",
    "def guess(hidden):\n",
    "    \"\"\"De computer raadt een geheim getal\n",
    "    \"\"\"\n",
    "    comp_guess = choice(list(range(10))) \n",
    "    \n",
    "    if comp_guess == hidden:\n",
    "        print(\"Gevonden!\")\n",
    "    else:      \n",
    "        guess(hidden)\n",
    "\n",
    "main()\n",
    "```"
   ]
  },
  {
   "attachments": {},
   "cell_type": "markdown",
   "metadata": {},
   "source": [
    "# Opdracht 8"
   ]
  },
  {
   "attachments": {},
   "cell_type": "markdown",
   "metadata": {},
   "source": [
    "```python\n",
    "\n",
    "def main():\n",
    "    print(blaat(\"test\"))\n",
    "\n",
    "\n",
    "def test():\n",
    "    assert blaat(\"test\") == False\n",
    "    assert blaat(\"racecar\") == True\n",
    "\n",
    "def blaat(l):\n",
    "    if len(l) == 0:\n",
    "        return True\n",
    "    if l[0] != l[-1]:\n",
    "        return False\n",
    "    else:\n",
    "        blaat(l[1:len(l)])\n",
    "\n",
    "main()\n",
    "```"
   ]
  },
  {
   "attachments": {},
   "cell_type": "markdown",
   "metadata": {},
   "source": [
    "# Opdracht 9"
   ]
  },
  {
   "attachments": {},
   "cell_type": "markdown",
   "metadata": {},
   "source": [
    "\n",
    "```python\n",
    "def main():\n",
    "    print(blaat(\"test\"))\n",
    "\n",
    "def blaat(s):\n",
    "    if len(s) <= 1:\n",
    "        return s\n",
    "    else:\n",
    "        return s[0] * len(s) + blaat(s[1:])\n",
    "main()\n",
    "```"
   ]
  },
  {
   "attachments": {},
   "cell_type": "markdown",
   "metadata": {},
   "source": [
    "# Opdracht 10"
   ]
  },
  {
   "attachments": {},
   "cell_type": "markdown",
   "metadata": {},
   "source": [
    "\n",
    "\n",
    "```python\n",
    "def main():\n",
    "    numbers = [1,2,3,4,5,6,7,8,9,0]\n",
    "    print(blaat(2, numbers))\n",
    "\n",
    "def blaat(n, L):\n",
    "    if len(L) == 0:\n",
    "        return []\n",
    "    elif L[0] % n == 0:\n",
    "        return [L[0]] + blaat(n-1, L)\n",
    "    else:\n",
    "        return blaat(n-1, L)\n",
    "main()\n",
    "```"
   ]
  }
 ],
 "metadata": {
  "kernelspec": {
   "display_name": "Python 3 (ipykernel)",
   "language": "python",
   "name": "python3"
  },
  "language_info": {
   "codemirror_mode": {
    "name": "ipython",
    "version": 3
   },
   "file_extension": ".py",
   "mimetype": "text/x-python",
   "name": "python",
   "nbconvert_exporter": "python",
   "pygments_lexer": "ipython3",
   "version": "3.10.6"
  }
 },
 "nbformat": 4,
 "nbformat_minor": 4
}
