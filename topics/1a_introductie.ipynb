{
 "cells": [
  {
   "cell_type": "markdown",
   "metadata": {
    "slideshow": {
     "slide_type": "slide"
    }
   },
   "source": [
    "# Wat is informatica"
   ]
  },
  {
   "cell_type": "markdown",
   "metadata": {
    "slideshow": {
     "slide_type": "notes"
    }
   },
   "source": [
    "Voordat we beginnen moeten we iets zeggen over informatica. Wat denk je dat informatica is?\n",
    "\n",
    "Veel mensen denken dat het *programmeren* of gewoon *leren coderen* is.\n",
    "\n",
    "Hoewel dit belangrijke onderdelen binnen informatica zijn, en zeker ook belangrijke hulpmiddelen voor het helpen oplossen van problemen waar we in geïnteresseerd zijn, is informatica zo veel meer dan alleen maar programmeren."
   ]
  },
  {
   "cell_type": "markdown",
   "metadata": {
    "slideshow": {
     "slide_type": "subslide"
    }
   },
   "source": [
    "## Oplossen van problemen\n",
    "\n",
    "-   Hoe kan een probleem worden opgelost\n",
    "-   Hoe goed kan een probleem worden opgelost\n",
    "-   Kan elk probleeem worden opgelost"
   ]
  },
  {
   "cell_type": "markdown",
   "metadata": {
    "slideshow": {
     "slide_type": "notes"
    }
   },
   "source": [
    "Als het gaat over het oplossen van problemen wil informatica deze *drie* belangrijke vragen proberen te beantwoorden."
   ]
  },
  {
   "cell_type": "markdown",
   "metadata": {
    "slideshow": {
     "slide_type": "slide"
    }
   },
   "source": [
    "## Hoe kan een probleem worden opgelost\n",
    "\n",
    "- Kan je het probleem oplossen?\n",
    "- Kan je een proces ontwerpen om dit soort problemen op te lossen?"
   ]
  },
  {
   "cell_type": "markdown",
   "metadata": {
    "slideshow": {
     "slide_type": "notes"
    }
   },
   "source": [
    "Computers zijn goed in het volgen van instructies. Dat betekent dat als jij een aantal instructies kan bedenken die altijd een bepaald soort probleem kan oplossen, deze instructies waarschijnlijk ook kunnen worden omgezet in een computerprogramma.\n",
    "\n",
    "Bijvoorbeeld: het Longest Common Subsequence (LCS) probleem voor het zoeken naar de langste opeenvolging van karakters die twee woorden met elkaar gemeen hebben."
   ]
  },
  {
   "cell_type": "markdown",
   "metadata": {
    "slideshow": {
     "slide_type": "subslide"
    }
   },
   "source": [
    "### Longest Common Subsequence (LCS)\n",
    "\n",
    "Het string-matching probleem in biologie:\n",
    "\n",
    "- 'HUMAN'\n",
    "- 'CHIMPANZEE'\n",
    "\n",
    "Wat is de langst *gemeenschappelijke opeenvolging* van karakters?\n"
   ]
  },
  {
   "cell_type": "markdown",
   "metadata": {
    "slideshow": {
     "slide_type": "notes"
    }
   },
   "source": [
    "Het vergelijken van stukken tekst en zoeken naar overeenkomsten (string-matching).\n",
    "\n",
    "Welke opeenvolging van karakters hebben deze twee woorden met elkaar gemeen? Je zult redelijk snel zien dat 'AN' de langst gemeenschappelijke opeenvolging van karakters is.\n",
    "\n",
    "Zou je ook kunnen beschrijven *hoe* je tot de oplossing bent gekomen?"
   ]
  },
  {
   "cell_type": "markdown",
   "metadata": {
    "slideshow": {
     "slide_type": "subslide"
    }
   },
   "source": [
    "- 'CGCTGAGCTAGGCC...'\n",
    "- 'ATCCTAGGTAACTG...' (en $10^9$ meer!)"
   ]
  },
  {
   "cell_type": "markdown",
   "metadata": {
    "slideshow": {
     "slide_type": "notes"
    }
   },
   "source": [
    "In biologie is dit een werkelijk probleem waar het gaat om het vergelijken van DNA-sequenties.\n",
    "\n",
    "Denk even terug aan het vorige (eenvoudige) voorbeeld en hoe je tot de oplossing bent gekomen (de stappen, het proces).\n",
    "\n",
    "Zou je dit ook kunnen toepassen op een opeenvolging van drie miljard karakters?\n",
    "\n",
    "We spreken hier over een proces als een aantal opeenvolgende stappen die moet worden genomen om tot de oplossing van een probleem te komen. Je kan dit vergelijken met een recept: welke handelingen moeten worden toegepast op de ingrediënten (input) om tot en een appeltaart (output) te komen. In informatica gebruiken we hier het woord *algoritme* voor."
   ]
  },
  {
   "cell_type": "markdown",
   "metadata": {
    "slideshow": {
     "slide_type": "slide"
    }
   },
   "source": [
    "## Hoe goed kan een probleem worden opgelost\n",
    "\n",
    "- Hoe snel kan je de oplossingen vinden?\n",
    "- Is jouw oplossing de best mogelijke oplossing?"
   ]
  },
  {
   "cell_type": "markdown",
   "metadata": {
    "slideshow": {
     "slide_type": "notes"
    }
   },
   "source": [
    "Soms kunnen we een manier vinden om een probleem op te lossen, maar is het te traag. Het zal je misschien verbazen dat we ons zorgen moeten maken over snelheid, zeker nu computers zo snel zijn, maar er zijn problemen die zo groot dat we ons zorgen moeten maken over hoe snel het programma is.\n",
    "\n",
    "Natuurlijk kan het ook zo zijn dat we een oplossing vinden, maar het misschien niet de beste oplossing is.\n",
    "\n",
    "Bijvoorbeeld: wat is nodig om $N$ sterren te simuleren."
   ]
  },
  {
   "cell_type": "markdown",
   "metadata": {
    "slideshow": {
     "slide_type": "subslide"
    }
   },
   "source": [
    "### Het N-body probleem\n",
    "\n",
    "De interactie tussen hemellichamen\n",
    "\n",
    "- het effect van zwaartekracht\n",
    "\n",
    "We weten inmiddels hoe de aarde en de maan elkaars gedrag beïnvloeden ($N=2$)"
   ]
  },
  {
   "cell_type": "markdown",
   "metadata": {
    "slideshow": {
     "slide_type": "notes"
    }
   },
   "source": [
    "Hoewel het hier specifiek gaat over zwaartekracht geldt in het algemeen het bepalen van interactie-effecten ook bijvoorbeeld op atomair niveau. Het $N=2$ probleem kan analytisch worden opgelost, bij $N=3$ wordt dit al anders en is een bekend probleem in de astrofysica (het [drie hemellichamen](https://www.volkskrant.nl/wetenschap/astrofysici-opgetogen-over-nieuwe-rekenvondst-supercomputer-enorme-stap-in-eeuwenoud-vraagstuk~b0ca9663/) probleem). Laten we eens naar ons sterrenstelsel kijken ..."
   ]
  },
  {
   "cell_type": "markdown",
   "metadata": {
    "slideshow": {
     "slide_type": "subslide"
    }
   },
   "source": [
    "### De Melkweg\n",
    "\n",
    "100 - 400 miljard sterren ($N=10^{11}$, of meer ...)\n",
    "\n",
    "Wat is nodig om $N$ aantal sterren te simuleren?"
   ]
  },
  {
   "cell_type": "markdown",
   "metadata": {
    "slideshow": {
     "slide_type": "subslide"
    }
   },
   "source": [
    "Hoe goed kan een probleem worden opgelost:\n",
    "\n",
    "- Hoe snel kan je oplossingen vinden?\n",
    "- Is jouw oplossing de best mogelijke oplossing?"
   ]
  },
  {
   "cell_type": "markdown",
   "metadata": {
    "slideshow": {
     "slide_type": "notes"
    }
   },
   "source": [
    "Als we te maken hebben met zéér grote hoeveelheden data, zijn de oplossingen (algoritmen) die we hebben bedacht voor kleinere hoeveelheden nog steeds van toepassing? Bijvoorbeeld, is de tijd of rekenkracht die nodig is acceptabel of zijn betere oplossingen mogelijk?"
   ]
  },
  {
   "cell_type": "markdown",
   "metadata": {
    "slideshow": {
     "slide_type": "slide"
    }
   },
   "source": [
    "## Kan elk probleeem worden opgelost\n",
    "\n",
    "- Is elk probleem op te lossen?\n",
    "- Hoe weet je of het kan worden opgelost?"
   ]
  },
  {
   "cell_type": "markdown",
   "metadata": {
    "slideshow": {
     "slide_type": "notes"
    }
   },
   "source": [
    "Tot slot, als het probleem bijzonder lastig is zullen we ons moeten afvragen of het kan worden opgelost.\n",
    "\n",
    "En bovendien zullen sommige problemen niet opgelost kunnen worden omdat onvoldoende informatie bekend is.\n",
    "\n",
    "Bijvoorbeeld: kan een 3D model van een 2D weergave worden gemaakt?"
   ]
  },
  {
   "cell_type": "markdown",
   "metadata": {
    "slideshow": {
     "slide_type": "subslide"
    }
   },
   "source": [
    "### Van 2D naar 3D\n",
    "\n",
    "Is het mogelijk om van een 2D afbeelding een 3D representatie te maken?"
   ]
  },
  {
   "cell_type": "markdown",
   "metadata": {
    "slideshow": {
     "slide_type": "subslide"
    }
   },
   "source": [
    "<div><iframe width=\"560\" height=\"315\" src=\"https://www.youtube.com/embed/GWWIn29ZV4Q\" frameborder=\"0\" allow=\"accelerometer; encrypted-media; gyroscope; picture-in-picture\" allowfullscreen></iframe></iframe></div>"
   ]
  },
  {
   "cell_type": "markdown",
   "metadata": {
    "slideshow": {
     "slide_type": "notes"
    }
   },
   "source": [
    "Is het probleem opgelost? Nee, op basis van beperkte informatie (twee dimensies) wordt een zo goed mogelijke *inschatting* gemaakt van een derde dimensie.\n",
    "\n",
    "Met andere woorden, deze oplossing biedt niet meer dan een benadering van het probleem in de vorm van de [*suggestie*](http://make3d.cs.cornell.edu/research.html) van een derde dimensie. De mens is ontvankelijk voor suggestie: een opeenvolging van 30 afbeeldingen per seconde interpreteren wij als beweging (video)."
   ]
  },
  {
   "cell_type": "markdown",
   "metadata": {
    "slideshow": {
     "slide_type": "subslide"
    }
   },
   "source": [
    "### *Let's enhance*\n",
    "\n",
    "Bekend van film en TV!"
   ]
  },
  {
   "cell_type": "markdown",
   "metadata": {
    "slideshow": {
     "slide_type": "subslide"
    }
   },
   "source": [
    "<div><iframe width=\"560\" height=\"315\" src=\"https://www.youtube.com/embed/LhF_56SxrGk\" frameborder=\"0\" allow=\"accelerometer; encrypted-media; gyroscope; picture-in-picture\" allowfullscreen></iframe></div>"
   ]
  },
  {
   "cell_type": "markdown",
   "metadata": {
    "slideshow": {
     "slide_type": "notes"
    }
   },
   "source": [
    "Hoe vaak heb je dit niet gezien, op magische wijze een afbeelding opblazen en verscherpen tot de dader scherp in beeld komt! Dit is niet realistisch omdat de data pixels zijn (beeldpunten) waar hooguit het *contrast* van kan worden vergroot, maar niet de *resolutie* (het aantal beeldpunten)."
   ]
  },
  {
   "cell_type": "markdown",
   "metadata": {
    "slideshow": {
     "slide_type": "subslide"
    }
   },
   "source": [
    "![Training bias](images/1/depixel-white.png)\n",
    "\n",
    "<!-- https://github.com/tg-bomze/Face-Depixelizer -->"
   ]
  },
  {
   "cell_type": "markdown",
   "metadata": {
    "slideshow": {
     "slide_type": "notes"
    }
   },
   "source": [
    "Pogingen worden wel gedaan om ontbrekende informatie aan te vullen, bijvoorbeeld op basis van andere (vergelijkbare) afbeeldingen. Dit kan soms tot bijzondere resultaten leiden als de afbeeldingen waarmee vergeleken wordt [weinig divers](https://www.businessinsider.com/depixelator-turned-obama-white-illustrates-racial-bias-in-ai-2020-6) zijn (en een *bias* introduceren). Je herkent hier misschien [Barack Obama](https://en.wikipedia.org/wiki/Barack_Obama) in het origineel..."
   ]
  },
  {
   "cell_type": "markdown",
   "metadata": {
    "slideshow": {
     "slide_type": "slide"
    }
   },
   "source": [
    "## De studie van complexiteit\n",
    "\n",
    "- programmeren\n",
    "- abstracties\n",
    "- algoritmen"
   ]
  },
  {
   "cell_type": "markdown",
   "metadata": {
    "slideshow": {
     "slide_type": "notes"
    }
   },
   "source": [
    "Wat de bovenstaande vragen met elkaar gemeen hebben is dat ze alle drie te maken hebben met *complexiteit*, of hoe hoe moeilijk het is om een bepaald probleem op te lossen. Je hebt technieken en gereedschappen nodig om te helpen denken over complexiteit, en je gaat met een aantal hiervan kennismaken."
   ]
  },
  {
   "cell_type": "markdown",
   "metadata": {
    "slideshow": {
     "slide_type": "subslide"
    }
   },
   "source": [
    "### Programmeren\n",
    "\n",
    "- Python"
   ]
  },
  {
   "cell_type": "markdown",
   "metadata": {
    "slideshow": {
     "slide_type": "notes"
    }
   },
   "source": [
    "Bijvoorbeeld, het is handig om te kunnen programmeren, en daar ga je Python voor leren. Maar ook ga je kennismaken met Hmmm, een hele bijzonder taal!"
   ]
  },
  {
   "cell_type": "markdown",
   "metadata": {
    "slideshow": {
     "slide_type": "subslide"
    }
   },
   "source": [
    "\n",
    "- Kan je het probleem oplossen?\n",
    "- **Kan je een proces ontwerpen om dit soort problemen op te lossen?**\n",
    "- Hoe snel kan je een oplossingen vinden?\n",
    "- Is jouw oplossing de best mogelijke oplossing?\n",
    "- Is elk probleem op te lossen?\n",
    "- Hoe *weet* je of het kan worden opgelost?"
   ]
  },
  {
   "cell_type": "markdown",
   "metadata": {
    "slideshow": {
     "slide_type": "notes"
    }
   },
   "source": [
    "Denk even terug aan de vragen die we eerder hebben gesteld. Het enige moment waar programmeren van toepassing is is bij het laten uitvoeren van onze oplossing door de machine!"
   ]
  },
  {
   "cell_type": "markdown",
   "metadata": {
    "slideshow": {
     "slide_type": "subslide"
    }
   },
   "source": [
    "### Abstracties\n",
    "\n",
    "- getallen\n",
    "- letters\n",
    "- kleuren"
   ]
  },
  {
   "cell_type": "markdown",
   "metadata": {
    "slideshow": {
     "slide_type": "notes"
    }
   },
   "source": [
    "Het kan ook handig zijn om te weten wat jouw computer eigenlijk doet, en zo gaan we kijken naar hoe de hardware werkt en hoe het bijvoorbeeld getallen, letters en kleuren kan representeren."
   ]
  },
  {
   "cell_type": "markdown",
   "metadata": {
    "slideshow": {
     "slide_type": "subslide"
    }
   },
   "source": [
    "### Algoritmen"
   ]
  },
  {
   "cell_type": "markdown",
   "metadata": {
    "slideshow": {
     "slide_type": "notes"
    }
   },
   "source": [
    "Soms kan een probleem efficiënt of minder efficiënt worden opgelost, dus gaan we het ook hebben over verschillende algoritmen. Denk bij een algoritme aan een \"recept\", de stappen die je neemt om tot een bepaalde oplossing te komen."
   ]
  }
 ],
 "metadata": {
  "kernelspec": {
   "display_name": "Python 3 (ipykernel)",
   "language": "python",
   "name": "python3"
  },
  "language_info": {
   "codemirror_mode": {
    "name": "ipython",
    "version": 3
   },
   "file_extension": ".py",
   "mimetype": "text/x-python",
   "name": "python",
   "nbconvert_exporter": "python",
   "pygments_lexer": "ipython3",
   "version": "3.11.4"
  },
  "vscode": {
   "interpreter": {
    "hash": "e7370f93d1d0cde622a1f8e1c04877d8463912d04d973331ad4851f04de6915a"
   }
  }
 },
 "nbformat": 4,
 "nbformat_minor": 4
}
