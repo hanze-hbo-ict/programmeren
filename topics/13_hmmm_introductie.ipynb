{
 "cells": [
  {
   "cell_type": "markdown",
   "metadata": {
    "slideshow": {
     "slide_type": "slide"
    }
   },
   "source": [
    "# Hmmm\n",
    "\n",
    "Hoe worden programma's uitgevoerd?"
   ]
  },
  {
   "cell_type": "markdown",
   "metadata": {
    "slideshow": {
     "slide_type": "subslide"
    }
   },
   "source": [
    "## Abstracties\n",
    "\n",
    "Van hardware naar software\n",
    "\n",
    "- transistoren / schakelingen\n",
    "- logische schakelingen\n",
    "- bitwise functies\n",
    "- berekeningen"
   ]
  },
  {
   "cell_type": "markdown",
   "metadata": {
    "slideshow": {
     "slide_type": "fragment"
    }
   },
   "source": [
    "```python\n",
    "def dbl(x):\n",
    "    return x * 2\n",
    "```"
   ]
  },
  {
   "cell_type": "markdown",
   "metadata": {
    "slideshow": {
     "slide_type": "slide"
    }
   },
   "source": [
    "## Geheugen"
   ]
  },
  {
   "cell_type": "raw",
   "metadata": {
    "slideshow": {
     "slide_type": "fragment"
    }
   },
   "source": [
    "<iframe width=\"600px\" height=\"400px\" src=\"https://circuitverse.org/simulator/embed/memory-3891e586-8cfc-45e6-8dac-0949b43f3bbb\" id=\"projectPreview\" scrolling=\"no\" webkitAllowFullScreen mozAllowFullScreen allowFullScreen></iframe>"
   ]
  },
  {
   "cell_type": "markdown",
   "metadata": {
    "slideshow": {
     "slide_type": "slide"
    }
   },
   "source": [
    "## Soorten geheugen"
   ]
  },
  {
   "cell_type": "markdown",
   "metadata": {
    "slideshow": {
     "slide_type": "subslide"
    }
   },
   "source": [
    "### Registers\n",
    "\n",
    "Onderdeel van de Central Processing Unit (CPU)"
   ]
  },
  {
   "cell_type": "markdown",
   "metadata": {
    "slideshow": {
     "slide_type": "subslide"
    }
   },
   "source": [
    "![8-bit flip flop](images/13/4-Bit-Register.png)"
   ]
  },
  {
   "cell_type": "markdown",
   "metadata": {
    "slideshow": {
     "slide_type": "skip"
    }
   },
   "source": [
    "4 gated latches vormen een 4 bit register"
   ]
  },
  {
   "cell_type": "markdown",
   "metadata": {
    "slideshow": {
     "slide_type": "fragment"
    }
   },
   "source": [
    "Geheugen opgebouwd uit logische schakelingen."
   ]
  },
  {
   "cell_type": "markdown",
   "metadata": {
    "slideshow": {
     "slide_type": "fragment"
    }
   },
   "source": [
    "100 registers met 64 bits elk is ongeveer 10000 bits in totaal."
   ]
  },
  {
   "cell_type": "markdown",
   "metadata": {
    "slideshow": {
     "slide_type": "subslide"
    }
   },
   "source": [
    "![CPU](images/13/intel_cpu.png)"
   ]
  },
  {
   "cell_type": "markdown",
   "metadata": {
    "slideshow": {
     "slide_type": "subslide"
    }
   },
   "source": [
    "### Algemeen geheugen\n",
    "\n",
    "Random Access Memory (RAM)\n",
    "\n",
    "![RAM](images/13/1136px-Samsung-1GB-DDR2-Laptop-RAM.jpg)"
   ]
  },
  {
   "cell_type": "markdown",
   "metadata": {
    "slideshow": {
     "slide_type": "fragment"
    }
   },
   "source": [
    "Geheugen opgebouwd uit transistoren."
   ]
  },
  {
   "cell_type": "markdown",
   "metadata": {
    "slideshow": {
     "slide_type": "fragment"
    }
   },
   "source": [
    "10GB geheugen is ongeveer 100 miljard bits."
   ]
  },
  {
   "cell_type": "markdown",
   "metadata": {
    "slideshow": {
     "slide_type": "subslide"
    }
   },
   "source": [
    "### Harde schijf\n",
    "\n",
    "![HDD](images/13/hdd-4tb.jpg)"
   ]
  },
  {
   "cell_type": "markdown",
   "metadata": {
    "slideshow": {
     "slide_type": "fragment"
    }
   },
   "source": [
    "Permanent geheugen op basis van gemagnetiseerd oppervlak"
   ]
  },
  {
   "cell_type": "markdown",
   "metadata": {
    "slideshow": {
     "slide_type": "fragment"
    }
   },
   "source": [
    "4TB geheugen is ongeveer 42 biljoen bits (of meer)"
   ]
  },
  {
   "cell_type": "markdown",
   "metadata": {
    "slideshow": {
     "slide_type": "subslide"
    }
   },
   "source": [
    "### Solid state disk\n",
    "\n",
    "![SSD](images/13/ssd-4tb.png)"
   ]
  },
  {
   "cell_type": "markdown",
   "metadata": {
    "slideshow": {
     "slide_type": "fragment"
    }
   },
   "source": [
    "Permanent geheugen gebouwd uit logische schakelingen!"
   ]
  },
  {
   "cell_type": "markdown",
   "metadata": {
    "slideshow": {
     "slide_type": "fragment"
    }
   },
   "source": [
    "*[Flash memory](https://en.wikipedia.org/wiki/Flash_memory)*, op basis van NOR of NAND schakelingen."
   ]
  },
  {
   "cell_type": "markdown",
   "metadata": {
    "slideshow": {
     "slide_type": "subslide"
    }
   },
   "source": [
    "### Lang geleden ..."
   ]
  },
  {
   "cell_type": "markdown",
   "metadata": {
    "slideshow": {
     "slide_type": "subslide"
    }
   },
   "source": [
    "![5Mb 1956](images/13/hdd_5Mb_1956.png)"
   ]
  },
  {
   "cell_type": "markdown",
   "metadata": {
    "slideshow": {
     "slide_type": "notes"
    }
   },
   "source": [
    "De IBM [RAMAC 305](https://www.ibm.com/ibm/history/ibm100/us/en/icons/ramac/) (1956). 5 MB geheugen met een gewicht van 1000 kg."
   ]
  },
  {
   "cell_type": "markdown",
   "metadata": {
    "slideshow": {
     "slide_type": "subslide"
    }
   },
   "source": [
    "## Historisch\n",
    "\n",
    "> 640K ought to be enough for anybody\n",
    ">\n",
    "> -- Bill Gates (betwist)"
   ]
  },
  {
   "cell_type": "markdown",
   "metadata": {
    "slideshow": {
     "slide_type": "subslide"
    }
   },
   "source": [
    "## In de machine"
   ]
  },
  {
   "cell_type": "markdown",
   "metadata": {
    "slideshow": {
     "slide_type": "fragment"
    }
   },
   "source": [
    "*Registers (CPU)*\n",
    "\n",
    "Programma's worden hier opgehaald en instructies worden één voor één uitgevoerd"
   ]
  },
  {
   "cell_type": "markdown",
   "metadata": {
    "slideshow": {
     "slide_type": "fragment"
    }
   },
   "source": [
    "*Werkgeheugen (RAM)*\n",
    "\n",
    "Programma's die worden uitgevoerd zijn hier opgeslagen"
   ]
  },
  {
   "cell_type": "markdown",
   "metadata": {
    "slideshow": {
     "slide_type": "fragment"
    }
   },
   "source": [
    "*Opslag (harde schijf)*\n",
    "\n",
    "Permanente opslag van data"
   ]
  },
  {
   "cell_type": "markdown",
   "metadata": {
    "slideshow": {
     "slide_type": "slide"
    }
   },
   "source": [
    "### Von Neumann architectuur"
   ]
  },
  {
   "cell_type": "markdown",
   "metadata": {
    "slideshow": {
     "slide_type": "subslide"
    }
   },
   "source": [
    "![CPU architecture](images/13/622px-ABasicComputer.png)"
   ]
  },
  {
   "cell_type": "markdown",
   "metadata": {
    "slideshow": {
     "slide_type": "subslide"
    }
   },
   "source": [
    "CPU\n",
    "\n",
    "- beperkt, maar snel geheugen: registers\n",
    "- berekeningen\n",
    "\n",
    "RAM\n",
    "\n",
    "- groter, maar langzaam geheugen\n",
    "- geen berekeningen"
   ]
  },
  {
   "cell_type": "markdown",
   "metadata": {
    "slideshow": {
     "slide_type": "subslide"
    }
   },
   "source": [
    "### De von Neumann bottleneck"
   ]
  },
  {
   "cell_type": "markdown",
   "metadata": {
    "slideshow": {
     "slide_type": "subslide"
    }
   },
   "source": [
    "![CPU](images/13/cpu.png)"
   ]
  },
  {
   "cell_type": "markdown",
   "metadata": {
    "slideshow": {
     "slide_type": "fragment"
    }
   },
   "source": [
    "- programmainstructies worden samen met data opgeslagen in RAM\n",
    "- Instructies en data worden tussen RAM en CPU heen en weer verplaatst"
   ]
  },
  {
   "cell_type": "markdown",
   "metadata": {
    "slideshow": {
     "slide_type": "subslide"
    }
   },
   "source": [
    "### Machinetaal\n",
    "\n",
    "![CPU machine code](images/13/cpu_1.png)"
   ]
  },
  {
   "cell_type": "markdown",
   "metadata": {
    "slideshow": {
     "slide_type": "notes"
    }
   },
   "source": [
    "Programma's worden opgeslagen in het geheugen in machinetaal."
   ]
  },
  {
   "cell_type": "markdown",
   "metadata": {
    "slideshow": {
     "slide_type": "subslide"
    }
   },
   "source": [
    "### Assembleertaal (assembly)\n",
    "\n",
    "![CPU assembly](images/13/cpu_1a.png)"
   ]
  },
  {
   "cell_type": "markdown",
   "metadata": {
    "slideshow": {
     "slide_type": "notes"
    }
   },
   "source": [
    "Assembly is een voor mensen leesbare machinetaal."
   ]
  },
  {
   "cell_type": "markdown",
   "metadata": {
    "slideshow": {
     "slide_type": "subslide"
    }
   },
   "source": [
    "## Instructies\n",
    "\n",
    "Combinatie van data en handelingen"
   ]
  },
  {
   "cell_type": "markdown",
   "metadata": {
    "slideshow": {
     "slide_type": "fragment"
    }
   },
   "source": [
    "Machinetaal\n",
    "\n",
    "<tt><font color=\"red\">0000 0001</font> 0000 0001</tt>"
   ]
  },
  {
   "cell_type": "markdown",
   "metadata": {
    "slideshow": {
     "slide_type": "fragment"
    }
   },
   "source": [
    "Assembly\n",
    "\n",
    "<tt><font color=\"blue\">read</font> r1</tt>"
   ]
  },
  {
   "cell_type": "markdown",
   "metadata": {
    "slideshow": {
     "slide_type": "skip"
    }
   },
   "source": [
    "### Fetch-Execution Cycle"
   ]
  },
  {
   "cell_type": "markdown",
   "metadata": {
    "slideshow": {
     "slide_type": "skip"
    }
   },
   "source": [
    "![Execution cycle](images/13/execution_cycle.png)"
   ]
  },
  {
   "cell_type": "markdown",
   "metadata": {
    "slideshow": {
     "slide_type": "subslide"
    }
   },
   "source": [
    "## Assembly"
   ]
  },
  {
   "cell_type": "markdown",
   "metadata": {
    "slideshow": {
     "slide_type": "fragment"
    }
   },
   "source": [
    "Optelling\n",
    "\n",
    "```asm\n",
    "add r2 r2 r2\n",
    "```"
   ]
  },
  {
   "cell_type": "markdown",
   "metadata": {
    "slideshow": {
     "slide_type": "fragment"
    }
   },
   "source": [
    "```python\n",
    "r2 = r2 + r2  # Python\n",
    "```"
   ]
  },
  {
   "cell_type": "markdown",
   "metadata": {
    "slideshow": {
     "slide_type": "fragment"
    }
   },
   "source": [
    "Aftrekking\n",
    "\n",
    "```asm\n",
    "sub r2 r1 r4\n",
    "```"
   ]
  },
  {
   "cell_type": "markdown",
   "metadata": {
    "slideshow": {
     "slide_type": "fragment"
    }
   },
   "source": [
    "```python\n",
    "r2 = r1 - r4  # Python\n",
    "```"
   ]
  },
  {
   "cell_type": "markdown",
   "metadata": {
    "slideshow": {
     "slide_type": "fragment"
    }
   },
   "source": [
    "Vermenigvuldiging\n",
    "\n",
    "```asm\n",
    "mul r7 r6 r2\n",
    "```"
   ]
  },
  {
   "cell_type": "markdown",
   "metadata": {
    "slideshow": {
     "slide_type": "fragment"
    }
   },
   "source": [
    "```python\n",
    "r7 = r6 * r2  # Python\n",
    "```"
   ]
  },
  {
   "cell_type": "markdown",
   "metadata": {
    "slideshow": {
     "slide_type": "fragment"
    }
   },
   "source": [
    "Deling\n",
    "\n",
    "```asm\n",
    "div r1 r1 r2\n",
    "```"
   ]
  },
  {
   "cell_type": "markdown",
   "metadata": {
    "slideshow": {
     "slide_type": "fragment"
    }
   },
   "source": [
    "```python\n",
    "r1 = r1 // r2  # Python\n",
    "```"
   ]
  },
  {
   "cell_type": "markdown",
   "metadata": {
    "slideshow": {
     "slide_type": "subslide"
    }
   },
   "source": [
    "## Data"
   ]
  },
  {
   "cell_type": "markdown",
   "metadata": {
    "slideshow": {
     "slide_type": "fragment"
    }
   },
   "source": [
    "Variabelen\n",
    "\n",
    "```asm\n",
    "setn r1 42\n",
    "```"
   ]
  },
  {
   "cell_type": "markdown",
   "metadata": {
    "slideshow": {
     "slide_type": "fragment"
    }
   },
   "source": [
    "```python\n",
    "r1 = 42  # Python\n",
    "```"
   ]
  },
  {
   "cell_type": "markdown",
   "metadata": {
    "slideshow": {
     "slide_type": "fragment"
    }
   },
   "source": [
    "Input / output\n",
    "\n",
    "```asm\n",
    "read r1\n",
    "write r1\n",
    "```"
   ]
  },
  {
   "cell_type": "markdown",
   "metadata": {
    "slideshow": {
     "slide_type": "fragment"
    }
   },
   "source": [
    "```python\n",
    "r1 = input()  # Python\n",
    "print(r1)\n",
    "```"
   ]
  },
  {
   "cell_type": "markdown",
   "metadata": {
    "slideshow": {
     "slide_type": "slide"
    }
   },
   "source": [
    "## Harvey mudd miniature machine\n",
    "\n",
    "Hmmm is een simulatie met\n",
    "\n",
    "- 16 registers\n",
    "- 256 geheugenlokaties\n"
   ]
  },
  {
   "cell_type": "markdown",
   "metadata": {
    "slideshow": {
     "slide_type": "fragment"
    }
   },
   "source": [
    "Werkelijkheid\n",
    "\n",
    "- 50 tot 100 registers *per core*\n",
    "- ~10.000.000.000 geheugenlokaties"
   ]
  },
  {
   "cell_type": "markdown",
   "metadata": {
    "slideshow": {
     "slide_type": "subslide"
    }
   },
   "source": [
    "![Hmmm instructions](images/13/hmmm_instructions.png)"
   ]
  },
  {
   "cell_type": "markdown",
   "metadata": {
    "slideshow": {
     "slide_type": "notes"
    }
   },
   "source": [
    "De volledige [hmmm instructieset](https://www.cs.hmc.edu/~cs5grad/cs5/hmmm/documentation/documentation.html)."
   ]
  },
  {
   "cell_type": "markdown",
   "metadata": {
    "slideshow": {
     "slide_type": "subslide"
    }
   },
   "source": [
    "![x86 instructies](images/13/x86_instructies.png)"
   ]
  },
  {
   "cell_type": "markdown",
   "metadata": {
    "slideshow": {
     "slide_type": "notes"
    }
   },
   "source": [
    "Een deel van de Intel [x86 instructieset](https://en.wikipedia.org/wiki/X86_instruction_listings)."
   ]
  },
  {
   "cell_type": "markdown",
   "metadata": {
    "slideshow": {
     "slide_type": "fragment"
    }
   },
   "source": [
    "Hmmm heeft een subset aan instructies die gelijk is aan alle \"echte\" assemby talen."
   ]
  },
  {
   "cell_type": "markdown",
   "metadata": {
    "slideshow": {
     "slide_type": "slide"
    }
   },
   "source": [
    "## Quiz"
   ]
  },
  {
   "cell_type": "markdown",
   "metadata": {
    "slideshow": {
     "slide_type": "fragment"
    }
   },
   "source": [
    "![Quiz](images/13/quiz/quiz_1.png)"
   ]
  },
  {
   "cell_type": "markdown",
   "metadata": {
    "slideshow": {
     "slide_type": "notes"
    },
    "tags": []
   },
   "source": [
    "`read r1` op adresregel 0 vraagt de gebruiker om input en zal deze waarde laten bewaren in `r1` (Algemeen register 1). Je ziet dat de gebruiker hier 21 heeft ingevoerd. Op adresregel 1 wordt nogmaals om input van de gebruiker gevraagd en deze waarde zal in `r2` worden bewaard. \n",
    "\n",
    "Als de gebruiker hier 2 zal invoeren, wat is dan het resultaat op basis van de volgende set van instructies (adresregels 2 tot en met 4)?"
   ]
  },
  {
   "cell_type": "markdown",
   "metadata": {
    "slideshow": {
     "slide_type": "slide"
    }
   },
   "source": [
    "## Wat is de output?"
   ]
  },
  {
   "cell_type": "markdown",
   "metadata": {
    "slideshow": {
     "slide_type": "subslide"
    }
   },
   "source": [
    "![Ex 1](images/13/ex_1.png)\n"
   ]
  },
  {
   "cell_type": "markdown",
   "metadata": {
    "slideshow": {
     "slide_type": "fragment"
    }
   },
   "source": [
    "```python\n",
    "x = input()\n",
    "```"
   ]
  },
  {
   "cell_type": "markdown",
   "metadata": {
    "slideshow": {
     "slide_type": "subslide"
    }
   },
   "source": [
    "![Ex 1a](images/13/ex_1a.png)"
   ]
  },
  {
   "cell_type": "markdown",
   "metadata": {
    "slideshow": {
     "slide_type": "fragment"
    }
   },
   "source": [
    "```python\n",
    "y = 9\n",
    "```"
   ]
  },
  {
   "cell_type": "markdown",
   "metadata": {
    "slideshow": {
     "slide_type": "subslide"
    }
   },
   "source": [
    "![Ex 1b](images/13/ex_1b.png)"
   ]
  },
  {
   "cell_type": "markdown",
   "metadata": {
    "slideshow": {
     "slide_type": "fragment"
    }
   },
   "source": [
    "```python\n",
    "z = x - 9\n",
    "```"
   ]
  },
  {
   "cell_type": "markdown",
   "metadata": {
    "slideshow": {
     "slide_type": "subslide"
    }
   },
   "source": [
    "![Ex 1c](images/13/ex_1c.png)"
   ]
  },
  {
   "cell_type": "markdown",
   "metadata": {
    "slideshow": {
     "slide_type": "fragment"
    }
   },
   "source": [
    "```python\n",
    "z = z // y\n",
    "```"
   ]
  },
  {
   "cell_type": "markdown",
   "metadata": {
    "slideshow": {
     "slide_type": "subslide"
    }
   },
   "source": [
    "![Ex 1d](images/13/ex_1d.png)"
   ]
  },
  {
   "cell_type": "markdown",
   "metadata": {
    "slideshow": {
     "slide_type": "fragment"
    }
   },
   "source": [
    "```python\n",
    "z = z - 1\n",
    "```"
   ]
  },
  {
   "cell_type": "markdown",
   "metadata": {
    "slideshow": {
     "slide_type": "slide"
    }
   },
   "source": [
    "## Hmmm syntax"
   ]
  },
  {
   "cell_type": "markdown",
   "metadata": {
    "slideshow": {
     "slide_type": "fragment"
    }
   },
   "source": [
    "```asm\n",
    "00 read r1\n",
    "01 setn r2 9\n",
    "02 sub r3 r1 r2\n",
    "03 div r3 r3 r2\n",
    "04 addn r3 -1\n",
    "05 write r3\n",
    "06 halt\n",
    "```"
   ]
  },
  {
   "cell_type": "markdown",
   "metadata": {
    "slideshow": {
     "slide_type": "fragment"
    }
   },
   "source": [
    "Regelnummers zijn onderdeel van de syntax!"
   ]
  },
  {
   "cell_type": "markdown",
   "metadata": {
    "slideshow": {
     "slide_type": "slide"
    }
   },
   "source": [
    "## Wat ontbreekt?\n",
    "\n",
    "De instructies worden regel voor regel (lineair) uitgevoerd..."
   ]
  },
  {
   "cell_type": "markdown",
   "metadata": {
    "slideshow": {
     "slide_type": "subslide"
    }
   },
   "source": [
    "### Herhalingen\n",
    "\n",
    "```python\n",
    "sum([x for x in range(5)])\n",
    "```"
   ]
  },
  {
   "cell_type": "markdown",
   "metadata": {
    "slideshow": {
     "slide_type": "subslide"
    }
   },
   "source": [
    "### Condities\n",
    "\n",
    "```python\n",
    "if x > 0:\n",
    "    ...\n",
    "else:\n",
    "    ...\n",
    "```"
   ]
  },
  {
   "cell_type": "markdown",
   "metadata": {
    "slideshow": {
     "slide_type": "subslide"
    },
    "tags": []
   },
   "source": [
    "## Jump!\n",
    "\n",
    "![jumpn](images/13/quiz/jump.png)"
   ]
  },
  {
   "cell_type": "markdown",
   "metadata": {
    "slideshow": {
     "slide_type": "notes"
    },
    "tags": []
   },
   "source": [
    "Wat doet dit programma?\n",
    "\n",
    "Met `jumpn` wordt de eerstvolgende adreslocatie gezet zet die moet worden uitgevoerd, in dit geval de instructie op locatie 1.\n",
    "\n",
    "De initiële waarde die wordt gezet in `r1` is 42 (de input van de gebruiker). De instructie op lokatie 2 zal deze waarde printen. De instructie op lokatie 3 telt 1 bij de waarde in `r1` op en laat deze waarde bewaren in `r1` (de vorige waarde wordt overschreven). Op lokatie 3 volgt de instructie om de instructie op lokatie 1 weer te gaan uitvoeren...\n",
    "\n",
    "Dit programma zal steeds de waarde in `r1` printen en vanwege de `jumpn` zal lokatie 4 nooit worden bereikt, wat het einde van het programma aangeeft. Met andere woorden, dit programma zal *eindeloos* vanaf 42 blijven doortellen!  "
   ]
  },
  {
   "cell_type": "markdown",
   "metadata": {
    "slideshow": {
     "slide_type": "subslide"
    }
   },
   "source": [
    "## Jumps in Hmmm"
   ]
  },
  {
   "cell_type": "markdown",
   "metadata": {
    "slideshow": {
     "slide_type": "subslide"
    }
   },
   "source": [
    "### Onvoorwaardelijke jump\n",
    "\n",
    "```asm\n",
    "jumpn 42\n",
    "```\n",
    "\n",
    "Spring naar regel 42"
   ]
  },
  {
   "cell_type": "markdown",
   "metadata": {
    "slideshow": {
     "slide_type": "subslide"
    }
   },
   "source": [
    "### Conditionele jump\n",
    "\n",
    "```asm\n",
    "jeqzn r1 42\n",
    "```\n",
    "\n",
    "Spring naar regel 42 als `r1 == 0`\n",
    "\n",
    "```asm\n",
    "jgtzn r1 42 \n",
    "```\n",
    "\n",
    "Spring naar regel 42 als `r1 > 0`\n",
    "\n",
    "```asm\n",
    "jltzn r1 42\n",
    "```\n",
    "\n",
    "Spring naar regel 42 als `r1 < 0`\n",
    "\n",
    "```asm\n",
    "jnezn r1 42\n",
    "```\n",
    "\n",
    "Spring naar regel 42 als `r1 != 0`"
   ]
  },
  {
   "cell_type": "markdown",
   "metadata": {
    "slideshow": {
     "slide_type": "slide"
    }
   },
   "source": [
    "## Quiz"
   ]
  },
  {
   "cell_type": "markdown",
   "metadata": {
    "slideshow": {
     "slide_type": "subslide"
    }
   },
   "source": [
    "```asm\n",
    "0 read r1\n",
    "1 jgtzn r1 7\n",
    "2 setn r2 -1\n",
    "3 mul r1 r1 r2\n",
    "4 nop\n",
    "5 nop\n",
    "6 write r1\n",
    "7 halt\n",
    "```"
   ]
  },
  {
   "cell_type": "markdown",
   "metadata": {
    "slideshow": {
     "slide_type": "fragment"
    }
   },
   "source": [
    "A. Wat is de uitkomst als *r1* gelijk is aan **-6**?\n",
    "\n",
    "1. -42\n",
    "2. -6\n",
    "3. -1\n",
    "4. 6\n",
    "5. 42"
   ]
  },
  {
   "cell_type": "markdown",
   "metadata": {
    "slideshow": {
     "slide_type": "fragment"
    }
   },
   "source": [
    "B. Met welke (ingebouwde) Python functie komt dit overeen?"
   ]
  },
  {
   "cell_type": "markdown",
   "metadata": {
    "slideshow": {
     "slide_type": "subslide"
    }
   },
   "source": [
    "### Oplossing\n",
    "\n",
    "A. 6\n",
    "\n",
    "B. `abs`"
   ]
  },
  {
   "cell_type": "markdown",
   "metadata": {
    "slideshow": {
     "slide_type": "slide"
    }
   },
   "source": [
    "## Quiz"
   ]
  },
  {
   "cell_type": "markdown",
   "metadata": {
    "slideshow": {
     "slide_type": "subslide"
    }
   },
   "source": [
    "```asm\n",
    "0 read r1\n",
    "1 read r2\n",
    "2 sub r3 r1 r2\n",
    "3 nop\n",
    "4 jgtzn r3 7\n",
    "5 write r1\n",
    "6 jumpn 8\n",
    "7 write r2\n",
    "8 halt\n",
    "```"
   ]
  },
  {
   "cell_type": "markdown",
   "metadata": {
    "slideshow": {
     "slide_type": "fragment"
    }
   },
   "source": [
    "A. Wat is de uitkomst als\n",
    "\n",
    "1. *r1* is **42** en *r2* is **5**\n",
    "2. *r1* is **5** en *r2* is **42**"
   ]
  },
  {
   "cell_type": "markdown",
   "metadata": {
    "slideshow": {
     "slide_type": "fragment"
    }
   },
   "source": [
    "B. Met welke (ingebouwde) Python functie komt dit overeen?"
   ]
  },
  {
   "cell_type": "markdown",
   "metadata": {
    "slideshow": {
     "slide_type": "subslide"
    }
   },
   "source": [
    "### Oplossing\n",
    "\n",
    "A. Uitkomst\n",
    "\n",
    "1. 5\n",
    "2. 5\n",
    "\n",
    "B. `min`"
   ]
  }
 ],
 "metadata": {
  "kernelspec": {
   "display_name": "Python 3 (ipykernel)",
   "language": "python",
   "name": "python3"
  },
  "language_info": {
   "codemirror_mode": {
    "name": "ipython",
    "version": 3
   },
   "file_extension": ".py",
   "mimetype": "text/x-python",
   "name": "python",
   "nbconvert_exporter": "python",
   "pygments_lexer": "ipython3",
   "version": "3.10.7"
  }
 },
 "nbformat": 4,
 "nbformat_minor": 4
}
