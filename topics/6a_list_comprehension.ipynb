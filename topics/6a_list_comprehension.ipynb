{
 "cells": [
  {
   "cell_type": "markdown",
   "metadata": {
    "slideshow": {
     "slide_type": "slide"
    }
   },
   "source": [
    "# List comprehension"
   ]
  },
  {
   "cell_type": "markdown",
   "metadata": {
    "slideshow": {
     "slide_type": "subslide"
    }
   },
   "source": [
    "![Fixing problems](images/6/fixing_problems.jpg)"
   ]
  },
  {
   "cell_type": "markdown",
   "metadata": {
    "slideshow": {
     "slide_type": "notes"
    }
   },
   "source": [
    "We gaan door met recursie en functies ..."
   ]
  },
  {
   "cell_type": "code",
   "execution_count": 1,
   "metadata": {
    "slideshow": {
     "slide_type": "subslide"
    }
   },
   "outputs": [
    {
     "data": {
      "text/plain": [
       "True"
      ]
     },
     "execution_count": 1,
     "metadata": {},
     "output_type": "execute_result"
    }
   ],
   "source": [
    "\"fun\" in \"functional\""
   ]
  },
  {
   "cell_type": "markdown",
   "metadata": {
    "slideshow": {
     "slide_type": "notes"
    }
   },
   "source": [
    "Functies en vooral recursie zijn lastige onderwerpen, toch hopen we dat je \"lol\" blijft houden! Terzijde, let op de `in`, deze syntax blijft handig voor het controleren of een element zich in een collectie bevindt!"
   ]
  },
  {
   "cell_type": "markdown",
   "metadata": {
    "slideshow": {
     "slide_type": "subslide"
    }
   },
   "source": [
    "![Escher handen](images/6/escher_handen.png)"
   ]
  },
  {
   "cell_type": "markdown",
   "metadata": {
    "slideshow": {
     "slide_type": "notes"
    }
   },
   "source": [
    "[Tekenende handen](https://www.rijksmuseum.nl/nl/collectie/RP-P-1949-188) van [M.C. Escher](https://nl.wikipedia.org/wiki/Maurits_Cornelis_Escher). Tekende de rechterhand eerst de linkerhand? Of tekende de linkerhand de rechterhand die vervolgens de linkerhand tekende?\n",
    "\n",
    "Verwarring alom met recursie... het is een lastig onderwerp!"
   ]
  },
  {
   "cell_type": "markdown",
   "metadata": {
    "slideshow": {
     "slide_type": "slide"
    }
   },
   "source": [
    "## Functioneel programmeren\n",
    "\n",
    "- representatie door middel van lijststructuren (data)\n",
    "- gebruik maken van zelfgelijkendheid (recursie)\n",
    "- gebruik maken van bouwstenen (functies)\n",
    "\n",
    "Met deze combinatie kunnen problemen worden verkend of opgelost."
   ]
  },
  {
   "cell_type": "markdown",
   "metadata": {
    "slideshow": {
     "slide_type": "notes"
    }
   },
   "source": [
    "Je hebt nu kennisgemaakt met een drietal bouwstenen en het gecombineerd gebruik valt onder de noemer *functioneel programmeren*. Functioneel programmeren is een *programeerparadigma*, een manier van werken of aanpak voor het oplossen of verkennen van problemen. Je gaat later nog met twee andere programeerparadigmas kennis maken: imperatief- en object georiënteerd programmeren."
   ]
  },
  {
   "cell_type": "markdown",
   "metadata": {
    "slideshow": {
     "slide_type": "subslide"
    }
   },
   "source": [
    "## Rekenkundig compleet\n",
    "\n",
    "We zijn rekenkundig compleet. Wat nu?"
   ]
  },
  {
   "cell_type": "markdown",
   "metadata": {
    "slideshow": {
     "slide_type": "fragment"
    }
   },
   "source": [
    "- Python efficiënt laten werken\n",
    "- nieuwe bouwstenen!"
   ]
  },
  {
   "cell_type": "markdown",
   "metadata": {
    "slideshow": {
     "slide_type": "notes"
    }
   },
   "source": [
    "Met rekenkundig compleet bedoelen we dat met de combinatie van data, functies en recursie de computer data kunnen laten representeren en daar handelingen op uit kunnen laten voeren voor alle *oplosbare* problemen."
   ]
  },
  {
   "cell_type": "markdown",
   "metadata": {
    "slideshow": {
     "slide_type": "subslide"
    }
   },
   "source": [
    "## Efficiëntie\n",
    "\n",
    "Functioneel programmeren is conceptueel beknopt, maar is het efficiënt voor de computer?\n",
    "\n",
    "> functioneel **versus** sequentieel of procedureel "
   ]
  },
  {
   "cell_type": "markdown",
   "metadata": {
    "slideshow": {
     "slide_type": "notes"
    }
   },
   "source": [
    "Wat we met conceptueel beknopt bedoelen is dat weinig nodig is voor het definiëren van een oplossing. Een recursieve functie is hier het beste voorbeeld, de oplossing van het probleem ligt in een functie besloten. We kunnen op deze manier oplossingen heel precies en efficiënt beschrijven, maar voor een computer is het *niet* de meest efficiënt manier om uit te voeren!\n",
    "\n",
    "We komen hier op een ander moment nog op terug, maar denk aan hoe functies worden gestapeld op de stack. Het steeds plaatsen op en verwijderen van de stack zorgt voor een overhead in het programma, de computer moet extra handelingen verichten die de uitvoering langzamer maken.\n",
    "\n",
    "Een sequentiële- of procedurele- in plaats van functionele benadering is efficiënter voor de computer en dit gaan we nu verkennen met iets dat je al kent: lists!"
   ]
  },
  {
   "cell_type": "markdown",
   "metadata": {
    "slideshow": {
     "slide_type": "subslide"
    }
   },
   "source": [
    "![Meaning of comprehension](images/6/comprehension_meaning.png)"
   ]
  },
  {
   "cell_type": "markdown",
   "metadata": {
    "slideshow": {
     "slide_type": "notes"
    }
   },
   "source": [
    "Wat is *comprehension* in [list comprehension](https://english.stackexchange.com/questions/406684/what-is-the-meaning-of-comprehension-in-the-term-list-comprehension) is een goede vraag, een andere vraag is wat de beste vertaling in het Nederlands zou zijn. Wij weten het niet en daarom zullen wij blijven spreken over *list comprehension*... Wát het is en doet ga je nu zien!"
   ]
  },
  {
   "cell_type": "markdown",
   "metadata": {
    "slideshow": {
     "slide_type": "slide"
    }
   },
   "source": [
    "## Data en functies\n",
    "\n",
    "*De compositie van data en functies*\n",
    "\n",
    "Data\n",
    "\n",
    "```python\n",
    "[3, 4, 5, 6, 7, 8, 9]\n",
    "```\n",
    "\n",
    "en functies:\n",
    "\n",
    "```python\n",
    "def sum(L):\n",
    "    ...\n",
    "```\n",
    "\n",
    "```python\n",
    "def range(low, hi):\n",
    "    ...\n",
    "```"
   ]
  },
  {
   "cell_type": "markdown",
   "metadata": {
    "slideshow": {
     "slide_type": "subslide"
    }
   },
   "source": [
    "### `sum(L)`"
   ]
  },
  {
   "cell_type": "markdown",
   "metadata": {
    "slideshow": {
     "slide_type": "fragment"
    }
   },
   "source": [
    "```python\n",
    "def sum(L):\n",
    "    \"\"\" input: L, a list of #s\n",
    "        output: L's sum\n",
    "    \"\"\"\n",
    "    if len(L) == 0:\n",
    "        return 0.0                # base case\n",
    "    else:\n",
    "        return L[0] + sum(L[1:])  # recursive case\n",
    "```"
   ]
  },
  {
   "cell_type": "markdown",
   "metadata": {
    "slideshow": {
     "slide_type": "notes"
    }
   },
   "source": [
    "Hier zie je een recursieve implementatie van de ingebouwde Python functie `sum`. Om ons recursieve geheugen op te frissen, laten we nu proberen een recursieve implementatie te maken van de functie `range`."
   ]
  },
  {
   "cell_type": "markdown",
   "metadata": {
    "slideshow": {
     "slide_type": "subslide"
    }
   },
   "source": [
    "## Quiz\n",
    "\n",
    "Een recursive implementatie van de ingebouwde Python functie `range`\n",
    "\n",
    "```python\n",
    "range(3, 7) == [3, 4, 5, 6]\n",
    "```\n",
    "\n",
    "```python\n",
    "range(3, 7, 2) == [3, 5]\n",
    "```"
   ]
  },
  {
   "cell_type": "markdown",
   "metadata": {
    "slideshow": {
     "slide_type": "subslide"
    }
   },
   "source": [
    "### `range(low, hi)`\n",
    "\n",
    "Wat is de recursive case?\n",
    "\n",
    "```python\n",
    "def range(low, hi):\n",
    "    \"\"\" input: low and hi, integers\n",
    "    output: a list from low upto hi\n",
    "    \"\"\"\n",
    "    if low >= hi:  # base case\n",
    "        return []\n",
    "    else:          # recursive case?\n",
    "        return ...\n",
    "```\n",
    "\n",
    "Bedenk dat je lists kan \"optellen\"!\n",
    "\n",
    "```python\n",
    "[3] + [4, 5, 6] == [3, 4, 5, 6]\n",
    "```\n"
   ]
  },
  {
   "cell_type": "markdown",
   "metadata": {
    "slideshow": {
     "slide_type": "subslide"
    }
   },
   "source": [
    "### Oplossing"
   ]
  },
  {
   "cell_type": "markdown",
   "metadata": {
    "slideshow": {
     "slide_type": "fragment"
    }
   },
   "source": [
    "```python\n",
    "def range(low, hi):\n",
    "    \"\"\" input: low and hi, integers\n",
    "    output: a list from low upto hi\n",
    "    \"\"\"\n",
    "    if low >= hi:                          # base case\n",
    "        return []\n",
    "    else:                                  # recursive case\n",
    "        return [low] + range(low + 1, hi)\n",
    "```"
   ]
  },
  {
   "cell_type": "markdown",
   "metadata": {
    "slideshow": {
     "slide_type": "skip"
    }
   },
   "source": [
    "### Uitdaging\n",
    "\n",
    "De Python functie `range` accepteert een derde parameter (`step`) dat het aantal stappen bepaalt dat per keer moet worden genomen (in deze oplossing is dit 1). Hoe zou je de recursieve functie `range` uitbreiden met een derde parameter `step`?"
   ]
  },
  {
   "cell_type": "markdown",
   "metadata": {
    "slideshow": {
     "slide_type": "skip"
    }
   },
   "source": [
    "### Oplossing\n",
    "\n",
    "```python\n",
    "def range(low, hi, step=1):\n",
    "    \"\"\" input: low and hi, integers\n",
    "    output: a list from low upto hi\n",
    "    \"\"\"\n",
    "    if low >= hi:                                   # base case\n",
    "        return []\n",
    "    else:                                           # recursive case\n",
    "        return [low] + range(low + step, hi, step)\n",
    "```"
   ]
  },
  {
   "cell_type": "markdown",
   "metadata": {
    "slideshow": {
     "slide_type": "skip"
    }
   },
   "source": [
    "Je ziet hier een andere syntax voor de parameter `step` (`step=1`)! Deze syntax voor `step` wordt een *named* of *keyword* parameter genoemd en met deze syntax zeg je dat het argument optioneel is: als het niet als *extra* argument wordt meegegeven naast de verplichte *positionele* argumenten (`low` en `hi`) dan is de waarde standaard 1. Named parameters moeten altijd na de positionele parameters volgen (bijvoorbeeld, `def range(step=1, low, hi)` zal een `SyntaxError` geven).\n"
   ]
  },
  {
   "cell_type": "markdown",
   "metadata": {
    "slideshow": {
     "slide_type": "subslide"
    }
   },
   "source": [
    "## Resultaat\n",
    "\n",
    "Onze recursieve functies `sum` en `range` in actie"
   ]
  },
  {
   "cell_type": "code",
   "execution_count": 2,
   "metadata": {
    "slideshow": {
     "slide_type": "fragment"
    }
   },
   "outputs": [
    {
     "data": {
      "text/plain": [
       "5050"
      ]
     },
     "execution_count": 2,
     "metadata": {},
     "output_type": "execute_result"
    }
   ],
   "source": [
    "sum(list(range(1, 101)))"
   ]
  },
  {
   "cell_type": "markdown",
   "metadata": {
    "slideshow": {
     "slide_type": "slide"
    }
   },
   "source": [
    "## Data en functies combineren\n",
    "\n",
    "*Verdubbel alle waarden in een list*\n",
    "\n",
    "Data\n",
    "\n",
    "```python\n",
    "[8, 9, 10]\n",
    "```\n",
    "\n",
    "en functies\n",
    "\n",
    "```python\n",
    "def dbl(x):\n",
    "    \"\"\"Verdubbel een getal\n",
    "    \"\"\"\n",
    "    return x * 2\n",
    "```"
   ]
  },
  {
   "cell_type": "markdown",
   "metadata": {
    "slideshow": {
     "slide_type": "fragment"
    }
   },
   "source": [
    "combineren\n",
    "\n",
    "```python\n",
    "[dbl(x) for x in [8, 9, 10]]\n",
    "```"
   ]
  },
  {
   "cell_type": "markdown",
   "metadata": {
    "slideshow": {
     "slide_type": "skip"
    }
   },
   "source": [
    "### Variaties\n",
    "\n",
    "Variaties op het toepassen van een functie op de elementen in een list zijn mogelijk\n",
    "\n",
    "```python\n",
    "L1 = list(map(dbl, range(6)))\n",
    "L2 = [x * 2 for x in range(6)]\n",
    "```"
   ]
  },
  {
   "cell_type": "markdown",
   "metadata": {
    "slideshow": {
     "slide_type": "skip"
    }
   },
   "source": [
    "Vaak zul je zien (of zelf hebben bedacht) dat meerdere oplossingen mogelijk zijn. In het geval `L2` kan je je afvragen of een functie nodig is, omdat het hier om gaat om een heel eenvoudige expressie (`x * 2`) die niet de moeite is deze als functie te schrijven. `L1` gebruikt de ingebouwde functie [`map`](https://docs.python.org/3/library/functions.html#map), die een functie toepast op elk element in een collectie."
   ]
  },
  {
   "cell_type": "markdown",
   "metadata": {
    "slideshow": {
     "slide_type": "subslide"
    }
   },
   "source": [
    "## Terzijde, over namen\n",
    "\n",
    "```python\n",
    "x = 10\n",
    "\n",
    "def dbl(x):\n",
    "    \"\"\"Verdubbel een getal\n",
    "    \"\"\"\n",
    "    x = x * 2\n",
    "    return x\n",
    "\n",
    "y = dbl(x)\n",
    "\n",
    "print(x)\n",
    "print(y)\n",
    "```\n",
    "\n",
    "Welke waarde wordt geprint voor `x` en welke voor `y`? "
   ]
  },
  {
   "cell_type": "markdown",
   "metadata": {
    "slideshow": {
     "slide_type": "notes"
    }
   },
   "source": [
    "In de voorgaande voorbeelden zag je vaak `x` worden gebruikt als naam voor een waarde in zowel de list comprehension als parameter in de functie `dbl`. Staan ze elkaar niet in de weg, zul je je misschien afvragen? Dit is niet het geval en dit heeft te maken met de *scope* (het bereik, of de context) van een naam.\n",
    "\n",
    "De `x` die wordt gebruikt wordt is een heel andere dan de `x` in de functie. Zie een functie dan ook als een kleine, op zichzelf staande wereld die maar beperkt van de buitenwereld kan weten.\n",
    "\n",
    "`x` zal in dit geval 10 printen en `y` (het resultaat van de functie) 20."
   ]
  },
  {
   "cell_type": "markdown",
   "metadata": {
    "slideshow": {
     "slide_type": "slide"
    }
   },
   "source": [
    "## List comprehension\n",
    "\n",
    "List\n",
    "\n",
    "```python\n",
    "[0, 1, 2, 3, 4, 5]\n",
    "```\n",
    "\n",
    "List *comprehension*\n",
    "\n",
    "```python\n",
    "[2 * x for x in [0, 1, 2, 3, 4, 5]]                                         \n",
    "```\n",
    "\n",
    "Resultaat\n",
    "\n",
    "```python\n",
    "[0, 2, 4, 6, 8, 10]\n",
    "```"
   ]
  },
  {
   "cell_type": "markdown",
   "metadata": {
    "slideshow": {
     "slide_type": "subslide"
    }
   },
   "source": [
    "## Iteratie\n",
    "\n",
    "Stap één voor één over waarden en pas een expressie toe\n",
    "\n",
    "> [ **expressie** voor elke **waarde** in **collectie** ]\n",
    "\n",
    "```python\n",
    "[2 * x for x in [0, 1, 2, 3, 4, 5]]                                         \n",
    "```"
   ]
  },
  {
   "cell_type": "markdown",
   "metadata": {
    "slideshow": {
     "slide_type": "notes"
    }
   },
   "source": [
    "`x` neemt elke waarde in de list aan waar de expressie `2 * x` op wordt toegepast en op deze manier wordt iteratief wordt een nieuwe list opgebouwd. Hier wordt geen recursie meer toegepast maar wordt *sequentieel* de data doorlopen en *handelingen* op toegepast."
   ]
  },
  {
   "cell_type": "markdown",
   "metadata": {
    "slideshow": {
     "slide_type": "subslide"
    }
   },
   "source": [
    "## Conditioneel\n",
    "\n",
    "Stap *voorwaardelijk* één voor één over waarden en pas een expressie toe\n",
    "\n",
    "> [ **expressie** voor elke **waarde** in **collectie** als <**test**> ]\n",
    "\n",
    "```python\n",
    "[10 * x for x in [0, 1, 2, 3, 4, 5] if x % 2 == 0]\n",
    "```\n"
   ]
  },
  {
   "cell_type": "markdown",
   "metadata": {
    "slideshow": {
     "slide_type": "notes"
    }
   },
   "source": [
    "Een list comprehension kan worden uitgebreid met een conditie waar de expressie zal worden toegepast alleen als de test slaagt voor de waarde van `x`."
   ]
  },
  {
   "cell_type": "markdown",
   "metadata": {
    "slideshow": {
     "slide_type": "slide"
    }
   },
   "source": [
    "## Quiz\n",
    "\n",
    "Wat is het resultaat van de volgende list comprehensions"
   ]
  },
  {
   "cell_type": "markdown",
   "metadata": {
    "slideshow": {
     "slide_type": "subslide"
    }
   },
   "source": [
    "### Vraag 1\n",
    "\n",
    "```python\n",
    "[n ** 2 for n in range(0, 5)]\n",
    "```"
   ]
  },
  {
   "cell_type": "markdown",
   "metadata": {
    "slideshow": {
     "slide_type": "fragment"
    }
   },
   "source": [
    "#### Antwoord\n",
    "\n",
    "```python\n",
    "[0, 1, 4, 9, 16]\n",
    "```"
   ]
  },
  {
   "cell_type": "markdown",
   "metadata": {
    "slideshow": {
     "slide_type": "subslide"
    }
   },
   "source": [
    "### Vraag 2\n",
    "\n",
    "```python\n",
    "[42 for z in [0, 1, 2]]\n",
    "```"
   ]
  },
  {
   "cell_type": "markdown",
   "metadata": {
    "slideshow": {
     "slide_type": "fragment"
    }
   },
   "source": [
    "#### Antwoord\n",
    "\n",
    "```python\n",
    "[42, 42, 42]\n",
    "```"
   ]
  },
  {
   "cell_type": "markdown",
   "metadata": {
    "slideshow": {
     "slide_type": "subslide"
    }
   },
   "source": [
    "### Vraag 3\n",
    "\n",
    "```python\n",
    "[z for z in [0, 1, 2]]\n",
    "```"
   ]
  },
  {
   "cell_type": "markdown",
   "metadata": {
    "slideshow": {
     "slide_type": "fragment"
    }
   },
   "source": [
    "#### Antwoord\n",
    "\n",
    "```python\n",
    "[0, 1, 2]\n",
    "```"
   ]
  },
  {
   "cell_type": "markdown",
   "metadata": {
    "slideshow": {
     "slide_type": "subslide"
    }
   },
   "source": [
    "### Vraag 4\n",
    "\n",
    "```python\n",
    "[s[1::2] for s in [\"elk\", \"ook\", \"vlo\"]]\n",
    "```"
   ]
  },
  {
   "cell_type": "markdown",
   "metadata": {
    "slideshow": {
     "slide_type": "fragment"
    }
   },
   "source": [
    "#### Antwoord\n",
    "\n",
    "```python\n",
    "[\"l\", \"o\", \"l\"]\n",
    "```"
   ]
  },
  {
   "cell_type": "markdown",
   "metadata": {
    "slideshow": {
     "slide_type": "subslide"
    }
   },
   "source": [
    "### Vraag 5\n",
    "```python\n",
    "[a * (a - 1) for a in range(8) if a % 2 == 1]\n",
    "```"
   ]
  },
  {
   "cell_type": "markdown",
   "metadata": {
    "slideshow": {
     "slide_type": "fragment"
    }
   },
   "source": [
    "#### Antwoord\n",
    "\n",
    "```python\n",
    "[0, 6, 20, 42]\n",
    "```"
   ]
  },
  {
   "cell_type": "markdown",
   "metadata": {
    "slideshow": {
     "slide_type": "subslide"
    }
   },
   "source": [
    "## Syntax!\n",
    "\n",
    "```python\n",
    "[x * 2 for x in [0, 1, 2, 3, 4, 5]]\n",
    "```\n",
    "\n",
    "Het lijkt op een wirwar van karakters en andere willekeurige tekens... "
   ]
  },
  {
   "cell_type": "markdown",
   "metadata": {
    "slideshow": {
     "slide_type": "notes"
    }
   },
   "source": [
    "Maar de handeling die we willen uitvoeren is eenvoudig, namelijk het vermenigvuldigen van elke waarde in een lijst.\n",
    "\n",
    "We weten nu ook dat het op deze wijze sequentieel toepassen van een expressie op elk element van een collectie (bijvoorbeeld een list) efficiënter is dan een recursive oplossing (althans voor de computer!). Maar je zal je misschien afvragen of deze syntax wel efficiënter is voor *jou* want het lijkt op het eerste gezicht moelijk te begrijpen.\n",
    "\n",
    "We kunnen je verzekeren dat met oefening je deze notatie op een gegeven moment zal ook gaan waarderen al is het alleen maar omdat je complexe bewerkingen in een enkele regel kan schrijven."
   ]
  },
  {
   "cell_type": "markdown",
   "metadata": {
    "slideshow": {
     "slide_type": "slide"
    }
   },
   "source": [
    "## Miljoen keer simuleren\n",
    "\n",
    "Iteratie in plaats recursie?"
   ]
  },
  {
   "cell_type": "markdown",
   "metadata": {
    "slideshow": {
     "slide_type": "notes"
    }
   },
   "source": [
    "Kan je je nog herinneren dat we recursie hebben toegepast om simulaties uit te voeren? Lees anders het onderwerp [simulaties](5a_simulatie) nog een keer door. Voor het herhaald uitvoeren van functies  gebruikten we toen recursie, bijvoorbeeld om te tellen hoe vaak een gelijk aantal ogen wordt gegooid met twee dobbelstenen of om te tellen hoeveel pogingen gemiddeld nodig zijn om een getal te raden.\n",
    "\n",
    "We hebben nu met list comprehension een techniek gezien om een expressie (bijvoorbeeld een functie) iteratief toe te passen op elk elementen in een collectie, zouden we deze techniek kunnen toepassen om de herhaling in simulaties zonder recursie toe te passen?"
   ]
  },
  {
   "cell_type": "code",
   "execution_count": 3,
   "metadata": {
    "slideshow": {
     "slide_type": "subslide"
    }
   },
   "outputs": [],
   "source": [
    "import sys\n",
    "from random import *\n",
    "\n",
    "def guess_np(hidden):\n",
    "    \"\"\"Raad een getal\n",
    "\n",
    "    hidden: het te raden getal\n",
    "    \"\"\"\n",
    "    comp_guess = choice(range(100))  # 0 tot en met 99.\n",
    "\n",
    "    if comp_guess == hidden:         # base case\n",
    "        return 1\n",
    "    else:                            # recursive case\n",
    "        return 1 + guess_np(hidden)\n"
   ]
  },
  {
   "cell_type": "markdown",
   "metadata": {
    "slideshow": {
     "slide_type": "notes"
    }
   },
   "source": [
    "Dit is dezelfde functie die je eerder hebt gezien om een getal te raden, maar zonder de print statements waar de computer ons enthousiast liet weten (printen!) dat het het getal had geraden. De functie geeft het aantal keer dat nodig is om een om een getal te raden terug op basis van steeds een *random* keus van de computer."
   ]
  },
  {
   "cell_type": "markdown",
   "metadata": {
    "slideshow": {
     "slide_type": "subslide"
    }
   },
   "source": [
    "### Combineren\n",
    "\n",
    "> [ **expressie** voor elke **waarde** in **collectie** ]\n"
   ]
  },
  {
   "cell_type": "code",
   "execution_count": 4,
   "metadata": {
    "slideshow": {
     "slide_type": "fragment"
    }
   },
   "outputs": [],
   "source": [
    "LC = [guess_np(42) for x in range(1000)]"
   ]
  },
  {
   "cell_type": "markdown",
   "metadata": {
    "slideshow": {
     "slide_type": "notes"
    }
   },
   "source": [
    "Eén enkele regel voor het uitvoeren van 1000 simulaties, dat is best indrukwekkend! Recursie hebben we op deze manier vervangen door iteratie (1000 frames minder op de stack) en Python vindt dit bijzonder prettig en wij ook, want we hebben snelheidswinst kunnen boeken.\n",
    "\n",
    "Maar we liegen, want we hebben `range` net als oefening recursief geïmplementeerd! De ingebouwde versie `range` gebruikt geen recursie en daar zit de winst.\n",
    "\n",
    "Bedenk dat je niet verplicht bent de waarde `x` in een expressie te gebruiken. In dit geval is `x` een nutteloze variabele die je alleen maar nodig hebt omdat de *syntax* jou dit verplicht. Vaak zal je zien dat in dit soort gevallen `_` wordt gebruikt om aan te geven dat het een \"wegwerp\" variabele is, bijvoorbeeld in ons geval\n",
    "\n",
    "```python\n",
    "[guess_np(42) for _ in range(1000)]\n",
    "```"
   ]
  },
  {
   "cell_type": "code",
   "execution_count": 5,
   "metadata": {
    "slideshow": {
     "slide_type": "fragment"
    }
   },
   "outputs": [
    {
     "data": {
      "text/plain": [
       "[48, 14, 138, 119, 3, 88, 15, 63, 31, 64]"
      ]
     },
     "execution_count": 5,
     "metadata": {},
     "output_type": "execute_result"
    }
   ],
   "source": [
    "LC[0:10]"
   ]
  },
  {
   "cell_type": "markdown",
   "metadata": {
    "slideshow": {
     "slide_type": "notes"
    }
   },
   "source": [
    "List slicing ken je nu ook en dit komt in dit geval goed van pas om eerste de 10 elementen (het resultaat van de eerste 10 simulaties) te inspecteren."
   ]
  },
  {
   "cell_type": "code",
   "execution_count": 6,
   "metadata": {
    "slideshow": {
     "slide_type": "fragment"
    }
   },
   "outputs": [
    {
     "name": "stdout",
     "output_type": "stream",
     "text": [
      "Gemiddeld aantal keer raden 103.836\n"
     ]
    }
   ],
   "source": [
    "print(\"Gemiddeld aantal keer raden\", sum(LC) / len(LC))"
   ]
  },
  {
   "cell_type": "markdown",
   "metadata": {
    "slideshow": {
     "slide_type": "notes"
    }
   },
   "source": [
    "De functie `sum` hebben we eerder geschreven in combinatie me de ingebouwde functie `len` kan het gemiddelde aantal keer raden worden berekend van deze simulatie!"
   ]
  },
  {
   "cell_type": "markdown",
   "metadata": {
    "slideshow": {
     "slide_type": "subslide"
    }
   },
   "source": [
    "### Dubbele ogen"
   ]
  },
  {
   "cell_type": "code",
   "execution_count": 7,
   "metadata": {
    "slideshow": {
     "slide_type": "fragment"
    }
   },
   "outputs": [],
   "source": [
    "from random import *\n",
    "\n",
    "def count_doubles(N):\n",
    "    \"\"\"Tel aantal dubbele ogen bij N worpen\n",
    "    \"\"\"\n",
    "    if N == 0:    # base case\n",
    "        return 0  # 0 worpen, 0 dubbele ogen...\n",
    "\n",
    "    d1 = choice([1,2,3,4,5,6])  # eerste dobbelsteen\n",
    "    d2 = choice([1,2,3,4,5,6])  # tweede dobbelsteen\n",
    "\n",
    "    if d1 != d2:\n",
    "        return 0 + count_doubles(N - 1)  # niet gelijk\n",
    "    else:\n",
    "        return 1 + count_doubles(N - 1)  # gelijk! tel 1 op"
   ]
  },
  {
   "cell_type": "code",
   "execution_count": 8,
   "metadata": {
    "slideshow": {
     "slide_type": "fragment"
    }
   },
   "outputs": [
    {
     "data": {
      "text/plain": [
       "85"
      ]
     },
     "execution_count": 8,
     "metadata": {},
     "output_type": "execute_result"
    }
   ],
   "source": [
    "count_doubles(600)"
   ]
  },
  {
   "cell_type": "code",
   "execution_count": 9,
   "metadata": {
    "slideshow": {
     "slide_type": "subslide"
    }
   },
   "outputs": [],
   "source": [
    "LC = [count_doubles(600) for x in range(1000)]"
   ]
  },
  {
   "cell_type": "code",
   "execution_count": 10,
   "metadata": {
    "slideshow": {
     "slide_type": "fragment"
    }
   },
   "outputs": [
    {
     "data": {
      "text/plain": [
       "[101, 106, 106, 92, 113, 87, 114, 104, 104, 109]"
      ]
     },
     "execution_count": 10,
     "metadata": {},
     "output_type": "execute_result"
    }
   ],
   "source": [
    "LC[0:10]"
   ]
  },
  {
   "cell_type": "code",
   "execution_count": 11,
   "metadata": {
    "slideshow": {
     "slide_type": "fragment"
    }
   },
   "outputs": [
    {
     "name": "stdout",
     "output_type": "stream",
     "text": [
      "Gemiddeld dubbele ogen (/600): 99.941\n"
     ]
    }
   ],
   "source": [
    "print(\"Gemiddeld dubbele ogen (/600):\", sum(LC)/len(LC))"
   ]
  },
  {
   "cell_type": "markdown",
   "metadata": {
    "slideshow": {
     "slide_type": "skip"
    }
   },
   "source": [
    "### Wisselen van deur"
   ]
  },
  {
   "cell_type": "code",
   "execution_count": 12,
   "metadata": {
    "slideshow": {
     "slide_type": "skip"
    }
   },
   "outputs": [],
   "source": [
    "from random import *\n",
    "\n",
    "def MCMH(init, sors, N):\n",
    "    \"\"\"Speel Let's Make a Deal N keer\n",
    "    \"\"\"\n",
    "    if N == 0:  # base case\n",
    "        return 0\n",
    "\n",
    "    prz_door = choice([1, 2, 3])  # de deur met de prijs!\n",
    "\n",
    "    if init == prz_door:\n",
    "        if sors == \"stay\":\n",
    "            result = \"Spam!\"\n",
    "        else:\n",
    "            result = \"pmfp.\"\n",
    "    else:\n",
    "        if sors == \"switch\":\n",
    "            result = \"Spam!\"\n",
    "        else:\n",
    "            result = \"pmfp.\"\n",
    "\n",
    "    if result == \"Spam!\":\n",
    "        return 1 + MCMH(init, sors, N - 1)\n",
    "    else:\n",
    "        return 0 + MCMH(init, sors, N - 1)\n"
   ]
  },
  {
   "cell_type": "code",
   "execution_count": 13,
   "metadata": {
    "slideshow": {
     "slide_type": "skip"
    }
   },
   "outputs": [
    {
     "data": {
      "text/plain": [
       "202"
      ]
     },
     "execution_count": 13,
     "metadata": {},
     "output_type": "execute_result"
    }
   ],
   "source": [
    "MCMH(1, 'switch', 300)"
   ]
  },
  {
   "cell_type": "code",
   "execution_count": 14,
   "metadata": {
    "slideshow": {
     "slide_type": "skip"
    }
   },
   "outputs": [],
   "source": [
    "LC = [MCMH(1, 'switch', 300) for x in range(1000)]"
   ]
  },
  {
   "cell_type": "code",
   "execution_count": 15,
   "metadata": {
    "slideshow": {
     "slide_type": "skip"
    }
   },
   "outputs": [
    {
     "data": {
      "text/plain": [
       "[207, 208, 197, 191, 216, 194, 195, 204, 198, 202]"
      ]
     },
     "execution_count": 15,
     "metadata": {},
     "output_type": "execute_result"
    }
   ],
   "source": [
    "LC[0:10]"
   ]
  },
  {
   "cell_type": "code",
   "execution_count": 16,
   "metadata": {
    "slideshow": {
     "slide_type": "skip"
    }
   },
   "outputs": [
    {
     "name": "stdout",
     "output_type": "stream",
     "text": [
      "Gemiddeld aantal spam (/300) 199.909\n"
     ]
    }
   ],
   "source": [
    "print(\"Gemiddeld aantal spam (/300)\", sum(LC)/len(LC))"
   ]
  },
  {
   "cell_type": "markdown",
   "metadata": {
    "slideshow": {
     "slide_type": "subslide"
    }
   },
   "source": [
    "## De winnaar?\n",
    "\n",
    "![Python](images/6/python_logo.png) ![Excel](images/6/excel_logo.png)"
   ]
  },
  {
   "cell_type": "markdown",
   "metadata": {
    "slideshow": {
     "slide_type": "notes"
    }
   },
   "source": [
    "Je hebt gezien dat we met Python efficiënt en met verassend weinig code simulaties kunnen laten uitvoeren. Deze flexibiliteit is onder andere waarom Python zo populair is in data science."
   ]
  },
  {
   "cell_type": "markdown",
   "metadata": {
    "slideshow": {
     "slide_type": "slide"
    }
   },
   "source": [
    "## LCs gebruiken\n",
    "\n",
    "Scrabble score"
   ]
  },
  {
   "cell_type": "code",
   "execution_count": 17,
   "metadata": {
    "slideshow": {
     "slide_type": "subslide"
    }
   },
   "outputs": [],
   "source": [
    "def letter_score(s):\n",
    "    \"\"\"Scrabble letter score\n",
    "    \"\"\"\n",
    "    if s in \"adeinorst\":\n",
    "        return 1\n",
    "    elif s in \"ghl\":\n",
    "        return 2\n",
    "    elif s in \"bcmp\":\n",
    "        return 3\n",
    "    elif s in \"jkuvw\":\n",
    "        return 4\n",
    "    elif s == \"f\":\n",
    "        return 5\n",
    "    elif s == \"z\":\n",
    "        return 6\n",
    "    elif s in \"xy\":\n",
    "        return 8\n",
    "    elif s == \"q\":\n",
    "        return 10\n",
    "    else:\n",
    "        return 0"
   ]
  },
  {
   "cell_type": "markdown",
   "metadata": {
    "slideshow": {
     "slide_type": "subslide"
    }
   },
   "source": [
    "Het tellen van het aantal elementen in een lijst."
   ]
  },
  {
   "cell_type": "code",
   "execution_count": 18,
   "metadata": {
    "slideshow": {
     "slide_type": "fragment"
    }
   },
   "outputs": [],
   "source": [
    "def fun1(L):\n",
    "    LC = [1 for x in L]\n",
    "    return sum(LC)"
   ]
  },
  {
   "cell_type": "markdown",
   "metadata": {
    "slideshow": {
     "slide_type": "notes"
    }
   },
   "source": [
    "Kijk even goed naar wat hier gebeurt. Als `L` een list is dan zal in de functie `LC` een lijst opleveren met allemaal 1'en. Deze 1'en worden opgeteld door onze goede bekende `sum` en als resultaat teruggegeven."
   ]
  },
  {
   "cell_type": "code",
   "execution_count": 19,
   "metadata": {
    "slideshow": {
     "slide_type": "fragment"
    }
   },
   "outputs": [
    {
     "data": {
      "text/plain": [
       "3"
      ]
     },
     "execution_count": 19,
     "metadata": {},
     "output_type": "execute_result"
    }
   ],
   "source": [
    "fun1([7,8,9])"
   ]
  },
  {
   "cell_type": "markdown",
   "metadata": {
    "slideshow": {
     "slide_type": "subslide"
    }
   },
   "source": [
    "Optelling van Scrabble letter scores"
   ]
  },
  {
   "cell_type": "code",
   "execution_count": 20,
   "metadata": {
    "slideshow": {
     "slide_type": "fragment"
    }
   },
   "outputs": [],
   "source": [
    "def fun2(S):\n",
    "    LC = [letter_score(c) for c in S]\n",
    "    return sum(LC)"
   ]
  },
  {
   "cell_type": "markdown",
   "metadata": {
    "slideshow": {
     "slide_type": "notes"
    }
   },
   "source": [
    "Je roept de functie `letter_score` aan voor elk karakter in de string `S`, en `sum` telt de scores bij elkaar op!"
   ]
  },
  {
   "cell_type": "code",
   "execution_count": 21,
   "metadata": {
    "slideshow": {
     "slide_type": "fragment"
    }
   },
   "outputs": [
    {
     "data": {
      "text/plain": [
       "21"
      ]
     },
     "execution_count": 21,
     "metadata": {},
     "output_type": "execute_result"
    }
   ],
   "source": [
    "fun2(\"quiz\")"
   ]
  },
  {
   "cell_type": "markdown",
   "metadata": {
    "slideshow": {
     "slide_type": "notes"
    }
   },
   "source": [
    "Goede score!"
   ]
  },
  {
   "cell_type": "markdown",
   "metadata": {
    "slideshow": {
     "slide_type": "subslide"
    }
   },
   "source": [
    "### Oneliners\n",
    "\n",
    "```python\n",
    "def len(L):\n",
    "    LC = [1 for x in L]\n",
    "    return sum(LC)\n",
    "```"
   ]
  },
  {
   "cell_type": "markdown",
   "metadata": {
    "slideshow": {
     "slide_type": "fragment"
    }
   },
   "source": [
    "```python\n",
    "def len(L):\n",
    "    return sum([1 for x in L])\n",
    "```"
   ]
  },
  {
   "cell_type": "markdown",
   "metadata": {
    "slideshow": {
     "slide_type": "notes"
    }
   },
   "source": [
    "List comprehesion maakt het mogelijk om met een heel compacte syntax oplossingen te schrijven. Bedenk wel dat dit niet altijd de leesbaarheid ten goede komt en het is geen probleem om het in stukjes uit te schrijven, bijvoorbeeld door het gebruik van een variabele (`LC` in de eerste variant)."
   ]
  },
  {
   "cell_type": "markdown",
   "metadata": {
    "slideshow": {
     "slide_type": "slide"
    }
   },
   "source": [
    "## Condities\n",
    "\n",
    "List comprehension met condities\n",
    "\n",
    "> [ **expressie** voor elke **waarde** in **collectie** als <**test**>]\n"
   ]
  },
  {
   "cell_type": "markdown",
   "metadata": {
    "slideshow": {
     "slide_type": "subslide"
    }
   },
   "source": [
    "```python\n",
    "def vwl(s):\n",
    "    \"\"\"Tel het aantal klinkers\n",
    "    \"\"\"\n",
    "    LC = [1 for x in s ...]\n",
    "    return sum(LC)\n",
    "```"
   ]
  },
  {
   "cell_type": "markdown",
   "metadata": {
    "slideshow": {
     "slide_type": "notes"
    }
   },
   "source": [
    "De functie `vwl` telt klinkers in een woord. Dit is een mooi voorbeeld waar je een conditie moet gebruiken want niet ieder karakter is een klinker!"
   ]
  },
  {
   "cell_type": "code",
   "execution_count": 22,
   "metadata": {
    "slideshow": {
     "slide_type": "fragment"
    }
   },
   "outputs": [],
   "source": [
    "def vwl(s):\n",
    "    \"\"\"Tel het aantal klinkers\n",
    "    \"\"\"\n",
    "    LC = [1 for x in s if x in \"aeiou\"]\n",
    "    return sum(LC)"
   ]
  },
  {
   "cell_type": "code",
   "execution_count": 23,
   "metadata": {
    "slideshow": {
     "slide_type": "fragment"
    }
   },
   "outputs": [
    {
     "data": {
      "text/plain": [
       "9"
      ]
     },
     "execution_count": 23,
     "metadata": {},
     "output_type": "execute_result"
    }
   ],
   "source": [
    "vwl(\"autobandventieldopje\")"
   ]
  },
  {
   "cell_type": "markdown",
   "metadata": {
    "slideshow": {
     "slide_type": "notes"
    }
   },
   "source": [
    "Alweer een goede score! Misschien kan jij een woord bedenken met nóg meer klinkers?"
   ]
  },
  {
   "cell_type": "markdown",
   "metadata": {
    "slideshow": {
     "slide_type": "subslide"
    }
   },
   "source": [
    "```python\n",
    "def count(e, L):\n",
    "    \"\"\"Tel het aantal e in L\n",
    "    \"\"\"\n",
    "    LC = [1 for x in L ...]\n",
    "    return sum(LC)\n",
    "```"
   ]
  },
  {
   "cell_type": "markdown",
   "metadata": {
    "slideshow": {
     "slide_type": "notes"
    }
   },
   "source": [
    "Een ander voorbeeld, tel het aantal elementen in de list `L` die gelijk is aan `e`."
   ]
  },
  {
   "cell_type": "code",
   "execution_count": 24,
   "metadata": {
    "slideshow": {
     "slide_type": "fragment"
    }
   },
   "outputs": [],
   "source": [
    "def count(e, L):\n",
    "    \"\"\"Tel het aantal e in L\n",
    "    \"\"\"\n",
    "    LC = [1 for x in L if x == e]\n",
    "    return sum(LC)"
   ]
  },
  {
   "cell_type": "code",
   "execution_count": 25,
   "metadata": {
    "slideshow": {
     "slide_type": "fragment"
    }
   },
   "outputs": [
    {
     "data": {
      "text/plain": [
       "2"
      ]
     },
     "execution_count": 25,
     "metadata": {},
     "output_type": "execute_result"
    }
   ],
   "source": [
    "count(42, [3, 42, 5, 7, 42])"
   ]
  },
  {
   "cell_type": "markdown",
   "metadata": {
    "slideshow": {
     "slide_type": "slide"
    }
   },
   "source": [
    "## Quiz"
   ]
  },
  {
   "cell_type": "markdown",
   "metadata": {
    "slideshow": {
     "slide_type": "subslide"
    }
   },
   "source": [
    "### Oneven getallen tellen\n",
    "\n",
    "```python\n",
    "def nodds(L):\n",
    "    LC = [... for x in L ...]\n",
    "    return sum(LC)\n",
    "```\n",
    "\n",
    "- input: `L`, een list met getallen\n",
    "- output: het aantal **oneven** getallen in `L`\n",
    "\n",
    "Voorbeeld:\n",
    "\n",
    "```python\n",
    "nodds([3, 4, 5, 7, 42]) == 3\n",
    "```"
   ]
  },
  {
   "cell_type": "markdown",
   "metadata": {
    "slideshow": {
     "slide_type": "subslide"
    }
   },
   "source": [
    "#### Oplossing"
   ]
  },
  {
   "cell_type": "code",
   "execution_count": 26,
   "metadata": {
    "slideshow": {
     "slide_type": "fragment"
    }
   },
   "outputs": [],
   "source": [
    "def nodds(L):\n",
    "    LC = [1 for x in L if x % 2 == 1]\n",
    "    return sum(LC)"
   ]
  },
  {
   "cell_type": "code",
   "execution_count": 27,
   "metadata": {
    "slideshow": {
     "slide_type": "fragment"
    }
   },
   "outputs": [
    {
     "data": {
      "text/plain": [
       "True"
      ]
     },
     "execution_count": 27,
     "metadata": {},
     "output_type": "execute_result"
    }
   ],
   "source": [
    "nodds([3, 4, 5, 7, 42]) == 3"
   ]
  },
  {
   "cell_type": "markdown",
   "metadata": {
    "slideshow": {
     "slide_type": "subslide"
    }
   },
   "source": [
    "### Zelfde waarden in twee lijsten\n",
    "\n",
    "```python\n",
    "def lingo(Y, W):\n",
    "    LC = [... for x in ... if ...]\n",
    "    return sum(LC)\n",
    "```\n",
    "\n",
    "- input: `Y` en `W`, twee lijsten met \"loterij\" getallen (integers)\n",
    "- output: het aantal getallen in `Y` dat ook in `W` voorkomt\n",
    "\n",
    "Voorbeeld:\n",
    "\n",
    "```python\n",
    "lingo([5, 7, 42, 47], [3, 4, 5, 7, 44, 47]) == 3\n",
    "```\n",
    "\n",
    "Tip: de `in` expressie kan hier handig zijn (`x in W`)"
   ]
  },
  {
   "cell_type": "markdown",
   "metadata": {
    "slideshow": {
     "slide_type": "subslide"
    }
   },
   "source": [
    "#### Oplossing"
   ]
  },
  {
   "cell_type": "code",
   "execution_count": 28,
   "metadata": {
    "slideshow": {
     "slide_type": "fragment"
    }
   },
   "outputs": [],
   "source": [
    "def lingo(Y, W):\n",
    "    LC = [1 for x in Y if x in W]\n",
    "    return sum(LC)"
   ]
  },
  {
   "cell_type": "code",
   "execution_count": 29,
   "metadata": {
    "slideshow": {
     "slide_type": "fragment"
    }
   },
   "outputs": [
    {
     "data": {
      "text/plain": [
       "True"
      ]
     },
     "execution_count": 29,
     "metadata": {},
     "output_type": "execute_result"
    }
   ],
   "source": [
    "lingo([5, 7, 42, 47], [3, 4, 5, 7, 44, 47]) == 3"
   ]
  },
  {
   "cell_type": "markdown",
   "metadata": {
    "slideshow": {
     "slide_type": "subslide"
    }
   },
   "source": [
    "### Positieve delers\n",
    "\n",
    "```python\n",
    "def ndivs(N):\n",
    "    LC = [... for x in ... if ...]\n",
    "    return sum(LC)\n",
    "```\n",
    "\n",
    "- input: `N`, een integer >= 2\n",
    "- output: het aantal positieve delers van `N`\n",
    "\n",
    "Voorbeeld:\n",
    "\n",
    "```python\n",
    "ndivs(12) == 6\n",
    "```\n",
    "\n",
    "(de positieve delers van 12 zijn `[1, 2, 3, 4, 6, 12]`)\n",
    "\n",
    "Tip: gebruik `range` om een reeks getallen van 1 *tot en met* `N` te genereren"
   ]
  },
  {
   "cell_type": "markdown",
   "metadata": {
    "slideshow": {
     "slide_type": "subslide"
    }
   },
   "source": [
    "#### Oplossing"
   ]
  },
  {
   "cell_type": "code",
   "execution_count": 30,
   "metadata": {
    "slideshow": {
     "slide_type": "fragment"
    }
   },
   "outputs": [],
   "source": [
    "def ndivs(N):\n",
    "    LC = [1 for x in range(1, N + 1) if N % x == 0]\n",
    "    return sum(LC)"
   ]
  },
  {
   "cell_type": "code",
   "execution_count": 31,
   "metadata": {
    "slideshow": {
     "slide_type": "fragment"
    }
   },
   "outputs": [
    {
     "data": {
      "text/plain": [
       "True"
      ]
     },
     "execution_count": 31,
     "metadata": {},
     "output_type": "execute_result"
    }
   ],
   "source": [
    "ndivs(12) == 6"
   ]
  },
  {
   "cell_type": "markdown",
   "metadata": {
    "slideshow": {
     "slide_type": "subslide"
    }
   },
   "source": [
    "### Priemgetallen\n",
    "\n",
    "Een uitdaging!\n",
    "\n",
    "```python\n",
    "def primes_up_to(P):\n",
    "    LC = [... for x in ... if ...]\n",
    "    return LC\n",
    "```\n",
    "\n",
    "- input: `P` een integer >= 2\n",
    "- output: de lijst van priemgetallen tot en met `P`\n",
    "\n",
    "Voorbeeld:\n",
    "\n",
    "```python\n",
    "primes_up_to(12) == [2, 3, 5, 7, 11]\n",
    "```"
   ]
  },
  {
   "cell_type": "markdown",
   "metadata": {
    "slideshow": {
     "slide_type": "notes"
    }
   },
   "source": [
    "Ter herinnering, een priemgetal is een heel getal dat precies door twee getallen kan worden gedeeld en waarmee je met de deling een heel getal overhoudt. Een priemgetal is altijd deelbaar door 1 en deelbaar door zichzelf.\n",
    "\n",
    "Bijvoorbeeld het getal 5 heeft precies 2 delers, namelijk 1 en 5. Het getal 4 is geen priemgetal, 4 heeft namelijk 3 delers (1, 2 en 4). Tip: je kan in de conditie de functie `ndivs` gebruiken als in `ndivs(x) == 2`."
   ]
  },
  {
   "cell_type": "markdown",
   "metadata": {
    "slideshow": {
     "slide_type": "subslide"
    }
   },
   "source": [
    "#### Oplossing"
   ]
  },
  {
   "cell_type": "code",
   "execution_count": 32,
   "metadata": {
    "slideshow": {
     "slide_type": "fragment"
    }
   },
   "outputs": [],
   "source": [
    "def primes_up_to(P):\n",
    "    LC = [x for x in range(2, P + 1) if ndivs(x) == 2]\n",
    "    return LC"
   ]
  },
  {
   "cell_type": "code",
   "execution_count": 33,
   "metadata": {
    "slideshow": {
     "slide_type": "fragment"
    }
   },
   "outputs": [
    {
     "data": {
      "text/plain": [
       "True"
      ]
     },
     "execution_count": 33,
     "metadata": {},
     "output_type": "execute_result"
    }
   ],
   "source": [
    "primes_up_to(12) == [2, 3, 5, 7, 11]"
   ]
  },
  {
   "cell_type": "markdown",
   "metadata": {
    "slideshow": {
     "slide_type": "notes"
    }
   },
   "source": [
    "Dit is een goed voorbeeld van een probleem in kleinere stukken opbreken. De functie `ndivs` heeft een heel specifieke taak, maar in gecombineerd met het gebruik in `primes_up_to` kom je tot een krachtige oplossing. Dit principe van *verdeel en heers* wordt ook *compositie* genoemd."
   ]
  },
  {
   "cell_type": "markdown",
   "metadata": {
    "slideshow": {
     "slide_type": "skip"
    }
   },
   "source": [
    "## In de herhaling"
   ]
  },
  {
   "cell_type": "markdown",
   "metadata": {
    "slideshow": {
     "slide_type": "skip"
    }
   },
   "source": [
    "<div><iframe width=\"560\" height=\"315\" src=\"https://www.youtube.com/embed/AhSvKGTh28Q\" frameborder=\"0\" allow=\"accelerometer; autoplay; encrypted-media; gyroscope; picture-in-picture\" allowfullscreen></iframe></div>"
   ]
  },
  {
   "cell_type": "markdown",
   "metadata": {
    "slideshow": {
     "slide_type": "skip"
    }
   },
   "source": [
    "Deze video herhaalt alles wat we tot nu met list comprehension hebben gedaan. Je zal ook een ander gebruik zien van `for x in ...` die een *for each* lus wordt genoemd. Met een sequentiële benadering van herhaling hebben we alvast een begin gemaakt dit concept te verkennen en we komen hier later uitgebreid op terug als we *imperatief* programmeren gaan verkennen, een ander programmeerparadigma."
   ]
  }
 ],
 "metadata": {
  "kernelspec": {
   "display_name": "Python 3 (ipykernel)",
   "language": "python",
   "name": "python3"
  },
  "language_info": {
   "codemirror_mode": {
    "name": "ipython",
    "version": 3
   },
   "file_extension": ".py",
   "mimetype": "text/x-python",
   "name": "python",
   "nbconvert_exporter": "python",
   "pygments_lexer": "ipython3",
   "version": "3.9.5"
  }
 },
 "nbformat": 4,
 "nbformat_minor": 4
}
