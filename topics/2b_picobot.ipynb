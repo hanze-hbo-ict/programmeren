{
 "cells": [
  {
   "cell_type": "markdown",
   "metadata": {
    "slideshow": {
     "slide_type": "slide"
    }
   },
   "source": [
    "# Picobot\n",
    "\n",
    "Nu al een nieuwe taal?"
   ]
  },
  {
   "cell_type": "markdown",
   "metadata": {
    "slideshow": {
     "slide_type": "subslide"
    }
   },
   "source": [
    "## Python\n",
    "\n",
    "*General purpose language*: een taal voor **algemene** toepassingen\n",
    "\n",
    "Je zult dit semester met ongeveer 50% van de taal kennismaken."
   ]
  },
  {
   "cell_type": "markdown",
   "metadata": {
    "slideshow": {
     "slide_type": "subslide"
    }
   },
   "source": [
    "## Picobot\n",
    "\n",
    "*Special purpose language*: een taal voor een **specifieke** toepassing\n",
    "\n",
    "Je zult binnen een halfuur met 100% van de taal kennismaken."
   ]
  },
  {
   "cell_type": "markdown",
   "metadata": {
    "slideshow": {
     "slide_type": "slide"
    }
   },
   "source": [
    "## Picobot simulator\n",
    "\n",
    "[www.cs.hmc.edu/picobot](http://www.cs.hmc.edu/picobot)\n",
    "\n",
    "![Picobot](images/2/picobot.png)"
   ]
  },
  {
   "cell_type": "markdown",
   "metadata": {
    "slideshow": {
     "slide_type": "slide"
    }
   },
   "source": [
    "## Het probleem\n",
    "\n",
    "De volledige dekking van een kamer:\n",
    "\n",
    "- met alleen *lokale* waarneming\n",
    "- zonder herinnering"
   ]
  },
  {
   "cell_type": "markdown",
   "metadata": {
    "slideshow": {
     "slide_type": "notes"
    }
   },
   "source": [
    "Met lokale waarneming bedoelen we dat Picobot alleen maar zijn directe omgeving ziet, het heeft geen idee van de volledige ruimte! Denk aan het stofzuigen van jouw kamer: jij kent de volledige ruimte, maar Picobot kan helaas niet zo ver kijken ...\n",
    "\n",
    "Picobot is als een Roomba, een robotstofzuiger met maar een beperkt aantal sensoren. En Picobot is héél eenvoudig, het heeft maar een beperkt geheugen en kan zich dus niet herinneren waar het eerder is geweest!"
   ]
  },
  {
   "cell_type": "markdown",
   "metadata": {
    "slideshow": {
     "slide_type": "subslide"
    }
   },
   "source": [
    "<div><iframe width=\"560\" height=\"315\" src=\"https://www.youtube.com/embed/3on-2f29j2Q?end=18\" frameborder=\"0\" allow=\"accelerometer; encrypted-media; gyroscope; picture-in-picture\" allowfullscreen></iframe></div>"
   ]
  },
  {
   "cell_type": "markdown",
   "metadata": {
    "slideshow": {
     "slide_type": "subslide"
    }
   },
   "source": [
    "![Doel](images/2/pico1.png)"
   ]
  },
  {
   "cell_type": "markdown",
   "metadata": {
    "slideshow": {
     "slide_type": "subslide"
    }
   },
   "source": [
    "![Lost roomba](images/2/lost_roomba.jpg)"
   ]
  },
  {
   "cell_type": "markdown",
   "metadata": {
    "slideshow": {
     "slide_type": "notes"
    }
   },
   "source": [
    "Picobot beweegt zich in een *afgesloten* ruimte anders kunnen bijzondere dingen gebeuren..."
   ]
  },
  {
   "cell_type": "markdown",
   "metadata": {
    "slideshow": {
     "slide_type": "slide"
    },
    "tags": []
   },
   "source": [
    "### De omgeving\n",
    "\n",
    "Picobot ziet alleen maar ten N, E, W, en S\n",
    "\n",
    "(NOWZ? ... Noord, Oost, West, Zuid!)"
   ]
  },
  {
   "cell_type": "markdown",
   "metadata": {
    "slideshow": {
     "slide_type": "subslide"
    }
   },
   "source": [
    "![NEWS](images/2/picobot_news.png)\n",
    "\n",
    "**`xxxx`**"
   ]
  },
  {
   "cell_type": "markdown",
   "metadata": {
    "slideshow": {
     "slide_type": "notes"
    }
   },
   "source": [
    "Picobot kan dus alleen maar ten (N) noorden, (E) oosten, (W) westen en (Z) zuiden kijken, en niet bijvoorbeeld noord-west! We gaan de volgende notatie gebruiken om de omgeving aan te duiden: **`xxxx`**. Als Picobot muren ziet dan zal het in de notatie volgens NEWS worden aangegegven, bijvoorbeeld:"
   ]
  },
  {
   "cell_type": "markdown",
   "metadata": {
    "slideshow": {
     "slide_type": "subslide"
    }
   },
   "source": [
    "![NEWS](images/2/picobot_sample.png)\n",
    "\n",
    "**`NxWx`**"
   ]
  },
  {
   "cell_type": "markdown",
   "metadata": {},
   "source": [
    "In dit geval geven we aan dat ten (N) noorden en (W) westen zich een muur bevindt en ten oosten en zuiden lege ruimte, daar blijft **`x`** staan. De huidige omgeving kan dus worden beschrven door **`NxWx`**."
   ]
  },
  {
   "cell_type": "markdown",
   "metadata": {
    "slideshow": {
     "slide_type": "subslide"
    }
   },
   "source": [
    "![NEWS](images/2/picobot_options.png)"
   ]
  },
  {
   "cell_type": "markdown",
   "metadata": {
    "slideshow": {
     "slide_type": "notes"
    }
   },
   "source": [
    "In totaal zijn $2^4 == 16$ combinaties van omgevingen mogelijk waar Picobot zich op een enkel moment in kan bevinden. Bedenk ook dat de situatie **`NEWS`** niet zal kunnen gebeuren!"
   ]
  },
  {
   "cell_type": "markdown",
   "metadata": {
    "slideshow": {
     "slide_type": "slide"
    },
    "tags": []
   },
   "source": [
    "### De staat\n",
    "\n",
    "De huidige staat (\"situatie\") waar Picbot zich in bevindt"
   ]
  },
  {
   "cell_type": "markdown",
   "metadata": {
    "slideshow": {
     "slide_type": "notes"
    }
   },
   "source": [
    "Picobot's geheugen is een *enkel* getal en start altijd met `0` en dit representeert de huidie staat. *Staat* en *omgeving* is alles wat de Picobot kent van de wereld!"
   ]
  },
  {
   "cell_type": "markdown",
   "metadata": {
    "slideshow": {
     "slide_type": "subslide"
    }
   },
   "source": [
    "![NEWS](images/2/picobot_state.png)"
   ]
  },
  {
   "cell_type": "markdown",
   "metadata": {
    "slideshow": {
     "slide_type": "slide"
    },
    "tags": []
   },
   "source": [
    "### De regels\n",
    "\n",
    "Het combineren in regels van omgeving en staat om door Picobot te worden uitgevoerd "
   ]
  },
  {
   "cell_type": "markdown",
   "metadata": {
    "slideshow": {
     "slide_type": "subslide"
    }
   },
   "source": [
    "Bijvoorbeeld, twee mogelijke regels:\n",
    "\n",
    "|           | Huidige staat | Omgeving   |   Stap   | Richting | Nieuwe staat |\n",
    "|-----------|---------------|------------|:--------:|----------|--------------|\n",
    "| *regel A* |    **`0`**    | **`Nxxx`** | **`->`** |  **`S`** |    **`0`**   |\n",
    "| *regel B* |    **`0`**    | **`xxxx`** | **`->`** |  **`N`** |    **`0`**   |\n"
   ]
  },
  {
   "cell_type": "markdown",
   "metadata": {
    "slideshow": {
     "slide_type": "notes"
    }
   },
   "source": [
    "Lees een regel (bijvoorbeeld regel A) als volgt: *als* de huidige staat van Picobot `0` is en de omgeving gelijk is aan **`Nxxx`**, neem dan één stap richting (S) zuid en zet de *nieuwe* staat op `0`. \n",
    "\n",
    "Zoals je straks kunt zien zal je een regel als volgt voor Picobot kunnen schrijven (syntax):\n",
    "\n",
    "**`0 Nxxx -> S 0`**\n",
    "\n",
    "Als Picobot een stap heeft genomen zal het het alle regels weer doornemen tot het een regel ziet die overeenkomt met zijn huidige *staat* en *omgeving* en zal deze vervolgens uitvoeren."
   ]
  },
  {
   "cell_type": "markdown",
   "metadata": {
    "slideshow": {
     "slide_type": "subslide"
    }
   },
   "source": [
    "### Wildcards\n",
    "\n",
    "Een optionele aanduiding van de omgeving\n",
    "\n",
    "|           | Huidige staat | Omgeving   |   Stap   | Richting | Nieuwe staat |\n",
    "|-----------|---------------|------------|:--------:|----------|--------------|\n",
    "| *regel A* |    **`0`**    | **`x***️`** | **`->`** |  **`S`** |    **`0`**   |\n"
   ]
  },
  {
   "cell_type": "markdown",
   "metadata": {
    "slideshow": {
     "slide_type": "notes"
    }
   },
   "source": [
    "Met een asterisk (\\*) kan je aangeven dat een bepaalde richting optioneel is. In dit voorbeeld **moet** het (N) noorden leeg zijn, (O) oost, (W) west en (Z) zuid **mogen** zowel leeg als gevuld zijn."
   ]
  },
  {
   "cell_type": "markdown",
   "metadata": {
    "slideshow": {
     "slide_type": "slide"
    }
   },
   "source": [
    "## Complexiteit\n",
    "\n",
    "Hoeveel regels zijn nodig?"
   ]
  },
  {
   "cell_type": "markdown",
   "metadata": {
    "slideshow": {
     "slide_type": "subslide"
    }
   },
   "source": [
    "![Picobot plain](images/2/picobotPlain.png)"
   ]
  },
  {
   "cell_type": "markdown",
   "metadata": {
    "slideshow": {
     "slide_type": "notes"
    }
   },
   "source": [
    "Picobot is een complex probleem, maar hoe complex? Het kortste Picobot programma om een lege ruimte te doorlopen telt **6 regels** ..."
   ]
  },
  {
   "cell_type": "markdown",
   "metadata": {
    "slideshow": {
     "slide_type": "subslide"
    }
   },
   "source": [
    "![Picobot maze](images/2/picobotMaze.png)"
   ]
  },
  {
   "cell_type": "markdown",
   "metadata": {
    "slideshow": {
     "slide_type": "notes"
    }
   },
   "source": [
    "Het kortste Picobot programma om dit doolhof te doorlopen telt **8 regels**. Met maar *twee* extra regels valt dit ogenschijnlijk veel complexer probleem op te lossen! We nemen je stap voor stap door een mogelijke strategie om dit in een beperkt aantal regels op te lossen."
   ]
  },
  {
   "cell_type": "markdown",
   "metadata": {
    "slideshow": {
     "slide_type": "slide"
    }
   },
   "source": [
    "(picobot-maze-algorithm)=\n",
    "### Algoritmen\n",
    "\n",
    "*Right Hand Rule*\n",
    "\n",
    "[https://en.wikipedia.org/wiki/Maze_solving_algorithm](https://en.wikipedia.org/wiki/Maze_solving_algorithm)"
   ]
  },
  {
   "cell_type": "markdown",
   "metadata": {
    "slideshow": {
     "slide_type": "notes"
    }
   },
   "source": [
    "Eén mogelijke strategie voor een oplossing is de \"Right Hand Rule\", oftwel blijf de wand steeds aan één kant volgen (dit kan zowel de linker- als rechterkant zijn, zolang je maar consequent een richting blijft aanhouden!)."
   ]
  },
  {
   "cell_type": "markdown",
   "metadata": {
    "slideshow": {
     "slide_type": "subslide"
    }
   },
   "source": [
    "### Richting\n",
    "\n",
    "Richting is belangrijk want daarmee weten we wat links of rechts voor Picobot is!"
   ]
  },
  {
   "cell_type": "markdown",
   "metadata": {
    "slideshow": {
     "slide_type": "subslide"
    }
   },
   "source": [
    "### De staat\n",
    "\n",
    "Deeloplossing: gebruik de staat om aan te geven in welke *richting* Picobot staat:\n",
    "\n",
    "- staat **`0`** = (N) noord\n",
    "- staat **`1`** = (E) oost\n",
    "- staat **`2`** = (W) west\n",
    "- staat **`3`** = (S) zuid\n"
   ]
  },
  {
   "cell_type": "markdown",
   "metadata": {
    "slideshow": {
     "slide_type": "notes"
    }
   },
   "source": [
    "Maar hoe nu om te gaan met de omgeving (**`NEWS`**)? Als je het doolhof bekijkt zal je zien dat je met een beperkt aantal situaties te maken heb: Picobot kan zich in een gang, een kruispunt of een doodlopend punt bevinden!"
   ]
  },
  {
   "cell_type": "markdown",
   "metadata": {
    "slideshow": {
     "slide_type": "subslide"
    }
   },
   "source": [
    "### Situaties\n",
    "\n",
    "Afhankelijk van de situatie (de combinatie van *staat* en *omgeving*) zullen regels moeten worden opgesteld. De drie mogelijke situaties zijn:\n",
    "\n",
    "- situatie A: een gang\n",
    "- situatie B: een splitsing\n",
    "- situatie C: een doodlopend punt\n"
   ]
  },
  {
   "cell_type": "markdown",
   "metadata": {
    "slideshow": {
     "slide_type": "notes"
    }
   },
   "source": [
    "Op basis van staat (welke richting Picobot gaat) en omgeving (gang, splitsing of doodlopend) kan je nu regels gaan opstellen!"
   ]
  },
  {
   "cell_type": "markdown",
   "metadata": {
    "slideshow": {
     "slide_type": "subslide"
    }
   },
   "source": [
    "#### A. De gang regel\n",
    "\n",
    "| Huidige staat | Omgeving   |   Stap   | Richting | Nieuwe staat |\n",
    "|---------------|------------|:--------:|----------|--------------|\n",
    "|    **`0`**    | **`xE**`** | **`->`** |  **`N`** |    **`0`**   |\n",
    "\n",
    "Als je naar het (N) noorden staat (de staat is 0!) met een wand aan de rechterkant en open ruimte naar voren, neem dan een stap naar voorwaarts.\n"
   ]
  },
  {
   "cell_type": "markdown",
   "metadata": {
    "slideshow": {
     "slide_type": "subslide"
    }
   },
   "source": [
    "#### B. De splitsing regel\n",
    "\n",
    "| Huidige staat | Omgeving   |   Stap   | Richting | Nieuwe staat |\n",
    "|---------------|------------|:--------:|----------|--------------|\n",
    "|    **`0`**    | **`*x**`** | **`->`** |  **`E`** |    **`1`**   |\n",
    "\n",
    "Als je naar het (N) noorden staat en er is *geen* wand aan de rechterkant, stap dan naar (E) oost om de wand te blijven volgen en zet de staat op 1 (richting (O) oost).\n"
   ]
  },
  {
   "cell_type": "markdown",
   "metadata": {
    "slideshow": {
     "slide_type": "subslide"
    }
   },
   "source": [
    "#### C. De doodlopend punt regel\n",
    "\n",
    "| Huidige staat | Omgeving   |   Stap   | Richting | Nieuwe staat |\n",
    "|---------------|------------|:--------:|----------|--------------|\n",
    "|    **`0`**    | **`NE**`** | **`->`** |  **`X`** |    **`2`**   |\n",
    "\n",
    "Schrijf 1 of 2 regels om Picobot rechts te houden als het een doodlopend punt tegenkomt. Let op, richting **`X`** betekent *blijf staan*!"
   ]
  },
  {
   "cell_type": "markdown",
   "metadata": {
    "slideshow": {
     "slide_type": "notes"
    }
   },
   "source": [
    "Herhaal dit principe voor situatie A, B of C nu voor elke mogelijke richting die Picobot op kan gaan om tot een complete set van regels te komen! Zou je het aantal slim kunnen reduceren tot 8 regels (ons record)?"
   ]
  }
 ],
 "metadata": {
  "kernelspec": {
   "display_name": "Python 3 (ipykernel)",
   "language": "python",
   "name": "python3"
  },
  "language_info": {
   "codemirror_mode": {
    "name": "ipython",
    "version": 3
   },
   "file_extension": ".py",
   "mimetype": "text/x-python",
   "name": "python",
   "nbconvert_exporter": "python",
   "pygments_lexer": "ipython3",
   "version": "3.9.5"
  }
 },
 "nbformat": 4,
 "nbformat_minor": 4
}
