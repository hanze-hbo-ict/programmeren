{
 "cells": [
  {
   "cell_type": "markdown",
   "metadata": {},
   "source": [
    "# Basis"
   ]
  },
  {
   "cell_type": "markdown",
   "metadata": {},
   "source": [
    "## Opdracht 1b\n",
    "b. Maak nu een nieuwe functie `power(b, p)` door de bovenstaande functie te kopiëren en aan te passen, of door de functie zelf te schrijven op dezelfde manier. Deze functie moet aan de volgende eisen voldoen:\n",
    "\n",
    "-   Accepteert een numerieke waarde `b` (base, grondtal)\n",
    "-   Accepteert een niet-negatieve integer `p` (power, macht) (`p` kan 0 zijn)\n",
    "-   Geeft de waarde van `b ** p` terug\n",
    "-   De functie moet een `for`-lus gebruiken! Je mag niet gewoon `b ** p` gebruiken...\n",
    "-   In dit geval doen we alsof `power(0, 0)` gelijk is aan `1.0`, ook als dat wiskundig niet helemaal juist is."
   ]
  },
  {
   "cell_type": "code",
   "execution_count": 1,
   "metadata": {},
   "outputs": [
    {
     "name": "stdout",
     "output_type": "stream",
     "text": [
      "power(2, 5): is 32 == 32\n",
      "power(5, 2): is 25 == 25\n",
      "power(42, 0): is 1 == 1\n",
      "power(0, 42): is 0 == 0\n",
      "power(0, 0): is 1 == 1\n"
     ]
    }
   ],
   "source": [
    "def power(b,p):\n",
    "    result = 1\n",
    "    for x in range(0,p):\n",
    "        result = result * b\n",
    "    return result\n",
    "\n",
    "print(\"power(2, 5): is 32 ==\", power(2, 5))\n",
    "print(\"power(5, 2): is 25 ==\", power(5, 2))\n",
    "print(\"power(42, 0): is 1 ==\", power(42, 0))\n",
    "print(\"power(0, 42): is 0 ==\", power(0, 42))\n",
    "print(\"power(0, 0): is 1 ==\", power(0, 0))"
   ]
  },
  {
   "cell_type": "markdown",
   "metadata": {},
   "source": [
    "## Opdracht 2b\n",
    "b. Maak nu zelf een functie `summed_odds(L)` door deze functie als voorbeeld te gebruiken, die\n",
    "\n",
    "-   Een lijst integers `L` accepteert.\n",
    "-   Je mag ervan uitgaan dat de lijst alleen integers bevat.\n",
    "-   De functie moet de som teruggeven van alle **oneven** getallen in `L`.\n",
    "-   Als er geen oneven getallen in de lijst zijn, moet de functie 0 teruggeven.\n",
    "-   Maak gebruik van een lus!"
   ]
  },
  {
   "cell_type": "code",
   "execution_count": 3,
   "metadata": {},
   "outputs": [],
   "source": [
    "def summed_odds(l):\n",
    "    result = 0\n",
    "    for x in l:\n",
    "        if x % 2 == 1:\n",
    "            result = result + x\n",
    "    return result\n",
    "\n",
    "assert summed_odds([4, 5, 6]) == 5\n",
    "assert summed_odds(range(3, 10)) == 24"
   ]
  },
  {
   "cell_type": "markdown",
   "metadata": {},
   "source": [
    "## Opdracht 3b\n",
    "b. Gebruik `count_guesses` als voorbeeld om een variant te schrijven die we `until_a_repeat(high)` gaan noemen.\n",
    "\n",
    "-   Deze functie houdt een lijst `L` bij van alle getallen die geraden zijn. Begin met `L = []`!\n",
    "-   We blijven getallen raden zolang alle elementen van `L` uniek zijn (dus zolang er geen herhalingen zijn).\n",
    "    -   Gebruik een `while`-lus!\n",
    "    -   Gebruik de functie `unique(L)` hieronder die een boolean teruggeeft.\n",
    "-   Binnen de `while`-lus doet de funtie het volgende:\n",
    "    -   Gok een getal van 0 tot high met behulp van `range(0, high)`\n",
    "    -   Houd het aantal geraden getallen bij (bijvoorbeeld met een telvariabele)\n",
    "    -   Voeg het getal toe aan de lijst `L`\n",
    "-   Als de `while`-lus klaar is moet de functie het aantal geraden getallen teruggeven dat nodig was om een dubbel getal te krijgen."
   ]
  },
  {
   "cell_type": "code",
   "execution_count": 9,
   "metadata": {},
   "outputs": [
    {
     "name": "stdout",
     "output_type": "stream",
     "text": [
      "6\n"
     ]
    }
   ],
   "source": [
    "import random\n",
    "\n",
    "def unique(L):\n",
    "    \"\"\"Returns whether all elements in L are unique.\n",
    "\n",
    "    Argument: L, a list of any elements.\n",
    "    Return value: True, if all elements in L are unique,\n",
    "            or False, if there is any repeated element\n",
    "    \"\"\"\n",
    "    if len(L) == 0:\n",
    "        return True\n",
    "    elif L[0] in L[1:]:\n",
    "        return False\n",
    "    else:\n",
    "        return unique(L[1:])  # in deze functie mag je WEL recursie gebruiken!\n",
    "\n",
    "def until_a_repeat(high):\n",
    "    result = []\n",
    "    while unique(result):\n",
    "        ran = random.choice(range(0,high))\n",
    "        result = result + [ran]\n",
    "    return len(result)\n",
    "\n",
    "print(until_a_repeat(365))"
   ]
  }
 ],
 "metadata": {
  "kernelspec": {
   "display_name": "Python 3",
   "language": "python",
   "name": "python3"
  },
  "language_info": {
   "codemirror_mode": {
    "name": "ipython",
    "version": 3
   },
   "file_extension": ".py",
   "mimetype": "text/x-python",
   "name": "python",
   "nbconvert_exporter": "python",
   "pygments_lexer": "ipython3",
   "version": "3.11.2"
  }
 },
 "nbformat": 4,
 "nbformat_minor": 2
}
