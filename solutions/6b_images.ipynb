{
 "cells": [
  {
   "cell_type": "markdown",
   "metadata": {},
   "source": [
    "# Fraaie plaatjes"
   ]
  },
  {
   "cell_type": "markdown",
   "metadata": {},
   "source": [
    "## Opdracht 2"
   ]
  },
  {
   "cell_type": "markdown",
   "metadata": {},
   "source": [
    "```python\n",
    "def greyscale():\n",
    "    \"\"\" run this function to read in the in.png image,\n",
    "        change it, and write out the result to out.png\n",
    "    \"\"\"\n",
    "    im_pix = get_rgb('in.png')  # lees het bestand in.png in\n",
    "    print(\"De eerste twee pixels van de eerste rij zijn\", im_pix[0][0:2])\n",
    "    #\n",
    "    # Onthoud dat im_pix een lijst (de afbeelding) van\n",
    "    # lijsten (elke rij) van lijsten (elke pixel is [R,G,B]) is\n",
    "    #\n",
    "    new_pix = []\n",
    "    for row in im_pix:\n",
    "        new_row=[]\n",
    "        for pixel in row:\n",
    "            lum = int(pixel[0] * 0.21 + pixel[1] * 0.72 + pixel[2] * 0.07)\n",
    "            new_pixel = [lum, lum, lum]\n",
    "            new_row+= [new_pixel]\n",
    "        new_pix += [new_row]\n",
    "    # sla nu het bestand 'out.png' op\n",
    "    save_rgb(new_pix, 'out.png')\n",
    "```"
   ]
  },
  {
   "cell_type": "markdown",
   "metadata": {},
   "source": [
    "## Opdracht 3"
   ]
  },
  {
   "cell_type": "markdown",
   "metadata": {},
   "source": [
    "```python\n",
    "def binarize(thresh):\n",
    "    \"\"\" run this function to read in the in.png image,\n",
    "        change it, and write out the result to out.png\n",
    "    \"\"\"\n",
    "    im_pix = get_rgb('in.png')  # lees het bestand in.png in\n",
    "    print(\"De eerste twee pixels van de eerste rij zijn\", im_pix[0][0:2])\n",
    "    #\n",
    "    # Onthoud dat im_pix een lijst (de afbeelding) van\n",
    "    # lijsten (elke rij) van lijsten (elke pixel is [R,G,B]) is\n",
    "    #\n",
    "    new_pix = []\n",
    "    for row in im_pix:\n",
    "        new_row=[]\n",
    "        for pixel in row:\n",
    "            lum = int(pixel[0] * 0.21 + pixel[1] * 0.72 + pixel[2] * 0.07)\n",
    "            if lum < thresh:\n",
    "                new_pixel = [0, 0, 0]\n",
    "            else:\n",
    "                new_pixel = [255, 255, 255]\n",
    "            new_row+= [new_pixel]\n",
    "        new_pix += [new_row]\n",
    "    # sla nu het bestand 'out.png' op\n",
    "    save_rgb(new_pix, 'out.png')\n",
    "```"
   ]
  },
  {
   "cell_type": "markdown",
   "metadata": {},
   "source": [
    "## Opdracht 4"
   ]
  },
  {
   "cell_type": "markdown",
   "metadata": {},
   "source": [
    "```python\n",
    "def flip_vert():\n",
    "    \"\"\" run this function to read in the in.png image,\n",
    "        change it, and write out the result to out.png\n",
    "    \"\"\"\n",
    "    im_pix = get_rgb('in.png')  # lees het bestand in.png in\n",
    "    print(\"De eerste twee pixels van de eerste rij zijn\", im_pix[0][0:2])\n",
    "    #\n",
    "    # Onthoud dat im_pix een lijst (de afbeelding) van\n",
    "    # lijsten (elke rij) van lijsten (elke pixel is [R,G,B]) is\n",
    "    #\n",
    "    new_pix = im_pix[::-1]\n",
    "    # sla nu het bestand 'out.png' op\n",
    "    save_rgb(new_pix, 'out.png')\n",
    "```"
   ]
  },
  {
   "cell_type": "markdown",
   "metadata": {},
   "source": [
    "## Opdracht 5"
   ]
  },
  {
   "cell_type": "markdown",
   "metadata": {},
   "source": [
    "```python\n",
    "def flip_horiz():\n",
    "    \"\"\" run this function to read in the in.png image,\n",
    "        change it, and write out the result to out.png\n",
    "    \"\"\"\n",
    "    im_pix = get_rgb('in.png')  # lees het bestand in.png in\n",
    "    print(\"De eerste twee pixels van de eerste rij zijn\", im_pix[0][0:2])\n",
    "    #\n",
    "    # Onthoud dat im_pix een lijst (de afbeelding) van\n",
    "    # lijsten (elke rij) van lijsten (elke pixel is [R,G,B]) is\n",
    "    #\n",
    "    new_pix = []\n",
    "    for row in im_pix:\n",
    "        new_row= row[::-1]\n",
    "        new_pix += [new_row]\n",
    "    # sla nu het bestand 'out.png' op\n",
    "    save_rgb(new_pix, 'out.png')\n",
    "\n",
    "```"
   ]
  },
  {
   "cell_type": "markdown",
   "metadata": {},
   "source": [
    "## Opdracht 6\n",
    "Schrijf de functie mirror_vert, die de afbeelding over de horizontale as (d.w.z. dat het bovenste deel ondersteboven wordt gespiegeld aan de onderkant van het beeld). Het eenvoudigst is om de onderste helft van im_pix te vervangen door de omgekeerde rijen van de bovenste helft. Om dit te doen, gebruik je de ingebouwde functie get_wh() in png.py om de hoogte van im_pix te bepalen."
   ]
  },
  {
   "cell_type": "markdown",
   "metadata": {},
   "source": [
    "```python\n",
    "def mirror_vert():\n",
    "    \"\"\" run this function to read in the in.png image,\n",
    "        change it, and write out the result to out.png\n",
    "    \"\"\"\n",
    "    im_pix = get_rgb('in.png')  # lees het bestand in.png in\n",
    "    print(\"De eerste twee pixels van de eerste rij zijn\", im_pix[0][0:2])\n",
    "    #\n",
    "    # Onthoud dat im_pix een lijst (de afbeelding) van\n",
    "    # lijsten (elke rij) van lijsten (elke pixel is [R,G,B]) is\n",
    "    #\n",
    "    top_half = im_pix[:im_pix.get_wh()//2]\n",
    "    bottom_half = top_half[::-1]\n",
    "    new_pix = top_half + bottom_half\n",
    "    \n",
    "    # sla nu het bestand 'out.png' op\n",
    "    save_rgb(new_pix, 'out.png')\n",
    "\n",
    "```"
   ]
  },
  {
   "cell_type": "markdown",
   "metadata": {},
   "source": [
    "## Opdacht 7"
   ]
  },
  {
   "cell_type": "markdown",
   "metadata": {},
   "source": [
    "Schrijf de functie mirror_horiz die gelijk is aan de functie mirror_vert, maar dan over de verticale as. In plaats van de onderste rijen te vervangen door de omgekeerde bovenste rijen (zoals in mirror_vert), vervang je de laatste helft van de pixels in elke rij door de omgekeerde eerste helft van de pixels."
   ]
  },
  {
   "cell_type": "markdown",
   "metadata": {},
   "source": [
    "```python\n",
    "def mirror_horiz():\n",
    "    \"\"\" run this function to read in the in.png image,\n",
    "        change it, and write out the result to out.png\n",
    "    \"\"\"\n",
    "    im_pix = get_rgb('in.png')  # lees het bestand in.png in\n",
    "    print(\"De eerste twee pixels van de eerste rij zijn\", im_pix[0][0:2])\n",
    "    #\n",
    "    # Onthoud dat im_pix een lijst (de afbeelding) van\n",
    "    # lijsten (elke rij) van lijsten (elke pixel is [R,G,B]) is\n",
    "    #\n",
    "    new_pix = []\n",
    "    for row in im_pix:\n",
    "        left_half = row[:len(row)//2]\n",
    "        right_half = left_half[::-1]\n",
    "        new_row = left_half + right_half\n",
    "        new_pix += [new_row]\n",
    "    # sla nu het bestand 'out.png' op\n",
    "    save_rgb(new_pix, 'out.png')\n",
    "```"
   ]
  },
  {
   "cell_type": "markdown",
   "metadata": {},
   "source": [
    "## Opdracht 8"
   ]
  },
  {
   "cell_type": "markdown",
   "metadata": {},
   "source": [
    "Schrijf de functie scale, die de afbeelding verkleint naar de helft van de oorspronkelijke afmetingen (dit zal een kwart van het oorspronkelijke oppervlakte zijn). De eenvoudigste manier om dit te doen is om elke tweede pixel in elke rij te verwijderen (het afbeelding horizontaal te schalen) en elke tweede rij te verwijderen (de afbeelding verticaal te schalen)."
   ]
  },
  {
   "cell_type": "markdown",
   "metadata": {},
   "source": [
    "```python\n",
    "def scale():\n",
    "    \"\"\" run this function to read in the in.png image,\n",
    "        change it, and write out the result to out.png\n",
    "    \"\"\"\n",
    "    im_pix = get_rgb('in.png')  # lees het bestand in.png in\n",
    "    print(\"De eerste twee pixels van de eerste rij zijn\", im_pix[0][0:2])\n",
    "    #\n",
    "    # Onthoud dat im_pix een lijst (de afbeelding) van\n",
    "    # lijsten (elke rij) van lijsten (elke pixel is [R,G,B]) is\n",
    "    #\n",
    "    im_pix = im_pix[::2]\n",
    "    new_pix = []\n",
    "    for row in im_pix:\n",
    "        new_row = row[::2]\n",
    "        new_pix += [new_row]\n",
    "    # sla nu het bestand 'out.png' op\n",
    "    save_rgb(new_pix, 'out.png')\n",
    "```"
   ]
  }
 ],
 "metadata": {
  "language_info": {
   "name": "python"
  }
 },
 "nbformat": 4,
 "nbformat_minor": 2
}
