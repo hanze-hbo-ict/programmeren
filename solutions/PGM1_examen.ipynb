{
 "cells": [
  {
   "cell_type": "markdown",
   "metadata": {},
   "source": [
    "# PGM1 proeftentamen uitwerkingen"
   ]
  },
  {
   "cell_type": "markdown",
   "metadata": {},
   "source": [
    "Dit zijn de uitwerkingen voor de proeftentamen van programmeren 1. De opdrachten kunnen op verschillende manieren opgelost worden. In veel van de uitwerkingen staan extra veel comments om uit te leggen wat de code doet. Dit hoeft niet."
   ]
  },
  {
   "cell_type": "markdown",
   "metadata": {},
   "source": [
    "## Opdracht 1\n",
    "In opdracht 1 wordt er gevraagd of je kan werken met variabelen: Kan je variabelen aanmaken en er een berekingen mee maken?"
   ]
  },
  {
   "cell_type": "code",
   "execution_count": 1,
   "metadata": {},
   "outputs": [
    {
     "name": "stdout",
     "output_type": "stream",
     "text": [
      "opbrengst 450\n",
      "omzet 1096.8000000000002\n"
     ]
    }
   ],
   "source": [
    "opbrengst_tomaten = 150\n",
    "opbrengst_paprikas = 120\n",
    "opbrengst_komkommers = 180\n",
    "\n",
    "totale_opbrengst = opbrengst_tomaten + opbrengst_paprikas + opbrengst_komkommers\n",
    "\n",
    "totale_omzet = opbrengst_tomaten * 3.24 + opbrengst_paprikas * 2.87 + opbrengst_komkommers * 1.48\n",
    "\n",
    "print(\"opbrengst\",totale_opbrengst )\n",
    "print(\"omzet\", totale_omzet)"
   ]
  },
  {
   "cell_type": "markdown",
   "metadata": {},
   "source": [
    "## Opdracht 2\n",
    "In opdracht 2 wordt er gevraagd of je een if-then-else tree kan maken. "
   ]
  },
  {
   "cell_type": "code",
   "execution_count": null,
   "metadata": {},
   "outputs": [],
   "source": [
    "windspeed = 150 # is niet nodig, maar is handig om je code te testen.\n",
    "\n",
    "if windspeed >= 252:\n",
    "    print(5)\n",
    "elif windspeed >= 209:\n",
    "    print(4)\n",
    "elif windspeed >= 178:\n",
    "    print(3)\n",
    "elif windspeed >= 154:\n",
    "    print(2)\n",
    "elif windspeed >= 119:\n",
    "    print(1)\n",
    "elif windspeed >= 63:\n",
    "    print(\"TS\")\n",
    "else:\n",
    "    print(\"TD\")\n"
   ]
  },
  {
   "cell_type": "markdown",
   "metadata": {},
   "source": [
    "## Opdracht 3\n",
    "In deze opdracht wordt er gevraagd of je een for-loop begrijpt en fouten kan vinden in een studje code. "
   ]
  },
  {
   "cell_type": "code",
   "execution_count": null,
   "metadata": {},
   "outputs": [],
   "source": [
    "def over_hundred(L):\n",
    "    result = 0\n",
    "    for i in range(len(L)): # L[i] verzaakt een indexerror, oplossing is range te gebruiken. Andere optie is om L[i] te vervangen met i.\n",
    "        result = result + L[i] # result wordt twee keer opgeteld door het gebruik van +=. \n",
    "        if result > 100:\n",
    "            return True\n",
    "    return False    # De return stond in de for lus maar moet juist aan het einde van de for lus staan. \n",
    "\n",
    "test = [12,13,14] \n",
    "print(over_hundred(test))  # lc bestaat niet. vervangen met test. Het is ook mogelijk om test te vervangen met lc"
   ]
  },
  {
   "cell_type": "markdown",
   "metadata": {},
   "source": [
    "## Opdracht 4\n",
    "De vraag is of je een while loop kan maken. "
   ]
  },
  {
   "cell_type": "markdown",
   "metadata": {},
   "source": [
    "```python\n",
    "count = 0   # bijhouden hoeveel getallen er zijn ingevuld\n",
    "som = 0 # bijhouden de waarde van de getallen\n",
    "inp = int(input(\"Geef positief getal: \"))   # vragen om input\n",
    "while inp >= 0:  # Blijf herhalen zolang de input positief is, \n",
    "    count = count + 1   #counter verhogen\n",
    "    som = som + inp # nieuwe input optellen\n",
    "    inp = int(input(\"Geef positief getal: \"))   # vraag voor nieuwe input\n",
    "print(\"som\", som, 'aantal', count) # print resultaat\n",
    "```"
   ]
  },
  {
   "cell_type": "markdown",
   "metadata": {},
   "source": [
    "## Opdracht 5"
   ]
  },
  {
   "cell_type": "markdown",
   "metadata": {},
   "source": [
    "De vraag is of je een dubbele lus kan maken. "
   ]
  },
  {
   "cell_type": "code",
   "execution_count": 2,
   "metadata": {},
   "outputs": [
    {
     "name": "stdout",
     "output_type": "stream",
     "text": [
      "1\n",
      "12\n",
      "123\n",
      "1234\n",
      "12345\n"
     ]
    }
   ],
   "source": [
    "def number_stairs(size):    # defineer de functie\n",
    "    for y in range(1, size+1):  # aantal rijen is gelijk aan size. De plus 1 zorgt ervoor dat er geteld wordt vanaf 1 tot en met n. \n",
    "        for x in range(1, y+1): # aantal kolommen is gelijk aan de huidige rij. \n",
    "            print(x, end=\"\")    # print het getal. De end=\"\" zorgt ervoor dat er geen volgende regel wordt geprint\n",
    "        print() #einde van de rij bereikt, print einde regel.  \n",
    "        \n",
    "number_stairs(5) # roep de functie op. Gezien de functie zelf al print, is hier geen print nodig."
   ]
  },
  {
   "cell_type": "markdown",
   "metadata": {},
   "source": [
    "# Opgave 6\n",
    "In deze opdracht moet je zelf een probleem kunnen oplossen. Bij deze opdracht moet ook een docstring en drie assertions toegevoegd worden."
   ]
  },
  {
   "cell_type": "code",
   "execution_count": 8,
   "metadata": {},
   "outputs": [
    {
     "name": "stdout",
     "output_type": "stream",
     "text": [
      "123t\n"
     ]
    }
   ],
   "source": [
    "def end_check(phrase):\n",
    "    \"\"\"\n",
    "    de functie end_check(phrase) accepteert een string phrase en \n",
    "    geeft de langste substring terug die aan het begin en aan het einde van de gegeven phrase staat, zonder te overlappen.\n",
    "    \"\"\"\n",
    "    result = \"\" #functie geef een string terug, dus result is een string\n",
    "    for i in range(len(phrase)//2): # de for lus mag maar tot de helft lopen, want overlag is niet toegestaan\n",
    "        if phrase[i] == phrase[(i*-1)-1]:   #twee characters vergelijken. \n",
    "            result += phrase[i] #Als ze gelijk zijn, dan toevoegen tot het resultaat.\n",
    "        else:   #zijn ze niet gelijk aan elkaar\n",
    "            break   # stop de lus\n",
    "\n",
    "    return result ## geef het resultaat terug\n",
    "\n",
    "# drie assertions\n",
    "assert end_check(\"test\") == \"t\"\n",
    "assert end_check(\"testing\") == \"\"\n",
    "assert end_check(\"123test321\") == \"123t\""
   ]
  },
  {
   "cell_type": "markdown",
   "metadata": {},
   "source": [
    "## Opdracht 7\n",
    "In deze opdracht moet er een context probleem opgelost worden met behulp van een hulpfunctie. "
   ]
  },
  {
   "cell_type": "markdown",
   "metadata": {},
   "source": [
    "a. "
   ]
  },
  {
   "cell_type": "code",
   "execution_count": 9,
   "metadata": {},
   "outputs": [],
   "source": [
    "def count_char(zin, let):\n",
    "    \"\"\"\n",
    "    Deze functie kriigt twee strings binnen waarbij zin een hele zin is en let een enkele letter. \n",
    "    De functie geeft terug hoe vaak let voorkomt in zin. \n",
    "    \"\"\"\n",
    "    result = 0 # om te tellen is er een counter nodig\n",
    "    for x in zin:   # ga alle characters in de zin door\n",
    "        if x == let:    # als de character gelijk is aan let\n",
    "            result += 1 # tel er 1 bij op\n",
    "    return result   # als de lus klaar is, geef het antwoord terug\n",
    "\n",
    "assert count_char(\"testing\", \"e\") == 1\n",
    "assert count_char(\"testing\", \"a\") == 0\n",
    "assert count_char(\"testing\", \"t\") == 2"
   ]
  },
  {
   "cell_type": "markdown",
   "metadata": {},
   "source": [
    "b. "
   ]
  },
  {
   "cell_type": "code",
   "execution_count": null,
   "metadata": {},
   "outputs": [],
   "source": [
    "def max_freq_letter(z):\n",
    "    \"\"\"\n",
    "    functie max_freq_letter(z) accepteert een string z . \n",
    "    Deze functie moet het karakter in z teruggeven met de hoogste frequentie.\n",
    "    \"\"\"\n",
    "    result = \"\" # resultaat moet een string zijn\n",
    "    max_let = 0 # huidige maximum\n",
    "    for x in z: # ga alle characters in de zin langs\n",
    "        count = count_char(z, x)    # tel hoevaak x voorkomt in z\n",
    "        if count > max_let: #Komt x meer voor dan de huidige 'winnaar'\n",
    "            max_let = count #Zo ja, vervang met nieuwe aantal\n",
    "            result = x  # vervang 'winaar'met nieuwe x\n",
    "    return result    #geef resultaat terug. \n",
    "\n",
    "assert max_freq_letter(\"testing\") == \"t\"\n",
    "assert max_freq_letter(\"ditiseentest\") == \"e\" \n",
    "assert max_freq_letter(\"hottentotten\") == \"5\"\n"
   ]
  }
 ],
 "metadata": {
  "kernelspec": {
   "display_name": "Python 3",
   "language": "python",
   "name": "python3"
  },
  "language_info": {
   "codemirror_mode": {
    "name": "ipython",
    "version": 3
   },
   "file_extension": ".py",
   "mimetype": "text/x-python",
   "name": "python",
   "nbconvert_exporter": "python",
   "pygments_lexer": "ipython3",
   "version": "3.11.2"
  }
 },
 "nbformat": 4,
 "nbformat_minor": 2
}
