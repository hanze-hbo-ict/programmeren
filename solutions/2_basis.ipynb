{
 "cells": [
  {
   "cell_type": "markdown",
   "metadata": {},
   "source": [
    "# Basis"
   ]
  },
  {
   "cell_type": "markdown",
   "metadata": {},
   "source": [
    "Opdracht: [Interactieve fictie](/problems/2_basis)"
   ]
  },
  {
   "cell_type": "markdown",
   "metadata": {},
   "source": [
    "Dit is een van de vele mogelijke manieren om deze opdracht te maken."
   ]
  },
  {
   "cell_type": "markdown",
   "metadata": {},
   "source": [
    "```python\n",
    "import time\n",
    "\n",
    "# change to 0.0 for testing or speed runs,\n",
    "# ... or larger for dramatic effect!\n",
    "delay = 4.0\n",
    "\n",
    "username = input(\"Hoe noemt men u, edele avonturier? \")\n",
    "\n",
    "print()\n",
    "print(\"Welkom,\", username, \"in het Libracomplex, een labyrint\")\n",
    "print(\"van gewichtige wonderen en grote hoeveelheden ... taart!\")\n",
    "print()\n",
    "print(\"Uw queeste: om een taart te vinden, en te eten!\")\n",
    "print()\n",
    "\n",
    "flavor = input(\"Welke smaak zoekt u? \")\n",
    "if flavor == \"aardbeien\":\n",
    "    print(\"Uw wijsheid in taartkeuze is overweldigend!\")\n",
    "elif flavor == \"kersen\":\n",
    "    print(\"Een Limburgse klassieker: een goede keuze, avonturier!\")\n",
    "elif flavor == \"appel\":\n",
    "    print(\"De oude goude die in elke situatie past, kruimelig of volgens grootmoeders recept!\")\n",
    "elif flavor == \"slagroom\":\n",
    "    print(\"Romige met een variatie aan fruit voor hen die niet kunnen kiezen!\")\n",
    "elif flavor == \"mokka\":\n",
    "    print(\"Een goed alternatief voor hen die niet van fruit houden!\")\n",
    "elif flavor == \"chocolade\":\n",
    "    print(\"Bewaart u een stukje voor mij?\")\n",
    "else:\n",
    "    print(\"Ieder zijn smaak...\")\n",
    "time.sleep(delay)\n",
    "```"
   ]
  },
  {
   "cell_type": "markdown",
   "metadata": {},
   "source": [
    "Er zijn zoveel meer smaken dan eerder genoemd.\n",
    "Dit is daarom een makkelijke plek om meerdere elif statements toe te voegen en\n",
    "zo te voldoen aan de tweede eis in de opdracht (if, minstens twee elif's en else)."
   ]
  },
  {
   "cell_type": "markdown",
   "metadata": {},
   "source": [
    "```python\n",
    "print()\n",
    "print(\"Voorwaarts naar de queeste!\\n\")\n",
    "time.sleep(delay)\n",
    "print(\"U volgt de gang waar u begint en komt bij een kruispunt.\\n\")\n",
    "time.sleep(delay)\n",
    "# Drie opties is ideaal voor een if, elif, else constructie\n",
    "# Optie 1: de linker gang\n",
    "print(\"De gang naar links verandert snel in een donker gat.\")\n",
    "print(\"Een van de muren in deze gang lijkt een knop te hebben.\\n\")\n",
    "time.sleep(delay)\n",
    "\n",
    "# Optie 2: de rechter gang\n",
    "print(\"De gang naar rechts is dim verlicht, maakt een bocht\")\n",
    "print(\"naar links en ruikt naar verse broodjes.\\n\")\n",
    "time.sleep(delay)\n",
    "\n",
    "# Optie 3: rechtdoor\n",
    "print(\"De goed verlichte gang rechtdoor leidt naar een gesloten deur.\\n\")\n",
    "\n",
    "time.sleep(delay)\n",
    "print()\n",
    "```"
   ]
  },
  {
   "cell_type": "markdown",
   "metadata": {},
   "source": [
    "```{note}\n",
    "Door slim gebruik te maken van `time.sleep(delay)` kun je voorkomen dat het scherm overspoeld wordt met tekst.\n",
    "Dit geeft de gebruiker/speler tijd om te lezen.\n",
    "```"
   ]
  },
  {
   "cell_type": "markdown",
   "metadata": {},
   "source": [
    "```python\n",
    "choice1 = input(\"Weerstaat u de verleiding om op de knop in de linker gang te drukken? [ja/nee] \")\n",
    "# Twee opties en alleen een optie heeft een effect is ideaal voor een enkele if constructie\n",
    "print()\n",
    "if(choice1 == \"nee\"):\n",
    "    print()\n",
    "    print(\"Uw nieuwsgierigheid wint en u slaat op de knop.\")\n",
    "    print(\"Aan het einde van de linker gang springt een licht aan.\")\n",
    "    print(\"Een deur verschool zich in het donker.\\n\")\n",
    "    time.sleep(delay)\n",
    "```"
   ]
  },
  {
   "cell_type": "markdown",
   "metadata": {},
   "source": [
    "Door een gebeurtenis in te bouwen die alleen plaats vindt als de gebruiker/speler iets wel of niet doet,\n",
    "kunnen we nu een enkele if statement toepassen om aan de laatste eis te voldoen (alleen een if).\n"
   ]
  },
  {
   "cell_type": "markdown",
   "metadata": {},
   "source": [
    "```python\n",
    "print()\n",
    "choice2 = input(\"Welke kant gaat u op? [links/rechts/rechtdoor] \")\n",
    "if(choice2 == \"links\"):\n",
    "    if(choice1 == \"ja\"): # Er is niet op de knop gedrukt dus het is nog steeds donker!\n",
    "        print()\n",
    "        print(\"U loopt het donker van de gang tegemoet.\")\n",
    "        print(\"Na een paar passen in het donker botst u\")\n",
    "        print(\"tegen een deur die met luid kabaal gelijk open schiet.\")\n",
    "        print(\"U stapt in het duister de deur door, maar er\")\n",
    "        print(\"is geen vloer onder uw voeten. U valt en valt.\\n\")\n",
    "    else: # Het licht brandt\n",
    "        print()\n",
    "        print(\"U loopt naar de dichte deur.\")\n",
    "        print(\"Zodra u de klink aanraakt, schiet de deur\")\n",
    "        print(\"met veel kracht en lawaai open. Het licht laat een\")\n",
    "        print(\"vloerloze ruimte zien. U draait zich om om terug\")\n",
    "        print(\"te lopen, maar een onzichtbare muur houdt u tegen.\")\n",
    "        print(\"De enige weg vooruit is naar beneden, een sprong in het duister.\")\n",
    "        print(\"U springt en valt en valt. Het licht is niet meer te zien.\\n\")\n",
    "\n",
    "    time.sleep(delay)\n",
    "    time.sleep(delay)\n",
    "    print(\"Met een plons valt u in een door maanlicht\")\n",
    "    print(\"verlichte vijver niet ver van uw huis.\")\n",
    "    print(\"Helaas geen taart voor u, \", username, \".\")\n",
    "    print(\"Snel naar huis voor droge kleding!\\n\")\n",
    "```\n"
   ]
  },
  {
   "cell_type": "markdown",
   "metadata": {},
   "source": [
    "We hebben hier de gebruiker/speler drie opties gegeven.\n",
    "Met een if-elif-else constructie kunnen we bepalen welke keuze er gemaakt is en\n",
    "voldoen aan de eerste eis (if, precies één elif en else).\n",
    "Hier zien we dat er voor gekozen is om if te gebruiken voor de keuze links.\n",
    "Of de gebruiker/speler wel of niet op de knop heeft gedrukt, heeft effect op het verhaal.\n",
    "Daarom wordt met een nested if-else gekeken welke versie van het verhaal verteld"
   ]
  },
  {
   "cell_type": "markdown",
   "metadata": {},
   "source": [
    "```python\n",
    "elif(choice2 == \"rechts\"):\n",
    "    print()\n",
    "    print(\"U besluit uw neus te volgen en loopt de rechter gang in.\")\n",
    "    print(\"Als er vers gebakken broodjes zijn dan zal er ook taart zijn toch?\\n\")\n",
    "    time.sleep(delay+2.0)\n",
    "    print(\"U gaat de bocht om en nog een bocht en nog een bocht.\")\n",
    "    print(\"Uw gevoel voor richting is compleet verdwenen, maar de geur,\")\n",
    "    print(\"de geur van heerlijke verse broodjes wordt wel sterker.\\n\")\n",
    "    time.sleep(delay+2.0)\n",
    "    print(\"Eindelijk komt u bij een ruimte vol met ovens, werkbanken en\")\n",
    "    print(\"voorraadkasten vol met ingredienten. Behekste rollers, deegmixers\")\n",
    "    print(\"en andere keukengereedschap zijn druk in de weer met het maken van\")\n",
    "    print(\"de meest luxe broodjes die u maar kunt verzinnen. Het water loopt\")\n",
    "    print(\"u in de mond, maar er is geen taart inzicht.\\n\")\n",
    "    time.sleep(delay)\n",
    "\n",
    "    choice3 = input(\"Gaat u opzoek naar taart of is een vers broodje ook goed? [taart/brood] \")\n",
    "    if(choice3 == \"taart\"):\n",
    "        print()\n",
    "        print(\"Verwoed gaat u opzoek naar taart. Zoveel broodjes en geen taart?\")\n",
    "        print(\"Dat kan toch niet! U trekt kastje na kastje open.\")\n",
    "        print(\"Kruiden, vers en gedroogd, alle soorten bloem,\")\n",
    "        print(\"taartvullingen en andere bakbenodigdheden komt u tegen.\")\n",
    "        print(\"Maar geen taart. Als de laatste deur open trekt, wordt alles zwart.\\n\")\n",
    "        time.sleep(delay+3.0)\n",
    "        print(\"U knippert een paar keer met uw ogen en beseft\")\n",
    "        print(\"dat u in uw eigen keuken staat. Alle kastjes\")\n",
    "        print(\"staan open en het is een puinhoop. Bloem overal,\")\n",
    "        print(\"ook op u. Een brandlucht komt uit de oven.\\n\")\n",
    "        time.sleep(delay+3.0)\n",
    "        print(\"Snel doet u de oven open om een zwart geblakerde\")\n",
    "        print(\"taart te zien. Blijkbaar probeerde u zelf een \")\n",
    "        print(flavor, \"taart te maken. Helaas bent u in een\")\n",
    "        print(\"dagdroom belandt en is er geen taart voor u.\\n\")\n",
    "    elif(choice3 == \"brood\"):\n",
    "        print()\n",
    "        print(\"Al snel ziet u waar de verse broodjes ingepakt worden.\")\n",
    "        print(\"Het duurt niet lang voor u een zakje vindt met een assortiment\")\n",
    "        print(\"waar u blij van wordt. Met een te vrede gevoel loopt u naar\")\n",
    "        print(\"de deur met uitgang. Zodra u door de deur stapt,\")\n",
    "        print(\"stapt u uw eigen keuken in. Hier staat al een glas van uw\")\n",
    "        print(\"favoriete drankje met de juiste temperatuur klaar en een\")\n",
    "        print(\"bordje. Geen taart voor u, maar wel heerlijk vers brood.\\n\")\n",
    "\n",
    "else:\n",
    "    print()\n",
    "    print(\"U loopt naar de deur recht voor u en opent hem.\")\n",
    "    print(\"Een kamer strekt zich voor u uit; in het gedimde licht ziet u\")\n",
    "    print(\"aan de ene kant een tafel met onduidelijke vormen en\")\n",
    "    print(\"materialen, en aan de andere kant een deur op een kier,\")\n",
    "    print(\"waarachter gelach --is dat gelach?-- van studenten klinkt.\")\n",
    "    time.sleep(delay)\n",
    "\n",
    "    print()\n",
    "    choice4 = input(\"Kiest u de tafel of de deur? [tafel/deur] \")\n",
    "    print()\n",
    "\n",
    "    if choice4 == \"tafel\":\n",
    "        print(\"Als u de tafel benadert lijkt de onduidelijke massa\")\n",
    "        print(\"een steeds grotere vorm aan te nemen, tot ...\")\n",
    "\n",
    "        time.sleep(delay)\n",
    "\n",
    "        print(\"... ze herkenbaar wordt als een grote stapel verpakte\")\n",
    "        print(\"taarten, het karton strak geplooid. Uw uitdaging --en\")\n",
    "        print(\"honger-- is op smakelijke wijze opgelost.\")\n",
    "        print()\n",
    "        print(\"Tot ziens,\", username, \"!\\n\")\n",
    "    else:\n",
    "        print(\"U opent de deur en ziet een congregatie van wijze dames\")\n",
    "        print(\"en heren, die allen genieten van hun taken. Samenwerking\")\n",
    "        print(\"en vrolijkheid zijn hier in overvloed aanwezig, maar...\")\n",
    "\n",
    "        time.sleep(delay)\n",
    "\n",
    "        print(\"...ze hebben ALLE taart opgegeten! Resten van dozen\")\n",
    "        print(\"liggen overal verspreid. U wordt duizelig en grijpt\")\n",
    "        print(\"naar een taart. Er is niets. U ademt uit en valt,\")\n",
    "        print(\"en ligt verslagen tussen de resten van dozen die u\")\n",
    "        print(\"langzaam bedekken tot verstikking volgt.\")\n",
    "        print()\n",
    "        print(\"Vaarwel,\", username, \".\\n\")\n",
    "```\n"
   ]
  }
 ],
 "metadata": {
  "language_info": {
   "name": "python"
  }
 },
 "nbformat": 4,
 "nbformat_minor": 2
}
