{
 "cells": [
  {
   "cell_type": "markdown",
   "metadata": {},
   "source": [
    "# Python CodeBat"
   ]
  },
  {
   "cell_type": "markdown",
   "metadata": {},
   "source": [
    "## List-2 problems"
   ]
  },
  {
   "cell_type": "code",
   "execution_count": null,
   "metadata": {},
   "outputs": [],
   "source": [
    "def count_evens(nums):\n",
    "  result = 0\n",
    "  for x in nums:\n",
    "    if x % 2 == 0:\n",
    "      result += 1\n",
    "  return result"
   ]
  },
  {
   "cell_type": "code",
   "execution_count": null,
   "metadata": {},
   "outputs": [],
   "source": [
    "def big_diff(nums):\n",
    "  smallest = nums[0]\n",
    "  biggest = nums[0]\n",
    "  for x in nums:\n",
    "    if x > biggest:\n",
    "      biggest = x\n",
    "    if x < smallest:\n",
    "      smallest = x\n",
    "  return biggest - smallest"
   ]
  },
  {
   "cell_type": "code",
   "execution_count": null,
   "metadata": {},
   "outputs": [],
   "source": [
    "def centered_average(nums):\n",
    "  smallest = nums[0]\n",
    "  biggest = nums[0]\n",
    "  totalSum = 0\n",
    "  for x in nums:\n",
    "    if x < smallest:\n",
    "      smallest = x\n",
    "    if x > biggest:\n",
    "      biggest = x\n",
    "    totalSum += x\n",
    "  \n",
    "  totalSum = totalSum - smallest - biggest\n",
    "  mean = totalSum / (len(nums) - 2)\n",
    "  return mean"
   ]
  },
  {
   "cell_type": "code",
   "execution_count": null,
   "metadata": {},
   "outputs": [],
   "source": [
    "def sum13(nums):\n",
    "  result = 0\n",
    "  skip = False\n",
    "  for x in nums:\n",
    "    if x == 13:\n",
    "      skip = True\n",
    "    elif skip:\n",
    "      skip = False\n",
    "    else:\n",
    "      result += x\n",
    "  return result"
   ]
  },
  {
   "cell_type": "code",
   "execution_count": null,
   "metadata": {},
   "outputs": [],
   "source": [
    "def sum67(nums):\n",
    "  result = 0\n",
    "  skip = False\n",
    "  for x in nums:\n",
    "    if x == 6:\n",
    "      skip = True\n",
    "    elif x == 7 and skip:\n",
    "      skip = False\n",
    "    elif not(skip):\n",
    "      result += x\n",
    "  return result"
   ]
  },
  {
   "cell_type": "code",
   "execution_count": null,
   "metadata": {},
   "outputs": [],
   "source": [
    "def has22(nums):\n",
    "  twoFound = False\n",
    "  for x in nums:\n",
    "    if x == 2 and twoFound:\n",
    "      return True\n",
    "    elif x == 2:\n",
    "      twoFound = True\n",
    "    else:\n",
    "      twoFound = False\n",
    "  return False"
   ]
  },
  {
   "cell_type": "markdown",
   "metadata": {},
   "source": [
    "## String-2 problems"
   ]
  },
  {
   "cell_type": "code",
   "execution_count": null,
   "metadata": {},
   "outputs": [],
   "source": [
    "def double_char(str):\n",
    "    result = ''\n",
    "    for c in str:\n",
    "        result += c*2\n",
    "    return result"
   ]
  },
  {
   "cell_type": "code",
   "execution_count": null,
   "metadata": {},
   "outputs": [],
   "source": [
    "def count_hi(str):\n",
    "  hFound = False\n",
    "  result = 0\n",
    "  for c in str:\n",
    "    if c == 'i' and hFound:\n",
    "      result += 1\n",
    "      hFound = False\n",
    "    elif c == 'h':\n",
    "      hFound = True\n",
    "    else:\n",
    "      hFound = False\n",
    "  return result"
   ]
  },
  {
   "cell_type": "code",
   "execution_count": null,
   "metadata": {},
   "outputs": [],
   "source": [
    "def cat_dog(str):\n",
    "  cats = 0\n",
    "  dogs = 0\n",
    "  for x in range(0, len(str)):\n",
    "    if x + 2 < len(str): \n",
    "      if str[x] == 'c' and str[x+1] == 'a' and str[x+2] == 't':\n",
    "        cats += 1\n",
    "      if str[x] == 'd' and str[x+1] == 'o' and str[x+2] == 'g':\n",
    "        dogs += 1\n",
    "  return cats == dogs"
   ]
  },
  {
   "cell_type": "code",
   "execution_count": null,
   "metadata": {},
   "outputs": [],
   "source": [
    "def count_code(str):\n",
    "  codes = 0\n",
    "  for x in range(0, len(str)):\n",
    "    if x + 3 < len(str): \n",
    "      if str[x] == 'c' and str[x+1] == 'o' and str[x+3] == 'e':\n",
    "        codes += 1\n",
    "  return codes\n"
   ]
  },
  {
   "cell_type": "code",
   "execution_count": null,
   "metadata": {},
   "outputs": [],
   "source": [
    "def end_other(a, b):\n",
    "  turnA = a[::-1].lower()\n",
    "  turnB = b[::-1].lower()\n",
    "  length = min(len(a), len(b))\n",
    "  for x in range(0, length):\n",
    "    if turnA[x] != turnB[x]:\n",
    "      return False\n",
    "  return True"
   ]
  },
  {
   "cell_type": "code",
   "execution_count": null,
   "metadata": {},
   "outputs": [],
   "source": [
    "def xyz_there(str):\n",
    "  for x in range(0, len(str)-2):\n",
    "    if str[x] == 'x' and str[x+1]== 'y' and str[x+2] == 'z':\n",
    "      if x == 0:\n",
    "        return True\n",
    "      elif str[x-1] != '.':\n",
    "        return True\n",
    "  return False\n",
    "    "
   ]
  }
 ],
 "metadata": {
  "language_info": {
   "name": "python"
  }
 },
 "nbformat": 4,
 "nbformat_minor": 2
}
