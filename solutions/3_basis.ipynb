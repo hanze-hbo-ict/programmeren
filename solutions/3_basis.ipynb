{
 "cells": [
  {
   "cell_type": "markdown",
   "metadata": {},
   "source": [
    "# Basis"
   ]
  },
  {
   "cell_type": "markdown",
   "metadata": {},
   "source": [
    "## Opdracht 1\n",
    "Schrijf de functie `tpl(x)` die een getal als argument accepteert en drie keer de waarde van dat argument teruggeeft."
   ]
  },
  {
   "cell_type": "code",
   "execution_count": null,
   "metadata": {},
   "outputs": [],
   "source": [
    "def tpl(x):\n",
    "    \"\"\"Geeft driemaal het argument terug\n",
    "\n",
    "    :param x: De waarde om te verdrievoudigen\n",
    "    :type x: int, float of string\n",
    "    :rtype: int, float of string\n",
    "    \"\"\"\n",
    "    return 3 * x"
   ]
  },
  {
   "cell_type": "markdown",
   "metadata": {},
   "source": [
    "We hebben besloten de *docstring* van meer informatie te voorzien voor nog meer duidelijkheid.\n",
    "\n",
    "Aangezien het een simpele taak is die de functie moet doen, kan de berekening gelijk in de return gezet worden."
   ]
  },
  {
   "cell_type": "markdown",
   "metadata": {},
   "source": [
    "## Opdracht 2a\n",
    "Schrijf de functie `min_two(a, b)` die twee getallen als argument accepteert en de kleinste waarde teruggeeft."
   ]
  },
  {
   "cell_type": "code",
   "execution_count": null,
   "metadata": {},
   "outputs": [],
   "source": [
    "def min_two(a, b):\n",
    "    \"\"\" Geeft de laagste van de twee parameters terug\n",
    "\n",
    "    :param a, b: de twee waarden waarvan de laagste terug moet worden gegeven\n",
    "    :type a, b: int\n",
    "    :rtype: int\n",
    "    \"\"\"\n",
    "    if a < b:\n",
    "        return a\n",
    "    elif b < a:\n",
    "        return b\n",
    "    else:\n",
    "        return \"Beide getallen zijn even groot!\""
   ]
  },
  {
   "cell_type": "markdown",
   "metadata": {},
   "source": [
    "In de opdracht werd niet gezegd dat we er van uit mogen gaan dat de twee getallen niet hetzelfde kunnen zijn.\n",
    "\n",
    "Daarom controleert de functie zowel of a kleiner is en of b kleiner is.\n",
    "Als geen van beide kleiner zijn dan zullen de argumenten even groot zijn.\n"
   ]
  },
  {
   "cell_type": "markdown",
   "metadata": {},
   "source": [
    "## Opdracht 2b\n",
    "Schrijf de functie `min_three(a, b, c)` die drie getallen als argument accepteert en de kleinste waarde teruggeeft."
   ]
  },
  {
   "cell_type": "code",
   "execution_count": null,
   "metadata": {},
   "outputs": [],
   "source": [
    "def min_three(a, b, c):\n",
    "    \"\"\" Geeft de laagste van de drie parameters terug\n",
    "\n",
    "    :param a, b, c: de twee waarden waarvan de laagste terug moet worden gegeven\n",
    "    :type a, b, c: int\n",
    "    :rtype: int\n",
    "    \"\"\"\n",
    "    if a < b and a < c:\n",
    "        return a\n",
    "    elif b < a and b < c:\n",
    "        return b\n",
    "    elif c < a and c < b:\n",
    "        return c\n",
    "    else:\n",
    "        return \"Er zijn getallen die even groot zijn!\""
   ]
  },
  {
   "cell_type": "markdown",
   "metadata": {},
   "source": [
    "In de opdracht werd niet gezegd dat we er van uit mogen gaan dat de twee getallen niet hetzelfde kunnen zijn.\n",
    "\n",
    "Daarom controleert de functie zowel of elke variable kleiner is dan de andere twee met de 'and' in de if statements.\n",
    "\n",
    "Als geen van de drie argumenten kleiner zijn dan de andere dan zullen er twee hetzelfde zijn of alle zelfs alle drie."
   ]
  },
  {
   "cell_type": "markdown",
   "metadata": {},
   "source": [
    "## Opdracht 3\n",
    "Schrijf de functie absolute(x,y) dat twee getallen accepteert en de afstand berekent tussen de twee getallen."
   ]
  },
  {
   "cell_type": "code",
   "execution_count": null,
   "metadata": {},
   "outputs": [],
   "source": [
    "def absolute(x, y):\n",
    "    \"\"\" Geeft de afstand tussen de twee parameters terug\n",
    "\n",
    "    :param x, y: de twee waarden waarvan de afstand terug moet worden gegeven\n",
    "    :type a, b, c: int\n",
    "    :rtype: int\n",
    "    \"\"\"\n",
    "    if x >= 0 and y >= 0:\n",
    "        if x > y:\n",
    "            # Bij twee positieve getallen dan krijg je de afstand\n",
    "            # door het kleinste getal van de grote te trekken.\n",
    "            return x - y\n",
    "        else: # y is groter\n",
    "            return y - x\n",
    "    elif x < 0 and y >= 0:\n",
    "        # y is groter dan de negatieve x.\n",
    "        # Omdat x negatief is, is de afstand y plus de positieve versie van x.\n",
    "        return y + (x * -1)\n",
    "    elif x >= 0 and y < 0:\n",
    "        # Nu is y negatief\n",
    "        return x + (y * -1)\n",
    "    else:\n",
    "        # Beide getallen zijn negatief.\n",
    "        # Vindt het kleinste getal.\n",
    "        if x < y:\n",
    "            # De afstand is altijd positief.\n",
    "            # We corrigeren door het kleinste getal positief te maken\n",
    "            # en het kleinste getal negatief te houden.\n",
    "            return (x * -1) + y # Plus een negatief getal wordt een aftrek som\n",
    "        else:\n",
    "            return (y * -1) + x"
   ]
  },
  {
   "cell_type": "markdown",
   "metadata": {},
   "source": [
    "Als beide getallen positief zijn dan hoeft alleen de laagste van de hoogste af getrokken te worden.\n",
    "\n",
    "Als een van beide getallen negatief is dan is het andere getal automatisch het grotere getal. Om dan de juiste waarde te krijgen moet de positieve versie van het negatieve getal opgeteld worden bij het al positieve getal.\n",
    "\n",
    "Als beide getallen negatief zijn dan kunnen we de positieve versie van het kleinste getal nemen en het andere getal daarvan aftrekken.\n",
    "\n",
    "We maken hiervoor gebruik van het feit dat in Python wanneer je een negatief getal ergens bij optelt het een aftrek operatie wordt."
   ]
  }
 ],
 "metadata": {
  "language_info": {
   "name": "python"
  }
 },
 "nbformat": 4,
 "nbformat_minor": 2
}
