{
 "cells": [
  {
   "cell_type": "markdown",
   "metadata": {},
   "source": [
    "# Tekst genereren met Markovprocessen"
   ]
  },
  {
   "cell_type": "markdown",
   "metadata": {},
   "source": [
    "Je doel bij deze opgave is om een programma te schrijven dat uit zichzelf \"betekenisvolle\" tekst kan genereren! Je gaat dit doel bereiken door het schrijven van een algoritme dat met behulp van zogeheten Markovprocessen tekst genereert."
   ]
  },
  {
   "cell_type": "markdown",
   "metadata": {},
   "source": [
    "```python\n",
    "import random\n",
    "\n",
    "def main():\n",
    "    dict = create_dictionary(\"tekst.txt\")\n",
    "    print(generate_text(dict, 100))\n",
    "\n",
    "# functie #1\n",
    "#\n",
    "def create_dictionary(filename):\n",
    "    \"\"\"\n",
    "    genereert een dictionairy waarin staat welke woorden na elk woord komt. \n",
    "    \"\"\"\n",
    "    # bestand lezen\n",
    "    f = open(filename)\n",
    "    text = f.read()\n",
    "    f.close()\n",
    "\n",
    "    # woorden tellen\n",
    "    words = text.split()\n",
    "    print(\"Er zijn\", len(words), \"woorden\")\n",
    "\n",
    "    # het aantal keer dat elk woord voorkomt tellen\n",
    "    d = {}\n",
    "    pw = '$'\n",
    "\n",
    "    for nw in words:\n",
    "        if pw not in d:\n",
    "            d[pw] = [nw]\n",
    "        else:\n",
    "            d[pw] += [nw]\n",
    "        pw = nw\n",
    "        if pw[-1] in \".?!\":\n",
    "            pw = '$'\n",
    "\n",
    "    # d teruggeven voor andere code\n",
    "    return d\n",
    "\n",
    "\n",
    "# functie #2\n",
    "def generate_text(d, n):\n",
    "    \"\"\"\n",
    "    genereert text via de markov process. \n",
    "    \"\"\"\n",
    "    cw = '$'\n",
    "    tekst = ''\n",
    "    for i in range(n):\n",
    "        nw = random.choice(d[cw])\n",
    "        tekst += nw + \" \" \n",
    "        cw = nw\n",
    "        if cw[-1] in \".?!\":\n",
    "            cw = '$'\n",
    "    return tekst\n",
    "\n",
    "main()\n",
    "```"
   ]
  }
 ],
 "metadata": {
  "language_info": {
   "name": "python"
  }
 },
 "nbformat": 4,
 "nbformat_minor": 2
}
