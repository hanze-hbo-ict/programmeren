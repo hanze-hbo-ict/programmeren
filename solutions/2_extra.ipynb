{
 "cells": [
  {
   "cell_type": "markdown",
   "metadata": {},
   "source": [
    "# Extra"
   ]
  },
  {
   "cell_type": "markdown",
   "metadata": {},
   "source": [
    "Opdracht: [vier vieren](/problems/2_extra.md)"
   ]
  },
  {
   "cell_type": "markdown",
   "metadata": {},
   "source": [
    "Dit is een oplossing voor het vier vieren probleem. Deze opdracht is op vele manieren op te lossen gezien er verschillende berekeningen mogelijk zijn om tot het juiste resultaat te komen."
   ]
  },
  {
   "cell_type": "markdown",
   "metadata": {},
   "source": [
    "```python\n",
    "from math import *\n",
    "\n",
    "print(\"Nul is\", 4 + 4 - 4 - 4)\n",
    "print(\"Een is\", (4 + 4 ) / ( 4 + 4 ))\n",
    "print(\"Twee is\", 4 / 4 + 4 / 4)\n",
    "print(\"Drie is\", (4 + 4 + 4) / 4)\n",
    "print(\"Vier is\", sqrt(4) + sqrt(4) + 4 -4)\n",
    "print(\"Vijf is\", sqrt(4)  + 4 - 4/4)\n",
    "print(\"Zes is\", factorial(4) / 4 + 4 - 4)\n",
    "print(\"Zeven is\", 44 / 4 - 4)\n",
    "print(\"Acht is\", 4 + 4 + 4 - 4)\n",
    "print(\"Negen is\",  4 + 4 + 4/4)\n",
    "print(\"Tien is\", 4 / .4  + 4 - 4)\n",
    "print(\"Elf is\", 4 / .4  + 4 / 4)\n",
    "print(\"Twaalf is\", factorial(4)-4-4-4)\n",
    "print(\"Dertien is\", factorial(4) / sqrt(4) + 4 / 4)\n",
    "print(\"Viertien is\", factorial(4) - sqrt(4) - 4 - 4)\n",
    "print(\"Vijftien is\", 44 / 4 + 4)\n",
    "print(\"Zestien is\", 4 + 4 + 4 + 4)\n",
    "print(\"Zeventien is\", 4 * 4 + 4 / 4)\n",
    "print(\"Achtien is\", factorial(4) - sqrt(4) - sqrt(4) - sqrt(4) )\n",
    "print(\"Negentien is\", factorial(4) - 4 - 4 / 4)\n",
    "print(\"Twintig is\", factorial(4) - 4 + 4 - 4 )\n",
    "\n",
    "```"
   ]
  }
 ],
 "metadata": {
  "language_info": {
   "name": "python"
  }
 },
 "nbformat": 4,
 "nbformat_minor": 2
}
