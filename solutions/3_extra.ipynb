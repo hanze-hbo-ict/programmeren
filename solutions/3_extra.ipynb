{
 "cells": [
  {
   "cell_type": "markdown",
   "metadata": {},
   "source": [
    "# Extra"
   ]
  },
  {
   "cell_type": "markdown",
   "metadata": {},
   "source": [
    "## Opdracht 1\n",
    "Schrijf de functie `trap(x)` die een getal accepteert en een omgekeerde `#` trap tekent. Maak gebruik van recursie."
   ]
  },
  {
   "cell_type": "code",
   "execution_count": null,
   "metadata": {},
   "outputs": [],
   "source": [
    "def trap(x):\n",
    "    \"\"\" Print een onderste boven trap naar het scherm\n",
    "\n",
    "    :param x: het aantal traptreden\n",
    "    :type x: int\n",
    "    :rtype: geen return waarde\n",
    "    \"\"\"\n",
    "    if x > 0:\n",
    "        print(x * \"#\")\n",
    "        trap(x - 1)\n",
    "    else:\n",
    "        return"
   ]
  },
  {
   "cell_type": "markdown",
   "metadata": {},
   "source": [
    "Aangezien de bovenste tree de breedste is, kan het programma beginnen bij `x` en vanaf daar aftellen naar 0.\n",
    "\n",
    "Is `x` groter dan nul ( `x > 0` ) dan zijn er nog treden om te plaatsen. Plaats de trede, corrigeer x voor de geplaatste trede en roep de functie nog een keer aan.\n",
    "\n",
    "Is `x` gelijk aan nul ( `x == 0` ) dan zijn er geen treden meer om te plaatsen en kan de functie stoppen."
   ]
  },
  {
   "cell_type": "markdown",
   "metadata": {},
   "source": [
    "## Opdracht 2a\n",
    "Schrijf de functie `lines(x, space)` die twee `#`-lijnen tekent van `x` regels hoog en `space` geeft aan hoeveel spaties tussen de lijnen liggen.\n"
   ]
  },
  {
   "cell_type": "code",
   "execution_count": null,
   "metadata": {},
   "outputs": [],
   "source": [
    "def lines(x, space):\n",
    "    \"\"\" Tekent twee lijnen met # voor <x> aantal regels met <space>\n",
    "    aantal spaties tussen de twee lijnen\n",
    "\n",
    "    :param x: geeft aan hoeveel regels\n",
    "    :param space: geeft aantal spaties tussen de twee lijnen\n",
    "    :type x, space: int\n",
    "    :rtype: geen return waarde\n",
    "    \"\"\"\n",
    "    if x > 0:\n",
    "        print(\"#\" + space*\" \" + \"#\")\n",
    "        lines(x - 1, space)\n",
    "    else:\n",
    "        return"
   ]
  },
  {
   "cell_type": "markdown",
   "metadata": {},
   "source": [
    "Hier geldt hetzelfde als voor de onderste boven trap.\n",
    "\n",
    "Zodra `x` gelijk is aan nul mag het programma stoppen, alle regels zijn naar het scherm geprint.\n",
    "\n",
    "Als `x` nog geen nul is dan moet er nog een regel naar het scherm geprint worden.\n",
    "\n",
    "```{note}\n",
    "We veranderen hier alleen `x` en niet `space`, want de afstand tussen de lijnen is niet afhankelijk van hoeveel regels er al geprint zijn.\n",
    "```"
   ]
  },
  {
   "cell_type": "markdown",
   "metadata": {},
   "source": [
    "## Opdracht 2b\n",
    "Schrijf een functie `print_square(x)` die een getal accepteert en een `#` vierkant van grootte `x` print. Maak gebruik van de functie `lines`."
   ]
  },
  {
   "cell_type": "code",
   "execution_count": null,
   "metadata": {},
   "outputs": [],
   "source": [
    "def print_square(x):\n",
    "    \"\"\" Tekent een vierkant van # met grootte x\n",
    "\n",
    "    :param x: geeft aan hoe groot het vierkant moet zijn\n",
    "    :type x: int\n",
    "    :rtype: geen return waarde\n",
    "    \"\"\"\n",
    "    print(x * \"#\")\n",
    "    lines(x - 2, x - 2)\n",
    "    print(x * \"#\")\n",
    "    return"
   ]
  },
  {
   "cell_type": "markdown",
   "metadata": {},
   "source": [
    "Het verschil tussen `lines()` en `print_square()` is dat `print_square()` begint en eindigt met een volle regel met `x * \"#\"`.\n",
    "\n",
    "Deze kunnen direct naar het scherm geprint worden. Dit betekent dat `lines()` alleen de regels tussen de eerste en de twee hoeft te vullen.\n",
    "\n",
    "We gebruiken `x - 2` voor de `x` van lines omdat er al twee regels geprint worden door `print_square()` zelf.\n",
    "\n",
    "We gebruiken `x - 2` voor space omdat er voor en na de space een `#` geprint wordt. Als we hier geen rekening mee houden dan worden de `lines()` regels te breed."
   ]
  }
 ],
 "metadata": {
  "language_info": {
   "name": "python"
  }
 },
 "nbformat": 4,
 "nbformat_minor": 2
}
