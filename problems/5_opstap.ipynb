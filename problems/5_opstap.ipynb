{
 "cells": [
  {
   "cell_type": "markdown",
   "metadata": {},
   "source": [
    "# Opstap\n",
    "\n",
    "## geneste lussen"
   ]
  },
  {
   "cell_type": "markdown",
   "metadata": {},
   "source": [
    "Wat is de output van de onderstaande programma's?"
   ]
  },
  {
   "cell_type": "markdown",
   "metadata": {},
   "source": [
    "### opgave 1\n",
    "```python\n",
    "name = \"harry\"\n",
    "for x in range(3):\n",
    "    for x in range(3):\n",
    "        print(name)\n",
    "```"
   ]
  },
  {
   "cell_type": "markdown",
   "metadata": {},
   "source": [
    "### opgave 2\n",
    "```python\n",
    "lijst = [1, 2, 3]\n",
    "for i in range(3):\n",
    "    for j in lijst:\n",
    "        print(j)\n",
    "\n",
    "```"
   ]
  },
  {
   "cell_type": "markdown",
   "metadata": {},
   "source": [
    "### opgave 3\n",
    "```python\n",
    "lol = [[1, 2, 3],[ 9, 8, 7]]\n",
    "for i in lol:\n",
    "    for j in i:\n",
    "        print(j)\n",
    "```\n"
   ]
  },
  {
   "cell_type": "markdown",
   "metadata": {},
   "source": [
    "### opgave 4\n",
    "```python\n",
    "lol = [[1, 2, 3][9, 8, 7]]\n",
    "for y in range(len(lol)):\n",
    "    for x in range(len(lol[y]))\n",
    "        print(lol[y][x])\n",
    "```"
   ]
  },
  {
   "cell_type": "markdown",
   "metadata": {},
   "source": [
    "### opgave 5\n",
    "```python\n",
    "lol = [[4, 5], [8, 9], [1, 2]]\n",
    "k = 1\n",
    "for i in range(2):\n",
    "    k = k * 10\n",
    "    for j in range(2):\n",
    "        lol[i][j] *= k\n",
    "print(lol)\n",
    "```\n"
   ]
  },
  {
   "cell_type": "markdown",
   "metadata": {},
   "source": [
    "### opgave 6\n",
    "```python\n",
    "for i in range(5):\n",
    "    for j in range(i):\n",
    "        print(i * j)\n",
    "```"
   ]
  },
  {
   "cell_type": "markdown",
   "metadata": {},
   "source": [
    "### opgave 7\n",
    "```python\n",
    "n = 5\n",
    "for i in range(n):\n",
    "    for j in range(i):\n",
    "        print('*', end=\"\")\n",
    "    print('')\n",
    "```"
   ]
  },
  {
   "cell_type": "markdown",
   "metadata": {},
   "source": [
    "### opgave 8\n",
    "```python\n",
    "n = 5\n",
    "for i in range(n):\n",
    "    for j in range(i):\n",
    "        print('*', end=\"\")\n",
    "    print('')\n",
    "for i in range(n, 0, -1):\n",
    "    for j in range(i):\n",
    "        print('*', end=\"\")\n",
    "    print('')\n",
    "```\n"
   ]
  }
 ],
 "metadata": {
  "language_info": {
   "name": "python"
  }
 },
 "nbformat": 4,
 "nbformat_minor": 2
}
