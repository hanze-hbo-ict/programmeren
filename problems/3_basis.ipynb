{
 "cells": [
  {
   "cell_type": "markdown",
   "metadata": {
    "editable": true,
    "slideshow": {
     "slide_type": ""
    },
    "tags": []
   },
   "source": [
    "# Basis"
   ]
  },
  {
   "cell_type": "markdown",
   "metadata": {},
   "source": [
    "## Functies schrijven"
   ]
  },
  {
   "cell_type": "markdown",
   "metadata": {},
   "source": [
    "Leerdoel: Schrijven van simpele functies"
   ]
  },
  {
   "cell_type": "markdown",
   "metadata": {},
   "source": [
    "Deze opgave bestaat uit het maken van verschillende functies. Vergeet niet elke functie te testen met assertions en vergeet de docstrings niet."
   ]
  },
  {
   "cell_type": "markdown",
   "metadata": {
    "editable": true,
    "slideshow": {
     "slide_type": ""
    },
    "tags": []
   },
   "source": [
    "### Opdracht 1"
   ]
  },
  {
   "cell_type": "markdown",
   "metadata": {
    "editable": true,
    "slideshow": {
     "slide_type": ""
    },
    "tags": []
   },
   "source": [
    "Schrijf de functie `tpl(x)` die een getal als argument accepteert en drie keer de waarde van dat argument teruggeeft.\n"
   ]
  },
  {
   "cell_type": "markdown",
   "metadata": {
    "editable": true,
    "slideshow": {
     "slide_type": ""
    },
    "tags": []
   },
   "source": [
    "```ipython\n",
    "In : tpl(4)\n",
    "Out: 12\n",
    "\n",
    "In: tpl(\"hoi\")\n",
    "Out: \"hoihoihoi\"\n",
    "```"
   ]
  },
  {
   "cell_type": "code",
   "execution_count": null,
   "metadata": {
    "editable": true,
    "slideshow": {
     "slide_type": ""
    },
    "tags": [
     "skip-execution"
    ]
   },
   "outputs": [],
   "source": [
    "# jouw oplossing"
   ]
  },
  {
   "cell_type": "markdown",
   "metadata": {
    "editable": true,
    "slideshow": {
     "slide_type": ""
    },
    "tags": []
   },
   "source": [
    "### Opdracht 2"
   ]
  },
  {
   "cell_type": "markdown",
   "metadata": {
    "editable": true,
    "slideshow": {
     "slide_type": ""
    },
    "tags": []
   },
   "source": [
    "a. Schrijf de functie `min_two(a, b)` die twee getallen als argument accepteert en de kleinste waarde teruggeeft."
   ]
  },
  {
   "cell_type": "markdown",
   "metadata": {
    "editable": true,
    "slideshow": {
     "slide_type": ""
    },
    "tags": []
   },
   "source": [
    "b. Schrijf de functie `min_three(a, b, c)` die drie getallen als argument accepteert en de kleinste waarde teruggeeft."
   ]
  },
  {
   "cell_type": "code",
   "execution_count": null,
   "metadata": {
    "editable": true,
    "slideshow": {
     "slide_type": ""
    },
    "tags": [
     "skip-execution"
    ]
   },
   "outputs": [],
   "source": [
    "# jouw oplossing"
   ]
  },
  {
   "cell_type": "markdown",
   "metadata": {},
   "source": [
    "### Opdracht 3"
   ]
  },
  {
   "cell_type": "markdown",
   "metadata": {
    "editable": true,
    "slideshow": {
     "slide_type": ""
    },
    "tags": []
   },
   "source": [
    "Schrijf de functie `absolute(x,y)` die twee getallen accepteert en de afstand berekent tussen de twee getallen."
   ]
  },
  {
   "cell_type": "markdown",
   "metadata": {
    "editable": true,
    "slideshow": {
     "slide_type": ""
    },
    "tags": []
   },
   "source": [
    "```ipython\n",
    "In : absolute(3, 10)\n",
    "Out: 7\n",
    "\n",
    "In: absolute(-3, 10)\n",
    "Out: 13\n",
    "```"
   ]
  },
  {
   "cell_type": "code",
   "execution_count": null,
   "metadata": {
    "editable": true,
    "slideshow": {
     "slide_type": ""
    },
    "tags": [
     "skip-execution"
    ]
   },
   "outputs": [],
   "source": [
    "# jouw oplossing"
   ]
  },
  {
   "cell_type": "markdown",
   "metadata": {},
   "source": [
    "## Syntax van recursie"
   ]
  },
  {
   "cell_type": "markdown",
   "metadata": {},
   "source": [
    "Leerdoel: Begrijpen wat er gebeurt als een functie zichzelf aanroept"
   ]
  },
  {
   "cell_type": "markdown",
   "metadata": {
    "editable": true,
    "slideshow": {
     "slide_type": ""
    },
    "tags": []
   },
   "source": [
    "### Opdracht 1"
   ]
  },
  {
   "cell_type": "markdown",
   "metadata": {
    "editable": true,
    "slideshow": {
     "slide_type": ""
    },
    "tags": []
   },
   "source": [
    "\n",
    "```python\n",
    "def main():\n",
    "    \"\"\"\n",
    "    Main functie. Roept de andere functies op om hun werk te doen.\n",
    "    \"\"\"\n",
    "    x = function(10)\n",
    "\n",
    "\n",
    "def function(x):\n",
    "    print(x)\n",
    "    if x == 0:\n",
    "        return\n",
    "    function(x-1)\n",
    "\n",
    "main()\n",
    "```"
   ]
  },
  {
   "cell_type": "markdown",
   "metadata": {
    "editable": true,
    "slideshow": {
     "slide_type": ""
    },
    "tags": []
   },
   "source": [
    "a. Wat doet de functie `function`?  \n",
    "b. Wat is de output van dit programma?  \n",
    "c. Gebruik [Python Tutor](http://www.pythontutor.com/visualize.html) of dit notebook om je antwoord van a en b te controleren.  "
   ]
  },
  {
   "cell_type": "code",
   "execution_count": null,
   "metadata": {
    "editable": true,
    "slideshow": {
     "slide_type": ""
    },
    "tags": [
     "skip-execution"
    ]
   },
   "outputs": [],
   "source": [
    "# controleer jouw antwoord"
   ]
  },
  {
   "cell_type": "markdown",
   "metadata": {},
   "source": [
    "### Opdracht 2"
   ]
  },
  {
   "cell_type": "markdown",
   "metadata": {},
   "source": [
    "\n",
    "```python\n",
    "def main():\n",
    "    \"\"\"\n",
    "    Main functie. Roept de andere functies op om hun werk te doen.\n",
    "    \"\"\"\n",
    "    x = function(10, 2)\n",
    "\n",
    "def function(x, y):\n",
    "    print(x)\n",
    "    if x == 0:\n",
    "        return\n",
    "    function(x-y, y)\n",
    "\n",
    "main()\n",
    "```"
   ]
  },
  {
   "cell_type": "markdown",
   "metadata": {
    "editable": true,
    "slideshow": {
     "slide_type": ""
    },
    "tags": []
   },
   "source": [
    "a. Wat doet de functie `function`?  \n",
    "b. Wat is de output van dit programma?  \n",
    "c. Wat is de output als `function(10, 2)` wordt vervangen met `function(5,0)` \n",
    "d. Gebruik [Python Tutor](http://www.pythontutor.com/visualize.html) of dit notebook om je antwoord van a, b en c te controleren."
   ]
  },
  {
   "cell_type": "code",
   "execution_count": null,
   "metadata": {
    "editable": true,
    "slideshow": {
     "slide_type": ""
    },
    "tags": [
     "skip-execution"
    ]
   },
   "outputs": [],
   "source": [
    "# controleer jouw antwoord"
   ]
  },
  {
   "cell_type": "markdown",
   "metadata": {},
   "source": [
    "### Opdracht 3"
   ]
  },
  {
   "cell_type": "markdown",
   "metadata": {},
   "source": [
    "```python\n",
    "def main():\n",
    "    \"\"\"\n",
    "    Main functie. Roept de andere functies op om hun werk te doen.\n",
    "    \"\"\"\n",
    "    x = function(10, 6)\n",
    "\n",
    "\n",
    "def function(x, y):\n",
    "    print(x)\n",
    "    if x >= 20:\n",
    "        return\n",
    "    function(x+y, y)\n",
    "\n",
    "main()\n",
    "```"
   ]
  },
  {
   "cell_type": "markdown",
   "metadata": {
    "editable": true,
    "slideshow": {
     "slide_type": ""
    },
    "tags": []
   },
   "source": [
    "a. Wat doet de functie `function`?  \n",
    "b. Wat is de output van dit programma?  \n",
    "c. Gebruik [Python Tutor](http://www.pythontutor.com/visualize.html) of dit notebook om je antwoord van a en b te controleren."
   ]
  },
  {
   "cell_type": "code",
   "execution_count": null,
   "metadata": {
    "editable": true,
    "slideshow": {
     "slide_type": ""
    },
    "tags": [
     "skip-execution"
    ]
   },
   "outputs": [],
   "source": [
    "# controleer jouw antwoord"
   ]
  }
 ],
 "metadata": {
  "kernelspec": {
   "display_name": "Python 3 (ipykernel)",
   "language": "python",
   "name": "python3"
  },
  "language_info": {
   "codemirror_mode": {
    "name": "ipython",
    "version": 3
   },
   "file_extension": ".py",
   "mimetype": "text/x-python",
   "name": "python",
   "nbconvert_exporter": "python",
   "pygments_lexer": "ipython3",
   "version": "3.12.3"
  }
 },
 "nbformat": 4,
 "nbformat_minor": 4
}
