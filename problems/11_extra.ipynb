{
 "cells": [
  {
   "cell_type": "markdown",
   "metadata": {},
   "source": [
    "# Extra"
   ]
  },
  {
   "cell_type": "markdown",
   "metadata": {},
   "source": [
    "## Kies een project"
   ]
  },
  {
   "cell_type": "markdown",
   "metadata": {},
   "source": [
    "Naast het vier op een rij project waar aan gewerkt gaat worden, bestaan er ook andere projecten. Er zijn drie andere interesante projecten waar aan gewerkt kan worden. De drie andere projecten zijn:\n",
    "- Machine learning met Picobot. In dit project leert een picobot hoe hij een kamer kan verkennen met behulp van een genetisch algoritme, onderdeel van machine learning. \n",
    "\n",
    "- Text-ID. In dit project bepaal je wie een tekst heeft geschreven door te kijken naar de 'hantekening' van een schrijver. Dit is een methode om teksten van chat-gpt te herkennen. Als je aan dit project wil werken is het verstandig om onderstaande extra opdracht te maken; Text genereren met Markov processen\n",
    "\n",
    "- 3D-python. vpython geeft de mogelijkheid om een 3d game te maken. De eerste stappen is het maken van een simpel spel om bekend te raken met het systeem, maar daarna zijn de mogelijkheden eindeloos. "
   ]
  },
  {
   "cell_type": "markdown",
   "metadata": {},
   "source": [
    "## Text genereren met markov processen"
   ]
  },
  {
   "cell_type": "markdown",
   "metadata": {},
   "source": [
    "Gebruik deze code als beginpunt voor je bestand"
   ]
  },
  {
   "cell_type": "markdown",
   "metadata": {},
   "source": [
    "```python\n",
    "\n",
    "# functie #1\n",
    "#\n",
    "def create_dictionary(filename):\n",
    "    pass\n",
    "\n",
    "\n",
    "# functie #2\n",
    "#\n",
    "def generate_text(d, n):\n",
    "    pass\n",
    "\n",
    "```"
   ]
  },
  {
   "cell_type": "markdown",
   "metadata": {},
   "source": [
    "## Python's dictionaries gebruiken..."
   ]
  },
  {
   "cell_type": "markdown",
   "metadata": {},
   "source": [
    "Je doel bij deze opgave is om een programma te schrijven dat uit zichzelf \"betekenisvolle\" tekst kan genereren! Je gaat dit doel bereiken door het schrijven van een algoritme dat met behulp van zogeheten Markovprocessen tekst genereert.\n"
   ]
  },
  {
   "cell_type": "markdown",
   "metadata": {},
   "source": [
    "Deze opgave gebruikt een Python-dictionary om tekst te modelleren; en daarna te genereren.\n"
   ]
  },
  {
   "cell_type": "markdown",
   "metadata": {},
   "source": [
    "### Voorbeeldcode"
   ]
  },
  {
   "cell_type": "markdown",
   "metadata": {},
   "source": [
    "Je kan een paar voorbeelden vinden van hoe je in Python dictionary's kan gebruiken om tekst te analyseren met een *vocabulaireteller* (in tegenstelling tot een woordenteller) in [deze voorbeeldcode; dit kan je gebruiken als naslagwerk voor wat je nodig hebt...](assets/file_and_dictionary_examples.py)\n"
   ]
  },
  {
   "cell_type": "markdown",
   "metadata": {},
   "source": [
    "## Tekst genereren met Markovprocessen"
   ]
  },
  {
   "cell_type": "markdown",
   "metadata": {},
   "source": [
    "Hier is het basisidee: het Nederlands is een taal met veel structuur. Woorden hebben de neiging (sterker, de verplichting) om alleen in bepaalde volgordes voor te komen. De regels van de grammatica bepalen welke combinaties van verschillende stukken spraak toegestaan zijn. De zin \"De kat klimt de trap op\" heeft bijvoorbeeld een geldige woordvolgorde. \"Trap de op kat klimt\" heeft dat niet. Daarnaast beperkt de semantiek (de betekenis van een woord of zin) de mogelijke combinaties nog verder. \"De trap klimt de kat op\" is een perfect geldige zin, maar het is wel onzinnig en je zal deze woordvolgorde in de praktijk zeer waarschijnlijk niet tegenkomen."
   ]
  },
  {
   "cell_type": "markdown",
   "metadata": {},
   "source": [
    "Zelfs zonder de formele regels van het Nederlands te kennen, of de betekenis van Nederlandse woorden, kunnen we een idee krijgen van welke woordcombinaties geldig zijn door simpelweg naar correcte Nederlandse teksten te kijken en de combinaties van woorden te bekijken die in de praktijk voorkomen. We kunnen daarna op basis van onze observaties *nieuwe* zinnen maken door willekeurig woorden te selecteren aan de hand van hoe vaak ze in die volgorde voorkomen. Bekijk bijvoorbeeld de volgende tekst:"
   ]
  },
  {
   "cell_type": "markdown",
   "metadata": {},
   "source": [
    "\"Ik houd van rozen en anjers. Ik dacht, ik koop rozen voor mijn verjaardag.\""
   ]
  },
  {
   "cell_type": "markdown",
   "metadata": {},
   "source": [
    "Als we beginnen met het kiezen van het woord \"ik\", kunnen we zien dat \"ik\" gevolgd kan worden door \"houd\", \"dacht\" en \"koop\", met in deze tekst een gelijke kans. We kiezen één van deze woorden willekeurig en voegen die toe aan onze zin, bijvoorbeeld \"ik koop\". Hierdoor moet het volgende woord \"rozen\" zijn, omdat in onze voorbeeldtekst \"koop\" altijd (dat wil zeggen, één keer) gevolgd wordt door \"rozen\". Als we dit proces herhalen kunnen we bijvoorbeeld de zin \"ik koop rozen en anjers\" krijgen. Merk op dat dit een geldige Nederlandse zin is, maar niet één die we eerder hebben gezien. Andere nieuwe zinnen die we zouden kunnen genereren zijn \"ik houd van rozen voor mijn verjaardag\" en \"ik koop rozen voor mijn verjaardag\"."
   ]
  },
  {
   "cell_type": "markdown",
   "metadata": {},
   "source": [
    "Formeel gezegd heet het proces dat we gebruiken om deze zinnen te genereren een *Markovproces van de eerste orde*. Een Markovproces van de eerste orde is een proces waarin de toestand op tijdstip *t*+1 (dat wil zeggen, het volgende woord) alleen afhankelijk is van de toestand op tijdstip *t* (dat wil zeggen, het vorige woord). In een Markovproces van de tweede orde is het volgende woord afhankelijk van de *twee* vorige woorden, en zo verder. Ons voorbeeld hierboven was een proces van de eerste orde omdat de keuze voor het volgende woord alleen afhing van het huidge woord. Merk op dat de waarde van het volgende woord onafhankelijk is van de positie van het woord, en alleen maar afhangt van zijn directe geschiedenis. Dat wil zeggen dat het niet uitmaakt of we het 2e woord kiezen of het 92e. Het maakt alleen uit wat het 1e of 91e woord is, respectievelijke.\n"
   ]
  },
  {
   "cell_type": "markdown",
   "metadata": {},
   "source": [
    "## Teksten analyseren en genereren"
   ]
  },
  {
   "cell_type": "markdown",
   "metadata": {},
   "source": [
    "In het eerste deel van deze opgave implementeer je een Markovproces van de eerste orde om teksten mee te genereren. Om deze functie te schrijven heb je twee andere functies nodig: (1) één om een bestand te verwerken en een dictionary van geldige woordcombinaties te maken en (2) een andere om de nieuwe tekst daadwerkelijk te genereren.\n",
    "\n",
    "Als je hier geen speciale code voor schrijft zal je programma woorden als verschillend beschouwen zelfs als ze alleen maar verschillen in hoofdletters of leestekens. Dit is voor deze opgave geen probleem: `spam`, `Spam` en `spam.` (met punt erachter) mag je allemaal als verschillende woorden beschouwen."
   ]
  },
  {
   "cell_type": "markdown",
   "metadata": {},
   "source": [
    "Hier zijn de details over de twee functies die je moet schrijven:"
   ]
  },
  {
   "cell_type": "markdown",
   "metadata": {},
   "source": [
    "## De functie `create_dictionary"
   ]
  },
  {
   "cell_type": "markdown",
   "metadata": {},
   "source": [
    "`create_dictionary(filename)` krijgt een string als argument mee, wat de naam van een tekstbestand is dat wat voorbeeldtekst bevat. Het moet een dictionary teruggeven waarvan de sleutels woorden zijn die in de tekst voorkomen en waarvan de waardes lijsten met woorden zijn die op het sleutelwoord kunnen volgen. Merk op dat je een manier moet bedenken waarop je bijhoudt hoe vaak een woord op het sleutelwoord volgt. Dat wil zeggen dat als het woord \"fiets\" twee keer zo vaak wordt gevolgd door het woord \"kopen\" als door het woord \"repareren\", je dictionary deze informatie ook moet bevatten. Je kan bijvoorbeeld het woord meerdere keren opnemen in de lijst."
   ]
  },
  {
   "cell_type": "markdown",
   "metadata": {},
   "source": [
    "De dictionary die wordt teruggegeven door `create_dictionary` geeft je de mogelijkheid om woord `t`+1 te kiezen als je woord `t` al hebt. Maar hoe kies je het *eerste* woord, als je geen bestaand woord hebt die je als sleutel voor\n",
    "de dictionary kan gebruiken?"
   ]
  },
  {
   "cell_type": "markdown",
   "metadata": {},
   "source": [
    "Om dit geval te kunnen afhandelen, moet je dictionary de string `$` bevatten; dit is het *startsymbool*. Het eerste woord in het bestand moet op deze string \"opvolgen\". Bovendien moet elke string die volgt op het laatste woord van een zin deze string opvolgen. Een woord dat een zin eindigt wordt gedefinieerd als elk woord waarvan het laatste teken een punt `.`, een vraagteken `?` of een uitroepteken `!` is."
   ]
  },
  {
   "cell_type": "markdown",
   "metadata": {},
   "source": [
    ":{admonition} Bepalen of een woord eindigt op een leesteken\n",
    ":class: tip\n",
    "\n",
    "Het makkelijkst is om `w[-1]` te controleren. We zijn alleen geïnteresseerd in `'.'`, `'?'` en `'!'`.\n",
    "\n",
    "Onthoud dat, als je `or` gebruikt, je elke test helemaal moet uitschrijven, bijvoorbeeld,\n",
    "```python\n",
    "if w[-1] == '.' or w[-1] == '?' or ...\n",
    "```\n",
    "\n",
    "Je herinnert je misschien het alternatief met `in` (van het controleren van klinkers in een vorige opgave...): `if w[-1] in '.!':`\n",
    ":::"
   ]
  },
  {
   "cell_type": "markdown",
   "metadata": {},
   "source": [
    "### Strategie"
   ]
  },
  {
   "cell_type": "markdown",
   "metadata": {},
   "source": [
    "Merk op dat in het college *bijna* de hele functie besproken is. Hier zie je de voorbeeldcode, met de uitleg daaronder:\n"
   ]
  },
  {
   "cell_type": "markdown",
   "metadata": {},
   "source": [
    "```python\n",
    "d = {}\n",
    "pw = '$'\n",
    "\n",
    "for nw in words:\n",
    "    if pw not in d:\n",
    "        d[pw] = [nw]\n",
    "    else:\n",
    "        d[pw] += [nw]\n",
    "\n",
    "    pw = ...\n",
    "```\n"
   ]
  },
  {
   "cell_type": "markdown",
   "metadata": {},
   "source": [
    "Als de gegeven zin `Ik lust spam. Ik eet taart!` is, moet de inhoud van d na het uitvoeren van deze code gelijk zijn aan `{'$': ['Ik', 'Ik'], 'Ik': ['lust', 'eet'], 'lust': ['spam'], 'eet' : ['taart']}`.\n",
    "\n",
    "Verder heb je code gezien waarmee je woorden kan tellen:"
   ]
  },
  {
   "cell_type": "markdown",
   "metadata": {},
   "source": [
    "\n",
    "```python\n",
    "def vocab_count(filename):\n",
    "    \"\"\"vocabulary-counting program\"\"\"\n",
    "\n",
    "    # bestand lezen\n",
    "    f = open(filename)\n",
    "    text = f.read()\n",
    "    f.close()\n",
    "\n",
    "    # woorden tellen\n",
    "    words = text.split()\n",
    "    print(\"Er zijn\", len(words), \"woorden\")\n",
    "\n",
    "    # het aantal keer dat elk woord voorkomt tellen\n",
    "    d = {}\n",
    "    for w in words:\n",
    "        if w not in d:\n",
    "            d[w] = 1\n",
    "        else:\n",
    "            d[w] += 1\n",
    "    print(\"Er zijn\", len(w), \"verschillende woorden\")\n",
    "\n",
    "    # d teruggeven voor andere code\n",
    "    return d\n",
    "```"
   ]
  },
  {
   "cell_type": "markdown",
   "metadata": {},
   "source": [
    "In het bijzonder heb je *wel* de code om bestanden te lezen bovenaan de functie nodig, maaar **niet** de code om woorden te tellen daaronder...\n",
    "\n",
    "In plaats daarvan heb je de code over `nw` en `pw` (deze staan respectievelijk voor \"new word\" en \"previous word\") uit het andere fragment nodig. Hier is het resultaat:\n"
   ]
  },
  {
   "cell_type": "markdown",
   "metadata": {},
   "source": [
    "```python\n",
    "pw = '$'\n",
    "\n",
    "for nw in words:\n",
    "    if pw not in d:\n",
    "        d[pw] = [nw]\n",
    "    else:\n",
    "        d[pw] += [nw]\n",
    "\n",
    "    pw = nw\n",
    "\n",
    "    # controleer hierna of de nieuwe pw eindigt op een\n",
    "    # leesteken -- als dat _wel_ zo is zet dan pw op '$'\n",
    "```"
   ]
  },
  {
   "cell_type": "markdown",
   "metadata": {},
   "source": [
    "Het enige wat in dit voorbeeld nog niet staat is hoe je woorden die eindigen op een leesteken kan verwerken. Dat moet je zelf bedenken (maar er staan tips in het commentaar hierboven)..."
   ]
  },
  {
   "cell_type": "markdown",
   "metadata": {},
   "source": [
    "### Je code controleren..."
   ]
  },
  {
   "cell_type": "markdown",
   "metadata": {},
   "source": [
    "Om je code te controleren, kan je de volgende tekst in een plat tekstbestand zetten (bijvoorbeeld in een nieuw \".txt\"-bestandsvenster in VSCode):\n",
    "\n",
    "```text\n",
    "A B A. A B C. B A C. C C C.\n",
    "```"
   ]
  },
  {
   "cell_type": "markdown",
   "metadata": {},
   "source": [
    "Sla dit bestand op als `test.txt` in dezelfde directory waar je bestand `wk10ex3.py` staat. Kijk dan of je dictionary `d` hetzelfde is als in het voorbeeld hieronder:\n"
   ]
  },
  {
   "cell_type": "markdown",
   "metadata": {},
   "source": [
    "```ipython\n",
    "In [2]: d\n",
    "Out[2]:\n",
    "{'$': ['A', 'A', 'B', 'C'],\n",
    " 'A': ['B', 'B', 'C.'],\n",
    " 'B': ['A.', 'C.', 'A'],\n",
    " 'C': ['C', 'C.']}\n",
    "```"
   ]
  },
  {
   "cell_type": "markdown",
   "metadata": {},
   "source": [
    "\n",
    "De elementen in elke lijst hoeven niet in dezelfde volgorde te staan, maar ze moeten wel in dezelfde hoeveelheden aanwezig zijn als hierboven voor elk van de vier sleutels, 'A', 'C', 'B' en '$'."
   ]
  },
  {
   "cell_type": "markdown",
   "metadata": {},
   "source": [
    "Hier is de text dat in het college als voorbeeld werd gebruikt."
   ]
  },
  {
   "cell_type": "markdown",
   "metadata": {},
   "source": [
    "```text\n",
    "Ik wil taarten en 42 en spam.\n",
    "Ik krijg toch spam en taarten voor\n",
    "de vakantie? Ik wil 42 taarten!\n",
    "```"
   ]
  },
  {
   "cell_type": "markdown",
   "metadata": {},
   "source": [
    ":::{admonition} Teksteditor op Mac\n",
    ":class: tip\n",
    "\n",
    "Als je de Teksteditor op een Mac gebruikt, moet je *Opmaak ... Converteer naar platte tekst* gebruiken; je hebt een `.txt`-bestand nodig, geen `.rtf`-bestand. :::\n"
   ]
  },
  {
   "cell_type": "markdown",
   "metadata": {},
   "source": [
    "Het is slim om te controleren of de dictionary die je als uitvoer krijgt met dit bestand hetzelfde is als\n",
    "degene die je het college hebt gezien (merk op dat de volgorde van de sleutels kan veranderen):\n"
   ]
  },
  {
   "cell_type": "markdown",
   "metadata": {},
   "source": [
    "```ipython\n",
    "In [1]: d = create_dictionary('a.txt')\n",
    "\n",
    "In [2]: d\n",
    "Out[2]:\n",
    "{'krijg': ['toch'],\n",
    "'voor': ['de'],\n",
    "'wil': ['taarten', '42'],\n",
    "'toch': ['spam'],\n",
    "'Ik': ['wil', 'krijg', 'wil'],\n",
    "'spam': ['en'],\n",
    "'42': ['en', 'taarten!'],\n",
    "'$': ['Ik', 'Ik', 'Ik'],\n",
    "'taarten': ['en', 'voor'],\n",
    "'de': ['vakantie?'],\n",
    "'en': ['42', 'spam.', 'taarten']}\n",
    "```"
   ]
  },
  {
   "cell_type": "markdown",
   "metadata": {},
   "source": [
    "## De functie `generate_text`"
   ]
  },
  {
   "cell_type": "markdown",
   "metadata": {},
   "source": [
    "`generate_text(d, n)` krijgt een dictionary met woordovergangen (gemaakt door je functie `create_dictionary` van hierboven) mee, en een positieve integer `n`. Hiermee moet `generate_text` een string van `n` woorden afdrukken."
   ]
  },
  {
   "cell_type": "markdown",
   "metadata": {},
   "source": [
    "Het eerste woord moet willekeurig gekozen zijn uit de woorden die kunnen volgen op het startsymbool `\"$\"`. Bedenk dat `random.choice` een willekeurig element ***uit een lijst*** kan kiezen! Het tweede woord moet willekeurig gekozen worden uit de lijst woorden die kunnen volgen op het eerste woord, en zo verder. Als een gekozen woord eindigt op een punt `.`, een vraagteken `?` of een uitroepteken `!`, moet de functie `generate_text` deze gebeurtenis herkennen en een nieuwe zin beginnen door opnieuw een willekeurig woord te kiezen dat kan volgen op een `\"$\"`."
   ]
  },
  {
   "cell_type": "markdown",
   "metadata": {},
   "source": [
    "Laat `'$'` niet terugkomen in de uitvoertekst; het is alleen een interne markering voor je functie."
   ]
  },
  {
   "cell_type": "markdown",
   "metadata": {},
   "source": [
    "In deze opgave hoef je de woorden in het tekstbestand *niet* te ontdoen van leestekens. Laat leestekens staan zoals ze in de tekst voorkomen; en als je woorden genereert, hoe je je geen zorgen te maken als de gegenereerde tekst niet eindigt op een geldig leesteken, dat wil zeggen, je zou kunnen eindigen zonder punt, maar dat is prima. De tekst die je genereert zal niet perfect zijn, maar je kan verrast worden door hoe goed hij is!\n"
   ]
  },
  {
   "cell_type": "markdown",
   "metadata": {},
   "source": [
    "Je mag ervan uitgaan dat er geen leestekens op zichzelf (of andere randgevallen) in de invoer voorkomen. Het beste kan je bij zulke onverwachte gevallen gewoonweg een nieuwe zin beginnen. In het specifieke geval dat je bij een woord uitkomt dat alleen maar als het laatste woord in je trainingsdata voorkomt (dat wil zeggen dat er geen opvolgende woorden zijn), dan kan je gewoon verder gaan met het genereren van tekst vanaf het startsymbool `$`."
   ]
  },
  {
   "cell_type": "markdown",
   "metadata": {},
   "source": [
    "Hier zijn twee voorbeelden die de dictionary `d` van hierboven gebruiken. Je eigen uitvoer zal verschillen omdat de woorden willekeurig gekozen zijn, maar ze zouden er op moeten lijk"
   ]
  },
  {
   "cell_type": "markdown",
   "metadata": {},
   "source": [
    "```ipython\n",
    "In [3]: generate_text(d, 20)\n",
    "Out[3]: B C. C C C. C C C C C C C C C C C. C C C. A\n",
    "\n",
    "In [4]: generate_text(d, 20)\n",
    "Out[4]: A B A. C C C. B A B C. A C. B A. C C C C C C.\n",
    "```\n"
   ]
  },
  {
   "cell_type": "markdown",
   "metadata": {},
   "source": [
    "## Een gegenereerd essay van 500 woorden!\n"
   ]
  },
  {
   "cell_type": "markdown",
   "metadata": {},
   "source": [
    "Voor het laatste deel van deze opdracht moet je een interessant tekstbestand vinden, hiermee een Markovmodel van de eerste orde maken, en zelf wat tekst genereren! Een kunstmatig essay dus.\n"
   ]
  },
  {
   "cell_type": "markdown",
   "metadata": {},
   "source": [
    "Je kan zelf kiezen welke invoertekst je wilt gebruiken, en die mag ook best Engels zijn! Je kan bijvoorbeeld willekeurige [scenes uit het werk van Shakespeare](https://ocw.mit.edu/ans7870/6/6.006/s08/lecturenotes/files/t8.shakespeare.txt) gebruiken... ook kindergedichtjes kunnen (soms) goed werken. Je kan ook songteksten, speeches, of je eigen werk gebruiken; alles is mogelijk."
   ]
  },
  {
   "cell_type": "markdown",
   "metadata": {},
   "source": [
    ":::{admonition} Waarschuwing\n",
    ":class: warning\n",
    "\n",
    "Probeer gegenereerde essays niet te gebruiken als *echte* essays!\n",
    ":::\n"
   ]
  },
  {
   "cell_type": "markdown",
   "metadata": {},
   "source": [
    ":::{admonition} Platte-tekstbestanden\n",
    ":class: tip\n",
    "\n",
    "De makkelijkste manier om een platte-tekstbestand te maken dat je als invoer kan gebruiken is door de tekst te kopiëren van waar je hem gezien hebt via het menu of Control-C (Command-C op een Mac), en daarna een leeg tekstbestand te openen met Kladblok (Windows) of Teksteditor (Mac). Sla je `.txt`-bestand met platte tekst, bijvoorbeeld `spam.txt`, op in dezelfde map als je bestand `wk10ex3.py`.\n",
    ":::"
   ]
  },
  {
   "cell_type": "markdown",
   "metadata": {},
   "source": [
    ":::{admonition} Teksteditor op Mac\n",
    ":class: warning\n",
    "\n",
    "Teksteditor slaat bestanden standaard op als *rich text format* of `.rtf`. Je kan dit aanpassen door *Opmaak ... Converteer naar platte tekst* te kiezen. Doe dit om te zorgen dat je een `.txt`-bestand met platte tekst krijgt.\n",
    ":::"
   ]
  }
 ],
 "metadata": {
  "language_info": {
   "name": "python"
  }
 },
 "nbformat": 4,
 "nbformat_minor": 2
}
