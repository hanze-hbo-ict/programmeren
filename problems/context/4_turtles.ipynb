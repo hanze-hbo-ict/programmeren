{
 "cells": [
  {
   "attachments": {},
   "cell_type": "markdown",
   "metadata": {},
   "source": [
    "| Naam         | Beschrijving                                                   |\n",
    "|--------------|----------------------------------------------------------------|\n",
    "| Onderwerp    | Koch-kromme                                                    |\n",
    "| Leerdoel     | Recursieve turtles                                             |\n",
    "| Bestandsnaam | `wk4co1.py`                                                    |\n",
    "| Inleveren    | Lever jouw bestand met de juiste bestandsnaam in op GradeScope |\n"
   ]
  },
  {
   "attachments": {},
   "cell_type": "markdown",
   "metadata": {},
   "source": [
    "De Koch-kromme (of Koch-*sneeuwvlok*) is een voorbeeld van recursie met heel diepe vertakkingen. De Koch-sneeuwvlok is een *fractal* met drie identieke zijden en het zijn de zijden zelf die recursief worden gedefinieerd, niet de driehoek."
   ]
  },
  {
   "attachments": {},
   "cell_type": "markdown",
   "metadata": {},
   "source": [
    "Voorbeelden van de Koch-Sneeuwvlok:"
   ]
  },
  {
   "attachments": {},
   "cell_type": "markdown",
   "metadata": {},
   "source": [
    "![Koch-kromme](images/turtles/koch.png)"
   ]
  },
  {
   "attachments": {},
   "cell_type": "markdown",
   "metadata": {},
   "source": [
    "Elke zijde van de driehoek, wordt een driehoek op getekent. En dan weer op elke zijde van een driehoek, wordt een driehoek getekent, enz. "
   ]
  },
  {
   "attachments": {},
   "cell_type": "markdown",
   "metadata": {},
   "source": [
    "# Opdracht"
   ]
  },
  {
   "attachments": {},
   "cell_type": "markdown",
   "metadata": {},
   "source": [
    "a. Maak een nieuw bestand `wk3co1.py` men kopieer onderstaande code. \n"
   ]
  },
  {
   "attachments": {},
   "cell_type": "markdown",
   "metadata": {},
   "source": [
    "```python\n",
    "import time\n",
    "from turtle import *\n",
    "from random import *\n",
    "\n",
    "def main():\n",
    "    \"\"\"\n",
    "    Main functie. Roept de andere functies op om hun werk te doen. \n",
    "    \"\"\"\n",
    "    snowflake(300, 2)\n",
    "    done() # tell turtle the drawing is done.\n",
    "\n",
    "def testing():\n",
    "    \"\"\"\n",
    "    Test functie. Hier staan alle assertions om de functies te testen.\n",
    "    \"\"\"\n",
    "\n",
    "def snowflake(sidelength, levels):\n",
    "    \"\"\"Fractal snowflake function, complete.\n",
    "       sidelength: pixels in the largest-scale triangle side\n",
    "       levels: the number of recursive levels in each side\n",
    "    \"\"\"\n",
    "    flakeside(sidelength, levels)\n",
    "    left(120)\n",
    "    flakeside(sidelength, levels)\n",
    "    left(120)\n",
    "    flakeside(sidelength, levels)\n",
    "    left(120)\n",
    "\n",
    "\n",
    "main()\n",
    "testing()\n",
    "```"
   ]
  },
  {
   "attachments": {},
   "cell_type": "markdown",
   "metadata": {},
   "source": [
    "Merk op dat je het programma niet kan niet draaien tot je `flakeside` gedefiniëerd hebt, en dat is de volgende stap."
   ]
  },
  {
   "attachments": {},
   "cell_type": "markdown",
   "metadata": {},
   "source": [
    "b. Het is jouw taak om de functie `flakeside(sidelength, levels)` te implementeren, die *één* zijkant van de Koch-kromme tekent.\n",
    "\n"
   ]
  },
  {
   "attachments": {},
   "cell_type": "markdown",
   "metadata": {},
   "source": [
    "## Testen\n",
    "\n",
    "-   Probeer `flakeside(300, 0)`; zorg dat je een rechte lijn krijgt\n",
    "-   Probeer `flakeside(300, 1)`; zorg dat je een vorm met vier lijnsegmenten krijgt\n",
    "-   Probeer `flakeside(300, 2)`; zorg dat je vier \"niveau-1\"-zijden krijgt\n",
    "-   Probeer `flakeside(300, 3)`; mooi! en vrij cool!\n",
    "\n",
    "Vergeet niet dat `flakeside` slechts *één* van de drie zijden van de kromme tekent!\n",
    "\n",
    "-   Om deze reden hoeft de functie *niet* te eindigen op precies dezelfde plaats als waar zij begonnen is.\n",
    "-   Als de functie dat wel zou doen zouden immers de drie zijden van de kromme precies bovenop elkaar worden getekend...\n"
   ]
  },
  {
   "attachments": {},
   "cell_type": "markdown",
   "metadata": {},
   "source": [
    "Hier zie je een grafische samenvatting wat de functie moet tekenen. "
   ]
  },
  {
   "attachments": {},
   "cell_type": "markdown",
   "metadata": {},
   "source": [
    "![flakeside](images/turtles/flakeside.png)"
   ]
  },
  {
   "attachments": {},
   "cell_type": "markdown",
   "metadata": {},
   "source": [
    "**Tips**\n",
    "\n",
    "-   De base case van de zijde van de Koch-kromme is simpelweg een rechte lijn van lengte `sidelength`!\n",
    "\n",
    "- Elk recursief niveau vervangt het *middelste derde deel* van de zijde van de sneeuwvlok door een \"punt\", d.w.z. twee zijden die deel zouden uitmaken van een gelijkzijdige driehoek van één derde schaal.\n",
    "-   Merk op dat elke zijde vier *subzijden* bevat. Dat betekent dat `flakeside` zichzelf *vier* keer recursief aanroept!\n",
    "-   Op de drie plekken *tussen* deze vier aanroepen moet je een geschikte draai maken.\n",
    "-   De recursive case bevat dus in totaal *zeven* regels (vier recursies en drie draaingen)."
   ]
  },
  {
   "attachments": {},
   "cell_type": "markdown",
   "metadata": {},
   "source": [
    "c. \n",
    "Nadat je de functie `flakeside` werkend hebt, kan je `snowflake` gaan proberen!\n",
    "\n",
    "De functie `snowflake` roept simpelweg de functie `flakeside` drie keer aan. Afhankelijk van de richtingen die `flakeside` gebruikt moet je misschien de `left`s in `snowflake` vervangen door `right`s.\n",
    "\n",
    "Voorbeelden die je kan proberen zijn `snowflake(300, 2)` en `snowflake(300, 3)`. Hier zijn afbeeldingen van vier verschillende waarden van `levels` voor de kromme, te weten `0`, `1`, `2` en `3`:\n",
    "\n",
    "![Koch-kromme](images/turtles/koch.png)\n"
   ]
  }
 ],
 "metadata": {
  "kernelspec": {
   "display_name": "Python 3 (ipykernel)",
   "language": "python",
   "name": "python3"
  },
  "language_info": {
   "codemirror_mode": {
    "name": "ipython",
    "version": 3
   },
   "file_extension": ".py",
   "mimetype": "text/x-python",
   "name": "python",
   "nbconvert_exporter": "python",
   "pygments_lexer": "ipython3",
   "version": "3.10.6"
  }
 },
 "nbformat": 4,
 "nbformat_minor": 4
}
