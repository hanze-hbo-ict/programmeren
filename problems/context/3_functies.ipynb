{
 "cells": [
  {
   "attachments": {},
   "cell_type": "markdown",
   "metadata": {},
   "source": [
    "| Naam         | Beschrijving                                                   |\n",
    "|--------------|----------------------------------------------------------------|\n",
    "| Onderwerp    | Rekenmachine                                                   |\n",
    "| Leerdoel     | functies schrijven en testen                                   |\n",
    "| Bestandsnaam | `wk3co1.py`                                                   |\n",
    "| Inleveren    | Lever jouw bestand met de juiste bestandsnaam in op GradeScope |\n"
   ]
  },
  {
   "attachments": {},
   "cell_type": "markdown",
   "metadata": {},
   "source": [
    "Het doel van deze opgave is om een rekemachine te maken dat de oppervlakte en inhoud van verschillende figuren kan bereken. De rekenmachine zal bestaan uit verschillende functies. Vergeet niet bij de elke functie een docstring toe te voegen en test de functie met behulp van assertions. Gebruik google als je niet weet hoe je de oppervlakte of inhoud van een figuur kan berekenen. \n",
    "\n",
    "Het programma vraagt de gebruiker wat het wil berekenen, vraagt om de juiste input en geeft het resultaat terug. Vervolgens vraagt het nogmaals wat er berekent moet worden. Als de gebruiker een verkeerde input geeft stopt het programma."
   ]
  },
  {
   "attachments": {},
   "cell_type": "markdown",
   "metadata": {},
   "source": [
    "Kort voorbeeld wat het programma moet kunnen."
   ]
  },
  {
   "attachments": {},
   "cell_type": "markdown",
   "metadata": {},
   "source": [
    "```ipython\n",
    "out: \"Wat moet er berekent worden? \"\n",
    "\"a: Oppervlakte van een rechthoek\"\n",
    "\"b: Oppervlakte van een cirkel\"\n",
    "\"c: (etc...)\n",
    "\"elk andere input: stop het programma\"\n",
    "\"Kies de juiste letter: \"\n",
    "in: a\n",
    "out: \"Wat is de lengte van de rechthoek?\"\n",
    "in: 5\n",
    "out: \"Wat is de breedte van de rechthoek?\"\n",
    "in: 8\n",
    "out: \"De oppervlakte van deze rechthoek is 40.\"\n",
    "\"Wat moet er berekent worden. Geeft het getal \"\n",
    "\"a: Oppervlakte van een rechthoek?\"\n",
    "\"b: Oppervlakte van een cirkel?\"\n",
    "...\n",
    "\"elk andere input: stop het programma\"\n",
    "\"Kies de juiste letter: \"\n",
    "in: s\n",
    "out: \"s is geen juiste optie, programma stopt\""
   ]
  },
  {
   "attachments": {},
   "cell_type": "markdown",
   "metadata": {},
   "source": [
    "# Opdracht 1"
   ]
  },
  {
   "attachments": {},
   "cell_type": "markdown",
   "metadata": {},
   "source": [
    "a. Maak een nieuw bestand `wk3co1.py` met de lege `functies menu()` en `testing()`. Zet bovenaan `import math` zodat je toegang hebt tot de math library, including math.pi  \n",
    "b. Schrijf een functie `rechthoekOpp(lengte, breedte)` dat twee getallen accepteert en de oppervlakte van een rechthoek teruggeeft  \n",
    "c. Schrijf een functie `cirkelOpp(radius)` dat een getal accepteerd en de oppervlakte van een cirkel teruggeeft.  \n",
    "d. Schrijf een functie `cirkelOmtrek(radius)` dat een getal accepteerd en de omtrek van een cirkel teruggeeft.  \n",
    "e. Schrijf een functie `driehoekOpp(basis, hoogte)` dat twee getallen accepteert en de oppervlakte van een driehoek berekent.   \n"
   ]
  },
  {
   "attachments": {},
   "cell_type": "markdown",
   "metadata": {},
   "source": [
    "# Opdracht 2\n"
   ]
  },
  {
   "attachments": {},
   "cell_type": "markdown",
   "metadata": {},
   "source": [
    "a. Schrijf een functie `balkInhoud(lengte, breedte, hoogte)` dat drie getallen accepteert en de inhoud van een balk teruggeeft. Maak gebruik van je `rechthoekOpp` functie.   \n",
    "b. Schrijf een functie `cilinderInhoud(radius, hoogte)` dat twee getallen accepteert en de inhoud van een cilinder teruggeeft. Maak gebruik van je `cirkelOpp` functie.  \n",
    "c. Schrijf een functie `piramideInhoud(lengte, breede, hoogte)` dat twee getallen accepteert en de inhoud van een piramide terugggeeft. Maak gebruik van je `rechthoekOpp` functie.   "
   ]
  },
  {
   "attachments": {},
   "cell_type": "markdown",
   "metadata": {},
   "source": [
    "# Opdracht 3"
   ]
  },
  {
   "attachments": {},
   "cell_type": "markdown",
   "metadata": {},
   "source": [
    "a. Schrijf een functie `balkOpp(lengte, breedte, hoogte)` dat drie getallen accepteert en de oppervlakte van een balk teruggeeft. Maak gebruik van je `rechthoekOpp` functie.  \n",
    "b. Schrijf een functie `cilinderOpp(radius, hoogte)` dat twee getallen accepteert en de oppervlakte van een cilinder teruggeeft. Maak gebruik van je `cirkelOmtrek`, `rechthoekOpp` en `cirkelOpp` functies.   "
   ]
  },
  {
   "attachments": {},
   "cell_type": "markdown",
   "metadata": {},
   "source": [
    "# Opdracht 4"
   ]
  },
  {
   "attachments": {},
   "cell_type": "markdown",
   "metadata": {},
   "source": [
    "Schrijf een functie `menu()`. Deze functie print alle opties dat de rekenmachine kan uitrekenen en vraagt de gebruiker voor input om een optie te kunnen selecteren. Selecteert de gebruiker een juiste optie, dan wordt er gevraagd om de data in te voeren. Je mag er vanuit gaan dat de gebruiker de juiste data invoert (dus getallen en geen strings).  Zodra alle data bekend is wordt de juiste functie aangeroepen om de berekening uit te voeren. Als de gekozen optie niet bestaat, sluit het programma zich af. Maak gebruik van recursie om menu te herhalen. (en dus niet for of while lussen)"
   ]
  }
 ],
 "metadata": {
  "kernelspec": {
   "display_name": "Python 3 (ipykernel)",
   "language": "python",
   "name": "python3"
  },
  "language_info": {
   "codemirror_mode": {
    "name": "ipython",
    "version": 3
   },
   "file_extension": ".py",
   "mimetype": "text/x-python",
   "name": "python",
   "nbconvert_exporter": "python",
   "pygments_lexer": "ipython3",
   "version": "3.10.6"
  }
 },
 "nbformat": 4,
 "nbformat_minor": 4
}
