{
 "cells": [
  {
   "attachments": {},
   "cell_type": "markdown",
   "metadata": {},
   "source": [
    "| Naam         | Beschrijving                                                   |\n",
    "|--------------|----------------------------------------------------------------|\n",
    "| Onderwerp    | LMC assembly                                                   |\n",
    "| Leerdoel     | Kennismaking Assembly                                          |\n",
    "| Bestandsnaam | `wk2co2.txt`                                                   |\n",
    "| Inleveren    | Lever jouw bestand met de juiste bestandsnaam in op GradeScope |"
   ]
  },
  {
   "attachments": {},
   "cell_type": "markdown",
   "metadata": {
    "slideshow": {
     "slide_type": "slide"
    }
   },
   "source": [
    "# Little man computer\n",
    "\n",
    "Deze opgave kan gemaakt kunnen worden met behulp van het LMC model :https://peterhigginson.co.uk/lmc/\n"
   ]
  },
  {
   "attachments": {},
   "cell_type": "markdown",
   "metadata": {},
   "source": [
    "### Tribonacci numbers\n",
    "\n",
    "Veel mensen zijn bekend met de fibonacci reeks waarbij de volgende element in de reeks is te berekenen door de twee voorgaande elementen bij elkaar op te tellen.\n",
    "\n",
    "1  \n",
    "1  \n",
    "2 (1+1)  \n",
    "3 (1+2)  \n",
    "5 (2+3)\t \n",
    "8 (3+5) \n",
    "etc\n",
    "\n",
    "Bij de Tribonacci reeks worden er drie voorgaande getallen bij elkaar opgeteld om het volgende element te berekenen. \n",
    "\n",
    "1  \n",
    "1  \n",
    "1  \n",
    "3 (1+1+1)  \n",
    "5 (1+1+3)  \n",
    "9 (1+3+5)   \n",
    "etc\n",
    "\n"
   ]
  },
  {
   "attachments": {},
   "cell_type": "markdown",
   "metadata": {},
   "source": [
    "Schrijf een LMC programma dat vraagt om 5 inputs:   \n",
    "De drie start waardes.  \n",
    "De hoogte van de counter.  \n",
    "De stap grootte van de counter. (standaard is dat 1)\n",
    "\n",
    "Het programma geeft als ouput de gewenste hoeveel getallen van de tribonaccie reeks, aangegeven via de counter. "
   ]
  }
 ],
 "metadata": {
  "kernelspec": {
   "display_name": "Python 3 (ipykernel)",
   "language": "python",
   "name": "python3"
  },
  "language_info": {
   "codemirror_mode": {
    "name": "ipython",
    "version": 3
   },
   "file_extension": ".py",
   "mimetype": "text/x-python",
   "name": "python",
   "nbconvert_exporter": "python",
   "pygments_lexer": "ipython3",
   "version": "3.10.7"
  }
 },
 "nbformat": 4,
 "nbformat_minor": 4
}
