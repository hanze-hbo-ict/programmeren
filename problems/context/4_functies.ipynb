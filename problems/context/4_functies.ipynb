{
 "cells": [
  {
   "attachments": {},
   "cell_type": "markdown",
   "metadata": {},
   "source": [
    "| Naam         | Beschrijving                                                   |\n",
    "|--------------|----------------------------------------------------------------|\n",
    "| Onderwerp    | Rekenmachine                                                   |\n",
    "| Leerdoel     | functies schrijven en testen                                   |\n",
    "| Bestandsnaam | `wk3co1.py`                                                   |\n",
    "\n"
   ]
  },
  {
   "attachments": {},
   "cell_type": "markdown",
   "metadata": {},
   "source": [
    "Maak bij onderstaande opdrachten **geen** gebruik van lussen (for of while) en/of bestaande python functies zoals `len()`"
   ]
  },
  {
   "attachments": {},
   "cell_type": "markdown",
   "metadata": {},
   "source": [
    "# Opdracht 1"
   ]
  },
  {
   "attachments": {},
   "cell_type": "markdown",
   "metadata": {},
   "source": [
    "a. Schrijf een functie `max(l)` dat een lijst `l` met getallen accepteert en het grootste getal teruggeeft. \n",
    "\n",
    "b. Schrijf een functie `size(l)` dat een lijst `l` accepteerd en teruggeeft hoeveel objecten er in `l` zitten.  \n",
    "\n",
    "c. Schrijf een functie `telop(l)` dat een lijst `l` met getallen accepteert, alle getallen bij elkaar optelt en het resultaat teruggeeft.    \n"
   ]
  },
  {
   "attachments": {},
   "cell_type": "markdown",
   "metadata": {},
   "source": [
    "# Opdracht 2\n"
   ]
  },
  {
   "attachments": {},
   "cell_type": "markdown",
   "metadata": {},
   "source": [
    "a. Schrijf een functie `aanwezig(l, c)` dat een lijst `l` en variabele `c` accepteert en true teruggeeft of `c` in `l` zit en anders false teruggeeft. \n",
    "\n",
    "c. Schrijf een functie `tel(l, c)` dat een lijst `l` en variabele `c` accepteert en teruggeeft hoe vaak `c` in `l` zit. \n",
    "\n",
    "b. Schrijf een functie `vind(l, c)` dat een lijst `l` en variabele `c` accepteert en de eerste index teruggeeft waar `c` staat. Zit `c` niet in `l` dan geeft de functie -1 terug. \n",
    "\n"
   ]
  }
 ],
 "metadata": {
  "kernelspec": {
   "display_name": "Python 3",
   "language": "python",
   "name": "python3"
  },
  "language_info": {
   "codemirror_mode": {
    "name": "ipython",
    "version": 3
   },
   "file_extension": ".py",
   "mimetype": "text/x-python",
   "name": "python",
   "nbconvert_exporter": "python",
   "pygments_lexer": "ipython3",
   "version": "3.11.2 (tags/v3.11.2:878ead1, Feb  7 2023, 16:38:35) [MSC v.1934 64 bit (AMD64)]"
  },
  "vscode": {
   "interpreter": {
    "hash": "7321d1f7eabf315803f0fbeb0be0427ff6d045140e09c9efe7edcc325df00e23"
   }
  }
 },
 "nbformat": 4,
 "nbformat_minor": 4
}
