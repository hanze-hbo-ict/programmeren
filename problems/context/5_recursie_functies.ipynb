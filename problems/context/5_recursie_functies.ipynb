{
 "cells": [
  {
   "attachments": {},
   "cell_type": "markdown",
   "metadata": {},
   "source": [
    "| Naam         | Beschrijving                                                   |\n",
    "|--------------|----------------------------------------------------------------|\n",
    "| Onderwerp    | Rekenmachine                                                   |\n",
    "| Leerdoel     | functies schrijven en testen                                   |\n",
    "| Bestandsnaam | `wk3co1.py`                                                   |\n",
    "| Inleveren    | Lever jouw bestand met de juiste bestandsnaam in op GradeScope |\n"
   ]
  },
  {
   "attachments": {},
   "cell_type": "markdown",
   "metadata": {},
   "source": [
    "Maak bij onderstaande opdrachten **geen** gebruik van lussen (for of while). "
   ]
  },
  {
   "attachments": {},
   "cell_type": "markdown",
   "metadata": {},
   "source": [
    "# Opdracht 1"
   ]
  },
  {
   "attachments": {},
   "cell_type": "markdown",
   "metadata": {},
   "source": [
    "**Bubblesort**  \n",
    "Bubblesort is een algoritme om een lijst te sorteren op volgorde. Bubblesort begint met het doorlopen van de te sorteren rij van n elementen en vergelijk elk element met het volgende. Als ze in de verkeerde volgorde staan worden ze gewisseld en wordt er een stukje opgeschoven. Zodra dat één keer gebeurt is zal het hoogste getal achteraan staan. Nu wordt opnieuw de rij doorlopen en dit wordt dus net zoals herhaald totdat alle elementen goed staan. We zien de grotere elementen als het ware als luchtbellen naar boven drijven. Aan deze metafoor ontleent het algoritme zijn naam."
   ]
  },
  {
   "attachments": {},
   "cell_type": "markdown",
   "metadata": {},
   "source": [
    "[Bubblesort Video](https://www.youtube.com/watch?v=aXXWXz5rF64&t=0s)"
   ]
  },
  {
   "attachments": {},
   "cell_type": "markdown",
   "metadata": {},
   "source": [
    "Schrijf de functie bubblesort(l) dat een lijst 'l' accepteert, deze via het bubblesort algoritme sorteert van klein naar groot, en de gesorteerde lijst teurggeeft. "
   ]
  },
  {
   "attachments": {},
   "cell_type": "markdown",
   "metadata": {},
   "source": [
    "**tips**\n",
    "* Schrijf een hulpfunctie dat de lijst 1 keer doorloopt, met andere woorden, vergelijk elk element met het volgende. Als ze in de verkeerde volgorde staan worden ze gewisseld en wordt er een stukje opgeschoven. \n",
    "* schrijf een hulpfunctie dat controleert of de lijst op volgorde staat, zo ja, stop de functie bubblesort, zo niet, start de bubblesort opnieuw om de lijst opnieuw te doorlopen. "
   ]
  },
  {
   "attachments": {},
   "cell_type": "markdown",
   "metadata": {},
   "source": [
    "# Opdracht 2"
   ]
  },
  {
   "attachments": {},
   "cell_type": "markdown",
   "metadata": {},
   "source": [
    "**Mergesort**\n",
    "\n",
    "De gedachte achter mergesort is dat twee gesorteerde rijen kunnen worden samengevoegd tot één gesorteerde rij door steeds de twee eerste elementen te bekijken, de kleinste element eruit halen en op te slaan en vervolgens weer de volgend twee bekijken. \n",
    "De sorteeralgoritme bestaat dan uit het herhaaldelijk in twee gelijke (of bijna gelijke) delen splitsen van een rij, tot dat er enkel nog maar rijen van 1 lang zijn en vervolgens de twee gesorteerde rijen samen te voegen.\n"
   ]
  },
  {
   "attachments": {},
   "cell_type": "markdown",
   "metadata": {},
   "source": [
    "[Mergesort Video](https://www.youtube.com/watch?v=es2T6KY45cA&t=0s)"
   ]
  },
  {
   "attachments": {},
   "cell_type": "markdown",
   "metadata": {},
   "source": [
    "Schrijf de functie mergesort(l) dat een lijst 'l' accepteert, deze via het mergesort algoritme sorteert van klein naar groot,  en de gesorteerde lijst teurggeeft. "
   ]
  },
  {
   "attachments": {},
   "cell_type": "markdown",
   "metadata": {},
   "source": [
    "**Tip**  \n",
    "Schrijf een hulp functie merge dat twee gesorteerde lijsten accepteert en samenvoegt tot èèn gesorteerde lijst."
   ]
  },
  {
   "attachments": {},
   "cell_type": "markdown",
   "metadata": {},
   "source": [
    "# Opdracht 3"
   ]
  },
  {
   "attachments": {},
   "cell_type": "markdown",
   "metadata": {},
   "source": [
    "Vergelijk beide sorteer algoritmes. Welke is efficienter en waarom? Zat je antwoord onderaan je bestand in comments."
   ]
  }
 ],
 "metadata": {
  "kernelspec": {
   "display_name": "Python 3",
   "language": "python",
   "name": "python3"
  },
  "language_info": {
   "codemirror_mode": {
    "name": "ipython",
    "version": 3
   },
   "file_extension": ".py",
   "mimetype": "text/x-python",
   "name": "python",
   "nbconvert_exporter": "python",
   "pygments_lexer": "ipython3",
   "version": "3.11.2 (tags/v3.11.2:878ead1, Feb  7 2023, 16:38:35) [MSC v.1934 64 bit (AMD64)]"
  },
  "vscode": {
   "interpreter": {
    "hash": "7321d1f7eabf315803f0fbeb0be0427ff6d045140e09c9efe7edcc325df00e23"
   }
  }
 },
 "nbformat": 4,
 "nbformat_minor": 4
}
