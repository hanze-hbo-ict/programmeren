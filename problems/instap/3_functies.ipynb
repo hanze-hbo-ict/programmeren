{
 "cells": [
  {
   "attachments": {},
   "cell_type": "markdown",
   "metadata": {},
   "source": [
    "| Naam         | Beschrijving                                                   |\n",
    "|--------------|----------------------------------------------------------------|\n",
    "| Onderwerp    | Outputs                                                        |\n",
    "| Leerdoel     | Lezen van functies                                             |\n",
    "| Bestandsnaam | `wk3in1.txt`                                                   |\n",
    "| Inleveren    | Lever jouw bestand met de juiste bestandsnaam in op GradeScope |\n",
    "\n",
    "\n",
    "Bepaal de outputs van onderstaande programma's zonder het gebruik van een interperter. "
   ]
  },
  {
   "attachments": {},
   "cell_type": "markdown",
   "metadata": {},
   "source": [
    "## Opdracht 1\n",
    "\n"
   ]
  },
  {
   "attachments": {},
   "cell_type": "markdown",
   "metadata": {},
   "source": [
    "```python\n",
    "def main():\n",
    "    \"\"\"\n",
    "    Main functie. Roept de andere functies op om hun werk te doen. \n",
    "    \"\"\"\n",
    "    x = blaat(4) + blaat(6)\n",
    "    print(x)\n",
    "\n",
    "def testing():\n",
    "    \"\"\"\n",
    "    Test functie. Hier staan alle assertions om de functies te testen.\n",
    "    \"\"\"\n",
    "\n",
    "def blaat(x):\n",
    "    l = list(range(x))\n",
    "    return sum(l)\n",
    "\n",
    "main()\n",
    "testing()\n",
    "\n",
    "```"
   ]
  },
  {
   "attachments": {},
   "cell_type": "markdown",
   "metadata": {},
   "source": [
    "a. Wat doet de functie blaat?  \n",
    "b. Wat is de ouput van dit programma?  \n",
    "c. Gebruik de [Python Tutor](http://www.pythontutor.com/visualize.html)  om je antwoord van a en b te controleren.   \n"
   ]
  },
  {
   "attachments": {},
   "cell_type": "markdown",
   "metadata": {},
   "source": [
    "# Opdracht 2\n",
    "```python\n",
    "def main():\n",
    "    \"\"\"\n",
    "    Main functie. Roept de andere functies op om hun werk te doen. \n",
    "    \"\"\"\n",
    "    x = blaat(\"lol\")\n",
    "    y = blaat(\"xo\")\n",
    "    print(x + y)\n",
    "\n",
    "def testing():\n",
    "    \"\"\"\n",
    "    Test functie. Hier staan alle assertions om de functies te testen.\n",
    "    \"\"\"\n",
    "\n",
    "def blaat(x):\n",
    "    s = x[::-1] + x\n",
    "    return s\n",
    "\n",
    "main()\n",
    "testing()\n",
    "\n",
    "```"
   ]
  },
  {
   "attachments": {},
   "cell_type": "markdown",
   "metadata": {},
   "source": [
    "a. Wat doet de functie blaat?  \n",
    "b. Wat is de ouput van dit programma?  \n",
    "c. Gebruik de [Python Tutor](http://www.pythontutor.com/visualize.html)  om je antwoord van a en b te controleren.   \n"
   ]
  },
  {
   "attachments": {},
   "cell_type": "markdown",
   "metadata": {},
   "source": [
    "# Opdracht 3"
   ]
  },
  {
   "attachments": {},
   "cell_type": "markdown",
   "metadata": {},
   "source": [
    "\n",
    "```python\n",
    "def main():\n",
    "    \"\"\"\n",
    "    Main functie. Roept de andere functies op om hun werk te doen. \n",
    "    \"\"\"\n",
    "    l = blaat1(5)\n",
    "    x = blaat2(l)\n",
    "    print(x)\n",
    "\n",
    "def testing():\n",
    "    \"\"\"\n",
    "    Test functie. Hier staan alle assertions om de functies te testen.\n",
    "    \"\"\"\n",
    "\n",
    "def blaat1(x):\n",
    "    l = list(range(x))\n",
    "    return l[::-1]\n",
    "\n",
    "def blaat2(l):\n",
    "    x = sum(l)\n",
    "    y = len(l)\n",
    "    return x / y\n",
    "\n",
    "main()\n",
    "testing()\n",
    "```"
   ]
  },
  {
   "attachments": {},
   "cell_type": "markdown",
   "metadata": {},
   "source": [
    "a. Wat doet de functie blaat1?  \n",
    "b. Wat doet de functie blaat2?  \n",
    "c. Wat is de ouput van dit programma?  \n",
    "d. Gebruik de [Python Tutor](http://www.pythontutor.com/visualize.html)  om je antwoord van a, b en c te controleren.   \n"
   ]
  }
 ],
 "metadata": {
  "kernelspec": {
   "display_name": "Python 3 (ipykernel)",
   "language": "python",
   "name": "python3"
  },
  "language_info": {
   "codemirror_mode": {
    "name": "ipython",
    "version": 3
   },
   "file_extension": ".py",
   "mimetype": "text/x-python",
   "name": "python",
   "nbconvert_exporter": "python",
   "pygments_lexer": "ipython3",
   "version": "3.10.6"
  }
 },
 "nbformat": 4,
 "nbformat_minor": 4
}
