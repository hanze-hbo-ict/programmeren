{
 "cells": [
  {
   "attachments": {},
   "cell_type": "markdown",
   "metadata": {},
   "source": [
    "| Naam         | Beschrijving                                                   |\n",
    "|--------------|----------------------------------------------------------------|\n",
    "| Onderwerp    | Outputs                                                        |\n",
    "| Leerdoel     | Lezen van functies                                             |\n",
    "| Bestandsnaam | `wk3in3.txt`                                                   |\n",
    "| Inleveren    | Lever jouw bestand met de juiste bestandsnaam in op GradeScope |\n",
    "\n",
    "\n",
    "Onderstaande opdrachten gaan allemaal over het tekenen met turtle."
   ]
  },
  {
   "attachments": {},
   "cell_type": "markdown",
   "metadata": {},
   "source": [
    "# Opdracht 1"
   ]
  },
  {
   "attachments": {},
   "cell_type": "markdown",
   "metadata": {},
   "source": [
    "```python\n",
    "def blaat(x):\n",
    "    width(5)\n",
    "    color('red')\n",
    "\n",
    "    forward(100)    \n",
    "    left(120)\n",
    "    if x == 0:\n",
    "        return    \n",
    "    blaat(x-1)\n",
    "```"
   ]
  },
  {
   "attachments": {},
   "cell_type": "markdown",
   "metadata": {},
   "source": [
    "Wat wordt er getekend met de aanroep `blaat(5)`"
   ]
  },
  {
   "attachments": {},
   "cell_type": "markdown",
   "metadata": {},
   "source": [
    "# Opdracht 2"
   ]
  },
  {
   "attachments": {},
   "cell_type": "markdown",
   "metadata": {},
   "source": [
    "```python\n",
    "def blaat(x, y):\n",
    "    width(5)\n",
    "    color('red')\n",
    "\n",
    "    forward(100)    \n",
    "    left(y)\n",
    "    if x == 0:\n",
    "        return    \n",
    "    blaat(x-1, y)\n",
    "```\n",
    "\n"
   ]
  },
  {
   "attachments": {},
   "cell_type": "markdown",
   "metadata": {},
   "source": [
    "Wat wordt er getekend met de aanroep `blaat(4, 60)`"
   ]
  },
  {
   "attachments": {},
   "cell_type": "markdown",
   "metadata": {},
   "source": [
    "# Opdracht 3"
   ]
  },
  {
   "attachments": {},
   "cell_type": "markdown",
   "metadata": {},
   "source": [
    "```python\n",
    "def blaat(x, y):\n",
    "    width(5)\n",
    "    color('red')\n",
    "\n",
    "    forward(x)    \n",
    "    left(90)\n",
    "    if x <= 0:\n",
    "        return    \n",
    "    blaat(x-y, y)\n",
    "```"
   ]
  },
  {
   "attachments": {},
   "cell_type": "markdown",
   "metadata": {},
   "source": [
    "Wat wordt er getekend met de aanroep `blaat(100, 10)`"
   ]
  }
 ],
 "metadata": {
  "kernelspec": {
   "display_name": "Python 3 (ipykernel)",
   "language": "python",
   "name": "python3"
  },
  "language_info": {
   "codemirror_mode": {
    "name": "ipython",
    "version": 3
   },
   "file_extension": ".py",
   "mimetype": "text/x-python",
   "name": "python",
   "nbconvert_exporter": "python",
   "pygments_lexer": "ipython3",
   "version": "3.10.6"
  }
 },
 "nbformat": 4,
 "nbformat_minor": 4
}
