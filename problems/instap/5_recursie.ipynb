{
 "cells": [
  {
   "attachments": {},
   "cell_type": "markdown",
   "metadata": {},
   "source": [
    "| Naam         | Beschrijving                                                   |\n",
    "|--------------|----------------------------------------------------------------|\n",
    "| Onderwerp    | Outputs                                                        |\n",
    "| Leerdoel     | Lezen van functies                                             |\n",
    "| Bestandsnaam | `wk5in1.txt`                                                   |\n",
    "| Inleveren    | Lever jouw bestand met de juiste bestandsnaam in op GradeScope |\n",
    "\n",
    "\n",
    "Maak onderstaande opdrachten zonder het gebruik van een interperter. "
   ]
  },
  {
   "attachments": {},
   "cell_type": "markdown",
   "metadata": {},
   "source": [
    "## Opdracht 1\n",
    "\n"
   ]
  },
  {
   "attachments": {},
   "cell_type": "markdown",
   "metadata": {},
   "source": [
    "```python\n",
    "def main():\n",
    "    \"\"\"\n",
    "    Main functie. Roept de andere functies op om hun werk te doen. \n",
    "    \"\"\"\n",
    "    x = blaat(\"Test\")\n",
    "\n",
    "def testing():\n",
    "    \"\"\"\n",
    "    Test functie. Hier staan alle assertions om de functies te testen.\n",
    "    \"\"\"\n",
    "\n",
    "def blaat(x):\n",
    "    print(x)\n",
    "    if len(x) == 0:\n",
    "        return\n",
    "    blaat(x[:-1])\n",
    "\n",
    "main()\n",
    "testing()\n",
    "\n",
    "```"
   ]
  },
  {
   "attachments": {},
   "cell_type": "markdown",
   "metadata": {},
   "source": [
    "a. Wat is de ouput van dit programma?  \n",
    "b. Gebruik de [Python Tutor](http://www.pythontutor.com/visualize.html)  om je antwoord van a te controleren.   \n"
   ]
  },
  {
   "attachments": {},
   "cell_type": "markdown",
   "metadata": {},
   "source": [
    "# Opdracht 2"
   ]
  },
  {
   "attachments": {},
   "cell_type": "markdown",
   "metadata": {},
   "source": [
    "```python\n",
    "def main():\n",
    "    \"\"\"\n",
    "    Main functie. Roept de andere functies op om hun werk te doen. \n",
    "    \"\"\"\n",
    "    x = blaat(\"Test\", \"e\")\n",
    "    print(x)\n",
    "\n",
    "def testing():\n",
    "    \"\"\"\n",
    "    Test functie. Hier staan alle assertions om de functies te testen.\n",
    "    \"\"\"\n",
    "\n",
    "def blaat(x, y):\n",
    "    if len(x) == 0:\n",
    "        return True\n",
    "    if x[0] == y:\n",
    "        return False\n",
    "    return blaat(x[1:], y)\n",
    "\n",
    "main()\n",
    "testing()\n",
    "\n",
    "```"
   ]
  },
  {
   "attachments": {},
   "cell_type": "markdown",
   "metadata": {},
   "source": [
    "a. Wat is de ouput van dit programma?  \n",
    "b. Gebruik de [Python Tutor](http://www.pythontutor.com/visualize.html)  om je antwoord van a te controleren.   \n"
   ]
  },
  {
   "attachments": {},
   "cell_type": "markdown",
   "metadata": {},
   "source": [
    "# Opdracht 3"
   ]
  },
  {
   "attachments": {},
   "cell_type": "markdown",
   "metadata": {},
   "source": [
    "```python\n",
    "def main():\n",
    "    \"\"\"\n",
    "    Main functie. Roept de andere functies op om hun werk te doen. \n",
    "    \"\"\"\n",
    "    print(blaat(10, 9))\n",
    "    print(blaat(7, 6))\n",
    "    print(blaat(13, 12))\n",
    "    print(blaat(18, 17))\n",
    "\n",
    "def testing():\n",
    "    \"\"\"\n",
    "    Test functie. Hier staan alle assertions om de functies te testen.\n",
    "    \"\"\"\n",
    "\n",
    "def blaat(x, y):\n",
    "    if y == 1:\n",
    "        return True\n",
    "    if x % y == 0:\n",
    "        return False\n",
    "    return blaat(x, y-1)\n",
    "\n",
    "main()\n",
    "testing()\n",
    "```\n"
   ]
  },
  {
   "attachments": {},
   "cell_type": "markdown",
   "metadata": {},
   "source": [
    "a. Wat is de ouput van dit programma?  \n",
    "b. Gebruik de [Python Tutor](http://www.pythontutor.com/visualize.html)  om je antwoord van a te controleren.   \n",
    "b. Wat is het doel van de functie `blaat()` ? Probeer verschillende inputs om tot een oplossing te komen. \n",
    "\n"
   ]
  },
  {
   "attachments": {},
   "cell_type": "markdown",
   "metadata": {},
   "source": [
    "# Opdracht 4"
   ]
  },
  {
   "attachments": {},
   "cell_type": "markdown",
   "metadata": {},
   "source": [
    "Schrijf een functie `order(L)` dat een lijst accepteert en een boolean teruggeeft om aan te geven of de lijst in de juiste volgorde staat. "
   ]
  },
  {
   "attachments": {},
   "cell_type": "markdown",
   "metadata": {},
   "source": [
    "Voorbeelden\n",
    "```python\n",
    "order(\"test\") == False\n",
    "order(\"abcde\") == True\n",
    "order(1,3, 6, 7, 9, 12) == True\n",
    "order(1,5,8, 10, 5, 13, 18) == False\n",
    "```"
   ]
  },
  {
   "attachments": {},
   "cell_type": "markdown",
   "metadata": {},
   "source": [
    "Kevin heeft geprobeerd deze opdracht te maken, maar er staan fouten in zijn code. Kan je ze allemaal vinden?"
   ]
  },
  {
   "attachments": {},
   "cell_type": "markdown",
   "metadata": {},
   "source": [
    "```python\n",
    "def order(L):\n",
    "    if len(L) == 0:\n",
    "        return True\n",
    "    if L[0] > L[1]:\n",
    "        return False\n",
    "    return order(L[:1])\n",
    "```\n"
   ]
  },
  {
   "attachments": {},
   "cell_type": "markdown",
   "metadata": {},
   "source": [
    "# Opdracht 5"
   ]
  },
  {
   "attachments": {},
   "cell_type": "markdown",
   "metadata": {},
   "source": [
    "Elk bestand in de computer eindigt met een bestand extensie. Dit geeft aan wat voor bestand het is. Bijvoorbeeld .py laat de computer bijvoorbeeld weten dat het om een python bestand gaat. In een email is het vaak niet toegestaan om een bijlage mee te sturen dat eindigt op .exe Dit zou namelijk malware kunnen zijn dat schadelijk is voor de computer. "
   ]
  },
  {
   "attachments": {},
   "cell_type": "markdown",
   "metadata": {},
   "source": [
    "Schrijf een functie extensie_check(s, e) dat een string `s` en string `e` accepteert en aangeeft via een boolean of 's' eindigt met 'e'. "
   ]
  },
  {
   "attachments": {},
   "cell_type": "markdown",
   "metadata": {},
   "source": [
    "Voorbeelden:\n",
    "\n",
    "```python\n",
    "extensie_check(\"tentamen.docx\", \".exe\") ==  False\n",
    "exentsie_check(\"program.exe\", \".exe\" == True\n",
    "extensie_check(\"wk8ex1.py\", \".py\") == True\n",
    "```"
   ]
  },
  {
   "attachments": {},
   "cell_type": "markdown",
   "metadata": {},
   "source": [
    "Kim heeft het volgende plan bedacht:"
   ]
  },
  {
   "attachments": {},
   "cell_type": "markdown",
   "metadata": {},
   "source": [
    "We kunnen via recursie bepalen of een string s eindigt met een string e: \n",
    "*   Als string `e` leeg is, geef True terug,  `s` eindigt altijd met een lege string. \n",
    "* \tAls string `s` leeg is, geef False terug. `e` kan namelijk niet aan einde van een lege string zitten. \n",
    "*\tAls de laatste letter van `e` niet gelijk is aan de laatste letter van `s`, geef False terug. In dit geval eindigt `s` dus niet met `e`. \n",
    "*\tAnders zijn de laatste letters wel gelijk en roep je de functie opnieuw op, maar dan zonder de laatste letters van beide strings en geeft het resultaat daarvan terug. \n"
   ]
  },
  {
   "attachments": {},
   "cell_type": "markdown",
   "metadata": {},
   "source": [
    "Schrijf een functie extensie_check(s, e) die gebruikt maakt van bovenstaande recursieve algoritme. Je mag geen gebruik maken van list comprehensions of lusconstructies."
   ]
  },
  {
   "attachments": {},
   "cell_type": "markdown",
   "metadata": {},
   "source": [
    "# Opdracht 6\n",
    "\n",
    "Schrijf een functie `maxDis(L)` dat een lijst met integers accepteert en het getal teruggeeft dat het verste van de nul afligt. "
   ]
  },
  {
   "attachments": {},
   "cell_type": "markdown",
   "metadata": {},
   "source": [
    "Mark heeft het volgende idee bedacht. "
   ]
  },
  {
   "attachments": {},
   "cell_type": "markdown",
   "metadata": {},
   "source": [
    "* Gebruik de functie `abs()` om van een negatief getal een positief getal te maken. Een positief getal blijft positief. \n",
    "* Als er maar 1 element in `L  zit, geef dan dit element terug. De functie stopt hier. \n",
    "* Pak de eerste element van de lijst en bewaar deze. \n",
    "* Stuur de rest van de lijst door en wacht op antwoord. \n",
    "* Vergelijk het eerste element van de lijst met het teruggekomen antwoord. Als het eerste element groter is, dan geeft de functie deze terug en anders het andere getal. "
   ]
  },
  {
   "attachments": {},
   "cell_type": "markdown",
   "metadata": {},
   "source": [
    "Schrijf een functie extensie_check(s, e) die gebruikt maakt van bovenstaande recursieve algoritme. Je mag geen gebruik maken van list comprehensions of lusconstructies."
   ]
  }
 ],
 "metadata": {
  "kernelspec": {
   "display_name": "Python 3 (ipykernel)",
   "language": "python",
   "name": "python3"
  },
  "language_info": {
   "codemirror_mode": {
    "name": "ipython",
    "version": 3
   },
   "file_extension": ".py",
   "mimetype": "text/x-python",
   "name": "python",
   "nbconvert_exporter": "python",
   "pygments_lexer": "ipython3",
   "version": "3.10.6"
  }
 },
 "nbformat": 4,
 "nbformat_minor": 4
}
