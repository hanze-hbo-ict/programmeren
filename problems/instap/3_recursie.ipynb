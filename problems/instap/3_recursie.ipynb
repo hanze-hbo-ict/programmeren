{
 "cells": [
  {
   "attachments": {},
   "cell_type": "markdown",
   "metadata": {},
   "source": [
    "| Naam         | Beschrijving                                                   |\n",
    "|--------------|----------------------------------------------------------------|\n",
    "| Onderwerp    | Outputs                                                        |\n",
    "| Leerdoel     | Lezen van functies                                             |\n",
    "| Bestandsnaam | `wk3in2.txt`                                                   |\n",
    "| Inleveren    | Lever jouw bestand met de juiste bestandsnaam in op GradeScope |\n",
    "\n",
    "\n",
    "Bepaal de outputs van onderstaande programma's zonder het gebruik van een interperter. "
   ]
  },
  {
   "attachments": {},
   "cell_type": "markdown",
   "metadata": {},
   "source": [
    "## Opdracht 1\n",
    "\n"
   ]
  },
  {
   "attachments": {},
   "cell_type": "markdown",
   "metadata": {},
   "source": [
    "```python\n",
    "def main():\n",
    "    \"\"\"\n",
    "    Main functie. Roept de andere functies op om hun werk te doen. \n",
    "    \"\"\"\n",
    "    x = blaat(10)\n",
    "\n",
    "def testing():\n",
    "    \"\"\"\n",
    "    Test functie. Hier staan alle assertions om de functies te testen.\n",
    "    \"\"\"\n",
    "\n",
    "def blaat(x):\n",
    "    print(x)\n",
    "    if x == 0:\n",
    "        return\n",
    "    blaat(x-1)\n",
    "\n",
    "main()\n",
    "testing()\n",
    "\n",
    "```"
   ]
  },
  {
   "attachments": {},
   "cell_type": "markdown",
   "metadata": {},
   "source": [
    "a. Wat doet de functie blaat?  \n",
    "b. Wat is de ouput van dit programma?  \n",
    "c. Gebruik de [Python Tutor](http://www.pythontutor.com/visualize.html)  om je antwoord van a en b te controleren.   \n"
   ]
  },
  {
   "attachments": {},
   "cell_type": "markdown",
   "metadata": {},
   "source": [
    "# Opdracht 2"
   ]
  },
  {
   "attachments": {},
   "cell_type": "markdown",
   "metadata": {},
   "source": [
    "```python\n",
    "def main():\n",
    "    \"\"\"\n",
    "    Main functie. Roept de andere functies op om hun werk te doen. \n",
    "    \"\"\"\n",
    "    x = blaat(10, 2)\n",
    "\n",
    "def testing():\n",
    "    \"\"\"\n",
    "    Test functie. Hier staan alle assertions om de functies te testen.\n",
    "    \"\"\"\n",
    "\n",
    "def blaat(x, y):\n",
    "    print(x)\n",
    "    if x == 0:\n",
    "        return\n",
    "    blaat(x-y, y)\n",
    "\n",
    "main()\n",
    "testing()\n",
    "\n",
    "```"
   ]
  },
  {
   "attachments": {},
   "cell_type": "markdown",
   "metadata": {},
   "source": [
    "a. Wat doet de functie blaat?  \n",
    "b. Wat is de ouput van dit programma?  \n",
    "c. Wat is de ouput als `blaat(10, 2)` wordt vervangen met `blaat(5,0)`  \n",
    "d. Gebruik de [Python Tutor](http://www.pythontutor.com/visualize.html)  om je antwoord van a, b en c te controleren.   \n"
   ]
  },
  {
   "attachments": {},
   "cell_type": "markdown",
   "metadata": {},
   "source": [
    "# Opdracht 3"
   ]
  },
  {
   "attachments": {},
   "cell_type": "markdown",
   "metadata": {},
   "source": [
    "```python\n",
    "def main():\n",
    "    \"\"\"\n",
    "    Main functie. Roept de andere functies op om hun werk te doen. \n",
    "    \"\"\"\n",
    "    x = blaat(10, 6)\n",
    "\n",
    "def testing():\n",
    "    \"\"\"\n",
    "    Test functie. Hier staan alle assertions om de functies te testen.\n",
    "    \"\"\"\n",
    "\n",
    "def blaat(x, y):\n",
    "    print(x)\n",
    "    if x >= 20:\n",
    "        return\n",
    "    blaat(x+y, y)\n",
    "\n",
    "main()\n",
    "testing()\n",
    "```\n"
   ]
  },
  {
   "attachments": {},
   "cell_type": "markdown",
   "metadata": {},
   "source": [
    "a. Wat doet de functie blaat?  \n",
    "b. Wat is de ouput van dit programma?  \n",
    "c. Gebruik de [Python Tutor](http://www.pythontutor.com/visualize.html)  om je antwoord van a en b te controleren.   \n"
   ]
  }
 ],
 "metadata": {
  "kernelspec": {
   "display_name": "Python 3 (ipykernel)",
   "language": "python",
   "name": "python3"
  },
  "language_info": {
   "codemirror_mode": {
    "name": "ipython",
    "version": 3
   },
   "file_extension": ".py",
   "mimetype": "text/x-python",
   "name": "python",
   "nbconvert_exporter": "python",
   "pygments_lexer": "ipython3",
   "version": "3.10.6"
  }
 },
 "nbformat": 4,
 "nbformat_minor": 4
}
