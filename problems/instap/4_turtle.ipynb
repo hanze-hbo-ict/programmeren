{
 "cells": [
  {
   "attachments": {},
   "cell_type": "markdown",
   "metadata": {},
   "source": [
    "| Naam         | Beschrijving                                                   |\n",
    "|--------------|----------------------------------------------------------------|\n",
    "| Onderwerp    | Outputs                                                        |\n",
    "| Leerdoel     | Lezen van functies                                             |\n",
    "| Bestandsnaam | `wk4in3.txt`                                                   |\n",
    "| Inleveren    | Lever jouw bestand met de juiste bestandsnaam in op GradeScope |\n",
    "\n",
    "\n",
    "Onderstaande opdrachten gaan allemaal over het tekenen met turtle."
   ]
  },
  {
   "attachments": {},
   "cell_type": "markdown",
   "metadata": {},
   "source": [
    "# Opdracht 1"
   ]
  },
  {
   "attachments": {},
   "cell_type": "markdown",
   "metadata": {},
   "source": [
    "```python\n",
    "def blaat(distance):\n",
    "  \n",
    "    left(90)\n",
    "    forward(distance/2)\n",
    "    right(90)\n",
    "    forward(distance/2)\n",
    "\n",
    "    right(180)\n",
    "    forward(distance)\n",
    "\n",
    "    right(180)\n",
    "    forward(distance/2)\n",
    "    right(90)\n",
    "    forward(distance)\n",
    "\n",
    "    left(90)\n",
    "    forward(distance/2)\n",
    "\n",
    "    right(180)\n",
    "    forward(distance)\n",
    "\n",
    "    right(180)\n",
    "    forward(distance/2)\n",
    "    left(90)\n",
    "    forward(distance/2)\n",
    "    right(90)\n",
    "```"
   ]
  },
  {
   "attachments": {},
   "cell_type": "markdown",
   "metadata": {},
   "source": [
    "Wat wordt er getekend met de aanroep `blaat(50)` ?"
   ]
  },
  {
   "attachments": {},
   "cell_type": "markdown",
   "metadata": {},
   "source": [
    "# Opdracht 2"
   ]
  },
  {
   "attachments": {},
   "cell_type": "markdown",
   "metadata": {},
   "source": [
    "```python\n",
    "def blaat(n, distance):\n",
    "\n",
    "    if n == 0:\n",
    "        return\n",
    "   \n",
    "    left(90)\n",
    "    forward(distance/2)\n",
    "    right(90)\n",
    "    forward(distance/2)\n",
    "    blaat(n-1, distance/2)\n",
    "    right(180)\n",
    "    forward(distance)\n",
    "    blaat(n-1, distance/2)\n",
    "    right(180)\n",
    "    forward(distance/2)\n",
    "    right(90)\n",
    "    forward(distance)\n",
    "\n",
    "    left(90)\n",
    "    forward(distance/2)\n",
    "    blaat(n-1, distance/2)\n",
    "    right(180)\n",
    "    forward(distance)\n",
    "    blaat(n-1, distance/2)\n",
    "    right(180)\n",
    "    forward(distance/2)\n",
    "    left(90)\n",
    "    forward(distance/2)\n",
    "    right(90)\n",
    "```\n",
    "\n"
   ]
  },
  {
   "attachments": {},
   "cell_type": "markdown",
   "metadata": {},
   "source": [
    "Wat wordt er getekend met de aanroep `blaat(2, 100)`"
   ]
  }
 ],
 "metadata": {
  "kernelspec": {
   "display_name": "Python 3",
   "language": "python",
   "name": "python3"
  },
  "language_info": {
   "codemirror_mode": {
    "name": "ipython",
    "version": 3
   },
   "file_extension": ".py",
   "mimetype": "text/x-python",
   "name": "python",
   "nbconvert_exporter": "python",
   "pygments_lexer": "ipython3",
   "version": "3.11.2 (tags/v3.11.2:878ead1, Feb  7 2023, 16:38:35) [MSC v.1934 64 bit (AMD64)]"
  },
  "vscode": {
   "interpreter": {
    "hash": "7321d1f7eabf315803f0fbeb0be0427ff6d045140e09c9efe7edcc325df00e23"
   }
  }
 },
 "nbformat": 4,
 "nbformat_minor": 4
}
