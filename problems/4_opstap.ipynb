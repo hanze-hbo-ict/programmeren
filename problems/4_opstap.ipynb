{
 "cells": [
  {
   "cell_type": "markdown",
   "metadata": {
    "editable": true,
    "slideshow": {
     "slide_type": ""
    },
    "tags": []
   },
   "source": [
    "# Opstap"
   ]
  },
  {
   "cell_type": "markdown",
   "metadata": {
    "editable": true,
    "slideshow": {
     "slide_type": ""
    },
    "tags": []
   },
   "source": [
    "## `for`-lussen"
   ]
  },
  {
   "cell_type": "markdown",
   "metadata": {
    "editable": true,
    "slideshow": {
     "slide_type": ""
    },
    "tags": []
   },
   "source": [
    "Leerdoel: het lezen van (eindige) `for`-lussen"
   ]
  },
  {
   "cell_type": "markdown",
   "metadata": {
    "editable": true,
    "slideshow": {
     "slide_type": ""
    },
    "tags": []
   },
   "source": [
    "Wat is de output van onderstaande programma's? Gebruik [Python Tutor](http://www.pythontutor.com/visualize.html) of dit notebook om je antwoorden te controleren."
   ]
  },
  {
   "cell_type": "markdown",
   "metadata": {
    "editable": true,
    "slideshow": {
     "slide_type": ""
    },
    "tags": []
   },
   "source": [
    "### Opdracht 1\n",
    "\n",
    "```python\n",
    "for i in range(5):\n",
    "    print(i)\n",
    "```"
   ]
  },
  {
   "cell_type": "code",
   "execution_count": null,
   "metadata": {
    "editable": true,
    "slideshow": {
     "slide_type": ""
    },
    "tags": [
     "skip-execution"
    ]
   },
   "outputs": [],
   "source": [
    "# controleer jouw antwoord"
   ]
  },
  {
   "cell_type": "markdown",
   "metadata": {
    "editable": true,
    "slideshow": {
     "slide_type": ""
    },
    "tags": []
   },
   "source": [
    "### Opdracht 2\n",
    "```python\n",
    "L = [2, 4, 6, 8]\n",
    "\n",
    "for x in L:\n",
    "    print(x)\n",
    "```"
   ]
  },
  {
   "cell_type": "code",
   "execution_count": null,
   "metadata": {
    "editable": true,
    "slideshow": {
     "slide_type": ""
    },
    "tags": [
     "skip-execution"
    ]
   },
   "outputs": [],
   "source": [
    "# controleer jouw antwoord"
   ]
  },
  {
   "cell_type": "markdown",
   "metadata": {
    "editable": true,
    "slideshow": {
     "slide_type": ""
    },
    "tags": []
   },
   "source": [
    "### Opdracht 3\n",
    "```python\n",
    "L = [9, 7, 5, 3, 1]\n",
    "\n",
    "for i in range(len(L)):\n",
    "    print(L[i])\n",
    "```"
   ]
  },
  {
   "cell_type": "code",
   "execution_count": null,
   "metadata": {
    "editable": true,
    "slideshow": {
     "slide_type": ""
    },
    "tags": [
     "skip-execution"
    ]
   },
   "outputs": [],
   "source": [
    "# controleer jouw antwoord"
   ]
  },
  {
   "cell_type": "markdown",
   "metadata": {
    "editable": true,
    "slideshow": {
     "slide_type": ""
    },
    "tags": []
   },
   "source": [
    "### Opdracht 4\n",
    "```python\n",
    "L = [5, 3, 1]\n",
    "result = 0\n",
    "\n",
    "for i in range(len(L)):\n",
    "    result = result + L[1]\n",
    "\n",
    "print(result)\n",
    "```"
   ]
  },
  {
   "cell_type": "code",
   "execution_count": null,
   "metadata": {
    "editable": true,
    "slideshow": {
     "slide_type": ""
    },
    "tags": [
     "skip-execution"
    ]
   },
   "outputs": [],
   "source": [
    "# controleer jouw antwoord"
   ]
  },
  {
   "cell_type": "markdown",
   "metadata": {
    "editable": true,
    "slideshow": {
     "slide_type": ""
    },
    "tags": []
   },
   "source": [
    "### Opdracht 5\n",
    "```python\n",
    "L = [1, 2, 3, 4, 5, 6, 7, 8, 9, 0]\n",
    "result = 0\n",
    "\n",
    "for i in range(len(L)):\n",
    "    if L[i] % 2 == 0:\n",
    "        result += L[i]\n",
    "\n",
    "print(result)\n",
    "```"
   ]
  },
  {
   "cell_type": "code",
   "execution_count": null,
   "metadata": {
    "editable": true,
    "slideshow": {
     "slide_type": ""
    },
    "tags": [
     "skip-execution"
    ]
   },
   "outputs": [],
   "source": [
    "# controleer jouw antwoord"
   ]
  },
  {
   "cell_type": "markdown",
   "metadata": {
    "editable": true,
    "slideshow": {
     "slide_type": ""
    },
    "tags": []
   },
   "source": [
    "\n",
    "### Opdracht 6\n",
    "```python\n",
    "s = \"Hanze\"\n",
    "result = 0\n",
    "\n",
    "for _ in s:\n",
    "    result += 1\n",
    "\n",
    "print(result)\n",
    "```"
   ]
  },
  {
   "cell_type": "code",
   "execution_count": null,
   "metadata": {
    "editable": true,
    "slideshow": {
     "slide_type": ""
    },
    "tags": [
     "skip-execution"
    ]
   },
   "outputs": [],
   "source": [
    "# controleer jouw antwoord"
   ]
  },
  {
   "cell_type": "markdown",
   "metadata": {
    "editable": true,
    "slideshow": {
     "slide_type": ""
    },
    "tags": []
   },
   "source": [
    "\n",
    "### Opdracht 7\n",
    "```python\n",
    "s = \"Dit is een string\"\n",
    "result = \"\"\n",
    "\n",
    "for x in s:\n",
    "    if x in \"eauoi\":\n",
    "        result += x\n",
    "\n",
    "print(result)\n",
    "```"
   ]
  },
  {
   "cell_type": "code",
   "execution_count": null,
   "metadata": {
    "editable": true,
    "slideshow": {
     "slide_type": ""
    },
    "tags": [
     "skip-execution"
    ]
   },
   "outputs": [],
   "source": [
    "# controleer jouw antwoord"
   ]
  },
  {
   "cell_type": "markdown",
   "metadata": {
    "editable": true,
    "slideshow": {
     "slide_type": ""
    },
    "tags": []
   },
   "source": [
    "### Opdracht 8\n",
    "```python\n",
    "s = \"Dit is een string\"\n",
    "result = \"\"\n",
    "\n",
    "for i in range(len(s)):\n",
    "    if s[i- 1] == \" \":\n",
    "        result += s[i]\n",
    "\n",
    "print(result)\n",
    "```"
   ]
  },
  {
   "cell_type": "code",
   "execution_count": null,
   "metadata": {
    "editable": true,
    "slideshow": {
     "slide_type": ""
    },
    "tags": [
     "skip-execution"
    ]
   },
   "outputs": [],
   "source": [
    "# controleer jouw antwoord"
   ]
  },
  {
   "cell_type": "markdown",
   "metadata": {
    "editable": true,
    "slideshow": {
     "slide_type": ""
    },
    "tags": []
   },
   "source": [
    "### Opdracht 9\n",
    "```python\n",
    "L = []\n",
    "\n",
    "for i in range(10):\n",
    "    if i < 2:\n",
    "        L += [1]\n",
    "    else:\n",
    "        L += [L[i-1] + L[i-2]]\n",
    "\n",
    "print(L)\n",
    "```"
   ]
  },
  {
   "cell_type": "code",
   "execution_count": null,
   "metadata": {
    "editable": true,
    "slideshow": {
     "slide_type": ""
    },
    "tags": [
     "skip-execution"
    ]
   },
   "outputs": [],
   "source": [
    "# controleer jouw antwoord"
   ]
  },
  {
   "cell_type": "markdown",
   "metadata": {
    "editable": true,
    "slideshow": {
     "slide_type": ""
    },
    "tags": []
   },
   "source": [
    "### Opdracht 10\n",
    "```python\n",
    "L = []\n",
    "temp = 1\n",
    "\n",
    "for i in range(5):\n",
    "    if(temp % 2 != 0):\n",
    "        L += [2 * temp]\n",
    "        temp =  temp + 5\n",
    "    else:\n",
    "        L += [temp]\n",
    "        temp = temp / 2\n",
    "\n",
    "print(L)\n",
    "print(temp)\n",
    "```"
   ]
  },
  {
   "cell_type": "code",
   "execution_count": null,
   "metadata": {
    "editable": true,
    "slideshow": {
     "slide_type": ""
    },
    "tags": [
     "skip-execution"
    ]
   },
   "outputs": [],
   "source": [
    "# controleer jouw antwoord"
   ]
  },
  {
   "cell_type": "markdown",
   "metadata": {
    "editable": true,
    "slideshow": {
     "slide_type": ""
    },
    "tags": []
   },
   "source": [
    "## `while`-lussen\n",
    "\n",
    "Leerdoel: het lezen van (oneindige) `while`-lussen"
   ]
  },
  {
   "cell_type": "markdown",
   "metadata": {
    "editable": true,
    "slideshow": {
     "slide_type": ""
    },
    "tags": []
   },
   "source": [
    "Wat is de output van onderstaande programma's? Gebruik [Python Tutor](http://www.pythontutor.com/visualize.html) of dit notebook om je antwoorden te controleren."
   ]
  },
  {
   "cell_type": "markdown",
   "metadata": {
    "editable": true,
    "slideshow": {
     "slide_type": ""
    },
    "tags": []
   },
   "source": [
    "### Opdracht 1\n",
    "```python\n",
    "n = 0\n",
    "\n",
    "while n < 5:\n",
    "    print(n)\n",
    "    n += 1\n",
    "```"
   ]
  },
  {
   "cell_type": "code",
   "execution_count": null,
   "metadata": {
    "editable": true,
    "slideshow": {
     "slide_type": ""
    },
    "tags": [
     "skip-execution"
    ]
   },
   "outputs": [],
   "source": [
    "# controleer jouw antwoord"
   ]
  },
  {
   "cell_type": "markdown",
   "metadata": {
    "editable": true,
    "slideshow": {
     "slide_type": ""
    },
    "tags": []
   },
   "source": [
    "### Opdracht 2\n",
    "```python\n",
    "L = [1, 2, 3, 4, 5]\n",
    "\n",
    "while len(L) > 0:\n",
    "    print(L)\n",
    "    L = L[1:]\n",
    "```"
   ]
  },
  {
   "cell_type": "code",
   "execution_count": null,
   "metadata": {
    "editable": true,
    "slideshow": {
     "slide_type": ""
    },
    "tags": [
     "skip-execution"
    ]
   },
   "outputs": [],
   "source": [
    "# controleer jouw antwoord"
   ]
  },
  {
   "cell_type": "markdown",
   "metadata": {
    "editable": true,
    "slideshow": {
     "slide_type": ""
    },
    "tags": []
   },
   "source": [
    "### Opdracht 3\n",
    "```python\n",
    "i = 1\n",
    "\n",
    "while i < 6:\n",
    "    print(i)\n",
    "    \n",
    "    if i == 3:\n",
    "        break\n",
    "        \n",
    "    i += 1\n",
    "```\n"
   ]
  },
  {
   "cell_type": "code",
   "execution_count": null,
   "metadata": {
    "editable": true,
    "slideshow": {
     "slide_type": ""
    },
    "tags": [
     "skip-execution"
    ]
   },
   "outputs": [],
   "source": [
    "# controleer jouw antwoord"
   ]
  },
  {
   "cell_type": "markdown",
   "metadata": {
    "editable": true,
    "slideshow": {
     "slide_type": ""
    },
    "tags": []
   },
   "source": [
    "### Opdracht 4\n",
    "```python\n",
    "i = 0\n",
    "\n",
    "while i < 6:\n",
    "    i += 1\n",
    "    \n",
    "    if i == 3:\n",
    "        continue\n",
    "\n",
    "    print(i)\n",
    "```"
   ]
  },
  {
   "cell_type": "code",
   "execution_count": null,
   "metadata": {
    "editable": true,
    "slideshow": {
     "slide_type": ""
    },
    "tags": [
     "skip-execution"
    ]
   },
   "outputs": [],
   "source": [
    "# controleer jouw antwoord"
   ]
  },
  {
   "cell_type": "markdown",
   "metadata": {
    "editable": true,
    "slideshow": {
     "slide_type": ""
    },
    "tags": []
   },
   "source": [
    "### Opdracht 5\n",
    "```python\n",
    "number = 4\n",
    "faculty = 1\n",
    "\n",
    "while number  > 0:\n",
    "    faculty = faculty * number\n",
    "    number -= 1\n",
    "\n",
    "print(faculty)\n",
    "```"
   ]
  },
  {
   "cell_type": "code",
   "execution_count": null,
   "metadata": {
    "editable": true,
    "slideshow": {
     "slide_type": ""
    },
    "tags": [
     "skip-execution"
    ]
   },
   "outputs": [],
   "source": [
    "# controleer jouw antwoord"
   ]
  },
  {
   "cell_type": "markdown",
   "metadata": {
    "editable": true,
    "slideshow": {
     "slide_type": ""
    },
    "tags": []
   },
   "source": [
    "### Opdracht 6\n",
    "```python\n",
    "num1 = 5\n",
    "num2 = 8\n",
    "\n",
    "while num2 > 0:\n",
    "    num1 = num1 + num1\n",
    "    num2 -= 1\n",
    "\n",
    "print(num1)\n",
    "\n",
    "```"
   ]
  },
  {
   "cell_type": "code",
   "execution_count": null,
   "metadata": {
    "editable": true,
    "slideshow": {
     "slide_type": ""
    },
    "tags": [
     "skip-execution"
    ]
   },
   "outputs": [],
   "source": [
    "# controleer jouw antwoord"
   ]
  },
  {
   "cell_type": "markdown",
   "metadata": {
    "editable": true,
    "slideshow": {
     "slide_type": ""
    },
    "tags": []
   },
   "source": [
    "### Opdracht 7\n",
    "```python\n",
    "s = \"Dit is een test\"\n",
    "\n",
    "while s[0] != \"e\":\n",
    "    s = s[1:]\n",
    "\n",
    "print(s)\n",
    "```"
   ]
  },
  {
   "cell_type": "code",
   "execution_count": null,
   "metadata": {
    "editable": true,
    "slideshow": {
     "slide_type": ""
    },
    "tags": [
     "skip-execution"
    ]
   },
   "outputs": [],
   "source": [
    "# controleer jouw antwoord"
   ]
  },
  {
   "cell_type": "markdown",
   "metadata": {
    "editable": true,
    "slideshow": {
     "slide_type": ""
    },
    "tags": []
   },
   "source": [
    "### Opdracht 8\n",
    "```python\n",
    "total = 0\n",
    "number = int(input(\"Enter a number: \"))\n",
    "\n",
    "while number != 0:\n",
    "    total += number\n",
    "    number = int(input(\"Enter a number: \"))\n",
    "\n",
    "print(\"total =\", total)\n",
    "```"
   ]
  },
  {
   "cell_type": "code",
   "execution_count": null,
   "metadata": {
    "editable": true,
    "slideshow": {
     "slide_type": ""
    },
    "tags": [
     "skip-execution"
    ]
   },
   "outputs": [],
   "source": [
    "# controleer jouw antwoord"
   ]
  },
  {
   "cell_type": "markdown",
   "metadata": {
    "editable": true,
    "slideshow": {
     "slide_type": ""
    },
    "tags": []
   },
   "source": [
    "### Opdracht 9\n",
    "```python\n",
    "L = [1, 2, 3, 4, 5]\n",
    "index = 0\n",
    "\n",
    "while L[index] != 3 :\n",
    "    index += 1\n",
    "\n",
    "print(index)\n",
    "```"
   ]
  },
  {
   "cell_type": "code",
   "execution_count": null,
   "metadata": {
    "editable": true,
    "slideshow": {
     "slide_type": ""
    },
    "tags": [
     "skip-execution"
    ]
   },
   "outputs": [],
   "source": [
    "# controleer jouw antwoord"
   ]
  },
  {
   "cell_type": "markdown",
   "metadata": {
    "editable": true,
    "slideshow": {
     "slide_type": ""
    },
    "tags": []
   },
   "source": [
    "### Opdracht 10\n",
    "```python\n",
    "L = []\n",
    "temp = 1\n",
    "\n",
    "while len(L) < 10:\n",
    "    if(temp % 2 != 0):\n",
    "        L += [2 * temp]\n",
    "        temp =  temp + 5\n",
    "    else:\n",
    "        temp = temp / 2\n",
    "\n",
    "print(lijst)\n",
    "```"
   ]
  },
  {
   "cell_type": "code",
   "execution_count": null,
   "metadata": {
    "editable": true,
    "slideshow": {
     "slide_type": ""
    },
    "tags": [
     "skip-execution"
    ]
   },
   "outputs": [],
   "source": [
    "# controleer jouw antwoord"
   ]
  }
 ],
 "metadata": {
  "kernelspec": {
   "display_name": "Python 3 (ipykernel)",
   "language": "python",
   "name": "python3"
  },
  "language_info": {
   "codemirror_mode": {
    "name": "ipython",
    "version": 3
   },
   "file_extension": ".py",
   "mimetype": "text/x-python",
   "name": "python",
   "nbconvert_exporter": "python",
   "pygments_lexer": "ipython3",
   "version": "3.12.3"
  }
 },
 "nbformat": 4,
 "nbformat_minor": 4
}
