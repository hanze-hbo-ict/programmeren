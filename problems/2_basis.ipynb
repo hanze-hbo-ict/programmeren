{
 "cells": [
  {
   "cell_type": "markdown",
   "id": "e88da021-ae76-40ee-8494-e5dce25fade4",
   "metadata": {
    "editable": true,
    "slideshow": {
     "slide_type": ""
    },
    "tags": []
   },
   "source": [
    "# Basis\n",
    "\n",
    "## Formules en variabelen\n",
    "\n",
    "Rekenen met variabelen."
   ]
  },
  {
   "cell_type": "markdown",
   "id": "4733c062-5df7-4a87-80d3-dce035643a70",
   "metadata": {
    "editable": true,
    "slideshow": {
     "slide_type": ""
    },
    "tags": []
   },
   "source": [
    "### Opdracht 1\n",
    "\n",
    "**1a**\n",
    "\n",
    "Een klusjesman, Handige Harry, rekent startkosten/voorrijkosten van €60 en een uurtarief van €40. Schrijf een programma dat de volgende stappen doet:\n",
    "\n",
    "1. Vraagt de gebruiker om input, dit omzet tot een integer en het resultaat opslaat in een variabele genaamd `uren`.\n",
    "2. Een berekening uitvoert om uit te rekenen hoeveel geld Harry krijgt en het resultaat opslaat in een variabele genaamd `rekening`.\n",
    "3. Print het resultaat."
   ]
  },
  {
   "cell_type": "code",
   "execution_count": null,
   "id": "04ec1efd-8247-4d7f-bbfe-98f51f49f02c",
   "metadata": {
    "editable": true,
    "slideshow": {
     "slide_type": ""
    },
    "tags": [
     "skip-execution"
    ]
   },
   "outputs": [],
   "source": [
    "# jouw oplossing"
   ]
  },
  {
   "cell_type": "markdown",
   "id": "ec8c6ee0-7f6e-4207-98f4-49e0ebf52a02",
   "metadata": {
    "editable": true,
    "slideshow": {
     "slide_type": ""
    },
    "tags": []
   },
   "source": [
    "**1b**\n",
    "\n",
    "Harry heeft een aanbieding lopen: als de klant meer dan €400 moet betalen, dan krijgt de klant 10% korting. Pas het programma bij a zo aan dat ook de korting wordt meeberekend, als de klant daar recht op heeft."
   ]
  },
  {
   "cell_type": "code",
   "execution_count": null,
   "id": "0a48d429-275a-4026-afa4-c7c58b3b42ff",
   "metadata": {
    "editable": true,
    "slideshow": {
     "slide_type": ""
    },
    "tags": [
     "skip-execution"
    ]
   },
   "outputs": [],
   "source": [
    "# jouw oplossing"
   ]
  },
  {
   "cell_type": "markdown",
   "id": "1aac6e2a-828c-4878-87b0-a5baeae02825",
   "metadata": {
    "editable": true,
    "slideshow": {
     "slide_type": ""
    },
    "tags": []
   },
   "source": [
    "### Opdracht 2\n",
    "\n",
    "Tentamencijfers worden vaak berekend aan de hand van een formule:\n",
    "\n",
    "punten / max_punten * 9 + 1 = cijfer\n",
    "\n",
    "Schrijf een programma dat de gebruiker 2 keer om input vraagt; namelijk hoeveel punten er zijn gehaald voor de toets en hoeveel punten er maximaal te behalen zijn. Vervolgens berekent het programma het cijfer en print dat uit."
   ]
  },
  {
   "cell_type": "code",
   "execution_count": null,
   "id": "801c8ff4-3c8a-4791-ade2-d4741f349545",
   "metadata": {
    "editable": true,
    "slideshow": {
     "slide_type": ""
    },
    "tags": [
     "skip-execution"
    ]
   },
   "outputs": [],
   "source": [
    "# jouw oplossing"
   ]
  },
  {
   "cell_type": "markdown",
   "id": "c3e7e029-d0e7-4921-ad03-584c6f0afaf4",
   "metadata": {
    "editable": true,
    "slideshow": {
     "slide_type": ""
    },
    "tags": []
   },
   "source": [
    "### Opdracht 3\n",
    "\n",
    "**3a**\n",
    "\n",
    "Schrijf een programma dat de gebruiker 2 keer om input vraagt; namelijk wat de temperatuur is en of dat in Fahrenheit is of in Celsius. Als het in Fahrenheit is, rekent het programma uit wat dat in Celsius is en andersom. De formule om van Celsius naar Fahrenheit te komen is:\n",
    "\n",
    "$$(Celsius \\times \\frac{9}{5}) + 32 = Fahrenheit$$"
   ]
  },
  {
   "cell_type": "code",
   "execution_count": null,
   "id": "69f18b86-96a0-411e-9261-9cb1fdfa6ea8",
   "metadata": {
    "editable": true,
    "slideshow": {
     "slide_type": ""
    },
    "tags": [
     "skip-execution"
    ]
   },
   "outputs": [],
   "source": [
    "# jouw oplossing"
   ]
  },
  {
   "cell_type": "markdown",
   "id": "fc0d7d80-efcf-4430-9027-10680340f85d",
   "metadata": {
    "editable": true,
    "slideshow": {
     "slide_type": ""
    },
    "tags": []
   },
   "source": [
    "**3b**\n",
    "\n",
    "Naast Fahrenheit en Celsius is er ook graden Kelvin. De formule voor de omzetting van graden Celsius naar Kelvin is als volgt:\n",
    "\n",
    "$$Celsius + 273.15 = Kelvin $$\n",
    "\n",
    " Pas het programma bij **a** zodanig aan dat:\n",
    "\n",
    "- Als de gebruiker aangeeft dat de temperatuur in Kelvin is, het programma de temperatuur in Celsius en in Fahrenheit uitprint.\n",
    "- Als het Celsius is, dan print het programma Kelvin en Fahrenheit uit.\n",
    "- Als het Fahrenheit is, dan print het programma Celsius en Kelvin uit.\n",
    "\n",
    "Voorbeeld output:\n",
    "\n",
    "```text\n",
    "Temperatuur?: 20\n",
    "Schaal?: Celsius\n",
    "Fahrenheit = 68\n",
    "Kelvin = 293.15\n",
    "\n",
    "Temperatuur?: 20\n",
    "Schaal?: Fahrenheit\n",
    "Celsius = -6.67\n",
    "Kelvin = 266.48\n",
    "```"
   ]
  },
  {
   "cell_type": "code",
   "execution_count": 1,
   "id": "60d28e53-9050-4da0-a1b9-7dd0776ea58a",
   "metadata": {
    "editable": true,
    "slideshow": {
     "slide_type": ""
    },
    "tags": [
     "skip-execution"
    ]
   },
   "outputs": [],
   "source": [
    "# jouw oplossing"
   ]
  },
  {
   "cell_type": "markdown",
   "id": "bdaefd80-8135-45ac-a16c-0b53731892a3",
   "metadata": {
    "editable": true,
    "slideshow": {
     "slide_type": ""
    },
    "tags": []
   },
   "source": [
    "## Interactieve fictie\n",
    "\n",
    "Een programma schrijven met conditionele statements.\n",
    "\n",
    "In deze opgave ga je interactieve fictie in Python schrijven, en met *interactieve* fictie bedoelen we een *kies-je-eigen-avontuur* programma!\n",
    "\n",
    "### Een begin\n",
    "\n",
    "```python\n",
    "\"\"\"\n",
    "Titel voor je avontuur: De queeste naar taart.\n",
    "\n",
    "Opmerkingen over hoe je het avontuur kan \"winnen\" of \"verliezen\":\n",
    "* kies de tafel om te winnen\n",
    "* kies de deur om te verliezen\n",
    "\"\"\"\n",
    "\n",
    "import time\n",
    "\n",
    "\n",
    "def adventure():\n",
    "    \"\"\"Runs one session of interactive fiction\n",
    "\n",
    "    Well, it's \"fiction,\" depending on the pill color chosen...\n",
    "\n",
    "    arguments: no arguments (prompted text doesn't count as an argument)\n",
    "    results: no results     (printing doesn't count as a result)\n",
    "    \"\"\"\n",
    "    # change to 0.0 for testing or speed runs,\n",
    "    # ... or larger for dramatic effect!\n",
    "    delay = 0.0\n",
    "\n",
    "    username = input(\"Hoe noemt men u, edele avonturier? \")\n",
    "\n",
    "    print()\n",
    "    print(\"Welkom,\", username, \"in het Libracomplex, een labyrint\")\n",
    "    print(\"van gewichtige wonderen en grote hoeveelheden ... taart!\")\n",
    "    print()\n",
    "    print(\"Uw queeste: om een taart te vinden, en te eten!\")\n",
    "    print()\n",
    "\n",
    "    flavor = input(\"Welke smaak zoekt u? \")\n",
    "    if flavor == \"aardbeien\":\n",
    "        print(\"Uw wijsheid in taartkeuze is overweldigend!\")\n",
    "    elif flavor == \"kersen\":\n",
    "        print(\"Een Limburgse klassieker: een goede keuze, avonturier!\")\n",
    "    else:\n",
    "        print(\"Ieder zijn smaak...\")\n",
    "\n",
    "    print()\n",
    "    print(\"Voorwaarts naar de queeste!\\n\\n\")\n",
    "    print(\"Een gang strekt zich voor u uit; in het gedimde licht ziet u\")\n",
    "    print(\"aan de ene kant een tafel met onduidelijke vormen en\")\n",
    "    print(\"materialen, en aan de andere kant een deur op een kier,\")\n",
    "    print(\"waarachter gelach --is dat gelach?-- van studenten klinkt.\")\n",
    "\n",
    "    time.sleep(delay)\n",
    "\n",
    "    print()\n",
    "    choice1 = input(\"Kiest u de tafel of de deur? [tafel/deur] \")\n",
    "    print()\n",
    "\n",
    "    if choice1 == \"tafel\":\n",
    "        print(\"Als u de tafel benadert lijkt de onduidelijke massa\")\n",
    "        print(\"een steeds grotere vorm aan te nemen, tot ...\")\n",
    "\n",
    "        time.sleep(delay)\n",
    "\n",
    "        print(\"... ze herkenbaar wordt als een grote stapel verpakte\")\n",
    "        print(\"taarten, het karton strak geplooid. Uw uitdaging --en\")\n",
    "        print(\"honger-- is op smakelijke wijze opgelost.\")\n",
    "        print()\n",
    "        print(\"Tot ziens,\", username, \"!\")\n",
    "    else:\n",
    "        print(\"U opent de deur en ziet een congregatie van wijze dames\")\n",
    "        print(\"en heren, die allen genieten van hun taken. Samenwerking\")\n",
    "        print(\"en vrolijkheid zijn hier in overvloed aanwezig, maar...\")\n",
    "\n",
    "        time.sleep(delay)\n",
    "\n",
    "        print(\"...ze hebben ALLE taart opgegeten! Resten van dozen\")\n",
    "        print(\"liggen overal verspreid. U wordt duizelig en grijpt\")\n",
    "        print(\"naar een taart. Er is niets. U ademt uit en valt,\")\n",
    "        print(\"en ligt verslagen tussen de resten van dozen die u\")\n",
    "        print(\"langzaam bedekken tot verstikking volgt.\")\n",
    "        print()\n",
    "        print(\"Vaarwel,\", username, \".\")\n",
    "```\n",
    "\n",
    "::::{admonition} Nieuwe regel\n",
    ":class: info\n",
    "\n",
    "Het zal je opvallen dat `print()` (ongeacht het argument, bijvoorbeeld jouw tekst) altijd een nieuwe regel start. Dit gebeurt omdat standaard de karaktercombinatie `'\\n'` aan de uitvoer wordt toevoegd. `'\\n'` staat voor \"newline\" (nieuwe regel) en kent zelfs een hele [geschiedenis](https://en.wikipedia.org/wiki/Newline) (inclusief de ouderwetse typemachine, en het wordt zeker niet alleen in Python gebruikt!).\n",
    "\n",
    "Kun je in het voorbeeldverhaal het gebruik van `'\\n'` ontdekken, en zou je dit misschien straks in jouw verhaal op een slimme manier kunnen gebruiken?\n",
    "::::\n",
    "\n",
    "### Opdracht\n",
    "\n",
    "Je mag het taartverhaal gaan aanpassen en uitbreiden, of een geheel eigen interactief-fictieverhaal schrijven! Werk met iemand samen als je wilt (dit is optioneel) en maak je eigen avontuur.\n",
    "\n",
    "Het bovenstaande verhaal bevat al twee controlestructuren met `if`:\n",
    "\n",
    "1. een `if`-`elif`-`else`, en\n",
    "2. een `if`-`else`.\n",
    "\n",
    "De eis voor deze opdracht is dat je *elk* van de onderstaande vijf controlestructuren (\"conditional statements\") gebruikt, zodanig dat ze de richting van het verhaal beïnvloeden:\n",
    "\n",
    "- een controlestructuur met `if`, precies één `elif` en `else`\n",
    "- een controlestructuur met `if`, minstens twee `elif`'s en `else`\n",
    "- een controlestructuur met `if` en `else` (en geen `elif`)\n",
    "- een controlestructuur met `if` en minstens één `elif` (en geen `else`)\n",
    "- een controlestructuur met `if` (en geen `elif` of `else`)\n",
    "\n",
    "Verder geldt het volgende:\n",
    "\n",
    "- de controlestructuren hoeven niet in de genoemde volgorde te worden toegepast\n",
    "- je mag meer dan 5 controlestructuren gebruiken (als je wilt!)\n",
    "\n",
    "::::{admonition} De kunst van de eenvoud\n",
    ":class: notice\n",
    "\n",
    "Houd het alsjeblieft eenvoudig! Andere fora of cursussen zijn beter geschikt voor vormen van creatieve expressie, hier gaat het ons voornamelijk om het verkennen van condities bij programmeren. Houd ook in gedachten dat mogelijk veel mensen jouw verhaal zullen lezen, uitvoeren en beoordelen (we kijken er naar uit!).\n",
    "\n",
    "Wees verder ook bewust van de tijd die je aan deze opdracht besteedt, het is gemakkelijk om de tijd te verliezen. Het schrijven van het taartavontuur duurde ons al veel langer dan we oorspronkelijk hadden gedacht en het telt slechts *twee* controlestructuren!\n",
    "::::\n",
    "\n",
    "Veel plezier met avonturieren!"
   ]
  },
  {
   "cell_type": "code",
   "execution_count": null,
   "id": "7410f5f6-3a26-4828-ab10-5cb434e60659",
   "metadata": {
    "editable": true,
    "slideshow": {
     "slide_type": ""
    },
    "tags": [
     "skip-execution"
    ]
   },
   "outputs": [],
   "source": [
    "# jouw oplossing"
   ]
  }
 ],
 "metadata": {
  "kernelspec": {
   "display_name": "Python 3 (ipykernel)",
   "language": "python",
   "name": "python3"
  },
  "language_info": {
   "codemirror_mode": {
    "name": "ipython",
    "version": 3
   },
   "file_extension": ".py",
   "mimetype": "text/x-python",
   "name": "python",
   "nbconvert_exporter": "python",
   "pygments_lexer": "ipython3",
   "version": "3.12.3"
  }
 },
 "nbformat": 4,
 "nbformat_minor": 5
}
