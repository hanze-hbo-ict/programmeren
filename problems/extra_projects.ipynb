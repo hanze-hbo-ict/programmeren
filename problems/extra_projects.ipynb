{
 "cells": [
  {
   "cell_type": "markdown",
   "metadata": {},
   "source": [
    "# Extra"
   ]
  },
  {
   "cell_type": "markdown",
   "metadata": {},
   "source": [
    "Naast het vier op een rij project waar aan gewerkt kan worden, bestaan er ook andere projecten. Er zijn drie andere interesante projecten waar aan gewerkt kan worden. "
   ]
  },
  {
   "cell_type": "markdown",
   "metadata": {},
   "source": [
    "## Machine learning met Picobot"
   ]
  },
  {
   "cell_type": "markdown",
   "metadata": {},
   "source": [
    "Altijd al nieuwsgierig geweest naar hoe een computer kan leren? In dit project leert een picobot hoe hij een kamer kan verkennen met behulp van een genetisch algoritme. Er worden 100 random picobots gemaakt en de beste robots worden gebruikt om de nieuwe generatie te creeeren. Het resultaat is werkende picobot code zonder ooit zelf picocode geschreven te hebben."
   ]
  },
  {
   "cell_type": "markdown",
   "metadata": {},
   "source": [
    "## Text ID"
   ]
  },
  {
   "cell_type": "markdown",
   "metadata": {},
   "source": [
    "ChatPGT en ander taal AI zijn een hot item op dit moment. Een belangrijke vraag dat heerst is hoe AI tekst herkent kan worden. In dit project bepaal je wie een tekst heeft geschreven door te kijken naar de 'hantekening' van een schrijver. Hoe lang zijn de zinnen? Hoe lang zijn de woorden? Welke woorden worden er veel gebruikt?"
   ]
  },
  {
   "cell_type": "markdown",
   "metadata": {},
   "source": [
    "## 3d Python"
   ]
  },
  {
   "cell_type": "markdown",
   "metadata": {},
   "source": [
    "Altijd al een spel willen programmeren? vpython geeft de mogelijkheid om een 3d game te maken. De eerste stappen is het maken van een simpel spel om bekend te raken met het systeem, maar daarna zijn de mogelijkheden eindeloos. "
   ]
  }
 ],
 "metadata": {
  "language_info": {
   "name": "python"
  }
 },
 "nbformat": 4,
 "nbformat_minor": 2
}
