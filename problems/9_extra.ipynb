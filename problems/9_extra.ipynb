{
 "cells": [
  {
   "cell_type": "markdown",
   "metadata": {},
   "source": [
    "# Extra"
   ]
  },
  {
   "cell_type": "markdown",
   "metadata": {},
   "source": [
    "## Potjeslatijn\n",
    "In deze opgave ga je twee functies schrijven die een vertaling kunnen maken van Nederlands naar [potjeslatijn](https://nl.wikipedia.org/wiki/Potjeslatijn). Dit probleem is gebaseerd op [Google Pig Latin](https://www.google.com/?hl=xx-piglatin)[^easter-egg]:\n",
    "\n",
    "![Google Pig Latin](images/9/google_pig_latin.png)\n",
    "\n",
    "Zorg ervoor dat je de functies de juiste namen geeft en zorgvuldig test. Neem in elke functie een docstring op, die moet aangeven wat de functie berekent (teruggeeft) en wat de argumenten zijn en wat ze betekenen."
   ]
  },
  {
   "cell_type": "markdown",
   "metadata": {},
   "source": [
    "#### Opwarmen\n",
    "\n",
    "Schrijf de functie `piglet_latin(s)` die een string `s` als argument accepteert. `s` is een enkel woord dat bestaat uit kleine letters.\n",
    "`piglet_latin` moet dan de vertaling van `s` in potjes-Latijn teruggeven volgens de volgende *drie* regels:\n",
    "\n",
    "-   Als het argument helemaal geen letters heeft (de lege string) moet de functie een lege string teruggeven\n",
    "\n",
    "-   Als het argument begint met een klinker wordt in Pig Latin gewoon de string `'hee'` toegevoegd aan het eind. De `'y'` telt in ons geval als *medeklinker* en niet als klinker.\n",
    "\n",
    "    **Voorbeeld:** `piglet_latin('aap')` geeft `'aaphee'` terug\n",
    "\n",
    "-   Als het argument begint met een medeklinker, is het resultaat van potjes-Latijn identiek aan het argument, behalve dat de oorspronkelijke medeklinker van het argument aan het eind van het woord staat in plaats van aan het begin en het wordt gevolgd door de string `'ee'`.\n",
    "\n",
    "    **Voorbeeld:** `piglet_latin('noot')` geeft `'ootnee'` terug\n",
    "\n",
    "Vergeet niet om tests te schrijven met `assert`! Dit is nog niet de complete versie van potjes-Latijn, omdat woorden die beginnen met meerdere medeklinkers nog niet goed verwerkt worden, Zo geeft `piglet_latin('straat')` bijvoorbeeld `'traatsee'` terug."
   ]
  },
  {
   "cell_type": "markdown",
   "metadata": {},
   "source": [
    "#### De echte uitdaging\n",
    "\n",
    "Schrijf een functie `pig_latin(s)` die de bovenstaande regels volgt en ook meer dan één eerste medeklinker correct behandelt in de vertaling naar potjes-Latijn. Dat wil zeggen dat `pig_latin` alle eerste medeklinkers naar het einde van het woord verplaatst alvorens `'ee'` toe te voegen. (Het kan handig zijn om hier een hulpfunctie voor te gebruiken, zie de hint hieronder).\n",
    "\n",
    "Ook moet `pig_latin` een eerste `'y'` als medeklinker **of** als klinker behandelen, afhankelijk van de vraag of de `y` gevolgd wordt door een klinker, respectievelijk een medeklinker. Bijvoorbeeld, `'yoghurt'` heeft een initiële `y` die als medeklinker fungeert. Het woord `'ypsilon'` heeft echter een `y` in het begin die als klinker telt. Hier zijn enkele aanvullende voorbeelden:\n",
    "\n",
    "```ipython\n",
    "In [1]: pig_latin('straat')\n",
    "Out[1]: 'aatstree'\n",
    "\n",
    "In [2]: pig_latin('ypsilon')\n",
    "Out[2]: 'ypsilonhee'\n",
    "\n",
    "In [3]: pig_latin('yoghurt')\n",
    "Out[3]: 'oghurtyee'\n",
    "```\n",
    "\n",
    "**Tests?** Die mag je zelf schrijven!"
   ]
  },
  {
   "cell_type": "markdown",
   "metadata": {},
   "source": [
    ":::{admonition} Hoe recursie te gebruiken\n",
    ":class: tip\n",
    "\n",
    "Eén manier om recursie te gebruiken bij het uitwerken van deze functie is om een hulpfunctie\n",
    "\n",
    "```python\n",
    "def initial_consonants(s):\n",
    "    ...\n",
    "```\n",
    "\n",
    "te schrijven die een string teruggeeft met alle medeklinkers aan het begin van de string `s`. Als `s` dus start met een klinker moet de lege string `''` worden teruggegeven.\n",
    ":::"
   ]
  },
  {
   "cell_type": "markdown",
   "metadata": {},
   "source": [
    "Als je verder over dit probleem gaat nadenken zul je merken dat niet alle mogelijke gevallen worden afgehandeld (de zogenaamde *edge cases*, of randgevallen). Je mag zelf bepalen hoe je deze situaties uitwerkt, ze zullen in ieder geval niet door ons worden getest ...\n",
    "\n",
    "Eelvee uccessee!\n",
    "\n",
    "[^easter-egg]: Google Pig Latin is een *easter egg* en zo zijn er meer van deze verborgen grappen en functies op Google te vinden. Typ bijvoorbeeld \"recursie\" en zie met welke suggestie Google komt ... of typ \"What is the Answer to Life, the Universe and Everything\" en ontdek waarom wij het getal 42 vaak in voorbeelden gebruiken!"
   ]
  }
 ],
 "metadata": {
  "language_info": {
   "name": "python"
  }
 },
 "nbformat": 4,
 "nbformat_minor": 2
}
