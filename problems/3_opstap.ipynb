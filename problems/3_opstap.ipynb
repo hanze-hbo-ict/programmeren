{
 "cells": [
  {
   "cell_type": "markdown",
   "metadata": {
    "editable": true,
    "slideshow": {
     "slide_type": ""
    },
    "tags": []
   },
   "source": [
    "# Opstap"
   ]
  },
  {
   "cell_type": "markdown",
   "metadata": {
    "editable": true,
    "slideshow": {
     "slide_type": ""
    },
    "tags": []
   },
   "source": [
    "## Syntax van functies"
   ]
  },
  {
   "cell_type": "markdown",
   "metadata": {
    "editable": true,
    "slideshow": {
     "slide_type": ""
    },
    "tags": []
   },
   "source": [
    "Leerdoel: het lezen van functies"
   ]
  },
  {
   "cell_type": "markdown",
   "metadata": {},
   "source": [
    "### Opdracht 1"
   ]
  },
  {
   "cell_type": "markdown",
   "metadata": {
    "editable": true,
    "slideshow": {
     "slide_type": ""
    },
    "tags": []
   },
   "source": [
    "```python\n",
    "def main():\n",
    "    \"\"\"\n",
    "    Main functie. Roept de andere functies op om hun werk te doen.\n",
    "    \"\"\"\n",
    "    x = function(4) + function(6)\n",
    "    print(x)\n",
    "\n",
    "\n",
    "def function(x):\n",
    "    l = list(range(x))\n",
    "    return sum(l)\n",
    "\n",
    "main()\n",
    "```\n"
   ]
  },
  {
   "cell_type": "markdown",
   "metadata": {
    "editable": true,
    "slideshow": {
     "slide_type": ""
    },
    "tags": []
   },
   "source": [
    "a. Wat doet de functie `function`?  \n",
    "b. Wat is de ouput van dit programma?  \n",
    "c. Gebruik [Python Tutor](http://www.pythontutor.com/visualize.html) of dit notebook om je antwoord op a en b te controleren."
   ]
  },
  {
   "cell_type": "code",
   "execution_count": null,
   "metadata": {
    "editable": true,
    "slideshow": {
     "slide_type": ""
    },
    "tags": [
     "skip-execution"
    ]
   },
   "outputs": [],
   "source": [
    "# controleer jouw antwoord"
   ]
  },
  {
   "cell_type": "markdown",
   "metadata": {},
   "source": [
    "### Opdracht 2"
   ]
  },
  {
   "cell_type": "markdown",
   "metadata": {},
   "source": [
    "```python\n",
    "def main():\n",
    "    \"\"\"\n",
    "    Main functie. Roept de andere functies op om hun werk te doen.\n",
    "    \"\"\"\n",
    "    x = function(\"lol\")\n",
    "    y = function(\"xo\")\n",
    "    print(x + y)\n",
    "\n",
    "def function(x):\n",
    "    s = x[::-1] + x\n",
    "    return s\n",
    "\n",
    "main()\n",
    "```"
   ]
  },
  {
   "cell_type": "markdown",
   "metadata": {
    "editable": true,
    "slideshow": {
     "slide_type": ""
    },
    "tags": []
   },
   "source": [
    "a. Wat doet de functie `function`?  \n",
    "b. Wat is de ouput van dit programma?  \n",
    "c. Gebruik [Python Tutor](http://www.pythontutor.com/visualize.html) of dit notebook om je antwoord op a en b te controleren."
   ]
  },
  {
   "cell_type": "code",
   "execution_count": null,
   "metadata": {
    "editable": true,
    "slideshow": {
     "slide_type": ""
    },
    "tags": [
     "skip-execution"
    ]
   },
   "outputs": [],
   "source": [
    "# controleer jouw antwoord"
   ]
  },
  {
   "cell_type": "markdown",
   "metadata": {},
   "source": [
    "### Opdracht 3"
   ]
  },
  {
   "cell_type": "markdown",
   "metadata": {},
   "source": [
    "```python\n",
    "def main():\n",
    "    \"\"\"\n",
    "    Main functie. Roept de andere functies op om hun werk te doen.\n",
    "    \"\"\"\n",
    "    l = function1(5)\n",
    "    x = function2(l)\n",
    "    print(x)\n",
    "\n",
    "def function1(x):\n",
    "    l = list(range(x))\n",
    "    return l[::-1]\n",
    "\n",
    "def function2(l):\n",
    "    x = sum(l)\n",
    "    y = len(l)\n",
    "    return x / y\n",
    "\n",
    "main()\n",
    "```"
   ]
  },
  {
   "cell_type": "markdown",
   "metadata": {
    "editable": true,
    "slideshow": {
     "slide_type": ""
    },
    "tags": []
   },
   "source": [
    "a. Wat doet de functie `function1`?  \n",
    "b. Wat doet de functie `function2`?  \n",
    "c. Wat is de output van dit programma?  \n",
    "d. Gebruik [Python Tutor](http://www.pythontutor.com/visualize.html) of dit notebook om je antwoord op a en b te controleren."
   ]
  },
  {
   "cell_type": "code",
   "execution_count": null,
   "metadata": {
    "editable": true,
    "slideshow": {
     "slide_type": ""
    },
    "tags": [
     "skip-execution"
    ]
   },
   "outputs": [],
   "source": [
    "# controleer jouw antwoord"
   ]
  }
 ],
 "metadata": {
  "kernelspec": {
   "display_name": "Python 3 (ipykernel)",
   "language": "python",
   "name": "python3"
  },
  "language_info": {
   "codemirror_mode": {
    "name": "ipython",
    "version": 3
   },
   "file_extension": ".py",
   "mimetype": "text/x-python",
   "name": "python",
   "nbconvert_exporter": "python",
   "pygments_lexer": "ipython3",
   "version": "3.12.3"
  }
 },
 "nbformat": 4,
 "nbformat_minor": 4
}
