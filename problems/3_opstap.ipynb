{
 "cells": [
  {
   "cell_type": "markdown",
   "metadata": {},
   "source": [
    "# Opstap"
   ]
  },
  {
   "cell_type": "markdown",
   "metadata": {},
   "source": [
    "## Syntax van functies"
   ]
  },
  {
   "cell_type": "markdown",
   "metadata": {},
   "source": [
    "Leerdoel: Lezen van functies"
   ]
  },
  {
   "cell_type": "markdown",
   "metadata": {},
   "source": [
    "### Opdracht 1"
   ]
  },
  {
   "cell_type": "markdown",
   "metadata": {},
   "source": [
    "```python\n",
    "def main():\n",
    "    \"\"\"\n",
    "    Main functie. Roept de andere functies op om hun werk te doen.\n",
    "    \"\"\"\n",
    "    x = function(4) + function(6)\n",
    "    print(x)\n",
    "\n",
    "\n",
    "def function(x):\n",
    "    l = list(range(x))\n",
    "    return sum(l)\n",
    "\n",
    "main()\n",
    "```\n"
   ]
  },
  {
   "cell_type": "markdown",
   "metadata": {},
   "source": [
    "a. Wat doet de functie `function`?  \n",
    "b. Wat is de ouput van dit programma?  \n",
    "c. Gebruik de [Python Tutor](http://www.pythontutor.com/visualize.html)  om je antwoord van a en b te controleren.  "
   ]
  },
  {
   "cell_type": "markdown",
   "metadata": {},
   "source": [
    "### Opdracht 2"
   ]
  },
  {
   "cell_type": "markdown",
   "metadata": {},
   "source": [
    "```python\n",
    "def main():\n",
    "    \"\"\"\n",
    "    Main functie. Roept de andere functies op om hun werk te doen.\n",
    "    \"\"\"\n",
    "    x = function(\"lol\")\n",
    "    y = function(\"xo\")\n",
    "    print(x + y)\n",
    "\n",
    "def function(x):\n",
    "    s = x[::-1] + x\n",
    "    return s\n",
    "\n",
    "main()\n",
    "```"
   ]
  },
  {
   "cell_type": "markdown",
   "metadata": {},
   "source": [
    "a. Wat doet de functie `function`?  \n",
    "b. Wat is de ouput van dit programma?  \n",
    "c. Gebruik de [Python Tutor](http://www.pythontutor.com/visualize.html)  om je antwoord van a en b te controleren.  "
   ]
  },
  {
   "cell_type": "markdown",
   "metadata": {},
   "source": [
    "### Opdracht 3"
   ]
  },
  {
   "cell_type": "markdown",
   "metadata": {},
   "source": [
    "```python\n",
    "def main():\n",
    "    \"\"\"\n",
    "    Main functie. Roept de andere functies op om hun werk te doen.\n",
    "    \"\"\"\n",
    "    l = function1(5)\n",
    "    x = function2(l)\n",
    "    print(x)\n",
    "\n",
    "def function1(x):\n",
    "    l = list(range(x))\n",
    "    return l[::-1]\n",
    "\n",
    "def function2(l):\n",
    "    x = sum(l)\n",
    "    y = len(l)\n",
    "    return x / y\n",
    "\n",
    "main()\n",
    "```"
   ]
  },
  {
   "cell_type": "markdown",
   "metadata": {},
   "source": [
    "a. Wat doet de functie `function1`?  \n",
    "b. Wat doet de functie `function2`?  \n",
    "c. Wat is de output van dit programma?  \n",
    "d. Gebruik de [Python Tutor](http://www.pythontutor.com/visualize.html)  om je antwoord van a, b en c te controleren.  "
   ]
  }
 ],
 "metadata": {
  "language_info": {
   "name": "python"
  }
 },
 "nbformat": 4,
 "nbformat_minor": 2
}
