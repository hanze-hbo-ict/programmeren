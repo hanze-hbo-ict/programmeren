{
 "cells": [
  {
   "cell_type": "markdown",
   "metadata": {},
   "source": [
    "# Extra"
   ]
  },
  {
   "cell_type": "markdown",
   "metadata": {},
   "source": [
    "## Recursie"
   ]
  },
  {
   "cell_type": "markdown",
   "metadata": {},
   "source": [
    "Leerdoel: Eerste stappen zetten in het schrijven van recursieve functies"
   ]
  },
  {
   "cell_type": "markdown",
   "metadata": {},
   "source": [
    "### Opdracht 1"
   ]
  },
  {
   "cell_type": "markdown",
   "metadata": {},
   "source": [
    "Schrijf de functie `trap(x)` dat een getal accepteert en een omgekeerde # trap tekent. Maak gebruik van recursie\n"
   ]
  },
  {
   "cell_type": "markdown",
   "metadata": {},
   "source": [
    "```ipython\n",
    "In : trap(3)\n",
    "Out:\n",
    "###\n",
    "##\n",
    "#\n",
    "\n",
    "In: trap(5)\n",
    "Out:\n",
    "#####\n",
    "####\n",
    "###\n",
    "##\n",
    "#\n",
    "```\n",
    "\n",
    "Hint: `3 * '#' = '###'`"
   ]
  },
  {
   "cell_type": "markdown",
   "metadata": {},
   "source": [
    "### Opdracht 2"
   ]
  },
  {
   "cell_type": "markdown",
   "metadata": {},
   "source": [
    "a. Schrijf de functie `lines(x, space)` dat twee #-lijnen tekent van x regels hoog en space geeft aan hoeveel spaties tussen de lijnen liggen."
   ]
  },
  {
   "cell_type": "markdown",
   "metadata": {},
   "source": [
    "```ipython\n",
    "In : lines(3, 3)\n",
    "Out:\n",
    "#   #\n",
    "#   #\n",
    "#   #\n",
    "\n",
    "In: lines(2, 5)\n",
    "Out:\n",
    "#     #\n",
    "#     #\n",
    "```"
   ]
  },
  {
   "cell_type": "markdown",
   "metadata": {},
   "source": [
    "b. Schrijf een functie `print_square(x)` dat een getal accepteert en een # vierkant van grootte x print. Maak gebruik van de functie `lines`."
   ]
  },
  {
   "cell_type": "markdown",
   "metadata": {},
   "source": [
    "```ipython\n",
    "In : print_square(3)\n",
    "Out:\n",
    "###\n",
    "# #\n",
    "###\n",
    "\n",
    "In: print_square(5)\n",
    "Out:\n",
    "#####\n",
    "#   #\n",
    "#   #\n",
    "#   #\n",
    "#####\n",
    "```\n",
    "\n",
    "Probeer, Plan, Programmeer!"
   ]
  }
 ],
 "metadata": {
  "language_info": {
   "name": "python"
  }
 },
 "nbformat": 4,
 "nbformat_minor": 2
}
