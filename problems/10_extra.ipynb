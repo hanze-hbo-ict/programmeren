{
 "cells": [
  {
   "cell_type": "markdown",
   "metadata": {},
   "source": [
    "# Extra"
   ]
  },
  {
   "cell_type": "markdown",
   "metadata": {},
   "source": [
    "## Pijlenpad"
   ]
  },
  {
   "cell_type": "markdown",
   "metadata": {},
   "source": [
    "Pijlenpad is een puzzel van Janko. Deze maakt gebruik van een vierkant raster van n bij n vakjes. In\n",
    "elk vakje behalve dat rechtsonder staat een pijl; in sommige vakjes staat al een getal. Linksboven\n",
    "staat het getal 1, rechtsonder staat het getal $n^2$.\n",
    "\n",
    "Alle getallen van 1 tot en met $n^2$ moeten elk eenmaal worden ingevuld. Als in een cel een bepaald\n",
    "getal staat kun je de pijl volgen om het opvolgende getal te vinden.\n"
   ]
  },
  {
   "cell_type": "markdown",
   "metadata": {},
   "source": [
    "Een puzzle wordt aangegeven met behulp van een lol. Elke lijst in de lol bestaat uit lijstjes dat de cellen van de puzzle moeten voorstellen. Elke cel heeft informatie over de pijl en een eventueel getal dat in de cel staat. Als een getal niet bekend is, dan staat er 0."
   ]
  },
  {
   "cell_type": "markdown",
   "metadata": {},
   "source": [
    "**voorbeeld 1**\n",
    "```python\n",
    "puzzle = [\n",
    "    [[1,\"ZO\"],[0,\"ZW\"],[0,\"Z\"]],\n",
    "    [[0,\"Z\"],[0,\"N\"],[0,\"N\"]],\n",
    "    [[1,\"O\"],[0,\"NO\"],[9,\"\"]]\n",
    "]\n",
    "```\n",
    "Levert de puzzle\n",
    "\n",
    "![subset](images/10/pijlenpuzzle1.png)"
   ]
  },
  {
   "cell_type": "markdown",
   "metadata": {},
   "source": [
    "De oplossing voor deze puzzle is:\n",
    "\n",
    "```python\n",
    "puzzle = [\n",
    "    [[1,\"ZO\"],[3,\"ZW\"],[8,\"Z\"]],\n",
    "    [[4,\"Z\"],[2,\"N\"],[7,\"N\"]],\n",
    "    [[5,\"O\"],[6,\"NO\"],[9,\"\"]]\n",
    "]\n",
    "```\n",
    "\n",
    "\n",
    "![subset](images/10/pijlenpuzzle1_sol.png)"
   ]
  },
  {
   "cell_type": "markdown",
   "metadata": {},
   "source": [
    "**Voorbeeld 2**\n",
    "```python\n",
    "puzzle = [\n",
    "    [[1,\"Z\"],[0,\"O\"],[0,\"ZO\"],[0,\"W\"],[0,\"W\"]],\n",
    "    [[0,\"NO\"],[0,\"ZO\"],[0,\"O\"],[0,\"Z\"],[0,\"ZW\"]],\n",
    "    [[0,\"ZO\"],[0,\"ZW\"],[0,\"N\"],[0,\"ZW\"],[0,\"ZW\"]],\n",
    "    [[17,\"N\"],[0,\"NO\"],[0,\"NW\"],[0,\"NW\"],[0,\"N\"]],\n",
    "    [[O,\"O\"],[0,\"W\"],[0,\"W\"],[0,\"NO\"],[25,\"\"]]\n",
    "]\n",
    "```\n",
    "Levert de puzzle\n",
    "\n",
    "![pijlenpuzzel voorbeeld](images/10/pijlenpuzzle2.png)"
   ]
  },
  {
   "cell_type": "markdown",
   "metadata": {},
   "source": [
    "De oplossing voor deze puzzle is:\n",
    "\n",
    "```python\n",
    "puzzle = [\n",
    "    [[1,\"Z\"],[3,\"O\"],[6,\"ZO\"],[5,\"W\"],[4,\"W\"]],\n",
    "    [[2,\"NO\"],[24,\"ZO\"],[21,\"O\"],[22,\"Z\"],[13,\"ZW\"]],\n",
    "    [[18,\"ZO\"],[16,\"ZW\"],[20,\"N\"],[14,\"ZW\"],[7,\"ZW\"]],\n",
    "    [[17,\"N\"],[19,\"NO\"],[15,\"NW\"],[23,\"NW\"],[12,\"N\"]],\n",
    "    [[10,\"O\"],[9,\"W\"],[8,\"W\"],[11,\"NO\"],[25,\"\"]]\n",
    "]\n",
    "```\n",
    "\n",
    "![subset](images/10/pijlenpuzzle2_sol.png)"
   ]
  },
  {
   "cell_type": "markdown",
   "metadata": {},
   "source": [
    "Schrijf een functie `pijlenpuzzle(board)` dat bovenstaande probleem oplost. "
   ]
  },
  {
   "cell_type": "markdown",
   "metadata": {},
   "source": [
    "(Informatica olympiade 2021)"
   ]
  }
 ],
 "metadata": {
  "language_info": {
   "name": "python"
  }
 },
 "nbformat": 4,
 "nbformat_minor": 2
}
