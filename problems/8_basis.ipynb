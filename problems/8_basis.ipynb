{
 "cells": [
  {
   "cell_type": "markdown",
   "metadata": {},
   "source": [
    "# Basis\n",
    "\n",
    "Gebruik list comprehension om de volgende problemen op te lossen."
   ]
  },
  {
   "cell_type": "markdown",
   "metadata": {},
   "source": [
    "## Opgaven"
   ]
  },
  {
   "cell_type": "markdown",
   "metadata": {},
   "source": [
    "### `mult_of_five`\n",
    "\n",
    "De functie `mult_of_five` accepteert een integer `n` en heeft als resultaat een list met de veelvouden 1 tot en met `n` van 5. Gebruik hier de ingebouwde functie `range`.\n",
    "\n",
    "De functie `range` begint met 0, je zult voor 1 als volgt moeten corrigeren:\n",
    "\n",
    "```python\n",
    "range(1, n + 1)\n",
    "```\n",
    "\n",
    "Zie verder ook de [documentatie](https://docs.python.org/3/library/stdtypes.html#range) voor `range`."
   ]
  },
  {
   "cell_type": "code",
   "execution_count": null,
   "metadata": {},
   "outputs": [],
   "source": [
    "def mult_of_five(n):\n",
    "    \"\"\"Return a list containing the first n multiples of 5\n",
    "    \"\"\"\n",
    "    return [...]\n"
   ]
  },
  {
   "cell_type": "markdown",
   "metadata": {},
   "source": [
    "Gebruik de volgende assertions om jow oplossingen te testen:\n",
    "\n",
    "```python\n",
    "assert mult_of_five(0) == []\n",
    "assert mult_of_five(1) == [5]\n",
    "assert mult_of_five(2) == [5, 10]\n",
    "assert mult_of_five(3) == [5, 10, 15] \n",
    "```"
   ]
  },
  {
   "cell_type": "markdown",
   "metadata": {},
   "source": [
    "### `divisible_by`\n",
    "\n",
    "De functie `divisible_by` accepteert een integer `n` en een list `L` en geeft als resultaat een list terug met alle waarden in `L` deelbaar door `n`."
   ]
  },
  {
   "cell_type": "code",
   "execution_count": null,
   "metadata": {},
   "outputs": [],
   "source": [
    "def divisible_by(n, L):\n",
    "    \"\"\"Return a list with values in L divisible by n\n",
    "    \"\"\"\n",
    "    return [...]\n"
   ]
  },
  {
   "cell_type": "markdown",
   "metadata": {},
   "source": [
    "Gebruik de volgende assertions om jouw oplossing te testen:\n",
    "\n",
    "```python\n",
    "assert divisible_by(5, [15, 0, 23, 4]) == [15, 0]\n",
    "assert divisible_by(3, [2, 4, 8, 10]) == []\n",
    "assert divisible_by(2, []) == []\n",
    "```"
   ]
  },
  {
   "cell_type": "markdown",
   "metadata": {},
   "source": [
    "### `starts_with`\n",
    "\n",
    "De functie `starts_with` accepteer een string `s` en een list met string `L` en heeft als resultaat een list met alle waarden in `L` die beginnen met `s`.\n",
    "\n",
    "- je mag de ingebouwde string methode `startswith` **niet** gebruiken\n",
    "- je mag **geen** recursie gebruiken\n"
   ]
  },
  {
   "cell_type": "code",
   "execution_count": null,
   "metadata": {},
   "outputs": [],
   "source": [
    "def starts_with(s, L):\n",
    "    \"\"\"Return all strings in L which start with s\n",
    "    \"\"\"\n",
    "    return [...]\n"
   ]
  },
  {
   "cell_type": "markdown",
   "metadata": {},
   "source": [
    "Gebruik de volgende assertions om jouw oplossing te testen:\n",
    "\n",
    "```python\n",
    "assert starts_with(\"a\", []) == []\n",
    "assert starts_with(\"a\", [\"bbc\", \"brits\", \"omroep\"]) == []\n",
    "assert starts_with(\"a\", [\"abc\", \"cde\", \"aha\", \"abba\"]) == [\"abc\", \"aha\", \"abba\"]\n",
    "assert starts_with(\"ab\", [\"abc\", \"cde\", \"aha\", \"abba\"]) == [\"abc\", \"abba\"]\n",
    "assert starts_with(\"abc\", [\"abc\", \"cde\", \"aha\", \"abba\"]) == [\"abc\"]\n",
    "assert starts_with(\"abcd\", [\"abc\", \"cde\", \"aha\", \"abba\"]) == []\n",
    "```"
   ]
  },
  {
   "cell_type": "markdown",
   "metadata": {},
   "source": [
    "### `double_letters`\n",
    "\n",
    "De functie `double_letters` accepteert een list met strings `L` en heeft als resultaat een list met alle waarden verdubbeld."
   ]
  },
  {
   "cell_type": "code",
   "execution_count": null,
   "metadata": {},
   "outputs": [],
   "source": [
    "def double_letters(L):\n",
    "    \"\"\"Double all letters in L\n",
    "    \"\"\"\n",
    "    return [...]\n"
   ]
  },
  {
   "cell_type": "markdown",
   "metadata": {},
   "source": [
    "Gebruik de volgende assertions om jouw oplossing te testen:\n",
    "\n",
    "```python\n",
    "assert double_letters([\"a\"]) == [\"aa\"]\n",
    "assert double_letters([\"a\", \"1\", \"23\"]) == [\"aa\", \"11\", \"2323\"]\n",
    "```"
   ]
  },
  {
   "cell_type": "markdown",
   "metadata": {},
   "source": [
    "### `num_as`\n",
    "\n",
    "De functie `num_as` accepteert een list met met strings `L` en heeft als resultaat een integer het aantal keer dat het karakter \"a\" zich in `L` bevindt."
   ]
  },
  {
   "cell_type": "code",
   "execution_count": null,
   "metadata": {},
   "outputs": [],
   "source": [
    "def num_as(L):\n",
    "    \"\"\"Count the number of a's in L\n",
    "    \"\"\"\n",
    "    return sum([...])"
   ]
  },
  {
   "cell_type": "markdown",
   "metadata": {},
   "source": [
    "Gebruik de volgende assertions om jouw oplossing te testen:\n",
    "\n",
    "```python\n",
    "assert num_as([\"a\", \"b\", \"c\", \"a\", \"d\"]) == 2\n",
    "assert num_as([\"y\", \"b\", \"c\", \"x\", \"d\"]) == 0\n",
    "```"
   ]
  },
  {
   "cell_type": "markdown",
   "metadata": {},
   "source": [
    "### `vwl`\n",
    "\n",
    "De functie `vwl` accepteert een string `s` en heeft als resultaat het aantal klinkers in `s`. Klinkers zijn \"a\", \"e\", \"i\", \"o\" en \"u\".\n",
    "\n",
    "- gebruik hier de ingebouwde functie `sum` in combinatie met list comprehension\n"
   ]
  },
  {
   "cell_type": "code",
   "execution_count": null,
   "metadata": {},
   "outputs": [],
   "source": [
    "def vwl(s):\n",
    "    ''' Return the number of vowels in a string\n",
    "    '''\n",
    "    ..."
   ]
  },
  {
   "cell_type": "markdown",
   "metadata": {},
   "source": [
    "Gebruik de volgende assertions om jouw oplossing te testen:\n",
    "\n",
    "```python\n",
    "assert vwl(\"appel\") == 2\n",
    "assert vwl(\"bbc\") == 0\n",
    "assert vwl(\"oma\") == 2\n",
    "```"
   ]
  },
  {
   "cell_type": "markdown",
   "metadata": {},
   "source": [
    "### `add_tax`\n",
    "\n",
    "De functie `add_tax` accepteert een getal (float of integer) `t` groter dan 0 en een lijst met getallen `L`. `t` staat voor een percentage, `L` bevat prijzen van artikelen en het resultaat is een lijst met prijzen verhoogd met percentage `t`."
   ]
  },
  {
   "cell_type": "code",
   "execution_count": null,
   "metadata": {},
   "outputs": [],
   "source": [
    "def add_tax(t, L):\n",
    "    \"\"\"Increment each item in L with t percent tax\n",
    "    \"\"\"\n",
    "    return [...]\n"
   ]
  },
  {
   "cell_type": "markdown",
   "metadata": {},
   "source": [
    "Gebruik de volgende assertions om jouw oplossing te testen:\n",
    "\n",
    "```python\n",
    "assert add_tax(7, [10, 100, 30, 40]) == [10.7, 107.0, 32.1, 42.8]\n",
    "assert add_tax(7, [0, 16, 8]) == [0.0, 17.12, 8.56]\n",
    "```"
   ]
  },
  {
   "cell_type": "markdown",
   "metadata": {},
   "source": [
    "### `above_below_freeze`\n",
    "\n",
    "De functie `above_below_freeze` accepteert een lijst met getallen (integer of float) `L` die staan voor temperaturen en heeft als resultaat een list waar voor elke waarde \"onder\", \"boven\" of \"gelijk\" aan het vriespunt (0 graden) is ingevuld.\n",
    "\n",
    "- je mag hier een hulpfunctie schrijven, indien nodig\n"
   ]
  },
  {
   "cell_type": "code",
   "execution_count": null,
   "metadata": {},
   "outputs": [],
   "source": [
    "def above_below_freeze(L):\n",
    "    \"\"\"Return whether each item in L is below, above or \n",
    "    equals freezing temperature as a string representation\n",
    "    \"\"\"\n",
    "    ...\n",
    "    "
   ]
  },
  {
   "cell_type": "markdown",
   "metadata": {},
   "source": [
    "Gebruik de volgende assertions om jouw oplossing te testen:\n",
    "\n",
    "```python\n",
    "assert above_below_freeze([-1, 0, 10]) == [\"onder\", \"gelijk\", \"boven\"]\n",
    "assert above_below_freeze([21, -21, 0]) == [\"boven\", \"onder\", \"gelijk\"]\n",
    "```"
   ]
  },
  {
   "cell_type": "markdown",
   "metadata": {},
   "source": [
    "### `zipper`\n",
    "\n",
    "De functie `zipper` accepteert twee lists `L1` en `L2` van gelijke lengte. Het resultaat is een *list of lists* waar elk element de paarsgewijze combinatie (\"ritsen\") van waarden in `L1` en `L2` is."
   ]
  },
  {
   "cell_type": "code",
   "execution_count": null,
   "metadata": {},
   "outputs": [],
   "source": [
    "def zipper(L1, L2):\n",
    "    \"\"\"Pairwise combine lists L1 and L2\n",
    "    \"\"\"\n",
    "    return [...]\n"
   ]
  },
  {
   "cell_type": "markdown",
   "metadata": {},
   "source": [
    "Gebruik de volgende assertions om jouw oplossing te testen:\n",
    "\n",
    "```python\n",
    "assert zipper([1, 3, 5], [2, 4, 6]) == [[1, 2], [3, 4], [5, 6]]\n",
    "assert zipper([10, 9, 12], [\"jan\", \"feb\", \"mar\"]) == [[10, \"jan\"], [9, \"feb\"], [12, \"mar\"]]\n",
    "```"
   ]
  },
  {
   "cell_type": "markdown",
   "metadata": {},
   "source": [
    "### `only_evens`\n",
    "\n",
    "De functie `only_evens` accepteert een list met integers `L` en geeft als resultaat een list met de even getallen in `L`.\n",
    "\n",
    "- gebruik de hulpfunctie `is_even` in de list comprehension.\n"
   ]
  },
  {
   "cell_type": "code",
   "execution_count": null,
   "metadata": {},
   "outputs": [],
   "source": [
    "def is_even(x):\n",
    "    \"\"\"Return True if x is even, False otherwise\n",
    "    \"\"\"\n",
    "    return x % 2 == 0\n",
    "\n",
    "def only_evens(L):\n",
    "    \"\"\"Returns a list containing the even numbers in L\n",
    "    \"\"\"\n",
    "    return [...]\n"
   ]
  },
  {
   "cell_type": "markdown",
   "metadata": {},
   "source": [
    "Gebruik de volgende assertions om jouw oplossing te testen:\n",
    "\n",
    "```python\n",
    "assert only_evens([1, 1, 1]) == []\n",
    "assert only_evens([2, 2, 2]) == [2, 2, 2]\n",
    "assert only_evens([0, 1, 2, 3]) == [0, 2]\n",
    "```"
   ]
  }
 ],
 "metadata": {
  "language_info": {
   "name": "python"
  }
 },
 "nbformat": 4,
 "nbformat_minor": 2
}
