{
 "cells": [
  {
   "cell_type": "markdown",
   "metadata": {},
   "source": [
    "# Basis"
   ]
  },
  {
   "cell_type": "markdown",
   "metadata": {},
   "source": [
    "## De Rij van Conway of Lees-en-Huiver"
   ]
  },
  {
   "cell_type": "markdown",
   "metadata": {},
   "source": [
    "In deze opgave ga je de wiskundig interessante [Rij van Conway](https://nl.wikipedia.org/wiki/Rij_van_Conway) (ja, dezelfde Conway!), ook wel bekend onder de Engelse naam Look-and-Say, implementeren."
   ]
  },
  {
   "cell_type": "markdown",
   "metadata": {},
   "source": [
    "Dit is een vreemde wiskundige rij die als volgt begint:\n",
    "\n",
    "```\n",
    "1, 11, 21, 1211, 111221, 312211, 13112221, ...\n",
    "```"
   ]
  },
  {
   "cell_type": "markdown",
   "metadata": {},
   "source": [
    "Wat is het patroon? Het begint met 1. Als we die 1 zien, zeggen we \"Ik zie één 1\". Het volgende nummer in de rij is dus \"één éen\" of 11. Als we 11 zien, zeggen we \"Ik zie twee enen\". He volgende nummer in de rij is dus 21 (twee één). Nu kijken we naar dat nummer en zeggen we \"Ik zie één twee en één één\", dus het volgende nummer in de rij is 1211 (één twee één één). En zo verder!"
   ]
  },
  {
   "cell_type": "markdown",
   "metadata": {},
   "source": [
    "De taak in deze opgave is om een programma te maken dat het volgende nummer in de rij afdrukt, *beginnend bij **elke** beginwaarde!*"
   ]
  },
  {
   "cell_type": "markdown",
   "metadata": {},
   "source": [
    "Deze opgave is anders dan veel andere opgaven omdat *je het ontwerp helemaal zelf mag bepalen*! Je kan overwegen:\n",
    "\n",
    "* Een hulpfunctie te schrijven (of meerdere!)\n",
    "* Welke soorten lussen je nodig hebt (`for` of `while`)"
   ]
  },
  {
   "cell_type": "markdown",
   "metadata": {},
   "source": [
    "Je gaat de functie `next` daarna gebruiken om zoveel getallen te genereren als je wilt...\n"
   ]
  },
  {
   "cell_type": "markdown",
   "metadata": {},
   "source": [
    "## De functie `next"
   ]
  },
  {
   "cell_type": "markdown",
   "metadata": {},
   "source": [
    "De hoofdfunctie die je schrijven is dus `next(term)`. De details:"
   ]
  },
  {
   "cell_type": "markdown",
   "metadata": {},
   "source": [
    "* `term` moet een willekeurige integer zijn\n",
    "* de functie `next` moet het volgende \"gelezen\" getal teruggeven; dit moet een `int` zijn, gebaseerd op de ingevoerde `term`"
   ]
  },
  {
   "cell_type": "markdown",
   "metadata": {},
   "source": [
    "Nogmaals, het ontwerp mag je zelf bepalen. Hier zijn een paar voorbeelden die we zullen testen; er zullen er nog een paar meer zijn! Zorg dat je genoeg asserts opneemt in je code!"
   ]
  },
  {
   "cell_type": "markdown",
   "metadata": {},
   "source": [
    "```ipython\n",
    "In [1]: next(21)\n",
    "Out[1]: 1211\n",
    "\n",
    "In [2]: next(2222)   # merk op dat dit getal niet voorkomt in de echte rij\n",
    "Out[2]: 42\n",
    "\n",
    "In [3]: next(312211)\n",
    "Out[3]: 13112221\n",
    "```"
   ]
  },
  {
   "cell_type": "markdown",
   "metadata": {},
   "source": [
    ":::{admonition} Waarschuwing\n",
    ":class: danger\n",
    "\n",
    "Je functie `next` moet een `int` als uitvoer geven! (Anders kom je niet door onze controle!) Gebruik `int(s)` als je dat nodig hebt!!\n",
    ":::"
   ]
  },
  {
   "cell_type": "markdown",
   "metadata": {},
   "source": [
    ":::{admonition} Tips\n",
    ":class: tip\n",
    "\n",
    "* Je kan een integer `x` naar een string omzetten, bijvoorbeeld met `str(x)`\n",
    "* Je kan een string `s` naar een integer omzetten, bijvoorbeeld met `int(s)`\n",
    "* `next` moet een integer (`int`) teruggeven, maar onthoud dat je met deze twee functies van en naar strings kan converteren!\n",
    ":::"
   ]
  },
  {
   "cell_type": "markdown",
   "metadata": {},
   "source": [
    "## Lees-en-Huiver"
   ]
  },
  {
   "cell_type": "markdown",
   "metadata": {},
   "source": [
    "Schrijf nu een functie met de naam `read_it(n)` die de eerste `n` getallen in de Lees-en-Huiver-rij afdrukt: één per regel, te beginnen met een `1`. Deze functie `read_it` is ongebruikelijk omdat deze *geen* waarde hoeft terug te geven: ze wordt alleen gebruik om dingen af te drukken.\n"
   ]
  },
  {
   "cell_type": "markdown",
   "metadata": {},
   "source": [
    "```ipython\n",
    "In [1]: read_it(6)\n",
    "1\n",
    "11\n",
    "21\n",
    "1211\n",
    "111221\n",
    "312211\n",
    "```\n"
   ]
  }
 ],
 "metadata": {
  "language_info": {
   "name": "python"
  }
 },
 "nbformat": 4,
 "nbformat_minor": 2
}
