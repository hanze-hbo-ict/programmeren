{
 "cells": [
  {
   "cell_type": "markdown",
   "metadata": {
    "editable": true,
    "slideshow": {
     "slide_type": ""
    },
    "tags": []
   },
   "source": [
    "# Basis"
   ]
  },
  {
   "cell_type": "markdown",
   "metadata": {},
   "source": [
    "## Wisselende stelsels"
   ]
  },
  {
   "cell_type": "markdown",
   "metadata": {
    "editable": true,
    "slideshow": {
     "slide_type": ""
    },
    "tags": []
   },
   "source": [
    "De volgende problemen hebben te maken met de weergave van grondtallen en het omzetten of het berekenen ervan.\n",
    "\n",
    "Om te beginnen zal je worden gevraagd om van grondtal 10 naar andere grondtallen om te zetten en omgekeerd. Omdat bij grondtallen groter dan grondtal 10 nieuwe \"cijfers\" nodig zijn, beperken we ons tot grondtallen 2 tot en met 10."
   ]
  },
  {
   "cell_type": "markdown",
   "metadata": {},
   "source": [
    "### Functie 1: `num_to_base_b(n, b)`"
   ]
  },
  {
   "cell_type": "markdown",
   "metadata": {},
   "source": [
    "Schrijf een Python functie `num_to_base_b(n, b)`, die een (niet negatieve) integer `n` en een grondtal `b` (van 2 tot en met 10) accepteert en een string teruggeeft die het getal `n` in grondtal `b` voorstelt.\n",
    "\n",
    "Je hoeft niet te controleren of `b` tussen 2 en 10 ligt, we zullen ervoor zorgen dat dit de enige waarden zijn die we testen.\n",
    "\n",
    "Vergeet ook niet dat hier *integerdeling* (zonder cijfers achter de komma) nodig is. In Python wordt bij integerdeling altijd naar beneden afgerond en daar gebruik je `//` voor, bijvoorbeeld,\n",
    "\n",
    "```python\n",
    "18 // 7 == 2\n",
    "```"
   ]
  },
  {
   "cell_type": "markdown",
   "metadata": {},
   "source": [
    "Hier zie je een aantal voorbeelden:\n",
    "\n",
    "```ipython\n",
    "In [1]: num_to_base_b(3116, 9)\n",
    "Out[1]: '4242'\n",
    "\n",
    "In [2]: num_to_base_b(141474, 8)\n",
    "Out[2]: '424242'\n",
    "\n",
    "In [3]: num_to_base_b(42, 8)\n",
    "Out[3]: '52'\n",
    "\n",
    "In [4]: num_to_base_b(42, 5)\n",
    "Out[4]: '132'\n",
    "\n",
    "In [5]: num_to_base_b(42, 10)\n",
    "Out[5]: '42'\n",
    "\n",
    "In [6]: num_to_base_b(42, 2)\n",
    "Out[6]: '101010'\n",
    "\n",
    "In [7]: num_to_base_b(4, 2)\n",
    "Out[7]: '100'\n",
    "\n",
    "In [8]: num_to_base_b(4, 3)\n",
    "Out[8]: '11'\n",
    "\n",
    "In [9]: num_to_base_b(4, 4)\n",
    "Out[9]: '10'\n",
    "\n",
    "In [10]: num_to_base_b(0, 4)\n",
    "Out[10]: ''                   # merk op dat als n 0 is we een lege string willen!!\n",
    "\n",
    "In [11]: num_to_base_b(0, 2)\n",
    "Out[11]: ''                   # merk op dat als n 0 is we een lege string willen!!\n",
    "```"
   ]
  },
  {
   "cell_type": "markdown",
   "metadata": {
    "editable": true,
    "slideshow": {
     "slide_type": ""
    },
    "tags": []
   },
   "source": [
    "```{notice}\n",
    "Vergeet niet dat jouw functie een string en *niet* een getal moet teruggeven! Verder,\n",
    "\n",
    "<!-- TODO verwijzing naar num_to_bin in college -->\n",
    "\n",
    "-   De functie `num_to_binary` die je eerder hebt geschreven is een goed begin...\n",
    "-   Vraag jezelf af, wat moet er veranderen om waarden in grondtal `b` terug te geven in plaats van grondtal 2?\n",
    "```"
   ]
  },
  {
   "cell_type": "markdown",
   "metadata": {},
   "source": [
    "Hier zie je een aantal tests die je kan gebruiken:\n",
    "\n",
    "```python\n",
    "assert num_to_base_b(0, 4) == ''\n",
    "assert num_to_base_b(42, 5) == '132'\n",
    "```\n",
    "\n",
    "Je kan er natuurlijk meer bedenken!"
   ]
  },
  {
   "cell_type": "markdown",
   "metadata": {
    "editable": true,
    "slideshow": {
     "slide_type": ""
    },
    "tags": []
   },
   "source": [
    "```{admonition}\n",
    "Jouw code moet een lege string teruggeven wanneer de waarde van `n` 0 is (dit voorkomt voorloopnullen!)\n",
    "\n",
    "Gebruik de volgende twee Python functies voor het heen en weer schakelen tussen strings en getallen. Deze zijn het meest nuttig als je daar enkele tekens of getallen gebruikt:\n",
    "\n",
    "-   `str(x)` geeft het getal (de integer) `x` terug als string\n",
    "-   `int(x)` geeft de integerwaarde van de string `s` terug, Python zal een `ValueError` geven als `s` geen integer voorstelt\n",
    "```"
   ]
  },
  {
   "cell_type": "code",
   "execution_count": null,
   "metadata": {
    "editable": true,
    "slideshow": {
     "slide_type": ""
    },
    "tags": [
     "skip-execution"
    ]
   },
   "outputs": [],
   "source": [
    "# jouw oplossing"
   ]
  },
  {
   "cell_type": "markdown",
   "metadata": {
    "editable": true,
    "slideshow": {
     "slide_type": ""
    },
    "tags": []
   },
   "source": [
    "### Functie 2: `base_b_to_num(s, b)`"
   ]
  },
  {
   "cell_type": "markdown",
   "metadata": {
    "editable": true,
    "slideshow": {
     "slide_type": ""
    },
    "tags": []
   },
   "source": [
    "Daarom ga je een Python functie `base_b_to_num(s, b)` schrijven die een string `s` en een grondtal `b` accepteert, waarbij `s` een getal in grondtal `b` voorstelt en `b` een getal van 2 tot en met 10 is. De functie `base_b_to_num` moet een integer in grondtal 10 teruggeven die hetzelfde getal voorstelt als `s`.\n",
    "\n",
    "Je hoeft niet te controleren of `b` tussen 2 en 10 ligt, we zullen ervoor zorgen dat dit de enige waarden zijn die we testen."
   ]
  },
  {
   "cell_type": "markdown",
   "metadata": {
    "editable": true,
    "slideshow": {
     "slide_type": ""
    },
    "tags": []
   },
   "source": [
    "```ipython\n",
    "In [1]: base_b_to_num(\"5733\", 9)\n",
    "Out[1]: 4242\n",
    "\n",
    "In [2]: base_b_to_num(\"1474462\", 8)\n",
    "Out[2]: 424242\n",
    "\n",
    "In [3]: base_b_to_num(\"222\", 4)\n",
    "Out[3]: 42\n",
    "\n",
    "In [4]: base_b_to_num(\"101010\", 2)\n",
    "Out[4]: 42\n",
    "\n",
    "In [5]: base_b_to_num(\"101010\", 3)\n",
    "Out[5]: 273\n",
    "\n",
    "In [6]: base_b_to_num(\"101010\", 10)\n",
    "Out[6]: 101010\n",
    "\n",
    "In [7]: base_b_to_num(\"11\", 2)\n",
    "Out[7]: 3\n",
    "\n",
    "In [8]: base_b_to_num(\"11\", 3)\n",
    "Out[8]: 4\n",
    "\n",
    "In [9]: base_b_to_num(\"11\", 10)\n",
    "Out[9]: 11\n",
    "\n",
    "In [10]: base_b_to_num(\"\", 10)\n",
    "Out[10]: 0                         # de lege string moet 0 opleveren\n",
    "```"
   ]
  },
  {
   "cell_type": "markdown",
   "metadata": {
    "editable": true,
    "slideshow": {
     "slide_type": ""
    },
    "tags": []
   },
   "source": [
    "```{notice}\n",
    "Vergeet niet dat jouw functie een getal teruggeeft, en een string als argument `s` accepteert! Verder,\n",
    "\n",
    "-   Het `bin_to_num` voorbeeld die je eerder hebt gezien is een goed begin...\n",
    "\n",
    "-   Vraag jezelf weer af, wat moet er veranderen om waarden in grondtal 2 terug te geven in plaats van grondtal `b`?\n",
    "```"
   ]
  },
  {
   "cell_type": "markdown",
   "metadata": {
    "editable": true,
    "slideshow": {
     "slide_type": ""
    },
    "tags": []
   },
   "source": [
    "```{tip}\n",
    "Jouw functie `base_b_to_num` moet `0` teruggeven als `s` een lege string is. Verder,\n",
    "\n",
    "-   Zoals gewoonlijk zal het meest rechtse karakter van de string de \"een\"'en kolom zijn,\" het minst significante getal in grondtal `b`.\n",
    "\n",
    "-   ... maar dat betekent dat de waarde van het meest rechtse teken gewoon `int(s[-1])` is!\n",
    "\n",
    "Nogmaals, hier zijn de Python functies om strings en getallen in elkaar om te zetten:\n",
    "\n",
    "-   `str(x)` geeft het getal (de integer) `x` terug als string\n",
    "-   `int(x)` geeft de integerwaarde van de string `s` terug, Python zal een `ValueError` geven als `s` geen integer voorstelt\n",
    "```"
   ]
  },
  {
   "cell_type": "code",
   "execution_count": null,
   "metadata": {
    "editable": true,
    "slideshow": {
     "slide_type": ""
    },
    "tags": [
     "skip-execution"
    ]
   },
   "outputs": [],
   "source": [
    "# jouw oplossing"
   ]
  },
  {
   "cell_type": "markdown",
   "metadata": {
    "editable": true,
    "slideshow": {
     "slide_type": ""
    },
    "tags": []
   },
   "source": [
    "### Functie 3: `base_to_base(b1, b2, s_in_b1)`"
   ]
  },
  {
   "cell_type": "markdown",
   "metadata": {
    "editable": true,
    "slideshow": {
     "slide_type": ""
    },
    "tags": []
   },
   "source": [
    "Nu kunnen we wat we geschreven hebben samenvoegen tot een functie `base_to_base(b1, b2, s_in_b1)` die drie argumenten accepteert, een grondtal `b1`, een grondtal `b2` (beide met een waarde tussen 2 tot en met 10) en `s_in_b1`, wat een string is die een getal in grondtal `b1` voorstelt.\n",
    "\n",
    "De functie `base_to_base` moet een string teruggeven die dezelfde waarde in grondtal `b2` vertegenwoordigt."
   ]
  },
  {
   "cell_type": "markdown",
   "metadata": {
    "editable": true,
    "slideshow": {
     "slide_type": ""
    },
    "tags": []
   },
   "source": [
    "Hier zijn een aantal voorbeelden:\n",
    "\n",
    "```ipython\n",
    "In [1]: base_to_base(2, 10, \"11\")   # 11 in grondtal 2 is 3 in grondtal 10...\n",
    "Out[1]: '3'\n",
    "\n",
    "In [2]: base_to_base(10, 2, \"3\")    # 3 in grondtal 10 is 11 in grondtal 2...\n",
    "Out[2]: '11'\n",
    "\n",
    "In [3]: base_to_base(3, 5, \"11\")    # 11 in grondtal 3 is 4 in grondtal 5...\n",
    "Out[3]: '4'\n",
    "\n",
    "In [4]: base_to_base(2, 3, \"101010\")\n",
    "Out[4]: '1120'\n",
    "\n",
    "In [5]: base_b_to_num(\"1120\", 3)\n",
    "Out[5]: 42\n",
    "\n",
    "In [6]: base_to_base(2, 4, \"101010\")\n",
    "Out[6]: '222'\n",
    "\n",
    "In [7]: base_to_base(2, 10, \"101010\")\n",
    "Out[7]: '42'\n",
    "\n",
    "In [8]: base_to_base(5, 2, \"4321\")\n",
    "Out[8]: '1001001010'\n",
    "\n",
    "In [9]: base_to_base(2, 5, \"1001001010\")\n",
    "Out[9]: '4321'\n",
    "```"
   ]
  },
  {
   "cell_type": "markdown",
   "metadata": {
    "editable": true,
    "slideshow": {
     "slide_type": ""
    },
    "tags": []
   },
   "source": [
    "```{tip}\n",
    "-   Gebruik eerst `base_b_to_num` om een gewoon, decimaal getal voor `s_in_b1` te krijgen. Geef het een naam.\n",
    "\n",
    "-   Gebruik dan de functie `num_to_base_b` om die waarde om te zetten naar het juiste grondtal!\n",
    "```\n"
   ]
  },
  {
   "cell_type": "code",
   "execution_count": null,
   "metadata": {
    "editable": true,
    "slideshow": {
     "slide_type": ""
    },
    "tags": [
     "skip-execution"
    ]
   },
   "outputs": [],
   "source": [
    "# jouw oplossing"
   ]
  },
  {
   "cell_type": "markdown",
   "metadata": {
    "editable": true,
    "slideshow": {
     "slide_type": ""
    },
    "tags": []
   },
   "source": [
    "### Functie 4: `add(s, t)`"
   ]
  },
  {
   "cell_type": "markdown",
   "metadata": {
    "editable": true,
    "slideshow": {
     "slide_type": ""
    },
    "tags": []
   },
   "source": [
    "Dit is een korte opgave om de functies die je hebt geschreven te gebruiken!\n",
    "\n",
    "Schrijf een functie `add(s, t)` die twee binaire strings `s` en `t` accepteert en hun som als resultaat teruggeeft terugstuurt, ook als binaire string.\n",
    "\n",
    "We raden je aan dit te doen door de twee binaire strings om te zetten in twee getallen in grondtal 10, de twee getallen bij elkaar op te tellen en de resulterende som vervolgens weer om te zetten naar grondtal 2!\n"
   ]
  },
  {
   "cell_type": "markdown",
   "metadata": {
    "editable": true,
    "slideshow": {
     "slide_type": ""
    },
    "tags": []
   },
   "source": [
    "Hier zijn een aantal voorbeelden:\n",
    "\n",
    "```ipython\n",
    "In [1]: add(\"11\", \"1\")\n",
    "Out[1]: '100'\n",
    "\n",
    "In [2]: add(\"11\", \"100\")\n",
    "Out[2]: '111'\n",
    "\n",
    "In [3]: add(\"110\", \"11\")\n",
    "Out[3]: '1001'\n",
    "\n",
    "In [4]: add(\"11100\", \"11110\")\n",
    "Out[4]: '111010'\n",
    "\n",
    "In [5]: add(\"10101\", \"10101\")\n",
    "Out[5]: '101010'\n",
    "```"
   ]
  },
  {
   "cell_type": "code",
   "execution_count": null,
   "metadata": {
    "editable": true,
    "slideshow": {
     "slide_type": ""
    },
    "tags": [
     "skip-execution"
    ]
   },
   "outputs": [],
   "source": [
    "# jouw oplossing"
   ]
  }
 ],
 "metadata": {
  "kernelspec": {
   "display_name": "Python 3 (ipykernel)",
   "language": "python",
   "name": "python3"
  },
  "language_info": {
   "codemirror_mode": {
    "name": "ipython",
    "version": 3
   },
   "file_extension": ".py",
   "mimetype": "text/x-python",
   "name": "python",
   "nbconvert_exporter": "python",
   "pygments_lexer": "ipython3",
   "version": "3.12.3"
  }
 },
 "nbformat": 4,
 "nbformat_minor": 4
}
