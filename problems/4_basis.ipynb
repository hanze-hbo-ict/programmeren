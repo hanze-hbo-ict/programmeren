{
 "cells": [
  {
   "cell_type": "markdown",
   "metadata": {
    "editable": true,
    "slideshow": {
     "slide_type": ""
    },
    "tags": []
   },
   "source": [
    "# Basis"
   ]
  },
  {
   "cell_type": "markdown",
   "metadata": {
    "editable": true,
    "slideshow": {
     "slide_type": ""
    },
    "tags": []
   },
   "source": [
    "Bij deze opdrachten vragen we je drie programma's die **lussen** gebruiken te lezen en te wijzigen. Lussen zijn een krachtige controlestructuur voor *iteratie*, het herhaaldelijke uitvoeren van dezelfde handeling."
   ]
  },
  {
   "cell_type": "markdown",
   "metadata": {},
   "source": [
    "## Looping `for` a `while`..."
   ]
  },
  {
   "cell_type": "markdown",
   "metadata": {
    "editable": true,
    "slideshow": {
     "slide_type": ""
    },
    "tags": []
   },
   "source": [
    "Iets heel vaak herhalen is waar computers op hun best zijn en mensen in het algemeen duidelijk niet van gediend zijn!"
   ]
  },
  {
   "cell_type": "markdown",
   "metadata": {
    "editable": true,
    "slideshow": {
     "slide_type": ""
    },
    "tags": []
   },
   "source": [
    "### Opdracht 1"
   ]
  },
  {
   "cell_type": "markdown",
   "metadata": {
    "editable": true,
    "slideshow": {
     "slide_type": ""
    },
    "tags": []
   },
   "source": [
    "a. Lees, om een beeld te krijgen van het gebruik van *lussen* de onderstaande functie met commentaar. Dit is een functie die de faculteit berekent door middel van een `for`-lus."
   ]
  },
  {
   "cell_type": "markdown",
   "metadata": {
    "editable": true,
    "slideshow": {
     "slide_type": ""
    },
    "tags": []
   },
   "source": [
    "```python\n",
    "def fac(n):\n",
    "    \"\"\"Loop-based factorial function\n",
    "\n",
    "    Argument: a nonnegative integer, n\n",
    "    Return value: the factorial of n\n",
    "    \"\"\"\n",
    "    result = 1                 # beginwaarde; lijkt op een basisgeval\n",
    "    for x in range(1, n + 1):  # herhaal van 1 tot en met n\n",
    "        result = result * x    # pas het resultaat aan door keer x te doen\n",
    "    return result              # merk op dat dit NA de lus is!\n",
    "\n",
    "#\n",
    "# Tests voor de lus-versie van de faculteit\n",
    "#\n",
    "assert fac(0) == 1\n",
    "assert fac(5) == 120\n",
    "```"
   ]
  },
  {
   "cell_type": "code",
   "execution_count": null,
   "metadata": {
    "editable": true,
    "slideshow": {
     "slide_type": ""
    },
    "tags": [
     "skip-execution"
    ]
   },
   "outputs": [],
   "source": [
    "# probeer dit voorbeeld"
   ]
  },
  {
   "cell_type": "markdown",
   "metadata": {
    "editable": true,
    "slideshow": {
     "slide_type": ""
    },
    "tags": []
   },
   "source": [
    "b. Maak nu een nieuwe functie `power(b, p)` door de bovenstaande functie te kopiëren en aan te passen, of door de functie zelf te schrijven op dezelfde manier. Deze functie moet aan de volgende eisen voldoen:\n",
    "\n",
    "-   Accepteert een numerieke waarde `b` (base, grondtal)\n",
    "-   Accepteert een niet-negatieve integer `p` (power, macht) (`p` kan 0 zijn)\n",
    "-   Geeft de waarde van `b ** p` terug\n",
    "-   De functie moet een `for`-lus gebruiken! Je mag niet gewoon `b ** p` gebruiken...\n",
    "-   In dit geval doen we alsof `power(0, 0)` gelijk is aan `1.0`, ook als dat wiskundig niet helemaal juist is."
   ]
  },
  {
   "cell_type": "markdown",
   "metadata": {},
   "source": [
    "Hier zijn een paar tests die je kan omzetten naar asserts:\n",
    "\n",
    "```python\n",
    "#\n",
    "# Tests voor de lus-versie van machtsverheffen\n",
    "#\n",
    "print(\"power(2, 5): is 32 ==\", power(2, 5))\n",
    "print(\"power(5, 2): is 25 ==\", power(5, 2))\n",
    "print(\"power(42, 0): is 1 ==\", power(42, 0))\n",
    "print(\"power(0, 42): is 0 ==\", power(0, 42))\n",
    "print(\"power(0, 0): is 1 ==\", power(0, 0))\n",
    "```"
   ]
  },
  {
   "cell_type": "markdown",
   "metadata": {
    "editable": true,
    "slideshow": {
     "slide_type": ""
    },
    "tags": []
   },
   "source": [
    "::: {admonition} Overeenkomst met de faculteitsfunctie\n",
    ":class: tip\n",
    "\n",
    "De parameter `n` uit de faculteitsversie heeft dezelfde functie als de parameter `p` in deze functie. Het grondtal `b` wordt alleen gebruikt om mee te vermenigvuldigen.\n",
    ":::\n"
   ]
  },
  {
   "cell_type": "code",
   "execution_count": null,
   "metadata": {
    "editable": true,
    "slideshow": {
     "slide_type": ""
    },
    "tags": [
     "skip-execution"
    ]
   },
   "outputs": [],
   "source": [
    "# jouw oplossing"
   ]
  },
  {
   "cell_type": "markdown",
   "metadata": {},
   "source": [
    "### Opdracht 2"
   ]
  },
  {
   "cell_type": "markdown",
   "metadata": {
    "editable": true,
    "slideshow": {
     "slide_type": ""
    },
    "tags": []
   },
   "source": [
    "a. De volgende functie `summed` telt alle elementen van een lijst bij elkaar op. Lees de functie eerst goed door.\n",
    "\n",
    "```python\n",
    "def summed(L):\n",
    "    \"\"\"Loop-based function to return a numeric list.\n",
    "       (\"sum\" is built-in, so we're using a different name.)\n",
    "\n",
    "    Argument: L, a list of integers.\n",
    "    Result: the sum of the list L.\n",
    "    \"\"\"\n",
    "    result = 0\n",
    "    for e in L:\n",
    "        result = result + e    # of result += e\n",
    "    return result\n",
    "\n",
    "# tests!\n",
    "assert summed([4, 5, 6]) == 15\n",
    "assert summed(range(3, 10)) == 42\n",
    "```"
   ]
  },
  {
   "cell_type": "code",
   "execution_count": null,
   "metadata": {
    "editable": true,
    "slideshow": {
     "slide_type": ""
    },
    "tags": [
     "skip-execution"
    ]
   },
   "outputs": [],
   "source": [
    "# probeer dit voorbeeld"
   ]
  },
  {
   "cell_type": "markdown",
   "metadata": {
    "editable": true,
    "slideshow": {
     "slide_type": ""
    },
    "tags": []
   },
   "source": [
    "b. Maak nu zelf een functie `summed_odds(L)` door deze functie als voorbeeld te gebruiken, die\n",
    "\n",
    "-   Een lijst integers `L` accepteert.\n",
    "-   Je mag ervan uitgaan dat de lijst alleen integers bevat.\n",
    "-   De functie moet de som teruggeven van alle **oneven** getallen in `L`.\n",
    "-   Als er geen oneven getallen in de lijst zijn, moet de functie 0 teruggeven.\n",
    "-   Maak gebruik van een lus!"
   ]
  },
  {
   "cell_type": "markdown",
   "metadata": {},
   "source": [
    "Vergeet niet de functie voldoende te testen!\n",
    "\n",
    "```python\n",
    "# tests!\n",
    "assert summed_odds([4, 5, 6]) == 5\n",
    "assert summed_odds(range(3, 10)) == 24\n",
    "```"
   ]
  },
  {
   "cell_type": "markdown",
   "metadata": {
    "editable": true,
    "slideshow": {
     "slide_type": ""
    },
    "tags": []
   },
   "source": [
    "```{tip}\n",
    "Maak *binnen* de lus gebruik van een `if`-statement, zodat je de waarde alleen aan het resultaat toevoegt onder de juiste omstandigheden.\n",
    "```"
   ]
  },
  {
   "cell_type": "code",
   "execution_count": null,
   "metadata": {
    "editable": true,
    "slideshow": {
     "slide_type": ""
    },
    "tags": [
     "skip-execution"
    ]
   },
   "outputs": [],
   "source": [
    "# jouw oplossing"
   ]
  },
  {
   "cell_type": "markdown",
   "metadata": {},
   "source": [
    "### Opracht 3"
   ]
  },
  {
   "cell_type": "markdown",
   "metadata": {
    "editable": true,
    "slideshow": {
     "slide_type": ""
    },
    "tags": []
   },
   "source": [
    "Bij deze opdracht kijken we naar wat ook wel de *verjaardagenparadox* wordt genoemd.\n",
    "\n",
    "-   Zelfs in een vrij kleine groep mensen (al vanaf 23!) is de kans dat twee van die mensen dezelfde verjaardag hebben groter dan 50%.\n",
    "-   [Wikipedia](https://nl.wikipedia.org/wiki/Verjaardagenparadox) heeft hier ook een pagina over met wat meer details."
   ]
  },
  {
   "cell_type": "markdown",
   "metadata": {
    "editable": true,
    "slideshow": {
     "slide_type": ""
    },
    "tags": []
   },
   "source": [
    "a. Lees eerst deze functie om getallen te raden met een `while`-lus goed door."
   ]
  },
  {
   "cell_type": "markdown",
   "metadata": {
    "editable": true,
    "slideshow": {
     "slide_type": ""
    },
    "tags": []
   },
   "source": [
    "```python\n",
    "import random\n",
    "\n",
    "def count_guesses(hidden):\n",
    "    \"\"\"Uses a while loop to guess \"hidden\", from 0 to 99.\n",
    "\n",
    "    Argument: hidden, a \"hidden\" integer from 0 to 99.\n",
    "    Result: the number of guesses needed to guess hidden.\n",
    "    \"\"\"\n",
    "    guess = random.choice(range(0, 100))     # 0 tot en met 99\n",
    "    num_guesses = 1                          # we hebben nu 1 keer geraden\n",
    "    while guess != hidden:\n",
    "        guess = random.choice(range(0, 100)) # opnieuw raden!\n",
    "        num_guesses += 1                     # 1 toevoegen aan het aantal pogingen\n",
    "    return num_guesses\n",
    "```"
   ]
  },
  {
   "cell_type": "code",
   "execution_count": null,
   "metadata": {
    "editable": true,
    "slideshow": {
     "slide_type": ""
    },
    "tags": [
     "skip-execution"
    ]
   },
   "outputs": [],
   "source": [
    "# probeer dit voorbeeld"
   ]
  },
  {
   "cell_type": "markdown",
   "metadata": {},
   "source": [
    "b. Gebruik `count_guesses` als voorbeeld om een variant te schrijven die we `until_a_repeat(high)` gaan noemen.\n",
    "\n",
    "-   Deze functie houdt een lijst `L` bij van alle getallen die geraden zijn. Begin met `L = []`!\n",
    "-   We blijven getallen raden zolang alle elementen van `L` uniek zijn (dus zolang er geen herhalingen zijn).\n",
    "    -   Gebruik een `while`-lus!\n",
    "    -   Gebruik de functie `unique(L)` hieronder die een boolean teruggeeft.\n",
    "-   Binnen de `while`-lus doet de funtie het volgende:\n",
    "    -   Gok een getal van 0 tot high met behulp van `range(0, high)`\n",
    "    -   Houd het aantal geraden getallen bij (bijvoorbeeld met een telvariabele)\n",
    "    -   Voeg het getal toe aan de lijst `L`\n",
    "-   Als de `while`-lus klaar is moet de functie het aantal geraden getallen teruggeven dat nodig was om een dubbel getal te krijgen."
   ]
  },
  {
   "cell_type": "markdown",
   "metadata": {
    "editable": true,
    "slideshow": {
     "slide_type": ""
    },
    "tags": []
   },
   "source": [
    "```{tip}\n",
    "-   Onthoud dat je 1 aan een variabele kan toevoegen met `count += 1`\n",
    "-   Op dezelfde manier kan je een element, bijvoorbeeld `42` aan het einde van een lijst toevoegen met `L = L + [42]`.\n",
    "\n",
    "    Het element moet wel tussen blokhaken staan, omdat alleen lijsten mogen worden opgeteld bij een lijst.\n",
    "```"
   ]
  },
  {
   "cell_type": "markdown",
   "metadata": {},
   "source": [
    "Hier is de hulpfunctie `unique` die je al eerder hebt gezien.\n",
    "\n",
    "```python\n",
    "def unique(L):\n",
    "    \"\"\"Returns whether all elements in L are unique.\n",
    "\n",
    "    Argument: L, a list of any elements.\n",
    "    Return value: True, if all elements in L are unique,\n",
    "            or False, if there is any repeated element\n",
    "    \"\"\"\n",
    "    if len(L) == 0:\n",
    "        return True\n",
    "    elif L[0] in L[1:]:\n",
    "        return False\n",
    "    else:\n",
    "        return unique(L[1:])  # in deze functie mag je WEL recursie gebruiken!\n",
    "```"
   ]
  },
  {
   "cell_type": "markdown",
   "metadata": {
    "editable": true,
    "slideshow": {
     "slide_type": ""
    },
    "tags": []
   },
   "source": [
    "Nadat je `until_a_repeat` hebt geschreven, kan je controleren dat `until_a_repeat(365)` inderdaad verrassend kleine getallen oplevert! Bijvoorbeeld,\n",
    "\n",
    "```ipython\n",
    "In [1]: until_a_repeat(365)\n",
    "Out[1]: 25\n",
    "\n",
    "In [2]: until_a_repeat(365)\n",
    "Out[2]: 8\n",
    "\n",
    "In [3]: until_a_repeat(365)\n",
    "Out[3]: 23\n",
    "\n",
    "In [4]: until_a_repeat(365)\n",
    "Out[4]: 33\n",
    "```\n"
   ]
  },
  {
   "cell_type": "code",
   "execution_count": null,
   "metadata": {
    "editable": true,
    "slideshow": {
     "slide_type": ""
    },
    "tags": [
     "skip-execution"
    ]
   },
   "outputs": [],
   "source": [
    "# jouw oplossing"
   ]
  }
 ],
 "metadata": {
  "kernelspec": {
   "display_name": "Python 3 (ipykernel)",
   "language": "python",
   "name": "python3"
  },
  "language_info": {
   "codemirror_mode": {
    "name": "ipython",
    "version": 3
   },
   "file_extension": ".py",
   "mimetype": "text/x-python",
   "name": "python",
   "nbconvert_exporter": "python",
   "pygments_lexer": "ipython3",
   "version": "3.12.3"
  }
 },
 "nbformat": 4,
 "nbformat_minor": 4
}
