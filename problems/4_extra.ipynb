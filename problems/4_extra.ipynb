{
 "cells": [
  {
   "cell_type": "markdown",
   "metadata": {
    "editable": true,
    "slideshow": {
     "slide_type": ""
    },
    "tags": []
   },
   "source": [
    "# Extra"
   ]
  },
  {
   "cell_type": "markdown",
   "metadata": {},
   "source": [
    "## Pi met pijltjes"
   ]
  },
  {
   "cell_type": "markdown",
   "metadata": {
    "editable": true,
    "slideshow": {
     "slide_type": ""
    },
    "tags": []
   },
   "source": [
    "![Dartboard](images/4/500px-Dartboard.png)"
   ]
  },
  {
   "cell_type": "markdown",
   "metadata": {},
   "source": [
    "Het is misschien verbazingwekkend dat het mogelijk is om de wiskundige constante π te berekenen zonder dat je andere operaties nodig hebt dan tellen, optellen en vermenigvuldigen. In deze opgave ga je twee functies schrijven om pi (`3.14159...`) te benaderen door *het gooien van pijltjes*."
   ]
  },
  {
   "cell_type": "markdown",
   "metadata": {},
   "source": [
    "Zie ook [Calculating Pi with Darts](https://www.youtube.com/watch?v=M34TO71SKGk) hoe je dit zou kunnen simuleren met échte pijltjes!"
   ]
  },
  {
   "cell_type": "markdown",
   "metadata": {},
   "source": [
    "## Pi met pijltjes berekenen: achtergrond"
   ]
  },
  {
   "cell_type": "markdown",
   "metadata": {
    "editable": true,
    "slideshow": {
     "slide_type": ""
    },
    "tags": []
   },
   "source": [
    "Stel je een cirkel voor die ingeschreven is in een vierkant dat het gebied met `-1 ≤ x ≤ 1` en `-1 ≤ y ≤ 1` beslaat. De oppervlakte van de ingeschreven cirkel, waarvan de straal `1.0` is, moet dan π zijn: de oppervlakte van een cirkel is immers gelijk aan π*r*<sup>2</sup>, en de straal *r* is hier `1.0`."
   ]
  },
  {
   "cell_type": "markdown",
   "metadata": {},
   "source": [
    ":::{admonition} Ingeschreven cirkel\n",
    ":class: notice\n",
    "\n",
    "Een *ingeschreven* cirkel raakt de randen van het omliggende vierkant precies; als het vierkant dus zijden van lengte 2 heeft, is de diameter van de cirkel ook 2.\n",
    ":::"
   ]
  },
  {
   "cell_type": "markdown",
   "metadata": {
    "editable": true,
    "slideshow": {
     "slide_type": ""
    },
    "tags": []
   },
   "source": [
    "Als je pijltjes gooit op willekeurige punten in het vierkant zal maar een deel daarvan de ingeschreven cirkel raken. De verhouding\n",
    "\n",
    "```\n",
    "oppervlakte van de cirkel / oppervlakte van het vierkant\n",
    "```\n",
    "\n",
    "kan benaderd worden door de verhouding\n",
    "\n",
    "```\n",
    "aantal pijltjes dat de cirkel raakt / totaal aantal geworpen pijltjes\n",
    "```"
   ]
  },
  {
   "cell_type": "markdown",
   "metadata": {
    "editable": true,
    "slideshow": {
     "slide_type": ""
    },
    "tags": []
   },
   "source": [
    "Als je meer en meer pijltjes gooit benadert de tweede verhouding hierboven steeds dichter de eerste verhouding. Aangezien drie van de vier waardes hierboven bekend zijn kunnen we ze gebruiken om de oppervlakte van de cirkel te benaderen. Dit kan weer gebruikt worden om π te benaderen."
   ]
  },
  {
   "cell_type": "markdown",
   "metadata": {
    "editable": true,
    "slideshow": {
     "slide_type": ""
    },
    "tags": []
   },
   "source": [
    "![Turtle pijltjes](images/4/pi_turtle.gif)"
   ]
  },
  {
   "cell_type": "markdown",
   "metadata": {},
   "source": [
    "### Pijltjes gooien ontwerpen..."
   ]
  },
  {
   "cell_type": "markdown",
   "metadata": {
    "editable": true,
    "slideshow": {
     "slide_type": ""
    },
    "tags": []
   },
   "source": [
    "Om een pijltje te gooien, moet je willekeurige x- en y-coördinaten genereren tussen `-1.0` en `1.0`. Zorg dat je de regel\n",
    "\n",
    "```python\n",
    "import random\n",
    "```\n",
    "\n",
    "bovenaan je bestand toevoegt. Als je dit doet, heb je nu de beschikking tot de functie\n",
    "\n",
    "```python\n",
    "random.uniform(-1.0, 1.0)\n",
    "```\n",
    "\n",
    "Deze regel geeft een floating-pointwaarde in het bereik van `-1.0` tot en met `1.0`. Je kunt bijvoorbeeld schrijven:\n",
    "\n",
    "```python\n",
    "x = random.uniform(-1.0, 1.0)\n",
    "```"
   ]
  },
  {
   "cell_type": "markdown",
   "metadata": {},
   "source": [
    "## De functie `throw_dart`"
   ]
  },
  {
   "cell_type": "markdown",
   "metadata": {
    "editable": true,
    "slideshow": {
     "slide_type": ""
    },
    "tags": []
   },
   "source": [
    "Met dit in het achterhoofd is het handig om een hulpfunctie `throw_dart()` te schrijven die\n",
    "\n",
    "* Eén \"pijlte\" gooit in het vierkant door een willekeurige `x`- en een willekeurige `y`-coördinaat te genereren tussen -1 en 1\n",
    "* Bepaalt of dat pijltje in de cirkel met straal 1 rond de oorsprong valt; je kan hier de functie `math.sqrt` gebruiken om dit te controleren, maar dat is niet strikt noodzakelijk!\n",
    "* `True` teruggeeft als het pijltje de cirkel raakt en `False` teruggeeft als het pijlte de cirkel mist\n",
    "* Onthoud dat het pijltje altijd het vierkant raakt, door de manier waarop de worp ontworpen is..."
   ]
  },
  {
   "cell_type": "markdown",
   "metadata": {},
   "source": [
    ":::{admonition} Valt het pijltje binnen de cirkel?\"\n",
    ":class: tip\n",
    "\n",
    "Het pijltje valt binnen de cirkel als de afstand tot het middenpunt, in dit geval (0, 0), kleiner is dan of gelijk is aan de straal. Je kan de afstand berekenen met de stelling van Pythagoras: de afstand van een punt (*x*, *y*) tot het punt (0, 0) is gelijk aan de wortel van *x*<sup>2</sup> + *y*<sup>2</sup>\n",
    ":::"
   ]
  },
  {
   "cell_type": "markdown",
   "metadata": {},
   "source": [
    "Deze hulpfunctie kan je gebruiken voor de beide hoofdfuncties van deze opgave: `for_pi` en `while_pi`.\n",
    "\n",
    "Hoe je je Monte-Carlosimulatie ook ontwerpt moet je onthouden dat je als altijd een docstring opneemt in beide functies die uitlegt hoe de functie werkt!"
   ]
  },
  {
   "cell_type": "markdown",
   "metadata": {},
   "source": [
    "## De functie `for_pi`"
   ]
  },
  {
   "cell_type": "markdown",
   "metadata": {},
   "source": [
    "De functie `for_pi(n)` moet een positieve integer `n` als parameter meekrijgen.\n",
    "\n",
    "Ze moet `n` pijltjes in het vierkant \"gooien\".\n",
    "\n",
    "Na elk pijltje dat gegooid is moet de functie het volgende afdrukken:\n",
    "\n",
    "* Het aantal pijltjes dat tot nu toe gegooid is.\n",
    "* Het aantal pijltjes dat tot nu toe de cirkel ***geraakt*** heeft.\n",
    "* De hieruit volgende schatting voor π.\n",
    "\n",
    "**Returnwaarde**; *vergeet deze niet!*"
   ]
  },
  {
   "cell_type": "markdown",
   "metadata": {
    "editable": true,
    "slideshow": {
     "slide_type": ""
    },
    "tags": []
   },
   "source": [
    "De functie `for_pi` moet de *uiteindelijke schatting voor π* na `n` worpen teruggeven.\n",
    "\n",
    "Hier is een voorbeelduitvoer om te laten zien hoe `for_pi` moet werken:\n",
    "\n",
    "* Je eigen uitvoer zal variëren vanwege de willekeurigheid...\n",
    "* Het moet echter de echte waarde van π benaderen als het aantal gegooide pijltjes `n` groter wordt\n",
    "\n",
    "```ipython\n",
    "In [1]: for_pi(10)\n",
    "1 raak van 1 worpen dus pi is 4.0\n",
    "2 raak van 2 worpen dus pi is 4.0\n",
    "3 raak van 3 worpen dus pi is 4.0\n",
    "4 raak van 4 worpen dus pi is 4.0\n",
    "4 raak van 5 worpen dus pi is 3.2\n",
    "5 raak van 6 worpen dus pi is 3.33333333333\n",
    "6 raak van 7 worpen dus pi is 3.42857142857\n",
    "6 raak van 8 worpen dus pi is 3.0\n",
    "7 raak van 9 worpen dus pi is 3.11111111111\n",
    "8 raak van 10 worpen dus pi is 3.2\n",
    "\n",
    "Out[1]: 3.2\n",
    "```\n"
   ]
  },
  {
   "cell_type": "code",
   "execution_count": null,
   "metadata": {
    "editable": true,
    "slideshow": {
     "slide_type": ""
    },
    "tags": [
     "skip-execution"
    ]
   },
   "outputs": [],
   "source": [
    "# jouw oplossing"
   ]
  },
  {
   "cell_type": "markdown",
   "metadata": {},
   "source": [
    "## De functie `while_pi(error)`"
   ]
  },
  {
   "cell_type": "markdown",
   "metadata": {},
   "source": [
    "De functie `while_pi(error)` moet een positieve floating-pointwaarde `error` als parameter meekrijgen.\n",
    "\n",
    "Ze moet dan pijltjes naar het vierkant gooien totdat het *absolute verschil* tussen de schatting die de functie voor π maakt en de echte waarde van π minder is dan `error`.\n",
    "\n",
    "Je functie `while_pi` heeft de echte, bekende waarde van π nodig om te bepalen of de schatting binnen de foutmarge ligt! Dit zou niet kunnen als de constante die we benaderen echt onbekend is, maar in dit geval kan je de regel\n",
    "\n",
    "```python\n",
    "import math\n",
    "```\n",
    "\n",
    "toevoegen aan je code en de waarde `math.pi` gebruiken als de echte waarde voor π."
   ]
  },
  {
   "cell_type": "markdown",
   "metadata": {},
   "source": [
    "Net als de functie `for_pi` moet je functie `while_pi` na elke worp het volgende afdrukken:\n",
    "\n",
    "* Het aantal pijltjes dat tot nu toe gegooid is.\n",
    "* Het aantal pijltjes dat tot nu toe de cirkel ***geraakt*** heeft.\n",
    "* De hieruit volgende schatting voor π.\n",
    "\n",
    "**Returnwaarde**; *vergeet deze niet!*\n",
    "\n",
    "De functie `while_pi` moet *het aantal gegooide pijltjes* teruggeven dat nodig was om de gevraagde\n",
    "nauwkeurigheid te bereiken."
   ]
  },
  {
   "cell_type": "markdown",
   "metadata": {
    "editable": true,
    "slideshow": {
     "slide_type": ""
    },
    "tags": []
   },
   "source": [
    "Hier is een voorbeelduitvoer om te laten zien hoe `while_pi` werkt:\n",
    "\n",
    "```ipython\n",
    "In [7]: while_pi(0.1)\n",
    "1 raak van 1 worpen dus pi is 4.0\n",
    "2 raak van 2 worpen dus pi is 4.0\n",
    "3 raak van 3 worpen dus pi is 4.0\n",
    "4 raak van 4 worpen dus pi is 4.0\n",
    "5 raak van 5 worpen dus pi is 4.0\n",
    "5 raak van 6 worpen dus pi is 3.33333333333\n",
    "6 raak van 7 worpen dus pi is 3.42857142857\n",
    "7 raak van 8 worpen dus pi is 3.5\n",
    "7 raak van 9 worpen dus pi is 3.11111111111\n",
    "\n",
    "Out[7]: 9\n",
    "```\n"
   ]
  },
  {
   "cell_type": "code",
   "execution_count": null,
   "metadata": {
    "editable": true,
    "slideshow": {
     "slide_type": ""
    },
    "tags": [
     "skip-execution"
    ]
   },
   "outputs": [],
   "source": [
    "# jouw oplossing"
   ]
  }
 ],
 "metadata": {
  "kernelspec": {
   "display_name": "Python 3 (ipykernel)",
   "language": "python",
   "name": "python3"
  },
  "language_info": {
   "codemirror_mode": {
    "name": "ipython",
    "version": 3
   },
   "file_extension": ".py",
   "mimetype": "text/x-python",
   "name": "python",
   "nbconvert_exporter": "python",
   "pygments_lexer": "ipython3",
   "version": "3.12.3"
  }
 },
 "nbformat": 4,
 "nbformat_minor": 4
}
