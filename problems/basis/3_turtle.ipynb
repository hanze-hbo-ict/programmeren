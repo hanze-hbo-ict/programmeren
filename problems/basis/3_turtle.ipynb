{
 "cells": [
  {
   "attachments": {},
   "cell_type": "markdown",
   "metadata": {},
   "source": [
    "| Naam         | Beschrijving                                                   |\n",
    "|--------------|----------------------------------------------------------------|\n",
    "| Onderwerp    | turtles                                                        |\n",
    "| Leerdoel     | Introducie recursie                                            |\n",
    "| Bestandsnaam | `wk3ba1.txt`                                                   |\n",
    "| Inleveren    | Lever jouw bestand met de juiste bestandsnaam in op GradeScope |\n",
    "\n",
    "\n",
    "Onderstaande opdrachten gaan allemaal over het tekenen met turtle."
   ]
  },
  {
   "attachments": {},
   "cell_type": "markdown",
   "metadata": {},
   "source": [
    "# Opdracht 1"
   ]
  },
  {
   "attachments": {},
   "cell_type": "markdown",
   "metadata": {},
   "source": [
    "a. Kopieer onderstaande code over naar een bestand genaamd 'wk3ba1.py'. Maak de functie `sq` af zodat het een vierkant tekent met zijdes met 25 pixels. Maak gebruik van recursie om de herhaling van code te voorkomen."
   ]
  },
  {
   "attachments": {},
   "cell_type": "markdown",
   "metadata": {},
   "source": [
    "```python\n",
    "import time\n",
    "from turtle import *\n",
    "from random import *\n",
    "\n",
    "def main():\n",
    "    \"\"\"\n",
    "    Main functie. Roept de andere functies op om hun werk te doen. \n",
    "    \"\"\"\n",
    "    speed(10) # set the drawing speed to 10\n",
    "    sq()\n",
    "    done() # tell turtle the drawing is done.\n",
    "\n",
    "def testing():\n",
    "    \"\"\"\n",
    "    Test functie. Hier staan alle assertions om de functies te testen.\n",
    "    \"\"\"\n",
    "\n",
    "def sq(n = 4):\n",
    "    \"\"\"Draws 100-pixel sides of a square.\n",
    "    \"\"\"\n",
    "\n",
    "\n",
    "main()\n",
    "testing()\n",
    "```"
   ]
  },
  {
   "attachments": {},
   "cell_type": "markdown",
   "metadata": {},
   "source": [
    "\n",
    "b. Schrijf de functie `sqLine(x)`. De parameter x geeft een hoeveel vierkantjes op een rij moeten komen. Maak gebruik van de `sq` functie"
   ]
  },
  {
   "attachments": {},
   "cell_type": "markdown",
   "metadata": {},
   "source": [
    "**voorbeeld**  \n",
    "lineSq(5) tekent:"
   ]
  },
  {
   "attachments": {},
   "cell_type": "markdown",
   "metadata": {},
   "source": [
    "![turtle line of squares](images/3/Square_line.png)"
   ]
  },
  {
   "attachments": {},
   "cell_type": "markdown",
   "metadata": {},
   "source": [
    "c. Schrijf de functie `sqSpiral(n)`. De paramater `n` geeft aan met hoeveel vierkantjes de eerste zijde van de spiraal moet hebben. "
   ]
  },
  {
   "attachments": {},
   "cell_type": "markdown",
   "metadata": {},
   "source": [
    "**voorbeeld**  \n",
    "spiralSq(10) tekent:"
   ]
  },
  {
   "attachments": {},
   "cell_type": "markdown",
   "metadata": {},
   "source": [
    "![turtle spiral of squares](images/3/Square_spiral.png)"
   ]
  },
  {
   "attachments": {},
   "cell_type": "markdown",
   "metadata": {},
   "source": [
    "# Opdracht 2\n",
    "\n",
    "a. Schrijf de funtie `sqLength(lengte, x=4)`.  Deze functie tekent een vierkant van aangegeven grootte. `sqLength(50)` tekent een vierkant met zijdes van 50 pixels lang. \n",
    "\n",
    "b. Schrijf de functie `sqRec(start, step)`. De paramater `start` geeft de grootte van het eerste vierkant aan en de `step` geeft aan hoeveel kleiner het volgende vierkant is. Maak gebruik van de `sqLength` functie. "
   ]
  },
  {
   "attachments": {},
   "cell_type": "markdown",
   "metadata": {},
   "source": [
    "**voorbeeld**  \n",
    "sqRec(100, 10) tekent:"
   ]
  },
  {
   "attachments": {},
   "cell_type": "markdown",
   "metadata": {},
   "source": [
    "![turtle spiral of squares](images/3/Square_rec.png)"
   ]
  },
  {
   "attachments": {},
   "cell_type": "markdown",
   "metadata": {},
   "source": [
    "c. Schrijf een functie `sqMiddle(start, step)` De paramater `start` geeft de grootte van het eerste vierkant aan en de `step` geeft aan hoeveel kleiner het volgende vierkant is. Maak gebruik van de `sqLength` functie. Dit keer worden de vierkantjes in het midden getekend. Met de `up()` functie stopt de turtle met tekenen. Met de functie `down()` start de turtle weer met tekenen. "
   ]
  },
  {
   "attachments": {},
   "cell_type": "markdown",
   "metadata": {},
   "source": [
    "**voorbeeld**  \n",
    "sqMiddle(200, 20) tekent:"
   ]
  },
  {
   "attachments": {},
   "cell_type": "markdown",
   "metadata": {},
   "source": [
    "![turtle squares in squares](images/3/Squares_middle.png)"
   ]
  },
  {
   "attachments": {},
   "cell_type": "markdown",
   "metadata": {},
   "source": [
    "**TIP**: Probeer, plan, programmeer.     \n",
    "Probeer: Hoe tekenen je dit figuur zelf?  \n",
    "Plan: Hoe leg je aan iemand anders uit hoe dit getekend wordt? Wat zijn de stappen om dit lijn voor lijn te tekenen?  \n",
    "Programmeer!"
   ]
  },
  {
   "attachments": {},
   "cell_type": "markdown",
   "metadata": {},
   "source": [
    "# Opdracht 3\n",
    "\n",
    "a. Schrijf de functie `lijn(x)` dat een lijn tekent. De x geeft een hoe lang de lijn moet zijn. Aan het einde van de functie staat de turtle weer waar het was begonnen. "
   ]
  },
  {
   "attachments": {},
   "cell_type": "markdown",
   "metadata": {},
   "source": [
    "**Voorbeeld**  \n",
    "![turtle line](images/3/line.png)"
   ]
  },
  {
   "attachments": {},
   "cell_type": "markdown",
   "metadata": {},
   "source": [
    "b. Schrijf de functie `simpleFlake(n, angle, lengte)`. De n geeft aan hoeveel lijnen er getekend moet worden. Angle geeft aan hoeveel graden er na elke lijn gedraaid wordt. De lengte geeft aan hoe lang elke lijn moet zijn. "
   ]
  },
  {
   "attachments": {},
   "cell_type": "markdown",
   "metadata": {},
   "source": [
    "**voorbeeld**  \n",
    "simpleFlake(10, 50, 100)\n",
    "\n",
    "![turtle simple flake](images/3/simple_flake.png)"
   ]
  }
 ],
 "metadata": {
  "kernelspec": {
   "display_name": "Python 3 (ipykernel)",
   "language": "python",
   "name": "python3"
  },
  "language_info": {
   "codemirror_mode": {
    "name": "ipython",
    "version": 3
   },
   "file_extension": ".py",
   "mimetype": "text/x-python",
   "name": "python",
   "nbconvert_exporter": "python",
   "pygments_lexer": "ipython3",
   "version": "3.10.6"
  }
 },
 "nbformat": 4,
 "nbformat_minor": 4
}
