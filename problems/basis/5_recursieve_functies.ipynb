{
 "cells": [
  {
   "attachments": {},
   "cell_type": "markdown",
   "metadata": {},
   "source": [
    "| Naam         | Beschrijving                                                   |\n",
    "|--------------|----------------------------------------------------------------|\n",
    "| Onderwerp    | turtles                                                        |\n",
    "| Leerdoel     | functies schrijven en testen                                   |\n",
    "| Bestandsnaam | `wk3ba2.txt`                                                   |\n",
    "| Inleveren    | Lever jouw bestand met de juiste bestandsnaam in op GradeScope |\n"
   ]
  },
  {
   "attachments": {},
   "cell_type": "markdown",
   "metadata": {},
   "source": [
    "Deze opgave bestaat uit het maken van verschillende functies **zonder** gebruik te maken van lussen. Vergeet niet elke functie te testen met assertions en vergeet de docstrings niet. "
   ]
  },
  {
   "attachments": {},
   "cell_type": "markdown",
   "metadata": {},
   "source": [
    "# Opdracht 1"
   ]
  },
  {
   "attachments": {},
   "cell_type": "markdown",
   "metadata": {},
   "source": [
    "Schrijf een functie `noDouble(l)`dat een lijst `l` accepteert, alle dubbele verwijdert uit `l` en deze nieuwe lijst teruggeeft. "
   ]
  },
  {
   "attachments": {},
   "cell_type": "markdown",
   "metadata": {},
   "source": [
    "Voorbeelden\n",
    "\n",
    "```python\n",
    "rem(\"test\") == \"est\"\n",
    "rem([1, 2, 3, 3, 4, 5]) == [1, 2, 3, 4, 5] \n",
    "```"
   ]
  },
  {
   "attachments": {},
   "cell_type": "markdown",
   "metadata": {},
   "source": [
    "# Opdracht 2"
   ]
  },
  {
   "attachments": {},
   "cell_type": "markdown",
   "metadata": {},
   "source": [
    "In de wiskunde komen de orders UNION, INTERSECT en EXCEPT voor dat op twee lijsten uitgevoerd kan worden.   \n",
    "\n",
    "UNION houdt in dat alle informatie uit twee lijsten samengevoegd worden tot 1 lijst, zonder dubbele waardes  \n",
    "INTERSECT houdt in dat enkel de informatie die in beide lijsten voorkomen in een nieuwe lijst worden geplaats  \n",
    "EXCEPT houdt in dat enkel de informatie dat uniek in lijst a en dus niet in lijst b voorkomt in een nieuwe lijst wordt geplaats.   \n",
    "\n"
   ]
  },
  {
   "attachments": {},
   "cell_type": "markdown",
   "metadata": {},
   "source": [
    "a.\tSchrijf een functie `intersectSets(a, b)` dat twee lijsten `a` en `b` binnen krijgt als paramaters. De functie geeft een lijst terug met elementen die zowel in lijst `a` als in lijst `b` voorkomt.\n",
    "\n"
   ]
  },
  {
   "attachments": {},
   "cell_type": "markdown",
   "metadata": {},
   "source": [
    "```python\n",
    "intersect([1,2,3], [3, 4, 5]) == [3]\n",
    "```"
   ]
  },
  {
   "attachments": {},
   "cell_type": "markdown",
   "metadata": {},
   "source": [
    "b.\tSchrijf een functie `exceptSets(a,b)` dat twee lijsten `a` en `b` binnen krijgt als paramaters De functie geeft een lijst terug met alle elementen van `a` die niet in `b` voorkomen. "
   ]
  },
  {
   "attachments": {},
   "cell_type": "markdown",
   "metadata": {},
   "source": [
    "```python\n",
    "exceptSets([1,2,3], [3, 4, 5]) == [1,2]\n",
    "```"
   ]
  },
  {
   "attachments": {},
   "cell_type": "markdown",
   "metadata": {},
   "source": [
    "c.\tSchrijf een functie `unionSets(a, b)` dat twee lijsten `a` en `b` binnen krijgt als paramaters. De functie geeft de union terug van deze twee lijsten. "
   ]
  },
  {
   "attachments": {},
   "cell_type": "markdown",
   "metadata": {},
   "source": [
    "Voorbeeld\n",
    "```python\n",
    "union([1,2,3], [3, 4, 5]) == [1,2,3,4,5]\n",
    "```\n"
   ]
  },
  {
   "attachments": {},
   "cell_type": "markdown",
   "metadata": {},
   "source": [
    "# Opdracht 3\n",
    "De grootste gemene deler tussen twee getallen is de grootste deler die beide getallen gemeenschappelijk hebben. Doel is om een programma te maken dat de ggd kan berekenen. Dit gaan we stap voor stap doen. "
   ]
  },
  {
   "attachments": {},
   "cell_type": "markdown",
   "metadata": {},
   "source": [
    "a. Schrijf de functie `fact(number, counter=1)` dat twee integers `number` en `counter` accepteert. De functie verzamelt alle delers van het gegeven `number` en geeft deze allemaal terug in een lijst. De `counter` start automatisch op 1 en kan gebruikt worden om de delers van `number` te vinden.  "
   ]
  },
  {
   "attachments": {},
   "cell_type": "markdown",
   "metadata": {},
   "source": [
    "Voorbeelden\n",
    "```python\n",
    "fact(24) = [1, 2, 3, 4, 6, 8, 12, 24]\n",
    "fact(15) = [1, 3, ,5, 15]\n",
    "```"
   ]
  },
  {
   "attachments": {},
   "cell_type": "markdown",
   "metadata": {},
   "source": [
    "b. Schrijf de functie `ggd(a, b)` dat twee integers `a` en `b` ontvangt en de ggd teruggeeft. "
   ]
  },
  {
   "attachments": {},
   "cell_type": "markdown",
   "metadata": {},
   "source": [
    "**Tips:**\n",
    "1. Gebruik de `fact` functie om de delers van beide getallen te vinden\n",
    "2. Gebruik de `intersect` functie om alle gemeenschappelijke delers te vinden, aka, alle delers die in beide lijsten zitten.  \n",
    "3. Geeft de hoogste waarde van de intersect lijst terug. "
   ]
  },
  {
   "attachments": {},
   "cell_type": "markdown",
   "metadata": {},
   "source": [
    "c. Een andere aanpak voor het vinden van de ggd is de het euclides algoritme. "
   ]
  },
  {
   "attachments": {},
   "cell_type": "markdown",
   "metadata": {},
   "source": [
    "1.\tNoem het grootste van de beide getallen m, het andere n.\n",
    "2.\tr = m % n\n",
    "3.\tWanneer r gelijk is aan 0, geef n terug. \n",
    "4.\tZo niet, herhaal dan het algoritme met n en r.\n"
   ]
  },
  {
   "attachments": {},
   "cell_type": "markdown",
   "metadata": {},
   "source": [
    "ggd van 900 en 1140  \n",
    "\n",
    "1140 % 900 = 240  \n",
    "900 % 240 = 180  \n",
    "240 % 180 = 60  \n",
    "180 % 60 = 0  \n",
    "\n",
    "ggd is 60.  \n"
   ]
  },
  {
   "attachments": {},
   "cell_type": "markdown",
   "metadata": {},
   "source": [
    "Schrijf de functie `euclides(a, b)` dat twee integers `a` en `b` accepteert en via het euclides algoritme de ggd berekent en teruggeeft.  "
   ]
  },
  {
   "attachments": {},
   "cell_type": "markdown",
   "metadata": {},
   "source": [
    "d. Schrijf in een comment onderaan het bestand welke methode jij beter vindt en waarom. "
   ]
  }
 ],
 "metadata": {
  "kernelspec": {
   "display_name": "Python 3 (ipykernel)",
   "language": "python",
   "name": "python3"
  },
  "language_info": {
   "codemirror_mode": {
    "name": "ipython",
    "version": 3
   },
   "file_extension": ".py",
   "mimetype": "text/x-python",
   "name": "python",
   "nbconvert_exporter": "python",
   "pygments_lexer": "ipython3",
   "version": "3.10.6"
  }
 },
 "nbformat": 4,
 "nbformat_minor": 4
}
