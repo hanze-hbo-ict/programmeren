{
 "cells": [
  {
   "attachments": {},
   "cell_type": "markdown",
   "metadata": {},
   "source": [
    "| Naam         | Beschrijving                                                   |\n",
    "|--------------|----------------------------------------------------------------|\n",
    "| Onderwerp    | turtles                                                        |\n",
    "| Leerdoel     | Introducie recursie                                            |\n",
    "| Bestandsnaam | `wk4ba1.txt`                                                   |\n",
    "| Inleveren    | Lever jouw bestand met de juiste bestandsnaam in op GradeScope |\n",
    "\n",
    "\n",
    "Onderstaande opdrachten gaan allemaal over het tekenen met turtle."
   ]
  },
  {
   "attachments": {},
   "cell_type": "markdown",
   "metadata": {},
   "source": [
    "# Opdracht 1"
   ]
  },
  {
   "attachments": {},
   "cell_type": "markdown",
   "metadata": {},
   "source": [
    "a. Kopieer onderstaande code over naar een bestand genaamd 'wk4ba1.py'. Probeer te voorspellen wat het programma zal tekenen."
   ]
  },
  {
   "attachments": {},
   "cell_type": "markdown",
   "metadata": {},
   "source": [
    "```python\n",
    "import time\n",
    "from turtle import *\n",
    "from random import *\n",
    "\n",
    "def main():\n",
    "    \"\"\"\n",
    "    Main functie. Roept de andere functies op om hun werk te doen. \n",
    "    \"\"\"\n",
    "    speed(10)\n",
    "    drawStar(3, 150)\n",
    "    done() # tell turtle the drawing is done.\n",
    "\n",
    "def testing():\n",
    "    \"\"\"\n",
    "    Test functie. Hier staan alle assertions om de functies te testen.\n",
    "    \"\"\"\n",
    "\n",
    "def drawStar(n, distance):\n",
    "    forward(distance)\n",
    "    back(distance)\n",
    "    right(72)\n",
    "\n",
    "    forward(distance)\n",
    "    back(distance)\n",
    "    right(72)\n",
    "\n",
    "    forward(distance)\n",
    "    back(distance)\n",
    "    right(72)\n",
    "\n",
    "    forward(distance)\n",
    "    back(distance)\n",
    "    right(72)\n",
    "\n",
    "    forward(distance)\n",
    "    back(distance)\n",
    "    right(72)\n",
    "\n",
    "main()\n",
    "testing()\n",
    "```"
   ]
  },
  {
   "attachments": {},
   "cell_type": "markdown",
   "metadata": {},
   "source": [
    "b. Pas de functie drawStaw. Aan elke punt van de ster wordt er een nieuwe ster getekend dat 3 keer zo klein is als de vorige ster."
   ]
  },
  {
   "attachments": {},
   "cell_type": "markdown",
   "metadata": {},
   "source": [
    "Voorbeeld output van `drawStar(3, 150)`"
   ]
  },
  {
   "attachments": {},
   "cell_type": "markdown",
   "metadata": {},
   "source": [
    "![turtle line of squares](images/4/stars.png)"
   ]
  },
  {
   "attachments": {},
   "cell_type": "markdown",
   "metadata": {},
   "source": [
    "# Opdracht 2"
   ]
  },
  {
   "attachments": {},
   "cell_type": "markdown",
   "metadata": {},
   "source": [
    "Schrijf de functie `squares(n, distance, steps=0):` te schrijven dat onderstaande vierkante fractal maakt. n geeft aan hoe diep de fractal moet gaan. Distance geeft de grootte van het middelste vierkant. Steps houdt bij hoe vaak de functie al is aangeroepen. "
   ]
  },
  {
   "attachments": {},
   "cell_type": "markdown",
   "metadata": {},
   "source": [
    "![turtle line of squares](images/4/squares.png)"
   ]
  },
  {
   "attachments": {},
   "cell_type": "markdown",
   "metadata": {},
   "source": [
    "Daan heeft een plan opgesteld om dit voor elkaar te krijgen. "
   ]
  },
  {
   "attachments": {},
   "cell_type": "markdown",
   "metadata": {},
   "source": [
    "```python\n",
    "def squares(n, distance, steps=0):\n",
    "    #als n gelijk is aan 0 dan\n",
    "        # als steps even is, dan moet er 90 graden naar links gedraaid worden\n",
    "        # als steps oneven is, dan moet er 90 graden naar rechts gedraaid worden. \n",
    "        # stop met tekenen\n",
    "    \n",
    "    # ga vooruit\n",
    "    # roep de functie opnieuw op met aangepaste variabelen\n",
    "    # ga vooruit\n",
    "    # roep de functie opnieuw op met aangepaste variabelen\n",
    "    # ga vooruit\n",
    "    # roep de functie opnieuw op met aangepaste variabelen\n",
    "    # ga vooruit\n"
   ]
  },
  {
   "attachments": {},
   "cell_type": "markdown",
   "metadata": {},
   "source": [
    "Vertaal Daan's plan tot een werkende functie. "
   ]
  }
 ],
 "metadata": {
  "kernelspec": {
   "display_name": "Python 3",
   "language": "python",
   "name": "python3"
  },
  "language_info": {
   "codemirror_mode": {
    "name": "ipython",
    "version": 3
   },
   "file_extension": ".py",
   "mimetype": "text/x-python",
   "name": "python",
   "nbconvert_exporter": "python",
   "pygments_lexer": "ipython3",
   "version": "3.11.2 (tags/v3.11.2:878ead1, Feb  7 2023, 16:38:35) [MSC v.1934 64 bit (AMD64)]"
  },
  "vscode": {
   "interpreter": {
    "hash": "7321d1f7eabf315803f0fbeb0be0427ff6d045140e09c9efe7edcc325df00e23"
   }
  }
 },
 "nbformat": 4,
 "nbformat_minor": 4
}
