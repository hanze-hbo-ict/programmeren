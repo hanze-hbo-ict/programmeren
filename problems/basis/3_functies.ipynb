{
 "cells": [
  {
   "attachments": {},
   "cell_type": "markdown",
   "metadata": {},
   "source": [
    "| Naam         | Beschrijving                                                   |\n",
    "|--------------|----------------------------------------------------------------|\n",
    "| Onderwerp    | turtles                                                        |\n",
    "| Leerdoel     | functies schrijven en testen                                   |\n",
    "| Bestandsnaam | `wk3ba2.txt`                                                   |\n",
    "| Inleveren    | Lever jouw bestand met de juiste bestandsnaam in op GradeScope |\n"
   ]
  },
  {
   "attachments": {},
   "cell_type": "markdown",
   "metadata": {},
   "source": [
    "Deze opgave bestaat uit het maken van verschillende functies. Vergeet niet elke functie te testen met assertions en vergeet de docstrings niet. "
   ]
  },
  {
   "attachments": {},
   "cell_type": "markdown",
   "metadata": {},
   "source": [
    "# Opdracht 1"
   ]
  },
  {
   "attachments": {},
   "cell_type": "markdown",
   "metadata": {},
   "source": [
    "a. Kopieer onderstaande code over naar een bestand genaamd 'wk3ba2.py'."
   ]
  },
  {
   "attachments": {},
   "cell_type": "markdown",
   "metadata": {},
   "source": [
    "```python\n",
    "import time\n",
    "from random import *\n",
    "\n",
    "def main():\n",
    "    \"\"\"\n",
    "    Main functie. Roept de andere functies op om hun werk te doen. \n",
    "    \"\"\"\n",
    "\n",
    "def testing():\n",
    "    \"\"\"\n",
    "    Test functie. Hier staan alle assertions om de functies te testen.\n",
    "    \"\"\"\n",
    "\n",
    "main()\n",
    "testing()\n",
    "```"
   ]
  },
  {
   "attachments": {},
   "cell_type": "markdown",
   "metadata": {},
   "source": [
    "b. Schrijf de functie `tpl(x)` die een getal als argument accepteert en drie keer de waarde van dat argument teruggeeft. "
   ]
  },
  {
   "attachments": {},
   "cell_type": "markdown",
   "metadata": {},
   "source": [
    "```ipython\n",
    "In : tpl(4)\n",
    "Out: 64\n",
    "\n",
    "In: tpl(\"hoi\")\n",
    "Out: \"hoihoihoi\"\n",
    "```"
   ]
  },
  {
   "attachments": {},
   "cell_type": "markdown",
   "metadata": {},
   "source": [
    "# Opdracht 2\n",
    "a. Schrijf de functie `minTwo(a, b)` dat twee getallen als argument accepteert en de kleinste waarde teruggeeft."
   ]
  },
  {
   "attachments": {},
   "cell_type": "markdown",
   "metadata": {},
   "source": [
    "b. Schrijf de functie `minThree(a, b, c)` dat drie getallen als argument accepteert en de kleinste waarde teruggeeft."
   ]
  },
  {
   "attachments": {},
   "cell_type": "markdown",
   "metadata": {},
   "source": [
    "# Opdracht 3\n",
    "\n",
    "Schrijf de functie `absolute(x,y)` dat twee getallen accepteert en de afstand berekent tussen de twee getallen. "
   ]
  },
  {
   "attachments": {},
   "cell_type": "markdown",
   "metadata": {},
   "source": [
    "```ipython\n",
    "In : absolute(3, 10)\n",
    "Out: 7\n",
    "\n",
    "In: absolute(-3, 10)\n",
    "Out: 13\n",
    "```"
   ]
  },
  {
   "attachments": {},
   "cell_type": "markdown",
   "metadata": {},
   "source": [
    "Denk aan Probeer, Plan, Programmeer!  Bedenk hoe je dit probleem oplost op papier voordat je gaat programmeren. "
   ]
  },
  {
   "attachments": {},
   "cell_type": "markdown",
   "metadata": {},
   "source": [
    "# Opdracht 4"
   ]
  },
  {
   "attachments": {},
   "cell_type": "markdown",
   "metadata": {},
   "source": [
    "Schrijf de functie `trap(x)` dat een getal accepteert en een omgekeerde # trap tekent. Maak gebruik van recursie"
   ]
  },
  {
   "attachments": {},
   "cell_type": "markdown",
   "metadata": {},
   "source": [
    "```ipython\n",
    "In : trap(3)\n",
    "Out: \n",
    "###\n",
    "##\n",
    "#\n",
    "\n",
    "In: trap(5)\n",
    "Out: \n",
    "#####\n",
    "####\n",
    "###\n",
    "##\n",
    "#\n",
    "```"
   ]
  },
  {
   "attachments": {},
   "cell_type": "markdown",
   "metadata": {},
   "source": [
    "Hint: `3 * '#' = '###'`"
   ]
  },
  {
   "attachments": {},
   "cell_type": "markdown",
   "metadata": {},
   "source": [
    "# Opdracht 5"
   ]
  },
  {
   "attachments": {},
   "cell_type": "markdown",
   "metadata": {},
   "source": [
    "a. Schrijf de functie `lines(x, space)` dat twee #-lijnen tekent van x regels hoog en space geeft aan hoeveel spaties tussen de lijnen liggen.  "
   ]
  },
  {
   "attachments": {},
   "cell_type": "markdown",
   "metadata": {},
   "source": [
    "```ipython\n",
    "In : lines(3, 3)\n",
    "Out: \n",
    "#   #\n",
    "#   #\n",
    "#   #\n",
    "\n",
    "In: lines(2, 5)\n",
    "Out: \n",
    "#     #\n",
    "#     #\n",
    "```"
   ]
  },
  {
   "attachments": {},
   "cell_type": "markdown",
   "metadata": {},
   "source": [
    "b. Schrijf een functie `printSquare(x)` dat een getal accepteert en een # vierkant van grootte x print. Maak gebruik van de functie `lines`. \n"
   ]
  },
  {
   "attachments": {},
   "cell_type": "markdown",
   "metadata": {},
   "source": [
    "```ipython\n",
    "In : printSqaure(3, 3)\n",
    "Out: \n",
    "###\n",
    "# #\n",
    "###\n",
    "\n",
    "In: lines(5)\n",
    "Out: \n",
    "#####\n",
    "#   #\n",
    "#   #\n",
    "#   #\n",
    "#####\n",
    "```"
   ]
  },
  {
   "attachments": {},
   "cell_type": "markdown",
   "metadata": {},
   "source": [
    "Probeer, Plan, Programmeer!"
   ]
  }
 ],
 "metadata": {
  "kernelspec": {
   "display_name": "Python 3 (ipykernel)",
   "language": "python",
   "name": "python3"
  },
  "language_info": {
   "codemirror_mode": {
    "name": "ipython",
    "version": 3
   },
   "file_extension": ".py",
   "mimetype": "text/x-python",
   "name": "python",
   "nbconvert_exporter": "python",
   "pygments_lexer": "ipython3",
   "version": "3.10.6"
  }
 },
 "nbformat": 4,
 "nbformat_minor": 4
}
