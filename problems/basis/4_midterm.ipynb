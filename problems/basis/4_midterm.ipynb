{
 "cells": [
  {
   "attachments": {},
   "cell_type": "markdown",
   "metadata": {},
   "source": [
    "| Naam         | Beschrijving                                                   |\n",
    "|--------------|----------------------------------------------------------------|\n",
    "| Onderwerp    | midterm                                                        |\n",
    "| Leerdoel     | voorbeeld midterm                                   |\n",
    "| Bestandsnaam | `wk4ba2.txt`                                                   |\n",
    "| Inleveren    | Lever jouw bestand met de juiste bestandsnaam in op GradeScope |\n"
   ]
  },
  {
   "attachments": {},
   "cell_type": "markdown",
   "metadata": {},
   "source": [
    "### 1.\tWie liegt?   \n",
    "Jeff zegt: “Alice liegt of Jeff spreekt de waarheid”  \n",
    "Bob zegt: “Jeff of Alice spreekt de waarheid”  \n",
    "Alice zegt: “Karen liegt en Alice en Jeff spreken de waarheid”  \n",
    "Karen zegt: “Bob en Alice spreken de waarheid”  \n"
   ]
  },
  {
   "attachments": {},
   "cell_type": "markdown",
   "metadata": {},
   "source": [
    "a.\tJeff en Bob  \n",
    "b.\tBob en Alice    \n",
    "c.\tAlice en Karen  \n",
    "d.\tKaren en Jeff  \n"
   ]
  },
  {
   "attachments": {},
   "cell_type": "markdown",
   "metadata": {},
   "source": [
    "### 2.\tWelke waarde heeft x aan het einde van dit programma?"
   ]
  },
  {
   "attachments": {},
   "cell_type": "markdown",
   "metadata": {},
   "source": [
    "```python\n",
    "max_punten = 100\n",
    "score = 30\n",
    "x = score/max_punten * 9 + 1\n",
    "score = 50\n",
    "\n",
    "```"
   ]
  },
  {
   "attachments": {},
   "cell_type": "markdown",
   "metadata": {},
   "source": [
    "a.\t50  \n",
    "b.\t2.7  \n",
    "c.\t5.5  \n",
    "d.\t0.3  \n"
   ]
  },
  {
   "attachments": {},
   "cell_type": "markdown",
   "metadata": {},
   "source": [
    " ### 3.\tWelke waarde heeft x aan het einde van dit programma?"
   ]
  },
  {
   "attachments": {},
   "cell_type": "markdown",
   "metadata": {},
   "source": [
    "```python\n",
    "x = 4\n",
    "if x > 2 :\n",
    "    x = x / 4\n",
    "elif x < 2 :\n",
    "    x = x + 3\n",
    "else :\n",
    "    x = x * 3\n",
    "```"
   ]
  },
  {
   "attachments": {},
   "cell_type": "markdown",
   "metadata": {},
   "source": [
    "a.\t4  \n",
    "b.\t12  \n",
    "c.\t1  \n",
    "d.\t7  \n"
   ]
  },
  {
   "attachments": {},
   "cell_type": "markdown",
   "metadata": {},
   "source": [
    "### 4.\tWelke waarde heeft x aan het einde van dit programma?"
   ]
  },
  {
   "attachments": {},
   "cell_type": "markdown",
   "metadata": {},
   "source": [
    "```python\n",
    "x = 8\n",
    "if x > 5 :\n",
    "    x = x - 4\n",
    "if x <= 4 :\n",
    "    x = x + 3\n",
    "elif x == 7 or x == 4 :\n",
    "    x = x * 2\n",
    "```"
   ]
  },
  {
   "attachments": {},
   "cell_type": "markdown",
   "metadata": {},
   "source": [
    "a.\t14  \n",
    "b.\t7  \n",
    "c.\t4  \n",
    "d.\t8  \n"
   ]
  },
  {
   "attachments": {},
   "cell_type": "markdown",
   "metadata": {},
   "source": [
    " ### 5.\tWat print dit programma?"
   ]
  },
  {
   "attachments": {},
   "cell_type": "markdown",
   "metadata": {},
   "source": [
    "```python\n",
    "x = \"Emily\"\n",
    "\n",
    "if x < \"E\":\n",
    "    print (\"groep 1\")\n",
    "elif x < \"M\":\n",
    "    print (\"groep 2\")\n",
    "elif x < \"Z\":\n",
    "    print (\"groep 3\")\n",
    "else:\n",
    "    print (\"groep 4\")\n",
    "\n",
    "```"
   ]
  },
  {
   "attachments": {},
   "cell_type": "markdown",
   "metadata": {},
   "source": [
    "a.\t‘Groep 1’  \n",
    "b.\t‘Groep 2’  \n",
    "c.\t‘Groep 3’  \n",
    "d.\t‘Groep 4’  \n"
   ]
  },
  {
   "attachments": {},
   "cell_type": "markdown",
   "metadata": {},
   "source": [
    "### 6.\tWat print dit programma?"
   ]
  },
  {
   "attachments": {},
   "cell_type": "markdown",
   "metadata": {},
   "source": [
    "```python\n",
    "woord = \"Hanzehogeschool\"\n",
    "print(woord[-1])\n",
    "```"
   ]
  },
  {
   "attachments": {},
   "cell_type": "markdown",
   "metadata": {},
   "source": [
    "a.\t‘H’  \n",
    "b.\t‘a’  \n",
    "c.\t‘l’   \n",
    "d.\t‘o’  \n"
   ]
  },
  {
   "attachments": {},
   "cell_type": "markdown",
   "metadata": {},
   "source": [
    "### 7.\tWat print dit programma?"
   ]
  },
  {
   "attachments": {},
   "cell_type": "markdown",
   "metadata": {},
   "source": [
    "```python\n",
    "woord = \"Hanzehogeschool\"\n",
    "print(woord[3:6])\n",
    "```"
   ]
  },
  {
   "attachments": {},
   "cell_type": "markdown",
   "metadata": {},
   "source": [
    "a.\t‘’nze’  \n",
    "b.\t‘nzeh’  \n",
    "c.\t‘zeh’  \n",
    "d.\t‘zeho’  \n"
   ]
  },
  {
   "attachments": {},
   "cell_type": "markdown",
   "metadata": {},
   "source": [
    "### 8.\tWat print dit programma?"
   ]
  },
  {
   "attachments": {},
   "cell_type": "markdown",
   "metadata": {},
   "source": [
    "```python\n",
    "woord = \"Hanzehogeschool\"\n",
    "print(woord[-1:1:-2])\n",
    "```\n"
   ]
  },
  {
   "attachments": {},
   "cell_type": "markdown",
   "metadata": {},
   "source": [
    "a.\t‘loceoen’  \n",
    "b.\t‘azhgsho’  \n",
    "c.\t‘Hneoecol’  \n",
    "d.\t‘’  \n"
   ]
  },
  {
   "attachments": {},
   "cell_type": "markdown",
   "metadata": {},
   "source": [
    "### 9.\tWat print dit programma?"
   ]
  },
  {
   "attachments": {},
   "cell_type": "markdown",
   "metadata": {},
   "source": [
    "```python\n",
    "print(function(5, 10))\n",
    "\n",
    "def function(x, y):\n",
    "    if x <= y:\n",
    "        return x\n",
    "```"
   ]
  },
  {
   "attachments": {},
   "cell_type": "markdown",
   "metadata": {},
   "source": [
    "a.\t5  \n",
    "b.\t10  \n",
    "c.\tNone  \n",
    "d.\tprogramma werkt niet  \n"
   ]
  },
  {
   "attachments": {},
   "cell_type": "markdown",
   "metadata": {},
   "source": [
    "### 10. Wat print dit programma?"
   ]
  },
  {
   "attachments": {},
   "cell_type": "markdown",
   "metadata": {},
   "source": [
    "```python\n",
    "def function(x, y):\n",
    "    if x > y:\n",
    "        return x\n",
    "    return y\n",
    "\n",
    "print(function(5, 10))\n",
    "```"
   ]
  },
  {
   "attachments": {},
   "cell_type": "markdown",
   "metadata": {},
   "source": [
    "a.\t5  \n",
    "b.\t10  \n",
    "c.\tNone  \n",
    "d.\tprogramma werkt niet  \n"
   ]
  },
  {
   "attachments": {},
   "cell_type": "markdown",
   "metadata": {},
   "source": [
    "### 11.\tWat print dit programma?"
   ]
  },
  {
   "attachments": {},
   "cell_type": "markdown",
   "metadata": {},
   "source": [
    "```python\n",
    "def main():\n",
    "    temp = function(10, 5)\n",
    "    print(temp)\n",
    "    \n",
    "\n",
    "def function(x, y):\n",
    "    if x < y:\n",
    "        return x\n",
    "\n",
    "main()\n",
    "```"
   ]
  },
  {
   "attachments": {},
   "cell_type": "markdown",
   "metadata": {},
   "source": [
    "a.\t5  \n",
    "b.\t10  \n",
    "c.\tNone  \n",
    "d.\tprogramma werkt niet  \n"
   ]
  },
  {
   "attachments": {},
   "cell_type": "markdown",
   "metadata": {},
   "source": [
    "### 12.\tWat print dit programma?"
   ]
  },
  {
   "attachments": {},
   "cell_type": "markdown",
   "metadata": {},
   "source": [
    "```python\n",
    "def main():\n",
    "    temp = function1(10, 5)\n",
    "    print(temp)\n",
    "    \n",
    "\n",
    "def function1(x, y):\n",
    "    if x < y:\n",
    "        return function2(x)\n",
    "    return function2(y)\n",
    "\n",
    "def function2(x):\n",
    "    return x * x\n",
    "\n",
    "main()\n",
    "```"
   ]
  },
  {
   "attachments": {},
   "cell_type": "markdown",
   "metadata": {},
   "source": [
    "a.\t5  \n",
    "b.\t10  \n",
    "c.\t25  \n",
    "d.\t100  \n",
    "e.\tNone  \n",
    "f.\tprogramma werkt niet  \n"
   ]
  },
  {
   "attachments": {},
   "cell_type": "markdown",
   "metadata": {},
   "source": [
    "### 13.\tWat print dit programma?"
   ]
  },
  {
   "attachments": {},
   "cell_type": "markdown",
   "metadata": {},
   "source": [
    "```python\n",
    "def main():\n",
    "    temp = function1(5, 12)\n",
    "    print(temp)\n",
    "    \n",
    "\n",
    "def function1(x, y):\n",
    "    if x % 2 == 0:\n",
    "        x = x/2\n",
    "    return x\n",
    "    if x < y:\n",
    "        return x\n",
    "    return y\n",
    "\n",
    "main()\n",
    "```"
   ]
  },
  {
   "attachments": {},
   "cell_type": "markdown",
   "metadata": {},
   "source": [
    "a.\t5  \n",
    "b.\t12  \n",
    "c.\tNone  \n",
    "d.\tProgramma werkt niet  \n"
   ]
  },
  {
   "attachments": {},
   "cell_type": "markdown",
   "metadata": {},
   "source": [
    "### 14.\tHoe vaak print dit programma “hoi”  ?"
   ]
  },
  {
   "attachments": {},
   "cell_type": "markdown",
   "metadata": {},
   "source": [
    "```python\n",
    "def function(y):\n",
    "    \n",
    "    print(\"hoi\")\n",
    "\n",
    "    if y == 0:\n",
    "        return\n",
    "    \n",
    "    function(y-1)\n",
    "\n",
    "function(4)\n",
    "```"
   ]
  },
  {
   "attachments": {},
   "cell_type": "markdown",
   "metadata": {},
   "source": [
    "a.\t3  \n",
    "b.\t4  \n",
    "c.\t5  \n",
    "d.\tProgramma werkt niet  \n"
   ]
  },
  {
   "attachments": {},
   "cell_type": "markdown",
   "metadata": {},
   "source": [
    "### 15.\tWat print dit programma?"
   ]
  },
  {
   "attachments": {},
   "cell_type": "markdown",
   "metadata": {},
   "source": [
    "```python\n",
    "def function(x):\n",
    "    \n",
    "    if x == 0:\n",
    "        return x\n",
    "    print(function(x-1))\n",
    "    return x\n",
    "    \n",
    "function(5)\n",
    "```"
   ]
  },
  {
   "attachments": {},
   "cell_type": "markdown",
   "metadata": {},
   "source": [
    "a. 1,2,3,4,5  \n",
    "b. 0,1,2,3,4  \n",
    "c. 5,4,3,2,1  \n",
    "d. 4,3,2,1,0  "
   ]
  },
  {
   "attachments": {},
   "cell_type": "markdown",
   "metadata": {},
   "source": [
    "### 16.\tWat print dit programma?"
   ]
  },
  {
   "attachments": {},
   "cell_type": "markdown",
   "metadata": {},
   "source": [
    "```python\n",
    "def function(x, y):\n",
    "\n",
    "    print(x[y])\n",
    "\n",
    "    if y == 0:\n",
    "        return\n",
    "    \n",
    "    function(x, y-1)\n",
    "    print(y)\n",
    "\n",
    "\n",
    "function(\"Hanze\", 4)\n",
    "\n",
    "```"
   ]
  },
  {
   "attachments": {},
   "cell_type": "markdown",
   "metadata": {},
   "source": [
    "a. H, 0, a, 1, n, 2, z, 3, e, 4  \n",
    "b. H, a, n, z, e, 4, 3, 2, 1, 0  \n",
    "c, e, z, n, a, H, 4, 3, 2, 1, 0  \n",
    "d. e, z, n, a, H, 4, 3, 2, 1  \n",
    "e. H, a, n, z, e, 4, 3, 2, 1  \n",
    "f. e, 4, z, 3, n, 2, a, 1, H    "
   ]
  },
  {
   "attachments": {},
   "cell_type": "markdown",
   "metadata": {},
   "source": [
    "### 17.\tWat print dit programma?"
   ]
  },
  {
   "attachments": {},
   "cell_type": "markdown",
   "metadata": {},
   "source": [
    "```python\n",
    "\n",
    "def function(x):\n",
    "    if len(x) == 0:\n",
    "        return\n",
    "    function(x[:-1])    \n",
    "    print(x[-1])\n",
    "\n",
    "function(\"Hanze\")\n",
    "\n"
   ]
  },
  {
   "attachments": {},
   "cell_type": "markdown",
   "metadata": {},
   "source": [
    "a. H, a, n, z, e  \n",
    "b. e, z, n, a, H  \n",
    "c. H, H, H, H, H  \n",
    "d. H, a, n, z  "
   ]
  },
  {
   "attachments": {},
   "cell_type": "markdown",
   "metadata": {},
   "source": [
    "### 18.\tWelke error geeft dit programma?\n"
   ]
  },
  {
   "attachments": {},
   "cell_type": "markdown",
   "metadata": {},
   "source": [
    "```python\n",
    "def function(x):\n",
    "\n",
    "    print(x[0])\n",
    "\n",
    "    if len(x) == 0:\n",
    "        return\n",
    "    \n",
    "    function(x[:-1])\n",
    "\n",
    "function(\"Hanze\")\n",
    "```"
   ]
  },
  {
   "attachments": {},
   "cell_type": "markdown",
   "metadata": {},
   "source": [
    "a.\tIndexError  \n",
    "b.\tRecursionError  \n",
    "c.\tTypeError  \n",
    "d.\tSyntaxError  \n"
   ]
  },
  {
   "attachments": {},
   "cell_type": "markdown",
   "metadata": {},
   "source": [
    "### 19.\tGegeven de volgende regels aan code. "
   ]
  },
  {
   "attachments": {},
   "cell_type": "markdown",
   "metadata": {},
   "source": [
    "```python\n",
    "1.\tfunction([1,2,3,4,5], 4)\n",
    "2.\tdef function(x,y):\n",
    "3.\t    function(x[:-1], y-1)    \n",
    "4.\t    if y == 0:\n",
    "5.\t    print(x[0:y])\n",
    "6.\t        return\n",
    "```"
   ]
  },
  {
   "attachments": {},
   "cell_type": "markdown",
   "metadata": {},
   "source": [
    "In welke volgorde moeten deze regels staan om de volgende output te krijgen:  \n",
    "[1, 2, 3, 4]  \n",
    "[1, 2, 3]  \n",
    "[1, 2]  \n",
    "[1]  \n"
   ]
  },
  {
   "attachments": {},
   "cell_type": "markdown",
   "metadata": {},
   "source": [
    "a.\t1, 2, 5, 4, 6, 3  \n",
    "b.\t2, 4, 5, 6, 3, 1  \n",
    "c.\t1, 2, 4, 6, 5, 3  \n",
    "d.\t2, 5, 4, 3, 6, 1  \n"
   ]
  },
  {
   "attachments": {},
   "cell_type": "markdown",
   "metadata": {},
   "source": [
    "### 20.\tGegeven de volgende regels aan code. "
   ]
  },
  {
   "attachments": {},
   "cell_type": "markdown",
   "metadata": {},
   "source": [
    "```python\n",
    "1.\tdef function(x,y,z):\n",
    "2.\t    if y == z:\n",
    "3.\t        return\n",
    "4.\t    \n",
    "5.\t    function(x, y+1, z)    \n",
    "6.\t\n",
    "7.\tfunction(\"x\", 2, 5)\n"
   ]
  },
  {
   "attachments": {},
   "cell_type": "markdown",
   "metadata": {},
   "source": [
    "Welke printstatement moet er op regel 4 komen om de volgende output te generen ?\n",
    "```ipython\n",
    "   xxxx   \n",
    "  xxxxxx  \n",
    " xxxxxxxx\n",
    "```"
   ]
  },
  {
   "attachments": {},
   "cell_type": "markdown",
   "metadata": {},
   "source": [
    "```python\n",
    "a.\tprint(y*' ' + x*y)\n",
    "b.\tprint(y*' ' + x*y*2)\n",
    "c.\tprint((z-y)*' ' + x*y*2)\n",
    "d.\tprint((z-y)*' ' + x*y)\n",
    "```"
   ]
  }
 ],
 "metadata": {
  "kernelspec": {
   "display_name": "Python 3 (ipykernel)",
   "language": "python",
   "name": "python3"
  },
  "language_info": {
   "codemirror_mode": {
    "name": "ipython",
    "version": 3
   },
   "file_extension": ".py",
   "mimetype": "text/x-python",
   "name": "python",
   "nbconvert_exporter": "python",
   "pygments_lexer": "ipython3",
   "version": "3.10.6"
  }
 },
 "nbformat": 4,
 "nbformat_minor": 4
}
