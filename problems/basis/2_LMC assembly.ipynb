{
 "cells": [
  {
   "attachments": {},
   "cell_type": "markdown",
   "metadata": {},
   "source": [
    "| Naam         | Beschrijving                                                   |\n",
    "|--------------|----------------------------------------------------------------|\n",
    "| Onderwerp    | LMC assembly                                                   |\n",
    "| Leerdoel     | Kennismaking Assembly                                          |\n",
    "| Bestandsnaam | `wk2ba4.txt`                                                   |\n",
    "| Inleveren    | Lever jouw bestand met de juiste bestandsnaam in op GradeScope |"
   ]
  },
  {
   "attachments": {},
   "cell_type": "markdown",
   "metadata": {
    "slideshow": {
     "slide_type": "slide"
    }
   },
   "source": [
    "# Little man computer\n",
    "\n",
    "Deze opgave bestaat uit 5 opdrachten die gemaakt kunnen worden met behulp van het LMC model :https://peterhigginson.co.uk/lmc/\n"
   ]
  },
  {
   "attachments": {},
   "cell_type": "markdown",
   "metadata": {},
   "source": [
    "## Opdracht 1.  \n",
    "\n",
    "a. Gegeven onderstaande tabel. In de eerste kolom staan de instructies. In de tweede kolom wordt de accumulator bijgehouden. In de derde kolom wordt veranderingen in het geheugen genoteerd. De laatste kolom wordt input en output aangegeven. Maak de tabel af"
   ]
  },
  {
   "attachments": {},
   "cell_type": "markdown",
   "metadata": {},
   "source": [
    "|instructie| Accumulator|Geheugen|Input/Output|\n",
    "|---|---|---|---|\n",
    "|inp   |1           |           |Input is 1     |\n",
    "|sto 99|1           |#99 = 1    |               |\n",
    "|inp   |1           |           |input is 1     |\n",
    "|sto 98|1           |#98 = 1    |               |\n",
    "|add 99|1 + 1 = 2   |           |               |\n",
    "|out   |2           |           |Output is 2    |\n",
    "|sto 97|2           |#97 = 2    |               |\n",
    "|add 98|2 + 1 = 3   |           |               |\n",
    "|out   ||||\n",
    "|sto 96|||| \n",
    "|add 97|||| \n",
    "|out   |||| \n",
    "|sto 95|||| \n",
    "|add 96|||| \n",
    "|out   |||| \n",
    "|sto 94|||| \n",
    "|add 95|||| \n",
    "|out   |||| "
   ]
  },
  {
   "attachments": {},
   "cell_type": "markdown",
   "metadata": {},
   "source": [
    "b. Wat is de volgende getal in deze reeks?"
   ]
  },
  {
   "attachments": {},
   "cell_type": "markdown",
   "metadata": {},
   "source": [
    "## Opdracht 2"
   ]
  },
  {
   "attachments": {},
   "cell_type": "markdown",
   "metadata": {},
   "source": [
    "Als we de reeks langer willen maken gaan we steeds meer geheugen gebruiken op de manier. Dit is niet erg efficiënt. Past het programma zo aan dat enkel en alleen de geheugen plekken 99 en 98 gebruikt worden. Maak een tabel zoals bij opdracht 1 om te laten zien hoe je programma werkt."
   ]
  },
  {
   "attachments": {},
   "cell_type": "markdown",
   "metadata": {},
   "source": [
    "## Opdracht 3\n",
    "\n",
    "Als we de reeks nog langer willen maken gaat het veel instructies kosten terwijl we eigenlijk steeds hetzelfde willen herhalen. Tel de twee voorgaande waardes in de lijst op om de nieuwe waarde uit te rekenen. We hebben dan drie geheugen plaatsen nodig: 97 voor de nieuwe waarde, 98 voor de waarde daarvoor en 99 voor de waarde die daar weer voorzit. Die waardes schuiven steeds door. Zodra er een nieuwe waarde berekend wordt, moet de waarde van 97 naar 98 en die van 98 naar 99. We moeten wel opletten om de volgorde. Als we eerst 97 naar 98 overschrijven kunnen we niet de originele waarde van 98 overschrijven naar 99. \n",
    "\n",
    "a.\tVul de tabel verder in. "
   ]
  },
  {
   "attachments": {},
   "cell_type": "markdown",
   "metadata": {},
   "source": [
    "||instructie| Accumulator|Geheugen|Input/Output|\n",
    "|--- |---|---|---|---|\n",
    "|00|inp   |1           |           |Input is 3     |\n",
    "|01|sto 99|1           |#99 = 3    |               |\n",
    "|02|inp   |1           |           |input is 5     |\n",
    "|03|sto 98|1           |#98 = 5    |               |\n",
    "|04|add 99||||\n",
    "|05|out   ||||\n",
    "|06|sto 97||||\n",
    "|07|lda 98||||\n",
    "|08|sto 99||||\n",
    "|09|lda 97||||\n",
    "|10|sto 98||||\n",
    "|11|add 99||||\n",
    "|12|out   ||||"
   ]
  },
  {
   "attachments": {},
   "cell_type": "markdown",
   "metadata": {},
   "source": [
    "De volgende stap is om een loop te gaan gebruiken zodat code herhaalt gaat worden. Om dat voor elkaar te krijgen kunnen we gebruik maken van een jump. Dat verteld de computer welke instructie de volgende stap is. \n",
    "\n",
    "b.\tVul de tabel verder in. Let op de jump opdracht en hoe de instructie nummer daarop reageert. "
   ]
  },
  {
   "attachments": {},
   "cell_type": "markdown",
   "metadata": {},
   "source": [
    "||instructie| Accumulator|Geheugen|Input/Output|\n",
    "|--- |---|---|---|---|\n",
    "|00|inp   |1           |           |Input is 3     |\n",
    "|01|sto 99|1           |#99 = 3    |               |\n",
    "|02|inp   |1           |           |input is 5     |\n",
    "|03|sto 98|1           |#98 = 5    |               |\n",
    "|04|add 99||||\n",
    "|05|out   ||||\n",
    "|06|sto 97||||\n",
    "|07|lda 98||||\n",
    "|08|sto 99||||\n",
    "|09|lda 97||||\n",
    "|10|sto 98||||\n",
    "|11|bra **04**||||\n",
    "|**04**|add 99||||\n",
    "|05|out   ||||\n",
    "|06|sto 97||||\n",
    "|07|lda 98||||\n",
    "|08|sto 99||||\n",
    "|09|lda 97||||\n",
    "|10|sto 98||||\n",
    "|11|bra 04||||"
   ]
  },
  {
   "attachments": {},
   "cell_type": "markdown",
   "metadata": {},
   "source": [
    "c.\tcopy & paste de onderstaande code op de website en druk op run om het programma te draaien. Waarom stopt het programma niet uit zichzelf?  (Je kan het programma laten stoppen met ‘STOP’)"
   ]
  },
  {
   "attachments": {},
   "cell_type": "markdown",
   "metadata": {},
   "source": [
    "inp  \n",
    "sto 99  \n",
    "inp  \n",
    "sto 98  \n",
    "add 99  \n",
    "out  \n",
    "sto 97  \n",
    "lda 98  \n",
    "sto 99  \n",
    "lda 97  \n",
    "sto 98  \n",
    "bra 04   \n",
    "hlt \n"
   ]
  },
  {
   "attachments": {},
   "cell_type": "markdown",
   "metadata": {},
   "source": [
    "## Opdracht 4\n",
    "\n",
    "Ons programma loopt nu nog oneindig door. We moeten aangeven aan de computer wanneer het programma moet stoppen. We hebben al gezien dat we met een BRA XX naar instructie XX kunnen springen. De instructie BRZ XX zal enkel naar een instructie jumpen als de waarde in de ALU gelijk is aan 0. Dat kunnen we gebruiken om naar het einde van het programma te springen als onze counter 0 heeft bereikt. "
   ]
  },
  {
   "attachments": {},
   "cell_type": "markdown",
   "metadata": {},
   "source": [
    "Gegeven de onderstaande code:\n",
    "\n",
    "\n",
    "00\tinp  \n",
    "01\tsto 99  \n",
    "02\tinp  \n",
    "03\tsto 98  \n",
    "04\tout  \n",
    "05\tbrz 08  \n",
    "06\tsub 99  \n",
    "07  bra 04  \n",
    "08  hlt  \n",
    "\t\n",
    "Maak onderstaande tabel af om te laten zien hoe de code werkt: \n"
   ]
  },
  {
   "attachments": {},
   "cell_type": "markdown",
   "metadata": {},
   "source": [
    "||instructie| Accumulator|Geheugen|Input/Output|\n",
    "|--- |---|---|---|---|\n",
    "|00|inp   |1           |           |Input is 1     |\n",
    "|01|sto 99|1           |#99 = 1    |               |\n",
    "|02|inp   |1           |           |input is 3     |\n",
    "|03|sto 98|1           |#98 = 3    |               |\n",
    "|04|out   ||||\n",
    "|05|brz 08||||\n",
    "|06|sub 99||||\n",
    "|07|bra 04||||\n",
    "|04|out||||\n",
    "||||||\n",
    "||||||\n",
    "||||||\n",
    "|etc|etc|etc|etc|etc|\n"
   ]
  },
  {
   "attachments": {},
   "cell_type": "markdown",
   "metadata": {},
   "source": [
    "## Opdracht 5\n",
    "\n",
    "We kunnen nu onze fibonaccie reeks programma afmaken. \n",
    "\n",
    "Schrijf een LMC programma dat vraagt om 4 inputs:   \n",
    "De twee start waardes.  \n",
    "De hoogte van de counter.  \n",
    "De stap grootte van de counter. (standaard is dat 1)\n",
    "\n",
    "Het programma geeft als ouput de gewenste hoeveel getallen van de fibonaccie reeks, aangegeven via de counter. "
   ]
  }
 ],
 "metadata": {
  "kernelspec": {
   "display_name": "Python 3 (ipykernel)",
   "language": "python",
   "name": "python3"
  },
  "language_info": {
   "codemirror_mode": {
    "name": "ipython",
    "version": 3
   },
   "file_extension": ".py",
   "mimetype": "text/x-python",
   "name": "python",
   "nbconvert_exporter": "python",
   "pygments_lexer": "ipython3",
   "version": "3.10.7"
  }
 },
 "nbformat": 4,
 "nbformat_minor": 4
}
