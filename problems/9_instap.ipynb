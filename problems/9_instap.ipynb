{
 "cells": [
  {
   "cell_type": "markdown",
   "metadata": {},
   "source": [
    "# instap"
   ]
  },
  {
   "cell_type": "markdown",
   "metadata": {},
   "source": [
    "## recursie"
   ]
  },
  {
   "cell_type": "markdown",
   "metadata": {},
   "source": [
    "### Opdracht 1\n",
    "\n",
    "```python\n",
    "def main():\n",
    "    \"\"\"\n",
    "    Main functie. Roept de andere functies op om hun werk te doen.\n",
    "    \"\"\"\n",
    "    x = blaat(10)\n",
    "\n",
    "def testing():\n",
    "    \"\"\"\n",
    "    Test functie. Hier staan alle assertions om de functies te testen.\n",
    "    \"\"\"\n",
    "\n",
    "def blaat(x):\n",
    "    print(x)\n",
    "    if x == 0:\n",
    "        return\n",
    "    blaat(x-1)\n",
    "\n",
    "main()\n",
    "testing()\n",
    "\n",
    "```\n",
    "\n",
    "a. Wat doet de functie blaat?  \n",
    "b. Wat is de ouput van dit programma?  \n",
    "c. Gebruik de [Python Tutor](http://www.pythontutor.com/visualize.html)  om je antwoord van a en b te controleren.  "
   ]
  },
  {
   "cell_type": "markdown",
   "metadata": {},
   "source": [
    "### Opdracht 2\n",
    "\n",
    "```python\n",
    "def main():\n",
    "    \"\"\"\n",
    "    Main functie. Roept de andere functies op om hun werk te doen.\n",
    "    \"\"\"\n",
    "    x = blaat(10, 2)\n",
    "\n",
    "def testing():\n",
    "    \"\"\"\n",
    "    Test functie. Hier staan alle assertions om de functies te testen.\n",
    "    \"\"\"\n",
    "\n",
    "def blaat(x, y):\n",
    "    print(x)\n",
    "    if x == 0:\n",
    "        return\n",
    "    blaat(x-y, y)\n",
    "\n",
    "main()\n",
    "testing()\n",
    "\n",
    "```\n",
    "\n",
    "a. Wat doet de functie blaat?  \n",
    "b. Wat is de ouput van dit programma?  \n",
    "c. Wat is de ouput als `blaat(10, 2)` wordt vervangen met `blaat(5,0)`  \n",
    "d. Gebruik de [Python Tutor](http://www.pythontutor.com/visualize.html)  om je antwoord van a, b en c te controleren.  \n"
   ]
  },
  {
   "cell_type": "markdown",
   "metadata": {},
   "source": [
    "### Opdracht 3\n",
    "```python\n",
    "def main():\n",
    "    \"\"\"\n",
    "    Main functie. Roept de andere functies op om hun werk te doen.\n",
    "    \"\"\"\n",
    "    x = blaat(10, 6)\n",
    "\n",
    "def testing():\n",
    "    \"\"\"\n",
    "    Test functie. Hier staan alle assertions om de functies te testen.\n",
    "    \"\"\"\n",
    "\n",
    "def blaat(x, y):\n",
    "    print(x)\n",
    "    if x >= 20:\n",
    "        return\n",
    "    blaat(x+y, y)\n",
    "\n",
    "main()\n",
    "testing()\n",
    "```\n",
    "\n",
    "\n",
    "a. Wat doet de functie blaat?  \n",
    "b. Wat is de ouput van dit programma?  \n",
    "c. Gebruik de [Python Tutor](http://www.pythontutor.com/visualize.html)  om je antwoord van a en b te controleren.  \n",
    "\n"
   ]
  }
 ],
 "metadata": {
  "language_info": {
   "name": "python"
  }
 },
 "nbformat": 4,
 "nbformat_minor": 2
}
