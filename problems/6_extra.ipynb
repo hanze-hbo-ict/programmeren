{
 "cells": [
  {
   "cell_type": "markdown",
   "metadata": {},
   "source": [
    "# Extra"
   ]
  },
  {
   "cell_type": "markdown",
   "metadata": {},
   "source": [
    "## Binair optellen"
   ]
  },
  {
   "cell_type": "markdown",
   "metadata": {},
   "source": [
    "Op de basisschool heb je vast geleerd hoe je grootte getallen bij elkaar kan optellen door ze onder elkaar te zetten. "
   ]
  },
  {
   "cell_type": "markdown",
   "metadata": {},
   "source": [
    "$$\n",
    "\\begin{array}{r}\n",
    "1\\phantom{0}\\\\\n",
    "529\\\\\n",
    "+\\;\\phantom{0}742\\\\\n",
    "\\hline\n",
    "1271\n",
    "\\end{array}\n",
    "$$"
   ]
  },
  {
   "cell_type": "markdown",
   "metadata": {},
   "source": [
    "Zodra je boven de 10 komt, zet je de eenheden onder de streep en onhoud je de tientallen door deze boven de som te zetten. 9+2 = 11, dus 1 onder de streep en 1 onthouden "
   ]
  },
  {
   "cell_type": "markdown",
   "metadata": {},
   "source": [
    "We kunnen hetzelfde doe als we binaire getallen bij elkaar optellen. "
   ]
  },
  {
   "cell_type": "markdown",
   "metadata": {},
   "source": [
    "$$\n",
    "\\begin{array}{r}\n",
    "11\\phantom{000}\\\\\n",
    "101101\\\\\n",
    "+\\;\\phantom{00}1110\\\\\n",
    "\\hline\n",
    "111011\n",
    "\\end{array}\n",
    "$$"
   ]
  },
  {
   "cell_type": "markdown",
   "metadata": {},
   "source": [
    "0 + 0 = 0  \n",
    "1 + 0 = 1  \n",
    "1 + 1 = 10  \n",
    "1 + 1 + 1 = 11"
   ]
  },
  {
   "cell_type": "markdown",
   "metadata": {},
   "source": [
    "Als we 1 + 1 bij elkaar optellen, krijgen we 10 (binair) We schrijven de eenheden onder de lijn, dus 0 en onthouden de tweetallen, in dit geval 1. "
   ]
  },
  {
   "cell_type": "markdown",
   "metadata": {},
   "source": [
    "### Functie 5: `add_b(s, t)`\n",
    "\n",
    "In de basis opgaven zag je een manier om twee binaire getallen op te tellen: zet ze eerst om naar grondtal 10, tel deze getallen op en zet vervolgens de uitkomst weer om naar een binaire string.\n"
   ]
  },
  {
   "cell_type": "markdown",
   "metadata": {},
   "source": [
    "Bij deze opgave zal je echter een andere, meer directe, methode implementeren voor het optellen van twee binaire getallen, met behulp van de \"basisschool\" methode:\n",
    "\n",
    "```text\n",
    "  101110\n",
    "  100111\n",
    "--------\n",
    "```\n",
    "\n",
    "Dit ziet er na optelling als volgt uit:\n",
    "\n",
    "```text hl_lines=\"1\"\n",
    "   111\n",
    "  101110\n",
    "  100111\n",
    "--------\n",
    " 1010101\n",
    "```\n",
    "\n",
    "Je ziet hier de \"carry\" bits op de eerste regel."
   ]
  },
  {
   "cell_type": "markdown",
   "metadata": {},
   "source": [
    "Schrijf voor dit probleem een Python functie `add_b(s, t)` die twee strings als argument accepteert. Deze strings stellen binaire getallen voor.\n",
    "\n",
    "De functie `add_b` moet een nieuwe string teruggeven die de som van de twee argumenten voorstelt.\n",
    "\n",
    "De som moet berekend worden met het \"basisschool\" binaire optelalgoritme, zoals hierboven is besproken, en niet met basisconversies (door grondtallen om te zetten). Dat wil zeggen dat de optelling puur *syntactisch* zal moeten zijn: je gebruikt de opteloperator `+` voor getallen van Python *niet*."
   ]
  },
  {
   "cell_type": "markdown",
   "metadata": {},
   "source": [
    "Hier zijn een paar voorbeelden:\n",
    "\n",
    "```ipython\n",
    "In [1]: add_b(\"11100\", \"11110\")\n",
    "Out[1]: '111010'\n",
    "\n",
    "In [2]: add_b(\"10101\", \"10101\")\n",
    "Out[2]: '101010'\n",
    "\n",
    "In [3]: add_b(\"11\", \"1\")\n",
    "Out[3]: '100'\n",
    "\n",
    "In [4]: add_b(\"11\", \"100\")\n",
    "Out[4]: '111'\n",
    "```"
   ]
  },
  {
   "cell_type": "markdown",
   "metadata": {},
   "source": [
    "En hier een aantal tests:\n",
    "\n",
    "```python\n",
    "assert add_b(\"11\", \"100\") == \"111\"\n",
    "assert add_b(\"11100\", \"11110\") == \"111010\"\n",
    "assert add_b(\"110\", \"11\") == \"1001\"\n",
    "assert add_b(\"110101010\", \"11111111\") == \"1010101001\"\n",
    "assert add_b(\"1\", \"1\") == \"10\"\n",
    "```"
   ]
  },
  {
   "cell_type": "markdown",
   "metadata": {},
   "source": [
    "## Beeldcompressie"
   ]
  },
  {
   "cell_type": "markdown",
   "metadata": {},
   "source": [
    "Tot nu toe hebben we onderzocht hoe getallen in binaire vorm worden weergegeven, maar in dit probleem onderzoeken we de weergave van beelden met behulp van 0's en 1's.\n",
    "\n",
    "Voor dit deel schrijf je twee functies, `compress(s)` en `uncompress(c)`, samen met een of meer hulpfuncties.\n"
   ]
  },
  {
   "cell_type": "markdown",
   "metadata": {},
   "source": [
    "Om te beginnen bekijken we alleen 8 bij 8 zwart-wit afbeeldingen zoals de afbeelding hieronder:\n",
    "\n",
    "![Dambord](images/6/pattern_1.png)\n",
    "\n",
    "Elke cel in de afbeelding wordt een \"pixel\" genoemd. Een witte pixel wordt voorgesteld door het cijfer 0 en een zwarte pixel door het cijfer 1. Het eerste cijfer staat voor de pixel in de linkerbovenhoek van de afbeelding. Het volgende cijfer staat voor de pixel in de bovenste rij en de tweede kolom. Het achtste bit (cijfer) staat voor de pixel aan de rechterzijde van de bovenste rij. Het volgende bit staat voor de meest linkse pixel in de tweede rij, enzovoort. Daarom wordt de bovenstaande afbeelding weergegeven door de volgende binaire string met lengte 64:\n",
    "\n",
    "```python\n",
    "\"1010101001010101101010100101010110101010010101011010101001010101\"\n",
    "```\n",
    "\n",
    "Een andere manier om deze string voor te stellen in Python is\n",
    "\n",
    "```python\n",
    "\"1010101001010101\" * 4\n",
    "```"
   ]
  },
  {
   "cell_type": "markdown",
   "metadata": {},
   "source": [
    "### Achtergrond"
   ]
  },
  {
   "cell_type": "markdown",
   "metadata": {},
   "source": [
    "Maar wat nu? Stel je voor, je bent ingehuurd door HASA (\"Hanze Air and Space Administration\"). HASA heeft een satelliet die 8 bij 8 zwart-wit beelden neemt en deze terugstuurt naar de aarde als binaire strings van 64 bits zoals hierboven beschreven. Om kostbare energie te besparen die nodig is voor het verzenden van gegevens, wil HASA de verzonden beelden \"comprimeren\" in een formaat dat zo weinig mogelijk bits gebruikt. Een manier om dit te doen is door gebruik te maken van het \"run-length\" coderingsalgoritme.\n"
   ]
  },
  {
   "cell_type": "markdown",
   "metadata": {},
   "source": [
    "Stel je voor dat we een beeld hebben dat er als volgt uitziet:\n",
    "\n",
    "![Strepen](images/6/pattern_5.png)"
   ]
  },
  {
   "cell_type": "markdown",
   "metadata": {},
   "source": [
    "Met behulp van onze standaard opeenvolging van 64 bits wordt dit beeld weergegeven door een binaire reeks die begint met 16 opeenvolgende 0'en (voor twee rijen witte pixels) gevolgd door 16 opeenvolgende 1'en (voor twee rijen zwarte pixels) gevolgd door 16 opeenvolgende 0'en gevolgd door 16 opeenvolgende 1'en.\n"
   ]
  },
  {
   "cell_type": "markdown",
   "metadata": {},
   "source": [
    "Run-length codering (die overigens ook wordt gebruikt als onderdeel van het JPEG beeldcompressie-algoritme) stelt voor om dit beeld weer te geven met de code \"16 wit, 16 zwart, 16 wit, 16 zwart\". Dat is een veel kortere beschrijving dan het opsommen van de reeks van 64 pixels \"wit, wit, wit, wit, ...\"."
   ]
  },
  {
   "cell_type": "markdown",
   "metadata": {},
   "source": [
    "#### Run-length encoding"
   ]
  },
  {
   "cell_type": "markdown",
   "metadata": {},
   "source": [
    "In het algemeen stelt onze run-length codering een beeld voor met een sequentie (een rij, of \"run-length sequence\" genoemd) van 8-bits *bytes*:\n",
    "\n",
    "-   Het eerste bit van elke byte vertegenwoordigt het *bit* dat als volgende in het beeld zal verschijnen, ofwel 0 ofwel 1.\n",
    "\n",
    "-   De laatste zeven bits bevatten het nummer in binaire vorm van de bits die achtereenvolgens op de huidige plaats in het beeld verschijnen.\n",
    "\n",
    "Merk op dat deze run-length codering een relatief klein aantal bits zal gebruiken om het voorbeeld met 4 strepen hierboven weer te geven."
   ]
  },
  {
   "cell_type": "markdown",
   "metadata": {},
   "source": [
    "Het zal het echter zeer slecht doen (in termen van het aantal bits dat het gebruikt) in het representeren van de dambord afbeelding die we eerst bekeken hebben. In het algemeen doet de run-length codering het goed om afbeeldingen die grote blokken met effen kleuren hebben te \"comprimeren\". Gelukkig geldt dit voor veel echte afbeeldingen, zoals de afbeeldingen die HASA ontvangt, die meestal wit zijn met een paar zwarte vlekken die hemellichamen voorstellen."
   ]
  },
  {
   "cell_type": "markdown",
   "metadata": {},
   "source": [
    "### Functie 6: `compress(s)`"
   ]
  },
  {
   "cell_type": "markdown",
   "metadata": {},
   "source": [
    "Dat was een hoop informatie! Hier is nu jouw taak.\n",
    "\n",
    "Schrijf een functie `compress(s)`, waarvan het argument een binaire string `s` is met een lengte van minder dan of gelijk aan 64 en dat als resultaat een andere binaire string teruggeeft. De resulterende binaire string zou een run-length codering van het origineel moeten zijn, zoals hierboven beschreven.\n",
    "\n",
    "Je hebt misschien één of meerdere hulpfunctie nodig en je mag ze elke naam geven die je wilt. Ook kan het zijn dat je één of meerdere functies uit het [practicum](wk5ex1.md) of deze opgave wilt gebruiken!\n"
   ]
  },
  {
   "cell_type": "markdown",
   "metadata": {},
   "source": [
    "### Functie 7: `uncompress(c)`"
   ]
  },
  {
   "cell_type": "markdown",
   "metadata": {},
   "source": [
    "Schrijf vervolgens een functie `uncompress(c)` die het comprimeren van de functie `compress` \"omkeert\" of \"ongedaan maakt\".\n",
    "\n",
    "Dat wil zeggen, `uncompress(compress(s))` zou `s` moeten teruggeven. Hier is een leuke test die dat punt illustreert:\n",
    "\n",
    "```python\n",
    "assert uncompress(compress(64 * \"0\")) == 64 * \"0\"\n",
    "```\n",
    "\n",
    "Nogmaals, hulpfuncties zijn toegestaan, net als het gebruik van functies die je bij de basis opdrachten hebt geschreven."
   ]
  },
  {
   "cell_type": "markdown",
   "metadata": {},
   "source": [
    "Hier zijn een paar voorbeelden van `compress` en `decompress` in actie:\n",
    "\n",
    "```ipython\n",
    "In [1]: compress(64 * \"0\")\n",
    "Out[1]: '01000000'\n",
    "\n",
    "In [2]: uncompress(\"10000101\")   # 5 1'en\n",
    "Out[2]: '11111'\n",
    "\n",
    "In [3]: compress(\"11111\")\n",
    "Out[3]: '10000101'\n",
    "\n",
    "In [4]: stripes = \"0\" * 16 + \"1\" * 16 + \"0\" * 16 + \"1\" * 16\n",
    "\n",
    "In [5]: compress(stripes)\n",
    "Out[5]: '00010000100100000001000010010000'\n",
    "\n",
    "In [6]: uncompress(\"00010000100100000001000010010000\")\n",
    "Out[6]: '0000000000000000111111111111111100000000000000001111111111111111'\n",
    "```\n"
   ]
  }
 ],
 "metadata": {
  "language_info": {
   "name": "python"
  }
 },
 "nbformat": 4,
 "nbformat_minor": 2
}
