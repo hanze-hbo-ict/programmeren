{
 "cells": [
  {
   "cell_type": "markdown",
   "metadata": {},
   "source": [
    "# PGM1 Oefententamen "
   ]
  },
  {
   "cell_type": "markdown",
   "metadata": {},
   "source": [
    "\n",
    "Voor deze oefententamen en het echte tentamen mag je gebruik maken van een online Python editor. Je hebt de keus uit:\n",
    "- [Online Python](https://www.online-python.com/)\n",
    "- [Programiz](https://www.programiz.com/python-programming/online-compiler/)\n",
    "- [Trinket](https://trinket.io/embed/python3/a5bd54189b)\n",
    "\n"
   ]
  },
  {
   "cell_type": "markdown",
   "metadata": {},
   "source": [
    "## Opgave 1 (10pt)"
   ]
  },
  {
   "cell_type": "markdown",
   "metadata": {},
   "source": [
    "Een groenteteler heeft een perceel waarop hij tomaten, paprika’s en komkommers verbouwt. Hij houdt de opbrengst van elk gewas bij in kilogram. Stel dat de opbrengsten van de tomaten, paprika’s en komkommers respectievelijk in de variabelen `opbrengst_tomaten`  , `opbrengst_paprikas`, en `opbrengst_komkommers` zijn opgeslagen."
   ]
  },
  {
   "cell_type": "markdown",
   "metadata": {},
   "source": [
    "Schrijf een aantal toekenningen (geen functie) waar de opbrengst voor tomaten 150 kilogram, voor paprika’s 120 kilogram en voor komkommers 80 kilogram is."
   ]
  },
  {
   "cell_type": "markdown",
   "metadata": {},
   "source": [
    "Bereken vervolgens de totale opbrengst in kilogram van het perceel en sla deze waarde op in de variabele `totale_opbrengst`."
   ]
  },
  {
   "cell_type": "markdown",
   "metadata": {},
   "source": [
    "De prijzen van de gewassen zijn als volgt:\n",
    "- tomaat: €3,24 per kilo\n",
    "- paprika: €2,87 per kilo\n",
    "- komkommer: €1,48 per kilo\n"
   ]
  },
  {
   "cell_type": "markdown",
   "metadata": {},
   "source": [
    "Bereken nu de totale omzet van het perceel en sla deze waarde op inde variabele `totale_omzet`."
   ]
  },
  {
   "cell_type": "markdown",
   "metadata": {},
   "source": [
    "Maak bij alle berekeningen gebruik van de drie variabelen die je eerder hebt gedefinieerd (`opbrengst_tomaten`,`opbrengst_paprikas`, en `opbrengst_komkommers`)."
   ]
  },
  {
   "cell_type": "markdown",
   "metadata": {},
   "source": [
    "Print tot slot de waarden van de variabelen `totale_opbrengst` en `totale_omzet`."
   ]
  },
  {
   "cell_type": "markdown",
   "metadata": {},
   "source": [
    "## Opgave 2 (10pt)"
   ]
  },
  {
   "cell_type": "markdown",
   "metadata": {},
   "source": [
    "De *Saffir-Simpson Hurricane Wind Scale* is een classificatie die in de meteorologie wordt gebruikt om tropische cyclonen naar hun kracht in te delen. Je ziet hier de waarden die bij de verschillende categorieën horen, waar TS staat voor tropical storm en TD voor tropical depression."
   ]
  },
  {
   "cell_type": "markdown",
   "metadata": {},
   "source": [
    "| **Categorie** |    km/h     |\n",
    "| ------------- | :---------: |\n",
    "| **5**         |  $\\ge$ 252  |\n",
    "| **4**         | 209 $-$ 251 |\n",
    "| **3**         | 178 $-$ 208 |\n",
    "| **2**         | 154 $-$ 177 |\n",
    "| **1**         | 119 $-$ 153 |\n",
    "| **TS**        | 63 $-$ 118  |\n",
    "| **TD**        |  $\\le$ 62   |"
   ]
  },
  {
   "cell_type": "markdown",
   "metadata": {},
   "source": [
    "Gegeven is een variabele `windspeed` die staat voor windsnelheid in km/h, deze toekenning hoef je niet te schrijven. Schrijf een **conditioneel statement** (*geen* functie) om de categorie (1, 2, 3, 4, 5, TS of TD) af te drukken (*printen*) volgens de regels hierboven. Je hoeft de categorie dus niet in een variabele op te slaan."
   ]
  },
  {
   "cell_type": "markdown",
   "metadata": {},
   "source": [
    "## Opgave 3 (10pt)"
   ]
  },
  {
   "cell_type": "markdown",
   "metadata": {},
   "source": [
    "Gegeven een lijst van getallen. We willen graag weten of de getallen bij elkaar opgeteld meer dan 100 zijn. Een student komt met de volgende oplossing:"
   ]
  },
  {
   "cell_type": "markdown",
   "metadata": {},
   "source": [
    "```python\n",
    "def over_hundred(L):\n",
    "    result = 0\n",
    "    for i in L:\n",
    "        result += result + L[i]\n",
    "        if result > 100:\n",
    "            return True\n",
    "        return False\n",
    "\n",
    "test = [12,13,14] \n",
    "print(over_hundred(lc))\n",
    "\n",
    "```"
   ]
  },
  {
   "cell_type": "markdown",
   "metadata": {},
   "source": [
    "Helaas werkt de functie niet naar behoren. Pas de functie zo aan zodat het werkt. Maak enkel kleine aanpassingen, het is niet de bedoeling de hele functie te herschrijven. Vergeet de docstring niet en test de functie met drie assertions."
   ]
  },
  {
   "cell_type": "markdown",
   "metadata": {},
   "source": [
    "## Opgave 4 (10pt)"
   ]
  },
  {
   "cell_type": "markdown",
   "metadata": {},
   "source": [
    "Schrijf een while lus (geen functie) die de gebruikers om integers vraagt. De while lus stopt zodra de gebruiker een negatief getal invoert. Uiteindelijk wordt er geprint hoeveel positieve getallen er zijn ingevoerd en ook de som van al deze positieve getallen wordt geprint. "
   ]
  },
  {
   "cell_type": "markdown",
   "metadata": {},
   "source": [
    "Vragen voor input: \n",
    "```python\n",
    "inp = int(input(\"Geef positief getal: \"))\n",
    "```"
   ]
  },
  {
   "cell_type": "markdown",
   "metadata": {},
   "source": [
    "Voorbeeld van het programma:\n",
    "```python\n",
    "Geef positief getal: 1\n",
    "Geef positief getal: 3\n",
    "Geef positief getal: 2\n",
    "Geef positief getal: 5\n",
    "Geef positief getal: 4\n",
    "Geef positief getal: -1\n",
    "Getallen gegeven: 5\n",
    "Getallen opgeteld: 15\n",
    "```"
   ]
  },
  {
   "cell_type": "markdown",
   "metadata": {},
   "source": [
    "## Opgave 5 (10pt)"
   ]
  },
  {
   "cell_type": "markdown",
   "metadata": {},
   "source": [
    "Schrijf een functie `number_stairs(size)` die de integer `size` accepteert en een ladder uitprint van nummers. Gebruik een dubbele lusconstructie. "
   ]
  },
  {
   "cell_type": "markdown",
   "metadata": {},
   "source": [
    "Voorbeeld: \n",
    "```python\n",
    "number_stairs(5)\n",
    "```\n",
    "output:\n",
    "```python\n",
    "1\n",
    "12\n",
    "123\n",
    "1234\n",
    "12345\n",
    "```"
   ]
  },
  {
   "cell_type": "markdown",
   "metadata": {},
   "source": [
    "```python\n",
    "number_stairs(3)\n",
    "```\n",
    "output: \n",
    "```python\n",
    "1\n",
    "12\n",
    "123\n",
    "```\n"
   ]
  },
  {
   "cell_type": "markdown",
   "metadata": {},
   "source": [
    "# Opgave 6 (15pt)"
   ]
  },
  {
   "cell_type": "markdown",
   "metadata": {},
   "source": [
    "Schrijf de functie `end_check(phrase)` die een string `phrase` accepteert en de langste substring teruggeeft die aan het begin *en* aan het einde van de gegeven `phrase` staat, zonder te overlappen. De enige ingebouwde Python functie die je mag gebruiken is `len()`. Vergeet geen docstring toe te voegen en test de functie met drie assertions."
   ]
  },
  {
   "cell_type": "markdown",
   "metadata": {},
   "source": [
    "Voorbeelden:"
   ]
  },
  {
   "cell_type": "markdown",
   "metadata": {},
   "source": [
    "“test”\n",
    "output:\n",
    "“t”\n",
    "\n",
    "“testing”\n",
    "output:\n",
    "“”\n",
    "\n",
    "“123test123”\n",
    "output:\n",
    "“123”\n",
    "\n",
    "“xxx”\n",
    "output:\n",
    "“x”\n",
    "\n"
   ]
  },
  {
   "cell_type": "markdown",
   "metadata": {},
   "source": [
    "# Opgave  7 (25pt)"
   ]
  },
  {
   "cell_type": "markdown",
   "metadata": {},
   "source": [
    "Frequentieanalyse is, in cryptoanalyse, het onderzoek naar de frequentie van letters of groepen van letters van een versleutelde tekst. Het wordt gebruikt als hulpmiddel voor het breken van klassieke cryptografie, zoals het Caesarcijfer.\n",
    "\n",
    "De methode is gebaseerd op het feit dat binnen elke geschreven taal er een frequentie waar te nemen is van bepaalde letters of lettercombinaties. De letter ‘e’ heeft in de Nederlandse taal de hoogste frequentie. \n",
    "\n",
    "NMBCPZNCJ MVVP BC GPCHSCMRDC TVM KCRRCPQ NG EPNCOCM TVM KCRRCPQ TVM CCM TCPQKCSRCKBC RCJQR.  \n",
    "\n",
    "In deze tekst heeft de letter ‘C’ de hoogste frequentie en zouden we kunnen aannemen dat dat de letter ‘e’ is in de originele tekst. \n"
   ]
  },
  {
   "cell_type": "markdown",
   "metadata": {},
   "source": [
    "a.\tSchrijf de functie `count_char(zin, let)`, inclusief een docstring. Deze functie kriigt twee strings binnen waarbij `zin` een hele zin is en `le`t een enkele letter. De functie geeft terug hoe vaak let voorkomt in zin. Maak maak hier gebruik van lus(sen), vergeet niet een docstring toe te voegen en test de functie met drie assertions. (10)"
   ]
  },
  {
   "cell_type": "markdown",
   "metadata": {},
   "source": [
    "b.\tSchijf de functie `max_freq_letter(z)` die een string `z` accepteert. Deze functie moet het karakter in `z` teruggeven met de hoogste frequentie.\n",
    "\n",
    "Maak gebruik van lus(sen), de functie `count_char(zin, let)` en een lijst met alle letters van het alfabet. Vergeet geen docstring toe te voegen en test de functie met drie assertions. (15)"
   ]
  },
  {
   "cell_type": "markdown",
   "metadata": {},
   "source": [
    "Mocht het niet gelukt zijn bij 5a om de functie count_char(zin, let) te schrijven mag je onderstaande functie gebruiken als vervanging."
   ]
  },
  {
   "cell_type": "markdown",
   "metadata": {},
   "source": [
    "```python\n",
    "\n",
    "def count_char (zin, let):\n",
    "    if len(zin) == 0:\n",
    "        return 0\n",
    "    elif zin[0] == let:\n",
    "        return 1 +  count_char (zin[1:], let)\n",
    "    else:\n",
    "        return count_char (zin[1:], let)   \n",
    "```"
   ]
  }
 ],
 "metadata": {
  "kernelspec": {
   "display_name": "Python 3 (ipykernel)",
   "language": "python",
   "name": "python3"
  },
  "language_info": {
   "codemirror_mode": {
    "name": "ipython",
    "version": 3
   },
   "file_extension": ".py",
   "mimetype": "text/x-python",
   "name": "python",
   "nbconvert_exporter": "python",
   "pygments_lexer": "ipython3",
   "version": "3.12.3"
  }
 },
 "nbformat": 4,
 "nbformat_minor": 4
}
