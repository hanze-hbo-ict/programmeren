{
 "cells": [
  {
   "cell_type": "markdown",
   "metadata": {},
   "source": [
    "# List comprehension\n",
    "\n",
    "Gebruik list comprehension om de volgende problemen op te lossen."
   ]
  },
  {
   "cell_type": "markdown",
   "metadata": {},
   "source": [
    "## Opgaven"
   ]
  },
  {
   "cell_type": "markdown",
   "metadata": {},
   "source": [
    "### `mult_of_five`\n",
    "\n",
    "De functie `mult_of_five` accepteert een integer `n` en heeft als resultaat een list met de veelvouden 1 tot en met `n` van 5. Gebruik hier de ingebouwde functie `range`.\n",
    "\n",
    "De functie `range` begint met 0, je zult voor 1 als volgt moeten corrigeren:\n",
    "\n",
    "```python\n",
    "range(1, n + 1)\n",
    "```\n",
    "\n",
    "Zie verder ook de [documentatie](https://docs.python.org/3/library/stdtypes.html#range) voor `range`."
   ]
  },
  {
   "cell_type": "code",
   "execution_count": 1,
   "metadata": {},
   "outputs": [],
   "source": [
    "def mult_of_five(n):\n",
    "    \"\"\"Return a list containing the first n multiples of 5\n",
    "    \"\"\"\n",
    "    return [...]\n"
   ]
  },
  {
   "cell_type": "markdown",
   "metadata": {},
   "source": [
    "Gebruik de volgende assertions om jow oplossingen te testen:\n",
    "\n",
    "```python\n",
    "assert mult_of_five(0) == []\n",
    "assert mult_of_five(1) == [5]\n",
    "assert mult_of_five(2) == [5, 10]\n",
    "assert mult_of_five(3) == [5, 10, 15] \n",
    "```"
   ]
  },
  {
   "cell_type": "markdown",
   "metadata": {},
   "source": [
    "### `divisible_by`\n",
    "\n",
    "De functie `divisible_by` accepteert een integer `n` en een list `L` en geeft als resultaat een list terug met alle waarden in `L` deelbaar door `n`."
   ]
  },
  {
   "cell_type": "code",
   "execution_count": 2,
   "metadata": {},
   "outputs": [],
   "source": [
    "def divisible_by(n, L):\n",
    "    \"\"\"Return a list with values in L divisible by n\n",
    "    \"\"\"\n",
    "    return [...]\n"
   ]
  },
  {
   "cell_type": "markdown",
   "metadata": {},
   "source": [
    "Gebruik de volgende assertions om jouw oplossing te testen:\n",
    "\n",
    "```python\n",
    "assert divisible_by(5, [15, 0, 23, 4]) == [15, 0]\n",
    "assert divisible_by(3, [2, 4, 8, 10]) == []\n",
    "assert divisible_by(2, []) == []\n",
    "```"
   ]
  },
  {
   "cell_type": "markdown",
   "metadata": {},
   "source": [
    "### `starts_with`\n",
    "\n",
    "De functie `starts_with` accepteer een string `s` en een list met string `L` en heeft als resultaat een list met alle waarden in `L` die beginnen met `s`.\n",
    "\n",
    "- je mag de ingebouwde string methode `startswith` **niet** gebruiken\n",
    "- je mag **geen** recursie gebruiken\n"
   ]
  },
  {
   "cell_type": "code",
   "execution_count": 3,
   "metadata": {},
   "outputs": [],
   "source": [
    "def starts_with(s, L):\n",
    "    \"\"\"Return all strings in L which start with s\n",
    "    \"\"\"\n",
    "    return [...]\n"
   ]
  },
  {
   "cell_type": "markdown",
   "metadata": {},
   "source": [
    "Gebruik de volgende assertions om jouw oplossing te testen:\n",
    "\n",
    "```python\n",
    "assert starts_with(\"a\", []) == []\n",
    "assert starts_with(\"a\", [\"bbc\", \"brits\", \"omroep\"]) == []\n",
    "assert starts_with(\"a\", [\"abc\", \"cde\", \"aha\", \"abba\"]) == [\"abc\", \"aha\", \"abba\"]\n",
    "assert starts_with(\"ab\", [\"abc\", \"cde\", \"aha\", \"abba\"]) == [\"abc\", \"abba\"]\n",
    "assert starts_with(\"abc\", [\"abc\", \"cde\", \"aha\", \"abba\"]) == [\"abc\"]\n",
    "assert starts_with(\"abcd\", [\"abc\", \"cde\", \"aha\", \"abba\"]) == []\n",
    "```"
   ]
  },
  {
   "cell_type": "markdown",
   "metadata": {},
   "source": [
    "### `double_letters`\n",
    "\n",
    "De functie `double_letters` accepteert een list met strings `L` en heeft als resultaat een list met alle waarden verdubbeld."
   ]
  },
  {
   "cell_type": "code",
   "execution_count": 4,
   "metadata": {},
   "outputs": [],
   "source": [
    "def double_letters(L):\n",
    "    \"\"\"Double all letters in L\n",
    "    \"\"\"\n",
    "    return [...]\n"
   ]
  },
  {
   "cell_type": "markdown",
   "metadata": {},
   "source": [
    "Gebruik de volgende assertions om jouw oplossing te testen:\n",
    "\n",
    "```python\n",
    "assert double_letters([\"a\"]) == [\"aa\"]\n",
    "assert double_letters([\"a\", \"1\", \"23\"]) == [\"aa\", \"11\", \"2323\"]\n",
    "```"
   ]
  },
  {
   "cell_type": "markdown",
   "metadata": {},
   "source": [
    "### `num_as`\n",
    "\n",
    "De functie `num_as` accepteert een list met met strings `L` en heeft als resultaat een integer het aantal keer dat het karakter \"a\" zich in `L` bevindt."
   ]
  },
  {
   "cell_type": "code",
   "execution_count": 5,
   "metadata": {},
   "outputs": [],
   "source": [
    "def num_as(L):\n",
    "    \"\"\"Count the number of a's in L\n",
    "    \"\"\"\n",
    "    return sum([...])"
   ]
  },
  {
   "cell_type": "markdown",
   "metadata": {},
   "source": [
    "Gebruik de volgende assertions om jouw oplossing te testen:\n",
    "\n",
    "```python\n",
    "assert num_as([\"a\", \"b\", \"c\", \"a\", \"d\"]) == 2\n",
    "assert num_as([\"y\", \"b\", \"c\", \"x\", \"d\"]) == 0\n",
    "```"
   ]
  },
  {
   "cell_type": "markdown",
   "metadata": {},
   "source": [
    "### `vwl`\n",
    "\n",
    "De functie `vwl` accepteert een string `s` en heeft als resultaat het aantal klinkers in `s`. Klinkers zijn \"a\", \"e\", \"i\", \"o\" en \"u\".\n",
    "\n",
    "- gebruik hier de ingebouwde functie `sum` in combinatie met list comprehension\n"
   ]
  },
  {
   "cell_type": "code",
   "execution_count": 6,
   "metadata": {},
   "outputs": [],
   "source": [
    "def vwl(s):\n",
    "    ''' Return the number of vowels in a string\n",
    "    '''\n",
    "    ..."
   ]
  },
  {
   "cell_type": "markdown",
   "metadata": {},
   "source": [
    "Gebruik de volgende assertions om jouw oplossing te testen:\n",
    "\n",
    "```python\n",
    "assert vwl(\"appel\") == 2\n",
    "assert vwl(\"bbc\") == 0\n",
    "assert vwl(\"oma\") == 2\n",
    "```"
   ]
  },
  {
   "cell_type": "markdown",
   "metadata": {},
   "source": [
    "### `add_tax`\n",
    "\n",
    "De functie `add_tax` accepteert een getal (float of integer) `t` groter dan 0 en een lijst met getallen `L`. `t` staat voor een percentage, `L` bevat prijzen van artikelen en het resultaat is een lijst met prijzen verhoogd met percentage `t`."
   ]
  },
  {
   "cell_type": "code",
   "execution_count": 7,
   "metadata": {},
   "outputs": [],
   "source": [
    "def add_tax(t, L):\n",
    "    \"\"\"Increment each item in L with t percent tax\n",
    "    \"\"\"\n",
    "    return [...]\n"
   ]
  },
  {
   "cell_type": "markdown",
   "metadata": {},
   "source": [
    "Gebruik de volgende assertions om jouw oplossing te testen:\n",
    "\n",
    "```python\n",
    "assert add_tax(7, [10, 100, 30, 40]) == [10.7, 107.0, 32.1, 42.8]\n",
    "assert add_tax(7, [0, 16, 8]) == [0.0, 17.12, 8.56]\n",
    "```"
   ]
  },
  {
   "cell_type": "markdown",
   "metadata": {},
   "source": [
    "### `above_below_freeze`\n",
    "\n",
    "De functie `above_below_freeze` accepteert een lijst met getallen (integer of float) `L` die staan voor temperaturen en heeft als resultaat een list waar voor elke waarde \"onder\", \"boven\" of \"gelijk\" aan het vriespunt (0 graden) is ingevuld.\n",
    "\n",
    "- schrijf hier een hulpfunctie voor het bepalen van \"onder\", \"boven\" of \"gelijk\" voor een temperatuur en gebruik deze functie in de list comprehension\n"
   ]
  },
  {
   "cell_type": "code",
   "execution_count": null,
   "metadata": {},
   "outputs": [],
   "source": [
    "def above_below_freeze(L):\n",
    "    \"\"\"Return whether each item in L is below, above or\n",
    "    equals freezing temperature as a string representation\n",
    "    \"\"\"\n",
    "    ...\n"
   ]
  },
  {
   "cell_type": "markdown",
   "metadata": {},
   "source": [
    "Gebruik de volgende assertions om jouw oplossing te testen:\n",
    "\n",
    "```python\n",
    "assert above_below_freeze([-1, 0, 10]) == [\"onder\", \"gelijk\", \"boven\"]\n",
    "assert above_below_freeze([21, -21, 0]) == [\"boven\", \"onder\", \"gelijk\"]\n",
    "```"
   ]
  },
  {
   "cell_type": "markdown",
   "metadata": {},
   "source": [
    "### `zipper`\n",
    "\n",
    "De functie `zipper` accepteert twee lists `L1` en `L2` van gelijke lengte. Het resultaat is een *list of lists* waar elk element de paarsgewijze combinatie (\"ritsen\") van waarden in `L1` en `L2` is."
   ]
  },
  {
   "cell_type": "code",
   "execution_count": 9,
   "metadata": {},
   "outputs": [],
   "source": [
    "def zipper(L1, L2):\n",
    "    \"\"\"Pairwise combine lists L1 and L2\n",
    "    \"\"\"\n",
    "    return [...]\n"
   ]
  },
  {
   "cell_type": "markdown",
   "metadata": {},
   "source": [
    "Gebruik de volgende assertions om jouw oplossing te testen:\n",
    "\n",
    "```python\n",
    "assert zipper([1, 3, 5], [2, 4, 6]) == [[1, 2], [3, 4], [5, 6]]\n",
    "assert zipper([10, 9, 12], [\"jan\", \"feb\", \"mar\"]) == [[10, \"jan\"], [9, \"feb\"], [12, \"mar\"]]\n",
    "```"
   ]
  },
  {
   "cell_type": "markdown",
   "metadata": {},
   "source": [
    "### `only_evens`\n",
    "\n",
    "De functie `only_evens` accepteert een list met integers `L` en geeft als resultaat een list met de even getallen in `L`.\n",
    "\n",
    "- gebruik de hulpfunctie `is_even` in de list comprehension.\n"
   ]
  },
  {
   "cell_type": "code",
   "execution_count": 10,
   "metadata": {},
   "outputs": [],
   "source": [
    "def is_even(x):\n",
    "    \"\"\"Return True if x is even, False otherwise\n",
    "    \"\"\"\n",
    "    return x % 2 == 0\n",
    "\n",
    "def only_evens(L):\n",
    "    \"\"\"Returns a list containing the even numbers in L\n",
    "    \"\"\"\n",
    "    return [...]\n"
   ]
  },
  {
   "cell_type": "markdown",
   "metadata": {},
   "source": [
    "Gebruik de volgende assertions om jouw oplossing te testen:\n",
    "\n",
    "```python\n",
    "assert only_evens([1, 1, 1]) == []\n",
    "assert only_evens([2, 2, 2]) == [2, 2, 2]\n",
    "assert only_evens([0, 1, 2, 3]) == [0, 2]\n",
    "```"
   ]
  },
  {
   "cell_type": "markdown",
   "metadata": {},
   "source": [
    "### `mul_table`\n",
    "\n",
    "Een vermenigvuldigingstabel ziet er als volgt uit\n",
    "\n",
    "![vermenigvuldigingstabel](images/mul_table.png)\n",
    "\n",
    "Met een vermenigvuldigingstabel kan het resultaat van een vermenigvuldiging worden opgezocht, bijvoorbeeld om het resultaat van $4 \\times 4$ op te zoeken kijk je waar de kolommen en rijen elkaar kruisen op positie 4 (dit is 16).\n",
    "\n",
    "De functie `mul_table` accepteert een integer `n` en heeft als resultaat de *vermenigvuldigingstabel* van `n` als een *list of lists*. Gebruik hier de ingebouwde functie `range`.\n",
    "\n",
    "Bijvoorbeeld, `mul_table(5)` zal het volgende resultaat geven:\n",
    "\n",
    "```python\n",
    "[[1, 2, 3, 4, 5],\n",
    " [2, 4, 6, 8, 10],\n",
    " [3, 6, 9, 12, 15],\n",
    " [4, 8, 12, 16, 20],\n",
    " [5, 10, 15, 20, 25]]\n",
    "```\n",
    "\n",
    "De functie `range` begint met 0, je zult voor 1 als volgt moeten corrigeren:\n",
    "\n",
    "```python\n",
    "range(1, n + 1)\n",
    "```\n",
    "\n",
    "Zie verder ook de [documentatie](https://docs.python.org/3/library/stdtypes.html#range) voor `range`."
   ]
  },
  {
   "cell_type": "code",
   "execution_count": 11,
   "metadata": {},
   "outputs": [],
   "source": [
    "def mul_table(n):\n",
    "    \"\"\"Returns a multiplication table for n\n",
    "    \"\"\"\n",
    "    return [...]\n"
   ]
  },
  {
   "cell_type": "markdown",
   "metadata": {},
   "source": [
    "Gebruik de volgende assertions om jouw oplossing te testen:\n",
    "\n",
    "```python\n",
    "assert mul_table(0) == []\n",
    "assert mul_table(1) == [[1]]\n",
    "assert mul_table(2) == [[1, 2], [2, 4]]\n",
    "assert mul_table(3) == [[1, 2, 3], [2, 4, 6], [3, 6, 9]]\n",
    "```"
   ]
  },
  {
   "cell_type": "markdown",
   "metadata": {},
   "source": [
    "### `ngram`\n",
    "\n",
    "De kans dat een letter wordt gebruikt is een maat voor een taal. Om karakters te tellen in tekst moeten woorden worden opgebroken in opeenvolgende karakters, zogenaamde n-grams (zie ook [Wikipedia](https://en.wikipedia.org/wiki/N-gram) en bijvoorbeeld [Google Books Ngram Viewer](https://books.google.com/ngrams/)). In het geval van een enkel karakter spreek je van een unigram, langere opeenvolgingen geven meer informatie, bijvoorbeeld een bi- of trigram (twee of drie opeenvolgende karakters).\n",
    "\n",
    "De functie `ngram` accepteert een string `w` en een integer `n` en geeft een lijst terug met `n` opeenvolgende delen van een woord `w`."
   ]
  },
  {
   "cell_type": "code",
   "execution_count": null,
   "metadata": {},
   "outputs": [],
   "source": [
    "def ngram(w, n):\n",
    "    \"\"\"Break up a word w into n consecutive parts\n",
    "    \"\"\"\n",
    "    ..."
   ]
  },
  {
   "cell_type": "markdown",
   "metadata": {},
   "source": [
    "Gebruik de volgende assertions om jouw oplossing te testen:\n",
    "\n",
    "```python\n",
    "assert ngram(\"alien\", 1) == [\"a\", \"l\", \"i\", \"e\", \"n\"]  # 1-gram (unigram)\n",
    "assert ngram(\"alien\", 2) == [\"al\", \"li\", \"ie\", \"en\"]  # 2-gram (bigram)\n",
    "assert ngram(\"alien\", 3) == [\"ali\", \"lie\", \"ien\"]  # 3-gram (trigram)\n",
    "assert ngram(\"alien\", 4) == [\"alie\", \"lien\"]\n",
    "assert ngram(\"alien\", 5) == [\"alien\"]\n",
    "```"
   ]
  },
  {
   "cell_type": "markdown",
   "metadata": {},
   "source": [
    "## Oplossingen"
   ]
  },
  {
   "cell_type": "markdown",
   "metadata": {},
   "source": [
    "### `mult_of_five`"
   ]
  },
  {
   "cell_type": "code",
   "execution_count": 12,
   "metadata": {},
   "outputs": [],
   "source": [
    "def mult_of_five(n):\n",
    "    \"\"\"Return a list containing the first n multiples of 5\n",
    "    \"\"\"\n",
    "    return [x * 5 for x in range(1, n + 1)]"
   ]
  },
  {
   "cell_type": "code",
   "execution_count": null,
   "metadata": {},
   "outputs": [],
   "source": [
    "assert mult_of_five(0) == []\n",
    "assert mult_of_five(1) == [5]\n",
    "assert mult_of_five(2) == [5, 10]\n",
    "assert mult_of_five(3) == [5, 10, 15]"
   ]
  },
  {
   "cell_type": "markdown",
   "metadata": {},
   "source": [
    "### `divisible_by`"
   ]
  },
  {
   "cell_type": "code",
   "execution_count": 14,
   "metadata": {},
   "outputs": [],
   "source": [
    "def divisible_by(n, L):\n",
    "    \"\"\"Return a list with values in L divisible by n\n",
    "    \"\"\"\n",
    "    return [x for x in L if x % n == 0]"
   ]
  },
  {
   "cell_type": "code",
   "execution_count": 15,
   "metadata": {},
   "outputs": [],
   "source": [
    "assert divisible_by(5, [15, 0, 23, 4]) == [15, 0]\n",
    "assert divisible_by(3, [2, 4, 8, 10]) == []\n",
    "assert divisible_by(2, []) == []"
   ]
  },
  {
   "cell_type": "markdown",
   "metadata": {},
   "source": [
    "### `starts_with`"
   ]
  },
  {
   "cell_type": "code",
   "execution_count": 16,
   "metadata": {},
   "outputs": [],
   "source": [
    "def starts_with(s, L):\n",
    "    \"\"\"Return all strings in L which start with s\n",
    "    \"\"\"\n",
    "    return [x for x in L if s == x[:len(s)]]"
   ]
  },
  {
   "cell_type": "code",
   "execution_count": 17,
   "metadata": {},
   "outputs": [],
   "source": [
    "assert starts_with(\"a\", []) == []\n",
    "assert starts_with(\"a\", [\"bbc\", \"brits\", \"omroep\"]) == []\n",
    "assert starts_with(\"a\", [\"abc\", \"cde\", \"aha\", \"abba\"]) == [\"abc\", \"aha\", \"abba\"]\n",
    "assert starts_with(\"ab\", [\"abc\", \"cde\", \"aha\", \"abba\"]) == [\"abc\", \"abba\"]\n",
    "assert starts_with(\"abc\", [\"abc\", \"cde\", \"aha\", \"abba\"]) == [\"abc\"]\n",
    "assert starts_with(\"abcd\", [\"abc\", \"cde\", \"aha\", \"abba\"]) == []"
   ]
  },
  {
   "cell_type": "markdown",
   "metadata": {},
   "source": [
    "### `double_letters`"
   ]
  },
  {
   "cell_type": "code",
   "execution_count": 18,
   "metadata": {},
   "outputs": [],
   "source": [
    "def double_letters(L):\n",
    "    \"\"\"Double all letters in L\n",
    "    \"\"\"\n",
    "    return [x * 2 for x in L]"
   ]
  },
  {
   "cell_type": "code",
   "execution_count": 19,
   "metadata": {},
   "outputs": [],
   "source": [
    "assert double_letters([\"a\"]) == [\"aa\"]\n",
    "assert double_letters([\"a\", \"1\", \"23\"]) == [\"aa\", \"11\", \"2323\"]"
   ]
  },
  {
   "cell_type": "markdown",
   "metadata": {},
   "source": [
    "### `num_as`"
   ]
  },
  {
   "cell_type": "code",
   "execution_count": 20,
   "metadata": {},
   "outputs": [],
   "source": [
    "def num_as(L):\n",
    "    \"\"\"Count the number of a's in L\n",
    "    \"\"\"\n",
    "    return sum([1 for x in L if x == \"a\"])"
   ]
  },
  {
   "cell_type": "code",
   "execution_count": 21,
   "metadata": {},
   "outputs": [],
   "source": [
    "assert num_as([\"a\", \"b\", \"c\", \"a\", \"d\"]) == 2\n",
    "assert num_as([\"y\", \"b\", \"c\", \"x\", \"d\"]) == 0"
   ]
  },
  {
   "cell_type": "markdown",
   "metadata": {},
   "source": [
    "### `vwl`"
   ]
  },
  {
   "cell_type": "code",
   "execution_count": 22,
   "metadata": {},
   "outputs": [],
   "source": [
    "def vwl(s):\n",
    "    ''' Return the number of vowels in a string\n",
    "    '''\n",
    "    return sum([1 for x in s if x in \"aeiou\"])"
   ]
  },
  {
   "cell_type": "code",
   "execution_count": 23,
   "metadata": {},
   "outputs": [],
   "source": [
    "assert vwl(\"appel\") == 2\n",
    "assert vwl(\"bbc\") == 0\n",
    "assert vwl(\"oma\") == 2"
   ]
  },
  {
   "cell_type": "markdown",
   "metadata": {},
   "source": [
    "### `add_tax`"
   ]
  },
  {
   "cell_type": "code",
   "execution_count": 24,
   "metadata": {},
   "outputs": [],
   "source": [
    "def add_tax(t, L):\n",
    "    \"\"\"Increment each item in L with t percent tax\n",
    "    \"\"\"\n",
    "    return [x + (x * t / 100) for x in L]"
   ]
  },
  {
   "cell_type": "code",
   "execution_count": 25,
   "metadata": {},
   "outputs": [],
   "source": [
    "assert add_tax(7, [10, 100, 30, 40]) == [10.7, 107.0, 32.1, 42.8]\n",
    "assert add_tax(7, [0, 16, 8]) == [0.0, 17.12, 8.56]"
   ]
  },
  {
   "cell_type": "markdown",
   "metadata": {},
   "source": [
    "### `above_below_freeze`"
   ]
  },
  {
   "cell_type": "code",
   "execution_count": null,
   "metadata": {},
   "outputs": [],
   "source": [
    "def above_below(t):\n",
    "    \"\"\"Helper function for above_below_freeze\n",
    "    \"\"\"\n",
    "    if t > 0:\n",
    "        return \"boven\"\n",
    "    elif t < 0:\n",
    "        return \"onder\"\n",
    "    else:\n",
    "        return \"gelijk\"\n",
    "\n",
    "def above_below_freeze(L):\n",
    "    \"\"\"Return whether each item in L is below, above or\n",
    "    equals freezing temperature as a string representation\n",
    "    \"\"\"\n",
    "    return [above_below(x) for x in L]"
   ]
  },
  {
   "cell_type": "code",
   "execution_count": 27,
   "metadata": {},
   "outputs": [],
   "source": [
    "assert above_below_freeze([-1, 0, 10]) == [\"onder\", \"gelijk\", \"boven\"]\n",
    "assert above_below_freeze([21, -21, 0]) == [\"boven\", \"onder\", \"gelijk\"]"
   ]
  },
  {
   "cell_type": "markdown",
   "metadata": {},
   "source": [
    "### `zipper`"
   ]
  },
  {
   "cell_type": "code",
   "execution_count": 28,
   "metadata": {},
   "outputs": [],
   "source": [
    "def zipper(L1, L2):\n",
    "    \"\"\"Pairwise combine lists L1 and L2\n",
    "    \"\"\"\n",
    "    return [[L1[x], L2[x]] for x in range(len(L1))]"
   ]
  },
  {
   "cell_type": "code",
   "execution_count": 29,
   "metadata": {},
   "outputs": [],
   "source": [
    "assert zipper([1, 3, 5], [2, 4, 6]) == [[1, 2], [3, 4], [5, 6]]\n",
    "assert zipper([10, 9, 12], [\"jan\", \"feb\", \"mar\"]) == [[10, \"jan\"], [9, \"feb\"], [12, \"mar\"]]"
   ]
  },
  {
   "cell_type": "markdown",
   "metadata": {},
   "source": [
    "### `only_evens`"
   ]
  },
  {
   "cell_type": "code",
   "execution_count": 30,
   "metadata": {},
   "outputs": [],
   "source": [
    "def is_even(x):\n",
    "    \"\"\"Return True if x is even, False otherwise\n",
    "    \"\"\"\n",
    "    return x % 2 == 0\n",
    "\n",
    "def only_evens(L):\n",
    "    \"\"\"Returns a list containing the even numbers in L\n",
    "    \"\"\"\n",
    "    return [x for x in L if is_even(x)]"
   ]
  },
  {
   "cell_type": "code",
   "execution_count": 31,
   "metadata": {},
   "outputs": [],
   "source": [
    "assert only_evens([1, 1, 1]) == []\n",
    "assert only_evens([2, 2, 2]) == [2, 2, 2]\n",
    "assert only_evens([0, 1, 2, 3]) == [0, 2]"
   ]
  },
  {
   "cell_type": "markdown",
   "metadata": {},
   "source": [
    "### `mul_table`"
   ]
  },
  {
   "cell_type": "markdown",
   "metadata": {},
   "source": [
    "Stel dat we een $N \\times N$ vermenigvuldigingstabel willen opstellen voor $N=5$"
   ]
  },
  {
   "cell_type": "code",
   "execution_count": 32,
   "metadata": {},
   "outputs": [],
   "source": [
    "n = 5"
   ]
  },
  {
   "cell_type": "markdown",
   "metadata": {},
   "source": [
    "Met behulp van de tip (`range` laten tellen vanaf 1) kan een *eerste* rij van de tabel met een list comprehension worden opgesteld"
   ]
  },
  {
   "cell_type": "code",
   "execution_count": 33,
   "metadata": {},
   "outputs": [
    {
     "data": {
      "text/plain": [
       "[1, 2, 3, 4, 5]"
      ]
     },
     "execution_count": 33,
     "metadata": {},
     "output_type": "execute_result"
    }
   ],
   "source": [
    "[x for x in range(1, n + 1)]"
   ]
  },
  {
   "cell_type": "markdown",
   "metadata": {},
   "source": [
    "Omdat dit de eerste vermenigvuldiging is van `x` (de eerste rij, dus 1) kan het ook worden geschreven als"
   ]
  },
  {
   "cell_type": "code",
   "execution_count": 34,
   "metadata": {},
   "outputs": [
    {
     "data": {
      "text/plain": [
       "[1, 2, 3, 4, 5]"
      ]
     },
     "execution_count": 34,
     "metadata": {},
     "output_type": "execute_result"
    }
   ],
   "source": [
    "[x * 1 for x in range(1, n + 1)]"
   ]
  },
  {
   "cell_type": "markdown",
   "metadata": {},
   "source": [
    "Volgens dit patroon zal de tweede rij in de vermenigvuldigingstabel als volgt zijn"
   ]
  },
  {
   "cell_type": "code",
   "execution_count": 35,
   "metadata": {},
   "outputs": [
    {
     "data": {
      "text/plain": [
       "[2, 4, 6, 8, 10]"
      ]
     },
     "execution_count": 35,
     "metadata": {},
     "output_type": "execute_result"
    }
   ],
   "source": [
    "[x * 2 for x in range(1, n + 1)]"
   ]
  },
  {
   "cell_type": "markdown",
   "metadata": {},
   "source": [
    "Meer algemeen kan dit worden geschreven als\n",
    "\n",
    "```python\n",
    "[x * y for x in range(1, n + 1)]\n",
    "```\n",
    "\n",
    "waar `x` staat voor de kolom (5 posities in totaal, want $N=5$) en `y` voor de rij (ook 5 in totaal, want $N=5$). De rijen moeten `n` keer worden herhaald voor `y` zodat je uiteindelijk met list comprehension tot de volgende *list of lists* kan komen"
   ]
  },
  {
   "cell_type": "code",
   "execution_count": 36,
   "metadata": {},
   "outputs": [],
   "source": [
    "def mul_table(n):\n",
    "    \"\"\"Returns a multiplication table for n\n",
    "    \"\"\"\n",
    "    return [[x * y for x in range(1, n + 1)] for y in range(1, n + 1)]"
   ]
  },
  {
   "cell_type": "code",
   "execution_count": 37,
   "metadata": {},
   "outputs": [],
   "source": [
    "assert mul_table(0) == []\n",
    "assert mul_table(1) == [[1]]\n",
    "assert mul_table(2) == [[1, 2], [2, 4]]\n",
    "assert mul_table(3) == [[1, 2, 3], [2, 4, 6], [3, 6, 9]]"
   ]
  },
  {
   "cell_type": "markdown",
   "metadata": {},
   "source": [
    "### `ngram`"
   ]
  },
  {
   "cell_type": "code",
   "execution_count": null,
   "metadata": {},
   "outputs": [],
   "source": [
    "def ngram(w, n):\n",
    "    \"\"\"Break up a word w into n consecutive parts\n",
    "    \"\"\"\n",
    "    return [w[i : i + n] for i in range(len(w) - n + 1)]"
   ]
  },
  {
   "cell_type": "code",
   "execution_count": null,
   "metadata": {},
   "outputs": [],
   "source": [
    "assert ngram(\"alien\", 1) == [\"a\", \"l\", \"i\", \"e\", \"n\"]  # 1-gram (unigram)\n",
    "assert ngram(\"alien\", 2) == [\"al\", \"li\", \"ie\", \"en\"]  # 2-gram (bigram)\n",
    "assert ngram(\"alien\", 3) == [\"ali\", \"lie\", \"ien\"]  # 3-gram (trigram)\n",
    "assert ngram(\"alien\", 4) == [\"alie\", \"lien\"]\n",
    "assert ngram(\"alien\", 5) == [\"alien\"]"
   ]
  }
 ],
 "metadata": {
  "kernelspec": {
   "display_name": "Python 3 (ipykernel)",
   "language": "python",
   "name": "python3"
  },
  "language_info": {
   "codemirror_mode": {
    "name": "ipython",
    "version": 3
   },
   "file_extension": ".py",
   "mimetype": "text/x-python",
   "name": "python",
   "nbconvert_exporter": "python",
   "pygments_lexer": "ipython3",
   "version": "3.10.7"
  }
 },
 "nbformat": 4,
 "nbformat_minor": 4
}
