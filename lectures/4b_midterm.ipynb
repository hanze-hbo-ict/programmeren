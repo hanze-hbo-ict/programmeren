{
 "cells": [
  {
   "cell_type": "markdown",
   "metadata": {
    "editable": true,
    "slideshow": {
     "slide_type": ""
    },
    "tags": []
   },
   "source": [
    "# Oefen Midterm"
   ]
  },
  {
   "cell_type": "markdown",
   "metadata": {
    "editable": true,
    "slideshow": {
     "slide_type": ""
    },
    "tags": []
   },
   "source": [
    "## Opgave 1\n",
    "\n",
    "```python\n",
    "max_punten = 100\n",
    "score = 30\n",
    "x = score/max_punten * 9 + 1\n",
    "score = 50\n",
    "```\n",
    "\n",
    "Welke waarde heeft `x` aan het einde van dit programma?\n",
    "\n",
    "<ol type=\"a\">\n",
    "    <li>50</li>\n",
    "    <li>2.7</li>\n",
    "    <li>5.5</li>\n",
    "    <li>3.7</li>\n",
    "</ol>"
   ]
  },
  {
   "cell_type": "markdown",
   "metadata": {
    "editable": true,
    "slideshow": {
     "slide_type": ""
    },
    "tags": []
   },
   "source": [
    "## Opgave 2\n",
    "\n",
    "```python\n",
    "x = 4\n",
    "if x > 2 :\n",
    "    x = x / 4\n",
    "elif x < 2 :\n",
    "    x = x + 3\n",
    "else :\n",
    "    x = x * 3\n",
    "```\n",
    "\n",
    "Welke waarde heeft `x` aan het einde van dit programma?\n",
    "\n",
    "<ol type=\"a\">\n",
    "    <li>4</li>\n",
    "    <li>12</li>\n",
    "    <li>1</li>\n",
    "    <li>7</li>\n",
    "</ol>"
   ]
  },
  {
   "cell_type": "markdown",
   "metadata": {
    "editable": true,
    "slideshow": {
     "slide_type": ""
    },
    "tags": []
   },
   "source": [
    "\n",
    "## Opgave 3\n",
    "\n",
    "```python\n",
    "x = 8\n",
    "if x > 5 :\n",
    "    x = x - 4\n",
    "if x <= 4 :\n",
    "    x = x + 3\n",
    "elif x == 7 or x == 4 :\n",
    "    x = x * 2\n",
    "```\n",
    "\n",
    "Welke waarde heeft `x` aan het einde van dit programma?\n",
    "\n",
    "<ol type=\"a\">\n",
    "    <li>14</li>\n",
    "    <li>7</li>\n",
    "    <li>4</li>\n",
    "    <li>8</li>\n",
    "</ol>"
   ]
  },
  {
   "cell_type": "markdown",
   "metadata": {
    "editable": true,
    "slideshow": {
     "slide_type": ""
    },
    "tags": []
   },
   "source": [
    "## Opgave 4\n",
    "\n",
    "```python\n",
    "x = \"Emily\"\n",
    "\n",
    "if x < \"E\":\n",
    "    print (\"groep 1\")\n",
    "elif x < \"M\":\n",
    "    print (\"groep 2\")\n",
    "elif x < \"Z\":\n",
    "    print (\"groep 3\")\n",
    "else:\n",
    "    print (\"groep 4\")\n",
    "```\n",
    "\n",
    "Wat print dit programma?\n",
    "\n",
    "<ol type=\"a\">\n",
    "    <li>\"groep 1\"</li>\n",
    "    <li>\"groep 2\"</li>\n",
    "    <li>\"groep 3\"</li>\n",
    "    <li>\"groep 4\"</li>\n",
    "</ol>"
   ]
  },
  {
   "cell_type": "markdown",
   "metadata": {
    "editable": true,
    "slideshow": {
     "slide_type": ""
    },
    "tags": []
   },
   "source": [
    "## Opgave 5\n",
    "\n",
    "```python\n",
    "woord = \"Hanzehogeschool\"\n",
    "print(woord[-1])\n",
    "```\n",
    "\n",
    "Wat print dit programma?\n",
    "\n",
    "<ol type=\"a\">\n",
    "    <li>\"H\"</li>\n",
    "    <li>\"a\"</li>\n",
    "    <li>\"l\"</li>\n",
    "    <li>\"o\"</li>\n",
    "</ol>"
   ]
  },
  {
   "cell_type": "markdown",
   "metadata": {
    "editable": true,
    "slideshow": {
     "slide_type": ""
    },
    "tags": []
   },
   "source": [
    "## Opgave 6\n",
    "\n",
    "```python\n",
    "woord = \"Hanzehogeschool\"\n",
    "print(woord[3:6])\n",
    "```\n",
    "\n",
    "Wat print dit programma?\n",
    "\n",
    "<ol type=\"a\">\n",
    "    <li>\"nze\"</li>\n",
    "    <li>\"nzeh\"</li>\n",
    "    <li>\"zeh\"</li>\n",
    "    <li>\"zeho\"</li>\n",
    "</ol>"
   ]
  },
  {
   "cell_type": "markdown",
   "metadata": {
    "editable": true,
    "slideshow": {
     "slide_type": ""
    },
    "tags": []
   },
   "source": [
    "## Opgave 7\n",
    "\n",
    "```python\n",
    "woord = \"Hanzehogeschool\"\n",
    "print(woord[-1:1:-2])\n",
    "```\n",
    "\n",
    "Wat print dit programma?\n",
    "\n",
    "<ol type=\"a\">\n",
    "    <li>\"loceoen\"</li>\n",
    "    <li>\"azhgsho\"</li>\n",
    "    <li>\"Hneoecol\"</li>\n",
    "    <li>\"\"</li>\n",
    "</ol>"
   ]
  },
  {
   "cell_type": "markdown",
   "metadata": {
    "editable": true,
    "slideshow": {
     "slide_type": ""
    },
    "tags": []
   },
   "source": [
    "## Opgave 8\n",
    "\n",
    "```python\n",
    "print(function(5, 10))\n",
    "\n",
    "def function(x, y):\n",
    "    if x <= y:\n",
    "        return x\n",
    "```\n",
    "\n",
    "Wat print dit programma?\n",
    "\n",
    "<ol type=\"a\">\n",
    "    <li>5</li>\n",
    "    <li>10</li>\n",
    "    <li><code>None</code></code></li>\n",
    "    <li>Het programma werkt niet</li>\n",
    "</ol>"
   ]
  },
  {
   "cell_type": "markdown",
   "metadata": {
    "editable": true,
    "slideshow": {
     "slide_type": ""
    },
    "tags": []
   },
   "source": [
    "## Opgave 9\n",
    "\n",
    "```python\n",
    "def function(x, y):\n",
    "    if x > y:\n",
    "        return x\n",
    "    return y\n",
    "\n",
    "print(function(5, 10))\n",
    "```\n",
    "\n",
    "Wat print dit programma?\n",
    "\n",
    "<ol type=\"a\">\n",
    "    <li>5</li>\n",
    "    <li>10</li>\n",
    "    <li><code>None</code></code></li>\n",
    "    <li>Het programma werkt niet</li>\n",
    "</ol>"
   ]
  },
  {
   "cell_type": "markdown",
   "metadata": {
    "editable": true,
    "slideshow": {
     "slide_type": ""
    },
    "tags": []
   },
   "source": [
    "## Opgave 10\n",
    "\n",
    "```python\n",
    "def main():\n",
    "    temp = function(10, 5)\n",
    "    print(temp)\n",
    "\n",
    "\n",
    "def function(x, y):\n",
    "    if x < y:\n",
    "        return x\n",
    "\n",
    "main()\n",
    "```\n",
    "\n",
    "Wat print dit programma?\n",
    "\n",
    "<ol type=\"a\">\n",
    "    <li>5</li>\n",
    "    <li>10</li>\n",
    "    <li><code>None</code></code></li>\n",
    "    <li>Het programma werkt niet</li>\n",
    "</ol>"
   ]
  },
  {
   "cell_type": "markdown",
   "metadata": {
    "editable": true,
    "slideshow": {
     "slide_type": ""
    },
    "tags": []
   },
   "source": [
    "## Opgave 11\n",
    "\n",
    "```python\n",
    "def main():\n",
    "    temp = function1(10, 5)\n",
    "    print(temp)\n",
    "\n",
    "\n",
    "def function1(x, y):\n",
    "    if x < y:\n",
    "        return function2(x)\n",
    "    return function2(y)\n",
    "\n",
    "def function2(x):\n",
    "    return x * x\n",
    "\n",
    "main()\n",
    "```\n",
    "\n",
    "Wat print dit programma?\n",
    "\n",
    "<ol type=\"a\">\n",
    "    <li>5</li>\n",
    "    <li>10</li>\n",
    "    <li>25</li>\n",
    "    <li>100</li>\n",
    "    <li><code>None</code></code></li>\n",
    "    <li>Het programma werkt niet</li>\n",
    "</ol>"
   ]
  },
  {
   "cell_type": "markdown",
   "metadata": {
    "editable": true,
    "slideshow": {
     "slide_type": ""
    },
    "tags": []
   },
   "source": [
    "## Opgave 12\n",
    "\n",
    "```python\n",
    "def main():\n",
    "    temp = function1(5, 12)\n",
    "    print(temp)\n",
    "\n",
    "def function1(x, y):\n",
    "    if x % 2 == 0:\n",
    "        x = x/2\n",
    "    return x\n",
    "    if x < y:\n",
    "        return x\n",
    "    return y\n",
    "\n",
    "main()\n",
    "```\n",
    "\n",
    "Wat print dit programma?\n",
    "\n",
    "<ol type=\"a\">\n",
    "    <li>5</li>\n",
    "    <li>6</li>\n",
    "    <li>12</li>\n",
    "    <li><code>None</code></code></li>\n",
    "    <li>Het programma werkt niet</li>\n",
    "</ol>"
   ]
  },
  {
   "cell_type": "markdown",
   "metadata": {
    "editable": true,
    "slideshow": {
     "slide_type": ""
    },
    "tags": []
   },
   "source": [
    "## Opgave 13\n",
    "\n",
    "```python\n",
    "def function(y):\n",
    "\n",
    "    print(\"hoi\")\n",
    "\n",
    "    if y == 0:\n",
    "        return\n",
    "\n",
    "    function(y-1)\n",
    "\n",
    "function(4)\n",
    "```\n",
    "\n",
    "Hoe vaak print dit programma \"hoi\"?\n",
    "\n",
    "<ol type=\"a\">\n",
    "    <li>0</li>\n",
    "    <li>3</li>\n",
    "    <li>4</li>\n",
    "    <li>5</li>\n",
    "    <li>Het programma werkt niet</li>\n",
    "</ol>"
   ]
  },
  {
   "cell_type": "markdown",
   "metadata": {
    "editable": true,
    "slideshow": {
     "slide_type": ""
    },
    "tags": []
   },
   "source": [
    "## Opgave 14\n",
    "\n",
    "```python\n",
    "x = 8\n",
    "while x < 100:\n",
    "x = x * 2\n",
    "\n",
    "print(x)\n",
    "```\n",
    "\n",
    "Wat print dit programma?\n",
    "\n",
    "<ol type=\"a\">\n",
    "    <li>8</li>\n",
    "    <li>64</li>\n",
    "    <li>100</li>\n",
    "    <li>128</li>\n",
    "    <li>Het programma werkt niet</li>\n",
    "</ol>"
   ]
  },
  {
   "cell_type": "markdown",
   "metadata": {
    "editable": true,
    "slideshow": {
     "slide_type": ""
    },
    "tags": []
   },
   "source": [
    "## Opgave 15\n",
    "\n",
    "```python\n",
    "x = 5\n",
    "n = 2\n",
    "while x < 100 :\n",
    "    x = x * n\n",
    "    n += 1\n",
    "print(x)\n",
    "```\n",
    "\n",
    "Wat print dit programma?\n",
    "\n",
    "<ol type=\"a\">\n",
    "    <li>60</li>\n",
    "    <li>80</li>\n",
    "    <li>120</li>\n",
    "    <li>160</li>\n",
    "    <li>Het programma werkt niet</li>\n",
    "</ol>"
   ]
  },
  {
   "cell_type": "markdown",
   "metadata": {
    "editable": true,
    "slideshow": {
     "slide_type": ""
    },
    "tags": []
   },
   "source": [
    "## Opgave 16\n",
    "\n",
    "```python\n",
    "x = 100\n",
    "n = 1\n",
    "for i in range(0,5):\n",
    "    x = x - n\n",
    "    n = n * i + 1\n",
    "print(x)\n",
    "```\n",
    "\n",
    "Wat print dit programma?\n",
    "\n",
    "<ol type=\"a\">\n",
    "    <li>96</li>\n",
    "    <li>91</li>\n",
    "    <li>75</li>\n",
    "    <li>10</li>\n",
    "    <li>Het programma werkt niet</li>\n",
    "</ol>"
   ]
  },
  {
   "cell_type": "markdown",
   "metadata": {
    "editable": true,
    "slideshow": {
     "slide_type": ""
    },
    "tags": []
   },
   "source": [
    "## Opgave 17\n",
    "\n",
    "``` python \n",
    "x = 100\n",
    "while x > 10:\n",
    "    if x % 2 == 0:\n",
    "        x = x / 2\n",
    "    else:\n",
    "        x = x + 1\n",
    "print(x)\n",
    "```\n",
    "\n",
    "Wat print dit programma?\n",
    "\n",
    "<ol type=\"a\">\n",
    "    <li>1</li>\n",
    "    <li>6</li>\n",
    "    <li>7</li>\n",
    "    <li>13</li>\n",
    "    <li>Het programma werkt niet</li>\n",
    "</ol>"
   ]
  },
  {
   "cell_type": "markdown",
   "metadata": {
    "editable": true,
    "slideshow": {
     "slide_type": ""
    },
    "tags": []
   },
   "source": [
    "## Opgave 18\n",
    "\n",
    "```python\n",
    "lis = []\n",
    "number = 48\n",
    "for x in range (0,48):\n",
    "    if 48 % x == 0:\n",
    "        lis = lis + [x]\n",
    "print(lis)\n",
    "```\n",
    "\n",
    "Wat print dit programma?\n",
    "\n",
    "<ol type=\"a\">\n",
    "    <li><code>[1, 2, 3, 4, 6, 8, 12, 16, 24, 48]</code></li>\n",
    "    <li><code>[0, 1, 2, 3, 4, 6, 8, 12, 16, 24]</code></li>\n",
    "    <li><code>[1, 2, 4, 6, 8, 12, 16, 24, 48]</code></li>\n",
    "    <li><code>[0, 1, 2, 4, 6, 8, 12, 16, 24]</code></li>\n",
    "    <li>Het programma werkt niet</li>\n",
    "</ol>"
   ]
  },
  {
   "cell_type": "markdown",
   "metadata": {
    "editable": true,
    "slideshow": {
     "slide_type": ""
    },
    "tags": []
   },
   "source": [
    "## Opgave 19\n",
    "\n",
    "``` python\n",
    "lis = [1,2,3,4,5,6]\n",
    "for i in range(0,6):\n",
    "    if not lis[i] % 2 == 0:\n",
    "        lis[i] = lis[i] * 2\n",
    "print(lis)\n",
    "```\n",
    "\n",
    "Wat print dit programma?\n",
    "\n",
    "<ol type=\"a\">\n",
    "    <li><code>[2, 2, 6, 4, 10, 6]</code></li>\n",
    "    <li><code>[0, 2, 4, 6, 8, 10]</code></li>\n",
    "    <li><code>[2, 4, 6, 8, 10, 12]</code></li>\n",
    "    <li><code>[1, 2, 3, 4, 5, 6]</code></li>\n",
    "    <li>Het programma werkt niet</li>\n",
    "</ol>"
   ]
  },
  {
   "cell_type": "markdown",
   "metadata": {
    "editable": true,
    "slideshow": {
     "slide_type": ""
    },
    "tags": []
   },
   "source": [
    "## Opgave 20\n",
    "\n",
    "```python\n",
    "lis = []\n",
    "x = 1\n",
    "while(x < 5):\n",
    "    if not x % 2 == 0:\n",
    "        lis = lis + [2 * x]\n",
    "        x = x * 3 + 1\n",
    "    else:\n",
    "        lis = lis + [x]\n",
    "        x = x / 2\n",
    "print(lis)\n",
    "```\n",
    "\n",
    "Wat print dit programma?\n",
    "\n",
    "<ol type=\"a\">\n",
    "    <li><code>[1, 4, 2, 1, 4]</code></li>\n",
    "    <li><code>[1, 2, 3, 4, 5]</code></li>\n",
    "    <li><code>[1, 4, 13]</code></li>\n",
    "    <li><code>[2, 4, 2, 2, 4]</code></li>\n",
    "    <li>Het programma werkt niet</li>\n",
    "</ol>"
   ]
  }
 ],
 "metadata": {
  "kernelspec": {
   "display_name": "Python 3 (ipykernel)",
   "language": "python",
   "name": "python3"
  },
  "language_info": {
   "codemirror_mode": {
    "name": "ipython",
    "version": 3
   },
   "file_extension": ".py",
   "mimetype": "text/x-python",
   "name": "python",
   "nbconvert_exporter": "python",
   "pygments_lexer": "ipython3",
   "version": "3.12.3"
  }
 },
 "nbformat": 4,
 "nbformat_minor": 4
}
