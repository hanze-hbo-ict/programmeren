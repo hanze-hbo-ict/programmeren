{
 "cells": [
  {
   "cell_type": "markdown",
   "metadata": {},
   "source": [
    "# Data"
   ]
  },
  {
   "cell_type": "markdown",
   "metadata": {},
   "source": [
    "## Informatica\n",
    "\n",
    "een taal leren $\\sim$ **syntax** (noodzakelijk, maar niet het punt)\n",
    "\n",
    "... informatica studeren $\\sim$ **semantiek** (leren hoe machines denken!)"
   ]
  },
  {
   "cell_type": "markdown",
   "metadata": {},
   "source": [
    "Een programmeertaal als Python leren heeft alles te maken met syntax waarmee je handelingen kan schrijven die een machine moet uitvoeren. Maar hiervoor heb je ook andere kennis nodig, kennis die alles te maken heeft met wat de machine (bijvoorbeeld, jouw laptop) doet."
   ]
  },
  {
   "cell_type": "markdown",
   "metadata": {},
   "source": [
    "## Handelingen en data"
   ]
  },
  {
   "cell_type": "code",
   "execution_count": null,
   "metadata": {},
   "outputs": [],
   "source": [
    "x = 41\n",
    "y = x + 1"
   ]
  },
  {
   "cell_type": "markdown",
   "metadata": {},
   "source": [
    "Laten we om te beginnen de volgende twee variabelen `x` en `y` ieder een waarde toekennen. Deze waarden (`41` en `42`) worden in het geheugen opgeslagen."
   ]
  },
  {
   "cell_type": "markdown",
   "metadata": {},
   "source": [
    "## Achter het doek\n",
    "\n",
    "![box_metafoor](images/6/box.png)"
   ]
  },
  {
   "cell_type": "markdown",
   "metadata": {},
   "source": [
    "Stel je een variabele voor als een doos: de inhoud van de doos is de waarde (bijvoorbeeld `41` of `42` in ons geval) met extra informatie over het *type* van de waarde (een `int` wat staat voor *integer*, een geheel getal) en een geheugenlocatie (LOC)."
   ]
  },
  {
   "cell_type": "markdown",
   "metadata": {},
   "source": [
    "### Geheugen\n",
    "\n",
    "![box_locatie](images/6/box_2.png)"
   ]
  },
  {
   "cell_type": "markdown",
   "metadata": {},
   "source": [
    "Geheugen is een hele lange lijst van dit soort dozen, elk met een naam, waarde, type en geheugenlocatie."
   ]
  },
  {
   "cell_type": "markdown",
   "metadata": {},
   "source": [
    "![RAM 8Gb](images/6/1136px-Samsung-1GB-DDR2-Laptop-RAM.jpg)"
   ]
  },
  {
   "cell_type": "markdown",
   "metadata": {},
   "source": [
    "Random Access Memory ([RAM](https://nl.wikipedia.org/wiki/Dynamic_random-access_memory)) is waar variabelen worden opgeslagen, een kaart zoals je deze hier ziet zit ook in jouw computer! Als je het zwarte materiaal voorzichtig zou weghalen zal een (microscopisch klein) raster zichtbaar worden."
   ]
  },
  {
   "cell_type": "markdown",
   "metadata": {},
   "source": [
    "![RAM Grid](images/6/ramgrid.png)"
   ]
  },
  {
   "cell_type": "markdown",
   "metadata": {},
   "source": [
    "Horizontaal zie je de *bitlijnen*, of adresregels (de geheugenlokatie) en verticaal de *woordlijnen* (of dataregels). Elk kruispunt is een [condensator](https://nl.wikipedia.org/wiki/Condensator) die elektrisch geladen of ongeladen kan zijn."
   ]
  },
  {
   "cell_type": "markdown",
   "metadata": {},
   "source": [
    "### Bits\n",
    "\n",
    "![RAM Grid Bit](images/6/ramgrid_bit.png)"
   ]
  },
  {
   "cell_type": "markdown",
   "metadata": {},
   "source": [
    "Zo'n punt (een condensator) dat geladen (1 of `True`) of ongeladen (0 of `False`) kan zijn wordt een *bit* genoemd. Dit is de kleinst mogelijk informatie-eenheid!"
   ]
  },
  {
   "cell_type": "markdown",
   "metadata": {},
   "source": [
    "### Bytes\n",
    "\n",
    "![RAM Grid Byte](images/6/ramgrid_byte.png)"
   ]
  },
  {
   "cell_type": "markdown",
   "metadata": {},
   "source": [
    "Je zal ook vaak horen over *bytes* en dit is een verzameling van 8 aaneengesloten *bits* op een adresregel. Waarom 8 en niet 5, 10, 12 of meer (of minder) zal je je misschien afvragen? Dit is historisch bepaald en heeft alles te maken met het minimaal aantal bits dat ooit nodig was om een bepaalde set van karakters (letters en andere tekens) te kunnen representeren, [ASCII](https://nl.wikipedia.org/wiki/ASCII_(tekenset)) om precies te zijn."
   ]
  },
  {
   "cell_type": "markdown",
   "metadata": {},
   "source": [
    "## Decimale computers\n",
    "\n"
   ]
  },
  {
   "cell_type": "markdown",
   "metadata": {},
   "source": [
    "* Grondtal **10**  m.a.w. decimaal stelsel of ook wel bekend als tientallig stelsel. \n",
    "\n",
    "\n",
    "![42](images/6/42.png)\n",
    "\n",
    "\n",
    "$$42 = 4 \\cdot 10 + 2 \\cdot 1$$"
   ]
  },
  {
   "cell_type": "markdown",
   "metadata": {},
   "source": [
    "![123](images/6/123.png)\n",
    "\n",
    "$$123 = 1 \\cdot 100 + 2 \\cdot 10 + 3 \\cdot 1$$"
   ]
  },
  {
   "cell_type": "markdown",
   "metadata": {},
   "source": [
    "* Computers werken op stroom 😱\n",
    "* Dus moet je je getallen *representeren* met voltages."
   ]
  },
  {
   "cell_type": "markdown",
   "metadata": {},
   "source": [
    "![10 voltages](images/6/10colors.png)"
   ]
  },
  {
   "cell_type": "markdown",
   "metadata": {},
   "source": [
    "* Dat is lastig, zeker op schaal: welke waardes zijn dit bijvoorbeeld?\n",
    "\n",
    "![Welke voltages?](images/6/4colors.png)"
   ]
  },
  {
   "cell_type": "markdown",
   "metadata": {},
   "source": [
    "## Binaire computers\n",
    "\n",
    "* Binaire getallen maken dit veel makkelijker:\n",
    "\n",
    "![2 voltages](images/6/2colors.png)"
   ]
  },
  {
   "cell_type": "markdown",
   "metadata": {},
   "source": [
    "* Kijk maar:\n",
    "\n",
    "![Welke voltages?](images/6/2colors-2.png)"
   ]
  },
  {
   "cell_type": "markdown",
   "metadata": {},
   "source": [
    "## Binair stelsel"
   ]
  },
  {
   "cell_type": "markdown",
   "metadata": {},
   "source": [
    "\n",
    "\n",
    "* Van rechts naar links *representeert* elk binair cijfer een steeds grotere macht van 2.\n",
    "\n",
    "![101010](images/6/101010.png)\n",
    "\n",
    "$$101010_2 = 1 \\cdot 32 + 0 \\cdot 16 + 1 \\cdot 8 + 0 \\cdot 4 + 1 \\cdot 2 + 0 \\cdot 1 = 42$$"
   ]
  },
  {
   "cell_type": "markdown",
   "metadata": {},
   "source": [
    "![Binary digit](images/6/bit.png)"
   ]
  },
  {
   "cell_type": "markdown",
   "metadata": {},
   "source": [
    "$$\n",
    "\\begin{aligned}\n",
    "110011_2 &= 1 \\cdot 32 + 1 \\cdot 16 + 0 \\cdot 8 + 0 \\cdot 4 + 1 \\cdot 2 + 1 \\cdot 1 = 51_{10} \\\\ \n",
    "10001000_2 &= 1 \\cdot 128 + 0 \\cdot 64 + 0 \\cdot 32 + 0 \\cdot 16 + 1 \\cdot 8 + 0 \\cdot 4 + 0 \\cdot 2 + 0 \\cdot 1 = 136_{10} \\\\\n",
    "28_{10} &= 16 + 8 + 4 = 11100_2 \\\\\n",
    "101_{10} &= 64 + 32 + 4 + 1 = 1100101_2\n",
    "\\end{aligned}\n",
    "$$"
   ]
  },
  {
   "cell_type": "markdown",
   "metadata": {},
   "source": [
    "## Decimale getallen omzetten naar binaire getallen\n",
    "\n",
    "* Stel we willen het getal 141 van decimaal naar binair omzetten\n",
    "* De eerste stap is lastig als we **van links naar rechts** omzetten. *Waarom?*"
   ]
  },
  {
   "cell_type": "markdown",
   "metadata": {},
   "source": [
    "* Omdat we niet weten bij welke macht van twee we moeten beginnen!"
   ]
  },
  {
   "cell_type": "markdown",
   "metadata": {},
   "source": [
    "### Een betere aanpak: van rechts naar links!\n",
    "\n",
    "* Wat zou de meest rechter bit van de binaire versie van 141 zijn?\n",
    "* En de twee meest rechtse bits?"
   ]
  },
  {
   "cell_type": "markdown",
   "metadata": {},
   "source": [
    "* Alle machten van twee, **behalve 1**, zijn **even**! (Waarom?)\n",
    "* 141 is oneven, dus **moet** de laatste bit een 1 zijn! Die stelt immers de eenheden voor."
   ]
  },
  {
   "cell_type": "markdown",
   "metadata": {},
   "source": [
    "### Een algoritme!\n",
    "\n",
    "$$\n",
    "\\begin{aligned}\n",
    "141 &=\\; ... + a_3 \\cdot 8 + a_2 \\cdot 4 + a_1 \\cdot 2 + 1 \\cdot 1 \\\\\n",
    "140 &=\\; ... + a_3 \\cdot 8 + a_2 \\cdot 4 + a_1 \\cdot 2 \\\\\n",
    "70 &=\\; ... + a_3 \\cdot 4 + a_2 \\cdot 2 + a_1 \\cdot 1 \\\\\n",
    "\\end{aligned}\n",
    "$$"
   ]
  },
  {
   "cell_type": "markdown",
   "metadata": {},
   "source": [
    "We bouwen het binaire getal dus op van rechts naar links."
   ]
  },
  {
   "cell_type": "markdown",
   "metadata": {},
   "source": [
    "141 is oneven, dus laatste bit van 141 is 1. (141-1) / 2 = 70. 1  \n",
    "70 is even, dus laatste bit van 70 is 0. 70/2 = 35. 01  \n",
    "35 is oneven, dus laatste bit van 35 is 1. (35-1) / 2 = 17. 101   \n",
    "17 is oneven, dus laatste bit van 17 is 1. (17-1) / 2 = 8. 1101  \n",
    "8 is even, dus laatste bit van 8 is 0. 8 / 2 = 4. 01101  \n",
    "4 is even, dus laatste bit van 4 is 0. 4 / 2 = 2. 001101  \n",
    "2 is even, dus laatste bit van 2 is 0. 2 / 2 = 1. 0001101  \n",
    "1 is oneven, dus laatste bit van 1 is 1. 10001101  \n"
   ]
  },
  {
   "cell_type": "markdown",
   "metadata": {},
   "source": [
    "Binaire code van 141 is 10001101"
   ]
  },
  {
   "cell_type": "markdown",
   "metadata": {},
   "source": [
    "## Hoe zijn gegevens opgeslagen?\n",
    "\n",
    "![ASCII](images/6/ascii.png)\n",
    "\n",
    "* *Dezelfde* bits kunnen een andere waarde *representeren*, afhankelijk van het *type*!"
   ]
  },
  {
   "cell_type": "markdown",
   "metadata": {},
   "source": [
    "Laten we eerst kijken hoe karakters worden gerepresenteerd door een computer. De computer kent alleen maar bytes (8 opeenvolgende bits) dus hoe kan het karakters als A, B en C opslaan? Dit kan een computer niet en er is een vertaaltabel nodig om van bits naar karakters te komen en vice versa. De [ASCII](https://nl.wikipedia.org/wiki/ASCII_(tekenset)) tekenset is zo'n vertaaltabel."
   ]
  },
  {
   "cell_type": "markdown",
   "metadata": {},
   "source": [
    "### ASCII\n",
    "\n",
    "American Standard Code for Information Interchange\n",
    "\n",
    "![ASCII](images/6/ascii_0.png)"
   ]
  },
  {
   "cell_type": "markdown",
   "metadata": {},
   "source": [
    "Je zult later zien dat je decimale getallen kan omzetten naar een binaire representatie en in dit voorbeeld staat 67 decimaal gelijk aan 1000011 binair (bits!). Het karakter dat volgens de tabel bij deze waarde hoort is het karakter C."
   ]
  },
  {
   "cell_type": "markdown",
   "metadata": {},
   "source": [
    "![ASCII decimal](images/6/ascii_2.png)"
   ]
  },
  {
   "cell_type": "markdown",
   "metadata": {},
   "source": [
    "Je ziet dat *dezelfde* bits zowel een integer (decimaal) of string (teken) kunnen representeren, afhankelijk van het *type*: `int` of `str`. Anders gezegd, het type bepaalt of de binaire waarde (de bits) een getal vertegenwoordigen waar bijvoorbeeld mee gerekend kan worden of een karakter dat op scherm kan worden geprint: het type bepaalt de *context* van gebruik."
   ]
  },
  {
   "cell_type": "markdown",
   "metadata": {},
   "source": [
    "![Binary box](images/6/box_binary.png)"
   ]
  },
  {
   "cell_type": "markdown",
   "metadata": {},
   "source": [
    "Denk terug aan de \"dozen\" die we hebben gebruikt om een voorstelling te maken van wat zich in het geheugen van een computer afspeelt en met wat we nu weten kunnen we dit beeld gaan aanpassen. De \"inhoud\" van een doos zijn de bits, zoveel is nu wel duidelijk. De inhoud van verschillende dozen kan hetzelfde zijn maar het type bepaalt de representatie, bijvoorbeeld of het integer met waarde 67 of een string met waarde \"C\" is.\n",
    "\n",
    "De naam van een waarde (variabele) maakt dus ook niet uit, je weet inmiddels dat je (bijna) elke naam voor een variabele mag kiezen en het is niets meer dan een verwijzing naar de waarde die voor jou betekenis heeft (en je zult misschien hebben gemerkt dat het kiezen van een betekenisvolle naam niet altijd eenvoudig is!)."
   ]
  }
 ],
 "metadata": {
  "language_info": {
   "name": "python"
  }
 },
 "nbformat": 4,
 "nbformat_minor": 2
}
