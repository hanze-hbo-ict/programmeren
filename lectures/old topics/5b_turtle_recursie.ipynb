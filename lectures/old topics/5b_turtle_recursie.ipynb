{
 "cells": [
  {
   "cell_type": "markdown",
   "metadata": {
    "slideshow": {
     "slide_type": "slide"
    }
   },
   "source": [
    "# Lijnenspel\n",
    "\n",
    "Recursief lijnen trekken"
   ]
  },
  {
   "cell_type": "markdown",
   "metadata": {
    "slideshow": {
     "slide_type": "subslide"
    }
   },
   "source": [
    "## Lijnen trekken"
   ]
  },
  {
   "cell_type": "markdown",
   "metadata": {
    "slideshow": {
     "slide_type": "fragment"
    }
   },
   "source": [
    "![Etch-a_Sketch](images/5/etch-a-sketch.png)"
   ]
  },
  {
   "cell_type": "markdown",
   "metadata": {
    "slideshow": {
     "slide_type": "notes"
    }
   },
   "source": [
    "[Etch-A-Sketch](https://etchasketch.com/), misschien ken je het wel? Met twee draaiknoppen kan je op een scherm horizontale en verticale lijnen trekken en met wat oefeningen kan je ze ook laten buigen door beide knoppen tegelijkertijd te draaien. "
   ]
  },
  {
   "cell_type": "markdown",
   "metadata": {
    "slideshow": {
     "slide_type": "skip"
    }
   },
   "source": [
    "<div><iframe width=\"560\" height=\"315\" src=\"https://www.youtube.com/embed/6TAsmUSpbhM\" frameborder=\"0\" allow=\"accelerometer; encrypted-media; gyroscope; picture-in-picture\" allowfullscreen></iframe></div>\n",
    "\n",
    "\"Etch-a-Sketch has a lot of unique limitations and one of the big ones is that everything is connected by a single line.\""
   ]
  },
  {
   "cell_type": "markdown",
   "metadata": {
    "slideshow": {
     "slide_type": "subslide"
    }
   },
   "source": [
    "## Lijnen met Python\n",
    "\n",
    "Kan het? Ja het kan!"
   ]
  },
  {
   "cell_type": "markdown",
   "metadata": {
    "slideshow": {
     "slide_type": "subslide"
    }
   },
   "source": [
    "![turtle benzene](images/5/turtle_benzene.png)"
   ]
  },
  {
   "cell_type": "markdown",
   "metadata": {
    "slideshow": {
     "slide_type": "subslide"
    }
   },
   "source": [
    "### Maar soms ook niet..."
   ]
  },
  {
   "cell_type": "markdown",
   "metadata": {
    "slideshow": {
     "slide_type": "fragment"
    }
   },
   "source": [
    "![Turtle Terminator](images/5/terminator_error.png)"
   ]
  },
  {
   "cell_type": "markdown",
   "metadata": {
    "slideshow": {
     "slide_type": "notes"
    }
   },
   "source": [
    "Het werk niet altijd even goed als je turtle programma's aanroept in IPython. Je kan bijvoorbeeld na een tweede aanroep van een programma met `run` tegen de `Terminator` fout aanlopen die bijzonder frustrerend en ook weinig informatief is!"
   ]
  },
  {
   "cell_type": "markdown",
   "metadata": {
    "slideshow": {
     "slide_type": "subslide"
    }
   },
   "source": [
    "![Terminator](images/5/terminator_movie.png)"
   ]
  },
  {
   "cell_type": "markdown",
   "metadata": {
    "slideshow": {
     "slide_type": "notes"
    }
   },
   "source": [
    "Hoe kan je de `Terminator` ontwijken? De beste manier die wij hebben gevonden is om een turtle programma door Python direct uit te laten voeren (dus niet in de interactieve Python modus of IPython)."
   ]
  },
  {
   "cell_type": "markdown",
   "metadata": {
    "slideshow": {
     "slide_type": "subslide"
    }
   },
   "source": [
    "### Turtle zonder IPython\n",
    "\n",
    "```shell\n",
    "python turtle_programma.py\n",
    "```"
   ]
  },
  {
   "cell_type": "markdown",
   "metadata": {
    "slideshow": {
     "slide_type": "notes"
    }
   },
   "source": [
    "Dus type `python`, gevolgd door de naam van het bestand met jouw turtle programma. Let op, afhankelijk van jouw systeem zal je misschien `python3` moeten typen."
   ]
  },
  {
   "cell_type": "markdown",
   "metadata": {
    "slideshow": {
     "slide_type": "slide"
    }
   },
   "source": [
    "## Voorbeeld"
   ]
  },
  {
   "cell_type": "markdown",
   "metadata": {
    "slideshow": {
     "slide_type": "fragment"
    }
   },
   "source": [
    "```python\n",
    "from turtle import *\n",
    "\n",
    "def poly(runs, TOTAL_SIDES):\n",
    "    \"\"\"Teken een polygoon met runs/TOTAL_SIDES\n",
    "    \"\"\"\n",
    "    if runs == 0:\n",
    "        return  # klaar\n",
    "    else:\n",
    "        forward(100)\n",
    "        left(360 / TOTAL_SIDES)\n",
    "        poly(runs - 1, TOTAL_SIDES)\n",
    "\n",
    "\n",
    "poly(9, 9)\n",
    "exitonclick()\n",
    "```"
   ]
  },
  {
   "cell_type": "markdown",
   "metadata": {
    "slideshow": {
     "slide_type": "notes"
    }
   },
   "source": [
    "Een recursief turtle voorbeeld! De functie `poly` accepteert twee parameters, de `run` parameter bepaalt hoe vaak de functie zichzelf moet aanroepen en `TOTAL_SIDES` is het aantal zijden van de polygoon. Kan je de base case en de recursieve case aanwijzen?\n",
    "\n",
    "`TOTAL_SIDES` noemen we in dit geval een *constante*, een onveranderlijke waarde. Deze waarde moet natuurlijk onveranderlijk zijn omdat de functie deze waarde bij elke aanroep nodig heeft om de hoek van de draai te berekenen. Het is een *conventie* (een gewoonte, of stilzwijgende afspraak) om constante variabelen in *hoofdletters* te schrijven, niet alleen in Python maar ook in veel andere programmeertalen."
   ]
  },
  {
   "cell_type": "markdown",
   "metadata": {
    "slideshow": {
     "slide_type": "subslide"
    }
   },
   "source": [
    "![turtle polygon](images/5/turtle_polygon.png)"
   ]
  },
  {
   "cell_type": "markdown",
   "metadata": {
    "slideshow": {
     "slide_type": "subslide"
    }
   },
   "source": [
    "## Random lijnen"
   ]
  },
  {
   "cell_type": "markdown",
   "metadata": {
    "slideshow": {
     "slide_type": "fragment"
    }
   },
   "source": [
    "```python\n",
    "from turtle import *\n",
    "from random import choice\n",
    "\n",
    "def rwalk(N):\n",
    "    \"\"\"Zet N keer 20 pixel stappen, naar NE of SE\n",
    "    \"\"\"\n",
    "    if N == 0:\n",
    "        return\n",
    "\n",
    "    direction = choice([\"left\", \"right\"])\n",
    "\n",
    "    if direction == \"left\":\n",
    "        left(45)\n",
    "        forward(20)\n",
    "        rwalk(N - 1)\n",
    "    else:\n",
    "        right(45)\n",
    "        forward(20)\n",
    "        rwalk(N - 1)\n",
    "```"
   ]
  },
  {
   "cell_type": "markdown",
   "metadata": {
    "slideshow": {
     "slide_type": "notes"
    }
   },
   "source": [
    "Een random turtle walk! Maak (vanuit het perspectief van turtle) een draai naar noord-oost- (links) of zuid-oostelijke (rechts) richting, afhankelijk van een *random* keus."
   ]
  },
  {
   "cell_type": "markdown",
   "metadata": {
    "slideshow": {
     "slide_type": "subslide"
    }
   },
   "source": [
    "![turtle random walk](images/5/turtle_rwalk.png)"
   ]
  },
  {
   "cell_type": "markdown",
   "metadata": {
    "slideshow": {
     "slide_type": "notes"
    }
   },
   "source": [
    "De loop van een aangeschoten turtle..."
   ]
  },
  {
   "cell_type": "markdown",
   "metadata": {
    "slideshow": {
     "slide_type": "subslide"
    }
   },
   "source": [
    "### Herhaling\n",
    "\n",
    "Herhaling van handelingen maar herhaling in *code*?\n",
    "\n",
    "```python\n",
    "if direction == \"left\":\n",
    "    left(45)\n",
    "    forward(20)\n",
    "    rwalk(N - 1)\n",
    "else:\n",
    "    right(45)\n",
    "    forward(20)\n",
    "    rwalk(N - 1)\n",
    "```"
   ]
  },
  {
   "cell_type": "markdown",
   "metadata": {
    "slideshow": {
     "slide_type": "notes"
    }
   },
   "source": [
    "Het is geen probleem als je dit op deze manier schrijft (Python zal in ieder geval niet klagen!) maar je ziet dat we onszelf herhalen. Het enige dat de `if` en `else` van elkaar onderscheidt is de *richting*, de stap voorwaarts gevolgd door de recursieve aanroep is wat ze met elkaar gemeen hebben. Zou dit ook anders kunnen worden geschreven? "
   ]
  },
  {
   "cell_type": "markdown",
   "metadata": {
    "slideshow": {
     "slide_type": "subslide"
    }
   },
   "source": [
    "```python\n",
    "if direction == \"left\":\n",
    "    left(45)\n",
    "else:\n",
    "    right(45)\n",
    "\n",
    "forward(20)\n",
    "rwalk(N - 1)\n",
    "```"
   ]
  },
  {
   "cell_type": "markdown",
   "metadata": {
    "slideshow": {
     "slide_type": "notes"
    }
   },
   "source": [
    "Dit is een herschreven versie. Het `if` / `else` blok is in nu alleen maar \"verantwoordelijk\" voor de richting en als dit blok is afgehandeld wordt vervolgens een stap voorwaarts gezet en wordt de volgende recursieve aanroep gedaan.\n",
    "\n",
    "Nogmaals, is een herhaling zoals je in het eerste geval hebt gezien een probleem? Nee, maar misschien is de tweede variant beter leesbaar of maakt het in ieder geval duidelijker wat een keus voor links of rechts betekent (en maken we daarmee de bedoeling voor onszelf en wellicht ook andere lezers van onze oplossing *expliciet*)."
   ]
  },
  {
   "cell_type": "markdown",
   "metadata": {
    "slideshow": {
     "slide_type": "slide"
    }
   },
   "source": [
    "## Quiz"
   ]
  },
  {
   "cell_type": "markdown",
   "metadata": {
    "slideshow": {
     "slide_type": "fragment"
    }
   },
   "source": [
    "```python\n",
    "def chai(dist):\n",
    "    \"\"\"fn mysterie!\n",
    "    \"\"\"\n",
    "    if dist < 5:\n",
    "        return\n",
    "\n",
    "    forward(dist)\n",
    "    left(90)\n",
    "    forward(dist / 2)\n",
    "    right(90)\n",
    "\n",
    "    right(90)\n",
    "    forward(dist)\n",
    "    left(90)\n",
    "\n",
    "    left(90)\n",
    "    forward(dist / 2.0)\n",
    "    right(90)\n",
    "    backward(dist)\n",
    "```\n",
    "\n",
    "Wat is het resultaat van `chai(100)`?"
   ]
  },
  {
   "cell_type": "markdown",
   "metadata": {
    "slideshow": {
     "slide_type": "notes"
    }
   },
   "source": [
    "Pak een stuk papier en probeer de lijn te trekken en het resultaat uit te tekenen! 100 is in dit geval natuurlijk het aantal pixels op scherm, kies op papier bijvoorbeeld voor ~10cm. "
   ]
  },
  {
   "cell_type": "markdown",
   "metadata": {
    "slideshow": {
     "slide_type": "subslide"
    }
   },
   "source": [
    "### Oplossing"
   ]
  },
  {
   "cell_type": "markdown",
   "metadata": {
    "slideshow": {
     "slide_type": "fragment"
    }
   },
   "source": [
    "![turtle chai 100](images/5/turtle_chai_100.png)"
   ]
  },
  {
   "cell_type": "markdown",
   "metadata": {
    "slideshow": {
     "slide_type": "subslide"
    }
   },
   "source": [
    "### Vervolg"
   ]
  },
  {
   "cell_type": "markdown",
   "metadata": {
    "slideshow": {
     "slide_type": "fragment"
    }
   },
   "source": [
    "```python\n",
    "def chai(dist):\n",
    "    \"\"\"fn mysterie onthuld!\n",
    "    \"\"\"\n",
    "    if dist < 5:\n",
    "        return\n",
    "\n",
    "    forward(dist)\n",
    "    left(90)\n",
    "    forward(dist / 2)\n",
    "    right(90)\n",
    "    \n",
    "    chai(dist / 2)  # <== !!!\n",
    "    \n",
    "    right(90)\n",
    "    forward(dist)\n",
    "    left(90)\n",
    "\n",
    "    left(90)\n",
    "    forward(dist / 2.0)\n",
    "    right(90)\n",
    "    backward(dist)\n",
    "```"
   ]
  },
  {
   "cell_type": "markdown",
   "metadata": {
    "slideshow": {
     "slide_type": "notes"
    }
   },
   "source": [
    "In het eerste voorbeeld (de quiz) zag je twee witregels. Wat gebeurt er als we een eerste recursieve aanroep doen? Je zal zien dat het patroon dat je net hebt uitgetekend zich gaat herhalen!"
   ]
  },
  {
   "cell_type": "markdown",
   "metadata": {
    "slideshow": {
     "slide_type": "subslide"
    }
   },
   "source": [
    "![turtle chai 100 recursive left](images/5/turtle_chai_100_recursive_left.png)"
   ]
  },
  {
   "cell_type": "markdown",
   "metadata": {
    "slideshow": {
     "slide_type": "notes"
    }
   },
   "source": [
    "Laten we zien wat er gebeurt als we de recursieve aanroep alleen op de tweede witregel plaatsen."
   ]
  },
  {
   "cell_type": "markdown",
   "metadata": {
    "slideshow": {
     "slide_type": "subslide"
    },
    "tags": []
   },
   "source": [
    "```python\n",
    "def chai(dist):\n",
    "    \"\"\"fn mysterie onthuld!\n",
    "    \"\"\"\n",
    "    if dist < 5:\n",
    "        return\n",
    "\n",
    "    forward(dist)\n",
    "    left(90)\n",
    "    forward(dist / 2)\n",
    "    right(90)\n",
    "        \n",
    "    right(90)\n",
    "    forward(dist)\n",
    "    left(90)\n",
    "\n",
    "    chai(dist / 2)  # <== !!!\n",
    "    \n",
    "    left(90)\n",
    "    forward(dist / 2.0)\n",
    "    right(90)\n",
    "    backward(dist)\n",
    "```"
   ]
  },
  {
   "cell_type": "markdown",
   "metadata": {
    "slideshow": {
     "slide_type": "subslide"
    }
   },
   "source": [
    "![turtle chai 100 recursive right](images/5/turtle_chai_100_recursive_right.png)"
   ]
  },
  {
   "cell_type": "markdown",
   "metadata": {
    "slideshow": {
     "slide_type": "notes"
    }
   },
   "source": [
    "Je ziet precies hetzelfde gebeuren (maar gespiegeld). Laten we ze nu combineren!"
   ]
  },
  {
   "cell_type": "markdown",
   "metadata": {
    "slideshow": {
     "slide_type": "subslide"
    }
   },
   "source": [
    "```python\n",
    "def chai(dist):\n",
    "    \"\"\"fn mysterie onthuld!\n",
    "    \"\"\"\n",
    "    if dist < 5:\n",
    "        return\n",
    "\n",
    "    forward(dist)\n",
    "    left(90)\n",
    "    forward(dist / 2)\n",
    "    right(90)\n",
    "        \n",
    "    chai(dist / 2)  # <== !!!\n",
    "\n",
    "    right(90)\n",
    "    forward(dist)\n",
    "    left(90)\n",
    "\n",
    "    chai(dist / 2)  # <== !!!\n",
    "    \n",
    "    left(90)\n",
    "    forward(dist / 2.0)\n",
    "    right(90)\n",
    "    backward(dist)\n",
    "```"
   ]
  },
  {
   "cell_type": "markdown",
   "metadata": {
    "slideshow": {
     "slide_type": "subslide"
    }
   },
   "source": [
    "![turtle chai 100 recursive](images/5/turtle_chai_100_recursive.png)"
   ]
  },
  {
   "cell_type": "markdown",
   "metadata": {
    "slideshow": {
     "slide_type": "notes"
    }
   },
   "source": [
    "En daar zien je het volledig recursief patroon!"
   ]
  },
  {
   "cell_type": "raw",
   "metadata": {
    "slideshow": {
     "slide_type": "subslide"
    }
   },
   "source": [
    "<video controls width=\"435\">\n",
    "    <source src=\"../images/5/chai_animate.webm\"\n",
    "            type=\"video/webm\">\n",
    "    Sorry, your browser doesn't support embedded videos.\n",
    "</video>"
   ]
  },
  {
   "cell_type": "markdown",
   "metadata": {
    "slideshow": {
     "slide_type": "slide"
    }
   },
   "source": [
    "## Een enkel pad\n",
    "\n",
    "`chai` is een voorbeeld van een *vertakking*, een meervoudig pad."
   ]
  },
  {
   "cell_type": "markdown",
   "metadata": {
    "slideshow": {
     "slide_type": "notes"
    }
   },
   "source": [
    "Met *meervoudig* bedoelen we een pad dat meerdere keren wordt doorlopen, in het geval van `chai` moet hetzelfde pad *twee* keer worden gevolgd (heen en terug). Of meer algemeen, je eindigt steeds waar je bent begonnen. We gaan nu kijken naar patronen die een *enkel* pad volgen."
   ]
  },
  {
   "cell_type": "markdown",
   "metadata": {
    "slideshow": {
     "slide_type": "fragment"
    }
   },
   "source": [
    "```python\n",
    "def spiral(initial_length, angle, multiplier):\n",
    "    \"\"\"Teken een spiraal\n",
    "    \"\"\"\n",
    "    if initial_length <= 1:  # base case\n",
    "        return\n",
    "    else:\n",
    "        # stap voorwaarts met initial_length\n",
    "        # maak een draai naar links met hoek angle\n",
    "        # herhaal met een gereduceerde lengte (recursieve case!)\n",
    "```"
   ]
  },
  {
   "cell_type": "markdown",
   "metadata": {
    "slideshow": {
     "slide_type": "notes"
    }
   },
   "source": [
    "De naam zegt het al, `spiral` is een turtle functie die een *spiraal* zal tekenen (een enkel pad). Dit is één van de functies die je zelf gaat uitwerken."
   ]
  },
  {
   "cell_type": "markdown",
   "metadata": {
    "slideshow": {
     "slide_type": "subslide"
    }
   },
   "source": [
    "![turtle 100 08 spiral](images/5/turtle_100_08_spiral.png)\n",
    "\n",
    "```python\n",
    "spiral(100, 90, 0.8)\n",
    "```"
   ]
  },
  {
   "cell_type": "markdown",
   "metadata": {
    "slideshow": {
     "slide_type": "notes"
    }
   },
   "source": [
    "De functie `spiral` accepteert drie parameters: een initiële lengte (`initial_length`), een hoek (`angle`) en `multiplier`. `multiplier` is de waarde waarmee de `initial_length` steeds mee moet worden vermenigvuldigd en dit resultaat is de waarde van `initial_length` die aan de de *volgende* recursieve aanroep wordt doorgegeven.\n",
    "\n",
    "Voor elke stap na de eerste aanroep (lengte 100) wordt de eerstvolgende lengte steeds bepaald door `multiplier` vermenigvuldigd met `initial_length` (100 x 0.8 = 80, 80 x 0.8 = 64, 64 x 0.8 = ...). \n",
    "\n",
    "Terzijde, de naam `initial_length` kan verwarrend zijn want het impliceert een \"beginlengte\". Maar de waarde staat eigenlijk voor de afstand die turtle elke keer moet afleggen en hadden we misschien een betere naam voor deze variabele moeten kiezen, bijvoorbeeld `side_length`... Dit om maar aan te geven dat het kiezen van namen moeilijk, maar ook belangrijk is!"
   ]
  },
  {
   "cell_type": "markdown",
   "metadata": {
    "slideshow": {
     "slide_type": "subslide"
    }
   },
   "source": [
    "## Diepte\n",
    "\n",
    "Diepte als base case."
   ]
  },
  {
   "cell_type": "markdown",
   "metadata": {
    "slideshow": {
     "slide_type": "fragment"
    }
   },
   "source": [
    "```python\n",
    "def svtree(trunklength, levels):\n",
    "    \"\"\"Teken een zijaanzicht van een boom\n",
    "    \n",
    "       trunklength = de lengte van de eerste lijn (\"de stam\")\n",
    "       levels = de recursieve diepte tot waar moet worden vertakt\n",
    "    \"\"\"\n",
    "    if levels == 0:\n",
    "        return\n",
    "    else:\n",
    "        # Teken de oorspronkelijke stam (1 regel)\n",
    "        # Draai een stukje om de eerste subboom te positioneren (1 regel)\n",
    "        # Voer recursie uit! met een kleinere stam en minder niveaus (1 line)\n",
    "        # Draai de andere kant op om de tweede subboom te positioneren (1 regel)\n",
    "        # Voer opnieuw recursie uit! (1 regel)\n",
    "        # Draai en ga TERUG (2 stappen: 2 regels)\n",
    "```"
   ]
  },
  {
   "cell_type": "markdown",
   "metadata": {
    "slideshow": {
     "slide_type": "notes"
    }
   },
   "source": [
    "Dit ie een andere opgave die je gaat uitwerken, en deze functie lijkt heel erg op de functie `chai`! Het resultaat wordt een zijaanzicht van een boom (\"side view tree\", of `svtree`)!"
   ]
  },
  {
   "cell_type": "markdown",
   "metadata": {
    "slideshow": {
     "slide_type": "subslide"
    }
   },
   "source": [
    "### Een boom\n",
    "\n",
    "```python\n",
    "svtree(100, 5)\n",
    "```\n",
    "\n",
    "Een boom met een eerste lengte `100` en 5 vertakkingen."
   ]
  },
  {
   "cell_type": "markdown",
   "metadata": {
    "slideshow": {
     "slide_type": "subslide"
    }
   },
   "source": [
    "![turtle svtree](images/5/turtle_svtree.png)"
   ]
  },
  {
   "cell_type": "markdown",
   "metadata": {
    "slideshow": {
     "slide_type": "subslide"
    }
   },
   "source": [
    "```python\n",
    "def svtree(trunklength, levels):\n",
    "    \"\"\"Teken een zijaanzicht van een boom\n",
    "    \n",
    "       trunklength = de lengte van de eerste lijn (\"de stam\")\n",
    "       levels = de recursieve diepte tot waar moet worden vertakt\n",
    "    \"\"\"\n",
    "    if levels == 0:  # base case\n",
    "        return\n",
    "    else:            # recursive case\n",
    "        ...\n",
    "```"
   ]
  },
  {
   "cell_type": "markdown",
   "metadata": {
    "slideshow": {
     "slide_type": "notes"
    }
   },
   "source": [
    "De base case is bereikt als `levels` gelijk is aan 0, vanaf dat moment moeten geen vertakkingen meer worden getekend."
   ]
  },
  {
   "cell_type": "markdown",
   "metadata": {
    "slideshow": {
     "slide_type": "subslide"
    }
   },
   "source": [
    "![turtle svtree levels](images/5/turtle_svtree_levels.png)"
   ]
  },
  {
   "cell_type": "markdown",
   "metadata": {
    "slideshow": {
     "slide_type": "notes"
    }
   },
   "source": [
    "Je ziet de niveaus van vertakking terug. `level` 0 zie je niet, vanaf dat punt wordt niets meer getekend. Welke stappen moet turtle nemen voor het tot recursie overgaat (een nieuwe tak)?"
   ]
  },
  {
   "cell_type": "markdown",
   "metadata": {
    "slideshow": {
     "slide_type": "subslide"
    }
   },
   "source": [
    "![turtle svtree steps](images/5/turtle_svtree_steps.png)"
   ]
  },
  {
   "cell_type": "markdown",
   "metadata": {
    "slideshow": {
     "slide_type": "notes"
    }
   },
   "source": [
    "turtle start altijd in oostelijke richting!\n",
    "\n",
    "```python\n",
    "svtree(100, 5)\n",
    "```\n",
    "\n",
    "1. ga 100 pixels vooruit\n",
    "2. draai naar noordoostelijke richting\n",
    "3. teken een nieuwe, kleinere boom: `svtree(75, 4)`\n",
    "4. draai naar zuidoostelijke richting\n",
    "5. teken een nieuwe, kleinere boom: `svtree(75, 4)`\n",
    "6. keer om naar westelijke richting en loop 100 pixels terug "
   ]
  },
  {
   "cell_type": "markdown",
   "metadata": {
    "slideshow": {
     "slide_type": "slide"
    }
   },
   "source": [
    "## De Koch-kromme\n",
    "\n",
    "[Fractals](https://nl.wikipedia.org/wiki/Koch-kromme) met Python!"
   ]
  },
  {
   "cell_type": "markdown",
   "metadata": {
    "slideshow": {
     "slide_type": "fragment"
    }
   },
   "source": [
    "```python\n",
    "def snowflake(sidelength, levels):\n",
    "    \"\"\"Fractal snowflake function\n",
    "       sidelength: pixels in the largest-scale triangle side\n",
    "       levels: the number of recursive levels in each side\n",
    "    \"\"\"\n",
    "    flakeside(sidelength, levels)\n",
    "    left(120)\n",
    "    flakeside(sidelength, levels)\n",
    "    left(120)\n",
    "    flakeside(sidelength, levels)\n",
    "    left(120)\n",
    "```"
   ]
  },
  {
   "cell_type": "markdown",
   "metadata": {
    "slideshow": {
     "slide_type": "notes"
    }
   },
   "source": [
    "De Koch-sneeuwvlok is een fractal met drie identieke zijden en het zijn de zijden *zelf* die recursief worden gedefinieerd, niet de driehoek!"
   ]
  },
  {
   "cell_type": "markdown",
   "metadata": {},
   "source": [
    "```python\n",
    "snowflake(100, 0)\n",
    "```"
   ]
  },
  {
   "cell_type": "markdown",
   "metadata": {
    "slideshow": {
     "slide_type": "subslide"
    }
   },
   "source": [
    "![snowflake 100 0-2](images/5/snowflake_100_0-2.png)"
   ]
  },
  {
   "cell_type": "markdown",
   "metadata": {
    "slideshow": {
     "slide_type": "subslide"
    }
   },
   "source": [
    "![snowflake 100 3-5](images/5/snowflake_100_3-5.png)"
   ]
  },
  {
   "cell_type": "markdown",
   "metadata": {
    "slideshow": {
     "slide_type": "subslide"
    }
   },
   "source": [
    "![snowflake 100 0](images/5/snowflake_100_side.png)"
   ]
  },
  {
   "cell_type": "markdown",
   "metadata": {
    "slideshow": {
     "slide_type": "notes"
    }
   },
   "source": [
    "De zijden worden dus recursief gedefinieerd, de functie `flakeside` is hier verantwoordelijk voor en jij gaat deze functie verder uitgewerken.\n",
    "\n",
    "```python\n",
    "def flakeside(sidelength, levels):\n",
    "    ...\n",
    "```"
   ]
  },
  {
   "cell_type": "markdown",
   "metadata": {
    "slideshow": {
     "slide_type": "subslide"
    }
   },
   "source": [
    "![flakeside 100 0-2](images/5/flakeside_100_0-2.png)"
   ]
  },
  {
   "cell_type": "markdown",
   "metadata": {
    "slideshow": {
     "slide_type": "notes"
    }
   },
   "source": [
    "Belangrijk om te onthouden is dat elke zijde altijd 4 subzijden bevat. `flakeside(100, 0)` is de base case en daar gebeurt niets. `flakeside(100, 1)` maakt het vier-zijden principe duidelijk, en elk niveau verder is een recursieve aanroep op de zijde, zoals je bij `flakeside(100, 2)` ziet. "
   ]
  },
  {
   "cell_type": "markdown",
   "metadata": {
    "slideshow": {
     "slide_type": "slide"
    }
   },
   "source": [
    "![mind blown, again](images/5/mind_blown.webp)"
   ]
  },
  {
   "cell_type": "markdown",
   "metadata": {
    "slideshow": {
     "slide_type": "notes"
    }
   },
   "source": [
    "Dit zijn heel lastige opgaven, want niet alleen zal je recursief moeten denken (houd ook altijd de *stack* in gedachten om aanroepen logisch te volgen) maar ook zal je steeds goed moeten nadenken over de handelingen en richting die turtle per stap moet uitvoeren!"
   ]
  }
 ],
 "metadata": {
  "kernelspec": {
   "display_name": "Python 3 (ipykernel)",
   "language": "python",
   "name": "python3"
  },
  "language_info": {
   "codemirror_mode": {
    "name": "ipython",
    "version": 3
   },
   "file_extension": ".py",
   "mimetype": "text/x-python",
   "name": "python",
   "nbconvert_exporter": "python",
   "pygments_lexer": "ipython3",
   "version": "3.9.5"
  }
 },
 "nbformat": 4,
 "nbformat_minor": 4
}
