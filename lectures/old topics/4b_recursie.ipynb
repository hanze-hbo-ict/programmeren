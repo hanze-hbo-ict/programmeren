{
 "cells": [
  {
   "cell_type": "markdown",
   "metadata": {
    "slideshow": {
     "slide_type": "slide"
    }
   },
   "source": [
    "# Recursie\n",
    "\n",
    "> Om recursie te kunnen begrijpen moet je eerst recursie kunnen begrijpen.\n",
    ">\n",
    "> -- student, anoniem"
   ]
  },
  {
   "cell_type": "markdown",
   "metadata": {
    "slideshow": {
     "slide_type": "fragment"
    }
   },
   "source": [
    "Of: het antwoord op het probleem is het antwoord op het probleem (is het antwoord op het probleem)"
   ]
  },
  {
   "cell_type": "markdown",
   "metadata": {
    "slideshow": {
     "slide_type": "subslide"
    }
   },
   "source": [
    "![mind, blown ... recursive](images/4/mind_blown_recursive.gif)"
   ]
  },
  {
   "cell_type": "markdown",
   "metadata": {
    "slideshow": {
     "slide_type": "notes"
    }
   },
   "source": [
    "Zet je schrap want dit onderwerp gaat voor hoofpijn én verassende inzichten zorgen, kies je [favoriet](https://giphy.com/explore/mind-blown)..."
   ]
  },
  {
   "cell_type": "markdown",
   "metadata": {
    "slideshow": {
     "slide_type": "subslide"
    }
   },
   "source": [
    "## Een oplossing die zichzelf herhaalt\n",
    "\n",
    "```python\n",
    "def numis(s):\n",
    "    \"\"\"Tel het aantal i's in s\n",
    "    input s: een string\n",
    "    \"\"\"\n",
    "    ...\n",
    "```"
   ]
  },
  {
   "cell_type": "markdown",
   "metadata": {
    "slideshow": {
     "slide_type": "notes"
    }
   },
   "source": [
    "Stel je een functie voor die het aantal i's in een string telt en dit als waarde teruggeeft. Dit is een lastig probleem, laten we proberen het eerst uit te schrijven zonder direct in Python te denken. Het resultaat van de functie zou het volgende moeten zijn:"
   ]
  },
  {
   "cell_type": "markdown",
   "metadata": {
    "slideshow": {
     "slide_type": "subslide"
    }
   },
   "source": [
    "Totaal aantal i's in `\"i💙aliens\"`?"
   ]
  },
  {
   "cell_type": "markdown",
   "metadata": {
    "slideshow": {
     "slide_type": "notes"
    }
   },
   "source": [
    "Aliens zijn om van te houden, toch?!? Laat dit de string zijn die we willen gaan onderzoeken en je weet dat een string een opeenvolging van karakters is. We zullen karakter voor karakter moeten controleren (testen) of het gelijk is aan het karakter \"i\" (en ja, emoji zijn ook karakters :heart:). Karakter voor karakter betekent dat een eerste stap om dit probleem op te lossen de volgende zal zijn:"
   ]
  },
  {
   "cell_type": "markdown",
   "metadata": {
    "slideshow": {
     "slide_type": "fragment"
    }
   },
   "source": [
    "Aantal i's in `\"i\"` + Aantal i's in `\"💙aliens\"`"
   ]
  },
  {
   "cell_type": "markdown",
   "metadata": {
    "slideshow": {
     "slide_type": "notes"
    }
   },
   "source": [
    "We nemen het eerst karakter, tellen het aantal i's (dit kan voor een enkel karakter 0 of 1 zijn) en tellen daar het aantal i's in het *restant* van de string bij op. We herhalen deze handeling voor het eerste karakter van het restant, en tellen daar natuurlijk het resultaat van het eerste karakter bij op:"
   ]
  },
  {
   "cell_type": "markdown",
   "metadata": {
    "slideshow": {
     "slide_type": "fragment"
    }
   },
   "source": [
    "Aantal i's in `\"i\"` + Aantal i's in `\"💙\"` + Aantal i's in `\"aliens\"`"
   ]
  },
  {
   "cell_type": "markdown",
   "metadata": {
    "slideshow": {
     "slide_type": "notes"
    }
   },
   "source": [
    "Et cetera. Je zal hier een patroon zien, het probleem en oplossing herhaalt zich steeds: na het eerste karakter moeten we hetzelfde \"recept\" steeds weer herhalen voor het restant van de string. \n",
    "\n",
    "Terzijde, weet je nog dat je het eerste karakter en het restant van een string kan lezen met `s[0]` en `s[1:]`?"
   ]
  },
  {
   "cell_type": "markdown",
   "metadata": {
    "slideshow": {
     "slide_type": "slide"
    }
   },
   "source": [
    "## Paradigmas\n",
    "\n",
    "Verschillende manieren om dit probleem dit op te lossen:\n",
    "\n",
    "**sequentieeel** (iteratief)\n",
    "\n",
    "**zelfgelijkend** (recursief)"
   ]
  },
  {
   "cell_type": "markdown",
   "metadata": {
    "slideshow": {
     "slide_type": "notes"
    }
   },
   "source": [
    "Het `numis(s)` probleem valt op meer dan één manier op te lossen en we komen daarmee aan bij het bestaan van verschillende [programmeerparadigmas](https://nl.wikipedia.org/wiki/Programmeerparadigma), dat wil zeggen technieken en benaderingen voor het oplossen van een probleem. We gaan eerst recursie verkennen, een *iteratieve* benadering komt later.\n",
    "\n",
    "Als je al eerder (meer of minder) hebt geprogrammeerd zal je iteratieve constructies wellicht kennen als *lussen* (bijvoobeeld \"while\" of \"for each\" lussen), deze benadering gaan we nu dus *niet* gebruiken!"
   ]
  },
  {
   "cell_type": "markdown",
   "metadata": {
    "slideshow": {
     "slide_type": "subslide"
    }
   },
   "source": [
    "### Sequentieel denken\n",
    "\n",
    "**faculteit**\n",
    "\n",
    "wiskunde: $5! = 120$\n",
    "\n",
    "informatica: `fac(5) = 5 * 4 * 3 * 2 * 1`"
   ]
  },
  {
   "cell_type": "markdown",
   "metadata": {
    "slideshow": {
     "slide_type": "notes"
    }
   },
   "source": [
    "Laten we het geheugen even opfrissen wat de faculteit van een getal ook alweer is. Stel je 42 aliens voor en je zou willen weten op hoeveel manieren je deze aliens op een rij kan zetten. Je weet misschien het antwoord, dit is 42 x 41 x 41 ... 3 x 2 x 1, of ook wel bekend als de *42 faculteit* en (wiskundig) geschreven als $42!$. Sequentieel denken en daarmee dit probleem oplossen (uitschrijven) als `5 * 4 * 3 * 2 * 1` is heel natuurlijk voor mensen, zo hebben we het als oplossing geleerd!"
   ]
  },
  {
   "cell_type": "markdown",
   "metadata": {
    "slideshow": {
     "slide_type": "fragment"
    }
   },
   "source": [
    "`fac(N) = N * (N-1) * ... * 3 * 2 * 1`"
   ]
  },
  {
   "cell_type": "markdown",
   "metadata": {
    "slideshow": {
     "slide_type": "notes"
    }
   },
   "source": [
    "Maar zou je `fac(5)` als een meer algemene versie van zichzelf kunnen schrijven? Dat kan, laten we daar een begin mee maken en je zal zien dat een zichzelf herhalend (terugkerend?) patroon gaat ontstaan, net als bij het aantal i's in `\"i💙aliens\"`..."
   ]
  },
  {
   "cell_type": "markdown",
   "metadata": {
    "slideshow": {
     "slide_type": "subslide"
    }
   },
   "source": [
    "### Recursief denken\n",
    "\n",
    "**faculteit**\n",
    "\n",
    "wiskunde: $5! = 120$\n",
    "\n",
    "informatica: `fac(5) = 5 * 4 * 3 * 2 * 1`\n"
   ]
  },
  {
   "cell_type": "markdown",
   "metadata": {
    "slideshow": {
     "slide_type": "fragment"
    }
   },
   "source": [
    "`fac(5) = 5 * fac(4)`"
   ]
  },
  {
   "cell_type": "markdown",
   "metadata": {
    "slideshow": {
     "slide_type": "fragment"
    }
   },
   "source": [
    "`fac(N) = N * fac(N - 1)`"
   ]
  },
  {
   "cell_type": "markdown",
   "metadata": {
    "slideshow": {
     "slide_type": "subslide"
    }
   },
   "source": [
    "### Dit is correct...\n",
    "\n",
    "```python\n",
    "def fac(N):\n",
    "    return N * fac(N - 1)\n",
    "```\n",
    "\n",
    "maar is niet aan te raden..."
   ]
  },
  {
   "cell_type": "markdown",
   "metadata": {
    "slideshow": {
     "slide_type": "notes"
    }
   },
   "source": [
    "Je kan de funcie `fac(N)` met de meest algemene vorm (oplossing) nu invulllen. De functie roept zichelf aan met steeds `N-1`, dit is het patroon dat we hebben kunnen ontdekken. Maar dit is niet volledig correct zoals je misschien zelf al kan zien?"
   ]
  },
  {
   "cell_type": "markdown",
   "metadata": {
    "slideshow": {
     "slide_type": "subslide"
    }
   },
   "source": [
    "![Oneindige Recursie](images/4/infinite_recursion.jpg)"
   ]
  },
  {
   "cell_type": "markdown",
   "metadata": {
    "slideshow": {
     "slide_type": "notes"
    }
   },
   "source": [
    "Loop in gedachten eens na wat er gebeurt als je 1 hebt bereikt in deze functie, het zal vrolijk `fac(N-1)` blijven aanroepen! Dit zal dus doorgaan in een \"oneindige recursie\" want we hebben nog geen rekening gehouden met de \"base case\", het geval waar **geen** recursieve aanroep meer mogelijk is."
   ]
  },
  {
   "cell_type": "markdown",
   "metadata": {
    "slideshow": {
     "slide_type": "subslide"
    }
   },
   "source": [
    "![Google Recursie](images/4/google_recursie.png)"
   ]
  },
  {
   "cell_type": "markdown",
   "metadata": {
    "slideshow": {
     "slide_type": "notes"
    }
   },
   "source": [
    "Google geeft een goed voorbeeld van oneindige recursie. Hoe vaak ga je op de suggestie (\"Bedoelde je: ...\") klikken?"
   ]
  },
  {
   "cell_type": "markdown",
   "metadata": {
    "slideshow": {
     "slide_type": "subslide"
    }
   },
   "source": [
    "![Droste cacao](images/4/Droste_cacao.jpg)"
   ]
  },
  {
   "cell_type": "markdown",
   "metadata": {
    "slideshow": {
     "slide_type": "notes"
    }
   },
   "source": [
    "Dit zal waarschijnlijk het meest bekende voorbeeld zijn van een oneindige recursie, ook wel bekend als het [Droste effect](https://nl.wikipedia.org/wiki/Droste-effect). Terug naar ons voorbeeld, *ergens* moet de recursie stoppen en hebben we iets van een noodstop (of *noodzakelijke* stop) nodig, het moment dat een recursieve stap niet meer mogelijk is!"
   ]
  },
  {
   "cell_type": "markdown",
   "metadata": {
    "slideshow": {
     "slide_type": "subslide"
    }
   },
   "source": [
    "![Noodstop](images/4/noodstop.jpg)"
   ]
  },
  {
   "cell_type": "markdown",
   "metadata": {
    "slideshow": {
     "slide_type": "subslide"
    }
   },
   "source": [
    "### Is het correct?\n",
    "\n",
    "```python\n",
    "def fac(N):\n",
    "    return N * fac(N - 1)\n",
    "```"
   ]
  },
  {
   "cell_type": "markdown",
   "metadata": {
    "slideshow": {
     "slide_type": "fragment"
    }
   },
   "source": [
    "Een *base case* ontbreekt, de *noodstop*!"
   ]
  },
  {
   "cell_type": "markdown",
   "metadata": {
    "slideshow": {
     "slide_type": "notes"
    }
   },
   "source": [
    "Er is een duidelijk moment dat we de recursie moeten beëindigen, het moment dat geen recursieve aanroep meer mogelijk is. Dit is het moment dat de base case is bereikt (de \"noodzakelijk\" stop). `N-1` gaat uiteindelijk naar negatieve getallen, zou de waarde 0 in dit geval de noodzakelijke stop (de base case) kunnen zijn?"
   ]
  },
  {
   "cell_type": "markdown",
   "metadata": {
    "slideshow": {
     "slide_type": "slide"
    }
   },
   "source": [
    "## Recursief denken\n",
    "\n",
    "```python\n",
    "def fac(N):\n",
    "    if N == 0:  # base case \n",
    "        return 1\n",
    "    else:       # recursive case\n",
    "        return N * fac(N - 1)\n",
    "```"
   ]
  },
  {
   "cell_type": "markdown",
   "metadata": {
    "slideshow": {
     "slide_type": "notes"
    }
   },
   "source": [
    "Je kan testen op de *base case*, in het geval van een faculteit is dit bereikt als N gelijk is aan 0. Maar als je naar de laatste regel kijkt (`N * fac(N-1)`),  hoe kan iets (`N`) vermenigvudigd worden met iets dat nog niet is uitgevoerd (`fac(N-1)`)?"
   ]
  },
  {
   "cell_type": "markdown",
   "metadata": {
    "slideshow": {
     "slide_type": "subslide"
    }
   },
   "source": [
    "## Recursief handelen\n",
    "\n",
    "```python\n",
    "def fac(N):\n",
    "    if N == 0:  # base case\n",
    "        return 1\n",
    "    else:       # recursive case\n",
    "        rest = fac(N - 1)\n",
    "        return N * rest\n",
    "```"
   ]
  },
  {
   "cell_type": "markdown",
   "metadata": {
    "slideshow": {
     "slide_type": "notes"
    }
   },
   "source": [
    "Deze uitwerking is meer in de buurt van wat achter schermen gebeurt. In het geval `N * fac(N - 1)` wordt door de computer de recursieve aanroep (`fac(N - 1)`) eerst aangeroepen om vervolgens daar `N` mee te vermenigvuldigen. Je kan dit goed vergelijken met het eerst zetten van een variabele (`rest` in dit geval) die later wordt gebruikt om het antwoord te berekenen (`N * rest`)."
   ]
  },
  {
   "cell_type": "markdown",
   "metadata": {
    "slideshow": {
     "slide_type": "subslide"
    }
   },
   "source": [
    "### Stapelen\n",
    "\n",
    "Recursief stapelen!"
   ]
  },
  {
   "cell_type": "markdown",
   "metadata": {
    "slideshow": {
     "slide_type": "notes"
    }
   },
   "source": [
    "Recursieve aanroepen van functies worden gestapeld, zoals je al eerder hebt gezien! Van onder naar boven worden de frames van de stack gehaald en resultaten naar het bovenliggend frame doorgegeven."
   ]
  },
  {
   "cell_type": "markdown",
   "metadata": {
    "slideshow": {
     "slide_type": "subslide"
    }
   },
   "source": [
    "![prob 3 step 18](images/4/q3/prob_3_step_18.png)"
   ]
  },
  {
   "cell_type": "markdown",
   "metadata": {
    "slideshow": {
     "slide_type": "notes"
    }
   },
   "source": [
    "De aanroepen zijn gestapeld in 5 frames (we tellen het globale frame even niet mee). Elk frame wacht nu op het resultaat van het onderliggende frame."
   ]
  },
  {
   "cell_type": "markdown",
   "metadata": {
    "slideshow": {
     "slide_type": "subslide"
    }
   },
   "source": [
    "![prob 3 step 21](images/4/q3/prob_3_step_21.png)"
   ]
  },
  {
   "cell_type": "markdown",
   "metadata": {
    "slideshow": {
     "slide_type": "notes"
    }
   },
   "source": [
    "Bij het laatste frame (N = 0) wordt de base case bereikt en het geeft 1 als returnwaarde terug aan het bovenliggende frame."
   ]
  },
  {
   "cell_type": "markdown",
   "metadata": {
    "slideshow": {
     "slide_type": "subslide"
    }
   },
   "source": [
    "![prob 3 step 22](images/4/q3/prob_3_step_22.png)"
   ]
  },
  {
   "cell_type": "markdown",
   "metadata": {
    "slideshow": {
     "slide_type": "subslide"
    }
   },
   "source": [
    "![prob 3 step 23](images/4/q3/prob_3_step_23.png)"
   ]
  },
  {
   "cell_type": "markdown",
   "metadata": {
    "slideshow": {
     "slide_type": "notes"
    }
   },
   "source": [
    "En zo geeft het volgende frame steeds de returnwaarde terug aan het bovenliggende frame!"
   ]
  },
  {
   "cell_type": "markdown",
   "metadata": {
    "slideshow": {
     "slide_type": "subslide"
    }
   },
   "source": [
    "![prob 3 step 24](images/4/q3/prob_3_step_24.png)"
   ]
  },
  {
   "cell_type": "markdown",
   "metadata": {
    "slideshow": {
     "slide_type": "subslide"
    }
   },
   "source": [
    "![prob 3 step 25](images/4/q3/prob_3_step_25.png)"
   ]
  },
  {
   "cell_type": "markdown",
   "metadata": {
    "slideshow": {
     "slide_type": "subslide"
    }
   },
   "source": [
    "![prob 3 step 26](images/4/q3/prob_3_step_26.png)"
   ]
  },
  {
   "cell_type": "markdown",
   "metadata": {
    "slideshow": {
     "slide_type": "notes"
    }
   },
   "source": [
    "Tot de uiteindelijke oplossing is bereikt, `fac(5)` is gelijk aan 120."
   ]
  },
  {
   "cell_type": "markdown",
   "metadata": {
    "slideshow": {
     "slide_type": "subslide"
    }
   },
   "source": [
    "## De uitdaging\n",
    "\n",
    "![Varen](images/4/varen_blad.jpg)"
   ]
  },
  {
   "cell_type": "markdown",
   "metadata": {
    "slideshow": {
     "slide_type": "notes"
    }
   },
   "source": [
    "De uitdaging van het oplossen van recursief handelen is om zowel het *geheel* als de *zelfgelijkende delen* te zien!\n",
    "\n",
    "Je komt trouwens veel voorbeelden van recursie in de natuur tegen, later zie je meer voorbeelden!"
   ]
  },
  {
   "cell_type": "markdown",
   "metadata": {
    "slideshow": {
     "slide_type": "subslide"
    }
   },
   "source": [
    "## Recursie\n",
    "\n",
    "Recursie als een paradigma voor het oplossen van problemen\n",
    "\n",
    "- een base case, en\n",
    "- een zelfgelijkend ontwerp"
   ]
  },
  {
   "cell_type": "markdown",
   "metadata": {
    "slideshow": {
     "slide_type": "notes"
    }
   },
   "source": [
    "Recursie is een belangrijk patroon, of *paradigma* voor het oplossen van problemen. Bedenk dat er altijd een *base case* en een *zelfgelijkend ontwerp* aanwezig moet zijn. Zelfgelijkend is in dit geval dat we dezelfde oplossing steeds kunnen toepassen op een deel van het probleem."
   ]
  },
  {
   "cell_type": "markdown",
   "metadata": {
    "slideshow": {
     "slide_type": "slide"
    }
   },
   "source": [
    "## Recursief ontwerp"
   ]
  },
  {
   "cell_type": "markdown",
   "metadata": {
    "slideshow": {
     "slide_type": "fragment"
    }
   },
   "source": [
    "### Faculteit: `fac(x)`\n",
    "\n",
    "**`fac(5)`**:\n",
    "\n",
    "- `fac(5)` is de waarde van `5*4*3*2*1` en is gelijk aan\n",
    "\n",
    "- de waarde `5 * (4*3*2*1)`, wat gelijk is aan `5 * fac(4)`\n",
    "\n",
    "De base case:\n",
    "\n",
    "- `fac(0)` moet 1 teruggeven"
   ]
  },
  {
   "cell_type": "markdown",
   "metadata": {
    "slideshow": {
     "slide_type": "notes"
    }
   },
   "source": [
    "Dit is het voorbeeld dat we net in detail hebben bekeken, tot en met hoe het stapelt..."
   ]
  },
  {
   "cell_type": "code",
   "execution_count": 1,
   "metadata": {
    "slideshow": {
     "slide_type": "subslide"
    }
   },
   "outputs": [],
   "source": [
    "def fac(x):\n",
    "    \"\"\"faculteit, recursief!    \n",
    "    \"\"\"\n",
    "    if x == 0:  # base case\n",
    "        return 1\n",
    "    else:       # recursive case\n",
    "        return x * fac(x-1)\n",
    "\n",
    "assert fac(0) == 1    # test de base case\n",
    "assert fac(5) == 120  # test de oplossing  "
   ]
  },
  {
   "cell_type": "markdown",
   "metadata": {
    "slideshow": {
     "slide_type": "notes"
    }
   },
   "source": [
    "We herhalen de code nog een keer: met tests (in dit geval *assert* statements) kan je bepalen of je te maken hebt met de *base case*, of dat een *recursieve* aanroep moet worden gedaan. En bedenk nogmaals, zonder een *base case* zal je in een oneindige recursie terecht komen!\n",
    "\n",
    "Terzijde, Python zal jou tegen een eindeloze recursie beschermen omdat het standaard een maximale diepte (het aantal frames) heeft geconfigureerd voor de recursieve aanroep van een functie (3000 is de limiet). Een stack overflow fout zal je dus niet snel zien en de limiet kan je aanpassen, als het nodig is!"
   ]
  },
  {
   "cell_type": "markdown",
   "metadata": {
    "slideshow": {
     "slide_type": "subslide"
    }
   },
   "source": [
    "### Optelling: `plusone(n)`\n",
    "\n",
    "**`plusone(5)`**:\n",
    "\n",
    "- `plusone(5)` is de waarde van `1+1+1+1+1` en is gelijk aan\n",
    "\n",
    "- de waarde `1 + (...)`, wat gelijk is aan `1 + plusone(...)`\n",
    "\n",
    "De base case:\n",
    "\n",
    "- `plusone(0)` moet ... teruggeven"
   ]
  },
  {
   "cell_type": "markdown",
   "metadata": {
    "slideshow": {
     "slide_type": "notes"
    }
   },
   "source": [
    "Een ander voorbeeld. `plusone(n)` telt `n` door 1-en op te tellen. Als `n` gelijk is aan 5 dan worden 5 1-en bij elkaar opgeteld. Hoe kan je dit recursief oplossen? Denk altijd aan eerst aan de base case, in welk geval is is geen recursie meer mogelijk? Wat moet in dit geval voor de `...` moeten worden ingevuld voor de base en recursieve case?"
   ]
  },
  {
   "cell_type": "markdown",
   "metadata": {
    "slideshow": {
     "slide_type": "fragment"
    }
   },
   "source": [
    "```python\n",
    "def plusone(n):\n",
    "    \"\"\"Geeft n terug door 1-en op te tellen!\n",
    "    \"\"\"\n",
    "    if n == 0:  # base case\n",
    "        return ...\n",
    "    else:       # recursive case\n",
    "        return ...\n",
    "```"
   ]
  },
  {
   "cell_type": "markdown",
   "metadata": {
    "slideshow": {
     "slide_type": "notes"
    }
   },
   "source": [
    "De `...` zie je hier in de code terug. Wat moet voor de base- en recursieve case worden ingevuld? Denk hier terug aan aan `fac(x)`, hetzelfde patroon zal je hier moeten volgen!"
   ]
  },
  {
   "cell_type": "markdown",
   "metadata": {
    "slideshow": {
     "slide_type": "subslide"
    }
   },
   "source": [
    "#### Oplossing"
   ]
  },
  {
   "cell_type": "code",
   "execution_count": 2,
   "metadata": {
    "slideshow": {
     "slide_type": "fragment"
    }
   },
   "outputs": [],
   "source": [
    "def plusone(n):\n",
    "    \"\"\"Geeft n terug door 1-en op te tellen!\n",
    "    \"\"\"\n",
    "    if n == 0:  # base case\n",
    "        return 0\n",
    "    else:       # recursive case\n",
    "        return 1 + plusone(n-1)\n",
    "\n",
    "assert plusone(0) == 0  # test de base case\n",
    "assert plusone(5) == 5  # test de oplossing"
   ]
  },
  {
   "cell_type": "markdown",
   "metadata": {
    "slideshow": {
     "slide_type": "notes"
    }
   },
   "source": [
    "De recursieve case moet hier voor elke `n-1` worden herhaald, zoals je ook bij `fac(x)` hebt gezien."
   ]
  },
  {
   "cell_type": "markdown",
   "metadata": {
    "slideshow": {
     "slide_type": "subslide"
    }
   },
   "source": [
    "### Machtverheffing: `pow(b, p)`\n",
    "\n",
    "**`pow(2, 5)`**:\n",
    "\n",
    "- `pow(2, 5)` is de waarde van `2*2*2*2*2` en is gelijk aan\n",
    "- `2 * (...)`, wat gelijk is aan `2 * pow(..., ...)`\n",
    "\n",
    "De base case:\n",
    "\n",
    "`pow(2, 0)` moet ... teruggeven"
   ]
  },
  {
   "cell_type": "markdown",
   "metadata": {
    "slideshow": {
     "slide_type": "fragment"
    }
   },
   "source": [
    "```python\n",
    "def pow(b, p):\n",
    "    \"\"\"b**p, recursief!\n",
    "    \"\"\"\n",
    "    if p == 0:  # base case\n",
    "        return ...\n",
    "    else:       # recursive case\n",
    "        return ...\n",
    "```"
   ]
  },
  {
   "cell_type": "markdown",
   "metadata": {
    "slideshow": {
     "slide_type": "notes"
    }
   },
   "source": [
    "Ook hier kan je een base- en recursive case ontdekken. Laten we het uitschrijven:"
   ]
  },
  {
   "cell_type": "markdown",
   "metadata": {
    "slideshow": {
     "slide_type": "subslide"
    }
   },
   "source": [
    "#### Oplossing"
   ]
  },
  {
   "cell_type": "code",
   "execution_count": 3,
   "metadata": {
    "slideshow": {
     "slide_type": "fragment"
    }
   },
   "outputs": [],
   "source": [
    "def pow(b, p):\n",
    "    \"\"\"b**p, recursief!\n",
    "    \"\"\"\n",
    "    if p == 0:  # base case\n",
    "        return 1.0\n",
    "    elif p < 0: # tweede base case? of een recursive case?\n",
    "        ...\n",
    "    else:       # recursive case\n",
    "        return b * pow(b, p-1)\n",
    "\n",
    "assert pow(2, 0) == 1.0   # test de base case\n",
    "assert pow(2, 5) == 32.0  # test de oplossing"
   ]
  },
  {
   "cell_type": "markdown",
   "metadata": {
    "slideshow": {
     "slide_type": "notes"
    }
   },
   "source": [
    "Er is hier meer uitgeschreven dan je zou verwachten! Want, wat moet je doen in het geval dat de exponent `p` een negatief getal is? Is dit een base- of recursive case?!?"
   ]
  },
  {
   "cell_type": "markdown",
   "metadata": {
    "slideshow": {
     "slide_type": "subslide"
    }
   },
   "source": [
    "Een machtsverheffing met grondtal $b$ en negatieve exponent $p$\n",
    "\n",
    "$$\n",
    "{b^{⁻p}}\n",
    "$$\n",
    "\n",
    "kan herschreven kan worden als\n",
    "\n",
    "$$\n",
    "\\frac{1}{b^p}\n",
    "$$"
   ]
  },
  {
   "cell_type": "markdown",
   "metadata": {
    "slideshow": {
     "slide_type": "notes"
    }
   },
   "source": [
    "Misschien moet je hier wat wiskundige kennis afstoffen! We gaan niet verder op de achtergrond in en nemen dit ter kennisgeving aan... Het roept wel een andere vraag op, namelijk hoe we Python een negatief getal kunnen laten omzetten naar de positieve waarde? Of, meer in het algemeen, de omkering van een willekeuringe waarde (met andere woorden, de *logische negatie* van een waarde)?"
   ]
  },
  {
   "cell_type": "code",
   "execution_count": 4,
   "metadata": {
    "slideshow": {
     "slide_type": "fragment"
    }
   },
   "outputs": [
    {
     "data": {
      "text/plain": [
       "5"
      ]
     },
     "execution_count": 4,
     "metadata": {},
     "output_type": "execute_result"
    }
   ],
   "source": [
    "p = -5\n",
    "\n",
    "-p"
   ]
  },
  {
   "cell_type": "markdown",
   "metadata": {
    "slideshow": {
     "slide_type": "notes"
    }
   },
   "source": [
    "Dit probleem komt zo vaak voor dat het ook in syntax is geïmplementeerd! Probeer in dit geval ook eens als `p = 5`. We kunnen dit nu gaan toepassen op de recursieve case in het geval exponent `p` een *negatieve* waarde heeft."
   ]
  },
  {
   "cell_type": "markdown",
   "metadata": {
    "slideshow": {
     "slide_type": "subslide"
    }
   },
   "source": [
    "#### Oplossing"
   ]
  },
  {
   "cell_type": "code",
   "execution_count": 5,
   "metadata": {
    "slideshow": {
     "slide_type": "fragment"
    }
   },
   "outputs": [],
   "source": [
    "def pow(b, p):\n",
    "    \"\"\"b**p, recursief!\n",
    "    \"\"\"\n",
    "    if p == 0:   # base case\n",
    "        return 1.0\n",
    "    elif p < 0:  # recursive case (p negatief)\n",
    "        return 1.0 / pow(b, -p)\n",
    "    else:        # resursive case (p positief)\n",
    "        return b * pow(b, p-1)\n",
    "\n",
    "assert pow(2, 0) == 1.0       # test de base case\n",
    "assert pow(2, 5) == 32.0      # test de oplossing\n",
    "assert pow(2, -5) == 0.03125  # test de oplossing"
   ]
  },
  {
   "cell_type": "markdown",
   "metadata": {
    "slideshow": {
     "slide_type": "slide"
    }
   },
   "source": [
    "## Voordelen van recursie\n",
    "\n",
    "Het kan *zelfstandig* in één keer een *willekeurige* diepte ingaan"
   ]
  },
  {
   "cell_type": "markdown",
   "metadata": {
    "slideshow": {
     "slide_type": "notes"
    }
   },
   "source": [
    "De functie heeft aan zichzelf genoeg en met één aanroep (van ons) lost het zichzelf tot elke willekeurige diepte op!"
   ]
  },
  {
   "cell_type": "markdown",
   "metadata": {
    "slideshow": {
     "slide_type": "subslide"
    }
   },
   "source": [
    "![Romanesco broccoli](images/4/romanesco.jpg)"
   ]
  },
  {
   "cell_type": "markdown",
   "metadata": {
    "slideshow": {
     "slide_type": "notes"
    }
   },
   "source": [
    "[Romanesco](https://nl.wikipedia.org/wiki/Romanesco_(groente)) is een groente met prachtige recursieve patronen."
   ]
  },
  {
   "cell_type": "markdown",
   "metadata": {
    "slideshow": {
     "slide_type": "subslide"
    }
   },
   "source": [
    "![Romanesco broccoli](images/4/hand.jpg)"
   ]
  },
  {
   "cell_type": "markdown",
   "metadata": {
    "slideshow": {
     "slide_type": "notes"
    }
   },
   "source": [
    "Maar is recursie ook bij ons te vinden?"
   ]
  },
  {
   "cell_type": "markdown",
   "metadata": {
    "slideshow": {
     "slide_type": "subslide"
    }
   },
   "source": [
    "![Romanesco broccoli](images/4/fractal_hands.jpg)"
   ]
  },
  {
   "cell_type": "markdown",
   "metadata": {
    "slideshow": {
     "slide_type": "notes"
    }
   },
   "source": [
    "Misschien, maar gelukkig heeft ons lichaam wél de *base case* goed gedefinieerd!"
   ]
  },
  {
   "cell_type": "markdown",
   "metadata": {
    "slideshow": {
     "slide_type": "slide"
    }
   },
   "source": [
    "## Python is `in`\n",
    "\n",
    "Bevind een element zich in een sequentie (een list, een string, ...)?"
   ]
  },
  {
   "cell_type": "markdown",
   "metadata": {
    "slideshow": {
     "slide_type": "notes"
    }
   },
   "source": [
    "Dit probleem zal je vaak gaan tegenkomen: bijvoorbeeld bij de vraag of \"i\" een klinker is? Klinkers zijn de karakters a, e, i, o en u. Dit kan je als een sequentie schrijven, bijvoorbeeld als string `\"aeiou\"` of als list `[\"a\", \"e\", \"i\", \"o\", \"u\"]`. Python kent  de `in` operator om te testen of een element zich in een sequentie bevindt, bijvoorbeeld `\"i\" in \"aeiou\"`. Een paar voorbeelden:"
   ]
  },
  {
   "cell_type": "markdown",
   "metadata": {
    "slideshow": {
     "slide_type": "subslide"
    }
   },
   "source": [
    "### is `in` string"
   ]
  },
  {
   "cell_type": "code",
   "execution_count": 6,
   "metadata": {
    "slideshow": {
     "slide_type": "fragment"
    }
   },
   "outputs": [
    {
     "data": {
      "text/plain": [
       "False"
      ]
     },
     "execution_count": 6,
     "metadata": {},
     "output_type": "execute_result"
    }
   ],
   "source": [
    "\"i\" in \"team\""
   ]
  },
  {
   "cell_type": "code",
   "execution_count": 7,
   "metadata": {
    "slideshow": {
     "slide_type": "fragment"
    }
   },
   "outputs": [
    {
     "data": {
      "text/plain": [
       "True"
      ]
     },
     "execution_count": 7,
     "metadata": {},
     "output_type": "execute_result"
    }
   ],
   "source": [
    "\"i\" in \"alien\""
   ]
  },
  {
   "cell_type": "code",
   "execution_count": 8,
   "metadata": {
    "slideshow": {
     "slide_type": "fragment"
    }
   },
   "outputs": [
    {
     "data": {
      "text/plain": [
       "True"
      ]
     },
     "execution_count": 8,
     "metadata": {},
     "output_type": "execute_result"
    }
   ],
   "source": [
    "3*\"i\" in \"aliiien\""
   ]
  },
  {
   "cell_type": "markdown",
   "metadata": {
    "slideshow": {
     "slide_type": "subslide"
    }
   },
   "source": [
    "### is `in` list"
   ]
  },
  {
   "cell_type": "code",
   "execution_count": 9,
   "metadata": {
    "slideshow": {
     "slide_type": "fragment"
    }
   },
   "outputs": [
    {
     "data": {
      "text/plain": [
       "True"
      ]
     },
     "execution_count": 9,
     "metadata": {},
     "output_type": "execute_result"
    }
   ],
   "source": [
    "42 in [41, 42, 42]"
   ]
  },
  {
   "cell_type": "code",
   "execution_count": 10,
   "metadata": {
    "slideshow": {
     "slide_type": "fragment"
    }
   },
   "outputs": [
    {
     "data": {
      "text/plain": [
       "False"
      ]
     },
     "execution_count": 10,
     "metadata": {},
     "output_type": "execute_result"
    }
   ],
   "source": [
    "42 in [[42], \"42\"]"
   ]
  },
  {
   "cell_type": "markdown",
   "metadata": {
    "slideshow": {
     "slide_type": "notes"
    }
   },
   "source": [
    "Kan je uitleggen waarom de laatste `False` teruggeeft?"
   ]
  },
  {
   "cell_type": "markdown",
   "metadata": {
    "slideshow": {
     "slide_type": "slide"
    }
   },
   "source": [
    "## Meer voorbeelden"
   ]
  },
  {
   "cell_type": "markdown",
   "metadata": {
    "slideshow": {
     "slide_type": "subslide"
    }
   },
   "source": [
    "### Aantal klinkers: `vwl(s)`\n",
    "\n",
    "**`vwl(\"zaaiuien\")`**\n",
    "\n",
    "- `vwl(\"zaaiuien\")` is het aantal klinkers in \"zaaiuien\" en is gelijk aan\n",
    "- het aantal klinkers in \"z\" + het aantal klinkers in `vwl(...)`\n",
    "\n",
    "De base case:\n",
    "\n",
    "`vwl(\"\")` moet ... teruggeven"
   ]
  },
  {
   "cell_type": "markdown",
   "metadata": {
    "slideshow": {
     "slide_type": "fragment"
    }
   },
   "source": [
    "```python\n",
    "def vwl(s):\n",
    "    \"\"\"Tel het aantal klinkers in s\n",
    "    \"\"\"\n",
    "    if s == \"\":\n",
    "        ...\n",
    "    elif ...:\n",
    "        return ...\n",
    "    else:\n",
    "        return ...\n",
    "```"
   ]
  },
  {
   "cell_type": "markdown",
   "metadata": {
    "slideshow": {
     "slide_type": "subslide"
    },
    "tags": []
   },
   "source": [
    "#### Oplossing"
   ]
  },
  {
   "cell_type": "code",
   "execution_count": 11,
   "metadata": {
    "slideshow": {
     "slide_type": "fragment"
    }
   },
   "outputs": [],
   "source": [
    "def vwl(s):\n",
    "    \"\"\"Tel het aantal klinkers in s\n",
    "    \"\"\"\n",
    "    if s == \"\":\n",
    "        return 0\n",
    "    elif s[0] in \"aeiou\":\n",
    "        return 1 + vwl(s[1:])\n",
    "    else:\n",
    "        return vwl(s[1:])"
   ]
  },
  {
   "cell_type": "code",
   "execution_count": 12,
   "metadata": {
    "slideshow": {
     "slide_type": "fragment"
    },
    "tags": []
   },
   "outputs": [
    {
     "data": {
      "text/plain": [
       "6"
      ]
     },
     "execution_count": 12,
     "metadata": {},
     "output_type": "execute_result"
    }
   ],
   "source": [
    "vwl(\"zaaiuien\")"
   ]
  },
  {
   "cell_type": "markdown",
   "metadata": {
    "slideshow": {
     "slide_type": "subslide"
    }
   },
   "source": [
    "### Alleen klinkers: `keepvwl(s)`\n",
    "\n",
    "**`keepvwl(\"pluto\")`**\n",
    "\n",
    "- `keepvwl(\"pluto\")` is \"pluto\" zonder medeklinkers en is gelijk aan\n",
    "- de klinkers in \"p\" + de klinkers in `keepvwl(...)`\n",
    "\n",
    "De base case:\n",
    "\n",
    "`keepvwl(\"\")` moet ... teruggeven"
   ]
  },
  {
   "cell_type": "markdown",
   "metadata": {
    "slideshow": {
     "slide_type": "fragment"
    }
   },
   "source": [
    "```python\n",
    "def keepvwl(s):\n",
    "    \"\"\"Geef ALLEEN de klinkers in s terug\n",
    "    \"\"\"\n",
    "    if s == \"\":\n",
    "        return ...\n",
    "    elif ...:\n",
    "        return ...\n",
    "    else:\n",
    "        return ...\n",
    "```"
   ]
  },
  {
   "cell_type": "markdown",
   "metadata": {
    "slideshow": {
     "slide_type": "subslide"
    }
   },
   "source": [
    "#### Oplossing"
   ]
  },
  {
   "cell_type": "code",
   "execution_count": 13,
   "metadata": {
    "slideshow": {
     "slide_type": "fragment"
    }
   },
   "outputs": [],
   "source": [
    "def keepvwl(s):\n",
    "    \"\"\"Geef ALLEEN de klinkers in s terug\n",
    "    \"\"\"\n",
    "    if s == \"\":\n",
    "        return \"\"\n",
    "    elif s[0] in \"aeiou\":\n",
    "        return s[0] + keepvwl(s[1:])\n",
    "    else:\n",
    "        return keepvwl(s[1:])"
   ]
  },
  {
   "cell_type": "code",
   "execution_count": 14,
   "metadata": {
    "slideshow": {
     "slide_type": "fragment"
    },
    "tags": []
   },
   "outputs": [
    {
     "data": {
      "text/plain": [
       "'uo'"
      ]
     },
     "execution_count": 14,
     "metadata": {},
     "output_type": "execute_result"
    }
   ],
   "source": [
    "keepvwl(\"pluto\")"
   ]
  },
  {
   "cell_type": "markdown",
   "metadata": {
    "slideshow": {
     "slide_type": "subslide"
    }
   },
   "source": [
    "### Het hoogste getal: `max(L)`\n",
    "\n",
    "**`max([7, 5, 9, 2])`**\n",
    "\n",
    "- `max([7, 5, 9, 2])` geeft het hoogste getal terug en is\n",
    "- 7 of het hoogste getal in `max(...)`\n",
    "\n",
    "De base case:\n",
    "\n",
    "als `len(L) == 1` dan moet `max(L)` ... teruggeven"
   ]
  },
  {
   "cell_type": "markdown",
   "metadata": {
    "slideshow": {
     "slide_type": "fragment"
    }
   },
   "source": [
    "```python\n",
    "def max(L):\n",
    "    \"\"\"Geef de grootste waarde van L terug\n",
    "    \"\"\"\n",
    "    if len(L) == 1:\n",
    "        return ...\n",
    "    \n",
    "    M = ...  # De max van het RESTANT van L\n",
    "    \n",
    "    if ...:\n",
    "        return ...\n",
    "    else:\n",
    "        return ...\n",
    "```"
   ]
  },
  {
   "cell_type": "markdown",
   "metadata": {
    "slideshow": {
     "slide_type": "subslide"
    }
   },
   "source": [
    "#### Oplossing"
   ]
  },
  {
   "cell_type": "code",
   "execution_count": 15,
   "metadata": {
    "slideshow": {
     "slide_type": "fragment"
    }
   },
   "outputs": [],
   "source": [
    "def max(L):\n",
    "    \"\"\"Geef de grootste waarde van L terug\n",
    "    \"\"\"\n",
    "    if len(L) == 1:\n",
    "        return L[0]\n",
    "    \n",
    "    M = max(L[1:])  # De max van de REST van L\n",
    "    \n",
    "    print(\"M is\", M, \"en L[0] is\", L[0])  # test, print M en L[0]\n",
    "    \n",
    "    if L[0] > M:\n",
    "        return L[0]\n",
    "    else:\n",
    "        return M"
   ]
  },
  {
   "cell_type": "code",
   "execution_count": 16,
   "metadata": {
    "slideshow": {
     "slide_type": "fragment"
    },
    "tags": []
   },
   "outputs": [
    {
     "name": "stdout",
     "output_type": "stream",
     "text": [
      "M is 2 en L[0] is 9\n",
      "M is 9 en L[0] is 5\n",
      "M is 9 en L[0] is 7\n"
     ]
    },
    {
     "data": {
      "text/plain": [
       "9"
      ]
     },
     "execution_count": 16,
     "metadata": {},
     "output_type": "execute_result"
    }
   ],
   "source": [
    "max([7, 5, 9, 2])"
   ]
  },
  {
   "cell_type": "markdown",
   "metadata": {
    "slideshow": {
     "slide_type": "notes"
    }
   },
   "source": [
    "Je ziet dat we een print statement hebben toegevoegd nét na het moment dat de waarde van `M` bekend is. Het eerste print statement zegt ons dat `M` gelijk is aan 2, dit is het laatste element in de lijst `L`. Waarom het laatste element als eerste geprint?\n",
    "\n",
    "Als we steeds de functie `max` met het restant van `L` aanroepen dan zal het laatste restant 1 element bevatten (de waarde 2) en dit is de base case! `L[0]` is in dit geval 9 en dit is het één na laatste element. De lijst wordt van achteren naar voren doorlopen en je ziet hier de stack in actie!"
   ]
  },
  {
   "cell_type": "markdown",
   "metadata": {
    "slideshow": {
     "slide_type": "subslide"
    }
   },
   "source": [
    "#### Spring eerst, kijk later\n",
    "\n",
    "`max(L)` is een goed voorbeeld van een *spring eerst* (recursie) en *kijk later* (test) strategie!"
   ]
  },
  {
   "cell_type": "markdown",
   "metadata": {
    "slideshow": {
     "slide_type": "notes"
    }
   },
   "source": [
    "Denk ook hier weer aan de stack, werk door tot en met de base case, in dit geval door eerst de recursieve aanroep te doen (`M = max(L[1:])`) voordat je gaat controleren (`if L[0] > M` etc.)."
   ]
  },
  {
   "cell_type": "markdown",
   "metadata": {
    "slideshow": {
     "slide_type": "subslide"
    }
   },
   "source": [
    "### Dichtst bij 0: `zeroest(L)`\n",
    "\n",
    "**`zeroest([-7, 5, 9, 2])`**\n",
    "\n",
    "- `zeroest([-7, 5, 9, 2])` geeft getal het dichtst bij 0 terug en is\n",
    "- -7 of het getal het dichtst bij 0 in `zeroest(...)`\n",
    "\n",
    "De base case:\n",
    "\n",
    "als `len(L) == 1` dan moet `zeroest(L)` ... teruggeven"
   ]
  },
  {
   "cell_type": "markdown",
   "metadata": {
    "slideshow": {
     "slide_type": "fragment"
    }
   },
   "source": [
    "```python\n",
    "def zeroest(L):\n",
    "    \"\"\"Geef het getal in L het dichtst bij 0 terug\n",
    "    \"\"\"\n",
    "    if len(L) == 1:\n",
    "        return ...\n",
    "    \n",
    "    Z = ...  #  Getal dichtst bij 0 van de REST van L\n",
    "    \n",
    "    if ...:\n",
    "        return ...\n",
    "    else:\n",
    "        return ...\n",
    "```"
   ]
  },
  {
   "cell_type": "markdown",
   "metadata": {
    "slideshow": {
     "slide_type": "subslide"
    }
   },
   "source": [
    "#### Oplossing"
   ]
  },
  {
   "cell_type": "code",
   "execution_count": 17,
   "metadata": {
    "slideshow": {
     "slide_type": "fragment"
    }
   },
   "outputs": [],
   "source": [
    "def zeroest(L):\n",
    "    \"\"\"Return L's element nearest to 0\n",
    "    \"\"\"\n",
    "    if len(L) == 1:\n",
    "        return L[0]\n",
    "    \n",
    "    Z = zeroest(L[1:])  # The zeroest of the REST of L\n",
    "    \n",
    "    if abs(L[0]) < abs(Z):\n",
    "        return L[0]\n",
    "    else:\n",
    "        return Z"
   ]
  },
  {
   "cell_type": "code",
   "execution_count": 18,
   "metadata": {
    "slideshow": {
     "slide_type": "fragment"
    },
    "tags": []
   },
   "outputs": [
    {
     "data": {
      "text/plain": [
       "2"
      ]
     },
     "execution_count": 18,
     "metadata": {},
     "output_type": "execute_result"
    }
   ],
   "source": [
    "zeroest([-7, 5, 9, 2])"
   ]
  }
 ],
 "metadata": {
  "kernelspec": {
   "display_name": "Python 3 (ipykernel)",
   "language": "python",
   "name": "python3"
  },
  "language_info": {
   "codemirror_mode": {
    "name": "ipython",
    "version": 3
   },
   "file_extension": ".py",
   "mimetype": "text/x-python",
   "name": "python",
   "nbconvert_exporter": "python",
   "pygments_lexer": "ipython3",
   "version": "3.9.5"
  }
 },
 "nbformat": 4,
 "nbformat_minor": 4
}
