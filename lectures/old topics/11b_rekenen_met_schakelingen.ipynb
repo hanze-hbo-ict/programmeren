{
 "cells": [
  {
   "cell_type": "markdown",
   "metadata": {
    "slideshow": {
     "slide_type": "slide"
    }
   },
   "source": [
    "# Rekenen met schakelingen\n",
    "\n",
    "Bits optellen"
   ]
  },
  {
   "cell_type": "markdown",
   "metadata": {
    "slideshow": {
     "slide_type": "subslide"
    }
   },
   "source": [
    "## XOR\n",
    "\n",
    "Exclusive OR"
   ]
  },
  {
   "cell_type": "markdown",
   "metadata": {
    "slideshow": {
     "slide_type": "fragment"
    }
   },
   "source": [
    "De output van `fn(x, y)` moet 1 zijn als óf x óf y gelijk is aan 1 is (maar niet beide) anders is de output 0"
   ]
  },
  {
   "cell_type": "markdown",
   "metadata": {
    "slideshow": {
     "slide_type": "subslide"
    }
   },
   "source": [
    "|       |       | input | output        |\n",
    "|-------|-------|-------|---------------|\n",
    "|       | **x** | **y** | **XOR(x, y)** |\n",
    "|   A   |  `0`  |  `0`  |      `0`      |\n",
    "| **B** |  `0`  |  `1`  |      `1`      |\n",
    "| **C** |  `1`  |  `0`  |      `1`      |\n",
    "|   D   |  `1`  |  `1`  |      `0`      |"
   ]
  },
  {
   "cell_type": "markdown",
   "metadata": {
    "slideshow": {
     "slide_type": "fragment"
    }
   },
   "source": [
    "![XOR gate](images/11/XOR_gate.png)"
   ]
  },
  {
   "cell_type": "markdown",
   "metadata": {
    "slideshow": {
     "slide_type": "fragment"
    }
   },
   "source": [
    "Een XOR wordt door de volgende expressie beschreven\n",
    "\n",
    "$$\n",
    "x\\bar{y} + \\bar{x}y\n",
    "$$"
   ]
  },
  {
   "cell_type": "markdown",
   "metadata": {
    "slideshow": {
     "slide_type": "subslide"
    }
   },
   "source": [
    "XOR is een samengesteld circuit\n",
    "\n",
    "![Logisim XOR](images/11/logisim_xor.png)"
   ]
  },
  {
   "cell_type": "markdown",
   "metadata": {
    "slideshow": {
     "slide_type": "subslide"
    }
   },
   "source": [
    "### Python\n",
    "\n",
    "Een bitwise OR operator?"
   ]
  },
  {
   "cell_type": "markdown",
   "metadata": {
    "slideshow": {
     "slide_type": "fragment"
    }
   },
   "source": [
    "```python\n",
    "True xor False\n",
    "```\n",
    "\n",
    "```text\n",
    "File \"<ipython-input-1-ac24d1f80630>\", line 1\n",
    "    True xor False\n",
    "         ^\n",
    "SyntaxError: invalid syntax\n",
    "```"
   ]
  },
  {
   "cell_type": "markdown",
   "metadata": {
    "slideshow": {
     "slide_type": "notes"
    }
   },
   "source": [
    "Syntax check, Python kent `or` maar voor XOR gebruikt het `^`!"
   ]
  },
  {
   "cell_type": "code",
   "execution_count": 2,
   "metadata": {
    "slideshow": {
     "slide_type": "fragment"
    }
   },
   "outputs": [
    {
     "data": {
      "text/plain": [
       "True"
      ]
     },
     "execution_count": 2,
     "metadata": {},
     "output_type": "execute_result"
    }
   ],
   "source": [
    "True ^ False"
   ]
  },
  {
   "cell_type": "code",
   "execution_count": 3,
   "metadata": {
    "slideshow": {
     "slide_type": "fragment"
    }
   },
   "outputs": [
    {
     "data": {
      "text/plain": [
       "False"
      ]
     },
     "execution_count": 3,
     "metadata": {},
     "output_type": "execute_result"
    }
   ],
   "source": [
    "True ^ True"
   ]
  },
  {
   "cell_type": "markdown",
   "metadata": {
    "slideshow": {
     "slide_type": "slide"
    }
   },
   "source": [
    "## Optellen\n",
    "\n",
    "**Half adder**, een circuit voor de optelling van x en y"
   ]
  },
  {
   "cell_type": "markdown",
   "metadata": {
    "slideshow": {
     "slide_type": "fragment"
    }
   },
   "source": [
    "|       | input | output        |\n",
    "|-------|-------|---------------|\n",
    "| **x** | **y** | **sum(x, y)** |\n",
    "|  `0`  |  `0`  |      `0`      |\n",
    "|  `0`  |  `1`  |      `1`      |\n",
    "|  `1`  |  `0`  |      `1`      |\n",
    "|  `1`  |  `1`  |       ?       |"
   ]
  },
  {
   "cell_type": "markdown",
   "metadata": {
    "slideshow": {
     "slide_type": "fragment"
    }
   },
   "source": [
    "De eerste drie rijen passen precies in het XOR patroon, maar wat te doen met de uitkomst van 1 + 1?"
   ]
  },
  {
   "cell_type": "markdown",
   "metadata": {
    "slideshow": {
     "slide_type": "fragment"
    }
   },
   "source": [
    "![Logisim SUM](images/11/logisim_sum.png)"
   ]
  },
  {
   "cell_type": "markdown",
   "metadata": {
    "slideshow": {
     "slide_type": "subslide"
    }
   },
   "source": [
    "![sum and carry](images/11/sum_carry_plain.png)"
   ]
  },
  {
   "cell_type": "markdown",
   "metadata": {
    "slideshow": {
     "slide_type": "subslide"
    }
   },
   "source": [
    "![sum and carry annotated](images/11/sum_carry_annotated.png)"
   ]
  },
  {
   "cell_type": "markdown",
   "metadata": {
    "slideshow": {
     "slide_type": "subslide"
    }
   },
   "source": [
    "|       | input |           | output        |\n",
    "|-------|-------|-----------|---------------|\n",
    "| **x** | **y** | **carry** | **sum(x, y)** |\n",
    "|  `0`  |  `0`  |    `0`    |      `0`      |\n",
    "|  `0`  |  `1`  |    `0`    |      `1`      |\n",
    "|  `1`  |  `0`  |    `0`    |      `1`      |\n",
    "|  `1`  |  `1`  |    `1`    |      `0`      |"
   ]
  },
  {
   "cell_type": "markdown",
   "metadata": {
    "slideshow": {
     "slide_type": "subslide"
    }
   },
   "source": [
    "![Logisim SUM and CARRY](images/11/logisim_sum_and_carry.png)"
   ]
  },
  {
   "cell_type": "markdown",
   "metadata": {
    "slideshow": {
     "slide_type": "subslide"
    }
   },
   "source": [
    "![Half adder](images/11/half_adder.png)"
   ]
  },
  {
   "cell_type": "markdown",
   "metadata": {
    "slideshow": {
     "slide_type": "subslide"
    }
   },
   "source": [
    "## Meer bits!"
   ]
  },
  {
   "cell_type": "markdown",
   "metadata": {
    "slideshow": {
     "slide_type": "fragment"
    }
   },
   "source": [
    "![Sum carry full](images/11/sum_carry_full.png)"
   ]
  },
  {
   "cell_type": "markdown",
   "metadata": {
    "slideshow": {
     "slide_type": "subslide"
    }
   },
   "source": [
    "|       | input |       |           | output  |\n",
    "|-------|-------|-------|-----------|---------|\n",
    "| **x** | **y** | **c** | **carry** | **sum** |\n",
    "|  `0`  |  `0`  |  `0`  |    `0`    |   `0`   |\n",
    "|  `0`  |  `0`  |  `1`  |    `0`    |   `1`   |\n",
    "|  `0`  |  `1`  |  `0`  |    `0`    |   `1`   |\n",
    "|  `0`  |  `1`  |  `1`  |    `1`    |   `0`   |\n",
    "|  `1`  |  `0`  |  `0`  |    `0`    |   `1`   |\n",
    "|  `1`  |  `0`  |  `1`  |    `1`    |   `0`   |\n",
    "|  `1`  |  `1`  |  `0`  |    `1`    |   `0`   |\n",
    "|  `1`  |  `1`  |  `1`  |    `1`    |   `1`   |"
   ]
  },
  {
   "cell_type": "markdown",
   "metadata": {
    "slideshow": {
     "slide_type": "subslide"
    }
   },
   "source": [
    "## Full adder"
   ]
  },
  {
   "cell_type": "markdown",
   "metadata": {
    "slideshow": {
     "slide_type": "fragment"
    }
   },
   "source": [
    "![Full adder](images/11/full_adder.png)"
   ]
  },
  {
   "cell_type": "markdown",
   "metadata": {
    "slideshow": {
     "slide_type": "subslide"
    }
   },
   "source": [
    "## 8 bit ripple carry adder"
   ]
  },
  {
   "cell_type": "markdown",
   "metadata": {
    "slideshow": {
     "slide_type": "fragment"
    }
   },
   "source": [
    "![8 bit ripple carry adder](images/11/8_bit_ripple_carry_adder.png)"
   ]
  }
 ],
 "metadata": {
  "kernelspec": {
   "display_name": "Python 3 (ipykernel)",
   "language": "python",
   "name": "python3"
  },
  "language_info": {
   "codemirror_mode": {
    "name": "ipython",
    "version": 3
   },
   "file_extension": ".py",
   "mimetype": "text/x-python",
   "name": "python",
   "nbconvert_exporter": "python",
   "pygments_lexer": "ipython3",
   "version": "3.10.0"
  }
 },
 "nbformat": 4,
 "nbformat_minor": 4
}
