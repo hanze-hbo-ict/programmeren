{
 "cells": [
  {
   "cell_type": "markdown",
   "metadata": {
    "slideshow": {
     "slide_type": "slide"
    }
   },
   "source": [
    "# Lussen\n",
    "\n",
    "Looping `for` a `while`"
   ]
  },
  {
   "cell_type": "markdown",
   "metadata": {
    "slideshow": {
     "slide_type": "subslide"
    }
   },
   "source": [
    "## `for` lussen"
   ]
  },
  {
   "cell_type": "code",
   "execution_count": 1,
   "metadata": {
    "slideshow": {
     "slide_type": "fragment"
    }
   },
   "outputs": [
    {
     "name": "stdout",
     "output_type": "stream",
     "text": [
      "i is 0\n",
      "i is 1\n",
      "i is 2\n"
     ]
    }
   ],
   "source": [
    "for i in [0, 1, 2]:\n",
    "    print(\"i is\", i)"
   ]
  },
  {
   "cell_type": "code",
   "execution_count": 2,
   "metadata": {
    "slideshow": {
     "slide_type": "fragment"
    }
   },
   "outputs": [
    {
     "name": "stdout",
     "output_type": "stream",
     "text": [
      "i is 0\n",
      "i is 1\n",
      "i is 2\n"
     ]
    }
   ],
   "source": [
    "for i in range(0, 3):\n",
    "    print(\"i is\", i)"
   ]
  },
  {
   "cell_type": "code",
   "execution_count": 3,
   "metadata": {
    "slideshow": {
     "slide_type": "fragment"
    }
   },
   "outputs": [
    {
     "name": "stdout",
     "output_type": "stream",
     "text": [
      "x is 10\n",
      "x is 15\n",
      "x is 2020\n"
     ]
    }
   ],
   "source": [
    "for x in [10, 15, 2020]:\n",
    "    print(\"x is\", x)"
   ]
  },
  {
   "cell_type": "markdown",
   "metadata": {
    "slideshow": {
     "slide_type": "subslide"
    }
   },
   "source": [
    "```python\n",
    "for i in ...:\n",
    "    print(\"Gefeliciteerd\")\n",
    "```"
   ]
  },
  {
   "cell_type": "markdown",
   "metadata": {},
   "source": [
    "Hoe kan dit 10 keer worden uitgevoerd? Hier is een reeks aan oplossingen mogelijk..."
   ]
  },
  {
   "cell_type": "code",
   "execution_count": 4,
   "metadata": {
    "slideshow": {
     "slide_type": "fragment"
    }
   },
   "outputs": [
    {
     "name": "stdout",
     "output_type": "stream",
     "text": [
      "Gefeliciteerd!\n",
      "Gefeliciteerd!\n",
      "Gefeliciteerd!\n",
      "Gefeliciteerd!\n",
      "Gefeliciteerd!\n",
      "Gefeliciteerd!\n",
      "Gefeliciteerd!\n",
      "Gefeliciteerd!\n",
      "Gefeliciteerd!\n",
      "Gefeliciteerd!\n"
     ]
    }
   ],
   "source": [
    "for i in range(10):\n",
    "    print(\"Gefeliciteerd!\")"
   ]
  },
  {
   "cell_type": "markdown",
   "metadata": {
    "slideshow": {
     "slide_type": "slide"
    }
   },
   "source": [
    "## `for` fun(cties)"
   ]
  },
  {
   "cell_type": "code",
   "execution_count": 5,
   "metadata": {
    "slideshow": {
     "slide_type": "fragment"
    }
   },
   "outputs": [],
   "source": [
    "def fun1():\n",
    "    for i in range(0, 3):\n",
    "        print(\"i is\", i)\n",
    "    return"
   ]
  },
  {
   "cell_type": "code",
   "execution_count": 6,
   "metadata": {
    "slideshow": {
     "slide_type": "fragment"
    }
   },
   "outputs": [],
   "source": [
    "def fun2():\n",
    "    for i in range(0, 3):\n",
    "        print(\"i is\", i)\n",
    "        return"
   ]
  },
  {
   "cell_type": "markdown",
   "metadata": {
    "slideshow": {
     "slide_type": "slide"
    }
   },
   "source": [
    "## Meer `for`"
   ]
  },
  {
   "cell_type": "code",
   "execution_count": 7,
   "metadata": {
    "slideshow": {
     "slide_type": "fragment"
    }
   },
   "outputs": [],
   "source": [
    "def fun1B():\n",
    "    for i in range(1, 6):\n",
    "        if i % 2 == 0:\n",
    "            print(\"i is\", i)\n",
    "            return"
   ]
  },
  {
   "cell_type": "code",
   "execution_count": 8,
   "metadata": {
    "slideshow": {
     "slide_type": "fragment"
    }
   },
   "outputs": [
    {
     "name": "stdout",
     "output_type": "stream",
     "text": [
      "i is 2\n"
     ]
    }
   ],
   "source": [
    "fun1B()"
   ]
  },
  {
   "cell_type": "code",
   "execution_count": 9,
   "metadata": {
    "slideshow": {
     "slide_type": "fragment"
    }
   },
   "outputs": [],
   "source": [
    "def fun2B():\n",
    "    for i in range(1, 6):\n",
    "        if i % 2 == 0:\n",
    "            print(\"i is\", i)\n",
    "        return"
   ]
  },
  {
   "cell_type": "code",
   "execution_count": 10,
   "metadata": {
    "slideshow": {
     "slide_type": "fragment"
    }
   },
   "outputs": [],
   "source": [
    "fun2B()"
   ]
  },
  {
   "cell_type": "code",
   "execution_count": 11,
   "metadata": {
    "slideshow": {
     "slide_type": "subslide"
    }
   },
   "outputs": [],
   "source": [
    "def fun3B():\n",
    "    for i in range(1,6):\n",
    "        if i % 2 == 0:\n",
    "            print(\"i is\", i)\n",
    "    return"
   ]
  },
  {
   "cell_type": "code",
   "execution_count": 12,
   "metadata": {
    "slideshow": {
     "slide_type": "fragment"
    }
   },
   "outputs": [
    {
     "name": "stdout",
     "output_type": "stream",
     "text": [
      "i is 2\n",
      "i is 4\n"
     ]
    }
   ],
   "source": [
    "fun3B()"
   ]
  },
  {
   "cell_type": "markdown",
   "metadata": {
    "slideshow": {
     "slide_type": "fragment"
    }
   },
   "source": [
    "```python\n",
    "def fun3B():\n",
    "    for i in range(1,6):\n",
    "        if i % 2 == 0:\n",
    "            print(\"i is\", i)\n",
    "return\n",
    "```"
   ]
  },
  {
   "cell_type": "markdown",
   "metadata": {
    "slideshow": {
     "slide_type": "fragment"
    }
   },
   "source": [
    "![SyntaxError return](images/15/syntax_error_return.png)"
   ]
  },
  {
   "cell_type": "markdown",
   "metadata": {
    "slideshow": {
     "slide_type": "slide"
    }
   },
   "source": [
    "## Hmmm\n",
    "\n",
    "Iteratieve oplossingen\n",
    "\n",
    "Blokken herhalen tot een conditie is bereikt, lussen!"
   ]
  },
  {
   "cell_type": "markdown",
   "metadata": {
    "slideshow": {
     "slide_type": "subslide"
    }
   },
   "source": [
    "Bereken de faculteit van een getal\n",
    "\n",
    "```asm\n",
    "00 read r1\n",
    "01 setn r13 1\n",
    "02 jeqzn r1 6\n",
    "03 mul r13 r13 r1\n",
    "04 addn r1 -1\n",
    "05 jumpn 02\n",
    "06 write r13\n",
    "07 halt\n",
    "```"
   ]
  },
  {
   "cell_type": "markdown",
   "metadata": {
    "slideshow": {
     "slide_type": "fragment"
    }
   },
   "source": [
    "- `02` tot `r1` gelijk is aan 0 ...\n",
    "- `03` vermenigvuldig `r13` met `r1` en overschrijf `r13` met het resultaat\n",
    "- `04` verminder `r1` met 1\n",
    "- `05` herhaal"
   ]
  },
  {
   "cell_type": "markdown",
   "metadata": {
    "slideshow": {
     "slide_type": "subslide"
    }
   },
   "source": [
    "### Hmmm denken in Python"
   ]
  },
  {
   "cell_type": "markdown",
   "metadata": {},
   "source": [
    "```python\n",
    "def fac(x):          # 00 read r1\n",
    "    result = 1       # 01 setn r13 1\n",
    "    while x != 0:    # 02 jeqzn r1 6\n",
    "        result *= x  # 03 mul r13 r13 r1\n",
    "        x -= 1       # 04 addn r1 -1\n",
    "                     # 05 jumpn 02\n",
    "    return result    # 06 write r13\n",
    "                     # 07 halt\n",
    "```"
   ]
  },
  {
   "cell_type": "markdown",
   "metadata": {
    "slideshow": {
     "slide_type": "fragment"
    }
   },
   "source": [
    "We hebben nu de voordelen van *expliciete* lussen én op zichzelf staande functies!"
   ]
  },
  {
   "cell_type": "markdown",
   "metadata": {
    "slideshow": {
     "slide_type": "subslide"
    }
   },
   "source": [
    "### Recursieve versie"
   ]
  },
  {
   "cell_type": "code",
   "execution_count": 13,
   "metadata": {
    "slideshow": {
     "slide_type": "fragment"
    }
   },
   "outputs": [],
   "source": [
    "def fac(x):\n",
    "    \"\"\"faculty, recursive version\n",
    "    \"\"\"\n",
    "    if x == 0:\n",
    "        return 1\n",
    "    else:\n",
    "        return x * fac(x - 1)"
   ]
  },
  {
   "cell_type": "markdown",
   "metadata": {
    "slideshow": {
     "slide_type": "subslide"
    }
   },
   "source": [
    "```asm\n",
    "00 read r1\n",
    "01 setn r15 42\n",
    "02 call r14 5\n",
    "03 jump 21\n",
    "04 nop\n",
    "05 jnezn r1 8\n",
    "06 setn r13 1\n",
    "07 jumpr r14\n",
    "08 storer r1 r15\n",
    "09 addn r15 1\n",
    "10 storer r14 r15\n",
    "11 addn r15 1\n",
    "12 addn r1 -1\n",
    "13 call r14 5\n",
    "14 addn r15 -1\n",
    "15 loadr r14 r15\n",
    "16 addn r15 -1\n",
    "17 loadr r1 r15\n",
    "18 mul r13 r13 r1\n",
    "19 jumpr r14\n",
    "20 nop\n",
    "21 write r13\n",
    "22 halt\n",
    "```"
   ]
  },
  {
   "cell_type": "markdown",
   "metadata": {
    "slideshow": {
     "slide_type": "slide"
    }
   },
   "source": [
    "## Iteratief ontwerp\n",
    "\n",
    "Lussen! Variabelen!"
   ]
  },
  {
   "cell_type": "markdown",
   "metadata": {
    "slideshow": {
     "slide_type": "fragment"
    }
   },
   "source": [
    "`for`\n",
    "\n",
    "```python\n",
    "for x in [40, 41, 42]:\n",
    "    print(x)\n",
    "```"
   ]
  },
  {
   "cell_type": "markdown",
   "metadata": {
    "slideshow": {
     "slide_type": "fragment"
    }
   },
   "source": [
    "`while`\n",
    "\n",
    "```python\n",
    "x = 42\n",
    "while x > 0:\n",
    "    print(x)\n",
    "    x -= 1\n",
    "```"
   ]
  },
  {
   "cell_type": "markdown",
   "metadata": {
    "slideshow": {
     "slide_type": "fragment"
    }
   },
   "source": [
    "Variabelen\n",
    "\n",
    "```python\n",
    "x = 41\n",
    "x += 1  # addn r1 1\n",
    "```"
   ]
  },
  {
   "cell_type": "markdown",
   "metadata": {
    "slideshow": {
     "slide_type": "subslide"
    }
   },
   "source": [
    "### Variabelen\n",
    "\n",
    "Variëren!"
   ]
  },
  {
   "cell_type": "markdown",
   "metadata": {
    "slideshow": {
     "slide_type": "fragment"
    }
   },
   "source": [
    "```python\n",
    "age = 41\n",
    "```"
   ]
  },
  {
   "cell_type": "markdown",
   "metadata": {
    "slideshow": {
     "slide_type": "fragment"
    }
   },
   "source": [
    "```python\n",
    "age = age + 1\n",
    "```"
   ]
  },
  {
   "cell_type": "markdown",
   "metadata": {
    "slideshow": {
     "slide_type": "fragment"
    }
   },
   "source": [
    "Wat hetzelfde is als ..."
   ]
  },
  {
   "cell_type": "markdown",
   "metadata": {
    "slideshow": {
     "slide_type": "fragment"
    }
   },
   "source": [
    "```python\n",
    "age += 1\n",
    "```"
   ]
  },
  {
   "cell_type": "markdown",
   "metadata": {
    "slideshow": {
     "slide_type": "subslide"
    }
   },
   "source": [
    "### In het kort"
   ]
  },
  {
   "cell_type": "markdown",
   "metadata": {
    "slideshow": {
     "slide_type": "fragment"
    }
   },
   "source": [
    "```python\n",
    "hwToGo = 7\n",
    "hwToGo = hwToGo - 1\n",
    "```"
   ]
  },
  {
   "cell_type": "markdown",
   "metadata": {
    "slideshow": {
     "slide_type": "fragment"
    }
   },
   "source": [
    "```python\n",
    "hwToGo -= 1\n",
    "```"
   ]
  },
  {
   "cell_type": "markdown",
   "metadata": {
    "slideshow": {
     "slide_type": "fragment"
    }
   },
   "source": [
    "```python\n",
    "total = 21000000\n",
    "total = total * 2\n",
    "```"
   ]
  },
  {
   "cell_type": "markdown",
   "metadata": {
    "slideshow": {
     "slide_type": "fragment"
    }
   },
   "source": [
    "```python\n",
    "total *= 2\n",
    "```"
   ]
  },
  {
   "cell_type": "markdown",
   "metadata": {
    "slideshow": {
     "slide_type": "fragment"
    }
   },
   "source": [
    "```python\n",
    "u235 = 84000000000000000;\n",
    "u235 = u235 / 2\n",
    "```"
   ]
  },
  {
   "cell_type": "markdown",
   "metadata": {
    "slideshow": {
     "slide_type": "fragment"
    }
   },
   "source": [
    "```python\n",
    "u235 /= 2\n",
    "```"
   ]
  },
  {
   "cell_type": "markdown",
   "metadata": {
    "slideshow": {
     "slide_type": "slide"
    }
   },
   "source": [
    "## `for`!"
   ]
  },
  {
   "cell_type": "markdown",
   "metadata": {
    "slideshow": {
     "slide_type": "fragment"
    }
   },
   "source": [
    "```python\n",
    "for x in [2, 4, 6, 8]:\n",
    "    print(\"x is\", x)\n",
    "\n",
    "print(\"Done!\")\n",
    "```"
   ]
  },
  {
   "cell_type": "markdown",
   "metadata": {
    "slideshow": {
     "slide_type": "subslide"
    }
   },
   "source": [
    "### Stap voor stap"
   ]
  },
  {
   "cell_type": "markdown",
   "metadata": {
    "slideshow": {
     "slide_type": "fragment"
    }
   },
   "source": [
    "1. ken elk element toe aan `x` \n",
    "\n",
    "```python\n",
    "for x in [2, 4, 6, 8]:\n",
    "```"
   ]
  },
  {
   "cell_type": "markdown",
   "metadata": {
    "slideshow": {
     "slide_type": "fragment"
    }
   },
   "source": [
    "2. de BODY of BLOCK gebruikt de waarde van `x`\n",
    "3. en vervolg de lus met de het volgende element\n",
    "\n",
    "```python\n",
    "    print(\"x is\", x)\n",
    "```"
   ]
  },
  {
   "cell_type": "markdown",
   "metadata": {
    "slideshow": {
     "slide_type": "fragment"
    }
   },
   "source": [
    "4. code na de lus wordt wordt pas uitgevoerd als de lus klaar is!\n",
    "\n",
    "```python\n",
    "print(\"Done!\")\n",
    "```"
   ]
  },
  {
   "cell_type": "markdown",
   "metadata": {
    "slideshow": {
     "slide_type": "subslide"
    }
   },
   "source": [
    "### Faculteit met `for`"
   ]
  },
  {
   "cell_type": "code",
   "execution_count": 14,
   "metadata": {
    "slideshow": {
     "slide_type": "fragment"
    }
   },
   "outputs": [],
   "source": [
    "def fac(n):\n",
    "    result = 1                 # not the result yet!\n",
    "\n",
    "    for i in range(1, n + 1):  # range start at 0, add one!\n",
    "        result *= i            # result = result * i\n",
    "\n",
    "    return result              # return the result"
   ]
  },
  {
   "cell_type": "code",
   "execution_count": 15,
   "metadata": {
    "slideshow": {
     "slide_type": "fragment"
    }
   },
   "outputs": [
    {
     "data": {
      "text/plain": [
       "120"
      ]
     },
     "execution_count": 15,
     "metadata": {},
     "output_type": "execute_result"
    }
   ],
   "source": [
    "fac(5)"
   ]
  },
  {
   "cell_type": "markdown",
   "metadata": {
    "slideshow": {
     "slide_type": "slide"
    }
   },
   "source": [
    "## Quiz"
   ]
  },
  {
   "cell_type": "markdown",
   "metadata": {
    "slideshow": {
     "slide_type": "subslide"
    }
   },
   "source": [
    "```python\n",
    "x = 0\n",
    "\n",
    "for i in range(4):\n",
    "    x += 10\n",
    "\n",
    "print(x)\n",
    "```\n",
    "\n",
    "Wat wordt geprint voor `x`?"
   ]
  },
  {
   "cell_type": "markdown",
   "metadata": {
    "slideshow": {
     "slide_type": "subslide"
    }
   },
   "source": [
    "### Oplossing\n",
    "\n",
    "`40`"
   ]
  },
  {
   "cell_type": "markdown",
   "metadata": {
    "slideshow": {
     "slide_type": "subslide"
    }
   },
   "source": [
    "```python\n",
    "S = \"time to think this over! \"\n",
    "result = \"\"\n",
    "\n",
    "for i in range(len(S)):\n",
    "    if S[i - 1] == \" \":\n",
    "        result += S[i]\n",
    "\n",
    "print(result)\n",
    "```\n",
    "\n",
    "Wat wordt geprint voor `result`?"
   ]
  },
  {
   "cell_type": "markdown",
   "metadata": {
    "slideshow": {
     "slide_type": "subslide"
    }
   },
   "source": [
    "### Oplossing\n",
    "\n",
    "`'tttto'`\n",
    "\n",
    "| `result` | `S[i - 1]` | `S[i]` | `i` |\n",
    "|----------|------------|--------|-----|\n",
    "| `'t'`    | `' '`      | `'t'`  | `0` |\n",
    "|          | `'t'`      | `'i'`  | `1` |\n",
    "|          | `'i'`      | `'m'`  | `2` |\n",
    "|          | `'m'`      | `'e'`  | `3` |\n",
    "|          | `'e'`      | `' '`  | `4` |\n",
    "| `'tt'`   | `' '`      | `'t'`  | `5` |\n",
    "|          | `'t'`      | `'o'`  | `6` |\n",
    "|          | `'o'`      | `' '`  | `7` |\n",
    "| `'ttt'`  | `' '`      | `'t'`  | `8` |"
   ]
  },
  {
   "cell_type": "markdown",
   "metadata": {
    "slideshow": {
     "slide_type": "slide"
    }
   },
   "source": [
    "## Twee typen `for`\n",
    "\n",
    "Elementen versus index"
   ]
  },
  {
   "cell_type": "markdown",
   "metadata": {
    "slideshow": {
     "slide_type": "subslide"
    }
   },
   "source": [
    "### Op basis van element "
   ]
  },
  {
   "cell_type": "markdown",
   "metadata": {
    "slideshow": {
     "slide_type": "fragment"
    }
   },
   "source": [
    "```python\n",
    "L = [3, 15, 17, 7]\n",
    "\n",
    "for x in L:\n",
    "    print(x)\n",
    "```"
   ]
  },
  {
   "cell_type": "markdown",
   "metadata": {
    "slideshow": {
     "slide_type": "fragment"
    }
   },
   "source": [
    "```python\n",
    "S = \"een fijne lus\"\n",
    "\n",
    "for c in S:\n",
    "    print(c)\n",
    "```"
   ]
  },
  {
   "cell_type": "markdown",
   "metadata": {
    "slideshow": {
     "slide_type": "subslide"
    }
   },
   "source": [
    "### Op basis van index"
   ]
  },
  {
   "cell_type": "markdown",
   "metadata": {
    "slideshow": {
     "slide_type": "fragment"
    }
   },
   "source": [
    "```python\n",
    "L = [3, 15, 17, 7]\n",
    "\n",
    "for i in range(len(L)):\n",
    "    print(L[i])\n",
    "```"
   ]
  },
  {
   "cell_type": "markdown",
   "metadata": {
    "slideshow": {
     "slide_type": "fragment"
    }
   },
   "source": [
    "```python\n",
    "S = \"een fijne lus\"\n",
    "\n",
    "for i in range(len(S)):\n",
    "    print(S[i])\n",
    "```"
   ]
  },
  {
   "cell_type": "markdown",
   "metadata": {
    "slideshow": {
     "slide_type": "notes"
    }
   },
   "source": [
    "Let op, het is niet heel gewoon om in lussen te printen, maar is wel heel nuttig voor debuggen!"
   ]
  },
  {
   "cell_type": "markdown",
   "metadata": {
    "slideshow": {
     "slide_type": "subslide"
    }
   },
   "source": [
    "### Welke van de twee?\n",
    "\n",
    "Elementen: eenvoudiger\n",
    "\n",
    "Indices: flexibeler\n"
   ]
  },
  {
   "cell_type": "markdown",
   "metadata": {
    "slideshow": {
     "slide_type": "notes"
    }
   },
   "source": [
    "Denk aan het \"time to think this over! \" voorbeeld, in de lus kon op basis van de index steeds \"terug\" worden gekeken in de string met `S[i - 1]`!"
   ]
  },
  {
   "cell_type": "markdown",
   "metadata": {
    "slideshow": {
     "slide_type": "subslide"
    }
   },
   "source": [
    "### Of ... beide?\n",
    "\n",
    "Index én element? Met de ingebouwde functie [`enumerate`](https://docs.python.org/3/library/functions.html#enumerate)"
   ]
  },
  {
   "cell_type": "code",
   "execution_count": 16,
   "metadata": {
    "slideshow": {
     "slide_type": "fragment"
    }
   },
   "outputs": [
    {
     "name": "stdout",
     "output_type": "stream",
     "text": [
      "index 0 element 3\n",
      "index 1 element 15\n",
      "index 2 element 17\n",
      "index 3 element 7\n"
     ]
    }
   ],
   "source": [
    "L = [3, 15, 17, 7]\n",
    "\n",
    "for i, x in enumerate(L):\n",
    "    print(\"index\", i, \"element\", x)"
   ]
  },
  {
   "cell_type": "markdown",
   "metadata": {
    "slideshow": {
     "slide_type": "notes"
    }
   },
   "source": [
    "Misschien ben je `enumerate` al eens tegengekomen? De kans is in ieder geval groot als je op het net gaat zoeken, we staan er om deze reden even bij stil."
   ]
  },
  {
   "cell_type": "markdown",
   "metadata": {
    "slideshow": {
     "slide_type": "subslide"
    }
   },
   "source": [
    "### Een klein uitstapje\n",
    "\n",
    "Welkom bij de cursus Advanced Python!"
   ]
  },
  {
   "cell_type": "code",
   "execution_count": 17,
   "metadata": {
    "slideshow": {
     "slide_type": "fragment"
    }
   },
   "outputs": [
    {
     "name": "stdout",
     "output_type": "stream",
     "text": [
      "1\n",
      "2\n"
     ]
    }
   ],
   "source": [
    "a, b = [1, 2]\n",
    "\n",
    "print(a)\n",
    "print(b)"
   ]
  },
  {
   "cell_type": "markdown",
   "metadata": {
    "slideshow": {
     "slide_type": "notes"
    }
   },
   "source": [
    "Deze techniek heet \"tuple unpacking\". Misschien heb je de term \"tuple\" al eens gehoord (of misschien gezien in een foutmelding!). Een tuple is een type dat we niet verder gaan behandelen maar zie het als een list met een vaste lengte (een list heeft géén vaste lengte, je kan daar elementen aan toevoegen en van vewijderen).\n",
    "\n",
    "Een tuple heeft hetzelfde gedrag als een list en wordt vaak \"onzichtbaar\" toegepast door Python, bijvoorbeeld"
   ]
  },
  {
   "cell_type": "code",
   "execution_count": 18,
   "metadata": {
    "slideshow": {
     "slide_type": "fragment"
    }
   },
   "outputs": [],
   "source": [
    "x = 3, 4"
   ]
  },
  {
   "cell_type": "code",
   "execution_count": 19,
   "metadata": {
    "slideshow": {
     "slide_type": "fragment"
    }
   },
   "outputs": [
    {
     "data": {
      "text/plain": [
       "tuple"
      ]
     },
     "execution_count": 19,
     "metadata": {},
     "output_type": "execute_result"
    }
   ],
   "source": [
    "type(x)"
   ]
  },
  {
   "cell_type": "code",
   "execution_count": 20,
   "metadata": {
    "slideshow": {
     "slide_type": "fragment"
    }
   },
   "outputs": [
    {
     "data": {
      "text/plain": [
       "(3, 4)"
      ]
     },
     "execution_count": 20,
     "metadata": {},
     "output_type": "execute_result"
    }
   ],
   "source": [
    "x"
   ]
  },
  {
   "cell_type": "markdown",
   "metadata": {
    "slideshow": {
     "slide_type": "subslide"
    }
   },
   "source": [
    "### Vraag\n",
    "\n",
    "```python\n",
    "a = 1\n",
    "b = 2\n",
    "```\n",
    "\n",
    "Welke handeling(en) zijn nodig om de waarden om te draaien, zodat `a` gelijk is aan `b` en `b` gelijk aan `a`?"
   ]
  },
  {
   "cell_type": "markdown",
   "metadata": {
    "slideshow": {
     "slide_type": "notes"
    }
   },
   "source": [
    "Stel, je hebt een kopje koffie en een kopje water, hoe kan je de inhoud de kopjes omwisselen?"
   ]
  },
  {
   "cell_type": "code",
   "execution_count": 21,
   "metadata": {
    "slideshow": {
     "slide_type": "fragment"
    }
   },
   "outputs": [
    {
     "name": "stdout",
     "output_type": "stream",
     "text": [
      "2\n",
      "1\n"
     ]
    }
   ],
   "source": [
    "a, b = b, a\n",
    "\n",
    "print(a)\n",
    "print(b)"
   ]
  },
  {
   "cell_type": "markdown",
   "metadata": {
    "slideshow": {
     "slide_type": "notes"
    }
   },
   "source": [
    "Python maakt het jou makkelijk, geen derde variabele is nodig voor een wisseling!"
   ]
  },
  {
   "cell_type": "markdown",
   "metadata": {
    "slideshow": {
     "slide_type": "subslide"
    }
   },
   "source": [
    "### `LoL`'s uitpakken\n",
    "\n",
    "`enumerate` geeft een `LoL` terug!"
   ]
  },
  {
   "cell_type": "markdown",
   "metadata": {
    "slideshow": {
     "slide_type": "notes"
    }
   },
   "source": [
    "Hoewel, technisch gezien is het een `LoT`, een List of Tuples ..."
   ]
  },
  {
   "cell_type": "code",
   "execution_count": 22,
   "metadata": {
    "slideshow": {
     "slide_type": "fragment"
    }
   },
   "outputs": [
    {
     "name": "stdout",
     "output_type": "stream",
     "text": [
      "month jan avg temp 5\n",
      "month feb avg temp 12\n",
      "month mar avg temp 15\n"
     ]
    }
   ],
   "source": [
    "W = [[5, \"jan\"], [12, \"feb\"], [15, \"mar\"]]\n",
    "\n",
    "for temp, month in W:\n",
    "    print(\"month\", month, \"avg temp\", temp)"
   ]
  },
  {
   "cell_type": "markdown",
   "metadata": {
    "slideshow": {
     "slide_type": "fragment"
    }
   },
   "source": [
    "Een alternatieve benadering\n",
    "\n",
    "```python\n",
    "for x in W:\n",
    "    temp, month = x\n",
    "    print(\"month\", month, \"avg temp\", temp)\n",
    "```"
   ]
  },
  {
   "cell_type": "markdown",
   "metadata": {
    "slideshow": {
     "slide_type": "slide"
    }
   },
   "source": [
    "## Extreme lussen"
   ]
  },
  {
   "cell_type": "markdown",
   "metadata": {
    "slideshow": {
     "slide_type": "fragment"
    }
   },
   "source": [
    "```python\n",
    "guess = 42\n",
    "\n",
    "print(\"It keeps on\")\n",
    "\n",
    "while guess == 42:\n",
    "    print(\"going and\")\n",
    "\n",
    "print(\"Phew! I'm done!\")\n",
    "```\n",
    "\n",
    "Wat doet deze lus?"
   ]
  },
  {
   "cell_type": "markdown",
   "metadata": {
    "slideshow": {
     "slide_type": "subslide"
    }
   },
   "source": [
    "## `while` lussen"
   ]
  },
  {
   "cell_type": "markdown",
   "metadata": {
    "slideshow": {
     "slide_type": "fragment"
    }
   },
   "source": [
    "Een lus tot een bepaalde **conditie** is bereikt."
   ]
  },
  {
   "cell_type": "markdown",
   "metadata": {
    "slideshow": {
     "slide_type": "fragment"
    }
   },
   "source": [
    "Tests?\n",
    "\n",
    "- `42 == 42`\n",
    "- `guess > 42`\n",
    "- ..."
   ]
  },
  {
   "cell_type": "markdown",
   "metadata": {
    "slideshow": {
     "slide_type": "subslide"
    }
   },
   "source": [
    "### Ontsnappen"
   ]
  },
  {
   "cell_type": "code",
   "execution_count": 23,
   "metadata": {
    "slideshow": {
     "slide_type": "fragment"
    }
   },
   "outputs": [
    {
     "name": "stdout",
     "output_type": "stream",
     "text": [
      "Help! Let me out!\n",
      "Help! Let me out!\n",
      "Help! Let me out!\n",
      "Help! Let me out!\n",
      "At last!\n"
     ]
    }
   ],
   "source": [
    "import random\n",
    "\n",
    "guess = 0  # starting value, not the final or desired value!\n",
    "\n",
    "while guess != 42:  # test to see if we keep looping\n",
    "    print('Help! Let me out!')\n",
    "    guess = random.choice([41, 42, 43])  # watch out for infinite loops!\n",
    "\n",
    "print('At last!')  # after the loop ends"
   ]
  },
  {
   "cell_type": "markdown",
   "metadata": {
    "slideshow": {
     "slide_type": "subslide"
    }
   },
   "source": [
    "### Simulatie\n",
    "\n",
    "```python\n",
    "def guess(hidden):\n",
    "    \"\"\"De computer raadt een geheim getal\n",
    "    \"\"\"\n",
    "    comp_guess = choice(list(range(100)))  # [0, ..., 99]\n",
    "    \n",
    "    print(\"Ik koos\", comp_guess)  # print de keus\n",
    "    time.sleep(0.5)               # pauzeer een halve seconde\n",
    "    \n",
    "    if comp_guess == hidden:      # base case, eindelijk...\n",
    "        print(\"Gevonden!\")        # de computer is blij :)\n",
    "        return 1                  # poging\n",
    "    else:                         # recursive case\n",
    "        return 1 + guess(hidden)  # volgende poging!\n",
    "```"
   ]
  },
  {
   "cell_type": "code",
   "execution_count": 24,
   "metadata": {
    "slideshow": {
     "slide_type": "subslide"
    }
   },
   "outputs": [],
   "source": [
    "from random import choice\n",
    "\n",
    "def escape(hidden):\n",
    "    guess = 0\n",
    "    count = 0\n",
    "    \n",
    "    while guess != hidden:\n",
    "        guess = choice(range(100))\n",
    "        count += 1\n",
    "\n",
    "    return count"
   ]
  },
  {
   "cell_type": "code",
   "execution_count": 25,
   "metadata": {
    "slideshow": {
     "slide_type": "subslide"
    }
   },
   "outputs": [],
   "source": [
    "LC = [escape(42) for i in range(1000)]"
   ]
  },
  {
   "cell_type": "markdown",
   "metadata": {
    "slideshow": {
     "slide_type": "fragment"
    }
   },
   "source": [
    "Bekijk de eerste 10 resutaten"
   ]
  },
  {
   "cell_type": "code",
   "execution_count": 26,
   "metadata": {
    "slideshow": {
     "slide_type": "fragment"
    }
   },
   "outputs": [
    {
     "data": {
      "text/plain": [
       "[3, 24, 209, 63, 208, 23, 1, 31, 69, 69]"
      ]
     },
     "execution_count": 26,
     "metadata": {},
     "output_type": "execute_result"
    }
   ],
   "source": [
    "LC[:10]"
   ]
  },
  {
   "cell_type": "markdown",
   "metadata": {
    "slideshow": {
     "slide_type": "fragment"
    }
   },
   "source": [
    "Het snelst geraden"
   ]
  },
  {
   "cell_type": "code",
   "execution_count": 27,
   "metadata": {
    "slideshow": {
     "slide_type": "fragment"
    }
   },
   "outputs": [
    {
     "data": {
      "text/plain": [
       "1"
      ]
     },
     "execution_count": 27,
     "metadata": {},
     "output_type": "execute_result"
    }
   ],
   "source": [
    "min(LC)"
   ]
  },
  {
   "cell_type": "markdown",
   "metadata": {
    "slideshow": {
     "slide_type": "fragment"
    }
   },
   "source": [
    "Het minste geluk"
   ]
  },
  {
   "cell_type": "code",
   "execution_count": 28,
   "metadata": {
    "slideshow": {
     "slide_type": "fragment"
    }
   },
   "outputs": [
    {
     "data": {
      "text/plain": [
       "854"
      ]
     },
     "execution_count": 28,
     "metadata": {},
     "output_type": "execute_result"
    }
   ],
   "source": [
    "max(LC)"
   ]
  },
  {
   "cell_type": "markdown",
   "metadata": {
    "slideshow": {
     "slide_type": "fragment"
    }
   },
   "source": [
    "Gemiddeld aantal keren"
   ]
  },
  {
   "cell_type": "code",
   "execution_count": 29,
   "metadata": {
    "slideshow": {
     "slide_type": "fragment"
    }
   },
   "outputs": [
    {
     "data": {
      "text/plain": [
       "97.325"
      ]
     },
     "execution_count": 29,
     "metadata": {},
     "output_type": "execute_result"
    }
   ],
   "source": [
    "sum(LC)/len(LC)"
   ]
  }
 ],
 "metadata": {
  "kernelspec": {
   "display_name": "Python 3 (ipykernel)",
   "language": "python",
   "name": "python3"
  },
  "language_info": {
   "codemirror_mode": {
    "name": "ipython",
    "version": 3
   },
   "file_extension": ".py",
   "mimetype": "text/x-python",
   "name": "python",
   "nbconvert_exporter": "python",
   "pygments_lexer": "ipython3",
   "version": "3.10.0"
  }
 },
 "nbformat": 4,
 "nbformat_minor": 4
}
