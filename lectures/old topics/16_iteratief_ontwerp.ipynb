{
 "cells": [
  {
   "cell_type": "markdown",
   "metadata": {
    "slideshow": {
     "slide_type": "slide"
    }
   },
   "source": [
    "# Iteratief ontwerpen\n",
    "\n",
    "Overal herhalingen"
   ]
  },
  {
   "cell_type": "markdown",
   "metadata": {
    "slideshow": {
     "slide_type": "subslide"
    }
   },
   "source": [
    "![Mandelbrot](images/16/mandelbrot_set.png)"
   ]
  },
  {
   "cell_type": "markdown",
   "metadata": {
    "slideshow": {
     "slide_type": "notes"
    }
   },
   "source": [
    "Oneindige fractals ... Zie [Xaos](https://xaos-project.github.io/) voor de hypnotiserende ervaring!"
   ]
  },
  {
   "cell_type": "markdown",
   "metadata": {
    "slideshow": {
     "slide_type": "subslide"
    }
   },
   "source": [
    "## Herhalingen\n",
    "\n",
    "`while` met ontsnapping!"
   ]
  },
  {
   "cell_type": "code",
   "execution_count": 1,
   "metadata": {
    "slideshow": {
     "slide_type": "subslide"
    }
   },
   "outputs": [],
   "source": [
    "from random import choice\n",
    "\n",
    "def escape(hidden):\n",
    "    guess = 0\n",
    "    count = 0\n",
    "    \n",
    "    while guess != hidden:\n",
    "        guess = choice(range(100))\n",
    "        count += 1\n",
    "\n",
    "    return count"
   ]
  },
  {
   "cell_type": "markdown",
   "metadata": {
    "slideshow": {
     "slide_type": "subslide"
    }
   },
   "source": [
    "## Simulaties\n",
    "\n",
    "Monte Carlo simulaties ..."
   ]
  },
  {
   "cell_type": "code",
   "execution_count": 2,
   "metadata": {
    "slideshow": {
     "slide_type": "fragment"
    }
   },
   "outputs": [],
   "source": [
    "LC = [escape(42) for _ in range(1000)]"
   ]
  },
  {
   "cell_type": "code",
   "execution_count": 3,
   "metadata": {
    "slideshow": {
     "slide_type": "fragment"
    }
   },
   "outputs": [
    {
     "data": {
      "text/plain": [
       "97.278"
      ]
     },
     "execution_count": 3,
     "metadata": {},
     "output_type": "execute_result"
    }
   ],
   "source": [
    "sum(LC) / len(LC)"
   ]
  },
  {
   "cell_type": "markdown",
   "metadata": {
    "slideshow": {
     "slide_type": "slide"
    }
   },
   "source": [
    "## Verjaardagenparadox\n",
    "\n",
    "Wat is de kans dat iemand op dezelfde dag jarig is?"
   ]
  },
  {
   "cell_type": "markdown",
   "metadata": {
    "slideshow": {
     "slide_type": "fragment"
    }
   },
   "source": [
    "Met hoeveel mensen bij elkaar is deze kans 50%?"
   ]
  },
  {
   "cell_type": "markdown",
   "metadata": {
    "slideshow": {
     "slide_type": "fragment"
    }
   },
   "source": [
    "Kan dit worden gesimuleerd?"
   ]
  },
  {
   "cell_type": "markdown",
   "metadata": {
    "slideshow": {
     "slide_type": "subslide"
    }
   },
   "source": [
    "### Aanpak?\n",
    "\n",
    "Vul één voor één een kamer met mensen tot twee dezelfde verjaardag hebben."
   ]
  },
  {
   "cell_type": "markdown",
   "metadata": {
    "slideshow": {
     "slide_type": "fragment"
    }
   },
   "source": [
    "**De ontsnapping?**\n",
    "\n",
    "Bijf de kamer vullen zolang (`while`) de verjaardagen in de kamer uniek zijn!"
   ]
  },
  {
   "cell_type": "markdown",
   "metadata": {
    "slideshow": {
     "slide_type": "fragment"
    }
   },
   "source": [
    "De kamer? Een list!"
   ]
  },
  {
   "cell_type": "markdown",
   "metadata": {
    "slideshow": {
     "slide_type": "fragment"
    }
   },
   "source": [
    "```python\n",
    "def until_a_repeat(high):\n",
    "    \"\"\"Fills a list of random values until a first repeat\n",
    "    \n",
    "    Argument: high, the random value upper boundary\n",
    "    Return value: the number of elements in the list.\n",
    "    \"\"\"\n",
    "```"
   ]
  },
  {
   "cell_type": "markdown",
   "metadata": {
    "slideshow": {
     "slide_type": "subslide"
    }
   },
   "source": [
    "### Hoe lang tot een herhaling?\n",
    "\n",
    "Sneller dan je denkt!"
   ]
  },
  {
   "cell_type": "markdown",
   "metadata": {
    "slideshow": {
     "slide_type": "fragment"
    }
   },
   "source": [
    "![Birthday paradox](images/16/birthday_paradox.png)"
   ]
  },
  {
   "cell_type": "code",
   "execution_count": 4,
   "metadata": {
    "slideshow": {
     "slide_type": "fragment"
    }
   },
   "outputs": [],
   "source": [
    "def unique(L):\n",
    "    \"\"\"Returns whether all elements in L are unique.\n",
    "\n",
    "     Argument: L, a list of any elements.\n",
    "     Return value: True, if all elements in L are unique,\n",
    "                or False, if there is any repeated element\n",
    "    \"\"\"\n",
    "    if len(L) == 0:\n",
    "        return True\n",
    "    elif L[0] in L[1:]:\n",
    "        return False\n",
    "    else:\n",
    "        return unique(L[1:])"
   ]
  },
  {
   "cell_type": "markdown",
   "metadata": {
    "slideshow": {
     "slide_type": "notes"
    }
   },
   "source": [
    "Deze hulpfunctie wordt gegeven!"
   ]
  },
  {
   "cell_type": "markdown",
   "metadata": {
    "slideshow": {
     "slide_type": "subslide"
    }
   },
   "source": [
    "### Een verjaardag is maar een dag"
   ]
  },
  {
   "cell_type": "code",
   "execution_count": 5,
   "metadata": {
    "slideshow": {
     "slide_type": "fragment"
    }
   },
   "outputs": [],
   "source": [
    "L = [bday for bday in range(365)]"
   ]
  },
  {
   "cell_type": "code",
   "execution_count": 6,
   "metadata": {
    "slideshow": {
     "slide_type": "fragment"
    }
   },
   "outputs": [
    {
     "data": {
      "text/plain": [
       "[0, 1, 2, 3, 4, 5, 6, 7, 8, 9]"
      ]
     },
     "execution_count": 6,
     "metadata": {},
     "output_type": "execute_result"
    }
   ],
   "source": [
    "L[:10]"
   ]
  },
  {
   "cell_type": "markdown",
   "metadata": {
    "slideshow": {
     "slide_type": "fragment"
    }
   },
   "source": [
    "Zet 1 Januari op 0, en verder tot 31 december (364) ..."
   ]
  },
  {
   "cell_type": "code",
   "execution_count": 7,
   "metadata": {
    "slideshow": {
     "slide_type": "fragment"
    }
   },
   "outputs": [
    {
     "data": {
      "text/plain": [
       "True"
      ]
     },
     "execution_count": 7,
     "metadata": {},
     "output_type": "execute_result"
    }
   ],
   "source": [
    "unique(L)"
   ]
  },
  {
   "cell_type": "markdown",
   "metadata": {
    "slideshow": {
     "slide_type": "subslide"
    }
   },
   "source": [
    "### Toevallige verjaardagen\n",
    "\n",
    "Simulatie met random!"
   ]
  },
  {
   "cell_type": "code",
   "execution_count": 8,
   "metadata": {
    "slideshow": {
     "slide_type": "skip"
    }
   },
   "outputs": [],
   "source": [
    "%run simulate.py"
   ]
  },
  {
   "cell_type": "code",
   "execution_count": 9,
   "metadata": {
    "slideshow": {
     "slide_type": "fragment"
    }
   },
   "outputs": [],
   "source": [
    "LC = [until_a_repeat(365) for _ in range(1000)]"
   ]
  },
  {
   "cell_type": "code",
   "execution_count": 10,
   "metadata": {
    "slideshow": {
     "slide_type": "fragment"
    }
   },
   "outputs": [
    {
     "data": {
      "text/plain": [
       "[29, 22, 18, 16, 31, 16, 8, 23, 17, 44]"
      ]
     },
     "execution_count": 10,
     "metadata": {},
     "output_type": "execute_result"
    }
   ],
   "source": [
    "LC[:10]"
   ]
  },
  {
   "cell_type": "code",
   "execution_count": 11,
   "metadata": {
    "slideshow": {
     "slide_type": "fragment"
    }
   },
   "outputs": [
    {
     "data": {
      "text/plain": [
       "2"
      ]
     },
     "execution_count": 11,
     "metadata": {},
     "output_type": "execute_result"
    }
   ],
   "source": [
    "min(LC)"
   ]
  },
  {
   "cell_type": "code",
   "execution_count": 12,
   "metadata": {
    "slideshow": {
     "slide_type": "fragment"
    }
   },
   "outputs": [
    {
     "data": {
      "text/plain": [
       "76"
      ]
     },
     "execution_count": 12,
     "metadata": {},
     "output_type": "execute_result"
    }
   ],
   "source": [
    "max(LC)"
   ]
  },
  {
   "cell_type": "code",
   "execution_count": 13,
   "metadata": {
    "slideshow": {
     "slide_type": "fragment"
    }
   },
   "outputs": [
    {
     "data": {
      "text/plain": [
       "24.641"
      ]
     },
     "execution_count": 13,
     "metadata": {},
     "output_type": "execute_result"
    }
   ],
   "source": [
    "sum(LC) / len(LC)"
   ]
  },
  {
   "cell_type": "markdown",
   "metadata": {
    "slideshow": {
     "slide_type": "slide"
    }
   },
   "source": [
    "## Denken in lussen\n",
    "\n"
   ]
  },
  {
   "cell_type": "markdown",
   "metadata": {
    "slideshow": {
     "slide_type": "fragment"
    }
   },
   "source": [
    "`for`\n",
    "\n",
    "```python\n",
    "for x in range(42):\n",
    "    print(x)\n",
    "```"
   ]
  },
  {
   "cell_type": "markdown",
   "metadata": {
    "slideshow": {
     "slide_type": "fragment"
    }
   },
   "source": [
    "`while`\n",
    "\n",
    "```python\n",
    "x = 1\n",
    "\n",
    "while x < 42:\n",
    "    print(x)\n",
    "    x *= 2\n",
    "```"
   ]
  },
  {
   "cell_type": "markdown",
   "metadata": {
    "slideshow": {
     "slide_type": "subslide"
    }
   },
   "source": [
    "### Verschillen\n",
    "\n",
    "Wat zijn de verschillen in ontwerp tussen deze twee Python lussen?"
   ]
  },
  {
   "cell_type": "markdown",
   "metadata": {
    "slideshow": {
     "slide_type": "fragment"
    }
   },
   "source": [
    "`for` &mdash; eindige herhaling\n",
    "\n",
    "Voor een bestaande list of bekend aantal herhalingen\n",
    "\n"
   ]
  },
  {
   "cell_type": "markdown",
   "metadata": {
    "slideshow": {
     "slide_type": "fragment"
    }
   },
   "source": [
    "`while` &mdash; oneindige herhaling\n",
    "\n",
    "Voor een onbekend aantal herhalingen"
   ]
  },
  {
   "cell_type": "markdown",
   "metadata": {
    "slideshow": {
     "slide_type": "slide"
    }
   },
   "source": [
    "## Pi met pijltjes\n",
    "\n",
    "Pi of $\\pi$ is een *constante*: de verhouding tussen de omtrek en de diameter van een cirkel"
   ]
  },
  {
   "cell_type": "markdown",
   "metadata": {
    "slideshow": {
     "slide_type": "subslide"
    }
   },
   "source": [
    "### Pithon?"
   ]
  },
  {
   "cell_type": "code",
   "execution_count": 14,
   "metadata": {
    "slideshow": {
     "slide_type": "fragment"
    }
   },
   "outputs": [],
   "source": [
    "import math"
   ]
  },
  {
   "cell_type": "code",
   "execution_count": 15,
   "metadata": {
    "slideshow": {
     "slide_type": "fragment"
    }
   },
   "outputs": [
    {
     "data": {
      "text/plain": [
       "3.141592653589793"
      ]
     },
     "execution_count": 15,
     "metadata": {},
     "output_type": "execute_result"
    }
   ],
   "source": [
    "math.pi"
   ]
  },
  {
   "cell_type": "markdown",
   "metadata": {
    "slideshow": {
     "slide_type": "subslide"
    }
   },
   "source": [
    "### Pi bepalen?\n",
    "\n",
    "Kan $\\pi$ worden bepaald door middel van een simulatie?"
   ]
  },
  {
   "cell_type": "markdown",
   "metadata": {
    "slideshow": {
     "slide_type": "subslide"
    }
   },
   "source": [
    "![Dartboard](images/16/dartboard.png)"
   ]
  },
  {
   "cell_type": "markdown",
   "metadata": {
    "slideshow": {
     "slide_type": "subslide"
    }
   },
   "source": [
    "![Pie box](images/16/pie_box.png)"
   ]
  },
  {
   "cell_type": "markdown",
   "metadata": {
    "slideshow": {
     "slide_type": "subslide"
    }
   },
   "source": [
    "### Algoritme\n",
    "\n",
    "- gooi een aantal pijlen willekeurig (random!) op het vlak\n",
    "- tel het aantal pijlen dat is geland in de cirkel\n",
    "- bereken $\\pi$ als volgt\n",
    "\n",
    "$$\n",
    "\\pi = 4 \\times \\dfrac{\\text{Pijlen in cirkel}}{\\text{Pijlen totaal}}\n",
    "$$"
   ]
  },
  {
   "cell_type": "markdown",
   "metadata": {
    "slideshow": {
     "slide_type": "subslide"
    }
   },
   "source": [
    "![Pi Turtle 10000](images/16/pi_turtle.gif)"
   ]
  },
  {
   "cell_type": "markdown",
   "metadata": {
    "slideshow": {
     "slide_type": "subslide"
    }
   },
   "source": [
    "### Hoe werkt dit?\n",
    "\n",
    "Verhoudingen!"
   ]
  },
  {
   "cell_type": "markdown",
   "metadata": {
    "slideshow": {
     "slide_type": "fragment"
    }
   },
   "source": [
    "$$\n",
    "\\dfrac{\\text{Pijlen in cirkel}}{\\text{Pijlen totaal}} \\approx \\dfrac{\\text{Oppervlakte cirkel}}{\\text{Oppervlakte vierkant}}\n",
    "$$"
   ]
  },
  {
   "cell_type": "markdown",
   "metadata": {
    "slideshow": {
     "slide_type": "fragment"
    }
   },
   "source": [
    "Gegeven: het oppervlakte van een cirkel is gelijk aan $\\pi \\cdot r^2$\n",
    "\n",
    "*Oppervlakte cirkel*\n",
    "\n",
    "Straal $r$ is in dit geval 0.5, de oppervlakte van de cirkel is dus $\\pi \\cdot 0.25$, of $\\dfrac{\\pi}{4}$\n",
    "\n",
    "*Oppervlakte vierkant*\n",
    "\n",
    "De breedte van het vierkant is 1 dus de oppervlakte van het vierkant is 1"
   ]
  },
  {
   "cell_type": "markdown",
   "metadata": {
    "slideshow": {
     "slide_type": "subslide"
    }
   },
   "source": [
    "$$\n",
    "\\dfrac{\\text{Oppervlakte cirkel}}{\\text{Oppervlakte vierkant}} = \\frac{\\dfrac{\\pi}{4}}{1}\n",
    "$$"
   ]
  },
  {
   "cell_type": "markdown",
   "metadata": {
    "slideshow": {
     "slide_type": "fragment"
    }
   },
   "source": [
    "wat kan worden vereenvoudigd tot\n",
    "\n",
    "$$\n",
    "\\dfrac{\\text{Oppervlakte cirkel}}{\\text{Oppervlakte vierkant}} = \\dfrac{\\pi}{4}\n",
    "$$"
   ]
  },
  {
   "cell_type": "markdown",
   "metadata": {
    "slideshow": {
     "slide_type": "fragment"
    }
   },
   "source": [
    "en vervolgens vereenvoudigd kan worden tot\n",
    "\n",
    "$$\n",
    "\\dfrac{\\text{Oppervlakte cirkel}}{\\text{Oppervlakte vierkant}} \\times 4 = \\pi\n",
    "$$\n"
   ]
  },
  {
   "cell_type": "markdown",
   "metadata": {
    "slideshow": {
     "slide_type": "subslide"
    }
   },
   "source": [
    "### `for` of `while`?\n",
    "\n",
    "Welke functie zal welk type lus gebruiken?"
   ]
  },
  {
   "cell_type": "markdown",
   "metadata": {
    "slideshow": {
     "slide_type": "fragment"
    }
   },
   "source": [
    "```python\n",
    "pi_one(e)\n",
    "```\n",
    "\n",
    "`e` = hoe dichtbij we bij π moeten komen"
   ]
  },
  {
   "cell_type": "markdown",
   "metadata": {
    "slideshow": {
     "slide_type": "fragment"
    }
   },
   "source": [
    "`while`"
   ]
  },
  {
   "cell_type": "markdown",
   "metadata": {
    "slideshow": {
     "slide_type": "fragment"
    }
   },
   "source": [
    "```python\n",
    "pi_two(n)\n",
    "```\n",
    "\n",
    "`n` = het aantal pijltjes dat gegooid moet worden"
   ]
  },
  {
   "cell_type": "markdown",
   "metadata": {
    "slideshow": {
     "slide_type": "fragment"
    }
   },
   "source": [
    "`for`"
   ]
  },
  {
   "cell_type": "markdown",
   "metadata": {
    "slideshow": {
     "slide_type": "subslide"
    }
   },
   "source": [
    "### Simuleer!\n",
    "\n",
    "```python\n",
    "def for_pi(n):\n",
    "    \"\"\"Calculate pi with a for loop\n",
    "    \"\"\"\n",
    "    ...\n",
    "```"
   ]
  },
  {
   "cell_type": "code",
   "execution_count": 16,
   "metadata": {
    "slideshow": {
     "slide_type": "fragment"
    }
   },
   "outputs": [
    {
     "data": {
      "text/plain": [
       "3.14436"
      ]
     },
     "execution_count": 16,
     "metadata": {},
     "output_type": "execute_result"
    }
   ],
   "source": [
    "for_pi(100000)"
   ]
  },
  {
   "cell_type": "markdown",
   "metadata": {
    "slideshow": {
     "slide_type": "slide"
    }
   },
   "source": [
    "## Geneste lussen\n",
    "\n",
    "Zijn heel erg bekend!"
   ]
  },
  {
   "cell_type": "markdown",
   "metadata": {
    "slideshow": {
     "slide_type": "subslide"
    }
   },
   "source": [
    "![Swiss Clock](images/16/SBB_railway_clock_animated.gif)"
   ]
  },
  {
   "cell_type": "markdown",
   "metadata": {
    "slideshow": {
     "slide_type": "subslide"
    }
   },
   "source": [
    "### Seconden tikken weg ...\n",
    "\n",
    "```python\n",
    "for minute in range(60):\n",
    "    for second in range(60):\n",
    "        tick()\n",
    "```"
   ]
  },
  {
   "cell_type": "markdown",
   "metadata": {
    "slideshow": {
     "slide_type": "subslide"
    }
   },
   "source": [
    "### Tijd vliegt!\n",
    "\n",
    "```python\n",
    "for year in range(84):\n",
    "    for month in range(12):\n",
    "        for day in range(f(month, year)):\n",
    "            for hour in range(24):\n",
    "                for minute in range(60):\n",
    "                    for second in range(60):\n",
    "                        tick()\n",
    "```"
   ]
  },
  {
   "cell_type": "markdown",
   "metadata": {
    "slideshow": {
     "slide_type": "slide"
    }
   },
   "source": [
    "## Quiz"
   ]
  },
  {
   "cell_type": "markdown",
   "metadata": {
    "slideshow": {
     "slide_type": "fragment"
    }
   },
   "source": [
    "Wat zal worden geprint?\n",
    "\n",
    "```python\n",
    "for x in range(0, 1):\n",
    "    for y in range(x, 2):\n",
    "        print(x, y)\n",
    "```"
   ]
  },
  {
   "cell_type": "markdown",
   "metadata": {
    "slideshow": {
     "slide_type": "subslide"
    }
   },
   "source": [
    "### Oplossing"
   ]
  },
  {
   "cell_type": "code",
   "execution_count": 17,
   "metadata": {
    "slideshow": {
     "slide_type": "fragment"
    }
   },
   "outputs": [
    {
     "name": "stdout",
     "output_type": "stream",
     "text": [
      "0 0\n",
      "0 1\n"
     ]
    }
   ],
   "source": [
    "for x in range(0, 1):\n",
    "    for y in range(x, 2):\n",
    "        print(x, y)"
   ]
  },
  {
   "cell_type": "markdown",
   "metadata": {
    "slideshow": {
     "slide_type": "slide"
    }
   },
   "source": [
    "## Tweedimensionale structuren\n",
    "\n",
    "Rijen en kolommen"
   ]
  },
  {
   "cell_type": "markdown",
   "metadata": {
    "slideshow": {
     "slide_type": "fragment"
    }
   },
   "source": [
    "Let op, als over \"arrays\" wordt gesproken (2D arrays): dit is wat je kent als lists!"
   ]
  },
  {
   "cell_type": "markdown",
   "metadata": {
    "slideshow": {
     "slide_type": "subslide"
    }
   },
   "source": [
    "![Vermenigvuldigingstabel](images/16/mul_table.png)"
   ]
  },
  {
   "cell_type": "markdown",
   "metadata": {
    "slideshow": {
     "slide_type": "subslide"
    }
   },
   "source": [
    "### List comprehension"
   ]
  },
  {
   "cell_type": "code",
   "execution_count": 18,
   "metadata": {
    "slideshow": {
     "slide_type": "fragment"
    }
   },
   "outputs": [],
   "source": [
    "def mul_table(n):\n",
    "    \"\"\"Returns a multiplication table for n\n",
    "    \"\"\"\n",
    "    return [[x * y for x in range(1, n + 1)] for y in range(1, n + 1)]"
   ]
  },
  {
   "cell_type": "code",
   "execution_count": 19,
   "metadata": {
    "slideshow": {
     "slide_type": "fragment"
    }
   },
   "outputs": [
    {
     "data": {
      "text/plain": [
       "[[1, 2, 3, 4, 5],\n",
       " [2, 4, 6, 8, 10],\n",
       " [3, 6, 9, 12, 15],\n",
       " [4, 8, 12, 16, 20],\n",
       " [5, 10, 15, 20, 25]]"
      ]
     },
     "execution_count": 19,
     "metadata": {},
     "output_type": "execute_result"
    }
   ],
   "source": [
    "mul_table(5)"
   ]
  },
  {
   "cell_type": "markdown",
   "metadata": {
    "slideshow": {
     "slide_type": "subslide"
    }
   },
   "source": [
    "### Iteratief"
   ]
  },
  {
   "cell_type": "code",
   "execution_count": 35,
   "metadata": {
    "slideshow": {
     "slide_type": "fragment"
    }
   },
   "outputs": [],
   "source": [
    "def mul_table(n):\n",
    "    \"\"\"Returns a multiplication table for n\n",
    "    \"\"\"\n",
    "    table = []                     # start with an empty table\n",
    "    \n",
    "    for x in range(1, n + 1):      # for every row in this table ...\n",
    "        row = []                   # start with an empty row\n",
    "        \n",
    "        for y in range(1, n + 1):  # for every column in this row ...\n",
    "            row += [x * y]         # add the column value to the row\n",
    "            \n",
    "        table += [row]             # add the row to the table\n",
    "        \n",
    "    return table                   # return table"
   ]
  },
  {
   "cell_type": "code",
   "execution_count": 33,
   "metadata": {},
   "outputs": [
    {
     "data": {
      "text/plain": [
       "[[1, 2, 3, 4, 5],\n",
       " [2, 4, 6, 8, 10],\n",
       " [3, 6, 9, 12, 15],\n",
       " [4, 8, 12, 16, 20],\n",
       " [5, 10, 15, 20, 25]]"
      ]
     },
     "execution_count": 33,
     "metadata": {},
     "output_type": "execute_result"
    }
   ],
   "source": [
    "mul_table(5)"
   ]
  },
  {
   "cell_type": "markdown",
   "metadata": {
    "slideshow": {
     "slide_type": "subslide"
    }
   },
   "source": [
    "### Een dozijn"
   ]
  },
  {
   "cell_type": "code",
   "execution_count": 31,
   "metadata": {
    "slideshow": {
     "slide_type": "fragment"
    }
   },
   "outputs": [],
   "source": [
    "def dozen(n):\n",
    "    \"\"\"Eggs by the dozen!\n",
    "    \"\"\"    \n",
    "    for x in range(n):\n",
    "        row = \"\"\n",
    "        \n",
    "        for y in range(12):  # fixed, dozen is always 12!\n",
    "            row += \"🥚\"\n",
    "            \n",
    "        print(row)"
   ]
  },
  {
   "cell_type": "code",
   "execution_count": 22,
   "metadata": {
    "slideshow": {
     "slide_type": "fragment"
    }
   },
   "outputs": [
    {
     "name": "stdout",
     "output_type": "stream",
     "text": [
      "🥚🥚🥚🥚🥚🥚🥚🥚🥚🥚🥚🥚\n"
     ]
    }
   ],
   "source": [
    "dozen(1)"
   ]
  },
  {
   "cell_type": "code",
   "execution_count": 23,
   "metadata": {
    "slideshow": {
     "slide_type": "subslide"
    }
   },
   "outputs": [
    {
     "name": "stdout",
     "output_type": "stream",
     "text": [
      "🥚🥚🥚🥚🥚🥚🥚🥚🥚🥚🥚🥚\n",
      "🥚🥚🥚🥚🥚🥚🥚🥚🥚🥚🥚🥚\n",
      "🥚🥚🥚🥚🥚🥚🥚🥚🥚🥚🥚🥚\n",
      "🥚🥚🥚🥚🥚🥚🥚🥚🥚🥚🥚🥚\n",
      "🥚🥚🥚🥚🥚🥚🥚🥚🥚🥚🥚🥚\n",
      "🥚🥚🥚🥚🥚🥚🥚🥚🥚🥚🥚🥚\n",
      "🥚🥚🥚🥚🥚🥚🥚🥚🥚🥚🥚🥚\n",
      "🥚🥚🥚🥚🥚🥚🥚🥚🥚🥚🥚🥚\n",
      "🥚🥚🥚🥚🥚🥚🥚🥚🥚🥚🥚🥚\n",
      "🥚🥚🥚🥚🥚🥚🥚🥚🥚🥚🥚🥚\n",
      "🥚🥚🥚🥚🥚🥚🥚🥚🥚🥚🥚🥚\n",
      "🥚🥚🥚🥚🥚🥚🥚🥚🥚🥚🥚🥚\n"
     ]
    }
   ],
   "source": [
    "dozen(12)"
   ]
  },
  {
   "cell_type": "markdown",
   "metadata": {
    "slideshow": {
     "slide_type": "subslide"
    }
   },
   "source": [
    "### Syntax\n",
    "\n",
    "En semantiek..."
   ]
  },
  {
   "cell_type": "code",
   "execution_count": 34,
   "metadata": {
    "slideshow": {
     "slide_type": "fragment"
    }
   },
   "outputs": [
    {
     "name": "stdout",
     "output_type": "stream",
     "text": [
      "🥚🥚🥚🥚🥚🥚🥚🥚🥚🥚🥚🥚\n"
     ]
    }
   ],
   "source": [
    "row = \"\"\n",
    "\n",
    "for y in range(12):\n",
    "    row += \"🥚\"\n",
    "        \n",
    "print(row)"
   ]
  },
  {
   "cell_type": "code",
   "execution_count": 25,
   "metadata": {
    "slideshow": {
     "slide_type": "fragment"
    }
   },
   "outputs": [
    {
     "name": "stdout",
     "output_type": "stream",
     "text": [
      "🥚🥚🥚🥚🥚🥚🥚🥚🥚🥚🥚🥚\n"
     ]
    }
   ],
   "source": [
    "print(12 * \"🥚\")"
   ]
  },
  {
   "cell_type": "markdown",
   "metadata": {
    "slideshow": {
     "slide_type": "slide"
    }
   },
   "source": [
    "![Python ASCII](images/16/python_ascii.png)"
   ]
  },
  {
   "cell_type": "markdown",
   "metadata": {
    "slideshow": {
     "slide_type": "notes"
    }
   },
   "source": [
    "Python [ASCII Art](https://en.wikipedia.org/wiki/ASCII_art)!"
   ]
  },
  {
   "cell_type": "markdown",
   "metadata": {
    "slideshow": {
     "slide_type": "subslide"
    }
   },
   "source": [
    "### Rijen en kolommen\n",
    "\n",
    "En nieuwe regels ..."
   ]
  },
  {
   "cell_type": "code",
   "execution_count": 26,
   "metadata": {
    "slideshow": {
     "slide_type": "subslide"
    }
   },
   "outputs": [
    {
     "name": "stdout",
     "output_type": "stream",
     "text": [
      "#\n",
      "#\n",
      "#\n",
      "#\n",
      "#\n",
      "#\n",
      "#\n",
      "#\n",
      "#\n",
      "#\n",
      "#\n",
      "#\n"
     ]
    }
   ],
   "source": [
    "for row in range(3):\n",
    "    for col in range(4):\n",
    "        print(\"#\")"
   ]
  },
  {
   "cell_type": "code",
   "execution_count": 27,
   "metadata": {
    "slideshow": {
     "slide_type": "subslide"
    }
   },
   "outputs": [
    {
     "name": "stdout",
     "output_type": "stream",
     "text": [
      "############"
     ]
    }
   ],
   "source": [
    "for row in range(3):\n",
    "    for col in range(4):\n",
    "        print(\"#\", end=\"\")"
   ]
  },
  {
   "cell_type": "code",
   "execution_count": 28,
   "metadata": {
    "slideshow": {
     "slide_type": "fragment"
    }
   },
   "outputs": [
    {
     "name": "stdout",
     "output_type": "stream",
     "text": [
      "####\n",
      "####\n",
      "####\n"
     ]
    }
   ],
   "source": [
    "for row in range(3):\n",
    "    for col in range(4):\n",
    "        print(\"#\", end=\"\")\n",
    "    print()"
   ]
  },
  {
   "cell_type": "markdown",
   "metadata": {
    "slideshow": {
     "slide_type": "slide"
    }
   },
   "source": [
    "```console\n",
    " ____                          _ \n",
    "/ ___| _   _  ___ ___ ___  ___| |\n",
    "\\___ \\| | | |/ __/ __/ _ \\/ __| |\n",
    " ___) | |_| | (_| (_|  __/\\__ \\_|\n",
    "|____/ \\__,_|\\___\\___\\___||___(_)\n",
    "```"
   ]
  }
 ],
 "metadata": {
  "kernelspec": {
   "display_name": "Python 3 (ipykernel)",
   "language": "python",
   "name": "python3"
  },
  "language_info": {
   "codemirror_mode": {
    "name": "ipython",
    "version": 3
   },
   "file_extension": ".py",
   "mimetype": "text/x-python",
   "name": "python",
   "nbconvert_exporter": "python",
   "pygments_lexer": "ipython3",
   "version": "3.10.0"
  }
 },
 "nbformat": 4,
 "nbformat_minor": 4
}
