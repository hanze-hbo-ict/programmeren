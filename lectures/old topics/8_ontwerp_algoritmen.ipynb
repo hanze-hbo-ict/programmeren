{
 "cells": [
  {
   "cell_type": "markdown",
   "metadata": {
    "slideshow": {
     "slide_type": "slide"
    }
   },
   "source": [
    "# Ontwerp van algoritmen\n",
    "\n",
    "*Use it or lose it!*"
   ]
  },
  {
   "cell_type": "markdown",
   "metadata": {
    "slideshow": {
     "slide_type": "subslide"
    }
   },
   "source": [
    "## Recursie\n",
    "\n",
    "Het blijft lastig ...\n",
    "\n",
    "![simpsons](images/8/simpsons.gif)"
   ]
  },
  {
   "cell_type": "markdown",
   "metadata": {
    "slideshow": {
     "slide_type": "notes"
    }
   },
   "source": [
    "Ook voor mij blijft het een lastig onderwerp. Hoewel ik inmiddels al jaren recursie gebruik, nog steeds heb ik het vaak mis en moet ik weer terug naar de tekentafel om verder te zoeken naar de juiste zelfgelijkenis."
   ]
  },
  {
   "cell_type": "markdown",
   "metadata": {
    "slideshow": {
     "slide_type": "subslide"
    }
   },
   "source": [
    "### Zelfgelijkenis\n",
    "\n",
    "De oplossing van een probleem hangt af van oplossingen van kleinere identieke problemen"
   ]
  },
  {
   "cell_type": "markdown",
   "metadata": {
    "slideshow": {
     "slide_type": "fragment"
    }
   },
   "source": [
    "$$\n",
    "5! = 5 \\cdot 4 \\cdot 3 \\cdot 2 \\cdot 1\n",
    "$$\n",
    "\n",
    "$$\n",
    "5! = 5 \\cdot (4 \\cdot 3 \\cdot 2 \\cdot 1)\n",
    "$$\n",
    "\n",
    "$$\n",
    "5! = 5 \\cdot 4!\n",
    "$$\n",
    "\n",
    "$$\n",
    "n! = n \\cdot (n - 1)!\n",
    "$$"
   ]
  },
  {
   "cell_type": "markdown",
   "metadata": {
    "slideshow": {
     "slide_type": "fragment"
    }
   },
   "source": [
    "Het is een *algemene* oplossingsstrategie die *niet* specifiek is voor informatica!"
   ]
  },
  {
   "cell_type": "markdown",
   "metadata": {
    "slideshow": {
     "slide_type": "notes"
    }
   },
   "source": [
    "Faculteit, oftwel op hoeveel mogelijke manieren kunnen we een aantal aliens op een rij zetten? Het is een goed voorbeeld van hoe we zelfgelijkenis zouden kunnen ontdekken en waar we op zoek gaan naar de *abstracte* en meest algemene vorm van het probleem. Het opdelen naar een eerste geval en een rest is altijd een goed begin."
   ]
  },
  {
   "cell_type": "markdown",
   "metadata": {
    "slideshow": {
     "slide_type": "subslide"
    }
   },
   "source": [
    "### Het eerste geval en de rest"
   ]
  },
  {
   "cell_type": "markdown",
   "metadata": {
    "slideshow": {
     "slide_type": "fragment"
    }
   },
   "source": [
    "$$\n",
    "n! = n \\cdot (n - 1)!\n",
    "$$"
   ]
  },
  {
   "cell_type": "markdown",
   "metadata": {
    "slideshow": {
     "slide_type": "fragment"
    }
   },
   "source": [
    "```python\n",
    "def factorial(n):\n",
    "    if n <= 1:\n",
    "        return 1\n",
    "    else:\n",
    "        return n * factorial(n - 1)\n",
    "```"
   ]
  },
  {
   "cell_type": "markdown",
   "metadata": {
    "slideshow": {
     "slide_type": "notes"
    }
   },
   "source": [
    "Je hebt veder kennisgemaakt met een functies, condities, types en collecties. Maar ook met operatoren voor handelingen op data (bijvoorbeeld `+`, `*`, `//` en `%`) en vergelijkingen van data (bijvoorbeeld `==`, `!=`, '>' en '<='). Met deze beperkte kennis van Python syntax en semantiek heb je al snel  algoritmen voor interessante problemen kunnen schrijven!"
   ]
  },
  {
   "cell_type": "markdown",
   "metadata": {
    "slideshow": {
     "slide_type": "subslide"
    }
   },
   "source": [
    "### De uitdaging\n",
    "\n",
    "De zelfgelijkenis van een probleem kunnen aanwijzen"
   ]
  },
  {
   "cell_type": "markdown",
   "metadata": {
    "slideshow": {
     "slide_type": "subslide"
    }
   },
   "source": [
    "![of de hoofdpijn](images/8/paracetamol.png)"
   ]
  },
  {
   "cell_type": "markdown",
   "metadata": {
    "slideshow": {
     "slide_type": "notes"
    }
   },
   "source": [
    "Laten we het een \"uitdaging\" noemen maar het is bekend dat recursie voor hoofdpijn en slapeloze nachten kan zorgen!"
   ]
  },
  {
   "cell_type": "markdown",
   "metadata": {
    "slideshow": {
     "slide_type": "subslide"
    }
   },
   "source": [
    "### Het doel\n",
    "\n",
    "Het ontwerpen en implementeren van algoritmen voor het oplossen van problemen"
   ]
  },
  {
   "cell_type": "markdown",
   "metadata": {
    "slideshow": {
     "slide_type": "notes"
    }
   },
   "source": [
    "Denk terug aan het begin waar we probeerden duidelijk te maken wat informatica nu precies is? Programmeren is uiteindelijk maar een klein onderdeel van informatica, de nadruk ligt op het bedenken van recepten om van een bepaalde input tot een gewenste input te komen. Hier zijn oplossingsstrategiën voor nodig en recursie is daar één van, later zullen we andere benaderingen gaan ontdekken (die misschien ook voor minder hoofdpijn gaan zorgen)."
   ]
  },
  {
   "cell_type": "markdown",
   "metadata": {
    "slideshow": {
     "slide_type": "slide"
    }
   },
   "source": [
    "## Vooruitblik\n",
    "\n",
    "Interessante problemen: projecten"
   ]
  },
  {
   "cell_type": "markdown",
   "metadata": {
    "slideshow": {
     "slide_type": "notes"
    }
   },
   "source": [
    "Als het doel het ontwerpen en implementeren van algoritmen voor het oplossen van problemen is, wat zijn dan interessante (lastig op te lossen) problemen?"
   ]
  },
  {
   "cell_type": "markdown",
   "metadata": {
    "jp-MarkdownHeadingCollapsed": true,
    "slideshow": {
     "slide_type": "subslide"
    },
    "tags": []
   },
   "source": [
    "### vPool\n",
    "\n",
    "De interactie van objecten in een driedimensionale ruimte\n",
    "\n",
    "![vPool](images/8/pool.png)"
   ]
  },
  {
   "cell_type": "markdown",
   "metadata": {
    "jp-MarkdownHeadingCollapsed": true,
    "slideshow": {
     "slide_type": "subslide"
    },
    "tags": []
   },
   "source": [
    "### Connect Four\n",
    "\n",
    "Een kunstmatige intelligentie (AI) voor het spelen van vier op een rij\n",
    "\n",
    "![Connect Four](images/8/connect4.png)"
   ]
  },
  {
   "cell_type": "markdown",
   "metadata": {
    "slideshow": {
     "slide_type": "subslide"
    }
   },
   "source": [
    "### TextID\n",
    "\n",
    "Het classificeren van tekst op basis van een statistisch model\n",
    "\n",
    "![Text classification](images/8/text_classification.png)"
   ]
  },
  {
   "cell_type": "markdown",
   "metadata": {
    "slideshow": {
     "slide_type": "subslide"
    }
   },
   "source": [
    "### Picobot\n",
    "\n",
    "Een zelflerende Picobot op basis van genetische algoritmen\n",
    "\n",
    "![Picobot animatie](images/8/picobot_animated.gif)"
   ]
  },
  {
   "cell_type": "markdown",
   "metadata": {
    "slideshow": {
     "slide_type": "slide"
    }
   },
   "source": [
    "## Ontwerpen van wat?\n",
    "\n",
    "<strike>Code (syntax)</strike>\n",
    "\n",
    "Algoritmen! (ideeën)"
   ]
  },
  {
   "cell_type": "markdown",
   "metadata": {
    "slideshow": {
     "slide_type": "subslide"
    }
   },
   "source": [
    "## Algoritmen\n",
    "\n",
    "```python\n",
    "def rem_all(e, L):\n",
    "    \"\"\"Returns sequence L with all e's rmovd\n",
    "    ...\n",
    "```"
   ]
  },
  {
   "cell_type": "markdown",
   "metadata": {
    "slideshow": {
     "slide_type": "subslide"
    }
   },
   "source": [
    "## Top down\n",
    "\n",
    "![rem_all design 0](images/8/design_rem_all_0.png)"
   ]
  },
  {
   "cell_type": "markdown",
   "metadata": {
    "slideshow": {
     "slide_type": "subslide"
    }
   },
   "source": [
    "### Visualiseren\n",
    "\n",
    "![rem_all design 1](images/8/design_rem_all_1.png)"
   ]
  },
  {
   "cell_type": "markdown",
   "metadata": {
    "slideshow": {
     "slide_type": "subslide"
    }
   },
   "source": [
    "### Opdelen\n",
    "\n",
    "![rem_all design 2](images/8/design_rem_all_2.png)"
   ]
  },
  {
   "cell_type": "markdown",
   "metadata": {
    "slideshow": {
     "slide_type": "subslide"
    }
   },
   "source": [
    "### Bouwen\n",
    "\n",
    "![rem_all design 3](images/8/design_rem_all_3.png)"
   ]
  },
  {
   "cell_type": "markdown",
   "metadata": {
    "slideshow": {
     "slide_type": "subslide"
    }
   },
   "source": [
    "### Combineren\n",
    "\n",
    "![rem_all design 4](images/8/design_rem_all_4.png)"
   ]
  },
  {
   "cell_type": "markdown",
   "metadata": {
    "slideshow": {
     "slide_type": "subslide"
    }
   },
   "source": [
    "### Testen\n",
    "\n",
    "![rem_all design 5](images/8/design_rem_all_5.png)"
   ]
  },
  {
   "cell_type": "markdown",
   "metadata": {
    "slideshow": {
     "slide_type": "subslide"
    }
   },
   "source": [
    "### Combineren en testen\n",
    "\n",
    "```python\n",
    "def letter_score(c):\n",
    "    \"\"\"Scrabble letterscore\n",
    "    \"\"\"\n",
    "    ...\n",
    "    \n",
    "def scrabble_score(s):\n",
    "    \"\"\"Scrabble wordscore\n",
    "    \"\"\"\n",
    "    LC = [letter_score(c) for c in s]\n",
    "    return sum(LC)\n",
    "```"
   ]
  },
  {
   "cell_type": "markdown",
   "metadata": {
    "slideshow": {
     "slide_type": "fragment"
    }
   },
   "source": [
    "```python\n",
    "assert letter_score(\"q\") == 10\n",
    "assert scrabble_score(\"quiz\") == 21\n",
    "```"
   ]
  },
  {
   "cell_type": "markdown",
   "metadata": {
    "slideshow": {
     "slide_type": "subslide"
    }
   },
   "source": [
    "## Use it or lose it!\n",
    "\n",
    "```python\n",
    "def rem_all(e, L):\n",
    "    \"\"\"Returns sequence L with all e's rmovd\n",
    "    \"\"\"\n",
    "    if len(L) == 0:\n",
    "        return L\n",
    "    elif L[0] != e:\n",
    "        return L[0:1] + rem_all(e, L[1:])  # use it!\n",
    "    else:\n",
    "        return          rem_all(e, L[1:])  # lose it!\n",
    "```\n",
    "\n",
    "Bijvoorbeeld\n",
    "\n",
    "```python\n",
    "assert rem_all(42, [5, 7, 42, 8, 42]) == [5, 7, 8]\n",
    "assert rem_all(\"q\", \"qaqqlqqiqqiiqeqqnqs\") == \"aliiiens\"\n",
    "```"
   ]
  },
  {
   "cell_type": "markdown",
   "metadata": {
    "slideshow": {
     "slide_type": "subslide"
    }
   },
   "source": [
    "![rem_all](images/8/rem_all.png)"
   ]
  },
  {
   "cell_type": "markdown",
   "metadata": {
    "slideshow": {
     "slide_type": "subslide"
    }
   },
   "source": [
    "### Een bekend patroon\n",
    "\n",
    "```python\n",
    "def max(L):\n",
    "    \"\"\"Find max value in L\n",
    "    \"\"\"\n",
    "    if len(L) < 2:\n",
    "        return L[0]\n",
    "\n",
    "    max_of_rest = max(L[1:])\n",
    "\n",
    "    if L[0] > max_of_rest:\n",
    "        return L[0]         # use it!\n",
    "    else:\n",
    "        return max_of_rest  # lose it!\n",
    "```"
   ]
  },
  {
   "cell_type": "markdown",
   "metadata": {
    "slideshow": {
     "slide_type": "notes"
    }
   },
   "source": [
    "We hopen dat je het *use it or lose it!* patroon inmiddels herkent? Denk bijvoorbeeld aan de recursieve implementatie van de ingebouwde functie `max`, een oude bekende! Denk ook terug aan andere voorbeelden of opgaven waar steeds een vergelijkbare keus werd gemaakt."
   ]
  },
  {
   "cell_type": "markdown",
   "metadata": {
    "slideshow": {
     "slide_type": "slide"
    }
   },
   "source": [
    "## Quiz"
   ]
  },
  {
   "cell_type": "markdown",
   "metadata": {
    "slideshow": {
     "slide_type": "subslide"
    }
   },
   "source": [
    "### Van `rem_all` naar `rem_one`\n",
    "\n",
    "Verwijder `e` **één** keer uit `L`\n",
    "\n",
    "```python\n",
    "def rem_one(e, L):\n",
    "    \"\"\"Returns sequence L with one e rmoved\n",
    "    \"\"\"\n",
    "    if len(L) == 0:\n",
    "        return L\n",
    "    elif L[0] != e:\n",
    "        return L[0:1] + rem_one(e, L[1:])\n",
    "    else:\n",
    "        return rem_one(e, L[1:])\n",
    "```\n",
    "\n",
    "Bijvoorbeeld\n",
    "\n",
    "```python\n",
    "assert rem_one(8, [7, 8, 9, 8]) == [7, 9, 8]\n",
    "assert rem_one(\"d\", \"coded\") == \"coed\"\n",
    "```\n",
    "\n",
    "Deze `rem_one` werkt nog als `rem_all`. Eén onderdeel moet worden aangepast, welke is het?"
   ]
  },
  {
   "cell_type": "markdown",
   "metadata": {
    "slideshow": {
     "slide_type": "subslide"
    }
   },
   "source": [
    "### Oplossing\n",
    "\n",
    "```python\n",
    "def rem_one(e, L):\n",
    "    \"\"\"Returns sequence L with one e rmoved\n",
    "    \"\"\"\n",
    "    if len(L) == 0:\n",
    "        return L\n",
    "    elif L[0] != e:\n",
    "        return L[0:1] + rem_one(e, L[1:])\n",
    "    else:\n",
    "        return L[1:]\n",
    "```"
   ]
  },
  {
   "cell_type": "markdown",
   "metadata": {
    "slideshow": {
     "slide_type": "notes"
    }
   },
   "source": [
    "Als `L[0]` niet gelijk is aan `e`, gebruik het dan. Maar als sprake is van een *lose it*  situatie dan zal dit maar één keer moeten gebeuren. Een herhaling (recursie) is in dit geval dus niet nodig en het volstaat om de rest van `L` direct terug te geven."
   ]
  },
  {
   "cell_type": "markdown",
   "metadata": {
    "slideshow": {
     "slide_type": "subslide"
    }
   },
   "source": [
    "### Van `rem_one` naar `rem_up_to`\n",
    "\n",
    "Verwijder alles uit `L` **tot en met** de  eerste `e`\n",
    "\n",
    "```python\n",
    "def rem_up_to(e, L):\n",
    "    \"\"\"Returns sequence L up to the first e moved\n",
    "    \"\"\"\n",
    "    if len(L) == 0:\n",
    "        return L\n",
    "    elif L[0] != e:\n",
    "        return L[0:1] + rem_up_to(e, L[1:])\n",
    "    else:\n",
    "        return L[1:]\n",
    "```\n",
    "\n",
    "Bijvoorbeeld\n",
    "\n",
    "```python\n",
    "assert rem_up_to(8, [7, 8, 9, 8]) == [9, 8]\n",
    "assert rem_up_to(\"d\", \"coded\") == \"ed\")\n",
    "```\n",
    "\n",
    "Deze `rem_up_to` werkt nog als `rem_one`. Eén onderdeel moet worden aangepast, welke is het?"
   ]
  },
  {
   "cell_type": "markdown",
   "metadata": {
    "slideshow": {
     "slide_type": "subslide"
    }
   },
   "source": [
    "### Oplossing\n",
    "\n",
    "```python\n",
    "def rem_up_to(e, L):\n",
    "    \"\"\"Returns sequence L up to the first e moved\n",
    "    \"\"\"\n",
    "    if len(L) == 0:\n",
    "        return L\n",
    "    elif L[0] != e:\n",
    "        return rem_up_to(e, L[1:])\n",
    "    else:\n",
    "        return L[1:]\n",
    "```"
   ]
  },
  {
   "cell_type": "markdown",
   "metadata": {
    "slideshow": {
     "slide_type": "notes"
    }
   },
   "source": [
    "In dit geval hebben we geen nut meer voor een *use it* geval `L[0]`, want alles tot een met (de *use it*'s moeten juist worden verwijderd). Misschien is het in dit geval toepasselijker te spreken over *forget it*!"
   ]
  },
  {
   "cell_type": "markdown",
   "metadata": {
    "slideshow": {
     "slide_type": "subslide"
    }
   },
   "source": [
    "## LCS\n",
    "\n",
    "Het string-matching probleem in biologie:\n",
    "\n",
    "- 'HUMAN'\n",
    "- 'CHIMPANZEE'\n",
    "\n",
    "Wat is de langst gemeenschappelijke opeenvolging van karakters?"
   ]
  },
  {
   "cell_type": "markdown",
   "metadata": {
    "slideshow": {
     "slide_type": "notes"
    }
   },
   "source": [
    "In biologie is dit een werkelijk probleem waar het gaat om het vergelijken van DNA-sequenties."
   ]
  },
  {
   "cell_type": "markdown",
   "metadata": {
    "slideshow": {
     "slide_type": "subslide"
    }
   },
   "source": [
    "### Fylogenie\n",
    "\n",
    "De studie van relaties tussen verschillende groepen organismen en hun evolutionaire ontwikkeling."
   ]
  },
  {
   "cell_type": "markdown",
   "metadata": {
    "slideshow": {
     "slide_type": "subslide"
    }
   },
   "source": [
    "![Fylogenie](images/8/phylogeny_nucleotide.png)"
   ]
  },
  {
   "cell_type": "markdown",
   "metadata": {
    "slideshow": {
     "slide_type": "notes"
    }
   },
   "source": [
    "Op basis van genetische overeenkomsten (gemeenschappelijke DNA subsequenties) kan worden bepaald hoe dicht bij of ver weg organismen evolutionair van elkaar staan."
   ]
  },
  {
   "cell_type": "markdown",
   "metadata": {
    "slideshow": {
     "slide_type": "subslide"
    }
   },
   "source": [
    "![](images/8/RPLP0_90_ClustalW_aln.png)"
   ]
  },
  {
   "cell_type": "markdown",
   "metadata": {
    "slideshow": {
     "slide_type": "notes"
    }
   },
   "source": [
    "Hoe kunnen de best gemeenschappelijke subsequenties worden gevonden binnen deze genomen? Dit is een algoritmisch probleem waar het lose it or use it principe kan worden toegepast."
   ]
  },
  {
   "cell_type": "markdown",
   "metadata": {
    "slideshow": {
     "slide_type": "slide"
    }
   },
   "source": [
    "## Subsequenties\n",
    "\n",
    "*Use it or lose it!*"
   ]
  },
  {
   "cell_type": "markdown",
   "metadata": {
    "slideshow": {
     "slide_type": "fragment"
    }
   },
   "source": [
    "```python\n",
    "subseq(\"alg\", \"magical\") == False\n",
    "```"
   ]
  },
  {
   "cell_type": "markdown",
   "metadata": {
    "slideshow": {
     "slide_type": "fragment"
    }
   },
   "source": [
    "```python\n",
    "subseq('alg','twasbrillig') == True\n",
    "```"
   ]
  },
  {
   "cell_type": "markdown",
   "metadata": {
    "slideshow": {
     "slide_type": "subslide"
    }
   },
   "source": [
    "![](images/8/sub_seq_0.png)"
   ]
  },
  {
   "cell_type": "markdown",
   "metadata": {
    "slideshow": {
     "slide_type": "subslide"
    }
   },
   "source": [
    "- Wat is een klein (eerste) stukje van het probleem?\n",
    "- Hoe zouden we het omschrijven in termen van de inputs?\n",
    "- Wat blijft er over na de behandeling van dit stuk?\n",
    "- Zijn er nog andere functies die we nodig hebben?"
   ]
  },
  {
   "cell_type": "markdown",
   "metadata": {
    "slideshow": {
     "slide_type": "notes"
    }
   },
   "source": [
    "Dit zijn de vragen die je jezelf zal moeten stellen wanneer je een probleen gaat opsplitsen in kleinere delen. Bijvoorbeeld in dit geval, als `s[0]` overeenkomt met `sbig[0]`, wat blijft er over na een eerse behandeling?"
   ]
  },
  {
   "cell_type": "markdown",
   "metadata": {
    "slideshow": {
     "slide_type": "subslide"
    }
   },
   "source": [
    "### Base case\n",
    "\n",
    "```python\n",
    "def subseq(s, sbig):\n",
    "    \"\"\"Returns True if s is a subsequence of sbig;\n",
    "    False otherwise. Both are strings.\n",
    "    \"\"\"\n",
    "    if s == \"\":\n",
    "        return True\n",
    "    \n",
    "    elif s[0] not in sbig:  # niet meer aanwezig, stoppen\n",
    "        return False\n",
    "```"
   ]
  },
  {
   "cell_type": "markdown",
   "metadata": {
    "slideshow": {
     "slide_type": "notes"
    }
   },
   "source": [
    "Wat zou je hier identificeren als de \"it\" in *use it or lose it*? `s[0]` is het eerste geval dat overeen moet komen met een opeenvolgend karakter in `sbig`, laat dit de *it* zijn!"
   ]
  },
  {
   "cell_type": "markdown",
   "metadata": {
    "slideshow": {
     "slide_type": "subslide"
    }
   },
   "source": [
    "### Recursieve stappen\n",
    "\n",
    "Combineren met *use it or lose it!*"
   ]
  },
  {
   "cell_type": "markdown",
   "metadata": {
    "slideshow": {
     "slide_type": "subslide"
    }
   },
   "source": [
    "Indien *it* **niet** gelijk \n",
    "\n",
    "```python\n",
    "s[0] != sbig[0]\n",
    "```\n",
    "\n",
    "*use it* en herhaal voor de rest\n",
    "\n",
    "```python\n",
    "subseq(s[0:], sbig[1:])\n",
    "```"
   ]
  },
  {
   "cell_type": "markdown",
   "metadata": {
    "slideshow": {
     "slide_type": "subslide"
    }
   },
   "source": [
    "Indien *it* **wel** gelijk \n",
    "\n",
    "```python\n",
    "s[0] == sbig[0]\n",
    "```\n",
    "\n",
    "*lose it* en herhaal voor de rest\n",
    "\n",
    "```python\n",
    "subseq(s[1:], sbig[1:])\n",
    "```"
   ]
  },
  {
   "cell_type": "markdown",
   "metadata": {
    "slideshow": {
     "slide_type": "subslide"
    }
   },
   "source": [
    "### De handelingen\n",
    "\n",
    "\n",
    "Is \"ctg\" een subsequentie van \"tacggta\"?\n",
    "\n",
    "1. `subseq(\"ctg\", \"tacggta\")` use it!\n",
    "2. `subseq(\"ctg\", \"acggta\")` use it!\n",
    "3. `subseq(\"ctg\", \"cggta\")` use it!\n",
    "4. `subseq(\"tg\", \"ggta\")` lose it!\n",
    "5. `subseq(\"tg\", \"gta\")` use it!\n",
    "6. `subseq(\"tg\", \"ta\")` use it!\n",
    "7. `subseq(\"g\", \"a\")` lose it!\n",
    "8. Base case `s[0] not in sbig` => `False`\n",
    "\n",
    "\"ctg\" is *geen* subsequentie van \"tacggta\""
   ]
  },
  {
   "cell_type": "markdown",
   "metadata": {
    "slideshow": {
     "slide_type": "subslide"
    }
   },
   "source": [
    "### Volledig\n",
    "\n",
    "```python\n",
    "def subseq(s, sbig):\n",
    "    \"\"\"Returns True if s is a subsequence of sbig;\n",
    "    False otherwise. Both are strings.\n",
    "    \"\"\"\n",
    "    if s == \"\":\n",
    "        return True\n",
    "    \n",
    "    elif s[0] not in sbig:  # niet aanwezig, stoppen\n",
    "        return False\n",
    "    \n",
    "    # recursieve stappen\n",
    "    \n",
    "    elif s[0] != sbig[0]:\n",
    "        return subseq(s[0:], sbig[1:])  # use it!\n",
    "    \n",
    "    else:\n",
    "        return subseq(s[1:], sbig[1:])  # lose it!\n",
    "```"
   ]
  },
  {
   "cell_type": "markdown",
   "metadata": {
    "slideshow": {
     "slide_type": "slide"
    }
   },
   "source": [
    "## Optimalisatie\n",
    "\n",
    "*Use it or lose it* to the `max` (of `min`)!"
   ]
  },
  {
   "cell_type": "markdown",
   "metadata": {
    "slideshow": {
     "slide_type": "fragment"
    }
   },
   "source": [
    "- De kortse route tussen twee punten\n",
    "- De reductie van restmateriaal in een productieproces\n",
    "- Zoveel mogelijk gerechten bestellen tot een bepaald bedrag\n",
    "- Een kast zo efficiënt mogelijk inruimen\n",
    "- ..."
   ]
  },
  {
   "cell_type": "markdown",
   "metadata": {
    "slideshow": {
     "slide_type": "subslide"
    }
   },
   "source": [
    "### Het knapzak probleem\n",
    "\n",
    "![Kikker op reis](images/8/kikker_op_reis.png)"
   ]
  },
  {
   "cell_type": "markdown",
   "metadata": {
    "slideshow": {
     "slide_type": "notes"
    }
   },
   "source": [
    "Kikker gaat op reis en kan maar tot een maximaal gewicht aan handige dingen meenemen in zijn knapzak. Dit wordt ook een *subset-sum* probleem genoemd."
   ]
  },
  {
   "cell_type": "markdown",
   "metadata": {
    "slideshow": {
     "slide_type": "subslide"
    }
   },
   "source": [
    "### Base case\n",
    "\n",
    "```python\n",
    "def subset(capacity, items):\n",
    "    \"\"\"Given a capacity and a list of positive-number items,\n",
    "    subset returns the largest sum that can be made from the \n",
    "    items _without exceeding capacity_.\n",
    "    \"\"\"\n",
    "    if capacity <= 0 or len(items) == 0:\n",
    "        return 0\n",
    "```"
   ]
  },
  {
   "cell_type": "markdown",
   "metadata": {
    "slideshow": {
     "slide_type": "subslide"
    }
   },
   "source": [
    "### Het eerste geval en de rest\n",
    "\n",
    "```python\n",
    "def subset(capacity, items):\n",
    "    \"\"\"Given a capacity and a list of positive-number items,\n",
    "    subset returns the largest sum that can be made from the \n",
    "    items _without exceeding capacity_.\n",
    "    \"\"\"\n",
    "    if capacity <= 0 or len(items) == 0:\n",
    "        return 0\n",
    "    \n",
    "    first = items[0]\n",
    "    rest = items[1:]\n",
    "```"
   ]
  },
  {
   "cell_type": "markdown",
   "metadata": {
    "slideshow": {
     "slide_type": "subslide"
    }
   },
   "source": [
    "### `max` capacity reached :)\n",
    "\n",
    "```python\n",
    "def subset(capacity, items):\n",
    "    \"\"\"Given a capacity and a list of positive-number items,\n",
    "    subset returns the largest sum that can be made from the \n",
    "    items _without exceeding capacity_.\n",
    "    \"\"\"\n",
    "    if capacity <= 0 or len(items) == 0:\n",
    "        return 0\n",
    "    \n",
    "    first = items[0]\n",
    "    rest = items[1:]\n",
    "    \n",
    "    if first == capacity:\n",
    "        return first  # use the first - and are done\n",
    "```"
   ]
  },
  {
   "cell_type": "markdown",
   "metadata": {
    "slideshow": {
     "slide_type": "notes"
    }
   },
   "source": [
    "Op basis van een eerste waarde en de rest kan gelijk al een eerst besluit worden genomen: we zijn klaar als het eerste geval gelijk is aan de capaciteit!"
   ]
  },
  {
   "cell_type": "markdown",
   "metadata": {
    "slideshow": {
     "slide_type": "subslide"
    }
   },
   "source": [
    "### `max` capacity exceeded :(\n",
    "\n",
    "```python\n",
    "def subset(capacity, items):\n",
    "    \"\"\"Given a capacity and a list of positive-number items,\n",
    "    subset returns the largest sum that can be made from the \n",
    "    items _without exceeding capacity_.\n",
    "    \"\"\"\n",
    "    if capacity <= 0 or len(items) == 0:\n",
    "        return 0\n",
    "    \n",
    "    first = items[0]\n",
    "    rest = items[1:]\n",
    "    \n",
    "    if first == capacity:\n",
    "        return first  # use the first and we're done\n",
    "\n",
    "    if first > capacity:\n",
    "        return subset(capacity, rest)  # forget the first completely\n",
    "```"
   ]
  },
  {
   "cell_type": "markdown",
   "metadata": {
    "slideshow": {
     "slide_type": "notes"
    }
   },
   "source": [
    "Het is ook mogelijk dat het eerste geval `first` de capaciteit overschrijdt. We hebben in dit geval niets aan `first` en kunnen het maar beter vergeten en het probleem herhalen met de `rest`."
   ]
  },
  {
   "cell_type": "markdown",
   "metadata": {
    "slideshow": {
     "slide_type": "subslide"
    }
   },
   "source": [
    "### `max` capacity not reached...\n",
    "\n",
    "```python\n",
    "if first < capacity:\n",
    "    ...\n",
    "```"
   ]
  },
  {
   "cell_type": "markdown",
   "metadata": {
    "slideshow": {
     "slide_type": "subslide"
    }
   },
   "source": [
    "### Een lastige keus\n",
    "\n",
    "```python\n",
    "capacity = 10\n",
    "items = [8, 4, 6]\n",
    "```\n",
    "\n",
    "Het is beter om `items[0]` **niet** te gebruiken"
   ]
  },
  {
   "cell_type": "markdown",
   "metadata": {
    "slideshow": {
     "slide_type": "notes"
    }
   },
   "source": [
    "In dit geval is het verstandiger om 8 te laten vallen (*lose it*) om vervolgens 4 én 6 te gebruiken (*use it*)."
   ]
  },
  {
   "cell_type": "markdown",
   "metadata": {
    "slideshow": {
     "slide_type": "subslide"
    }
   },
   "source": [
    "```python\n",
    "capacity = 10\n",
    "items = [4, 8, 6]\n",
    "```\n",
    "\n",
    "Het is beter om `items[0]` **wel** te gebruiken"
   ]
  },
  {
   "cell_type": "markdown",
   "metadata": {
    "slideshow": {
     "slide_type": "notes"
    },
    "tags": []
   },
   "source": [
    "Maar in dit geval is het verstandiger om 4 wél te gebruiken (*use it*) om vervolgens 8 niet te gebruiken (*lose it*) en tot slot 6 wel te gebruiken (*use it*).\n",
    "\n",
    "Hoe kan je nu tussen deze twee mogelijkheden kiezen, of beter, hoe zou je een algemene oplossing voor dit probleem kunnen vinden?"
   ]
  },
  {
   "cell_type": "markdown",
   "metadata": {
    "slideshow": {
     "slide_type": "subslide"
    }
   },
   "source": [
    "### De makkelijke keus\n",
    "\n",
    "Gebruik beide en kies de beste uitkomst!"
   ]
  },
  {
   "cell_type": "markdown",
   "metadata": {
    "slideshow": {
     "slide_type": "fragment"
    }
   },
   "source": [
    "*Use it!*\n",
    "\n",
    "```python\n",
    "useit = first + subset(capacity - first, rest)\n",
    "```"
   ]
  },
  {
   "cell_type": "markdown",
   "metadata": {
    "slideshow": {
     "slide_type": "fragment"
    }
   },
   "source": [
    "*Lose it!*\n",
    "\n",
    "```python\n",
    "loseit = subset(capacity, rest)\n",
    "```"
   ]
  },
  {
   "cell_type": "markdown",
   "metadata": {
    "slideshow": {
     "slide_type": "fragment"
    }
   },
   "source": [
    "`capacity` to the `max`!\n",
    "\n",
    "```python\n",
    "max(useit, loseit)\n",
    "```"
   ]
  },
  {
   "cell_type": "markdown",
   "metadata": {
    "slideshow": {
     "slide_type": "subslide"
    }
   },
   "source": [
    "### To the `max`\n",
    "\n",
    "```python\n",
    "def subset(capacity, items):\n",
    "    \"\"\"Given a capacity and a list of positive-number items,\n",
    "    subset returns the largest sum that can be made from the \n",
    "    items _without exceeding capacity_.\n",
    "    \"\"\"\n",
    "    if capacity <= 0 or len(items) == 0:\n",
    "        return 0\n",
    "    \n",
    "    first = items[0]\n",
    "    rest = items[1:]\n",
    "    \n",
    "    if first == capacity:\n",
    "        return first  # use the first and we're done\n",
    "\n",
    "    if first > capacity:\n",
    "        return subset(capacity, rest)  # forget the first completely\n",
    "    \n",
    "    if first < capacity:\n",
    "        useit = first + subset(capacity - first, rest)\n",
    "        loseit = subset(capacity, rest)  # use it!\n",
    "        return max(useit, loseit)        # lose it!\n",
    "```"
   ]
  },
  {
   "cell_type": "markdown",
   "metadata": {
    "slideshow": {
     "slide_type": "subslide"
    }
   },
   "source": [
    "### Hoe werkt dit?\n",
    "\n",
    "```python\n",
    "if first < capacity:\n",
    "    useit = first + subset(capacity - first, rest)\n",
    "    loseit = subset(capacity, rest)\n",
    "    return max(useit, loseit)\n",
    "```"
   ]
  },
  {
   "cell_type": "markdown",
   "metadata": {
    "slideshow": {
     "slide_type": "subslide"
    }
   },
   "source": [
    "![subset](images/8/subset.png)"
   ]
  },
  {
   "cell_type": "markdown",
   "metadata": {
    "slideshow": {
     "slide_type": "notes"
    }
   },
   "source": [
    "Zowel `useit` als `loseit` worden op de stack geplaatst, maar onderweg gebeurt dit natuurlijk vaker tot alle mogelijkeden zijn uitgeput (de base case is bereikt). Recursie zie je hier heel goed terugkomen in de vertakkingen en met `max(useit, loseit)` wordt het een beslisboom. Probeer van boven naar beneden en weer terug omhoog de `useit` en `loseit` aanroepen en tussentijdse resultaten te volgen."
   ]
  }
 ],
 "metadata": {
  "kernelspec": {
   "display_name": "Python 3 (ipykernel)",
   "language": "python",
   "name": "python3"
  },
  "language_info": {
   "codemirror_mode": {
    "name": "ipython",
    "version": 3
   },
   "file_extension": ".py",
   "mimetype": "text/x-python",
   "name": "python",
   "nbconvert_exporter": "python",
   "pygments_lexer": "ipython3",
   "version": "3.10.7"
  }
 },
 "nbformat": 4,
 "nbformat_minor": 4
}
