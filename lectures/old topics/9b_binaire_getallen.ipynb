{
 "cells": [
  {
   "cell_type": "markdown",
   "metadata": {
    "slideshow": {
     "slide_type": "slide"
    }
   },
   "source": [
    "# Binaire getallen\n",
    "\n",
    "* Blijkbaar kunnen we getallen omzetten in andere talstelsels."
   ]
  },
  {
   "cell_type": "markdown",
   "metadata": {
    "slideshow": {
     "slide_type": "fragment"
    }
   },
   "source": [
    "![So what](images/9/so_what.jpg)"
   ]
  },
  {
   "cell_type": "markdown",
   "metadata": {
    "slideshow": {
     "slide_type": "subslide"
    }
   },
   "source": [
    "## Waarom zouden we dit willen?"
   ]
  },
  {
   "cell_type": "markdown",
   "metadata": {
    "slideshow": {
     "slide_type": "fragment"
    }
   },
   "source": [
    "![Computers](images/9/computers.png)"
   ]
  },
  {
   "cell_type": "markdown",
   "metadata": {
    "slideshow": {
     "slide_type": "subslide"
    }
   },
   "source": [
    "## Decimale computers\n",
    "\n",
    "* Computers werken op stroom 😱"
   ]
  },
  {
   "cell_type": "markdown",
   "metadata": {
    "slideshow": {
     "slide_type": "fragment"
    }
   },
   "source": [
    "* Dus moet je je getallen *representeren* met voltages."
   ]
  },
  {
   "cell_type": "markdown",
   "metadata": {
    "slideshow": {
     "slide_type": "fragment"
    }
   },
   "source": [
    "![10 voltages](images/9/10colors.png)"
   ]
  },
  {
   "cell_type": "markdown",
   "metadata": {
    "slideshow": {
     "slide_type": "fragment"
    }
   },
   "source": [
    "* Dat is lastig, zeker op schaal: welke waardes zijn dit bijvoorbeeld?\n",
    "\n",
    "![Welke voltages?](images/9/4colors.png)"
   ]
  },
  {
   "cell_type": "markdown",
   "metadata": {
    "slideshow": {
     "slide_type": "subslide"
    }
   },
   "source": [
    "## Binaire computers\n",
    "\n",
    "* Binaire getallen maken dit veel makkelijker:\n",
    "\n",
    "![2 voltages](images/9/2colors.png)"
   ]
  },
  {
   "cell_type": "markdown",
   "metadata": {
    "slideshow": {
     "slide_type": "fragment"
    }
   },
   "source": [
    "* Kijk maar:\n",
    "\n",
    "![Welke voltages?](images/9/2colors-2.png)"
   ]
  },
  {
   "cell_type": "markdown",
   "metadata": {
    "slideshow": {
     "slide_type": "subslide"
    }
   },
   "source": [
    "## Ternaire computers\n",
    "\n",
    "* Ternaire computers hebben ook bestaan!\n",
    "\n",
    "![Setun-computer](images/9/setun.jpg)\n",
    "\n",
    "* Deze maakte gebruik van 'balanced ternary' (zie ook het huiswerk) door negatieve en positieve voltages te onderscheiden."
   ]
  },
  {
   "cell_type": "markdown",
   "metadata": {
    "slideshow": {
     "slide_type": "slide"
    }
   },
   "source": [
    "## Binair stelsel\n",
    "\n",
    "* Van rechts naar links *representeert* elk binair cijfer een steeds grotere macht van 2.\n",
    "\n",
    "![101010](images/9/101010.png)\n",
    "\n",
    "$$101010_2 = 1 \\cdot 32 + 0 \\cdot 16 + 1 \\cdot 8 + 0 \\cdot 4 + 1 \\cdot 2 + 0 \\cdot 1 = 42$$"
   ]
  },
  {
   "cell_type": "markdown",
   "metadata": {
    "slideshow": {
     "slide_type": "subslide"
    }
   },
   "source": [
    "### Binaire \"cijfers\"\n",
    "\n",
    "* In het **decimale** stelsel heten tekens **cijfers** (Engels: **digits**)\n",
    "* Een getal kan meerdere cijfers bevatten."
   ]
  },
  {
   "cell_type": "markdown",
   "metadata": {
    "slideshow": {
     "slide_type": "fragment"
    }
   },
   "source": [
    "* In het **binaire** stelsel heten tekens **bits** (\"binary digits\")\n",
    "* Een getal met 8 bits wordt een **byte** of **octet** genoemd"
   ]
  },
  {
   "cell_type": "markdown",
   "metadata": {
    "slideshow": {
     "slide_type": "fragment"
    }
   },
   "source": [
    "![Binary digit](images/9/bit.png)"
   ]
  },
  {
   "cell_type": "markdown",
   "metadata": {
    "slideshow": {
     "slide_type": "slide"
    },
    "tags": []
   },
   "source": [
    "## Decimale getallen omzetten naar binaire getallen\n",
    "\n",
    "* Stel we willen het getal 141 van decimaal naar binair omzetten\n",
    "* De eerste stap is lastig als we **van links naar rechts** omzetten. *Waarom?*"
   ]
  },
  {
   "cell_type": "markdown",
   "metadata": {
    "slideshow": {
     "slide_type": "fragment"
    }
   },
   "source": [
    "* Omdat we niet weten bij welke macht van twee we moeten beginnen!"
   ]
  },
  {
   "cell_type": "markdown",
   "metadata": {
    "slideshow": {
     "slide_type": "subslide"
    }
   },
   "source": [
    "### Een betere aanpak: van rechts naar links!\n",
    "\n",
    "* Wat zou de meest rechter bit van de binaire versie van 141 zijn?\n",
    "* En de twee meest rechtse bits?"
   ]
  },
  {
   "cell_type": "markdown",
   "metadata": {
    "slideshow": {
     "slide_type": "fragment"
    }
   },
   "source": [
    "* Alle machten van twee, **behalve 1**, zijn **even**! (Waarom?)\n",
    "* 141 is oneven, dus **moet** de laatste bit een 1 zijn! Die stelt immers de eenheden voor."
   ]
  },
  {
   "cell_type": "markdown",
   "metadata": {
    "slideshow": {
     "slide_type": "subslide"
    }
   },
   "source": [
    "### Een algoritme!\n",
    "\n",
    "$$\n",
    "\\begin{aligned}\n",
    "141 &=\\; ... + a_3 \\cdot 8 + a_2 \\cdot 4 + a_1 \\cdot 2 + 1 \\cdot 1 \\\\\n",
    "140 &=\\; ... + a_3 \\cdot 8 + a_2 \\cdot 4 + a_1 \\cdot 2 \\\\\n",
    "70 &=\\; ... + a_3 \\cdot 4 + a_2 \\cdot 2 + a_1 \\cdot 1 \\\\\n",
    "\\end{aligned}\n",
    "$$"
   ]
  },
  {
   "cell_type": "markdown",
   "metadata": {
    "slideshow": {
     "slide_type": "fragment"
    }
   },
   "source": [
    "![Recursie!](images/8/simpsons.gif)"
   ]
  },
  {
   "cell_type": "markdown",
   "metadata": {
    "slideshow": {
     "slide_type": "subslide"
    }
   },
   "source": [
    "### Het algoritme uitwerken\n",
    "\n",
    "* We kunnen dus 141 binair schrijven, *als* we 70 binair kunnen schrijven\n",
    "* Hier zie je het recursieve geval!"
   ]
  },
  {
   "cell_type": "markdown",
   "metadata": {
    "slideshow": {
     "slide_type": "fragment"
    }
   },
   "source": [
    "* Als het getal op 1 eindigt, eindigt het binaire getal ook op 1\n",
    "* Als het getal op 0 eindigt, eindigt het binaire getal ook op 0\n",
    "* En we hebben de binaire versie van het getal **gedeeld door 2** nodig."
   ]
  },
  {
   "cell_type": "markdown",
   "metadata": {
    "slideshow": {
     "slide_type": "fragment"
    }
   },
   "source": [
    "* Wat is nu het basisgeval?\n",
    "* Als we 0 binair willen schrijven, schrijven we het als een lege string"
   ]
  },
  {
   "cell_type": "markdown",
   "metadata": {
    "slideshow": {
     "slide_type": "fragment"
    }
   },
   "source": [
    "* Dit klinkt gek, maar licht ik zo toe!"
   ]
  },
  {
   "cell_type": "markdown",
   "metadata": {
    "slideshow": {
     "slide_type": "subslide"
    }
   },
   "source": [
    "### En nu in code\n",
    "\n",
    "```python\n",
    "def num_to_binary(n):\n",
    "    \"\"\"Converts a value to binary.\"\"\"\n",
    "    if n == 0:\n",
    "        return ...\n",
    "    elif ...:\n",
    "        return ...\n",
    "    else:\n",
    "        return ...\n",
    "```\n",
    "\n",
    "* We hebben een basisgeval nodig, en we moeten een keuze maken: is het getal even of oneven\n",
    "* En wat is in die twee gevallen het resultaat?"
   ]
  },
  {
   "cell_type": "markdown",
   "metadata": {
    "slideshow": {
     "slide_type": "subslide"
    }
   },
   "source": [
    "### Uitgewerkt in code\n",
    "\n",
    "```python\n",
    "def num_to_binary(n):\n",
    "    \"\"\"Converts a value to binary.\"\"\"\n",
    "    if n == 0:\n",
    "        # een lege string als basisgeval\n",
    "        return '' \n",
    "    elif n % 2 == 1: # is n oneven?\n",
    "        # neem dan de binaire waarde van de helft, met een 1 er achter\n",
    "        return num_to_binary(n // 2) + '1'\n",
    "    else:\n",
    "        # neem anders de binaire waarde van de helft, met een 0 er achter\n",
    "        return num_to_binary(n // 2) + '0'\n",
    "```"
   ]
  },
  {
   "cell_type": "markdown",
   "metadata": {
    "slideshow": {
     "slide_type": "fragment"
    }
   },
   "source": [
    "* Dit is overigens één van de practica-opdrachten; you're welcome 🙃\n",
    "* In de herhaling: waarom is het basisgeval een lege string?"
   ]
  },
  {
   "cell_type": "markdown",
   "metadata": {
    "slideshow": {
     "slide_type": "notes"
    }
   },
   "source": [
    "Omdat anders de recursie minder goed werkt: dan zou je altijd een 0 aan het begin van je resultaat krijgen."
   ]
  },
  {
   "cell_type": "markdown",
   "metadata": {
    "slideshow": {
     "slide_type": "slide"
    }
   },
   "source": [
    "## Bitwise operatoren\n",
    "\n",
    "* Naast de \"normale\" operatoren zoals + en * zijn er ook een aantal operatoren die op rechtstreeks op de bits van een getal werken"
   ]
  },
  {
   "cell_type": "markdown",
   "metadata": {
    "slideshow": {
     "slide_type": "subslide"
    }
   },
   "source": [
    "### Bitwise or\n",
    "\n",
    "| &#124; | 0 | 1 |\n",
    "|--------|---|---|\n",
    "| 0      | 0 | 1 |\n",
    "| 1      | 1 | 1 |"
   ]
  },
  {
   "cell_type": "markdown",
   "metadata": {
    "slideshow": {
     "slide_type": "fragment"
    }
   },
   "source": [
    "* Bitwise or, |, kijkt per bit of één van de twee getallen deze aan heeft; zo ja, heeft het antwoord die bit ook aan.\n",
    "* Bijvoorbeeld: 9 | 5 = 1001<sub>2</sub> | 0101<sub>2</sub> = 1101<sub>2</sub> = 13\n",
    "* Wat is dan 25 | 10?"
   ]
  },
  {
   "cell_type": "markdown",
   "metadata": {
    "slideshow": {
     "slide_type": "fragment"
    }
   },
   "source": [
    "* 25 | 10 = 11001<sub>2</sub> | 01010<sub>2</sub> = 11011<sub>2</sub> = 27"
   ]
  },
  {
   "cell_type": "markdown",
   "metadata": {
    "slideshow": {
     "slide_type": "subslide"
    }
   },
   "source": [
    "### Bitwise and\n",
    "\n",
    "| & | 0 | 1 |\n",
    "|---|---|---|\n",
    "| 0 | 0 | 0 |\n",
    "| 1 | 0 | 1 |"
   ]
  },
  {
   "cell_type": "markdown",
   "metadata": {
    "slideshow": {
     "slide_type": "fragment"
    }
   },
   "source": [
    "* Bitwise or, &, kijkt per bit of allebei de getallen deze aan hebben; alleen dan heeft het antwoord die bit ook aan.\n",
    "* Bijvoorbeeld: 9 & 5 = 1001<sub>2</sub> & 0101<sub>2</sub> = 0001<sub>2</sub> = 1\n",
    "* Wat is dan 25 & 10?"
   ]
  },
  {
   "cell_type": "markdown",
   "metadata": {
    "slideshow": {
     "slide_type": "fragment"
    }
   },
   "source": [
    "* 25 & 10 = 11001<sub>2</sub> & 01010<sub>2</sub> = 01000<sub>2</sub> = 8"
   ]
  },
  {
   "cell_type": "markdown",
   "metadata": {
    "slideshow": {
     "slide_type": "subslide"
    }
   },
   "source": [
    "### Shift left\n",
    "\n",
    "* Shift left voegt aan de rechterkant van het eerste getal een aantal nullen toe gelijk aan het tweede getal\n",
    "* Bijvoorbeeld: 5 << 2 = 101<sub>2</sub> << 2 = 10100<sub>2</sub> = 20\n",
    "* Kan je bedenken wat dit effectief betekent, in termen van 'normaal' rekenen?"
   ]
  },
  {
   "cell_type": "markdown",
   "metadata": {
    "slideshow": {
     "slide_type": "fragment"
    }
   },
   "source": [
    "* Shift left verdubbelt het getal voor elke stap; een shift left met 3 verdubbelt het getal 3 keer, dus in totaal is dat een vermenigvuldiging met 2<sup>3</sup> = 8."
   ]
  },
  {
   "cell_type": "markdown",
   "metadata": {
    "slideshow": {
     "slide_type": "subslide"
    }
   },
   "source": [
    "### Shift right\n",
    "\n",
    "* Shift right haalt aan de rechterkant van het eerste getal een aantal bits weg gelijk aan het tweede getal\n",
    "* Bijvoorbeeld: 42 >> 2 = 101010<sub>2</sub> >> 2 = 1010<sub>2</sub> = 10\n",
    "* Kan je bedenken wat dit effectief betekent, in termen van 'normaal' rekenen?"
   ]
  },
  {
   "cell_type": "markdown",
   "metadata": {
    "slideshow": {
     "slide_type": "fragment"
    }
   },
   "source": [
    "* Shift left halveert het getal voor elke stap; een shift left met 3 halveert het getal 3 keer, dus in totaal is dat een deling door 2<sup>3</sup> = 8.\n",
    "* De rest van de deling wordt genegeerd; het is in dat opzicht te vergelijken met de operator //, de integerdeling."
   ]
  },
  {
   "cell_type": "markdown",
   "metadata": {
    "slideshow": {
     "slide_type": "subslide"
    }
   },
   "source": [
    "### Waarom?\n",
    "\n",
    "![Intel-instructies](images/9/instructions.png)\n",
    "\n",
    "* Je kan zien dat instructies als (bitwise) AND en OR, optellen en aftrekken veel *sneller* zijn dan bijvoorbeeld vermenigvuldigen (IMUL) en delen (IDIV)."
   ]
  },
  {
   "cell_type": "markdown",
   "metadata": {
    "slideshow": {
     "slide_type": "notes"
    }
   },
   "source": [
    "* Latency is de tijd, in kloktikken, die het kost om die instructie uit te voeren.\n",
    "* Throughput is de tijd die het kost om een operatie nog een keer uit te voeren."
   ]
  },
  {
   "cell_type": "markdown",
   "metadata": {
    "slideshow": {
     "slide_type": "subslide"
    }
   },
   "source": [
    "![Back in the day when I was your age...](images/9/grandpa.jpg)"
   ]
  },
  {
   "cell_type": "markdown",
   "metadata": {
    "slideshow": {
     "slide_type": "subslide"
    }
   },
   "source": [
    "* Vroegâh, toen je dit soort dingen nog met de hand zou optimizen, kon je dus tijd winnen door bitwise-operaties te gebruiken in plaats van vermenigvuldigen en delen.\n",
    "* Bijvoorbeeld: n * 7 == n << 3 - n\n",
    "* Hoe kan je de volgende berekeningen met bitwise-operaties, optellen en aftrekken maken?\n",
    "  * n // 4\n",
    "  * n * 17\n",
    "  * n % 16"
   ]
  },
  {
   "cell_type": "markdown",
   "metadata": {
    "slideshow": {
     "slide_type": "fragment"
    }
   },
   "source": [
    "* n // 4 == n >> 2\n",
    "* n * 17 == n << 4 + n\n",
    "* n % 16 == n | 15"
   ]
  },
  {
   "cell_type": "markdown",
   "metadata": {
    "slideshow": {
     "slide_type": "subslide"
    }
   },
   "source": [
    "![Kids? Don't try this at home.](images/9/kids-dont-try-this-at-home.png)"
   ]
  },
  {
   "cell_type": "markdown",
   "metadata": {
    "slideshow": {
     "slide_type": "slide"
    }
   },
   "source": [
    "## Floating-point getallen\n",
    "\n",
    "Misschien heb je al gezien dat floating-point getallen soms onnauwkeurig zijn."
   ]
  },
  {
   "cell_type": "code",
   "execution_count": 1,
   "metadata": {
    "slideshow": {
     "slide_type": "fragment"
    }
   },
   "outputs": [
    {
     "data": {
      "text/plain": [
       "18.999999999999996"
      ]
     },
     "execution_count": 1,
     "metadata": {},
     "output_type": "execute_result"
    }
   ],
   "source": [
    "(4+4-0.4)/0.4"
   ]
  },
  {
   "cell_type": "markdown",
   "metadata": {
    "slideshow": {
     "slide_type": "subslide"
    }
   },
   "source": [
    "### Floating-point getallen zijn ook binair\n",
    "\n",
    "![Binair kommagetal](images/9/float.png)\n",
    "\n",
    "* De waarde van de bits achter de komma wordt steeds *gedeeld* door het grondgetal\n",
    "* Dit is ook zo bij decimale kommagetallen: tienden, honderdsten, duizendsten"
   ]
  },
  {
   "cell_type": "markdown",
   "metadata": {
    "slideshow": {
     "slide_type": "subslide"
    }
   },
   "source": [
    "### Voorbeeld: Binaire kommagetallen met 3 bits \n",
    "\n",
    "| Binair getal | Decimale waarde |\n",
    "|--------------|-----------------|\n",
    "| 0.000        | 0.000           |\n",
    "| 0.001        | 0.125           |\n",
    "| 0.010        | 0.250           |\n",
    "| 0.011        | 0.375           |\n",
    "| 0.100        | 0.500           |\n",
    "| 0.101        | 0.625           |\n",
    "| 0.110        | 0.750           |\n",
    "| 0.111        | 0.875           |\n",
    "| 1.000        | 1.000           |"
   ]
  },
  {
   "cell_type": "markdown",
   "metadata": {
    "slideshow": {
     "slide_type": "fragment"
    }
   },
   "source": [
    "* Hoe zou je 0.4 moeten *representeren*? De beste mogelijkheid is 0.011, maar die is niet exact!\n",
    "* Hierdoor krijg je afrondfouten!"
   ]
  },
  {
   "cell_type": "markdown",
   "metadata": {
    "slideshow": {
     "slide_type": "fragment"
    }
   },
   "source": [
    "* Dit zie je bij decimale kommagetallen ook: probeer 1/3 maar eens uit te schrijven!"
   ]
  },
  {
   "cell_type": "markdown",
   "metadata": {
    "slideshow": {
     "slide_type": "notes"
    }
   },
   "source": [
    "In de praktijk heb je niet 3 bits achter de komma, maar 23 of 52 bits; het idee blijft echter hetzelfde."
   ]
  },
  {
   "cell_type": "markdown",
   "metadata": {
    "slideshow": {
     "slide_type": "slide"
    }
   },
   "source": [
    "## Egyptisch vermenigvuldigen\n",
    "\n",
    "* Schrijf de twee getallen in twee kolommen op\n",
    "* **Halveer** (zonder rest) steeds de linkerkolom en **verdubbel** de rechterkolom\n",
    "* Tel alleen de **rechter**waarden bij elkaar op waarbij de **linker**waarde **oneven** is."
   ]
  },
  {
   "cell_type": "markdown",
   "metadata": {
    "slideshow": {
     "slide_type": "fragment"
    }
   },
   "source": [
    "$$\n",
    "\\begin{array}{ccccc}\n",
    "21 & \\times & 6 & = & 126 \\\\\n",
    "\\hline\n",
    "\\textbf{21} & & 6 & & 6 \\\\\n",
    "10 & & 12 & & \\\\\n",
    "\\textbf{5} & & 24 & & 24 \\\\\n",
    "2 & & 48 & & \\\\\n",
    "\\textbf{1} & & 96 & & 96 \\\\\n",
    "\\end{array}\n",
    "$$"
   ]
  },
  {
   "cell_type": "markdown",
   "metadata": {
    "slideshow": {
     "slide_type": "fragment"
    }
   },
   "source": [
    "* Waarom werkt dit? (Hint: het heeft met binaire getallen te maken! 🙃)\n",
    "* Stof tot nadenken!"
   ]
  },
  {
   "cell_type": "markdown",
   "metadata": {
    "slideshow": {
     "slide_type": "subslide"
    }
   },
   "source": [
    "![Mind blown!](images/4/mind_blown_recursive.gif)"
   ]
  }
 ],
 "metadata": {
  "kernelspec": {
   "display_name": "Python 3 (ipykernel)",
   "language": "python",
   "name": "python3"
  },
  "language_info": {
   "codemirror_mode": {
    "name": "ipython",
    "version": 3
   },
   "file_extension": ".py",
   "mimetype": "text/x-python",
   "name": "python",
   "nbconvert_exporter": "python",
   "pygments_lexer": "ipython3",
   "version": "3.9.5"
  }
 },
 "nbformat": 4,
 "nbformat_minor": 4
}
