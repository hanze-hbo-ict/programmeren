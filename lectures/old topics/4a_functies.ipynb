{
 "cells": [
  {
   "cell_type": "markdown",
   "metadata": {
    "slideshow": {
     "slide_type": "slide"
    }
   },
   "source": [
    "# Functies\n",
    "\n",
    "Fun met Python functies!"
   ]
  },
  {
   "cell_type": "markdown",
   "metadata": {
    "slideshow": {
     "slide_type": "subslide"
    }
   },
   "source": [
    "## Computing\n",
    "\n",
    "*Berekeningen*, handelingen op data"
   ]
  },
  {
   "cell_type": "markdown",
   "metadata": {
    "slideshow": {
     "slide_type": "notes"
    }
   },
   "source": [
    "Een computer *rekent*, en daarmee voert het handelingen op data uit. Met data heb je kennisgemaakt en hoe dit door de computer wordt opgeslagen (denk aan de \"dozen\" in het geheugen en bits als fundamentele informatie-eenheid). Maar hoe worden *bewerkingen* op deze data uitgevoerd? We gaan kennismaken met een andere bouwsteen om te kunnen handelen: functies!"
   ]
  },
  {
   "cell_type": "markdown",
   "metadata": {
    "slideshow": {
     "slide_type": "subslide"
    }
   },
   "source": [
    "## Handelen\n",
    "\n",
    "Input en output"
   ]
  },
  {
   "cell_type": "code",
   "execution_count": 1,
   "metadata": {
    "slideshow": {
     "slide_type": "fragment"
    }
   },
   "outputs": [
    {
     "data": {
      "text/plain": [
       "8"
      ]
     },
     "execution_count": 1,
     "metadata": {},
     "output_type": "execute_result"
    }
   ],
   "source": [
    "len(\"huiswerk\")"
   ]
  },
  {
   "cell_type": "markdown",
   "metadata": {
    "slideshow": {
     "slide_type": "notes"
    }
   },
   "source": [
    "Je hebt inmiddels al functies gebruikt, bijvoorbeeld de functie `len(x)`. Deze functie accepteert een *parameter* (een waarde, de *input*) en geeft een resultaat terug (*output*). We weten of zien niet welke handelingen `len(x)` verricht, we weten alleen dat het een waarde terugggeeft. Laten we Python functies eens vergelijken met wat je al kent van andere disciplines, bijvoorbeeld wiskunde."
   ]
  },
  {
   "cell_type": "markdown",
   "metadata": {
    "slideshow": {
     "slide_type": "subslide"
    }
   },
   "source": [
    "![Google googol](images/4/google_googol.png)"
   ]
  },
  {
   "cell_type": "markdown",
   "metadata": {
    "slideshow": {
     "slide_type": "notes"
    }
   },
   "source": [
    "[Googol](https://nl.wikipedia.org/wiki/Googol) is de wiskundige aanduiding van een getal met de waarde $10^{100}$ (uitgeschreven een 1 gevolgd door 100 nullen). Dit is meer dan het aantal deeltjes in het waarneembaar heelal, maar minder dan het geschat [mogelijk aantal zetten in een schaakspel](https://en.wikipedia.org/wiki/Shannon_number) ($10^{120}$)!\n",
    "\n",
    "En als iemand in het verleden niet een [spelfout](https://graphics.stanford.edu/~dk/google_name_origin.html) had gemaakt dan zocht je nu met Googol in plaats van [Google](https://google.com) ... Laten we onze eigen \"googoler\" functie maken die *elk* getal tot de macht 100 kan verheffen."
   ]
  },
  {
   "cell_type": "markdown",
   "metadata": {
    "slideshow": {
     "slide_type": "subslide"
    }
   },
   "source": [
    "## Structuur versus procedure"
   ]
  },
  {
   "cell_type": "markdown",
   "metadata": {
    "slideshow": {
     "slide_type": "fragment"
    }
   },
   "source": [
    "$$\n",
    "g(x) = x^{100}\n",
    "$$\n",
    "\n",
    "Definieert een **structuur**: wat het *is* (en wat logischerwijs volgt)"
   ]
  },
  {
   "cell_type": "markdown",
   "metadata": {
    "slideshow": {
     "slide_type": "notes"
    }
   },
   "source": [
    "Functies ken je uit de wiskunde en je zou een \"googolige\" machtsverheffing kunnen *beschrijven* als een functie. We beschrijven hier dat voor elke parameter $x$ je deze als $x^{100}$ terugkrijgt. Dit is de syntax die wiskudigen hebben bedacht om een *structuur* te beschrijven en wat daar logischerwijs uit zou moeten volgen."
   ]
  },
  {
   "cell_type": "markdown",
   "metadata": {
    "slideshow": {
     "slide_type": "fragment"
    }
   },
   "source": [
    "```python\n",
    "def g(x):\n",
    "    return x**100\n",
    "```\n",
    "\n",
    "Defineert een **procedure**: wat het *doet* (en wat gedragsmatig volgt)"
   ]
  },
  {
   "cell_type": "markdown",
   "metadata": {
    "slideshow": {
     "slide_type": "notes"
    }
   },
   "source": [
    "Python heeft ook functies. Het heeft de speciale syntax `def` (wat *define* betekent) om te zeggen \"Ik definieer een functie\", in dit geval een functie met de naam `g` die een enkele parameter `x` accepteert.\n",
    "\n",
    "De combinatie van naam en welke parameters worden geaccepteerd wordt ook de *signatuur* van een functie genoemd, want dit is wat het uniek maakt en onderscheidt van andere functies die we gaan schrijven. Let ook op dat een functie definitie wordt afgesloten met de dubbele punt `:`!\n",
    "\n",
    "Dit is al een stuk concreter, want anders dan de wiskundige beschrijving definiëren we hier een procedure (één of meerdere handelingen die uitgevoerd moeten worden op basis van een mogelijke input) en een resultaat dat mogelijk met het `return` *statement* wordt teruggegeven (output). Let ook op dat alles wat na de dubbele punt volgt moet worden ingesprongen om aan te geven dat het een codeblok is dat onderdeel van de functie is.\n",
    "\n",
    "Syntax check! De dubbele punt geeft aan dat een nieuwe context volgt, je hebt dit bijvoorbeeld ook gezien bij conditionele statements als `if:`. De vuistregel is *altijd inspringen* na een dubbele punt!"
   ]
  },
  {
   "cell_type": "markdown",
   "metadata": {
    "slideshow": {
     "slide_type": "slide"
    }
   },
   "source": [
    "## Binnen een functie"
   ]
  },
  {
   "cell_type": "code",
   "execution_count": 2,
   "metadata": {
    "slideshow": {
     "slide_type": "fragment"
    }
   },
   "outputs": [
    {
     "data": {
      "text/plain": [
       "'maatauto'"
      ]
     },
     "execution_count": 2,
     "metadata": {},
     "output_type": "execute_result"
    }
   ],
   "source": [
    "def flipside(s):\n",
    "    \"\"\" flipside(s): spiegel s!\n",
    "    input s: een string\n",
    "    \"\"\"\n",
    "    x = len(s) // 2\n",
    "    return s[x:] + s[:x]\n",
    "\n",
    "flipside(\"automaat\")"
   ]
  },
  {
   "cell_type": "markdown",
   "metadata": {
    "slideshow": {
     "slide_type": "notes"
    }
   },
   "source": [
    "Laten we gaan kijken naar de binnenkant van functies. We hebben hier een functie `flipside` gedefinieerd die een *string* spiegelt. Je ziet dat functie `len(x)`, *floor division* `//` en string *slicing* wordt gebruikt. Maar je ziet ook andere dingen, bijvoorbeeld binnen de functie een nieuwe variabele `x` en tekst tussen driedubbele aanhalingstekens `\"\"\"`."
   ]
  },
  {
   "cell_type": "markdown",
   "metadata": {
    "slideshow": {
     "slide_type": "subslide"
    }
   },
   "source": [
    "### Docstrings\n",
    "\n",
    "```python\n",
    "def flipside(s):\n",
    "    \"\"\" flipside(s): spiegel s!\n",
    "    input s: een string\n",
    "    \"\"\"\n",
    "```"
   ]
  },
  {
   "cell_type": "code",
   "execution_count": 3,
   "metadata": {
    "slideshow": {
     "slide_type": "fragment"
    }
   },
   "outputs": [
    {
     "name": "stdout",
     "output_type": "stream",
     "text": [
      "Help on function flipside in module __main__:\n",
      "\n",
      "flipside(s)\n",
      "    flipside(s): spiegel s!\n",
      "    input s: een string\n",
      "\n"
     ]
    }
   ],
   "source": [
    "help(flipside)"
   ]
  },
  {
   "cell_type": "markdown",
   "metadata": {
    "slideshow": {
     "slide_type": "notes"
    }
   },
   "source": [
    "Met een string met driedubbele aanhalingstekens direct na de dubbele punt documenteer je de functie (voor jezelf en voor anderen). Je beschrijft in deze *docstring* op de eerste regel kort wat de functie doet en verder andere informatie die nodig is, bijvoorbeeld de typen van parameters. Deze documentatie kan je altijd opvragen met `help(x)`. Probeer dit ook een voor (ingebouwde) Python functies als (`len(x)` of `print()`)."
   ]
  },
  {
   "cell_type": "markdown",
   "metadata": {
    "slideshow": {
     "slide_type": "subslide"
    }
   },
   "source": [
    "### Gebruik variabelen\n",
    "\n",
    "```python\n",
    "def flipside(s):\n",
    "    x = len(s) // 2\n",
    "    return s[x:] + s[:x]\n",
    "```"
   ]
  },
  {
   "cell_type": "markdown",
   "metadata": {
    "slideshow": {
     "slide_type": "notes"
    }
   },
   "source": [
    "De lengte van de string is nodig om vervolgens met een floor division het aantal karakters tot het middelpunt van de string te bepalen. Dit aantal wordt aan de nieuwe variabele `x` toegekend en deze `x` wordt vervolgens 2 keer gebruikt voor het slicen van de string (de start- en stop waarden). We breken met het zetten van deze variabele `x` ook het probleem in stukjes op, en het scheelt ons typewerk!"
   ]
  },
  {
   "cell_type": "markdown",
   "metadata": {
    "slideshow": {
     "slide_type": "fragment"
    }
   },
   "source": [
    "```python\n",
    "def flipside(s):\n",
    "    return s[len(s) // 2:] + s[:len(s) // 2]\n",
    "```"
   ]
  },
  {
   "cell_type": "markdown",
   "metadata": {
    "slideshow": {
     "slide_type": "notes"
    }
   },
   "source": [
    "Je had de stap van het zetten van een variabele ook kunnnen overslaan en de start- en stop waarde voor het slicen van de string ook als resultaat van `len(s) // 2` kunnen schrijven, maar je merkt al dat het minder goed leesbaar is. Het gebruik van variabelen helpt de leesbaarheid en zelfs de computer vind het prettiger omdat het efficiënter is: er hoeft maar één keer het aantal karakters tot het midden te worden berekend!"
   ]
  },
  {
   "cell_type": "markdown",
   "metadata": {
    "slideshow": {
     "slide_type": "subslide"
    }
   },
   "source": [
    "### Variabelen opnieuw definieren\n",
    "\n",
    "```python\n",
    "def convert_from_seconds(s):\n",
    "    \"\"\"Een getal naar dagen, uren, minuten en seconden\n",
    "    \n",
    "    Zet een getal om naar naar een lijst van\n",
    "    [days, hours, minutes, seconds]\n",
    "    input s: een int\n",
    "    \"\"\"\n",
    "    days = s // (24 * 60 * 60)  # aantal dagen\n",
    "    s = s % (24 * 60 * 60)  # restant s\n",
    "\n",
    "    hours = s // (60 * 60)  # aantal uren\n",
    "    s = s % (60 * 60)  # restant s\n",
    "\n",
    "    minutes = s // 60  # aantal minuten\n",
    "    s = s % 60  # restant s\n",
    "\n",
    "    return [days, hours, minutes, s]\n",
    "```"
   ]
  },
  {
   "cell_type": "markdown",
   "metadata": {
    "slideshow": {
     "slide_type": "notes"
    }
   },
   "source": [
    "Gebruik variabelen en definiereer ze opnieuw als het nodig is! In dit voorbeeld wordt `s` steeds opnieuw gedefineerd op basis van het resultaat van een vorige handeling. Een floor division (`//`) wordt eerst gebruikt om bijvoorbeeld het aantal dagen te vinden en met het restant (`%`) wordt op dezlfde manier het aantal uren weer gevonden. Hetzelfde proces wordt herhaald voor het aantal minuten tot een restant aan aantal seconden overblijft.\n",
    "\n",
    "Naast de *docstring* zie je ook commentaren: alles wat na een `#` volgt slaat Python over, het doet daar niets mee. Het is vooral voor mensen een manier om opmerkingen tussendoor te plaatsen. Let verder ook op het return statement waar de waarden als *list* wordt teruggegeven."
   ]
  },
  {
   "cell_type": "markdown",
   "metadata": {
    "slideshow": {
     "slide_type": "subslide"
    }
   },
   "source": [
    "### Return versus print\n",
    "\n",
    "Wat is het verschil?"
   ]
  },
  {
   "cell_type": "markdown",
   "metadata": {
    "slideshow": {
     "slide_type": "notes"
    }
   },
   "source": [
    "Je hebt eerder kennisgemaakt met `print(x)` en deze functie geeft iets terug, althans zo lijkt het! `return` geeft een resultaat van een functie terug, wat is nu het verschil met `print(x)`?"
   ]
  },
  {
   "cell_type": "code",
   "execution_count": 4,
   "metadata": {
    "slideshow": {
     "slide_type": "subslide"
    }
   },
   "outputs": [],
   "source": [
    "def dbl(x):\n",
    "    \"\"\"verdubbelt x?\n",
    "    \"\"\"\n",
    "    return 2 * x\n",
    "\n",
    "a_dbl = dbl(20) + 20"
   ]
  },
  {
   "cell_type": "markdown",
   "metadata": {
    "slideshow": {
     "slide_type": "notes"
    }
   },
   "source": [
    "Dit is een eenvoudige functie die een waarde verdubbelt en het resultaat teruggeeft met `return`. Nu een variant met `print(x)` in plaats van `return`:"
   ]
  },
  {
   "cell_type": "code",
   "execution_count": 5,
   "metadata": {
    "slideshow": {
     "slide_type": "fragment"
    }
   },
   "outputs": [],
   "source": [
    "def dbl_pr(x):\n",
    "    \"\"\"verdubbelt x?\n",
    "    \"\"\"\n",
    "    print(2 * x)"
   ]
  },
  {
   "cell_type": "markdown",
   "metadata": {
    "slideshow": {
     "slide_type": "fragment"
    }
   },
   "source": [
    "```python\n",
    "a_dbl_pr = dbl_pr(20) + 20\n",
    "```"
   ]
  },
  {
   "cell_type": "markdown",
   "metadata": {
    "slideshow": {
     "slide_type": "fragment"
    }
   },
   "source": [
    "```text\n",
    "---------------------------------------------------------------------------\n",
    "TypeError                                 Traceback (most recent call last)\n",
    "<ipython-input-5-f85fb4a1e955> in <module>\n",
    "      4     print(2 * x)\n",
    "      5 \n",
    "----> 6 a_dbl_pr = dbl_pr(20) + 20\n",
    "\n",
    "TypeError: unsupported operand type(s) for +: 'NoneType' and 'int'\n",
    "```"
   ]
  },
  {
   "cell_type": "markdown",
   "metadata": {
    "slideshow": {
     "slide_type": "notes"
    }
   },
   "source": [
    "Dit geeft een fout op regel 6, waar we bij het resultaat van de functie 20 willen optellen. Waarom deze fout terwijl we wél een resultaat op scherm zien (40)? De verklaring is dat een functie zonder `return` niets teruggeeft en dat \"niets\" (verassend genoeg!) wél een waarde heeft, een waarde `None` (met type `NoneType`). `None` (\"geen\") representeert het niets en Python zegt ons hier dat we 20 *niet* bij niets kunnen optellen!\n",
    "\n",
    "Het *niets* is voor Python blijkbaar wel \"iets\" (`None`)!\n",
    "\n",
    "Als je er bij stilstaat is dit niet zo gek. Wij mensen maken ook een onderscheid tussen iets en niets (en hebben daar woorden voor, *iets* of *niets*) en voor Python is in dit niet(s) anders: het heeft een manier nodig om niets te kunnen representeren en uit te drukken."
   ]
  },
  {
   "cell_type": "markdown",
   "metadata": {
    "slideshow": {
     "slide_type": "subslide"
    }
   },
   "source": [
    "#### Het verschil\n",
    "\n",
    "**print** wijzigt pixels op het scherm\n",
    "\n",
    "**return** geeft resultaat van de functie-aanroep terug"
   ]
  },
  {
   "cell_type": "markdown",
   "metadata": {
    "slideshow": {
     "slide_type": "notes"
    }
   },
   "source": [
    "`return` is de manier hoe software informatie aan functies doorgeeft, waar het resultaat (output) van de een de input kan zijn voor de ander."
   ]
  },
  {
   "cell_type": "markdown",
   "metadata": {
    "slideshow": {
     "slide_type": "subslide"
    }
   },
   "source": [
    "### Testen"
   ]
  },
  {
   "cell_type": "code",
   "execution_count": 6,
   "metadata": {
    "slideshow": {
     "slide_type": "fragment"
    }
   },
   "outputs": [
    {
     "name": "stdout",
     "output_type": "stream",
     "text": [
      " toplap ~ toplap\n"
     ]
    }
   ],
   "source": [
    "# 1: functie definitie\n",
    "\n",
    "def flipside(s):\n",
    "    \"\"\" flipside(s): spiegel s!\n",
    "    input s: een string\n",
    "    \"\"\"\n",
    "    x = len(s) // 2\n",
    "    return s[x:] + s[:x]\n",
    "\n",
    "# 2: Tests\n",
    "\n",
    "assert flipside('huiswerk') == 'werkhuis'\n",
    "assert flipside('popster') == 'sterpop'\n",
    "\n",
    "print(\" toplap ~\", flipside('laptop')) # print het resultaat naar het scherm"
   ]
  },
  {
   "cell_type": "markdown",
   "metadata": {
    "slideshow": {
     "slide_type": "notes"
    }
   },
   "source": [
    "Voeg `assert` statements toe, waar *assert* een aanname betekent. Bijvoorbeeld, lees\n",
    "\n",
    "```python\n",
    "assert flipside('huiswerk') == 'werkhuis'\n",
    "```\n",
    "\n",
    "als \"neem aan dat het resultaat van de aanroep `flipside('huiswerk')` gelijk is aan de string `'werkhuis'`\". Verder kan je natuurlijk altijd print statements gebruiken om waarden naar het scherm te printen!"
   ]
  },
  {
   "cell_type": "markdown",
   "metadata": {
    "slideshow": {
     "slide_type": "subslide"
    }
   },
   "source": [
    "### None?\n",
    "\n",
    "`None` is iets dat *niets* representeert, kan je dit ook testen?"
   ]
  },
  {
   "cell_type": "code",
   "execution_count": 7,
   "metadata": {
    "slideshow": {
     "slide_type": "fragment"
    }
   },
   "outputs": [
    {
     "name": "stdout",
     "output_type": "stream",
     "text": [
      "40\n"
     ]
    }
   ],
   "source": [
    "assert dbl_pr(20) == None"
   ]
  },
  {
   "cell_type": "markdown",
   "metadata": {
    "slideshow": {
     "slide_type": "notes"
    }
   },
   "source": [
    "Je ziet hier alleen 40 (vanwege het `print` statement, pixels op het scherm...) en verder niets en dit is ok! Dit betekent dat de aanname dat de aanroep `dbl_pr(20)` inderdaad `None` teruggeeft."
   ]
  },
  {
   "cell_type": "markdown",
   "metadata": {
    "slideshow": {
     "slide_type": "slide"
    }
   },
   "source": [
    "## Quiz"
   ]
  },
  {
   "cell_type": "markdown",
   "metadata": {
    "slideshow": {
     "slide_type": "subslide"
    }
   },
   "source": [
    "### Vraag\n",
    "\n",
    "Functies kunnen andere functies aanroepen!\n",
    "\n",
    "```python\n",
    "def demo(x):\n",
    "    y = x / 3\n",
    "    z = g(y)\n",
    "    return z + y + x\n",
    "\n",
    "def g(x):\n",
    "    result = 4*x + 2\n",
    "    return result\n",
    "```\n",
    "\n",
    "Wat is het resultaat van `demo(15)`?"
   ]
  },
  {
   "cell_type": "markdown",
   "metadata": {
    "slideshow": {
     "slide_type": "notes"
    }
   },
   "source": [
    "Probeer regel voor regel het programma zelf te volgen om tot het antwoord te komen!\n",
    "\n",
    "Bedenk dat `demo` pas een antwoord (een returnwaarde) kan geven nadat het een antwoord van `g` heeft ontvangen. Hier onstaat dus een kleine *wachtrij*, waar de ene functie op de ander moet wachten voordat het weer verder kan. Hoe deze wachtrij in een computer werkt ga je zo zien wanneer we het gaan hebben over de *stack*."
   ]
  },
  {
   "cell_type": "markdown",
   "metadata": {
    "slideshow": {
     "slide_type": "fragment"
    }
   },
   "source": [
    "### Antwoord\n",
    "\n",
    "42.0"
   ]
  },
  {
   "cell_type": "markdown",
   "metadata": {
    "slideshow": {
     "slide_type": "slide"
    }
   },
   "source": [
    "## Hoe functies werken\n",
    "\n",
    "Hoe functies worden uitgevoerd: ze stapelen!"
   ]
  },
  {
   "cell_type": "markdown",
   "metadata": {
    "slideshow": {
     "slide_type": "subslide"
    }
   },
   "source": [
    "![stack plates](images/4/stack_plates.png)"
   ]
  },
  {
   "cell_type": "markdown",
   "metadata": {
    "slideshow": {
     "slide_type": "notes"
    }
   },
   "source": [
    "Python gebruikt speciaal deel van het geheugen dat de *stack* wordt genoemd waar het voor elke functie de *variabelen* een bijbehorende *waarden* in een *frame* zet (een *stack frame*). Op deze manier stapelen de frames zich op in de stack, traditioneel van onderen naar boven (onhandig als het om een stapel borden zou gaan!)."
   ]
  },
  {
   "cell_type": "markdown",
   "metadata": {
    "slideshow": {
     "slide_type": "subslide"
    }
   },
   "source": [
    "![frame test](images/4/q1/prob_1_step_1a.png)"
   ]
  },
  {
   "cell_type": "markdown",
   "metadata": {
    "slideshow": {
     "slide_type": "notes"
    }
   },
   "source": [
    "Je herkent hier de vraag van de quiz die we stap voor stap gaan doorlopen. Rechts van de code zie je de stack waar de frames worden geplaatst."
   ]
  },
  {
   "cell_type": "markdown",
   "metadata": {
    "slideshow": {
     "slide_type": "subslide"
    }
   },
   "source": [
    "![frame test](images/4/q1/prob_1_step_3.png)"
   ]
  },
  {
   "cell_type": "markdown",
   "metadata": {
    "slideshow": {
     "slide_type": "notes"
    }
   },
   "source": [
    "Het programma is nu ingelezen door Python en het eerste (algemene) frame is gezet, dit zijn de namen van de functies (dit zijn uiteindelijk ook variabelen) en een verwijzing naar waar de functies in het geheugen zijn opgeslagen. Dit is overigens een meer algemeen type geheugen dat de *heap* wordt genoemd."
   ]
  },
  {
   "cell_type": "markdown",
   "metadata": {
    "slideshow": {
     "slide_type": "subslide"
    }
   },
   "source": [
    "![frame test](images/4/q1/prob_1_step_6.png)"
   ]
  },
  {
   "cell_type": "markdown",
   "metadata": {
    "slideshow": {
     "slide_type": "notes"
    }
   },
   "source": [
    "De frame voor de aanroep van `demo` is nu toegevoegd met de variabelen `x` (de waarde die als parameter is meegegeven) en `y`. Maar wat nu te doen met de variabele `z`? De waarde van `z` is pas bekend als de functie `g(y)` een resultaat teruggeeft ... Python plaatst nu een nieuw frame op de stack van precies deze aanroep."
   ]
  },
  {
   "cell_type": "markdown",
   "metadata": {
    "slideshow": {
     "slide_type": "subslide"
    }
   },
   "source": [
    "![frame test](images/4/q1/prob_1_step_9.png)"
   ]
  },
  {
   "cell_type": "markdown",
   "metadata": {
    "slideshow": {
     "slide_type": "notes"
    }
   },
   "source": [
    "In dit derde frame worden ook de variabelen gezet die horen bij de aanroep van `g(5.0)` en het resultaat zal worden teruggegeven."
   ]
  },
  {
   "cell_type": "markdown",
   "metadata": {
    "slideshow": {
     "slide_type": "subslide"
    }
   },
   "source": [
    "![frame test](images/4/q1/prob_1_step_10a.png)\n"
   ]
  },
  {
   "cell_type": "markdown",
   "metadata": {
    "slideshow": {
     "slide_type": "notes"
    }
   },
   "source": [
    "`z` is nog niet zichtbaar in het tweede frame (voor de duidelijkheid is dit weggelaten) maar het is er zeker wel als een verwijzing aanwezig naar het de returnwaarde van het volgende frame!"
   ]
  },
  {
   "cell_type": "markdown",
   "metadata": {
    "slideshow": {
     "slide_type": "subslide"
    }
   },
   "source": [
    "![frame test](images/4/q1/prob_1_step_11.png)"
   ]
  },
  {
   "cell_type": "markdown",
   "metadata": {
    "slideshow": {
     "slide_type": "notes"
    }
   },
   "source": [
    "Het resultaat van het derde frame wordt gezet als waarde van `z` van het tweede frame en het derde frame wordt vervolgens van de stack verwijderd."
   ]
  },
  {
   "cell_type": "markdown",
   "metadata": {
    "slideshow": {
     "slide_type": "subslide"
    }
   },
   "source": [
    "![frame test](images/4/q1/prob_1_step_12.png)"
   ]
  },
  {
   "cell_type": "markdown",
   "metadata": {
    "slideshow": {
     "slide_type": "notes"
    }
   },
   "source": [
    "Tot slot geeft het tweede frame de returnwaarde terug aan het eerste frame en zal het vervolgens ook van de stack worden verwijderd. Het programma is nu beeindigd en wordt ook het eerste frame van de stack verwijderd zodat we weer terug zijn bij de beginsituatie.\n",
    "\n",
    "Let op, je ziet dat variabele `x` type `int` en `y` en `z` type `float` (decimale getallen) zijn. Python zal altijd kiezen voor het type met de hoogste precisie als type voor het resultaat als het gaat om numerieke waarden (in dit geval de optelling van verschillende typen)."
   ]
  },
  {
   "cell_type": "markdown",
   "metadata": {
    "slideshow": {
     "slide_type": "slide"
    }
   },
   "source": [
    "## Functies aanroepen\n",
    "\n",
    "Functies kunnen andere functies aanroepen, maar ... ook zichzelf?"
   ]
  },
  {
   "cell_type": "markdown",
   "metadata": {
    "slideshow": {
     "slide_type": "notes"
    }
   },
   "source": [
    "Je hebt gezien dat functies andere functies kunnen aanroepen. Dit is een strategie om een groter probleem op te breken in kleinere problemen waar elke functie verantwoordelijk is voor een deel van het probleem. Maar als een functie andere functies kan aanroepen, zou een functie ook zichzelf kunnen aanroepen? Het antwoord is ja!"
   ]
  },
  {
   "cell_type": "markdown",
   "metadata": {
    "slideshow": {
     "slide_type": "subslide"
    }
   },
   "source": [
    "## Quiz"
   ]
  },
  {
   "cell_type": "markdown",
   "metadata": {
    "slideshow": {
     "slide_type": "subslide"
    }
   },
   "source": [
    "### Vraag\n",
    "\n",
    "Een functie die zichzelf aanroept\n",
    "\n",
    "```python\n",
    "def f(x):\n",
    "    if x == 0:\n",
    "        return 12\n",
    "    else:\n",
    "        return f(x-1) + 10*x \n",
    "```\n",
    "\n",
    "Wat is het resultaat van `f(2)`?"
   ]
  },
  {
   "cell_type": "markdown",
   "metadata": {
    "slideshow": {
     "slide_type": "fragment"
    }
   },
   "source": [
    "### Antwoord\n",
    "\n",
    "42"
   ]
  },
  {
   "cell_type": "markdown",
   "metadata": {
    "slideshow": {
     "slide_type": "subslide"
    }
   },
   "source": [
    "## De stack\n",
    "\n",
    "Wat gebeurt er als een functie zichzelf aanroept?"
   ]
  },
  {
   "cell_type": "markdown",
   "metadata": {
    "slideshow": {
     "slide_type": "notes"
    }
   },
   "source": [
    "Hoe wordt de *stack* gevuld met met *frames* voor een functie die zichzelf steeds aanroept? Met andere woorden, hoe stapelt een functie zichzelf?!?"
   ]
  },
  {
   "cell_type": "markdown",
   "metadata": {
    "slideshow": {
     "slide_type": "subslide"
    }
   },
   "source": [
    "![q2_3](images/4/q2/prob_2_step_3a.png)"
   ]
  },
  {
   "cell_type": "markdown",
   "metadata": {
    "slideshow": {
     "slide_type": "notes"
    }
   },
   "source": [
    "De eerste aanroep van `f` met parameter waarde 2 wordt aan de stack toegevoegd. De test faalt `x == 0` (want `x` is 2) en regel 5 wordt uitgevoerd waar `f` zichzelf aanroept met de waarde `x - 1` (1, want `x` was op dat moment 2)."
   ]
  },
  {
   "cell_type": "markdown",
   "metadata": {
    "slideshow": {
     "slide_type": "subslide"
    }
   },
   "source": [
    "![q2_8](images/4/q2/prob_2_step_8a.png)"
   ]
  },
  {
   "cell_type": "markdown",
   "metadata": {
    "slideshow": {
     "slide_type": "notes"
    }
   },
   "source": [
    "Hier gebeurt weer hetzelfde, de test faalt want `x` is gelijk aan 1, niet 0. Vervolgens roept `f` zichzelf weer aan met de waarde 0 (1 - 1)."
   ]
  },
  {
   "cell_type": "markdown",
   "metadata": {
    "slideshow": {
     "slide_type": "subslide"
    }
   },
   "source": [
    "![q2_10](images/4/q2/prob_2_step_10a.png)"
   ]
  },
  {
   "cell_type": "markdown",
   "metadata": {
    "slideshow": {
     "slide_type": "notes"
    }
   },
   "source": [
    "Er staan nu drie frames op de stack! Nu slaagt de test wel want `x` gelijk is aan 0."
   ]
  },
  {
   "cell_type": "markdown",
   "metadata": {
    "slideshow": {
     "slide_type": "subslide"
    }
   },
   "source": [
    "![q2_12](images/4/q2/prob_2_step_12a.png)"
   ]
  },
  {
   "cell_type": "markdown",
   "metadata": {
    "slideshow": {
     "slide_type": "notes"
    }
   },
   "source": [
    "De returnwaarde 12 van dit frame wordt teruggegeven."
   ]
  },
  {
   "cell_type": "markdown",
   "metadata": {
    "slideshow": {
     "slide_type": "subslide"
    }
   },
   "source": [
    "![q2_13](images/4/q2/prob_2_step_13a.png)"
   ]
  },
  {
   "cell_type": "markdown",
   "metadata": {
    "slideshow": {
     "slide_type": "notes"
    }
   },
   "source": [
    "Het resultaat van het derde frame kan nu worden ingevuld en het resultaat kan worden teruggegeven (12 + 10*1)."
   ]
  },
  {
   "cell_type": "markdown",
   "metadata": {
    "slideshow": {
     "slide_type": "subslide"
    }
   },
   "source": [
    "![q2_14](images/4/q2/prob_2_step_14a.png)"
   ]
  },
  {
   "cell_type": "markdown",
   "metadata": {
    "slideshow": {
     "slide_type": "notes"
    }
   },
   "source": [
    "Het resultaat van het tweede frame kan nu ook in het eerste worden ingevuld en het resultaat worden teruggegeven (22 + 10*2). Tot slot wordt dit resultaat teruggegeven, `f(2)` is dus gelijk aan 42!"
   ]
  },
  {
   "cell_type": "markdown",
   "metadata": {
    "slideshow": {
     "slide_type": "subslide"
    }
   },
   "source": [
    "## Tot slot\n",
    "\n",
    "Elke functie is een op zichzelf staande eenheid!"
   ]
  },
  {
   "cell_type": "markdown",
   "metadata": {
    "slideshow": {
     "slide_type": "notes"
    }
   },
   "source": [
    "Een functie is een zelfstandig handelende eenheid: zou informatica biologie zijn, dan zou je functies kunnen vergelijken met cellen. Ze kunnen de interactie met elkaar aangaan (zichzelf aanroepen) maar ook andere functies aanspreken die relevant zijn voor het oplossen van een bepaald probleem."
   ]
  },
  {
   "cell_type": "markdown",
   "metadata": {
    "slideshow": {
     "slide_type": "slide"
    }
   },
   "source": [
    "![Stack Overflow](images/4/Stack_Overflow_logo.png)"
   ]
  },
  {
   "cell_type": "markdown",
   "metadata": {
    "slideshow": {
     "slide_type": "notes"
    }
   },
   "source": [
    "[Stack Overflow](https://stackoverflow.com/) is een populaire site waar je vragen kan stellen en antwoorden kan vinden die alles met programmeren te maken hebben. Aangezien het geheugen van een computer niet eindeloos is én je nu weet van de stack kan je je misschien iets voorstellen bij de fout waar deze site naar is vernoemd?"
   ]
  }
 ],
 "metadata": {
  "kernelspec": {
   "display_name": "Python 3 (ipykernel)",
   "language": "python",
   "name": "python3"
  },
  "language_info": {
   "codemirror_mode": {
    "name": "ipython",
    "version": 3
   },
   "file_extension": ".py",
   "mimetype": "text/x-python",
   "name": "python",
   "nbconvert_exporter": "python",
   "pygments_lexer": "ipython3",
   "version": "3.9.5"
  }
 },
 "nbformat": 4,
 "nbformat_minor": 4
}
