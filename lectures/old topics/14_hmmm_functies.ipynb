{
 "cells": [
  {
   "cell_type": "markdown",
   "metadata": {
    "slideshow": {
     "slide_type": "slide"
    }
   },
   "source": [
    "# Functies in Hmmm\n",
    "\n",
    "Hoe functioneert Python?"
   ]
  },
  {
   "cell_type": "markdown",
   "metadata": {
    "slideshow": {
     "slide_type": "subslide"
    }
   },
   "source": [
    "## Schrijven naar geheugen\n",
    "\n",
    "`storer rX rY`\n",
    "\n",
    "Sla de waarde van register `rX` op in het geheugenadres dat is opgeslagen in register `rY`"
   ]
  },
  {
   "cell_type": "markdown",
   "metadata": {
    "slideshow": {
     "slide_type": "subslide"
    }
   },
   "source": [
    "![storer set pointer](images/14/memory/storer_1.png)"
   ]
  },
  {
   "cell_type": "markdown",
   "metadata": {
    "slideshow": {
     "slide_type": "notes"
    }
   },
   "source": [
    "Bewaar in register `r15` het geheugenadres waar naar toe moet worden geschreven."
   ]
  },
  {
   "cell_type": "markdown",
   "metadata": {
    "slideshow": {
     "slide_type": "subslide"
    }
   },
   "source": [
    "![storer write](images/14/memory/storer_2.png)"
   ]
  },
  {
   "cell_type": "markdown",
   "metadata": {
    "slideshow": {
     "slide_type": "notes"
    }
   },
   "source": [
    "Schrijf de waarde in register `r3` naar het geheugenadres dat is bewaard in register `r15`."
   ]
  },
  {
   "cell_type": "markdown",
   "metadata": {
    "slideshow": {
     "slide_type": "subslide"
    }
   },
   "source": [
    "## Lezen van geheugen\n",
    "\n",
    "`loadr rX rY`\n",
    "\n",
    "Laad register `rX` met de gegevens uit het geheugenadres dat opgeslagen is in register `rY`"
   ]
  },
  {
   "cell_type": "markdown",
   "metadata": {
    "slideshow": {
     "slide_type": "subslide"
    }
   },
   "source": [
    "![loadr set pointer](images/14/memory/loadr_1.png)"
   ]
  },
  {
   "cell_type": "markdown",
   "metadata": {
    "slideshow": {
     "slide_type": "notes"
    }
   },
   "source": [
    "Bewaar in register `r15` het geheugenadres waar van moet worden gelezen."
   ]
  },
  {
   "cell_type": "markdown",
   "metadata": {
    "slideshow": {
     "slide_type": "subslide"
    }
   },
   "source": [
    "![loadr read](images/14/memory/loadr_2.png)"
   ]
  },
  {
   "cell_type": "markdown",
   "metadata": {
    "slideshow": {
     "slide_type": "notes"
    }
   },
   "source": [
    "Bewaar de waarde van het geheugenadres dat is opgeslagen in `r15` naar register `r3`."
   ]
  },
  {
   "cell_type": "markdown",
   "metadata": {
    "slideshow": {
     "slide_type": "slide"
    }
   },
   "source": [
    "## Functies in Python"
   ]
  },
  {
   "cell_type": "code",
   "execution_count": 1,
   "metadata": {
    "slideshow": {
     "slide_type": "fragment"
    }
   },
   "outputs": [],
   "source": [
    "def main():\n",
    "    x = int(input())\n",
    "    y = fun(x)\n",
    "    print(y)\n",
    "\n",
    "def fun(x):\n",
    "    y = x * (x - 1)\n",
    "    return y"
   ]
  },
  {
   "cell_type": "markdown",
   "metadata": {
    "slideshow": {
     "slide_type": "fragment"
    }
   },
   "source": [
    "Na de aanroep van `main()`, wat wordt op scherm geprint als de input 7 is?"
   ]
  },
  {
   "cell_type": "markdown",
   "metadata": {
    "slideshow": {
     "slide_type": "subslide"
    }
   },
   "source": [
    "```python\n",
    "x = input()\n",
    "y = fun(x)\n",
    "print(y)\n",
    "```"
   ]
  },
  {
   "cell_type": "markdown",
   "metadata": {
    "slideshow": {
     "slide_type": "fragment"
    }
   },
   "source": [
    "```asm\n",
    "0 read r1\n",
    "1 calln r14 4\n",
    "2 write r13\n",
    "3 halt\n",
    "```"
   ]
  },
  {
   "cell_type": "markdown",
   "metadata": {
    "slideshow": {
     "slide_type": "fragment"
    }
   },
   "source": [
    "`calln rX N`\n",
    "\n",
    "> Schrijf het eerstvolgende adres naar `rX` en spring vervolgens naar adres `N`"
   ]
  },
  {
   "cell_type": "markdown",
   "metadata": {
    "slideshow": {
     "slide_type": "notes"
    }
   },
   "source": [
    "`r14` heeft nu de waarde 2, het *eerstvolgende* regelnummer na `calln`. Maar wat is de waarde van `r13`? Het resultaat van de functie!"
   ]
  },
  {
   "cell_type": "markdown",
   "metadata": {
    "slideshow": {
     "slide_type": "subslide"
    }
   },
   "source": [
    "```python\n",
    "def fun(x):\n",
    "    y = x * (x - 1)\n",
    "    return y\n",
    "```"
   ]
  },
  {
   "cell_type": "markdown",
   "metadata": {
    "slideshow": {
     "slide_type": "fragment"
    }
   },
   "source": [
    "```asm\n",
    "4 copy r13 r1     # z = x (functie parameter x)\n",
    "5 addn r1 -1      # x = x - 1\n",
    "6 mul r13 r13 r1  # z = z * x\n",
    "7 jumpr r14       # verder naar regel bewaard in r14\n",
    "```"
   ]
  },
  {
   "cell_type": "markdown",
   "metadata": {
    "slideshow": {
     "slide_type": "subslide"
    }
   },
   "source": [
    "### Conventies\n",
    "\n",
    "-   `r1`\n",
    "\n",
    "    `input(s)` worden gezet in `r1`, `r2`, ...\n",
    "-   `r13`\n",
    "\n",
    "    De returnwaarde (resultaat) wordt gezet in `r13`\n",
    "-   `r14`\n",
    "\n",
    "    Het returnadres wordt gezet in `r14`"
   ]
  },
  {
   "cell_type": "markdown",
   "metadata": {
    "slideshow": {
     "slide_type": "subslide"
    }
   },
   "source": [
    "![calln 1a](images/14/calln/ex_1a.png)"
   ]
  },
  {
   "cell_type": "markdown",
   "metadata": {
    "slideshow": {
     "slide_type": "notes"
    }
   },
   "source": [
    "`calln` zet het returnadres (het eerstvolgende adres na `calln`) op 2 in `r14` en vervolgens wordt de instructie op regel 4 uitgevoerd."
   ]
  },
  {
   "cell_type": "markdown",
   "metadata": {
    "slideshow": {
     "slide_type": "subslide"
    }
   },
   "source": [
    "![calln 1b](images/14/calln/ex_1b.png)"
   ]
  },
  {
   "cell_type": "markdown",
   "metadata": {
    "slideshow": {
     "slide_type": "subslide"
    }
   },
   "source": [
    "![calln 1c](images/14/calln/ex_1c.png)"
   ]
  },
  {
   "cell_type": "markdown",
   "metadata": {
    "slideshow": {
     "slide_type": "notes"
    }
   },
   "source": [
    "Om `(x - 1)` uit te voeren wordt 1 afgetrokken van de waarde in `r1`. De oorspronkelijke input wordt hier gewijzigd!"
   ]
  },
  {
   "cell_type": "markdown",
   "metadata": {
    "slideshow": {
     "slide_type": "subslide"
    }
   },
   "source": [
    "![calln 1d](images/14/calln/ex_1d.png)"
   ]
  },
  {
   "cell_type": "markdown",
   "metadata": {
    "slideshow": {
     "slide_type": "subslide"
    }
   },
   "source": [
    "![calln 1e](images/14/calln/ex_1e.png)"
   ]
  },
  {
   "cell_type": "markdown",
   "metadata": {
    "slideshow": {
     "slide_type": "subslide"
    }
   },
   "source": [
    "### Een probleem...\n",
    "\n",
    "De functie heeft de oorspronkelijke toestand (de input, of *staat*) gewijzigd!"
   ]
  },
  {
   "cell_type": "markdown",
   "metadata": {
    "slideshow": {
     "slide_type": "fragment"
    }
   },
   "source": [
    "```python\n",
    "def main():\n",
    "    x = int(input())  # r1\n",
    "    y = fun(x)        # r13\n",
    "    print(y)\n",
    "```"
   ]
  },
  {
   "cell_type": "markdown",
   "metadata": {
    "slideshow": {
     "slide_type": "notes"
    }
   },
   "source": [
    "Dit was de aanroep die we hebben gebruikt. Bedenk dat de input `x` is gewijzigd door de functie, we hebben nu een probleem als we de oorspronkelijke input hadden willen gebruiken, bijvoorbeeld"
   ]
  },
  {
   "cell_type": "markdown",
   "metadata": {
    "slideshow": {
     "slide_type": "fragment"
    }
   },
   "source": [
    "```python\n",
    "def main():\n",
    "    x = int(input())  # r1\n",
    "    y = fun(x)        # r13\n",
    "    print(x + y)\n",
    "```"
   ]
  },
  {
   "cell_type": "markdown",
   "metadata": {
    "slideshow": {
     "slide_type": "notes"
    }
   },
   "source": [
    "Dit zal 48 printen (6 + 42) in plaats van 49 (7 + 42) omdat de oorspronkelijke waarde van `r1` door de functie is gewijzigd. Maar ook als we de functie een tweede keer zouden aanroepen zal het resultaat niet zijn wat we verwachten"
   ]
  },
  {
   "cell_type": "markdown",
   "metadata": {
    "slideshow": {
     "slide_type": "subslide"
    }
   },
   "source": [
    "![calln 1f](images/14/calln/ex_1f.png)"
   ]
  },
  {
   "cell_type": "markdown",
   "metadata": {
    "slideshow": {
     "slide_type": "subslide"
    }
   },
   "source": [
    "### Een oplossing?"
   ]
  },
  {
   "cell_type": "markdown",
   "metadata": {
    "slideshow": {
     "slide_type": "fragment"
    }
   },
   "source": [
    "Meer registers gebruiken ... ?"
   ]
  },
  {
   "cell_type": "markdown",
   "metadata": {
    "slideshow": {
     "slide_type": "fragment"
    }
   },
   "source": [
    "We hebben maar 16 registers!"
   ]
  },
  {
   "cell_type": "markdown",
   "metadata": {
    "slideshow": {
     "slide_type": "fragment"
    }
   },
   "source": [
    "Programma's hebben véél functies ..."
   ]
  },
  {
   "cell_type": "markdown",
   "metadata": {
    "slideshow": {
     "slide_type": "slide"
    }
   },
   "source": [
    "## Waarom functies?\n",
    "\n",
    "Een functie is een niet meer dan een blok van handelingen."
   ]
  },
  {
   "cell_type": "markdown",
   "metadata": {
    "slideshow": {
     "slide_type": "subslide"
    }
   },
   "source": [
    "### Quiz"
   ]
  },
  {
   "cell_type": "markdown",
   "metadata": {
    "slideshow": {
     "slide_type": "fragment"
    }
   },
   "source": [
    "Bereken `n * (n - 1)` zonder functie\n",
    "\n",
    "```asm\n",
    "0 read r1\n",
    "1 jumpn 4\n",
    "2 write r13\n",
    "3 halt\n",
    "4 ...\n",
    "5 ...\n",
    "6 ...\n",
    "7 ...\n",
    "```"
   ]
  },
  {
   "cell_type": "markdown",
   "metadata": {
    "slideshow": {
     "slide_type": "subslide"
    }
   },
   "source": [
    "### Oplossing\n",
    "\n",
    "```asm\n",
    "0 read r1\n",
    "1 jumpn 4\n",
    "2 write r13\n",
    "3 halt\n",
    "4 copy r13 r1\n",
    "5 addn r13 -1\n",
    "6 mul r13 r1 r13\n",
    "7 jumpn 2\n",
    "```\n",
    "\n",
    "Dit programma doet hetzelfde als de functie (`calln`), maar het returnadres is hier \"hard\" op `jumpn 2` gezet."
   ]
  },
  {
   "cell_type": "markdown",
   "metadata": {
    "slideshow": {
     "slide_type": "slide"
    }
   },
   "source": [
    "## Over functies\n",
    "\n",
    "Functies roepen functies aan"
   ]
  },
  {
   "cell_type": "code",
   "execution_count": 2,
   "metadata": {
    "slideshow": {
     "slide_type": "subslide"
    }
   },
   "outputs": [],
   "source": [
    "def fac(n):\n",
    "    print(\"factorial called with\", n)\n",
    "    \n",
    "    if n == 0:  # base case\n",
    "        return 1\n",
    "    else:  # recursive case\n",
    "        smaller = fac(n - 1)\n",
    "        result = n * smaller\n",
    "        return result"
   ]
  },
  {
   "cell_type": "markdown",
   "metadata": {
    "slideshow": {
     "slide_type": "notes"
    }
   },
   "source": [
    "Faculteit, $5!$ is gelijk aan $5 \\cdot 4 \\cdot 3 \\cdot 2 \\cdot 1$"
   ]
  },
  {
   "cell_type": "code",
   "execution_count": 3,
   "metadata": {
    "slideshow": {
     "slide_type": "fragment"
    }
   },
   "outputs": [
    {
     "name": "stdout",
     "output_type": "stream",
     "text": [
      "factorial called with 5\n",
      "factorial called with 4\n",
      "factorial called with 3\n",
      "factorial called with 2\n",
      "factorial called with 1\n",
      "factorial called with 0\n"
     ]
    },
    {
     "data": {
      "text/plain": [
       "120"
      ]
     },
     "execution_count": 3,
     "metadata": {},
     "output_type": "execute_result"
    }
   ],
   "source": [
    "fac(5)"
   ]
  },
  {
   "cell_type": "markdown",
   "metadata": {
    "slideshow": {
     "slide_type": "subslide"
    }
   },
   "source": [
    "### De ideale situatie\n",
    "\n",
    "Er is maar één set aan registers, maar we willen véél functies kunnen aanroepen"
   ]
  },
  {
   "cell_type": "markdown",
   "metadata": {
    "slideshow": {
     "slide_type": "fragment"
    }
   },
   "source": [
    "We willen dat elke functie heeft een *eigen* set van registers heeft!"
   ]
  },
  {
   "cell_type": "markdown",
   "metadata": {
    "slideshow": {
     "slide_type": "fragment"
    }
   },
   "source": [
    "![RAM](images/14/1136px-Samsung-1GB-DDR2-Laptop-RAM.jpg)"
   ]
  },
  {
   "cell_type": "markdown",
   "metadata": {
    "slideshow": {
     "slide_type": "notes"
    }
   },
   "source": [
    "Als de CPU maar beperkt geheugen (registers) heeft dan gebruiken we RAM als meer ruimte nodig is."
   ]
  },
  {
   "cell_type": "markdown",
   "metadata": {
    "slideshow": {
     "slide_type": "slide"
    }
   },
   "source": [
    "## De stack\n",
    "\n",
    "![Stack](images/14/stack_plates.png)"
   ]
  },
  {
   "cell_type": "markdown",
   "metadata": {
    "slideshow": {
     "slide_type": "notes"
    }
   },
   "source": [
    "Maak gebruik van het geheugen (de stack) zodat het lijkt dat elke functie eigen registers heeft!"
   ]
  },
  {
   "cell_type": "markdown",
   "metadata": {
    "slideshow": {
     "slide_type": "subslide"
    }
   },
   "source": [
    "### Doel\n",
    "\n",
    "- Bewaar belangrijke data in de stack (`r1`, `r14`, etc.)\n",
    "- `calln` en laat de functie alles overschrijven\n",
    "- Herstel belangrijke data uit de stack\n",
    "- `jumpr` terug naar return"
   ]
  },
  {
   "cell_type": "markdown",
   "metadata": {
    "slideshow": {
     "slide_type": "subslide"
    }
   },
   "source": [
    "### Push en pop"
   ]
  },
  {
   "cell_type": "markdown",
   "metadata": {
    "slideshow": {
     "slide_type": "fragment"
    }
   },
   "source": [
    "-   `pushr rX rY`\n",
    "\n",
    "    Zet de inhoud van register `rX` op de stack waarnaar verwezen wordt door register `rY`\n"
   ]
  },
  {
   "cell_type": "markdown",
   "metadata": {
    "slideshow": {
     "slide_type": "fragment"
    }
   },
   "source": [
    "-   `popr rX rY`\n",
    "\n",
    "    Laad de inhoud van register `rX` van de stack waarnaar verwezen wordt door register `rY`"
   ]
  },
  {
   "cell_type": "markdown",
   "metadata": {
    "slideshow": {
     "slide_type": "fragment"
    }
   },
   "source": [
    "-   `r15`\n",
    "\n",
    "    De \"stack pointer\" wordt gezet in `r15`"
   ]
  },
  {
   "cell_type": "markdown",
   "metadata": {
    "slideshow": {
     "slide_type": "subslide"
    }
   },
   "source": [
    "### Voorbeeld\n",
    "\n",
    "```python\n",
    "def main():\n",
    "    x = int(input())\n",
    "    mult(x)\n",
    "    \n",
    "def mult(x):\n",
    "    print(x * x)\n",
    "```"
   ]
  },
  {
   "cell_type": "markdown",
   "metadata": {
    "slideshow": {
     "slide_type": "subslide"
    }
   },
   "source": [
    "![stack 1a](images/14/stack/ex_1a.png)"
   ]
  },
  {
   "cell_type": "markdown",
   "metadata": {
    "slideshow": {
     "slide_type": "subslide"
    }
   },
   "source": [
    "![stack 1b](images/14/stack/ex_1b.png)"
   ]
  },
  {
   "cell_type": "markdown",
   "metadata": {
    "slideshow": {
     "slide_type": "subslide"
    }
   },
   "source": [
    "![stack 1c](images/14/stack/ex_1c.png)"
   ]
  },
  {
   "cell_type": "markdown",
   "metadata": {
    "slideshow": {
     "slide_type": "notes"
    }
   },
   "source": [
    "Na de `pushr` operatie is de stack pointer verhoogd om naar het volgende adres in de stack te wijzen."
   ]
  },
  {
   "cell_type": "markdown",
   "metadata": {
    "slideshow": {
     "slide_type": "subslide"
    }
   },
   "source": [
    "![stack 1d](images/14/stack/ex_1d.png)"
   ]
  },
  {
   "cell_type": "markdown",
   "metadata": {
    "slideshow": {
     "slide_type": "notes"
    }
   },
   "source": [
    "De oorspronkelijke input is hersteld en de stack pointer is weer verlaagd."
   ]
  },
  {
   "cell_type": "markdown",
   "metadata": {
    "slideshow": {
     "slide_type": "subslide"
    }
   },
   "source": [
    "### De boodschap\n",
    "\n",
    "Met `calln`, `jumpr`, `pushr` en `popr` kunnen we elke functie (in Python of een andere taal) in assembly implementeren."
   ]
  },
  {
   "cell_type": "markdown",
   "metadata": {
    "slideshow": {
     "slide_type": "slide"
    }
   },
   "source": [
    "## Voorbeeld functie `fac`\n",
    "\n",
    "Recursieve functies"
   ]
  },
  {
   "cell_type": "code",
   "execution_count": 4,
   "metadata": {
    "slideshow": {
     "slide_type": "fragment"
    }
   },
   "outputs": [],
   "source": [
    "def main():\n",
    "    x = int(input())\n",
    "    y = fac(x)\n",
    "    print(y)\n",
    "\n",
    "def fac(n):\n",
    "    if n == 0:  # base case\n",
    "        return 1\n",
    "    else:  # recursive case\n",
    "        smaller = fac(n - 1)\n",
    "        result = n * smaller\n",
    "\n",
    "        return result"
   ]
  },
  {
   "cell_type": "markdown",
   "metadata": {
    "slideshow": {
     "slide_type": "notes"
    }
   },
   "source": [
    "High level talen als Python genereren vaak veel assembly instructies!"
   ]
  },
  {
   "cell_type": "markdown",
   "metadata": {
    "slideshow": {
     "slide_type": "subslide"
    }
   },
   "source": [
    "### Main\n",
    "\n",
    "```python\n",
    "x = int(input())\n",
    "y = fac(x)\n",
    "print(y)\n",
    "```"
   ]
  },
  {
   "cell_type": "markdown",
   "metadata": {
    "slideshow": {
     "slide_type": "fragment"
    }
   },
   "source": [
    "```asm\n",
    "# main\n",
    "00 read  r1             # Lees gebruikersinvoer in in r1\n",
    "01 setn  r15 42         # Initialiseer de stack pointer\n",
    "02 nop                  # Ruimte voor uitbreiding\n",
    "03 calln r14 7          # Roep de faculteitsfunctie aan (op regel 7)\n",
    "04 nop                  # Ruimte voor uitbreiding\n",
    "05 write r13            # Druk uitvoer af op het scherm\n",
    "06 halt                 # Klaar!\n",
    "```"
   ]
  },
  {
   "cell_type": "markdown",
   "metadata": {
    "slideshow": {
     "slide_type": "subslide"
    }
   },
   "source": [
    "### Base case\n",
    "\n",
    "```python\n",
    "if n == 0:  # base case\n",
    "    return 1\n",
    "```"
   ]
  },
  {
   "cell_type": "markdown",
   "metadata": {
    "slideshow": {
     "slide_type": "fragment"
    }
   },
   "source": [
    "```asm\n",
    "07 jnezn r1  11         # de test voor het basisgeval: is de invoer r1 != 0 ?\n",
    "08 setn  r13 1          # Als r1 0 is, dan is het resultaat, r13, 1\n",
    "09 nop                  # Ruimte voor uitbreiding (of om iets af te drukken!)\n",
    "10 jumpr r14            # Geef resultaat r13 terug aan het regelnummer in r14\n",
    "```"
   ]
  },
  {
   "cell_type": "markdown",
   "metadata": {
    "slideshow": {
     "slide_type": "subslide"
    }
   },
   "source": [
    "### Recusive case\n",
    "\n",
    "```python\n",
    "else:  # recursive case\n",
    "    smaller = fac(n - 1)\n",
    "    result = n * smaller\n",
    "\n",
    "    return result\n",
    "```"
   ]
  },
  {
   "cell_type": "markdown",
   "metadata": {
    "slideshow": {
     "slide_type": "fragment"
    }
   },
   "source": [
    "```asm\n",
    "11 pushr r1  r15        # Bewaar (push) r1 op de stack (op positie r15)\n",
    "12 pushr r14 r15        # Bewaar (push) r14 op de stack \n",
    "13 addn  r1 -1          # Bepaal N-1 en zet het in r1\n",
    "14 nop                  # Ruimte voor uitbreiding (of om iets af te drukken!)\n",
    "15 calln r14 7          # Vraag nu de faculteit van N-1  (Wow!)\n",
    "16 nop                  # Ruimte voor uitbreiding (of om iets af te drukken!)\n",
    "17 popr  r14 r15        # Verkrijg (pop) r14 van de stack\n",
    "18 popr  r1  r15        # Verkrijg (pop) r1 van de stack\n",
    "19 mul   r13 r1 r13     # Bereken r13 = N * fac(N-1)   (Wow!)\n",
    "20 jumpr r14            # Klaar! Geef r13 terug naar de aanroeper in r14\n",
    "```"
   ]
  },
  {
   "cell_type": "markdown",
   "metadata": {
    "slideshow": {
     "slide_type": "subslide"
    }
   },
   "source": [
    "### Blokken herhalen"
   ]
  },
  {
   "cell_type": "code",
   "execution_count": 5,
   "metadata": {
    "slideshow": {
     "slide_type": "fragment"
    }
   },
   "outputs": [],
   "source": [
    "def fac(x):\n",
    "    print(\"x is\", x)\n",
    "\n",
    "    if x == 0:\n",
    "        print(\"x:\", x, \" bc: 1\")\n",
    "        return 1\n",
    "\n",
    "    else:\n",
    "        print(\"Next: fac(\", x - 1, \")\")\n",
    "        smaller = fac(x - 1)\n",
    "        result = x * smaller\n",
    "        print(\"x:\", x, \" r:\", result)\n",
    "        return result"
   ]
  },
  {
   "cell_type": "code",
   "execution_count": 6,
   "metadata": {
    "slideshow": {
     "slide_type": "fragment"
    }
   },
   "outputs": [
    {
     "name": "stdout",
     "output_type": "stream",
     "text": [
      "x is 3\n",
      "Next: fac( 2 )\n",
      "x is 2\n",
      "Next: fac( 1 )\n",
      "x is 1\n",
      "Next: fac( 0 )\n",
      "x is 0\n",
      "x: 0  bc: 1\n",
      "x: 1  r: 1\n",
      "x: 2  r: 2\n",
      "x: 3  r: 6\n"
     ]
    },
    {
     "data": {
      "text/plain": [
       "6"
      ]
     },
     "execution_count": 6,
     "metadata": {},
     "output_type": "execute_result"
    }
   ],
   "source": [
    "fac(3)"
   ]
  },
  {
   "cell_type": "markdown",
   "metadata": {
    "slideshow": {
     "slide_type": "notes"
    }
   },
   "source": [
    "Een functie is een niet meer dan een blok van berekeningen dat kan worden herhaald!"
   ]
  },
  {
   "cell_type": "markdown",
   "metadata": {
    "slideshow": {
     "slide_type": "subslide"
    }
   },
   "source": [
    "```asm\n",
    "# Main\n",
    "00 read  r1             # Lees gebruikersinvoer in in r1\n",
    "01 setn  r15 42         # Initialiseer de stack pointer\n",
    "02 nop                  # Ruimte voor uitbreiding\n",
    "03 calln r14 7          # Roep de faculteitsfunctie aan (op regel 7)\n",
    "04 nop                  # Ruimte voor uitbreiding\n",
    "05 write r13            # Druk uitvoer af op het scherm\n",
    "06 halt                 # Klaar!\n",
    "\n",
    "# +++ Faculteitsfunctie +++\n",
    "# Basisgeval (regels 7-10)\n",
    "07 jnezn r1  11         # de test voor het basisgeval: is de invoer r1 != 0 ?\n",
    "08 setn  r13 1          # Als r1 0 is, dan is het resultaat, r13, 1\n",
    "09 nop                  # Ruimte voor uitbreiding (of om iets af te drukken!)\n",
    "10 jumpr r14            # Geef het resultaat, r13, terug aan het regelnummer in r14\n",
    "\n",
    "# Recursief geval (regels 11-20)\n",
    "11 pushr r1  r15        # Bewaar (push) r1 op de stack (op positie r15)\n",
    "12 pushr r14 r15        # Bewaar (push) r14 op de stack \n",
    "13 addn  r1 -1          # Bepaal N-1 en zet het in r1\n",
    "14 nop                  # Ruimte voor uitbreiding (of om iets af te drukken!)\n",
    "15 calln r14 7          # Vraag nu de faculteit van N-1  (Wow!)\n",
    "16 nop                  # Ruimte voor uitbreiding (of om iets af te drukken!)\n",
    "17 popr  r14 r15        # Verkrijg (pop) r14 van de stack\n",
    "18 popr  r1  r15        # Verkrijg (pop) r1 van de stack\n",
    "19 mul   r13 r1 r13     # Bereken r13 = N * fac(N-1)   (Wow!)\n",
    "20 jumpr r14            # Klaar! Geef r13 terug naar de aanroeper in r14\n",
    "```"
   ]
  },
  {
   "cell_type": "markdown",
   "metadata": {
    "slideshow": {
     "slide_type": "slide"
    }
   },
   "source": [
    "## En verder\n",
    "\n",
    "De macht van recursie!\n",
    "\n",
    "```python\n",
    "def power(b, n):\n",
    "    \"\"\"Return base b to the power of n\n",
    "    \"\"\"\n",
    "    if n == 0:\n",
    "        return 1\n",
    "    else:\n",
    "        return b * power(b, n - 1)\n",
    "```\n",
    "\n",
    "Merk op dat de input van `fac` erg veel lijkt op de macht (`n`) in `power`!"
   ]
  },
  {
   "cell_type": "markdown",
   "metadata": {
    "slideshow": {
     "slide_type": "skip"
    }
   },
   "source": [
    "<!--\n",
    "In begin verwijzing opnemen von Neumann versus Grace Hopper (instructies versus functies) en COBOL (en bug!)\n",
    "\n",
    "GOTO considered harmful Dijkstra ook?\n",
    "-->"
   ]
  }
 ],
 "metadata": {
  "kernelspec": {
   "display_name": "Python 3 (ipykernel)",
   "language": "python",
   "name": "python3"
  },
  "language_info": {
   "codemirror_mode": {
    "name": "ipython",
    "version": 3
   },
   "file_extension": ".py",
   "mimetype": "text/x-python",
   "name": "python",
   "nbconvert_exporter": "python",
   "pygments_lexer": "ipython3",
   "version": "3.10.0"
  }
 },
 "nbformat": 4,
 "nbformat_minor": 4
}
