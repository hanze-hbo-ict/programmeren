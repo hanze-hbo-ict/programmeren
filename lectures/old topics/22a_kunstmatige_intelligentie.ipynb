{
 "cells": [
  {
   "cell_type": "markdown",
   "metadata": {
    "slideshow": {
     "slide_type": "slide"
    }
   },
   "source": [
    "# Kunstmatige intelligentie\n",
    "\n",
    "Naive Bayes classificatie en genetische algoritmen"
   ]
  },
  {
   "cell_type": "markdown",
   "metadata": {
    "slideshow": {
     "slide_type": "subslide"
    }
   },
   "source": [
    "## Tekstclassificatie"
   ]
  },
  {
   "cell_type": "markdown",
   "metadata": {
    "slideshow": {
     "slide_type": "subslide"
    }
   },
   "source": [
    "![Spam](images/22/spam.jpg)"
   ]
  },
  {
   "cell_type": "markdown",
   "metadata": {
    "slideshow": {
     "slide_type": "notes"
    }
   },
   "source": [
    "Spam of geen spam? Welk label kan je op een bericht plakken, spam of inbox?"
   ]
  },
  {
   "cell_type": "markdown",
   "metadata": {
    "slideshow": {
     "slide_type": "skip"
    }
   },
   "source": [
    "### Welke auteur?"
   ]
  },
  {
   "cell_type": "markdown",
   "metadata": {
    "slideshow": {
     "slide_type": "subslide"
    }
   },
   "source": [
    "![The Cuckoo's Calling ](images/22/Cuckoo.png)"
   ]
  },
  {
   "cell_type": "markdown",
   "metadata": {
    "slideshow": {
     "slide_type": "subslide"
    }
   },
   "source": [
    "![Gailbraith / Rowling](images/22/galbraith_rowling.png)"
   ]
  },
  {
   "cell_type": "markdown",
   "metadata": {
    "slideshow": {
     "slide_type": "notes"
    }
   },
   "source": [
    "Welke mogelijke auteur is de schrijver van een onbekende tekst? [The Cuckoo's Calling](https://en.wikipedia.org/wiki/The_Cuckoo%27s_Calling) van Robert Galbraith bleek geschreven door [J.K. Rowling](https://www.scientificamerican.com/article/how-a-computer-program-helped-show-jk-rowling-write-a-cuckoos-calling/)!"
   ]
  },
  {
   "cell_type": "markdown",
   "metadata": {
    "slideshow": {
     "slide_type": "skip"
    }
   },
   "source": [
    "## Kansen!"
   ]
  },
  {
   "cell_type": "markdown",
   "metadata": {
    "slideshow": {
     "slide_type": "subslide"
    }
   },
   "source": [
    "![Dobbelstenen](images/22/dice-6.png)"
   ]
  },
  {
   "cell_type": "markdown",
   "metadata": {
    "slideshow": {
     "slide_type": "notes"
    }
   },
   "source": [
    "Dit wordt een verhaal over kansen! De centrale vraag is, gegeven teksten die eerder zijn gezien (en waar de auteur, of het *label* van bekend is), wat kunnen we zeggen over de waarschijnlijkheid dat een auteur de schrijver is van een tekst die niet eerder is gezien?"
   ]
  },
  {
   "cell_type": "markdown",
   "metadata": {
    "slideshow": {
     "slide_type": "subslide"
    }
   },
   "source": [
    "![Bayes spam filter](images/22/bayesian_spam_filter.png)"
   ]
  },
  {
   "cell_type": "markdown",
   "metadata": {
    "slideshow": {
     "slide_type": "subslide"
    }
   },
   "source": [
    "### Modellen\n",
    "\n",
    "Een model is een vereenvoudigde weergave van een werkelijkheid"
   ]
  },
  {
   "cell_type": "markdown",
   "metadata": {
    "slideshow": {
     "slide_type": "fragment"
    }
   },
   "source": [
    "```python\n",
    "{\n",
    "    \"love\": 50\n",
    "    \"spell\": 8\n",
    "    \"thou\": 42\n",
    "}\n",
    "```"
   ]
  },
  {
   "cell_type": "markdown",
   "metadata": {
    "slideshow": {
     "slide_type": "fragment"
    }
   },
   "source": [
    "Woordfrequentie is een maat voor de \"stijl\" van een auteur"
   ]
  },
  {
   "cell_type": "markdown",
   "metadata": {
    "slideshow": {
     "slide_type": "notes"
    }
   },
   "source": [
    "Het is niet het enige dat stijl kenmerkt, zo zijn meer kenmerken te bedenken (bijvoorbeeld het gebruik van punctuatie). Het is een vereenvoudigd maar informatief genoeg model van wat een auteur van andere auteurs onderscheidt. Wat het ene model van het andere onderscheid worden vaak \"features\" genoemd, in dit geval de tellingen van woordgebruik."
   ]
  },
  {
   "cell_type": "markdown",
   "metadata": {
    "slideshow": {
     "slide_type": "slide"
    }
   },
   "source": [
    "### Modellen vergelijken?"
   ]
  },
  {
   "cell_type": "markdown",
   "metadata": {
    "slideshow": {
     "slide_type": "fragment"
    }
   },
   "source": [
    "Tekst van Robert Galbraith\n",
    "\n",
    "```python\n",
    "{   # Robert Galbraith, geen \"potter\" ...\n",
    "    \"love\": 50\n",
    "    \"spell\": 8\n",
    "    \"thou\": 42\n",
    "}\n",
    "```"
   ]
  },
  {
   "cell_type": "markdown",
   "metadata": {
    "slideshow": {
     "slide_type": "fragment"
    }
   },
   "source": [
    "Tekst van J.K. Rowling\n",
    "\n",
    "```python\n",
    "{   # J.K. Rowling, geen \"thou\" ...\n",
    "    \"love\": 25\n",
    "    \"spell\": 275\n",
    "    \"potter\": 700\n",
    "}\n",
    "```"
   ]
  },
  {
   "cell_type": "markdown",
   "metadata": {
    "slideshow": {
     "slide_type": "fragment"
    }
   },
   "source": [
    "Nieuwe tekst, auteur onbekend\n",
    "\n",
    "```python\n",
    "{   # Onbekend auteur...\n",
    "    \"love\": 3\n",
    "    \"potter\": 2\n",
    "    \"thou\": 1\n",
    "    \"spam\": 4\n",
    "}\n",
    "```"
   ]
  },
  {
   "cell_type": "markdown",
   "metadata": {
    "slideshow": {
     "slide_type": "notes"
    }
   },
   "source": [
    "Hoe zou je de \"gelijkheid\" van de nieuwe tekst met de twee bekende modellen kunnen scoren?"
   ]
  },
  {
   "cell_type": "markdown",
   "metadata": {
    "slideshow": {
     "slide_type": "skip"
    }
   },
   "source": [
    "### Naive Bayes classification"
   ]
  },
  {
   "cell_type": "markdown",
   "metadata": {
    "slideshow": {
     "slide_type": "subslide"
    }
   },
   "source": [
    "![Theorema van Bayes](images/22/bayes_theorem.png)"
   ]
  },
  {
   "cell_type": "markdown",
   "metadata": {
    "slideshow": {
     "slide_type": "notes"
    }
   },
   "source": [
    "Let niet teveel op de vergelijking, we gaan deze vereenvoudigd gebruiken!"
   ]
  },
  {
   "cell_type": "markdown",
   "metadata": {
    "slideshow": {
     "slide_type": "subslide"
    }
   },
   "source": [
    "#### Naïviteit\n",
    "\n",
    "Aanname: elk woord in een zin is *onafhankelijk* van de ander"
   ]
  },
  {
   "cell_type": "markdown",
   "metadata": {
    "slideshow": {
     "slide_type": "fragment"
    }
   },
   "source": [
    "> this party was fun\n",
    "\n",
    "of\n",
    "\n",
    "> party fun was this\n",
    "\n",
    "maakt niet uit!"
   ]
  },
  {
   "cell_type": "markdown",
   "metadata": {
    "slideshow": {
     "slide_type": "notes"
    }
   },
   "source": [
    "Dat de volgorde van woorden niet uitmaakt is een naïeve aanname, maar wel handig voor ons probleem."
   ]
  },
  {
   "cell_type": "markdown",
   "metadata": {
    "slideshow": {
     "slide_type": "subslide"
    }
   },
   "source": [
    "### Stappen"
   ]
  },
  {
   "cell_type": "markdown",
   "metadata": {
    "slideshow": {
     "slide_type": "subslide"
    }
   },
   "source": [
    "Normaliseer de modellen van de bekende auteurs"
   ]
  },
  {
   "cell_type": "markdown",
   "metadata": {
    "slideshow": {
     "slide_type": "fragment"
    }
   },
   "source": [
    "```python\n",
    "{   # Robert Galbraith\n",
    "    \"love\": 0.5    # 50\n",
    "    \"spell\": 0.08  # 8\n",
    "    \"thou\": 0.42   # 42\n",
    "}\n",
    "```"
   ]
  },
  {
   "cell_type": "markdown",
   "metadata": {
    "slideshow": {
     "slide_type": "fragment"
    }
   },
   "source": [
    "```python\n",
    "{   # J.K. Rowling\n",
    "    \"love\": 0.025   # 25\n",
    "    \"spell\": 0.275  # 275  \n",
    "    \"potter\": 0.7   # 700\n",
    "}\n",
    "```"
   ]
  },
  {
   "cell_type": "markdown",
   "metadata": {
    "slideshow": {
     "slide_type": "skip"
    }
   },
   "source": [
    "### Model *scores*"
   ]
  },
  {
   "cell_type": "markdown",
   "metadata": {
    "slideshow": {
     "slide_type": "subslide"
    }
   },
   "source": [
    "Bereken een score per model voor de onbekende tekst"
   ]
  },
  {
   "cell_type": "markdown",
   "metadata": {
    "slideshow": {
     "slide_type": "fragment"
    }
   },
   "source": [
    "```python\n",
    "{   # Robert Galbraith\n",
    "    \"love\": 0.5\n",
    "    \"spell\": 0.08\n",
    "    \"thou\": 0.42\n",
    "}\n",
    "```\n",
    "\n",
    "```python\n",
    "{   # Onbekend\n",
    "    \"love\": 3\n",
    "    \"potter\": 2\n",
    "    \"thou\": 1\n",
    "    \"spam\": 4\n",
    "}\n",
    "```"
   ]
  },
  {
   "cell_type": "markdown",
   "metadata": {
    "slideshow": {
     "slide_type": "notes"
    }
   },
   "source": [
    "De kans dat deze woorden in deze aantallen samen voorkomen is voor \"love\" (3x) en \"thou\" (1x)"
   ]
  },
  {
   "cell_type": "markdown",
   "metadata": {
    "slideshow": {
     "slide_type": "fragment"
    }
   },
   "source": [
    "$$\n",
    "0.5 \\times 0.5 \\times 0.5 \\times 0.42 \\times \\cdots?\n",
    "$$"
   ]
  },
  {
   "cell_type": "markdown",
   "metadata": {
    "slideshow": {
     "slide_type": "fragment"
    }
   },
   "source": [
    "Wat te kiezen voor de ontbrekende woorden \"potter\" (2x) en \"spam (4x)\"?"
   ]
  },
  {
   "cell_type": "markdown",
   "metadata": {
    "slideshow": {
     "slide_type": "skip"
    }
   },
   "source": [
    "#### Ontbrekende waarden"
   ]
  },
  {
   "cell_type": "markdown",
   "metadata": {
    "slideshow": {
     "slide_type": "subslide"
    }
   },
   "source": [
    "Gebruik 0 als waarde?\n",
    "\n",
    "$$\n",
    "0.5 \\times 0.5 \\times 0.5 \\times 0.42 \\times 0 \\times 0 \\times 0 \\times 0 \\times 0 \\times 0 = 0\n",
    "$$"
   ]
  },
  {
   "cell_type": "markdown",
   "metadata": {
    "slideshow": {
     "slide_type": "fragment"
    }
   },
   "source": [
    "Gebruik 1 als waarde?\n",
    "\n",
    "$$\n",
    "0.5 \\times 0.5 \\times 0.5 \\times 0.42 \\times 1 \\times 1 \\times 1 \\times 1 \\times 1 \\times 1 = 0.525\n",
    "$$"
   ]
  },
  {
   "cell_type": "markdown",
   "metadata": {
    "slideshow": {
     "slide_type": "notes"
    }
   },
   "source": [
    "Een waarde 0 is in in ieder geval niet nuttig. Maar waarom is het vooral geen goed idee om 1 te gebruiken?"
   ]
  },
  {
   "cell_type": "markdown",
   "metadata": {
    "slideshow": {
     "slide_type": "skip"
    }
   },
   "source": [
    "#### Oplossing"
   ]
  },
  {
   "cell_type": "markdown",
   "metadata": {
    "slideshow": {
     "slide_type": "subslide"
    }
   },
   "source": [
    "Gebruik de *helft* van de *kleinste waarde* voor beide modellen"
   ]
  },
  {
   "cell_type": "markdown",
   "metadata": {
    "slideshow": {
     "slide_type": "fragment"
    }
   },
   "source": [
    "```python\n",
    "{   # Robert Galbraith\n",
    "    \"love\": 0.5\n",
    "    \"spell\": 0.08\n",
    "    \"thou\": 0.42\n",
    "}\n",
    "{   # J.K. Rowling\n",
    "    \"love\": 0.025\n",
    "    \"spell\": 0.275  \n",
    "    \"potter\": 0.7\n",
    "}\n",
    "```"
   ]
  },
  {
   "cell_type": "markdown",
   "metadata": {
    "slideshow": {
     "slide_type": "subslide"
    }
   },
   "source": [
    "De score voor Robert Galbraith:\n",
    "\n",
    "$$\n",
    "0.5 \\times 0.5 \\times 0.5 \\times 0.42 \\times 0.012 \\times 0.012 \\times 0.012 \\times 0.012 \\times 0.012 \\times 0.012 = 1.57\\text{e-}13\n",
    "$$"
   ]
  },
  {
   "cell_type": "markdown",
   "metadata": {
    "slideshow": {
     "slide_type": "notes"
    }
   },
   "source": [
    "De kleinste waarde is $0.025$ (\"love\") en deze waarde gedeeld door twee is ongeveer gelijk aan $0.012$. Dit is niet de enige manier om met 0-waarden om te gaan, een andere veelgebruikte techniek is [Laplace smoothing](https://en.wikipedia.org/wiki/Additive_smoothing).\n",
    "\n",
    "De uikomst $1.57\\text{e-}13$ is geschreven in een wetenschappelijke notatie en staat voor voor $1.57 \\cdot 10^{-13}$. Dit zijn héél veel getallen achter de komma, we kunnen hier een andere vorm gebruiken!"
   ]
  },
  {
   "cell_type": "markdown",
   "metadata": {
    "slideshow": {
     "slide_type": "subslide"
    }
   },
   "source": [
    "### Logaritme\n",
    "\n",
    "Gebruik de [logaritme](https://en.wikipedia.org/wiki/Binary_logarithm) van de waarden"
   ]
  },
  {
   "cell_type": "markdown",
   "metadata": {
    "slideshow": {
     "slide_type": "fragment"
    }
   },
   "source": [
    "van\n",
    "\n",
    "$$\n",
    "0.5 \\times 0.5 \\times 0.5 \\times 0.42 \\times 0.012 \\times 0.012 \\times 0.012 \\times 0.012 \\times 0.012 \\times 0.012 = 1.57\\text{e-}13\n",
    "$$"
   ]
  },
  {
   "cell_type": "markdown",
   "metadata": {
    "slideshow": {
     "slide_type": "fragment"
    }
   },
   "source": [
    "naar \n",
    "\n",
    "$$\n",
    "3 \\times log_{2}0.5 + log_{2}0.42 + 6 \\times log_{2}0.012 = -42.53\n",
    "$$"
   ]
  },
  {
   "cell_type": "markdown",
   "metadata": {
    "slideshow": {
     "slide_type": "subslide"
    }
   },
   "source": [
    "### Python?"
   ]
  },
  {
   "cell_type": "code",
   "execution_count": 4,
   "metadata": {
    "slideshow": {
     "slide_type": "fragment"
    }
   },
   "outputs": [],
   "source": [
    "from math import log2\n",
    "\n",
    "galbraith = 3 * log2(0.5) + log2(0.42) + 6 * log2(0.012)"
   ]
  },
  {
   "cell_type": "code",
   "execution_count": 5,
   "metadata": {
    "slideshow": {
     "slide_type": "fragment"
    }
   },
   "outputs": [
    {
     "data": {
      "text/plain": [
       "-42.53646947064155"
      ]
     },
     "execution_count": 5,
     "metadata": {},
     "output_type": "execute_result"
    }
   ],
   "source": [
    "galbraith"
   ]
  },
  {
   "cell_type": "markdown",
   "metadata": {
    "slideshow": {
     "slide_type": "subslide"
    }
   },
   "source": [
    "```python\n",
    "{   # J.K. Rowling\n",
    "    \"love\": 0.025\n",
    "    \"spell\": 0.275  \n",
    "    \"potter\": 0.7\n",
    "}\n",
    "```\n",
    "\n",
    "```python\n",
    "{   # Onbekend\n",
    "    \"love\": 3\n",
    "    \"potter\": 2\n",
    "    \"thou\": 1\n",
    "    \"spam\": 4\n",
    "}\n",
    "```"
   ]
  },
  {
   "cell_type": "markdown",
   "metadata": {
    "slideshow": {
     "slide_type": "fragment"
    }
   },
   "source": [
    "De score voor J.K. Rowling\n",
    "\n",
    "$$\n",
    "3 \\times log_{2}0.025 + 2 \\times log_{2}0.7 + 5 \\times log_{2}0.012 = -48.9\n",
    "$$"
   ]
  },
  {
   "cell_type": "code",
   "execution_count": 6,
   "metadata": {
    "slideshow": {
     "slide_type": "fragment"
    },
    "tags": []
   },
   "outputs": [],
   "source": [
    "rowling = 3 * log2(0.025) + 2 * log2(0.7) + 5 * log2(0.012)"
   ]
  },
  {
   "cell_type": "code",
   "execution_count": 7,
   "metadata": {
    "slideshow": {
     "slide_type": "fragment"
    },
    "tags": []
   },
   "outputs": [
    {
     "data": {
      "text/plain": [
       "-48.89903955002626"
      ]
     },
     "execution_count": 7,
     "metadata": {},
     "output_type": "execute_result"
    }
   ],
   "source": [
    "rowling"
   ]
  },
  {
   "cell_type": "markdown",
   "metadata": {
    "slideshow": {
     "slide_type": "subslide"
    }
   },
   "source": [
    "### De winnaar\n",
    "\n",
    "Het model met de beste (hoogste) score!"
   ]
  },
  {
   "cell_type": "markdown",
   "metadata": {
    "slideshow": {
     "slide_type": "fragment"
    }
   },
   "source": [
    "- Robert Galbraith: −42.53, de (veel?) betere match\n",
    "- J.K. Rowling: −48.9"
   ]
  },
  {
   "cell_type": "markdown",
   "metadata": {
    "slideshow": {
     "slide_type": "slide"
    }
   },
   "source": [
    "## Genetische algoritmen"
   ]
  },
  {
   "cell_type": "markdown",
   "metadata": {
    "slideshow": {
     "slide_type": "subslide"
    }
   },
   "source": [
    "![Picobot Full Circle](images/22/picobot_full_circle.png)"
   ]
  },
  {
   "cell_type": "markdown",
   "metadata": {
    "slideshow": {
     "slide_type": "notes"
    }
   },
   "source": [
    "De cirkel is nu rond, je bent begonnen met Picobot en kan er nu mee eindigen!"
   ]
  },
  {
   "cell_type": "markdown",
   "metadata": {
    "slideshow": {
     "slide_type": "skip"
    }
   },
   "source": [
    "### Picobot"
   ]
  },
  {
   "cell_type": "markdown",
   "metadata": {
    "slideshow": {
     "slide_type": "subslide"
    }
   },
   "source": [
    "Het idee:\n",
    "\n",
    "1. Implementeer Picobot in Python\n",
    "2. Train Python om succesvolle Picobot programma's te schrijven!"
   ]
  },
  {
   "cell_type": "markdown",
   "metadata": {
    "slideshow": {
     "slide_type": "skip"
    }
   },
   "source": [
    "### Regels"
   ]
  },
  {
   "cell_type": "markdown",
   "metadata": {
    "slideshow": {
     "slide_type": "subslide"
    }
   },
   "source": [
    "![Picobot rules](images/22/picobot_options.png)"
   ]
  },
  {
   "cell_type": "markdown",
   "metadata": {
    "slideshow": {
     "slide_type": "subslide"
    }
   },
   "source": [
    "![Picobot full circle](images/22/picobot.gif)"
   ]
  },
  {
   "cell_type": "markdown",
   "metadata": {
    "slideshow": {
     "slide_type": "subslide"
    }
   },
   "source": [
    "```text\n",
    "0 xxxx -> N 0\n",
    "0 Nxxx -> W 0\n",
    "0 NxWx -> S 0\n",
    "0 xxWx -> S 0\n",
    "0 xxWS -> E 0\n",
    "0 xxxS -> E 0\n",
    "0 xExS -> N 0\n",
    "0 xExx -> N 0\n",
    "0 NExx -> S 1\n",
    "1 xxxx -> S 1\n",
    "1 Nxxx -> E 1\n",
    "1 NxWx -> E 1\n",
    "1 xxWx -> N 1\n",
    "1 xxWS -> N 1\n",
    "1 xxxS -> W 1\n",
    "1 xExS -> W 1\n",
    "1 xExx -> S 1\n",
    "1 NExx -> W 0\n",
    "```"
   ]
  },
  {
   "cell_type": "markdown",
   "metadata": {
    "slideshow": {
     "slide_type": "fragment"
    }
   },
   "source": [
    "| Huidige staat | Omgeving   |   Stap   | Richting | Nieuwe staat |\n",
    "|---------------|------------|:--------:|----------|--------------|\n",
    "|    **`0`**    | **`NExx`** | **`->`** |  **`S`** |    **`1`**   |"
   ]
  },
  {
   "cell_type": "markdown",
   "metadata": {
    "slideshow": {
     "slide_type": "subslide"
    }
   },
   "source": [
    "```text\n",
    "+++++++++++++++++++++++++    Wall:    +\n",
    "+oooooPooooooooooooooooo+    Visited: o\n",
    "+o              o      o+    Picobot: P\n",
    "+o              o      o+\n",
    "+o              o      o+\n",
    "+o              o      o+\n",
    "+o              o      o+\n",
    "+o              o      o+\n",
    "+o              o      o+\n",
    "+o              o      o+\n",
    "+o                     o+\n",
    "+o                     o+\n",
    "+o                     o+\n",
    "+o                     o+\n",
    "+o                     o+\n",
    "+o                     o+\n",
    "+o                     o+\n",
    "+o                     o+\n",
    "+o                     o+\n",
    "+o                     o+\n",
    "+o                     o+\n",
    "+o                     o+\n",
    "+o                     o+\n",
    "+ooooooooooooooooooooooo+\n",
    "+++++++++++++++++++++++++\n",
    "```"
   ]
  },
  {
   "cell_type": "markdown",
   "metadata": {
    "slideshow": {
     "slide_type": "subslide"
    }
   },
   "source": [
    "### Klassen"
   ]
  },
  {
   "cell_type": "markdown",
   "metadata": {
    "slideshow": {
     "slide_type": "subslide"
    }
   },
   "source": [
    "Een Picobot programma (een verzameling regels)\n",
    "\n",
    "```python\n",
    "class Program:\n",
    "    ...\n",
    "```"
   ]
  },
  {
   "cell_type": "markdown",
   "metadata": {
    "slideshow": {
     "slide_type": "fragment"
    }
   },
   "source": [
    "Welk type zal `self.rules` zijn?"
   ]
  },
  {
   "cell_type": "markdown",
   "metadata": {
    "slideshow": {
     "slide_type": "fragment"
    }
   },
   "source": [
    "```text\n",
    "1 NExx -> W 0\n",
    "```"
   ]
  },
  {
   "cell_type": "markdown",
   "metadata": {
    "slideshow": {
     "slide_type": "fragment"
    }
   },
   "source": [
    "```python\n",
    "self.rules[(1, \"NEXX\")] = (\"W\", 0)\n",
    "```"
   ]
  },
  {
   "cell_type": "markdown",
   "metadata": {
    "slideshow": {
     "slide_type": "notes"
    }
   },
   "source": [
    "Een dictionary is een geschikt type waar de \"huidige staat\" en \"omgeving\" de sleutel is en *richting* en *nieuwe staat* als waarde, beide als tuples. De regel staat vast, en  om deze reden is een tuple een geschikt type om een onveranderlijke verzameling van waarden mee vast te leggen (een tuple is *immutable*).\n",
    "\n",
    "Een dictionary vereist dat een sleutel overanderlijk is en zal om deze reden lists *niet* als sleutel accepteren (want deze zijn *mutable*), maar tuples wél!"
   ]
  },
  {
   "cell_type": "markdown",
   "metadata": {
    "slideshow": {
     "slide_type": "subslide"
    }
   },
   "source": [
    "Een Picobot wereld (de ruimte en de positie van Picobot)\n",
    "\n",
    "```python\n",
    "class World:\n",
    "    ...\n",
    "```"
   ]
  },
  {
   "cell_type": "markdown",
   "metadata": {
    "slideshow": {
     "slide_type": "fragment"
    }
   },
   "source": [
    "Welk type zal `self.room` zijn?"
   ]
  },
  {
   "cell_type": "markdown",
   "metadata": {
    "slideshow": {
     "slide_type": "fragment"
    }
   },
   "source": [
    "Een list of lists voor een 2D array!"
   ]
  },
  {
   "cell_type": "markdown",
   "metadata": {
    "slideshow": {
     "slide_type": "fragment"
    }
   },
   "source": [
    "- Muur: `+`\n",
    "- Bezocht: `o`\n",
    "- Picobot: `P`"
   ]
  },
  {
   "cell_type": "markdown",
   "metadata": {
    "slideshow": {
     "slide_type": "subslide"
    }
   },
   "source": [
    "## De evolutie van Picobot\n",
    "\n",
    "Een voorbeeld van een een genetisch algoritme voor het optimaliseren van\n",
    "\n",
    "- *moeilijk te beschrijven* functies\n",
    "- met behulp van *eenvoudig op te delen* oplossingen"
   ]
  },
  {
   "cell_type": "markdown",
   "metadata": {
    "slideshow": {
     "slide_type": "subslide"
    }
   },
   "source": [
    "![Genetic algorithm](images/22/genetic_algorithm.png)"
   ]
  },
  {
   "cell_type": "markdown",
   "metadata": {
    "slideshow": {
     "slide_type": "subslide"
    }
   },
   "source": [
    "### Evolutie"
   ]
  },
  {
   "cell_type": "markdown",
   "metadata": {
    "slideshow": {
     "slide_type": "fragment"
    }
   },
   "source": [
    "Begin met een populatie van ~200 *random* Picobot programma's"
   ]
  },
  {
   "cell_type": "markdown",
   "metadata": {
    "slideshow": {
     "slide_type": "subslide"
    }
   },
   "source": [
    "![Evo 1a](images/22/evo_1a.png)"
   ]
  },
  {
   "cell_type": "markdown",
   "metadata": {
    "slideshow": {
     "slide_type": "subslide"
    }
   },
   "source": [
    "### Fitness"
   ]
  },
  {
   "cell_type": "markdown",
   "metadata": {
    "slideshow": {
     "slide_type": "fragment"
    }
   },
   "source": [
    "Bepaal per Picobot programma de dekking als waarde tussen 0 en 1"
   ]
  },
  {
   "cell_type": "markdown",
   "metadata": {
    "slideshow": {
     "slide_type": "subslide"
    }
   },
   "source": [
    "![Evo 1b](images/22/evo_1b.png)"
   ]
  },
  {
   "cell_type": "markdown",
   "metadata": {
    "slideshow": {
     "slide_type": "subslide"
    }
   },
   "source": [
    "### Combineren"
   ]
  },
  {
   "cell_type": "markdown",
   "metadata": {
    "slideshow": {
     "slide_type": "fragment"
    }
   },
   "source": [
    "Paar (*crossover*) en muteer de meest fitte 10-20% programma's en begin weer met ~200 random Picobot programma's"
   ]
  },
  {
   "cell_type": "markdown",
   "metadata": {
    "slideshow": {
     "slide_type": "subslide"
    }
   },
   "source": [
    "![Evo 1c](images/22/evo_1c.png)"
   ]
  },
  {
   "cell_type": "markdown",
   "metadata": {
    "slideshow": {
     "slide_type": "subslide"
    }
   },
   "source": [
    "### Herhalen"
   ]
  },
  {
   "cell_type": "markdown",
   "metadata": {
    "slideshow": {
     "slide_type": "fragment"
    }
   },
   "source": [
    "Herhaal dit \"survival of the fittest\" proces voor meerdere generaties tot een meest optimale fit is gevonden!"
   ]
  }
 ],
 "metadata": {
  "kernelspec": {
   "display_name": "Python 3 (ipykernel)",
   "language": "python",
   "name": "python3"
  },
  "language_info": {
   "codemirror_mode": {
    "name": "ipython",
    "version": 3
   },
   "file_extension": ".py",
   "mimetype": "text/x-python",
   "name": "python",
   "nbconvert_exporter": "python",
   "pygments_lexer": "ipython3",
   "version": "3.10.0"
  }
 },
 "nbformat": 4,
 "nbformat_minor": 4
}
