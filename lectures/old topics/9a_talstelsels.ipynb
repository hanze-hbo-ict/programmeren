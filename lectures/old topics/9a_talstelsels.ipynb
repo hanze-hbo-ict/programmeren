{
 "cells": [
  {
   "cell_type": "markdown",
   "metadata": {
    "slideshow": {
     "slide_type": "slide"
    }
   },
   "source": [
    "# Waar staan we nu?\n",
    "\n",
    "* We bouwen nu programma's op door middel van *compositie*\n",
    "* Hierdoor worden onze programma's steeds krachtiger"
   ]
  },
  {
   "cell_type": "markdown",
   "metadata": {
    "slideshow": {
     "slide_type": "fragment"
    }
   },
   "source": [
    "![Compositie van decipher](images/9/softwarearch.png)"
   ]
  },
  {
   "cell_type": "markdown",
   "metadata": {
    "slideshow": {
     "slide_type": "fragment"
    }
   },
   "source": [
    "* Dit heet **software-architectuur**"
   ]
  },
  {
   "cell_type": "markdown",
   "metadata": {
    "slideshow": {
     "slide_type": "subslide"
    }
   },
   "source": [
    "## Maar hoe is dit *fysiek* geïmplementeerd?"
   ]
  },
  {
   "cell_type": "markdown",
   "metadata": {
    "slideshow": {
     "slide_type": "fragment"
    }
   },
   "source": [
    "![Compositie van decipher](images/9/softwarearch.png)"
   ]
  },
  {
   "cell_type": "markdown",
   "metadata": {
    "slideshow": {
     "slide_type": "fragment"
    }
   },
   "source": [
    "![Representatie van decipher](images/9/computerarch.png)"
   ]
  },
  {
   "cell_type": "markdown",
   "metadata": {
    "slideshow": {
     "slide_type": "fragment"
    }
   },
   "source": [
    "* We kijken nu naar hoe de computer dingen *representeert*\n",
    "* Dit heet **computer-architectuur**"
   ]
  },
  {
   "cell_type": "markdown",
   "metadata": {
    "slideshow": {
     "slide_type": "subslide"
    }
   },
   "source": [
    "## Hoe zijn gegevens opgeslagen?\n",
    "\n",
    "![ASCII](images/9/ascii.png)\n",
    "\n",
    "* *Dezelfde* bits kunnen een andere waarde *representeren*, afhankelijk van het *type*!"
   ]
  },
  {
   "cell_type": "markdown",
   "metadata": {
    "slideshow": {
     "slide_type": "subslide"
    }
   },
   "source": [
    "![Geheugen](images/9/box.png)"
   ]
  },
  {
   "cell_type": "markdown",
   "metadata": {
    "slideshow": {
     "slide_type": "fragment"
    }
   },
   "source": [
    "* 8 bits = 1 byte = 1 plaats in het geheugen\n",
    "* Beide geheugenplaatsen bevatten *dezelfde* bits"
   ]
  },
  {
   "cell_type": "markdown",
   "metadata": {
    "slideshow": {
     "slide_type": "slide"
    }
   },
   "source": [
    "## Wat *is* 42 eigenlijk?\n",
    "\n",
    "![42](images/9/what-is-42.jpg)"
   ]
  },
  {
   "cell_type": "markdown",
   "metadata": {
    "slideshow": {
     "slide_type": "subslide"
    }
   },
   "source": [
    "## Tientallig stelsel\n",
    "\n",
    "![42](images/9/42.png)\n",
    "\n",
    "$$42 = 4 \\cdot 10 + 2 \\cdot 1$$"
   ]
  },
  {
   "cell_type": "markdown",
   "metadata": {
    "slideshow": {
     "slide_type": "fragment"
    }
   },
   "source": [
    "![123](images/9/123.png)\n",
    "\n",
    "$$123 = 1 \\cdot 100 + 2 \\cdot 10 + 3 \\cdot 1$$"
   ]
  },
  {
   "cell_type": "markdown",
   "metadata": {
    "slideshow": {
     "slide_type": "subslide"
    }
   },
   "source": [
    "### Het verschil tussen semantiek en syntax"
   ]
  },
  {
   "cell_type": "markdown",
   "metadata": {
    "slideshow": {
     "slide_type": "fragment"
    }
   },
   "source": [
    "#### Semantiek (of waarde)\n",
    "\n",
    "![Zaagblad](images/9/saw.jpg)"
   ]
  },
  {
   "cell_type": "markdown",
   "metadata": {
    "slideshow": {
     "slide_type": "fragment"
    }
   },
   "source": [
    "#### Syntax\n",
    "\n",
    "![42](images/9/42-syntax.png)"
   ]
  },
  {
   "cell_type": "markdown",
   "metadata": {
    "slideshow": {
     "slide_type": "subslide"
    }
   },
   "source": [
    "### Wat als we de syntax veranderen?"
   ]
  },
  {
   "cell_type": "markdown",
   "metadata": {
    "slideshow": {
     "slide_type": "fragment"
    }
   },
   "source": [
    "#### Semantiek (of waarde)\n",
    "\n",
    "![Zaagblad](images/9/saw.jpg)"
   ]
  },
  {
   "cell_type": "markdown",
   "metadata": {
    "slideshow": {
     "slide_type": "fragment"
    }
   },
   "source": [
    "#### Syntax\n",
    "\n",
    "![101010](images/9/101010-syntax.png)"
   ]
  },
  {
   "cell_type": "markdown",
   "metadata": {
    "slideshow": {
     "slide_type": "subslide"
    }
   },
   "source": [
    "![There are 10 types of people: those who understand binary, and those who don't](images/9/binary.jpg)"
   ]
  },
  {
   "cell_type": "markdown",
   "metadata": {
    "slideshow": {
     "slide_type": "subslide"
    }
   },
   "source": [
    "### Tientallig stelsel (decimaal)\n",
    "\n",
    "![42](images/9/42.png)\n",
    "\n",
    "* Grondtal **10**"
   ]
  },
  {
   "cell_type": "markdown",
   "metadata": {
    "slideshow": {
     "slide_type": "subslide"
    }
   },
   "source": [
    "### Tweetallig stelsel (binair)\n",
    "\n",
    "![101010](images/9/101010.png)\n",
    "\n",
    "* Grondtal **2**"
   ]
  },
  {
   "cell_type": "markdown",
   "metadata": {
    "slideshow": {
     "slide_type": "fragment"
    }
   },
   "source": [
    "$$101010_2 = 1 \\cdot 32 + 0 \\cdot 16 + 1 \\cdot 8 + 0 \\cdot 4 + 1 \\cdot 2 + 0 \\cdot 1 = 42$$\n",
    "\n",
    "* Elke kolom naar links is de volgende macht van het grondtal (dus steeds *keer* het grondtal)"
   ]
  },
  {
   "cell_type": "markdown",
   "metadata": {
    "slideshow": {
     "slide_type": "subslide"
    }
   },
   "source": [
    "### Decimaal\n",
    "\n",
    "![123](images/9/123.png)\n",
    "\n",
    "### Binair"
   ]
  },
  {
   "cell_type": "markdown",
   "metadata": {
    "slideshow": {
     "slide_type": "fragment"
    }
   },
   "source": [
    "![1111011](images/9/1111011.png)\n",
    "\n",
    "$$1111011_2 = 1 \\cdot 64 + 1 \\cdot 32 + 1 \\cdot 16 + 1 \\cdot 8 + 0 \\cdot 4 + 1 \\cdot 2 + 1 \\cdot 1 = 123$$"
   ]
  },
  {
   "cell_type": "markdown",
   "metadata": {
    "slideshow": {
     "slide_type": "subslide"
    }
   },
   "source": [
    "## Quiz\n",
    "\n",
    "1. Converteer het binaire getal 110011 naar decimaal\n",
    "2. Converteer het binaire getal 10001000 naar decimaal\n",
    "3. Converteer het decimale getal 28 naar binair\n",
    "4. Converteer het decimale getal 101 naar binair"
   ]
  },
  {
   "cell_type": "markdown",
   "metadata": {
    "slideshow": {
     "slide_type": "fragment"
    }
   },
   "source": [
    "$$\n",
    "\\begin{aligned}\n",
    "110011_2 &= 1 \\cdot 32 + 1 \\cdot 16 + 0 \\cdot 8 + 0 \\cdot 4 + 1 \\cdot 2 + 1 \\cdot 1 = 51_{10} \\\\ \n",
    "10001000_2 &= 1 \\cdot 128 + 0 \\cdot 64 + 0 \\cdot 32 + 0 \\cdot 16 + 1 \\cdot 8 + 0 \\cdot 4 + 0 \\cdot 2 + 0 \\cdot 1 = 136_{10} \\\\\n",
    "28_{10} &= 16 + 8 + 4 = 11100_2 \\\\\n",
    "101_{10} &= 64 + 32 + 4 + 1 = 1100101_2\n",
    "\\end{aligned}\n",
    "$$"
   ]
  },
  {
   "cell_type": "markdown",
   "metadata": {
    "slideshow": {
     "slide_type": "slide"
    }
   },
   "source": [
    "## Rekenen met talstelsels\n",
    "\n",
    "* Hoe *werkt* rekenen eigenlijk?\n",
    "* We bekijken twee bewerkingen: optellen en vermenigvuldigen"
   ]
  },
  {
   "cell_type": "markdown",
   "metadata": {
    "slideshow": {
     "slide_type": "subslide"
    }
   },
   "source": [
    "## Tientallig rekenen\n",
    "\n",
    "![Optellen](images/9/optellen.jpg) ![Tafels](images/9/tafels.jpg)"
   ]
  },
  {
   "cell_type": "markdown",
   "metadata": {
    "slideshow": {
     "slide_type": "fragment"
    }
   },
   "source": [
    "* We gebruiken *opzoektabellen* om de berekeningen voor 1 cijfer te kunnen doen, en *algoritmes* voor langere getallen"
   ]
  },
  {
   "cell_type": "markdown",
   "metadata": {
    "slideshow": {
     "slide_type": "subslide"
    }
   },
   "source": [
    "## Optellen\n",
    "\n",
    "* Welk *algoritme* gebruiken we voor optellen?"
   ]
  },
  {
   "cell_type": "markdown",
   "metadata": {
    "slideshow": {
     "slide_type": "fragment"
    }
   },
   "source": [
    "$$\n",
    "\\begin{array}{r}\n",
    "1\\phantom{0}\\\\\n",
    "529\\\\\n",
    "+\\;\\phantom{0}742\\\\\n",
    "\\hline\n",
    "1271\n",
    "\\end{array}\n",
    "$$"
   ]
  },
  {
   "cell_type": "markdown",
   "metadata": {
    "slideshow": {
     "slide_type": "subslide"
    }
   },
   "source": [
    "## Vermenigvuldigen\n",
    "\n",
    "* Welk *algoritme* gebruiken we voor vermenigvuldigen?"
   ]
  },
  {
   "cell_type": "markdown",
   "metadata": {
    "slideshow": {
     "slide_type": "fragment"
    }
   },
   "source": [
    "$$\n",
    "\\begin{array}{r}\n",
    "529\\\\\n",
    "\\times\\;\\phantom{000}42\\\\\n",
    "\\hline\n",
    "1058\\\\\n",
    "+\\;2116\\phantom{0}\\\\\n",
    "\\hline\n",
    "22218\n",
    "\\end{array}\n",
    "$$"
   ]
  },
  {
   "cell_type": "markdown",
   "metadata": {
    "slideshow": {
     "slide_type": "subslide"
    }
   },
   "source": [
    "## Tweetallig rekenen\n",
    "\n",
    "| + | 0 | 1 |\n",
    "|---|---|---|\n",
    "| 0 |   |   |\n",
    "| 1 |   |   |\n",
    "\n",
    "| × | 0 | 1 |\n",
    "|---|---|---|\n",
    "| 0 |   |   |\n",
    "| 1 |   |   |\n",
    "\n",
    "* **Dezelfde** aanpak, allen zijn de tabellen wat kleiner! 🥳\n",
    "* Welke getallen komen in de tabel te staan?"
   ]
  },
  {
   "cell_type": "markdown",
   "metadata": {
    "slideshow": {
     "slide_type": "subslide"
    }
   },
   "source": [
    "## Tweetallig rekenen\n",
    "\n",
    "| + | 0 | 1  |\n",
    "|---|---|----|\n",
    "| 0 | 0 | 1  |\n",
    "| 1 | 1 | 10 |\n",
    "\n",
    "| × | 0 | 1 |\n",
    "|---|---|---|\n",
    "| 0 | 0 | 0 |\n",
    "| 1 | 0 | 1 |\n",
    "\n",
    "* Die 10 is binair, lees dus 2 decimaal!"
   ]
  },
  {
   "cell_type": "markdown",
   "metadata": {
    "slideshow": {
     "slide_type": "subslide"
    }
   },
   "source": [
    "## Quiz\n",
    "\n",
    "Tel de binaire getallen 101101 en 1110 op *zonder* ze om te rekenen naar decimaal"
   ]
  },
  {
   "cell_type": "markdown",
   "metadata": {
    "slideshow": {
     "slide_type": "fragment"
    }
   },
   "source": [
    "$$\n",
    "\\begin{array}{r}\n",
    "11\\phantom{000}\\\\\n",
    "101101\\\\\n",
    "+\\;\\phantom{00}1110\\\\\n",
    "\\hline\n",
    "111011\n",
    "\\end{array}\n",
    "$$"
   ]
  },
  {
   "cell_type": "markdown",
   "metadata": {
    "slideshow": {
     "slide_type": "subslide"
    }
   },
   "source": [
    "## Quiz\n",
    "\n",
    "Vermenigvuldig de binaire getalen 101101 en 1110 *zonder* ze om te rekenen naar decimaal"
   ]
  },
  {
   "cell_type": "markdown",
   "metadata": {
    "slideshow": {
     "slide_type": "fragment"
    }
   },
   "source": [
    "$$\n",
    "\\begin{array}{r}\n",
    "101101\\\\\n",
    "\\times\\;\\phantom{000000}1110\\\\\n",
    "\\hline\n",
    "0\\\\\n",
    "101101\\phantom{0}\\\\\n",
    "101101\\phantom{00}\\\\\n",
    "+\\;\\phantom{0}101101\\phantom{000}\\\\\n",
    "\\hline\n",
    "1001110110\n",
    "\\end{array}\n",
    "$$"
   ]
  },
  {
   "cell_type": "markdown",
   "metadata": {
    "slideshow": {
     "slide_type": "slide"
    }
   },
   "source": [
    "## Verder dan binair!\n",
    "\n",
    "| Grondtal | Stelsel | 42! | Cijfers |\n",
    "|----------|---------|-----|---------|\n",
    "| 2 | **Binair** | 101010 | 0, 1 |\n",
    "| 3 | **Ternair** | 1120 | 0, 1, 2 |\n",
    "| 10 | **Decimaal** | 42 | 0, 1, 2, 3, 4, 5, 6, 7, 8, 9 |"
   ]
  },
  {
   "cell_type": "markdown",
   "metadata": {
    "slideshow": {
     "slide_type": "subslide"
    }
   },
   "source": [
    "### Waarom 1120?"
   ]
  },
  {
   "cell_type": "markdown",
   "metadata": {
    "slideshow": {
     "slide_type": "fragment"
    }
   },
   "source": [
    "![1120](images/9/ternary.png)"
   ]
  },
  {
   "cell_type": "markdown",
   "metadata": {
    "slideshow": {
     "slide_type": "fragment"
    }
   },
   "source": [
    "$$\n",
    "1120_3 = 1 \\cdot 27 + 1 \\cdot 9 + 2 \\cdot 3 + 0 \\cdot 1 = 42\n",
    "$$"
   ]
  },
  {
   "cell_type": "markdown",
   "metadata": {
    "slideshow": {
     "slide_type": "subslide"
    }
   },
   "source": [
    "![To infinity and beyond!](images/9/to-infinity-and-beyond.jpg)"
   ]
  },
  {
   "cell_type": "markdown",
   "metadata": {
    "slideshow": {
     "slide_type": "subslide"
    }
   },
   "source": [
    "## Quiz\n",
    "\n",
    "Welke van deze getallen is *niet* 42?\n",
    "\n",
    "* 222\n",
    "* 60\n",
    "* 54\n",
    "* 46\n",
    "* 39"
   ]
  },
  {
   "cell_type": "markdown",
   "metadata": {
    "slideshow": {
     "slide_type": "subslide"
    }
   },
   "source": [
    "## Quiz\n",
    "\n",
    "$$\n",
    "\\begin{aligned}\n",
    "222_4 &= 2 \\cdot 16 + 2 \\cdot 4 + 2 \\cdot 1 &= 42 \\\\\n",
    "60_7 &= 6 \\cdot 42 + 0 \\cdot 1 &= 42 \\\\\n",
    "46_9 &= 4 \\cdot 9 + 6 \\cdot 1 &= 42 \\\\\n",
    "39_{11} &= 3 \\cdot 11 + 9 \\cdot 1 &= 42 \\\\\n",
    "\\end{aligned}\n",
    "$$"
   ]
  },
  {
   "cell_type": "markdown",
   "metadata": {
    "slideshow": {
     "slide_type": "fragment"
    }
   },
   "source": [
    "* 54 is geen 42 😞"
   ]
  },
  {
   "cell_type": "markdown",
   "metadata": {
    "slideshow": {
     "slide_type": "subslide"
    }
   },
   "source": [
    "## 42 and beyond!\n",
    "\n",
    "| Grondtal | Stelsel | 42! | Cijfers |\n",
    "|----------|---------|-----|---------|\n",
    "| 2 | **Binair** | 101010 | 0, 1 |\n",
    "| 3 | **Ternair** | 1120 | 0, 1, 2 |\n",
    "| 4 | Quaternair | 222 | 0, 1, 2, 3 |\n",
    "| 5 | Quinair | 132 | 0, 1, 2, 3, 4 |\n",
    "| 6 | Senair | 110 | 0, 1, 2, 3, 4, 5 |\n",
    "| 7 | Septenair | 60 | 0, 1, 2, 3, 4, 5, 6 |\n",
    "| 8 | **Octaal** | 52 | 0, 1, 2, 3, 4, 5, 6, 7 |\n",
    "| 9 | Novenair | 46 | 0, 1, 2, 3, 4, 5, 6, 7, 8 |\n",
    "| 10 | **Decimaal** | 42 | 0, 1, 2, 3, 4, 5, 6, 7, 8, 9 |\n",
    "| 11 | Undecimaal | 39 | 0, 1, 2, 3, 4, 5, 6, 7, 8, 9, **A** |\n",
    "| 12 | Duodecimaal | 36 | 0, 1, 2, 3, 4, 5, 6, 7, 8, 9, **A**, **B** |\n",
    "| 16 | **Hexadecimaal** | 2A | 0, 1, 2, 3, 4, 5, 6, 7, 8, 9, **A**, **B**, **C**, **D**, **E**, **F** |"
   ]
  },
  {
   "cell_type": "markdown",
   "metadata": {
    "slideshow": {
     "slide_type": "subslide"
    }
   },
   "source": [
    "![Redbull gives you wiiings.](images/9/redbull.jpg)"
   ]
  },
  {
   "cell_type": "markdown",
   "metadata": {
    "slideshow": {
     "slide_type": "subslide"
    }
   },
   "source": [
    "```\n",
    "52 65 64 20 42 75 6C 6C 20 67 69\n",
    "76 65 73 20 79 6F 75 20 77 69 69\n",
    "69 6E 67 73 2E\n",
    "```\n",
    "\n",
    "* Hexadecimale getallen\n",
    "* Representeren tekens uit de ASCII-set"
   ]
  },
  {
   "cell_type": "markdown",
   "metadata": {
    "slideshow": {
     "slide_type": "fragment"
    }
   },
   "source": [
    "**Red Bull gives you wiiings.**"
   ]
  },
  {
   "cell_type": "markdown",
   "metadata": {
    "slideshow": {
     "slide_type": "subslide"
    }
   },
   "source": [
    "![Dozenal Society](images/9/dozenal12.jpg)"
   ]
  },
  {
   "cell_type": "markdown",
   "metadata": {
    "slideshow": {
     "slide_type": "fragment"
    }
   },
   "source": [
    "* De **Dozenal Society** promoot een 12-tallig (duodecimaal) stelsel.\n",
    "* Waar komt het 12-tallig stelsel nog meer voor?"
   ]
  },
  {
   "cell_type": "markdown",
   "metadata": {
    "slideshow": {
     "slide_type": "notes"
    }
   },
   "source": [
    "Denk bijvoorbeeld aan het aantal uren in een dag, of de eenheden in het Engelse stelsel (12 inch in een foot)."
   ]
  },
  {
   "cell_type": "markdown",
   "metadata": {
    "slideshow": {
     "slide_type": "subslide"
    }
   },
   "source": [
    "![Babylonische cijfers](images/9/babylon60.png)"
   ]
  },
  {
   "cell_type": "markdown",
   "metadata": {
    "slideshow": {
     "slide_type": "fragment"
    }
   },
   "source": [
    "* **Babylonische** kleitabletten (*cuneiform*) met een 60-tallig (sexagesimaal) stelsel.\n",
    "* Waar zie je tegenwoordig nog een 60-tallig stelsel?"
   ]
  },
  {
   "cell_type": "markdown",
   "metadata": {
    "slideshow": {
     "slide_type": "notes"
    }
   },
   "source": [
    "Denk bijvoorbeeld aan het aantal minuten in een uur."
   ]
  },
  {
   "cell_type": "markdown",
   "metadata": {
    "slideshow": {
     "slide_type": "subslide"
    }
   },
   "source": [
    "![Maya-cijfers](images/9/maya20.png)"
   ]
  },
  {
   "cell_type": "markdown",
   "metadata": {
    "slideshow": {
     "slide_type": "fragment"
    }
   },
   "source": [
    "* De **Maya's** gebruikten een 20-tallig (vigesimaal) stelsel."
   ]
  },
  {
   "cell_type": "markdown",
   "metadata": {
    "slideshow": {
     "slide_type": "subslide"
    }
   },
   "source": [
    "![Telefol-tellen](images/9/telefol27.jpg)"
   ]
  },
  {
   "cell_type": "markdown",
   "metadata": {
    "slideshow": {
     "slide_type": "fragment"
    }
   },
   "source": [
    "* De **Telefol** uit Papua Nieuw Guinea gebruiken een 27-tallig (heptavigesimaal) stelsel (!)"
   ]
  }
 ],
 "metadata": {
  "kernelspec": {
   "display_name": "Python 3 (ipykernel)",
   "language": "python",
   "name": "python3"
  },
  "language_info": {
   "codemirror_mode": {
    "name": "ipython",
    "version": 3
   },
   "file_extension": ".py",
   "mimetype": "text/x-python",
   "name": "python",
   "nbconvert_exporter": "python",
   "pygments_lexer": "ipython3",
   "version": "3.9.5"
  }
 },
 "nbformat": 4,
 "nbformat_minor": 4
}
