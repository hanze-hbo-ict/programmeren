{
 "cells": [
  {
   "cell_type": "markdown",
   "metadata": {
    "slideshow": {
     "slide_type": "slide"
    }
   },
   "source": [
    "# Simulatie\n",
    "\n",
    "Over kansen en kiezen!"
   ]
  },
  {
   "cell_type": "markdown",
   "metadata": {
    "slideshow": {
     "slide_type": "subslide"
    }
   },
   "source": [
    "## Recursie\n",
    "\n",
    "Jij zorgt voor het EERSTE geval, recursie zorgt voor de REST"
   ]
  },
  {
   "cell_type": "markdown",
   "metadata": {
    "slideshow": {
     "slide_type": "notes"
    }
   },
   "source": [
    "Een korte herhaling van recursie en één van de belangrijkste lessen als het gaan om het ontwerp van recursieve functies: naast het bepalen van de base case(s) zorg jij voor het eerste geval en recursie zorgt voor de rest. Laten we dit nog een keer bekijken."
   ]
  },
  {
   "cell_type": "markdown",
   "metadata": {
    "slideshow": {
     "slide_type": "subslide"
    }
   },
   "source": [
    "### Inwendig product\n",
    "\n",
    "Of in het Engels: *dot product* \n",
    "\n",
    "1. `[1, 2] * [3, 4]`\n",
    "2. `1 * 3 + 2 * 4`\n",
    "3. `3 + 8`\n",
    "4. `11`"
   ]
  },
  {
   "cell_type": "markdown",
   "metadata": {
    "slideshow": {
     "slide_type": "notes"
    }
   },
   "source": [
    "Het inwendig product is het resultaat van de vermenigvuldiging van twee *vectoren* van gelijke grootte. Vectoren kunnen worden gerepresenteerd als lists."
   ]
  },
  {
   "cell_type": "markdown",
   "metadata": {
    "slideshow": {
     "slide_type": "subslide"
    }
   },
   "source": [
    "```python\n",
    "def dot(L, K):\n",
    "    \"\"\"Het inwendig (dot) product van L en K\n",
    "    \"\"\"\n",
    "    if len(L) == 0 or len(K) == 0:\n",
    "        return 0.0\n",
    "    \n",
    "    elif len(L) != len(K):\n",
    "        return 0.0\n",
    "\n",
    "    else:\n",
    "        return L[0] * K[0] + dot(L[1:], K[1:])\n",
    "```"
   ]
  },
  {
   "cell_type": "markdown",
   "metadata": {
    "slideshow": {
     "slide_type": "notes"
    }
   },
   "source": [
    "Er zijn *twee* base cases, de lijsten `L` en `K` zijn leeg of ze zijn niet van gelijke lengte. Zie je ook dat we tests kunnen combineren met `or` (als de een óf de ander faalt)?"
   ]
  },
  {
   "cell_type": "markdown",
   "metadata": {
    "slideshow": {
     "slide_type": "subslide"
    }
   },
   "source": [
    "Recursie zorgt voor de REST\n",
    "\n",
    "```python\n",
    "else:\n",
    "    return L[0] * K[0] + dot(L[1:], K[1:])\n",
    "```"
   ]
  },
  {
   "cell_type": "markdown",
   "metadata": {
    "slideshow": {
     "slide_type": "notes"
    }
   },
   "source": [
    "Als de base cases zijn gedefieerd dan zorg jij voor het *eerste* geval `L[0] * K[0]` en recursie zorgt voor de *rest* `dot(L[1:], K[1:])`. Het is een product, dus jouw geval en de rest moeten wel met elkaar gecombineerd worden (`+`)."
   ]
  },
  {
   "cell_type": "markdown",
   "metadata": {
    "slideshow": {
     "slide_type": "slide"
    }
   },
   "source": [
    "## Visualiseren\n",
    "\n",
    "Een hulpmiddel voor het visualiseren van de stack: [pythontutor.com](http://www.pythontutor.com/)"
   ]
  },
  {
   "cell_type": "markdown",
   "metadata": {
    "slideshow": {
     "slide_type": "subslide"
    }
   },
   "source": [
    "![pythontutor.org](images/5/pythontutor_dot.png)"
   ]
  },
  {
   "cell_type": "markdown",
   "metadata": {
    "slideshow": {
     "slide_type": "notes"
    }
   },
   "source": [
    "Gebruik [pythontutor.com](http://www.pythontutor.com/) voor het verkennen van een probleem of (visueel) testen van jouw oplossing! Het `dot` voorbeeld kan je gelijk [uitproberen](https://pythontutor.com/visualize.html#code=def%20dot%28L,%20K%29%3A%0A%20%20%20%20if%20len%28L%29%20%3D%3D%200%20or%20len%28K%29%20%3D%3D%200%3A%0A%20%20%20%20%20%20%20%20return%200.0%0A%20%20%20%20%0A%20%20%20%20elif%20len%28L%29%20!%3D%20len%28K%29%3A%0A%20%20%20%20%20%20%20%20return%200.0%0A%0A%20%20%20%20else%3A%0A%20%20%20%20%20%20%20%20return%20L%5B0%5D%20*%20K%5B0%5D%20%2B%20dot%28L%5B1%3A%5D,%20K%5B1%3A%5D%29%0A%0Adot%28%5B3,%202,%204%5D,%20%5B4,%207,%204%5D%29&cumulative=false&heapPrimitives=nevernest&mode=edit&origin=opt-frontend.js&py=3&rawInputLstJSON=%5B%5D&textReferences=false). "
   ]
  },
  {
   "cell_type": "markdown",
   "metadata": {
    "slideshow": {
     "slide_type": "slide"
    }
   },
   "source": [
    "## Toeval en keus\n",
    "\n",
    "```python\n",
    "import random\n",
    "```\n",
    "\n",
    "Na de import kan je `dir(random)` en `help(random)` gebruiken"
   ]
  },
  {
   "cell_type": "markdown",
   "metadata": {
    "slideshow": {
     "slide_type": "notes"
    }
   },
   "source": [
    "Met deze syntax importeer je de Python *module* random."
   ]
  },
  {
   "cell_type": "markdown",
   "metadata": {
    "slideshow": {
     "slide_type": "fragment"
    }
   },
   "source": [
    "```python\n",
    "from random import *\n",
    "```\n",
    "\n",
    "Alle random functies zijn nu beschikbaar!"
   ]
  },
  {
   "cell_type": "markdown",
   "metadata": {
    "slideshow": {
     "slide_type": "notes"
    }
   },
   "source": [
    "Met deze syntax importeert je *alle* functies in de module random."
   ]
  },
  {
   "cell_type": "markdown",
   "metadata": {
    "slideshow": {
     "slide_type": "fragment"
    }
   },
   "source": [
    "```python\n",
    "from random import choice\n",
    "```\n",
    "\n",
    "Alleen de functie `choice` is nu beschikbaar ..."
   ]
  },
  {
   "cell_type": "markdown",
   "metadata": {
    "slideshow": {
     "slide_type": "subslide"
    }
   },
   "source": [
    "### Import"
   ]
  },
  {
   "cell_type": "markdown",
   "metadata": {
    "slideshow": {
     "slide_type": "fragment"
    }
   },
   "source": [
    "```python\n",
    "import random\n",
    "\n",
    "random.choice(...)\n",
    "```"
   ]
  },
  {
   "cell_type": "markdown",
   "metadata": {
    "slideshow": {
     "slide_type": "fragment"
    }
   },
   "source": [
    "```python\n",
    "from random import *\n",
    "\n",
    "choice(...)\n",
    "```"
   ]
  },
  {
   "cell_type": "markdown",
   "metadata": {
    "slideshow": {
     "slide_type": "notes"
    }
   },
   "source": [
    "Wat is het verschil en maakt het uit? Nee, zoals je kan zien kan je met beide import statements de functie `choice` gebruiken. In het eerste geval leeft de functie in een zogenaamde *namespace* of context (de namespace \"random\") en roep je het via die context aan (`random.choice`), in het tweede geval komt het in de context van jouw programma terecht en kan je het direct aanroepen (`choice`)."
   ]
  },
  {
   "cell_type": "markdown",
   "metadata": {
    "slideshow": {
     "slide_type": "subslide"
    }
   },
   "source": [
    "```python\n",
    "from random import *\n",
    "\n",
    "def choice(...):\n",
    "    \"\"\"Mijn choice functie\n",
    "    \"\"\"\n",
    "```"
   ]
  },
  {
   "cell_type": "markdown",
   "metadata": {
    "slideshow": {
     "slide_type": "notes"
    }
   },
   "source": [
    "In dit geval zal jouw functie `choice` worden aanroepen, het \"overschrijft\" de functie `choice` die je eerder met het import statement uit de module random hebt geïmporteerd. In dit geval kan het handig zijn om alleen de module random te importeren en via `random.choice` de oorspronkelijke functie te kunnen aanroepen (als dat nodig is)."
   ]
  },
  {
   "cell_type": "markdown",
   "metadata": {
    "slideshow": {
     "slide_type": "subslide"
    }
   },
   "source": [
    "### Gebruik\n",
    "\n",
    "```python\n",
    "choice(L)\n",
    "```\n",
    "\n",
    "Kies willekeurig 1 element uit de sequentie L"
   ]
  },
  {
   "cell_type": "markdown",
   "metadata": {
    "slideshow": {
     "slide_type": "fragment"
    }
   },
   "source": [
    "```python\n",
    "choice(\"roos\")\n",
    "```\n",
    "\n",
    "of 1 karakter uit een string"
   ]
  },
  {
   "cell_type": "markdown",
   "metadata": {
    "slideshow": {
     "slide_type": "notes"
    }
   },
   "source": [
    "De kans op `\"r\"` is $\\frac{1}{4}$, op `\"o\"` $\\frac{1}{2}$ en op `\"s\"` $\\frac{1}{4}$ ..."
   ]
  },
  {
   "cell_type": "markdown",
   "metadata": {
    "slideshow": {
     "slide_type": "fragment"
    }
   },
   "source": [
    "```python\n",
    "choice(['slapen', 'eten', 'netflix', 'studeren'])\n",
    "```"
   ]
  },
  {
   "cell_type": "markdown",
   "metadata": {
    "slideshow": {
     "slide_type": "notes"
    }
   },
   "source": [
    "of 1 element uit een list"
   ]
  },
  {
   "cell_type": "markdown",
   "metadata": {
    "slideshow": {
     "slide_type": "subslide"
    }
   },
   "source": [
    "### Reeksen maken\n",
    "\n",
    "Kan je ook eigen reeksen maken?"
   ]
  },
  {
   "cell_type": "code",
   "execution_count": 1,
   "metadata": {
    "slideshow": {
     "slide_type": "fragment"
    }
   },
   "outputs": [
    {
     "data": {
      "text/plain": [
       "[0, 1, 2, 3, 4]"
      ]
     },
     "execution_count": 1,
     "metadata": {},
     "output_type": "execute_result"
    }
   ],
   "source": [
    "list(range(5))"
   ]
  },
  {
   "cell_type": "markdown",
   "metadata": {
    "slideshow": {
     "slide_type": "notes"
    }
   },
   "source": [
    "Lees dit als \"ik wil de waarden van `range(5)` als een list\". Let op dat `range(5)`  5 *elementen* oplevert!"
   ]
  },
  {
   "cell_type": "code",
   "execution_count": 2,
   "metadata": {
    "slideshow": {
     "slide_type": "fragment"
    }
   },
   "outputs": [
    {
     "data": {
      "text/plain": [
       "[1, 2, 3, 4]"
      ]
     },
     "execution_count": 2,
     "metadata": {},
     "output_type": "execute_result"
    }
   ],
   "source": [
    "list(range(1,5))"
   ]
  },
  {
   "cell_type": "markdown",
   "metadata": {
    "slideshow": {
     "slide_type": "notes"
    }
   },
   "source": [
    "Dit begint op de list slicing syntax te lijken met een start en stop positie! Zou het ook de step kennen?"
   ]
  },
  {
   "cell_type": "code",
   "execution_count": 3,
   "metadata": {
    "slideshow": {
     "slide_type": "fragment"
    }
   },
   "outputs": [
    {
     "data": {
      "text/plain": [
       "[0, 2, 4, 6, 8]"
      ]
     },
     "execution_count": 3,
     "metadata": {},
     "output_type": "execute_result"
    }
   ],
   "source": [
    "list(range(0, 10, 2))"
   ]
  },
  {
   "cell_type": "markdown",
   "metadata": {
    "slideshow": {
     "slide_type": "subslide"
    }
   },
   "source": [
    "### Een inclusieve reeks\n",
    "\n",
    "Een willekeurig getal uit de reeks 0 **tot en met** 99?"
   ]
  },
  {
   "cell_type": "code",
   "execution_count": 4,
   "metadata": {
    "slideshow": {
     "slide_type": "fragment"
    }
   },
   "outputs": [
    {
     "data": {
      "text/plain": [
       "36"
      ]
     },
     "execution_count": 4,
     "metadata": {},
     "output_type": "execute_result"
    }
   ],
   "source": [
    "from random import choice\n",
    "\n",
    "choice(list(range(100)))"
   ]
  },
  {
   "cell_type": "markdown",
   "metadata": {
    "slideshow": {
     "slide_type": "subslide"
    }
   },
   "source": [
    "### Een precieze keus\n",
    "\n",
    "```python\n",
    "uniform(low, hi)\n",
    "```\n",
    "\n",
    "Kies een random *float* waarde tussen low en hi"
   ]
  },
  {
   "cell_type": "code",
   "execution_count": 5,
   "metadata": {
    "slideshow": {
     "slide_type": "fragment"
    }
   },
   "outputs": [
    {
     "data": {
      "text/plain": [
       "41.97009212529931"
      ]
     },
     "execution_count": 5,
     "metadata": {},
     "output_type": "execute_result"
    }
   ],
   "source": [
    "from random import uniform\n",
    "\n",
    "uniform(41.9, 42.1)"
   ]
  },
  {
   "cell_type": "markdown",
   "metadata": {
    "slideshow": {
     "slide_type": "notes"
    }
   },
   "source": [
    "Helaas, geen `42.0`. Python `float` waarden hebben 16 decimale posities aan precisie en die worden in dit geval allemaal gebruikt!"
   ]
  },
  {
   "cell_type": "markdown",
   "metadata": {
    "slideshow": {
     "slide_type": "slide"
    }
   },
   "source": [
    "## Een random functie\n",
    "\n",
    "```python\n",
    "from random import *\n",
    "\n",
    "def guess(hidden):\n",
    "    \"\"\"De computer raadt een geheim getal\n",
    "    \"\"\"\n",
    "    comp_guess = choice(list(range(100)))  # [0, ..., 99]\n",
    "    \n",
    "    if comp_guess == hidden:  # base case, eindelijk...\n",
    "        print(\"Gevonden!\")\n",
    "    else:                     # recursive case\n",
    "        guess(hidden)\n",
    "```"
   ]
  },
  {
   "cell_type": "markdown",
   "metadata": {
    "slideshow": {
     "slide_type": "notes"
    }
   },
   "source": [
    "De *docstring* verraadt al wat deze functie doet, de computer moet een getal raden dat wij hebben gekozen (een getal tussen 0 en 99), dit is de waarde van de parameter `hidden`. Als je de functie uitvoert zien we niet veel, alleen dat de computer op een gegeven moment het getal heeft gevonden. Laten we een paar aanpassingen maken."
   ]
  },
  {
   "cell_type": "markdown",
   "metadata": {
    "slideshow": {
     "slide_type": "subslide"
    }
   },
   "source": [
    "### Uitbreidingen\n",
    "\n",
    "- print steeds de keuze?\n",
    "- het aantal pogingen als returnwaarde?\n",
    "- dit gaat snel, kan het vertraagd worden?\n",
    "- het te verwachten aantal pogingen?!?"
   ]
  },
  {
   "cell_type": "markdown",
   "metadata": {
    "slideshow": {
     "slide_type": "subslide"
    }
   },
   "source": [
    "### Recursief pogingen tellen\n",
    "\n",
    "```python\n",
    "from random import *\n",
    "import time\n",
    "\n",
    "def guess(hidden):\n",
    "    \"\"\"De computer raadt een geheim getal\n",
    "    \"\"\"\n",
    "    comp_guess = choice(list(range(100)))  # [0, ..., 99]\n",
    "    \n",
    "    print(\"Ik koos\", comp_guess)  # print de keus\n",
    "    time.sleep(0.5)               # pauzeer een halve seconde\n",
    "    \n",
    "    if comp_guess == hidden:      # base case, eindelijk...\n",
    "        print(\"Gevonden!\")        # de computer is blij :)\n",
    "        return 1                  # poging\n",
    "    else:                         # recursive case\n",
    "        return 1 + guess(hidden)  # volgende poging!\n",
    "```"
   ]
  },
  {
   "cell_type": "markdown",
   "metadata": {
    "slideshow": {
     "slide_type": "notes"
    }
   },
   "source": [
    "Je ziet hier een aantal aanvullingen, bijvoorbeeld het printen van de keus, een halve seconde pauzeren na de keus en het tellen en teruggeven van het aantal keer dat is gekozen. Maar wat valt te zeggen over het te *verwachten* aantal pogingen? Ook dit probleem kan *recursief* worden benaderd!\n",
    "\n",
    "De kans dat de eerste keer het getal wordt geraden is $\\frac{1}{100}$ en $\\frac{99}{100}$ dat het *niet* wordt geraden (en weer opnieuw moet worden begonnen, maar we hebben al een eerste poging gedaan). Laat $E$ nu het te verwachten aantal pogingen zijn voor het raden van het juiste getal, op basis van de bovenstaande (recursieve) redenatie komen we dan tot een EERSTE geval $1\\cdot\\frac{1}{100}$ en een REST $(E + 1)\\cdot\\frac{99}{100}$ ($E + 1$ omdat de recursieve aanroep moet weten dat het EERSTE geval, een *eerste* poging, al is gedaan voor het verhogen van de telling). We kunnen dit nu schrijven als\n",
    "\n",
    "$$\n",
    "E = 1\\cdot\\frac{1}{100} + (E + 1)\\cdot\\frac{99}{100}\n",
    "$$\n",
    "\n",
    "en dit is een vergelijking die kan worden [opgelost](https://mathsolver.microsoft.com/nl/solve-problem/E%20%3D%20%201%20%60cdot%20%20%20%60frac%7B%201%20%20%7D%7B%20100%20%20%7D%20%20%2B%20%60left(%20E%2B1%20%20%60right)%20%20%20%60cdot%20%20%20%60frac%7B%2099%20%20%7D%7B%20100%20%20%7D) tot\n",
    "\n",
    "$$\n",
    "E = 100\n",
    "$$\n",
    "\n",
    "We kunnen dus 100 pogingen *verwachten*, maar wat betekent dit getal nu? In het geval dat we deze funtie een oneindig aantal keer zouden uitvoeren zal het gemiddeld aantal pogingen uitkomen op 100 (het gemiddelde van alle mogelijke uitkomsten)."
   ]
  },
  {
   "cell_type": "markdown",
   "metadata": {
    "slideshow": {
     "slide_type": "slide"
    }
   },
   "source": [
    "## Quiz\n",
    "\n",
    "```python\n",
    "from random import *\n",
    "```\n",
    "\n",
    "1. `choice([1,2,3,2])`: wat is de kans op 2?\n",
    "2. `choice(list(range(5)) + [4,2,4,2])`: wat is de kans op 4?\n",
    "3. `choice('1,2,3,4')`: wat is de meest waarschijnlijke returnwaarde?\n",
    "4. `choice(['1,2,3,4'])`: wat is de meest waarschijnlijke returnwaarde?\n",
    "5. `choice('[1,2,3,4]')`: wat is de meest waarschijnlijke returnwaarde?\n",
    "6. `choice(list(range(5)))`: welke kans is groter, een even of oneven getal?\n",
    "7. `uniform(-20.5, 0.5)`: Wat is de kans dat de returnwaarde groter dan 0 is?\n",
    "\n",
    "Syntax: welke is correct?\n",
    "\n",
    "8. `choice(0,1,2,3,4)`\n",
    "9. `choice([list(range(5))])`\n",
    "10. `choice[list(range(5))]`"
   ]
  },
  {
   "cell_type": "markdown",
   "metadata": {
    "slideshow": {
     "slide_type": "subslide"
    }
   },
   "source": [
    "### Oplossing\n",
    "\n",
    "1. $\\frac{2}{4} = \\frac{1}{2}$\n",
    "2. $\\frac{3}{9} = \\frac{1}{3}$ (`[0,1,2,3,4] + [4,2,4,2]` is `[0,1,2,3,4,4,2,4,2]`)\n",
    "3. `','` (kans is $\\frac{3}{7}$)\n",
    "4. `'1,2,3,4'` (kans is $\\frac{1}{1}$)\n",
    "5. `','` (kans is $\\frac{3}{9}$)\n",
    "6. even getal (kans is $\\frac{3}{5}$)\n",
    "7. $\\frac{1}{42}$ (in totaal 42 stappen van 0,5 ($\\frac{20,5 + 0,5}{0,5}$) , waarvan één stap groter dan 0)\n",
    "\n",
    "Syntax\n",
    "\n",
    "8. vierkante haken ontbreken voor een list: `choice([0,1,2,3,4])`\n",
    "9. is correct! (en geeft altijd `[0,1,2,3,4]` terug)\n",
    "10. `choice` is een functie, dus ronde haken voor openen en sluiten: `choice(list(range(5)))`"
   ]
  },
  {
   "cell_type": "markdown",
   "metadata": {
    "slideshow": {
     "slide_type": "slide"
    }
   },
   "source": [
    "## Twee Monte Carlo's"
   ]
  },
  {
   "cell_type": "markdown",
   "metadata": {
    "slideshow": {
     "slide_type": "slide"
    }
   },
   "source": [
    "![Casino Monte Carlo](images/5/casino_monte_carlo.jpg)"
   ]
  },
  {
   "cell_type": "markdown",
   "metadata": {
    "slideshow": {
     "slide_type": "notes"
    }
   },
   "source": [
    "Het casino van Monte Carlo, als je een gokje wilt wagen!"
   ]
  },
  {
   "cell_type": "markdown",
   "metadata": {
    "slideshow": {
     "slide_type": "subslide"
    }
   },
   "source": [
    "![Casino Monte Carlo](images/5/casino-royale-bond.jpg)\n",
    "\n",
    "Bond, James Bond (bekend van [Casino Royale](https://nl.wikipedia.org/wiki/Casino_Royale_(2006)) )"
   ]
  },
  {
   "cell_type": "markdown",
   "metadata": {
    "slideshow": {
     "slide_type": "subslide"
    }
   },
   "source": [
    "![Dartboard](images/5/500px-Dartboard_unlabeled.svg.png)"
   ]
  },
  {
   "cell_type": "markdown",
   "metadata": {
    "slideshow": {
     "slide_type": "notes"
    }
   },
   "source": [
    "In het boek wordt een methode beschreven voor een simulatie met dartboard om de waarde van $\\pi$ ([pi](https://nl.wikipedia.org/wiki/Pi_(wiskunde))) te bepalen. Maar, wat heeft dit te maken met Monte Carlo?!?"
   ]
  },
  {
   "cell_type": "markdown",
   "metadata": {
    "slideshow": {
     "slide_type": "skip"
    }
   },
   "source": [
    "<div><iframe width=\"560\" height=\"315\" src=\"https://www.youtube.com/embed/M34TO71SKGk\" frameborder=\"0\" allow=\"accelerometer; encrypted-media; gyroscope; picture-in-picture\" allowfullscreen></iframe></div>\n",
    "\n",
    "Als je het boek niet hebt dan geeft de volgende video een goede uitleg. Misschien is dit iets om zelf uit te proberen!"
   ]
  },
  {
   "cell_type": "markdown",
   "metadata": {
    "slideshow": {
     "slide_type": "subslide"
    }
   },
   "source": [
    "![Stanislaw Ulam](images/5/stan_ulam.jpg)\n",
    "\n",
    "Ulam, Stan Ulam (bekend van [Monte Carlo simulaties](https://nl.wikipedia.org/wiki/Monte-Carlosimulatie))"
   ]
  },
  {
   "cell_type": "markdown",
   "metadata": {
    "slideshow": {
     "slide_type": "notes"
    }
   },
   "source": [
    "Bij het spelen van solitaire tijdens zijn herstel na een operatie had Stan Ulam gedacht aan het spelen van honderden spelletjes om de kans op een succesvolle uitkomst statistisch in te schatten. Ulam was betrokken bij [ENIAC](https://en.wikipedia.org/wiki/ENIAC), de eerste elektronische computer voor algemeen gebruik en collega [John von Neumann](https://nl.wikipedia.org/wiki/John_von_Neumann) stelde in maart 1947 voor een vergelijkbaar probleem op ENIAC uit te werken.\n",
    "\n",
    "Waarom een \"Monte Carlo\" simulatie? Het is vernoemd naar [Monte Carlo](https://nl.wikipedia.org/wiki/Monte_Carlo_(Monaco)), waar je in het casino kan aanschuiven om verschillende gokspellen te spelen. De kans om te winnen kan je berekenen, maar ook simuleren met `random`izatie!."
   ]
  },
  {
   "cell_type": "markdown",
   "metadata": {
    "slideshow": {
     "slide_type": "slide"
    }
   },
   "source": [
    "## Monte Carlo in actie"
   ]
  },
  {
   "cell_type": "markdown",
   "metadata": {
    "slideshow": {
     "slide_type": "subslide"
    }
   },
   "source": [
    "### Dobbelen\n",
    "\n",
    "![Dubbel 6](images/5/dice-6.png)\n",
    "\n",
    "Hoeveel dubbel paar ogen gooi je als je N keer werpt?"
   ]
  },
  {
   "cell_type": "code",
   "execution_count": 6,
   "metadata": {
    "slideshow": {
     "slide_type": "subslide"
    }
   },
   "outputs": [
    {
     "data": {
      "text/plain": [
       "98"
      ]
     },
     "execution_count": 6,
     "metadata": {},
     "output_type": "execute_result"
    }
   ],
   "source": [
    "from random import *\n",
    "\n",
    "def count_doubles(N):\n",
    "    \"\"\"Tel aantal dubbele ogen bij N worpen\n",
    "    \"\"\"\n",
    "    if N == 0:    # base case\n",
    "        return 0  # 0 worpen, 0 dubbele ogen...\n",
    "\n",
    "    d1 = choice([1,2,3,4,5,6])     # eerste dobbelsteen\n",
    "    d2 = choice(list(range(1,7)))  # tweede dobbelsteen\n",
    "\n",
    "    if d1 != d2:\n",
    "        return 0 + count_doubles(N - 1)  # niet gelijk\n",
    "    else:\n",
    "        return 1 + count_doubles(N - 1)  # gelijk! tel 1 op\n",
    "\n",
    "count_doubles(600)"
   ]
  },
  {
   "cell_type": "markdown",
   "metadata": {
    "slideshow": {
     "slide_type": "notes"
    }
   },
   "source": [
    "Let op waar de dobbelstenen in de code worden geworpen, kan je zien hoe de worp voor beide wordt gesimuleerd? `choice([1,2,3,4,5,6])` en `choice(list(range(1,7)))` geven natuurlijk hetzelfde resultaat, de computer zal het meest blij zijn met de eerste variant omdat het efficënter is. In het eerste geval is de list als argument voor `choice` al *gedefinieerd*, in het tweede geval moet het steeds weer worden *gegenereerd* (aangemaakt).\n",
    "\n",
    "Bij elke worp zijn $6 \\times 6 = 36$ mogelijke combinaties van ogen mogelijk. 6 van deze mogelijkheden zijn gelijke paren. De kans op een gelijk paar ogen is dus $\\frac{6}{36}$ wat gelijk is aan $\\frac{1}{6}$ en deze simulatie komt daar héél dichtbij!"
   ]
  },
  {
   "cell_type": "markdown",
   "metadata": {
    "slideshow": {
     "slide_type": "subslide"
    }
   },
   "source": [
    "### Monte Carlo Monty Hall\n",
    "\n",
    "Het [driedeurenprobleem](https://nl.wikipedia.org/wiki/Driedeurenprobleem)"
   ]
  },
  {
   "cell_type": "markdown",
   "metadata": {
    "slideshow": {
     "slide_type": "subslide"
    }
   },
   "source": [
    "![Let's make a deal](images/5/monty_hall.jpg)"
   ]
  },
  {
   "cell_type": "markdown",
   "metadata": {
    "slideshow": {
     "slide_type": "notes"
    }
   },
   "source": [
    "In de jaren 60 van de vorige eeuw kon in de spelshow \"Let's Make a Deal\", gepresenteerd door [Monty Hall](https://nl.wikipedia.org/wiki/Monty_Hall), een auto worden gewonnen door één van de drie deuren te kiezen (achter de andere twee deuren stond een geit!). "
   ]
  },
  {
   "cell_type": "markdown",
   "metadata": {
    "slideshow": {
     "slide_type": "subslide"
    }
   },
   "source": [
    "> Stel dat je deelneemt aan een spelprogramma en je mag kiezen uit drie deuren: achter een van de deuren staat een auto, achter de andere twee staan geiten. Je kiest een deur, zeg nr. 1, en de presentator, die weet wat er achter de deuren staat, opent een andere deur, zeg nr. 3, met een geit erachter. Hij zegt dan tegen je: \"Zou je deur nr. 2 willen kiezen?\" Is het in je voordeel om van deur te wisselen?"
   ]
  },
  {
   "cell_type": "markdown",
   "metadata": {
    "slideshow": {
     "slide_type": "notes"
    }
   },
   "source": [
    "Wat zou het meest succes (auto!) opleveren, bij de eerste keus blijven of van deur wisselen? Dit dilemma is bekend geworden als het \"Monty Hall\"- of driedeurenprobleem. Het blijkt dat de beste kans op winnen het wisselen van deur is!"
   ]
  },
  {
   "cell_type": "markdown",
   "metadata": {
    "slideshow": {
     "slide_type": "subslide"
    }
   },
   "source": [
    "![Spam and PMFP](images/5/spam_pmfp.png)"
   ]
  },
  {
   "cell_type": "markdown",
   "metadata": {
    "slideshow": {
     "slide_type": "notes"
    }
   },
   "source": [
    "In plaats van een auto wordt onze prijs [SPAM](https://nl.wikipedia.org/wiki/Spam_(vlees)), ook wel bekend van jouw [mailbox](https://nl.wikipedia.org/wiki/Spam_(post)). SPAM is ... een ingeblikt gekookt vleesproduct en een anonieme variant (Potted Meat Food Product, of misschien [PMFP](https://www.urbandictionary.com/define.php?term=PMFP)) wordt de geit."
   ]
  },
  {
   "cell_type": "code",
   "execution_count": 7,
   "metadata": {
    "slideshow": {
     "slide_type": "subslide"
    }
   },
   "outputs": [
    {
     "name": "stdout",
     "output_type": "stream",
     "text": [
      "Bij blijven winnen we 187 keer\n",
      "Bij wisselen winnen we 404 keer\n"
     ]
    }
   ],
   "source": [
    "from random import *\n",
    "\n",
    "def MCMH(init, sors, N):\n",
    "    \"\"\"Speel Let's Make a Deal N keer\n",
    "    \n",
    "    Geeft het aantal keer dat *Spam!* wordt gewonnen\n",
    "    \"\"\"\n",
    "    if N == 0:  # base case\n",
    "        return 0\n",
    "\n",
    "    prz_door = choice([1,2,3])  # de deur met de prijs!\n",
    "\n",
    "    if init == prz_door: \n",
    "        if sors == 'stay':\n",
    "            result = 'Spam!'\n",
    "        else: \n",
    "            result = 'pmfp.'\n",
    "    else: \n",
    "        if sors == 'switch':\n",
    "            result = 'Spam!'\n",
    "        else: \n",
    "            result = 'pmfp.'      \n",
    "\n",
    "    if result == 'Spam!':  \n",
    "        return 1 + MCMH(init, sors, N-1)\n",
    "    else:\n",
    "        return 0 + MCMH(init, sors, N-1)\n",
    "\n",
    "print('Bij blijven winnen we', MCMH(1, 'stay', 600), 'keer')\n",
    "print('Bij wisselen winnen we', MCMH(1, 'switch', 600), 'keer')"
   ]
  },
  {
   "cell_type": "markdown",
   "metadata": {
    "slideshow": {
     "slide_type": "notes"
    }
   },
   "source": [
    "De functie `MCMH` accepteert drie parameters, `init` is de initiële keus (deur 1, 2 of 3, de beginsituatie), `sors` is `'stay'` (blijf) of `'switch'` (wissel) en `N` het aantal keer dat het spel moet worden gesimuleerd.\n",
    "\n",
    "Dit is al een behoorlijk gecompliceerd programma, lees het regel voor regel door en probeer te begrijpen wat elke stap doet!"
   ]
  },
  {
   "cell_type": "markdown",
   "metadata": {
    "slideshow": {
     "slide_type": "subslide"
    }
   },
   "source": [
    "![A few minutes later, the goat from behind door C drives away in the car.](images/5/xkcd_monty_hall.png)\n",
    "\n",
    "Maar als je liever een geit wint?"
   ]
  },
  {
   "cell_type": "markdown",
   "metadata": {
    "slideshow": {
     "slide_type": "notes"
    }
   },
   "source": [
    "Een uitdaging, hoe zou je de simulatie schrijven als je liever een geit (of, pmfp) wint?!?"
   ]
  },
  {
   "cell_type": "markdown",
   "metadata": {
    "slideshow": {
     "slide_type": "slide"
    }
   },
   "source": [
    "### Dichter bij huis\n",
    "\n",
    "Een scenario:\n",
    "\n",
    "> Een overwerkte student gaat op pad na een \"late-night\" ontbijt (of lunch, wie zal het zeggen). De student strompelt willekeurig steeds een stap richting huis of naar de campus ...\n",
    "\n",
    "Zodra de student thuis of op de campus aankomt is de reis voorbij."
   ]
  },
  {
   "cell_type": "markdown",
   "metadata": {
    "slideshow": {
     "slide_type": "notes"
    }
   },
   "source": [
    "Als de student steeds willekeurige stappen neem óf naar huis óf naar de campus, waar komt de student dan uiteindelijk terecht? Dit scenario kan worden uitgewerkt in een programma en is een voorbeeld van een \"[random walk](https://nl.wikipedia.org/wiki/Toevalsbeweging)\"!"
   ]
  }
 ],
 "metadata": {
  "kernelspec": {
   "display_name": "Python 3 (ipykernel)",
   "language": "python",
   "name": "python3"
  },
  "language_info": {
   "codemirror_mode": {
    "name": "ipython",
    "version": 3
   },
   "file_extension": ".py",
   "mimetype": "text/x-python",
   "name": "python",
   "nbconvert_exporter": "python",
   "pygments_lexer": "ipython3",
   "version": "3.9.5"
  }
 },
 "nbformat": 4,
 "nbformat_minor": 4
}
