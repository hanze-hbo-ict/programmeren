{
 "cells": [
  {
   "cell_type": "markdown",
   "metadata": {},
   "source": [
    "# Programmeren"
   ]
  },
  {
   "cell_type": "markdown",
   "metadata": {
    "slideshow": {
     "slide_type": "slide"
    },
    "tags": []
   },
   "source": [
    "## Wat is programmeren\n",
    "\n",
    "**ICT != programmeren**"
   ]
  },
  {
   "cell_type": "markdown",
   "metadata": {
    "slideshow": {
     "slide_type": "notes"
    },
    "tags": []
   },
   "source": [
    "Eerder hebben we gezien dat programmeren maar een onderdeel is van informatica. Het is alleen van belang bij de vraag of je een proces kan ontwerpen voor het oplossen van een probleem. Of met ander woorden, het bedenken van *een recept*. (`!=` betekent *niet gelijk aan*, dit is programmacode!)"
   ]
  },
  {
   "cell_type": "markdown",
   "metadata": {
    "slideshow": {
     "slide_type": "subslide"
    }
   },
   "source": [
    "## Programmeren\n",
    "\n",
    "- het schrijven van recepten\n",
    "- het leren van een vreemde taal"
   ]
  },
  {
   "cell_type": "markdown",
   "metadata": {
    "slideshow": {
     "slide_type": "notes"
    }
   },
   "source": [
    "Leren programmeren gaat zowel over het kunnen schrijven van een recept maar ook het leren van een vreemde taal!"
   ]
  },
  {
   "cell_type": "markdown",
   "metadata": {
    "slideshow": {
     "slide_type": "subslide"
    }
   },
   "source": [
    "![Not a ‘math person’?](images/2/uw_math_person_coding.png)"
   ]
  },
  {
   "cell_type": "markdown",
   "metadata": {
    "slideshow": {
     "slide_type": "notes"
    }
   },
   "source": [
    "Het leren van een programmertaal is niet veel anders dan het leren van een natuurlijke taal als Frans of Engels. Verwacht dan ook dat je het pas leert door het te doen. En of je nou [wel of niet goed bent in wiskunde](https://www.washington.edu/news/2020/03/02/not-a-math-person-you-may-be-better-at-learning-to-code-than-you-think/) (zoals soms wordt gezegd), het heeft met het leren van een programmertaal niet heel veel te maken."
   ]
  },
  {
   "cell_type": "markdown",
   "metadata": {
    "slideshow": {
     "slide_type": "subslide"
    }
   },
   "source": [
    "![Research](images/2/Prat-Scientific-Reports-Photo-1.jpg)"
   ]
  },
  {
   "cell_type": "markdown",
   "metadata": {
    "slideshow": {
     "slide_type": "notes"
    }
   },
   "source": [
    "Door onderzoek komen we steeds meer te weten welke vaardigheden een rol spelen bij leren programmeren. Een onderzoeker demonstreert hier hoe de hersenactiviteit wordt gemeten bij programmeren om te bepalen welke hersengebieden worden aangesproken tijdens programmeren.\n",
    "\n",
    "Onderzoek maakt steeds beter duidelijk dat een natuurlijke aanleg voor het leren van talen een veel betere voorspeller is van kunnen leren programmeren dan basiskennis wiskunde of rekenen. Dit komt omdat het schrijven van code ook het leren van een tweede taal betekent, het vermogen om de woordenschat en de grammatica van die taal te leren, en hoe deze vaardigheid een rol speelt om ideeën en intenties over te brengen {cite}`eckart_2020,prat_relating_2020`."
   ]
  },
  {
   "cell_type": "markdown",
   "metadata": {
    "slideshow": {
     "slide_type": "slide"
    },
    "tags": []
   },
   "source": [
    "## Python\n",
    "\n",
    "![Guido van Rossum](images/2/guido.jpg)"
   ]
  },
  {
   "cell_type": "markdown",
   "metadata": {
    "slideshow": {
     "slide_type": "notes"
    }
   },
   "source": [
    "De taal Python (vermoemd naar [Monty Python](https://en.wikipedia.org/wiki/Monty_Python)) is bedacht door [Guido van Rossum](https://en.wikipedia.org/wiki/Guido_van_Rossum) toen hij werkte aan de Universiteit van Amsterdam. De eerste versie verscheen in 1991 en is inmiddels uitgegroeid tot één van de meest populaire programmeertalen!"
   ]
  },
  {
   "cell_type": "markdown",
   "metadata": {
    "slideshow": {
     "slide_type": "subslide"
    }
   },
   "source": [
    "## De vreemde taal Python\n",
    "\n",
    "- syntax\n",
    "- semantiek\n",
    "- intentie"
   ]
  },
  {
   "cell_type": "markdown",
   "metadata": {
    "slideshow": {
     "slide_type": "notes"
    }
   },
   "source": [
    "Of met andere woorden:\n",
    "\n",
    "- hoe ziet het er uit (spelling)\n",
    "- wat het doet (betekenis)\n",
    "- wat het zou moeten doen (bedoeling)\n",
    "\n",
    "Deze kenmerken komen overeen met die van natuurlijke talen, bijvoorbeeld Nederlands!"
   ]
  },
  {
   "cell_type": "markdown",
   "metadata": {
    "slideshow": {
     "slide_type": "subslide"
    },
    "tags": []
   },
   "source": [
    "### Intentie\n",
    "\n",
    "Wat het zou moeten doen: **gewenste output**\n",
    "\n",
    "```python\n",
    "import random\n",
    "\n",
    "name = input(\"Hoi, wie ben jij? \")\n",
    "\n",
    "if name == \"Bas\" or name == \"Marian\":  # is het Bas of Marian?\n",
    "    print(\"Ik ben offline, probeer het later.\")\n",
    "\n",
    "elif name == \"Alex\":  # of is het Alex?\n",
    "    print(\"Willem Alex...? Nee? Oh.\")\n",
    "\n",
    "else:  # anders...\n",
    "    print(\"Welkom\", name, \"!\")\n",
    "    my_choice = random.choice([\"steen\", \"papier\", \"schaar\"])\n",
    "    print(\"Mijn favoriet is\", my_choice, \"!\")\n",
    "```"
   ]
  },
  {
   "cell_type": "markdown",
   "metadata": {
    "slideshow": {
     "slide_type": "notes"
    },
    "tags": []
   },
   "source": [
    "De *bedoeling* is dat dit programma een gebruiker op de juiste manier groet en dit is de door ons (mensen) *gewenste output* van het programma."
   ]
  },
  {
   "cell_type": "markdown",
   "metadata": {
    "slideshow": {
     "slide_type": "subslide"
    },
    "tags": []
   },
   "source": [
    "### Semantiek\n",
    "\n",
    "Wat het doet: **geproduceerde output**\n",
    "\n",
    "```python\n",
    "import random\n",
    "\n",
    "name = input(\"Hoi, wie ben jij? \")\n",
    "\n",
    "if name == \"Bas\" or name == \"Marian\":  # is het Bas of Marian?\n",
    "    print(\"Ik ben offline, probeer het later.\")\n",
    "\n",
    "elif name == \"Alex\":  # of is het Alex?\n",
    "    print(\"Willem Alex...? Nee? Oh.\")\n",
    "\n",
    "else:  # anders...\n",
    "    print(\"Welkom\", name, \"!\")\n",
    "    my_choice = random.choice([\"steen\", \"papier\", \"schaar\"])\n",
    "    print(\"Mijn favoriet is\", my_choice, \"!\")\n",
    "```"
   ]
  },
  {
   "cell_type": "markdown",
   "metadata": {
    "slideshow": {
     "slide_type": "notes"
    },
    "tags": []
   },
   "source": [
    "De instructies hebben voor de computer *betekenis* zolang het ze kan uitvoeren en dit levert uiteindelijk door de computer *geproduceerde output* op."
   ]
  },
  {
   "cell_type": "markdown",
   "metadata": {
    "slideshow": {
     "slide_type": "subslide"
    },
    "tags": []
   },
   "source": [
    "![Flowchart](images/2/flow.png)"
   ]
  },
  {
   "cell_type": "markdown",
   "metadata": {
    "slideshow": {
     "slide_type": "slide"
    },
    "tags": []
   },
   "source": [
    "### Syntax\n",
    "\n",
    "Hoe ziet het er uit: **spellingsregels**"
   ]
  },
  {
   "cell_type": "markdown",
   "metadata": {
    "slideshow": {
     "slide_type": "subslide"
    }
   },
   "source": [
    "![Het Groene Boekje](images/2/groene_boekje_2015.png)"
   ]
  },
  {
   "cell_type": "markdown",
   "metadata": {
    "slideshow": {
     "slide_type": "notes"
    }
   },
   "source": [
    "Vergelijk syntax met wat je kent van de Nederlandse taal. Het Groene Boekje is de gebruikelijke naam van de Woordenlijst Nederlandse Taal, een overzicht van de officiële spelling van Nederlandse woorden, met onder andere het gebruik van dubbele en enkele klinkers, hoofdletters, koppeltekens en vervoegingen van werkwoorden. Met andere woorden, alles wat met de regels van de taal te maken heeft!"
   ]
  },
  {
   "cell_type": "markdown",
   "metadata": {
    "slideshow": {
     "slide_type": "subslide"
    }
   },
   "source": [
    "## Python syntax\n",
    "\n",
    "- gebruik van leestekens (spatie, punt, ...)\n",
    "- speciale woorden (\"keywords\")\n",
    "- formattering\n",
    "- hoe het gedrag beïnvloedt"
   ]
  },
  {
   "cell_type": "markdown",
   "metadata": {
    "slideshow": {
     "slide_type": "notes"
    }
   },
   "source": [
    "En met \"hoe het gedrag wordt beïnvloedt\" bedoelen we dat het gebruik van syntax kan uitmaken hoe Python zich gedraagt, of *wat het doet*. Gelukkig is Python syntax een stuk minder complex dan talen als Nederlands (Het Groene Boekje telt meer dan 1200 pagina's!)."
   ]
  },
  {
   "cell_type": "code",
   "execution_count": 1,
   "metadata": {
    "slideshow": {
     "slide_type": "subslide"
    }
   },
   "outputs": [
    {
     "data": {
      "text/plain": [
       "'4242'"
      ]
     },
     "execution_count": 1,
     "metadata": {},
     "output_type": "execute_result"
    }
   ],
   "source": [
    "\"42\" * 2"
   ]
  },
  {
   "cell_type": "markdown",
   "metadata": {
    "slideshow": {
     "slide_type": "notes"
    }
   },
   "source": [
    "Je ziet hier correcte Python syntax en je had het getal 42 willen vermenigvuldigen met 2. Maar de uitkomst is waarschijnlijk heel anders dan verwacht!"
   ]
  },
  {
   "cell_type": "code",
   "execution_count": 6,
   "metadata": {
    "slideshow": {
     "slide_type": "subslide"
    }
   },
   "outputs": [
    {
     "data": {
      "text/plain": [
       "84"
      ]
     },
     "execution_count": 6,
     "metadata": {},
     "output_type": "execute_result"
    }
   ],
   "source": [
    "42 * 2"
   ]
  },
  {
   "cell_type": "markdown",
   "metadata": {
    "slideshow": {
     "slide_type": "notes"
    }
   },
   "source": [
    "Dit lijkt meer op de verwachte uitkomst. Blijkbaar maakt het gebruik van aanhalingstekens uit en is het voor Python een manier om betekenis te geven aan de input waar het in het eerste geval 42 als \"tekst\" leest, en in het tweede geval als getal (onze bedoeling!)."
   ]
  },
  {
   "cell_type": "markdown",
   "metadata": {
    "slideshow": {
     "slide_type": "subslide"
    },
    "tags": []
   },
   "source": [
    "### `SyntaxError`\n",
    "\n",
    "Oftwel Python's manier om jou te vertellen dat de syntax niet correct is."
   ]
  },
  {
   "cell_type": "code",
   "execution_count": 9,
   "metadata": {
    "slideshow": {
     "slide_type": "subslide"
    }
   },
   "outputs": [
    {
     "ename": "SyntaxError",
     "evalue": "EOL while scanning string literal (<ipython-input-9-e41f1bdae7dc>, line 1)",
     "output_type": "error",
     "traceback": [
      "\u001b[1;36m  File \u001b[1;32m\"<ipython-input-9-e41f1bdae7dc>\"\u001b[1;36m, line \u001b[1;32m1\u001b[0m\n\u001b[1;33m    print(\"Steen, papier of schaar?')\u001b[0m\n\u001b[1;37m                                     ^\u001b[0m\n\u001b[1;31mSyntaxError\u001b[0m\u001b[1;31m:\u001b[0m EOL while scanning string literal\n"
     ]
    }
   ],
   "source": [
    "print(\"Steen, papier of schaar?')"
   ]
  },
  {
   "cell_type": "markdown",
   "metadata": {
    "slideshow": {
     "slide_type": "notes"
    }
   },
   "source": [
    "Python zegt ons hier dat we een syntaxfout hebben gemaakt en probeert met de `^` aan te geven waar het ongeveer de fout heeft gevonden. Kan je de fout ontdekken? En wat kan je hier uit afleiden? We gaan in de opdrachten uitgebreid stilstaan bij deze en andere fouten en je wordt zelfs gevraagd om zoveel mogelijk fouten te maken!"
   ]
  },
  {
   "cell_type": "markdown",
   "metadata": {
    "slideshow": {
     "slide_type": "slide"
    }
   },
   "source": [
    "## De uitdaging van programmeren\n",
    "\n",
    "- syntax\n",
    "- semantiek\n",
    "- intentie"
   ]
  },
  {
   "cell_type": "markdown",
   "metadata": {
    "slideshow": {
     "slide_type": "notes"
    },
    "tags": []
   },
   "source": [
    "Als het gaat om programmeren, waar zit nu precies de uitdaging? Laten we de bovenstaande punten voor het gemak vertalen naar de volgende:"
   ]
  },
  {
   "cell_type": "markdown",
   "metadata": {
    "slideshow": {
     "slide_type": "subslide"
    }
   },
   "source": [
    "![Cyclus](images/2/cycle.png)"
   ]
  },
  {
   "cell_type": "markdown",
   "metadata": {
    "slideshow": {
     "slide_type": "notes"
    }
   },
   "source": [
    "Het is deze cyclus die de uitdaging van programmeren illustreert en vaak zal je deze cyclus meerdere keren moeten doorlopen om tot een gewenste uitkomst te komen..."
   ]
  },
  {
   "cell_type": "markdown",
   "metadata": {
    "slideshow": {
     "slide_type": "skip"
    }
   },
   "source": [
    "## Quiz"
   ]
  },
  {
   "cell_type": "markdown",
   "metadata": {
    "slideshow": {
     "slide_type": "subslide"
    },
    "tags": []
   },
   "source": [
    "```python\n",
    "  import random\n",
    "    \n",
    "user = input( \"Kies jouw wapen! \" )\n",
    "\n",
    "comp = random.choice( ['steen','papier','schaar\")\n",
    "\n",
    "print('user (jij) koos:', 'user')\n",
    "print('comp (ik!) koos:' comp)\n",
    "                       \n",
    "if user == rock and comp = 'paper'\n",
    "      print('Het resultaat is dat JIJ VERLIEST.'\n",
    "    print('tenzij je een 'docent' bent, dan WIN JE!')\n",
    "```"
   ]
  },
  {
   "cell_type": "markdown",
   "metadata": {
    "slideshow": {
     "slide_type": "subslide"
    },
    "tags": []
   },
   "source": [
    "### Vraag 1\n",
    "\n",
    "1.   Probeer zoveel mogelijk fouten te vinden (en te verbeteren!) in de bovenstaande code\n",
    "\n",
    "2.   De regel \n",
    "\n",
    "     ```python\n",
    "     user = input( \"Kies jouw wapen! \" )\n",
    "     ```\n",
    "    \n",
    "     doet **3** dingen, kan jij ze noemen?\n",
    "\n",
    "3.   Welke 7 [leestekens](https://nl.wikipedia.org/wiki/Leesteken) (punctuatie) zie jij gebruikt worden?\n"
   ]
  }
 ],
 "metadata": {
  "kernelspec": {
   "display_name": "Python 3 (ipykernel)",
   "language": "python",
   "name": "python3"
  },
  "language_info": {
   "codemirror_mode": {
    "name": "ipython",
    "version": 3
   },
   "file_extension": ".py",
   "mimetype": "text/x-python",
   "name": "python",
   "nbconvert_exporter": "python",
   "pygments_lexer": "ipython3",
   "version": "3.9.5"
  }
 },
 "nbformat": 4,
 "nbformat_minor": 4
}
