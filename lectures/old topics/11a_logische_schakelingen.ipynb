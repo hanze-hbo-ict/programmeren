{
 "cells": [
  {
   "cell_type": "markdown",
   "metadata": {
    "slideshow": {
     "slide_type": "slide"
    }
   },
   "source": [
    "# Logische schakelingen\n",
    "\n",
    "Het is aan (of uit)"
   ]
  },
  {
   "cell_type": "markdown",
   "metadata": {
    "slideshow": {
     "slide_type": "subslide"
    }
   },
   "source": [
    "## Creatief met Caesar"
   ]
  },
  {
   "cell_type": "markdown",
   "metadata": {
    "slideshow": {
     "slide_type": "fragment"
    }
   },
   "source": [
    "```python\n",
    "def decipher(s):\n",
    "    \"\"\"TESIJHYDW\n",
    "    \n",
    "    je tusyfxuh \n",
    "    jxyi tesijhydw, zkij hkd \n",
    "    tusyfxuh ed yj.\n",
    "    \"\"\"\n",
    "```"
   ]
  },
  {
   "cell_type": "markdown",
   "metadata": {
    "slideshow": {
     "slide_type": "fragment"
    }
   },
   "source": [
    "```python\n",
    "def decipher(s):\n",
    "    \"\"\"DOCSTRING\n",
    "    \n",
    "    to decipher \n",
    "    this docstring, just run \n",
    "    decipher on it.\n",
    "    \"\"\"\n",
    "```"
   ]
  },
  {
   "cell_type": "markdown",
   "metadata": {
    "slideshow": {
     "slide_type": "subslide"
    }
   },
   "source": [
    "```python\n",
    "def decipher(s):\n",
    "    \"\"\"Soms werkt dit\n",
    "    \"\"\"\n",
    "    return encipher(s, 3)\n",
    "```"
   ]
  },
  {
   "cell_type": "markdown",
   "metadata": {
    "slideshow": {
     "slide_type": "notes"
    }
   },
   "source": [
    "De docstring is in ieder geval correct!"
   ]
  },
  {
   "cell_type": "markdown",
   "metadata": {
    "slideshow": {
     "slide_type": "fragment"
    }
   },
   "source": [
    "\n",
    "> Computation is just a physics experiment that always works!\n",
    ">\n",
    "> -- Richard Feynman\n"
   ]
  },
  {
   "cell_type": "markdown",
   "metadata": {
    "slideshow": {
     "slide_type": "slide"
    }
   },
   "source": [
    "## Schakelingen\n",
    "\n",
    "Het ontwerp van fysieke apparaten die altijd werken"
   ]
  },
  {
   "cell_type": "markdown",
   "metadata": {
    "slideshow": {
     "slide_type": "fragment"
    }
   },
   "source": [
    "In een computer wordt elk bit gerepresenteerd door een voltage\n",
    "\n",
    "- **1** is 5 volt\n",
    "- **0** is 0 volt"
   ]
  },
  {
   "cell_type": "markdown",
   "metadata": {
    "slideshow": {
     "slide_type": "notes"
    }
   },
   "source": [
    "Berekeningen zijn het *bewust combineren* van deze voltages."
   ]
  },
  {
   "cell_type": "markdown",
   "metadata": {
    "slideshow": {
     "slide_type": "subslide"
    }
   },
   "source": [
    "![ADDER circuit](images/11/adder_circuit.png)"
   ]
  },
  {
   "cell_type": "markdown",
   "metadata": {
    "slideshow": {
     "slide_type": "subslide"
    }
   },
   "source": [
    "## Alle berekeningen zijn functies van bits\n",
    "\n",
    "Een functie voor bitsgewijs optellen"
   ]
  },
  {
   "cell_type": "markdown",
   "metadata": {
    "slideshow": {
     "slide_type": "subslide"
    }
   },
   "source": [
    "\n",
    "| A    | B    | add   |\n",
    "|------|------|-------|\n",
    "| `00` | `00` | `000` |\n",
    "| `00` | `01` | `001` |\n",
    "| `00` | `10` | `010` |\n",
    "| `00` | `11` | `011` |\n",
    "| `01` | `00` | `001` |\n",
    "| `01` | `01` | `010` |\n",
    "| `01` | `10` | `011` |\n",
    "| `01` | `11` | `100` |\n",
    "| `10` | `00` | `010` |\n",
    "| `10` | `01` | `011` |\n",
    "| `10` | `10` | `100` |\n",
    "| `10` | `11` | `101` |\n",
    "| `11` | `00` | `011` |\n",
    "| `11` | `01` | `100` |\n",
    "| `11` | `10` | `101` |\n",
    "| `11` | `11` | `110` |\n"
   ]
  },
  {
   "cell_type": "markdown",
   "metadata": {
    "slideshow": {
     "slide_type": "notes"
    }
   },
   "source": [
    "Vier bits als input, drie bits als output."
   ]
  },
  {
   "cell_type": "markdown",
   "metadata": {
    "slideshow": {
     "slide_type": "subslide"
    }
   },
   "source": [
    "### `add_b`\n",
    "\n",
    "Een functie voor bitsgewijs optellen"
   ]
  },
  {
   "cell_type": "code",
   "execution_count": 1,
   "metadata": {
    "slideshow": {
     "slide_type": "fragment"
    }
   },
   "outputs": [],
   "source": [
    "def add_b(s, t):\n",
    "    \"\"\"Add two binary values\n",
    "    \"\"\"\n",
    "    if len(s) == 0:\n",
    "        return t\n",
    "    elif len(t) == 0:\n",
    "        return s\n",
    "\n",
    "    if s[-1] == \"0\" and t[-1] == \"0\":\n",
    "        return add_b(s[:-1], t[:-1]) + \"0\"  # 0 + 0 == 0\n",
    "    elif s[-1] == \"0\" and t[-1] == \"1\":\n",
    "        return add_b(s[:-1], t[:-1]) + \"1\"  # 0 + 1 == 1\n",
    "    elif s[-1] == \"1\" and t[-1] == \"0\":\n",
    "        return add_b(s[:-1], t[:-1]) + \"1\"  # 1 + 0 == 1\n",
    "    else:\n",
    "        carry = add_b(\"1\", s[:-1])\n",
    "        return add_b(carry, t[:-1]) + \"0\"   # 1 + 1 == 0 carry 1"
   ]
  },
  {
   "cell_type": "markdown",
   "metadata": {
    "slideshow": {
     "slide_type": "subslide"
    }
   },
   "source": [
    "$$\n",
    "\\begin{array}{r}\n",
    "1\\phantom{0}\\\\\n",
    "\\phantom{0}11\\\\\n",
    "+\\;\\phantom{0}11\\\\\n",
    "\\hline\n",
    "110\n",
    "\\end{array}\n",
    "$$"
   ]
  },
  {
   "cell_type": "code",
   "execution_count": 2,
   "metadata": {
    "slideshow": {
     "slide_type": "fragment"
    }
   },
   "outputs": [
    {
     "data": {
      "text/plain": [
       "'110'"
      ]
     },
     "execution_count": 2,
     "metadata": {},
     "output_type": "execute_result"
    }
   ],
   "source": [
    "add_b(\"11\", \"11\")"
   ]
  },
  {
   "cell_type": "markdown",
   "metadata": {
    "slideshow": {
     "slide_type": "subslide"
    }
   },
   "source": [
    "![add_b_11_11](images/11/add_b_11_11.png)"
   ]
  },
  {
   "cell_type": "markdown",
   "metadata": {
    "slideshow": {
     "slide_type": "slide"
    }
   },
   "source": [
    "## Booleanse expressies\n",
    "\n",
    "`and`, `or` en `not`"
   ]
  },
  {
   "cell_type": "code",
   "execution_count": 3,
   "metadata": {
    "slideshow": {
     "slide_type": "fragment"
    }
   },
   "outputs": [],
   "source": [
    "x = 1\n",
    "y = 0"
   ]
  },
  {
   "cell_type": "code",
   "execution_count": 4,
   "metadata": {
    "slideshow": {
     "slide_type": "fragment"
    }
   },
   "outputs": [
    {
     "data": {
      "text/plain": [
       "False"
      ]
     },
     "execution_count": 4,
     "metadata": {},
     "output_type": "execute_result"
    }
   ],
   "source": [
    "x == 1 and y == 1"
   ]
  },
  {
   "cell_type": "code",
   "execution_count": 5,
   "metadata": {
    "slideshow": {
     "slide_type": "fragment"
    }
   },
   "outputs": [
    {
     "data": {
      "text/plain": [
       "True"
      ]
     },
     "execution_count": 5,
     "metadata": {},
     "output_type": "execute_result"
    }
   ],
   "source": [
    "x == 1 or y == 1"
   ]
  },
  {
   "cell_type": "code",
   "execution_count": 6,
   "metadata": {
    "slideshow": {
     "slide_type": "fragment"
    }
   },
   "outputs": [
    {
     "data": {
      "text/plain": [
       "False"
      ]
     },
     "execution_count": 6,
     "metadata": {},
     "output_type": "execute_result"
    }
   ],
   "source": [
    "not x"
   ]
  },
  {
   "cell_type": "code",
   "execution_count": 7,
   "metadata": {
    "slideshow": {
     "slide_type": "fragment"
    }
   },
   "outputs": [
    {
     "data": {
      "text/plain": [
       "True"
      ]
     },
     "execution_count": 7,
     "metadata": {},
     "output_type": "execute_result"
    }
   ],
   "source": [
    "not y"
   ]
  },
  {
   "cell_type": "markdown",
   "metadata": {
    "slideshow": {
     "slide_type": "subslide"
    }
   },
   "source": [
    "### `True` en `False`\n",
    "\n",
    "Wat representeren `True` en `False`?"
   ]
  },
  {
   "cell_type": "code",
   "execution_count": 8,
   "metadata": {
    "slideshow": {
     "slide_type": "fragment"
    }
   },
   "outputs": [
    {
     "data": {
      "text/plain": [
       "True"
      ]
     },
     "execution_count": 8,
     "metadata": {},
     "output_type": "execute_result"
    }
   ],
   "source": [
    "True == 1"
   ]
  },
  {
   "cell_type": "code",
   "execution_count": 9,
   "metadata": {
    "slideshow": {
     "slide_type": "fragment"
    }
   },
   "outputs": [
    {
     "data": {
      "text/plain": [
       "True"
      ]
     },
     "execution_count": 9,
     "metadata": {},
     "output_type": "execute_result"
    }
   ],
   "source": [
    "False == 0"
   ]
  },
  {
   "cell_type": "code",
   "execution_count": 10,
   "metadata": {
    "slideshow": {
     "slide_type": "fragment"
    }
   },
   "outputs": [
    {
     "data": {
      "text/plain": [
       "True"
      ]
     },
     "execution_count": 10,
     "metadata": {},
     "output_type": "execute_result"
    }
   ],
   "source": [
    "True - 1 == False"
   ]
  },
  {
   "cell_type": "code",
   "execution_count": 11,
   "metadata": {
    "slideshow": {
     "slide_type": "fragment"
    }
   },
   "outputs": [
    {
     "data": {
      "text/plain": [
       "42"
      ]
     },
     "execution_count": 11,
     "metadata": {},
     "output_type": "execute_result"
    }
   ],
   "source": [
    "True + 41"
   ]
  },
  {
   "cell_type": "code",
   "execution_count": 12,
   "metadata": {
    "slideshow": {
     "slide_type": "fragment"
    }
   },
   "outputs": [
    {
     "data": {
      "text/plain": [
       "False"
      ]
     },
     "execution_count": 12,
     "metadata": {},
     "output_type": "execute_result"
    }
   ],
   "source": [
    "False and False"
   ]
  },
  {
   "cell_type": "markdown",
   "metadata": {
    "slideshow": {
     "slide_type": "slide"
    }
   },
   "source": [
    "## Expressies"
   ]
  },
  {
   "cell_type": "code",
   "execution_count": 13,
   "metadata": {
    "slideshow": {
     "slide_type": "fragment"
    }
   },
   "outputs": [
    {
     "data": {
      "text/plain": [
       "False"
      ]
     },
     "execution_count": 13,
     "metadata": {},
     "output_type": "execute_result"
    }
   ],
   "source": [
    "True and False"
   ]
  },
  {
   "cell_type": "code",
   "execution_count": 14,
   "metadata": {
    "slideshow": {
     "slide_type": "fragment"
    }
   },
   "outputs": [
    {
     "data": {
      "text/plain": [
       "True"
      ]
     },
     "execution_count": 14,
     "metadata": {},
     "output_type": "execute_result"
    }
   ],
   "source": [
    "True or False"
   ]
  },
  {
   "cell_type": "code",
   "execution_count": 15,
   "metadata": {
    "slideshow": {
     "slide_type": "fragment"
    }
   },
   "outputs": [
    {
     "data": {
      "text/plain": [
       "False"
      ]
     },
     "execution_count": 15,
     "metadata": {},
     "output_type": "execute_result"
    }
   ],
   "source": [
    "not True"
   ]
  },
  {
   "cell_type": "code",
   "execution_count": 16,
   "metadata": {
    "slideshow": {
     "slide_type": "fragment"
    }
   },
   "outputs": [
    {
     "data": {
      "text/plain": [
       "True"
      ]
     },
     "execution_count": 16,
     "metadata": {},
     "output_type": "execute_result"
    }
   ],
   "source": [
    "not False"
   ]
  },
  {
   "cell_type": "markdown",
   "metadata": {
    "slideshow": {
     "slide_type": "subslide"
    }
   },
   "source": [
    "## Waarheidstabellen\n",
    "\n",
    "Wat zijn mogelijke uitkomsten voor `and`, `or` en `not`?"
   ]
  },
  {
   "cell_type": "markdown",
   "metadata": {
    "slideshow": {
     "slide_type": "subslide"
    }
   },
   "source": [
    "### `AND`\n",
    "\n",
    "|       | input | output        |\n",
    "|-------|-------|---------------|\n",
    "| **x** | **y** | **AND(x, y)** |\n",
    "|  `0`  |  `0`  |      `0`      |\n",
    "|  `0`  |  `1`  |      `0`      |\n",
    "|  `1`  |  `0`  |      `0`      |\n",
    "|  `1`  |  `1`  |      `1`      |"
   ]
  },
  {
   "cell_type": "markdown",
   "metadata": {
    "slideshow": {
     "slide_type": "fragment"
    }
   },
   "source": [
    "De output van AND is 1 als ALLE inputs gelijk aan zijn aan 1."
   ]
  },
  {
   "cell_type": "markdown",
   "metadata": {
    "slideshow": {
     "slide_type": "subslide"
    }
   },
   "source": [
    "### ``OR``\n",
    "\n",
    "|       | input | output       |\n",
    "|-------|-------|--------------|\n",
    "| **x** | **y** | **OR(x, y)** |\n",
    "|  `0`  |  `0`  |      `0`     |\n",
    "|  `0`  |  `1`  |      `1`     |\n",
    "|  `1`  |  `0`  |      `1`     |\n",
    "|  `1`  |  `1`  |      `1`     |"
   ]
  },
  {
   "cell_type": "markdown",
   "metadata": {
    "slideshow": {
     "slide_type": "fragment"
    }
   },
   "source": [
    "De output van OR is 1 als MINSTENS één input gelijk is aan 1. "
   ]
  },
  {
   "cell_type": "markdown",
   "metadata": {
    "slideshow": {
     "slide_type": "subslide"
    }
   },
   "source": [
    "### `NOT`\n",
    "\n",
    "| input | output     |\n",
    "|-------|------------|\n",
    "| **x** | **NOT(x)** |\n",
    "|  `0`  |     `1`    |\n",
    "|  `1`  |     `0`    |"
   ]
  },
  {
   "cell_type": "markdown",
   "metadata": {
    "slideshow": {
     "slide_type": "fragment"
    }
   },
   "source": [
    "De output van NOT is de omkering van de input."
   ]
  },
  {
   "cell_type": "markdown",
   "metadata": {
    "slideshow": {
     "slide_type": "subslide"
    }
   },
   "source": [
    "## Berekeningen\n",
    "\n",
    "Alle berekeningen zijn functies van bits, of *booleaanse* waarden\n",
    "\n",
    "|       | input | output       |\n",
    "|-------|-------|--------------|\n",
    "| **x** | **y** | **fn(x, y)** |\n",
    "|  `0`  |  `0`  |      `0`     |\n",
    "|  `0`  |  `1`  |      `1`     |\n",
    "|  `1`  |  `0`  |      `1`     |\n",
    "|  `1`  |  `1`  |      `0`     |\n",
    "\n",
    "- Boolean *inputs* x en y kunnen alleen **0** of **1** zijn (`True` of `False`)\n",
    "- Boolean functies kunnen alleen **0** of **1** (`True` of `False`) als *output* hebben"
   ]
  },
  {
   "cell_type": "markdown",
   "metadata": {
    "slideshow": {
     "slide_type": "subslide"
    }
   },
   "source": [
    "## Veel bits!"
   ]
  },
  {
   "cell_type": "markdown",
   "metadata": {
    "slideshow": {
     "slide_type": "fragment"
    }
   },
   "source": [
    "\n",
    "|       |   input  |       |     output      |\n",
    "|:-----:|:-----:|:-----:|:------------------:|\n",
    "| **x** | **y** | **c** | **fn(x, y, c)**    |\n",
    "|  `0`  |  `0`  |  `0`  |         `0`        |\n",
    "|  `0`  |  `0`  |  `1`  |         `1`        |\n",
    "|  `0`  |  `1`  |  `0`  |         `1`        |\n",
    "|  `0`  |  `1`  |  `1`  |         `0`        |\n",
    "|  `1`  |  `0`  |  `0`  |         `1`        |\n",
    "|  `1`  |  `0`  |  `1`  |         `0`        |\n",
    "|  `1`  |  `1`  |  `0`  |         `0`        |\n",
    "|  `1`  |  `1`  |  `1`  |         `1`        |\n"
   ]
  },
  {
   "cell_type": "markdown",
   "metadata": {
    "slideshow": {
     "slide_type": "notes"
    }
   },
   "source": [
    "Het carry bit als onderdeel van een truth table."
   ]
  },
  {
   "cell_type": "markdown",
   "metadata": {
    "slideshow": {
     "slide_type": "slide"
    }
   },
   "source": [
    "## Logische schakelingen\n",
    "\n",
    "Logische schakelingen voor het uitvoeren van handelingen op bits."
   ]
  },
  {
   "cell_type": "markdown",
   "metadata": {
    "slideshow": {
     "slide_type": "subslide"
    }
   },
   "source": [
    "### `AND`\n",
    "\n",
    "|       | input | output        |\n",
    "|-------|-------|---------------|\n",
    "| **x** | **y** | **AND(x, y)** |\n",
    "|  `0`  |  `0`  |      `0`      |\n",
    "|  `0`  |  `1`  |      `0`      |\n",
    "|  `1`  |  `0`  |      `0`      |\n",
    "|  `1`  |  `1`  |      `1`      |"
   ]
  },
  {
   "cell_type": "markdown",
   "metadata": {
    "slideshow": {
     "slide_type": "fragment"
    }
   },
   "source": [
    "![AND gate](images/11/AND_gate.png)"
   ]
  },
  {
   "cell_type": "markdown",
   "metadata": {
    "slideshow": {
     "slide_type": "fragment"
    }
   },
   "source": [
    "In booleaanse notatie wordt x AND y geschreven als een vermenigvuldiging"
   ]
  },
  {
   "cell_type": "markdown",
   "metadata": {
    "slideshow": {
     "slide_type": "subslide"
    }
   },
   "source": [
    "### ``OR``\n",
    "\n",
    "|       | input | output       |\n",
    "|-------|-------|--------------|\n",
    "| **x** | **y** | **OR(x, y)** |\n",
    "|  `0`  |  `0`  |      `0`     |\n",
    "|  `0`  |  `1`  |      `1`     |\n",
    "|  `1`  |  `0`  |      `1`     |\n",
    "|  `1`  |  `1`  |      `1`     |"
   ]
  },
  {
   "cell_type": "markdown",
   "metadata": {
    "slideshow": {
     "slide_type": "fragment"
    }
   },
   "source": [
    "![OR gate](images/11/OR_gate.png)"
   ]
  },
  {
   "cell_type": "markdown",
   "metadata": {
    "slideshow": {
     "slide_type": "fragment"
    }
   },
   "source": [
    "In booleaanse notatie wordt x OR y geschreven als een optelling "
   ]
  },
  {
   "cell_type": "markdown",
   "metadata": {
    "slideshow": {
     "slide_type": "subslide"
    }
   },
   "source": [
    "### `NOT`\n",
    "\n",
    "| input | output     |\n",
    "|-------|------------|\n",
    "| **x** | **NOT(x)** |\n",
    "|  `0`  |     `1`    |\n",
    "|  `1`  |     `0`    |"
   ]
  },
  {
   "cell_type": "markdown",
   "metadata": {
    "slideshow": {
     "slide_type": "fragment"
    }
   },
   "source": [
    "![NOT gate](images/11/NOT_gate.png)"
   ]
  },
  {
   "cell_type": "markdown",
   "metadata": {
    "slideshow": {
     "slide_type": "fragment"
    }
   },
   "source": [
    "In booleaanse notatie wordt NOT x geschreven als x met bovenliggende streep"
   ]
  },
  {
   "cell_type": "markdown",
   "metadata": {
    "slideshow": {
     "slide_type": "subslide"
    }
   },
   "source": [
    "### Logisim"
   ]
  },
  {
   "cell_type": "markdown",
   "metadata": {
    "slideshow": {
     "slide_type": "fragment"
    }
   },
   "source": [
    "![Logisim](images/11/logisim_evolution.png)"
   ]
  },
  {
   "cell_type": "markdown",
   "metadata": {
    "slideshow": {
     "slide_type": "notes"
    }
   },
   "source": [
    "- Logisim voor het maken van de opgaven\n",
    "- Moeilijk? Bedenk dat je niet meer dan AND, OR en NOT nodig hebt om alles te kunnen berekenen!"
   ]
  },
  {
   "cell_type": "markdown",
   "metadata": {
    "slideshow": {
     "slide_type": "subslide"
    }
   },
   "source": [
    "### Schakelingen en connecties\n",
    "\n",
    "![Logisim plain](images/11/logisim_plain.png)"
   ]
  },
  {
   "cell_type": "markdown",
   "metadata": {},
   "source": [
    "### Rails variant"
   ]
  },
  {
   "cell_type": "markdown",
   "metadata": {
    "slideshow": {
     "slide_type": "subslide"
    }
   },
   "source": [
    "![Logisim rails](images/11/logisim_rails.png)"
   ]
  },
  {
   "cell_type": "markdown",
   "metadata": {
    "slideshow": {
     "slide_type": "slide"
    }
   },
   "source": [
    "## Quiz"
   ]
  },
  {
   "cell_type": "markdown",
   "metadata": {
    "slideshow": {
     "slide_type": "subslide"
    }
   },
   "source": [
    "![Logisim quiz](images/11/logisim_4_and_or.png)"
   ]
  },
  {
   "cell_type": "markdown",
   "metadata": {
    "slideshow": {
     "slide_type": "skip"
    }
   },
   "source": [
    "1.  Dit circuit telt 8 logische schakelingen. Hoeveel schakelingen tel je voor\n",
    "    - AND\n",
    "    - OR\n",
    "    - NOT\n",
    "2.  Volg A omhoog. Voor welke x, y en c bits geeft A als output 1?"
   ]
  },
  {
   "cell_type": "markdown",
   "metadata": {
    "slideshow": {
     "slide_type": "subslide"
    }
   },
   "source": [
    "### Oplossing"
   ]
  },
  {
   "cell_type": "markdown",
   "metadata": {
    "slideshow": {
     "slide_type": "fragment"
    }
   },
   "source": [
    "|       | input |       |            | output   |\n",
    "|-------|-------|-------|------------|----------|\n",
    "| **x** | **y** | **c** | **output** | **gate** |\n",
    "|  `0`  |  `0`  |  `0`  |     `0`    |          |\n",
    "|  `0`  |  `0`  |  `1`  |     `0`    |          |\n",
    "|  `0`  |  `1`  |  `0`  |     `1`    |     A    |\n",
    "|  `0`  |  `1`  |  `1`  |     `1`    |     B    |\n",
    "|  `1`  |  `0`  |  `0`  |     `0`    |          |\n",
    "|  `1`  |  `0`  |  `1`  |     `1`    |     C    |\n",
    "|  `1`  |  `1`  |  `0`  |     `0`    |          |\n",
    "|  `1`  |  `1`  |  `1`  |     `1`    |     D    |"
   ]
  },
  {
   "cell_type": "markdown",
   "metadata": {
    "slideshow": {
     "slide_type": "fragment"
    }
   },
   "source": [
    "1. Het circuit telt 4 AND, 1 OR en 3 NOT schakelingen\n",
    "2. Zie de waarheidstabel voor alle mogelijke uitkomsten"
   ]
  },
  {
   "cell_type": "markdown",
   "metadata": {
    "slideshow": {
     "slide_type": "slide"
    }
   },
   "source": [
    "## Bewering\n",
    "\n",
    "Met de bouwstenen AND, OR en NOT kan *alles* worden berekend!"
   ]
  },
  {
   "cell_type": "markdown",
   "metadata": {
    "slideshow": {
     "slide_type": "subslide"
    }
   },
   "source": [
    "## Constructief bewijs\n",
    "\n",
    "Het minterm expansion principe"
   ]
  },
  {
   "cell_type": "markdown",
   "metadata": {
    "slideshow": {
     "slide_type": "subslide"
    }
   },
   "source": [
    "**Stap 1**\n",
    "\n",
    "Schrijf een waarheidstabel voor een willekeurige functie "
   ]
  },
  {
   "cell_type": "markdown",
   "metadata": {
    "slideshow": {
     "slide_type": "fragment"
    }
   },
   "source": [
    "|   |       | input | output       |\n",
    "|---|-------|-------|--------------|\n",
    "|   | **x** | **y** | **fn(x, y)** |\n",
    "| A |  `0`  |  `0`  |      `0`     |\n",
    "| B |  `0`  |  `1`  |      `1`     |\n",
    "| C |  `1`  |  `0`  |      `1`     |\n",
    "| D |  `1`  |  `1`  |      `0`     |"
   ]
  },
  {
   "cell_type": "markdown",
   "metadata": {
    "slideshow": {
     "slide_type": "subslide"
    }
   },
   "source": [
    "**Stap 2**\n",
    "\n",
    "Maak voor elke rij waar de output gelijk moet zijn aan 1 een AND circuit"
   ]
  },
  {
   "cell_type": "markdown",
   "metadata": {
    "slideshow": {
     "slide_type": "fragment"
    }
   },
   "source": [
    "|   |       | input | output       |\n",
    "|---|-------|-------|--------------|\n",
    "|   | **x** | **y** | **fn(x, y)** |\n",
    "| A |  `0`  |  `0`  |      `0`     |\n",
    "| **B** |  `0`  |  `1`  |      `1`     |\n",
    "| C |  `1`  |  `0`  |      `1`     |\n",
    "| D |  `1`  |  `1`  |      `0`     |\n",
    "\n",
    "**B**: (NOT x) AND y\n",
    "\n",
    "Dit komt overeen met de volgende minterm expressie voor **B**\n",
    "\n",
    "$$\n",
    "\\bar{x}y\n",
    "$$"
   ]
  },
  {
   "cell_type": "markdown",
   "metadata": {
    "slideshow": {
     "slide_type": "subslide"
    }
   },
   "source": [
    "Zet de minterm expressie voor **B** om naar een circuit\n",
    "\n",
    "$$\n",
    "\\bar{x}y\n",
    "$$\n",
    "\n",
    "![Minterm B](images/11/minterm_and_b.png)"
   ]
  },
  {
   "cell_type": "markdown",
   "metadata": {
    "slideshow": {
     "slide_type": "subslide"
    }
   },
   "source": [
    "|   |       | input | output       |\n",
    "|---|-------|-------|--------------|\n",
    "|   | **x** | **y** | **fn(x, y)** |\n",
    "| A |  `0`  |  `0`  |      `0`     |\n",
    "| B |  `0`  |  `1`  |      `1`     |\n",
    "| **C** |  `1`  |  `0`  |      `1`     |\n",
    "| D |  `1`  |  `1`  |      `0`     |\n",
    "\n",
    "**C**: x AND (NOT y)\n",
    "\n",
    "Dit komt overeen met de volgende minterm expressie voor **C**\n",
    "\n",
    "$$\n",
    "x\\bar{y}\n",
    "$$"
   ]
  },
  {
   "cell_type": "markdown",
   "metadata": {
    "slideshow": {
     "slide_type": "subslide"
    }
   },
   "source": [
    "Zet de minterm expressie voor **C** om naar een circuit\n",
    "\n",
    "$$\n",
    "x\\bar{y}\n",
    "$$\n",
    "\n",
    "![Minterm C](images/11/minterm_and_c.png)"
   ]
  },
  {
   "cell_type": "markdown",
   "metadata": {
    "slideshow": {
     "slide_type": "subslide"
    }
   },
   "source": [
    "**Stap 3**\n",
    "\n",
    "Combineer de minterm expressies met OR\n",
    "\n",
    "((NOT x) AND y) OR (x AND (NOT y))\n",
    "\n",
    "Dit komt overeen met de volgende volledige expressie voor de functie\n",
    "\n",
    "$$\n",
    "\\bar{x}y + x\\bar{y}\n",
    "$$"
   ]
  },
  {
   "cell_type": "markdown",
   "metadata": {
    "slideshow": {
     "slide_type": "subslide"
    }
   },
   "source": [
    "Vul de minterm expressie aan tot een volledig circuit\n",
    "\n",
    "$$\n",
    "\\bar{x}y + x\\bar{y}\n",
    "$$\n",
    "\n",
    "![Minterm OR](images/11/minterm_b_or_c.png)"
   ]
  },
  {
   "cell_type": "markdown",
   "metadata": {
    "slideshow": {
     "slide_type": "subslide"
    }
   },
   "source": [
    "## Bewijs\n",
    "\n",
    "De minterm expressie voor de functie is"
   ]
  },
  {
   "cell_type": "markdown",
   "metadata": {
    "slideshow": {
     "slide_type": "fragment"
    }
   },
   "source": [
    "$$\n",
    "\\bar{x}y + x\\bar{y}\n",
    "$$"
   ]
  },
  {
   "cell_type": "markdown",
   "metadata": {
    "slideshow": {
     "slide_type": "fragment"
    }
   },
   "source": [
    "wat ook geschreven kan worden als\n",
    "\n",
    "$$\n",
    "(\\bar{x} \\cdot y) + (x \\cdot \\bar{y})\n",
    "$$\n",
    "\n",
    "waar de vermenigvuldiging de AND is en de optelling de OR"
   ]
  },
  {
   "cell_type": "markdown",
   "metadata": {
    "slideshow": {
     "slide_type": "subslide"
    }
   },
   "source": [
    "Is dit voldoende voor de andere gevallen (output gelijk aan 0)?\n",
    "\n",
    "|   |       | input | output       |                             |\n",
    "|---|-------|-------|--------------|-----------------------------|\n",
    "|   | **x** | **y** | **fn(x, y)** | $\\bar{x}y + x\\bar{y}$       |\n",
    "| A |  `0`  |  `0`  |      `0`     | $1 \\cdot 0 + 0 \\cdot 1 = 0$ |\n",
    "| **B** |  `0`  |  `1`  |      `1`     | $1 \\cdot 1 + 0 \\cdot 0 = 1$ |\n",
    "| **C** |  `1`  |  `0`  |      `1`     | $0 \\cdot 0 + 1 \\cdot 1 = 1$ |\n",
    "| D |  `1`  |  `1`  |      `0`     | $0 \\cdot 1 + 1 \\cdot 0 = 0$ |"
   ]
  },
  {
   "cell_type": "markdown",
   "metadata": {
    "slideshow": {
     "slide_type": "slide"
    }
   },
   "source": [
    "## Een concreet voorbeeld\n",
    "\n",
    "Een *less than or equal* circuit `<=`"
   ]
  },
  {
   "cell_type": "markdown",
   "metadata": {
    "slideshow": {
     "slide_type": "fragment"
    }
   },
   "source": [
    "De output van `fn(x,y)` moet 1 zijn indien `x <= y`, anders 0"
   ]
  },
  {
   "cell_type": "markdown",
   "metadata": {
    "slideshow": {
     "slide_type": "subslide"
    }
   },
   "source": [
    "### Waarheidstabel\n",
    "\n",
    "|   |       | input | output   |\n",
    "|---|-------|-------|----------|\n",
    "|   | **x** | **y** | `x <= y` |\n",
    "| **A** |  `0`  |  `0`  |    `1`   |\n",
    "| **B** |  `0`  |  `1`  |    `1`   |\n",
    "| C |  `1`  |  `0`  |    `0`   |\n",
    "| **D** |  `1`  |  `1`  |    `1`   |"
   ]
  },
  {
   "cell_type": "markdown",
   "metadata": {
    "slideshow": {
     "slide_type": "subslide"
    }
   },
   "source": [
    "### Minterm expressie\n",
    "\n",
    "|   |       | input | output   |\n",
    "|---|-------|-------|----------|\n",
    "|   | **x** | **y** | `x <= y` |\n",
    "| **A** |  `0`  |  `0`  |    `1`   |\n",
    "| **B** |  `0`  |  `1`  |    `1`   |\n",
    "| C |  `1`  |  `0`  |    `0`   |\n",
    "| **D** |  `1`  |  `1`  |    `1`   |\n",
    "\n",
    "Op basis van de waarheidstabel kan de volgende minterm expressie worden afgeleid voor **A**, **B** en **D** (de outputs met waarde 1)\n",
    "\n",
    "$$\n",
    "\\bar{x}\\bar{y} + \\bar{x}y + xy\n",
    "$$"
   ]
  },
  {
   "cell_type": "markdown",
   "metadata": {
    "slideshow": {
     "slide_type": "subslide"
    }
   },
   "source": [
    "### Circuit\n",
    "\n",
    "Op basis van de expressie\n",
    "\n",
    "$$\n",
    "\\bar{x}\\bar{y} + \\bar{x}y + xy\n",
    "$$"
   ]
  },
  {
   "cell_type": "markdown",
   "metadata": {
    "slideshow": {
     "slide_type": "fragment"
    }
   },
   "source": [
    "kan het volgende circuit worden opgesteld\n",
    "\n",
    "![Minterm GTE function](images/11/minterm_gte_function.png)"
   ]
  },
  {
   "cell_type": "markdown",
   "metadata": {
    "slideshow": {
     "slide_type": "subslide"
    }
   },
   "source": [
    "## Recept\n",
    "\n",
    "1. Schrijf een waarheidstabel\n",
    "2. Stel de minterm expressie op\n",
    "3. Zet de minterm expressie om naar een circuit"
   ]
  }
 ],
 "metadata": {
  "kernelspec": {
   "display_name": "Python 3 (ipykernel)",
   "language": "python",
   "name": "python3"
  },
  "language_info": {
   "codemirror_mode": {
    "name": "ipython",
    "version": 3
   },
   "file_extension": ".py",
   "mimetype": "text/x-python",
   "name": "python",
   "nbconvert_exporter": "python",
   "pygments_lexer": "ipython3",
   "version": "3.10.0"
  }
 },
 "nbformat": 4,
 "nbformat_minor": 4
}
