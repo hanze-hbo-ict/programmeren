{
 "cells": [
  {
   "cell_type": "markdown",
   "metadata": {
    "slideshow": {
     "slide_type": "slide"
    }
   },
   "source": [
    "# Ontwerpen met schakelingen"
   ]
  },
  {
   "cell_type": "markdown",
   "metadata": {
    "slideshow": {
     "slide_type": "fragment"
    }
   },
   "source": [
    "![Now you're thinking with circuits!](images/12/circuits.jpg)"
   ]
  },
  {
   "cell_type": "markdown",
   "metadata": {
    "slideshow": {
     "slide_type": "subslide"
    }
   },
   "source": [
    "## Abstractieniveaus"
   ]
  },
  {
   "cell_type": "markdown",
   "metadata": {
    "slideshow": {
     "slide_type": "fragment"
    }
   },
   "source": [
    "* Python\n",
    "* Assembly <font color=\"grey\">→ Programmeren II!</font>"
   ]
  },
  {
   "cell_type": "markdown",
   "metadata": {
    "slideshow": {
     "slide_type": "fragment"
    }
   },
   "source": [
    "* Computer"
   ]
  },
  {
   "cell_type": "markdown",
   "metadata": {
    "slideshow": {
     "slide_type": "fragment"
    }
   },
   "source": [
    "* Geheugen\n",
    "* Registers\n",
    "* 1-bit geheugen: **flip-flop**"
   ]
  },
  {
   "cell_type": "markdown",
   "metadata": {
    "slideshow": {
     "slide_type": "fragment"
    }
   },
   "source": [
    "* Rekenen\n",
    "* Bitwise operatoren: **and**, **or**, ...\n",
    "* Logische poorten"
   ]
  },
  {
   "cell_type": "markdown",
   "metadata": {
    "slideshow": {
     "slide_type": "fragment"
    }
   },
   "source": [
    "* Schakelingen\n",
    "* Transistors"
   ]
  },
  {
   "cell_type": "markdown",
   "metadata": {
    "slideshow": {
     "slide_type": "slide"
    }
   },
   "source": [
    "## Optellen\n",
    "\n",
    "| x | y | c | uit |\n",
    "|---|---|---|-----|\n",
    "| 0 | 0 | 0 | 0   |\n",
    "| 0 | 0 | 1 | 1   |\n",
    "| 0 | 1 | 0 | 1   |\n",
    "| 0 | 1 | 1 | 0   |\n",
    "| 1 | 0 | 0 | 1   |\n",
    "| 1 | 0 | 1 | 0   |\n",
    "| 1 | 1 | 0 | 0   |\n",
    "| 1 | 1 | 1 | 1   |"
   ]
  },
  {
   "cell_type": "markdown",
   "metadata": {
    "slideshow": {
     "slide_type": "fragment"
    }
   },
   "source": [
    "* Is de uitvoer de carry of de som?"
   ]
  },
  {
   "cell_type": "markdown",
   "metadata": {
    "slideshow": {
     "slide_type": "subslide"
    }
   },
   "source": [
    "<img style=\"float: right; width: 50%\" src=\"images/12/fulladder.png\" alt=\"Full adder\">\n",
    "\n",
    "| x | y | c | **som** | poort |\n",
    "|---|---|---|---------|-------|\n",
    "| 0 | 0 | 0 | 0       |       |\n",
    "| 0 | 0 | 1 | 1       | A     |\n",
    "| 0 | 1 | 0 | 1       | B     |\n",
    "| 0 | 1 | 1 | 0       |       |\n",
    "| 1 | 0 | 0 | 1       | C     |\n",
    "| 1 | 0 | 1 | 0       |       |\n",
    "| 1 | 1 | 0 | 0       |       |\n",
    "| 1 | 1 | 1 | 1       | D     |"
   ]
  },
  {
   "cell_type": "markdown",
   "metadata": {
    "slideshow": {
     "slide_type": "subslide"
    }
   },
   "source": [
    "### Ripple-carry adder\n",
    "\n",
    "![Ripple-carry adder](images/12/ripplecarry.png)"
   ]
  },
  {
   "cell_type": "markdown",
   "metadata": {
    "slideshow": {
     "slide_type": "fragment"
    }
   },
   "source": [
    "* Net zoals hier de full adder **gebruikt** is kunnen we ook de ripple-carry adder **gebruiken**\n",
    "* Dus verbergen we alle implementatiedetails in een **abstractie**"
   ]
  },
  {
   "cell_type": "markdown",
   "metadata": {
    "slideshow": {
     "slide_type": "fragment"
    }
   },
   "source": [
    "![Ook een ripple-carry adder](images/12/ripplecarrysmall.png)"
   ]
  },
  {
   "cell_type": "markdown",
   "metadata": {
    "slideshow": {
     "slide_type": "slide"
    }
   },
   "source": [
    "## Schakelingen samenvoegen!\n",
    "\n",
    "* We maken grote programma's door kleine functies samen te voegen."
   ]
  },
  {
   "cell_type": "markdown",
   "metadata": {
    "slideshow": {
     "slide_type": "fragment"
    }
   },
   "source": [
    "* We maken grote **schakelingen** door kleine **schakelingen** samen te voegen!"
   ]
  },
  {
   "cell_type": "markdown",
   "metadata": {
    "slideshow": {
     "slide_type": "subslide"
    }
   },
   "source": [
    "## Een vier-bits vermenigvuldiger\n",
    "\n",
    "$$\n",
    "\\begin{array}{rl}\n",
    "1011 & y\\\\\n",
    "\\times\\;\\phantom{0000}0110 & x\\\\\n",
    "\\hline\n",
    "☆0000 & \\textrm{deelproducten}\\\\\n",
    "1101\\phantom{0} & ↓\\\\\n",
    "1101\\phantom{00} & \\\\\n",
    "+\\;\\phantom{0}0000\\phantom{000} & \\\\\n",
    "\\hline\n",
    "01001110 & \\textrm{antwoord}\n",
    "\\end{array}\n",
    "$$"
   ]
  },
  {
   "cell_type": "markdown",
   "metadata": {
    "slideshow": {
     "slide_type": "fragment"
    }
   },
   "source": [
    "1. Hoe kan je hier gebruik maken van **drie** ripple-carry adders?\n",
    "2. Welke bit moet er op de plaats van de ster ☆?\n",
    "3. Welke schakeling kan je gebruiken om de vier \"deelproducten\" te maken?"
   ]
  },
  {
   "cell_type": "markdown",
   "metadata": {
    "slideshow": {
     "slide_type": "fragment"
    }
   },
   "source": [
    "1. Je telt *vier* deelproducten op: dus **drie** adders (maar wel verschoven!)\n",
    "2. De ster ☆ is 0: dat is de vierde bit voor de eerste adder!\n",
    "3. Met een **and**-poort heb je een 1-bits **vermenigvuldiging**; maak hier een hulpcircuit voor!"
   ]
  },
  {
   "cell_type": "markdown",
   "metadata": {
    "slideshow": {
     "slide_type": "subslide"
    }
   },
   "source": [
    "![Een schets van de vermenigvuldiger](images/12/multiplier.png)"
   ]
  },
  {
   "cell_type": "markdown",
   "metadata": {
    "slideshow": {
     "slide_type": "subslide"
    }
   },
   "source": [
    "## Een drie-bij-twee-bits deler\n",
    "\n",
    "![De deler!?](images/12/divider.png)"
   ]
  },
  {
   "cell_type": "markdown",
   "metadata": {
    "slideshow": {
     "slide_type": "fragment"
    }
   },
   "source": [
    "* We willen *y* door *x* delen; *y* heeft *3* bits, en *x* heeft *2* bits\n",
    "* We noemen de uitvoer *z*\n",
    "* Als je door 0 deelt krijg je een *error*.\n",
    "* Hoe kan je deling opdelen? 🙃"
   ]
  },
  {
   "cell_type": "markdown",
   "metadata": {
    "slideshow": {
     "slide_type": "fragment"
    }
   },
   "source": [
    "* Lastig, maar er is een aanpak die altijd werkt!"
   ]
  },
  {
   "cell_type": "markdown",
   "metadata": {
    "slideshow": {
     "slide_type": "subslide"
    }
   },
   "source": [
    "### Alles uitschrijven!\n",
    "\n",
    "1. We kunnen elke berekening uitdrukken in **bits**, dus ook `z = y // x`\n",
    "2. We kunnen van elke functie van bits een **waarheidstabel** maken\n",
    "3. Bekijk elke bit van de **uitvoer** apart\n",
    "4. De uitvoer is standaard 0!\n",
    "5. Kan je misschien patronen herkennen die je als **subcircuit** kan maken?\n",
    "6. Gebruik anders steeds een **and**-poort om de waarden van een rij te selecteren waarvoor de uitvoer **1** moet zijn. Dit is een **minterm**!\n",
    "7. Gebruik een **or**-port om deze resultaten samen te voegen\n",
    "8. Optimaliseren? Dat komt later wel! ... of nooit?"
   ]
  },
  {
   "cell_type": "markdown",
   "metadata": {
    "slideshow": {
     "slide_type": "subslide"
    }
   },
   "source": [
    "| y2 | y1 | y0 | x1 | x0 | z2 | z1 | z0 | error |\n",
    "|----|----|----|----|----|----|----|----|-------|\n",
    "| ?  | ?  | ?  | 0  | 0  | ?  | ?  | ?  | 1     |\n",
    "| 0  | 0  | 0  | 0  | 1  | 0  | 0  | 0  | 0     |\n",
    "| 0  | 0  | 1  | 0  | 1  | 0  | 0  | 1  | 0     |\n",
    "| 0  | 1  | 0  | 0  | 1  | 0  | 1  | 0  | 0     |\n",
    "| 0  | 1  | 1  | 0  | 1  | 0  | 1  | 1  | 0     |\n",
    "| 1  | 0  | 0  | 0  | 1  | 1  | 0  | 0  | 0     |\n",
    "| 1  | 0  | 1  | 0  | 1  | 1  | 0  | 1  | 0     |\n",
    "| 1  | 1  | 0  | 0  | 1  | 1  | 1  | 0  | 0     |\n",
    "| 1  | 1  | 1  | 0  | 1  | 1  | 1  | 1  | 0     |\n",
    "| 0  | 0  | 0  | 1  | 0  | 0  | 0  | 0  | 0     |\n",
    "| 0  | 0  | 1  | 1  | 0  | 0  | 0  | 0  | 0     |\n",
    "| 0  | 1  | 0  | 1  | 0  | 0  | 0  | 1  | 0     |\n",
    "| 0  | 1  | 1  | 1  | 0  | 0  | 0  | 1  | 0     |\n",
    "| 1  | 0  | 0  | 1  | 0  | 0  | 1  | 0  | 0     |\n",
    "| 1  | 0  | 1  | 1  | 0  | 0  | 1  | 0  | 0     |\n",
    "| 1  | 1  | 0  | 1  | 0  | 0  | 1  | 1  | 0     |\n",
    "| 1  | 1  | 1  | 1  | 0  | 0  | 1  | 1  | 0     |\n",
    "| 0  | 0  | 0  | 1  | 1  | 0  | 0  | 0  | 0     |\n",
    "| 0  | 0  | 1  | 1  | 1  | 0  | 0  | 0  | 0     |\n",
    "| 0  | 1  | 0  | 1  | 1  | 0  | 0  | 0  | 0     |\n",
    "| 0  | 1  | 1  | 1  | 1  | 0  | 0  | 1  | 0     |\n",
    "| 1  | 0  | 0  | 1  | 1  | 0  | 0  | 1  | 0     |\n",
    "| 1  | 0  | 1  | 1  | 1  | 0  | 0  | 1  | 0     |\n",
    "| 1  | 1  | 0  | 1  | 1  | 0  | 1  | 0  | 0     |\n",
    "| 1  | 1  | 1  | 1  | 1  | 0  | 1  | 0  | 0     |"
   ]
  },
  {
   "cell_type": "markdown",
   "metadata": {
    "slideshow": {
     "slide_type": "slide"
    }
   },
   "source": [
    "![Gates?!](images/12/gates.jpg)"
   ]
  },
  {
   "cell_type": "markdown",
   "metadata": {
    "slideshow": {
     "slide_type": "fragment"
    }
   },
   "source": [
    "## Hoe werken **gates**?"
   ]
  },
  {
   "cell_type": "markdown",
   "metadata": {
    "slideshow": {
     "slide_type": "subslide"
    }
   },
   "source": [
    "![Microprocessor](images/12/microprocessor1.png)"
   ]
  },
  {
   "cell_type": "markdown",
   "metadata": {
    "slideshow": {
     "slide_type": "fragment"
    }
   },
   "source": [
    "**ENHANCE!**"
   ]
  },
  {
   "cell_type": "markdown",
   "metadata": {
    "slideshow": {
     "slide_type": "subslide"
    }
   },
   "source": [
    "![Microprocessor, enhanced](images/12/microprocessor2.jpg)"
   ]
  },
  {
   "cell_type": "markdown",
   "metadata": {
    "slideshow": {
     "slide_type": "fragment"
    }
   },
   "source": [
    "**ENHANCE!**"
   ]
  },
  {
   "cell_type": "markdown",
   "metadata": {
    "slideshow": {
     "slide_type": "subslide"
    }
   },
   "source": [
    "![Microprocessor, enhanced!](images/12/microprocessor3.jpg)"
   ]
  },
  {
   "cell_type": "markdown",
   "metadata": {
    "slideshow": {
     "slide_type": "fragment"
    }
   },
   "source": [
    "**Bill sux**??"
   ]
  },
  {
   "cell_type": "markdown",
   "metadata": {
    "slideshow": {
     "slide_type": "subslide"
    }
   },
   "source": [
    "### Transistors (silicium-schakelaars)\n",
    "\n",
    "![Transistors - en een haar](images/12/transistors1.png)"
   ]
  },
  {
   "cell_type": "markdown",
   "metadata": {
    "slideshow": {
     "slide_type": "fragment"
    }
   },
   "source": [
    "* Ja, dat is inderdaad een haar.\n",
    "* **ENHANCE!**"
   ]
  },
  {
   "cell_type": "markdown",
   "metadata": {
    "slideshow": {
     "slide_type": "subslide"
    }
   },
   "source": [
    "![Transistor, enkelvoud!](images/12/transistors2.png)"
   ]
  },
  {
   "cell_type": "markdown",
   "metadata": {
    "slideshow": {
     "slide_type": "fragment"
    }
   },
   "source": [
    "* Stroom stroomt van de **collector** (c) naar de **emitter** (e)\n",
    "* Maar dit is afhankelijk van de de spanning op de **base** (b)\n",
    "* **PMOS**: alleen stroom als er **geen** spanning op de base staat\n",
    "* **NMOS**: alleen stroom als er **wel** spanning op de base staat\n",
    "* Transistors in een processor zijn ongeveer **5 nm** groot (1.000.000.000 nm = 1 m)"
   ]
  },
  {
   "cell_type": "markdown",
   "metadata": {
    "slideshow": {
     "slide_type": "subslide"
    }
   },
   "source": [
    "![NOT-poort](images/12/notgate.png)"
   ]
  },
  {
   "cell_type": "markdown",
   "metadata": {
    "slideshow": {
     "slide_type": "subslide"
    }
   },
   "source": [
    "![NOT-poort in het echt](images/12/notreal.png)"
   ]
  },
  {
   "cell_type": "markdown",
   "metadata": {
    "slideshow": {
     "slide_type": "subslide"
    }
   },
   "source": [
    "### Mark I\n",
    "\n",
    "* Oude computers gebruikten geen transistors, maar **relais**\n",
    "\n",
    "![Relais](images/12/relay.jpg) ![Mark I](images/12/mark1.jpg)"
   ]
  },
  {
   "cell_type": "markdown",
   "metadata": {
    "slideshow": {
     "slide_type": "subslide"
    }
   },
   "source": [
    "* Mark I in cijfers\n",
    "  * Ruim 4 ton\n",
    "  * Ruim 800 kilomter (!) bedrading\n",
    "  * Meer dan 700.000 onderdelen!"
   ]
  },
  {
   "cell_type": "markdown",
   "metadata": {
    "slideshow": {
     "slide_type": "fragment"
    }
   },
   "source": [
    "* Mark I in cijfers\n",
    "  * Kloksnelheid 0.00001 MHz\n",
    "  * Optellen: 0,6 sec\n",
    "  * Vermenigvuldigen: 5,7 sec\n",
    "  * Delen: 15,3 sec (!)"
   ]
  },
  {
   "cell_type": "markdown",
   "metadata": {
    "slideshow": {
     "slide_type": "subslide"
    }
   },
   "source": [
    "![Een bug in het programma](images/12/bug.jpg)"
   ]
  },
  {
   "cell_type": "markdown",
   "metadata": {
    "slideshow": {
     "slide_type": "slide"
    }
   },
   "source": [
    "## Een halve computer!\n",
    "\n",
    "<img style=\"width: 40%; float: left;\" alt=\"Een halve computer\" src=\"images/12/multiplier.png\">\n",
    "\n",
    "* Transistors\n",
    "* **Logische poorten**\n",
    "* **Berekeningen**"
   ]
  },
  {
   "cell_type": "markdown",
   "metadata": {
    "slideshow": {
     "slide_type": "subslide"
    }
   },
   "source": [
    "### Berekeningen\n",
    "\n",
    "![Alan Perlis](images/12/perlis.jpg)\n",
    "\n",
    "> Make no mistake about it: Computers process numbers - not symbols. We measure our understanding (and control) by the extent to which we can **arithmetize** an activity.\n",
    ">\n",
    "> -- Alan Perlis"
   ]
  },
  {
   "cell_type": "markdown",
   "metadata": {
    "slideshow": {
     "slide_type": "fragment"
    }
   },
   "source": [
    "* Dus: computers maken berekeningen... maar ze doen nog meer!"
   ]
  },
  {
   "cell_type": "markdown",
   "metadata": {
    "slideshow": {
     "slide_type": "subslide"
    }
   },
   "source": [
    "### Wat is de andere helft van de computer dan?"
   ]
  },
  {
   "cell_type": "markdown",
   "metadata": {
    "slideshow": {
     "slide_type": "fragment"
    }
   },
   "source": [
    "![Flip-flop season!](images/12/flipflopseason.png)"
   ]
  },
  {
   "cell_type": "markdown",
   "metadata": {
    "slideshow": {
     "slide_type": "subslide"
    }
   },
   "source": [
    "### Gegevens opslaan en uitlezen\n",
    "\n",
    "> For systems, the analogue of a face-lift is to add to the control graph an edge that creates a cycle, not just an additional node.\n",
    ">\n",
    "> -- Alan Perlis"
   ]
  },
  {
   "cell_type": "markdown",
   "metadata": {
    "slideshow": {
     "slide_type": "fragment"
    }
   },
   "source": [
    "![NOR-poort](images/12/nor.svg)\n",
    "\n",
    "| a | b | q |\n",
    "|---|---|---|\n",
    "| 0 | 0 | 1 |\n",
    "| 0 | 1 | 0 |\n",
    "| 1 | 0 | 0 |\n",
    "| 1 | 1 | 0 |\n",
    "\n",
    "* Hier gaan we een enkele bit geheugen van maken!"
   ]
  },
  {
   "cell_type": "markdown",
   "metadata": {
    "slideshow": {
     "slide_type": "subslide"
    }
   },
   "source": [
    "### SR-Latch\n",
    "\n",
    "![SR-Latch](images/12/latch.gif)"
   ]
  },
  {
   "cell_type": "markdown",
   "metadata": {
    "slideshow": {
     "slide_type": "fragment"
    }
   },
   "source": [
    "* Als *S* (*set*) \"hoog\" wordt (er staat stroom op), dan wordt *Q* ook hoog\n",
    "* Als *R* (*reset*) hoog wordt, dan wordt *Q* laag (en *Q̅*, oftewel *niet Q*, hoog)\n",
    "* Als *S* **en** *R* laag zijn, dan **blijft de waarde van *Q* bewaard**!"
   ]
  },
  {
   "cell_type": "markdown",
   "metadata": {
    "slideshow": {
     "slide_type": "subslide"
    }
   },
   "source": [
    "### Flip-flop\n",
    "\n",
    "![Flip-flop](images/12/flipflopshoe.jpg)"
   ]
  },
  {
   "cell_type": "markdown",
   "metadata": {
    "slideshow": {
     "slide_type": "fragment"
    }
   },
   "source": [
    "**... ??** 😯"
   ]
  },
  {
   "cell_type": "markdown",
   "metadata": {
    "slideshow": {
     "slide_type": "subslide"
    }
   },
   "source": [
    "### ... Flip-flop!\n",
    "\n",
    "![Flip-flop](images/12/flipflop.png)"
   ]
  },
  {
   "cell_type": "markdown",
   "metadata": {
    "slideshow": {
     "slide_type": "fragment"
    }
   },
   "source": [
    "* *D* (*data*) bevat de bit die we willen opslaan\n",
    "* Maar deze wordt **alleen** maar opgeslagen als *Strobe* hoog is!\n",
    "* Hoe komt dit? Kan je dit aan de schakeling zien?"
   ]
  },
  {
   "cell_type": "markdown",
   "metadata": {
    "slideshow": {
     "slide_type": "subslide"
    }
   },
   "source": [
    "### Eén bit geheugen!\n",
    "\n",
    "![Flip-flop](images/12/flipflopsmall.png)\n",
    "\n",
    "* We hebben nu één bit geheugen gemaakt!\n",
    "* Maar je PC heeft vermoedelijk iets van 16 GB geheugen? Dat is ruim **128 miljard keer** zoveel..."
   ]
  },
  {
   "cell_type": "markdown",
   "metadata": {
    "slideshow": {
     "slide_type": "slide"
    }
   },
   "source": [
    "## Bonusopgave: 12nGb geheugen maken!\n",
    "\n",
    "* 16 GB gaan we niet redden, maar 12 nGb (nanogigabit 🙃) moet kunnen!\n",
    "\n",
    "![12 nGB geheugen](images/12/memory.png)"
   ]
  },
  {
   "cell_type": "markdown",
   "metadata": {
    "slideshow": {
     "slide_type": "fragment"
    }
   },
   "source": [
    "* *Twee* adresbits, dus zijn er *vier* adressen\n",
    "* *Drie* databits, dus kan elk adres een waarde van *drie* bits bevatten (0 tot en met 7)\n",
    "* Twee pins om aan te geven of er gelezen of geschreven moet worden"
   ]
  },
  {
   "cell_type": "markdown",
   "metadata": {
    "slideshow": {
     "slide_type": "fragment"
    }
   },
   "source": [
    "* Totaal dus 12 bits geheugen, oftewel 12 nGb!"
   ]
  },
  {
   "cell_type": "markdown",
   "metadata": {
    "slideshow": {
     "slide_type": "subslide"
    }
   },
   "source": [
    "* We hebben in ieder geval de genoemde **pins** nodig\n",
    "* En een manier om de adrespins om te zetten naar het benodigde adres: een ***address decoder***\n",
    "* Hiervoor kunnen we een aparte hulpschakeling maken"
   ]
  },
  {
   "cell_type": "markdown",
   "metadata": {
    "slideshow": {
     "slide_type": "fragment"
    }
   },
   "source": [
    "<p><img style=\"width: 25%;\" alt=\"Pins en decoder\" src=\"images/12/memory-decoder.png\"></p>"
   ]
  },
  {
   "cell_type": "markdown",
   "metadata": {
    "slideshow": {
     "slide_type": "subslide"
    }
   },
   "source": [
    "* We hebben **flip-flops** nodig om onze bits in op te slaan!\n",
    "* Ook dit is een hulpschakeling"
   ]
  },
  {
   "cell_type": "markdown",
   "metadata": {
    "slideshow": {
     "slide_type": "fragment"
    }
   },
   "source": [
    "![Flip-flops](images/12/memory-flipflops1.png)"
   ]
  },
  {
   "cell_type": "markdown",
   "metadata": {
    "slideshow": {
     "slide_type": "subslide"
    }
   },
   "source": [
    "* We moeten de **strobes** nog aansluiten!\n",
    "* Hiervoor gebruiken we de **write**-pin: alleen als deze hoog is, kunnen we naar het geheugen schrijven"
   ]
  },
  {
   "cell_type": "markdown",
   "metadata": {
    "slideshow": {
     "slide_type": "fragment"
    }
   },
   "source": [
    "![Write-pin](images/12/memory-write1.png)"
   ]
  },
  {
   "cell_type": "markdown",
   "metadata": {
    "slideshow": {
     "slide_type": "subslide"
    }
   },
   "source": [
    "* We hebben nu nog maar **drie** bits geheugen, maar dat moeten er **twaalf** worden!\n",
    "* Ter illustratie voegen we er nog drie toe"
   ]
  },
  {
   "cell_type": "markdown",
   "metadata": {
    "slideshow": {
     "slide_type": "fragment"
    }
   },
   "source": [
    "![Meer flip-flops](images/12/memory-flipflops2.png)"
   ]
  },
  {
   "cell_type": "markdown",
   "metadata": {
    "slideshow": {
     "slide_type": "fragment"
    }
   },
   "source": [
    "* Maar nu krijgen de flip-flops steeds per twee dezelfde waarde! (Waarom?)"
   ]
  },
  {
   "cell_type": "markdown",
   "metadata": {
    "slideshow": {
     "slide_type": "subslide"
    }
   },
   "source": [
    "* Gelukkig hebben we onze **decoder** nog! Deze kunnen we combineren met de **write**-pin.\n",
    "* Welke poort kunnen we hiervoor gebruiken?"
   ]
  },
  {
   "cell_type": "markdown",
   "metadata": {
    "slideshow": {
     "slide_type": "fragment"
    }
   },
   "source": [
    "![Decoder aansluiten](images/12/memory-write2.png)"
   ]
  },
  {
   "cell_type": "markdown",
   "metadata": {
    "slideshow": {
     "slide_type": "subslide"
    }
   },
   "source": [
    "* Nu kunnen we wel bits schrijven, maar we krijgen alleen maar de bits van **adres 0** terug!\n",
    "* Ook voor het lezen moeten we het een en ander aan de decoder koppelen.\n",
    "* Welke poorten kunnen we hiervoor gebruiken?"
   ]
  },
  {
   "cell_type": "markdown",
   "metadata": {
    "slideshow": {
     "slide_type": "fragment"
    }
   },
   "source": [
    "![Lezen](images/12/memory-read1.png)"
   ]
  },
  {
   "cell_type": "markdown",
   "metadata": {
    "slideshow": {
     "slide_type": "subslide"
    }
   },
   "source": [
    "* We gebruiken **and**- en **or**-poorten om het goede geheugenadres uit te lezen.\n",
    "* We kunnen nu ook een ander adres uitlezen!"
   ]
  },
  {
   "cell_type": "markdown",
   "metadata": {
    "slideshow": {
     "slide_type": "fragment"
    }
   },
   "source": [
    "![Een ander geheugenadres lezen](images/12/memory-read2.png)"
   ]
  }
 ],
 "metadata": {
  "kernelspec": {
   "display_name": "Python 3 (ipykernel)",
   "language": "python",
   "name": "python3"
  },
  "language_info": {
   "codemirror_mode": {
    "name": "ipython",
    "version": 3
   },
   "file_extension": ".py",
   "mimetype": "text/x-python",
   "name": "python",
   "nbconvert_exporter": "python",
   "pygments_lexer": "ipython3",
   "version": "3.10.0"
  }
 },
 "nbformat": 4,
 "nbformat_minor": 4
}
