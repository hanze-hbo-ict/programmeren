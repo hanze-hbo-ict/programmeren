{
 "cells": [
  {
   "cell_type": "markdown",
   "metadata": {
    "slideshow": {
     "slide_type": "slide"
    }
   },
   "source": [
    "# Ontwerpen met data\n",
    "\n",
    "Computing to the `max`!"
   ]
  },
  {
   "cell_type": "markdown",
   "metadata": {
    "slideshow": {
     "slide_type": "notes"
    }
   },
   "source": [
    "Tot nu toe heb je gezien hoe je oplossingen met functies kan ontwerpen met technieken als recursie maar ook compositie, het opdelen van een probleem in kleinere stukken waar meerdere functies verantwoordelijk zijn voor een deel van de oplossing.\n",
    "\n",
    "Nu gaan we kijken hoe we kunnen ontwerpen met data!"
   ]
  },
  {
   "cell_type": "markdown",
   "metadata": {
    "slideshow": {
     "slide_type": "subslide"
    }
   },
   "source": [
    "## `max` of `min`\n",
    "\n",
    "De niet subtiele kunst van het uitzoeken van het beste (en slechtste) van alles: `>` of `<`"
   ]
  },
  {
   "cell_type": "code",
   "execution_count": 1,
   "metadata": {
    "slideshow": {
     "slide_type": "fragment"
    }
   },
   "outputs": [
    {
     "data": {
      "text/plain": [
       "True"
      ]
     },
     "execution_count": 1,
     "metadata": {},
     "output_type": "execute_result"
    }
   ],
   "source": [
    "\"m&m's\" > \"koffie\""
   ]
  },
  {
   "cell_type": "code",
   "execution_count": 2,
   "metadata": {
    "slideshow": {
     "slide_type": "fragment"
    }
   },
   "outputs": [
    {
     "data": {
      "text/plain": [
       "True"
      ]
     },
     "execution_count": 2,
     "metadata": {},
     "output_type": "execute_result"
    }
   ],
   "source": [
    "[0, 42] < [4, 2]"
   ]
  },
  {
   "cell_type": "code",
   "execution_count": 3,
   "metadata": {
    "slideshow": {
     "slide_type": "fragment"
    }
   },
   "outputs": [
    {
     "data": {
      "text/plain": [
       "True"
      ]
     },
     "execution_count": 3,
     "metadata": {},
     "output_type": "execute_result"
    }
   ],
   "source": [
    "[0, \"m&m's\"] < [4, \"koffie\"]"
   ]
  },
  {
   "cell_type": "code",
   "execution_count": 4,
   "metadata": {
    "slideshow": {
     "slide_type": "fragment"
    }
   },
   "outputs": [
    {
     "data": {
      "text/plain": [
       "True"
      ]
     },
     "execution_count": 4,
     "metadata": {},
     "output_type": "execute_result"
    }
   ],
   "source": [
    "\"🥚\" > \"🐔\""
   ]
  },
  {
   "cell_type": "markdown",
   "metadata": {
    "slideshow": {
     "slide_type": "notes"
    }
   },
   "source": [
    "Let op, het kip of ei probleem is nu opgelost 😉"
   ]
  },
  {
   "cell_type": "markdown",
   "metadata": {
    "slideshow": {
     "slide_type": "subslide"
    }
   },
   "source": [
    "## `max`\n",
    "\n",
    "Een recept voor het leven? Python heeft het al voor ons!\n",
    "\n",
    "> De echte vraag is natuurlijk **wat** te maximaliseren!\n"
   ]
  },
  {
   "cell_type": "markdown",
   "metadata": {
    "slideshow": {
     "slide_type": "subslide"
    }
   },
   "source": [
    "Of te minimaliseren met `min` ...\n",
    "\n",
    "![Pineapple pizza](images/7/pineapple_pizza.jpg)"
   ]
  },
  {
   "cell_type": "markdown",
   "metadata": {
    "slideshow": {
     "slide_type": "notes"
    }
   },
   "source": [
    "Smaken verschillen en je zal zien dat Python een heel duidelijke mening heeft!"
   ]
  },
  {
   "cell_type": "markdown",
   "metadata": {
    "slideshow": {
     "slide_type": "subslide"
    }
   },
   "source": [
    "### to the `max`\n",
    "\n"
   ]
  },
  {
   "cell_type": "markdown",
   "metadata": {
    "slideshow": {
     "slide_type": "fragment"
    }
   },
   "source": [
    "![GOOG NASDAQ](images/7/goog_nasdaq.png)"
   ]
  },
  {
   "cell_type": "markdown",
   "metadata": {
    "slideshow": {
     "slide_type": "notes"
    }
   },
   "source": [
    "Je ziet hier de koersontwikkeling van een willekeurig aandeel. Wanneer was dit aandeel in deze periode het meest en wanneer het minst waard?"
   ]
  },
  {
   "cell_type": "markdown",
   "metadata": {
    "slideshow": {
     "slide_type": "subslide"
    }
   },
   "source": [
    "## `max`imaal rendement\n",
    "\n",
    "Wat is de hoogste prijs van een aandeel in een bepaalde periode?"
   ]
  },
  {
   "cell_type": "code",
   "execution_count": 5,
   "metadata": {
    "slideshow": {
     "slide_type": "fragment"
    }
   },
   "outputs": [
    {
     "data": {
      "text/plain": [
       "532.8"
      ]
     },
     "execution_count": 5,
     "metadata": {},
     "output_type": "execute_result"
    }
   ],
   "source": [
    "max([475.5, 458.0, 441.3, 470.8, 532.8, 520.9])"
   ]
  },
  {
   "cell_type": "markdown",
   "metadata": {
    "slideshow": {
     "slide_type": "subslide"
    }
   },
   "source": [
    "### Maar wanneer?\n",
    "\n",
    "De informatie is beperkt want we weten niet *wanneer* de koers `max` was!\n",
    "\n",
    "Hoe zou je de bijbehorende maand ook in de reeks kunnen opnemen?"
   ]
  },
  {
   "cell_type": "code",
   "execution_count": 6,
   "metadata": {
    "slideshow": {
     "slide_type": "fragment"
    }
   },
   "outputs": [
    {
     "data": {
      "text/plain": [
       "[532.8, 'jul']"
      ]
     },
     "execution_count": 6,
     "metadata": {},
     "output_type": "execute_result"
    }
   ],
   "source": [
    "max([[470.8, \"may\"], [532.8, \"jul\"], [520.9, \"sep\"]])"
   ]
  },
  {
   "cell_type": "markdown",
   "metadata": {
    "slideshow": {
     "slide_type": "notes"
    }
   },
   "source": [
    "Dit is een interessant idee, hoe zou een combinatie van prijs en maand kunnen worden gerepresenteerd? Het zijn twee elementen die logisch bij elkaar horen en dit zou je kunnen zien als een collectie van `max`imaal *twee* elementen. Het datatype dat dit goed zou kunnen representeren is een list, waar je ook de betekenis van de volgorde mee kan uitdrukken: het element op index positie 0 is altijd de prijs (een integer) en het element op positie 1 de bijbehorende maand (een string)."
   ]
  },
  {
   "cell_type": "markdown",
   "metadata": {
    "slideshow": {
     "slide_type": "fragment"
    }
   },
   "source": [
    "Prijs en maand kunnen combineren in een list is handig! Maar misschien hebben we liever de maand als eerste element?"
   ]
  },
  {
   "cell_type": "code",
   "execution_count": 7,
   "metadata": {
    "slideshow": {
     "slide_type": "fragment"
    }
   },
   "outputs": [
    {
     "data": {
      "text/plain": [
       "['sep', 520.9]"
      ]
     },
     "execution_count": 7,
     "metadata": {},
     "output_type": "execute_result"
    }
   ],
   "source": [
    "max([[\"may\", 470.8], [\"jul\", 532.8], [\"sep\", 520.9]])"
   ]
  },
  {
   "cell_type": "markdown",
   "metadata": {
    "slideshow": {
     "slide_type": "notes"
    }
   },
   "source": [
    "Bij het vergelijken van lists zal Python altijd naar het *eerste* element van een list kijken om te komen tot een `max` of `min`. Dit werkt heel goed als het eerste element een getal is (een integer, in dit geval) maar hoe worden strings vergeleken?\n",
    "\n",
    "Bedenk je dat lists en strings beide sequenties zijn, collecties van opeenvolgende elementen. Net als bij lists zal Python het eerste element van een string kiezen (een karaker) om mee te vergelijken. In dit geval is \"s\" het `max` karakter en dit komt overeen met de positie in het alfabet."
   ]
  },
  {
   "cell_type": "markdown",
   "metadata": {
    "slideshow": {
     "slide_type": "slide"
    }
   },
   "source": [
    "## Python's advies\n",
    "\n",
    "Python's advies voor een beter leven"
   ]
  },
  {
   "cell_type": "code",
   "execution_count": 8,
   "metadata": {
    "slideshow": {
     "slide_type": "fragment"
    }
   },
   "outputs": [],
   "source": [
    "L = [\"liefde\", \"werken\", \"studeren\", \"feesten\", \"eten\", \"sporten\", \"of\", \"slapen\"]"
   ]
  },
  {
   "cell_type": "markdown",
   "metadata": {
    "slideshow": {
     "slide_type": "fragment"
    }
   },
   "source": [
    "Wat is het belangrijkst voor een `max(L)` of `min(L)` beter leven?"
   ]
  },
  {
   "cell_type": "code",
   "execution_count": 9,
   "metadata": {
    "slideshow": {
     "slide_type": "fragment"
    }
   },
   "outputs": [
    {
     "data": {
      "text/plain": [
       "'werken'"
      ]
     },
     "execution_count": 9,
     "metadata": {},
     "output_type": "execute_result"
    }
   ],
   "source": [
    "max(L)"
   ]
  },
  {
   "cell_type": "code",
   "execution_count": 10,
   "metadata": {
    "slideshow": {
     "slide_type": "fragment"
    }
   },
   "outputs": [
    {
     "data": {
      "text/plain": [
       "'eten'"
      ]
     },
     "execution_count": 10,
     "metadata": {},
     "output_type": "execute_result"
    }
   ],
   "source": [
    "min(L)"
   ]
  },
  {
   "cell_type": "markdown",
   "metadata": {
    "slideshow": {
     "slide_type": "notes"
    }
   },
   "source": [
    "Hmm Python, het is niet waarschijnlijk dat iedereen het hier mee eens is!"
   ]
  },
  {
   "cell_type": "markdown",
   "metadata": {
    "slideshow": {
     "slide_type": "subslide"
    }
   },
   "source": [
    "### `str`ings to the `max`\n",
    "\n",
    "Strings zijn collecties en net als bij lists kiest Python het *eerste* element voor vergelijkingen"
   ]
  },
  {
   "cell_type": "code",
   "execution_count": 11,
   "metadata": {
    "slideshow": {
     "slide_type": "fragment"
    }
   },
   "outputs": [
    {
     "data": {
      "text/plain": [
       "True"
      ]
     },
     "execution_count": 11,
     "metadata": {},
     "output_type": "execute_result"
    }
   ],
   "source": [
    "\"w\" > \"e\""
   ]
  },
  {
   "cell_type": "markdown",
   "metadata": {
    "slideshow": {
     "slide_type": "notes"
    }
   },
   "source": [
    "Intuïtief zou je denken dat dit een vergelijking is op basis van de positie in het alfabet waar \"w\" `max` is."
   ]
  },
  {
   "cell_type": "code",
   "execution_count": 12,
   "metadata": {
    "slideshow": {
     "slide_type": "fragment"
    }
   },
   "outputs": [
    {
     "data": {
      "text/plain": [
       "False"
      ]
     },
     "execution_count": 12,
     "metadata": {},
     "output_type": "execute_result"
    }
   ],
   "source": [
    "\"w\" > \"🤷‍♀️\""
   ]
  },
  {
   "cell_type": "markdown",
   "metadata": {
    "slideshow": {
     "slide_type": "notes"
    }
   },
   "source": [
    "Weet je nog dat emoji ook karakters zijn? In dit geval is 🤷‍♀️ de `max`!\n",
    "\n",
    "Als je er bij stilstaat bestaan er zoveel meer karakters dan alleen het alfabet, bijvoorbeeld \"&\", \"?\" of \"!\". Maar denk ook aan karakters in andere talen, bijvoorbeeld Koreaans (안녕하세요!): wat is de `min` en `max` van al deze karakters?!?\n",
    "\n",
    "Hier is duidelijk meer aan de hand en dit gaan we verder onderzoeken wanneer je gaat rekenen met taal. We zullen dan ook zien of het kip of ei probleem écht is opgelost!"
   ]
  },
  {
   "cell_type": "markdown",
   "metadata": {
    "slideshow": {
     "slide_type": "slide"
    }
   },
   "source": [
    "## `max` recursief\n",
    "\n",
    "```python\n",
    "def max(L):\n",
    "    \"\"\"Vind het max element in L\n",
    "    input: L, een (niet lege) list\n",
    "    \"\"\"\n",
    "    if len(L) == 1:\n",
    "        return L[0]           # maar 1 element\n",
    "\n",
    "    max_of_rest = max(L[1:])  # max van de rest\n",
    "\n",
    "    if L[0] > max_of_rest:\n",
    "        return L[0]           # of L[0]\n",
    "    else:\n",
    "        return max_of_rest    # of max_of_rest!\n",
    "```"
   ]
  },
  {
   "cell_type": "markdown",
   "metadata": {
    "slideshow": {
     "slide_type": "subslide"
    }
   },
   "source": [
    "## `max` scrabble score\n",
    "\n",
    "Welk element (woord) in een lijst heeft de hoogste scrabble score?"
   ]
  },
  {
   "cell_type": "code",
   "execution_count": 13,
   "metadata": {
    "slideshow": {
     "slide_type": "skip"
    }
   },
   "outputs": [],
   "source": [
    "def letter_score(s):\n",
    "    \"\"\"Scrabble letter score\n",
    "    \"\"\"\n",
    "    if s in \"adeinorst\":\n",
    "        return 1\n",
    "    elif s in \"ghl\":\n",
    "        return 2\n",
    "    elif s in \"bcmp\":\n",
    "        return 3\n",
    "    elif s in \"jkuvw\":\n",
    "        return 4\n",
    "    elif s == \"f\":\n",
    "        return 5\n",
    "    elif s == \"z\":\n",
    "        return 6\n",
    "    elif s in \"xy\":\n",
    "        return 8\n",
    "    elif s == \"q\":\n",
    "        return 10\n",
    "    else:\n",
    "        return 0"
   ]
  },
  {
   "cell_type": "markdown",
   "metadata": {
    "slideshow": {
     "slide_type": "skip"
    }
   },
   "source": [
    "Je herkent hier de oplossing om voor een letter `s` de scrabble score te vinden."
   ]
  },
  {
   "cell_type": "code",
   "execution_count": 14,
   "metadata": {
    "slideshow": {
     "slide_type": "skip"
    }
   },
   "outputs": [],
   "source": [
    "def scrabble_score(S):\n",
    "    if len(S) == 1:\n",
    "        return letter_score(S)                             # base case\n",
    "    else:\n",
    "        return letter_score(S[0]) + scrabble_score(S[1:])  # recursive case"
   ]
  },
  {
   "cell_type": "markdown",
   "metadata": {
    "slideshow": {
     "slide_type": "skip"
    }
   },
   "source": [
    "Om voor een woord de totale scrabble score te berekenen heb je deze functie moeten implementeren. Als je dit niet gelukt is dan krijg je het bij dezen cadeau, bestudeer natuurlijk wel wat het doet!"
   ]
  },
  {
   "cell_type": "code",
   "execution_count": 15,
   "metadata": {
    "slideshow": {
     "slide_type": "subslide"
    }
   },
   "outputs": [],
   "source": [
    "L = [\"aliens\", \"zap\", \"hazy\", \"code\"]"
   ]
  },
  {
   "cell_type": "code",
   "execution_count": 16,
   "metadata": {
    "slideshow": {
     "slide_type": "fragment"
    }
   },
   "outputs": [],
   "source": [
    "def max_ss(L):\n",
    "    \"\"\"Vind L's element met de hoogste scrabble score\n",
    "    input: L, een (niet lege) list\n",
    "    \"\"\"\n",
    "    if len(L) == 1:\n",
    "        return L[0]              # maar 1 element\n",
    "\n",
    "    max_of_rest = max_ss(L[1:])  # max van de rest\n",
    "\n",
    "    if scrabble_score(L[0]) > scrabble_score(max_of_rest):\n",
    "        return L[0]              # of L[0]\n",
    "    else:\n",
    "        return max_of_rest       # of max_of_rest!"
   ]
  },
  {
   "cell_type": "code",
   "execution_count": 17,
   "metadata": {
    "slideshow": {
     "slide_type": "fragment"
    }
   },
   "outputs": [
    {
     "data": {
      "text/plain": [
       "'hazy'"
      ]
     },
     "execution_count": 17,
     "metadata": {},
     "output_type": "execute_result"
    }
   ],
   "source": [
    "max_ss(L)"
   ]
  },
  {
   "cell_type": "markdown",
   "metadata": {
    "slideshow": {
     "slide_type": "subslide"
    }
   },
   "source": [
    "## Voor de `LoL`\n",
    "\n",
    "Kunnen we deze oplossing vereenvoudigen, voor de `LoL`?"
   ]
  },
  {
   "cell_type": "markdown",
   "metadata": {
    "slideshow": {
     "slide_type": "notes"
    }
   },
   "source": [
    "List comprehension is een eenvoudige en effciënte oplossing om iteraties niet recursief maar sequentieel op te lossen. We gaan hier het principe van lists om gegevens te combineren gebruiken (zoals je ook net zag bij de aandelenkoersen) om zo te komen tot lijsten met lijsten, oftewel *List of Lists*! "
   ]
  },
  {
   "cell_type": "markdown",
   "metadata": {
    "slideshow": {
     "slide_type": "subslide"
    }
   },
   "source": [
    "### `LoL` met list comprehension\n",
    "\n",
    "*List of Lists*"
   ]
  },
  {
   "cell_type": "code",
   "execution_count": 18,
   "metadata": {
    "slideshow": {
     "slide_type": "fragment"
    }
   },
   "outputs": [],
   "source": [
    "def max_ss(L):\n",
    "    \"\"\"Vind L's element met de hoogste scrabble score\n",
    "    \"\"\"\n",
    "    LoL = [[scrabble_score(w), w] for w in L]\n",
    "\n",
    "    bestpair = max(LoL)\n",
    "\n",
    "    return bestpair[1]"
   ]
  },
  {
   "cell_type": "markdown",
   "metadata": {
    "slideshow": {
     "slide_type": "notes"
    }
   },
   "source": [
    "Onze `LoL`, of *List of Lists* is een list comprehension waar elk element een *score*- en *woord*paar is.\n",
    "\n",
    "Je zag eerder dat (in het voorbeeld met aandelen) dat Python een `max` (en `min`) bepaalt op basis van het eerste element van een collectie. Python weet niet waar het op moet vergelijken om tot een `max` te komen van een list en daarom kiest het het eerste element als basis voor vergelijking. Wij maken hier dankbaar gebruik van dat gedrag!"
   ]
  },
  {
   "cell_type": "markdown",
   "metadata": {
    "slideshow": {
     "slide_type": "subslide"
    }
   },
   "source": [
    "### Stap voor stap"
   ]
  },
  {
   "cell_type": "code",
   "execution_count": 19,
   "metadata": {
    "slideshow": {
     "slide_type": "fragment"
    }
   },
   "outputs": [],
   "source": [
    "L = [\"aliens\", \"zap\", \"hazy\", \"code\"]"
   ]
  },
  {
   "cell_type": "markdown",
   "metadata": {
    "slideshow": {
     "slide_type": "notes"
    }
   },
   "source": [
    "We gebruiken weer dezelfde list aan scrabble woorden."
   ]
  },
  {
   "cell_type": "code",
   "execution_count": 20,
   "metadata": {
    "slideshow": {
     "slide_type": "fragment"
    }
   },
   "outputs": [],
   "source": [
    "LoL = [[scrabble_score(w), w] for w in L]"
   ]
  },
  {
   "cell_type": "markdown",
   "metadata": {
    "slideshow": {
     "slide_type": "notes"
    }
   },
   "source": [
    "De lists of lists waar elk element een combinatie is van score en woord."
   ]
  },
  {
   "cell_type": "code",
   "execution_count": 21,
   "metadata": {
    "slideshow": {
     "slide_type": "fragment"
    }
   },
   "outputs": [
    {
     "data": {
      "text/plain": [
       "[[7, 'aliens'], [10, 'zap'], [17, 'hazy'], [6, 'code']]"
      ]
     },
     "execution_count": 21,
     "metadata": {},
     "output_type": "execute_result"
    }
   ],
   "source": [
    "LoL"
   ]
  },
  {
   "cell_type": "markdown",
   "metadata": {
    "slideshow": {
     "slide_type": "notes"
    }
   },
   "source": [
    "De `LoL` kan je inspecteren en dit is het resultaat van de list comprehension. Je ziet inderdaad paren van score en woord."
   ]
  },
  {
   "cell_type": "code",
   "execution_count": 22,
   "metadata": {
    "slideshow": {
     "slide_type": "fragment"
    }
   },
   "outputs": [],
   "source": [
    "bestpair = max(LoL)"
   ]
  },
  {
   "cell_type": "code",
   "execution_count": 23,
   "metadata": {
    "slideshow": {
     "slide_type": "fragment"
    }
   },
   "outputs": [
    {
     "data": {
      "text/plain": [
       "[17, 'hazy']"
      ]
     },
     "execution_count": 23,
     "metadata": {},
     "output_type": "execute_result"
    }
   ],
   "source": [
    "bestpair"
   ]
  },
  {
   "cell_type": "markdown",
   "metadata": {
    "slideshow": {
     "slide_type": "notes"
    }
   },
   "source": [
    "To the `max`! Het beste score- en woordpaar wordt gevonden op basis van de waarde van het eerste element, de score."
   ]
  },
  {
   "cell_type": "markdown",
   "metadata": {
    "slideshow": {
     "slide_type": "fragment"
    }
   },
   "source": [
    "Wat geeft de functie uiteindelijk terug?\n",
    "\n",
    "```python\n",
    "return bestpair[1]\n",
    "```"
   ]
  },
  {
   "cell_type": "markdown",
   "metadata": {
    "slideshow": {
     "slide_type": "slide"
    }
   },
   "source": [
    "## Quiz"
   ]
  },
  {
   "cell_type": "markdown",
   "metadata": {
    "slideshow": {
     "slide_type": "subslide"
    }
   },
   "source": [
    "### Langste woord\n",
    "\n",
    "```python\n",
    "def maxlen(L):\n",
    "    \"\"\"Vind het langste woord in L\n",
    "    \"\"\"\n",
    "    LoL = [[len(s), s] for s in L]\n",
    "    \n",
    "    bestpair = max(LoL)\n",
    "    \n",
    "    return bestpair[1]\n",
    "\n",
    "L = [\"aliens\", \"zap\", \"hazy\", \"code\"]\n",
    "```"
   ]
  },
  {
   "cell_type": "markdown",
   "metadata": {
    "slideshow": {
     "slide_type": "fragment"
    }
   },
   "source": [
    "1.  Vul aan, `LoL` is:\n",
    "    ```python\n",
    "    [[6, \"aliens\"], [3, \"zap\"], ..., ...]\n",
    "    ```\n",
    "2.  Wat is `bestpair`?\n",
    "3.  Wat wordt als *resultaat* teruggegeven?\n"
   ]
  },
  {
   "cell_type": "markdown",
   "metadata": {
    "slideshow": {
     "slide_type": "subslide"
    }
   },
   "source": [
    "#### Antwoord\n",
    "\n",
    "1.  `LoL` is:\n",
    "    ```python\n",
    "    [[6, \"aliens\"], [3, \"zap\"], [4, \"hazy\"], [4, \"code\"]]\n",
    "    ```\n",
    "2.  `bestpair` is\n",
    "    ```python\n",
    "    [6, \"aliens\"]\n",
    "    ```\n",
    "3.  Het resultaat is \"aliens\"\n"
   ]
  },
  {
   "cell_type": "markdown",
   "metadata": {
    "slideshow": {
     "slide_type": "subslide"
    }
   },
   "source": [
    "### Dichtst bij 42\n",
    "\n",
    "```python\n",
    "def bestnumb(L):\n",
    "    \"\"\"Vind het getal het dichtst bij 42\n",
    "    \"\"\"\n",
    "    LoL = [...]\n",
    "    \n",
    "    bestpair = ...\n",
    "\n",
    "    return bestpair[1]\n",
    "\n",
    "    \n",
    "L = [30, 40, 50]\n",
    "```"
   ]
  },
  {
   "cell_type": "markdown",
   "metadata": {
    "slideshow": {
     "slide_type": "fragment"
    }
   },
   "source": [
    "1. Wat is de `LoL`?\n",
    "\n",
    "2. `min(LoL)` of `max(LoL)` voor `bestpair`?\n",
    "\n",
    "Hint, Python heeft een ingebouwde functie `abs(x)`, bijvoorbeeld:\n",
    "\n",
    "```python\n",
    "20 == abs(22 - 42)\n",
    "```"
   ]
  },
  {
   "cell_type": "markdown",
   "metadata": {
    "slideshow": {
     "slide_type": "subslide"
    }
   },
   "source": [
    "#### Antwoord\n",
    "\n",
    "1.  `LoL` is\n",
    "    ```python\n",
    "    [[abs(x - 42), x] for x in L]\n",
    "    ```\n",
    "\n",
    "2. `bestpair` is\n",
    "    ```python\n",
    "    min(LoL)  # let op, het *dichst* bij!\n",
    "    ```"
   ]
  },
  {
   "cell_type": "markdown",
   "metadata": {
    "slideshow": {
     "slide_type": "notes"
    }
   },
   "source": [
    "Terzijde, we adviseren je de quiz opgaven altijd zelf te proberen! We geven je hier het antwoord, maar probeer \n",
    "bijvoorbeeld in dit voorbeeld te beredeneren waarom de `LoL`\n",
    "\n",
    "```python\n",
    "[[abs(x - 42), x] for x in L]\n",
    "```\n",
    "\n",
    "het volgende resultaat geeft\n",
    "\n",
    "```python\n",
    "[[12, 30], [2, 40], [8, 50]]\n",
    "```\n",
    "\n",
    "bij gebruik van de functie `abs(x)`. Vraag jezelf af wat de functie `abs(x)` nu precies *doet*?"
   ]
  },
  {
   "cell_type": "markdown",
   "metadata": {
    "slideshow": {
     "slide_type": "subslide"
    }
   },
   "source": [
    "### Meest voorkomend\n",
    "\n",
    "```python\n",
    "def mostnumb(L):\n",
    "    \"\"\"Vind het meest voorkomend getal in L\n",
    "    \"\"\"\n",
    "    LoL = [...]\n",
    "    \n",
    "    bestpair = ...\n",
    "    \n",
    "    return bstpr[1]\n",
    "\n",
    "L = [3, 4, 5, 7, 6, 7]\n",
    "```"
   ]
  },
  {
   "cell_type": "markdown",
   "metadata": {
    "slideshow": {
     "slide_type": "fragment"
    }
   },
   "source": [
    "1. Wat is de `LoL`?\n",
    "\n",
    "2. `min(LoL)` of `max(LoL)` voor `bestpair`?\n",
    "\n",
    "Tip, gebruik de volgende *hulpfunctie*\n",
    "\n",
    "```python\n",
    "def count(e, L):\n",
    "    \"\"\"Vind het aantal e's in L\n",
    "    \"\"\"\n",
    "    LC = [1 for x in L if x == e]\n",
    "    return sum(LC)\n",
    "```"
   ]
  },
  {
   "cell_type": "markdown",
   "metadata": {
    "slideshow": {
     "slide_type": "subslide"
    }
   },
   "source": [
    "#### Antwoord\n",
    "\n",
    "1.  `LoL` is\n",
    "    ```python\n",
    "    [[count(e, L), e] for e in L]\n",
    "    ```\n",
    "    \n",
    "2. `bestpair` is\n",
    "    ```python\n",
    "    max(LoL)\n",
    "    ```"
   ]
  }
 ],
 "metadata": {
  "kernelspec": {
   "display_name": "Python 3 (ipykernel)",
   "language": "python",
   "name": "python3"
  },
  "language_info": {
   "codemirror_mode": {
    "name": "ipython",
    "version": 3
   },
   "file_extension": ".py",
   "mimetype": "text/x-python",
   "name": "python",
   "nbconvert_exporter": "python",
   "pygments_lexer": "ipython3",
   "version": "3.9.5"
  }
 },
 "nbformat": 4,
 "nbformat_minor": 4
}
