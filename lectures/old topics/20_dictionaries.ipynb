{
 "cells": [
  {
   "cell_type": "markdown",
   "metadata": {
    "slideshow": {
     "slide_type": "slide"
    }
   },
   "source": [
    "# Bestanden en dictionaries\n",
    "\n",
    "Data lezen en het meest \"tabulaire\" datatype!"
   ]
  },
  {
   "cell_type": "markdown",
   "metadata": {
    "slideshow": {
     "slide_type": "subslide"
    }
   },
   "source": [
    "## Klassen\n",
    "\n",
    "DIY data, eigen typen!"
   ]
  },
  {
   "cell_type": "markdown",
   "metadata": {
    "slideshow": {
     "slide_type": "fragment"
    }
   },
   "source": [
    "- **klasse** een zelf gedefineerd datatype\n",
    "- **object** data of een variabele met als type een bepaalde klasse\n",
    "- **methode** een functie in een klasse aangeroepen door een object\n",
    "- `self` binnen een klasse, de naam van het object dat een methode aanroept\n",
    "- **constructor** de `__init__` methode voor het aanmaken van een nieuw object\n",
    "- **repr** de `__repr__` methode die een string om te printen geeft\n",
    "- **velden** (of **attributen**) de data in `self`, `self.day`, `self.month`, `self.year`"
   ]
  },
  {
   "cell_type": "markdown",
   "metadata": {
    "slideshow": {
     "slide_type": "subslide"
    }
   },
   "source": [
    "## Waarom klassen?\n",
    "\n",
    "Python heeft geen datatype voor [Vier op 'n rij](https://nl.wikipedia.org/wiki/Vier_op_%27n_rij)..."
   ]
  },
  {
   "cell_type": "markdown",
   "metadata": {
    "slideshow": {
     "slide_type": "fragment"
    }
   },
   "source": [
    "![Game b2](images/20/game_b2.png)"
   ]
  },
  {
   "cell_type": "markdown",
   "metadata": {
    "slideshow": {
     "slide_type": "notes"
    }
   },
   "source": [
    "En dit probleem kunnen we nu oplossen!"
   ]
  },
  {
   "cell_type": "markdown",
   "metadata": {
    "slideshow": {
     "slide_type": "subslide"
    }
   },
   "source": [
    "```text\n",
    "| | | | | | | |\n",
    "| | | | | | | |\n",
    "| | | | | | | |\n",
    "| | | |X| | | |\n",
    "| |X| |X|O| | |\n",
    "|X|O|O|O|X|O| |\n",
    "---------------\n",
    " 0 1 2 3 4 5 6\n",
    "```"
   ]
  },
  {
   "cell_type": "markdown",
   "metadata": {
    "slideshow": {
     "slide_type": "subslide"
    }
   },
   "source": [
    "![Board](images/20/board.png)"
   ]
  },
  {
   "cell_type": "markdown",
   "metadata": {
    "slideshow": {
     "slide_type": "notes"
    }
   },
   "source": [
    "Hoe kan je de vraagtekens op een gewenste waarde zetten?"
   ]
  },
  {
   "cell_type": "markdown",
   "metadata": {
    "slideshow": {
     "slide_type": "fragment"
    }
   },
   "source": [
    "```python\n",
    "b.data[0][1] = \"X\"\n",
    "b.data[4][2] = \"O\"\n",
    "```"
   ]
  },
  {
   "cell_type": "markdown",
   "metadata": {
    "slideshow": {
     "slide_type": "notes"
    }
   },
   "source": [
    "`b.data` is een `LoL` en je kan daar waarden wijzigen. Maar of het resultaat is wat je in gedachten had?"
   ]
  },
  {
   "cell_type": "markdown",
   "metadata": {
    "slideshow": {
     "slide_type": "subslide"
    }
   },
   "source": [
    "![Game error](images/20/game_error.png)"
   ]
  },
  {
   "cell_type": "markdown",
   "metadata": {
    "slideshow": {
     "slide_type": "notes"
    }
   },
   "source": [
    "De stenen zweven, dit klopt niet... Hier gelden blijkbaar andere regels, en het object heeft alle kennis van deze regels!"
   ]
  },
  {
   "cell_type": "markdown",
   "metadata": {
    "slideshow": {
     "slide_type": "subslide"
    }
   },
   "source": [
    "### Verantwoordelijkheid"
   ]
  },
  {
   "cell_type": "markdown",
   "metadata": {
    "slideshow": {
     "slide_type": "fragment"
    }
   },
   "source": [
    "In het object ...\n",
    "\n",
    "```python\n",
    "self.data[row][col] = \"X\"\n",
    "```"
   ]
  },
  {
   "cell_type": "markdown",
   "metadata": {
    "slideshow": {
     "slide_type": "fragment"
    }
   },
   "source": [
    "en wij zouden niet meer moeten weten dan\n",
    "\n",
    "```python\n",
    "b.add_move(1, \"X\")\n",
    "b.add_move(2, \"O\")\n",
    "```"
   ]
  },
  {
   "cell_type": "markdown",
   "metadata": {
    "slideshow": {
     "slide_type": "notes"
    }
   },
   "source": [
    "Werp stenen in de tweede en derde kolom, het object zorgt dat ze op de juiste rij terecht komen (want het kent de regels)."
   ]
  },
  {
   "cell_type": "markdown",
   "metadata": {
    "slideshow": {
     "slide_type": "slide"
    }
   },
   "source": [
    "## Data ontwerp"
   ]
  },
  {
   "cell_type": "markdown",
   "metadata": {
    "slideshow": {
     "slide_type": "fragment"
    }
   },
   "source": [
    "*Velden* (of *attributen*): welke data is nodig?"
   ]
  },
  {
   "cell_type": "markdown",
   "metadata": {
    "slideshow": {
     "slide_type": "fragment"
    }
   },
   "source": [
    "*Methoden*: welke functionaliteit is nodig?"
   ]
  },
  {
   "cell_type": "markdown",
   "metadata": {
    "slideshow": {
     "slide_type": "notes"
    }
   },
   "source": [
    "Dit hoeft niet beperkt te blijven tot een veld van 6 rijen en 7 kolommen!"
   ]
  },
  {
   "cell_type": "markdown",
   "metadata": {
    "slideshow": {
     "slide_type": "subslide"
    }
   },
   "source": [
    "### `__init__`"
   ]
  },
  {
   "cell_type": "markdown",
   "metadata": {
    "slideshow": {
     "slide_type": "fragment"
    }
   },
   "source": [
    "```python\n",
    "class Board:\n",
    "    \"\"\"A datatype representing a C4 board\n",
    "       with an arbitrary number of rows and cols\n",
    "    \"\"\"\n",
    "\n",
    "    def __init__(self, width, height):\n",
    "        \"\"\"The constructor for objects of type Board\n",
    "        \"\"\"\n",
    "        self.width = width\n",
    "        self.height = height\n",
    "        self.data = [[\" \"] * width for row in range(height)]\n",
    "```"
   ]
  },
  {
   "cell_type": "markdown",
   "metadata": {
    "slideshow": {
     "slide_type": "subslide"
    }
   },
   "source": [
    "### List comprehension\n",
    "\n",
    "```python\n",
    "self.data = [[\" \"] * width for row in range(height)]\n",
    "```"
   ]
  },
  {
   "cell_type": "code",
   "execution_count": 1,
   "metadata": {
    "slideshow": {
     "slide_type": "fragment"
    }
   },
   "outputs": [],
   "source": [
    "width = 7\n",
    "height = 6"
   ]
  },
  {
   "cell_type": "code",
   "execution_count": 2,
   "metadata": {
    "slideshow": {
     "slide_type": "fragment"
    }
   },
   "outputs": [
    {
     "data": {
      "text/plain": [
       "[' ', ' ', ' ', ' ', ' ', ' ', ' ']"
      ]
     },
     "execution_count": 2,
     "metadata": {},
     "output_type": "execute_result"
    }
   ],
   "source": [
    "[\" \"] * width"
   ]
  },
  {
   "cell_type": "code",
   "execution_count": 3,
   "metadata": {
    "slideshow": {
     "slide_type": "fragment"
    }
   },
   "outputs": [
    {
     "data": {
      "text/plain": [
       "[[' ', ' ', ' ', ' ', ' ', ' ', ' '],\n",
       " [' ', ' ', ' ', ' ', ' ', ' ', ' '],\n",
       " [' ', ' ', ' ', ' ', ' ', ' ', ' '],\n",
       " [' ', ' ', ' ', ' ', ' ', ' ', ' '],\n",
       " [' ', ' ', ' ', ' ', ' ', ' ', ' '],\n",
       " [' ', ' ', ' ', ' ', ' ', ' ', ' ']]"
      ]
     },
     "execution_count": 3,
     "metadata": {},
     "output_type": "execute_result"
    }
   ],
   "source": [
    "[[\" \"] * width for row in range(height)]"
   ]
  },
  {
   "cell_type": "markdown",
   "metadata": {
    "slideshow": {
     "slide_type": "subslide"
    }
   },
   "source": [
    "### `__repr__`"
   ]
  },
  {
   "cell_type": "markdown",
   "metadata": {
    "slideshow": {
     "slide_type": "subslide"
    }
   },
   "source": [
    "```python\n",
    "    def __repr__(self):\n",
    "        \"\"\"This method returns a string representation\n",
    "           for an object of type Board\n",
    "        \"\"\"\n",
    "        s = \"\"\n",
    "        for r in range(self.height):\n",
    "            s += \"|\"\n",
    "\n",
    "            for c in range(self.width):\n",
    "                s += self.data[r][c] + \"|\"\n",
    "\n",
    "            s += \"\\n\"\n",
    "\n",
    "        s += (2 * self.width + 1) * \"-\"\n",
    "\n",
    "        # what kind of loop will add the col #'s here?\n",
    "\n",
    "        return s\n",
    "```"
   ]
  },
  {
   "cell_type": "markdown",
   "metadata": {
    "slideshow": {
     "slide_type": "fragment"
    }
   },
   "source": [
    "```text\n",
    "| | | | | | | |                | | | | | | | |\n",
    "| | | | | | | |                | | | | | | | |\n",
    "| | | | | | | |                | | | | | | | |\n",
    "| | | | | | | |                | | | | | | | |\n",
    "| | | | | | | |                | | | | | | | |\n",
    "| | | | | | | |                | | | | | | | |\n",
    "---------------                ---------------\n",
    "                                0 1 2 3 4 5 6\n",
    "```"
   ]
  },
  {
   "cell_type": "markdown",
   "metadata": {
    "slideshow": {
     "slide_type": "notes"
    }
   },
   "source": [
    "Welk type lus is nodig om ook de kolomnummers af te drukken (0 tot en met 6 in dit geval)?"
   ]
  },
  {
   "cell_type": "markdown",
   "metadata": {
    "slideshow": {
     "slide_type": "subslide"
    }
   },
   "source": [
    "### `add_move`"
   ]
  },
  {
   "cell_type": "markdown",
   "metadata": {
    "slideshow": {
     "slide_type": "subslide"
    }
   },
   "source": [
    "```python\n",
    "class Board:\n",
    "\n",
    "    def add_move(self, col, ox):\n",
    "        \"\"\"Buggy version!\n",
    "        \"\"\"\n",
    "        for row in range(0, self.height):\n",
    "            if self.data[row][col] != \" \":\n",
    "                self.data[row - 1][col] = ox\n",
    "```"
   ]
  },
  {
   "cell_type": "markdown",
   "metadata": {
    "slideshow": {
     "slide_type": "fragment"
    }
   },
   "source": [
    "```text\n",
    "| | | | | | | |                | | | | | | | |\n",
    "| | | | | | | |                | | | | | | | |\n",
    "| | | | | | | |                | | | |O| | | |\n",
    "| | | |X| | | |                | | | |O| | | |\n",
    "| | | |X| | | |                | | | |O| | | |\n",
    "| | | |O| | | |                | | | |O| | | |\n",
    "---------------                ---------------\n",
    " 0 1 2 3 4 5 6                  0 1 2 3 4 5 6\n",
    "```"
   ]
  },
  {
   "cell_type": "markdown",
   "metadata": {
    "slideshow": {
     "slide_type": "fragment"
    }
   },
   "source": [
    "Deze versie heeft twee fouten (bugs!), welke?"
   ]
  },
  {
   "cell_type": "markdown",
   "metadata": {
    "slideshow": {
     "slide_type": "notes"
    }
   },
   "source": [
    "Drie (!) posities zullen gaan veranderen. De lus zal moeten stoppen als de plek is gevonden, en een oplossing zal moeten worden gevonden voor als de kolom nog leeg is."
   ]
  },
  {
   "cell_type": "markdown",
   "metadata": {
    "slideshow": {
     "slide_type": "subslide"
    }
   },
   "source": [
    "```python\n",
    "class Board:\n",
    "\n",
    "    def add_move_(self, col, ox):\n",
    "        \"\"\"Correct version!\n",
    "        \"\"\"\n",
    "        for row in range(0, self.height):\n",
    "            if self.data[row][col] != \" \":\n",
    "                self.data[row - 1][col] = ox\n",
    "                return  # stop the loop, stop the method\n",
    "\n",
    "            \n",
    "        # only gets here if column is empty, it sets\n",
    "        # the _bottom_ spot to the correct checker\n",
    "\n",
    "        self.data[self.height - 1][col] = ox\n",
    "```"
   ]
  },
  {
   "cell_type": "markdown",
   "metadata": {
    "slideshow": {
     "slide_type": "subslide"
    }
   },
   "source": [
    "### `allows_move`"
   ]
  },
  {
   "cell_type": "markdown",
   "metadata": {
    "slideshow": {
     "slide_type": "subslide"
    }
   },
   "source": [
    "![Game b3](images/20/game_b3.png)"
   ]
  },
  {
   "cell_type": "markdown",
   "metadata": {
    "slideshow": {
     "slide_type": "subslide"
    }
   },
   "source": [
    "```text\n",
    "| | |X|O| | |O|\n",
    "| | |X|X| | |X|\n",
    "| | |O|O| | |O|\n",
    "| | |O|X| | |O|\n",
    "| |X|X|X| |O|X|\n",
    "|X|O|O|O|X|X|O|\n",
    "---------------\n",
    " 0 1 2 3 4 5 6\n",
    "```\n",
    "\n",
    "```python\n",
    "b.allows_move(0) == True\n",
    "b.allows_move(1) == True\n",
    "b.allows_move(2) == False\n",
    "b.allows_move(3) == False\n",
    "b.allows_move(4) == True\n",
    "b.allows_move(5) == True\n",
    "b.allows_move(6) == False\n",
    "b.allows_move(7) == False\n",
    "```"
   ]
  },
  {
   "cell_type": "markdown",
   "metadata": {
    "slideshow": {
     "slide_type": "notes"
    }
   },
   "source": [
    "1. `False` als de kolom *out-of-bounds* is of *gevuld*\n",
    "2. `True` als de kolom *in-bounds* is en *niet gevuld*"
   ]
  },
  {
   "cell_type": "markdown",
   "metadata": {
    "slideshow": {
     "slide_type": "subslide"
    }
   },
   "source": [
    "```python\n",
    "class Board:\n",
    "\n",
    "    def allows_move(self, col):\n",
    "        \"\"\"True if col is in-bounds + open\n",
    "           False otherwise\n",
    "        \"\"\"\n",
    "        if ...:  # out of bounds?\n",
    "            return False\n",
    "        elif ...:  # col full?\n",
    "            return False\n",
    "        else:\n",
    "            return True  # allowed!\n",
    "```"
   ]
  },
  {
   "cell_type": "markdown",
   "metadata": {
    "slideshow": {
     "slide_type": "notes"
    }
   },
   "source": [
    "Aan jou om dit verder uit te werken!"
   ]
  },
  {
   "cell_type": "markdown",
   "metadata": {
    "slideshow": {
     "slide_type": "subslide"
    }
   },
   "source": [
    "### `wins_for`"
   ]
  },
  {
   "cell_type": "markdown",
   "metadata": {
    "slideshow": {
     "slide_type": "subslide"
    }
   },
   "source": [
    "![Game b4](images/20/game_b4.png)"
   ]
  },
  {
   "cell_type": "markdown",
   "metadata": {
    "slideshow": {
     "slide_type": "subslide"
    }
   },
   "source": [
    "### Een bekende oplossing?\n",
    "\n",
    "```python\n",
    "class Board:\n",
    "    \n",
    "    def wins_for(self, ox):\n",
    "        \"\"\"Does ox win?\n",
    "        \"\"\"\n",
    "        for row in range(self.height):\n",
    "            for col in range(self.width):\n",
    "                if ...\n",
    "                if ...\n",
    "                if ...\n",
    "                if ...\n",
    "```"
   ]
  },
  {
   "cell_type": "markdown",
   "metadata": {
    "slideshow": {
     "slide_type": "notes"
    }
   },
   "source": [
    "De oplossing zal erg veel lijken op wat je eerder met boter, kaas en eieren hebt gebruikt!"
   ]
  },
  {
   "cell_type": "markdown",
   "metadata": {
    "slideshow": {
     "slide_type": "subslide"
    }
   },
   "source": [
    "- constructor `__init__(self, width, height)` ✔️\n",
    "- is toegestaan `allows_move(self, col)` ✔️\n",
    "- plaats een steen `add_move(self, col, ox)` ✔️\n",
    "- verwijder steen `del_move(self, col)` ❌\n",
    "- printen `__repr__(self)` ✔️\n",
    "- is het bord vol `is_full(self)` ❌\n",
    "- heeft een speler gewonnen `wins_for(self, ox)` ❌\n",
    "- het spel ... `host_game(self)` ❌"
   ]
  },
  {
   "cell_type": "markdown",
   "metadata": {
    "slideshow": {
     "slide_type": "subslide"
    }
   },
   "source": [
    "### Waarom objecten en klassen?\n",
    "\n",
    "Elegantie: objecten verbergen complexiteit!"
   ]
  },
  {
   "cell_type": "markdown",
   "metadata": {
    "slideshow": {
     "slide_type": "fragment"
    }
   },
   "source": [
    "```python\n",
    "if b.wins_for(\"X\") == True:\n",
    "    ...\n",
    "```"
   ]
  },
  {
   "cell_type": "markdown",
   "metadata": {
    "slideshow": {
     "slide_type": "fragment"
    }
   },
   "source": [
    "```python\n",
    "dow = self.diff(d2) % 7\n",
    "```"
   ]
  },
  {
   "cell_type": "markdown",
   "metadata": {
    "slideshow": {
     "slide_type": "slide"
    }
   },
   "source": [
    "## Een algoritmische auteur\n",
    "\n",
    "![Text style](images/20/carbon_text.png)"
   ]
  },
  {
   "cell_type": "markdown",
   "metadata": {
    "slideshow": {
     "slide_type": "fragment"
    }
   },
   "source": [
    "Als dit mijn stijl is, hoe kan een programma *nieuwe* teksten genereren in dezelfde stijl?"
   ]
  },
  {
   "cell_type": "markdown",
   "metadata": {
    "slideshow": {
     "slide_type": "subslide"
    }
   },
   "source": [
    "### Vragen\n",
    "\n",
    "- Wat zou een redelijk eerste woord zijn voor een gegenereerde zin?\n",
    "- Wat zou een redelijk volgend woord zijn om de eerste op te volgen?\n",
    "- Wat zou een redelijke test zijn voor het einde van een zin?"
   ]
  },
  {
   "cell_type": "markdown",
   "metadata": {
    "slideshow": {
     "slide_type": "subslide"
    }
   },
   "source": [
    "## Markov modellen\n",
    "\n",
    "Technieken voor het modelleren van opeenvolgingen van natuurljke data"
   ]
  },
  {
   "cell_type": "markdown",
   "metadata": {
    "slideshow": {
     "slide_type": "fragment"
    }
   },
   "source": [
    "Bijvoorbeeld spraak, tektst, sensor data ..."
   ]
  },
  {
   "cell_type": "markdown",
   "metadata": {
    "slideshow": {
     "slide_type": "fragment"
    }
   },
   "source": [
    "Een eerste orde model, elk element is slechts afhankelijk van een enkel *voorgaand* element"
   ]
  },
  {
   "cell_type": "markdown",
   "metadata": {
    "slideshow": {
     "slide_type": "notes"
    }
   },
   "source": [
    "Een eerste-orde Markov proces is een proces waarbij de toestand op tijdstip t+1 (d.w.z. het volgende woord) alleen afhankelijk is van de toestand op tijdstip t (d.w.z. het vorige woord)."
   ]
  },
  {
   "cell_type": "markdown",
   "metadata": {
    "slideshow": {
     "slide_type": "subslide"
    }
   },
   "source": [
    "### Vorige en volgende"
   ]
  },
  {
   "cell_type": "markdown",
   "metadata": {
    "slideshow": {
     "slide_type": "fragment"
    }
   },
   "source": [
    "> Ik houd van rozen en anjers. Ik dacht, ik koop rozen voor mijn verjaardag.\n",
    "\n",
    "Als het *vorige* woord \"Ik\" was, wat is dan een mogelijk *volgend* woord?"
   ]
  },
  {
   "cell_type": "markdown",
   "metadata": {
    "slideshow": {
     "slide_type": "fragment"
    }
   },
   "source": [
    "```python\n",
    "\"Ik\" -> [\"houd\", \"dacht\", \"koop\"]\n",
    "```"
   ]
  },
  {
   "cell_type": "markdown",
   "metadata": {
    "slideshow": {
     "slide_type": "fragment"
    }
   },
   "source": [
    "Wat is een datastructuur waar we dit in kunnen opslaan?"
   ]
  },
  {
   "cell_type": "markdown",
   "metadata": {
    "slideshow": {
     "slide_type": "subslide"
    }
   },
   "source": [
    "## Lists"
   ]
  },
  {
   "cell_type": "markdown",
   "metadata": {
    "slideshow": {
     "slide_type": "fragment"
    }
   },
   "source": [
    "Lists zijn *sequentiële* containers\n",
    "\n",
    "```python\n",
    "L = [47, 5, 47, 42]\n",
    "```\n",
    "\n",
    "Elementen staan in een vaste volgorde en kunnen worden opgehaald op basis van positie (index)"
   ]
  },
  {
   "cell_type": "markdown",
   "metadata": {
    "slideshow": {
     "slide_type": "fragment"
    }
   },
   "source": [
    "```python\n",
    "L[0] == 47\n",
    "L[1] == 5\n",
    "```"
   ]
  },
  {
   "cell_type": "markdown",
   "metadata": {
    "slideshow": {
     "slide_type": "subslide"
    }
   },
   "source": [
    "## Dictionaries"
   ]
  },
  {
   "cell_type": "markdown",
   "metadata": {
    "slideshow": {
     "slide_type": "fragment"
    }
   },
   "source": [
    "Dictionaries zijn *willekeurige* containers\n",
    "\n",
    "```python\n",
    "d = {47: 2, 42: 1}\n",
    "```\n",
    "\n",
    "Elementen (of waarden) worden opgehaald met een *sleutel* op een *willekeurige* positie"
   ]
  },
  {
   "cell_type": "markdown",
   "metadata": {
    "slideshow": {
     "slide_type": "fragment"
    }
   },
   "source": [
    "```python\n",
    "d[47] == 2\n",
    "d[42] == 1\n",
    "```"
   ]
  },
  {
   "cell_type": "markdown",
   "metadata": {
    "slideshow": {
     "slide_type": "fragment"
    }
   },
   "source": [
    "Goed nieuws, sleutels kunnen ook andere typen dan `int` zijn!"
   ]
  },
  {
   "cell_type": "markdown",
   "metadata": {
    "slideshow": {
     "slide_type": "subslide"
    }
   },
   "source": [
    "![Van Dale](images/20/van_dale_woordenboek.png)"
   ]
  },
  {
   "cell_type": "markdown",
   "metadata": {
    "slideshow": {
     "slide_type": "subslide"
    }
   },
   "source": [
    "### Een bekende structuur\n",
    "\n",
    "- woord ⟶ verklaring\n",
    "- naam ⟶ telefoonnummer\n",
    "- afkorting ⟶ betekenis\n",
    "- dier ⟶ jaren Chinese dierenriem"
   ]
  },
  {
   "cell_type": "markdown",
   "metadata": {
    "slideshow": {
     "slide_type": "subslide"
    }
   },
   "source": [
    "![Chinese dierenriem](images/20/chinese_dierenriem.png)"
   ]
  },
  {
   "cell_type": "markdown",
   "metadata": {
    "slideshow": {
     "slide_type": "subslide"
    }
   },
   "source": [
    "### Dictionaries zijn `in`"
   ]
  },
  {
   "cell_type": "code",
   "execution_count": 4,
   "metadata": {
    "slideshow": {
     "slide_type": "fragment"
    }
   },
   "outputs": [],
   "source": [
    "z = {\n",
    "    \"rabbit\": [1999, 1987, 1975],\n",
    "    \"ox\": [1997, 1985, 1973],\n",
    "    \"dragon\": [2000, 1998]\n",
    "}"
   ]
  },
  {
   "cell_type": "markdown",
   "metadata": {
    "slideshow": {
     "slide_type": "notes"
    }
   },
   "source": [
    "De *sleutels* zijn hier strings en de bijbehorende *waarden* zijn lists. Dit voorbeeld gaat over de jaren per dier in de Chinese dierenriem, zie het Wikipedia [artikel](https://en.wikipedia.org/wiki/Chinese_zodiac) voor alle dieren en jaren!"
   ]
  },
  {
   "cell_type": "markdown",
   "metadata": {
    "slideshow": {
     "slide_type": "fragment"
    }
   },
   "source": [
    "Is `\"dragon\"` een sleutel in `z`?"
   ]
  },
  {
   "cell_type": "code",
   "execution_count": 5,
   "metadata": {
    "slideshow": {
     "slide_type": "fragment"
    }
   },
   "outputs": [
    {
     "data": {
      "text/plain": [
       "True"
      ]
     },
     "execution_count": 5,
     "metadata": {},
     "output_type": "execute_result"
    }
   ],
   "source": [
    "\"dragon\" in z"
   ]
  },
  {
   "cell_type": "markdown",
   "metadata": {
    "slideshow": {
     "slide_type": "fragment"
    }
   },
   "source": [
    "Is `1969` een waarde in `z[\"dragon\"]`?"
   ]
  },
  {
   "cell_type": "code",
   "execution_count": 6,
   "metadata": {
    "slideshow": {
     "slide_type": "fragment"
    }
   },
   "outputs": [
    {
     "data": {
      "text/plain": [
       "False"
      ]
     },
     "execution_count": 6,
     "metadata": {},
     "output_type": "execute_result"
    }
   ],
   "source": [
    "1969 in z[\"dragon\"]"
   ]
  },
  {
   "cell_type": "markdown",
   "metadata": {
    "slideshow": {
     "slide_type": "subslide"
    }
   },
   "source": [
    "## Woorden tellen"
   ]
  },
  {
   "cell_type": "code",
   "execution_count": 7,
   "metadata": {
    "slideshow": {
     "slide_type": "fragment"
    }
   },
   "outputs": [],
   "source": [
    "LoW = [\"spam\", \"spam\", \"taart\", \"spam\"]"
   ]
  },
  {
   "cell_type": "code",
   "execution_count": 8,
   "metadata": {
    "slideshow": {
     "slide_type": "fragment"
    }
   },
   "outputs": [],
   "source": [
    "d = {}"
   ]
  },
  {
   "cell_type": "code",
   "execution_count": 9,
   "metadata": {
    "slideshow": {
     "slide_type": "fragment"
    }
   },
   "outputs": [],
   "source": [
    "for w in LoW:\n",
    "    if w not in d:\n",
    "        d[w] = 1\n",
    "    else:\n",
    "        d[w] += 1"
   ]
  },
  {
   "cell_type": "code",
   "execution_count": 10,
   "metadata": {
    "slideshow": {
     "slide_type": "fragment"
    }
   },
   "outputs": [
    {
     "data": {
      "text/plain": [
       "{'spam': 3, 'taart': 1}"
      ]
     },
     "execution_count": 10,
     "metadata": {},
     "output_type": "execute_result"
    }
   ],
   "source": [
    "d"
   ]
  },
  {
   "cell_type": "markdown",
   "metadata": {
    "slideshow": {
     "slide_type": "subslide"
    }
   },
   "source": [
    "### `len`?\n",
    "\n",
    "Wat zal de lengte van `d` zijn?"
   ]
  },
  {
   "cell_type": "code",
   "execution_count": 11,
   "metadata": {
    "slideshow": {
     "slide_type": "fragment"
    }
   },
   "outputs": [
    {
     "data": {
      "text/plain": [
       "2"
      ]
     },
     "execution_count": 11,
     "metadata": {},
     "output_type": "execute_result"
    }
   ],
   "source": [
    "len(d)"
   ]
  },
  {
   "cell_type": "markdown",
   "metadata": {
    "slideshow": {
     "slide_type": "fragment"
    }
   },
   "source": [
    "Twee elementen in dit geval, de *sleutels* `\"spam\"` en `\"taart\"`."
   ]
  },
  {
   "cell_type": "markdown",
   "metadata": {
    "slideshow": {
     "slide_type": "slide"
    }
   },
   "source": [
    "## Bestanden\n",
    "\n",
    "Meer data, meer woorden!"
   ]
  },
  {
   "cell_type": "code",
   "execution_count": 12,
   "metadata": {
    "slideshow": {
     "slide_type": "fragment"
    }
   },
   "outputs": [],
   "source": [
    "f = open(\"data/a.txt\")\n",
    "\n",
    "text = f.read()\n",
    "\n",
    "f.close()"
   ]
  },
  {
   "cell_type": "code",
   "execution_count": 13,
   "metadata": {
    "slideshow": {
     "slide_type": "fragment"
    }
   },
   "outputs": [
    {
     "name": "stdout",
     "output_type": "stream",
     "text": [
      "Ik wil taarten en 42 en spam. Ik krijg toch spam en taarten voor de vakantie? Ik wil 42 taarten!\n"
     ]
    }
   ],
   "source": [
    "print(text)"
   ]
  },
  {
   "cell_type": "markdown",
   "metadata": {
    "slideshow": {
     "slide_type": "subslide"
    }
   },
   "source": [
    "### Alternatief\n",
    "\n",
    "Het \"lui\" openen en sluiten van bestanden"
   ]
  },
  {
   "cell_type": "code",
   "execution_count": 14,
   "metadata": {
    "slideshow": {
     "slide_type": "fragment"
    }
   },
   "outputs": [],
   "source": [
    "with open(\"data/a.txt\") as f:\n",
    "    text = f.read()"
   ]
  },
  {
   "cell_type": "markdown",
   "metadata": {
    "slideshow": {
     "slide_type": "notes"
    }
   },
   "source": [
    "Deze constructie wordt een context manager genoemd en zal je vaak zien in Python code. In dit geval wordt een bestand geopend en binnen een context (een handeling, het lezen van `f` in dit geval) is het bestand te gebruiken, en daar buiten niet meer (het blok wordt automatische afgesloten met `f.close()` zodat jij daar niet meer aan hoeft te denken)."
   ]
  },
  {
   "cell_type": "code",
   "execution_count": 15,
   "metadata": {
    "slideshow": {
     "slide_type": "fragment"
    }
   },
   "outputs": [
    {
     "name": "stdout",
     "output_type": "stream",
     "text": [
      "Ik wil taarten en 42 en spam. Ik krijg toch spam en taarten voor de vakantie? Ik wil 42 taarten!\n"
     ]
    }
   ],
   "source": [
    "print(text)"
   ]
  },
  {
   "cell_type": "code",
   "execution_count": 16,
   "metadata": {
    "slideshow": {
     "slide_type": "subslide"
    }
   },
   "outputs": [],
   "source": [
    "LoW = text.split()"
   ]
  },
  {
   "cell_type": "code",
   "execution_count": 17,
   "metadata": {
    "slideshow": {
     "slide_type": "fragment"
    }
   },
   "outputs": [
    {
     "data": {
      "text/plain": [
       "['Ik',\n",
       " 'wil',\n",
       " 'taarten',\n",
       " 'en',\n",
       " '42',\n",
       " 'en',\n",
       " 'spam.',\n",
       " 'Ik',\n",
       " 'krijg',\n",
       " 'toch',\n",
       " 'spam',\n",
       " 'en',\n",
       " 'taarten',\n",
       " 'voor',\n",
       " 'de',\n",
       " 'vakantie?',\n",
       " 'Ik',\n",
       " 'wil',\n",
       " '42',\n",
       " 'taarten!']"
      ]
     },
     "execution_count": 17,
     "metadata": {},
     "output_type": "execute_result"
    }
   ],
   "source": [
    "LoW"
   ]
  },
  {
   "cell_type": "markdown",
   "metadata": {
    "slideshow": {
     "slide_type": "subslide"
    }
   },
   "source": [
    "### Hulpfunctie"
   ]
  },
  {
   "cell_type": "code",
   "execution_count": 18,
   "metadata": {
    "slideshow": {
     "slide_type": "subslide"
    }
   },
   "outputs": [],
   "source": [
    "def get_text(filename):\n",
    "    \"\"\"Read from filename\n",
    "    \"\"\"\n",
    "    with open(filename) as f:\n",
    "        text = f.read()\n",
    "    return text"
   ]
  },
  {
   "cell_type": "markdown",
   "metadata": {
    "slideshow": {
     "slide_type": "subslide"
    }
   },
   "source": [
    "### Meer woorden tellen!"
   ]
  },
  {
   "cell_type": "code",
   "execution_count": 19,
   "metadata": {
    "slideshow": {
     "slide_type": "fragment"
    }
   },
   "outputs": [],
   "source": [
    "def word_count(text):\n",
    "    LoW = text.split()\n",
    "    result = len(LoW)\n",
    "    print(f\"There are {result} words\")\n",
    "    return result"
   ]
  },
  {
   "cell_type": "code",
   "execution_count": 20,
   "metadata": {
    "slideshow": {
     "slide_type": "fragment"
    }
   },
   "outputs": [
    {
     "name": "stdout",
     "output_type": "stream",
     "text": [
      "There are 20 words\n"
     ]
    },
    {
     "data": {
      "text/plain": [
       "20"
      ]
     },
     "execution_count": 20,
     "metadata": {},
     "output_type": "execute_result"
    }
   ],
   "source": [
    "text = get_text(\"data/a.txt\")\n",
    "word_count(text)"
   ]
  },
  {
   "cell_type": "markdown",
   "metadata": {
    "slideshow": {
     "slide_type": "subslide"
    }
   },
   "source": [
    "## Unieke woorden\n",
    "\n",
    "Wat zijn de unieke woorden in een tekst?"
   ]
  },
  {
   "cell_type": "markdown",
   "metadata": {
    "slideshow": {
     "slide_type": "fragment"
    }
   },
   "source": [
    "Met andere woorden, wat is de woordenschat (of v*ocabulair*) van een auteur?"
   ]
  },
  {
   "cell_type": "code",
   "execution_count": 21,
   "metadata": {
    "slideshow": {
     "slide_type": "subslide"
    }
   },
   "outputs": [],
   "source": [
    "def vocab_count(text):\n",
    "    LoW = text.split()\n",
    "    d = {}\n",
    "    \n",
    "    for w in LoW:\n",
    "        if w not in d:\n",
    "            d[w] = 1\n",
    "        else:\n",
    "            d[w] += 1\n",
    "            \n",
    "    print(f\"There are {len(d)} DISTINCT words\")  # expressions in f-strings!\n",
    "    \n",
    "    return d  # return d for later use - by other code..."
   ]
  },
  {
   "cell_type": "code",
   "execution_count": 22,
   "metadata": {
    "slideshow": {
     "slide_type": "fragment"
    }
   },
   "outputs": [
    {
     "name": "stdout",
     "output_type": "stream",
     "text": [
      "There are 13 DISTINCT words\n"
     ]
    },
    {
     "data": {
      "text/plain": [
       "{'Ik': 3,\n",
       " 'wil': 2,\n",
       " 'taarten': 2,\n",
       " 'en': 3,\n",
       " '42': 2,\n",
       " 'spam.': 1,\n",
       " 'krijg': 1,\n",
       " 'toch': 1,\n",
       " 'spam': 1,\n",
       " 'voor': 1,\n",
       " 'de': 1,\n",
       " 'vakantie?': 1,\n",
       " 'taarten!': 1}"
      ]
     },
     "execution_count": 22,
     "metadata": {},
     "output_type": "execute_result"
    }
   ],
   "source": [
    "vocab_count(text)"
   ]
  },
  {
   "cell_type": "code",
   "execution_count": 23,
   "metadata": {
    "slideshow": {
     "slide_type": "skip"
    }
   },
   "outputs": [],
   "source": [
    "%run assets/markov.py"
   ]
  },
  {
   "cell_type": "code",
   "execution_count": 24,
   "metadata": {
    "slideshow": {
     "slide_type": "subslide"
    }
   },
   "outputs": [],
   "source": [
    "d = create_dictionary(text)"
   ]
  },
  {
   "cell_type": "code",
   "execution_count": 25,
   "metadata": {
    "slideshow": {
     "slide_type": "fragment"
    }
   },
   "outputs": [
    {
     "data": {
      "text/plain": [
       "{'$': ['Ik', 'Ik', 'Ik'],\n",
       " 'Ik': ['wil', 'krijg', 'wil'],\n",
       " 'wil': ['taarten', '42'],\n",
       " 'taarten': ['en', 'voor'],\n",
       " 'en': ['42', 'spam.', 'taarten'],\n",
       " '42': ['en', 'taarten!'],\n",
       " 'krijg': ['toch'],\n",
       " 'toch': ['spam'],\n",
       " 'spam': ['en'],\n",
       " 'voor': ['de'],\n",
       " 'de': ['vakantie?']}"
      ]
     },
     "execution_count": 25,
     "metadata": {},
     "output_type": "execute_result"
    }
   ],
   "source": [
    "d"
   ]
  },
  {
   "cell_type": "code",
   "execution_count": 26,
   "metadata": {
    "slideshow": {
     "slide_type": "subslide"
    }
   },
   "outputs": [
    {
     "data": {
      "text/plain": [
       "'Ik krijg toch spam en spam. Ik wil 42 en 42 en spam. Ik wil 42 en taarten en taarten voor de vakantie? Ik wil taarten en taarten en taarten en spam. Ik wil taarten en spam. Ik wil 42 en spam. '"
      ]
     },
     "execution_count": 26,
     "metadata": {},
     "output_type": "execute_result"
    }
   ],
   "source": [
    "generate_text(d, 42)"
   ]
  },
  {
   "cell_type": "markdown",
   "metadata": {
    "slideshow": {
     "slide_type": "subslide"
    }
   },
   "source": [
    "## Model genereren\n",
    "\n",
    "```python\n",
    "d = {}\n",
    "pw = \"$\"\n",
    "\n",
    "for nw in LoW:\n",
    "    if pw not in d:\n",
    "        d[pw] = ...\n",
    "    else:\n",
    "        d[pw] += ...\n",
    "        \n",
    "    pw = ...\n",
    "```\n",
    "\n",
    "1.   begin met het vorige woord `pw` als `\"$\"`\n",
    "2.   voor elk volgend woord in de lijst van woorden voeg het toe aan ...\n",
    "3.   maak `pw` gelijk aan `nw`\n",
    "     - behalve als `nw[-1]` punctuatie is, maak `pw` dan gelijk aan ... "
   ]
  },
  {
   "cell_type": "markdown",
   "metadata": {
    "slideshow": {
     "slide_type": "subslide"
    }
   },
   "source": [
    "## Tekst genereren\n",
    "\n",
    "1.  begin met `pw` als de `\"$\"` string\n",
    "2.  kies random een `nw` dat volgt op `pw` en voeg het toe aan ...\n",
    "3.  maak `pw` gelijk aan `nw`\n",
    "    - behalve als `nw[-1]` punctuatie is, maak dan `pw` gelijk aan ..."
   ]
  }
 ],
 "metadata": {
  "kernelspec": {
   "display_name": "Python 3 (ipykernel)",
   "language": "python",
   "name": "python3"
  },
  "language_info": {
   "codemirror_mode": {
    "name": "ipython",
    "version": 3
   },
   "file_extension": ".py",
   "mimetype": "text/x-python",
   "name": "python",
   "nbconvert_exporter": "python",
   "pygments_lexer": "ipython3",
   "version": "3.10.0"
  }
 },
 "nbformat": 4,
 "nbformat_minor": 4
}
