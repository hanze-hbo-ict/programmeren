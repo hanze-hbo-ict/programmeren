{
 "cells": [
  {
   "cell_type": "markdown",
   "metadata": {
    "slideshow": {
     "slide_type": "slide"
    }
   },
   "source": [
    "# Finite state machines"
   ]
  },
  {
   "cell_type": "markdown",
   "metadata": {
    "slideshow": {
     "slide_type": "subslide"
    }
   },
   "source": [
    "## Toepassingen van computers\n",
    "\n",
    "* Simulaties\n",
    "* Graphics\n",
    "* Websites\n",
    "* ..."
   ]
  },
  {
   "cell_type": "markdown",
   "metadata": {
    "slideshow": {
     "slide_type": "fragment"
    }
   },
   "source": [
    "### Bouwstenen\n",
    "\n",
    "* Functies\n",
    "* Schakelingen\n",
    "* Objecten"
   ]
  },
  {
   "cell_type": "markdown",
   "metadata": {
    "slideshow": {
     "slide_type": "subslide"
    }
   },
   "source": [
    "## Wat *kan* een computer allemaal berekenen?\n",
    "\n",
    "* Wat is een computer?\n",
    "* Wat is berekenen?"
   ]
  },
  {
   "cell_type": "markdown",
   "metadata": {
    "slideshow": {
     "slide_type": "fragment"
    }
   },
   "source": [
    "## Informatica\n",
    "\n",
    "* **Bewijzen** wat een computer kan berekenen\n",
    "* En wat **niet**!"
   ]
  },
  {
   "cell_type": "markdown",
   "metadata": {
    "slideshow": {
     "slide_type": "slide"
    }
   },
   "source": [
    "## Wat is een computer?"
   ]
  },
  {
   "cell_type": "markdown",
   "metadata": {
    "slideshow": {
     "slide_type": "fragment"
    }
   },
   "source": [
    "* Computer zijn **state machines**."
   ]
  },
  {
   "cell_type": "markdown",
   "metadata": {
    "slideshow": {
     "slide_type": "subslide"
    }
   },
   "source": [
    "### Welke state machine is dit?\n",
    "\n",
    "![State machine](images/23/life.png)"
   ]
  },
  {
   "cell_type": "markdown",
   "metadata": {
    "slideshow": {
     "slide_type": "subslide"
    }
   },
   "source": [
    "### Game of Life!\n",
    "\n",
    "![Game of Life](images/23/life2.png)"
   ]
  },
  {
   "cell_type": "markdown",
   "metadata": {
    "slideshow": {
     "slide_type": "subslide"
    }
   },
   "source": [
    "### Onderliggende idee: toestanden\n",
    "\n",
    "![0 NEWx -> S 1](images/23/picobot.png)"
   ]
  },
  {
   "cell_type": "markdown",
   "metadata": {
    "slideshow": {
     "slide_type": "fragment"
    }
   },
   "source": [
    "* De **state** of **toestand** van een berekening is alle **interne** informatie die nodig is om de volgende stap te bepalen"
   ]
  },
  {
   "cell_type": "markdown",
   "metadata": {
    "slideshow": {
     "slide_type": "subslide"
    }
   },
   "source": [
    "### Toestanden zijn subtaken\n",
    "\n",
    "<pre>\n",
    "<span style=\"color: blue;\">0 x*** -> N 0\n",
    "0 N*** -> x 1</span>\n",
    "<span style=\"color: red;\">1 ***x -> S 1\n",
    "1 ***S -> x 0</span>\n",
    "</pre>\n",
    "\n",
    "![State machine](images/23/picobot2.png)"
   ]
  },
  {
   "cell_type": "markdown",
   "metadata": {
    "slideshow": {
     "slide_type": "slide"
    }
   },
   "source": [
    "## Wat is een berekening?\n",
    "\n",
    "* Een bewust overgang van de ene toestand naar de andere"
   ]
  },
  {
   "cell_type": "markdown",
   "metadata": {
    "slideshow": {
     "slide_type": "fragment"
    }
   },
   "source": [
    "![Geheugen](images/23/memory.png)\n",
    "\n",
    "* Door een waarde te schrijven *verandert* de toestand van het geheugen"
   ]
  },
  {
   "cell_type": "markdown",
   "metadata": {
    "slideshow": {
     "slide_type": "subslide"
    }
   },
   "source": [
    "### Computer\n",
    "\n",
    "* Een computer heeft ook een toestand: de inhoud van het geheugen en de registers."
   ]
  },
  {
   "cell_type": "markdown",
   "metadata": {
    "slideshow": {
     "slide_type": "fragment"
    }
   },
   "source": [
    "* **Dus:** een computer is een state machine\n",
    "* Een **eindig** aantal toestanden (waarom?)\n",
    "* Een computer is dus een **finite state machine**"
   ]
  },
  {
   "cell_type": "markdown",
   "metadata": {
    "slideshow": {
     "slide_type": "slide"
    }
   },
   "source": [
    "## Finite state machines\n",
    "\n",
    "![Finite state machine](images/23/fsm1.png)"
   ]
  },
  {
   "cell_type": "markdown",
   "metadata": {
    "slideshow": {
     "slide_type": "fragment"
    }
   },
   "source": [
    "* **Begintoestand:** open pijltje\n",
    "* **Accepterende toestand:** dubbele cirkel\n",
    "* **Transities (overgangen):** pijlen tussen toestanden\n",
    "* **Invoer:** een string (bijvoorbeeld `01011`)"
   ]
  },
  {
   "cell_type": "markdown",
   "metadata": {
    "slideshow": {
     "slide_type": "subslide"
    }
   },
   "source": [
    "### Berekening\n",
    "\n",
    "![Finite state machine](images/23/fsm1.png)\n",
    "\n",
    "* **Invoer:** `01011`\n",
    "* De invoer wordt van links naar rechts gelezen\n",
    "* In welke **toestand** eindigt de machine?\n",
    "* Wat **betekenen** de toestanden?"
   ]
  },
  {
   "cell_type": "markdown",
   "metadata": {
    "slideshow": {
     "slide_type": "subslide"
    }
   },
   "source": [
    "### Accepteren en afwijzen\n",
    "\n",
    "![Finite state machine](images/23/fsm1.png)\n",
    "\n",
    "* **Toestand 0:** *even* aantal `1`'en gezien\n",
    "* **Toestand 1:** *oneven* aantal `1`'en gezien\n",
    "* Deze machine **accepteert** dus invoerstrings met een oneven aantal `1`'en, en **wijst** strings met een even aantal `1`'en **af**.\n",
    "* Dit heet een **beslissingsprobleem**"
   ]
  },
  {
   "cell_type": "markdown",
   "metadata": {
    "slideshow": {
     "slide_type": "subslide"
    }
   },
   "source": [
    "![JFLAP](images/23/jflap.png)"
   ]
  },
  {
   "cell_type": "markdown",
   "metadata": {
    "slideshow": {
     "slide_type": "subslide"
    }
   },
   "source": [
    "### Quiz\n",
    "\n",
    "![Finite state machine](images/23/fsm2.png)\n",
    "\n",
    "* Hoe zou je de invoer die door deze machine **afgewezen** wordt kunnen beschrijven?\n",
    "* Kan hetzelfde probleem ook met **minder** toestanden opgelost worden?"
   ]
  },
  {
   "cell_type": "markdown",
   "metadata": {
    "slideshow": {
     "slide_type": "subslide"
    }
   },
   "source": [
    "![Finite state machine](images/23/fsm3.png)\n",
    "\n",
    "* Deze machine wijst invoer af als er twee `1`'en naast elkaar staan\n",
    "* **`s0`:** De invoer eindigt op een `0`\n",
    "* **`s1`**: De invoer eindigt op één `1`\n",
    "* **`s2`**: De invoer bevat twee opeenvolgende `1`'en\n",
    "  * Hier zijn twee transities, die allebei weer naar `s2` gaan"
   ]
  },
  {
   "cell_type": "markdown",
   "metadata": {
    "slideshow": {
     "slide_type": "subslide"
    }
   },
   "source": [
    "### Finite state machines zijn overal!\n",
    "\n",
    "<img style=\"float: left; width: 30%\" src=\"images/23/vending.jpg\" alt=\"Verkoopautomaat\">\n",
    "\n",
    "![Finite state machine](images/23/fsm_vending.png)"
   ]
  },
  {
   "cell_type": "markdown",
   "metadata": {
    "slideshow": {
     "slide_type": "subslide"
    }
   },
   "source": [
    "<img style=\"float: left; width: 30%\" src=\"images/23/lock.jpg\" alt=\"Cijferslot\">\n",
    "\n",
    "![Finite state machine](images/23/fsm_lock.png)"
   ]
  },
  {
   "cell_type": "markdown",
   "metadata": {
    "slideshow": {
     "slide_type": "subslide"
    }
   },
   "source": [
    "### Ook in AI in spellen\n",
    "\n",
    "![AI](images/23/fsm_ai.png)"
   ]
  },
  {
   "cell_type": "markdown",
   "metadata": {
    "slideshow": {
     "slide_type": "subslide"
    }
   },
   "source": [
    "### En in zelfrijdende auto's\n",
    "\n",
    "![Zelfrijdende auto](images/23/sdc.jpg)"
   ]
  },
  {
   "cell_type": "markdown",
   "metadata": {
    "slideshow": {
     "slide_type": "subslide"
    }
   },
   "source": [
    "### Quiz\n",
    "\n",
    "Pas deze finite state machine aan zodat deze alle strings **accepteert** waar ten minste twee `1`'en in voorkomen; ze hoeven niet naast elkaar te staan. Je hebt nog ten minste 1 nieuwe toestand nodig.\n",
    "\n",
    "* `0101`, `00010110`, `111011` en `11` worden *geaccepteerd*.\n",
    "* `0100`, `1000`, `000000`, `1` en `0` worden *afgewezen*.\n",
    "\n",
    "![Finite state machine](images/23/fsm_quiz1a.png)"
   ]
  },
  {
   "cell_type": "markdown",
   "metadata": {
    "slideshow": {
     "slide_type": "fragment"
    }
   },
   "source": [
    "![Finite state machine](images/23/fsm_quiz1b.png)"
   ]
  },
  {
   "cell_type": "markdown",
   "metadata": {
    "slideshow": {
     "slide_type": "subslide"
    }
   },
   "source": [
    "Pas deze finite state machine aan zodat deze alle strings **afwijst** die het patroon `110` bevatten. Je hebt hier geen nieuwe toestanden voor nodig, maar wel nieuwe transities.\n",
    "\n",
    "* `1010001` en `011` worden *geaccepteerd*.\n",
    "* <code>10100<u>110</u>0</code> en <code>0<u>110</u>1</code> worden *afgewezen*.\n",
    "\n",
    "![Finite state machine](images/23/fsm_quiz2a.png)"
   ]
  },
  {
   "cell_type": "markdown",
   "metadata": {
    "slideshow": {
     "slide_type": "fragment"
    }
   },
   "source": [
    "![Finite state machine](images/23/fsm_quiz2b.png)"
   ]
  },
  {
   "cell_type": "markdown",
   "metadata": {
    "slideshow": {
     "slide_type": "subslide"
    }
   },
   "source": [
    "Teken een finite state machine die alle strings **accepteerd** waarin het aantal `0`'en een veelvoud van drie is. `1`'en tellen niet mee.\n",
    "\n",
    "**Tip:** Deze machine lijkt op een driehoek!\n",
    "\n",
    "* `110101110`, `11` en `0000010` worden *geaccepteerd*.\n",
    "* `101`, `0000` en `111011101111` worden *afgewezen*."
   ]
  },
  {
   "cell_type": "markdown",
   "metadata": {
    "slideshow": {
     "slide_type": "fragment"
    }
   },
   "source": [
    "![Finite state machine](images/23/fsm_quiz3.png)"
   ]
  },
  {
   "cell_type": "markdown",
   "metadata": {
    "slideshow": {
     "slide_type": "slide"
    }
   },
   "source": [
    "## Kan je *alles* berekenen met een FSM?\n",
    "\n",
    "* Zijn er beslissingsproblemen die een finite state machine niet kan oplossen?"
   ]
  },
  {
   "cell_type": "markdown",
   "metadata": {
    "slideshow": {
     "slide_type": "fragment"
    }
   },
   "source": [
    "* Bijvoorbeeld: een finite state machine die alleen strings accepteert die bestaan uit een aantal `0`'en, gevolgd door **hetzelfde aantal** `1`'en.\n",
    "* `0011` en `000111` worden *wel* geaccepteerd\n",
    "* `011` en `0001` worden *niet* geaccepteerd"
   ]
  },
  {
   "cell_type": "markdown",
   "metadata": {
    "slideshow": {
     "slide_type": "subslide"
    }
   },
   "source": [
    "![Finite state machine](images/23/fsm_count.png)"
   ]
  },
  {
   "cell_type": "markdown",
   "metadata": {
    "slideshow": {
     "slide_type": "fragment"
    }
   },
   "source": [
    "* Je kan wel tot een eindig getal tellen, maar niet oneindig ver.\n",
    "* Je zou een *oneindig* aantal toestanden nodig hebben!\n",
    "* Dat is dus geen **finite** state machine meer."
   ]
  },
  {
   "cell_type": "markdown",
   "metadata": {
    "slideshow": {
     "slide_type": "subslide"
    }
   },
   "source": [
    "### Een krachtiger model\n",
    "\n",
    "* We hebben een krachtiger model nodig\n",
    "* Wat kunnen we toevoegen om dit model krachtiger te maken?"
   ]
  },
  {
   "cell_type": "markdown",
   "metadata": {
    "slideshow": {
     "slide_type": "fragment"
    }
   },
   "source": [
    "### Geheugen!\n",
    "\n",
    "* Met deze uitbreiding heet dit een Turingmachine"
   ]
  },
  {
   "cell_type": "markdown",
   "metadata": {
    "slideshow": {
     "slide_type": "fragment"
    }
   },
   "source": [
    "* Een computer heeft ook geheugen, maar dit werd eerder toch een finite state machine genoemd\n",
    "* Wat voor soort geheugen zou een Turingmachine dan nodig hebben?"
   ]
  },
  {
   "cell_type": "markdown",
   "metadata": {
    "slideshow": {
     "slide_type": "slide"
    }
   },
   "source": [
    "## Turingmachine\n",
    "\n",
    "![Tape](images/23/tmtape.png)\n",
    "\n",
    "![Turingmachine](images/23/tm.png)\n",
    "\n",
    "* **Transities:** Lezen; Schrijven, Bewegen"
   ]
  },
  {
   "cell_type": "markdown",
   "metadata": {
    "slideshow": {
     "slide_type": "notes"
    }
   },
   "source": [
    "### Transities\n",
    "\n",
    "* **Lezen:** Welk teken staat nu bij de lees/schrijfkop?\n",
    "* **Schrijven:** Vervang dat teken door dit teken\n",
    "* **Bewegen:** De lees/schrijfkop gaat naar **L**inks of **R**echts (of blijft **S**taan)\n",
    "\n",
    "Zie ook [deze video](https://youtu.be/dNRDvLACg5Q) van Computerphile over Turingmachines."
   ]
  },
  {
   "cell_type": "markdown",
   "metadata": {
    "slideshow": {
     "slide_type": "subslide"
    }
   },
   "source": [
    "### Alan Turing\n",
    "\n",
    "<img style=\"width: 30%;\" alt=\"Alan Turing\" src=\"images/23/turing.jpg\">\n",
    "\n",
    "* Brits wiskundige en codebreker (Enigma)"
   ]
  },
  {
   "cell_type": "markdown",
   "metadata": {
    "slideshow": {
     "slide_type": "subslide"
    }
   },
   "source": [
    "### Turingcompleetheid\n",
    "\n",
    "* Alle computers die we nu kunnen bedenken kunnen alleen berekenen wat een Turingmachine kan berekenen\n",
    "* Als een programmeertaal dit ook kan, noemen we die taal **Turingcompleet**"
   ]
  },
  {
   "cell_type": "markdown",
   "metadata": {
    "slideshow": {
     "slide_type": "fragment"
    }
   },
   "source": [
    "* Ja, quantumcomputers vallen hier ook onder!"
   ]
  },
  {
   "cell_type": "markdown",
   "metadata": {
    "slideshow": {
     "slide_type": "fragment"
    }
   },
   "source": [
    "* Maar een Turingmachine is niet erg efficiënt!"
   ]
  },
  {
   "cell_type": "markdown",
   "metadata": {
    "slideshow": {
     "slide_type": "subslide"
    }
   },
   "source": [
    "### Kan een Turingmachine dan *alles* berekenen?"
   ]
  },
  {
   "cell_type": "markdown",
   "metadata": {
    "slideshow": {
     "slide_type": "fragment"
    }
   },
   "source": [
    "![Nee](images/23/no.jpg)"
   ]
  }
 ],
 "metadata": {
  "kernelspec": {
   "display_name": "Python 3",
   "language": "python",
   "name": "python3"
  },
  "language_info": {
   "codemirror_mode": {
    "name": "ipython",
    "version": 3
   },
   "file_extension": ".py",
   "mimetype": "text/x-python",
   "name": "python",
   "nbconvert_exporter": "python",
   "pygments_lexer": "ipython3",
   "version": "3.8.2"
  }
 },
 "nbformat": 4,
 "nbformat_minor": 4
}