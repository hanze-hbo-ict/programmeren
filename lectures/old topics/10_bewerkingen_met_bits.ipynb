{
 "cells": [
  {
   "cell_type": "markdown",
   "metadata": {
    "slideshow": {
     "slide_type": "slide"
    }
   },
   "source": [
    "# Bewerkingen met bits\n",
    "\n",
    "Afbeeldingen en compressie"
   ]
  },
  {
   "cell_type": "markdown",
   "metadata": {
    "slideshow": {
     "slide_type": "subslide"
    }
   },
   "source": [
    "## Tot hoeveel kan je tellen?"
   ]
  },
  {
   "cell_type": "markdown",
   "metadata": {
    "slideshow": {
     "slide_type": "fragment"
    }
   },
   "source": [
    "\n",
    "|         | Binair             | Decimaal  |\n",
    "|---------|--------------------|-----------|\n",
    "| 1 bit   | `1`                | 1         |\n",
    "| 2 bits  | `11`               | 3         |\n",
    "| 3 bits  | `111`              | 7         |\n",
    "| 4 bits  | `1111`             | 15        |\n",
    "| 5 bits  | `11111`            | 31        |\n",
    "| 6 bits  | `111111`           | 63        |\n",
    "| 7 bits  | `1111111`          | 127       |\n",
    "| 8 bits  | `11111111`         | 255       |\n",
    "| 16 bits | `1111111111111111` | 65535     |\n",
    "| n bits  | ...                | $2^n - 1$ |\n"
   ]
  },
  {
   "cell_type": "markdown",
   "metadata": {
    "slideshow": {
     "slide_type": "notes"
    }
   },
   "source": [
    "Het patroon dat je ziet is dat met elke extra bit de waarde wordt verdubbeld, waar de maximale waarde wordt bepaald door $2^n - 1$."
   ]
  },
  {
   "cell_type": "markdown",
   "metadata": {
    "slideshow": {
     "slide_type": "subslide"
    }
   },
   "source": [
    "## Sheep overflow"
   ]
  },
  {
   "cell_type": "markdown",
   "metadata": {
    "slideshow": {
     "slide_type": "fragment"
    }
   },
   "source": [
    "Of eigenlijk een *integer* overflow!"
   ]
  },
  {
   "cell_type": "markdown",
   "metadata": {
    "slideshow": {
     "slide_type": "fragment"
    }
   },
   "source": [
    "![can sleep](images/10/cant_sleep.png)"
   ]
  },
  {
   "cell_type": "markdown",
   "metadata": {
    "slideshow": {
     "slide_type": "fragment"
    }
   },
   "source": [
    "Hoeveel <strike>schapen</strike> bits kunnen hier maximaal worden geteld?"
   ]
  },
  {
   "cell_type": "markdown",
   "metadata": {
    "slideshow": {
     "slide_type": "notes"
    }
   },
   "source": [
    "Afhankelijk van onder andere de taal en het systeem kan, wanneer de *hoogst* mogelijke waarde wordt bereikt, deze waarde overgaan (overflowen) naar de *laagst* mogelijke waarde die kan worden bewaard. In dit geval is sprake van een *signed integer*, een integer waarde die zowel positief als negatief kan zijn. De aantallen impliceren een 16 bit ruimte (van -32768 tot en met 32767 betekent 65535 mogelijke waarden). Terzijde, met één schaap per seconde, hoe lang werden hier schapen geteld tot de overflow?"
   ]
  },
  {
   "cell_type": "markdown",
   "metadata": {
    "slideshow": {
     "slide_type": "subslide"
    }
   },
   "source": [
    "### Python?"
   ]
  },
  {
   "cell_type": "code",
   "execution_count": 1,
   "metadata": {
    "slideshow": {
     "slide_type": "fragment"
    }
   },
   "outputs": [],
   "source": [
    "max_sheep = 32767"
   ]
  },
  {
   "cell_type": "code",
   "execution_count": 2,
   "metadata": {
    "slideshow": {
     "slide_type": "fragment"
    }
   },
   "outputs": [
    {
     "data": {
      "text/plain": [
       "32768"
      ]
     },
     "execution_count": 2,
     "metadata": {},
     "output_type": "execute_result"
    }
   ],
   "source": [
    "max_sheep + 1"
   ]
  },
  {
   "cell_type": "markdown",
   "metadata": {
    "slideshow": {
     "slide_type": "notes"
    }
   },
   "source": [
    "Gelukkig, integers zijn voor Python groter dan 16 bits! Maar hoe groot kunnen integers dan wél zijn?"
   ]
  },
  {
   "cell_type": "markdown",
   "metadata": {
    "slideshow": {
     "slide_type": "subslide"
    }
   },
   "source": [
    "### Googol!"
   ]
  },
  {
   "cell_type": "code",
   "execution_count": 3,
   "metadata": {
    "slideshow": {
     "slide_type": "fragment"
    }
   },
   "outputs": [],
   "source": [
    "g = 10**100"
   ]
  },
  {
   "cell_type": "code",
   "execution_count": 4,
   "metadata": {
    "slideshow": {
     "slide_type": "fragment"
    }
   },
   "outputs": [
    {
     "data": {
      "text/plain": [
       "9223372036854775807"
      ]
     },
     "execution_count": 4,
     "metadata": {},
     "output_type": "execute_result"
    }
   ],
   "source": [
    "import sys\n",
    "\n",
    "sys.maxsize"
   ]
  },
  {
   "cell_type": "markdown",
   "metadata": {
    "slideshow": {
     "slide_type": "notes"
    }
   },
   "source": [
    "Met `sys.maxsize` vraag je de woord grootte op en je zal zien dat deze gelijk is aan 64 bits (althans, op mijn systeem)."
   ]
  },
  {
   "cell_type": "code",
   "execution_count": 5,
   "metadata": {
    "slideshow": {
     "slide_type": "fragment"
    }
   },
   "outputs": [
    {
     "data": {
      "text/plain": [
       "True"
      ]
     },
     "execution_count": 5,
     "metadata": {},
     "output_type": "execute_result"
    }
   ],
   "source": [
    "g > sys.maxsize"
   ]
  },
  {
   "cell_type": "markdown",
   "metadata": {
    "slideshow": {
     "slide_type": "notes"
    }
   },
   "source": [
    "Getallen kunnen voor Python groter zijn dan 64 bits! We weten dat 64 bits een fysieke grens kan zijn (bijvoorbeeld als de woord grootte van een architectuur) en kunnen hier uit afleiden dat Python dit intern (in software, met algoritmen!) oplost. Voor Python kunnen op deze manier getallen zo groot zijn als het geheugen van jouw systeem dit toelaat (maar is dus nog steeds begrensd!)."
   ]
  },
  {
   "cell_type": "markdown",
   "metadata": {
    "slideshow": {
     "slide_type": "slide"
    }
   },
   "source": [
    "## Ariane 5\n",
    "\n",
    "![Arianne 1996](images/10/Explosion_of_first_Ariane_5_flight_June_4_1996.jpg)\n",
    "\n",
    "`HumanError`"
   ]
  },
  {
   "cell_type": "markdown",
   "metadata": {
    "slideshow": {
     "slide_type": "notes"
    }
   },
   "source": [
    "Geen `IndexError` of `TypeEror` maar een `HumanError`. Door een software fout werd een 64 bit waarde (nieuw in Ariane 5!) omgezet naar een 16 bit waarde (wat in Ariane 4 werd gebruikt...). In 1996 moest na 37 seconden de eerste vlucht van Ariane 5 worden afgebroken omdat een integer overflow error de navigatie onbruikbaar maakte."
   ]
  },
  {
   "cell_type": "markdown",
   "metadata": {
    "slideshow": {
     "slide_type": "subslide"
    }
   },
   "source": [
    "![Boeing Dreamliner](images/10/boeing_dreamliner.png)"
   ]
  },
  {
   "cell_type": "markdown",
   "metadata": {
    "slideshow": {
     "slide_type": "subslide"
    }
   },
   "source": [
    "![Boeing Dreamliner](images/10/boeing_dreamliner_engadget.png)"
   ]
  },
  {
   "cell_type": "markdown",
   "metadata": {
    "slideshow": {
     "slide_type": "fragment"
    }
   },
   "source": [
    "> This condition is caused by a software counter internal to the GCUs that will overflow after 248 days of continuous power. We are issuing this AD to prevent loss of all AC electrical power, which could result in loss of control of the airplane.\n",
    "\n",
    "`HumanError`"
   ]
  },
  {
   "cell_type": "markdown",
   "metadata": {
    "slideshow": {
     "slide_type": "notes"
    }
   },
   "source": [
    "Een heel serieuze waarschuwing in 2015! Dit zou heel goed een 32 bit signed integer overflow kunnen zijn geweest. 2<sup>31</sup> is het aantal seconden in 248 dagen vermenigvuldigd met 100, dus waarschijnlijk ging het hier om een teller die tijd tot honderdsten van seconden nauwkeurig bijhoudt."
   ]
  },
  {
   "cell_type": "markdown",
   "metadata": {
    "slideshow": {
     "slide_type": "subslide"
    }
   },
   "source": [
    "### `WeNeverThoughtError`\n",
    "\n",
    "![Youtube 32bit](images/10/youtube_gangnam_32bit.png)"
   ]
  },
  {
   "cell_type": "markdown",
   "metadata": {
    "slideshow": {
     "slide_type": "fragment"
    }
   },
   "source": [
    "![Youtube](images/10/youtube_bigger_numbers.png)"
   ]
  },
  {
   "cell_type": "markdown",
   "metadata": {
    "slideshow": {
     "slide_type": "notes"
    }
   },
   "source": [
    "PSY [Gangnam Style](https://en.wikipedia.org/wiki/Gangnam_Style), de [video](https://www.youtube.com/watch?v=9bZkp7q19f0) met meer dan 4 miljard views. Tot voor de Youtube upgrade naar 64 bits bleef de teller staan op het maximaal aantal views dat met 32 bits mogelijk is. Zie verder ook deze [blast from the past](https://www.youtube.com/watch?v=51Mfh6gPL2U)!"
   ]
  },
  {
   "cell_type": "markdown",
   "metadata": {
    "slideshow": {
     "slide_type": "slide"
    }
   },
   "source": [
    "## Afbeeldingen zijn ook bits"
   ]
  },
  {
   "cell_type": "markdown",
   "metadata": {
    "slideshow": {
     "slide_type": "subslide"
    }
   },
   "source": [
    "![Kirkjufell](images/10/iceland-waterfall.png)"
   ]
  },
  {
   "cell_type": "markdown",
   "metadata": {
    "slideshow": {
     "slide_type": "notes"
    }
   },
   "source": [
    "Al zou je dit soms vergeten ... een afbeelding van de Kirkjufell berg, IJsland."
   ]
  },
  {
   "cell_type": "markdown",
   "metadata": {
    "slideshow": {
     "slide_type": "subslide"
    }
   },
   "source": [
    "### Representatie\n",
    "\n",
    "Pixels en kleuren\n",
    "\n",
    "![RGB](images/10/640px-LCD_RGB.jpg)"
   ]
  },
  {
   "cell_type": "markdown",
   "metadata": {
    "slideshow": {
     "slide_type": "notes"
    }
   },
   "source": [
    "Een fijne psychedelische afbeelding! Dit is iets wat je zou kunnen zien als je met een vergrootglas jouw beeldscherm gaat bekijken. Let ook op dat dit een rasterpatroon is met rijen en kolommen van\n",
    "pixels."
   ]
  },
  {
   "cell_type": "markdown",
   "metadata": {
    "slideshow": {
     "slide_type": "subslide"
    }
   },
   "source": [
    "### Kleurkanalen\n",
    "\n",
    "Een pixel is een samenstelling van hoeveelheden\n",
    "\n",
    "- <font color=\"red\">Rood</font>\n",
    "- <font color=\"green\">Groen</font>\n",
    "- <font color=\"blue\">Blauw</font>"
   ]
  },
  {
   "cell_type": "markdown",
   "metadata": {
    "slideshow": {
     "slide_type": "subslide"
    }
   },
   "source": [
    "![ZP7](images/10/zp7_pixel.png)"
   ]
  },
  {
   "cell_type": "markdown",
   "metadata": {
    "slideshow": {
     "slide_type": "fragment"
    }
   },
   "source": [
    "Pixel op positie 42, 42\n",
    "\n",
    "- <font color=\"red\">Rood</font> = 216 (van 255)\n",
    "- <font color=\"green\">Groen</font> = 234 (van 255)\n",
    "- <font color=\"blue\">Blauw</font> = 254 (van 255)\n"
   ]
  },
  {
   "cell_type": "markdown",
   "metadata": {
    "slideshow": {
     "slide_type": "subslide"
    }
   },
   "source": [
    "![ZP7 inverted](images/10/zp7_inverted_pixel.png)"
   ]
  },
  {
   "cell_type": "markdown",
   "metadata": {
    "slideshow": {
     "slide_type": "fragment"
    }
   },
   "source": [
    "Nieuwe pixel op positie 42, 42\n",
    "\n",
    "- <font color=\"red\">Rood</font> = 39 (was 216)\n",
    "- <font color=\"green\">Groen</font> = 21 (was 234)\n",
    "- <font color=\"blue\">Blauw</font> = 1 (was 254)"
   ]
  },
  {
   "cell_type": "markdown",
   "metadata": {
    "slideshow": {
     "slide_type": "notes"
    }
   },
   "source": [
    "Welke handeling is hier toegepast?"
   ]
  },
  {
   "cell_type": "markdown",
   "metadata": {
    "slideshow": {
     "slide_type": "subslide"
    }
   },
   "source": [
    "### Bits\n",
    "\n",
    "- <font color=\"red\">Rood</font> 255 maximaal\n",
    "- <font color=\"green\">Groen</font> 255 maximal\n",
    "- <font color=\"blue\">Blauw</font> 255 maximaal"
   ]
  },
  {
   "cell_type": "markdown",
   "metadata": {
    "slideshow": {
     "slide_type": "fragment"
    }
   },
   "source": [
    "Hoeveel bits is een *enkel* kleurkanaal (rood, groen of blauw)?"
   ]
  },
  {
   "cell_type": "markdown",
   "metadata": {
    "slideshow": {
     "slide_type": "subslide"
    }
   },
   "source": [
    "### Een pixel\n",
    "\n",
    "Is een list!\n",
    "\n",
    "```python\n",
    "[R, G, B]\n",
    "```"
   ]
  },
  {
   "cell_type": "markdown",
   "metadata": {
    "slideshow": {
     "slide_type": "fragment"
    }
   },
   "source": [
    "```python\n",
    "[39, 21, 1]\n",
    "```"
   ]
  },
  {
   "cell_type": "markdown",
   "metadata": {
    "slideshow": {
     "slide_type": "subslide"
    }
   },
   "source": [
    "### Een rij pixels\n",
    "\n",
    "Is een `LoL`!\n",
    "\n",
    "```python\n",
    "[ [39, 21, 1], [39, 18, 2], ... ]\n",
    "```"
   ]
  },
  {
   "cell_type": "markdown",
   "metadata": {
    "slideshow": {
     "slide_type": "notes"
    }
   },
   "source": [
    "De breedte van de afbeelding..."
   ]
  },
  {
   "cell_type": "markdown",
   "metadata": {
    "slideshow": {
     "slide_type": "subslide"
    }
   },
   "source": [
    "### Een afbeelding\n",
    "\n",
    "Is een ... `LoLoL`?\n",
    "\n",
    "```python\n",
    "[\n",
    "    [ [39, 21, 1], [39, 18, 2], ... ],\n",
    "    [ [38, 21, 1], [39, 18, 1], ... ],\n",
    "    [ [38, 21, 2], [39, 17, 1], ... ]\n",
    "]\n",
    "```"
   ]
  },
  {
   "cell_type": "markdown",
   "metadata": {
    "slideshow": {
     "slide_type": "notes"
    }
   },
   "source": [
    "De breedte én hoogte van een afbeelding!"
   ]
  },
  {
   "cell_type": "markdown",
   "metadata": {
    "slideshow": {
     "slide_type": "slide"
    }
   },
   "source": [
    "## Compressie\n",
    "\n",
    "Te veel bits!"
   ]
  },
  {
   "cell_type": "markdown",
   "metadata": {
    "slideshow": {
     "slide_type": "subslide"
    }
   },
   "source": [
    "![Office original](images/10/office_original.png)"
   ]
  },
  {
   "cell_type": "markdown",
   "metadata": {
    "slideshow": {
     "slide_type": "subslide"
    }
   },
   "source": [
    "![iOS resize](images/10/ios_resize.png)"
   ]
  },
  {
   "cell_type": "markdown",
   "metadata": {
    "slideshow": {
     "slide_type": "subslide"
    }
   },
   "source": [
    "Van 3.0 MB naar 64.4KB!\n",
    "\n",
    "![Office alien](images/10/office_alien.png)\n",
    "\n",
    "... gooi 98% van het *oppervlakte* weg?"
   ]
  },
  {
   "cell_type": "markdown",
   "metadata": {
    "slideshow": {
     "slide_type": "subslide"
    }
   },
   "source": [
    "### Informatiereductie\n",
    "\n",
    "Hoe *kan* je 98% van data verwijderen?"
   ]
  },
  {
   "cell_type": "markdown",
   "metadata": {
    "slideshow": {
     "slide_type": "subslide"
    }
   },
   "source": [
    "![Office](images/10/office.png)"
   ]
  },
  {
   "cell_type": "markdown",
   "metadata": {
    "slideshow": {
     "slide_type": "subslide"
    }
   },
   "source": [
    "![Office detail](images/10/office_detail.png)"
   ]
  },
  {
   "cell_type": "markdown",
   "metadata": {
    "slideshow": {
     "slide_type": "subslide"
    }
   },
   "source": [
    "### Compressietypen"
   ]
  },
  {
   "cell_type": "markdown",
   "metadata": {
    "slideshow": {
     "slide_type": "subslide"
    }
   },
   "source": [
    "Lossless\n",
    "\n",
    "- *geen* verlies van informatie of kwaliteit\n",
    "- kan naar de oorspronkelijke data worden omgezet\n",
    "\n",
    "![GIF](images/10/GIF_29666.png)"
   ]
  },
  {
   "cell_type": "markdown",
   "metadata": {
    "slideshow": {
     "slide_type": "subslide"
    }
   },
   "source": [
    "Lossy\n",
    "\n",
    "- verlies van informatie of kwaliteit\n",
    "- kan *niet* naar de oorspronkelijke data worden omgezet\n",
    "\n",
    "![JPEG](images/10/JPEG_29712.png)"
   ]
  },
  {
   "cell_type": "markdown",
   "metadata": {
    "slideshow": {
     "slide_type": "slide"
    }
   },
   "source": [
    "## Afbeeldingen zijn bits"
   ]
  },
  {
   "cell_type": "markdown",
   "metadata": {
    "slideshow": {
     "slide_type": "fragment"
    }
   },
   "source": [
    "In het bijzonder *binaire* afbeeldingen!"
   ]
  },
  {
   "cell_type": "markdown",
   "metadata": {
    "slideshow": {
     "slide_type": "fragment"
    }
   },
   "source": [
    "![Patroon 1](images/10/pattern_1.png)"
   ]
  },
  {
   "cell_type": "markdown",
   "metadata": {
    "slideshow": {
     "slide_type": "subslide"
    }
   },
   "source": [
    "Een 8x8 binaire afbeelding encoderen\n",
    "\n",
    "```console\n",
    "10101010\n",
    "01010101\n",
    "10101010\n",
    "01010101\n",
    "10101010\n",
    "01010101\n",
    "10101010\n",
    "01010101\n",
    "```\n",
    "\n",
    "Een encodering als ruwe bits, een reeks van 64 bits in totaal\n",
    "\n",
    "```python\n",
    "\"1010101001010101101010100101010110101010010101011010101001010101\"\n",
    "```"
   ]
  },
  {
   "cell_type": "markdown",
   "metadata": {
    "slideshow": {
     "slide_type": "notes"
    }
   },
   "source": [
    "Dit zijn veel bits! Hoe zouden we dit kunnen comprimeren? Daar hebben we een strategie voor nodig!"
   ]
  },
  {
   "cell_type": "markdown",
   "metadata": {
    "slideshow": {
     "slide_type": "subslide"
    }
   },
   "source": [
    "## De strategie\n",
    "\n",
    "**Run-length encoding (RLE)**\n",
    "\n",
    "Een *strategie* voor het (lossless) comprimeren van data"
   ]
  },
  {
   "cell_type": "markdown",
   "metadata": {
    "slideshow": {
     "slide_type": "fragment"
    }
   },
   "source": [
    "```console\n",
    "alliiiiiieeeensssssssssssssssss\n",
    "```"
   ]
  },
  {
   "cell_type": "markdown",
   "metadata": {
    "slideshow": {
     "slide_type": "fragment"
    }
   },
   "source": [
    "```console\n",
    "a|ll|iiiiii|eeee|n|sssssssssssssssss\n",
    "```"
   ]
  },
  {
   "cell_type": "markdown",
   "metadata": {
    "slideshow": {
     "slide_type": "fragment"
    }
   },
   "source": [
    "```console\n",
    "a1l2i6e4n1s17\n",
    "```"
   ]
  },
  {
   "cell_type": "markdown",
   "metadata": {
    "slideshow": {
     "slide_type": "notes"
    }
   },
   "source": [
    "Van 31 naar 13 karakters, dit is een heel succesvolle compressie zonder verlies aan data!"
   ]
  },
  {
   "cell_type": "markdown",
   "metadata": {
    "slideshow": {
     "slide_type": "subslide"
    }
   },
   "source": [
    "![Space](images/10/space.png)"
   ]
  },
  {
   "cell_type": "markdown",
   "metadata": {
    "slideshow": {
     "slide_type": "notes"
    }
   },
   "source": [
    "We zullen zien dat deze afbeelding ook heel goed te comprimeren valt."
   ]
  },
  {
   "cell_type": "markdown",
   "metadata": {
    "slideshow": {
     "slide_type": "subslide"
    }
   },
   "source": [
    "![Patroon 2](images/10/pattern_2.png)"
   ]
  },
  {
   "cell_type": "markdown",
   "metadata": {
    "slideshow": {
     "slide_type": "subslide"
    }
   },
   "source": [
    "Een afbeelding als aaneengesloten reeksen van bits\n",
    "\n",
    "```console\n",
    "00000000\n",
    "00000000\n",
    "11111111\n",
    "11111111\n",
    "00000000\n",
    "00000000\n",
    "00000000\n",
    "00001111\n",
    "```"
   ]
  },
  {
   "cell_type": "markdown",
   "metadata": {
    "slideshow": {
     "slide_type": "fragment"
    }
   },
   "source": [
    "```python\n",
    "\"0000000000000000111111111111111100000000000000000000000000001111\"\n",
    "```"
   ]
  },
  {
   "cell_type": "markdown",
   "metadata": {
    "slideshow": {
     "slide_type": "notes"
    }
   },
   "source": [
    "De bovenstaande 8x8 *binaire* afbeelding als een reeks bits waar 0 staat voor wit en 1 voor zwart."
   ]
  },
  {
   "cell_type": "markdown",
   "metadata": {
    "slideshow": {
     "slide_type": "subslide"
    }
   },
   "source": [
    "## Lossless compressie\n",
    "\n",
    "```python\n",
    "\"0000000000000000111111111111111100000000000000000000000000001111\"\n",
    "```"
   ]
  },
  {
   "cell_type": "markdown",
   "metadata": {
    "slideshow": {
     "slide_type": "fragment"
    }
   },
   "source": [
    "Hoe kan een reeks meer efficient, maar nog steeds **binair**, worden weergegeven?"
   ]
  },
  {
   "cell_type": "markdown",
   "metadata": {
    "slideshow": {
     "slide_type": "subslide"
    }
   },
   "source": [
    "### Encodering\n",
    "\n",
    "```python\n",
    "\"0000000000000000|1111111111111111|0000000000000000000000000000|1111\"\n",
    "```\n",
    "\n",
    "Een mogelijke binaire oplossing?\n",
    "\n",
    "```console\n",
    "bit + aantal herhalingen | bit + aantal herhalingen | ...\n",
    "```"
   ]
  },
  {
   "cell_type": "markdown",
   "metadata": {
    "slideshow": {
     "slide_type": "notes"
    },
    "tags": []
   },
   "source": [
    "Let op, we hebben hier | voor de duidelijkheid als scheidingsteken gebruikt, deze zijn natuurlijk geen onderdeel van de reeks!"
   ]
  },
  {
   "cell_type": "markdown",
   "metadata": {
    "slideshow": {
     "slide_type": "subslide"
    }
   },
   "source": [
    "### De eerste reeks\n",
    "\n",
    "16 keer 0\n",
    "\n",
    "```python\n",
    "\"0000000000000000\"\n",
    "```\n",
    "\n",
    "16 decimaal is 10000 binair\n",
    "\n",
    "```python\n",
    "\"010000\"\n",
    "```\n",
    "\n",
    "```console\n",
    "bit + aantal herhalingen\n",
    "```"
   ]
  },
  {
   "cell_type": "markdown",
   "metadata": {
    "slideshow": {
     "slide_type": "subslide"
    }
   },
   "source": [
    "### De gehele reeks\n",
    "\n",
    "```python\n",
    "\"0000000000000000|1111111111111111|0000000000000000000000000000|1111\"\n",
    "```"
   ]
  },
  {
   "cell_type": "markdown",
   "metadata": {
    "slideshow": {
     "slide_type": "fragment"
    }
   },
   "source": [
    "```python\n",
    "\"010000\"\n",
    "```"
   ]
  },
  {
   "cell_type": "markdown",
   "metadata": {
    "slideshow": {
     "slide_type": "notes"
    }
   },
   "source": [
    "Zestien keer 0"
   ]
  },
  {
   "cell_type": "markdown",
   "metadata": {
    "slideshow": {
     "slide_type": "fragment"
    }
   },
   "source": [
    "```python\n",
    "\"010000\" + \"110000\"\n",
    "```"
   ]
  },
  {
   "cell_type": "markdown",
   "metadata": {
    "slideshow": {
     "slide_type": "notes"
    }
   },
   "source": [
    "Zestien keer 0 plus zestien keer 1 "
   ]
  },
  {
   "cell_type": "markdown",
   "metadata": {
    "slideshow": {
     "slide_type": "fragment"
    }
   },
   "source": [
    "```python\n",
    "\"010000\" + \"110000\" + \"011100\"\n",
    "```"
   ]
  },
  {
   "cell_type": "markdown",
   "metadata": {
    "slideshow": {
     "slide_type": "notes"
    }
   },
   "source": [
    "Zestien keer 0 plus zestien keer 1 plus achtentwintig keer 0"
   ]
  },
  {
   "cell_type": "markdown",
   "metadata": {
    "slideshow": {
     "slide_type": "fragment"
    }
   },
   "source": [
    "```python\n",
    "\"010000\" + \"110000\" + \"011100\" + \"1100\"\n",
    "```"
   ]
  },
  {
   "cell_type": "markdown",
   "metadata": {
    "slideshow": {
     "slide_type": "notes"
    }
   },
   "source": [
    "Zestien keer 0 plus zestien keer 1 plus achtentwintig keer 0 plus vier keer 1"
   ]
  },
  {
   "cell_type": "markdown",
   "metadata": {
    "slideshow": {
     "slide_type": "fragment"
    }
   },
   "source": [
    "Resultaat\n",
    "\n",
    "```python\n",
    "\"0100001100000111001100\"\n",
    "```"
   ]
  },
  {
   "cell_type": "markdown",
   "metadata": {
    "slideshow": {
     "slide_type": "notes"
    }
   },
   "source": [
    "Als je goed kijkt lopen de coderingen soms in elkaar over. Het resultaat is onduidelijk, we kunnen niet met zekerheid achterhalen wat de oorspronkelijk bits en lengte van de reeksen waren."
   ]
  },
  {
   "cell_type": "markdown",
   "metadata": {
    "slideshow": {
     "slide_type": "subslide"
    }
   },
   "source": [
    "## Encodering met vaste lengte\n",
    "\n",
    "Een beter algoritme: blokken met vaste lengte!\n",
    "\n",
    "```python\n",
    "\"0000000000000000|1111111111111111|0000000000000000000000000000|1111\"\n",
    "```"
   ]
  },
  {
   "cell_type": "markdown",
   "metadata": {
    "slideshow": {
     "slide_type": "fragment"
    }
   },
   "source": [
    "Blokken van **8 bits** (1 byte)\n",
    "\n",
    "```python\n",
    "\"0**10000\"\n",
    "```"
   ]
  },
  {
   "cell_type": "markdown",
   "metadata": {
    "slideshow": {
     "slide_type": "fragment"
    }
   },
   "source": [
    "```python\n",
    "\"0**10000\" + \"1**10000\" + \"0**11100\" + \"1****100\"\n",
    "```"
   ]
  },
  {
   "cell_type": "markdown",
   "metadata": {
    "slideshow": {
     "slide_type": "subslide"
    }
   },
   "source": [
    "### Padding\n",
    "\n",
    "Wat te doen met de lege `*` plekken? *Vullen met nullen*!\n",
    "\n",
    "```python\n",
    "\"00010000\" + \"10010000\" + \"00011100\" + \"10000100\"\n",
    "```"
   ]
  },
  {
   "cell_type": "markdown",
   "metadata": {
    "slideshow": {
     "slide_type": "fragment"
    }
   },
   "source": [
    "Resultaat\n",
    "\n",
    "```python\n",
    "\"00010000100100000001110010000100\"\n",
    "```"
   ]
  },
  {
   "cell_type": "markdown",
   "metadata": {
    "slideshow": {
     "slide_type": "notes"
    }
   },
   "source": [
    "Vullen met nullen, of soms ook wel voorloopnullen genoemd."
   ]
  },
  {
   "cell_type": "markdown",
   "metadata": {
    "slideshow": {
     "slide_type": "subslide"
    }
   },
   "source": [
    "### Nullen vullen"
   ]
  },
  {
   "cell_type": "code",
   "execution_count": 6,
   "metadata": {
    "slideshow": {
     "slide_type": "fragment"
    }
   },
   "outputs": [
    {
     "data": {
      "text/plain": [
       "'0000'"
      ]
     },
     "execution_count": 6,
     "metadata": {},
     "output_type": "execute_result"
    }
   ],
   "source": [
    "4 * \"0\""
   ]
  },
  {
   "cell_type": "markdown",
   "metadata": {
    "slideshow": {
     "slide_type": "notes"
    }
   },
   "source": [
    "Bedenk dat je Python strings kan vermenigvuldigen en in dit geval kan dat heel goed van pas komen!"
   ]
  },
  {
   "cell_type": "markdown",
   "metadata": {
    "slideshow": {
     "slide_type": "subslide"
    }
   },
   "source": [
    "## Tot hoeveel kan je tellen\n",
    "\n",
    "In een 8 bits blok is het *eerst bit* de \"initiële pixel\" en de resterende *7 bits* om het aantal herhalingen aan te geven"
   ]
  },
  {
   "cell_type": "markdown",
   "metadata": {
    "slideshow": {
     "slide_type": "fragment"
    }
   },
   "source": [
    "- Wat is de langste herhaling die met 7 bits kan worden vastgelegd?"
   ]
  },
  {
   "cell_type": "markdown",
   "metadata": {
    "slideshow": {
     "slide_type": "notes"
    }
   },
   "source": [
    "Het maximum aantal herhalingen is $2^7 - 1 = 127$."
   ]
  },
  {
   "cell_type": "markdown",
   "metadata": {
    "slideshow": {
     "slide_type": "fragment"
    }
   },
   "source": [
    "- Wat kan je doen als de herhaling langer is dan 7 bits?"
   ]
  },
  {
   "cell_type": "markdown",
   "metadata": {
    "slideshow": {
     "slide_type": "notes"
    }
   },
   "source": [
    "Begin vanaf de 128e pixel een nieuw 8 bits blok!"
   ]
  },
  {
   "cell_type": "markdown",
   "metadata": {
    "slideshow": {
     "slide_type": "slide"
    }
   },
   "source": [
    "## De functie\n",
    "\n",
    "```python\n",
    "def compress(I):\n",
    "    \"\"\"Returns the RLE of the input binary image, I\n",
    "    \"\"\"\n",
    "```\n",
    "\n",
    "Input: een binaire afbeelding `I`\n",
    "\n",
    "```python\n",
    "\"0000000000001111111111111111111100000000000000000000011111111111\"\n",
    "```\n",
    "\n",
    "Output: de RLE gecomprimeerde afbeelding\n",
    "\n",
    "```python\n",
    "\"00001100100101000001010110001011\"\n",
    "```"
   ]
  },
  {
   "cell_type": "markdown",
   "metadata": {
    "slideshow": {
     "slide_type": "subslide"
    }
   },
   "source": [
    "## Quiz"
   ]
  },
  {
   "cell_type": "markdown",
   "metadata": {
    "slideshow": {
     "slide_type": "subslide"
    }
   },
   "source": [
    "### Vraag 1\n",
    "\n",
    "De volgende reeks bits\n",
    "\n",
    "```python\n",
    "\"0000000000000000000000000000000000000000001111111111111111111111111111111\"\n",
    "```\n",
    "\n",
    "heeft 42 opeenvolgende *nullen* en 31 opeenvolgende *enen*\n",
    "\n",
    "- Wat is de RLE gecomprimeerde waarde (of met andere woorden, de output van `compress(I)`)? "
   ]
  },
  {
   "cell_type": "markdown",
   "metadata": {
    "slideshow": {
     "slide_type": "subslide"
    }
   },
   "source": [
    "### Oplossing\n",
    "\n",
    "```python\n",
    "\"00101010|10011111\"\n",
    "```"
   ]
  },
  {
   "cell_type": "markdown",
   "metadata": {
    "slideshow": {
     "slide_type": "subslide"
    }
   },
   "source": [
    "### Vraag 2\n",
    "\n",
    "Een hulpfunctie voor het vinden van het EERSTE geval"
   ]
  },
  {
   "cell_type": "markdown",
   "metadata": {
    "slideshow": {
     "slide_type": "fragment"
    }
   },
   "source": [
    "```python\n",
    "def front_num(s):\n",
    "    \"\"\"Returns the # of times the first\n",
    "       element of the input s appears\n",
    "       consecutively at the start of s\n",
    "    \"\"\"\n",
    "    if len(s) <= 1:  # base case\n",
    "        return ...\n",
    "    elif ...:        # recursive case\n",
    "        return ...\n",
    "    else:            # not a sequence\n",
    "        return ...\n",
    "```\n",
    "\n",
    "Bijvoorbeeld\n",
    "\n",
    "```python\n",
    "assert front_num(\"1111010\") == 4\n",
    "assert front_num(\"00110010\") == 2\n",
    "```\n"
   ]
  },
  {
   "cell_type": "markdown",
   "metadata": {
    "slideshow": {
     "slide_type": "subslide"
    }
   },
   "source": [
    "### Oplossing"
   ]
  },
  {
   "cell_type": "code",
   "execution_count": 7,
   "metadata": {
    "slideshow": {
     "slide_type": "fragment"
    }
   },
   "outputs": [],
   "source": [
    "def front_num(s):\n",
    "    \"\"\"Returns the # of times the first\n",
    "       element of the input s appears\n",
    "       consecutively at the start of s\n",
    "    \"\"\"\n",
    "    if len(s) <= 1:     # base case\n",
    "        return len(s)\n",
    "    elif s[0] == s[1]:  # recursive case\n",
    "        # add 1 to the rest\n",
    "        return 1 + front_num(s[1:])\n",
    "    else:               # not a sequence\n",
    "        return 1\n"
   ]
  },
  {
   "cell_type": "code",
   "execution_count": 8,
   "metadata": {
    "slideshow": {
     "slide_type": "fragment"
    }
   },
   "outputs": [],
   "source": [
    "assert front_num(\"1111010\") == 4\n",
    "assert front_num(\"00110010\") == 2"
   ]
  },
  {
   "cell_type": "markdown",
   "metadata": {
    "slideshow": {
     "slide_type": "slide"
    }
   },
   "source": [
    "## Beste en slechtste compressie"
   ]
  },
  {
   "cell_type": "markdown",
   "metadata": {
    "slideshow": {
     "slide_type": "subslide"
    }
   },
   "source": [
    "![Pattern 4](images/10/pattern_4.png)"
   ]
  },
  {
   "cell_type": "markdown",
   "metadata": {
    "slideshow": {
     "slide_type": "fragment"
    }
   },
   "source": [
    "Tot hoeveel bits kan deze 8x8 binaire afbeelding worden gecomprimeerd?"
   ]
  },
  {
   "cell_type": "markdown",
   "metadata": {
    "slideshow": {
     "slide_type": "notes"
    }
   },
   "source": [
    "Deze afbeelding kan tot een enkel blok worden gecomprimeerd (een enkel blok van 8 bits)."
   ]
  },
  {
   "cell_type": "markdown",
   "metadata": {
    "slideshow": {
     "slide_type": "subslide"
    }
   },
   "source": [
    "![Pattern 4](images/10/pattern_3.png)"
   ]
  },
  {
   "cell_type": "markdown",
   "metadata": {
    "slideshow": {
     "slide_type": "fragment"
    }
   },
   "source": [
    "Tot hoeveel bits kan deze 8x8 binaire afbeelding worden gecomprimeerd?"
   ]
  },
  {
   "cell_type": "markdown",
   "metadata": {
    "slideshow": {
     "slide_type": "notes"
    }
   },
   "source": [
    "Deze afbeelding kan niet efficiënt worden gecomprimeerd en zal 512 bits groot zijn (8x8 blokken van elk 8 bits)."
   ]
  },
  {
   "cell_type": "markdown",
   "metadata": {
    "slideshow": {
     "slide_type": "slide"
    }
   },
   "source": [
    "## Alles bits!\n",
    "\n",
    "Afbeeldingen, tekst, geluid, data\n",
    "\n",
    "Zelfs de string `vier*twee` wordt gerepresenteerd als een sequentie van bits...\n",
    "\n",
    "```python\n",
    "\"vier*twee\"\n",
    "```\n",
    "\n",
    "9 ASCII karakters, elk 1 byte groot is 72 bits in totaal\n",
    "\n",
    "```python\n",
    "\"01110110011010010110010101110010|00101010|01110100011101110110010101100101\"\n",
    "```"
   ]
  }
 ],
 "metadata": {
  "kernelspec": {
   "display_name": "Python 3.10.6 64-bit",
   "language": "python",
   "name": "python3"
  },
  "language_info": {
   "codemirror_mode": {
    "name": "ipython",
    "version": 3
   },
   "file_extension": ".py",
   "mimetype": "text/x-python",
   "name": "python",
   "nbconvert_exporter": "python",
   "pygments_lexer": "ipython3",
   "version": "3.10.7"
  },
  "vscode": {
   "interpreter": {
    "hash": "e7370f93d1d0cde622a1f8e1c04877d8463912d04d973331ad4851f04de6915a"
   }
  }
 },
 "nbformat": 4,
 "nbformat_minor": 4
}
