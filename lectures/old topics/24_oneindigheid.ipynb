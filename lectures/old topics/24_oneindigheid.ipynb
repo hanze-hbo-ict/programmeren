{
 "cells": [
  {
   "cell_type": "markdown",
   "metadata": {
    "slideshow": {
     "slide_type": "slide"
    }
   },
   "source": [
    "# Oneindigheid"
   ]
  },
  {
   "cell_type": "markdown",
   "metadata": {
    "slideshow": {
     "slide_type": "fragment"
    }
   },
   "source": [
    "* Oneindig soorten oneindigheid!\n",
    "\n",
    "![Mind blown](images/24/mind_blown.gif)"
   ]
  },
  {
   "cell_type": "markdown",
   "metadata": {
    "slideshow": {
     "slide_type": "fragment"
    }
   },
   "source": [
    "* Of in ieder geval twee..."
   ]
  },
  {
   "cell_type": "markdown",
   "metadata": {
    "slideshow": {
     "slide_type": "subslide"
    }
   },
   "source": [
    "## Programma's berekenen functies\n",
    "\n",
    "$$\n",
    "f(x) = 2x\n",
    "$$\n",
    "\n",
    "wordt\n",
    "\n",
    "```python\n",
    "def f(x):\n",
    "    return 2*x\n",
    "```"
   ]
  },
  {
   "cell_type": "markdown",
   "metadata": {
    "slideshow": {
     "slide_type": "subslide"
    }
   },
   "source": [
    "### Ander voorbeeld\n",
    "\n",
    "$$\n",
    "f(x) = \\left\\{ \\begin{aligned}\n",
    "&1 \\text{ als } x \\text{ oneven is} \\\\\n",
    "&0 \\text{ als } x \\text{ even is}\n",
    "\\end{aligned} \\right.\n",
    "$$\n",
    "\n",
    "wordt\n",
    "\n",
    "```python\n",
    "def f(x):\n",
    "    return x % 2\n",
    "```"
   ]
  },
  {
   "cell_type": "markdown",
   "metadata": {
    "slideshow": {
     "slide_type": "subslide"
    }
   },
   "source": [
    "## Hoeveel functies zijn er?\n",
    "\n",
    "* Kan je voor elke functie een programma schrijven?\n",
    "* Zijn er meer functies dan programma's?\n",
    "* Zijn er meer programma's dan functies?"
   ]
  },
  {
   "cell_type": "markdown",
   "metadata": {
    "slideshow": {
     "slide_type": "subslide"
    }
   },
   "source": [
    "## Er zijn oneindig veel functies\n",
    "\n",
    "* We bekijken nu even alleen functies die een positieve `int` als invoer krijgen en `0` of `1` als uitvoer geven (dus **beslissingsproblemen**)\n",
    "\n",
    "$$\n",
    "f(x) = 1\n",
    "$$\n",
    "\n",
    "$$\n",
    "g(x) = \\left\\{ \\begin{aligned}\n",
    "&1 \\text{ als } x \\text{ oneven is} \\\\\n",
    "&0 \\text{ als } x \\text{ even is}\n",
    "\\end{aligned} \\right.\n",
    "$$\n",
    "\n",
    "$$\n",
    "h(x) = \\left\\{ \\begin{aligned}\n",
    "&1 \\text{ als } x \\text{ 1, 2 of 3 is} \\\\\n",
    "&0 \\text{ als } x \\text{ dat niet is}\n",
    "\\end{aligned} \\right.\n",
    "$$"
   ]
  },
  {
   "cell_type": "markdown",
   "metadata": {
    "slideshow": {
     "slide_type": "subslide"
    }
   },
   "source": [
    "* Waarom zijn er hier oneindig veel van?\n",
    "* Kijk maar:\n",
    "\n",
    "$$\n",
    "f(x) = \\left\\{ \\begin{aligned}\n",
    "&1 \\text{ als } x \\text{ gelijk is aan 1} \\\\\n",
    "&0 \\text{ als } x \\text{ ongelijk is aan 1}\n",
    "\\end{aligned} \\right.\n",
    "$$\n",
    "\n",
    "* Maar dit kan natuurlijk voor elk getal, niet alleen 1, en er zijn oneindig veel getallen"
   ]
  },
  {
   "cell_type": "markdown",
   "metadata": {
    "slideshow": {
     "slide_type": "subslide"
    }
   },
   "source": [
    "## Er zijn oneindig veel programma's\n",
    "\n",
    "* We tellen alle programma's, ook met syntaxfouten\n",
    "* Twee programma's die er anders uitzien maar hetzelfde berekenen tellen allebei\n",
    "\n",
    "```python\n",
    "def f(x):\n",
    "    return 1\n",
    "\n",
    "def g(x):\n",
    "    return x % 2\n",
    "\n",
    "def h(x):\n",
    "    return x in [1, 2, 3]\n",
    "```"
   ]
  },
  {
   "cell_type": "markdown",
   "metadata": {
    "slideshow": {
     "slide_type": "subslide"
    }
   },
   "source": [
    "* Hier zijn er ook oneindig veel van:\n",
    "\n",
    "```python\n",
    "def f(x):\n",
    "    return x == 1\n",
    "```\n",
    "\n",
    "* Dit kan natuurlijk ook voor elk getal, niet alleen voor 1\n",
    "* We doen even alsof de computer oneindig veel geheugen heeft"
   ]
  },
  {
   "cell_type": "markdown",
   "metadata": {
    "slideshow": {
     "slide_type": "slide"
    }
   },
   "source": [
    "## Er zijn meer functies dan programma's\n",
    "\n",
    "* Maar ze zijn allebei oneindig?\n",
    "* Toch zijn er meer functies!"
   ]
  },
  {
   "cell_type": "markdown",
   "metadata": {
    "slideshow": {
     "slide_type": "subslide"
    }
   },
   "source": [
    "### Programma's \"lijken\" op natuurlijke getallen\n",
    "\n",
    "* Natuurlijke getallen zijn integers die niet negatief zijn.\n",
    "* Bij elk programma \"hoort\" een integer.\n",
    "* Bij elke integer \"hoort\" een programma.\n",
    "    * Maar misschien geen programma zonder syntaxfouten!\n",
    "* Dit is waar, maar waarom?"
   ]
  },
  {
   "cell_type": "markdown",
   "metadata": {
    "slideshow": {
     "slide_type": "subslide"
    }
   },
   "source": [
    "* Een programma is een string\n",
    "* Een string is niet anders dan een aantal bits achter elkaar\n",
    "* Maar een aantal bits achter elkaar is ook een integer!\n",
    "\n",
    "```python\n",
    "def program_to_int(p):\n",
    "    if p == '': return 0\n",
    "    return 256 * program_to_int(p[:-1]) + ord(p[-1])\n",
    "\n",
    "def int_to_program(i):\n",
    "    if i <= 0: return ''\n",
    "    return int_to_program(i // 256) + chr(i % 256)\n",
    "```"
   ]
  },
  {
   "cell_type": "markdown",
   "metadata": {
    "slideshow": {
     "slide_type": "subslide"
    }
   },
   "source": [
    "### Functies \"lijken\" op reële getallen\n",
    "\n",
    "* Reële getallen zijn kommagetallen\n",
    "* We beperken ons hier tot getallen van 0 tot 1\n",
    "* En tot beslissingsproblemen\n",
    "* Bij elk beslissingsprobleem \"hoort\" een kommagetal\n",
    "* Bij elk kommagetal \"hoort\" een beslissingsprobleem\n",
    "* Dit is waar, maar waarom?"
   ]
  },
  {
   "cell_type": "markdown",
   "metadata": {
    "slideshow": {
     "slide_type": "subslide"
    }
   },
   "source": [
    "* We schrijven de kommagetallen even binair\n",
    "* Bijvoorbeeld: $0{,}375_{10} = 0{,}011_2$ (want: $0{,}375 = \\frac{1}{4} + \\frac{1}{8} = \\frac{0}{2^1} + \\frac{1}{2^2} + \\frac{1}{2^3}$)\n",
    "\n",
    "$$\n",
    "\\begin{array}{lcl}\n",
    "r_1 = 0{,}11111111\\ldots_2 & \\text{hoort bij} &\n",
    "f_1(x) = 1 \\\\\n",
    "r_2 = 0{,}10101010\\ldots_2 & \\text{hoort bij} &\n",
    "f_2(x) = \\left\\{ \\begin{aligned}\n",
    "&1 \\text{ als } x \\text{ oneven is} \\\\\n",
    "&0 \\text{ als } x \\text{ even is}\n",
    "\\end{aligned} \\right. \\\\\n",
    "r_3 = 0{,}11100000\\ldots_2 & \\text{hoort bij} &\n",
    "f_3(x) = \\left\\{ \\begin{aligned}\n",
    "&1 \\text{ als } x \\text{ 1, 2 of 3 is} \\\\\n",
    "&0 \\text{ als } x \\text{ dat niet is}\n",
    "\\end{aligned} \\right. \\\\\n",
    "r_4 = 0{,}01101010\\ldots_2 & \\text{hoort bij} &\n",
    "f_4(x) = \\left\\{ \\begin{aligned}\n",
    "&1 \\text{ als } x \\text{ priem is} \\\\\n",
    "&0 \\text{ als } x \\text{ niet priem is}\n",
    "\\end{aligned} \\right. \\\\\n",
    "r_5 = \\text{ ?} & \\text{hoort bij} &\n",
    "f_5(x) = \\left\\{ \\begin{aligned}\n",
    "&1 \\text{ als } x \\text{ deelbaar door 3 is} \\\\\n",
    "&0 \\text{ als } x \\text{ niet deelbaar door 3 is}\n",
    "\\end{aligned} \\right. \\\\\n",
    "r_6 = 0{,}00000000\\ldots_2 & \\text{hoort bij} &\n",
    "f_6(x) = \\text{ ?}\n",
    "\\end{array}\n",
    "$$"
   ]
  },
  {
   "cell_type": "markdown",
   "metadata": {
    "slideshow": {
     "slide_type": "slide"
    }
   },
   "source": [
    "## Meer integers of meer kommagetallen?\n",
    "\n",
    "* Er zijn meer kommagetallen dan integers\n",
    "* Maar ze zijn allebei oneindig?\n",
    "* Niet alle oneindigheden zijn gelijk!"
   ]
  },
  {
   "cell_type": "markdown",
   "metadata": {
    "slideshow": {
     "slide_type": "subslide"
    }
   },
   "source": [
    "### Bijecties\n",
    "\n",
    "* Twee verzamelingen (bijvoorbeeld programma's en integers) zijn even groot als je een één-op-éénrelatie kan vinden tussen de twee verzamelingen\n",
    "* Dit heet een **bijectie**."
   ]
  },
  {
   "cell_type": "markdown",
   "metadata": {
    "slideshow": {
     "slide_type": "subslide"
    }
   },
   "source": [
    "* Bijvoorbeeld: er zijn **even veel** positieve, even integers (2, 4, 6, ...) en positieve integers (1, 2, 3, ...).\n",
    "\n",
    "```python\n",
    "def even_to_positive(e):\n",
    "    return e // 2\n",
    "\n",
    "def positive_to_even(p):\n",
    "    return p * 2\n",
    "```"
   ]
  },
  {
   "cell_type": "markdown",
   "metadata": {
    "slideshow": {
     "slide_type": "notes"
    }
   },
   "source": [
    "Zie ook [deze TED-Ed-video](https://youtu.be/Uj3_KqkI9Zo) van Jeff Dekofsky over Hilbert's hotel, waar je ook bijecties tussen oneindige verzamelingen ziet."
   ]
  },
  {
   "cell_type": "markdown",
   "metadata": {
    "slideshow": {
     "slide_type": "subslide"
    }
   },
   "source": [
    "* Er zijn ook **even veel** integers (dus positief en negatief: ..., -3, -2, 1, 0, 1, 2, 3, ...) als positieve integers (1, 2, 3, ...)\n",
    "\n",
    "```python\n",
    "def integer_to_positive(i):\n",
    "    if i < 0:\n",
    "        return -i * 2\n",
    "    else:\n",
    "        return i * 2 + 1\n",
    "\n",
    "def positive_to_integer(p):\n",
    "    if p % 2 == 1:\n",
    "        return p // 2\n",
    "    else:\n",
    "        return -p // 2\n",
    "```"
   ]
  },
  {
   "cell_type": "markdown",
   "metadata": {
    "slideshow": {
     "slide_type": "subslide"
    }
   },
   "source": [
    "### Positieve integers en reële getallen\n",
    "\n",
    "* Kunnen we een bijectie vinden tussen de positieve integers en de reële getallen van 0 tot 1?\n",
    "* Dus: kunnen we alle reële getallen in een lijst zetten?\n",
    "\n",
    "$$\n",
    "\\begin{array}{lcl}\n",
    "0{,}1 & \\leftrightarrow & 1 \\\\\n",
    "0{,}2 & \\leftrightarrow & 2 \\\\\n",
    "0{,}3 & \\leftrightarrow & 3 \\\\\n",
    "0{,}4 & \\leftrightarrow & 4 \\\\\n",
    "\\ldots & & \\ldots \\\\ \n",
    "0{,}11 & \\leftrightarrow & 11 \\\\\n",
    "0{,}12 & \\leftrightarrow & 12 \\\\\n",
    "\\ldots & & \\ldots\n",
    "\\end{array}\n",
    "$$"
   ]
  },
  {
   "cell_type": "markdown",
   "metadata": {
    "slideshow": {
     "slide_type": "fragment"
    }
   },
   "source": [
    "* Waarom is dit geen bijectie?"
   ]
  },
  {
   "cell_type": "markdown",
   "metadata": {
    "slideshow": {
     "slide_type": "notes"
    }
   },
   "source": [
    "Aan de ene kant wordt het getal $0{,}1$ op 1 afgebeeld, maar ook op 10 (immers, $0{,}10 = 0{,}1$), maar belangrijker, getallen als $\\frac{1}{9} = 0,1111\\ldots$ worden helemaal niet afgebeeld: dan zou je een integer moeten hebben met een oneindig aantal getallen, maar die bestaan niet. Integers worden wel oneindig groot, maar elke integer kan je schrijven met een eindig aantal cijfers."
   ]
  },
  {
   "cell_type": "markdown",
   "metadata": {
    "slideshow": {
     "slide_type": "subslide"
    }
   },
   "source": [
    "### Cantor's diagonaalargument\n",
    "\n",
    "<img style=\"width: 30%;\" alt=\"Georg Cantor\" src=\"images/24/cantor.jpg\">\n",
    "\n",
    "* Georg Cantor bewees dat, hoe je je lijst ook maakt, er altijd reële getallen missen!"
   ]
  },
  {
   "cell_type": "markdown",
   "metadata": {
    "slideshow": {
     "slide_type": "subslide"
    }
   },
   "source": [
    "$$\n",
    "\\begin{array}{lcl}\n",
    "0{,}\\mathbf{3}3333333\\ldots & \\leftrightarrow & 1 \\\\\n",
    "0{,}4\\mathbf{2}424242\\ldots & \\leftrightarrow & 2 \\\\\n",
    "0{,}31\\mathbf{4}15942\\ldots & \\leftrightarrow & 3 \\\\\n",
    "0{,}090\\mathbf{9}0909\\ldots & \\leftrightarrow & 4 \\\\\n",
    "\\ldots & & \\ldots\n",
    "\\end{array}\n",
    "$$\n",
    "\n",
    "* Maak een nieuw getal waarbij op de eerste plek een ander cijfer staat dan bij getal 1, op de tweede plek een ander cijfer staat dan bij getal 2, enzovoorts.\n",
    "* Bijvoorbeeld $0{,}4350\\ldots$.\n",
    "* Dit getal kan niet op de lijst staan!\n",
    "* De lijst is dus niet volledig."
   ]
  },
  {
   "cell_type": "markdown",
   "metadata": {
    "slideshow": {
     "slide_type": "notes"
    }
   },
   "source": [
    "Zie ook [deze video](https://youtu.be/elvOZm0d4H0) van Numberphile over het diagonaalargument van Cantor."
   ]
  },
  {
   "cell_type": "markdown",
   "metadata": {
    "slideshow": {
     "slide_type": "subslide"
    }
   },
   "source": [
    "### Aftelbaar en overaftelbaar\n",
    "\n",
    "* Er zijn dus echt meer reële getallen dan integers.\n",
    "* Integers noemen we *aftelbaar*.\n",
    "* Reële getallen noemen we *overaftelbaar*."
   ]
  },
  {
   "cell_type": "markdown",
   "metadata": {
    "slideshow": {
     "slide_type": "fragment"
    }
   },
   "source": [
    "* Dus: er zijn beslissingsproblemen die we niet in een programma kunnen vatten!\n",
    "* Ongeacht wat voor computer we zouden kunnen bedenken."
   ]
  },
  {
   "cell_type": "markdown",
   "metadata": {
    "slideshow": {
     "slide_type": "fragment"
    }
   },
   "source": [
    "![Mind blown](images/24/mind_blown.gif)"
   ]
  },
  {
   "cell_type": "markdown",
   "metadata": {
    "slideshow": {
     "slide_type": "slide"
    }
   },
   "source": [
    "## \"Complexiteit\" van getallen\n",
    "\n",
    "* Een voorbeeld van een functie die je niet kan berekenen.\n",
    "* Hoe *complex* is een getal?\n",
    "\n",
    "* 1000000...0000000000000\n",
    "* 1742763...6352816281535\n",
    "\n",
    "* Deze twee getallen zijn even lang, maar welke oogt complexer?\n",
    "* Laten we **\"complexiteit\"** definiëren als de lengte van de kortste functie dat dat getal kan berekenen.\n",
    "* Dit wordt wel *Kolmogorov-complexiteit* genoemd"
   ]
  },
  {
   "cell_type": "markdown",
   "metadata": {
    "slideshow": {
     "slide_type": "subslide"
    }
   },
   "source": [
    "### Een functie voor Kolmogorov-complexiteit\n",
    "\n",
    "<img style=\"width: 20%;\" alt=\"Andrej Kolmogorov\" src=\"images/24/kolmogorov.jpg\">\n",
    "\n",
    "* `complexity(x)`: complexiteit van `x`\n",
    "* Bijvoorbeeld: `complexity(42) == 18`\n",
    "* Omdat `def f(): return 42` de kortste functie is om `42` te maken\n",
    "* 16 tekens \"overhead\", 2 voor het getal"
   ]
  },
  {
   "cell_type": "markdown",
   "metadata": {
    "slideshow": {
     "slide_type": "notes"
    }
   },
   "source": [
    "Dit is niet helemaal waar: je kan functies korter schrijven in Python, maar daar heb je syntax voor nodig die we niet besproken hebben, dus we doen even alsof die syntax niet bestaat."
   ]
  },
  {
   "cell_type": "markdown",
   "metadata": {
    "slideshow": {
     "slide_type": "subslide"
    }
   },
   "source": [
    "* Dus in ieder geval kan 16 plus de lengte van het getal\n",
    "* Maar soms kan dit beter: `complexity(100000) == 21`\n",
    "* Omdat ```def f(): return 10**5``` de korste functie is om `100000` te maken"
   ]
  },
  {
   "cell_type": "markdown",
   "metadata": {
    "slideshow": {
     "slide_type": "subslide"
    }
   },
   "source": [
    "$$\n",
    "\\begin{array}{rcl}\n",
    "5 & \\rightarrow & 17 \\\\\n",
    "42 & \\rightarrow & 18 \\\\\n",
    "47 & \\rightarrow & 18 \\\\\n",
    "100 & \\rightarrow & 19 \\\\\n",
    "1000 & \\rightarrow & 20 \\\\\n",
    "10000 & \\rightarrow & 21 \\\\\n",
    "100000 & \\rightarrow & 21 \\\\\n",
    "100005 & \\rightarrow & 23\n",
    "\\end{array}\n",
    "$$"
   ]
  },
  {
   "cell_type": "markdown",
   "metadata": {
    "slideshow": {
     "slide_type": "subslide"
    }
   },
   "source": [
    "### Quiz\n",
    "\n",
    "* `complexity(42) == 16 + 2 == 18`\n",
    "* `complexity(9001) == 16 + ?`\n",
    "* `complexity(1000000) == 16 + ?` (een miljoen; 6 nullen)\n",
    "* `complexity(1000042) == 16 + ?`\n",
    "* `complexity(1000000000) == 16 + ?` (een miljard; 9 nullen)\n",
    "* `complexity(100000000...) == 16 + ?` (een googol; 100 nullen)\n",
    "* `complexity(100000000000...) == 16 + ?` (een googolplex; googol nullen)\n",
    "* `complexity(31415926...) == 16 + ?` (een biljoen cijfers van π)\n",
    "* `complexity(74682437...) == 16 + ?` (duizend willekeurige cijfers)"
   ]
  },
  {
   "cell_type": "markdown",
   "metadata": {
    "slideshow": {
     "slide_type": "subslide"
    }
   },
   "source": [
    "### Oplossingen\n",
    "\n",
    "* `complexity(42) == 16 + 2 == 18`\n",
    "* `complexity(9001) == 16 + 4 == 20`\n",
    "* `complexity(1000000) == 16 + 5 == 21`: `10**6` (een miljoen; 6 nullen)\n",
    "* `complexity(1000042) == 16 + 7 == 23`: `10**6+42` is langer dan `1000042`\n",
    "* `complexity(1000000000) == 16 + 5 == 21`: `10**9` (een miljard; 9 nullen)\n",
    "* `complexity(100000000...) == 16 + 7 == 23`: `10**100` (een googol; 100 nullen)\n",
    "* `complexity(100000000000...) == 16 + 11 == 27`: `10**10**100` (een googolplex; googol nullen)\n",
    "* `complexity(31415926...) == 16 + 108 == 124` (een biljoen cijfers van π)\n",
    "* `complexity(74682437...) == 16 + 1000 == 1016` (duizend willekeurige cijfers)"
   ]
  },
  {
   "cell_type": "markdown",
   "metadata": {
    "slideshow": {
     "slide_type": "notes"
    }
   },
   "source": [
    "Waarom is `complexity(31415926...) == 124`? Zie deze voorbeeldcode:\n",
    "\n",
    "```python\n",
    "def f(): a=10**10**100;from random import uniform as u;return 10**10**9*4*sum(u(-1,1)**2+u(-1,1)**2<=1 for _ in range(a))//a\n",
    "```\n",
    "\n",
    "Dit is een gecomprimeerde versie van de functie `for_pi` die je eerdr geschreven hebt."
   ]
  },
  {
   "cell_type": "markdown",
   "metadata": {
    "slideshow": {
     "slide_type": "subslide"
    }
   },
   "source": [
    "### Is deze functie berekenbaar?\n",
    "\n",
    "* De functie is duidelijk beschreven en heeft duidelijke invoer en uitvoer\n",
    "* Maar niet berekenbaar! Elke implementatie bevat een bug"
   ]
  },
  {
   "cell_type": "markdown",
   "metadata": {
    "slideshow": {
     "slide_type": "subslide"
    }
   },
   "source": [
    "* We weten dat `complexity(5) == 17`, dus poging 1:\n",
    "\n",
    "```python\n",
    "def complexity(x):\n",
    "    return x + 12\n",
    "```\n",
    "\n",
    "* Zitten hier bugs in?"
   ]
  },
  {
   "cell_type": "markdown",
   "metadata": {
    "slideshow": {
     "slide_type": "fragment"
    }
   },
   "source": [
    "* Bijvoorbeeld `complexity(42) == 18 != 54` (en natuurlijk een heleboel andere bugs)"
   ]
  },
  {
   "cell_type": "markdown",
   "metadata": {
    "slideshow": {
     "slide_type": "subslide"
    }
   },
   "source": [
    "### Poging 2\n",
    "\n",
    "* Laten we kijken naar de lengte:\n",
    "\n",
    "```python\n",
    "def complexity(x):\n",
    "    return x + len(str(x))\n",
    "```\n",
    "\n",
    "* Zitten hier bugs in?"
   ]
  },
  {
   "cell_type": "markdown",
   "metadata": {
    "slideshow": {
     "slide_type": "fragment"
    }
   },
   "source": [
    "* Bijvoorbeeld `complexity(100000) == 21 != 22` (en ook hier een heleboel andere bugs)"
   ]
  },
  {
   "cell_type": "markdown",
   "metadata": {
    "slideshow": {
     "slide_type": "subslide"
    }
   },
   "source": [
    "* Sterker nog, elke functie die we hiervoor kunnen bedenken heeft een bug. Kijk maar:\n",
    "\n",
    "```python\n",
    "def complexity(x):\n",
    "    # heel veel code: deze hele functie is bijvoorbeeld 900.000 tekens lang\n",
    "    return answer\n",
    "```\n",
    "\n",
    "* De stelling is dat deze functie geen bugs heeft, dus voor alle getallen de goede complexiteit berekent."
   ]
  },
  {
   "cell_type": "markdown",
   "metadata": {
    "slideshow": {
     "slide_type": "subslide"
    }
   },
   "source": [
    "```python\n",
    "def complexity(x):\n",
    "    # heel veel code: deze hele functie is bijvoorbeeld 900.000 tekens lang\n",
    "    return answer\n",
    "\n",
    "def paradox():\n",
    "    x = 0\n",
    "    while complexity(x) < 1000000:\n",
    "        x += 1\n",
    "    return x\n",
    "```\n",
    "\n",
    "* Deze functie is samen met `complexity` 900.087  tekens lang\n",
    "* Deze functie geeft een getal terug"
   ]
  },
  {
   "cell_type": "markdown",
   "metadata": {
    "slideshow": {
     "slide_type": "fragment"
    }
   },
   "source": [
    "* Dit getal heeft dus een complexiteit die hooguit 900.087 is (dat was de definitie van complexiteit!)\n",
    "* Maar: de functie `complexity` zegt dat de complexiteit van dit getal meer dan 1 miljoen is!\n",
    "* De functie `complexity` heeft dus een bug!\n",
    "* Deze bewijsmethode heet *bewijs uit het ongerijmde*."
   ]
  },
  {
   "cell_type": "markdown",
   "metadata": {
    "slideshow": {
     "slide_type": "slide"
    }
   },
   "source": [
    "## Het halting problem\n",
    "\n",
    "* We willen weten of een bepaald programma in een eindeloze lus zal raken, of omgekeerd, of het programma zal stoppen\n",
    "\n",
    "```python\n",
    "def halt_checker(f):\n",
    "    # bepaal of f() wel of niet stopt\n",
    "```"
   ]
  },
  {
   "cell_type": "markdown",
   "metadata": {
    "slideshow": {
     "slide_type": "fragment"
    }
   },
   "source": [
    "* Je voelt hem al aankomen: ook `halt_checker` heeft altijd een bug"
   ]
  },
  {
   "cell_type": "markdown",
   "metadata": {
    "slideshow": {
     "slide_type": "subslide"
    }
   },
   "source": [
    "* Stel dat een functie `halt_checker` voor alle Pythonfuncties kan bepalen of ze al dan niet stoppen\n",
    "* Kunnen we dan een bewijs uit het ongerijmde vinden dat deze functie niet werkt?"
   ]
  },
  {
   "cell_type": "markdown",
   "metadata": {
    "slideshow": {
     "slide_type": "fragment"
    }
   },
   "source": [
    "```python\n",
    "def paradox():\n",
    "    if halt_checker(paradox):\n",
    "        while True:\n",
    "            print('Deze functie zou toch stoppen?')\n",
    "    else:\n",
    "        print('Deze functie zou toch niet stoppen?')\n",
    "        return 'Toch wel!'\n",
    "```\n",
    "\n",
    "* Dus wat `halt_checker(paradox)` ook teruggeeft, het klopt nooit!\n",
    "* De functie `halt_checker` werkt dus niet goed, ongeacht hoe die functie werkt."
   ]
  },
  {
   "cell_type": "markdown",
   "metadata": {
    "slideshow": {
     "slide_type": "notes"
    }
   },
   "source": [
    "Zie ook [deze video](https://youtu.be/macM_MtS_w4) van Computerphile over het halting problem."
   ]
  },
  {
   "cell_type": "markdown",
   "metadata": {
    "slideshow": {
     "slide_type": "slide"
    }
   },
   "source": [
    "## Ben je er nog?\n",
    "\n",
    "* Waarom is dit belangrijk?\n",
    "* Eindeloze lussen kunnen niet (altijd) herkend worden\n",
    "* Dus bugs zijn onvermijdelijk!\n",
    "* Ook bugs die geen eindeloze lussen zijn: dit volgt uit de [Stelling van Rice](https://nl.wikipedia.org/wiki/Stelling_van_Rice)"
   ]
  },
  {
   "cell_type": "markdown",
   "metadata": {
    "slideshow": {
     "slide_type": "fragment"
    }
   },
   "source": [
    "* We kunnen dus geen programma schrijven om bugvrije code te produceren of te herkennen\n",
    "* Goed voor je baanzekerheid!"
   ]
  },
  {
   "cell_type": "markdown",
   "metadata": {
    "slideshow": {
     "slide_type": "subslide"
    }
   },
   "source": [
    "![Let's party!](images/24/lets-party.jpg)"
   ]
  }
 ],
 "metadata": {
  "kernelspec": {
   "display_name": "Python 3",
   "language": "python",
   "name": "python3"
  },
  "language_info": {
   "codemirror_mode": {
    "name": "ipython",
    "version": 3
   },
   "file_extension": ".py",
   "mimetype": "text/x-python",
   "name": "python",
   "nbconvert_exporter": "python",
   "pygments_lexer": "ipython3",
   "version": "3.8.2"
  }
 },
 "nbformat": 4,
 "nbformat_minor": 4
}