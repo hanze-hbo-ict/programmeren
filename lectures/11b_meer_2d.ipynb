{
 "cells": [
  {
   "cell_type": "markdown",
   "metadata": {
    "slideshow": {
     "slide_type": "slide"
    }
   },
   "source": [
    "# Meer 2D\n",
    "\n",
    "2D maximalisatie en user input"
   ]
  },
  {
   "cell_type": "markdown",
   "metadata": {
    "slideshow": {
     "slide_type": "subslide"
    }
   },
   "source": [
    "## Loop to the `max`"
   ]
  },
  {
   "cell_type": "code",
   "execution_count": 1,
   "metadata": {
    "slideshow": {
     "slide_type": "fragment"
    }
   },
   "outputs": [],
   "source": [
    "L = [6, 5, 21, 8, 2, 42, 7, 1]"
   ]
  },
  {
   "cell_type": "code",
   "execution_count": 2,
   "metadata": {
    "slideshow": {
     "slide_type": "fragment"
    }
   },
   "outputs": [],
   "source": [
    "max_value = L[0]\n",
    "\n",
    "for x in L:\n",
    "    if x > max_value:\n",
    "        max_value = x"
   ]
  },
  {
   "cell_type": "code",
   "execution_count": 3,
   "metadata": {
    "slideshow": {
     "slide_type": "fragment"
    }
   },
   "outputs": [
    {
     "data": {
      "text/plain": [
       "42"
      ]
     },
     "execution_count": 3,
     "metadata": {},
     "output_type": "execute_result"
    }
   ],
   "source": [
    "max_value"
   ]
  },
  {
   "cell_type": "markdown",
   "metadata": {
    "slideshow": {
     "slide_type": "slide"
    }
   },
   "source": [
    "## Een reeks analyseren\n",
    "\n",
    "![GOOG Stock](images/18/goog_nasdaq.png)"
   ]
  },
  {
   "cell_type": "markdown",
   "metadata": {
    "slideshow": {
     "slide_type": "subslide"
    }
   },
   "source": [
    "### Aandelenkoersen en prijzen"
   ]
  },
  {
   "cell_type": "code",
   "execution_count": 4,
   "metadata": {
    "slideshow": {
     "slide_type": "fragment"
    }
   },
   "outputs": [],
   "source": [
    "L = [40, 80, 10, 30, 27, 52, 5, 15]"
   ]
  },
  {
   "cell_type": "markdown",
   "metadata": {
    "slideshow": {
     "slide_type": "fragment"
    }
   },
   "source": [
    "- de elementen: prijzen\n",
    "- de indices: dagen"
   ]
  },
  {
   "cell_type": "markdown",
   "metadata": {
    "slideshow": {
     "slide_type": "subslide"
    }
   },
   "source": [
    "### TR Investeringen\n",
    "\n",
    "> Wij selecteren de beste dag voor aan- en verkoop om uw winst te maximaliseren..."
   ]
  },
  {
   "cell_type": "markdown",
   "metadata": {
    "slideshow": {
     "slide_type": "fragment"
    }
   },
   "source": [
    "| index   | element   |\n",
    "|---------|-----------|\n",
    "| **Dag** | **Prijs** |\n",
    "| `0`     | `40.0`    |\n",
    "| `1`     | `80.0`    |\n",
    "| `2`     | `10.0`    |\n",
    "| `3`     | `30.0`    |\n",
    "| `4`     | `27.0`    |\n",
    "| `5`     | `52.0`    |\n",
    "| `6`     | `5.0`     |\n",
    "| `7`     | `15.0`    |"
   ]
  },
  {
   "cell_type": "markdown",
   "metadata": {
    "slideshow": {
     "slide_type": "fragment"
    }
   },
   "source": [
    "Wat is de beste investeringsstrategie voor de lijst `L`?"
   ]
  },
  {
   "cell_type": "markdown",
   "metadata": {
    "slideshow": {
     "slide_type": "fragment"
    }
   },
   "source": [
    "Hoe kunnen lussen hier bij helpen?"
   ]
  },
  {
   "cell_type": "markdown",
   "metadata": {
    "slideshow": {
     "slide_type": "subslide"
    }
   },
   "source": [
    "## All Pairs algoritme\n",
    "\n",
    "Wanneer kopen en wanneer verkopen voor maximale winst?"
   ]
  },
  {
   "cell_type": "markdown",
   "metadata": {
    "slideshow": {
     "slide_type": "fragment"
    }
   },
   "source": [
    "Vergelijk alle mogelijke combinaties!"
   ]
  },
  {
   "cell_type": "code",
   "execution_count": 5,
   "metadata": {
    "slideshow": {
     "slide_type": "subslide"
    }
   },
   "outputs": [],
   "source": [
    "L = [40, 80, 10, 30, 27, 52, 5, 15]"
   ]
  },
  {
   "cell_type": "markdown",
   "metadata": {
    "slideshow": {
     "slide_type": "fragment"
    }
   },
   "source": [
    "```python\n",
    "(40, 80), (40, 10), (40, 30), (40, 27), ...  # day 0\n",
    "```"
   ]
  },
  {
   "cell_type": "markdown",
   "metadata": {
    "slideshow": {
     "slide_type": "fragment"
    }
   },
   "source": [
    "```python\n",
    "(80, 10), (80, 30), (80, 27), (80, 52), ...  # day 1\n",
    "```"
   ]
  },
  {
   "cell_type": "markdown",
   "metadata": {
    "slideshow": {
     "slide_type": "notes"
    }
   },
   "source": [
    "Let op, elke dag wordt steeds met de volgende dag vergeleken!"
   ]
  },
  {
   "cell_type": "markdown",
   "metadata": {
    "slideshow": {
     "slide_type": "subslide"
    }
   },
   "source": [
    "### Paarsgewijze vergelijkingen\n",
    "\n",
    "*Vergelijkbare* problemen\n",
    "\n",
    "- [n-body](https://en.wikipedia.org/wiki/N-body_problem) probleem\n",
    "- [shortest path](https://en.wikipedia.org/wiki/Shortest_path_problem) probleem\n",
    "- [closest pair](https://en.wikipedia.org/wiki/Closest_pair_of_points_problem) probleem"
   ]
  },
  {
   "cell_type": "markdown",
   "metadata": {
    "slideshow": {
     "slide_type": "subslide"
    }
   },
   "source": [
    "### Lussen!\n",
    "\n",
    "Paarsgewijs vergelijken"
   ]
  },
  {
   "cell_type": "markdown",
   "metadata": {
    "slideshow": {
     "slide_type": "fragment"
    }
   },
   "source": [
    "```text\n",
    "max-so-far = 0\n",
    "\n",
    "for each buy-day, b:\n",
    "    for each sell-day, s:\n",
    "        compute the profit\n",
    "        if profit is > max-so-far:\n",
    "            remember it in a variable!\n",
    "\n",
    "return profit, its b-day, and s-day\n",
    "```"
   ]
  },
  {
   "cell_type": "markdown",
   "metadata": {
    "slideshow": {
     "slide_type": "notes"
    }
   },
   "source": [
    "Verkoop is natuurlijk alleen toegestaan nadat aandelen zijn gekocht..."
   ]
  },
  {
   "cell_type": "markdown",
   "metadata": {
    "slideshow": {
     "slide_type": "slide"
    }
   },
   "source": [
    "## Voorbeeld\n",
    "\n",
    "De functie `mindiff` geeft het kleinste absolute verschil terug tussen twee elementen in `L`\n",
    "\n",
    "```python\n",
    "mindiff([42, 3, 100, -9, 7])\n",
    "```"
   ]
  },
  {
   "cell_type": "markdown",
   "metadata": {
    "slideshow": {
     "slide_type": "fragment"
    }
   },
   "source": [
    "- geneste lussen\n",
    "- tussentijdse waarde bijhouden"
   ]
  },
  {
   "cell_type": "markdown",
   "metadata": {
    "slideshow": {
     "slide_type": "subslide"
    }
   },
   "source": [
    "### Geneste lussen\n",
    "\n",
    "Gebruik *twee* geneste lussen voor het vergelijken van paren, bijvoorbeeld\n",
    "\n",
    "```python\n",
    "for i in range(4):\n",
    "    for j in range(4):\n",
    "```"
   ]
  },
  {
   "cell_type": "markdown",
   "metadata": {
    "slideshow": {
     "slide_type": "subslide"
    }
   },
   "source": [
    "### Uitproberen ..."
   ]
  },
  {
   "cell_type": "code",
   "execution_count": 6,
   "metadata": {
    "slideshow": {
     "slide_type": "subslide"
    }
   },
   "outputs": [
    {
     "name": "stdout",
     "output_type": "stream",
     "text": [
      "1 1\n",
      "1 2\n",
      "1 3\n",
      "2 1\n",
      "2 2\n",
      "2 3\n",
      "3 1\n",
      "3 2\n",
      "3 3\n"
     ]
    }
   ],
   "source": [
    "M = [1, 2, 3]\n",
    "\n",
    "for i in range(len(M)):\n",
    "    for j in range(len(M)):\n",
    "        print(M[i], M[j])"
   ]
  },
  {
   "cell_type": "markdown",
   "metadata": {
    "slideshow": {
     "slide_type": "notes"
    }
   },
   "source": [
    "Dit is een voorbeeld om te zien hoe met geneste lussen paren van elementen kunnen worden gevormd. Je ziet dat dit nog niet correct is omdat hier ook paren van dezelfde elementen worden gevormd (1 en 1, 2 en 2, etc.) én combinaties die twee keer voorkomen (bijvoorbeeld 1 en 3 en 3 en 1). Voor `mindiff` zal daar een oplossing voor moeten worden gevonden! "
   ]
  },
  {
   "cell_type": "markdown",
   "metadata": {
    "slideshow": {
     "slide_type": "subslide"
    }
   },
   "source": [
    "### Waarde bijhouden\n",
    "\n",
    "Bewaar steeds de waarde van het minimum terwijl je *twee* keer door de elementen van `L` loopt"
   ]
  },
  {
   "cell_type": "markdown",
   "metadata": {
    "slideshow": {
     "slide_type": "fragment"
    }
   },
   "source": [
    "Begin met een startwaarde, die je per iteratie (wel of niet) aanpast.\n",
    "\n",
    "```python\n",
    "mdiff = abs(L[0] - L[1])\n",
    "```"
   ]
  },
  {
   "cell_type": "markdown",
   "metadata": {
    "slideshow": {
     "slide_type": "notes"
    }
   },
   "source": [
    "Had `mdiff` niet 0 kunnen zijn? Dit had inderdaad gekund, maar er zijn nu in ieder geval waarden gebruikt die zich in de lijst bevinden, dus geen verassingen!"
   ]
  },
  {
   "cell_type": "code",
   "execution_count": 7,
   "metadata": {
    "slideshow": {
     "slide_type": "subslide"
    }
   },
   "outputs": [],
   "source": [
    "def mindiff(L):\n",
    "    mdiff = abs(L[1] - L[0])  # start value\n",
    "    \n",
    "    for i in range(len(L)):\n",
    "        for j in range(..., len(L)):\n",
    "            if ...:\n",
    "                ...\n",
    "                \n",
    "    return mdiff              # return result"
   ]
  },
  {
   "cell_type": "markdown",
   "metadata": {
    "slideshow": {
     "slide_type": "fragment"
    }
   },
   "source": [
    "Wat moet voor `...` worden ingevuld? "
   ]
  },
  {
   "cell_type": "markdown",
   "metadata": {
    "slideshow": {
     "slide_type": "subslide"
    }
   },
   "source": [
    "### Paarsgewijs\n",
    "\n",
    "Begin `j` altijd één positie na `i`"
   ]
  },
  {
   "cell_type": "code",
   "execution_count": 8,
   "metadata": {
    "slideshow": {
     "slide_type": "fragment"
    }
   },
   "outputs": [
    {
     "name": "stdout",
     "output_type": "stream",
     "text": [
      "1 2\n",
      "1 3\n",
      "2 3\n"
     ]
    }
   ],
   "source": [
    "M = [1, 2, 3]\n",
    "\n",
    "for i in range(len(M)):\n",
    "    for j in range(i + 1, len(M)):\n",
    "        print(M[i], M[j])"
   ]
  },
  {
   "cell_type": "markdown",
   "metadata": {
    "slideshow": {
     "slide_type": "subslide"
    }
   },
   "source": [
    "### Oplossing lussen"
   ]
  },
  {
   "cell_type": "code",
   "execution_count": 9,
   "metadata": {
    "slideshow": {
     "slide_type": "fragment"
    }
   },
   "outputs": [],
   "source": [
    "def mindiff(L):\n",
    "    mdiff = abs(L[0] - L[1])  # start value\n",
    "    \n",
    "    for i in range(len(L)):\n",
    "        for j in range(i + 1, len(L)):\n",
    "            if ...:\n",
    "                ...\n",
    "                \n",
    "    return mdiff              # return result"
   ]
  },
  {
   "cell_type": "markdown",
   "metadata": {
    "slideshow": {
     "slide_type": "subslide"
    }
   },
   "source": [
    "### Oplossingen waarde bijhouden"
   ]
  },
  {
   "cell_type": "code",
   "execution_count": 10,
   "metadata": {
    "slideshow": {
     "slide_type": "fragment"
    }
   },
   "outputs": [],
   "source": [
    "def mindiff(L):\n",
    "    mdiff = abs(L[0] - L[1])  # start value\n",
    "    \n",
    "    for i in range(len(L)):\n",
    "        for j in range(i + 1, len(L)):\n",
    "            if abs(L[i] - L[j]) < mdiff:\n",
    "                mdiff = abs(L[i] - L[j])\n",
    "                \n",
    "    return mdiff              # return result"
   ]
  },
  {
   "cell_type": "markdown",
   "metadata": {
    "slideshow": {
     "slide_type": "notes"
    }
   },
   "source": [
    "Controleer iedere iteratie of het absolute verschil tussen de twee huidige elementen kleiner is dan het verschil dat eerder is gezien."
   ]
  },
  {
   "cell_type": "markdown",
   "metadata": {
    "slideshow": {
     "slide_type": "subslide"
    }
   },
   "source": [
    "### Stap voor stap\n",
    "\n",
    "```python\n",
    "mindiff([42, 3, 100, -9, 7])\n",
    "```"
   ]
  },
  {
   "cell_type": "markdown",
   "metadata": {
    "slideshow": {
     "slide_type": "fragment"
    }
   },
   "source": [
    "Wat gebeurt in de lussen?\n",
    "\n",
    "```python\n",
    "abs(42  -   3) = 39   # i = 0, j = 1, mdiff = 39\n",
    "abs(42  - 100) = 58   # i = 0, j = 2\n",
    "abs(42  -  -9) = 51   # i = 0, j = 3\n",
    "abs(42  -   7) = 35   # i = 0, j = 4, mdiff = 35\n",
    "abs(3   - 100) = 97   # i = 1, j = 2\n",
    "abs(3   -  -9) = 12   # i = 1, j = 3, mdiff = 12\n",
    "abs(3   -   7) = 4    # i = 1, j = 4, mdiff = 4\n",
    "abs(100 -  -9) = 109  # i = 2, j = 3\n",
    "abs(100 -   7) = 93   # i = 2, j = 4\n",
    "abs(-9  -   7) = 16   # i = 3, j = 4\n",
    "```"
   ]
  },
  {
   "cell_type": "markdown",
   "metadata": {
    "slideshow": {
     "slide_type": "slide"
    }
   },
   "source": [
    "## User input"
   ]
  },
  {
   "cell_type": "code",
   "execution_count": 11,
   "metadata": {
    "slideshow": {
     "slide_type": "fragment"
    }
   },
   "outputs": [],
   "source": [
    "def main():\n",
    "    meters = input(\"How many m?\")\n",
    "    cm = meters * 100\n",
    "    print(\"That is\", cm, \"centimeter.\")"
   ]
  },
  {
   "cell_type": "markdown",
   "metadata": {
    "slideshow": {
     "slide_type": "fragment"
    }
   },
   "source": [
    "Wat zal Python denken en printen?"
   ]
  },
  {
   "cell_type": "code",
   "execution_count": 12,
   "metadata": {
    "slideshow": {
     "slide_type": "fragment"
    }
   },
   "outputs": [
    {
     "name": "stdin",
     "output_type": "stream",
     "text": [
      "How many m? 42\n"
     ]
    },
    {
     "name": "stdout",
     "output_type": "stream",
     "text": [
      "That is 42424242424242424242424242424242424242424242424242424242424242424242424242424242424242424242424242424242424242424242424242424242424242424242424242424242424242424242424242424242424242424242424242424242 centimeter.\n"
     ]
    }
   ],
   "source": [
    "main()"
   ]
  },
  {
   "cell_type": "markdown",
   "metadata": {
    "slideshow": {
     "slide_type": "subslide"
    }
   },
   "source": [
    "### ... is altijd een string\n",
    "\n",
    "`input` is altijd een *string*, ongeacht wat je typt!"
   ]
  },
  {
   "cell_type": "markdown",
   "metadata": {
    "slideshow": {
     "slide_type": "subslide"
    }
   },
   "source": [
    "### Oplossing 1\n",
    "\n",
    "Zet de input om naar het juiste type"
   ]
  },
  {
   "cell_type": "code",
   "execution_count": 13,
   "metadata": {
    "slideshow": {
     "slide_type": "subslide"
    }
   },
   "outputs": [],
   "source": [
    "def main():\n",
    "    m_str = input(\"How many m?\")\n",
    "    meters = float(m_str)\n",
    "    cm = meters * 100\n",
    "    print(\"That is\", cm, \"centimeter.\")"
   ]
  },
  {
   "cell_type": "markdown",
   "metadata": {
    "slideshow": {
     "slide_type": "fragment"
    }
   },
   "source": [
    "![Type boxes](images/18/type_boxes.png)"
   ]
  },
  {
   "cell_type": "code",
   "execution_count": 14,
   "metadata": {
    "slideshow": {
     "slide_type": "fragment"
    }
   },
   "outputs": [
    {
     "name": "stdin",
     "output_type": "stream",
     "text": [
      "How many m? 42\n"
     ]
    },
    {
     "name": "stdout",
     "output_type": "stream",
     "text": [
      "That is 4200.0 centimeter.\n"
     ]
    }
   ],
   "source": [
    "main()"
   ]
  },
  {
   "cell_type": "markdown",
   "metadata": {
    "slideshow": {
     "slide_type": "subslide"
    }
   },
   "source": [
    "![Crash](images/18/crash.png)"
   ]
  },
  {
   "cell_type": "markdown",
   "metadata": {
    "slideshow": {
     "slide_type": "notes"
    }
   },
   "source": [
    "Maar deze oplossing is crash-gevoelig, de omzetting van het type kan fout gaan!"
   ]
  },
  {
   "cell_type": "code",
   "execution_count": 15,
   "metadata": {
    "slideshow": {
     "slide_type": "subslide"
    }
   },
   "outputs": [
    {
     "ename": "ValueError",
     "evalue": "could not convert string to float: 'forty-two'",
     "output_type": "error",
     "traceback": [
      "\u001b[1;31m---------------------------------------------------------------------------\u001b[0m",
      "\u001b[1;31mValueError\u001b[0m                                Traceback (most recent call last)",
      "\u001b[1;32m/tmp/ipykernel_1135192/4243292663.py\u001b[0m in \u001b[0;36m<module>\u001b[1;34m\u001b[0m\n\u001b[1;32m----> 1\u001b[1;33m \u001b[0mmeters\u001b[0m \u001b[1;33m=\u001b[0m \u001b[0mfloat\u001b[0m\u001b[1;33m(\u001b[0m\u001b[1;34m\"forty-two\"\u001b[0m\u001b[1;33m)\u001b[0m\u001b[1;33m\u001b[0m\u001b[1;33m\u001b[0m\u001b[0m\n\u001b[0m",
      "\u001b[1;31mValueError\u001b[0m: could not convert string to float: 'forty-two'"
     ]
    }
   ],
   "source": [
    "meters = float(\"forty-two\")"
   ]
  },
  {
   "cell_type": "markdown",
   "metadata": {
    "slideshow": {
     "slide_type": "subslide"
    }
   },
   "source": [
    "### Oplossing 2\n",
    "\n",
    "Zet de input om naar het juiste type en controleer (maar hoe?)"
   ]
  },
  {
   "cell_type": "markdown",
   "metadata": {
    "slideshow": {
     "slide_type": "subslide"
    }
   },
   "source": [
    "### Exceptions\n",
    "\n",
    "`try`-`except` probeert code uit te voeren en vangt de fout op (als het faalt)\n",
    " om het alsnog af te handelen\n",
    " \n",
    "```python\n",
    "try:\n",
    "    # probeer uit te voeren!\n",
    "    ...\n",
    "except:\n",
    "    # niet gelukt :(\n",
    "    ...\n",
    "```"
   ]
  },
  {
   "cell_type": "code",
   "execution_count": 16,
   "metadata": {
    "slideshow": {
     "slide_type": "subslide"
    }
   },
   "outputs": [],
   "source": [
    "def main():\n",
    "    m_str = input(\"How many m?\")\n",
    "    try:\n",
    "        meters = float(m_str)\n",
    "    except:\n",
    "        print(\"What? Didn't compute!\")\n",
    "        print(\"Setting meter = 42\")\n",
    "        meters = 42.0"
   ]
  },
  {
   "cell_type": "markdown",
   "metadata": {
    "slideshow": {
     "slide_type": "fragment"
    }
   },
   "source": [
    "Dit type fouten worden *exceptions* genoemd, dit is *exception handling*."
   ]
  },
  {
   "cell_type": "markdown",
   "metadata": {
    "slideshow": {
     "slide_type": "subslide"
    }
   },
   "source": [
    "### Oplossing 3\n",
    "\n",
    "`eval` voert een Python expressie uit"
   ]
  },
  {
   "cell_type": "code",
   "execution_count": 17,
   "metadata": {
    "slideshow": {
     "slide_type": "subslide"
    }
   },
   "outputs": [
    {
     "data": {
      "text/plain": [
       "42"
      ]
     },
     "execution_count": 17,
     "metadata": {},
     "output_type": "execute_result"
    }
   ],
   "source": [
    "eval(\"21 + 21\")"
   ]
  },
  {
   "cell_type": "code",
   "execution_count": 18,
   "metadata": {
    "slideshow": {
     "slide_type": "fragment"
    }
   },
   "outputs": [],
   "source": [
    "x = eval(\"[1, 2, 3, 4]\")"
   ]
  },
  {
   "cell_type": "code",
   "execution_count": 19,
   "metadata": {
    "slideshow": {
     "slide_type": "fragment"
    }
   },
   "outputs": [
    {
     "data": {
      "text/plain": [
       "list"
      ]
     },
     "execution_count": 19,
     "metadata": {},
     "output_type": "execute_result"
    }
   ],
   "source": [
    "type(x)"
   ]
  },
  {
   "cell_type": "code",
   "execution_count": 20,
   "metadata": {
    "slideshow": {
     "slide_type": "fragment"
    }
   },
   "outputs": [
    {
     "data": {
      "text/plain": [
       "[1, 2, 3, 4]"
      ]
     },
     "execution_count": 20,
     "metadata": {},
     "output_type": "execute_result"
    }
   ],
   "source": [
    "x"
   ]
  },
  {
   "cell_type": "markdown",
   "metadata": {
    "slideshow": {
     "slide_type": "subslide"
    }
   },
   "source": [
    "Wat kan hier fout gaan?"
   ]
  },
  {
   "cell_type": "code",
   "execution_count": 21,
   "metadata": {
    "slideshow": {
     "slide_type": "fragment"
    }
   },
   "outputs": [],
   "source": [
    "def main():\n",
    "    m_str = input(\"How many m?\")\n",
    "    meters = eval(m_str)\n",
    "    cm = meters * 100\n",
    "    print(\"That is\", cm, \"centimeter.\")"
   ]
  },
  {
   "cell_type": "code",
   "execution_count": 22,
   "metadata": {
    "slideshow": {
     "slide_type": "subslide"
    }
   },
   "outputs": [],
   "source": [
    "def main():\n",
    "    m_str = input(\"How many m?\")\n",
    "    try:\n",
    "        meters = eval(m_str)\n",
    "    except:\n",
    "        print(\"What? Didn't compute!\")\n",
    "        print(\"Setting meter = 42\")\n",
    "        meters = 42.0"
   ]
  },
  {
   "cell_type": "markdown",
   "metadata": {
    "slideshow": {
     "slide_type": "fragment"
    }
   },
   "source": [
    "Wat kan hier écht fout gaan?"
   ]
  },
  {
   "cell_type": "markdown",
   "metadata": {
    "slideshow": {
     "slide_type": "subslide"
    }
   },
   "source": [
    "![Warning sign](images/18/warning_sign.png)"
   ]
  },
  {
   "cell_type": "markdown",
   "metadata": {
    "slideshow": {
     "slide_type": "subslide"
    }
   },
   "source": [
    "### Onveilige user input\n",
    "\n",
    "```python\n",
    "eval(\"__import__('os').system('rm *.py')\")\n",
    "```\n",
    "\n",
    "**Probeer dit NIET uit!**"
   ]
  },
  {
   "cell_type": "markdown",
   "metadata": {
    "slideshow": {
     "slide_type": "fragment"
    }
   },
   "source": [
    "Dit zal alle Python bestanden in de huidige directory verwijderen ..."
   ]
  },
  {
   "cell_type": "markdown",
   "metadata": {
    "slideshow": {
     "slide_type": "subslide"
    }
   },
   "source": [
    "![People always try](images/18/anyways_try_at_home.png)"
   ]
  },
  {
   "cell_type": "markdown",
   "metadata": {
    "slideshow": {
     "slide_type": "slide"
    }
   },
   "source": [
    "## Een grotere applicatie\n",
    "\n",
    "En de *keywords* `continue` en `break`"
   ]
  },
  {
   "cell_type": "code",
   "execution_count": 23,
   "metadata": {
    "slideshow": {
     "slide_type": "subslide"
    }
   },
   "outputs": [],
   "source": [
    "def menu():\n",
    "    \"\"\"Prints our menu of options\n",
    "    \"\"\"\n",
    "    print(\"(0) Continue\")\n",
    "    print(\"(1) Enter a new list\")\n",
    "    print(\"(2) Analyze\")\n",
    "    print(\"(9) Break (quit)\")"
   ]
  },
  {
   "cell_type": "markdown",
   "metadata": {
    "slideshow": {
     "slide_type": "subslide"
    }
   },
   "source": [
    "### `continue`"
   ]
  },
  {
   "cell_type": "code",
   "execution_count": 24,
   "metadata": {
    "slideshow": {
     "slide_type": "fragment"
    }
   },
   "outputs": [],
   "source": [
    "def main():\n",
    "    \"\"\"Handles user input for our menu\n",
    "    \"\"\"\n",
    "    while True:\n",
    "        menu()            # print menu\n",
    "        uc = input(\"Which option? \")\n",
    "\n",
    "        try:\n",
    "            uc = int(uc)  # was it an int?\n",
    "        except:\n",
    "            continue      # back to the top!"
   ]
  },
  {
   "cell_type": "markdown",
   "metadata": {
    "slideshow": {
     "slide_type": "subslide"
    }
   },
   "source": [
    "### `break`\n",
    "\n",
    "Direct uit een lus ontsnappen\n",
    "\n",
    "![Exit](images/18/exit.png)"
   ]
  },
  {
   "cell_type": "code",
   "execution_count": 25,
   "metadata": {
    "slideshow": {
     "slide_type": "subslide"
    }
   },
   "outputs": [],
   "source": [
    "def main():\n",
    "    \"\"\"Handles user input for our menu\n",
    "    \"\"\"\n",
    "    while True:\n",
    "        menu()            # print menu\n",
    "        uc = input(\"Which option? \")\n",
    "\n",
    "        try:\n",
    "            uc = int(uc)  # was it an int?\n",
    "        except:\n",
    "            continue      # back to the top!\n",
    "            \n",
    "        if uc == 9:\n",
    "            break         # jumps out of the loop\n",
    "        elif uc == 0:\n",
    "            continue      # jumps back to the top of the loop\n",
    "        elif uc == 1:\n",
    "            ...  # input ...\n",
    "            ...  # eval ...\n",
    "        elif uc == 2:\n",
    "            ..."
   ]
  },
  {
   "cell_type": "markdown",
   "metadata": {
    "slideshow": {
     "slide_type": "notes"
    }
   },
   "source": [
    "Let op `break` breekt uit de lus, niet de functie!"
   ]
  },
  {
   "cell_type": "markdown",
   "metadata": {
    "slideshow": {
     "slide_type": "subslide"
    }
   },
   "source": [
    "### `for` en `while`\n",
    "\n",
    "`continue` en `break` kunnen in zowel een `for` als `while` lus worden gebruikt!"
   ]
  }
 ],
 "metadata": {
  "kernelspec": {
   "display_name": "Python 3 (ipykernel)",
   "language": "python",
   "name": "python3"
  },
  "language_info": {
   "codemirror_mode": {
    "name": "ipython",
    "version": 3
   },
   "file_extension": ".py",
   "mimetype": "text/x-python",
   "name": "python",
   "nbconvert_exporter": "python",
   "pygments_lexer": "ipython3",
   "version": "3.10.0"
  }
 },
 "nbformat": 4,
 "nbformat_minor": 4
}
