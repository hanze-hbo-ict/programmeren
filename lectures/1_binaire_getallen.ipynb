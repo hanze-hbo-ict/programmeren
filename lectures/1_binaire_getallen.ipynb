{
 "cells": [
  {
   "attachments": {},
   "cell_type": "markdown",
   "metadata": {
    "editable": true,
    "slideshow": {
     "slide_type": "slide"
    },
    "tags": []
   },
   "source": [
    "# Binaire getallen\n",
    "\n",
    " Als we een computer willen gaan programmeren, dan is enige kennis van zijn werking wel belangrijk. Dit vakgebeid staat bekend als computer architectuur.\n"
   ]
  },
  {
   "attachments": {},
   "cell_type": "markdown",
   "metadata": {
    "editable": true,
    "jp-MarkdownHeadingCollapsed": true,
    "slideshow": {
     "slide_type": "skip"
    },
    "tags": []
   },
   "source": [
    "## Machinetaal\n",
    "\n",
    "Een computer spreekt machinetaal en deze taal bestaat enkel uit 0-en en 1-en. Ooit gehoord van bits en bytes? Een bit is een 0 of een 1. Een byte is een groep van 8 bits. Alle data en instructies binnen een computer wordt gepresenteerd door deze bits. We gaan nu eerst kijken hoe een computer getallen opslaat en optelt bij elkaar. In de toekomst gaan komen ook letters, teksten, plaatjes en geluid langs. "
   ]
  },
  {
   "attachments": {},
   "cell_type": "markdown",
   "metadata": {
    "editable": true,
    "slideshow": {
     "slide_type": "slide"
    },
    "tags": []
   },
   "source": [
    "## Het getal 42\n",
    "\n",
    "![42](images/1/wikipedia_42.png)"
   ]
  },
  {
   "cell_type": "markdown",
   "metadata": {
    "editable": true,
    "slideshow": {
     "slide_type": "notes"
    },
    "tags": []
   },
   "source": [
    "Het boek [The Hitchhiker's Guide to the Galaxy](https://en.wikipedia.org/wiki/The_Hitchhiker%27s_Guide_to_the_Galaxy) van [Douglas Adams](https://en.wikipedia.org/wiki/Douglas_Adams) heeft sporen nagelaten in onder andere informatica: de kans is groot dat je in voorbeelden of uitwerkingen het getal 42 tegenkomt. Maar ook in het gewone leven als je op [25 mei](https://en.wikipedia.org/wiki/Towel_Day) mensen met een handdoek ziet lopen ..."
   ]
  },
  {
   "attachments": {},
   "cell_type": "markdown",
   "metadata": {
    "editable": true,
    "slideshow": {
     "slide_type": "subslide"
    },
    "tags": []
   },
   "source": [
    "### Tientallig stelsel (decimaal)\n",
    "\n",
    "* Grondtal **10**\n",
    "\n",
    "\n",
    "![42](images/9/42.png)\n",
    "\n",
    "\n",
    "$$42 = 4 \\cdot 10 + 2 \\cdot 1$$"
   ]
  },
  {
   "cell_type": "markdown",
   "metadata": {
    "editable": true,
    "slideshow": {
     "slide_type": "fragment"
    },
    "tags": []
   },
   "source": [
    "![123](images/9/123.png)\n",
    "\n",
    "$$123 = 1 \\cdot 100 + 2 \\cdot 10 + 3 \\cdot 1$$"
   ]
  },
  {
   "cell_type": "markdown",
   "metadata": {
    "editable": true,
    "slideshow": {
     "slide_type": "subslide"
    },
    "tags": []
   },
   "source": [
    "### Tweetallig stelsel (binair)\n",
    "\n",
    "![101010](images/9/101010.png)\n",
    "\n",
    "* Grondtal **2**"
   ]
  },
  {
   "cell_type": "markdown",
   "metadata": {
    "editable": true,
    "slideshow": {
     "slide_type": "fragment"
    },
    "tags": []
   },
   "source": [
    "$$101010_2 = 1 \\cdot 32 + 0 \\cdot 16 + 1 \\cdot 8 + 0 \\cdot 4 + 1 \\cdot 2 + 0 \\cdot 1 = 42$$\n",
    "\n",
    "* Elke kolom naar links is de volgende macht van het grondtal (dus steeds *keer* het grondtal)"
   ]
  },
  {
   "cell_type": "markdown",
   "metadata": {
    "editable": true,
    "slideshow": {
     "slide_type": "subslide"
    },
    "tags": []
   },
   "source": [
    "![There are 10 types of people: those who understand binary, and those who don't](images/9/binary.jpg)"
   ]
  },
  {
   "cell_type": "markdown",
   "metadata": {
    "editable": true,
    "slideshow": {
     "slide_type": "subslide"
    },
    "tags": []
   },
   "source": [
    "### Decimaal\n",
    "\n",
    "![123](images/9/123.png)\n",
    "\n",
    "### Binair"
   ]
  },
  {
   "cell_type": "markdown",
   "metadata": {
    "editable": true,
    "slideshow": {
     "slide_type": "fragment"
    },
    "tags": []
   },
   "source": [
    "![1111011](images/9/1111011.png)\n",
    "\n",
    "$$1111011_2 = 1 \\cdot 64 + 1 \\cdot 32 + 1 \\cdot 16 + 1 \\cdot 8 + 0 \\cdot 4 + 1 \\cdot 2 + 1 \\cdot 1 = 123$$"
   ]
  },
  {
   "cell_type": "markdown",
   "metadata": {
    "editable": true,
    "slideshow": {
     "slide_type": "subslide"
    },
    "tags": []
   },
   "source": [
    "## Quiz\n",
    "\n",
    "1. Converteer het binaire getal 110011 naar decimaal\n",
    "2. Converteer het binaire getal 10001000 naar decimaal\n",
    "3. Converteer het decimale getal 28 naar binair\n",
    "4. Converteer het decimale getal 101 naar binair"
   ]
  },
  {
   "cell_type": "markdown",
   "metadata": {
    "editable": true,
    "slideshow": {
     "slide_type": "fragment"
    },
    "tags": []
   },
   "source": [
    "$$\n",
    "\\begin{aligned}\n",
    "110011_2 &= 1 \\cdot 32 + 1 \\cdot 16 + 0 \\cdot 8 + 0 \\cdot 4 + 1 \\cdot 2 + 1 \\cdot 1 = 51_{10} \\\\ \n",
    "10001000_2 &= 1 \\cdot 128 + 0 \\cdot 64 + 0 \\cdot 32 + 0 \\cdot 16 + 1 \\cdot 8 + 0 \\cdot 4 + 0 \\cdot 2 + 0 \\cdot 1 = 136_{10} \\\\\n",
    "28_{10} &= 16 + 8 + 4 = 11100_2 \\\\\n",
    "101_{10} &= 64 + 32 + 4 + 1 = 1100101_2\n",
    "\\end{aligned}\n",
    "$$"
   ]
  },
  {
   "attachments": {},
   "cell_type": "markdown",
   "metadata": {
    "editable": true,
    "slideshow": {
     "slide_type": "slide"
    },
    "tags": []
   },
   "source": [
    "## Rekenen met talstelsels\n",
    "\n",
    "* Hoe *werkt* rekenen eigenlijk?\n",
    "* We bekijken alleen optellen"
   ]
  },
  {
   "attachments": {},
   "cell_type": "markdown",
   "metadata": {
    "editable": true,
    "slideshow": {
     "slide_type": "subslide"
    },
    "tags": []
   },
   "source": [
    "## Tientallig rekenen\n",
    "\n",
    "![Optellen](images/9/optellen.jpg)"
   ]
  },
  {
   "cell_type": "markdown",
   "metadata": {
    "editable": true,
    "slideshow": {
     "slide_type": "fragment"
    },
    "tags": []
   },
   "source": [
    "* We gebruiken *opzoektabellen* om de berekeningen voor 1 cijfer te kunnen doen, en *algoritmes* voor langere getallen"
   ]
  },
  {
   "cell_type": "markdown",
   "metadata": {
    "editable": true,
    "slideshow": {
     "slide_type": "subslide"
    },
    "tags": []
   },
   "source": [
    "## Optellen\n",
    "\n",
    "* Welk *algoritme* gebruiken we voor optellen?"
   ]
  },
  {
   "cell_type": "markdown",
   "metadata": {
    "editable": true,
    "slideshow": {
     "slide_type": "fragment"
    },
    "tags": []
   },
   "source": [
    "$$\n",
    "\\begin{array}{r}\n",
    "1\\phantom{0}\\\\\n",
    "529\\\\\n",
    "+\\;\\phantom{0}742\\\\\n",
    "\\hline\n",
    "1271\n",
    "\\end{array}\n",
    "$$"
   ]
  },
  {
   "attachments": {},
   "cell_type": "markdown",
   "metadata": {
    "editable": true,
    "slideshow": {
     "slide_type": "subslide"
    },
    "tags": []
   },
   "source": [
    "## Tweetallig rekenen\n",
    "\n",
    "| + | 0 | 1 |\n",
    "|---|---|---|\n",
    "| 0 |   |   |\n",
    "| 1 |   |   |\n",
    "\n",
    "\n",
    "* **Dezelfde** aanpak, allen zijn de tabellen wat kleiner! 🥳\n",
    "* Welke getallen komen in de tabel te staan?"
   ]
  },
  {
   "attachments": {},
   "cell_type": "markdown",
   "metadata": {
    "editable": true,
    "slideshow": {
     "slide_type": "subslide"
    },
    "tags": []
   },
   "source": [
    "## Tweetallig rekenen\n",
    "\n",
    "| + | 0 | 1  |\n",
    "|---|---|----|\n",
    "| 0 | 0 | 1  |\n",
    "| 1 | 1 | 10 |\n",
    "\n",
    "* Die 10 is binair, lees dus 2 decimaal!"
   ]
  },
  {
   "cell_type": "markdown",
   "metadata": {
    "editable": true,
    "slideshow": {
     "slide_type": "subslide"
    },
    "tags": []
   },
   "source": [
    "## Quiz\n",
    "\n",
    "Tel de binaire getallen 101101 en 1110 op *zonder* ze om te rekenen naar decimaal"
   ]
  },
  {
   "cell_type": "markdown",
   "metadata": {
    "slideshow": {
     "slide_type": "fragment"
    }
   },
   "source": [
    "$$\n",
    "\\begin{array}{r}\n",
    "11\\phantom{000}\\\\\n",
    "101101\\\\\n",
    "+\\;\\phantom{00}1110\\\\\n",
    "\\hline\n",
    "111011\n",
    "\\end{array}\n",
    "$$"
   ]
  },
  {
   "attachments": {},
   "cell_type": "markdown",
   "metadata": {
    "slideshow": {
     "slide_type": "slide"
    }
   },
   "source": [
    "## Verder dan binair!\n",
    "\n",
    "| Grondtal | Stelsel | 42 | Cijfers |\n",
    "|----------|---------|-----|---------|\n",
    "| 2 | **Binair** | 101010 | 0, 1 |\n",
    "| 3 | **Ternair** | 1120 | 0, 1, 2 |\n",
    "| 3 | **Octaal** | 52 | 0, 1, 2, 3, 4, 5, 6, 7 |\n",
    "| 10 | **Decimaal** | 42 | 0, 1, 2, 3, 4, 5, 6, 7, 8, 9 |\n",
    "| 16 | **Hexadecimaal** | 2A | 0, 1, 2, 3, 4, 5, 6, 7, 8, 9, A, B, C, D, E, F |"
   ]
  },
  {
   "cell_type": "markdown",
   "metadata": {
    "slideshow": {
     "slide_type": "subslide"
    }
   },
   "source": [
    "![To infinity and beyond!](images/9/to-infinity-and-beyond.jpg)"
   ]
  }
 ],
 "metadata": {
  "kernelspec": {
   "display_name": "Python 3 (ipykernel)",
   "language": "python",
   "name": "python3"
  },
  "language_info": {
   "codemirror_mode": {
    "name": "ipython",
    "version": 3
   },
   "file_extension": ".py",
   "mimetype": "text/x-python",
   "name": "python",
   "nbconvert_exporter": "python",
   "pygments_lexer": "ipython3",
   "version": "3.11.4"
  }
 },
 "nbformat": 4,
 "nbformat_minor": 4
}
