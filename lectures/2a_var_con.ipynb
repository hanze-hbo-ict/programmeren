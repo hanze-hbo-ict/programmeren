{
 "cells": [
  {
   "cell_type": "markdown",
   "id": "dba37117-8092-4a61-b748-38a7701cfa04",
   "metadata": {},
   "source": [
    "# Maximum\n",
    "\n",
    "Het probleem: Gegeven twee getallen, welke van de twee getallen is het grootste?\n",
    "\n",
    "De 3 p's:\n",
    "\n",
    "- **Probeer**: Probeer het probleem op te lossen op papier.\n",
    "- **Plan**: Noteer de stappen die zijn gebruikt om het probleem op te lossen.\n",
    "- **Programmeer**: Vertaal de stappen naar een programmeertaal.\n",
    "\n",
    "**Stap 1: Probeer**:\n",
    "\n",
    "In dit voorbeeld is de probeerfase niet erg indrukwekkend. Gegeven twee getallen kunnen wij als mens al heel snel zien welke van de twee groter is.\n",
    "\n",
    "**Stap 2: Plan**:\n",
    "\n",
    "1. Neem twee getallen a en b\n",
    "2. Als a > b dan is a het grootste, anders is b het grootste getal.\n",
    "\n",
    "**Stap 3: Programmeer**:\n",
    "\n",
    "Nu gaan we het plan omzetten in code. Deze cursus gebruikt hiervoor Python. De leerdoelen van dit werkcollege zijn:\n",
    "\n",
    "* Input en output\n",
    "* Variabelen\n",
    "* If-then-else\n",
    "\n",
    "Dit is de kennis die nodig is om het gemaakte plan om te zetten tot programmacode.\n",
    "\n",
    "## Input en output\n",
    "\n",
    "De computer moet worden verteld welke twee getallen we met elkaar willen vergelijken. Dit kan gedaan worden met behulp van een input-functie. Een functie is een opdracht die een computer kan uitvoeren.\n",
    "\n",
    "```python\n",
    "input()\n",
    "```\n",
    "\n",
    "De functie heeft als naam 'input'. Door het gebruik van haakjes weet de computer dat het hier gaat om een functie en dat er dus een opdracht uitgevoerd moet worden. In dit geval weet de computer dat er gevraagd moet worden om input. Om de gebruiker van het programma te vertellen wat voor input er verwacht wordt, kunnen we een string toevoegen aan de functie. Een string wordt aangegeven met dubbele aanhalingstekens, zo weet de computer dat het om een zin/woord gaat.\n",
    "\n",
    "```python\n",
    "input(\"Geef getal a\")\n",
    "input(\"Geef getal b\")\n",
    "```\n",
    "\n",
    "De functie krijgt nu als parameter een string mee. De computer geeft deze zin als output voordat hij vraagt om input. Zo kan een gebruiker lezen welke input er gevraagd wordt. Om de computer enkel output te laten zien wordt de print-functie gebruikt.\n",
    "\n",
    "```python\n",
    "print(\"Hello world\")\n",
    "```\n",
    "\n",
    "De computer print nu \"Hello world\" als dit programma wordt gedraaid. \"Hello world\" wordt vaak gebruikt als eerste kennismaking met code. Voor Python is deze ene zin genoeg. Er is zelfs een [Wikipedia-pagina](https://en.wikipedia.org/wiki/%22Hello,_World!%22_program) met 'hello world'-programma's in allerlei verschillende programmeertalen!\n",
    "\n",
    "```{seealso}\n",
    "Zie ook de uitleg in het boek over het [printen](https://allendowney.github.io/ThinkPython/chap02.html#the-print-function) van waarden.\n",
    "```\n",
    "\n",
    "## Variabelen\n",
    "\n",
    "De computer wordt nu verteld om om input te vragen, maar er is nog niet verteld wat er met deze input moet gebeuren. Data kan bewaard worden in een variabele. Zie een variabele als een doos met daarop een naam, een adres en een type. In de doos wordt de data bewaard.\n",
    "\n",
    "* De naam bepalen we zelf als programmeur. Advies is om herkenbare namen te gebruiken voor variabelen. Dit maakt code leesbaarder. Werken met namen is voor ons als mensen makkelijker dan werken met geheugen adressen.\n",
    "* Het adres wordt door de computer bepaald. Zo weet de computer waar in het geheugen de data staat.\n",
    "* Het type vertelt de computer wat voor soort data het is.\n",
    "\n",
    "```python\n",
    "getal_A = input(\"Geef getal a\")\n",
    "getal_B = input(\"Geef getal b\")\n",
    "```\n",
    "\n",
    "De computer zal nu de data opslaan in de variabelen getal_A en getal_B.\n",
    "\n",
    "Variabelen mogen geen spaties bevatten en moeten beginnen met een kleine letter. Er zijn twee verschillende manieren om variabelen op te schrijven. snake_case gebruikt de underscore als vervanging van de spatie. camelCase gebruikt hoofdletters voor elk nieuw woord. Welke van de twee gebruikt wordt maakt niet uit, maar wees consequent ter bevordering van de leesbaarheid van je code. Binnen Python is het wel gebruikelijk om de snake_case te gebruiken.\n",
    "\n",
    "## Datatypes\n",
    "\n",
    "```{seealso}\n",
    "Zie ook de uitleg in het boek over [waarden en bijbehorende typen](https://allendowney.github.io/ThinkPython/chap01.html#values-and-types).\n",
    "```\n",
    "\n",
    "Er zijn verschillende soorten datatypes:\n",
    "\n",
    "- **int**: Een geheel getal van 32 of 64 bits groot.\n",
    "- **float**: Een kommagetal.\n",
    "- **bool**: Is afgeleid van boolean en heeft enkel de waarde True of False.\n",
    "- **string**: Een reeks van karakters, zoals woorden en zinnen. Deze wordt aangegeven met de dubbele aanhalingstekens.\n",
    "- **list**: Een lijst van objecten.\n",
    "- **array**: Een lijst van één type object.\n",
    "\n",
    "Er zijn ook andere datatypes, maar voor nu is dit alles wat we gaan gebruiken. Zodra een variabele wordt gemaakt, probeert Python in te schatten welk datatype er wordt bedoeld. Dit gaat niet altijd goed. In andere talen, zoals Java, moet de programmeur aangeven welk datatype de variabele heeft.\n",
    "\n",
    "```python\n",
    "getal_A = input(\"Geef getal a\")\n",
    "```\n",
    "\n",
    "Om ervoor te zorgen dat de input echt een getal is en geen woord, kan de functie int() gebruikt worden.\n",
    "\n",
    "```python\n",
    "getal_A = int(input(\"Geef getal a\"))\n",
    "```\n",
    "\n",
    "De input die gegeven wordt, wordt nu omgezet naar een int.\n",
    "\n",
    "## Operatoren\n",
    "\n",
    "```{seealso}\n",
    "Zie ook de uitleg in het boek over\n",
    "[operatoren](https://allendowney.github.io/ThinkPython/chap01.html#arithmetic-operators).\n",
    "```\n",
    "\n",
    "Python kent verschillende operatoren om mee te rekenen en om variabelen te vergelijken.\n",
    "\n",
    "| Betekenis                         |                                 |\n",
    "|-----------------------------------|---------------------------------|\n",
    "| groepering                        | `(` `)`                         |\n",
    "| machtsverheffing                  | `**`                            |\n",
    "| vermenigvuldiging, modulo, deling | `*` `%` `/` `//`                |\n",
    "| optelling, aftrekking             | `+` `-`                         |\n",
    "| vergelijking                      | `==` `!=`, `<`, `>`, `<=`, `>=` |\n",
    "| toekenning                        | `=`                             |\n",
    "\n",
    "## If then else\n",
    "\n",
    "```{seealso}\n",
    "Zie ook de uitleg in het boek over\n",
    "[`if`-statements](https://allendowney.github.io/ThinkPython/chap05.html#if-statements)\n",
    "```\n",
    "\n",
    "Stap 1 van het plan was: Neem twee getallen a en b. Via de input functie kan er gevraagd worden om twee getallen en deze worden opgeslagen in variabelen.\n",
    "\n",
    "```python\n",
    "getal_A = int(input(\"Geef een geheel getal a: \"))\n",
    "getal_B = int(input(\"Geef een geheel getal b: \"))\n",
    "```\n",
    "\n",
    "Nu stap 2 nog: de twee getallen moeten met elkaar vergeleken worden om te bepalen welke van de twee getallen het grootste is.\n",
    "\n",
    "### Het if-statement\n",
    "\n",
    "Met behulp van een if-statement kan een computer verteld worden of een stuk code wel of niet uitgevoerd moet worden. Als het if-statement true is, wordt de code binnen de if-statement uitgevoerd. Als het if-statement false is, slaat de computer de code over.\n",
    "\n",
    "if *conditie* :<br>\n",
    "&emsp;   Do this<br>\n",
    "&emsp;   Do this<br>\n",
    "&emsp;   Do this<br>\n",
    "\n",
    "### Syntax\n",
    "Let op de dubbele punt na de conditie, deze is verplicht. Ook heel belangrijk binnen Python is het gebruik van tabs. De code die uitgevoerd moet worden als de if-statement true is, moet ingesprongen zijn (een tab of spaties, ook wel indentation genoemd). Dit is zeer gevoelig. Als de code ook maar één spatie uit lood ligt, werkt de code niet of geeft het een andere uitkomst dan gewenst.\n",
    "\n",
    "Binnen Python hoeven er geen haakjes om de conditie. Ook hier geldt dat je consequent moet zijn. Dus overal haakjes in de if-statement of nergens.\n",
    "\n",
    "Dit alles valt onder syntax. Als er een fout wordt gemaakt in de syntax, geeft de compiler een `syntax error`. Vaak geeft het ook een regelnummer waar het probleem is tegengekomen. Vaak ontbreken er dan dubbele punten. Een andere error die je tegen kunt komen is `indentation error`. Dan is er een probleem met het gebruik van indentations, met andere woorden, de tabs of spaties.\n",
    "\n",
    "### Het if-else statement\n",
    "\n",
    "Soms is het nodig om een computer te laten kiezen tussen twee opties. Als a waar is, voer opdracht a uit, en anders voer opdracht b uit.\n",
    "\n",
    "if *conditie* :<br>\n",
    "&emsp;    Do this<br>\n",
    "&emsp;    Do this<br>\n",
    "&emsp;    Do this<br>\n",
    "else:<br>\n",
    "&emsp;    Do that<br>\n",
    "&emsp;    Do that\n",
    "\n",
    "Ook hier is het weer belangrijk om aan de tabs te denken en aan de dubbele punten!\n",
    "\n",
    "### De if-then-else boom\n",
    "\n",
    "Het is ook mogelijk om de computer te laten kiezen tussen verschillende opties. Dit kan gedaan worden door een else if te gebruiken, in Python aangegeven met `elif`. Als a waar is, voer opdracht a uit, anders als b waar is, voer opdracht b uit, anders voer opdracht c uit.\n",
    "\n",
    "if *conditie* :<br>\n",
    "&emsp;    Do this<br>\n",
    "&emsp;    Do this<br>\n",
    "&emsp;    Do this<br>\n",
    "elif *conditie* :<br>\n",
    "&emsp;    Do this<br>\n",
    "&emsp;    Do this<br>\n",
    "else:<br>\n",
    "&emsp;    Do this<br>\n",
    "&emsp;    Do this\n",
    "\n",
    "Er kan een onbeperkte hoeveelheid else if-condities toegevoegd worden en er hoeft niet altijd geëindigd te worden met else. De else-statement wordt enkel uitgevoerd als alle bovenstaande statements false zijn. Zodra een true statement wordt gevonden, zullen de andere statements binnen de boom niet meer gecontroleerd worden.\n",
    "\n",
    "```python\n",
    "if cijfer > 7.5:\n",
    "    print(\"Goed\")\n",
    "elif cijfer > 5.5:\n",
    "    print(\"Voldoende\")\n",
    "else:\n",
    "    print(\"Onvoldoende\")\n",
    "```\n",
    "\n",
    "Als het behaalde cijfer een 8 is, print dit programma 'Goed'. Het ligt namelijk hoger dan een 7.5, dus het eerste statement is true en wordt uitgevoerd. De andere statements worden niet meer gecontroleerd. Dus ondanks dat een 8 ook hoger is dan een 5,5 wordt het woord 'Voldoende' niet geprint.\n",
    "\n",
    "Als het behaalde cijfer een 6 is, print het programma 'Voldoende'. De eerste statement is false, gezien 6 lager is dan een 7,5. De tweede statement is true en dus wordt het woord 'Voldoende' geprint.\n",
    "\n",
    "Als het behaalde cijfer een 4 is, print het programma 'Onvoldoende' gezien de eerste twee statements false zijn, wordt automatisch het else-statement uitgevoerd.\n",
    "\n",
    "## Maximum probleem\n",
    "\n",
    "Met behulp van een if-else statement kan het programma afgerond worden. Het plan was:\n",
    "\n",
    "1. Neem twee getallen a en b\n",
    "2. Als a > b dan is a het grootste, anders is b het grootste getal.\n",
    "\n",
    "Met behulp van inputs en variabelen was stap 1 opgelost.\n",
    "\n",
    "```python\n",
    "getal_A = int(input(\"Geef een geheel getal a: \"))\n",
    "getal_B = int(input(\"Geef een geheel getal b: \"))\n",
    "```\n",
    "\n",
    "Met behulp van if-else statements kunnen we stap twee oplossen door de twee getallen met elkaar te vergelijken en het grootste getal te printen.\n",
    "\n",
    "```python\n",
    "getal_A = int(input(\"Geef een geheel getal a: \"))\n",
    "getal_B = int(input(\"Geef een geheel getal b: \"))\n",
    "\n",
    "if getal_A > getal_B:\n",
    "    print(getal_A)\n",
    "else:\n",
    "    print(getal_B)\n",
    "```\n",
    "\n",
    "## Opdrachten"
   ]
  },
  {
   "cell_type": "markdown",
   "id": "0365fd9d-27a7-4b4c-bb31-d4c6dc484043",
   "metadata": {
    "editable": true,
    "slideshow": {
     "slide_type": ""
    },
    "tags": []
   },
   "source": [
    "### Opdracht 1\n",
    "\n",
    "Gegeven een stukje code, welke output verwacht je?\n",
    "\n",
    "a."
   ]
  },
  {
   "cell_type": "code",
   "execution_count": null,
   "id": "68efae9e-fb3f-4280-82e6-73b0a34fe3e7",
   "metadata": {
    "slideshow": {
     "slide_type": ""
    },
    "tags": [
     "skip-execution"
    ]
   },
   "outputs": [],
   "source": [
    "a = 5\n",
    "b = 2\n",
    "print(a * b)"
   ]
  },
  {
   "cell_type": "markdown",
   "id": "a0410ff7-dc5a-4d4c-be0c-577d2e4e53b6",
   "metadata": {
    "editable": true,
    "slideshow": {
     "slide_type": ""
    },
    "tags": []
   },
   "source": [
    "b."
   ]
  },
  {
   "cell_type": "code",
   "execution_count": null,
   "id": "aecb70ca-7798-4b62-9d39-7af581a82157",
   "metadata": {
    "slideshow": {
     "slide_type": ""
    },
    "tags": [
     "skip-execution"
    ]
   },
   "outputs": [],
   "source": [
    "a = \"5\"\n",
    "b = 2\n",
    "print(a * b)"
   ]
  },
  {
   "cell_type": "markdown",
   "id": "d8345224-46bf-4b0f-a0b2-92b7c4ad14b4",
   "metadata": {
    "editable": true,
    "slideshow": {
     "slide_type": ""
    },
    "tags": []
   },
   "source": [
    "c."
   ]
  },
  {
   "cell_type": "code",
   "execution_count": null,
   "id": "a329b428-b332-4abb-b400-a15680deecd1",
   "metadata": {
    "editable": true,
    "slideshow": {
     "slide_type": ""
    },
    "tags": [
     "skip-execution"
    ]
   },
   "outputs": [],
   "source": [
    "a = 5\n",
    "b = 2\n",
    "print(a < b)"
   ]
  },
  {
   "cell_type": "markdown",
   "id": "d2fadc6c-bf2a-4e5a-b20c-301b239ee723",
   "metadata": {
    "editable": true,
    "slideshow": {
     "slide_type": ""
    },
    "tags": []
   },
   "source": [
    "d."
   ]
  },
  {
   "cell_type": "code",
   "execution_count": null,
   "id": "c9fe3afa-1b41-41dc-9d69-d744d8afa9b5",
   "metadata": {
    "editable": true,
    "slideshow": {
     "slide_type": ""
    },
    "tags": [
     "skip-execution"
    ]
   },
   "outputs": [],
   "source": [
    "a = \"5\"\n",
    "b = \"2\"\n",
    "print(a + b)"
   ]
  },
  {
   "cell_type": "markdown",
   "id": "a48cd513-b4ab-4187-82eb-a8c7a6cd6f05",
   "metadata": {
    "editable": true,
    "slideshow": {
     "slide_type": ""
    },
    "tags": []
   },
   "source": [
    "e. `%` staat voor modulo rekenen"
   ]
  },
  {
   "cell_type": "code",
   "execution_count": null,
   "id": "e74d000a-e7ad-420d-aa3e-2c4868fa7ea6",
   "metadata": {
    "editable": true,
    "slideshow": {
     "slide_type": ""
    },
    "tags": [
     "skip-execution"
    ]
   },
   "outputs": [],
   "source": [
    "a = 5\n",
    "b = 2\n",
    "print(a % b)"
   ]
  },
  {
   "cell_type": "markdown",
   "id": "2bf19076-7b22-4e73-891a-656abb4f2a8b",
   "metadata": {
    "editable": true,
    "slideshow": {
     "slide_type": ""
    },
    "tags": []
   },
   "source": [
    "f."
   ]
  },
  {
   "cell_type": "code",
   "execution_count": null,
   "id": "7d6ab96b-e5d5-41b9-ae5d-90538030356e",
   "metadata": {
    "editable": true,
    "slideshow": {
     "slide_type": ""
    },
    "tags": [
     "skip-execution"
    ]
   },
   "outputs": [],
   "source": [
    "a = 5\n",
    "b = a\n",
    "a = 2\n",
    "print(a)\n",
    "print(b)"
   ]
  },
  {
   "cell_type": "markdown",
   "id": "3e6cec6a-5b19-4577-ac23-203db041c018",
   "metadata": {
    "editable": true,
    "slideshow": {
     "slide_type": ""
    },
    "tags": []
   },
   "source": [
    "g. Er zijn twee manieren gegeven voor een deling, namelijk `/` en `//`. Zoek uit wat het verschil is om te bepalen wat de output is van onderstaand programma."
   ]
  },
  {
   "cell_type": "code",
   "execution_count": null,
   "id": "f1009c63-5cdc-4427-b420-7ae7bff5e245",
   "metadata": {
    "editable": true,
    "slideshow": {
     "slide_type": ""
    },
    "tags": [
     "skip-execution"
    ]
   },
   "outputs": [],
   "source": [
    "a = 5\n",
    "b = 2\n",
    "print(a / b)\n",
    "print(a // b)"
   ]
  },
  {
   "cell_type": "markdown",
   "id": "db0ef43c-affb-4226-ba2b-2ea476eac819",
   "metadata": {
    "editable": true,
    "slideshow": {
     "slide_type": ""
    },
    "tags": []
   },
   "source": [
    "### Opdracht 2\n",
    "\n",
    "Waarvoor kan dit programma gebruikt worden?"
   ]
  },
  {
   "cell_type": "code",
   "execution_count": null,
   "id": "a8c959f9-de74-4c7f-b417-005b4d8c9a82",
   "metadata": {
    "editable": true,
    "slideshow": {
     "slide_type": ""
    },
    "tags": [
     "skip-execution"
    ]
   },
   "outputs": [],
   "source": [
    "getal = int(input(\"Geef een geheel getal: \"))\n",
    "print(getal * getal)"
   ]
  },
  {
   "cell_type": "markdown",
   "id": "0225958b-f9f0-4337-9000-5fa8a5d9d401",
   "metadata": {
    "editable": true,
    "slideshow": {
     "slide_type": ""
    },
    "tags": []
   },
   "source": [
    "### Opdracht 3\n",
    "\n",
    "Wat is het nadeel van onderstaande code?"
   ]
  },
  {
   "cell_type": "code",
   "execution_count": null,
   "id": "62640e83-c6af-446b-a0f5-a5e4a5ba9332",
   "metadata": {
    "editable": true,
    "slideshow": {
     "slide_type": ""
    },
    "tags": [
     "skip-execution"
    ]
   },
   "outputs": [],
   "source": [
    "getal_A = int(input(\"Geef een geheel getal a: \"))\n",
    "getal_B = int(input(\"Geef een geheel getal b: \"))\n",
    "print(getal_A > getal_B)"
   ]
  },
  {
   "cell_type": "markdown",
   "id": "8418fa39-a1b3-493a-aeaf-de5e64d609f6",
   "metadata": {
    "editable": true,
    "slideshow": {
     "slide_type": ""
    },
    "tags": []
   },
   "source": [
    "### Opdracht 4\n",
    "\n",
    "Wat is de output?"
   ]
  },
  {
   "cell_type": "markdown",
   "id": "63ec4a0c-4cbe-4b55-87b3-e22f106f1bb3",
   "metadata": {
    "editable": true,
    "slideshow": {
     "slide_type": ""
    },
    "tags": []
   },
   "source": [
    "a."
   ]
  },
  {
   "cell_type": "code",
   "execution_count": null,
   "id": "74258314-52d2-4bb2-915b-1800c4d2a70b",
   "metadata": {
    "editable": true,
    "slideshow": {
     "slide_type": ""
    },
    "tags": [
     "skip-execution"
    ]
   },
   "outputs": [],
   "source": [
    "a = 5\n",
    "b = 2\n",
    "\n",
    "if a < b:\n",
    "    print(a)\n",
    "print(b)"
   ]
  },
  {
   "cell_type": "markdown",
   "id": "865ae394-bda6-4a38-a653-6b1e32521a1e",
   "metadata": {
    "editable": true,
    "slideshow": {
     "slide_type": ""
    },
    "tags": []
   },
   "source": [
    "b."
   ]
  },
  {
   "cell_type": "code",
   "execution_count": null,
   "id": "6ceb4baa-f869-4ab6-b36b-72a04a32ae8e",
   "metadata": {
    "editable": true,
    "slideshow": {
     "slide_type": ""
    },
    "tags": [
     "skip-execution"
    ]
   },
   "outputs": [],
   "source": [
    "a = 5\n",
    "b = 2\n",
    "\n",
    "if a > b:\n",
    "    print(a)\n",
    "print(b)"
   ]
  },
  {
   "cell_type": "markdown",
   "id": "01d7465d-5d0f-42b9-8046-ab529fac2e2d",
   "metadata": {
    "editable": true,
    "slideshow": {
     "slide_type": ""
    },
    "tags": []
   },
   "source": [
    "c."
   ]
  },
  {
   "cell_type": "code",
   "execution_count": null,
   "id": "b275a645-9cc8-4ef6-9a9b-84223b3492bb",
   "metadata": {
    "editable": true,
    "slideshow": {
     "slide_type": ""
    },
    "tags": [
     "skip-execution"
    ]
   },
   "outputs": [],
   "source": [
    "a = 5\n",
    "b = 2\n",
    "\n",
    "if a == b:\n",
    "    print(a)\n",
    "    print(b)"
   ]
  },
  {
   "cell_type": "markdown",
   "id": "3d22e239-ae54-493e-bbb9-aab985770d60",
   "metadata": {
    "editable": true,
    "slideshow": {
     "slide_type": ""
    },
    "tags": []
   },
   "source": [
    "d."
   ]
  },
  {
   "cell_type": "code",
   "execution_count": null,
   "id": "a228cf49-cf5b-4422-98f0-f6cb823e4509",
   "metadata": {
    "editable": true,
    "slideshow": {
     "slide_type": ""
    },
    "tags": [
     "skip-execution"
    ]
   },
   "outputs": [],
   "source": [
    "a = 5\n",
    "b = 2\n",
    "\n",
    "if a == b:\n",
    "    print(a)\n",
    "   print(b)"
   ]
  },
  {
   "cell_type": "markdown",
   "id": "27c0c455-08b0-40b5-8059-8acdbaf8b538",
   "metadata": {
    "editable": true,
    "slideshow": {
     "slide_type": ""
    },
    "tags": []
   },
   "source": [
    "### Opdracht 5\n",
    "\n",
    "Wat is de output?"
   ]
  },
  {
   "cell_type": "markdown",
   "id": "b198aa38-6b49-4946-9a61-b0e4af461179",
   "metadata": {
    "editable": true,
    "slideshow": {
     "slide_type": ""
    },
    "tags": []
   },
   "source": [
    "a."
   ]
  },
  {
   "cell_type": "code",
   "execution_count": null,
   "id": "f9d4d530-6a12-4519-a517-dbfeeb5e2232",
   "metadata": {
    "editable": true,
    "slideshow": {
     "slide_type": ""
    },
    "tags": [
     "skip-execution"
    ]
   },
   "outputs": [],
   "source": [
    "a = 5\n",
    "b = 2\n",
    "\n",
    "if a < b:\n",
    "    print(a)\n",
    "else:\n",
    "    print(b)"
   ]
  },
  {
   "cell_type": "markdown",
   "id": "d5c3b62b-3840-4058-8124-516293a33cc8",
   "metadata": {
    "editable": true,
    "slideshow": {
     "slide_type": ""
    },
    "tags": []
   },
   "source": [
    "b."
   ]
  },
  {
   "cell_type": "code",
   "execution_count": null,
   "id": "5e78cfda-478e-4e75-94ef-4ab1b386824b",
   "metadata": {
    "editable": true,
    "slideshow": {
     "slide_type": ""
    },
    "tags": [
     "skip-execution"
    ]
   },
   "outputs": [],
   "source": [
    "a = 5\n",
    "b = 2\n",
    "\n",
    "if a > b:\n",
    "    print(a)\n",
    "else:\n",
    "    print(b)"
   ]
  },
  {
   "cell_type": "markdown",
   "id": "11fde948-0412-49c4-b4d8-c221c9ca6361",
   "metadata": {
    "editable": true,
    "slideshow": {
     "slide_type": ""
    },
    "tags": []
   },
   "source": [
    "c."
   ]
  },
  {
   "cell_type": "code",
   "execution_count": null,
   "id": "43b9368e-efa1-4815-818b-b9e5515dfaec",
   "metadata": {
    "editable": true,
    "slideshow": {
     "slide_type": ""
    },
    "tags": [
     "skip-execution"
    ]
   },
   "outputs": [],
   "source": [
    "a = 5\n",
    "b = 2\n",
    "\n",
    "if a > b:\n",
    "    print(a - b)\n",
    "else:\n",
    "    print(b - a)\n",
    "\n",
    "print(a + b)"
   ]
  },
  {
   "cell_type": "markdown",
   "id": "f3580ce6-e5fd-4a33-8c2f-0cffbae6948e",
   "metadata": {
    "editable": true,
    "slideshow": {
     "slide_type": ""
    },
    "tags": []
   },
   "source": [
    "### Opdracht 6\n",
    "\n",
    "Wat is de output?"
   ]
  },
  {
   "cell_type": "markdown",
   "id": "00790a7b-980c-42ee-8fd4-6f6232f0c458",
   "metadata": {
    "editable": true,
    "slideshow": {
     "slide_type": ""
    },
    "tags": []
   },
   "source": [
    "a."
   ]
  },
  {
   "cell_type": "code",
   "execution_count": null,
   "id": "04e08d3d-bd59-45ad-aba4-4ac3bdd6820c",
   "metadata": {
    "editable": true,
    "slideshow": {
     "slide_type": ""
    },
    "tags": [
     "skip-execution"
    ]
   },
   "outputs": [],
   "source": [
    "getal = 6.8\n",
    "\n",
    "if getal > 7.5:\n",
    "    print(\"hello\")\n",
    "elif getal > 5.5:\n",
    "    print(\"bonjour\")\n",
    "else:\n",
    "    print(\"hoi\")"
   ]
  },
  {
   "cell_type": "markdown",
   "id": "254cd761-80f3-4750-9b19-954e6e1a9743",
   "metadata": {
    "editable": true,
    "slideshow": {
     "slide_type": ""
    },
    "tags": []
   },
   "source": [
    "b."
   ]
  },
  {
   "cell_type": "code",
   "execution_count": null,
   "id": "1ea9bf0e-11fe-4bf8-956b-4833dcc2ba08",
   "metadata": {
    "editable": true,
    "slideshow": {
     "slide_type": ""
    },
    "tags": [
     "skip-execution"
    ]
   },
   "outputs": [],
   "source": [
    "getal = 8.2\n",
    "\n",
    "if getal < 5.5:\n",
    "    print(\"bonjour\")\n",
    "elif getal < 7.6:\n",
    "    print(\"hoi\")\n",
    "else:\n",
    "    print(\"hello\")"
   ]
  },
  {
   "cell_type": "markdown",
   "id": "cef6e20e-cd7c-4fcb-8fbc-eb65df11ae49",
   "metadata": {
    "editable": true,
    "slideshow": {
     "slide_type": ""
    },
    "tags": []
   },
   "source": [
    "c."
   ]
  },
  {
   "cell_type": "code",
   "execution_count": null,
   "id": "4461d279-7f92-4f99-a31a-e231f31c6951",
   "metadata": {
    "editable": true,
    "slideshow": {
     "slide_type": ""
    },
    "tags": [
     "skip-execution"
    ]
   },
   "outputs": [],
   "source": [
    "getal = 7.5\n",
    "\n",
    "if getal >= 5.5 and getal < 7.5:\n",
    "    print(\"hoi\")\n",
    "elif getal > 7.5:\n",
    "    print(\"hello\")\n",
    "else:\n",
    "    print(\"bonjour\")"
   ]
  },
  {
   "cell_type": "markdown",
   "id": "39bd40a0-887c-4146-8236-38bb22e9ba59",
   "metadata": {
    "editable": true,
    "slideshow": {
     "slide_type": ""
    },
    "tags": []
   },
   "source": [
    "d."
   ]
  },
  {
   "cell_type": "code",
   "execution_count": null,
   "id": "bf881c86-d8bb-4379-a913-7f211fb161f5",
   "metadata": {
    "editable": true,
    "slideshow": {
     "slide_type": ""
    },
    "tags": [
     "skip-execution"
    ]
   },
   "outputs": [],
   "source": [
    "getal = 6.8\n",
    "\n",
    "if getal < 5.5:\n",
    "    print(\"hoi\")\n",
    "else:\n",
    "    if getal < 7.6:\n",
    "        print(\"hello\")\n",
    "    else:\n",
    "        print(\"bonjour\")"
   ]
  },
  {
   "cell_type": "markdown",
   "id": "5e514390-f19f-4b6e-be07-b91399bb77d3",
   "metadata": {
    "editable": true,
    "slideshow": {
     "slide_type": ""
    },
    "tags": []
   },
   "source": [
    "### Opdracht 7\n",
    "\n",
    "Wat is de output?"
   ]
  },
  {
   "cell_type": "markdown",
   "id": "5b1091f8-3d4b-40ed-a9f5-e06dfe1b9ea6",
   "metadata": {
    "editable": true,
    "slideshow": {
     "slide_type": ""
    },
    "tags": []
   },
   "source": [
    "a."
   ]
  },
  {
   "cell_type": "code",
   "execution_count": null,
   "id": "96766c84-730a-4f67-96f4-ccc903cdb242",
   "metadata": {
    "editable": true,
    "slideshow": {
     "slide_type": ""
    },
    "tags": [
     "skip-execution"
    ]
   },
   "outputs": [],
   "source": [
    "x = 42\n",
    "\n",
    "if x > 5 and x < 10:\n",
    "    x = x * 2\n",
    "elif x < 20:\n",
    "    x = x / 2\n",
    "\n",
    "print(x)"
   ]
  },
  {
   "cell_type": "markdown",
   "id": "b95a3307-6958-46d9-9344-dde22e582dfd",
   "metadata": {
    "editable": true,
    "slideshow": {
     "slide_type": ""
    },
    "tags": []
   },
   "source": [
    "b."
   ]
  },
  {
   "cell_type": "code",
   "execution_count": null,
   "id": "01e7b28d-d220-46e8-8c1a-9b9602504d99",
   "metadata": {
    "editable": true,
    "slideshow": {
     "slide_type": ""
    },
    "tags": [
     "skip-execution"
    ]
   },
   "outputs": [],
   "source": [
    "x = 2\n",
    "\n",
    "if x < 5:\n",
    "    x = x * 2\n",
    "elif x < 10:\n",
    "    x = x / 2\n",
    "\n",
    "print(x)"
   ]
  },
  {
   "cell_type": "markdown",
   "id": "08c60109-3956-48f1-af55-c02136b15019",
   "metadata": {
    "editable": true,
    "slideshow": {
     "slide_type": ""
    },
    "tags": []
   },
   "source": [
    "c."
   ]
  },
  {
   "cell_type": "code",
   "execution_count": null,
   "id": "b4155fb1-9596-475f-b6a7-1716ec389044",
   "metadata": {
    "editable": true,
    "slideshow": {
     "slide_type": ""
    },
    "tags": [
     "skip-execution"
    ]
   },
   "outputs": [],
   "source": [
    "x = 6\n",
    "\n",
    "if x < 10:\n",
    "    x = x * 2\n",
    "if x < 20:\n",
    "    x = x / 2\n",
    "\n",
    "print(x)"
   ]
  },
  {
   "cell_type": "markdown",
   "id": "a465eaa1-ee37-40b7-af9f-26b731ce2ebd",
   "metadata": {
    "editable": true,
    "slideshow": {
     "slide_type": ""
    },
    "tags": []
   },
   "source": [
    "d."
   ]
  },
  {
   "cell_type": "code",
   "execution_count": null,
   "id": "ce124b9c-9229-4109-991a-20aeef2ff648",
   "metadata": {
    "editable": true,
    "slideshow": {
     "slide_type": ""
    },
    "tags": [
     "skip-execution"
    ]
   },
   "outputs": [],
   "source": [
    "x = 42\n",
    "\n",
    "if x > 5 and x < 10:\n",
    "    x = x * 2\n",
    "elif x < 5 or x > 10:\n",
    "    x = x / 2\n",
    "else:\n",
    "    x = x + 2\n",
    "\n",
    "print(x)"
   ]
  },
  {
   "cell_type": "markdown",
   "id": "7f44f09e-ef0e-45fe-9b97-2b2388d9b046",
   "metadata": {
    "editable": true,
    "slideshow": {
     "slide_type": ""
    },
    "tags": []
   },
   "source": [
    "e."
   ]
  },
  {
   "cell_type": "code",
   "execution_count": null,
   "id": "1c0efe7d-79a0-49d7-8ebf-822baf1d009b",
   "metadata": {
    "editable": true,
    "slideshow": {
     "slide_type": ""
    },
    "tags": [
     "skip-execution"
    ]
   },
   "outputs": [],
   "source": [
    "x = 10\n",
    "\n",
    "if x > 5 and x < 10:\n",
    "    x = x * 2\n",
    "elif x < 5 or x > 10:\n",
    "    x = x / 2\n",
    "else:\n",
    "    x = x + 2\n",
    "\n",
    "print(x)"
   ]
  }
 ],
 "metadata": {
  "kernelspec": {
   "display_name": "Python 3 (ipykernel)",
   "language": "python",
   "name": "python3"
  },
  "language_info": {
   "codemirror_mode": {
    "name": "ipython",
    "version": 3
   },
   "file_extension": ".py",
   "mimetype": "text/x-python",
   "name": "python",
   "nbconvert_exporter": "python",
   "pygments_lexer": "ipython3",
   "version": "3.12.3"
  }
 },
 "nbformat": 4,
 "nbformat_minor": 5
}
