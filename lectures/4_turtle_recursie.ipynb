{
 "cells": [
  {
   "cell_type": "markdown",
   "metadata": {
    "slideshow": {
     "slide_type": "slide"
    }
   },
   "source": [
    "# Lijnenspel\n",
    "\n",
    "Recursief lijnen trekken"
   ]
  },
  {
   "cell_type": "markdown",
   "metadata": {
    "slideshow": {
     "slide_type": "subslide"
    }
   },
   "source": [
    "## Lijnen trekken"
   ]
  },
  {
   "cell_type": "markdown",
   "metadata": {
    "slideshow": {
     "slide_type": "fragment"
    }
   },
   "source": [
    "![Etch-a_Sketch](images/5/etch-a-sketch.png)"
   ]
  },
  {
   "cell_type": "markdown",
   "metadata": {
    "slideshow": {
     "slide_type": "notes"
    }
   },
   "source": [
    "[Etch-A-Sketch](https://etchasketch.com/), misschien ken je het wel? Met twee draaiknoppen kan je op een scherm horizontale en verticale lijnen trekken en met wat oefeningen kan je ze ook laten buigen door beide knoppen tegelijkertijd te draaien. "
   ]
  },
  {
   "cell_type": "markdown",
   "metadata": {
    "slideshow": {
     "slide_type": "skip"
    }
   },
   "source": [
    "<div><iframe width=\"560\" height=\"315\" src=\"https://www.youtube.com/embed/6TAsmUSpbhM\" frameborder=\"0\" allow=\"accelerometer; encrypted-media; gyroscope; picture-in-picture\" allowfullscreen></iframe></div>\n",
    "\n",
    "\"Etch-a-Sketch has a lot of unique limitations and one of the big ones is that everything is connected by a single line.\""
   ]
  },
  {
   "cell_type": "markdown",
   "metadata": {
    "slideshow": {
     "slide_type": "subslide"
    }
   },
   "source": [
    "## Lijnen met Python\n",
    "\n",
    "Kan het? Ja het kan!"
   ]
  },
  {
   "cell_type": "markdown",
   "metadata": {
    "slideshow": {
     "slide_type": "subslide"
    }
   },
   "source": [
    "![turtle benzene](images/5/turtle_benzene.png)"
   ]
  },
  {
   "cell_type": "markdown",
   "metadata": {
    "slideshow": {
     "slide_type": "slide"
    }
   },
   "source": [
    "## Voorbeeld"
   ]
  },
  {
   "cell_type": "markdown",
   "metadata": {
    "slideshow": {
     "slide_type": "fragment"
    }
   },
   "source": [
    "```python\n",
    "from turtle import *\n",
    "\n",
    "def poly(runs, TOTAL_SIDES):\n",
    "    \"\"\"Teken een polygoon met runs/TOTAL_SIDES\n",
    "    \"\"\"\n",
    "    if runs == 0:\n",
    "        return  # klaar\n",
    "    else:\n",
    "        forward(100)\n",
    "        left(360 / TOTAL_SIDES)\n",
    "        poly(runs - 1, TOTAL_SIDES)\n",
    "\n",
    "\n",
    "poly(9, 9)\n",
    "exitonclick()\n",
    "```"
   ]
  },
  {
   "cell_type": "markdown",
   "metadata": {
    "slideshow": {
     "slide_type": "notes"
    }
   },
   "source": [
    "Een recursief turtle voorbeeld! De functie `poly` accepteert twee parameters, de `run` parameter bepaalt hoe vaak de functie zichzelf moet aanroepen en `TOTAL_SIDES` is het aantal zijden van de polygoon. Kan je de base case en de recursieve case aanwijzen?\n",
    "\n",
    "`TOTAL_SIDES` noemen we in dit geval een *constante*, een onveranderlijke waarde. Deze waarde moet natuurlijk onveranderlijk zijn omdat de functie deze waarde bij elke aanroep nodig heeft om de hoek van de draai te berekenen. Het is een *conventie* (een gewoonte, of stilzwijgende afspraak) om constante variabelen in *hoofdletters* te schrijven, niet alleen in Python maar ook in veel andere programmeertalen."
   ]
  },
  {
   "cell_type": "markdown",
   "metadata": {
    "slideshow": {
     "slide_type": "subslide"
    }
   },
   "source": [
    "![turtle polygon](images/5/turtle_polygon.png)"
   ]
  },
  {
   "cell_type": "markdown",
   "metadata": {
    "slideshow": {
     "slide_type": "subslide"
    }
   },
   "source": [
    "## Random lijnen"
   ]
  },
  {
   "cell_type": "markdown",
   "metadata": {
    "slideshow": {
     "slide_type": "fragment"
    }
   },
   "source": [
    "```python\n",
    "from turtle import *\n",
    "from random import choice\n",
    "\n",
    "def rwalk(N):\n",
    "    \"\"\"Zet N keer 20 pixel stappen, naar NE of SE\n",
    "    \"\"\"\n",
    "    if N == 0:\n",
    "        return\n",
    "\n",
    "    direction = choice([\"left\", \"right\"])\n",
    "\n",
    "    if direction == \"left\":\n",
    "        left(45)\n",
    "        forward(20)\n",
    "        rwalk(N - 1)\n",
    "    else:\n",
    "        right(45)\n",
    "        forward(20)\n",
    "        rwalk(N - 1)\n",
    "```"
   ]
  },
  {
   "cell_type": "markdown",
   "metadata": {
    "slideshow": {
     "slide_type": "notes"
    }
   },
   "source": [
    "Een random turtle walk! Maak (vanuit het perspectief van turtle) een draai naar noord-oost- (links) of zuid-oostelijke (rechts) richting, afhankelijk van een *random* keus."
   ]
  },
  {
   "cell_type": "markdown",
   "metadata": {
    "slideshow": {
     "slide_type": "subslide"
    }
   },
   "source": [
    "![turtle random walk](images/5/turtle_rwalk.png)"
   ]
  },
  {
   "cell_type": "markdown",
   "metadata": {
    "slideshow": {
     "slide_type": "notes"
    }
   },
   "source": [
    "De loop van een aangeschoten turtle..."
   ]
  },
  {
   "cell_type": "markdown",
   "metadata": {
    "slideshow": {
     "slide_type": "subslide"
    }
   },
   "source": [
    "### Herhaling\n",
    "\n",
    "Herhaling van handelingen maar herhaling in *code*?\n",
    "\n",
    "```python\n",
    "if direction == \"left\":\n",
    "    left(45)\n",
    "    forward(20)\n",
    "    rwalk(N - 1)\n",
    "else:\n",
    "    right(45)\n",
    "    forward(20)\n",
    "    rwalk(N - 1)\n",
    "```"
   ]
  },
  {
   "cell_type": "markdown",
   "metadata": {
    "slideshow": {
     "slide_type": "notes"
    }
   },
   "source": [
    "Het is geen probleem als je dit op deze manier schrijft (Python zal in ieder geval niet klagen!) maar je ziet dat we onszelf herhalen. Het enige dat de `if` en `else` van elkaar onderscheidt is de *richting*, de stap voorwaarts gevolgd door de recursieve aanroep is wat ze met elkaar gemeen hebben. Zou dit ook anders kunnen worden geschreven? "
   ]
  },
  {
   "cell_type": "markdown",
   "metadata": {
    "slideshow": {
     "slide_type": "subslide"
    }
   },
   "source": [
    "```python\n",
    "if direction == \"left\":\n",
    "    left(45)\n",
    "else:\n",
    "    right(45)\n",
    "\n",
    "forward(20)\n",
    "rwalk(N - 1)\n",
    "```"
   ]
  },
  {
   "cell_type": "markdown",
   "metadata": {
    "slideshow": {
     "slide_type": "notes"
    }
   },
   "source": [
    "Dit is een herschreven versie. Het `if` / `else` blok is in nu alleen maar \"verantwoordelijk\" voor de richting en als dit blok is afgehandeld wordt vervolgens een stap voorwaarts gezet en wordt de volgende recursieve aanroep gedaan.\n",
    "\n",
    "Nogmaals, is een herhaling zoals je in het eerste geval hebt gezien een probleem? Nee, maar misschien is de tweede variant beter leesbaar of maakt het in ieder geval duidelijker wat een keus voor links of rechts betekent (en maken we daarmee de bedoeling voor onszelf en wellicht ook andere lezers van onze oplossing *expliciet*)."
   ]
  },
  {
   "cell_type": "markdown",
   "metadata": {
    "slideshow": {
     "slide_type": "slide"
    }
   },
   "source": [
    "## Quiz"
   ]
  },
  {
   "cell_type": "markdown",
   "metadata": {
    "slideshow": {
     "slide_type": "fragment"
    }
   },
   "source": [
    "```python\n",
    "def chai(dist):\n",
    "    \"\"\"fn mysterie!\n",
    "    \"\"\"\n",
    "    if dist < 5:\n",
    "        return\n",
    "\n",
    "    forward(dist)\n",
    "    left(90)\n",
    "    forward(dist / 2)\n",
    "    right(90)\n",
    "\n",
    "    right(90)\n",
    "    forward(dist)\n",
    "    left(90)\n",
    "\n",
    "    left(90)\n",
    "    forward(dist / 2.0)\n",
    "    right(90)\n",
    "    backward(dist)\n",
    "```\n",
    "\n",
    "Wat is het resultaat van `chai(100)`?"
   ]
  },
  {
   "cell_type": "markdown",
   "metadata": {
    "slideshow": {
     "slide_type": "notes"
    }
   },
   "source": [
    "Pak een stuk papier en probeer de lijn te trekken en het resultaat uit te tekenen! 100 is in dit geval natuurlijk het aantal pixels op scherm, kies op papier bijvoorbeeld voor ~10cm. "
   ]
  },
  {
   "cell_type": "markdown",
   "metadata": {
    "slideshow": {
     "slide_type": "subslide"
    }
   },
   "source": [
    "### Oplossing"
   ]
  },
  {
   "cell_type": "markdown",
   "metadata": {
    "slideshow": {
     "slide_type": "fragment"
    }
   },
   "source": [
    "![turtle chai 100](images/5/turtle_chai_100.png)"
   ]
  },
  {
   "cell_type": "markdown",
   "metadata": {
    "slideshow": {
     "slide_type": "subslide"
    }
   },
   "source": [
    "### Vervolg"
   ]
  },
  {
   "cell_type": "markdown",
   "metadata": {
    "slideshow": {
     "slide_type": "fragment"
    }
   },
   "source": [
    "```python\n",
    "def chai(dist):\n",
    "    \"\"\"fn mysterie onthuld!\n",
    "    \"\"\"\n",
    "    if dist < 5:\n",
    "        return\n",
    "\n",
    "    forward(dist)\n",
    "    left(90)\n",
    "    forward(dist / 2)\n",
    "    right(90)\n",
    "    \n",
    "    chai(dist / 2)  # <== !!!\n",
    "    \n",
    "    right(90)\n",
    "    forward(dist)\n",
    "    left(90)\n",
    "\n",
    "    left(90)\n",
    "    forward(dist / 2.0)\n",
    "    right(90)\n",
    "    backward(dist)\n",
    "```"
   ]
  },
  {
   "cell_type": "markdown",
   "metadata": {
    "slideshow": {
     "slide_type": "notes"
    }
   },
   "source": [
    "In het eerste voorbeeld (de quiz) zag je twee witregels. Wat gebeurt er als we een eerste recursieve aanroep doen? Je zal zien dat het patroon dat je net hebt uitgetekend zich gaat herhalen!"
   ]
  },
  {
   "cell_type": "markdown",
   "metadata": {
    "slideshow": {
     "slide_type": "subslide"
    }
   },
   "source": [
    "![turtle chai 100 recursive left](images/5/turtle_chai_100_recursive_left.png)"
   ]
  },
  {
   "cell_type": "markdown",
   "metadata": {
    "slideshow": {
     "slide_type": "notes"
    }
   },
   "source": [
    "Laten we zien wat er gebeurt als we de recursieve aanroep alleen op de tweede witregel plaatsen."
   ]
  },
  {
   "cell_type": "markdown",
   "metadata": {
    "slideshow": {
     "slide_type": "subslide"
    },
    "tags": []
   },
   "source": [
    "```python\n",
    "def chai(dist):\n",
    "    \"\"\"fn mysterie onthuld!\n",
    "    \"\"\"\n",
    "    if dist < 5:\n",
    "        return\n",
    "\n",
    "    forward(dist)\n",
    "    left(90)\n",
    "    forward(dist / 2)\n",
    "    right(90)\n",
    "        \n",
    "    right(90)\n",
    "    forward(dist)\n",
    "    left(90)\n",
    "\n",
    "    chai(dist / 2)  # <== !!!\n",
    "    \n",
    "    left(90)\n",
    "    forward(dist / 2.0)\n",
    "    right(90)\n",
    "    backward(dist)\n",
    "```"
   ]
  },
  {
   "cell_type": "markdown",
   "metadata": {
    "slideshow": {
     "slide_type": "subslide"
    }
   },
   "source": [
    "![turtle chai 100 recursive right](images/5/turtle_chai_100_recursive_right.png)"
   ]
  },
  {
   "cell_type": "markdown",
   "metadata": {
    "slideshow": {
     "slide_type": "notes"
    }
   },
   "source": [
    "Je ziet precies hetzelfde gebeuren (maar gespiegeld). Laten we ze nu combineren!"
   ]
  },
  {
   "cell_type": "markdown",
   "metadata": {
    "slideshow": {
     "slide_type": "subslide"
    }
   },
   "source": [
    "```python\n",
    "def chai(dist):\n",
    "    \"\"\"fn mysterie onthuld!\n",
    "    \"\"\"\n",
    "    if dist < 5:\n",
    "        return\n",
    "\n",
    "    forward(dist)\n",
    "    left(90)\n",
    "    forward(dist / 2)\n",
    "    right(90)\n",
    "        \n",
    "    chai(dist / 2)  # <== !!!\n",
    "\n",
    "    right(90)\n",
    "    forward(dist)\n",
    "    left(90)\n",
    "\n",
    "    chai(dist / 2)  # <== !!!\n",
    "    \n",
    "    left(90)\n",
    "    forward(dist / 2.0)\n",
    "    right(90)\n",
    "    backward(dist)\n",
    "```"
   ]
  },
  {
   "cell_type": "markdown",
   "metadata": {
    "slideshow": {
     "slide_type": "subslide"
    }
   },
   "source": [
    "![turtle chai 100 recursive](images/5/turtle_chai_100_recursive.png)"
   ]
  },
  {
   "cell_type": "markdown",
   "metadata": {
    "slideshow": {
     "slide_type": "notes"
    }
   },
   "source": [
    "En daar zien je het volledig recursief patroon!"
   ]
  },
  {
   "cell_type": "raw",
   "metadata": {
    "slideshow": {
     "slide_type": "subslide"
    }
   },
   "source": [
    "<video controls width=\"435\">\n",
    "    <source src=\"../images/5/chai_animate.webm\"\n",
    "            type=\"video/webm\">\n",
    "    Sorry, your browser doesn't support embedded videos.\n",
    "</video>"
   ]
  }
 ],
 "metadata": {
  "kernelspec": {
   "display_name": "Python 3 (ipykernel)",
   "language": "python",
   "name": "python3"
  },
  "language_info": {
   "codemirror_mode": {
    "name": "ipython",
    "version": 3
   },
   "file_extension": ".py",
   "mimetype": "text/x-python",
   "name": "python",
   "nbconvert_exporter": "python",
   "pygments_lexer": "ipython3",
   "version": "3.9.5"
  }
 },
 "nbformat": 4,
 "nbformat_minor": 4
}
