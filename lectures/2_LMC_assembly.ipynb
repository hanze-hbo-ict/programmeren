{
 "cells": [
  {
   "attachments": {},
   "cell_type": "markdown",
   "metadata": {
    "editable": true,
    "slideshow": {
     "slide_type": "slide"
    },
    "tags": []
   },
   "source": [
    "# Assembly\n",
    "\n",
    "Welke taal spreekt een computer?"
   ]
  },
  {
   "cell_type": "markdown",
   "metadata": {
    "editable": true,
    "slideshow": {
     "slide_type": "subslide"
    },
    "tags": []
   },
   "source": [
    "## Machinetaal\n",
    "\n",
    "![CPU machine code](images/13/cpu_1.png)"
   ]
  },
  {
   "attachments": {},
   "cell_type": "markdown",
   "metadata": {
    "slideshow": {
     "slide_type": "notes"
    }
   },
   "source": [
    "Programma's worden opgeslagen in het geheugen in machinetaal. Een taal dat puur bestaat uit bits. Dit is de eerste generatie programmeer taal. Het is bijna onleesbaar voor ons mensen."
   ]
  },
  {
   "cell_type": "markdown",
   "metadata": {
    "editable": true,
    "slideshow": {
     "slide_type": "subslide"
    },
    "tags": []
   },
   "source": [
    "## Assembleertaal (assembly)\n",
    "\n",
    "![CPU assembly](images/13/cpu_1a.png)"
   ]
  },
  {
   "attachments": {},
   "cell_type": "markdown",
   "metadata": {
    "slideshow": {
     "slide_type": "notes"
    }
   },
   "source": [
    "Assembly is een voor mensen leesbare machinetaal. Het is de tweede generatie programmeer talen"
   ]
  },
  {
   "attachments": {},
   "cell_type": "markdown",
   "metadata": {},
   "source": [
    "Derde generatie programmeer talen kunnen gebruikt worden om alles te programmeren wat mogelijk is. Als men het over programmeren heeft, valt het vaak in deze groep. Talen zoals Python, Java, C, C++, C#, Pascal en Basic vallen hieronder."
   ]
  },
  {
   "attachments": {},
   "cell_type": "markdown",
   "metadata": {},
   "source": [
    "Vierde generatie talen zijn programmeer talen met een specifiek doel. SQL bijvoorbeeld voor databases en HTML voor websites."
   ]
  },
  {
   "attachments": {},
   "cell_type": "markdown",
   "metadata": {},
   "source": [
    "Vijfde generatie talen zijn talen waarbij de programmeur regels opstelt waar de computer zich aan moet houden. De computer lost vervolgens zelf het probleem op. Logische programmeern talen zoals Prolog vallen hieronder."
   ]
  },
  {
   "cell_type": "markdown",
   "metadata": {
    "editable": true,
    "slideshow": {
     "slide_type": "subslide"
    },
    "tags": []
   },
   "source": [
    "## Instructies\n",
    "\n",
    "Combinatie van data en handelingen"
   ]
  },
  {
   "cell_type": "markdown",
   "metadata": {
    "slideshow": {
     "slide_type": "fragment"
    }
   },
   "source": [
    "Machinetaal\n",
    "\n",
    "<tt><font color=\"red\">0000 0001</font> 0000 0001</tt>"
   ]
  },
  {
   "attachments": {},
   "cell_type": "markdown",
   "metadata": {
    "slideshow": {
     "slide_type": "fragment"
    }
   },
   "source": [
    "Assembly\n",
    "\n",
    "<tt><font color=\"blue\">load</font> r1</tt>"
   ]
  },
  {
   "attachments": {},
   "cell_type": "markdown",
   "metadata": {
    "editable": true,
    "slideshow": {
     "slide_type": "subslide"
    },
    "tags": []
   },
   "source": [
    "## LMC Assembly\n",
    "\n",
    "LMC staat voor Little Man Computer en is een versimpelt model voor een CPU met een bijpassende assembly taal."
   ]
  },
  {
   "attachments": {},
   "cell_type": "markdown",
   "metadata": {
    "editable": true,
    "slideshow": {
     "slide_type": ""
    },
    "tags": []
   },
   "source": [
    "![LMC](images/2/lmc.png)"
   ]
  },
  {
   "attachments": {},
   "cell_type": "markdown",
   "metadata": {},
   "source": [
    "Instructies komen aan de linkerkant. Door submit te drukken wordt het programma geladen in het RAM geheugen. Zodra het geladen is kan er op run gedrukt worden om het programma te draaien."
   ]
  },
  {
   "attachments": {},
   "cell_type": "markdown",
   "metadata": {},
   "source": [
    "De program counter houdt bij welke instructie de volgende is. De accumulator bewaart de uitkomst van de laatste uitgevoerde opdracht of berekening. Beide zijn speciale registerst binnen de LMC CPU. "
   ]
  },
  {
   "attachments": {},
   "cell_type": "markdown",
   "metadata": {
    "editable": true,
    "slideshow": {
     "slide_type": ""
    },
    "tags": []
   },
   "source": [
    "## Instuctieset\n",
    "\n",
    "LMC heeft maar een beperkte hoeveelheid instructies, het zijn er maar 9."
   ]
  },
  {
   "attachments": {},
   "cell_type": "markdown",
   "metadata": {},
   "source": [
    "|Code|Naam|\tBeschrijving|\n",
    "|----|----|------------|\n",
    "|000|\tHLT|\tStop|\n",
    "|1XX|\tADD XX|\tTel het getal in geheugen plaats XX op bij het getal die in de accumulator staat|\n",
    "|2XX|\tSUB XX|\tTrek het getal in geheugen plaats XX af van het getal die in de accumulator staat|\n",
    "|3XX|\tSTA or STO XX|\tSla het getal in de accumulator op in geheugenplaats XX|\n",
    "|5XX|\tLDA XX|\tLaad het getal in geheugen plaats XX naar de accumulator|\n",
    "|6XX|\tBRA XX|\tSpring naar instructie XX|\n",
    "|7XX|\tBRZ XX|\tSpring naar instructie XX als het getal in de accumulator nul is\n",
    "|8XX|\tBRP XX|\tSpring naar instructie XX als het getal in de accumulator groter of gelijk is aan nul\n",
    "|9XX|\tINP or OUT|\tInput or Output. Vraag om imput als XX gelijk is aan 01, Geeft output als XX gelijk is aan 02.\n"
   ]
  },
  {
   "attachments": {},
   "cell_type": "markdown",
   "metadata": {
    "editable": true,
    "slideshow": {
     "slide_type": ""
    },
    "tags": []
   },
   "source": [
    "## Ons eerste programma\n",
    "|Instructie|  Bijschrijving|\n",
    "|---|---|\n",
    "|inp|  vraag om input en bewaar deze in de accumulator|\n",
    "|sto 99| Bewaar de waarde dat in de accumulator staat in register 99|\n",
    "|inp| Vraag om input en bewaar deze in de accumulator|\n",
    "|add 99| Tel het getal in geheugen plaats 99 op bij het getal die in de accumulator staat|\n",
    "|out| Geef de waarde dat in de accumulator staat als output|\n",
    "|hlt| einde programma| \n",
    "\n",
    "\n",
    "\n"
   ]
  },
  {
   "attachments": {},
   "cell_type": "markdown",
   "metadata": {},
   "source": [
    "Het draaien van een assembly programma kan je als volg noteren. Noteer de instructie in colomn 1. Wat er aan het einde van de instructie in de ALU staat noteer je in colomn 2. Als er iets in het geheugen wordt opgeslagen/verandert noteer je dat in colomn 3. Als er om input/output wordt gevraagd noteren we dat in colomn 4. "
   ]
  },
  {
   "attachments": {},
   "cell_type": "markdown",
   "metadata": {
    "editable": true,
    "slideshow": {
     "slide_type": ""
    },
    "tags": []
   },
   "source": [
    "|instructie| Accumulator|Geheugen|Input/Output|\n",
    "|---|---|---|---|\n",
    "|inp|32||Input is 32|\n",
    "|sto 99|32|#99 = 32||\n",
    "|inp|14||input is 14|\n",
    "|add 99| 14 + 32 = 46||\n",
    "|out|46|| output is 46|\n",
    "|hlt||| "
   ]
  },
  {
   "attachments": {},
   "cell_type": "markdown",
   "metadata": {
    "editable": true,
    "slideshow": {
     "slide_type": ""
    },
    "tags": []
   },
   "source": [
    "### Jumps"
   ]
  },
  {
   "attachments": {},
   "cell_type": "markdown",
   "metadata": {},
   "source": [
    "Assembly heeft een jump instructie, ook wel branch genoemd of een Goto. Hiermee kan er aan gegeven worden naar welke instructie er gesprongen moet worden. Er kan vooruit en achteruit gesprongen worden in assembly. "
   ]
  },
  {
   "attachments": {},
   "cell_type": "markdown",
   "metadata": {},
   "source": [
    "|nummer|Instructie| Bijschrijving|\n",
    "|--|---|---|\n",
    "|00|inp|  vraag om input en bewaar deze in de accumulator|\n",
    "|01|sto 98| Bewaar de waarde dat in de accumulator staat in register 98|\n",
    "|02|add 98| Tel het getal in geheugen plaats 98 op bij het getal die in de accumulator staat|\n",
    "|03|out|  Geef de waarde dat in de accumulator staat als output|\n",
    "|04|bra 02| Jump naar instructie 2|\n",
    "|05|hlt| Einde programma|"
   ]
  },
  {
   "attachments": {},
   "cell_type": "markdown",
   "metadata": {},
   "source": [
    "Dit programma zal oneindig hetzelfde getal optellen. De jump op regel 04 wordt altijd uitgevoerd. Er bestaan ook voorwaardelijke jumps; een jump dat alleen wordt uitgevoerd als er aan een voorwaarde is voldaan. LMC kent twee voorwaardelijke jumps; BRZ waarbij de accumulator gelijk aan 0 moet zijn (BRanch if Zero) en BRP waarbij de accumulator gelijk aan 0 of hoger moet zijn (BRanch if Positive)"
   ]
  },
  {
   "attachments": {},
   "cell_type": "markdown",
   "metadata": {},
   "source": [
    "Door het bijhouden van een counter kan een programma naar hlt jumpen zodra de counter 0 heeft bereikt. Het is dan wel nodig om op geheugenplaats 99 een 1 in te voeren voordat het programma gedraait wordt. "
   ]
  },
  {
   "attachments": {},
   "cell_type": "markdown",
   "metadata": {},
   "source": [
    "|nummer|Instructie| Bijschrijving|\n",
    "|--|---|---|\n",
    "|00|inp|  Vraag om input en bewaar deze in de accumulator|\n",
    "|01|sto 98| Bewaar de waarde dat in de accumulator staat in register 98|\n",
    "|02|out| Geef de waarde dat in de accumulator staat als output|\n",
    "|03|brz 05| Jump naar instructie 05 als de waarde op de accumualtor gelijk is aan 0|\n",
    "|04|sub 99| Trek het getal in geheugen plaats 99 af van het getal die in de accumulator staat|\n",
    "|05|bra 02| Jump naar instructie 2|\n",
    "|05|hlt| Einde programma|"
   ]
  },
  {
   "attachments": {},
   "cell_type": "markdown",
   "metadata": {},
   "source": [
    "Dit creeert dus een loop die zich een gegeven aantal keren herhaalt. Zo'n loop kan gebruikt worden om een vermeninigvuldiging in LMC te programmeren. Vermenigvuldigen is namelijk niks anders dan een gegeven aantal keer optellen. $5 * 2 = 2 + 2 + 2 + 2 + 2$\n",
    "\n",
    "Wat belangrijk is bij het schrijven met Assembly is het gebruik van geheugen. Waar wordt wat opgeslagen. Het is onverstandig om Data op te slaan waar een instructie staat. In de voorbeelden wordt de data opgeslagen op de hoge nummers. \n",
    "\n",
    "Bij het schrijven van een vermenigvuldeging moet er dus ook nagedacht worden over geheugen. Waar wordt het antwoord bijgehouden en in welke register de counter? In onderstaand voorbeeld wordt het antwoord bijgehouden in register 96 en de counter in 97. Ook bij dit programma wordt er handmatig een 1 geplaats in register 99. "
   ]
  },
  {
   "attachments": {},
   "cell_type": "markdown",
   "metadata": {},
   "source": [
    "\n",
    "\n",
    "|nummer|Instructie| Bijschrijving|\n",
    "|--|---|---|\n",
    "|00|inp|  vraag om input en bewaar deze in de accumulator|\n",
    "|01|sto 98| Bewaar de waarde dat in de accumulator staat in register 98|\n",
    "|02|inp| Vraag om input en bewaar deze in de accumulator|\n",
    "|03|sto 97| Bewaar de waarde dat in de accumulator staat in register 98|\n",
    "|04|brz 12| Als de waarde in de accumulator 0 is, jump naar instructie 12|\n",
    "|05|lda 96| Lees de waarde van 96 en sla deze op in de accumulator|\n",
    "|06|add 98| Tel het getal in geheugen plaats 98 op bij het getal die in de accumulator staat|\n",
    "|07|sto 96| Bewaar de waarde dat in de accumulator staat in register 96|\n",
    "|08|lda 97| Lees de waarde van register 97 en sla deze op in de accumulator|\n",
    "|09|sub 99| Trek het getal in geheugen plaats 99 af van het getal die in de accumulator staat|\n",
    "|10|sto 97| Bewaar de waarde dat in de accumulator staat in register 97|\n",
    "|11|bra 04| Jump naar instructie 4|\n",
    "|12|lda 96| lees de waarde van register 97 en sla deze op in de accumulator|\n",
    "|13|out|  Geef de waarde dat in de accumulator staat als output|\n",
    "|14|hlt| Einde programma|"
   ]
  },
  {
   "attachments": {},
   "cell_type": "markdown",
   "metadata": {},
   "source": [
    "Bij programmeren met Assembly is geheugen gebruik dus belangrijk. Daarnaast wordt Assembly code al snel onverzichtelijk als er veel jumps in het programma staan. Het wordt dan snel zogenaamde spaghetti code. \n",
    "Mede daardoor heeft men de derde generatie talen ontwikkeld. Gezien een computer deze talen niet kent is er een vertaler nodig om programmeer talen om te zetten in machinetaal. \n",
    "\n",
    "Met de komst van deze talen heeft de programmeur onder andere toegang tot variabelen en regelt de computer zelf waar de data wordt opgeslagen. Jumps zijn niet meer nodig, ook dat regelt de computer zelf. Jumps (a.k.a. Goto statements) gebruiken in een derde generatie taal wordt dan ook gezien als bad practice. \n",
    "\n",
    "![Do not use Jumps](images/2/goto.png)"
   ]
  }
 ],
 "metadata": {
  "kernelspec": {
   "display_name": "Python 3 (ipykernel)",
   "language": "python",
   "name": "python3"
  },
  "language_info": {
   "codemirror_mode": {
    "name": "ipython",
    "version": 3
   },
   "file_extension": ".py",
   "mimetype": "text/x-python",
   "name": "python",
   "nbconvert_exporter": "python",
   "pygments_lexer": "ipython3",
   "version": "3.11.4"
  }
 },
 "nbformat": 4,
 "nbformat_minor": 4
}
