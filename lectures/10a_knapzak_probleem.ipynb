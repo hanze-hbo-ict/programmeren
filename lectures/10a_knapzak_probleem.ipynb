{
 "cells": [
  {
   "cell_type": "markdown",
   "metadata": {},
   "source": [
    "# Ontwerp van algoritmen\n",
    "\n",
    "*Use it or lose it!*"
   ]
  },
  {
   "cell_type": "markdown",
   "metadata": {},
   "source": [
    "## Ontwerpen van wat?\n",
    "\n",
    "<strike>Code (syntax)</strike>\n",
    "\n",
    "Algoritmen! (ideeën)"
   ]
  },
  {
   "cell_type": "markdown",
   "metadata": {},
   "source": [
    "## Algoritmen\n",
    "\n",
    "```python\n",
    "def rem_all(e, L):\n",
    "    \"\"\"Returns sequence L with all e's rmovd\n",
    "    ...\n",
    "```"
   ]
  },
  {
   "cell_type": "markdown",
   "metadata": {},
   "source": [
    "## Top down\n",
    "\n",
    "![rem_all design 0](images/10/design_rem_all_0.png)"
   ]
  },
  {
   "cell_type": "markdown",
   "metadata": {},
   "source": [
    "### Visualiseren\n",
    "\n",
    "![rem_all design 1](images/10/design_rem_all_1.png)"
   ]
  },
  {
   "cell_type": "markdown",
   "metadata": {},
   "source": [
    "### Opdelen\n",
    "\n",
    "![rem_all design 2](images/10/design_rem_all_2.png)"
   ]
  },
  {
   "cell_type": "markdown",
   "metadata": {},
   "source": [
    "### Bouwen\n",
    "\n",
    "![rem_all design 3](images/10/design_rem_all_3.png)"
   ]
  },
  {
   "cell_type": "markdown",
   "metadata": {},
   "source": [
    "### Combineren\n",
    "\n",
    "![rem_all design 4](images/10/design_rem_all_4.png)"
   ]
  },
  {
   "cell_type": "markdown",
   "metadata": {},
   "source": [
    "### Testen\n",
    "\n",
    "![rem_all design 5](images/10/design_rem_all_5.png)"
   ]
  },
  {
   "cell_type": "markdown",
   "metadata": {},
   "source": [
    "## Use it or lose it!\n",
    "\n",
    "```python\n",
    "def rem_all(e, L):\n",
    "    \"\"\"Returns sequence L with all e's rmovd\n",
    "    \"\"\"\n",
    "    if len(L) == 0:\n",
    "        return L\n",
    "    elif L[0] != e:\n",
    "        return L[0:1] + rem_all(e, L[1:])  # use it!\n",
    "    else:\n",
    "        return          rem_all(e, L[1:])  # lose it!\n",
    "```\n",
    "\n",
    "Bijvoorbeeld\n",
    "\n",
    "```python\n",
    "assert rem_all(42, [5, 7, 42, 8, 42]) == [5, 7, 8]\n",
    "assert rem_all(\"q\", \"qaqqlqqiqqiiqeqqnqs\") == \"aliiiens\"\n",
    "```"
   ]
  },
  {
   "cell_type": "markdown",
   "metadata": {},
   "source": [
    "![rem_all](images/10/rem_all.png)"
   ]
  },
  {
   "cell_type": "markdown",
   "metadata": {},
   "source": [
    "### Een bekend patroon\n",
    "\n",
    "```python\n",
    "def max(L):\n",
    "    \"\"\"Find max value in L\n",
    "    \"\"\"\n",
    "    if len(L) < 2:\n",
    "        return L[0]\n",
    "\n",
    "    max_of_rest = max(L[1:])\n",
    "\n",
    "    if L[0] > max_of_rest:\n",
    "        return L[0]         # use it!\n",
    "    else:\n",
    "        return max_of_rest  # lose it!\n",
    "```"
   ]
  },
  {
   "cell_type": "markdown",
   "metadata": {},
   "source": [
    "We hopen dat je het *use it or lose it!* patroon inmiddels herkent? Denk bijvoorbeeld aan de recursieve implementatie van de ingebouwde functie `max`, een oude bekende! Denk ook terug aan andere voorbeelden of opgaven waar steeds een vergelijkbare keus werd gemaakt."
   ]
  },
  {
   "cell_type": "markdown",
   "metadata": {},
   "source": [
    "## Opgave 1"
   ]
  },
  {
   "cell_type": "markdown",
   "metadata": {},
   "source": [
    "### Van `rem_all` naar `rem_one`\n",
    "\n",
    "Verwijder `e` **één** keer uit `L`\n",
    "\n",
    "```python\n",
    "def rem_one(e, L):\n",
    "    \"\"\"Returns sequence L with one e rmoved\n",
    "    \"\"\"\n",
    "    if len(L) == 0:\n",
    "        return L\n",
    "    elif L[0] != e:\n",
    "        return L[0:1] + rem_one(e, L[1:])\n",
    "    else:\n",
    "        return rem_one(e, L[1:])\n",
    "```\n",
    "\n",
    "Bijvoorbeeld\n",
    "\n",
    "```python\n",
    "assert rem_one(8, [7, 8, 9, 8]) == [7, 9, 8]\n",
    "assert rem_one(\"d\", \"coded\") == \"coed\"\n",
    "```\n",
    "\n",
    "Deze `rem_one` werkt nog als `rem_all`. Eén onderdeel moet worden aangepast, welke is het?"
   ]
  },
  {
   "cell_type": "markdown",
   "metadata": {},
   "source": [
    "Als `L[0]` niet gelijk is aan `e`, gebruik het dan. Maar als sprake is van een *lose it*  situatie dan zal dit maar één keer moeten gebeuren. Een herhaling (recursie) is in dit geval dus niet nodig en het volstaat om de rest van `L` direct terug te geven."
   ]
  },
  {
   "cell_type": "markdown",
   "metadata": {},
   "source": [
    "## Opgave 2"
   ]
  },
  {
   "cell_type": "markdown",
   "metadata": {},
   "source": [
    "### Van `rem_one` naar `rem_up_to`\n",
    "\n",
    "Verwijder alles uit `L` **tot en met** de  eerste `e`\n",
    "\n",
    "```python\n",
    "def rem_up_to(e, L):\n",
    "    \"\"\"Returns sequence L up to the first e moved\n",
    "    \"\"\"\n",
    "    if len(L) == 0:\n",
    "        return L\n",
    "    elif L[0] != e:\n",
    "        return L[0:1] + rem_up_to(e, L[1:])\n",
    "    else:\n",
    "        return L[1:]\n",
    "```\n",
    "\n",
    "Bijvoorbeeld\n",
    "\n",
    "```python\n",
    "assert rem_up_to(8, [7, 8, 9, 8]) == [9, 8]\n",
    "assert rem_up_to(\"d\", \"coded\") == \"ed\")\n",
    "```\n",
    "\n",
    "Deze `rem_up_to` werkt nog als `rem_one`. Eén onderdeel moet worden aangepast, welke is het?"
   ]
  },
  {
   "cell_type": "markdown",
   "metadata": {},
   "source": [
    "In dit geval hebben we geen nut meer voor een *use it* geval `L[0]`, want alles tot een met (de *use it*'s moeten juist worden verwijderd). Misschien is het in dit geval toepasselijker te spreken over *forget it*!"
   ]
  },
  {
   "cell_type": "markdown",
   "metadata": {},
   "source": [
    "### Het knapzak probleem\n",
    "\n",
    "![Kikker op reis](images/10/kikker_op_reis.png)"
   ]
  },
  {
   "cell_type": "markdown",
   "metadata": {},
   "source": [
    "Kikker gaat op reis en kan maar tot een maximaal gewicht aan handige dingen meenemen in zijn knapzak. Dit wordt ook een *subset-sum* probleem genoemd."
   ]
  },
  {
   "cell_type": "markdown",
   "metadata": {},
   "source": [
    "### Base case\n",
    "\n",
    "```python\n",
    "def subset(capacity, items):\n",
    "    \"\"\"Given a capacity and a list of positive-number items,\n",
    "    subset returns the largest sum that can be made from the \n",
    "    items _without exceeding capacity_.\n",
    "    \"\"\"\n",
    "    if capacity <= 0 or len(items) == 0:\n",
    "        return 0\n",
    "```"
   ]
  },
  {
   "cell_type": "markdown",
   "metadata": {},
   "source": [
    "### Het eerste geval en de rest\n",
    "\n",
    "```python\n",
    "def subset(capacity, items):\n",
    "    \"\"\"Given a capacity and a list of positive-number items,\n",
    "    subset returns the largest sum that can be made from the \n",
    "    items _without exceeding capacity_.\n",
    "    \"\"\"\n",
    "    if capacity <= 0 or len(items) == 0:\n",
    "        return 0\n",
    "    \n",
    "    first = items[0]\n",
    "    rest = items[1:]\n",
    "```"
   ]
  },
  {
   "cell_type": "markdown",
   "metadata": {},
   "source": [
    "### `max` capacity reached :)\n",
    "\n",
    "```python\n",
    "def subset(capacity, items):\n",
    "    \"\"\"Given a capacity and a list of positive-number items,\n",
    "    subset returns the largest sum that can be made from the \n",
    "    items _without exceeding capacity_.\n",
    "    \"\"\"\n",
    "    if capacity <= 0 or len(items) == 0:\n",
    "        return 0\n",
    "    \n",
    "    first = items[0]\n",
    "    rest = items[1:]\n",
    "    \n",
    "    if first == capacity:\n",
    "        return first  # use the first - and are done\n",
    "```"
   ]
  },
  {
   "cell_type": "markdown",
   "metadata": {},
   "source": [
    "Op basis van een eerste waarde en de rest kan gelijk al een eerst besluit worden genomen: we zijn klaar als het eerste geval gelijk is aan de capaciteit!"
   ]
  },
  {
   "cell_type": "markdown",
   "metadata": {},
   "source": [
    "### `max` capacity exceeded :(\n",
    "\n",
    "```python\n",
    "def subset(capacity, items):\n",
    "    \"\"\"Given a capacity and a list of positive-number items,\n",
    "    subset returns the largest sum that can be made from the \n",
    "    items _without exceeding capacity_.\n",
    "    \"\"\"\n",
    "    if capacity <= 0 or len(items) == 0:\n",
    "        return 0\n",
    "    \n",
    "    first = items[0]\n",
    "    rest = items[1:]\n",
    "    \n",
    "    if first == capacity:\n",
    "        return first  # use the first and we're done\n",
    "\n",
    "    if first > capacity:\n",
    "        return subset(capacity, rest)  # forget the first completely\n",
    "```"
   ]
  },
  {
   "cell_type": "markdown",
   "metadata": {},
   "source": [
    "Het is ook mogelijk dat het eerste geval `first` de capaciteit overschrijdt. We hebben in dit geval niets aan `first` en kunnen het maar beter vergeten en het probleem herhalen met de `rest`."
   ]
  },
  {
   "cell_type": "markdown",
   "metadata": {},
   "source": [
    "### `max` capacity not reached...\n",
    "\n",
    "```python\n",
    "if first < capacity:\n",
    "    ...\n",
    "```"
   ]
  },
  {
   "cell_type": "markdown",
   "metadata": {},
   "source": [
    "### Een lastige keus\n",
    "\n",
    "```python\n",
    "capacity = 10\n",
    "items = [8, 4, 6]\n",
    "```\n",
    "\n",
    "Het is beter om `items[0]` **niet** te gebruiken"
   ]
  },
  {
   "cell_type": "markdown",
   "metadata": {},
   "source": [
    "In dit geval is het verstandiger om 8 te laten vallen (*lose it*) om vervolgens 4 én 6 te gebruiken (*use it*)."
   ]
  },
  {
   "cell_type": "markdown",
   "metadata": {},
   "source": [
    "```python\n",
    "capacity = 10\n",
    "items = [4, 8, 6]\n",
    "```\n",
    "\n",
    "Het is beter om `items[0]` **wel** te gebruiken"
   ]
  },
  {
   "cell_type": "markdown",
   "metadata": {},
   "source": [
    "Maar in dit geval is het verstandiger om 4 wél te gebruiken (*use it*) om vervolgens 8 niet te gebruiken (*lose it*) en tot slot 6 wel te gebruiken (*use it*).\n",
    "\n",
    "Hoe kan je nu tussen deze twee mogelijkheden kiezen, of beter, hoe zou je een algemene oplossing voor dit probleem kunnen vinden?"
   ]
  },
  {
   "cell_type": "markdown",
   "metadata": {},
   "source": [
    "### De makkelijke keus\n",
    "\n",
    "Gebruik beide en kies de beste uitkomst!"
   ]
  },
  {
   "cell_type": "markdown",
   "metadata": {},
   "source": [
    "*Use it!*\n",
    "\n",
    "```python\n",
    "useit = first + subset(capacity - first, rest)\n",
    "```"
   ]
  },
  {
   "cell_type": "markdown",
   "metadata": {},
   "source": [
    "*Lose it!*\n",
    "\n",
    "```python\n",
    "loseit = subset(capacity, rest)\n",
    "```"
   ]
  },
  {
   "cell_type": "markdown",
   "metadata": {},
   "source": [
    "`capacity` to the `max`!\n",
    "\n",
    "```python\n",
    "max(useit, loseit)\n",
    "```"
   ]
  },
  {
   "cell_type": "markdown",
   "metadata": {},
   "source": [
    "### To the `max`\n",
    "\n",
    "```python\n",
    "def subset(capacity, items):\n",
    "    \"\"\"Given a capacity and a list of positive-number items,\n",
    "    subset returns the largest sum that can be made from the \n",
    "    items _without exceeding capacity_.\n",
    "    \"\"\"\n",
    "    if capacity <= 0 or len(items) == 0:\n",
    "        return 0\n",
    "    \n",
    "    first = items[0]\n",
    "    rest = items[1:]\n",
    "    \n",
    "    if first == capacity:\n",
    "        return first  # use the first and we're done\n",
    "\n",
    "    if first > capacity:\n",
    "        return subset(capacity, rest)  # forget the first completely\n",
    "    \n",
    "    if first < capacity:\n",
    "        useit = first + subset(capacity - first, rest) # use it!\n",
    "        loseit = subset(capacity, rest)   # lose it!\n",
    "        return max(useit, loseit)        \n",
    "```"
   ]
  },
  {
   "cell_type": "markdown",
   "metadata": {},
   "source": [
    "### Hoe werkt dit?\n",
    "\n",
    "```python\n",
    "if first < capacity:\n",
    "    useit = first + subset(capacity - first, rest)\n",
    "    loseit = subset(capacity, rest)\n",
    "    return max(useit, loseit)\n",
    "```"
   ]
  },
  {
   "cell_type": "markdown",
   "metadata": {},
   "source": [
    "![subset](images/10/subset.png)"
   ]
  },
  {
   "cell_type": "markdown",
   "metadata": {},
   "source": [
    "Zowel `useit` als `loseit` worden op de stack geplaatst, maar onderweg gebeurt dit natuurlijk vaker tot alle mogelijkeden zijn uitgeput (de base case is bereikt). Recursie zie je hier heel goed terugkomen in de vertakkingen en met `max(useit, loseit)` wordt het een beslisboom. Probeer van boven naar beneden en weer terug omhoog de `useit` en `loseit` aanroepen en tussentijdse resultaten te volgen."
   ]
  }
 ],
 "metadata": {
  "language_info": {
   "name": "python"
  }
 },
 "nbformat": 4,
 "nbformat_minor": 2
}
