{
 "cells": [
  {
   "cell_type": "markdown",
   "metadata": {
    "slideshow": {
     "slide_type": "slide"
    }
   },
   "source": [
    "# Klassen en objecten\n",
    "\n",
    "Het ontwerpen van data\n",
    "\n",
    "Een geheel nieuwe <s>klasse</s> `class` van programmeren!"
   ]
  },
  {
   "cell_type": "markdown",
   "metadata": {
    "slideshow": {
     "slide_type": "subslide"
    }
   },
   "source": [
    "## Bouwstenen\n",
    "\n",
    "- functies\n",
    "- compositie"
   ]
  },
  {
   "cell_type": "markdown",
   "metadata": {
    "slideshow": {
     "slide_type": "notes"
    }
   },
   "source": [
    "Een probleem opdelen in functies, waar elke functie verantwoordelijk is voor een deel van de oplossing. Je hebt niet alleen eigen functies geschreven, maar bedenk ook hoe vaak je ingebouwde functies als `len`, `min`, `max` hebt gebruikt als onderdeel van jouw composities!"
   ]
  },
  {
   "cell_type": "markdown",
   "metadata": {
    "slideshow": {
     "slide_type": "subslide"
    }
   },
   "source": [
    "## Data\n",
    "\n",
    "De representatie van informatie: typen\n",
    "\n",
    "- string\n",
    "- int / float\n",
    "- list"
   ]
  },
  {
   "cell_type": "markdown",
   "metadata": {
    "slideshow": {
     "slide_type": "fragment"
    }
   },
   "source": [
    "En combinaties van typen als `LoL`'s!"
   ]
  },
  {
   "cell_type": "markdown",
   "metadata": {},
   "source": [
    "### Een `Student` ontwerpen\n",
    "\n",
    "Een student gaat studeren..."
   ]
  },
  {
   "cell_type": "markdown",
   "metadata": {},
   "source": [
    "Van een student willen we informatie opslaan, laten we beginnen met naam en jaar van inschrijven. \n",
    "```python\n",
    "student_naam = \"Jan Janssen\"\n",
    "student_start_jaar= 2023\n",
    "```"
   ]
  },
  {
   "cell_type": "markdown",
   "metadata": {},
   "source": [
    "Binnen de opleiding ICT hebben we veel meer studenten dan 1. Het moet mogelijk zijn om informatie van meerdere studenten te gebruiken. \n",
    "```python\n",
    "student1_naam = \"Jan Janssen\"\n",
    "student1_start_jaar= 2023\n",
    "student2_naam = \"John Smith\"\n",
    "student2_start_jaar= 2023\n",
    "```"
   ]
  },
  {
   "cell_type": "markdown",
   "metadata": {},
   "source": [
    "Dit is onhandig, misschien is het mogelijk het in een lijst te plaatsen?\n",
    "```python\n",
    "students = [\"Jan Janssen\", 2023, \"John Smith\", 2023 ]\n",
    "```\n",
    "\n",
    "Zodra we meerdere studenten hebben en ook andere informatie willen opslaan wordt het al snel onoverzichtelijk. Het wordt ook lastig om informatie te vinden van een specifieke student. "
   ]
  },
  {
   "cell_type": "markdown",
   "metadata": {},
   "source": [
    "Elke student heeft een student nummer, wat handig kan zijn om een student te vinden. Bijvoorbeeld het vinden van de naam van student met nummer  463726 "
   ]
  },
  {
   "cell_type": "code",
   "execution_count": 2,
   "metadata": {},
   "outputs": [
    {
     "name": "stdout",
     "output_type": "stream",
     "text": [
      "Jan Janssen\n"
     ]
    }
   ],
   "source": [
    "students = [463726, \"Jan Janssen\", 2023, 482638, \"John Smith\", 2023 ]\n",
    "student_index = students.index(463726)\n",
    "print(students[student_index+1])"
   ]
  },
  {
   "cell_type": "markdown",
   "metadata": {},
   "source": [
    "In een lijst moeten we eerst de index weten van een element voordat we het uit de lijst kunnen halen. Het zou handig zijn als we de studentnummer als index kunnen gebruiken. Nadeel is dat het wel een hele lange lijst wordt, gezien student nummers grote getallen zijn. Daar is een oplossing voor: een Dictionary."
   ]
  },
  {
   "cell_type": "markdown",
   "metadata": {},
   "source": [
    "#### Dictionairy"
   ]
  },
  {
   "cell_type": "markdown",
   "metadata": {},
   "source": [
    "Dictionaries zijn *willekeurige* containers\n",
    "\n",
    "```python\n",
    "d = {47: 2, 42: 1}\n",
    "```\n",
    "\n",
    "Elementen (of waarden) worden opgehaald met een *sleutel* op een *willekeurige* positie\n",
    "\n",
    "```python\n",
    "d[47] == 2\n",
    "d[42] == 1\n",
    "```"
   ]
  },
  {
   "cell_type": "code",
   "execution_count": 3,
   "metadata": {},
   "outputs": [
    {
     "name": "stdout",
     "output_type": "stream",
     "text": [
      "['Jan Janssen', 2023]\n"
     ]
    }
   ],
   "source": [
    "students = {463726: [\"Jan Janssen\", 2023], 482638: [\"John Smith\", 2023] }\n",
    "print(students[463726])"
   ]
  },
  {
   "cell_type": "code",
   "execution_count": 4,
   "metadata": {},
   "outputs": [
    {
     "name": "stdout",
     "output_type": "stream",
     "text": [
      "Jan Janssen\n"
     ]
    }
   ],
   "source": [
    "students = {463726: [\"Jan Janssen\", 2023], 482638: [\"John Smith\", 2023] }\n",
    "print(students[463726][0])"
   ]
  },
  {
   "cell_type": "markdown",
   "metadata": {},
   "source": [
    "Goed nieuws, sleutels kunnen ook andere typen dan `int` zijn!"
   ]
  },
  {
   "cell_type": "code",
   "execution_count": 6,
   "metadata": {},
   "outputs": [
    {
     "name": "stdout",
     "output_type": "stream",
     "text": [
      "Jan Janssen\n"
     ]
    }
   ],
   "source": [
    "student1 = {'naam':\"Jan Janssen\", 'start_jaar':2023}\n",
    "student2 = {'naam':\"John Smith\", 'start_jaar':2023}\n",
    "print(student1['naam'])"
   ]
  },
  {
   "cell_type": "markdown",
   "metadata": {},
   "source": [
    "En net als een lijst lijsten kan bevatten, de zogenaamde LoL, kan een dictionary uit dictionaries bestaan. "
   ]
  },
  {
   "cell_type": "code",
   "execution_count": null,
   "metadata": {},
   "outputs": [
    {
     "name": "stdout",
     "output_type": "stream",
     "text": [
      "Jan Janssen\n",
      "Jan Jansen\n"
     ]
    }
   ],
   "source": [
    "students = {463726: {'naam':\"Jan Janssen\", 'start_jaar':2023}, 482638: {'naam':\"John Smith\", 'start_jaar':2023} }\n",
    "print(students[463726][\"naam\"])"
   ]
  },
  {
   "cell_type": "markdown",
   "metadata": {},
   "source": [
    "We kunnen informatie opslaan over studenten op deze manier, maar het blijft een dictonairy. Wat als we het data type `student` konden maken?"
   ]
  },
  {
   "cell_type": "markdown",
   "metadata": {},
   "source": [
    "## Klassen en objecten\n",
    "\n",
    "1. Een *klasse* is een **type**\n",
    "2. Een *object* is een specifieke **instantie** van dat type"
   ]
  },
  {
   "cell_type": "markdown",
   "metadata": {},
   "source": [
    "Alles in Python is een *object* (variabele)\n",
    "Wat het *kan* (functies, of \"methoden\") wordt bepaald door de klasse (type)"
   ]
  },
  {
   "cell_type": "code",
   "execution_count": null,
   "metadata": {},
   "outputs": [],
   "source": [
    "s = str(\"Astronaut wordt snel oud tijdens een reis naar Mars\")"
   ]
  },
  {
   "cell_type": "markdown",
   "metadata": {},
   "source": [
    "De variabele `s` is een *object*, het is een *instantie* van de *klasse* `str`. In de * klasse* `str`staat bijvoorbeeld de methode `count()`. Deze methode kan tellen hoe vaak een gegeven character voorkomt in de string."
   ]
  },
  {
   "cell_type": "code",
   "execution_count": 9,
   "metadata": {},
   "outputs": [
    {
     "name": "stdout",
     "output_type": "stream",
     "text": [
      "5\n"
     ]
    }
   ],
   "source": [
    "s = str(\"Astronaut wordt snel oud tijdens een reis naar Mars\")\n",
    "print(s.count(\"e\"))"
   ]
  },
  {
   "cell_type": "markdown",
   "metadata": {
    "slideshow": {
     "slide_type": "subslide"
    }
   },
   "source": [
    "![Cookie cutter](images/11/cookie_cutter.png)"
   ]
  },
  {
   "cell_type": "markdown",
   "metadata": {
    "slideshow": {
     "slide_type": "notes"
    }
   },
   "source": [
    "Zie een type als een mal, waar er maar één van is, maar waar véél objecten (instanties) van kunnen worden gemaakt. De klasse definieert de \"vorm\", een object is de concrete uitwerking van deze vorm (koekjes!)."
   ]
  },
  {
   "cell_type": "markdown",
   "metadata": {
    "slideshow": {
     "slide_type": "subslide"
    }
   },
   "source": [
    "![Blauwdruk](images/11/blueprint.png)"
   ]
  },
  {
   "cell_type": "markdown",
   "metadata": {
    "slideshow": {
     "slide_type": "notes"
    }
   },
   "source": [
    "Een klasse kan je ook zien als een blauwdruk of bouwtekening (een getedailleerde mal). Het definieert de eigenschappen van een object (een raket, een huis, ...). Het beschrijft wat het *is* maar ook wat het *kan* (een raket *kan* vliegen, in een huis met keuken *kan* worden gekookt, ...)."
   ]
  },
  {
   "cell_type": "markdown",
   "metadata": {},
   "source": [
    "## Een klasse `Student` ontwerpen\n",
    "\n",
    "We kunnen onze eigen *klasse* schrijven! M.a.w. een nieuwe type, waaronder dus het type Student. "
   ]
  },
  {
   "cell_type": "code",
   "execution_count": null,
   "metadata": {},
   "outputs": [],
   "source": [
    "class Student:\n",
    "    \"\"\"A class representing students\n",
    "    \"\"\"\n",
    "    def __init__(self, name, yr):\n",
    "        \"\"\"The constructor\n",
    "        \"\"\"\n",
    "        self.name = name\n",
    "        self.start_year = yr\n",
    "\n",
    "    def __repr__(self):\n",
    "        \"\"\"For printing\n",
    "        \"\"\"\n",
    "        return self.name + \" \" + str(self.year)\n",
    "\n",
    "    def delay(self, num_yrs):\n",
    "        \"\"\"Defer study for num_years\n",
    "        \"\"\"\n",
    "        self.start_year += num_yrs"
   ]
  },
  {
   "cell_type": "markdown",
   "metadata": {
    "slideshow": {
     "slide_type": "slide"
    }
   },
   "source": [
    "## Objecten\n",
    "\n",
    "Een object is een structuur en bestaat uit data elementen en methodes(functies)."
   ]
  },
  {
   "cell_type": "markdown",
   "metadata": {
    "slideshow": {
     "slide_type": "fragment"
    }
   },
   "source": [
    "De student heeft een aantal data elementen en deze hebben namen (attributen, of velden):\n",
    "- naam\n",
    "- start_jaar\n",
    "\n",
    "De student heeft functies (methoden) die het zelf kan gebruiken (maar ook wij!).:\n",
    "- `__init__` de *constructor*. Deze methode wordt gebruikt om de student aan te maken. Elke klasse heeft deze methode nodig. \n",
    "- `__repr__` een string representatie van het object, zodat de computer weet hoe het object geprint moet worden.\n",
    "- `delay()` is een methode om het inschrijfjaar aan te passen."
   ]
  },
  {
   "cell_type": "markdown",
   "metadata": {
    "slideshow": {
     "slide_type": "notes"
    }
   },
   "source": [
    "Methoden met dubbele underscores worden ook wel *dunder* methoden genoemd. Het is een conventie in Python om speciale methoden op deze manier te schrijven. Handig, want op deze manier zijn ze beter te ondescheiden van andere methoden (die jij gaat schrijven!)."
   ]
  },
  {
   "cell_type": "code",
   "execution_count": null,
   "metadata": {
    "slideshow": {
     "slide_type": "subslide"
    }
   },
   "outputs": [],
   "source": [
    "class Student:\n",
    "    \"\"\"A class representing students\n",
    "    \"\"\"\n",
    "    def __init__(self, name, yr):\n",
    "        \"\"\"The constructor\n",
    "        \"\"\"\n",
    "        self.name = name\n",
    "        self.year = yr\n",
    "\n",
    "    def __repr__(self):\n",
    "        \"\"\"For printing\n",
    "        \"\"\"\n",
    "        return \"naam: \"+ self.name + \", start jaar: \" + str(self.year)\n",
    "\n",
    "    def delay(self, num_yrs):\n",
    "        \"\"\"Defer study for num_years\n",
    "        \"\"\"\n",
    "        self.year += num_yrs"
   ]
  },
  {
   "cell_type": "markdown",
   "metadata": {},
   "source": [
    "Het is nu mogelijk om onze eigen studenten aan te maken. "
   ]
  },
  {
   "cell_type": "code",
   "execution_count": 14,
   "metadata": {
    "slideshow": {
     "slide_type": "subslide"
    }
   },
   "outputs": [],
   "source": [
    "student_a = Student(\"Peter Been\", 2021)\n",
    "student_b = Student(\"Jasper Klein\", 2021)\n",
    "student_c = Student(\"Linda Buitendijk\", 2022)\n",
    "student_d = Student(\"Myrthe Zomer\", 2021)"
   ]
  },
  {
   "cell_type": "markdown",
   "metadata": {},
   "source": [
    "Zodra je een student aanmaakt, of een andere data type, wordt eerst de constructor aangeroepen van het type. De print functie verwacht een string om te printen. Een student moet dan eerst omgezet worden tot een string en dan kan het geprint worden. De methode `__repr__()` kan daar gebruikt voor worden."
   ]
  },
  {
   "cell_type": "code",
   "execution_count": 15,
   "metadata": {},
   "outputs": [
    {
     "data": {
      "text/plain": [
       "'naam: Jasper Klein, start jaar: 2021'"
      ]
     },
     "execution_count": 15,
     "metadata": {},
     "output_type": "execute_result"
    }
   ],
   "source": [
    "student_b.__repr__()"
   ]
  },
  {
   "cell_type": "markdown",
   "metadata": {},
   "source": [
    "`__repr__()` is een *dunder* methoden en het is niet nodig of gebruikelijk om deze zelf aan te roepen. Het is een methode dat Python in de achtergrond gebruikt wanneer het nodig is. Zolang de methode `__repr__()` aanwezig is kan het object rechstreeks geprint worden. Python roept zelf de functie `__repr__()` om een Student te kunnen printen. "
   ]
  },
  {
   "cell_type": "code",
   "execution_count": 16,
   "metadata": {
    "slideshow": {
     "slide_type": "fragment"
    }
   },
   "outputs": [
    {
     "name": "stdout",
     "output_type": "stream",
     "text": [
      "naam: Jasper Klein, start jaar: 2021\n"
     ]
    }
   ],
   "source": [
    "print(student_b)"
   ]
  },
  {
   "cell_type": "markdown",
   "metadata": {},
   "source": [
    "Het is mogelijk om de data elementen van een object op te vragen."
   ]
  },
  {
   "cell_type": "code",
   "execution_count": 17,
   "metadata": {
    "slideshow": {
     "slide_type": "fragment"
    }
   },
   "outputs": [
    {
     "data": {
      "text/plain": [
       "'Jasper Klein'"
      ]
     },
     "execution_count": 17,
     "metadata": {},
     "output_type": "execute_result"
    }
   ],
   "source": [
    "student_b.name"
   ]
  },
  {
   "cell_type": "markdown",
   "metadata": {},
   "source": [
    "En een object kan een methode uitvoeren."
   ]
  },
  {
   "cell_type": "code",
   "execution_count": null,
   "metadata": {
    "slideshow": {
     "slide_type": "subslide"
    }
   },
   "outputs": [],
   "source": [
    "student_b.delay(1)"
   ]
  },
  {
   "cell_type": "code",
   "execution_count": 19,
   "metadata": {
    "slideshow": {
     "slide_type": "fragment"
    }
   },
   "outputs": [
    {
     "data": {
      "text/plain": [
       "2022"
      ]
     },
     "execution_count": 19,
     "metadata": {},
     "output_type": "execute_result"
    }
   ],
   "source": [
    "student_b.year"
   ]
  },
  {
   "cell_type": "code",
   "execution_count": 20,
   "metadata": {
    "slideshow": {
     "slide_type": "fragment"
    }
   },
   "outputs": [
    {
     "name": "stdout",
     "output_type": "stream",
     "text": [
      "naam: Jasper Klein, start jaar: 2022\n"
     ]
    }
   ],
   "source": [
    "print(student_b)"
   ]
  },
  {
   "cell_type": "markdown",
   "metadata": {},
   "source": [
    "## Opgaven"
   ]
  },
  {
   "cell_type": "markdown",
   "metadata": {},
   "source": [
    "### Opdracht 1\n",
    "a Voeg het data element student_nummer toe aan het type Student door de constructor methode aan te passen in de klasse `Student`  \n",
    "b Pas de functie `__repr__()` aan zodat het student nummer ook wordt geprint.  "
   ]
  }
 ],
 "metadata": {
  "kernelspec": {
   "display_name": "Python 3",
   "language": "python",
   "name": "python3"
  },
  "language_info": {
   "codemirror_mode": {
    "name": "ipython",
    "version": 3
   },
   "file_extension": ".py",
   "mimetype": "text/x-python",
   "name": "python",
   "nbconvert_exporter": "python",
   "pygments_lexer": "ipython3",
   "version": "3.11.2"
  }
 },
 "nbformat": 4,
 "nbformat_minor": 4
}
