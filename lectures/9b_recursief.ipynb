{
 "cells": [
  {
   "cell_type": "markdown",
   "metadata": {},
   "source": [
    "# Recursief ontwerpen"
   ]
  },
  {
   "cell_type": "markdown",
   "metadata": {},
   "source": [
    "Zodra je een probleem recursief wil oplossen moet je twee belangrijke stappen maken. \n",
    "- Bepaal de base case. Dit voorkomt dat je in een oneindige recursie terecht komt\n",
    "- Bepaal de recursie case. Roept de functie opnieuw aan met een kleiner probleem. "
   ]
  },
  {
   "cell_type": "markdown",
   "metadata": {},
   "source": [
    "## Optelling: `plusone(n)`\n",
    "\n"
   ]
  },
  {
   "cell_type": "markdown",
   "metadata": {},
   "source": [
    "De functie `plusone(n)` telt `n` door 1-en op te tellen. Als `n` gelijk is aan 5 dan worden 5 1-en bij elkaar opgeteld. Hoe kan je dit recursief oplossen? Denk altijd eerst aan de base case, in welk geval is is geen recursie meer mogelijk? \n"
   ]
  },
  {
   "cell_type": "markdown",
   "metadata": {},
   "source": [
    "### Plan:  \n",
    "Wat moet in dit geval voor de `...` moeten worden ingevuld voor de base en recursieve case?\n",
    "\n",
    "- `plusone(0)` moet ... teruggeven\n",
    "\n",
    "**recursie case**:\n",
    "\n",
    "- `plusone(5)` is de waarde van `1+1+1+1+1` en is gelijk aan de waarde `1 + (...)`, wat gelijk is aan `1 + plusone(...)`"
   ]
  },
  {
   "cell_type": "markdown",
   "metadata": {},
   "source": [
    "### programmeren"
   ]
  },
  {
   "cell_type": "markdown",
   "metadata": {},
   "source": [
    "```python\n",
    "def plusone(n):\n",
    "    \"\"\"Geeft n terug door 1-en op te tellen!\n",
    "    \"\"\"\n",
    "    if n == 0:  # base case\n",
    "        return ...\n",
    "    else:       # recursive case\n",
    "        return ...\n",
    "```"
   ]
  },
  {
   "cell_type": "markdown",
   "metadata": {},
   "source": [
    "De `...` zie je hier in de code terug. Wat moet voor de base- en recursieve case worden ingevuld? Denk hier terug aan aan `fac(x)`, hetzelfde patroon zal je hier moeten volgen!"
   ]
  },
  {
   "cell_type": "markdown",
   "metadata": {},
   "source": [
    "### Oplossing"
   ]
  },
  {
   "cell_type": "code",
   "execution_count": null,
   "metadata": {},
   "outputs": [],
   "source": [
    "def plusone(n):\n",
    "    \"\"\"Geeft n terug door 1-en op te tellen!\n",
    "    \"\"\"\n",
    "    if n == 0:  # base case\n",
    "        return 0\n",
    "    else:       # recursive case\n",
    "        return 1 + plusone(n-1)\n",
    "\n",
    "assert plusone(0) == 0  # test de base case\n",
    "assert plusone(5) == 5  # test de oplossing"
   ]
  },
  {
   "cell_type": "markdown",
   "metadata": {},
   "source": [
    "## Machtverheffing: `pow(b, p)`"
   ]
  },
  {
   "cell_type": "markdown",
   "metadata": {},
   "source": [
    "De functie `pow(b, p)` met de positieve integers `b` en `p` berekent  $b^{p}$. Je mag de operator `**` niet gebruiken en het moet recursief opgelost worden. "
   ]
  },
  {
   "cell_type": "markdown",
   "metadata": {},
   "source": [
    "### plan"
   ]
  },
  {
   "cell_type": "markdown",
   "metadata": {},
   "source": [
    "De base case:\n",
    "\n",
    "`pow(2, 0)` moet ... teruggeven\n",
    "\n",
    "recursie case:\n",
    "\n",
    "- `pow(2, 5)` is de waarde van `2*2*2*2*2` en is gelijk aan\n",
    "- `2 * (...)`, wat gelijk is aan `2 * pow(..., ...)`\n",
    "\n"
   ]
  },
  {
   "cell_type": "markdown",
   "metadata": {},
   "source": [
    "### Programmeren"
   ]
  },
  {
   "cell_type": "markdown",
   "metadata": {},
   "source": [
    "```python\n",
    "def pow(b, p):\n",
    "    \"\"\"b**p, recursief!\n",
    "    \"\"\"\n",
    "    if p == 0:  # base case\n",
    "        return ...\n",
    "    else:       # recursive case\n",
    "        return ...\n",
    "```"
   ]
  },
  {
   "cell_type": "markdown",
   "metadata": {},
   "source": [
    "### Oplossing"
   ]
  },
  {
   "cell_type": "code",
   "execution_count": 1,
   "metadata": {},
   "outputs": [],
   "source": [
    "def pow(b, p):\n",
    "    \"\"\"b**p, recursief!\n",
    "    \"\"\"\n",
    "    if p == 0:  # base case\n",
    "        return 1.0\n",
    "    else:       # recursive case\n",
    "        return b * pow(b, p-1)\n",
    "\n",
    "assert pow(2, 0) == 1.0   # test de base case\n",
    "assert pow(2, 5) == 32.0  # test de oplossing"
   ]
  },
  {
   "cell_type": "markdown",
   "metadata": {},
   "source": [
    "## Aantal klinkers: `vwl(s)`"
   ]
  },
  {
   "cell_type": "markdown",
   "metadata": {},
   "source": [
    "De functie `vwl(s)` checkt hoeveel klinkers er in de string s zit en geeft dit aantal terug. "
   ]
  },
  {
   "cell_type": "markdown",
   "metadata": {},
   "source": [
    "### Python is `in`\n",
    "\n",
    "Bevind een element zich in een sequentie (een list, een string, ...)?"
   ]
  },
  {
   "cell_type": "markdown",
   "metadata": {},
   "source": [
    "Dit probleem zal je vaak gaan tegenkomen: bijvoorbeeld bij de vraag of \"i\" een klinker is? Klinkers zijn de karakters a, e, i, o en u. Dit kan je als een sequentie schrijven, bijvoorbeeld als string `\"aeiou\"` of als list `[\"a\", \"e\", \"i\", \"o\", \"u\"]`. Python kent  de `in` operator om te testen of een element zich in een sequentie bevindt, bijvoorbeeld `\"i\" in \"aeiou\"`. Een paar voorbeelden:"
   ]
  },
  {
   "cell_type": "code",
   "execution_count": 1,
   "metadata": {},
   "outputs": [
    {
     "data": {
      "text/plain": [
       "False"
      ]
     },
     "execution_count": 1,
     "metadata": {},
     "output_type": "execute_result"
    }
   ],
   "source": [
    "\"i\" in \"team\""
   ]
  },
  {
   "cell_type": "code",
   "execution_count": 2,
   "metadata": {},
   "outputs": [
    {
     "data": {
      "text/plain": [
       "True"
      ]
     },
     "execution_count": 2,
     "metadata": {},
     "output_type": "execute_result"
    }
   ],
   "source": [
    "\"i\" in \"alien\""
   ]
  },
  {
   "cell_type": "code",
   "execution_count": 3,
   "metadata": {},
   "outputs": [
    {
     "data": {
      "text/plain": [
       "True"
      ]
     },
     "execution_count": 3,
     "metadata": {},
     "output_type": "execute_result"
    }
   ],
   "source": [
    "3*\"i\" in \"aliiien\""
   ]
  },
  {
   "cell_type": "code",
   "execution_count": 4,
   "metadata": {},
   "outputs": [
    {
     "data": {
      "text/plain": [
       "True"
      ]
     },
     "execution_count": 4,
     "metadata": {},
     "output_type": "execute_result"
    }
   ],
   "source": [
    "42 in [41, 42, 42]"
   ]
  },
  {
   "cell_type": "code",
   "execution_count": 5,
   "metadata": {},
   "outputs": [
    {
     "data": {
      "text/plain": [
       "False"
      ]
     },
     "execution_count": 5,
     "metadata": {},
     "output_type": "execute_result"
    }
   ],
   "source": [
    "42 in [[42], \"42\"]"
   ]
  },
  {
   "cell_type": "code",
   "execution_count": 6,
   "metadata": {},
   "outputs": [
    {
     "data": {
      "text/plain": [
       "True"
      ]
     },
     "execution_count": 6,
     "metadata": {},
     "output_type": "execute_result"
    }
   ],
   "source": [
    "\"e\" in \"eaiou\""
   ]
  },
  {
   "cell_type": "markdown",
   "metadata": {},
   "source": [
    "### Plan"
   ]
  },
  {
   "cell_type": "markdown",
   "metadata": {},
   "source": [
    "De base case:\n",
    "\n",
    "`vwl(\"\")` moet ... teruggeven\n",
    "\n",
    "Recursieve case:  \n",
    "`vwl(\"zaaiuien\")` is het aantal klinkers in \"zaaiuien\" en is gelijk aan het aantal klinkers in \"z\" + het aantal klinkers in `vwl(...)`. Dus het wordt `1 + vwl(...)` of `0 + vwl(...)`"
   ]
  },
  {
   "cell_type": "markdown",
   "metadata": {},
   "source": [
    "### programmeren\n",
    "\n",
    "```python\n",
    "def vwl(s):\n",
    "    \"\"\"Tel het aantal klinkers in s\n",
    "    \"\"\"\n",
    "    if s == \"\":\n",
    "        ...\n",
    "    elif ...:\n",
    "        return ...\n",
    "    else:\n",
    "        return ...\n",
    "```"
   ]
  },
  {
   "cell_type": "code",
   "execution_count": 1,
   "metadata": {},
   "outputs": [],
   "source": [
    "def vwl(s):\n",
    "    \"\"\"Tel het aantal klinkers in s\n",
    "    \"\"\"\n",
    "    if s == \"\":\n",
    "        return 0\n",
    "    elif s[0] in \"aeiou\":\n",
    "        return 1 + vwl(s[1:])\n",
    "    else:\n",
    "        return vwl(s[1:])"
   ]
  },
  {
   "cell_type": "code",
   "execution_count": 2,
   "metadata": {},
   "outputs": [
    {
     "data": {
      "text/plain": [
       "6"
      ]
     },
     "execution_count": 2,
     "metadata": {},
     "output_type": "execute_result"
    }
   ],
   "source": [
    "vwl(\"zaaiuien\")"
   ]
  },
  {
   "cell_type": "markdown",
   "metadata": {},
   "source": [
    "## Alleen klinkers"
   ]
  },
  {
   "cell_type": "markdown",
   "metadata": {},
   "source": [
    "### Plan"
   ]
  },
  {
   "cell_type": "markdown",
   "metadata": {},
   "source": [
    "Base case:  \n",
    "`keepvwl(\"\")` moet ... teruggeven\n",
    "\n",
    "Recursieve case:  \n",
    "`keepvwl(\"pluto\")` is \"pluto\" zonder medeklinkers en is gelijk aan de klinkers in \"p\" + de klinkers in `keepvwl(...)`. Als het een klinker is, bewaren we het. `\"p\"+ keepvwl(...)` als het geen klinker is, bewaren we het niet. `\"\"+ keepvwl(...)`. Deze strategie wordt ook wel use it or loose it genoemd. "
   ]
  },
  {
   "cell_type": "markdown",
   "metadata": {},
   "source": [
    "### Programmeren\n",
    "\n",
    "```python\n",
    "def keepvwl(s):\n",
    "    \"\"\"Geef ALLEEN de klinkers in s terug\n",
    "    \"\"\"\n",
    "    if s == \"\":\n",
    "        return ...\n",
    "    elif ...:\n",
    "        return ...\n",
    "    else:\n",
    "        return ...\n",
    "```"
   ]
  },
  {
   "cell_type": "markdown",
   "metadata": {},
   "source": [
    "### Oplossing"
   ]
  },
  {
   "cell_type": "code",
   "execution_count": 3,
   "metadata": {},
   "outputs": [],
   "source": [
    "def keepvwl(s):\n",
    "    \"\"\"Geef ALLEEN de klinkers in s terug\n",
    "    \"\"\"\n",
    "    if s == \"\":\n",
    "        return \"\"\n",
    "    elif s[0] in \"aeiou\":\n",
    "        return s[0] + keepvwl(s[1:])\n",
    "    else:\n",
    "        return keepvwl(s[1:])"
   ]
  },
  {
   "cell_type": "code",
   "execution_count": 4,
   "metadata": {},
   "outputs": [
    {
     "data": {
      "text/plain": [
       "'uo'"
      ]
     },
     "execution_count": 4,
     "metadata": {},
     "output_type": "execute_result"
    }
   ],
   "source": [
    "keepvwl(\"pluto\")"
   ]
  },
  {
   "cell_type": "markdown",
   "metadata": {},
   "source": [
    "## Opgave: 1\n",
    "De functie max(L) geeft de grootste waarde van L terug"
   ]
  },
  {
   "cell_type": "markdown",
   "metadata": {},
   "source": [
    "### Plan\n",
    "\n",
    "Base case:  \n",
    "als `len(L) == 1` dan moet `max(L)` ... teruggeven\n",
    "\n",
    "Recursieve case  \n",
    "`max([7, 5, 9, 2])` geeft het hoogste getal terug en is 7 of het hoogste getal in `max(...)`\n"
   ]
  },
  {
   "cell_type": "markdown",
   "metadata": {},
   "source": [
    "### Programmeren\n",
    "\n",
    "```python\n",
    "def max(L):\n",
    "    \"\"\"Geef de grootste waarde van L terug\n",
    "    \"\"\"\n",
    "    if len(L) == 1:\n",
    "        return ...\n",
    "    \n",
    "    M = ...  # De max van het RESTANT van L\n",
    "    \n",
    "    if ...:\n",
    "        return ...\n",
    "    else:\n",
    "        return ...\n",
    "```"
   ]
  },
  {
   "cell_type": "markdown",
   "metadata": {},
   "source": [
    "Maak het bovenstaande programma af. "
   ]
  },
  {
   "cell_type": "markdown",
   "metadata": {},
   "source": [
    "## Opgave 2:\n",
    "\n",
    "De functie `zeroest(L)`geeft het getal terug in L dat het dichtst bij 0 ligt.\n",
    "\n",
    "### Plan:  \n",
    "\n",
    "Base case:  \n",
    "als `len(L) == 1` dan moet `zeroest(L)` ... teruggeven\n",
    "\n",
    "Recursieve case:  \n",
    "`zeroest([-7, 5, 9, 2])` geeft getal het dichtst bij 0 terug en is -7 of het getal het dichtst bij 0 in `zeroest(...)`"
   ]
  },
  {
   "cell_type": "markdown",
   "metadata": {},
   "source": [
    "### Programmeren"
   ]
  },
  {
   "cell_type": "markdown",
   "metadata": {},
   "source": [
    "```python\n",
    "def zeroest(L):\n",
    "    \"\"\"Geef het getal in L het dichtst bij 0 terug\n",
    "    \"\"\"\n",
    "    if len(L) == 1:\n",
    "        return ...\n",
    "    \n",
    "    Z = ...  #  Getal dichtst bij 0 van de REST van L\n",
    "    \n",
    "    if ...:\n",
    "        return ...\n",
    "    else:\n",
    "        return ...\n",
    "```"
   ]
  },
  {
   "cell_type": "markdown",
   "metadata": {},
   "source": [
    "Maak het bovenstaande programma af. "
   ]
  },
  {
   "cell_type": "markdown",
   "metadata": {},
   "source": [
    "## Opgave 3"
   ]
  },
  {
   "cell_type": "markdown",
   "metadata": {},
   "source": [
    "Schrijf de functie counting(L) dat van een lijst L de hoeveelheid elementen teruggeeft. Maak gebruik van recursie"
   ]
  },
  {
   "cell_type": "markdown",
   "metadata": {},
   "source": [
    "## Opdracht 4"
   ]
  },
  {
   "cell_type": "markdown",
   "metadata": {},
   "source": [
    "Schrijf de functie `element_in(ele, lis)` dat checkt of de variabele `ele` in de lijst `lis` zit. Zo ja, dan geeft het een `true`terug, anders geeft het een `false`terug. Maak gebruik van recursie"
   ]
  }
 ],
 "metadata": {
  "kernelspec": {
   "display_name": "Python 3",
   "language": "python",
   "name": "python3"
  },
  "language_info": {
   "codemirror_mode": {
    "name": "ipython",
    "version": 3
   },
   "file_extension": ".py",
   "mimetype": "text/x-python",
   "name": "python",
   "nbconvert_exporter": "python",
   "pygments_lexer": "ipython3",
   "version": "3.11.2"
  }
 },
 "nbformat": 4,
 "nbformat_minor": 2
}
