{
 "cells": [
  {
   "cell_type": "markdown",
   "metadata": {},
   "source": [
    "# Recursief ontwerpen"
   ]
  },
  {
   "cell_type": "markdown",
   "metadata": {},
   "source": [
    "Zodra je een probleem recursief wil oplossen moet je twee belangrijke stappen maken. \n",
    "- Bepaal de base case. Dit voorkomt dat je in een oneindige recursie terecht komt\n",
    "- Bepaal de recursie case. Roept de functie opnieuw aan met een kleiner probleem. "
   ]
  },
  {
   "cell_type": "markdown",
   "metadata": {},
   "source": [
    "## Optelling: `plusone(n)`\n",
    "\n"
   ]
  },
  {
   "cell_type": "markdown",
   "metadata": {},
   "source": [
    "De functie `plusone(n)` telt `n` door 1-en op te tellen. Als `n` gelijk is aan 5 dan worden 5 1-en bij elkaar opgeteld. Hoe kan je dit recursief oplossen? Denk altijd eerst aan de base case, in welk geval is is geen recursie meer mogelijk? \n"
   ]
  },
  {
   "cell_type": "markdown",
   "metadata": {},
   "source": [
    "### Plan:  \n",
    "Wat moet in dit geval voor de `...` moeten worden ingevuld voor de base en recursieve case?\n",
    "\n",
    "- `plusone(0)` moet ... teruggeven\n",
    "\n",
    "**recursie case**:\n",
    "\n",
    "- `plusone(5)` is de waarde van `1+1+1+1+1` en is gelijk aan de waarde `1 + (...)`, wat gelijk is aan `1 + plusone(...)`"
   ]
  },
  {
   "cell_type": "markdown",
   "metadata": {},
   "source": [
    "### programmeren"
   ]
  },
  {
   "cell_type": "markdown",
   "metadata": {},
   "source": [
    "```python\n",
    "def plusone(n):\n",
    "    \"\"\"Geeft n terug door 1-en op te tellen!\n",
    "    \"\"\"\n",
    "    if n == 0:  # base case\n",
    "        return ...\n",
    "    else:       # recursive case\n",
    "        return ...\n",
    "```"
   ]
  },
  {
   "cell_type": "markdown",
   "metadata": {},
   "source": [
    "De `...` zie je hier in de code terug. Wat moet voor de base- en recursieve case worden ingevuld? Denk hier terug aan aan `fac(x)`, hetzelfde patroon zal je hier moeten volgen!"
   ]
  },
  {
   "cell_type": "markdown",
   "metadata": {},
   "source": [
    "### Oplossing"
   ]
  },
  {
   "cell_type": "code",
   "execution_count": null,
   "metadata": {},
   "outputs": [],
   "source": [
    "def plusone(n):\n",
    "    \"\"\"Geeft n terug door 1-en op te tellen!\n",
    "    \"\"\"\n",
    "    if n == 0:  # base case\n",
    "        return 0\n",
    "    else:       # recursive case\n",
    "        return 1 + plusone(n-1)\n",
    "\n",
    "assert plusone(0) == 0  # test de base case\n",
    "assert plusone(5) == 5  # test de oplossing"
   ]
  },
  {
   "cell_type": "markdown",
   "metadata": {},
   "source": [
    "## Machtverheffing: `pow(b, p)`"
   ]
  },
  {
   "cell_type": "markdown",
   "metadata": {},
   "source": [
    "De functie `pow(b, p)` met de positieve integers `b` en `p` berekent  $b^{p}$. Je mag de operator `**` niet gebruiken en het moet recursief opgelost worden. "
   ]
  },
  {
   "cell_type": "markdown",
   "metadata": {},
   "source": [
    "### plan"
   ]
  },
  {
   "cell_type": "markdown",
   "metadata": {},
   "source": [
    "De base case:\n",
    "\n",
    "`pow(2, 0)` moet ... teruggeven\n",
    "\n",
    "recursie case:\n",
    "\n",
    "- `pow(2, 5)` is de waarde van `2*2*2*2*2` en is gelijk aan\n",
    "- `2 * (...)`, wat gelijk is aan `2 * pow(..., ...)`\n",
    "\n"
   ]
  },
  {
   "cell_type": "markdown",
   "metadata": {},
   "source": [
    "### Programmeren"
   ]
  },
  {
   "cell_type": "markdown",
   "metadata": {},
   "source": [
    "```python\n",
    "def pow(b, p):\n",
    "    \"\"\"b**p, recursief!\n",
    "    \"\"\"\n",
    "    if p == 0:  # base case\n",
    "        return ...\n",
    "    else:       # recursive case\n",
    "        return ...\n",
    "```"
   ]
  },
  {
   "cell_type": "markdown",
   "metadata": {},
   "source": [
    "### Oplossing"
   ]
  },
  {
   "cell_type": "code",
   "execution_count": 1,
   "metadata": {},
   "outputs": [],
   "source": [
    "def pow(b, p):\n",
    "    \"\"\"b**p, recursief!\n",
    "    \"\"\"\n",
    "    if p == 0:  # base case\n",
    "        return 1.0\n",
    "    else:       # recursive case\n",
    "        return b * pow(b, p-1)\n",
    "\n",
    "assert pow(2, 0) == 1.0   # test de base case\n",
    "assert pow(2, 5) == 32.0  # test de oplossing"
   ]
  }
 ],
 "metadata": {
  "kernelspec": {
   "display_name": "Python 3",
   "language": "python",
   "name": "python3"
  },
  "language_info": {
   "codemirror_mode": {
    "name": "ipython",
    "version": 3
   },
   "file_extension": ".py",
   "mimetype": "text/x-python",
   "name": "python",
   "nbconvert_exporter": "python",
   "pygments_lexer": "ipython3",
   "version": "3.11.2"
  }
 },
 "nbformat": 4,
 "nbformat_minor": 2
}
