{
 "cells": [
  {
   "cell_type": "markdown",
   "metadata": {},
   "source": [
    "# List comprehensions"
   ]
  },
  {
   "cell_type": "markdown",
   "metadata": {},
   "source": [
    "Verdubbel alle waarden in een lijst"
   ]
  },
  {
   "cell_type": "code",
   "execution_count": 1,
   "metadata": {},
   "outputs": [
    {
     "name": "stdout",
     "output_type": "stream",
     "text": [
      "[8, 10, 12]\n"
     ]
    }
   ],
   "source": [
    "l = [4, 5, 6]\n",
    "for i in range(0, len(l)):\n",
    "    l[i] = l[i] * 2\n",
    "\n",
    "print(l)"
   ]
  },
  {
   "cell_type": "markdown",
   "metadata": {},
   "source": [
    "Het komt vaak voor dat we een bewerking willen uitvoeren op alle elementen in een lijst. Python geeft de optie omdat in het kort op te schrijven:  een list comprehension. "
   ]
  },
  {
   "cell_type": "code",
   "execution_count": 3,
   "metadata": {},
   "outputs": [
    {
     "name": "stdout",
     "output_type": "stream",
     "text": [
      "[8, 10, 12]\n"
     ]
    }
   ],
   "source": [
    "l = [4, 5, 6]\n",
    "l = [x * 2 for x in l]\n",
    "print(l)"
   ]
  },
  {
   "cell_type": "markdown",
   "metadata": {},
   "source": [
    "Dit werkt ook met de index versie van een for lus. "
   ]
  },
  {
   "cell_type": "code",
   "execution_count": 4,
   "metadata": {},
   "outputs": [
    {
     "name": "stdout",
     "output_type": "stream",
     "text": [
      "[8, 10, 12]\n"
     ]
    }
   ],
   "source": [
    "l = [4, 5, 6]\n",
    "l = [l[i] * 2 for i in range(0, len(l))]\n",
    "print(l)"
   ]
  },
  {
   "cell_type": "markdown",
   "metadata": {},
   "source": [
    "Naast berekening kunnen we ook een functie uitvoeren op alle elementen in een lijst. "
   ]
  },
  {
   "cell_type": "code",
   "execution_count": 5,
   "metadata": {},
   "outputs": [
    {
     "name": "stdout",
     "output_type": "stream",
     "text": [
      "[8, 10, 12]\n"
     ]
    }
   ],
   "source": [
    "\n",
    "def dbl(x):\n",
    "    \"\"\"Verdubbel een getal\n",
    "    \"\"\"\n",
    "    return x * 2\n",
    "\n",
    "l = [4, 5, 6]\n",
    "l = [dbl(x) for x in l]\n",
    "\n",
    "print(l)"
   ]
  },
  {
   "cell_type": "markdown",
   "metadata": {},
   "source": [
    "Soms komt het voor dat we alleen de elementen willen bewerken en toevoegen aan een nieuwe lijst als het aan een bepaalde voorwaarde voldoet. Dit kunnen we doen door een if-statement toe te voegen aan de list comprehension. "
   ]
  },
  {
   "cell_type": "markdown",
   "metadata": {},
   "source": [
    "We kunnen bijvoorbeeld alle oneven getallen uit een list filteren."
   ]
  },
  {
   "cell_type": "code",
   "execution_count": 7,
   "metadata": {},
   "outputs": [
    {
     "name": "stdout",
     "output_type": "stream",
     "text": [
      "[1, 3, 5]\n"
     ]
    }
   ],
   "source": [
    "l = [1, 2, 3, 4, 5, 6]\n",
    "l = [x for x in l if x % 2 == 1]\n",
    "print(l)"
   ]
  },
  {
   "cell_type": "markdown",
   "metadata": {},
   "source": [
    "## Miljoen keer simuleren"
   ]
  },
  {
   "cell_type": "code",
   "execution_count": 15,
   "metadata": {},
   "outputs": [
    {
     "name": "stdout",
     "output_type": "stream",
     "text": [
      "57\n"
     ]
    }
   ],
   "source": [
    "import sys\n",
    "from random import *\n",
    "\n",
    "def guess_np(hidden):\n",
    "    \"\"\"Raad een getal\n",
    "    \n",
    "    hidden: het te raden getal\n",
    "    \"\"\"\n",
    "    guesses = 0\n",
    "    while True:\n",
    "        comp_guess = choice(range(100))  # 0 tot en met 99.\n",
    "        guesses += 1\n",
    "        if comp_guess == hidden:\n",
    "            break\n",
    "    return guesses \n",
    "\n",
    "print(guess_np(42))\n"
   ]
  },
  {
   "cell_type": "markdown",
   "metadata": {},
   "source": [
    "De functie geeft het aantal keer dat nodig is om een om een getal te raden terug op basis van steeds een *random* keus van de computer."
   ]
  },
  {
   "cell_type": "markdown",
   "metadata": {},
   "source": [
    "### Combineren\n",
    "\n",
    "> [ **expressie** voor elke **waarde** in **collectie** ]"
   ]
  },
  {
   "cell_type": "code",
   "execution_count": 17,
   "metadata": {},
   "outputs": [],
   "source": [
    "LC = [guess_np(42) for x in range(1000)]"
   ]
  },
  {
   "cell_type": "markdown",
   "metadata": {},
   "source": [
    "Eén enkele regel voor het uitvoeren van 1000 simulaties, dat is best indrukwekkend! \n",
    "\n",
    "Bedenk dat je niet verplicht bent de waarde `x` in een expressie te gebruiken. In dit geval is `x` een nutteloze variabele die je alleen maar nodig hebt omdat de *syntax* jou dit verplicht. Vaak zal je zien dat in dit soort gevallen `_` wordt gebruikt om aan te geven dat het een \"wegwerp\" variabele is, bijvoorbeeld in ons geval\n",
    "\n",
    "```python\n",
    "[guess_np(42) for _ in range(1000)]\n",
    "```"
   ]
  },
  {
   "cell_type": "code",
   "execution_count": 18,
   "metadata": {},
   "outputs": [
    {
     "data": {
      "text/plain": [
       "[42, 84, 27, 58, 24, 20, 75, 105, 72, 17]"
      ]
     },
     "execution_count": 18,
     "metadata": {},
     "output_type": "execute_result"
    }
   ],
   "source": [
    "LC[0:10]"
   ]
  },
  {
   "cell_type": "markdown",
   "metadata": {},
   "source": [
    "List slicing ken je nu ook en dit komt in dit geval goed van pas om eerste de 10 elementen (het resultaat van de eerste 10 simulaties) te inspecteren."
   ]
  },
  {
   "cell_type": "code",
   "execution_count": 19,
   "metadata": {},
   "outputs": [
    {
     "name": "stdout",
     "output_type": "stream",
     "text": [
      "Gemiddeld aantal keer raden 95.552\n"
     ]
    }
   ],
   "source": [
    "print(\"Gemiddeld aantal keer raden\", sum(LC) / len(LC))"
   ]
  },
  {
   "cell_type": "markdown",
   "metadata": {},
   "source": [
    "### Dubbele ogen"
   ]
  },
  {
   "cell_type": "code",
   "execution_count": 40,
   "metadata": {},
   "outputs": [
    {
     "name": "stdout",
     "output_type": "stream",
     "text": [
      "17\n"
     ]
    }
   ],
   "source": [
    "from random import *\n",
    "\n",
    "def count_doubles(N):\n",
    "    \"\"\"Tel aantal dubbele ogen bij N worpen\n",
    "    \"\"\"\n",
    "    doubles = 0\n",
    "    for _ in range(0, N):\n",
    "        d1 = choice([1,2,3,4,5,6])  # eerste dobbelsteen\n",
    "        d2 = choice([1,2,3,4,5,6])  # tweede dobbelsteen\n",
    "        if d1 == d2:\n",
    "            doubles += 1\n",
    "    return doubles\n",
    "\n",
    "print(count_doubles(100))\n",
    "            "
   ]
  },
  {
   "cell_type": "code",
   "execution_count": 41,
   "metadata": {},
   "outputs": [],
   "source": [
    "LC = [count_doubles(100) for x in range(1000)]"
   ]
  },
  {
   "cell_type": "code",
   "execution_count": 42,
   "metadata": {},
   "outputs": [
    {
     "data": {
      "text/plain": [
       "[15, 17, 13, 14, 9, 14, 22, 17, 15, 19]"
      ]
     },
     "execution_count": 42,
     "metadata": {},
     "output_type": "execute_result"
    }
   ],
   "source": [
    "LC[0:10]"
   ]
  },
  {
   "cell_type": "code",
   "execution_count": 44,
   "metadata": {},
   "outputs": [
    {
     "name": "stdout",
     "output_type": "stream",
     "text": [
      "Gemiddeld dubbele ogen (/100): 16.61\n"
     ]
    }
   ],
   "source": [
    "print(\"Gemiddeld dubbele ogen (/100):\", sum(LC)/len(LC))"
   ]
  },
  {
   "cell_type": "markdown",
   "metadata": {},
   "source": [
    "## Condities\n",
    "\n",
    "List comprehension met condities\n",
    "\n",
    "> [ **expressie** voor elke **waarde** in **collectie** als <**test**>]"
   ]
  },
  {
   "cell_type": "code",
   "execution_count": 46,
   "metadata": {},
   "outputs": [
    {
     "name": "stdout",
     "output_type": "stream",
     "text": [
      "6\n"
     ]
    }
   ],
   "source": [
    "def vwl(s):\n",
    "    \"\"\"Tel het aantal klinkers\n",
    "    \"\"\"\n",
    "    LC = [1 for x in s if x in \"aeiou\"]\n",
    "    return sum(LC)\n",
    "\n",
    "print(vwl(\"hanze Hogeschool\"))"
   ]
  },
  {
   "cell_type": "markdown",
   "metadata": {},
   "source": [
    "Een ander voorbeeld, tel het aantal elementen in de list `L` die gelijk is aan `e`."
   ]
  },
  {
   "cell_type": "code",
   "execution_count": 47,
   "metadata": {},
   "outputs": [
    {
     "name": "stdout",
     "output_type": "stream",
     "text": [
      "3\n"
     ]
    }
   ],
   "source": [
    "def count(e, L):\n",
    "    \"\"\"Tel het aantal e in L\n",
    "    \"\"\"\n",
    "    LC = [1 for x in L if x == e]\n",
    "    return sum(LC)\n",
    "\n",
    "print(count(\"o\", \"hanze Hogeschool\"))"
   ]
  },
  {
   "cell_type": "markdown",
   "metadata": {},
   "source": [
    "### Oneliners"
   ]
  },
  {
   "cell_type": "markdown",
   "metadata": {},
   "source": [
    "```python\n",
    "def len(L):\n",
    "    LC = [1 for x in L]\n",
    "    return sum(LC)\n",
    "```"
   ]
  },
  {
   "cell_type": "markdown",
   "metadata": {},
   "source": [
    "```python\n",
    "def len(L):\n",
    "    return sum([1 for x in L])\n",
    "```"
   ]
  },
  {
   "cell_type": "markdown",
   "metadata": {},
   "source": [
    "List comprehesion maakt het mogelijk om met een heel compacte syntax oplossingen te schrijven. Bedenk wel dat dit niet altijd de leesbaarheid ten goede komt en het is geen probleem om het in stukjes uit te schrijven, bijvoorbeeld door het gebruik van een variabele (`LC` in de eerste variant)."
   ]
  },
  {
   "cell_type": "markdown",
   "metadata": {},
   "source": [
    "## Opdrachten"
   ]
  },
  {
   "cell_type": "markdown",
   "metadata": {},
   "source": [
    "### Opdracht 1\n",
    "Wat is het resultaat van de volgende list comprehensions"
   ]
  },
  {
   "cell_type": "markdown",
   "metadata": {},
   "source": [
    "#### Vraag 1\n",
    "\n",
    "```python\n",
    "[n ** 2 for n in range(0, 5)]\n",
    "```"
   ]
  },
  {
   "cell_type": "markdown",
   "metadata": {},
   "source": [
    "#### Vraag 2\n",
    "\n",
    "```python\n",
    "[42 for z in [0, 1, 2]]\n",
    "```"
   ]
  },
  {
   "cell_type": "markdown",
   "metadata": {},
   "source": [
    "#### Vraag 3\n",
    "\n",
    "```python\n",
    "[z for z in [0, 1, 2]]\n",
    "```"
   ]
  },
  {
   "cell_type": "markdown",
   "metadata": {},
   "source": [
    "#### Vraag 4\n",
    "\n",
    "```python\n",
    "[s[1::2] for s in [\"elk\", \"ook\", \"vlo\"]]\n",
    "```"
   ]
  },
  {
   "cell_type": "markdown",
   "metadata": {},
   "source": [
    "#### Vraag 5\n",
    "```python\n",
    "[a * (a - 1) for a in range(8) if a % 2 == 1]\n",
    "```"
   ]
  },
  {
   "cell_type": "markdown",
   "metadata": {},
   "source": [
    "### Opdracht 2"
   ]
  },
  {
   "cell_type": "markdown",
   "metadata": {},
   "source": [
    "Maak de listcomprehension af zodat de functie `nodds(L)` voldoet aan de volgende eisen:\n",
    "\n",
    "- input: `L`, een list met getallen\n",
    "- output: het aantal **oneven** getallen in `L`\n",
    "\n",
    "Voorbeeld:\n",
    "\n",
    "```python\n",
    "nodds([3, 4, 5, 7, 42]) == 3\n",
    "```"
   ]
  },
  {
   "cell_type": "code",
   "execution_count": null,
   "metadata": {},
   "outputs": [],
   "source": [
    "def nodds(L):\n",
    "    LC = [... for ... in L ...]\n",
    "    return sum(LC)"
   ]
  },
  {
   "cell_type": "markdown",
   "metadata": {},
   "source": [
    "### Opdracht 3"
   ]
  },
  {
   "cell_type": "markdown",
   "metadata": {},
   "source": [
    "#### Scrabble score"
   ]
  },
  {
   "cell_type": "markdown",
   "metadata": {},
   "source": [
    "We gaan een functie schrijven dat de srabble score van een woord kan berekenen. "
   ]
  },
  {
   "cell_type": "markdown",
   "metadata": {},
   "source": [
    "Gegeven de functie `letter_score(s)` dat voor de letter `s` de score teruggeeft."
   ]
  },
  {
   "cell_type": "code",
   "execution_count": null,
   "metadata": {},
   "outputs": [],
   "source": [
    "def letter_score(s):\n",
    "    \"\"\"Scrabble letter score\n",
    "    \"\"\"\n",
    "    if s in \"adeinorst\":\n",
    "        return 1\n",
    "    elif s in \"ghl\":\n",
    "        return 2\n",
    "    elif s in \"bcmp\":\n",
    "        return 3\n",
    "    elif s in \"jkuvw\":\n",
    "        return 4\n",
    "    elif s == \"f\":\n",
    "        return 5\n",
    "    elif s == \"z\":\n",
    "        return 6\n",
    "    elif s in \"xy\":\n",
    "        return 8\n",
    "    elif s == \"q\":\n",
    "        return 10\n",
    "    else:\n",
    "        return 0"
   ]
  },
  {
   "cell_type": "markdown",
   "metadata": {},
   "source": [
    "Maak de listcomprehension af in de onderstaande functie `Scrabble_score(s)` dat de score van de string `S` kan uitrekenen. Je mag ervan uitgaan dat `S` enkel bestaat uit kleine letters. "
   ]
  },
  {
   "cell_type": "code",
   "execution_count": null,
   "metadata": {},
   "outputs": [],
   "source": [
    "def scrabble_score(S):\n",
    "    LC = [... for ... in ...]  #\n",
    "    return sum(LC)"
   ]
  },
  {
   "cell_type": "markdown",
   "metadata": {},
   "source": [
    "### Opdracht 4"
   ]
  },
  {
   "cell_type": "markdown",
   "metadata": {},
   "source": [
    "Maak de listcomprehension af zodat de functie `ndivs(N)` voldoet aan de volgende eisen:\n",
    "\n",
    "- input: `N`, een integer >= 2\n",
    "- output: het aantal positieve delers van `N`\n",
    "\n",
    "Voorbeeld:\n",
    "\n",
    "```python\n",
    "ndivs(12) == 6\n",
    "```\n",
    "\n",
    "(de positieve delers van 12 zijn `[1, 2, 3, 4, 6, 12]`)\n",
    "\n",
    "Tip: gebruik `range` om een reeks getallen van 1 *tot en met* `N` te genereren"
   ]
  },
  {
   "cell_type": "code",
   "execution_count": null,
   "metadata": {},
   "outputs": [],
   "source": [
    "def ndivs(N):\n",
    "    LC = [... for ... in ... if ...]\n",
    "    return sum(LC)"
   ]
  },
  {
   "cell_type": "markdown",
   "metadata": {},
   "source": [
    "### Opdracht 5"
   ]
  },
  {
   "cell_type": "markdown",
   "metadata": {},
   "source": [
    "Een uitdaging!\n",
    "\n",
    "Maak de listcomprehension af zodat de functie `primes_up_to(N)` voldoet aan de volgende eisen:\n",
    "\n",
    "- input: `P` een integer >= 2\n",
    "- output: de lijst van priemgetallen tot en met `P`\n",
    "\n",
    "Voorbeeld:\n",
    "\n",
    "```python\n",
    "primes_up_to(12) == [2, 3, 5, 7, 11]\n",
    "```"
   ]
  },
  {
   "cell_type": "markdown",
   "metadata": {},
   "source": [
    "Ter herinnering, een priemgetal is een heel getal dat precies door twee getallen kan worden gedeeld en waarmee je met de deling een heel getal overhoudt. Een priemgetal is altijd deelbaar door 1 en deelbaar door zichzelf.\n",
    "\n",
    "Bijvoorbeeld het getal 5 heeft precies 2 delers, namelijk 1 en 5. Het getal 4 is geen priemgetal, 4 heeft namelijk 3 delers (1, 2 en 4). "
   ]
  },
  {
   "cell_type": "code",
   "execution_count": null,
   "metadata": {},
   "outputs": [],
   "source": [
    "def primes_up_to(P):\n",
    "    LC = [... for ... in ... if ...]\n",
    "    return LC"
   ]
  },
  {
   "cell_type": "markdown",
   "metadata": {},
   "source": [
    "Tip: je kan in de conditie de functie `ndivs` gebruiken als in `ndivs(x) == 2`."
   ]
  }
 ],
 "metadata": {
  "kernelspec": {
   "display_name": "Python 3",
   "language": "python",
   "name": "python3"
  },
  "language_info": {
   "codemirror_mode": {
    "name": "ipython",
    "version": 3
   },
   "file_extension": ".py",
   "mimetype": "text/x-python",
   "name": "python",
   "nbconvert_exporter": "python",
   "pygments_lexer": "ipython3",
   "version": "3.11.2"
  }
 },
 "nbformat": 4,
 "nbformat_minor": 2
}
