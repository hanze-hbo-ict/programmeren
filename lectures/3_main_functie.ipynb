{
 "cells": [
  {
   "attachments": {},
   "cell_type": "markdown",
   "metadata": {},
   "source": [
    "# Main functie"
   ]
  },
  {
   "cell_type": "markdown",
   "metadata": {
    "slideshow": {
     "slide_type": "slide"
    }
   },
   "source": [
    "## Quiz"
   ]
  },
  {
   "cell_type": "markdown",
   "metadata": {
    "slideshow": {
     "slide_type": "subslide"
    }
   },
   "source": [
    "### Vraag\n",
    "\n",
    "Functies kunnen andere functies aanroepen!\n",
    "\n",
    "```python\n",
    "def demo(x):\n",
    "    y = x / 3\n",
    "    z = g(y)\n",
    "    return z + y + x\n",
    "\n",
    "def g(x):\n",
    "    result = 4*x + 2\n",
    "    return result\n",
    "```\n",
    "\n",
    "Wat is het resultaat van `demo(15)`?"
   ]
  },
  {
   "cell_type": "markdown",
   "metadata": {
    "slideshow": {
     "slide_type": "notes"
    }
   },
   "source": [
    "Probeer regel voor regel het programma zelf te volgen om tot het antwoord te komen!\n",
    "\n",
    "Bedenk dat `demo` pas een antwoord (een returnwaarde) kan geven nadat het een antwoord van `g` heeft ontvangen. Hier onstaat dus een kleine *wachtrij*, waar de ene functie op de ander moet wachten voordat het weer verder kan. Hoe deze wachtrij in een computer werkt ga je zo zien wanneer we het gaan hebben over de *stack*."
   ]
  },
  {
   "cell_type": "markdown",
   "metadata": {
    "slideshow": {
     "slide_type": "fragment"
    }
   },
   "source": [
    "### Antwoord\n",
    "\n",
    "42.0"
   ]
  },
  {
   "cell_type": "markdown",
   "metadata": {
    "slideshow": {
     "slide_type": "slide"
    }
   },
   "source": [
    "## Hoe functies werken\n",
    "\n",
    "Hoe functies worden uitgevoerd: ze stapelen!"
   ]
  },
  {
   "cell_type": "markdown",
   "metadata": {
    "slideshow": {
     "slide_type": "notes"
    }
   },
   "source": [
    "Python gebruikt speciaal deel van het geheugen dat de *stack* wordt genoemd waar het voor elke functie de *variabelen* een bijbehorende *waarden* in een *frame* zet (een *stack frame*). Op deze manier stapelen de frames zich op in de stack, traditioneel van onderen naar boven (onhandig als het om een stapel borden zou gaan!)."
   ]
  },
  {
   "attachments": {},
   "cell_type": "markdown",
   "metadata": {
    "slideshow": {
     "slide_type": "subslide"
    }
   },
   "source": [
    "![frame test](images/3/q1/prob_1_step_1a.png)"
   ]
  },
  {
   "cell_type": "markdown",
   "metadata": {
    "slideshow": {
     "slide_type": "notes"
    }
   },
   "source": [
    "Je herkent hier de vraag van de quiz die we stap voor stap gaan doorlopen. Rechts van de code zie je de stack waar de frames worden geplaatst."
   ]
  },
  {
   "attachments": {},
   "cell_type": "markdown",
   "metadata": {
    "slideshow": {
     "slide_type": "subslide"
    }
   },
   "source": [
    "![frame test](images/3/q1/prob_1_step_3.png)"
   ]
  },
  {
   "attachments": {},
   "cell_type": "markdown",
   "metadata": {
    "slideshow": {
     "slide_type": "notes"
    }
   },
   "source": [
    "Het programma is nu ingelezen door Python en het eerste (algemene) frame is gezet, dit zijn de namen van de functies (dit zijn uiteindelijk ook variabelen) en een verwijzing naar waar de functies in het geheugen zijn opgeslagen. Dit is overigens een meer algemeen type geheugen dat de *heap* wordt genoemd. Functies moeten eerst geladen zijn voordat ze aangeroepen kunnen worden. Volgorde is dus belangrijk!"
   ]
  },
  {
   "attachments": {},
   "cell_type": "markdown",
   "metadata": {
    "slideshow": {
     "slide_type": "subslide"
    }
   },
   "source": [
    "![frame test](images/3/q1/prob_1_step_6.png)"
   ]
  },
  {
   "cell_type": "markdown",
   "metadata": {
    "slideshow": {
     "slide_type": "notes"
    }
   },
   "source": [
    "De frame voor de aanroep van `demo` is nu toegevoegd met de variabelen `x` (de waarde die als parameter is meegegeven) en `y`. Maar wat nu te doen met de variabele `z`? De waarde van `z` is pas bekend als de functie `g(y)` een resultaat teruggeeft ... Python plaatst nu een nieuw frame op de stack van precies deze aanroep."
   ]
  },
  {
   "attachments": {},
   "cell_type": "markdown",
   "metadata": {
    "slideshow": {
     "slide_type": "subslide"
    }
   },
   "source": [
    "![frame test](images/3/q1/prob_1_step_9.png)"
   ]
  },
  {
   "cell_type": "markdown",
   "metadata": {
    "slideshow": {
     "slide_type": "notes"
    }
   },
   "source": [
    "In dit derde frame worden ook de variabelen gezet die horen bij de aanroep van `g(5.0)` en het resultaat zal worden teruggegeven."
   ]
  },
  {
   "attachments": {},
   "cell_type": "markdown",
   "metadata": {
    "slideshow": {
     "slide_type": "subslide"
    }
   },
   "source": [
    "![frame test](images/3/q1/prob_1_step_10a.png)\n"
   ]
  },
  {
   "cell_type": "markdown",
   "metadata": {
    "slideshow": {
     "slide_type": "notes"
    }
   },
   "source": [
    "`z` is nog niet zichtbaar in het tweede frame (voor de duidelijkheid is dit weggelaten) maar het is er zeker wel als een verwijzing aanwezig naar het de returnwaarde van het volgende frame!"
   ]
  },
  {
   "attachments": {},
   "cell_type": "markdown",
   "metadata": {
    "slideshow": {
     "slide_type": "subslide"
    }
   },
   "source": [
    "![frame test](images/3/q1/prob_1_step_11.png)"
   ]
  },
  {
   "cell_type": "markdown",
   "metadata": {
    "slideshow": {
     "slide_type": "notes"
    }
   },
   "source": [
    "Het resultaat van het derde frame wordt gezet als waarde van `z` van het tweede frame en het derde frame wordt vervolgens van de stack verwijderd."
   ]
  },
  {
   "attachments": {},
   "cell_type": "markdown",
   "metadata": {
    "slideshow": {
     "slide_type": "subslide"
    }
   },
   "source": [
    "![frame test](images/3/q1/prob_1_step_12.png)"
   ]
  },
  {
   "cell_type": "markdown",
   "metadata": {
    "slideshow": {
     "slide_type": "notes"
    }
   },
   "source": [
    "Tot slot geeft het tweede frame de returnwaarde terug aan het eerste frame en zal het vervolgens ook van de stack worden verwijderd. Het programma is nu beeindigd en wordt ook het eerste frame van de stack verwijderd zodat we weer terug zijn bij de beginsituatie.\n",
    "\n",
    "Let op, je ziet dat variabele `x` type `int` en `y` en `z` type `float` (decimale getallen) zijn. Python zal altijd kiezen voor het type met de hoogste precisie als type voor het resultaat als het gaat om numerieke waarden (in dit geval de optelling van verschillende typen)."
   ]
  },
  {
   "attachments": {},
   "cell_type": "markdown",
   "metadata": {},
   "source": [
    "Functies kunnen gebruikt worden om code overzichtelijker te maken. Daarnaast zijn funcies herbruikbaar. Ze kunnen zo vaak als we willen aangeroepem worden en zelft hergebruikt worden in andere programma's"
   ]
  },
  {
   "attachments": {},
   "cell_type": "markdown",
   "metadata": {},
   "source": [
    "Een belangrijk functie om code overzichtelijk te houden is de main functie. Onthoud dat een functie eerst geladen moet worden voordat het uitgevoerd kan worden. "
   ]
  },
  {
   "attachments": {},
   "cell_type": "markdown",
   "metadata": {},
   "source": [
    "```python\n",
    "\n",
    "flipside(\"automaat\")\n",
    "flipside(\"huiswerk\")\n",
    "flipside(\"studiemaatje\")\n",
    "\n",
    "def flipside(s):\n",
    "    \"\"\" flipside(s): spiegel s!\n",
    "    input s: een string\n",
    "    \"\"\"\n",
    "    x = len(s) // 2\n",
    "    return s[x:] + s[:x]\n",
    "```"
   ]
  },
  {
   "attachments": {},
   "cell_type": "markdown",
   "metadata": {},
   "source": [
    "Bovenstaande code gaat dus niet werken, gezien de functie aanroepen worden gedaan voordat de functie is gedeclareerd. De functie is dus nog niet geladen in het geheugen. Dit geeft een zogenaamde NameError. \n",
    "\n",
    "`NameError name 'flipside' is not defined`\n",
    "\n",
    "Deze error krijg je ook als je probeert een variabele te gebruiken dat nog niet bestaat. "
   ]
  },
  {
   "attachments": {},
   "cell_type": "markdown",
   "metadata": {},
   "source": [
    "```python\n",
    "\n",
    "def flipside(s):\n",
    "    \"\"\" flipside(s): spiegel s!\n",
    "    input s: een string\n",
    "    \"\"\"\n",
    "    x = len(s) // 2\n",
    "    return s[x:] + s[:x]\n",
    "\n",
    "print(flipside(\"automaat\"))\n",
    "print(flipside(\"huiswerk\"))\n",
    "print(flipside(\"studiemaatje\"))\n",
    "```"
   ]
  },
  {
   "attachments": {},
   "cell_type": "markdown",
   "metadata": {},
   "source": [
    "De functie aanroep moet dus onder de functie zelf staan. Dit geeft wel het nadeel dat als je een heel lang programma hebt met meerdere functies dat de start van het programma helemaal onderaan komt te staan. Dit is niet prettig, daarom gebruiken veel python programmeurs een zogenaamde main functie die helemaal bovenaan komt te staan. In de main functie wordt het programma aangestuurd. "
   ]
  },
  {
   "attachments": {},
   "cell_type": "markdown",
   "metadata": {},
   "source": [
    "```python\n",
    "\n",
    "def main():\n",
    "    print(flipside(\"automaat\"))\n",
    "    print(flipside(\"huiswerk\"))\n",
    "    print(flipside(\"studiemaatje\"))\n",
    "\n",
    "def flipside(s):\n",
    "    \"\"\" flipside(s): spiegel s!\n",
    "    input s: een string\n",
    "    \"\"\"\n",
    "    x = len(s) // 2\n",
    "    return s[x:] + s[:x]\n",
    "\n",
    "main()\n",
    "```"
   ]
  },
  {
   "attachments": {},
   "cell_type": "markdown",
   "metadata": {},
   "source": [
    "Alle functies worden dus eerst geladen, daarna wordt de main functie aangeroepen. De main functie zorgt er voor dat de juiste functies worden aangeroepen en dat het gewenste resultaat wordt geprint."
   ]
  },
  {
   "attachments": {},
   "cell_type": "markdown",
   "metadata": {},
   "source": [
    "### Assertions"
   ]
  },
  {
   "attachments": {},
   "cell_type": "markdown",
   "metadata": {},
   "source": [
    "Inplaats van zelf de antwoorden te controleren kunnen we Python de antwoorden laten checken. Dit kunnen we doen met behulp van assertions."
   ]
  },
  {
   "attachments": {},
   "cell_type": "markdown",
   "metadata": {
    "slideshow": {
     "slide_type": "notes"
    }
   },
   "source": [
    "Voeg `assert` statements toe, waar *assert* een aanname betekent. Bijvoorbeeld, lees\n",
    "\n",
    "```python\n",
    "assert flipside('huiswerk') == 'werkhuis'\n",
    "```\n",
    "\n",
    "als \"neem aan dat het resultaat van de aanroep `flipside('huiswerk')` gelijk is aan de string `'werkhuis'`\". Als de aanname fout is (en het verwachte antwoord dus niet klopt) dan geeft Python dit aan. Als er geen fouten zijn meld Python niks. "
   ]
  },
  {
   "attachments": {},
   "cell_type": "markdown",
   "metadata": {},
   "source": [
    "```python\n",
    "\n",
    "def main():\n",
    "    assert flipside('huiswerk') == 'werkhuis'\n",
    "    assert flipside('automaat') == 'maatauto'\n",
    "    assert flipside('studiemaatje') == 'maatjestudie'\n",
    "\n",
    "def flipside(s):\n",
    "    \"\"\" flipside(s): spiegel s!\n",
    "    input s: een string\n",
    "    \"\"\"\n",
    "    x = len(s) // 2\n",
    "    return s[x:] + s[:x]\n",
    "\n",
    "main()\n",
    "```"
   ]
  }
 ],
 "metadata": {
  "kernelspec": {
   "display_name": "Python 3 (ipykernel)",
   "language": "python",
   "name": "python3"
  },
  "language_info": {
   "codemirror_mode": {
    "name": "ipython",
    "version": 3
   },
   "file_extension": ".py",
   "mimetype": "text/x-python",
   "name": "python",
   "nbconvert_exporter": "python",
   "pygments_lexer": "ipython3",
   "version": "3.9.5"
  }
 },
 "nbformat": 4,
 "nbformat_minor": 4
}
