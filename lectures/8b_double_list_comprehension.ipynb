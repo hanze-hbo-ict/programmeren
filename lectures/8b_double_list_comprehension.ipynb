{
 "cells": [
  {
   "cell_type": "markdown",
   "metadata": {},
   "source": [
    "# LoL's comprehension"
   ]
  },
  {
   "cell_type": "markdown",
   "metadata": {},
   "source": [
    "List comprehension kunnen ook gebruikt worden met meer dan 1 lijst."
   ]
  },
  {
   "cell_type": "markdown",
   "metadata": {},
   "source": [
    "## Zelfde waarden in twee lijsten"
   ]
  },
  {
   "cell_type": "markdown",
   "metadata": {},
   "source": [
    "- input: `Y` en `W`, twee lijsten met \"loterij\" getallen (integers)\n",
    "- output: de getallen in `Y` dat ook in `W` voorkomt\n",
    "\n",
    "Voorbeeld:\n",
    "\n",
    "```python\n",
    "lingo([5, 7, 42, 47], [3, 4, 5, 7, 44, 47]) == 3\n",
    "```"
   ]
  },
  {
   "cell_type": "code",
   "execution_count": null,
   "metadata": {},
   "outputs": [],
   "source": [
    "def same_numbers(Y, W):\n",
    "    LC = [x for x in Y if x in W]\n",
    "    return LC"
   ]
  },
  {
   "cell_type": "markdown",
   "metadata": {},
   "source": [
    "Met een kleine aanpassing kunnen we ook tellen hoeveel getallen in `Y` ook voorkomt in `W`. "
   ]
  },
  {
   "cell_type": "code",
   "execution_count": null,
   "metadata": {},
   "outputs": [],
   "source": [
    "def lingo(Y, W):\n",
    "    LC = [1 for x in Y if x in W]\n",
    "    return sum(LC)"
   ]
  },
  {
   "cell_type": "markdown",
   "metadata": {},
   "source": [
    "## Paar gewijs optellen"
   ]
  },
  {
   "cell_type": "markdown",
   "metadata": {},
   "source": [
    "- input: `Y` en `W`, twee lijsten met evenveel getallen (integers)\n",
    "- output: De elementen zijn paarsgewijs bij elkaar opgeteld. Met andere woorden. [Y[0] + W[0], Y[1]+W[1], ...]\n",
    "\n",
    "Voorbeeld:\n",
    "\n",
    "```python\n",
    "pairwise([1, 2, 3, 4], [5, 6, 7, 8]) == [6, 8, 10, 12]\n",
    "```"
   ]
  },
  {
   "cell_type": "code",
   "execution_count": 6,
   "metadata": {},
   "outputs": [
    {
     "name": "stdout",
     "output_type": "stream",
     "text": [
      "[6, 8, 10, 12]\n"
     ]
    }
   ],
   "source": [
    "def pairwise(Y, W):\n",
    "    LC = [Y[i] + W[i] for i in range(0, len(Y))]\n",
    "    return LC\n",
    "\n",
    "print(pairwise([1, 2, 3, 4], [5, 6, 7, 8]) )"
   ]
  },
  {
   "cell_type": "markdown",
   "metadata": {},
   "source": [
    "## Tweedimensionale arrays"
   ]
  },
  {
   "cell_type": "markdown",
   "metadata": {},
   "source": [
    "Zijn overal! (en zijn `LoL`'s)"
   ]
  },
  {
   "cell_type": "code",
   "execution_count": 2,
   "metadata": {},
   "outputs": [],
   "source": [
    "def mul_table(n):\n",
    "    \"\"\"Returns a multiplication table for n\n",
    "    \"\"\"\n",
    "    return [[x * y for x in range(1, n + 1)] for y in range(1, n + 1)]"
   ]
  },
  {
   "cell_type": "markdown",
   "metadata": {},
   "source": [
    "Voor alle `y` in de range van `1` tot `n+1` wordt \n",
    "```python \n",
    "[x * y for x in range(1, n + 1)] \n",
    "``` \n",
    "uitgevoerd. Het wordt dus `n` keer uitgevoerd en dit creeert `n` lijsten binnen de list `rn`. Dit creëert dus een LoL. \n"
   ]
  },
  {
   "cell_type": "code",
   "execution_count": 3,
   "metadata": {},
   "outputs": [
    {
     "data": {
      "text/plain": [
       "[[1, 2, 3, 4, 5],\n",
       " [2, 4, 6, 8, 10],\n",
       " [3, 6, 9, 12, 15],\n",
       " [4, 8, 12, 16, 20],\n",
       " [5, 10, 15, 20, 25]]"
      ]
     },
     "execution_count": 3,
     "metadata": {},
     "output_type": "execute_result"
    }
   ],
   "source": [
    "mul_table(5)"
   ]
  },
  {
   "cell_type": "code",
   "execution_count": null,
   "metadata": {},
   "outputs": [],
   "source": [
    "def mul_table(n):\n",
    "    \"\"\"Returns a multiplication table for n\n",
    "    \"\"\"\n",
    "    table = []                     # start with an empty table\n",
    "    \n",
    "    for y in range(1, n + 1):      # for every row in this table ...\n",
    "        row = []                   # start with an empty row\n",
    "        \n",
    "        for x in range(1, n + 1):  # for every column in this row ...\n",
    "            row += [x * y]         # add the column value to the row\n",
    "            \n",
    "        table += [row]             # add the row to the table\n",
    "        \n",
    "    return table                   # return table"
   ]
  },
  {
   "cell_type": "markdown",
   "metadata": {},
   "source": [
    "Gegeven een LoL"
   ]
  },
  {
   "cell_type": "code",
   "execution_count": 7,
   "metadata": {},
   "outputs": [],
   "source": [
    "L = [\n",
    "    [3, 2, 6, 8],\n",
    "    [9, 2, 5, 7],\n",
    "    [0, 3, 2, 3],\n",
    "    [1, 2, 3, 4]\n",
    "]"
   ]
  },
  {
   "cell_type": "markdown",
   "metadata": {},
   "source": [
    "Wat als we willen tellen hoeveel getallen er in de LoL zijn."
   ]
  },
  {
   "cell_type": "code",
   "execution_count": null,
   "metadata": {},
   "outputs": [],
   "source": [
    "def sum_2D(lol):\n",
    "    LC = [len(row) for row in lol]\n",
    "    return sum(LC)\n",
    "\n",
    "print(sum_2D(L))"
   ]
  },
  {
   "cell_type": "markdown",
   "metadata": {},
   "source": [
    "De expressie mag dus een lijst bevatten. `for row in lol` gaat elke rij langs en `len(row)` telt hoeveel elementen er in de rij staan. `sum(LC)` telt vervolgens alle lengtes van alle rijen bij elkaar op. "
   ]
  },
  {
   "cell_type": "markdown",
   "metadata": {},
   "source": [
    "Nu willen we alle getallen in de LoL verdubbelen. "
   ]
  },
  {
   "cell_type": "code",
   "execution_count": 10,
   "metadata": {},
   "outputs": [
    {
     "name": "stdout",
     "output_type": "stream",
     "text": [
      "[[6, 4, 12, 16], [18, 4, 10, 14], [0, 6, 4, 6], [2, 4, 6, 8]]\n"
     ]
    }
   ],
   "source": [
    "def double(lol):\n",
    "    LC = [[x * 2 for x in row] for row in lol]\n",
    "    return LC\n",
    "\n",
    "print(double(L))"
   ]
  },
  {
   "cell_type": "markdown",
   "metadata": {},
   "source": [
    "`for row in lol` gaat elke rij af in de LoL.  \n",
    "`[x * 2 for x in row]` gaat elk element af binnen de gegeven rij en verdubbelt deze. Zo worden dus alle elementen per rij verdubbelt."
   ]
  },
  {
   "cell_type": "markdown",
   "metadata": {},
   "source": [
    "Op deze manier kunnen we ook afbeeldingen bewerken. \n",
    "Ter herinnering, een afbeelding bestaat uit rijen met pixels"
   ]
  },
  {
   "cell_type": "markdown",
   "metadata": {},
   "source": [
    "```python\n",
    "afbeelding = [\n",
    "    [[r, g, b], [r, g, b], [r, g, b], ...]\n",
    "    [[r, g, b], [r, g, b], [r, g, b], ...]\n",
    "    [[r, g, b], [r, g, b], [r, g, b], ...]\n",
    "    ...\n",
    "]\n",
    "```"
   ]
  },
  {
   "cell_type": "markdown",
   "metadata": {},
   "source": [
    "We zouden dus elke pixel kunnen bewerken met behulp van een List comprehension. "
   ]
  },
  {
   "cell_type": "markdown",
   "metadata": {},
   "source": [
    "```python\n",
    "LC = [[change(pix) for pix in row] for row in afbeelding] \n",
    "```"
   ]
  },
  {
   "cell_type": "markdown",
   "metadata": {},
   "source": [
    "## Opdrachten"
   ]
  },
  {
   "cell_type": "markdown",
   "metadata": {},
   "source": [
    "### Opdracht 1\n",
    "In het werkcollege van week 6, Fraaie plaatjes, gebruikte we for loops om alle pixels binnen een afbeelding aan te passen"
   ]
  },
  {
   "cell_type": "markdown",
   "metadata": {},
   "source": [
    "```python\n",
    "def invert():\n",
    "    \"\"\" run this function to read in the in.png image,\n",
    "        change it, and write out the result to out.png\n",
    "    \"\"\"\n",
    "    im_pix = get_rgb('in.png')  # lees het bestand in.png in\n",
    "    print(\"De eerste twee pixels van de eerste rij zijn\", im_pix[0][0:2])\n",
    "    #\n",
    "    # Onthoud dat im_pix een lijst (de afbeelding) van\n",
    "    # lijsten (elke rij) van lijsten (elke pixel is [R,G,B]) is\n",
    "    #\n",
    "    new_pix = []\n",
    "    for row in im_pix:\n",
    "        new_row=[]\n",
    "        for pixel in row:\n",
    "            new_pixel = change(pixel)\n",
    "            new_row+= [new_pixel]\n",
    "        new_pix += [new_row]\n",
    "    # sla nu het bestand 'out.png' op\n",
    "    save_rgb(new_pix, 'out.png')\n",
    "```"
   ]
  },
  {
   "cell_type": "markdown",
   "metadata": {},
   "source": [
    "Vervang de nested loops met een list comprehension zodanig dat alle pixels worden aangepast met behulp van de functie `change(pixel)`"
   ]
  },
  {
   "cell_type": "markdown",
   "metadata": {},
   "source": [
    "### Opdracht 2"
   ]
  },
  {
   "cell_type": "markdown",
   "metadata": {},
   "source": [
    "- input: row en colums, waarbij row aangeeft hoeveel rijen er zijn en colums hoe lang de rijen moeten zijn. \n",
    "- output: een LoL met `row` aantal list van `colums` lang gevuld met 0-en. "
   ]
  },
  {
   "cell_type": "markdown",
   "metadata": {},
   "source": [
    "Input: empty_board(5, 3):  \n",
    "output:   \n",
    "[[0,0,0]   \n",
    "    [0,0,0]  \n",
    "    [0,0,0]   \n",
    "    [0,0,0]  \n",
    "    [0,0,0]]  "
   ]
  },
  {
   "cell_type": "markdown",
   "metadata": {},
   "source": [
    "### Opdracht 3"
   ]
  },
  {
   "cell_type": "markdown",
   "metadata": {},
   "source": [
    "- input: Een LoL \n",
    "- output: Een LoL waarbij alle oneven getallen zijn verwijderd. "
   ]
  },
  {
   "cell_type": "markdown",
   "metadata": {},
   "source": [
    "In: [[2,3,4][4,5,6][6,7,8]]  \n",
    "Out: [[2,4][4,6][6,8]]"
   ]
  }
 ],
 "metadata": {
  "kernelspec": {
   "display_name": "Python 3",
   "language": "python",
   "name": "python3"
  },
  "language_info": {
   "codemirror_mode": {
    "name": "ipython",
    "version": 3
   },
   "file_extension": ".py",
   "mimetype": "text/x-python",
   "name": "python",
   "nbconvert_exporter": "python",
   "pygments_lexer": "ipython3",
   "version": "3.11.2"
  }
 },
 "nbformat": 4,
 "nbformat_minor": 2
}
