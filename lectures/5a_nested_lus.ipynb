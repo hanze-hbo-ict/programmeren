{
 "cells": [
  {
   "cell_type": "markdown",
   "metadata": {},
   "source": [
    "# Nested lussen"
   ]
  },
  {
   "cell_type": "markdown",
   "metadata": {},
   "source": [
    "## Eendimensionale lists"
   ]
  },
  {
   "cell_type": "code",
   "execution_count": null,
   "metadata": {},
   "outputs": [],
   "source": [
    "scores = [88, 82, 91, 79, 83, 79, 86, 92, 77, 88, 93, 82, 85, 86, 92, 79]"
   ]
  },
  {
   "cell_type": "code",
   "execution_count": null,
   "metadata": {},
   "outputs": [],
   "source": [
    "def compute_sum(L):\n",
    "    sum_values = 0\n",
    "    for i in range(len(L)):\n",
    "        sum_values += L[i]\n",
    "    return sum_values"
   ]
  },
  {
   "cell_type": "code",
   "execution_count": null,
   "metadata": {},
   "outputs": [],
   "source": [
    "def compute_avg(L):\n",
    "    sum_list = compute_sum(L)\n",
    "    return sum_list / len(L)"
   ]
  },
  {
   "cell_type": "code",
   "execution_count": null,
   "metadata": {},
   "outputs": [
    {
     "data": {
      "text/plain": [
       "85.125"
      ]
     },
     "metadata": {},
     "output_type": "display_data"
    }
   ],
   "source": [
    "compute_avg(scores)"
   ]
  },
  {
   "cell_type": "markdown",
   "metadata": {},
   "source": [
    "## Tweedimensionale lists\n",
    "\n",
    "Zijn overal en worden ook wel list of lists (LoL) genoemd. "
   ]
  },
  {
   "cell_type": "markdown",
   "metadata": {},
   "source": [
    "![Scores](images/5/score_sheet.png)"
   ]
  },
  {
   "cell_type": "markdown",
   "metadata": {},
   "source": [
    "Denk bijvoorbeeld aan spreadsheets ..."
   ]
  },
  {
   "cell_type": "markdown",
   "metadata": {},
   "source": [
    "```python\n",
    "[\n",
    "    [\"Naam\", \"Vraag 1\", \"Vraag 2\", \"Vraag 3\", \"Vraag 4\"],\n",
    "    [\"Peter Been\", 88, 82, 91, 79],\n",
    "    [\"Jasper Klein\", 83, 79, 86, 92],\n",
    "    [\"Linda Buitendijk\", 77, 88, 93, 82],\n",
    "    [\"Myrthe Zomer\", 85, 86, 92, 79]\n",
    "]\n",
    "```"
   ]
  },
  {
   "cell_type": "markdown",
   "metadata": {},
   "source": [
    "### `while True`\n",
    "\n",
    "![Nyan Cat](images/5/nyan_cat.gif)"
   ]
  },
  {
   "cell_type": "markdown",
   "metadata": {},
   "source": [
    "Of natuurlijk [afbeeldingen](http://www.nyan.cat)! Deze bestaan voornamelijk uit lijsten van pixels"
   ]
  },
  {
   "cell_type": "markdown",
   "metadata": {},
   "source": [
    "```python\n",
    "[\n",
    "    [[255, 255, 255], [255, 255, 255]],\n",
    "    [[0, 0, 0], [0, 0, 0]],\n",
    "    [[255, 255, 255], [255, 255, 255]],\n",
    "    [[0, 0, 0], [0, 0, 0]]\n",
    "]\n",
    "```"
   ]
  },
  {
   "cell_type": "markdown",
   "metadata": {},
   "source": [
    "### Indices"
   ]
  },
  {
   "cell_type": "markdown",
   "metadata": {},
   "source": [
    "![2D indices](images/5/ex_1a.png)"
   ]
  },
  {
   "cell_type": "code",
   "execution_count": null,
   "metadata": {},
   "outputs": [],
   "source": [
    "L = [\n",
    "    [3, 2, 6, 8],\n",
    "    [9, 2, 5, 7],\n",
    "    [0, 3, 2, 3],\n",
    "    [1, 2, 3, 4]\n",
    "]"
   ]
  },
  {
   "cell_type": "code",
   "execution_count": null,
   "metadata": {},
   "outputs": [
    {
     "data": {
      "text/plain": [
       "[1, 2, 3, 4]"
      ]
     },
     "metadata": {},
     "output_type": "display_data"
    }
   ],
   "source": [
    "L[3]"
   ]
  },
  {
   "cell_type": "code",
   "execution_count": null,
   "metadata": {},
   "outputs": [
    {
     "data": {
      "text/plain": [
       "4"
      ]
     },
     "metadata": {},
     "output_type": "display_data"
    }
   ],
   "source": [
    "L[3][3]"
   ]
  },
  {
   "cell_type": "code",
   "execution_count": null,
   "metadata": {},
   "outputs": [
    {
     "data": {
      "text/plain": [
       "4"
      ]
     },
     "metadata": {},
     "output_type": "display_data"
    }
   ],
   "source": [
    "L[3][3]"
   ]
  },
  {
   "cell_type": "markdown",
   "metadata": {},
   "source": [
    "![2D indices B](images/5/ex_1b.png)"
   ]
  },
  {
   "cell_type": "markdown",
   "metadata": {},
   "source": [
    "![Schaakbord](images/5/chess_rank_file.jpg)"
   ]
  },
  {
   "cell_type": "markdown",
   "metadata": {},
   "source": [
    "Dit lijkt veel op hoe velden op een schaakbord worden aangegeven, maar daar worden rijen (8 tot en met 1) en kolommen (a tot en met h) anders benoemd."
   ]
  },
  {
   "cell_type": "markdown",
   "metadata": {},
   "source": [
    "## Loop to the `max`"
   ]
  },
  {
   "cell_type": "code",
   "execution_count": null,
   "metadata": {},
   "outputs": [],
   "source": [
    "L = [6, 5, 21, 8, 2, 42, 7, 1]"
   ]
  },
  {
   "cell_type": "code",
   "execution_count": null,
   "metadata": {},
   "outputs": [],
   "source": [
    "max_value = L[0]\n",
    "\n",
    "for x in L:\n",
    "    if x > max_value:\n",
    "        max_value = x"
   ]
  },
  {
   "cell_type": "code",
   "execution_count": null,
   "metadata": {},
   "outputs": [
    {
     "data": {
      "text/plain": [
       "42"
      ]
     },
     "metadata": {},
     "output_type": "display_data"
    }
   ],
   "source": [
    "max_value"
   ]
  },
  {
   "cell_type": "markdown",
   "metadata": {},
   "source": [
    "## Een reeks analyseren\n",
    "\n",
    "![GOOG Stock](images/5/goog_nasdaq.png)"
   ]
  },
  {
   "cell_type": "markdown",
   "metadata": {},
   "source": [
    "### Aandelenkoersen en prijzen"
   ]
  },
  {
   "cell_type": "code",
   "execution_count": null,
   "metadata": {},
   "outputs": [],
   "source": [
    "L = [40, 80, 10, 30, 27, 52, 5, 15]"
   ]
  },
  {
   "cell_type": "markdown",
   "metadata": {},
   "source": [
    "- de elementen: prijzen\n",
    "- de indices: dagen"
   ]
  },
  {
   "cell_type": "markdown",
   "metadata": {},
   "source": [
    "### TR Investeringen\n",
    "\n",
    "> Wij selecteren de beste dag voor aan- en verkoop om uw winst te maximaliseren..."
   ]
  },
  {
   "cell_type": "markdown",
   "metadata": {},
   "source": [
    "| index   | element   |\n",
    "|---------|-----------|\n",
    "| **Dag** | **Prijs** |\n",
    "| `0`     | `40.0`    |\n",
    "| `1`     | `80.0`    |\n",
    "| `2`     | `10.0`    |\n",
    "| `3`     | `30.0`    |\n",
    "| `4`     | `27.0`    |\n",
    "| `5`     | `52.0`    |\n",
    "| `6`     | `5.0`     |\n",
    "| `7`     | `15.0`    |"
   ]
  },
  {
   "cell_type": "markdown",
   "metadata": {},
   "source": [
    "Wat is de beste investeringsstrategie voor de lijst `L`?"
   ]
  },
  {
   "cell_type": "markdown",
   "metadata": {},
   "source": [
    "Hoe kunnen lussen hier bij helpen?"
   ]
  },
  {
   "cell_type": "markdown",
   "metadata": {},
   "source": [
    "## All Pairs algoritme\n",
    "\n",
    "Wanneer kopen en wanneer verkopen voor maximale winst?"
   ]
  },
  {
   "cell_type": "markdown",
   "metadata": {},
   "source": [
    "Vergelijk alle mogelijke combinaties!"
   ]
  },
  {
   "cell_type": "code",
   "execution_count": null,
   "metadata": {},
   "outputs": [],
   "source": [
    "L = [40, 80, 10, 30, 27, 52, 5, 15]"
   ]
  },
  {
   "cell_type": "markdown",
   "metadata": {},
   "source": [
    "```python\n",
    "(40, 80), (40, 10), (40, 30), (40, 27), ...  # day 0\n",
    "```"
   ]
  },
  {
   "cell_type": "markdown",
   "metadata": {},
   "source": [
    "```python\n",
    "(80, 10), (80, 30), (80, 27), (80, 52), ...  # day 1\n",
    "```"
   ]
  },
  {
   "cell_type": "markdown",
   "metadata": {},
   "source": [
    "Let op, elke dag wordt steeds met de volgende dag vergeleken!"
   ]
  },
  {
   "cell_type": "markdown",
   "metadata": {},
   "source": [
    "### Paarsgewijze vergelijkingen\n",
    "\n",
    "*Vergelijkbare* problemen\n",
    "\n",
    "- [n-body](https://en.wikipedia.org/wiki/N-body_problem) probleem\n",
    "- [shortest path](https://en.wikipedia.org/wiki/Shortest_path_problem) probleem\n",
    "- [closest pair](https://en.wikipedia.org/wiki/Closest_pair_of_points_problem) probleem"
   ]
  },
  {
   "cell_type": "markdown",
   "metadata": {},
   "source": [
    "### Lussen!\n",
    "\n",
    "Paarsgewijs vergelijken"
   ]
  },
  {
   "cell_type": "markdown",
   "metadata": {},
   "source": [
    "```text\n",
    "max-so-far = 0\n",
    "\n",
    "for each buy-day, b:\n",
    "    for each sell-day, s:\n",
    "        compute the profit\n",
    "        if profit is > max-so-far:\n",
    "            remember it in a variable!\n",
    "\n",
    "return profit, its b-day, and s-day\n",
    "```"
   ]
  },
  {
   "cell_type": "markdown",
   "metadata": {},
   "source": [
    "Verkoop is natuurlijk alleen toegestaan nadat aandelen zijn gekocht..."
   ]
  },
  {
   "cell_type": "markdown",
   "metadata": {},
   "source": [
    "## Voorbeeld\n",
    "\n",
    "De functie `mindiff` geeft het kleinste absolute verschil terug tussen twee elementen in `L`\n",
    "\n",
    "```python\n",
    "mindiff([42, 3, 100, -9, 7])\n",
    "```"
   ]
  },
  {
   "cell_type": "markdown",
   "metadata": {},
   "source": [
    "- geneste lussen\n",
    "- tussentijdse waarde bijhouden"
   ]
  },
  {
   "cell_type": "markdown",
   "metadata": {},
   "source": [
    "### Geneste lussen\n",
    "\n",
    "Gebruik *twee* geneste lussen voor het vergelijken van paren, bijvoorbeeld\n",
    "\n",
    "```python\n",
    "for i in range(4):\n",
    "    for j in range(4):\n",
    "```"
   ]
  },
  {
   "cell_type": "markdown",
   "metadata": {},
   "source": [
    "### Uitproberen ..."
   ]
  },
  {
   "cell_type": "code",
   "execution_count": null,
   "metadata": {},
   "outputs": [
    {
     "name": "stdout",
     "output_type": "stream",
     "text": [
      "1 1\n",
      "1 2\n",
      "1 3\n",
      "2 1\n",
      "2 2\n",
      "2 3\n",
      "3 1\n",
      "3 2\n",
      "3 3\n"
     ]
    }
   ],
   "source": [
    "M = [1, 2, 3]\n",
    "\n",
    "for i in range(len(M)):\n",
    "    for j in range(len(M)):\n",
    "        print(M[i], M[j])"
   ]
  },
  {
   "cell_type": "markdown",
   "metadata": {},
   "source": [
    "Dit is een voorbeeld om te zien hoe met geneste lussen paren van elementen kunnen worden gevormd. Je ziet dat dit nog niet correct is omdat hier ook paren van dezelfde elementen worden gevormd (1 en 1, 2 en 2, etc.) én combinaties die twee keer voorkomen (bijvoorbeeld 1 en 3 en 3 en 1). Voor `mindiff` zal daar een oplossing voor moeten worden gevonden! "
   ]
  },
  {
   "cell_type": "markdown",
   "metadata": {},
   "source": [
    "### Waarde bijhouden\n",
    "\n",
    "Bewaar steeds de waarde van het minimum terwijl je *twee* keer door de elementen van `L` loopt"
   ]
  },
  {
   "cell_type": "markdown",
   "metadata": {},
   "source": [
    "Begin met een startwaarde, die je per iteratie (wel of niet) aanpast.\n",
    "\n",
    "```python\n",
    "mdiff = abs(L[0] - L[1])\n",
    "```"
   ]
  },
  {
   "cell_type": "markdown",
   "metadata": {},
   "source": [
    "Had `mdiff` niet 0 kunnen zijn? Dit had inderdaad gekund, maar er zijn nu in ieder geval waarden gebruikt die zich in de lijst bevinden, dus geen verassingen!"
   ]
  },
  {
   "cell_type": "code",
   "execution_count": null,
   "metadata": {},
   "outputs": [],
   "source": [
    "def mindiff(L):\n",
    "    mdiff = abs(L[1] - L[0])  # start value\n",
    "    \n",
    "    for i in range(len(L)):\n",
    "        for j in range(..., len(L)):\n",
    "            if ...:\n",
    "                ...\n",
    "                \n",
    "    return mdiff              # return result"
   ]
  },
  {
   "cell_type": "markdown",
   "metadata": {},
   "source": [
    "### Paarsgewijs\n",
    "\n",
    "Begin `j` altijd één positie na `i`"
   ]
  },
  {
   "cell_type": "code",
   "execution_count": null,
   "metadata": {},
   "outputs": [
    {
     "name": "stdout",
     "output_type": "stream",
     "text": [
      "1 2\n",
      "1 3\n",
      "2 3\n"
     ]
    }
   ],
   "source": [
    "M = [1, 2, 3]\n",
    "\n",
    "for i in range(len(M)):\n",
    "    for j in range(i + 1, len(M)):\n",
    "        print(M[i], M[j])"
   ]
  },
  {
   "cell_type": "markdown",
   "metadata": {},
   "source": [
    "### Oplossing lussen"
   ]
  },
  {
   "cell_type": "code",
   "execution_count": null,
   "metadata": {},
   "outputs": [],
   "source": [
    "def mindiff(L):\n",
    "    mdiff = abs(L[0] - L[1])  # start value\n",
    "    \n",
    "    for i in range(len(L)):\n",
    "        for j in range(i + 1, len(L)):\n",
    "            if ...:\n",
    "                ...\n",
    "                \n",
    "    return mdiff              # return result"
   ]
  },
  {
   "cell_type": "markdown",
   "metadata": {},
   "source": [
    "### Oplossingen waarde bijhouden"
   ]
  },
  {
   "cell_type": "code",
   "execution_count": null,
   "metadata": {},
   "outputs": [],
   "source": [
    "def mindiff(L):\n",
    "    mdiff = abs(L[0] - L[1])  # start value\n",
    "    \n",
    "    for i in range(len(L)):\n",
    "        for j in range(i + 1, len(L)):\n",
    "            if abs(L[i] - L[j]) < mdiff:\n",
    "                mdiff = abs(L[i] - L[j])\n",
    "                \n",
    "    return mdiff              # return result"
   ]
  },
  {
   "cell_type": "markdown",
   "metadata": {},
   "source": []
  },
  {
   "cell_type": "markdown",
   "metadata": {},
   "source": [
    "Controleer iedere iteratie of het absolute verschil tussen de twee huidige elementen kleiner is dan het verschil dat eerder is gezien."
   ]
  },
  {
   "cell_type": "markdown",
   "metadata": {},
   "source": [
    "### Stap voor stap\n",
    "\n",
    "```python\n",
    "mindiff([42, 3, 100, -9, 7])\n",
    "```"
   ]
  },
  {
   "cell_type": "markdown",
   "metadata": {},
   "source": [
    "Wat gebeurt in de lussen?\n",
    "\n",
    "```python\n",
    "abs(42  -   3) = 39   # i = 0, j = 1, mdiff = 39\n",
    "abs(42  - 100) = 58   # i = 0, j = 2\n",
    "abs(42  -  -9) = 51   # i = 0, j = 3\n",
    "abs(42  -   7) = 35   # i = 0, j = 4, mdiff = 35\n",
    "abs(3   - 100) = 97   # i = 1, j = 2\n",
    "abs(3   -  -9) = 12   # i = 1, j = 3, mdiff = 12\n",
    "abs(3   -   7) = 4    # i = 1, j = 4, mdiff = 4\n",
    "abs(100 -  -9) = 109  # i = 2, j = 3\n",
    "abs(100 -   7) = 93   # i = 2, j = 4\n",
    "abs(-9  -   7) = 16   # i = 3, j = 4\n",
    "```"
   ]
  }
 ],
 "metadata": {
  "language_info": {
   "name": "python"
  }
 },
 "nbformat": 4,
 "nbformat_minor": 2
}
