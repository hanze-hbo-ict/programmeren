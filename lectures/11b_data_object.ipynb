{
 "cells": [
  {
   "cell_type": "markdown",
   "metadata": {},
   "source": [
    "# Een `Date` klasse"
   ]
  },
  {
   "cell_type": "markdown",
   "metadata": {},
   "source": [
    "Data\n",
    "\n",
    "- dag\n",
    "- maand\n",
    "- jaar"
   ]
  },
  {
   "cell_type": "code",
   "execution_count": null,
   "metadata": {},
   "outputs": [],
   "source": [
    "class Date:\n",
    "    \"\"\"Date is a user-defined data structure --\n",
    "       a class that stores and manipulates dates\n",
    "    \"\"\"\n",
    "    def __init__(self, day, month, year):\n",
    "        \"\"\"The constructor for objects of type Date\n",
    "        \"\"\"\n",
    "        self.day = day\n",
    "        self.month = month\n",
    "        self.year = year\n",
    "\n",
    "    def __repr__(self):\n",
    "        \"\"\"This method returns a string representation for the\n",
    "           object of type Dat that calls it (named self)\n",
    "        \"\"\"\n",
    "        return f\"{self.day:02d}/{self.month:02d}/{self.year:04d}\"\n",
    "    \n",
    "    def is_leap_year(self):\n",
    "        \"\"\"Returns True if self, the calling object, is\n",
    "           in a leap year; False otherwise\n",
    "        \"\"\"\n",
    "        if self.year % 400 == 0: return True\n",
    "        if self.year % 100 == 0: return False\n",
    "        if self.year % 4 == 0: return True\n",
    "        return False"
   ]
  },
  {
   "cell_type": "markdown",
   "metadata": {},
   "source": [
    "## Een object `d`"
   ]
  },
  {
   "cell_type": "code",
   "execution_count": null,
   "metadata": {},
   "outputs": [],
   "source": [
    "d = Date(11, 12, 2013)"
   ]
  },
  {
   "cell_type": "code",
   "execution_count": null,
   "metadata": {},
   "outputs": [
    {
     "data": {
      "text/plain": [
       "140320410739520"
      ]
     },
     "metadata": {},
     "output_type": "display_data"
    }
   ],
   "source": [
    "id(d)"
   ]
  },
  {
   "cell_type": "code",
   "execution_count": null,
   "metadata": {},
   "outputs": [
    {
     "data": {
      "text/plain": [
       "__main__.Date"
      ]
     },
     "metadata": {},
     "output_type": "display_data"
    }
   ],
   "source": [
    "type(d)"
   ]
  },
  {
   "cell_type": "markdown",
   "metadata": {},
   "source": [
    "## Stap voor stap"
   ]
  },
  {
   "cell_type": "markdown",
   "metadata": {},
   "source": [
    "```python\n",
    "class Date:\n",
    "    \"\"\"Date is a user-defined data structure --\n",
    "       a class that stores and manipulates dates\n",
    "    \"\"\"\n",
    "```\n",
    "Dit is het begin van een nieuw type `Date` aangeven door het `class` *keyword*"
   ]
  },
  {
   "cell_type": "markdown",
   "metadata": {},
   "source": [
    "Let op de dubbele punt, dit betekent dat alles wat volgt ingesprongen moet worden omdat het bij de klasse hoort."
   ]
  },
  {
   "cell_type": "markdown",
   "metadata": {},
   "source": [
    "```python\n",
    "    def __init__(self, day, month, year):\n",
    "        \"\"\"The constructor for objects of type Date\n",
    "        \"\"\"\n",
    "        self.day = day\n",
    "        self.month = month\n",
    "        self.year = year\n",
    "```\n",
    "\n",
    "Dit is de *constructor* voor `Date` objecten. Dit is de plek voor waar input data wordt toegekend aan de (data) velden."
   ]
  },
  {
   "cell_type": "markdown",
   "metadata": {},
   "source": [
    "De velden zijn de informatie die in elk `Date` object aanwezig zijn."
   ]
  },
  {
   "cell_type": "markdown",
   "metadata": {},
   "source": [
    "```python\n",
    "    def __repr__(self):\n",
    "        \"\"\"This method returns a string representation for the\n",
    "           object of type Dat that calls it (named self)\n",
    "        \"\"\"\n",
    "        return f\"{self.day:02d}/{self.month:02d}/{self.year:04d}\"\n",
    "```\n",
    "Dit is de string representatie van `Date` objecten, het vertelt Python hoe een `Date` object moet worden geprint."
   ]
  },
  {
   "cell_type": "markdown",
   "metadata": {},
   "source": [
    "## `f\"strings\"`\n",
    "\n",
    "Strings formatteren, handig!"
   ]
  },
  {
   "cell_type": "code",
   "execution_count": null,
   "metadata": {},
   "outputs": [],
   "source": [
    "klassen = 12\n",
    "studenten = 25"
   ]
  },
  {
   "cell_type": "code",
   "execution_count": null,
   "metadata": {},
   "outputs": [
    {
     "data": {
      "text/plain": [
       "'12 klassen met 25 studenten is in totaal 300'"
      ]
     },
     "metadata": {},
     "output_type": "display_data"
    }
   ],
   "source": [
    "f\"{klassen} klassen met {studenten} studenten is in totaal {klassen * studenten}\""
   ]
  },
  {
   "cell_type": "code",
   "execution_count": null,
   "metadata": {},
   "outputs": [],
   "source": [
    "x = 1"
   ]
  },
  {
   "cell_type": "code",
   "execution_count": null,
   "metadata": {},
   "outputs": [
    {
     "data": {
      "text/plain": [
       "'01'"
      ]
     },
     "metadata": {},
     "output_type": "display_data"
    }
   ],
   "source": [
    "f\"{x:02d}\""
   ]
  },
  {
   "cell_type": "markdown",
   "metadata": {},
   "source": [
    "`02d` formatteert de integer `x` tot een string met een minimale breedte van 2 posities, en \"zero-padding\" (voorloopmullen) links, indien nodig."
   ]
  },
  {
   "cell_type": "markdown",
   "metadata": {},
   "source": [
    "```python\n",
    "    def is_leap_year(self):\n",
    "        \"\"\"Returns True if self, the calling object, is\n",
    "           in a leap year; False otherwise\n",
    "        \"\"\"\n",
    "        if self.year % 400 == 0:\n",
    "            return True\n",
    "        if self.year % 100 == 0:\n",
    "            return False\n",
    "        if self.year % 4 == 0:\n",
    "            return True\n",
    "        return False\n",
    "```"
   ]
  },
  {
   "cell_type": "markdown",
   "metadata": {},
   "source": [
    "Waarom wordt `self` gebruikt en niet `d`?"
   ]
  },
  {
   "cell_type": "markdown",
   "metadata": {},
   "source": [
    "### `self`\n",
    "\n",
    "Is de variabele die de methode aanroept"
   ]
  },
  {
   "cell_type": "markdown",
   "metadata": {},
   "source": [
    "Misschien heb je al kennisgemaakt met andere programmeertalen en zal je herkennen dat `self` overeenkomt met wat je kent als `this` in deze talen (bijvoorbeeld in Java of C++). Guido van Rossum geeft hier antwoord op de vraag waarom niet voor `this` is gekozen, en legt het uit als een daad van speels verzet.\n",
    "\n",
    "Het is hier misschien ook van belang om stil te staan bij het feit dat programmeertalen niet zomaar zijn ontstaan, het is mensenwerk en wij bouwen weer voort op het werk van anderen!"
   ]
  },
  {
   "cell_type": "code",
   "execution_count": null,
   "metadata": {},
   "outputs": [],
   "source": [
    "wd = Date(11, 12, 2013)"
   ]
  },
  {
   "cell_type": "code",
   "execution_count": null,
   "metadata": {},
   "outputs": [
    {
     "name": "stdout",
     "output_type": "stream",
     "text": [
      "11/12/2013\n"
     ]
    }
   ],
   "source": [
    "print(wd)"
   ]
  },
  {
   "cell_type": "code",
   "execution_count": null,
   "metadata": {},
   "outputs": [
    {
     "data": {
      "text/plain": [
       "False"
      ]
     },
     "metadata": {},
     "output_type": "display_data"
    }
   ],
   "source": [
    "wd.is_leap_year()"
   ]
  },
  {
   "cell_type": "code",
   "execution_count": null,
   "metadata": {},
   "outputs": [],
   "source": [
    "d = Date(11, 12, 2020)"
   ]
  },
  {
   "cell_type": "code",
   "execution_count": null,
   "metadata": {},
   "outputs": [
    {
     "name": "stdout",
     "output_type": "stream",
     "text": [
      "11/12/2020\n"
     ]
    }
   ],
   "source": [
    "print(d)"
   ]
  },
  {
   "cell_type": "code",
   "execution_count": null,
   "metadata": {},
   "outputs": [
    {
     "data": {
      "text/plain": [
       "True"
      ]
     },
     "metadata": {},
     "output_type": "display_data"
    }
   ],
   "source": [
    "d.is_leap_year()"
   ]
  },
  {
   "cell_type": "markdown",
   "metadata": {},
   "source": [
    "## Quiz\n",
    "\n",
    "De anatomie van een klasse"
   ]
  },
  {
   "cell_type": "code",
   "execution_count": null,
   "metadata": {},
   "outputs": [],
   "source": [
    "class Date:                                                        # (1)\n",
    "    def __init__(self, day, month, year):                          # (2)\n",
    "        self.day = day                                             # (3)\n",
    "        self.month = month                                         # (4)\n",
    "        self.year = year                                           # (5)\n",
    "\n",
    "    def __repr__(self):                                            # (6)\n",
    "        return f\"{self.day:02d}/{self.month:02d}/{self.year:04d}\"  # (7)\n",
    "    \n",
    "    def is_leap_year(self):                                        # (8)\n",
    "        if self.year % 400 == 0: return True\n",
    "        if self.year % 100 == 0: return False\n",
    "        if self.year % 4 == 0: return True\n",
    "        return False\n",
    "                                                                   # (9)\n",
    "wd = Date(11, 12, 2013)                                            # (10)\n",
    "ny = Date(1, 1, 2021)                                              # (11)"
   ]
  },
  {
   "cell_type": "markdown",
   "metadata": {},
   "source": [
    "Probeer de volgende onderdelen aan te wijzen:"
   ]
  },
  {
   "cell_type": "markdown",
   "metadata": {},
   "source": [
    "- `class` keyword\n",
    "- waar eindigt de klassedefinitie?\n",
    "- objectdefinities, 2 totaal\n",
    "- methoden, 3 totaal\n",
    "- constructor\n",
    "- datavelden (attributen), 3 totaal\n",
    "- wat *print* `Date`'s?"
   ]
  },
  {
   "cell_type": "markdown",
   "metadata": {},
   "source": [
    "### Oplossing\n",
    "\n",
    "- `class` keyword: (1)\n",
    "- waar eindigt de klassedefinitie?: (9)\n",
    "- objectdefinities, 2 totaal: (11, 12)\n",
    "- methoden, 3 totaal: (2, 6, 8)\n",
    "- constructor: (2)\n",
    "- datavelden (attributen), 3 totaal: (3, 4, 5)\n",
    "- wat *print* `Date`'s?: (6)"
   ]
  },
  {
   "cell_type": "markdown",
   "metadata": {},
   "source": [
    "## Methoden en operatoren\n",
    "\n",
    "Als alles een object is ..."
   ]
  },
  {
   "cell_type": "code",
   "execution_count": null,
   "metadata": {},
   "outputs": [
    {
     "data": {
      "text/plain": [
       "True"
      ]
     },
     "metadata": {},
     "output_type": "display_data"
    }
   ],
   "source": [
    "21 < 42 "
   ]
  },
  {
   "cell_type": "code",
   "execution_count": null,
   "metadata": {},
   "outputs": [
    {
     "data": {
      "text/plain": [
       "True"
      ]
     },
     "metadata": {},
     "output_type": "display_data"
    }
   ],
   "source": [
    "\"🥚\" > \"🐔\""
   ]
  },
  {
   "cell_type": "code",
   "execution_count": null,
   "metadata": {},
   "outputs": [],
   "source": [
    "history = Date(1, 1, 1970)\n",
    "epoch = Date(1, 1, 1970)"
   ]
  },
  {
   "cell_type": "code",
   "execution_count": null,
   "metadata": {},
   "outputs": [
    {
     "data": {
      "text/plain": [
       "False"
      ]
     },
     "metadata": {},
     "output_type": "display_data"
    }
   ],
   "source": [
    "epoch == history"
   ]
  },
  {
   "cell_type": "markdown",
   "metadata": {},
   "source": [
    "Dit werkt niet en dat is jammer! Dit gaan we straks oplossen, je zal Python moeten vertellen dat de operator `==` (en anderen) betekenis heeft als we objecten van type `Date` willen gaan vergelijken. "
   ]
  },
  {
   "cell_type": "markdown",
   "metadata": {},
   "source": [
    "## Operatoren"
   ]
  },
  {
   "cell_type": "markdown",
   "metadata": {},
   "source": [
    "| methode                  | operator |\n",
    "|--------------------------|----------|\n",
    "| `yesterday(self)`        | `-= 1`   |\n",
    "| `tomorrow(self)`         | `+= 1`   |\n",
    "| `add_n_days(self, N)`    | `+= N`   |\n",
    "| `sub_n_days(self, N`)    | `-= N`   |\n",
    "| `is_before(self, other)` | `<`      |\n",
    "| `is_after(self, other)`  | `>`      |\n",
    "| `diff(self, other)`      | `-`      |\n",
    "| `dow(self)`              |          |"
   ]
  },
  {
   "cell_type": "markdown",
   "metadata": {},
   "source": [
    "### What's the `diff`?"
   ]
  },
  {
   "cell_type": "code",
   "execution_count": null,
   "metadata": {},
   "outputs": [],
   "source": [
    "%run date2.py"
   ]
  },
  {
   "cell_type": "code",
   "execution_count": null,
   "metadata": {},
   "outputs": [],
   "source": [
    "epoch = Date(1, 1, 1970)\n",
    "today = Date(6, 12, 2020)"
   ]
  },
  {
   "cell_type": "markdown",
   "metadata": {},
   "source": [
    "Via een methode"
   ]
  },
  {
   "cell_type": "code",
   "execution_count": null,
   "metadata": {},
   "outputs": [
    {
     "data": {
      "text/plain": [
       "18602"
      ]
     },
     "metadata": {},
     "output_type": "display_data"
    }
   ],
   "source": [
    "today.diff(epoch)"
   ]
  },
  {
   "cell_type": "code",
   "execution_count": null,
   "metadata": {},
   "outputs": [
    {
     "data": {
      "text/plain": [
       "-18602"
      ]
     },
     "metadata": {},
     "output_type": "display_data"
    }
   ],
   "source": [
    "epoch.diff(today)"
   ]
  },
  {
   "cell_type": "markdown",
   "metadata": {},
   "source": [
    "### Where's the `dow`?"
   ]
  },
  {
   "cell_type": "code",
   "execution_count": null,
   "metadata": {},
   "outputs": [],
   "source": [
    "sm1 = Date(28, 10, 1929)\n",
    "sm2 = Date(19, 10, 1987)"
   ]
  },
  {
   "cell_type": "markdown",
   "metadata": {},
   "source": [
    "Gebruikt een *named* object"
   ]
  },
  {
   "cell_type": "code",
   "execution_count": null,
   "metadata": {},
   "outputs": [
    {
     "data": {
      "text/plain": [
       "'Monday'"
      ]
     },
     "metadata": {},
     "output_type": "display_data"
    }
   ],
   "source": [
    "sm1.dow()"
   ]
  },
  {
   "cell_type": "code",
   "execution_count": null,
   "metadata": {},
   "outputs": [
    {
     "data": {
      "text/plain": [
       "'Monday'"
      ]
     },
     "metadata": {},
     "output_type": "display_data"
    }
   ],
   "source": [
    "sm2.dow()"
   ]
  },
  {
   "cell_type": "markdown",
   "metadata": {},
   "source": [
    "Zonder naam, *unnamed*!"
   ]
  },
  {
   "cell_type": "code",
   "execution_count": null,
   "metadata": {},
   "outputs": [
    {
     "data": {
      "text/plain": [
       "'Monday'"
      ]
     },
     "metadata": {},
     "output_type": "display_data"
    }
   ],
   "source": [
    "Date(1,1,1).dow()"
   ]
  },
  {
   "cell_type": "code",
   "execution_count": null,
   "metadata": {},
   "outputs": [
    {
     "data": {
      "text/plain": [
       "'Friday'"
      ]
     },
     "metadata": {},
     "output_type": "display_data"
    }
   ],
   "source": [
    "Date(1,1,2021).dow()"
   ]
  },
  {
   "cell_type": "code",
   "execution_count": null,
   "metadata": {},
   "outputs": [
    {
     "data": {
      "text/plain": [
       "['Astronaut', 'wordt', 'snel', 'oud', 'tijdens', 'een', 'reis', 'naar', 'Mars']"
      ]
     },
     "metadata": {},
     "output_type": "display_data"
    }
   ],
   "source": [
    "str(\"Astronaut wordt snel oud tijdens een reis naar Mars\").split()"
   ]
  },
  {
   "cell_type": "code",
   "execution_count": null,
   "metadata": {},
   "outputs": [
    {
     "data": {
      "text/plain": [
       "['Astronaut', 'wordt', 'snel', 'oud', 'tijdens', 'een', 'reis', 'naar', 'Mars']"
      ]
     },
     "metadata": {},
     "output_type": "display_data"
    }
   ],
   "source": [
    "\"Astronaut wordt snel oud tijdens een reis naar Mars\".split()"
   ]
  },
  {
   "cell_type": "markdown",
   "metadata": {},
   "source": [
    "## Het `==` probleem "
   ]
  },
  {
   "cell_type": "code",
   "execution_count": null,
   "metadata": {},
   "outputs": [],
   "source": [
    "wd = Date(11, 12, 2013)"
   ]
  },
  {
   "cell_type": "code",
   "execution_count": null,
   "metadata": {},
   "outputs": [
    {
     "data": {
      "text/plain": [
       "11-12-2013"
      ]
     },
     "metadata": {},
     "output_type": "display_data"
    }
   ],
   "source": [
    "wd"
   ]
  },
  {
   "cell_type": "code",
   "execution_count": null,
   "metadata": {},
   "outputs": [],
   "source": [
    "wd2 = Date(11, 12, 2013)"
   ]
  },
  {
   "cell_type": "code",
   "execution_count": null,
   "metadata": {},
   "outputs": [
    {
     "data": {
      "text/plain": [
       "11-12-2013"
      ]
     },
     "metadata": {},
     "output_type": "display_data"
    }
   ],
   "source": [
    "wd2"
   ]
  },
  {
   "cell_type": "code",
   "execution_count": null,
   "metadata": {},
   "outputs": [
    {
     "data": {
      "text/plain": [
       "True"
      ]
     },
     "metadata": {},
     "output_type": "display_data"
    }
   ],
   "source": [
    "wd == wd2"
   ]
  },
  {
   "cell_type": "markdown",
   "metadata": {},
   "source": [
    "### Waarde versus identiteit"
   ]
  },
  {
   "cell_type": "code",
   "execution_count": null,
   "metadata": {},
   "outputs": [
    {
     "data": {
      "text/plain": [
       "140320410741056"
      ]
     },
     "metadata": {},
     "output_type": "display_data"
    }
   ],
   "source": [
    "id(wd)"
   ]
  },
  {
   "cell_type": "code",
   "execution_count": null,
   "metadata": {},
   "outputs": [
    {
     "data": {
      "text/plain": [
       "140320410804384"
      ]
     },
     "metadata": {},
     "output_type": "display_data"
    }
   ],
   "source": [
    "id(wd2)"
   ]
  },
  {
   "cell_type": "markdown",
   "metadata": {},
   "source": [
    "`==` zal standaard controleren op identiteit, de geheugenlokatie!"
   ]
  },
  {
   "cell_type": "markdown",
   "metadata": {},
   "source": [
    "### Vergelijken op waarde\n",
    "\n",
    "Laten we een eigen test voor gelijkwaardigheid schrijven!"
   ]
  },
  {
   "cell_type": "code",
   "execution_count": null,
   "metadata": {},
   "outputs": [],
   "source": [
    "class Date:\n",
    "    def __init__(self, day, month, year):\n",
    "        \"\"\"The constructor for objects of type Date\n",
    "        \"\"\"\n",
    "        self.day = day\n",
    "        self.month = month\n",
    "        self.year = year\n",
    "\n",
    "    def __repr__(self):\n",
    "        return f\"{self.day:02d}/{self.month:02d}/{self.year:04d}\"\n",
    "    \n",
    "    def is_leap_year(self):\n",
    "        if self.year % 400 == 0: return True\n",
    "        if self.year % 100 == 0: return False\n",
    "        if self.year % 4 == 0: return True\n",
    "        return False\n",
    "\n",
    "    def equals(self, other):\n",
    "        \"\"\"Returns True if they represent\n",
    "           the same date; False otherwise\n",
    "        \"\"\"\n",
    "        if (\n",
    "            self.year == other.year\n",
    "            and self.month == other.month\n",
    "            and self.day == other.day\n",
    "        ):\n",
    "            return True\n",
    "        else:\n",
    "            return False"
   ]
  },
  {
   "cell_type": "code",
   "execution_count": null,
   "metadata": {},
   "outputs": [],
   "source": [
    "wd = Date(11, 12, 2013)\n",
    "wd2 = Date(11, 12, 2013)"
   ]
  },
  {
   "cell_type": "code",
   "execution_count": null,
   "metadata": {},
   "outputs": [
    {
     "data": {
      "text/plain": [
       "True"
      ]
     },
     "metadata": {},
     "output_type": "display_data"
    }
   ],
   "source": [
    "wd.equals(wd2)"
   ]
  },
  {
   "cell_type": "code",
   "execution_count": null,
   "metadata": {},
   "outputs": [
    {
     "data": {
      "text/plain": [
       "True"
      ]
     },
     "metadata": {},
     "output_type": "display_data"
    }
   ],
   "source": [
    "wd2.equals(wd)"
   ]
  },
  {
   "cell_type": "markdown",
   "metadata": {},
   "source": [
    "Maar ..."
   ]
  },
  {
   "cell_type": "code",
   "execution_count": null,
   "metadata": {},
   "outputs": [
    {
     "data": {
      "text/plain": [
       "False"
      ]
     },
     "metadata": {},
     "output_type": "display_data"
    }
   ],
   "source": [
    "wd == wd2"
   ]
  },
  {
   "cell_type": "markdown",
   "metadata": {},
   "source": [
    "### `__eq__`\n",
    "\n",
    "Vertel Python wat wij met gelijkwaardigeid bedoelen!"
   ]
  },
  {
   "cell_type": "code",
   "execution_count": null,
   "metadata": {},
   "outputs": [],
   "source": [
    "class Date:\n",
    "    def __init__(self, day, month, year):\n",
    "        \"\"\"The constructor for objects of type Date\n",
    "        \"\"\"\n",
    "        self.day = day\n",
    "        self.month = month\n",
    "        self.year = year\n",
    "\n",
    "    def __repr__(self):\n",
    "        return f\"{self.day:02d}/{self.month:02d}/{self.year:04d}\"\n",
    "    \n",
    "    def is_leap_year(self):\n",
    "        if self.year % 400 == 0: return True\n",
    "        if self.year % 100 == 0: return False\n",
    "        if self.year % 4 == 0: return True\n",
    "        return False\n",
    "\n",
    "    def __eq__(self, other):\n",
    "        \"\"\"Returns True if they represent\n",
    "           the same date; False otherwise\n",
    "        \"\"\"\n",
    "        if (\n",
    "            self.year == other.year\n",
    "            and self.month == other.month\n",
    "            and self.day == other.day\n",
    "        ):\n",
    "            return True\n",
    "        else:\n",
    "            return False"
   ]
  },
  {
   "cell_type": "markdown",
   "metadata": {},
   "source": []
  },
  {
   "cell_type": "code",
   "execution_count": null,
   "metadata": {},
   "outputs": [],
   "source": [
    "wd = Date(11, 12, 2013)\n",
    "wd2 = Date(11, 12, 2013)"
   ]
  },
  {
   "cell_type": "code",
   "execution_count": null,
   "metadata": {},
   "outputs": [
    {
     "data": {
      "text/plain": [
       "True"
      ]
     },
     "metadata": {},
     "output_type": "display_data"
    }
   ],
   "source": [
    "wd == wd2"
   ]
  },
  {
   "cell_type": "markdown",
   "metadata": {},
   "source": [
    "### Hergebruik\n",
    "\n",
    "De methode `equals` blijven gebruiken maar ook Python vertellen over gelijkwaardigheid (`__eq__`)?"
   ]
  },
  {
   "cell_type": "code",
   "execution_count": null,
   "metadata": {},
   "outputs": [],
   "source": [
    "class Date:\n",
    "    def __init__(self, day, month, year):\n",
    "        \"\"\"The constructor for objects of type Date\n",
    "        \"\"\"\n",
    "        self.day = day\n",
    "        self.month = month\n",
    "        self.year = year\n",
    "\n",
    "    def __repr__(self):\n",
    "        return f\"{self.day:02d}/{self.month:02d}/{self.year:04d}\"\n",
    "    \n",
    "    def is_leap_year(self):\n",
    "        if self.year % 400 == 0: return True\n",
    "        if self.year % 100 == 0: return False\n",
    "        if self.year % 4 == 0: return True\n",
    "        return False\n",
    "\n",
    "    def equals(self, other):\n",
    "        \"\"\"Returns True if they represent\n",
    "           the same date; False otherwise\n",
    "        \"\"\"\n",
    "        if (\n",
    "            self.year == other.year\n",
    "            and self.month == other.month\n",
    "            and self.day == other.day\n",
    "        ):\n",
    "            return True\n",
    "        else:\n",
    "            return False\n",
    "        \n",
    "    def __eq__(self, other):\n",
    "        return self.equals(other)"
   ]
  },
  {
   "cell_type": "markdown",
   "metadata": {},
   "source": [
    "### Operator overloading\n",
    "\n",
    "Python duidelijk maken wat een type bedoelt!"
   ]
  },
  {
   "cell_type": "markdown",
   "metadata": {},
   "source": [
    "- `__eq__(self, other)` definieert de gelijkheid operatator `==`\n",
    "- `__ne__(self, other` definieert de ongelijkheid operatator `!=`\n",
    "- `__lt__(self, other)` definieert de kleiner dan operatator `<`\n",
    "- `__gt__(self, other)` definieert de groter dan operatator `>`\n",
    "- `__le__(self, other)` definieert de kleiner of gelijk aan operatator `<=`\n",
    "- `__ge__(self, other)` definieert de groter of gelijk aan operatator `>=`\n",
    "- `__add__(self, other)` definieert de optelling operatator `+`\n",
    "- `__sub__(self, other)` definieert de aftrekking operatator `-`"
   ]
  },
  {
   "cell_type": "markdown",
   "metadata": {},
   "source": [
    "## Morgen en gisteren"
   ]
  },
  {
   "cell_type": "markdown",
   "metadata": {},
   "source": [
    "```python\n",
    "class Date:\n",
    "    ...\n",
    "    \n",
    "    def tomorrow(self):\n",
    "        \"\"\"Moves the self date ahead 1 day\n",
    "        \"\"\"\n",
    "        DIM = [0, 31, 28, 31, 30, 31, 30, 31, 31, 30, 31, 30, 31]\n",
    "        \n",
    "        self.day += 1  # first, add 1 to self.day\n",
    "        \n",
    "        if ...:        # test if we have gone \"out of bounds\"!\n",
    "            self.month ...\n",
    "            self.day ...\n",
    "            \n",
    "            if ...:  # then adjust the month and year, but only as needed!\n",
    "                self.year ...\n",
    "                self. month ...\n",
    "```"
   ]
  },
  {
   "cell_type": "markdown",
   "metadata": {},
   "source": [
    "### Februari is variabel"
   ]
  },
  {
   "cell_type": "markdown",
   "metadata": {},
   "source": [
    "```python\n",
    "class Date:\n",
    "    ...\n",
    "    \n",
    "    def tomorrow(self):\n",
    "        \"\"\"Moves the self date ahead 1 day\n",
    "        \"\"\"\n",
    "        if self.is_leap_year():\n",
    "            fdays = 29\n",
    "        else:\n",
    "            fdays = 28\n",
    "        \n",
    "        DIM = [0, 31, fdays, 31, 30, 31, 30, 31, 31, 30, 31, 30, 31]\n",
    "        \n",
    "        self.day += 1  # add 1 to the day\n",
    "        \n",
    "        if self.day > DIM[self.month]:  # check day\n",
    "            self.month += 1\n",
    "            self.day = 1\n",
    "            \n",
    "            if self.month > 12:  # check month\n",
    "                self.year += 1\n",
    "                self.month = 1\n",
    "```"
   ]
  }
 ],
 "metadata": {
  "language_info": {
   "name": "python"
  }
 },
 "nbformat": 4,
 "nbformat_minor": 2
}
