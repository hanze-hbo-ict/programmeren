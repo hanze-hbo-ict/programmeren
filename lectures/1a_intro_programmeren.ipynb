{
 "cells": [
  {
   "cell_type": "markdown",
   "metadata": {},
   "source": [
    "# Wat is informatica"
   ]
  },
  {
   "cell_type": "markdown",
   "metadata": {},
   "source": [
    "Voordat we beginnen moeten we iets zeggen over informatica. Wat denk je dat informatica is?\n",
    "\n",
    "Veel mensen denken dat het *programmeren* of gewoon *leren coderen* is of dat het iets met computers is.\n",
    "\n",
    "Informatica is het verwerken van informatie. Gegeven een input, hoe verwerken we dat tot een gewenste uitput? Met andere woorden, het gaat om problemen oplossen. Programmeren is een belangrijk hulpmiddel om de computer de informatie te laten verwerken en tot de oplossing te komen. De truuk is om als programmeur de computer uit te gaan leggen hoe hij de data moet verwerken."
   ]
  },
  {
   "cell_type": "markdown",
   "metadata": {},
   "source": [
    "## Hoe kan een probleem worden opgelost?\n",
    "\n",
    "- Kan je het probleem oplossen?\n",
    "- Kan je een proces ontwerpen om dit soort problemen op te lossen?"
   ]
  },
  {
   "cell_type": "markdown",
   "metadata": {},
   "source": [
    "Het niet is verstandig dat als er een probleem opgelost moet worden om meteen te gaan programmeren. Probeer eerst het probleem op papier op te lossen met een klein voorbeeld. Welke stappen/instructies zijn er gebruikt om het probleem op te lossen? Dit wordt computational thinking genoemd. De vaardigheid om een set van instructies te ontwikkelen dat een gegeven probleem kan oplossen. Deze set van instucties om van A naar B te komen wordt een algoritme genoemd. \n"
   ]
  },
  {
   "cell_type": "markdown",
   "metadata": {},
   "source": [
    "## Strategieën\n",
    "\n",
    "De strategie die gebruikt kan worden om een oplossing te vinden verschilt per probleem. De ene strategie past beter dan de ander, wat wel handig is om pen en papier te gebruiken. Hier zijn er een aantal:\n",
    "\n",
    "-   *Teken het probleem op papier*. Dit werkt vooral als je met ruimtelijke vragen bezig bent.\n",
    "-   *Maak het probleem kleiner*. Bijvoorbeeld wordt er gevraagd om een methode te verzinnen om getallen te sorteren. Inplaats van het probleem op te lossen met 100 getallen, doe het eerst met twee getallen, daarna met drie, enz.\n",
    "-   *Probeer alle opties uit*. Deze leent zich vooral als er niet teveel verschillende input zijn."
   ]
  },
  {
   "cell_type": "markdown",
   "metadata": {},
   "source": [
    "### Longest Common Subsequence (LCS)\n",
    "\n",
    "Het string-matching probleem in DND:\n",
    "\n",
    "- 'CGCTGAGCTAGGCC...'\n",
    "- 'ATCCTAGGTAACTG...' (en $10^9$ meer!)\n",
    "\n",
    "\n",
    "Wat is de langst *gemeenschappelijke opeenvolging* van karakters? In biologie is dit een werkelijk probleem waar het gaat om het vergelijken van DNA-sequenties.\n"
   ]
  },
  {
   "cell_type": "markdown",
   "metadata": {},
   "source": [
    "Inplaats van het probleem op te lossen op een  grote dataset is het vaak makkelijker om eerst een dataset te proberen op te lossen, Bijvoorbeeld twee woorden. \n",
    "- 'HUMAN'\n",
    "- 'CHIMPANZEE'\n",
    "\n",
    " Je zult redelijk snel zien dat ‘AN’ de langst gemeenschappelijke opeenvolging van karakters is. Dit is de eerste stap van het oplossen van een probleem; De probeer fase. \n",
    " \n",
    " Welke stappen heb je gebruikt om tot een oplossing te komen? Zijn deze stappen ook toe te passen op een opeenvolging van 3 miljard karakters? Dit is de plan fase waarin het algoritme wordt ontworpen.\n",
    "\n",
    " Zodra er een algoritme is ontworpen kan het geprogrammeerd worden. Dat is dan de programmeer fase. "
   ]
  },
  {
   "cell_type": "markdown",
   "metadata": {},
   "source": [
    "## Beslissingsboom"
   ]
  },
  {
   "cell_type": "markdown",
   "metadata": {},
   "source": [
    "Beslissingsbomen (*behavior trees*) kunnen gebruikt worden om instructies te visualiseren. Het is een vorm die je misschien wel herkent."
   ]
  },
  {
   "cell_type": "markdown",
   "metadata": {},
   "source": [
    "![Beslisboom](images/1/beslisboom.gif)"
   ]
  },
  {
   "cell_type": "markdown",
   "metadata": {},
   "source": [
    "Dit is het algoritme van Euclides wat gebruikt kan worden om de grootste gemene deler tussen twee getallen te bepalen. Euclides had ontdekt dat via een paar instructies altijd te berekenen is:\n",
    "\n",
    "1.\tNoem het grootste van de beide getallen $m$, het andere $n$.\n",
    "2.\tDeel $m$ door $n$, bereken hoeveel je overhoudt en noem dat $r$.\n",
    "3.\tWanneer er 0 over blijft zijn we klaar, en is $n$ de ggd.\n",
    "4.\tZo niet, herhaal dan het algoritme met $n$ en $r$."
   ]
  },
  {
   "cell_type": "markdown",
   "metadata": {},
   "source": [
    "Met het algoritme van Euclides kan dus de ggd van 900 en 1140 berekend worden.\n",
    "Stel dat $m$ 1140 is en $n$ 900,\n",
    "\n",
    "$ 1140 = 1 * 900 + 240 $\n",
    "\n",
    "De rest is 240, wat niet gelijk is aan 0 en dus moet er verder gerekend worden. Deze keer is $m$ gelijk aan 900 en $n$ gelijk aan 240.\n",
    "\n",
    "$ 900 = 3 * 240 + 180 $\n",
    "\n",
    "De rest is 180, wat niet gelijk is aan 0 en dus moet er verder gerekend worden. Deze keer is $m$ gelijk aan 240 en $n$ gelijk aan 180.\n",
    "\n",
    "$ 240 = 1 * 180 + 60 $\n",
    "\n",
    "De rest is 60, wat niet gelijk is aan 0 en dus moet er verder gerekend worden. Deze keer is $m$ gelijk aan 180 en $n$ gelijk aan 60.\n",
    "\n",
    "$ 180 = 3 * 60 + 0 $\n",
    "\n",
    "Nu is de rest 0, en daarmee zijn we aan het einde gekomen. We hebben bepaald dat 60 de grootste gemene deler van 900 en 1140 is."
   ]
  },
  {
   "cell_type": "markdown",
   "metadata": {},
   "source": [
    "## State Machine"
   ]
  },
  {
   "cell_type": "markdown",
   "metadata": {},
   "source": [
    "Een andere methode voor het ontwerpen van programma's is het gebruik van een state machine. Deze manier leent zich er vooral voor om een probleem in kleinere problemen op te breken. Een state machine bestaat uit verschillende states (een staat, of situatie) en heeft altijd een *begin* en *eind* state. Tussen de states zijn overgangen die aangeven wanneer er van state verandert wordt."
   ]
  },
  {
   "cell_type": "markdown",
   "metadata": {},
   "source": [
    "Neem bijvoorbeeld de spookjes van Pacman. Zodra het spel begint zoeken ze naar Pacman en als ze hem zien gaan ze achter hem aan. Als Pacman een Powerpallet pakt moeten de spookjes juist vluchten. Dit idee kan afgebeeld worden in een state machine."
   ]
  },
  {
   "cell_type": "markdown",
   "metadata": {},
   "source": [
    "![State Machine](images/1/pacmanStates.png)"
   ]
  },
  {
   "cell_type": "markdown",
   "metadata": {},
   "source": [
    "Na het ontwerpen van een de state machine kan er nagedacht worden over hoe de afzonderlijke problemen opgelost kunnen worden en dit kan weer gedaan worden met een belissisingsboom."
   ]
  },
  {
   "cell_type": "markdown",
   "metadata": {},
   "source": [
    "## 3 p's"
   ]
  },
  {
   "cell_type": "markdown",
   "metadata": {},
   "source": [
    "De drie p's van het programmeren: \n",
    "- **Probeer**: Probeer het probleem op te lossen in gedachten of op papier.\n",
    "- **Plan**: Noteer de stappen die zijn gebruikt om het probleem op te lossen. \n",
    "- **Programmeer**: Vertaal de stappen naar een programmeertaal. "
   ]
  },
  {
   "cell_type": "markdown",
   "metadata": {},
   "source": [
    "## Opdrachten"
   ]
  },
  {
   "cell_type": "markdown",
   "metadata": {},
   "source": [
    "### Opdracht 1 : Nim\n",
    "\n",
    "![Nim 16 lucifers](images/1/nimGame.png)\n",
    "\n",
    "Nim is een spel voor twee spelers. Er liggen 16 lucifers op tafel. Om de beurt pakt een speler 1, 2 of 3 lucifers. Degene die de laatste lucifer van tafel pakt heeft gewonnen. Als de speler die als tweede begint de juiste strategie gebruikt kan hij/zij altijd winnen. "
   ]
  },
  {
   "cell_type": "markdown",
   "metadata": {},
   "source": [
    "- **Stap 1: Proberen.** Ga op  uitzoeken welke strategie speler 2 moet gebruiken om altijd te winnen. \n",
    "- **Stap 2: Plan.** Maak een beslissingsboom voor speler 2."
   ]
  },
  {
   "cell_type": "markdown",
   "metadata": {},
   "source": [
    "### Opdracht 2 : Nim variant"
   ]
  },
  {
   "cell_type": "markdown",
   "metadata": {},
   "source": [
    "Leg 3 groepjes lucifers op tafel. Hoeveel lucifers er in elke groep ligt, dat maakt niet uit. Om de beurt pakt een speler 1, 2 of 3 lucifers **uit dezelfe groep**. Degene die de laatste lucifer van tafel pakt heeft gewonnen. Ook nu kan met de juiste strategie speler 2 altijd winnen"
   ]
  },
  {
   "cell_type": "markdown",
   "metadata": {},
   "source": [
    "- **Stap 1: Proberen.** Ga op  uitzoeken welke strategie speler 2 moet gebruiken om altijd te winnen. \n",
    "- **Stap 2: Plan.** Maak een beslissingsboom voor speler 2."
   ]
  },
  {
   "cell_type": "markdown",
   "metadata": {},
   "source": [
    "### Opdracht 3: SOS\n",
    "\n",
    "SOS is ook een spel voor twee spelers. Het speelveld is een rij van 100 vakjes. Om de beurt plaats een speler de letter 'S' of de letter \"O\" in een vakje. De spelers kiezen zelf welk vakje en welke letter. Het spel is voorbij zodra er 'SOS' gespeld is op het bord. Wie de laatste letter heeft neergezet wint, ongeacht wie de andere twee letters van het woord 'SOS' heeft geplaatst. \n",
    "Ook hier geldt dat speler 2 met de juiste strategie altijd wint. "
   ]
  },
  {
   "cell_type": "markdown",
   "metadata": {},
   "source": [
    "- **Stap 1: Proberen.** Ga op  uitzoeken welke strategie speler 2 moet gebruiken om altijd te winnen. \n",
    "- **Stap 2: Plan.** Maak een beslissingsboom voor speler 2."
   ]
  }
 ],
 "metadata": {
  "language_info": {
   "name": "python"
  }
 },
 "nbformat": 4,
 "nbformat_minor": 2
}
