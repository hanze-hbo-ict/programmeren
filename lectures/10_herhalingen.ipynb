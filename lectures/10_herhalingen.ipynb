{
 "cells": [
  {
   "cell_type": "markdown",
   "id": "950267f4-5255-43c6-bb25-bbf25425e5e8",
   "metadata": {},
   "source": [
    "# Herhalingen"
   ]
  },
  {
   "cell_type": "markdown",
   "id": "52fcaf2d-e1f5-4a3e-af55-b32c1929f0d4",
   "metadata": {},
   "source": [
    "> One theme that unifies (nearly) all computer scientists is that they are interested in the automation of tasks\n",
    "> \n",
    "> -- <cite>CS for All</cite>"
   ]
  },
  {
   "cell_type": "markdown",
   "id": "ee557c68-3d63-4c09-8ce2-01139fcff400",
   "metadata": {},
   "source": [
    "## Iteraties\n",
    "\n",
    "Het herhaald uitvoeren van handelingen"
   ]
  },
  {
   "cell_type": "markdown",
   "id": "de4fd250-42c2-47ca-a6b8-9ef53c09daa9",
   "metadata": {},
   "source": [
    "## `for`-lussen"
   ]
  },
  {
   "cell_type": "markdown",
   "id": "b81070aa-5ff6-421e-82d1-b789ec92cfcc",
   "metadata": {},
   "source": [
    "## List comprehension"
   ]
  },
  {
   "cell_type": "markdown",
   "id": "d88d17ce-c3dc-4644-86cc-7ef7252b1741",
   "metadata": {},
   "source": [
    "## `while`-lussen"
   ]
  },
  {
   "cell_type": "markdown",
   "id": "9975a457-3ffc-432d-a471-ccb883bc030d",
   "metadata": {},
   "source": [
    "## Recursieve oplossingen"
   ]
  },
  {
   "cell_type": "markdown",
   "id": "a118b7e4-8539-45f9-8d7f-c3770e451318",
   "metadata": {},
   "source": [
    "## Welke oplossing?"
   ]
  },
  {
   "cell_type": "markdown",
   "id": "b8a420cb-4c51-4d48-8c4f-090dd78d798a",
   "metadata": {},
   "source": [
    "## Oefeningen"
   ]
  }
 ],
 "metadata": {
  "kernelspec": {
   "display_name": "Python 3 (ipykernel)",
   "language": "python",
   "name": "python3"
  },
  "language_info": {
   "codemirror_mode": {
    "name": "ipython",
    "version": 3
   },
   "file_extension": ".py",
   "mimetype": "text/x-python",
   "name": "python",
   "nbconvert_exporter": "python",
   "pygments_lexer": "ipython3",
   "version": "3.11.6"
  }
 },
 "nbformat": 4,
 "nbformat_minor": 5
}
