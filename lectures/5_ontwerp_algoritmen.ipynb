{
 "cells": [
  {
   "attachments": {},
   "cell_type": "markdown",
   "metadata": {
    "slideshow": {
     "slide_type": "slide"
    }
   },
   "source": [
    "# Ontwerp van algoritmen"
   ]
  },
  {
   "cell_type": "markdown",
   "metadata": {
    "slideshow": {
     "slide_type": "notes"
    }
   },
   "source": [
    "Ook voor mij blijft het een lastig onderwerp. Hoewel ik inmiddels al jaren recursie gebruik, nog steeds heb ik het vaak mis en moet ik weer terug naar de tekentafel om verder te zoeken naar de juiste zelfgelijkenis."
   ]
  },
  {
   "cell_type": "markdown",
   "metadata": {
    "slideshow": {
     "slide_type": "subslide"
    }
   },
   "source": [
    "### De uitdaging\n",
    "\n",
    "De zelfgelijkenis van een probleem kunnen aanwijzen"
   ]
  },
  {
   "cell_type": "markdown",
   "metadata": {
    "slideshow": {
     "slide_type": "subslide"
    }
   },
   "source": [
    "![of de hoofdpijn](images/8/paracetamol.png)"
   ]
  },
  {
   "cell_type": "markdown",
   "metadata": {
    "slideshow": {
     "slide_type": "notes"
    }
   },
   "source": [
    "Laten we het een \"uitdaging\" noemen maar het is bekend dat recursie voor hoofdpijn en slapeloze nachten kan zorgen!"
   ]
  },
  {
   "cell_type": "markdown",
   "metadata": {
    "slideshow": {
     "slide_type": "subslide"
    }
   },
   "source": [
    "### Het doel\n",
    "\n",
    "Het ontwerpen en implementeren van algoritmen voor het oplossen van problemen"
   ]
  },
  {
   "cell_type": "markdown",
   "metadata": {
    "slideshow": {
     "slide_type": "notes"
    }
   },
   "source": [
    "Denk terug aan het begin waar we probeerden duidelijk te maken wat informatica nu precies is? Programmeren is uiteindelijk maar een klein onderdeel van informatica, de nadruk ligt op het bedenken van recepten om van een bepaalde input tot een gewenste input te komen. Hier zijn oplossingsstrategiën voor nodig en recursie is daar één van, later zullen we andere benaderingen gaan ontdekken (die misschien ook voor minder hoofdpijn gaan zorgen)."
   ]
  },
  {
   "cell_type": "markdown",
   "metadata": {
    "slideshow": {
     "slide_type": "slide"
    }
   },
   "source": [
    "## Ontwerpen van wat?\n",
    "\n",
    "<strike>Code (syntax)</strike>\n",
    "\n",
    "Algoritmen! (ideeën)"
   ]
  },
  {
   "cell_type": "markdown",
   "metadata": {
    "slideshow": {
     "slide_type": "subslide"
    }
   },
   "source": [
    "## Algoritmen\n",
    "\n",
    "```python\n",
    "def rem_all(e, L):\n",
    "    \"\"\"Returns sequence L with all e's rmovd\n",
    "    ...\n",
    "```"
   ]
  },
  {
   "cell_type": "markdown",
   "metadata": {
    "slideshow": {
     "slide_type": "subslide"
    }
   },
   "source": [
    "## Top down\n",
    "\n",
    "![rem_all design 0](images/8/design_rem_all_0.png)"
   ]
  },
  {
   "cell_type": "markdown",
   "metadata": {
    "slideshow": {
     "slide_type": "subslide"
    }
   },
   "source": [
    "### Visualiseren\n",
    "\n",
    "![rem_all design 1](images/8/design_rem_all_1.png)"
   ]
  },
  {
   "cell_type": "markdown",
   "metadata": {
    "slideshow": {
     "slide_type": "subslide"
    }
   },
   "source": [
    "### Opdelen\n",
    "\n",
    "![rem_all design 2](images/8/design_rem_all_2.png)"
   ]
  },
  {
   "cell_type": "markdown",
   "metadata": {
    "slideshow": {
     "slide_type": "subslide"
    }
   },
   "source": [
    "### Bouwen\n",
    "\n",
    "![rem_all design 3](images/8/design_rem_all_3.png)"
   ]
  },
  {
   "cell_type": "markdown",
   "metadata": {
    "slideshow": {
     "slide_type": "subslide"
    }
   },
   "source": [
    "### Combineren\n",
    "\n",
    "![rem_all design 4](images/8/design_rem_all_4.png)"
   ]
  },
  {
   "cell_type": "markdown",
   "metadata": {
    "slideshow": {
     "slide_type": "subslide"
    }
   },
   "source": [
    "### Testen\n",
    "\n",
    "![rem_all design 5](images/8/design_rem_all_5.png)"
   ]
  },
  {
   "cell_type": "markdown",
   "metadata": {
    "slideshow": {
     "slide_type": "subslide"
    }
   },
   "source": [
    "### Combineren en testen\n",
    "\n",
    "```python\n",
    "def letter_score(c):\n",
    "    \"\"\"Scrabble letterscore\n",
    "    \"\"\"\n",
    "    ...\n",
    "    \n",
    "def scrabble_score(s):\n",
    "    \"\"\"Scrabble wordscore\n",
    "    \"\"\"\n",
    "    LC = [letter_score(c) for c in s]\n",
    "    return sum(LC)\n",
    "```"
   ]
  },
  {
   "cell_type": "markdown",
   "metadata": {
    "slideshow": {
     "slide_type": "fragment"
    }
   },
   "source": [
    "```python\n",
    "assert letter_score(\"q\") == 10\n",
    "assert scrabble_score(\"quiz\") == 21\n",
    "```"
   ]
  },
  {
   "cell_type": "markdown",
   "metadata": {
    "slideshow": {
     "slide_type": "subslide"
    }
   },
   "source": [
    "## Use it or lose it!\n",
    "\n",
    "```python\n",
    "def rem_all(e, L):\n",
    "    \"\"\"Returns sequence L with all e's rmovd\n",
    "    \"\"\"\n",
    "    if len(L) == 0:\n",
    "        return L\n",
    "    elif L[0] != e:\n",
    "        return L[0:1] + rem_all(e, L[1:])  # use it!\n",
    "    else:\n",
    "        return          rem_all(e, L[1:])  # lose it!\n",
    "```\n",
    "\n",
    "Bijvoorbeeld\n",
    "\n",
    "```python\n",
    "assert rem_all(42, [5, 7, 42, 8, 42]) == [5, 7, 8]\n",
    "assert rem_all(\"q\", \"qaqqlqqiqqiiqeqqnqs\") == \"aliiiens\"\n",
    "```"
   ]
  },
  {
   "cell_type": "markdown",
   "metadata": {
    "slideshow": {
     "slide_type": "subslide"
    }
   },
   "source": [
    "![rem_all](images/8/rem_all.png)"
   ]
  },
  {
   "cell_type": "markdown",
   "metadata": {
    "slideshow": {
     "slide_type": "subslide"
    }
   },
   "source": [
    "### Een bekend patroon\n",
    "\n",
    "```python\n",
    "def max(L):\n",
    "    \"\"\"Find max value in L\n",
    "    \"\"\"\n",
    "    if len(L) < 2:\n",
    "        return L[0]\n",
    "\n",
    "    max_of_rest = max(L[1:])\n",
    "\n",
    "    if L[0] > max_of_rest:\n",
    "        return L[0]         # use it!\n",
    "    else:\n",
    "        return max_of_rest  # lose it!\n",
    "```"
   ]
  },
  {
   "cell_type": "markdown",
   "metadata": {
    "slideshow": {
     "slide_type": "notes"
    }
   },
   "source": [
    "We hopen dat je het *use it or lose it!* patroon inmiddels herkent? Denk bijvoorbeeld aan de recursieve implementatie van de ingebouwde functie `max`, een oude bekende! Denk ook terug aan andere voorbeelden of opgaven waar steeds een vergelijkbare keus werd gemaakt."
   ]
  },
  {
   "cell_type": "markdown",
   "metadata": {
    "slideshow": {
     "slide_type": "slide"
    }
   },
   "source": [
    "## Quiz"
   ]
  },
  {
   "cell_type": "markdown",
   "metadata": {
    "slideshow": {
     "slide_type": "subslide"
    }
   },
   "source": [
    "### Van `rem_all` naar `rem_one`\n",
    "\n",
    "Verwijder `e` **één** keer uit `L`\n",
    "\n",
    "```python\n",
    "def rem_one(e, L):\n",
    "    \"\"\"Returns sequence L with one e rmoved\n",
    "    \"\"\"\n",
    "    if len(L) == 0:\n",
    "        return L\n",
    "    elif L[0] != e:\n",
    "        return L[0:1] + rem_one(e, L[1:])\n",
    "    else:\n",
    "        return rem_one(e, L[1:])\n",
    "```\n",
    "\n",
    "Bijvoorbeeld\n",
    "\n",
    "```python\n",
    "assert rem_one(8, [7, 8, 9, 8]) == [7, 9, 8]\n",
    "assert rem_one(\"d\", \"coded\") == \"coed\"\n",
    "```\n",
    "\n",
    "Deze `rem_one` werkt nog als `rem_all`. Eén onderdeel moet worden aangepast, welke is het?"
   ]
  },
  {
   "cell_type": "markdown",
   "metadata": {
    "slideshow": {
     "slide_type": "subslide"
    }
   },
   "source": [
    "### Oplossing\n",
    "\n",
    "```python\n",
    "def rem_one(e, L):\n",
    "    \"\"\"Returns sequence L with one e rmoved\n",
    "    \"\"\"\n",
    "    if len(L) == 0:\n",
    "        return L\n",
    "    elif L[0] != e:\n",
    "        return L[0:1] + rem_one(e, L[1:])\n",
    "    else:\n",
    "        return L[1:]\n",
    "```"
   ]
  },
  {
   "cell_type": "markdown",
   "metadata": {
    "slideshow": {
     "slide_type": "notes"
    }
   },
   "source": [
    "Als `L[0]` niet gelijk is aan `e`, gebruik het dan. Maar als sprake is van een *lose it*  situatie dan zal dit maar één keer moeten gebeuren. Een herhaling (recursie) is in dit geval dus niet nodig en het volstaat om de rest van `L` direct terug te geven."
   ]
  },
  {
   "cell_type": "markdown",
   "metadata": {
    "slideshow": {
     "slide_type": "subslide"
    }
   },
   "source": [
    "### Van `rem_one` naar `rem_up_to`\n",
    "\n",
    "Verwijder alles uit `L` **tot en met** de  eerste `e`\n",
    "\n",
    "```python\n",
    "def rem_up_to(e, L):\n",
    "    \"\"\"Returns sequence L up to the first e moved\n",
    "    \"\"\"\n",
    "    if len(L) == 0:\n",
    "        return L\n",
    "    elif L[0] != e:\n",
    "        return L[0:1] + rem_up_to(e, L[1:])\n",
    "    else:\n",
    "        return L[1:]\n",
    "```\n",
    "\n",
    "Bijvoorbeeld\n",
    "\n",
    "```python\n",
    "assert rem_up_to(8, [7, 8, 9, 8]) == [9, 8]\n",
    "assert rem_up_to(\"d\", \"coded\") == \"ed\")\n",
    "```\n",
    "\n",
    "Deze `rem_up_to` werkt nog als `rem_one`. Eén onderdeel moet worden aangepast, welke is het?"
   ]
  },
  {
   "cell_type": "markdown",
   "metadata": {
    "slideshow": {
     "slide_type": "subslide"
    }
   },
   "source": [
    "### Oplossing\n",
    "\n",
    "```python\n",
    "def rem_up_to(e, L):\n",
    "    \"\"\"Returns sequence L up to the first e moved\n",
    "    \"\"\"\n",
    "    if len(L) == 0:\n",
    "        return L\n",
    "    elif L[0] != e:\n",
    "        return rem_up_to(e, L[1:])\n",
    "    else:\n",
    "        return L[1:]\n",
    "```"
   ]
  },
  {
   "cell_type": "markdown",
   "metadata": {
    "slideshow": {
     "slide_type": "notes"
    }
   },
   "source": [
    "In dit geval hebben we geen nut meer voor een *use it* geval `L[0]`, want alles tot een met (de *use it*'s moeten juist worden verwijderd). Misschien is het in dit geval toepasselijker te spreken over *forget it*!"
   ]
  },
  {
   "cell_type": "markdown",
   "metadata": {
    "slideshow": {
     "slide_type": "subslide"
    }
   },
   "source": [
    "## LCS\n",
    "\n",
    "Het string-matching probleem in biologie:\n",
    "\n",
    "- 'HUMAN'\n",
    "- 'CHIMPANZEE'\n",
    "\n",
    "Wat is de langst gemeenschappelijke opeenvolging van karakters?"
   ]
  },
  {
   "cell_type": "markdown",
   "metadata": {
    "slideshow": {
     "slide_type": "notes"
    }
   },
   "source": [
    "In biologie is dit een werkelijk probleem waar het gaat om het vergelijken van DNA-sequenties."
   ]
  },
  {
   "cell_type": "markdown",
   "metadata": {
    "slideshow": {
     "slide_type": "subslide"
    }
   },
   "source": [
    "### Fylogenie\n",
    "\n",
    "De studie van relaties tussen verschillende groepen organismen en hun evolutionaire ontwikkeling."
   ]
  },
  {
   "cell_type": "markdown",
   "metadata": {
    "slideshow": {
     "slide_type": "subslide"
    }
   },
   "source": [
    "![Fylogenie](images/8/phylogeny_nucleotide.png)"
   ]
  },
  {
   "cell_type": "markdown",
   "metadata": {
    "slideshow": {
     "slide_type": "notes"
    }
   },
   "source": [
    "Op basis van genetische overeenkomsten (gemeenschappelijke DNA subsequenties) kan worden bepaald hoe dicht bij of ver weg organismen evolutionair van elkaar staan."
   ]
  },
  {
   "cell_type": "markdown",
   "metadata": {
    "slideshow": {
     "slide_type": "subslide"
    }
   },
   "source": [
    "![](images/8/RPLP0_90_ClustalW_aln.png)"
   ]
  },
  {
   "cell_type": "markdown",
   "metadata": {
    "slideshow": {
     "slide_type": "notes"
    }
   },
   "source": [
    "Hoe kunnen de best gemeenschappelijke subsequenties worden gevonden binnen deze genomen? Dit is een algoritmisch probleem waar het lose it or use it principe kan worden toegepast."
   ]
  },
  {
   "cell_type": "markdown",
   "metadata": {
    "slideshow": {
     "slide_type": "slide"
    }
   },
   "source": [
    "## Subsequenties\n",
    "\n",
    "*Use it or lose it!*"
   ]
  },
  {
   "cell_type": "markdown",
   "metadata": {
    "slideshow": {
     "slide_type": "fragment"
    }
   },
   "source": [
    "```python\n",
    "subseq(\"alg\", \"magical\") == False\n",
    "```"
   ]
  },
  {
   "cell_type": "markdown",
   "metadata": {
    "slideshow": {
     "slide_type": "fragment"
    }
   },
   "source": [
    "```python\n",
    "subseq('alg','twasbrillig') == True\n",
    "```"
   ]
  },
  {
   "cell_type": "markdown",
   "metadata": {
    "slideshow": {
     "slide_type": "subslide"
    }
   },
   "source": [
    "![](images/8/sub_seq_0.png)"
   ]
  },
  {
   "cell_type": "markdown",
   "metadata": {
    "slideshow": {
     "slide_type": "subslide"
    }
   },
   "source": [
    "- Wat is een klein (eerste) stukje van het probleem?\n",
    "- Hoe zouden we het omschrijven in termen van de inputs?\n",
    "- Wat blijft er over na de behandeling van dit stuk?\n",
    "- Zijn er nog andere functies die we nodig hebben?"
   ]
  },
  {
   "cell_type": "markdown",
   "metadata": {
    "slideshow": {
     "slide_type": "notes"
    }
   },
   "source": [
    "Dit zijn de vragen die je jezelf zal moeten stellen wanneer je een probleen gaat opsplitsen in kleinere delen. Bijvoorbeeld in dit geval, als `s[0]` overeenkomt met `sbig[0]`, wat blijft er over na een eerse behandeling?"
   ]
  },
  {
   "cell_type": "markdown",
   "metadata": {
    "slideshow": {
     "slide_type": "subslide"
    }
   },
   "source": [
    "### Base case\n",
    "\n",
    "```python\n",
    "def subseq(s, sbig):\n",
    "    \"\"\"Returns True if s is a subsequence of sbig;\n",
    "    False otherwise. Both are strings.\n",
    "    \"\"\"\n",
    "    if s == \"\":\n",
    "        return True\n",
    "    \n",
    "    elif s[0] not in sbig:  # niet meer aanwezig, stoppen\n",
    "        return False\n",
    "```"
   ]
  },
  {
   "cell_type": "markdown",
   "metadata": {
    "slideshow": {
     "slide_type": "notes"
    }
   },
   "source": [
    "Wat zou je hier identificeren als de \"it\" in *use it or lose it*? `s[0]` is het eerste geval dat overeen moet komen met een opeenvolgend karakter in `sbig`, laat dit de *it* zijn!"
   ]
  },
  {
   "cell_type": "markdown",
   "metadata": {
    "slideshow": {
     "slide_type": "subslide"
    }
   },
   "source": [
    "### Recursieve stappen\n",
    "\n",
    "Combineren met *use it or lose it!*"
   ]
  },
  {
   "cell_type": "markdown",
   "metadata": {
    "slideshow": {
     "slide_type": "subslide"
    }
   },
   "source": [
    "Indien *it* **niet** gelijk \n",
    "\n",
    "```python\n",
    "s[0] != sbig[0]\n",
    "```\n",
    "\n",
    "*use it* en herhaal voor de rest\n",
    "\n",
    "```python\n",
    "subseq(s[0:], sbig[1:])\n",
    "```"
   ]
  },
  {
   "cell_type": "markdown",
   "metadata": {
    "slideshow": {
     "slide_type": "subslide"
    }
   },
   "source": [
    "Indien *it* **wel** gelijk \n",
    "\n",
    "```python\n",
    "s[0] == sbig[0]\n",
    "```\n",
    "\n",
    "*lose it* en herhaal voor de rest\n",
    "\n",
    "```python\n",
    "subseq(s[1:], sbig[1:])\n",
    "```"
   ]
  },
  {
   "cell_type": "markdown",
   "metadata": {
    "slideshow": {
     "slide_type": "subslide"
    }
   },
   "source": [
    "### De handelingen\n",
    "\n",
    "\n",
    "Is \"ctg\" een subsequentie van \"tacggta\"?\n",
    "\n",
    "1. `subseq(\"ctg\", \"tacggta\")` use it!\n",
    "2. `subseq(\"ctg\", \"acggta\")` use it!\n",
    "3. `subseq(\"ctg\", \"cggta\")` use it!\n",
    "4. `subseq(\"tg\", \"ggta\")` lose it!\n",
    "5. `subseq(\"tg\", \"gta\")` use it!\n",
    "6. `subseq(\"tg\", \"ta\")` use it!\n",
    "7. `subseq(\"g\", \"a\")` lose it!\n",
    "8. Base case `s[0] not in sbig` => `False`\n",
    "\n",
    "\"ctg\" is *geen* subsequentie van \"tacggta\""
   ]
  },
  {
   "cell_type": "markdown",
   "metadata": {
    "slideshow": {
     "slide_type": "subslide"
    }
   },
   "source": [
    "### Volledig\n",
    "\n",
    "```python\n",
    "def subseq(s, sbig):\n",
    "    \"\"\"Returns True if s is a subsequence of sbig;\n",
    "    False otherwise. Both are strings.\n",
    "    \"\"\"\n",
    "    if s == \"\":\n",
    "        return True\n",
    "    \n",
    "    elif s[0] not in sbig:  # niet aanwezig, stoppen\n",
    "        return False\n",
    "    \n",
    "    # recursieve stappen\n",
    "    \n",
    "    elif s[0] != sbig[0]:\n",
    "        return subseq(s[0:], sbig[1:])  # use it!\n",
    "    \n",
    "    else:\n",
    "        return subseq(s[1:], sbig[1:])  # lose it!\n",
    "```"
   ]
  }
 ],
 "metadata": {
  "kernelspec": {
   "display_name": "Python 3 (ipykernel)",
   "language": "python",
   "name": "python3"
  },
  "language_info": {
   "codemirror_mode": {
    "name": "ipython",
    "version": 3
   },
   "file_extension": ".py",
   "mimetype": "text/x-python",
   "name": "python",
   "nbconvert_exporter": "python",
   "pygments_lexer": "ipython3",
   "version": "3.10.7"
  }
 },
 "nbformat": 4,
 "nbformat_minor": 4
}
