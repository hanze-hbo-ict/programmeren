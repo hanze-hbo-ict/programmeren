{
 "cells": [
  {
   "cell_type": "markdown",
   "metadata": {},
   "source": [
    "# Uitwerking toets"
   ]
  },
  {
   "cell_type": "markdown",
   "metadata": {},
   "source": [
    "## Opgave 1\n",
    "\n",
    "Bij deze opgave gaat het om het toekennen van waarden aan variabelen en bewerkingen met deze variabelen uit te voeren."
   ]
  },
  {
   "cell_type": "code",
   "execution_count": 1,
   "metadata": {},
   "outputs": [
    {
     "name": "stdout",
     "output_type": "stream",
     "text": [
      "1.0 meter en 90.5 centimeter\n"
     ]
    }
   ],
   "source": [
    "feet = 6\n",
    "inches = 3\n",
    "\n",
    "centimeter = (6 * 12 + 3) * 2.54\n",
    "\n",
    "meter = centimeter // 100\n",
    "centimeter = centimeter % 100\n",
    "\n",
    "print(f\"{meter} meter en {centimeter} centimeter\")\n"
   ]
  },
  {
   "cell_type": "markdown",
   "metadata": {},
   "source": [
    "Gegeven is hoe je op basis van feet en inches tot een totaal aantal inches kan komen, vermenigvuldig dit met 2,54 om vervolgens tot het totaal aantal centimeters te komen. Bedenk dat je de *floor division* `//` kan gebruiken hoeveel keer 100 (1 meter is 100 centimeter) in het aantal centimeters past. Voor het aantal centimeters dat overblijft is modulo `%` geschikt want dat geeft een restant terug.\n",
    "\n",
    "We gebruiken hier een f-string voor het formatteren van een string met waarden, maar het volgende is ook heel goed mogelijk\n",
    "\n",
    "```python\n",
    "print(meter, \"meter en\", centimeter, \"centimeter\")\n",
    "```"
   ]
  },
  {
   "cell_type": "markdown",
   "metadata": {},
   "source": [
    "## Opgave 2\n",
    "\n",
    "Deze opgave gaat over conditional statements en met name over het uitsluiten van mogelijkheden."
   ]
  },
  {
   "cell_type": "code",
   "execution_count": 2,
   "metadata": {},
   "outputs": [
    {
     "name": "stdout",
     "output_type": "stream",
     "text": [
      "TS\n"
     ]
    }
   ],
   "source": [
    "s = 100\n",
    "\n",
    "if s >= 252:\n",
    "    print(5)\n",
    "elif s >= 209:\n",
    "    print(4)\n",
    "elif s >= 178:\n",
    "    print(3)\n",
    "elif s >= 154:\n",
    "    print(2)\n",
    "elif s >= 119:\n",
    "    print(1)\n",
    "elif s >= 63:\n",
    "    print(\"TS\")\n",
    "else:\n",
    "    print(\"TD\")"
   ]
  },
  {
   "cell_type": "markdown",
   "metadata": {},
   "source": [
    "Het volstaat hier om te controleren op de laagste waarden want dat is een begrenzing van de categorieën. Maar andere uitwerkingen zijn mogelijk, bijvoorbeeld\n",
    "\n",
    "```python\n",
    "if s >= 252:\n",
    "    print(5)\n",
    "elif s >= 209 and s <= 251:\n",
    "    print(4)\n",
    "elif s >= 178 and s <= 208:\n",
    "    ...\n",
    "```\n",
    "\n",
    "of \n",
    "\n",
    "```python\n",
    "if s >= 252:\n",
    "    print(5)\n",
    "elif 209 <= s <= 251:\n",
    "    print(4)\n",
    "elif 178 <= s <= 208:\n",
    "    ...\n",
    "```"
   ]
  },
  {
   "cell_type": "markdown",
   "metadata": {},
   "source": [
    "## Opgave 3\n",
    "\n",
    "Deze opgave gaat over lezen en begrijpen van code, maar ook aanpassingen kunt doen waar je gebruik maakt van de fouten (feedback) die Python geeft. Je ziet hier de gecorrigeerde code"
   ]
  },
  {
   "cell_type": "code",
   "execution_count": 3,
   "metadata": {},
   "outputs": [],
   "source": [
    "def remove_double(L):\n",
    "    \"\"\"Verwijder dubbele waarden uit een list\n",
    "\n",
    "    Deze functie accepteert een list L en geeft een list\n",
    "    met de unieke elementen in L terug als resultaat.\n",
    "    \"\"\"\n",
    "    if len(L) == 0:\n",
    "        return L\n",
    "    if L[0] in L[1:]:\n",
    "        return remove_double(L[1:])\n",
    "    return [L[0]] + remove_double(L[1:])"
   ]
  },
  {
   "cell_type": "code",
   "execution_count": 4,
   "metadata": {},
   "outputs": [],
   "source": [
    "assert remove_double([1, 4, 2, 3, 2]) == [1, 4, 3, 2]"
   ]
  },
  {
   "cell_type": "markdown",
   "metadata": {},
   "source": [
    "### Opgave 3a\n",
    "\n",
    "-   Deze functie geeft een list terug, dit betekent ook dat de base case een list moet teruggeven (hier wordt nu `L` teruggegeven, een lege list)\n",
    "-   Gecontroleerd moet worden of het eerste element (`L[0]`) zich in ook in de *rest* (`L[1:]`) van de lijst bevindt\n",
    "-   De rest van de lijst (`L[1:]`) zal in de recursieve aanroep moeten worden doorgegeven.\n",
    "-   Het resultaat van de lijst is een list, om `L[0]` aan de lijst toe te voegen zal het in een list moeten worden gezet (`[L[0]]`). Want een list + een list geeft een nieuwe list."
   ]
  },
  {
   "cell_type": "markdown",
   "metadata": {},
   "source": [
    "### Opgave 3b\n",
    "\n",
    "Een docstring documenteert de functie en geeft beknopte informatie over wat de functie doet en eventueel verdere informatie over de parameters die worden geaccepteerd en de returnwaarde. Dit is een vrij tekstveld, zorg er voor dat je voldoende de kenmerken van de functie hier beschrijft."
   ]
  },
  {
   "cell_type": "markdown",
   "metadata": {},
   "source": [
    "### Opgave 3c\n",
    "\n",
    "Voeg extra assertions (tests) toe. Ga hier op zoek naar bijzondere gevallen of bedenk variaties op de gegeven assertion, bijvoorbeeld"
   ]
  },
  {
   "cell_type": "code",
   "execution_count": 5,
   "metadata": {},
   "outputs": [],
   "source": [
    "assert remove_double([1, 2, 3, 4]) == [1, 2, 3, 4]\n",
    "assert remove_double([]) == []\n",
    "assert remove_double([4, 4, 4, 4]) == [4]"
   ]
  },
  {
   "cell_type": "markdown",
   "metadata": {},
   "source": [
    "## Opgave 4\n",
    "\n",
    "Deze opgave gaat over het kunnen herkennen van base- en recursive case(s) en het algoritme kunnen omzetten naar code."
   ]
  },
  {
   "cell_type": "code",
   "execution_count": 6,
   "metadata": {},
   "outputs": [],
   "source": [
    "def check_extension(s, e):\n",
    "    if len(e) == 0:\n",
    "        return True\n",
    "\n",
    "    if len(s) == 0:\n",
    "        return False\n",
    "\n",
    "    if e[-1] != s[-1]:\n",
    "        return False\n",
    "    else:\n",
    "        return check_extension(s[:-1], e[:-1])"
   ]
  },
  {
   "cell_type": "code",
   "execution_count": 7,
   "metadata": {},
   "outputs": [],
   "source": [
    "assert check_extension(\"tentamen.docx\", \".exe\") == False\n",
    "assert check_extension(\"program.exe\", \".exe\") == True\n",
    "assert check_extension(\"wk8ex1.py\", \".py\") == True"
   ]
  },
  {
   "cell_type": "markdown",
   "metadata": {},
   "source": [
    "## Opgave 5\n",
    "\n",
    "Deze opgave gaat over het ontwerpen van een algoritme op basis van een probleembeschrijving en de regels die gelden."
   ]
  },
  {
   "cell_type": "markdown",
   "metadata": {},
   "source": [
    "### Opgave 5a\n",
    "\n",
    "Beschrijf in eigen woorden de handelingen die de gevangenen moeten uitvoeren. Denk hier ook aan opgave 4 waar een uiteindelijk een algoritme, of stappenplan wordt gegeven.\n",
    "\n",
    "Een beschrijving zou als volgt kunnen zijn. Een dief pakt een getal uit de beker en controleert of het een even getal is. Als het een oneven getal is fluistert hij direct False aan de buurman waar hij eerder het kopje heeft gekregen (de linkerbuur). Anders geeft hij het kopje door naar de volgende (de rechterbuur) en wacht op wat hem teruggefluisterd wordt en geeft dat door aan de linkerbuur. Het is eenvoudig als het kopje leeg is want dan wordt direct True teruggefluisterd en hoeft het kopje niet te worden doorgegeven."
   ]
  },
  {
   "cell_type": "markdown",
   "metadata": {},
   "source": [
    "### Opgave 5b\n",
    "\n",
    "Als het goed is zou je de strategie die je hebt bedacht kunnen vertalen naar een oplossing in code."
   ]
  },
  {
   "cell_type": "code",
   "execution_count": 8,
   "metadata": {},
   "outputs": [],
   "source": [
    "def all_even(L):\n",
    "    if len(L) == 0:  # leeg kopje ...\n",
    "        return True\n",
    "\n",
    "    if L[0] % 2 != 0: # het getrokken getal is niet even\n",
    "        return False\n",
    "    else:\n",
    "        return all_even(L[1:]) # geef de rest van het kopje door en fluister het antwoord terug"
   ]
  },
  {
   "cell_type": "code",
   "execution_count": 9,
   "metadata": {},
   "outputs": [],
   "source": [
    "assert all_even([1, 2, 3, 4]) == False\n",
    "assert all_even([2, 4, 6, 8]) == True"
   ]
  },
  {
   "cell_type": "markdown",
   "metadata": {},
   "source": [
    "## Opgave 6\n",
    "\n",
    "Deze opgave gaat over het ontwerpen en schrijven van een hulpfunctie in combinatie met een hoofdfunctie."
   ]
  },
  {
   "cell_type": "markdown",
   "metadata": {},
   "source": [
    "### Opgave 6a\n",
    "\n",
    "Ook hier wordt gevraagd eerst goed na te denken over het probleem om vervolgens tot een stappenplan te komen. Dit lijkt weer veel op opgave 5a, een mogelijke (beknopte) beschrijving zou als volgt kunnen zijn.\n",
    "\n",
    "-   als `s` leeg is dan valt er verder niets te controleren en geef je `True` terug, want `g` moet met `s` beginnen (en die is leeg en dat is prima)\n",
    "-   als `g` leeg is dan valt er ook niets te controleren en geef je `False` terug, want een groet `g` moet aanwezig zijn om te controleren voor `s`\n",
    "-   als het eerste karakter van `s` niet gelijk is aan het eerste karakter van `g`, geef dan `False` terug\n",
    "-   anders herhaal je de bovenstaande handelingen voor de zowel `s` als `g` zonder de eerste karakters (want die zijn zojuist al gecontroleerd) \n"
   ]
  },
  {
   "cell_type": "markdown",
   "metadata": {},
   "source": [
    "### Opgave 6b\n",
    "\n",
    "Op basis van het bovenstaande algoritme zou een oplossing als volgt zijn"
   ]
  },
  {
   "cell_type": "code",
   "execution_count": 10,
   "metadata": {},
   "outputs": [],
   "source": [
    "def starts_with(g, s):\n",
    "    if not s:  # of if len(s) == 0\n",
    "        return True\n",
    "    if not g:  # of if len(g) == 0\n",
    "        return False\n",
    "\n",
    "    if g[0] != s[0]:\n",
    "        return False\n",
    "    else:\n",
    "        return starts_with(g[1:], s[1:])"
   ]
  },
  {
   "cell_type": "code",
   "execution_count": 11,
   "metadata": {},
   "outputs": [],
   "source": [
    "assert starts_with(\"hoi\", \"hoi\") == True\n",
    "assert starts_with(\"hoipiepeloi\", \"hoi\") == True\n",
    "assert starts_with(\"hey\", \"h\") == True\n",
    "assert starts_with(\"moi\", \"hoi\") == False\n",
    "assert starts_with(\"\", \"hoi\") == False\n",
    "assert starts_with(\"ho\", \"hoi\") == False"
   ]
  },
  {
   "cell_type": "markdown",
   "metadata": {},
   "source": [
    "### Opgave 6c\n",
    "\n",
    "Deze functie zal gebruik gaan maken van de zojuist geschreven hulpfunctie en implementeert de regels zoals afgesproken met de manager van de bank"
   ]
  },
  {
   "cell_type": "code",
   "execution_count": 12,
   "metadata": {},
   "outputs": [],
   "source": [
    "def greeting(g):\n",
    "    if starts_with(g, \"hello\"):\n",
    "        return 0\n",
    "    elif starts_with(g, \"h\"):\n",
    "        return 20\n",
    "    else:\n",
    "        return 100"
   ]
  },
  {
   "cell_type": "code",
   "execution_count": 13,
   "metadata": {},
   "outputs": [],
   "source": [
    "assert greeting(\"dit is een test\") == 100\n",
    "assert greeting(\"hoi\") == 20\n",
    "assert greeting(\"hello world\") == 0"
   ]
  },
  {
   "cell_type": "markdown",
   "metadata": {},
   "source": [
    "Mocht je de functie `starts_with` niet hebben kunnen schrijven dan kan je volgens de tip als alternatief het volgende gebruiken"
   ]
  },
  {
   "cell_type": "code",
   "execution_count": 14,
   "metadata": {},
   "outputs": [],
   "source": [
    "def greeting(g):\n",
    "    if g.find(\"hello\") == 0:\n",
    "        return 0\n",
    "    elif g.find(\"h\") == 0:\n",
    "        return 20\n",
    "    else:\n",
    "        return 100"
   ]
  },
  {
   "cell_type": "code",
   "execution_count": 15,
   "metadata": {},
   "outputs": [],
   "source": [
    "assert greeting(\"dit is een test\") == 100\n",
    "assert greeting(\"hoi\") == 20\n",
    "assert greeting(\"hello world\") == 0"
   ]
  }
 ],
 "metadata": {
  "kernelspec": {
   "display_name": "jupyter",
   "language": "python",
   "name": "python3"
  },
  "language_info": {
   "codemirror_mode": {
    "name": "ipython",
    "version": 3
   },
   "file_extension": ".py",
   "mimetype": "text/x-python",
   "name": "python",
   "nbconvert_exporter": "python",
   "pygments_lexer": "ipython3",
   "version": "3.11.6"
  }
 },
 "nbformat": 4,
 "nbformat_minor": 2
}
