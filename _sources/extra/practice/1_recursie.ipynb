{
 "cells": [
  {
   "cell_type": "markdown",
   "metadata": {},
   "source": [
    "# Recursie\n",
    "\n",
    "Gebruik recursie om de volgende problemen op te lossen."
   ]
  },
  {
   "cell_type": "markdown",
   "metadata": {},
   "source": [
    "## Opgaven"
   ]
  },
  {
   "cell_type": "markdown",
   "metadata": {},
   "source": [
    "### `one_to_sum`\n",
    "\n",
    "De functie `one_to_sum` accepteert een integer `n` en heeft als resultaat de optelling van de getallen 1 tot en met `n`. Je mag hier niet de ingebouwde functie `sum` gebruiken."
   ]
  },
  {
   "cell_type": "code",
   "execution_count": 1,
   "metadata": {},
   "outputs": [],
   "source": [
    "def one_to_sum(n):\n",
    "    \"\"\"Sum all integer values from 1 to n\n",
    "    \"\"\"\n",
    "    ...\n"
   ]
  },
  {
   "cell_type": "markdown",
   "metadata": {},
   "source": [
    "Gebruik de volgende assertions om jouw oplossing te testen:\n",
    "\n",
    "```python\n",
    "assert one_to_sum(0) == 0\n",
    "assert one_to_sum(1) == 1 \n",
    "assert one_to_sum(3) == 6   # 3 + 2 + 1\n",
    "assert one_to_sum(5) == 15  # 5 + 4 + 3 + 2 + 1\n",
    "```"
   ]
  },
  {
   "cell_type": "markdown",
   "metadata": {},
   "source": [
    "### `sum_list`\n",
    "\n",
    "De functie `sum_list` accepteert een list `L` met integers en heeft als resultaat de optelling van deze waarden. Je mag hier niet de ingebouwde funtie `sum` gebruiken."
   ]
  },
  {
   "cell_type": "code",
   "execution_count": 2,
   "metadata": {},
   "outputs": [],
   "source": [
    "def sum_list(L):\n",
    "    \"\"\"Sum all values in L\n",
    "    \"\"\"\n",
    "    ...\n"
   ]
  },
  {
   "cell_type": "markdown",
   "metadata": {},
   "source": [
    "Gebruik de volgende assertions om jouw oplossing te testen:\n",
    "\n",
    "```python\n",
    "assert sum_list([2, 6, 9]) == 17\n",
    "assert sum_list([4]) == 4\n",
    "assert sum_list([]) == 0\n",
    "```"
   ]
  },
  {
   "cell_type": "markdown",
   "metadata": {},
   "source": [
    "### `mult_of_five`\n",
    "\n",
    "De functie `mult_of_five` accepteert een integer `n` en heeft als resultaat een list met de veelvouden 1 tot en met `n` van 5."
   ]
  },
  {
   "cell_type": "code",
   "execution_count": 3,
   "metadata": {},
   "outputs": [],
   "source": [
    "def mult_of_five(n):\n",
    "    \"\"\"Return a list containing the first n multiples of 5\n",
    "    \"\"\"\n",
    "    ...\n"
   ]
  },
  {
   "cell_type": "markdown",
   "metadata": {},
   "source": [
    "Gebruik de volgende assertions om jow oplossingen te testen:\n",
    "\n",
    "```python\n",
    "assert mult_of_five(0) == []\n",
    "assert mult_of_five(1) == [5]\n",
    "assert mult_of_five(2) == [5, 10]\n",
    "assert mult_of_five(3) == [5, 10, 15] \n",
    "```"
   ]
  },
  {
   "cell_type": "markdown",
   "metadata": {},
   "source": [
    "### `power_n`\n",
    "\n",
    "De functie `power_n` accepteert de integers `b` en `n` en heeft als resultaat `b` tot de macht`n`. Ga er van uit dat zowel `b` als `n` groter zijn dan 0, je mag hier niet `**` gebruiken om het resultaat te berekenen."
   ]
  },
  {
   "cell_type": "code",
   "execution_count": 4,
   "metadata": {},
   "outputs": [],
   "source": [
    "def power_n(b, n):\n",
    "    \"\"\"Return base b to the power of n\n",
    "    \"\"\"\n",
    "    ...\n"
   ]
  },
  {
   "cell_type": "markdown",
   "metadata": {},
   "source": [
    "Gebruik de volgende assertions om jouw oplossing te testen:\n",
    "\n",
    "```python\n",
    "assert power_n(0, 0) == 1\n",
    "assert power_n(0, 1) == 0\n",
    "assert power_n(1, 1) == 1\n",
    "assert power_n(2, 2) == 4\n",
    "assert power_n(2, 3) == 8\n",
    "assert power_n(3, 2) == 9\n",
    "```"
   ]
  },
  {
   "cell_type": "markdown",
   "metadata": {},
   "source": [
    "### `double_letters`\n",
    "\n",
    "De functie `double_letters` accepteert een string `s` en heeft als resulaat een string met de karakters in `s` verdubbeld."
   ]
  },
  {
   "cell_type": "code",
   "execution_count": 5,
   "metadata": {},
   "outputs": [],
   "source": [
    "def double_letters(s):\n",
    "    \"\"\"Double all letters in s\n",
    "    \"\"\"\n",
    "    ...\n"
   ]
  },
  {
   "cell_type": "markdown",
   "metadata": {},
   "source": [
    "Gebruik de volgende assertions om jouw oplossingen te testen:\n",
    "\n",
    "```python\n",
    "assert double_letters(\"hi\") == \"hhii\"\n",
    "assert double_letters(\"hello\") == \"hheelllloo\"\n",
    "```"
   ]
  },
  {
   "cell_type": "markdown",
   "metadata": {},
   "source": [
    "### `no_x`\n",
    "\n",
    "De functie `no_x` accepteert een string `s` en verwijdert alle x'en geeft het resultaat terug."
   ]
  },
  {
   "cell_type": "code",
   "execution_count": null,
   "metadata": {},
   "outputs": [],
   "source": [
    "def no_x(s):\n",
    "    \"\"\"Return s with all x's removed\n",
    "    \"\"\"\n",
    "    ...\n"
   ]
  },
  {
   "cell_type": "markdown",
   "metadata": {},
   "source": [
    "Gebruik de volgende assertions om jouw code te testen:\n",
    "\n",
    "```python\n",
    "assert no_x(\"x1xx2x3\") == \"123\"\n",
    "assert no_x(\"xxx\") == \"\"\n",
    "```"
   ]
  },
  {
   "cell_type": "markdown",
   "metadata": {},
   "source": [
    "### `all_star`\n",
    "\n",
    "De functie `all_star` accepteert een string `s` en plaatst een * tussen de karakters en geeft het resultaat terug."
   ]
  },
  {
   "cell_type": "code",
   "execution_count": 7,
   "metadata": {},
   "outputs": [],
   "source": [
    "def all_star(s):\n",
    "    \"\"\"Returns string s with all characters separated by *\n",
    "    \"\"\"\n",
    "    ...\n"
   ]
  },
  {
   "cell_type": "markdown",
   "metadata": {},
   "source": [
    "Gebruik de volgende assertions om jouw oplossing te testen:\n",
    "\n",
    "```python\n",
    "assert all_star(\"hello\") == \"h*e*l*l*o\"\n",
    "assert all_star(\"hi\") == \"h*i\"\n",
    "assert all_star(\"\") == \"\"\n",
    "```"
   ]
  },
  {
   "cell_type": "markdown",
   "metadata": {},
   "source": [
    "### `divisible_by`\n",
    "\n",
    "De functie `divisible_by` accepteert een integer `n` en een list `L` en geeft als resultaat een list terug met alle waarden in `L` deelbaar door `n`."
   ]
  },
  {
   "cell_type": "code",
   "execution_count": 8,
   "metadata": {},
   "outputs": [],
   "source": [
    "def divisible_by(n, L):\n",
    "    \"\"\"Return a list with values in L divisible by n\n",
    "    \"\"\"\n",
    "    ...\n"
   ]
  },
  {
   "cell_type": "markdown",
   "metadata": {},
   "source": [
    "Gebruik de volgende assertions om jouw oplossing te testen:\n",
    "\n",
    "```python\n",
    "assert divisible_by(5, [15, 0, 23, 4]) == [15, 0]\n",
    "assert divisible_by(3, [2, 4, 8, 10]) == []\n",
    "assert divisible_by(2, []) == []\n",
    "```"
   ]
  },
  {
   "cell_type": "markdown",
   "metadata": {},
   "source": [
    "### `starts_with`\n",
    "\n",
    "De functie `starts_with` accepteer een string `s` en een list met string `L` en heeft als resultaat een list met alle waarden in `L` die beginnen met `s`. Je mag hier niet de ingebouwde string methode `startswith` gebruiken."
   ]
  },
  {
   "cell_type": "code",
   "execution_count": 9,
   "metadata": {},
   "outputs": [],
   "source": [
    "def starts_with(s, L):\n",
    "    \"\"\"Return all strings in L which start with s\n",
    "    \"\"\"\n",
    "    ...\n"
   ]
  },
  {
   "cell_type": "markdown",
   "metadata": {},
   "source": [
    "Gebruik de volgende assertions om jouw oplossing te testen:\n",
    "\n",
    "```python\n",
    "assert starts_with(\"a\", []) == []\n",
    "assert starts_with(\"a\", [\"bbc\", \"brits\", \"omroep\"]) == []\n",
    "assert starts_with(\"a\", [\"abc\", \"cde\", \"aha\", \"abba\"]) == [\"abc\", \"aha\", \"abba\"]\n",
    "assert starts_with(\"ab\", [\"abc\", \"cde\", \"aha\", \"abba\"]) == [\"abc\", \"abba\"]\n",
    "assert starts_with(\"abc\", [\"abc\", \"cde\", \"aha\", \"abba\"]) == [\"abc\"]\n",
    "assert starts_with(\"abcd\", [\"abc\", \"cde\", \"aha\", \"abba\"]) == []\n",
    "```"
   ]
  },
  {
   "cell_type": "markdown",
   "metadata": {},
   "source": [
    "### `end_x`\n",
    "\n",
    "De functie `end_x` accepteert een string `s` verplaatst alle x'en naar het einde van de string en geeft dit terug als resultaat."
   ]
  },
  {
   "cell_type": "code",
   "execution_count": 10,
   "metadata": {},
   "outputs": [],
   "source": [
    "def end_x(s):\n",
    "    \"\"\"Returns s with all x's moved to the end\n",
    "    \"\"\"\n",
    "    ...\n"
   ]
  },
  {
   "cell_type": "markdown",
   "metadata": {},
   "source": [
    "Gebruik de volgende assertions om jouw oplossing te testen:\n",
    "\n",
    "```python\n",
    "assert end_x(\"abxyz\") == \"abyzx\"\n",
    "assert end_x(\"xxabc\") == \"abcxx\"\n",
    "assert end_x(\"abc\") == \"abc\"\n",
    "```"
   ]
  },
  {
   "cell_type": "markdown",
   "metadata": {},
   "source": [
    "### `ngram`\n",
    "\n",
    "De kans dat een letter wordt gebruikt is een maat voor een taal. Om karakters te tellen in tekst moeten woorden worden opgebroken in opeenvolgende karakters, zogenaamde n-grams (zie ook [Wikipedia](https://en.wikipedia.org/wiki/N-gram) en bijvoorbeeld [Google Books Ngram Viewer](https://books.google.com/ngrams/)). In het geval van een enkel karakter spreek je van een unigram, langere opeenvolgingen geven meer informatie, bijvoorbeeld een bi- of trigram (twee of drie opeenvolgende karakters).\n",
    "\n",
    "De functie `ngram` accepteert een string `w` en een integer `n` en geeft een lijst terug met `n` opeenvolgende delen van een woord `w`.\n"
   ]
  },
  {
   "cell_type": "code",
   "execution_count": null,
   "metadata": {},
   "outputs": [],
   "source": [
    "def ngram(w, n):\n",
    "    \"\"\"Break up a word w into n consecutive parts\n",
    "    \"\"\"\n",
    "    ..."
   ]
  },
  {
   "cell_type": "markdown",
   "metadata": {},
   "source": [
    "Gebruik de volgende assertions om jouw oplossing te testen:\n",
    "\n",
    "```python\n",
    "assert ngram(\"alien\", 1) == [\"a\", \"l\", \"i\", \"e\", \"n\"]  # 1-gram (unigram)\n",
    "assert ngram(\"alien\", 2) == [\"al\", \"li\", \"ie\", \"en\"]  # 2-gram (bigram)\n",
    "assert ngram(\"alien\", 3) == [\"ali\", \"lie\", \"ien\"]  # 3-gram (trigram)\n",
    "assert ngram(\"alien\", 4) == [\"alie\", \"lien\"]\n",
    "assert ngram(\"alien\", 5) == [\"alien\"]\n",
    "```"
   ]
  },
  {
   "cell_type": "markdown",
   "metadata": {},
   "source": [
    "## Oplossingen"
   ]
  },
  {
   "cell_type": "markdown",
   "metadata": {},
   "source": [
    "### `one_to_sum`"
   ]
  },
  {
   "cell_type": "code",
   "execution_count": 11,
   "metadata": {},
   "outputs": [],
   "source": [
    "def one_to_sum(n):\n",
    "    \"\"\"Sum all integer values from 1 to n\n",
    "    \"\"\"\n",
    "    if n == 0:\n",
    "        return 0\n",
    "    else:\n",
    "        return n + one_to_sum(n - 1)"
   ]
  },
  {
   "cell_type": "code",
   "execution_count": null,
   "metadata": {},
   "outputs": [],
   "source": [
    "assert one_to_sum(0) == 0\n",
    "assert one_to_sum(1) == 1\n",
    "assert one_to_sum(3) == 6   # 1 + 2 + 3\n",
    "assert one_to_sum(5) == 15  # 1 + 2 + 3 + 4 + 5"
   ]
  },
  {
   "cell_type": "markdown",
   "metadata": {},
   "source": [
    "### `sum_list`"
   ]
  },
  {
   "cell_type": "code",
   "execution_count": 13,
   "metadata": {},
   "outputs": [],
   "source": [
    "def sum_list(L):\n",
    "    \"\"\"Sum all values in L\n",
    "    \"\"\"\n",
    "    if len(L) == 0:\n",
    "        return 0\n",
    "    else:\n",
    "        return L[0] + sum_list(L[1:])"
   ]
  },
  {
   "cell_type": "code",
   "execution_count": 14,
   "metadata": {},
   "outputs": [],
   "source": [
    "assert sum_list([2, 6, 9]) == 17\n",
    "assert sum_list([4]) == 4\n",
    "assert sum_list([]) == 0"
   ]
  },
  {
   "cell_type": "markdown",
   "metadata": {},
   "source": [
    "### `mult_of_five`"
   ]
  },
  {
   "cell_type": "code",
   "execution_count": 15,
   "metadata": {},
   "outputs": [],
   "source": [
    "def mult_of_five(n):\n",
    "    \"\"\"Return a list containing the first n multiples of 5\n",
    "    \"\"\"\n",
    "    if n == 0:\n",
    "        return []\n",
    "    else:\n",
    "        return mult_of_five(n - 1) + [n * 5]"
   ]
  },
  {
   "cell_type": "code",
   "execution_count": 16,
   "metadata": {},
   "outputs": [],
   "source": [
    "assert mult_of_five(0) == []\n",
    "assert mult_of_five(1) == [5]\n",
    "assert mult_of_five(2) == [5, 10]\n",
    "assert mult_of_five(3) == [5, 10, 15]"
   ]
  },
  {
   "cell_type": "markdown",
   "metadata": {},
   "source": [
    "### `power_n`"
   ]
  },
  {
   "cell_type": "code",
   "execution_count": 17,
   "metadata": {},
   "outputs": [],
   "source": [
    "def power_n(b, n):\n",
    "    \"\"\"Return base b to the power of n\n",
    "    \"\"\"\n",
    "    if n == 0:\n",
    "        return 1\n",
    "    else:\n",
    "        return b * power_n(b, n - 1)"
   ]
  },
  {
   "cell_type": "code",
   "execution_count": 18,
   "metadata": {},
   "outputs": [],
   "source": [
    "assert power_n(0, 0) == 1\n",
    "assert power_n(0, 1) == 0\n",
    "assert power_n(1, 1) == 1\n",
    "assert power_n(2, 2) == 4\n",
    "assert power_n(2, 3) == 8\n",
    "assert power_n(3, 2) == 9"
   ]
  },
  {
   "cell_type": "markdown",
   "metadata": {},
   "source": [
    "### `double_letters`"
   ]
  },
  {
   "cell_type": "code",
   "execution_count": 19,
   "metadata": {},
   "outputs": [],
   "source": [
    "def double_letters(s):\n",
    "    \"\"\"Double all letters in s\n",
    "    \"\"\"\n",
    "    if len(s) == 0:\n",
    "        return \"\"\n",
    "    else:\n",
    "        return s[0] * 2 + double_letters(s[1:])"
   ]
  },
  {
   "cell_type": "code",
   "execution_count": 20,
   "metadata": {},
   "outputs": [],
   "source": [
    "assert double_letters(\"hi\") == \"hhii\"\n",
    "assert double_letters(\"hello\") == \"hheelllloo\""
   ]
  },
  {
   "cell_type": "markdown",
   "metadata": {},
   "source": [
    "### `no_x`"
   ]
  },
  {
   "cell_type": "code",
   "execution_count": null,
   "metadata": {},
   "outputs": [],
   "source": [
    "def no_x(s):\n",
    "    \"\"\"Return s with all x's removed\n",
    "    \"\"\"\n",
    "    if len(s) == 0:\n",
    "        return \"\"\n",
    "    elif s[0] == \"x\":\n",
    "        return no_x(s[1:])\n",
    "    else:\n",
    "        return s[0] + no_x(s[1:])"
   ]
  },
  {
   "cell_type": "code",
   "execution_count": 22,
   "metadata": {},
   "outputs": [],
   "source": [
    "assert no_x(\"x1xx2x3\") == \"123\"\n",
    "assert no_x(\"xxx\") == \"\""
   ]
  },
  {
   "cell_type": "markdown",
   "metadata": {},
   "source": [
    "### `all_star`"
   ]
  },
  {
   "cell_type": "code",
   "execution_count": 23,
   "metadata": {},
   "outputs": [],
   "source": [
    "def all_star(s):\n",
    "    \"\"\"Returns string s with all characters separated by *.\n",
    "    \"\"\"\n",
    "    if len(s) <= 1:\n",
    "        return s\n",
    "    else:\n",
    "        return s[0] + \"*\" + all_star(s[1:])"
   ]
  },
  {
   "cell_type": "code",
   "execution_count": 24,
   "metadata": {},
   "outputs": [],
   "source": [
    "assert all_star(\"hello\") == \"h*e*l*l*o\"\n",
    "assert all_star(\"hi\") == \"h*i\"\n",
    "assert all_star(\"\") == \"\""
   ]
  },
  {
   "cell_type": "markdown",
   "metadata": {},
   "source": [
    "### `divisible_by`"
   ]
  },
  {
   "cell_type": "code",
   "execution_count": 25,
   "metadata": {},
   "outputs": [],
   "source": [
    "def divisible_by(n, L):\n",
    "    \"\"\"Return a list with values in L divisible by n\n",
    "    \"\"\"\n",
    "    if len(L) == 0:\n",
    "        return []\n",
    "    elif L[0] % n == 0:\n",
    "        return [L[0]] + divisible_by(n, L[1:])\n",
    "    else:\n",
    "        return divisible_by(n, L[1:])"
   ]
  },
  {
   "cell_type": "code",
   "execution_count": 26,
   "metadata": {},
   "outputs": [],
   "source": [
    "assert divisible_by(5, [15, 0, 23, 4]) == [15, 0]\n",
    "assert divisible_by(3, [2, 4, 8, 10]) == []\n",
    "assert divisible_by(2, []) == []"
   ]
  },
  {
   "cell_type": "markdown",
   "metadata": {},
   "source": [
    "### `starts_with`"
   ]
  },
  {
   "cell_type": "code",
   "execution_count": 27,
   "metadata": {},
   "outputs": [],
   "source": [
    "def starts_with(s, L):\n",
    "    \"\"\"Return all strings in L which start with s\n",
    "    \"\"\"\n",
    "    if len(L) == 0:\n",
    "        return []\n",
    "    elif s == L[0][:len(s)]:\n",
    "        return [L[0]] + starts_with(s, L[1:])\n",
    "    else:\n",
    "        return starts_with(s, L[1:])"
   ]
  },
  {
   "cell_type": "code",
   "execution_count": 28,
   "metadata": {},
   "outputs": [],
   "source": [
    "assert starts_with(\"a\", []) == []\n",
    "assert starts_with(\"a\", [\"bbc\", \"brits\", \"omroep\"]) == []\n",
    "assert starts_with(\"a\", [\"abc\", \"cde\", \"aha\", \"abba\"]) == [\"abc\", \"aha\", \"abba\"]\n",
    "assert starts_with(\"ab\", [\"abc\", \"cde\", \"aha\", \"abba\"]) == [\"abc\", \"abba\"]\n",
    "assert starts_with(\"abc\", [\"abc\", \"cde\", \"aha\", \"abba\"]) == [\"abc\"]\n",
    "assert starts_with(\"abcd\", [\"abc\", \"cde\", \"aha\", \"abba\"]) == []"
   ]
  },
  {
   "cell_type": "markdown",
   "metadata": {},
   "source": [
    "### `end_x`"
   ]
  },
  {
   "cell_type": "code",
   "execution_count": 29,
   "metadata": {},
   "outputs": [],
   "source": [
    "def end_x(s):\n",
    "    \"\"\"Returns s with all x's moved to the end\n",
    "    \"\"\"\n",
    "    if len(s) <= 1:\n",
    "        return s\n",
    "    elif s[0] == \"x\":\n",
    "        return end_x(s[1:]) + s[0]\n",
    "    else:\n",
    "        return s[0] + end_x(s[1:])"
   ]
  },
  {
   "cell_type": "code",
   "execution_count": 30,
   "metadata": {},
   "outputs": [],
   "source": [
    "assert end_x(\"abxyz\") == \"abyzx\"\n",
    "assert end_x(\"xxabc\") == \"abcxx\"\n",
    "assert end_x(\"abc\") == \"abc\""
   ]
  },
  {
   "cell_type": "markdown",
   "metadata": {},
   "source": [
    "### `ngram`"
   ]
  },
  {
   "cell_type": "code",
   "execution_count": null,
   "metadata": {},
   "outputs": [],
   "source": [
    "def ngram(w, n):\n",
    "    \"\"\"Break up a word w into n consecutive parts\n",
    "    \"\"\"\n",
    "    if len(w) < n:\n",
    "        return []\n",
    "    else:\n",
    "        return [w[:n]] + ngram(w[1:], n)"
   ]
  },
  {
   "cell_type": "code",
   "execution_count": null,
   "metadata": {},
   "outputs": [],
   "source": [
    "assert ngram(\"alien\", 1) == [\"a\", \"l\", \"i\", \"e\", \"n\"]  # 1-gram (unigram)\n",
    "assert ngram(\"alien\", 2) == [\"al\", \"li\", \"ie\", \"en\"]  # 2-gram (bigram)\n",
    "assert ngram(\"alien\", 3) == [\"ali\", \"lie\", \"ien\"]  # 3-gram (trigram)\n",
    "assert ngram(\"alien\", 4) == [\"alie\", \"lien\"]\n",
    "assert ngram(\"alien\", 5) == [\"alien\"]"
   ]
  }
 ],
 "metadata": {
  "kernelspec": {
   "display_name": "Python 3 (ipykernel)",
   "language": "python",
   "name": "python3"
  },
  "language_info": {
   "codemirror_mode": {
    "name": "ipython",
    "version": 3
   },
   "file_extension": ".py",
   "mimetype": "text/x-python",
   "name": "python",
   "nbconvert_exporter": "python",
   "pygments_lexer": "ipython3",
   "version": "3.10.7"
  }
 },
 "nbformat": 4,
 "nbformat_minor": 4
}
