{
 "cells": [
  {
   "cell_type": "markdown",
   "metadata": {},
   "source": [
    "# ASCII art"
   ]
  },
  {
   "cell_type": "markdown",
   "metadata": {},
   "source": [
    "Belangrijke beperking bij deze opdrachten:\n",
    "In deze opgave mag je de string-vermenigvuldig- en string-opteloperatoren niet gebruiken. Omdat ons doel is om lusconstructies te gebruiken, moet je lussen gebruiken om te herhalen, ook als het met deze operatoren korter zou kunnen. Hier is één uitzondering op, echter; je mag string-vermenigvuldiging gebruiken met het spatieteken"
   ]
  },
  {
   "cell_type": "markdown",
   "metadata": {},
   "source": [
    "## Opdracht 1\n",
    "Schrijf een functie met de naam print_rect die drie argumenten meekrijgt, width, height en symbol, en een vierkant van width bij height met symbolen afdrukt op het scherm."
   ]
  },
  {
   "cell_type": "markdown",
   "metadata": {},
   "source": [
    "```python\n",
    "def print_rect(width, height, symbol):\n",
    "    \"\"\" Drukt een vierkant van symbol af op het scherm van width bij height.\n",
    "    \"\"\"\n",
    "\n",
    "    for row in range(height):\n",
    "        for column in range(width):\n",
    "            print(symbol, end=\" \")\n",
    "        print()\n",
    "```"
   ]
  },
  {
   "cell_type": "markdown",
   "metadata": {},
   "source": [
    "Om makkelijker bij te houden welke lus de rijen en welke de kolommen, wordt hier row en column als variable namen gebruikt in plaats van i en j."
   ]
  },
  {
   "cell_type": "markdown",
   "metadata": {},
   "source": [
    "## Opdracht 2"
   ]
  },
  {
   "cell_type": "markdown",
   "metadata": {},
   "source": [
    "Schrijf een functie print_triangle die drie argumenten meekrijgt: width, symbol en right_side_up, en een driehoek van symbolen op het scherm afdrukt."
   ]
  },
  {
   "cell_type": "markdown",
   "metadata": {},
   "source": [
    "```python\n",
    "def print_triangle(width, symbol, right_side_up):\n",
    "    \"\"\" Drukt een driehoek van symbol af op het scherm met breedte van\n",
    "    width en right_side_up bepaalt of de punt naar boven (True) of naar\n",
    "    beneden (False) moet.\n",
    "    \"\"\"\n",
    "    for i in range(0, width):\n",
    "        if right_side_up : # Punt naar boven!\n",
    "            for j in range(0, i + 1):\n",
    "                print(symbol, end = \" \")\n",
    "        else:\n",
    "            for j in range(0, width - i):\n",
    "                print(symbol, end = \" \")\n",
    "        print()\n",
    "```"
   ]
  },
  {
   "cell_type": "markdown",
   "metadata": {},
   "source": [
    "\n",
    "Bij een punt naar boven bevat de eerste regel 1 symbool en hebben de volgende regels elke keer 1 symbool meer. Dit kun je ook zien als regel nummer staat gelijk aan het aantal symbolen dat naar het scherm geprint moet worden. Hier wordt gebruik van gemaakt door de range in de eerste j-for-lus (de kolom lus) af te laten hangen van i + 1. De + 1 is om te corrigeren dat de range van i begint bij nul."
   ]
  },
  {
   "cell_type": "markdown",
   "metadata": {},
   "source": [
    "Bij de punt naar beneden werken we van breed naar smal, van het maximale aantal terug naar 1 symbool. Daarom wordt in het else gedeelte met width - i gewerkt in de range van de for-lus. Hier corrigeren we de range nul van i niet omdat elke regel dan juist een symbool te weinig heeft.\n"
   ]
  },
  {
   "cell_type": "markdown",
   "metadata": {},
   "source": [
    "## Opdracht 3\n",
    "Gebruik nu je functie print_triangle om een functie genaamd print_bumps(num, symbol1, symbol2) te schrijven die het gegeven aantal “heuvels” van twee symbolen afdrukt, waarbij elke heuvel groter is dan de volgende."
   ]
  },
  {
   "cell_type": "markdown",
   "metadata": {},
   "source": [
    "```python\n",
    "def print_bumps(num, symbol1, symbol2):\n",
    "    \"\"\" Deze functie drukt het gegeven aantal “heuvels” van twee symbolen\n",
    "    af, waarbij elke heuvel groter is dan de volgende.\n",
    "    \"\"\"\n",
    "    for bumps in range(1, num + 1):\n",
    "        print_triangle(bumps, symbol1, True)\n",
    "        print_triangle(bumps, symbol2, False)\n",
    "```"
   ]
  },
  {
   "cell_type": "markdown",
   "metadata": {},
   "source": [
    "\n",
    "Het aantal \"heuvels\" neemt elke keer met 1 toe. Hier kunnen we de for-lus variable voor gebruiken."
   ]
  },
  {
   "cell_type": "markdown",
   "metadata": {},
   "source": [
    "## Opdracht 4\n",
    "Schrijf een functie print_diamond(width, symbol) die een ruit met symbolen afdrukt waarvan de maximale breedte bepaald wordt door width. Voor deze “ruit”-functies mag je string-vermenigvuldiging gebruiken, maar alleen voor strings van spaties.\n"
   ]
  },
  {
   "cell_type": "markdown",
   "metadata": {},
   "source": [
    "```python\n",
    "def print_diamond(width, symbol):\n",
    "    \"\"\" Drukt een ruit af gemaakt met symbol en maximale breedte width.\n",
    "    \"\"\"\n",
    "    # Het bovenste deel van de diamond\n",
    "    for i in range(1, width + 1):\n",
    "        print(\" \" * (width - i), end = \"\")\n",
    "        for j in range(0, i ):\n",
    "            print (symbol, end = \" \")\n",
    "        print()\n",
    "    # Het onderste deel van de diamond\n",
    "    for i in range(1, width):\n",
    "        print(\" \" * (i), end = \"\")\n",
    "        for j in range(0, width - i ):\n",
    "            print (symbol, end = \" \")\n",
    "        print()\n",
    "```"
   ]
  },
  {
   "cell_type": "markdown",
   "metadata": {},
   "source": [
    "Net als bij de print_triangle functie maken we hier gebruik van op welke regel (i) we zitten en of we van een laag aantal symbolen naar hoog gaan (bovenste deel van de ruit) of juist de andere kant op (het onderste deel van de ruit). In dit geval beginnen we alle ranges met 1 om zo de juiste aantal spaties voor het eerste symbool te krijgen."
   ]
  },
  {
   "cell_type": "markdown",
   "metadata": {},
   "source": [
    "Als je moeite hebt met het visualiseren van de opdracht dan kun je proberen om de ruit eerst uit te tekenen op ruitjes papier. Omdat we na het symbool spatie printen wordt de breedte van het symbool veld (width * 2) - 1. Variable i is de rij en variable j is de kolom."
   ]
  },
  {
   "cell_type": "markdown",
   "metadata": {},
   "source": [
    "## Opdracht 5\n",
    "Schrijf nu een functie genaamd print_striped_diamond(width, sym1, sym2) die een “gestreepte ruit” van sym1 en sym2 afdrukt."
   ]
  },
  {
   "cell_type": "markdown",
   "metadata": {},
   "source": [
    "```python\n",
    "def print_striped_diamond(width, symbol1, symbol2):\n",
    "    \"\"\" Drukt een ruit gemaakt met symbol1 afgewisseld met symbol2 af met maximale breedte width.\n",
    "    \"\"\"\n",
    "    for i in range(1, width + 1):\n",
    "        print(\" \" * (width - i), end = \"\")\n",
    "        for j in range(0, i):\n",
    "            if j % 2 == 1:\n",
    "                print (symbol1, end = \" \")\n",
    "            else:\n",
    "                print (symbol2, end = \" \")\n",
    "        print()\n",
    "    for i in range(1, width):\n",
    "        print(\" \" * (i), end = \"\")\n",
    "        for j in range(0, width - i):\n",
    "            if i % 2 == 1:\n",
    "                if j % 2 == 0:\n",
    "                    print (symbol1, end = \" \")\n",
    "                else:\n",
    "                    print (symbol2, end = \" \")\n",
    "            else:\n",
    "                if j % 2 == 1:\n",
    "                    print (symbol1, end = \" \")\n",
    "                else:\n",
    "                    print (symbol2, end = \" \")\n",
    "        print()\n",
    "```\n"
   ]
  },
  {
   "cell_type": "markdown",
   "metadata": {},
   "source": [
    "Deze functie is hetzelfde als print_diamond, maar met toevoeging van de if-statement met de modulo operator en de rij (i) en kolom (j) variablen om te bepalen welk van de twee symbolen geprint moet worden."
   ]
  },
  {
   "cell_type": "markdown",
   "metadata": {},
   "source": [
    "## Opdracht 6\n",
    "Schrijf een functie genaamd print_crazy_striped_diamond(width, sym1, sym2, sym1_width, sym2_width) die een “gestreepte ruit” van sym1 en sym2 afdrukt waarbij de strepen verschillende breedtes kunnen hebben"
   ]
  },
  {
   "cell_type": "markdown",
   "metadata": {},
   "source": [
    "```python\n",
    "def print_crazy_striped_diamond(width, sym1, sym2, sym1_width, sym2_width):\n",
    "    for i in range(1, width+1):\n",
    "        print(\" \" * (width - i), end = \"\")\n",
    "        sym1Count = 0\n",
    "        sym2Count = 0\n",
    "        for j in range(0, i ):\n",
    "            if sym1Count < sym1_width:\n",
    "                print (sym1, end = \" \")\n",
    "                sym1Count += 1\n",
    "                if sym1Count >= sym1_width:\n",
    "                    sym2Count = 0\n",
    "            else:\n",
    "                print (sym2, end = \" \")\n",
    "                sym2Count += 1\n",
    "                if sym2Count >= sym2_width:\n",
    "                    sym1Count = 0\n",
    "\n",
    "        print()\n",
    "    for i in range(1, width):\n",
    "        print(\" \" * (i), end = \"\")\n",
    "        sym1Count = i % (sym1_width + sym2_width)\n",
    "        sym2Count = 0\n",
    "        if sym1Count >= sym1_width:\n",
    "            sym2Count = sym1Count - sym1_width\n",
    "        for j in range(0, width - i ):\n",
    "            if sym1Count < sym1_width:\n",
    "                print (sym1, end = \" \")\n",
    "                sym1Count += 1\n",
    "                if sym1Count >= sym1_width:\n",
    "                    sym2Count = 0\n",
    "            else:\n",
    "                print (sym2, end = \" \")\n",
    "                sym2Count += 1\n",
    "                if sym2Count >= sym2_width:\n",
    "                    sym1Count = 0\n",
    "        print()\n",
    "```"
   ]
  },
  {
   "cell_type": "markdown",
   "metadata": {},
   "source": [
    "Let goed op wanneer je de variablen aanmaakt in de for-lussen. Wanneer zijn ze nodig en wanneer hoeven ze niet meer te bestaan?"
   ]
  }
 ],
 "metadata": {
  "language_info": {
   "name": "python"
  }
 },
 "nbformat": 4,
 "nbformat_minor": 2
}
