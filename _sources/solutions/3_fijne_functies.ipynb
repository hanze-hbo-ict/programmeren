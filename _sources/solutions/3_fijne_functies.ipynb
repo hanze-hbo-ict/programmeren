{
 "cells": [
  {
   "cell_type": "markdown",
   "metadata": {},
   "source": [
    "# Fijne functies"
   ]
  },
  {
   "cell_type": "code",
   "execution_count": null,
   "metadata": {},
   "outputs": [],
   "source": [
    "def sq(x):\n",
    "    \"\"\"Returns Square of the argument\n",
    "\n",
    "    :param x: The value to square\n",
    "    :type x: int, float\n",
    "    :rtype: int, float\n",
    "    \"\"\"\n",
    "    return x * x"
   ]
  },
  {
   "cell_type": "code",
   "execution_count": null,
   "metadata": {},
   "outputs": [],
   "source": [
    "def interp(low, hi, fraction):\n",
    "    \"\"\"Calulcates fraction\n",
    "\n",
    "    :param low: lowest value\n",
    "    :param hi: highest value\n",
    "    :param fraction: fraction \n",
    "    :type low, hi, fraction: int, float\n",
    "    :rtype: float\n",
    "    \"\"\"\n",
    "\n",
    "    return low + (hi - low) * fraction "
   ]
  },
  {
   "cell_type": "code",
   "execution_count": null,
   "metadata": {},
   "outputs": [],
   "source": [
    "def checkends(s):\n",
    "    return s[0] == s[-1] "
   ]
  },
  {
   "cell_type": "code",
   "execution_count": null,
   "metadata": {},
   "outputs": [],
   "source": [
    "def flipside(s):\n",
    "    halfLength = int(len(s)/2)\n",
    "    return s[halfLength :] + s[:halfLength]"
   ]
  },
  {
   "cell_type": "code",
   "execution_count": null,
   "metadata": {},
   "outputs": [],
   "source": [
    "def  convert_from_seconds(s):\n",
    "    days = int(s/86400)\n",
    "    left = s % 86400\n",
    "    hours = int(left/3600)\n",
    "    left = left % 3600\n",
    "    minutes = int(left/60)\n",
    "    seconds = left % 60\n",
    "    return [days, hours, minutes, seconds]"
   ]
  }
 ],
 "metadata": {
  "language_info": {
   "name": "python"
  }
 },
 "nbformat": 4,
 "nbformat_minor": 2
}
