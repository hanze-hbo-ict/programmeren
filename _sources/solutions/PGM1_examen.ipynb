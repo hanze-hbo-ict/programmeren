{
 "cells": [
  {
   "cell_type": "markdown",
   "metadata": {},
   "source": [
    "# Oplossingen PGM1 Oefententamen"
   ]
  },
  {
   "cell_type": "markdown",
   "metadata": {},
   "source": [
    "Dit zijn de antwoorden op de opgaven in het Proeftentamen PGM1 en we nemen je stap voor stap mee in de uitwerkingen.\n",
    "\n",
    "```{important}\n",
    "Let op, de opgaven kunnen op verschillende manieren worden opgelost, het kan zijn dat jij sommige dingen anders hebt geschreven of andere stappen hebt gevolgd en dat is prima!\n",
    "```"
   ]
  },
  {
   "cell_type": "markdown",
   "metadata": {},
   "source": [
    "## Opdracht 1\n",
    "\n",
    "In deze opdracht wordt jou om het volgende gevraagd:\n",
    "\n",
    "- het gebruik van variabelen (toekenning en hergebruik)\n",
    "- rekenkundige operaties (optelling en vermenigvuldiging)\n",
    "- de print functie voor output\n",
    "\n",
    "### Oplossing"
   ]
  },
  {
   "cell_type": "code",
   "execution_count": 4,
   "metadata": {},
   "outputs": [
    {
     "name": "stdout",
     "output_type": "stream",
     "text": [
      "350 948.8000000000001\n"
     ]
    }
   ],
   "source": [
    "opbrengst_tomaten = 150\n",
    "opbrengst_paprikas = 120\n",
    "opbrengst_komkommers = 80\n",
    "\n",
    "totale_opbrengst = opbrengst_tomaten + opbrengst_paprikas + opbrengst_komkommers\n",
    "\n",
    "totale_omzet = opbrengst_tomaten * 3.24 + opbrengst_paprikas * 2.87 + opbrengst_komkommers * 1.48\n",
    "\n",
    "print(totale_opbrengst, totale_omzet)\n"
   ]
  },
  {
   "cell_type": "markdown",
   "metadata": {},
   "source": [
    "### Uitleg\n",
    "\n",
    "1.  Variabelen toekennen\n",
    "    ```python\n",
    "    opbrengst_tomaten = 150\n",
    "    opbrengst_paprikas = 120\n",
    "    opbrengst_komkommers = 80\n",
    "    ```\n",
    "\n",
    "    Hier maken we drie variabelen aan en kennen er direct waarden aan toe. Een variabele is als een doos waar je een waarde in kunt bewaren om later te gebruiken. De = is een toekenningsoperator (geen 'is gelijk aan' zoals in wiskunde).\n",
    "\n",
    "2.  Berekening totale opbrengst\n",
    "    ```python\n",
    "    totale_opbrengst = opbrengst_tomaten + opbrengst_paprikas + opbrengst_komkommers\n",
    "    ```\n",
    "    Hier tellen we de waardes van de drie variabelen bij elkaar op met de + operator en slaan het resultaat op in een nieuwe variabele 'totale_opbrengst'. Dit wordt: 150 + 120 + 80 = 350 kg.\n",
    "\n",
    "3.  Berekening totale omzet\n",
    "    ```python\n",
    "    totale_omzet = opbrengst_tomaten * 3.24 + opbrengst_paprikas * 2.87 + opbrengst_komkommers * 1.48\n",
    "    ```\n",
    "    Hier berekenen we de omzet door:\n",
    "    -   tomaten: 150 * €3,24\n",
    "    -   paprika's: 120 * €2,87\n",
    "    -   komkommers: 80 * €1,48\n",
    "\n",
    "    En tellen deze bedragen bij elkaar op. De * is de vermenigvuldigingsoperator in Python.\n",
    "\n",
    "4.  Resultaten printen\n",
    "\n",
    "    ```python\n",
    "    print(\"Totale opbrengst =\", totale_opbrengst, round(totale_omzet,2))\n",
    "    ```\n",
    "\n",
    "    De print() functie wordt gebruikt om resultaten te tonen:\n",
    "\n",
    "    -   De tekst \"Totale opbrengst =\" wordt letterlijk getoond\n",
    "    -   totale_opbrengst toont de berekende kilogrammen\n",
    "    -   round(totale_omzet,2) rondt de berekende omzet af op 2 decimalen\n",
    "    -   De komma's in de print functie zorgen voor spaties tussen de onderdelen\n"
   ]
  },
  {
   "cell_type": "markdown",
   "metadata": {},
   "source": [
    "## Opdracht 2\n",
    "\n",
    "In deze opdracht wordt jou gevraagd *conditionele statements* te schrijven (met andere woorden `if`, `elif` en `else` combinaties)."
   ]
  },
  {
   "cell_type": "code",
   "execution_count": null,
   "metadata": {},
   "outputs": [],
   "source": [
    "windspeed = 150 # is niet nodig, maar is handig om je code te testen.\n",
    "\n",
    "if windspeed >= 252:\n",
    "    print(5)\n",
    "elif windspeed >= 209:\n",
    "    print(4)\n",
    "elif windspeed >= 178:\n",
    "    print(3)\n",
    "elif windspeed >= 154:\n",
    "    print(2)\n",
    "elif windspeed >= 119:\n",
    "    print(1)\n",
    "elif windspeed >= 63:\n",
    "    print(\"TS\")\n",
    "else:\n",
    "    print(\"TD\")\n"
   ]
  },
  {
   "cell_type": "markdown",
   "metadata": {},
   "source": [
    "## Opdracht 3\n",
    "\n",
    "Deze opdracht vraagt jou of je een `for`-lus begrijpt en fouten kan vinden en corrigeren. "
   ]
  },
  {
   "cell_type": "code",
   "execution_count": null,
   "metadata": {},
   "outputs": [],
   "source": [
    "def over_hundred(L):\n",
    "    result = 0\n",
    "    for i in range(len(L)): # L[i] verzaakt een indexerror, oplossing is range te gebruiken. Andere optie is om L[i] te vervangen met i.\n",
    "        result = result + L[i] # result wordt twee keer opgeteld door het gebruik van +=.\n",
    "        if result > 100:\n",
    "            return True\n",
    "    return False    # De return stond in de for lus maar moet juist aan het einde van de for lus staan.\n",
    "\n",
    "test = [12,13,14]\n",
    "print(over_hundred(test))  # lc bestaat niet. vervangen met test. Het is ook mogelijk om test te vervangen met lc"
   ]
  },
  {
   "cell_type": "markdown",
   "metadata": {},
   "source": [
    "## Opdracht 4\n",
    "\n",
    "Deze opdracht vraagt jou om een `while`-lus te schrijven. "
   ]
  },
  {
   "cell_type": "markdown",
   "metadata": {},
   "source": [
    "```python\n",
    "count = 0  # bijhouden hoeveel getallen er zijn ingevuld\n",
    "som = 0  # bijhouden de waarde van de getallen\n",
    "inp = int(input(\"Geef positief getal: \"))  # vragen om input\n",
    "\n",
    "while inp >= 0:  # Blijf herhalen zolang de input positief is,\n",
    "    count = count + 1  # counter verhogen\n",
    "    som = som + inp  # nieuwe input optellen\n",
    "    inp = int(input(\"Geef positief getal: \"))  # vraag voor nieuwe input\n",
    "\n",
    "print(\"som\", som, \"aantal\", count)  # print resultaat\n",
    "```"
   ]
  },
  {
   "cell_type": "markdown",
   "metadata": {},
   "source": [
    "## Opdracht 5"
   ]
  },
  {
   "cell_type": "markdown",
   "metadata": {},
   "source": [
    "Deze opdracht vraagt jou om een *dubbele* `for`-lus te schrijven. "
   ]
  },
  {
   "cell_type": "code",
   "execution_count": null,
   "metadata": {},
   "outputs": [
    {
     "name": "stdout",
     "output_type": "stream",
     "text": [
      "1\n",
      "12\n",
      "123\n",
      "1234\n",
      "12345\n"
     ]
    }
   ],
   "source": [
    "def number_stairs(size):    # defineer de functie\n",
    "    for y in range(1, size + 1):  # aantal rijen is gelijk aan size. De plus 1 zorgt ervoor dat er geteld wordt vanaf 1 tot en met n.\n",
    "        for x in range(1, y + 1): # aantal kolommen is gelijk aan de huidige rij.\n",
    "            print(x, end=\"\")    # print het getal. De end=\"\" zorgt ervoor dat er geen volgende regel wordt geprint\n",
    "        print() #einde van de rij bereikt, print einde regel.\n",
    "\n",
    "number_stairs(5) # roep de functie op. Gezien de functie zelf al print, is hier geen print nodig."
   ]
  },
  {
   "cell_type": "markdown",
   "metadata": {},
   "source": [
    "## Opgave 6\n",
    "In deze opdracht moet je zelf een probleem kunnen oplossen en verwacht dat je gebruik kan maken van:\n",
    "\n",
    "- lussen\n",
    "- strings, en in in het bijzonder *string slicing*.\n",
    "\n",
    "Bij deze opdracht moet ook een docstring en drie assertions worden toegevoegd.\n",
    "\n",
    "### Oplossing"
   ]
  },
  {
   "cell_type": "code",
   "execution_count": null,
   "metadata": {},
   "outputs": [],
   "source": [
    "def end_check(phrase):\n",
    "    \"\"\"Geeft de langste substring terug die aan het begin en aan het einde van de string phrase staat, zonder te overlappen.\n",
    "    \"\"\"\n",
    "    max_length = len(phrase) // 2\n",
    "\n",
    "    for i in range(max_length):\n",
    "        begin = phrase[:max_length]\n",
    "        end = phrase[0 - max_length:]\n",
    "\n",
    "        max_length -= 1\n",
    "\n",
    "        if begin == end:\n",
    "            return begin\n",
    "\n",
    "    return \"\"\n",
    "\n",
    "\n",
    "# drie assertions\n",
    "assert end_check(\"test\") == \"t\"\n",
    "assert end_check(\"testing\") == \"\"\n",
    "assert end_check(\"123test123\") == \"123\""
   ]
  },
  {
   "cell_type": "markdown",
   "metadata": {},
   "source": [
    "### Uitleg\n",
    "\n",
    "```{info}\n",
    "In de opgave wordt gesproken over een *substring*. Een substring is een deel van een string, ofwel een reeks opeenvolgende karakters binnen een langere tekst. Bijvoorbeeld:\n",
    "\n",
    "In de tekst \"programmeren\" zijn dit allemaal substrings:\n",
    "\n",
    "-   \"pro\"\n",
    "-   \"gram\"\n",
    "-   \"programmere\"\n",
    "-   \"eren\"\n",
    "-   \"p\" (zelfs één karakter is een substring)\n",
    "-   \"programmeren\" (de hele string is ook een substring van zichzelf)\n",
    "\n",
    "Maar \"pgm\" is bijvoorbeeld **geen** substring, omdat deze letters niet direct na elkaar staan in de originele tekst.\n",
    "```\n",
    "\n",
    "1.  Ten eerste, laten we kijken naar wat de functie moet doen:\n",
    "    -   We zoeken een substring (een deel van de tekst) die zowel aan het begin als\n",
    "     einde staat\n",
    "    -   Deze substrings mogen niet overlappen\n",
    "    -   We willen de langste mogelijke substring vinden die aan deze voorwaarden voldoet\n",
    "\n",
    "2.  Laten we de code regel voor regel doornemen:\n",
    "\n",
    "    ```python\n",
    "    max_length = len(phrase) // 2\n",
    "    ```\n",
    "\n",
    "    -   Dit bepaalt de maximale lengte van de substring die we kunnen zoeken\n",
    "    -   We delen door 2 omdat de substrings niet mogen overlappen\n",
    "    -   Bijvoorbeeld: bij \"123test123\" is len(phrase) = 10, dus max_length = 5\n",
    "    -   De `//` betekent delen en naar beneden afronden naar een heel getal\n",
    "\n",
    "3.  Dan hebben we een lus:\n",
    "\n",
    "    ```python\n",
    "    for i in range(max_length):\n",
    "    ```\n",
    "\n",
    "    -   **Let op**, de variabele `i` wordt nergens in de lus gebruikt, maar is nodig vanwege de Python syntax. We hadden ook `for _ in range(max_length):` kunnen schrijven om aan te geven dat we de variabele niet gebruiken (dit is een Python conventie)\n",
    "    -   We gebruiken de lus puur om een bepaald aantal keren iets te proberen, namelijk steeds `max_length` keer\n",
    "\n",
    "4.  Een belangrijk onderdeel! We gebruiken hier gebruik van de mogelijkheid om met *negatieve* indices te werken:\n",
    "\n",
    "    ```python\n",
    "    begin = phrase[:max_length]\n",
    "    end = phrase[0 - max_length:]\n",
    "    ```\n",
    "\n",
    "    -   `phrase[:max_length]` pakt een substring vanaf het begin tot `max_length`\n",
    "    -   `phrase[0 - max_length:]` gebruikt een **negatieve** index om een substring vanaf het einde te pakken\n",
    "    -   Dit is een heel handige eigenschap van Python: negatieve indices tellen vanaf het einde!\n",
    "    -   Bij \"123test123\" met max_length = 3:\n",
    "    -   begin = \"123\" (substring van eerste drie karakters)\n",
    "    -   end = \"123\" (substring van laatste drie karakters want -3 betekent: pak de laatste 3)\n",
    "    -   Je kunt het zien als: -3 betekent \"3 vanaf rechts\"\n",
    "\n",
    "5.  We maken `max_length` steeds kleiner:\n",
    "\n",
    "    ```python\n",
    "    max_length -= 1\n",
    "    ```\n",
    "\n",
    "    -   Dit is hetzelfde als `max_length = max_length - 1`\n",
    "    -   Het beïnvloedt alleen welk deel van de string we bekijken in de volgende iteratie\n",
    "    -   Als max_length start met 5, gebeurt dit:\n",
    "        -   Eerste iteratie: i=0, max_length wordt 4\n",
    "        -   Tweede iteratie: i=1, max_length wordt 3\n",
    "        -   Derde iteratie: i=2, max_length wordt 2\n",
    "        -   Vierde iteratie: i=3, max_length wordt 1\n",
    "        -   Vijfde iteratie: i=4, max_length wordt 0\n",
    "\n",
    "    ```{important}\n",
    "    Dat we `max_length` steeds verminderen heeft geen invloed op hoeveel keer de lus uitgevoerd wordt! `range(max_length)` wordt namelijk maar één keer bepaald, aan het begin van de lus\n",
    "\n",
    "    -   Als `max_length` start met 5, dan maakt `range(5)` een vaste reeks\n",
    "    `[0, 1, 2, 3, 4]`\n",
    "    -   Ook al verminderen we `max_length` binnen de lus, deze reeks blijft hetzelfde\n",
    "    -   De lus zal dus gewoon 5 keer uitgevoerd worden\n",
    "    ```\n",
    "\n",
    "6.  We controleren of we een match hebben:\n",
    "\n",
    "    ```python\n",
    "    if begin == end:\n",
    "        return begin\n",
    "    ```\n",
    "\n",
    "    -   Als de substring aan het begin gelijk is aan de substring aan het einde,\n",
    "    hebben we een match\n",
    "    -   We geven deze substring meteen terug omdat we weten dat dit de langste is\n",
    "\n",
    "7.  Als we geen match vinden:\n",
    "\n",
    "    ```python\n",
    "    return \"\"\n",
    "    ```\n",
    "\n",
    "    - Als we de hele lus doorlopen zonder match, geven we een lege string terug\n",
    "\n",
    "Laten we een voorbeeld doorlopen met \"123test123\":\n",
    "\n",
    "1. Eerste iteratie (i=0, max_length=5):\n",
    "   - begin substring = \"123te\"\n",
    "   - end substring = \"t123\"\n",
    "   - Geen match, max_length wordt 4\n",
    "2. Tweede iteratie (i=1, max_length=4):\n",
    "   - begin substring = \"123t\"\n",
    "   - end substring = \"t123\"\n",
    "   - Geen match, max_length wordt 3\n",
    "3. Derde iteratie (i=2, max_length=3):\n",
    "   - begin substring = \"123\"\n",
    "   - end substring = \"123\"\n",
    "   - Match gevonden! Return \"123\"\n",
    "\n",
    "Dit verklaart ook de andere voorbeelden:\n",
    "\n",
    "- \"test\" → vindt substring \"t\" (langste match aan begin en eind)\n",
    "- \"testing\" → vindt geen enkele matchende substring, dus \"\"\n",
    "- \"123test123\" → vindt substring \"123\"\n",
    "- \"xxx\" → vindt substring \"x\" (langere substrings zouden overlappen)\n"
   ]
  },
  {
   "cell_type": "markdown",
   "metadata": {},
   "source": [
    "### Opdracht 7\n",
    "In deze opdracht moet er een context probleem opgelost worden met behulp van een hulpfunctie. "
   ]
  },
  {
   "cell_type": "markdown",
   "metadata": {},
   "source": [
    "a. "
   ]
  },
  {
   "cell_type": "code",
   "execution_count": null,
   "metadata": {},
   "outputs": [],
   "source": [
    "def count_char(zin, let):\n",
    "    \"\"\"\n",
    "    Deze functie kriigt twee strings binnen waarbij zin een hele zin is en let een enkele letter.\n",
    "    De functie geeft terug hoe vaak let voorkomt in zin.\n",
    "    \"\"\"\n",
    "    result = 0 # om te tellen is er een counter nodig\n",
    "\n",
    "    for x in zin:   # ga alle characters in de zin door\n",
    "        if x == let:    # als de character gelijk is aan let\n",
    "            result += 1 # tel er 1 bij op\n",
    "\n",
    "    return result   # als de lus klaar is, geef het antwoord terug\n",
    "\n",
    "assert count_char(\"testing\", \"e\") == 1\n",
    "assert count_char(\"testing\", \"a\") == 0\n",
    "assert count_char(\"testing\", \"t\") == 2"
   ]
  },
  {
   "cell_type": "markdown",
   "metadata": {},
   "source": [
    "b. "
   ]
  },
  {
   "cell_type": "code",
   "execution_count": null,
   "metadata": {},
   "outputs": [],
   "source": [
    "def max_freq_letter(z):\n",
    "    \"\"\"\n",
    "    functie max_freq_letter(z) accepteert een string z .\n",
    "    Deze functie moet het karakter in z teruggeven met de hoogste frequentie.\n",
    "    \"\"\"\n",
    "    result = \"\" # resultaat moet een string zijn\n",
    "    max_let = 0 # huidige maximum\n",
    "\n",
    "    for x in z: # ga alle characters in de zin langs\n",
    "        count = count_char(z, x)    # tel hoevaak x voorkomt in z\n",
    "        if count > max_let: #Komt x meer voor dan de huidige 'winnaar'\n",
    "            max_let = count #Zo ja, vervang met nieuwe aantal\n",
    "            result = x  # vervang 'winaar'met nieuwe x\n",
    "\n",
    "    return result    #geef resultaat terug.\n",
    "\n",
    "assert max_freq_letter(\"testing\") == \"t\"\n",
    "assert max_freq_letter(\"ditiseentest\") == \"t\"\n",
    "assert max_freq_letter(\"hottentotten\") == \"t\"\n"
   ]
  }
 ],
 "metadata": {
  "kernelspec": {
   "display_name": "Python 3 (ipykernel)",
   "language": "python",
   "name": "python3"
  },
  "language_info": {
   "codemirror_mode": {
    "name": "ipython",
    "version": 3
   },
   "file_extension": ".py",
   "mimetype": "text/x-python",
   "name": "python",
   "nbconvert_exporter": "python",
   "pygments_lexer": "ipython3",
   "version": "3.12.7"
  }
 },
 "nbformat": 4,
 "nbformat_minor": 4
}
