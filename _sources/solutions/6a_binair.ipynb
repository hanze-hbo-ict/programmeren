{
 "cells": [
  {
   "cell_type": "markdown",
   "metadata": {},
   "source": [
    "# Binair"
   ]
  },
  {
   "cell_type": "markdown",
   "metadata": {},
   "source": [
    "## Functie 1\n",
    "Schrijf een Python functie is_odd(n) die als argument een integer n accepteert, en True teruggeeft als n oneven is en False als n even is. Zorg ervoor dat je deze (boolean) waarden teruggeeft, niet strings! De even- of onevenheid van een getal noemen we zijn pariteit."
   ]
  },
  {
   "cell_type": "markdown",
   "metadata": {},
   "source": [
    "```python\n",
    "def is_odd(n):\n",
    "    return n % 2 == 1\n",
    "```"
   ]
  },
  {
   "cell_type": "markdown",
   "metadata": {},
   "source": [
    "## Functie 2\n",
    "In dit onderdeel ga je getallen bit voor bit,van rechts naar links van decimaal naar binair omzetten, wat misschien “even” raar zal klinken…!"
   ]
  },
  {
   "cell_type": "markdown",
   "metadata": {},
   "source": [
    "```python\n",
    "def num_to_binary(n):\n",
    "    result = \"\"\n",
    "    while n > 0:\n",
    "        if is_odd(n):\n",
    "            result = \"1\" + result\n",
    "            n = n // 2\n",
    "        else:\n",
    "            result = \"0\" + result\n",
    "            n = n // 2\n",
    "    return result\n",
    "```"
   ]
  },
  {
   "cell_type": "markdown",
   "metadata": {},
   "source": [
    "## Functie 3\n",
    "Nu ga je het meer uitdagende probleem aanpakken om van grondtal 2 naar grondtal 10 te gaan, opnieuw van rechts naar links. We stellen een waarde met grondtal 2 voor als een reeks van 0’en en 1’en (bits)."
   ]
  },
  {
   "cell_type": "markdown",
   "metadata": {},
   "source": [
    "```python\n",
    "def binary_to_num(s):\n",
    "    result = 0\n",
    "    for i in range(0, len(s)):\n",
    "        result = result + (int(s[-1]) * 2 ** i)\n",
    "        s = s[:-1]\n",
    "    return result\n",
    "```"
   ]
  },
  {
   "cell_type": "markdown",
   "metadata": {},
   "source": [
    "## Functie 4\n",
    "In het kort, schrijft increment(S), die een binaire string s met 0’en en 1’en accepteert en het volgende getal in grondtal 2 teruggeeft."
   ]
  },
  {
   "cell_type": "markdown",
   "metadata": {},
   "source": [
    "```python\n",
    "def increment(s):\n",
    "    n = binary_to_num(s)\n",
    "    n = n + 1\n",
    "    result =  num_to_binary(n)\n",
    "    if len(result) > 8:\n",
    "        return 8 * \"0\"\n",
    "    else:\n",
    "        return (8 - len(result)) * \"0\" + result\n",
    "```"
   ]
  },
  {
   "cell_type": "markdown",
   "metadata": {},
   "source": [
    "## Functie 5\n",
    "Gebruik de functie increment om de functie count(s, n) te schrijven, die een binaire string van 8 tekens accepteert als argument en vervolgens n keer doortelt vanaf s, terwijl hij wordt afgedrukt."
   ]
  },
  {
   "cell_type": "markdown",
   "metadata": {},
   "source": [
    "```python\n",
    "def count(s, n):\n",
    "    print(s)\n",
    "    for _ in  range(0, n):\n",
    "        s = increment(s)\n",
    "        print(s)\n",
    "```"
   ]
  },
  {
   "cell_type": "markdown",
   "metadata": {},
   "source": [
    "## Functie 6\n",
    "Scrijf de functie ternary_to_num(s), die een integer representatie teruggeeft van de waarde van het argument s (net als binary_to_num)."
   ]
  },
  {
   "cell_type": "markdown",
   "metadata": {},
   "source": [
    "```python\n",
    "def ternary_to_num(s):\n",
    "    result = 0\n",
    "    for i in range(0, len(s)):\n",
    "        result = result + (int(s[-1]) * 3 ** i)\n",
    "        s = s[:-1]\n",
    "    return result\n",
    "```"
   ]
  }
 ],
 "metadata": {
  "language_info": {
   "name": "python"
  }
 },
 "nbformat": 4,
 "nbformat_minor": 2
}
