{
 "cells": [
  {
   "cell_type": "markdown",
   "metadata": {},
   "source": [
    "# Boter kaas en eieren. "
   ]
  },
  {
   "cell_type": "markdown",
   "metadata": {},
   "source": [
    "De eerste vier functies die je gaat schrijven controleren of er drie op een rij is\n",
    "\n",
    "* in een specifieke richting (opgenomen in de functienaam),\n",
    "* voor een specifiek karakter `ch`,\n",
    "* op een specifieke startrij- en kolom: `r_start` en `c_start`, en\n",
    "* in een gegeven tweedimensionale array `a`."
   ]
  },
  {
   "cell_type": "markdown",
   "metadata": {},
   "source": [
    "Elk van de functies moet `False` teruggeven\n",
    "\n",
    "* als er **GEEN RUIMTE** is voor drie op een rij vanaf de startpositie gegeven door `r_start` en `c_start` (controleer dit eerst!), of\n",
    "* als `r_start` of `c_start` buiten de grenzen van `a` valt, of\n",
    "* (zelfs als er ruimte binnen de grenzen is), als er GEEN drie-op-een-rij-patroon binnen `a` is die helemaal bestaat uit het karakter `ch` in de specifieke richting beginnend bij de locatie gegeven door `r_start` en `c_start`."
   ]
  },
  {
   "cell_type": "markdown",
   "metadata": {},
   "source": [
    "Elke functie moet daarentegen `True` teruggeven\n",
    "\n",
    "* alleen maar als er een drie-op-een-rij-patroon in `a` is die helemaal bestaat uit het element `ch` in de specifieke richting beginnend bij de locatie van `r_start` en `c_start`."
   ]
  },
  {
   "cell_type": "markdown",
   "metadata": {},
   "source": [
    "```python\n",
    "def in_a_row_3_east(ch, r_start, c_start, a):\n",
    "    # voor de functie voor drie op een rij naar het oosten:\n",
    "\n",
    "    rows = len(a)      # aantal rijen is len(a)\n",
    "    cols = len(a[0])   # aantal kolommen is len(a[0])\n",
    "\n",
    "    if r_start >= rows:\n",
    "        return False  # buiten de grenzen van de rijen\n",
    "\n",
    "    # andere grenscontroles...\n",
    "    if c_start > cols - 3:\n",
    "        return False  # buiten de grenzen van de kolommen\n",
    "\n",
    "    # zijn alle gegevenselementen correct?\n",
    "    for i in range(3):                   # lusindex is i\n",
    "        if a[r_start][c_start+i] != ch:  # controleer op fouten\n",
    "            return False                 # fout gevonden; geef False terug\n",
    "\n",
    "    return True                          # geen fouten gevonden in de lus; geef True terug\n",
    "\n",
    "```"
   ]
  },
  {
   "cell_type": "markdown",
   "metadata": {},
   "source": [
    "```python\n",
    "def in_a_row_3_south(ch, r_start, c_start, a):\n",
    "    # voor de functie voor drie op een rij naar het zuiden:\n",
    "\n",
    "    rows = len(a)      # aantal rijen is len(a)\n",
    "    cols = len(a[0])   # aantal kolommen is len(a[0])\n",
    "\n",
    "    if c_start >= cols:\n",
    "        return False  # buiten de grenzen van de kolommen\n",
    "\n",
    "    # andere grenscontroles...\n",
    "    if r_start > rows - 3:\n",
    "        return False  # buiten de grenzen van de rijen\n",
    "\n",
    "    # zijn alle gegevenselementen correct?\n",
    "    for i in range(3):                   # lusindex is i\n",
    "        if a[r_start+i][c_start] != ch:  # controleer op fouten\n",
    "            return False                 # fout gevonden; geef False terug\n",
    "\n",
    "    return True                          # geen fouten gevonden in de lus; geef True terug\n",
    "\n",
    "```"
   ]
  },
  {
   "cell_type": "markdown",
   "metadata": {},
   "source": [
    "```python\n",
    "def in_a_row_3_southeast(ch, r_start, c_start, a):\n",
    "    # voor de functie voor drie op een rij naar het zuidoosten:\n",
    "\n",
    "    rows = len(a)    \n",
    "    cols = len(a[0])   \n",
    "\n",
    "    if c_start > cols - 3:\n",
    "        return False  \n",
    "\n",
    "    \n",
    "    if r_start > rows - 3:\n",
    "        return False  \n",
    "\n",
    "    \n",
    "    for i in range(3):                   \n",
    "        if a[r_start+i][c_start+i] != ch:  \n",
    "            return False                \n",
    "\n",
    "    return True  \n",
    "```"
   ]
  },
  {
   "cell_type": "markdown",
   "metadata": {},
   "source": [
    "```python\n",
    "def in_a_row_3_northeast(ch, r_start, c_start, a):\n",
    "    # voor de functie voor drie op een rij naar het noordoosten:\n",
    "\n",
    "    rows = len(a)    \n",
    "    cols = len(a[0])   \n",
    "\n",
    "    if c_start > cols - 3:\n",
    "        return False  \n",
    "\n",
    "    \n",
    "    if r_start < rows - 3:\n",
    "        return False  \n",
    "\n",
    "    \n",
    "    for i in range(3):                   \n",
    "        if a[r_start-i][c_start+i] != ch:  \n",
    "            return False                \n",
    "\n",
    "    return True\n",
    "```"
   ]
  },
  {
   "cell_type": "markdown",
   "metadata": {},
   "source": [
    "```python\n",
    "def in_a_row_n_east(ch, r_start, c_start, a, n):\n",
    "    # voor de functie voor drie op een rij naar het oosten:\n",
    "\n",
    "    rows = len(a)      # aantal rijen is len(a)\n",
    "    cols = len(a[0])   # aantal kolommen is len(a[0])\n",
    "\n",
    "    if r_start >= rows:\n",
    "        return False  # buiten de grenzen van de rijen\n",
    "\n",
    "    # andere grenscontroles...\n",
    "    if c_start > cols - n:\n",
    "        return False  # buiten de grenzen van de kolommen\n",
    "\n",
    "    # zijn alle gegevenselementen correct?\n",
    "    for i in range(n):                   # lusindex is i\n",
    "        if a[r_start][c_start+i] != ch:  # controleer op fouten\n",
    "            return False                 # fout gevonden; geef False terug\n",
    "\n",
    "    return True                          # geen fouten gevonden in de lus; geef True terug\n",
    "\n",
    "```"
   ]
  },
  {
   "cell_type": "markdown",
   "metadata": {},
   "source": [
    "```python\n",
    "def in_a_row_n_south(ch, r_start, c_start, a, n):\n",
    "    # voor de functie voor drie op een rij naar het zuiden:\n",
    "\n",
    "    rows = len(a)      # aantal rijen is len(a)\n",
    "    cols = len(a[0])   # aantal kolommen is len(a[0])\n",
    "\n",
    "    if c_start >= cols:\n",
    "        return False  # buiten de grenzen van de kolommen\n",
    "\n",
    "    # andere grenscontroles...\n",
    "    if r_start > rows - n:\n",
    "        return False  # buiten de grenzen van de rijen\n",
    "\n",
    "    # zijn alle gegevenselementen correct?\n",
    "    for i in range(n):                   # lusindex is i\n",
    "        if a[r_start+i][c_start] != ch:  # controleer op fouten\n",
    "            return False                 # fout gevonden; geef False terug\n",
    "\n",
    "    return True                          # geen fouten gevonden in de lus; geef True terug\n",
    "\n",
    "```"
   ]
  },
  {
   "cell_type": "markdown",
   "metadata": {},
   "source": [
    "```python\n",
    "def in_a_row_n_southeast(ch, r_start, c_start, a, n):\n",
    "    # voor de functie voor drie op een rij naar het zuidoosten:\n",
    "\n",
    "    rows = len(a)    \n",
    "    cols = len(a[0])   \n",
    "\n",
    "    if c_start > cols - n:\n",
    "        return False  \n",
    "\n",
    "    \n",
    "    if r_start > rows - n:\n",
    "        return False  \n",
    "\n",
    "    \n",
    "    for i in range(n):                   \n",
    "        if a[r_start+i][c_start+i] != ch:  \n",
    "            return False                \n",
    "\n",
    "    return True  \n",
    "\n",
    "```"
   ]
  },
  {
   "cell_type": "markdown",
   "metadata": {},
   "source": [
    "```python\n",
    "def in_a_row_n_northeast(ch, r_start, c_start, a, n):\n",
    "    # voor de functie voor drie op een rij naar het noordoosten:\n",
    "\n",
    "    rows = len(a)    \n",
    "    cols = len(a[0])   \n",
    "\n",
    "    if c_start > cols - n:\n",
    "        return False  \n",
    "\n",
    "    \n",
    "    if r_start < rows - n:\n",
    "        return False  \n",
    "\n",
    "    \n",
    "    for i in range(n):                   \n",
    "        if a[r_start-i][c_start+i] != ch:  \n",
    "            return False                \n",
    "\n",
    "    return True\n",
    "```"
   ]
  }
 ],
 "metadata": {
  "language_info": {
   "name": "python"
  }
 },
 "nbformat": 4,
 "nbformat_minor": 2
}
