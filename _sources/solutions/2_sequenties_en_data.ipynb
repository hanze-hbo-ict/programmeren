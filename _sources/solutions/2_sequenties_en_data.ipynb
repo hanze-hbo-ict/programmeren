{
 "cells": [
  {
   "cell_type": "markdown",
   "metadata": {},
   "source": [
    "# Sequenties en data"
   ]
  },
  {
   "cell_type": "markdown",
   "metadata": {},
   "source": [
    "Opdracht:  [Sequenties en data](/practicals/2_sequenties_en_data)"
   ]
  },
  {
   "cell_type": "markdown",
   "metadata": {},
   "source": [
    "Goed om te onthouden: `string[start:stop:stapgrootte]`"
   ]
  },
  {
   "cell_type": "markdown",
   "metadata": {},
   "source": [
    "## Opdracht 1"
   ]
  },
  {
   "cell_type": "markdown",
   "metadata": {},
   "source": [
    "Gebruik pi en e (of maar één, je mag voor alle verdere problemen ook maar één lijst gebruiken) om de lijst [7, 1] te maken. Bewaar de lijst, net als hierboven, in de variabele answer1."
   ]
  },
  {
   "cell_type": "markdown",
   "metadata": {},
   "source": [
    "```python\n",
    "# De lists om mee te werken\n",
    "e = [2, 7, 1]\n",
    "pi = [3, 1, 4, 1, 5, 9]\n",
    "\n",
    "answer0 = e[0:2] + pi[-2:]\n",
    "print()\n",
    "print(\"Voorbeeld antwoord is\", answer0)\n",
    "\n",
    "# Opgave 1: maak [7, 1]\n",
    "answer1 = e[1:3]\n",
    "print(\"Antwoord 1 is\", answer1)\n",
    "assert answer1 == [7, 1], \"answer1 moet [7, 1] zijn.\"\n",
    "```"
   ]
  },
  {
   "cell_type": "markdown",
   "metadata": {},
   "source": [
    "## Opdracht 2"
   ]
  },
  {
   "cell_type": "markdown",
   "metadata": {},
   "source": [
    "Gebruik pi en e om de lijst [1, 1, 2] te maken. Bewaar deze lijst in de variabele answer2."
   ]
  },
  {
   "cell_type": "markdown",
   "metadata": {},
   "source": [
    "```python\n",
    "# Opgave 2: maak [1, 1, 2]\n",
    "answer2 = pi[1:4:2] + e[0:1]\n",
    "print(\"Antwoord 2 is\", answer2)\n",
    "assert answer2 == [1, 1, 2], \"answer2 moet [1, 1, 2] zijn.\"\n",
    "```"
   ]
  },
  {
   "cell_type": "markdown",
   "metadata": {},
   "source": [
    "## Opdracht 3"
   ]
  },
  {
   "cell_type": "markdown",
   "metadata": {},
   "source": [
    "Gebruik pi en e om de lijst [1, 4, 1, 5, 9] te maken. Bewaar deze lijst in de variabele answer3."
   ]
  },
  {
   "cell_type": "markdown",
   "metadata": {},
   "source": [
    "```python\n",
    "# Opgave 3: maak [1, 4, 1, 5, 9]\n",
    "#answer3 = pi[1:6] # Gebruik er maar een\n",
    "answer3 = e[2:3] + pi[2:6] # Gebruik allebei\n",
    "print(\"Antwoord 3 is\", answer3)\n",
    "assert answer3 == [1, 4, 1, 5, 9], \"answer3 moet [1, 4, 1, 5, 9] zijn.\"\n",
    "```\n"
   ]
  },
  {
   "cell_type": "markdown",
   "metadata": {},
   "source": [
    "## Opdracht 4"
   ]
  },
  {
   "cell_type": "markdown",
   "metadata": {},
   "source": [
    "Gebruik pi en e om de lijst [1, 2, 3, 4, 5] te maken. Bewaar deze lijst in de variabele answer4."
   ]
  },
  {
   "cell_type": "markdown",
   "metadata": {},
   "source": [
    "```python\n",
    "# Opgave 4: maak [1, 2, 3, 4, 5]\n",
    "answer4 = e[2:3] + e[0:1] + pi[0:1] + pi[2:3] + pi[4:5]\n",
    "print(\"Antwoord 4 is\", answer4)\n",
    "assert answer4 == [1, 2, 3, 4, 5], \"answer4 moet [1, 2, 3, 4, 5] zijn.\"\n",
    "```"
   ]
  },
  {
   "cell_type": "markdown",
   "metadata": {},
   "source": [
    "## Opdracht 5\n"
   ]
  },
  {
   "cell_type": "markdown",
   "metadata": {},
   "source": [
    "Gebruik h, s of g (je mag voor elke volgende opgave één of meerdere gebruiken) om de string hoi te maken.\n",
    "Bewaar de string in de variabele met naam answer5."
   ]
  },
  {
   "cell_type": "markdown",
   "metadata": {},
   "source": [
    "```python\n",
    "# De strings om mee te werken\n",
    "h = \"hanze\"\n",
    "s = \"hogeschool\"\n",
    "g = \"groningen\"\n",
    "\n",
    "# Opgave 5:  'hoi' maken\n",
    "answer5 = s[0:2] + g[4]\n",
    "print(\"Antwoord 5 is\", answer5)\n",
    "assert answer5 == \"hoi\", \"answer5 moet 'hoi' zijn.\"\n",
    "```"
   ]
  },
  {
   "cell_type": "markdown",
   "metadata": {},
   "source": [
    "## Opdracht 6"
   ]
  },
  {
   "cell_type": "markdown",
   "metadata": {},
   "source": [
    "Gebruik h, s of g om de string schoenen te maken en bewaar deze string in de variabele answer6. (Ons record: 4 bewerkingen)"
   ]
  },
  {
   "cell_type": "markdown",
   "metadata": {},
   "source": [
    "```python\n",
    "# Opgave 6: maak de string \"schoenen\"\n",
    "answer6 = s[4:8] + 2*g[-2:]\n",
    "print(\"Antwoord 6 is\", answer6)\n",
    "assert answer6 == \"schoenen\", \"answer6 moet 'schoenen' zijn.\"\n",
    "```\n"
   ]
  },
  {
   "cell_type": "markdown",
   "metadata": {},
   "source": [
    "## Opdracht 7"
   ]
  },
  {
   "cell_type": "markdown",
   "metadata": {},
   "source": [
    "\n",
    "Gebruik h, s of g om de string anzeogeschool te maken en bewaar deze string in de variabele answer7. (Ons record: 3 bewerkingen)\n"
   ]
  },
  {
   "cell_type": "markdown",
   "metadata": {},
   "source": [
    "```python\n",
    "# Opgave 7: maak de string \"anzeogeschool\"\n",
    "answer7 = h[1:] + s[1:]\n",
    "print(\"Antwoord 7 is\", answer7)\n",
    "assert answer7 == \"anzeogeschool\", \"answer7 moet 'anzeogeschool' zijn\"\n",
    "```"
   ]
  },
  {
   "cell_type": "markdown",
   "metadata": {},
   "source": [
    "## Opdracht 8"
   ]
  },
  {
   "cell_type": "markdown",
   "metadata": {},
   "source": [
    "Gebruik h, s of g om de string gnagnahahahahaha te maken en bewaar deze string in de variabele answer8. (Ons record: 7 bewerkingen)"
   ]
  },
  {
   "cell_type": "markdown",
   "metadata": {},
   "source": [
    "```python\n",
    "# Opgave 8: maak de string \"gnagnahahahahaha\"\n",
    "answer8 = 2*(g[0:4:3] + h[1]) + 5*h[0:2]\n",
    "print(\"Antwoord 8 is\", answer8)\n",
    "assert answer8 == \"gnagnahahahahaha\", \"answer8 moet 'gnagnahahahahaha' zijn\"\n",
    "```"
   ]
  },
  {
   "cell_type": "markdown",
   "metadata": {},
   "source": [
    "## Opdracht 9"
   ]
  },
  {
   "cell_type": "markdown",
   "metadata": {},
   "source": [
    "Gebruik h, s of g om de string legonoego te maken en bewaar deze string in de variabele answer9. (Ons record: 7 bewerkingen)"
   ]
  },
  {
   "cell_type": "markdown",
   "metadata": {},
   "source": [
    "```python\n",
    "# Opgave 9: maak de string \"legonoego\"\n",
    "answer9 = s[-1] + s[-7:-10:-1] + g[-6:-8:-1] + s[-7:-10:-1]\n",
    "print(\"Antwoord 9 is\", answer9)\n",
    "assert answer9 == \"legonoego\", \"answer9 moet 'legonoego' zijn\"\n",
    "```\n"
   ]
  },
  {
   "cell_type": "markdown",
   "metadata": {},
   "source": [
    "## Opdracht 10"
   ]
  },
  {
   "cell_type": "markdown",
   "metadata": {},
   "source": [
    "Gebruik h, s of g om de string leggings en bewaar deze string in de variabele answer10. (Ons record: 7 bewerkingen)\n"
   ]
  },
  {
   "cell_type": "markdown",
   "metadata": {},
   "source": [
    "```python\n",
    "# Opgave 10: maak de string \"leggings\"\n",
    "answer10 = s[-1:-8:-6] + g[0:7:6] + g[4:7] + s[4]\n",
    "print(\"Antwoord 10 is\", answer10)\n",
    "assert answer10 == \"leggings\", \"answer10 moet 'leggings' zijn\"\n",
    "```"
   ]
  }
 ],
 "metadata": {
  "language_info": {
   "name": "python"
  }
 },
 "nbformat": 4,
 "nbformat_minor": 2
}
