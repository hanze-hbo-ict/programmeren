{
 "cells": [
  {
   "cell_type": "markdown",
   "metadata": {},
   "source": [
    "# Extra"
   ]
  },
  {
   "cell_type": "markdown",
   "metadata": {},
   "source": [
    "## Functie 5\n",
    "\n",
    "In de basis opgaven zag je een manier om twee binaire getallen op te tellen: zet ze eerst om naar grondtal 10, tel deze getallen op en zet vervolgens de uitkomst weer om naar een binaire string.\n",
    "\n",
    "Bij deze opgave zal je echter een andere, meer directe, methode implementeren voor het optellen van twee binaire getallen, met behulp van de “basisschool” methode:"
   ]
  },
  {
   "cell_type": "markdown",
   "metadata": {},
   "source": [
    "```python\n",
    "def add_b(s, t):\n",
    "    \"\"\"\n",
    "    optellen van binaire getallen via de basisschool methode\n",
    "    \"\"\"\n",
    "    carry = \"0\" \n",
    "    result = \"\"\n",
    "    \n",
    "    # binaire getallen even lang maken. \n",
    "    if len(s) > len(t):\n",
    "        t = (len(s) - len(t)) * \"0\" + t\n",
    "    else:\n",
    "        s = (len(t) - len(s)) * \"0\" + s\n",
    "    # basisschool methode optellen.     \n",
    "    for _ in range(0, len(s)):\n",
    "        if s[-1] == \"0\" and t[-1] == \"0\": # 0 + 0 = 0\n",
    "            result = carry + result\n",
    "            carry = \"0\"\n",
    "        elif s[-1] == \"1\" and t[-1] == \"1\": \n",
    "            if carry == \"0\":  # 1 + 1 + 0 = 10\n",
    "                result = \"0\" + result\n",
    "                carry = \"1\"\n",
    "            else: #1 + 1 + 1 = 11\n",
    "                result = \"1\" + result\n",
    "                carry = \"1\"\n",
    "        else:\n",
    "            if carry == \"0\":  # 1 + 0 + 0 = 10\n",
    "                result = \"1\" + result\n",
    "            else: #1 + 0 + 1 = 10\n",
    "                result = \"0\" + result\n",
    "                carry = \"1\"\n",
    "        s = s[:-1]\n",
    "        t = t[:-1]\n",
    "    # carry toevoegen indien nodig. \n",
    "    if carry == \"1\": \n",
    "        result = carry + result\n",
    "    return result\n",
    "```"
   ]
  },
  {
   "cell_type": "markdown",
   "metadata": {},
   "source": [
    "## Functie 6\n",
    "Schrijf een functie compress(s), waarvan het argument een binaire string s is met een lengte van minder dan of gelijk aan 64 en dat als resultaat een andere binaire string teruggeeft. De resulterende binaire string zou een run-length codering van het origineel moeten zijn, zoals hierboven beschreven."
   ]
  },
  {
   "cell_type": "markdown",
   "metadata": {},
   "source": [
    "```python\n",
    "def compress(s):\n",
    "    result = \"\"\n",
    "    while len(s)> 0:\n",
    "        cnt = count(s[0], s)\n",
    "        bi = num_to_base_b(cnt, 2)\n",
    "        bi = (7 - len(bi)) * \"0\" + bi\n",
    "        result = result + s[0] + bi \n",
    "        s = s[cnt:]\n",
    "    return result\n",
    "```"
   ]
  },
  {
   "cell_type": "markdown",
   "metadata": {},
   "source": [
    "## Functie 7\n",
    "Schrijf vervolgens een functie uncompress(c) die het comprimeren van de functie compress “omkeert” of “ongedaan maakt”.\n",
    "\n",
    "Dat wil zeggen, uncompress(compress(s)) zou s moeten teruggeven. "
   ]
  },
  {
   "cell_type": "markdown",
   "metadata": {},
   "source": [
    "```python\n",
    "def uncompress(s):\n",
    "    result = \"\"\n",
    "    while len(s) > 0:\n",
    "        c = s[0]\n",
    "        bi = s[1:8]\n",
    "        cnt = base_b_to_num(bi, 2)\n",
    "        result = cnt * c + result\n",
    "        s = s[8:]\n",
    "    return result\n",
    "```"
   ]
  }
 ],
 "metadata": {
  "language_info": {
   "name": "python"
  }
 },
 "nbformat": 4,
 "nbformat_minor": 2
}
