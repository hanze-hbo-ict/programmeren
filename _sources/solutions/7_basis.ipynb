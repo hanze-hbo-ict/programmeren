{
 "cells": [
  {
   "cell_type": "markdown",
   "metadata": {},
   "source": [
    "# Basis"
   ]
  },
  {
   "cell_type": "markdown",
   "metadata": {},
   "source": [
    "## De Rij van Conway of Lees-en-Huiver\n",
    "In deze opgave ga je de wiskundig interessante [Rij van Conway](https://nl.wikipedia.org/wiki/Rij_van_Conway) (ja, dezelfde Conway!), ook wel bekend onder de Engelse naam Look-and-Say, implementeren."
   ]
  },
  {
   "cell_type": "markdown",
   "metadata": {},
   "source": [
    "```python\n",
    "def count(n, term):\n",
    "    \"\"\"\n",
    "    telt hoevaak de character n voorkomt aan het begin van de string term. \n",
    "    \"\"\"\n",
    "    result = 0\n",
    "    string = str(term)\n",
    "    char = str(n)\n",
    "    while result < len(string) and string[result] == char :\n",
    "        result += 1\n",
    "    return result\n",
    "\n",
    "```"
   ]
  },
  {
   "cell_type": "markdown",
   "metadata": {},
   "source": [
    "```python\n",
    "def next(term):\n",
    "    \"\"\"\n",
    "    bepaald de volgende term in de reeks. \n",
    "    \"\"\"\n",
    "    string = str(term)\n",
    "    index = 0\n",
    "    result = ''\n",
    "    while len(string) > 0:\n",
    "        counter = count (string[0], string)\n",
    "        result = result + str(counter) + string[0]\n",
    "        string = string[counter:]\n",
    "\n",
    "    return int(result)\n",
    "```"
   ]
  },
  {
   "cell_type": "markdown",
   "metadata": {},
   "source": [
    "```python\n",
    "def read_it(n):\n",
    "    \"\"\"\n",
    "    print een reeks van n lang. \n",
    "    \"\"\"\n",
    "    term = 1\n",
    "    for _ in range(0, n):\n",
    "        print (term)\n",
    "        term = next(term)\n",
    "```"
   ]
  }
 ],
 "metadata": {
  "language_info": {
   "name": "python"
  }
 },
 "nbformat": 4,
 "nbformat_minor": 2
}
