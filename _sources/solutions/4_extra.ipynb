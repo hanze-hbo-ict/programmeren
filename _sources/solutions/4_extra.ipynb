{
 "cells": [
  {
   "cell_type": "markdown",
   "metadata": {},
   "source": [
    "# Extra"
   ]
  },
  {
   "cell_type": "markdown",
   "metadata": {},
   "source": [
    "## Pi met Pijltjes\n"
   ]
  },
  {
   "cell_type": "markdown",
   "metadata": {},
   "source": [
    "Het is misschien verbazingwekkend dat het mogelijk is om de wiskundige constante π te berekenen zonder dat je andere operaties nodig hebt dan tellen, optellen en vermenigvuldigen. In deze opgave ga je twee functies schrijven om pi (3.14159...) te benaderen door het gooien van pijltjes."
   ]
  },
  {
   "cell_type": "markdown",
   "metadata": {},
   "source": [
    "```python\n",
    "import random\n",
    "import math\n",
    "\n",
    "def throw_dart():\n",
    "    \"\"\" Deze functie maakt gebruik van de random library om een\n",
    "    willekeurige x- en een willekeurige y-coördinaat te genereren\n",
    "    tussen -1 en 1. Als de pijl de cirkel raakt geeft de functie\n",
    "    True terug anders False.\n",
    "    \"\"\"\n",
    "\n",
    "    x = random.uniform(-1.0,1.0)\n",
    "    y = random.uniform(-1.0,1.0)\n",
    "\n",
    "    distance = math.sqrt((x * x) + (y * y))\n",
    "    if distance <= 1.0: # Raakt de cirkel\n",
    "        return True\n",
    "\n",
    "    return False\n",
    "def for_pi(n):\n",
    "    \"\"\" Deze functie gooit n pijltjes om de constante pi te benaderen.\n",
    "    De geschatte waarde pi wordt door de functie terug gegeven.\n",
    "    \"\"\"\n",
    "\n",
    "    timesHit = 0.0\n",
    "\n",
    "    for dart in range(1, n+1): # Corrigeer voor range beginnen bij 0\n",
    "        hit = throw_dart()\n",
    "        if hit:\n",
    "            timesHit += 1.0\n",
    "\n",
    "        print(str(timesHit) + \" raak van de \" + str(dart) + \" worpen dus pi is \" + str((4.0*timesHit)/dart))\n",
    "\n",
    "    return ((4.0*timesHit)/n)\n",
    "\n",
    "# print(\"Laatste schattig for pi is \" + str(for_pi(500)))\n",
    "# Mocht je tijd hebben en een pc die dit wel aan kan:\n",
    "# print(\"Laatste schatting for pi is \" + str(for_pi(5000000)))\n",
    "\n",
    "def find_number_of_decimals(x):\n",
    "    \"\"\" Geeft het aantal cijfers achter de komma voor float x (gegeven als string!) als integer terug.\n",
    "    \"\"\"\n",
    "    if len(x) == 0:\n",
    "        return 0\n",
    "    if x[-1] == '.':\n",
    "        return 0\n",
    "    else:\n",
    "        return 1 + find_number_of_decimals(x[0:-1])\n",
    "\n",
    "assert find_number_of_decimals(str(3.12345)) == 5\n",
    "assert find_number_of_decimals(str(456.98756429)) == 8\n",
    "assert find_number_of_decimals(str(0.1)) == 1\n",
    "\n",
    "def while_pi(accuracy):\n",
    "    \"\"\" Geeft het aantal pijltjes terug dat nodig was om nauwkeurigheid\n",
    "    x te halen.\n",
    "    \"\"\"\n",
    "    # Omdat de schatting van pi veel meer decimalen geeft dan de mee gegeven nauwkeurigheid\n",
    "    # en dit problemen geeft met een is gelijk aan statement, zullen we gebruik maken van de\n",
    "    # round functie. Hiervoor houden we het aantal decimalen aan van de mee gegeven variable en\n",
    "    # gebruiken we een hulp functie.\n",
    "    # Maak van de float een een str om gebruik te kunnen maken van string slicing om het aantal decimalen te krijgen\n",
    "    decimal = find_number_of_decimals(str(accuracy))\n",
    "    #print(\"Number of decimals: \" + str(decimal))\n",
    "    timesHit = 0.0\n",
    "    dart = 0\n",
    "    correct_accuracy = True\n",
    "\n",
    "    while correct_accuracy:\n",
    "        hit = throw_dart()\n",
    "        if hit:\n",
    "            timesHit += 1.0\n",
    "        dart += 1 # We hebben nu de eerste pijl gegooit\n",
    "        guess_pi = (4.0*timesHit)/dart\n",
    "\n",
    "        # Beperk aantal prints bij meer decimalen voor leesbaarheid output\n",
    "        if decimal <= 2:\n",
    "            # print(\"(Hit? \" + str(hit) + \")\\t\" + str(timesHit) + \" raak van de \" + str(dart) + \" worpen dus pi is \" + str(guess_pi))\n",
    "            print(str(timesHit) + \" raak van de \" + str(dart) + \" worpen dus pi is \" + str(guess_pi))\n",
    "        else:\n",
    "            if dart % 100 == 0:\n",
    "                print(str(timesHit) + \" raak van de \" + str(dart) + \" worpen dus pi is \" + str(guess_pi))\n",
    "\n",
    "        if round(guess_pi, decimal) == round(3.0 + accuracy, decimal):\n",
    "            correct_accuracy = False\n",
    "\n",
    "    if decimal > 2:\n",
    "        print(str(timesHit) + \" raak van de \" + str(dart) + \" worpen dus pi is \" + str(guess_pi))\n",
    "    return dart\n",
    "\n",
    "```"
   ]
  }
 ],
 "metadata": {
  "language_info": {
   "name": "python"
  }
 },
 "nbformat": 4,
 "nbformat_minor": 2
}
