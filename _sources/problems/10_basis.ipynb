{
 "cells": [
  {
   "cell_type": "markdown",
   "metadata": {},
   "source": [
    "# Basis"
   ]
  },
  {
   "cell_type": "markdown",
   "metadata": {},
   "source": [
    "## De nacht van het nijlpaard "
   ]
  },
  {
   "cell_type": "markdown",
   "metadata": {},
   "source": [
    "Nijlpaarden houden van een goede maaltijd. Maar ze hebben wel ruimte nodig voor zichzelf.\n",
    "\n",
    "Elke nacht maakt de chef-kok *n* maaltijden klaar. Er is een lange tafel met aan één kant plaatsen die\n",
    "oplopend genummerd zijn. Elke maaltijd wordt willekeurig op één van die plaatsen neergezet.\n",
    "\n",
    "De ceremoniemeester bepaalt daarna de minimale sociale afstand *k* tussen de nijlpaarden aan tafel.\n",
    "Als *k* bijvoorbeeld 2 is mogen twee nijlpaarden niet naast elkaar zitten maar moet er minstens 1 vrije\n",
    "plaats tussen hen in zitten .\n",
    "\n",
    "De nijlpaarden komen binnen en kunnen gaan zitten op een plek waar een maaltijd staat als die\n",
    "plaats voldoet aan de minimale sociale afstand tot andere nijlpaarden. De ceremoniemeester zorgt\n",
    "ervoor dat het maximale aantal nijlpaarden deel kan nemen aan de maaltijd."
   ]
  },
  {
   "cell_type": "markdown",
   "metadata": {},
   "source": [
    "Schrijf de functie `nijlpaard_diner(social_distance, loc_diner )`. \n",
    "- int `social_distance` geeft aan hoever de nijlpaarden uit elkaar moeten zitten\n",
    "- list `loc_diner` geeft aan waar op de tafel de maaltijden zijn neergezet. \n",
    "\n",
    "De functie geeft terug wat de maximale hoeveelheid nijlpaarden zijn dat aan de tafel kan zitten. Maak gebruik van recursie"
   ]
  },
  {
   "cell_type": "markdown",
   "metadata": {},
   "source": [
    "### voorbeelden"
   ]
  },
  {
   "cell_type": "markdown",
   "metadata": {},
   "source": [
    "```python\n",
    "assert nijlpaard_diner(1, [3,2,3] ) == 2\n",
    "```\n",
    "![voorbeeld 1](images/10/example1.png)"
   ]
  },
  {
   "cell_type": "markdown",
   "metadata": {},
   "source": [
    "```python\n",
    "assert nijlpaard_diner(2, [1,3,7] ) == 2\n",
    "```\n",
    "![voorbeeld 2](images/10/example2.png)"
   ]
  },
  {
   "cell_type": "markdown",
   "metadata": {},
   "source": [
    "```python\n",
    "assert nijlpaard_diner(4, [3,5,1,12,10] ) == 3\n",
    "```\n",
    "![voorbeeld 3](images/10/example3.png)"
   ]
  },
  {
   "cell_type": "markdown",
   "metadata": {},
   "source": [
    "(Informatica Olympiade 23-24)"
   ]
  }
 ],
 "metadata": {
  "language_info": {
   "name": "python"
  }
 },
 "nbformat": 4,
 "nbformat_minor": 2
}
