{
 "cells": [
  {
   "cell_type": "markdown",
   "id": "8ea5a1c5-7d91-4b1d-9477-42636bbce5db",
   "metadata": {
    "editable": true,
    "slideshow": {
     "slide_type": ""
    },
    "tags": []
   },
   "source": [
    "# Extra\n",
    "\n",
    "## Vier vieren\n",
    "\n",
    "![Vier vieren](images/2/four_fours.png)\n",
    "\n",
    "Het *vier vieren* probleem is een puzzel. Het doel is om steeds de meest *eenvoudige* rekenkundige uitdrukking te vinden voor elk geheel getal tussen 0 en een bepaald maximum door alleen maar rekenkundige symbolen (denk aan $+$ , $-$, $n^x$, $\\sqrt{}$, $\\times$, $!$, $\\div$) en vier keer het cijfer 4 te gebruiken. Bijvoorbeeld, in de uitdrukking\n",
    "\n",
    "$$\n",
    "4 + 4 - 4 - 4 = 0\n",
    "$$\n",
    "\n",
    "zie je een combinatie van *vier vieren* en de symbolen $+$ en $-$ die gelijk is aan 0.\n",
    "\n",
    "$$\n",
    "\\ldots = 1\n",
    "$$\n",
    "\n",
    "\n",
    "```python\n",
    "from math import *\n",
    "\n",
    "print(\"Nul is\", 4 + 4 - 4 - 4)\n",
    "```\n",
    "\n",
    "* Het **vier-vierenprobleem!** Voeg nu een aantal regels toe die lijken op die met nul om de waardes van `0` tot en met `20` te berekenen met ***precies vier vieren***. (Je kan ook een voldoende halen als je er een aantal overslaat waar je niet uitkomt!) Je mag alle rekenkundige bewerkingen van Python gebruiken:\n",
    "    * `+` optellen\n",
    "    * `-` aftrekken (of getal negatief maken)\n",
    "    * `*` vermenigvuldigen\n",
    "    * `/` delen\n",
    "    * `( )` haakjes om de volgorde van de berekening aan te passen\n",
    "    * `**` machtsverheffen\n",
    "* Resultaten met een decimale punt: `1.0`, `2.0`, enz. zijn geen probleem!\n",
    "* Je mag ook `44` of `4.4` gebruiken, die ieder als twee vieren tellen,\n",
    "* of `.4`, die als één vier telt.\n",
    "* of `sqrt`, bijvoorbeeld `sqrt(4)` (of andere wortels)\n",
    "    * De waarde van `sqrt(4)`, de wortel van 4, is dat getal wat je met zichzelf moet vermenigvuldigen om 4 te krijgen. `2*2 == 4`, dus `sqrt(4) == 2`. Een ander voorbeeld: `sqrt(9) == 3`, want `3*3 == 9`.\n",
    "* of `factorial`, bijvoorbeeld `factorial(4)` (of andere faculteiten)\n",
    "    * De waarde van `factorial(4)`, 4 faculteit (ook wel geschreven als 4!) is `4*3*2*1`, dus `24`. Net zo is `factorial(2)` gelijk aan `2*1`, dus `2`, en `factorial(5)` gelijk aan `5*4*3*2*1`, dus `120`.\n",
    "* `sqrt` en `factorial` komen allebei uit de module `math` van Python\n",
    "* terzijde, de regel `from math import *` zorgt dat deze module beschikbaar is in de code\n",
    "\n",
    "* Dit is hoe het resultaat, *maar niet je broncode*, eruit komt te zien.\n",
    "\n",
    "  ```console\n",
    "  Nul is 0\n",
    "  Een is 1\n",
    "  Twee is 2\n",
    "  Drie is 3\n",
    "  Vier is 4\n",
    "  Vijf is 5\n",
    "  Zes is 6\n",
    "  Zeven is 7\n",
    "  Acht is 8\n",
    "  Negen is 9\n",
    "  Tien is 10\n",
    "  Elf is 11\n",
    "  Twaalf is 12\n",
    "  Dertien is 13\n",
    "  Veertien is 14\n",
    "  Vijftien is 15\n",
    "  Zestien is 16\n",
    "  Zeventien is 17\n",
    "  Achttien is 18\n",
    "  Negentien is 19\n",
    "  Twintig is 20\n",
    "  ```\n",
    "\n",
    "* Misschien vind je de vier-vierenpuzzle verslavend, frustrerend, of allebei!\n",
    "\n",
    ":::{admonition} Tip\n",
    ":class: tip\n",
    "\n",
    "Vergeet `sqrt` en `factorial` niet!\n",
    ":::\n"
   ]
  },
  {
   "cell_type": "code",
   "execution_count": null,
   "id": "dcc5432b-9ae7-4979-9509-dba932597b36",
   "metadata": {
    "editable": true,
    "slideshow": {
     "slide_type": ""
    },
    "tags": [
     "skip-execution"
    ]
   },
   "outputs": [],
   "source": [
    "from math import *\n",
    "\n",
    "print(\"Nul is\", 4 + 4 - 4 - 4)\n",
    "\n",
    "# jouw oplossing"
   ]
  }
 ],
 "metadata": {
  "kernelspec": {
   "display_name": "Python 3 (ipykernel)",
   "language": "python",
   "name": "python3"
  },
  "language_info": {
   "codemirror_mode": {
    "name": "ipython",
    "version": 3
   },
   "file_extension": ".py",
   "mimetype": "text/x-python",
   "name": "python",
   "nbconvert_exporter": "python",
   "pygments_lexer": "ipython3",
   "version": "3.12.3"
  }
 },
 "nbformat": 4,
 "nbformat_minor": 5
}
