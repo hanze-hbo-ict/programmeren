{
 "cells": [
  {
   "cell_type": "markdown",
   "metadata": {
    "editable": true,
    "slideshow": {
     "slide_type": ""
    },
    "tags": []
   },
   "source": [
    "# Opstap"
   ]
  },
  {
   "cell_type": "markdown",
   "metadata": {
    "editable": true,
    "slideshow": {
     "slide_type": ""
    },
    "tags": []
   },
   "source": [
    "## Van decimaal naar binair"
   ]
  },
  {
   "cell_type": "markdown",
   "metadata": {
    "editable": true,
    "slideshow": {
     "slide_type": ""
    },
    "tags": []
   },
   "source": [
    "De volgende opdrachten worden op *papier* gemaakt om te oefenen met het omzetten van binaire getallen. Het is verstandig om eerst het probleem op papier op te kunnen lossen en de oplossing te begrijpen, voordat je probeert het te programmeren. Probeer, Plan, Programmeer!"
   ]
  },
  {
   "cell_type": "markdown",
   "metadata": {
    "editable": true,
    "slideshow": {
     "slide_type": ""
    },
    "tags": []
   },
   "source": [
    "### Algoritme\n",
    "\n",
    "-  Is het getal even? Schrijf 0 op en deel het getal door twee. \n",
    "-  Is het getal oneven? Schrijf een 1 op, trek 1 van het getal af en deel het resultaat door twee. \n",
    "\n",
    "Blijf dit herhalen tot het getal 0 is bereikt. "
   ]
  },
  {
   "cell_type": "markdown",
   "metadata": {
    "editable": true,
    "slideshow": {
     "slide_type": ""
    },
    "tags": []
   },
   "source": [
    "### Voorbeeld\n",
    "\n",
    "Zet 42 om naar binair"
   ]
  },
  {
   "cell_type": "markdown",
   "metadata": {
    "editable": true,
    "slideshow": {
     "slide_type": ""
    },
    "tags": []
   },
   "source": [
    "42 is even, dus **0** opschrijven. 42 / 2 = 21.  \n",
    "21 is oneven, dus **1**0 opschrijven. (21 - 1)/ = 10.  \n",
    "10 is even, dus **0**10 opschrijven. 10 / 2 = 5.  \n",
    "5 is oneven, dus **1**010 opschrijven (5 - 1) / 2 = 2\n",
    "2 is even, dus **0**1010 opschrijven. 2 / 1 = 1  \n",
    "1 is oneven, dus **1**01010 opschrijven. (1 - 1) / 0 = 0  \n",
    "0 is bereikt, dus oplossing is gevonden.\n",
    "\n",
    "101010 is de oplossing."
   ]
  },
  {
   "cell_type": "markdown",
   "metadata": {
    "editable": true,
    "slideshow": {
     "slide_type": ""
    },
    "tags": []
   },
   "source": [
    "## Opdracht 1"
   ]
  },
  {
   "cell_type": "markdown",
   "metadata": {
    "editable": true,
    "slideshow": {
     "slide_type": ""
    },
    "tags": []
   },
   "source": [
    "Zet de volgende waarden om van decimaal naar binair."
   ]
  },
  {
   "cell_type": "markdown",
   "metadata": {},
   "source": [
    "-  25\n",
    "-  33\n",
    "-  101\n",
    "-  142"
   ]
  },
  {
   "cell_type": "code",
   "execution_count": null,
   "metadata": {
    "editable": true,
    "slideshow": {
     "slide_type": ""
    },
    "tags": [
     "skip-execution"
    ]
   },
   "outputs": [],
   "source": [
    "# jouw oplossing"
   ]
  },
  {
   "cell_type": "markdown",
   "metadata": {
    "editable": true,
    "slideshow": {
     "slide_type": ""
    },
    "tags": []
   },
   "source": [
    "## Van binair naar decimaal"
   ]
  },
  {
   "cell_type": "markdown",
   "metadata": {
    "editable": true,
    "slideshow": {
     "slide_type": ""
    },
    "tags": []
   },
   "source": [
    "Om van binair naar decimaal te gaan, is het belangrijk om te onthouden dat de locatie van een cijfer in een getal zijn waarde bepaalt. In het getal 650 heeft de 5 de waarde 50 omdat het in de kolom tientallen staat. In het getal 345 heeft de 5 de waarde 5 gezien het in de kolom eenheden staat. "
   ]
  },
  {
   "cell_type": "markdown",
   "metadata": {
    "editable": true,
    "slideshow": {
     "slide_type": ""
    },
    "tags": []
   },
   "source": [
    "Het decimale getal 304 heeft 3 hondertallen ( $ 10 ^ 2 $ ), 0 tientallen( $10^1$ ) en 4 eenheden( $10^0$ ).\n",
    "\n",
    "$$\n",
    "3 \\times 100 + 0 \\times 10 + 4 \\times 1 = 304.  \n",
    "$$"
   ]
  },
  {
   "cell_type": "markdown",
   "metadata": {
    "editable": true,
    "slideshow": {
     "slide_type": ""
    },
    "tags": []
   },
   "source": [
    "Het binaire getal 0101 heeft 0 acht-tallen( $2^3$ ), 1 vier-tallen( $2^2$ ), 0 twee-tallen( $2^1$ ), 1 eentallen( $2^0$ ).\n",
    "\n",
    "$$\n",
    "0 \\times 8 + 1 \\times 4 + 0 \\times 2 + 1 \\times 1 = 5\n",
    "$$"
   ]
  },
  {
   "cell_type": "markdown",
   "metadata": {
    "editable": true,
    "slideshow": {
     "slide_type": ""
    },
    "tags": []
   },
   "source": [
    "## Opdracht 2"
   ]
  },
  {
   "cell_type": "markdown",
   "metadata": {
    "editable": true,
    "slideshow": {
     "slide_type": ""
    },
    "tags": []
   },
   "source": [
    "Zet de volgende waarden om van binair naar decimaal."
   ]
  },
  {
   "cell_type": "markdown",
   "metadata": {
    "editable": true,
    "slideshow": {
     "slide_type": ""
    },
    "tags": []
   },
   "source": [
    "-  00001010\n",
    "-  00100101\n",
    "-  01001010\n",
    "-  10010011"
   ]
  },
  {
   "cell_type": "code",
   "execution_count": null,
   "metadata": {
    "editable": true,
    "slideshow": {
     "slide_type": ""
    },
    "tags": [
     "skip-execution"
    ]
   },
   "outputs": [],
   "source": [
    "# jouw oplossing"
   ]
  }
 ],
 "metadata": {
  "kernelspec": {
   "display_name": "Python 3 (ipykernel)",
   "language": "python",
   "name": "python3"
  },
  "language_info": {
   "codemirror_mode": {
    "name": "ipython",
    "version": 3
   },
   "file_extension": ".py",
   "mimetype": "text/x-python",
   "name": "python",
   "nbconvert_exporter": "python",
   "pygments_lexer": "ipython3",
   "version": "3.12.3"
  }
 },
 "nbformat": 4,
 "nbformat_minor": 4
}
