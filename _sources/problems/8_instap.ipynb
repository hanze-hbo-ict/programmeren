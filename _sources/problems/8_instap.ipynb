{
 "cells": [
  {
   "cell_type": "markdown",
   "metadata": {},
   "source": [
    "# Instap\n",
    "\n",
    "Wat is de inhoud van lijst `L` met de onderstaande list comprehensions?"
   ]
  },
  {
   "cell_type": "markdown",
   "metadata": {},
   "source": [
    "## opgave 1\n",
    "```python\n",
    "L = [x for x in range(10)]\n",
    "```"
   ]
  },
  {
   "cell_type": "markdown",
   "metadata": {},
   "source": [
    "## opgave 2\n",
    "```python\n",
    "L = [x for x in range(5,10)]\n",
    "```"
   ]
  },
  {
   "cell_type": "markdown",
   "metadata": {},
   "source": [
    "## opgave 3\n",
    "```python\n",
    "L = [x for x in range(10) if x != 5]\n",
    "```"
   ]
  },
  {
   "cell_type": "markdown",
   "metadata": {},
   "source": [
    "## opgave 4\n",
    "```python\n",
    "L = [x for x in range(10) if x % 3 == 0]\n",
    "```"
   ]
  },
  {
   "cell_type": "markdown",
   "metadata": {},
   "source": [
    "## opgave 5\n",
    "```python\n",
    "L = [x for x in range(10) if x % 3 == 0]\n",
    "```"
   ]
  },
  {
   "cell_type": "markdown",
   "metadata": {},
   "source": [
    "## opgave 6\n",
    "```python\n",
    "fruits = [\"appel\", \"banaan\", \"kiwi\", \"citroen\", \"mango\" ]\n",
    "L = [x for x in fruits if \"a\" in x]\n",
    "```"
   ]
  },
  {
   "cell_type": "markdown",
   "metadata": {},
   "source": [
    "## opgave 7\n",
    "```python\n",
    "fruits = [\"appel\", \"banaan\", \"kiwi\", \"citroen\", \"mango\" ]\n",
    "L = [fruits[x] for x in range(len(fruits)) if fruits[x] <= \"c\"]\n",
    "```"
   ]
  },
  {
   "cell_type": "markdown",
   "metadata": {},
   "source": [
    "## opgave 8\n",
    "```python\n",
    "fruits = [\"appel\", \"banaan\", \"kiwi\", \"citroen\", \"mango\" ]\n",
    "L = [x for x in range(len(fruits)) if fruits[x] <= \"c\" and x % 2 == 0]\n",
    "```"
   ]
  },
  {
   "cell_type": "markdown",
   "metadata": {},
   "source": [
    "## opgave 9\n",
    "```python\n",
    "fruits = [\"appel\", \"banaan\", \"kiwi\", \"citroen\", \"mango\" ]\n",
    "L = [x for x in fruits if len(x) > 5]\n",
    "```"
   ]
  },
  {
   "cell_type": "markdown",
   "metadata": {},
   "source": [
    "## opgave 10\n",
    "```python\n",
    "fruits = [\"appel\", \"banaan\", \"kiwi\", \"citroen\", \"mango\" ]\n",
    "L = [len(x) for x in fruits]\n",
    "```"
   ]
  }
 ],
 "metadata": {
  "language_info": {
   "name": "python"
  }
 },
 "nbformat": 4,
 "nbformat_minor": 2
}
