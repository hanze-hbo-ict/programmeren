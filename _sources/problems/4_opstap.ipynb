{
 "cells": [
  {
   "cell_type": "markdown",
   "metadata": {},
   "source": [
    "# Opstap"
   ]
  },
  {
   "cell_type": "markdown",
   "metadata": {},
   "source": [
    "## For lussen"
   ]
  },
  {
   "cell_type": "markdown",
   "metadata": {},
   "source": [
    "Leerdoel:Lezen van for lussen"
   ]
  },
  {
   "cell_type": "markdown",
   "metadata": {},
   "source": [
    "Wat is de output van onderstaande programma's? Check je antwoord met behulp van de python tutor."
   ]
  },
  {
   "cell_type": "markdown",
   "metadata": {},
   "source": [
    "### opgave 1\n",
    "```python\n",
    "for i in range(5):\n",
    "    print(i)\n",
    "```"
   ]
  },
  {
   "cell_type": "markdown",
   "metadata": {},
   "source": [
    "### opgave 2\n",
    "```python\n",
    "L = [2, 4, 6, 8]\n",
    "for x in L:\n",
    "    print(x)\n",
    "```"
   ]
  },
  {
   "cell_type": "markdown",
   "metadata": {},
   "source": [
    "### opgave 3\n",
    "```python\n",
    "L = [9, 7, 5, 3, 1]\n",
    "for i in range(len(L)):\n",
    "    print(L[i])\n",
    "```"
   ]
  },
  {
   "cell_type": "markdown",
   "metadata": {},
   "source": [
    "### opgave 4\n",
    "```python\n",
    "L = [5, 3, 1]\n",
    "result = 0\n",
    "for i in range(len(L)):\n",
    "    result = result + L[1]\n",
    "print(result)\n",
    "```"
   ]
  },
  {
   "cell_type": "markdown",
   "metadata": {},
   "source": [
    "### opgave 5\n",
    "```python\n",
    "L = [1, 2, 3, 4, 5, 6, 7, 8, 9, 0]\n",
    "result = 0\n",
    "for i in range(len(L)):\n",
    "    if L[i] % 2 == 0:\n",
    "        result += L[i]\n",
    "print(result)\n",
    "```"
   ]
  },
  {
   "cell_type": "markdown",
   "metadata": {},
   "source": [
    "\n",
    "### opgave 6\n",
    "```python\n",
    "s = \"Hanze\"\n",
    "result = 0\n",
    "for _ in s:\n",
    "    result += 1\n",
    "print(result)\n",
    "```"
   ]
  },
  {
   "cell_type": "markdown",
   "metadata": {},
   "source": [
    "\n",
    "### opgave 7\n",
    "```python\n",
    "s = \"Dit is een string\"\n",
    "result = \"\"\n",
    "for x in s:\n",
    "    if x in \"eauoi\":\n",
    "        result += x\n",
    "print(result)\n",
    "```"
   ]
  },
  {
   "cell_type": "markdown",
   "metadata": {},
   "source": [
    "### opgave 8\n",
    "```python\n",
    "s = \"Dit is een string\"\n",
    "result = \"\"\n",
    "for i in range(len(s)):\n",
    "    if s[i- 1] == \" \":\n",
    "        result += s[i]\n",
    "print(result)\n",
    "```"
   ]
  },
  {
   "cell_type": "markdown",
   "metadata": {},
   "source": [
    "### opgave 9\n",
    "```python\n",
    "lijst = []\n",
    "for i in range(10):\n",
    "    if i < 2:\n",
    "        lijst += [1]\n",
    "    else:\n",
    "        lijst += [lijst[i-1] + lijst[i-2]]\n",
    "print(lijst)\n",
    "```"
   ]
  },
  {
   "cell_type": "markdown",
   "metadata": {},
   "source": [
    "### opgave 10\n",
    "```python\n",
    "lijst = []\n",
    "temp = 1\n",
    "for i in range(5):\n",
    "    if(temp % 2 != 0):\n",
    "        lijst += [2 * temp]\n",
    "        temp =  temp + 5\n",
    "    else:\n",
    "        lijst += [temp]\n",
    "        temp = temp / 2\n",
    "print(lijst)\n",
    "print(temp)\n",
    "```"
   ]
  },
  {
   "cell_type": "markdown",
   "metadata": {},
   "source": [
    "## While lussen\n",
    "\n",
    "Leerdoel: Lezen van while lussen"
   ]
  },
  {
   "cell_type": "markdown",
   "metadata": {},
   "source": [
    "Wat is de output van onderstaande programma's?"
   ]
  },
  {
   "cell_type": "markdown",
   "metadata": {},
   "source": [
    "### opgave 1\n",
    "```python\n",
    "n = 0\n",
    "while n < 5:\n",
    "    print(n)\n",
    "    n += 1\n",
    "\n",
    "```"
   ]
  },
  {
   "cell_type": "markdown",
   "metadata": {},
   "source": [
    "### opgave 2\n",
    "```python\n",
    "l = [1,2,3,4,5]\n",
    "while len(l) > 0:\n",
    "    print(l)\n",
    "    l = l[1:]\n",
    "```"
   ]
  },
  {
   "cell_type": "markdown",
   "metadata": {},
   "source": [
    "### opgave 3\n",
    "```python\n",
    "i = 1\n",
    "while i < 6:\n",
    "    print(i)\n",
    "    if i == 3:\n",
    "        break\n",
    "    i += 1\n",
    "```\n"
   ]
  },
  {
   "cell_type": "markdown",
   "metadata": {},
   "source": [
    "### opgave 4\n",
    "```python\n",
    "i = 0\n",
    "while i < 6:\n",
    "    i += 1\n",
    "    if i == 3:\n",
    "        continue\n",
    "    print(i)\n",
    "```"
   ]
  },
  {
   "cell_type": "markdown",
   "metadata": {},
   "source": [
    "### opgave 5\n",
    "```python\n",
    "number = 4\n",
    "faculty = 1\n",
    "while number  > 0:\n",
    "    faculty = faculty * number\n",
    "    number -= 1\n",
    "print(faculty)\n",
    "```"
   ]
  },
  {
   "cell_type": "markdown",
   "metadata": {},
   "source": [
    "### opgave 6\n",
    "```python\n",
    "num1 = 5\n",
    "num2 = 8\n",
    "while num2 > 0:\n",
    "    num1 = num1 + num1\n",
    "    num2 -= 1\n",
    "print(num1)\n",
    "\n",
    "```"
   ]
  },
  {
   "cell_type": "markdown",
   "metadata": {},
   "source": [
    "### opgave 7\n",
    "```python\n",
    "s = \"Dit is een test\"\n",
    "while s[0] != \"e\":\n",
    "    s = s[1:]\n",
    "print(s)\n",
    "```"
   ]
  },
  {
   "cell_type": "markdown",
   "metadata": {},
   "source": [
    "### opgave 8\n",
    "```python\n",
    "total = 0\n",
    "number = int(input('Enter a number: '))\n",
    "\n",
    "while number != 0:\n",
    "    total += number\n",
    "    number = int(input('Enter a number: '))\n",
    "\n",
    "print('total =', total)\n",
    "```"
   ]
  },
  {
   "cell_type": "markdown",
   "metadata": {},
   "source": [
    "### opgave 9\n",
    "```python\n",
    "l = [1,2,3,4,5]\n",
    "index = 0\n",
    "while l[index] != 3 :\n",
    "    index += 1\n",
    "print(index)\n",
    "```"
   ]
  },
  {
   "cell_type": "markdown",
   "metadata": {},
   "source": [
    "### opgave 10\n",
    "```python\n",
    "lijst = []\n",
    "temp = 1\n",
    "while len(lijst) < 10:\n",
    "\t\tif(temp % 2 != 0):\n",
    "\t\t\tlijst += [2 * temp]\n",
    "\t\t\ttemp =  temp + 5\n",
    "\t\telse:\n",
    "\t\t\ttemp = temp / 2\n",
    "print(lijst)\n",
    "```"
   ]
  }
 ],
 "metadata": {
  "language_info": {
   "name": "python"
  }
 },
 "nbformat": 4,
 "nbformat_minor": 2
}
