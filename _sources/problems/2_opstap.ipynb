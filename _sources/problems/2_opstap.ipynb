{
 "cells": [
  {
   "cell_type": "markdown",
   "id": "1901e045-61b7-4317-9596-4f3d41fdec83",
   "metadata": {
    "editable": true,
    "slideshow": {
     "slide_type": ""
    },
    "tags": []
   },
   "source": [
    "# Opstap\n",
    "\n",
    "In de volgende opgaven ga je oefenen met *conditionele statements*, *strings* en *lijsten* in Python. Ook ga je oefenen met het vinden van fouten (*bugs*) in code.\n",
    "\n",
    "## Conditionele statements\n",
    "\n",
    "Het lezen en begrijpen van conditionele statements in Python.\n",
    "\n",
    "In de volgende opgaven is het vooral de bedoeling te kunnen bepalen wat de output is van de code. Test je antwoorden met behulp van [Python Tutor](https://pythontutor.com/visualize.html#mode=edit) of open de opgave in [Google Colab](https://colab.research.google.com/)."
   ]
  },
  {
   "cell_type": "markdown",
   "id": "393199ca-7a81-483a-918d-5e42aee7268c",
   "metadata": {
    "editable": true,
    "slideshow": {
     "slide_type": ""
    },
    "tags": []
   },
   "source": [
    "### Opgave 1-A\n",
    "\n",
    "Wat is de output?"
   ]
  },
  {
   "cell_type": "markdown",
   "id": "f9c1f6ca-2b93-462f-844c-1ffa9b5eb7d6",
   "metadata": {
    "editable": true,
    "slideshow": {
     "slide_type": ""
    },
    "tags": []
   },
   "source": [
    "```python\n",
    "x = 8\n",
    "\n",
    "if x > 5 :\n",
    "    print(\"if statement is True\")\n",
    "print(\"staat buiten de if statement\")\n",
    "```"
   ]
  },
  {
   "cell_type": "code",
   "execution_count": null,
   "id": "49578625-0679-47e0-bd11-7538401d9ae1",
   "metadata": {
    "editable": true,
    "slideshow": {
     "slide_type": ""
    },
    "tags": [
     "skip-execution"
    ]
   },
   "outputs": [],
   "source": [
    "# controleer jouw antwoord"
   ]
  },
  {
   "cell_type": "markdown",
   "id": "55892533-5d94-4709-8d37-edda01c7ea0e",
   "metadata": {
    "editable": true,
    "slideshow": {
     "slide_type": ""
    },
    "tags": []
   },
   "source": [
    "### Opgave 1-B\n",
    "\n",
    "Wat is de output?"
   ]
  },
  {
   "cell_type": "markdown",
   "id": "33a398a5-0bb9-41fc-adc6-2de54fced8f9",
   "metadata": {
    "editable": true,
    "slideshow": {
     "slide_type": ""
    },
    "tags": []
   },
   "source": [
    "```python\n",
    "x = 8\n",
    "\n",
    "if x < 5 :\n",
    "    print(\"if statement is True\")\n",
    "print(\"staat buiten de if statement\")\n",
    "```"
   ]
  },
  {
   "cell_type": "code",
   "execution_count": null,
   "id": "7dfaf565-4729-4210-8cc7-867faac20776",
   "metadata": {
    "editable": true,
    "slideshow": {
     "slide_type": ""
    },
    "tags": [
     "skip-execution"
    ]
   },
   "outputs": [],
   "source": [
    "# controleer jouw antwoord"
   ]
  },
  {
   "cell_type": "markdown",
   "id": "f3043a7a-859b-489f-bf3c-cfc0b6065390",
   "metadata": {
    "editable": true,
    "slideshow": {
     "slide_type": ""
    },
    "tags": []
   },
   "source": [
    "### Opgave 1-C\n",
    "\n",
    "Wat is de output?"
   ]
  },
  {
   "cell_type": "markdown",
   "id": "9fb7a67d-0eb8-4876-80f2-b36178d5118b",
   "metadata": {
    "editable": true,
    "slideshow": {
     "slide_type": ""
    },
    "tags": []
   },
   "source": [
    "```python\n",
    "x = 8\n",
    "\n",
    "if x < 5 :\n",
    "    print(\"if statement is True\")\n",
    "else:\n",
    "    print(\"if statement is false\")\n",
    "print(\"staat buiten de if-else statement\")\n",
    "```"
   ]
  },
  {
   "cell_type": "code",
   "execution_count": null,
   "id": "389f7ee5-544e-4c05-9be5-3b2ae08c0ed7",
   "metadata": {
    "editable": true,
    "slideshow": {
     "slide_type": ""
    },
    "tags": [
     "skip-execution"
    ]
   },
   "outputs": [],
   "source": [
    "# controleer jouw antwoord"
   ]
  },
  {
   "cell_type": "markdown",
   "id": "fb747ee8-654c-4b3d-95a1-67a53eaf6806",
   "metadata": {
    "editable": true,
    "slideshow": {
     "slide_type": ""
    },
    "tags": []
   },
   "source": [
    "### Opgave 1-D\n",
    "\n",
    "Wat is de output?"
   ]
  },
  {
   "cell_type": "markdown",
   "id": "1340f9cc-1674-41fe-a46f-bce3a2cb9092",
   "metadata": {
    "editable": true,
    "slideshow": {
     "slide_type": ""
    },
    "tags": []
   },
   "source": [
    "```python\n",
    "x = 5\n",
    "\n",
    "if x < 5 :\n",
    "    print(\"if statement is True\")\n",
    "elif x > 5:\n",
    "    print(\"elif statement is True\")\n",
    "else:\n",
    "    print(\"zowel de if en elif statements zijn false\")\n",
    "```"
   ]
  },
  {
   "cell_type": "code",
   "execution_count": null,
   "id": "24a2f404-3b69-4579-ac5a-46d5c72aff49",
   "metadata": {
    "editable": true,
    "slideshow": {
     "slide_type": ""
    },
    "tags": [
     "skip-execution"
    ]
   },
   "outputs": [],
   "source": [
    "# controleer jouw antwoord"
   ]
  },
  {
   "cell_type": "markdown",
   "id": "79593c5f-fbc3-4433-8e19-ca4758af7a98",
   "metadata": {
    "editable": true,
    "slideshow": {
     "slide_type": ""
    },
    "tags": []
   },
   "source": [
    "### Opgave 1-E\n",
    "\n",
    "Wat is de output?"
   ]
  },
  {
   "cell_type": "markdown",
   "id": "4effb3d7-7c00-47b4-abf4-5ce95e781ddc",
   "metadata": {
    "editable": true,
    "slideshow": {
     "slide_type": ""
    },
    "tags": []
   },
   "source": [
    "```python\n",
    "temp = 23.0\n",
    "\n",
    "if temp > 35.0:\n",
    "    print(\"Heet!\")\n",
    "elif temp > 20.0:\n",
    "    print(\"Warm\")\n",
    "elif temp > 10.0:\n",
    "    print(\"Koel\")\n",
    "else:\n",
    "    print(\"Brrr!\")\n",
    "```"
   ]
  },
  {
   "cell_type": "code",
   "execution_count": null,
   "id": "2f363ff7-f8b4-4f18-bdfd-3d6935b99bae",
   "metadata": {
    "editable": true,
    "slideshow": {
     "slide_type": ""
    },
    "tags": [
     "skip-execution"
    ]
   },
   "outputs": [],
   "source": [
    "# controleer jouw antwoord"
   ]
  },
  {
   "cell_type": "markdown",
   "id": "1ac94adf-d3ea-4249-840b-e3ac65badcd6",
   "metadata": {
    "editable": true,
    "slideshow": {
     "slide_type": ""
    },
    "tags": []
   },
   "source": [
    "### Opgave 1-F\n",
    "\n",
    "Wat is de output?"
   ]
  },
  {
   "cell_type": "markdown",
   "id": "5c898b1f-5fb0-4326-ad8d-e4708e81c0e0",
   "metadata": {
    "editable": true,
    "slideshow": {
     "slide_type": ""
    },
    "tags": []
   },
   "source": [
    "```python\n",
    "temp = 15.0\n",
    "\n",
    "if temp > 35.0:\n",
    "    print(\"Heet!\")\n",
    "else:\n",
    "    if temp > 20.0:\n",
    "        print(\"Warm\")\n",
    "    else:\n",
    "        if temp > 10.0:\n",
    "            print(\"Koel\")\n",
    "        else:\n",
    "            print(\"Brrr!\")\n",
    "```"
   ]
  },
  {
   "cell_type": "code",
   "execution_count": null,
   "id": "9369aaef-4444-4a5b-8fa5-c74557f90b67",
   "metadata": {
    "editable": true,
    "slideshow": {
     "slide_type": ""
    },
    "tags": [
     "skip-execution"
    ]
   },
   "outputs": [],
   "source": [
    "# controleer jouw antwoord"
   ]
  },
  {
   "cell_type": "markdown",
   "id": "f35f0904-fc7f-4c5e-80d2-de3a6cffdd60",
   "metadata": {
    "editable": true,
    "slideshow": {
     "slide_type": ""
    },
    "tags": []
   },
   "source": [
    "### Opgave 1-G\n",
    "\n",
    "Wat is de output?"
   ]
  },
  {
   "cell_type": "markdown",
   "id": "a3d3457e-391d-45eb-9008-f39eec9a3ecf",
   "metadata": {
    "editable": true,
    "slideshow": {
     "slide_type": ""
    },
    "tags": []
   },
   "source": [
    "```python\n",
    "x = 5\n",
    "\n",
    "if x < 5 :\n",
    "    x = x + 3\n",
    "elif x > 5:\n",
    "    x = x - 3\n",
    "print(x)\n",
    "```"
   ]
  },
  {
   "cell_type": "code",
   "execution_count": null,
   "id": "9b573755-c75b-4391-aae8-29291cd7a34a",
   "metadata": {
    "editable": true,
    "slideshow": {
     "slide_type": ""
    },
    "tags": [
     "skip-execution"
    ]
   },
   "outputs": [],
   "source": [
    "# controleer jouw antwoord"
   ]
  },
  {
   "cell_type": "markdown",
   "id": "125b2d28-8251-4aa3-a3c9-87fb0f14d345",
   "metadata": {
    "editable": true,
    "slideshow": {
     "slide_type": ""
    },
    "tags": []
   },
   "source": [
    "### Opgave 1-H\n",
    "\n",
    "Wat is de output?"
   ]
  },
  {
   "cell_type": "markdown",
   "id": "5d830af5-2f3b-46f4-8a08-441d4ca30ab5",
   "metadata": {
    "editable": true,
    "slideshow": {
     "slide_type": ""
    },
    "tags": []
   },
   "source": [
    "```python\n",
    "x = 4\n",
    "\n",
    "if x < 5 :\n",
    "    x = x + 3\n",
    "elif x > 5:\n",
    "    x = x - 3\n",
    "else:\n",
    "    x = x * 2\n",
    "\n",
    "print(x)\n",
    "```"
   ]
  },
  {
   "cell_type": "code",
   "execution_count": null,
   "id": "3f1fc762-2564-4e23-8700-1ddf81b95a10",
   "metadata": {
    "editable": true,
    "slideshow": {
     "slide_type": ""
    },
    "tags": [
     "skip-execution"
    ]
   },
   "outputs": [],
   "source": [
    "# controleer jouw antwoord"
   ]
  },
  {
   "cell_type": "markdown",
   "id": "c41093a2-8cd6-4adb-8845-46cf5d05e60a",
   "metadata": {
    "editable": true,
    "slideshow": {
     "slide_type": ""
    },
    "tags": []
   },
   "source": [
    "### Opgave 1-I\n",
    "\n",
    "Wat is de output?"
   ]
  },
  {
   "cell_type": "markdown",
   "id": "58e834de-f9eb-4e54-b816-389476cbfd9a",
   "metadata": {
    "editable": true,
    "slideshow": {
     "slide_type": ""
    },
    "tags": []
   },
   "source": [
    "```python\n",
    "naam = \"Suzan\"\n",
    "if naam <= 'E':\n",
    "    print(\"groep 1\")\n",
    "elif naam <= 'J':\n",
    "    print(\"groep 2\")\n",
    "elif naam <= 'O':\n",
    "    print(\"groep 3\")\n",
    "elif naam <= 'U':\n",
    "    print(\"groep 4\")\n",
    "else:\n",
    "    print(\"groep 5\")\n",
    "```"
   ]
  },
  {
   "cell_type": "code",
   "execution_count": null,
   "id": "d421f0c7-f1a8-4dbf-96e3-943600181b8b",
   "metadata": {
    "editable": true,
    "slideshow": {
     "slide_type": ""
    },
    "tags": [
     "skip-execution"
    ]
   },
   "outputs": [],
   "source": [
    "# controleer jouw antwoord"
   ]
  },
  {
   "cell_type": "markdown",
   "id": "06d74f7b-2b5c-42cf-b55e-e1539ee9b506",
   "metadata": {
    "editable": true,
    "slideshow": {
     "slide_type": ""
    },
    "tags": []
   },
   "source": [
    "### Opgave 1-J\n",
    "\n",
    "Wat is de output?"
   ]
  },
  {
   "cell_type": "markdown",
   "id": "c5218c5b-7d98-4890-8ad7-69e556819bca",
   "metadata": {
    "editable": true,
    "slideshow": {
     "slide_type": ""
    },
    "tags": []
   },
   "source": [
    "```python\n",
    "naam = \"Emily\"\n",
    "if naam  <= 'E':\n",
    "    print(\"groep 1\")\n",
    "elif naam  <= 'J':\n",
    "    print(\"groep 2\")\n",
    "elif naam  <= 'O':\n",
    "    print(\"groep 3\")\n",
    "elif naam <= 'U':\n",
    "    print(\"groep 4\")\n",
    "else:\n",
    "    print(\"groep 5\")\n",
    "```"
   ]
  },
  {
   "cell_type": "code",
   "execution_count": null,
   "id": "1fb1dabc-ef20-4e13-9fce-d2abab0791d9",
   "metadata": {
    "editable": true,
    "slideshow": {
     "slide_type": ""
    },
    "tags": [
     "skip-execution"
    ]
   },
   "outputs": [],
   "source": [
    "# controleer jouw antwoord"
   ]
  },
  {
   "cell_type": "markdown",
   "id": "1078fdf5-814b-4c33-9dc6-35a2d5c530ce",
   "metadata": {
    "editable": true,
    "slideshow": {
     "slide_type": ""
    },
    "tags": []
   },
   "source": [
    "## Strings en lists\n",
    "Het lezen en begrijpen van werken met strings en lists in Python."
   ]
  },
  {
   "cell_type": "markdown",
   "id": "eea8fb31-6cd1-430f-86ab-0309478c4b82",
   "metadata": {
    "editable": true,
    "slideshow": {
     "slide_type": ""
    },
    "tags": []
   },
   "source": [
    "### Opgave 2-A\n",
    "\n",
    "Wat is de output?"
   ]
  },
  {
   "cell_type": "markdown",
   "id": "22634e7a-30ec-4f55-b8d1-44741f6261af",
   "metadata": {
    "editable": true,
    "slideshow": {
     "slide_type": ""
    },
    "tags": []
   },
   "source": [
    "```python\n",
    "a = \"123\"\n",
    "print(2 * a)\n",
    "```"
   ]
  },
  {
   "cell_type": "code",
   "execution_count": null,
   "id": "c34961c2-63a5-40f3-8224-99a081e825d7",
   "metadata": {
    "editable": true,
    "slideshow": {
     "slide_type": ""
    },
    "tags": [
     "skip-execution"
    ]
   },
   "outputs": [],
   "source": [
    "# controleer jouw antwoord"
   ]
  },
  {
   "cell_type": "markdown",
   "id": "3de712b8-1035-4a77-b03d-3074f3cfd2b0",
   "metadata": {
    "editable": true,
    "slideshow": {
     "slide_type": ""
    },
    "tags": []
   },
   "source": [
    "### Opgave 2-B\n",
    "\n",
    "Wat is de output?"
   ]
  },
  {
   "cell_type": "markdown",
   "id": "f5f4d5df-bc0a-4784-8da2-103525ff783e",
   "metadata": {
    "editable": true,
    "slideshow": {
     "slide_type": ""
    },
    "tags": []
   },
   "source": [
    "```python\n",
    "a = \"hanze\"\n",
    "b = \"Hogeschool\"\n",
    "print(2 * a + b)\n",
    "```"
   ]
  },
  {
   "cell_type": "code",
   "execution_count": null,
   "id": "29dfcc15-28b7-42e7-89f5-04a4ec731285",
   "metadata": {
    "editable": true,
    "slideshow": {
     "slide_type": ""
    },
    "tags": [
     "skip-execution"
    ]
   },
   "outputs": [],
   "source": [
    "# controleer jouw antwoord"
   ]
  },
  {
   "cell_type": "markdown",
   "id": "5ced1320-b0a0-420d-89f9-8e155477829b",
   "metadata": {
    "editable": true,
    "slideshow": {
     "slide_type": ""
    },
    "tags": []
   },
   "source": [
    "### Opgave 2-C\n",
    "\n",
    "Wat is de output?"
   ]
  },
  {
   "cell_type": "markdown",
   "id": "c6c436f1-f96c-4f47-a7fc-0565c0269bf4",
   "metadata": {
    "editable": true,
    "slideshow": {
     "slide_type": ""
    },
    "tags": []
   },
   "source": [
    "```python\n",
    "a = 123\n",
    "b = \"456\"\n",
    "print(a, b)\n",
    "```"
   ]
  },
  {
   "cell_type": "code",
   "execution_count": null,
   "id": "0ffdb437-cfcd-42ad-abab-a12829c3e4d4",
   "metadata": {
    "editable": true,
    "slideshow": {
     "slide_type": ""
    },
    "tags": [
     "skip-execution"
    ]
   },
   "outputs": [],
   "source": [
    "# controleer jouw antwoord"
   ]
  },
  {
   "cell_type": "markdown",
   "id": "d51de374-45de-4151-aea0-0b6122791345",
   "metadata": {
    "editable": true,
    "slideshow": {
     "slide_type": ""
    },
    "tags": []
   },
   "source": [
    "### Opgave 2-D\n",
    "\n",
    "Wat is de output?"
   ]
  },
  {
   "cell_type": "markdown",
   "id": "24cdfa2a-632c-46be-bbcf-1f250b64c21f",
   "metadata": {
    "editable": true,
    "slideshow": {
     "slide_type": ""
    },
    "tags": []
   },
   "source": [
    "```python\n",
    "p = [3, 1, 4, 1, 5]\n",
    "c = [2, 9, 9, 7, 9, 2, 4, 5, 8]\n",
    "\n",
    "answer0 = p[0:3]\n",
    "answer1 = c[5]\n",
    "\n",
    "print(answer0 * answer1)\n",
    "```"
   ]
  },
  {
   "cell_type": "code",
   "execution_count": null,
   "id": "ea1b73cd-aadb-429f-ae0f-31cf6c938bf0",
   "metadata": {
    "editable": true,
    "slideshow": {
     "slide_type": ""
    },
    "tags": [
     "skip-execution"
    ]
   },
   "outputs": [],
   "source": [
    "# controleer jouw antwoord"
   ]
  },
  {
   "cell_type": "markdown",
   "id": "9b1344af-655d-43f6-acd6-0acbaa60a53a",
   "metadata": {
    "editable": true,
    "slideshow": {
     "slide_type": ""
    },
    "tags": []
   },
   "source": [
    "### Opgave 2-E\n",
    "\n",
    "Wat is de output?"
   ]
  },
  {
   "cell_type": "markdown",
   "id": "ed715534-e48c-4b17-9c32-c700c4d356f4",
   "metadata": {
    "editable": true,
    "slideshow": {
     "slide_type": ""
    },
    "tags": []
   },
   "source": [
    "```python\n",
    "c = \"computer\"\n",
    "s = \"science\"\n",
    "\n",
    "answer0 = s[2:0:-1]\n",
    "answer1 = c[5]\n",
    "\n",
    "print(s[2:0:-1] + c[5] + s[2::-2] + s[0] + c[4:2:-1]  + c[6:])\n",
    "```"
   ]
  },
  {
   "cell_type": "code",
   "execution_count": null,
   "id": "220b8d89-664b-45af-866a-ca40452df310",
   "metadata": {
    "editable": true,
    "slideshow": {
     "slide_type": ""
    },
    "tags": [
     "skip-execution"
    ]
   },
   "outputs": [],
   "source": [
    "# controleer jouw antwoord"
   ]
  },
  {
   "cell_type": "markdown",
   "id": "ab07823d-7343-40d5-96dd-d52b801c2436",
   "metadata": {
    "editable": true,
    "slideshow": {
     "slide_type": ""
    },
    "tags": []
   },
   "source": [
    "### Opgave 2-F"
   ]
  },
  {
   "cell_type": "code",
   "execution_count": null,
   "id": "9ecbe4e0-d0ad-493b-9ca2-cefe4596fe61",
   "metadata": {
    "editable": true,
    "slideshow": {
     "slide_type": ""
    },
    "tags": [
     "skip-execution"
    ]
   },
   "outputs": [],
   "source": [
    "pi = [3, 1, 4, 1, 5, 9]\n",
    "\n",
    "L = ['pi', \"isn't\", [4,2]]"
   ]
  },
  {
   "cell_type": "markdown",
   "id": "4f86f84c-1b14-4251-a108-1717363003bb",
   "metadata": {
    "editable": true,
    "slideshow": {
     "slide_type": ""
    },
    "tags": []
   },
   "source": [
    "1. Wat is `len(pi)`?\n",
    "2. Wat is `len(L)`?\n",
    "3. Wat is `len(L[1])`?\n",
    "4. Wat is `pi[2:4]`?\n",
    "5. Welk puntje (\"slice\") `pi` is gelijk aan `[3,1,4]`? (hint, neem het aantal elementen als stop waarde)\n",
    "6. Welk puntje `pi` is `[3,4,5]`?"
   ]
  },
  {
   "cell_type": "code",
   "execution_count": null,
   "id": "bd9b2ff4-f5c2-447a-a603-44d9866dc47e",
   "metadata": {
    "editable": true,
    "slideshow": {
     "slide_type": ""
    },
    "tags": [
     "skip-execution"
    ]
   },
   "outputs": [],
   "source": [
    "# controleer jouw antwoord"
   ]
  },
  {
   "cell_type": "markdown",
   "id": "9f244856-677e-4d3e-8f51-4e405bfb45c2",
   "metadata": {
    "editable": true,
    "slideshow": {
     "slide_type": ""
    },
    "tags": []
   },
   "source": [
    "### Opgave 2-G"
   ]
  },
  {
   "cell_type": "code",
   "execution_count": null,
   "id": "03a5135f-72d5-48c3-a2b0-6ca2bec0e6bc",
   "metadata": {
    "editable": true,
    "slideshow": {
     "slide_type": ""
    },
    "tags": [
     "skip-execution"
    ]
   },
   "outputs": [],
   "source": [
    "L = [\"pi\", \"isn't\", [4, 2]]\n",
    "\n",
    "M = \"You need parentheses for chemistry !\"\n",
    "#    0   4   8   12  16  20  24  28  32"
   ]
  },
  {
   "cell_type": "markdown",
   "id": "f2587f38-7e4a-4ba0-8867-65029a519e24",
   "metadata": {
    "editable": true,
    "slideshow": {
     "slide_type": ""
    },
    "tags": []
   },
   "source": [
    "1. Wat is `L[0]`?\n",
    "2. Wat is `L[0][1]`?\n",
    "3. Wat is `L[0:1]`?\n",
    "6. Wat is `M[9:15]`?\n",
    "7. Wat is `M[::5]`?\n",
    "4. Welk puntje M is `'try'`?\n",
    "5. Welk puntje M is `'shoe'`?"
   ]
  },
  {
   "cell_type": "code",
   "execution_count": null,
   "id": "51bd57d9-002d-4a7c-b8af-3c1fb0357de6",
   "metadata": {
    "editable": true,
    "slideshow": {
     "slide_type": ""
    },
    "tags": []
   },
   "outputs": [],
   "source": [
    "# controleer jouw antwoord"
   ]
  },
  {
   "cell_type": "markdown",
   "id": "799706fb-cd34-44eb-899b-feaaae10f4f5",
   "metadata": {
    "editable": true,
    "slideshow": {
     "slide_type": ""
    },
    "tags": []
   },
   "source": [
    "### Opgave 2-H"
   ]
  },
  {
   "cell_type": "code",
   "execution_count": null,
   "id": "6b706aa9-2a1a-455f-b251-38ab71e2ed0b",
   "metadata": {
    "editable": true,
    "slideshow": {
     "slide_type": ""
    },
    "tags": [
     "skip-execution"
    ]
   },
   "outputs": [],
   "source": [
    "pi = [3, 1, 4, 1, 5, 9]"
   ]
  },
  {
   "cell_type": "markdown",
   "id": "1f1df669-d902-4f04-ab2c-3cdd18d0b2f8",
   "metadata": {
    "editable": true,
    "slideshow": {
     "slide_type": ""
    },
    "tags": []
   },
   "source": [
    "1. Wat is `pi[0] * (pi[1] + pi[2])`?\n",
    "2. Wat is `pi[0] * (pi[1:2] + pi[2:3])`?\n",
    "3. Hoe krijg je `[3, 4, 5, 3, 4, 5, 3, 4, 5]`?"
   ]
  },
  {
   "cell_type": "code",
   "execution_count": null,
   "id": "dffbd6ab-8f4c-4081-bb0e-59468294c00e",
   "metadata": {
    "editable": true,
    "slideshow": {
     "slide_type": ""
    },
    "tags": []
   },
   "outputs": [],
   "source": [
    "# controleer jouw antwoord"
   ]
  },
  {
   "cell_type": "markdown",
   "id": "425e9626-55fd-4221-a849-03f09b11f5eb",
   "metadata": {
    "editable": true,
    "slideshow": {
     "slide_type": ""
    },
    "tags": []
   },
   "source": [
    "### Opgave 2-I\n",
    "\n",
    "`True` or `False`?\n",
    "\n",
    "1. `[4, 2] > [42]`\n",
    "2. `\"hoi\" > \"doei\"`\n",
    "3. `\"eten\" > \"werken\"`\n",
    "4. `\"Haard\" < \"Huis\"`\n",
    "5. `\"F\" < \"Fiets\"`\n",
    "6. `[4, \"m&m's\"] < [1, \"koffie\"]`"
   ]
  },
  {
   "cell_type": "code",
   "execution_count": null,
   "id": "61f4618e-1a11-4b19-a133-242a1d0e3a42",
   "metadata": {
    "editable": true,
    "slideshow": {
     "slide_type": ""
    },
    "tags": []
   },
   "outputs": [],
   "source": [
    "# controleer jouw antwoord"
   ]
  },
  {
   "cell_type": "markdown",
   "id": "e0df1825-7155-4510-bc63-8434b96a10ec",
   "metadata": {
    "editable": true,
    "slideshow": {
     "slide_type": ""
    },
    "tags": []
   },
   "source": [
    "## Debuggen\n",
    "\n",
    "Het kunnen vinden van bugs in conditionele statements."
   ]
  },
  {
   "cell_type": "markdown",
   "id": "8fa09ab8-e5c7-4f02-ba40-268b92f3f537",
   "metadata": {
    "editable": true,
    "slideshow": {
     "slide_type": ""
    },
    "tags": []
   },
   "source": [
    "### Opgave\n",
    "\n",
    "Tijdens een busreis worden studenten verdeeld over verschillende bussen aan de hand van hun achternaam.\n",
    "\n",
    "| Bus | Eerste letter achternaam |\n",
    "| --- | ------------------------ |\n",
    "| 1   | A t/m E                  |\n",
    "| 2   | F t/m J                  |\n",
    "| 3   | K t/m O                  |\n",
    "| 4   | Q t/m U                  |\n",
    "| 5   | V t/m Z                  |\n",
    "\n",
    "Bijvoorbeeld, een student met de achternaam \"Niël\" komt in bus 3 en een student met de achternaam \"Hoebe\" komt in bus 2\n",
    "\n",
    "Gegeven is een variabele `naam` die staat voor de achternaam (zonder voorvoegsels en met hoofdletter) van een student. De opdracht is om een conditionele statement te schrijven om de juiste bus nummer af te drukken."
   ]
  },
  {
   "cell_type": "code",
   "execution_count": null,
   "id": "45a0292c-c8e2-43e2-9eab-cd1f4220c76a",
   "metadata": {
    "editable": true,
    "slideshow": {
     "slide_type": ""
    },
    "tags": []
   },
   "outputs": [],
   "source": [
    "naam = \"Hoebe\""
   ]
  },
  {
   "cell_type": "markdown",
   "id": "15e94b25-b0e1-49a8-874b-52c56d44c462",
   "metadata": {
    "editable": true,
    "slideshow": {
     "slide_type": ""
    },
    "tags": []
   },
   "source": [
    "Deze opdracht is op meerdere manieren op te lossen en hieronder staan een aantal uitwerkingen, maar er zit telkens een fout in!\n",
    "\n",
    "**Probeer bij elke uitwerking te bepalen welke fout wordt gemaakt waardoor de code niet correct is.**"
   ]
  },
  {
   "cell_type": "markdown",
   "id": "e2864168-4fbf-4f28-ab0d-66da755c258b",
   "metadata": {
    "editable": true,
    "slideshow": {
     "slide_type": ""
    },
    "tags": []
   },
   "source": [
    "#### Uitwerking 3-A"
   ]
  },
  {
   "cell_type": "code",
   "execution_count": null,
   "id": "4160ad6b-4f4b-4c06-9bfd-5235f72774c8",
   "metadata": {
    "editable": true,
    "slideshow": {
     "slide_type": ""
    },
    "tags": [
     "skip-execution"
    ]
   },
   "outputs": [],
   "source": [
    "if naam[0] <= 'E':\n",
    "    print(1)\n",
    "if naam[0] <= 'J':\n",
    "    print(2)\n",
    "if naam[0] <= 'O':\n",
    "    print(3)\n",
    "if naam[0] <= 'U':\n",
    "    print(4)\n",
    "else\n",
    "    print(5)"
   ]
  },
  {
   "cell_type": "markdown",
   "id": "1f8c2f77-a6cc-4a6a-b29b-65ab731322a0",
   "metadata": {
    "editable": true,
    "slideshow": {
     "slide_type": ""
    },
    "tags": []
   },
   "source": [
    "#### Uitwerking 3-B"
   ]
  },
  {
   "cell_type": "code",
   "execution_count": null,
   "id": "78a7e652-3316-44ee-aed7-19cc2125098d",
   "metadata": {
    "editable": true,
    "slideshow": {
     "slide_type": ""
    },
    "tags": [
     "skip-execution"
    ]
   },
   "outputs": [],
   "source": [
    "if naam[0] >= 'E':\n",
    "    print(1)\n",
    "elif naam[0] >= 'J':\n",
    "    print(2)\n",
    "elif naam[0] >= 'O':\n",
    "    print(3)\n",
    "elif naam[0] >= 'U':\n",
    "    print(4)\n",
    "else:\n",
    "    print(5)"
   ]
  },
  {
   "cell_type": "markdown",
   "id": "308ddc59-233a-41a8-b277-369ee7bcfe7b",
   "metadata": {
    "editable": true,
    "slideshow": {
     "slide_type": ""
    },
    "tags": []
   },
   "source": [
    "#### Uitwerking 3-C"
   ]
  },
  {
   "cell_type": "code",
   "execution_count": null,
   "id": "99659ccc-71bb-4436-b4fc-504ab97a25ec",
   "metadata": {
    "editable": true,
    "slideshow": {
     "slide_type": ""
    },
    "tags": [
     "skip-execution"
    ]
   },
   "outputs": [],
   "source": [
    "if naam[0] <= 'E':\n",
    "    print(1)\n",
    "else:\n",
    "    if naam[0] <= 'J':\n",
    "        print(2)\n",
    "    elif naam[0] <= 'O':\n",
    "        print(3)\n",
    "        if naam[0] <= 'U':\n",
    "            print(4)\n",
    "        else:\n",
    "            print(5)"
   ]
  },
  {
   "cell_type": "markdown",
   "id": "cb4b15e1-469f-4507-9bad-77d3ed9aa0f5",
   "metadata": {
    "editable": true,
    "slideshow": {
     "slide_type": ""
    },
    "tags": []
   },
   "source": [
    "#### Uitwerking 3-D"
   ]
  },
  {
   "cell_type": "code",
   "execution_count": null,
   "id": "2850c64a-e6f5-4f8f-b91f-f46e42483f9f",
   "metadata": {
    "editable": true,
    "slideshow": {
     "slide_type": ""
    },
    "tags": [
     "skip-execution"
    ]
   },
   "outputs": [],
   "source": [
    "if naam[0] <= 'E':\n",
    "    print(1)\n",
    "elif naam[0] <= 'J':\n",
    "    print(2)\n",
    "    elif naam[0] <= 'O':\n",
    "        print(3)\n",
    "    elif naam[0] <= 'U':\n",
    "        print(4)\n",
    "    else:\n",
    "        print(5)"
   ]
  },
  {
   "cell_type": "markdown",
   "id": "54b1d23d-c616-48be-b8e7-8919dec51066",
   "metadata": {
    "editable": true,
    "slideshow": {
     "slide_type": ""
    },
    "tags": []
   },
   "source": [
    "#### Uitwerking 3-E"
   ]
  },
  {
   "cell_type": "code",
   "execution_count": null,
   "id": "4ceb1fd8-c247-4f5e-b155-eed181e5ce3a",
   "metadata": {
    "editable": true,
    "slideshow": {
     "slide_type": ""
    },
    "tags": [
     "skip-execution"
    ]
   },
   "outputs": [],
   "source": [
    "if naam[0] <= 'Z':\n",
    "    print(5)\n",
    "elif naam[0] <= 'U':\n",
    "    print(4)\n",
    "elif naam[0] <= 'O':\n",
    "    print(3)\n",
    "elif naam[0] <= 'J':\n",
    "    print(2)\n",
    "else:\n",
    "    print(1)"
   ]
  },
  {
   "cell_type": "markdown",
   "id": "1578292a-44e8-4c84-bd38-64cec0be657f",
   "metadata": {
    "editable": true,
    "slideshow": {
     "slide_type": ""
    },
    "tags": []
   },
   "source": [
    "#### Uitwerking 3-F"
   ]
  },
  {
   "cell_type": "code",
   "execution_count": null,
   "id": "e4839569-a9ad-46f7-b016-3f1798b9f329",
   "metadata": {
    "editable": true,
    "slideshow": {
     "slide_type": ""
    },
    "tags": [
     "skip-execution"
    ]
   },
   "outputs": [],
   "source": [
    "if naam <= 'E':\n",
    "    print(1)\n",
    "elif naam <= 'J':\n",
    "    print(2)\n",
    "elif naam <= 'O':\n",
    "    print(3)\n",
    "elif naam <= 'U':\n",
    "    print(4)\n",
    "else:\n",
    "    print(5)"
   ]
  },
  {
   "cell_type": "markdown",
   "id": "521ab800-e3ab-4f19-a7ca-d16b6d26870d",
   "metadata": {
    "editable": true,
    "slideshow": {
     "slide_type": ""
    },
    "tags": []
   },
   "source": [
    "#### Uitwerking 3-G"
   ]
  },
  {
   "cell_type": "code",
   "execution_count": null,
   "id": "d4128b71-46f2-447c-b49c-4118514e4a31",
   "metadata": {
    "editable": true,
    "slideshow": {
     "slide_type": ""
    },
    "tags": [
     "skip-execution"
    ]
   },
   "outputs": [],
   "source": [
    "if naam < 'F'\n",
    "    print(1)\n",
    "elif naam < 'K'\n",
    "    print(2)\n",
    "elif naam < 'P'\n",
    "    print(3)\n",
    "elif naam < 'V'\n",
    "    print(4)\n",
    "else:\n",
    "    print(5)"
   ]
  }
 ],
 "metadata": {
  "kernelspec": {
   "display_name": "Python 3 (ipykernel)",
   "language": "python",
   "name": "python3"
  },
  "language_info": {
   "codemirror_mode": {
    "name": "ipython",
    "version": 3
   },
   "file_extension": ".py",
   "mimetype": "text/x-python",
   "name": "python",
   "nbconvert_exporter": "python",
   "pygments_lexer": "ipython3",
   "version": "3.12.3"
  }
 },
 "nbformat": 4,
 "nbformat_minor": 5
}
