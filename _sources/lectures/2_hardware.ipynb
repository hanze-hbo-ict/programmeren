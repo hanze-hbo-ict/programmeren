{
 "cells": [
  {
   "attachments": {},
   "cell_type": "markdown",
   "metadata": {
    "slideshow": {
     "slide_type": "slide"
    }
   },
   "source": [
    "# Computerarchitectuur\n",
    "\n",
    "Hoe werkt de computer?"
   ]
  },
  {
   "cell_type": "markdown",
   "metadata": {
    "slideshow": {
     "slide_type": "subslide"
    }
   },
   "source": [
    "## Abstracties\n",
    "\n",
    "Van hardware naar software\n",
    "\n",
    "- transistoren / schakelingen\n",
    "- logische schakelingen\n",
    "- bitwise functies\n",
    "- berekeningen"
   ]
  },
  {
   "attachments": {},
   "cell_type": "markdown",
   "metadata": {},
   "source": [
    "## CPU\n",
    "\n",
    "CPU staat voor Central Processing Unit. De nederlandse naam is CVE, wat staat voor Centrale Verwerkings Eenheid. Heeft als bijnaam 'hart van de computer'. Het voert alle instructies en berekeningen uit. \n",
    "\n",
    "![heart of PC](images/2/heart_of_pc.jpg)"
   ]
  },
  {
   "attachments": {},
   "cell_type": "markdown",
   "metadata": {},
   "source": [
    "De CPU is opgebouwd uit transistoren en schakelingen. Het heeft een aantal onderdelen met elk zijn eigen taak. \n",
    "\n",
    "![CPU parts](images/2/CPU_parts.jpg)"
   ]
  },
  {
   "attachments": {},
   "cell_type": "markdown",
   "metadata": {},
   "source": [
    "**ALU:**  De Arithmetic and Logic Unit voert rekenkundige bewerkingen uit zoals optellen en aftrekken en kan waarden met elkaar vergelijken.\n",
    "\n",
    "**Besturingseenheid:** is verantwoordelijk om het allemaal aan te sturen. Het haalt de instructies uit het geheugen, decodeert deze en voert de instructie uit.\n",
    "\n",
    "**De bus:** Verantwoordelijk voor het vervoeren van data. Bestaat uit drie bussen. Databus is voor de data, addressbus voor het adress in het geheugen en de besturingsbus houdt bij wat de bus aan het doen is. \n",
    "\n",
    "**klok:** Een simpel onderdeel dat eigenlijk alleen maar een aan/uit signaal doorgeeft. Elke keer als de klok een ‘tik’ geeft zal de processor een stap uitvoeren. \n",
    "\n",
    "**registers:** Een type geheugen waar instructies en data bewaard kan worden. In een van de registers wordt de program counter bijgehouden. Zo weet de cpu welke instructie hij uit het geheugen moet halen.  "
   ]
  },
  {
   "attachments": {},
   "cell_type": "markdown",
   "metadata": {},
   "source": [
    "### Von Neumann cycle.\n",
    "\n",
    "De CPU haalt de instructie uit het geheugen en verhoogt de program counter (Fetch), decodeert de instructie (Decode) en voert de opdracht uit (Execute). Dit is de Von Neuman Cycle. \n",
    "\n",
    "![Von Neumann cycle](images/2/neumann_cycle.png)\n"
   ]
  },
  {
   "attachments": {},
   "cell_type": "markdown",
   "metadata": {},
   "source": [
    "### Von Neumann Bottleneck\n",
    "\n",
    "Een CPU kan maar 1 instructie per keer uitvoeren. Dit verzaakt een bottleneck als er veel instructies zijn die uitgevoerd moeten worden.\n",
    "\n",
    "![Von Neumann bottleneck](images/2/bottleneck.png)\n",
    "\n",
    "Oplossing: Meerdere cores."
   ]
  },
  {
   "cell_type": "markdown",
   "metadata": {
    "slideshow": {
     "slide_type": "slide"
    }
   },
   "source": [
    "## Geheugen"
   ]
  },
  {
   "cell_type": "raw",
   "metadata": {
    "slideshow": {
     "slide_type": "fragment"
    }
   },
   "source": [
    "<iframe width=\"600px\" height=\"400px\" src=\"https://circuitverse.org/simulator/embed/memory-3891e586-8cfc-45e6-8dac-0949b43f3bbb\" id=\"projectPreview\" scrolling=\"no\" webkitAllowFullScreen mozAllowFullScreen allowFullScreen></iframe>"
   ]
  },
  {
   "cell_type": "markdown",
   "metadata": {
    "slideshow": {
     "slide_type": "slide"
    }
   },
   "source": [
    "## Soorten geheugen"
   ]
  },
  {
   "cell_type": "markdown",
   "metadata": {
    "slideshow": {
     "slide_type": "subslide"
    }
   },
   "source": [
    "### Registers\n",
    "\n",
    "Onderdeel van de Central Processing Unit (CPU)"
   ]
  },
  {
   "cell_type": "markdown",
   "metadata": {
    "slideshow": {
     "slide_type": "subslide"
    }
   },
   "source": [
    "![CPU](images/13/intel_cpu.png)"
   ]
  },
  {
   "cell_type": "markdown",
   "metadata": {
    "slideshow": {
     "slide_type": "subslide"
    }
   },
   "source": [
    "![8-bit flip flop](images/13/4-Bit-Register.png)"
   ]
  },
  {
   "cell_type": "markdown",
   "metadata": {
    "slideshow": {
     "slide_type": "skip"
    }
   },
   "source": [
    "4 gated latches vormen een 4 bit register"
   ]
  },
  {
   "cell_type": "markdown",
   "metadata": {
    "slideshow": {
     "slide_type": "fragment"
    }
   },
   "source": [
    "Geheugen opgebouwd uit logische schakelingen."
   ]
  },
  {
   "cell_type": "markdown",
   "metadata": {
    "slideshow": {
     "slide_type": "fragment"
    }
   },
   "source": [
    "100 registers met 64 bits elk is ongeveer 10000 bits in totaal."
   ]
  },
  {
   "attachments": {},
   "cell_type": "markdown",
   "metadata": {
    "slideshow": {
     "slide_type": "subslide"
    }
   },
   "source": [
    "### Werkgeheugen\n",
    "\n",
    "Random Access Memory (RAM)\n",
    "\n",
    "![RAM](images/13/1136px-Samsung-1GB-DDR2-Laptop-RAM.jpg)"
   ]
  },
  {
   "cell_type": "markdown",
   "metadata": {
    "slideshow": {
     "slide_type": "fragment"
    }
   },
   "source": [
    "Geheugen opgebouwd uit transistoren."
   ]
  },
  {
   "cell_type": "markdown",
   "metadata": {
    "slideshow": {
     "slide_type": "fragment"
    }
   },
   "source": [
    "10GB geheugen is ongeveer 100 miljard bits."
   ]
  },
  {
   "cell_type": "markdown",
   "metadata": {
    "slideshow": {
     "slide_type": "subslide"
    }
   },
   "source": [
    "### Harde schijf\n",
    "\n",
    "![HDD](images/13/hdd-4tb.jpg)"
   ]
  },
  {
   "cell_type": "markdown",
   "metadata": {
    "slideshow": {
     "slide_type": "fragment"
    }
   },
   "source": [
    "Permanent geheugen op basis van gemagnetiseerd oppervlak"
   ]
  },
  {
   "cell_type": "markdown",
   "metadata": {
    "slideshow": {
     "slide_type": "fragment"
    }
   },
   "source": [
    "4TB geheugen is ongeveer 42 biljoen bits (of meer)"
   ]
  },
  {
   "cell_type": "markdown",
   "metadata": {
    "slideshow": {
     "slide_type": "subslide"
    }
   },
   "source": [
    "### Solid state disk\n",
    "\n",
    "![SSD](images/13/ssd-4tb.png)"
   ]
  },
  {
   "cell_type": "markdown",
   "metadata": {
    "slideshow": {
     "slide_type": "fragment"
    }
   },
   "source": [
    "Permanent geheugen gebouwd uit logische schakelingen!"
   ]
  },
  {
   "cell_type": "markdown",
   "metadata": {
    "slideshow": {
     "slide_type": "fragment"
    }
   },
   "source": [
    "*[Flash memory](https://en.wikipedia.org/wiki/Flash_memory)*, op basis van NOR of NAND schakelingen."
   ]
  },
  {
   "cell_type": "markdown",
   "metadata": {
    "slideshow": {
     "slide_type": "subslide"
    }
   },
   "source": [
    "### Lang geleden ..."
   ]
  },
  {
   "cell_type": "markdown",
   "metadata": {
    "slideshow": {
     "slide_type": "subslide"
    }
   },
   "source": [
    "![5Mb 1956](images/13/hdd_5Mb_1956.png)"
   ]
  },
  {
   "cell_type": "markdown",
   "metadata": {
    "slideshow": {
     "slide_type": "notes"
    }
   },
   "source": [
    "De IBM [RAMAC 305](https://www.ibm.com/ibm/history/ibm100/us/en/icons/ramac/) (1956). 5 MB geheugen met een gewicht van 1000 kg."
   ]
  },
  {
   "cell_type": "markdown",
   "metadata": {
    "slideshow": {
     "slide_type": "subslide"
    }
   },
   "source": [
    "## Historisch\n",
    "\n",
    "> 640K ought to be enough for anybody\n",
    ">\n",
    "> -- Bill Gates (betwist)"
   ]
  },
  {
   "cell_type": "markdown",
   "metadata": {
    "slideshow": {
     "slide_type": "subslide"
    }
   },
   "source": [
    "## In de machine"
   ]
  },
  {
   "cell_type": "markdown",
   "metadata": {
    "slideshow": {
     "slide_type": "fragment"
    }
   },
   "source": [
    "*Registers (CPU)*\n",
    "\n",
    "Programma's worden hier opgehaald en instructies worden één voor één uitgevoerd"
   ]
  },
  {
   "cell_type": "markdown",
   "metadata": {
    "slideshow": {
     "slide_type": "fragment"
    }
   },
   "source": [
    "*Werkgeheugen (RAM)*\n",
    "\n",
    "Programma's die worden uitgevoerd zijn hier opgeslagen"
   ]
  },
  {
   "attachments": {},
   "cell_type": "markdown",
   "metadata": {
    "slideshow": {
     "slide_type": "fragment"
    }
   },
   "source": [
    "*Opslag (harde schijf en/of SSD)*\n",
    "\n",
    "Permanente opslag van data"
   ]
  },
  {
   "cell_type": "markdown",
   "metadata": {
    "slideshow": {
     "slide_type": "slide"
    }
   },
   "source": [
    "### Von Neumann architectuur"
   ]
  },
  {
   "cell_type": "markdown",
   "metadata": {
    "slideshow": {
     "slide_type": "subslide"
    }
   },
   "source": [
    "![CPU architecture](images/13/622px-ABasicComputer.png)"
   ]
  },
  {
   "cell_type": "markdown",
   "metadata": {
    "slideshow": {
     "slide_type": "subslide"
    }
   },
   "source": [
    "CPU\n",
    "\n",
    "- beperkt, maar snel geheugen: registers\n",
    "- berekeningen\n",
    "\n",
    "RAM\n",
    "\n",
    "- groter, maar langzaam geheugen\n",
    "- geen berekeningen"
   ]
  },
  {
   "cell_type": "markdown",
   "metadata": {
    "slideshow": {
     "slide_type": "subslide"
    }
   },
   "source": [
    "![CPU](images/13/cpu.png)"
   ]
  },
  {
   "cell_type": "markdown",
   "metadata": {
    "slideshow": {
     "slide_type": "fragment"
    }
   },
   "source": [
    "- programmainstructies worden samen met data opgeslagen in RAM\n",
    "- Instructies en data worden tussen RAM en CPU heen en weer verplaatst"
   ]
  }
 ],
 "metadata": {
  "kernelspec": {
   "display_name": "Python 3 (ipykernel)",
   "language": "python",
   "name": "python3"
  },
  "language_info": {
   "codemirror_mode": {
    "name": "ipython",
    "version": 3
   },
   "file_extension": ".py",
   "mimetype": "text/x-python",
   "name": "python",
   "nbconvert_exporter": "python",
   "pygments_lexer": "ipython3",
   "version": "3.10.7"
  }
 },
 "nbformat": 4,
 "nbformat_minor": 4
}
