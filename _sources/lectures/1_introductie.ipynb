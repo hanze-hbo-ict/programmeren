{
 "cells": [
  {
   "cell_type": "markdown",
   "metadata": {
    "editable": true,
    "slideshow": {
     "slide_type": "slide"
    },
    "tags": []
   },
   "source": [
    "# Wat is informatica"
   ]
  },
  {
   "attachments": {},
   "cell_type": "markdown",
   "metadata": {
    "editable": true,
    "slideshow": {
     "slide_type": "notes"
    },
    "tags": []
   },
   "source": [
    "Voordat we beginnen moeten we iets zeggen over informatica. Wat denk je dat informatica is?\n",
    "\n",
    "Veel mensen denken dat het *programmeren* of gewoon *leren coderen* is of dat het iets met computers is.\n",
    "\n",
    "Informatica is het verwerken van informatie. Gegeven een input, hoe verwerken we dat tot een gewenste uitput? Met andere woorden, het gaat om problemen oplossen. Programmeren is een belangrijk hulpmiddel om de computer de informatie te laten verwerken en tot de oplossing te komen. De truuk is om als programmeur de computer uit te gaan leggen hoe hij de data moet verwerken."
   ]
  },
  {
   "attachments": {},
   "cell_type": "markdown",
   "metadata": {
    "editable": true,
    "slideshow": {
     "slide_type": "subslide"
    },
    "tags": []
   },
   "source": [
    "## Oplossen van problemen\n",
    "\n",
    "-   Hoe kan een probleem worden opgelost\n",
    "-   Hoe goed kan een probleem worden opgelost\n",
    "-   Kan elk probleem worden opgelost"
   ]
  },
  {
   "cell_type": "markdown",
   "metadata": {
    "editable": true,
    "slideshow": {
     "slide_type": "notes"
    },
    "tags": []
   },
   "source": [
    "Als het gaat over het oplossen van problemen wil informatica deze *drie* belangrijke vragen proberen te beantwoorden."
   ]
  },
  {
   "attachments": {},
   "cell_type": "markdown",
   "metadata": {
    "editable": true,
    "slideshow": {
     "slide_type": "slide"
    },
    "tags": []
   },
   "source": [
    "## Hoe kan een probleem worden opgelost?\n",
    "\n",
    "- Kan je het probleem oplossen?\n",
    "- Kan je een proces ontwerpen om dit soort problemen op te lossen?"
   ]
  },
  {
   "attachments": {},
   "cell_type": "markdown",
   "metadata": {
    "editable": true,
    "slideshow": {
     "slide_type": "notes"
    },
    "tags": []
   },
   "source": [
    "Het niet is verstandig dat als er een probleem opgelost moet worden om meteen te gaan programmeren. Probeer eerst het probleem op papier op te lossen met een klein voorbeeld. Welke stappen/instructies zijn er gebruikt om het probleem op te lossen? Dit wordt computational thinking genoemd. De vaardigheid om een set van instructies te ontwikkelen dat een gegeven probleem kan oplossen. Deze set van instucties om van A naar B te komen wordt een algoritme genoemd. \n",
    "\n",
    "Bijvoorbeeld: het Longest Common Subsequence (LCS) probleem voor het zoeken naar de langste opeenvolging van karakters die twee woorden met elkaar gemeen hebben."
   ]
  },
  {
   "attachments": {},
   "cell_type": "markdown",
   "metadata": {
    "editable": true,
    "slideshow": {
     "slide_type": "subslide"
    },
    "tags": []
   },
   "source": [
    "### Longest Common Subsequence (LCS)\n",
    "\n",
    "Het string-matching probleem in DND:\n",
    "\n",
    "- 'CGCTGAGCTAGGCC...'\n",
    "- 'ATCCTAGGTAACTG...' (en $10^9$ meer!)\n",
    "\n",
    "\n",
    "Wat is de langst *gemeenschappelijke opeenvolging* van karakters? In biologie is dit een werkelijk probleem waar het gaat om het vergelijken van DNA-sequenties.\n"
   ]
  },
  {
   "attachments": {},
   "cell_type": "markdown",
   "metadata": {
    "editable": true,
    "slideshow": {
     "slide_type": "notes"
    },
    "tags": []
   },
   "source": [
    "Het is gekkenwerk om dit op een grote dataset met de hand te doen. Dan kan de vraag gesteld worden; kan een computer dit oplossen? Met andere woorden: kan dit probleem vertaald worden naar een set van instructies? "
   ]
  },
  {
   "attachments": {},
   "cell_type": "markdown",
   "metadata": {
    "editable": true,
    "slideshow": {
     "slide_type": "subslide"
    },
    "tags": []
   },
   "source": [
    "Inplaats van het probleem op te lossen op een  grote dataset is het vaak makkelijker om eerst een dataset te proberen op te lossen, Bijvoorbeeld twee woorden. \n",
    "- 'HUMAN'\n",
    "- 'CHIMPANZEE'\n",
    "\n",
    " Je zult redelijk snel zien dat ‘AN’ de langst gemeenschappelijke opeenvolging van karakters is. Dit is de eerste stap van het oplossen van een probleem; De probeer fase. \n",
    " \n",
    " Welke stappen heb je gebruikt om tot een oplossing te komen? Zijn deze stappen ook toe te passen op een opeenvolging van 3 miljard karakters? Dit is de plan fase waarin het algoritme wordt ontworpen.\n",
    "\n",
    " Zodra er een algoritme is ontworpen kan het geprogrammeerd worden. Dat is dan de programmeer fase. "
   ]
  },
  {
   "attachments": {},
   "cell_type": "markdown",
   "metadata": {
    "editable": true,
    "slideshow": {
     "slide_type": "slide"
    },
    "tags": []
   },
   "source": [
    "## Hoe goed kan een probleem worden opgelost\n",
    "\n",
    "- Hoe snel kan het ontworpen algoritme de oplossing?\n",
    "- Is deze oplossing de best mogelijke oplossing?"
   ]
  },
  {
   "attachments": {},
   "cell_type": "markdown",
   "metadata": {
    "editable": true,
    "slideshow": {
     "slide_type": "notes"
    },
    "tags": []
   },
   "source": [
    "Soms kunnen we een manier vinden om een probleem op te lossen, maar is het te traag. Het zal je misschien verbazen dat we ons zorgen moeten maken over snelheid, zeker nu computers zo snel zijn, maar er zijn problemen die zo groot dat we ons zorgen moeten maken over hoe snel het programma is.\n",
    "\n",
    "Natuurlijk kan het ook zo zijn dat we een oplossing vinden dat snel genoeg is, maar is het dan echt de best oplossing?"
   ]
  },
  {
   "attachments": {},
   "cell_type": "markdown",
   "metadata": {
    "editable": true,
    "slideshow": {
     "slide_type": "subslide"
    },
    "tags": []
   },
   "source": [
    "### Het sorteer probleem\n",
    "\n",
    "Gegeven een $N$ aantal getallen dat gesoorteerd moet worden van groot naar klein. Denk bijvoorbeeld aan prijzen in een webwbinkel."
   ]
  },
  {
   "attachments": {},
   "cell_type": "markdown",
   "metadata": {
    "editable": true,
    "slideshow": {
     "slide_type": "notes"
    },
    "tags": []
   },
   "source": [
    "Oplossing 1:\n",
    "\n",
    "- Stap 1: Zet de de getallen random achter elkaar\n",
    "- Stap 2: Controleer of de getallen in de juiste volgorde staan. Zo niet, ga terug naar stap 1"
   ]
  },
  {
   "cell_type": "markdown",
   "metadata": {
    "editable": true,
    "slideshow": {
     "slide_type": "fragment"
    },
    "tags": []
   },
   "source": [
    "Deze oplossing staat bekend als *bogosort*"
   ]
  },
  {
   "attachments": {},
   "cell_type": "markdown",
   "metadata": {
    "editable": true,
    "slideshow": {
     "slide_type": "notes"
    },
    "tags": []
   },
   "source": [
    "Dit algoritme is niet erg efficient want als er veel data gesorteerd moet worden, kan dit heel lang duren. Sterker nog, het zou wel eens oneindig lang kunnen duren. "
   ]
  },
  {
   "attachments": {},
   "cell_type": "markdown",
   "metadata": {
    "editable": true,
    "slideshow": {
     "slide_type": "subslide"
    },
    "tags": []
   },
   "source": [
    "Oplossing 2: \n",
    "- Stap 1: Vergelijk de element met de buurman in de lijst. Als ze in de verkeerde volgorde staan worden ze gewisseld. Ga dan naar de volgende element in de lijst. \n",
    "- Stap 2: Als we aan het einde van de lijst zijn aangekomen, check of de lijst op volgorde staat, so niet, begin weer aan het begin van de lijst. "
   ]
  },
  {
   "cell_type": "markdown",
   "metadata": {
    "editable": true,
    "slideshow": {
     "slide_type": "fragment"
    },
    "tags": []
   },
   "source": [
    "Deze oplossing staat bekend als de *bubblesort*"
   ]
  },
  {
   "attachments": {},
   "cell_type": "markdown",
   "metadata": {
    "editable": true,
    "slideshow": {
     "slide_type": "notes"
    },
    "tags": []
   },
   "source": [
    "Dit is al een stuk efficienter dan de bogosort, maar het is niet de best *mogelijke* oplossing. Het blijft dus altijd belangrijk om je af te vragen of het de beste oplossing is."
   ]
  },
  {
   "attachments": {},
   "cell_type": "markdown",
   "metadata": {
    "editable": true,
    "slideshow": {
     "slide_type": "notes"
    },
    "tags": []
   },
   "source": [
    "Om verschillende algortimes te kunnen vergelijken wordt er gegeken naar hun complextieit. Hoeveel stappen hebben ze nodig om tot een oplossing te komen (*tijdcomplextieit*)? En hoeveel geheugen heeft het nodig (*ruimtecomplexiteit*)? Deze vragen liggen buiten de scope van deze cursus, het doel voor nu is om eerst tot een mogelijke beste oplossing te komen. "
   ]
  },
  {
   "cell_type": "markdown",
   "metadata": {
    "editable": true,
    "slideshow": {
     "slide_type": "slide"
    },
    "tags": []
   },
   "source": [
    "## Kan elk probleeem worden opgelost\n",
    "\n",
    "- Is elk probleem op te lossen?\n",
    "- Hoe weet je of het kan worden opgelost?"
   ]
  },
  {
   "attachments": {},
   "cell_type": "markdown",
   "metadata": {
    "editable": true,
    "slideshow": {
     "slide_type": "notes"
    },
    "tags": []
   },
   "source": [
    "Tot slot, als het probleem bijzonder lastig is zullen we ons moeten afvragen of het kan worden opgelost. Bestaat er wel een algoritme? Is er genoeg data om het probleem op te lossen?\n",
    "\n",
    "Bijvoorbeeld: Camera beeld Inzoomen en de dief scherp in beeld krijgen."
   ]
  },
  {
   "cell_type": "markdown",
   "metadata": {
    "editable": true,
    "slideshow": {
     "slide_type": "subslide"
    },
    "tags": []
   },
   "source": [
    "### *Let's enhance*\n",
    "\n",
    "Bekend van film en TV!"
   ]
  },
  {
   "cell_type": "markdown",
   "metadata": {
    "editable": true,
    "slideshow": {
     "slide_type": "notes"
    },
    "tags": []
   },
   "source": [
    "Hoe vaak heb je dit niet gezien, op magische wijze een afbeelding opblazen en verscherpen tot de dader scherp in beeld komt! Dit is niet realistisch omdat de data pixels zijn (beeldpunten) waar hooguit het *contrast* van kan worden vergroot, maar niet de *resolutie* (het aantal beeldpunten)."
   ]
  },
  {
   "cell_type": "markdown",
   "metadata": {
    "slideshow": {
     "slide_type": "subslide"
    }
   },
   "source": [
    "![Training bias](images/1/depixel-white.png)\n",
    "\n",
    "<!-- https://github.com/tg-bomze/Face-Depixelizer -->"
   ]
  },
  {
   "cell_type": "markdown",
   "metadata": {
    "editable": true,
    "slideshow": {
     "slide_type": "notes"
    },
    "tags": []
   },
   "source": [
    "Pogingen worden wel gedaan om ontbrekende informatie aan te vullen, bijvoorbeeld op basis van andere (vergelijkbare) afbeeldingen. Dit kan soms tot bijzondere resultaten leiden als de afbeeldingen waarmee vergeleken wordt [weinig divers](https://www.businessinsider.com/depixelator-turned-obama-white-illustrates-racial-bias-in-ai-2020-6) zijn (en een *bias* introduceren). Je herkent hier misschien [Barack Obama](https://en.wikipedia.org/wiki/Barack_Obama) in het origineel..."
   ]
  },
  {
   "cell_type": "markdown",
   "metadata": {
    "editable": true,
    "slideshow": {
     "slide_type": "notes"
    },
    "tags": []
   },
   "source": [
    "Wat de bovenstaande vragen met elkaar gemeen hebben is dat ze alle drie te maken hebben met *complexiteit*, of hoe moeilijk het is om een bepaald probleem op te lossen. Je hebt technieken en gereedschappen nodig om te helpen denken over complexiteit en je gaat met een aantal hiervan kennismaken."
   ]
  },
  {
   "attachments": {},
   "cell_type": "markdown",
   "metadata": {
    "editable": true,
    "slideshow": {
     "slide_type": ""
    },
    "tags": []
   },
   "source": [
    "De drie p's van het programmeren: \n",
    "- **Probeer**: Probeer het probleem op te lossen in gedachten of op papier.\n",
    "- **Plan**: Noteer de stappen die zijn gebruikt om het probleem op te lossen. \n",
    "- **Programmeer**: Vertaal de stappen naar een programmeertaal. "
   ]
  }
 ],
 "metadata": {
  "kernelspec": {
   "display_name": "Python 3 (ipykernel)",
   "language": "python",
   "name": "python3"
  },
  "language_info": {
   "codemirror_mode": {
    "name": "ipython",
    "version": 3
   },
   "file_extension": ".py",
   "mimetype": "text/x-python",
   "name": "python",
   "nbconvert_exporter": "python",
   "pygments_lexer": "ipython3",
   "version": "3.11.4"
  },
  "vscode": {
   "interpreter": {
    "hash": "e7370f93d1d0cde622a1f8e1c04877d8463912d04d973331ad4851f04de6915a"
   }
  }
 },
 "nbformat": 4,
 "nbformat_minor": 4
}
