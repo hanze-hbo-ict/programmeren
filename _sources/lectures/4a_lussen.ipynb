{
 "cells": [
  {
   "cell_type": "markdown",
   "metadata": {
    "editable": true,
    "slideshow": {
     "slide_type": "slide"
    },
    "tags": []
   },
   "source": [
    "# Lussen\n",
    "\n",
    "Looping `for` a `while`"
   ]
  },
  {
   "cell_type": "markdown",
   "metadata": {
    "slideshow": {
     "slide_type": "subslide"
    }
   },
   "source": [
    "## `for` lussen"
   ]
  },
  {
   "cell_type": "code",
   "execution_count": 1,
   "metadata": {
    "slideshow": {
     "slide_type": "fragment"
    }
   },
   "outputs": [
    {
     "name": "stdout",
     "output_type": "stream",
     "text": [
      "i is 0\n",
      "i is 1\n",
      "i is 2\n"
     ]
    }
   ],
   "source": [
    "for i in [0, 1, 2]:\n",
    "    print(\"i is\", i)"
   ]
  },
  {
   "cell_type": "code",
   "execution_count": 2,
   "metadata": {
    "slideshow": {
     "slide_type": "fragment"
    }
   },
   "outputs": [
    {
     "name": "stdout",
     "output_type": "stream",
     "text": [
      "i is 0\n",
      "i is 1\n",
      "i is 2\n"
     ]
    }
   ],
   "source": [
    "for i in range(0, 3):\n",
    "    print(\"i is\", i)"
   ]
  },
  {
   "cell_type": "code",
   "execution_count": 3,
   "metadata": {
    "slideshow": {
     "slide_type": "fragment"
    }
   },
   "outputs": [
    {
     "name": "stdout",
     "output_type": "stream",
     "text": [
      "x is 10\n",
      "x is 15\n",
      "x is 2020\n"
     ]
    }
   ],
   "source": [
    "for x in [10, 15, 2020]:\n",
    "    print(\"x is\", x)"
   ]
  },
  {
   "cell_type": "markdown",
   "metadata": {
    "slideshow": {
     "slide_type": "subslide"
    }
   },
   "source": [
    "```python\n",
    "for i in ...:\n",
    "    print(\"Gefeliciteerd\")\n",
    "```"
   ]
  },
  {
   "cell_type": "markdown",
   "metadata": {},
   "source": [
    "Hoe kan dit 10 keer worden uitgevoerd? Hier is een reeks aan oplossingen mogelijk..."
   ]
  },
  {
   "cell_type": "code",
   "execution_count": 4,
   "metadata": {
    "slideshow": {
     "slide_type": "fragment"
    }
   },
   "outputs": [
    {
     "name": "stdout",
     "output_type": "stream",
     "text": [
      "Gefeliciteerd!\n",
      "Gefeliciteerd!\n",
      "Gefeliciteerd!\n",
      "Gefeliciteerd!\n",
      "Gefeliciteerd!\n",
      "Gefeliciteerd!\n",
      "Gefeliciteerd!\n",
      "Gefeliciteerd!\n",
      "Gefeliciteerd!\n",
      "Gefeliciteerd!\n"
     ]
    }
   ],
   "source": [
    "for i in range(10):\n",
    "    print(\"Gefeliciteerd!\")"
   ]
  },
  {
   "cell_type": "markdown",
   "metadata": {
    "slideshow": {
     "slide_type": "slide"
    }
   },
   "source": [
    "## Iteratief ontwerp\n",
    "\n",
    "Lussen! Variabelen!"
   ]
  },
  {
   "cell_type": "markdown",
   "metadata": {
    "slideshow": {
     "slide_type": "fragment"
    }
   },
   "source": [
    "`for`\n",
    "\n",
    "```python\n",
    "for x in [40, 41, 42]:\n",
    "    print(x)\n",
    "```"
   ]
  },
  {
   "cell_type": "markdown",
   "metadata": {
    "slideshow": {
     "slide_type": "fragment"
    }
   },
   "source": [
    "`while`\n",
    "\n",
    "```python\n",
    "x = 42\n",
    "while x > 0:\n",
    "    print(x)\n",
    "    x -= 1\n",
    "```"
   ]
  },
  {
   "attachments": {},
   "cell_type": "markdown",
   "metadata": {
    "slideshow": {
     "slide_type": "fragment"
    }
   },
   "source": [
    "Variabelen\n",
    "\n",
    "```python\n",
    "x = 41\n",
    "x += 1 \n",
    "```"
   ]
  },
  {
   "cell_type": "markdown",
   "metadata": {
    "slideshow": {
     "slide_type": "subslide"
    }
   },
   "source": [
    "### Variabelen\n",
    "\n",
    "Variëren!"
   ]
  },
  {
   "cell_type": "markdown",
   "metadata": {
    "slideshow": {
     "slide_type": "fragment"
    }
   },
   "source": [
    "```python\n",
    "age = 41\n",
    "```"
   ]
  },
  {
   "cell_type": "markdown",
   "metadata": {
    "slideshow": {
     "slide_type": "fragment"
    }
   },
   "source": [
    "```python\n",
    "age = age + 1\n",
    "```"
   ]
  },
  {
   "cell_type": "markdown",
   "metadata": {
    "slideshow": {
     "slide_type": "fragment"
    }
   },
   "source": [
    "Wat hetzelfde is als ..."
   ]
  },
  {
   "cell_type": "markdown",
   "metadata": {
    "slideshow": {
     "slide_type": "fragment"
    }
   },
   "source": [
    "```python\n",
    "age += 1\n",
    "```"
   ]
  },
  {
   "cell_type": "markdown",
   "metadata": {
    "slideshow": {
     "slide_type": "subslide"
    }
   },
   "source": [
    "### In het kort"
   ]
  },
  {
   "cell_type": "markdown",
   "metadata": {
    "slideshow": {
     "slide_type": "fragment"
    }
   },
   "source": [
    "```python\n",
    "hwToGo = 7\n",
    "hwToGo = hwToGo - 1\n",
    "```"
   ]
  },
  {
   "cell_type": "markdown",
   "metadata": {
    "slideshow": {
     "slide_type": "fragment"
    }
   },
   "source": [
    "```python\n",
    "hwToGo -= 1\n",
    "```"
   ]
  },
  {
   "cell_type": "markdown",
   "metadata": {
    "slideshow": {
     "slide_type": "fragment"
    }
   },
   "source": [
    "```python\n",
    "total = 21000000\n",
    "total = total * 2\n",
    "```"
   ]
  },
  {
   "cell_type": "markdown",
   "metadata": {
    "slideshow": {
     "slide_type": "fragment"
    }
   },
   "source": [
    "```python\n",
    "total *= 2\n",
    "```"
   ]
  },
  {
   "cell_type": "markdown",
   "metadata": {
    "slideshow": {
     "slide_type": "fragment"
    }
   },
   "source": [
    "```python\n",
    "u235 = 84000000000000000;\n",
    "u235 = u235 / 2\n",
    "```"
   ]
  },
  {
   "cell_type": "markdown",
   "metadata": {
    "slideshow": {
     "slide_type": "fragment"
    }
   },
   "source": [
    "```python\n",
    "u235 /= 2\n",
    "```"
   ]
  },
  {
   "cell_type": "markdown",
   "metadata": {
    "slideshow": {
     "slide_type": "slide"
    }
   },
   "source": [
    "## `for`!"
   ]
  },
  {
   "cell_type": "markdown",
   "metadata": {
    "slideshow": {
     "slide_type": "fragment"
    }
   },
   "source": [
    "```python\n",
    "for x in [2, 4, 6, 8]:\n",
    "    print(\"x is\", x)\n",
    "\n",
    "print(\"Done!\")\n",
    "```"
   ]
  },
  {
   "cell_type": "markdown",
   "metadata": {
    "slideshow": {
     "slide_type": "subslide"
    }
   },
   "source": [
    "### Stap voor stap"
   ]
  },
  {
   "cell_type": "markdown",
   "metadata": {
    "slideshow": {
     "slide_type": "fragment"
    }
   },
   "source": [
    "1. ken elk element toe aan `x` \n",
    "\n",
    "```python\n",
    "for x in [2, 4, 6, 8]:\n",
    "```"
   ]
  },
  {
   "cell_type": "markdown",
   "metadata": {
    "slideshow": {
     "slide_type": "fragment"
    }
   },
   "source": [
    "2. de BODY of BLOCK gebruikt de waarde van `x`\n",
    "3. en vervolg de lus met de het volgende element\n",
    "\n",
    "```python\n",
    "    print(\"x is\", x)\n",
    "```"
   ]
  },
  {
   "cell_type": "markdown",
   "metadata": {
    "slideshow": {
     "slide_type": "fragment"
    }
   },
   "source": [
    "4. code na de lus wordt wordt pas uitgevoerd als de lus klaar is!\n",
    "\n",
    "```python\n",
    "print(\"Done!\")\n",
    "```"
   ]
  },
  {
   "cell_type": "markdown",
   "metadata": {
    "slideshow": {
     "slide_type": "subslide"
    }
   },
   "source": [
    "### Faculteit met `for`"
   ]
  },
  {
   "cell_type": "code",
   "execution_count": 14,
   "metadata": {
    "slideshow": {
     "slide_type": "fragment"
    }
   },
   "outputs": [],
   "source": [
    "def fac(n):\n",
    "    result = 1                 # not the result yet!\n",
    "\n",
    "    for i in range(1, n + 1):  # range start at 0, add one!\n",
    "        result *= i            # result = result * i\n",
    "\n",
    "    return result              # return the result"
   ]
  },
  {
   "cell_type": "code",
   "execution_count": 15,
   "metadata": {
    "slideshow": {
     "slide_type": "fragment"
    }
   },
   "outputs": [
    {
     "data": {
      "text/plain": [
       "120"
      ]
     },
     "execution_count": 15,
     "metadata": {},
     "output_type": "execute_result"
    }
   ],
   "source": [
    "fac(5)"
   ]
  },
  {
   "cell_type": "markdown",
   "metadata": {
    "slideshow": {
     "slide_type": "slide"
    }
   },
   "source": [
    "## Quiz"
   ]
  },
  {
   "cell_type": "markdown",
   "metadata": {
    "slideshow": {
     "slide_type": "subslide"
    }
   },
   "source": [
    "```python\n",
    "x = 0\n",
    "\n",
    "for i in range(4):\n",
    "    x += 10\n",
    "\n",
    "print(x)\n",
    "```\n",
    "\n",
    "Wat wordt geprint voor `x`?"
   ]
  },
  {
   "cell_type": "markdown",
   "metadata": {
    "slideshow": {
     "slide_type": "subslide"
    }
   },
   "source": [
    "\n",
    "<details>\n",
    "<summary>Oplossing</summary>\n",
    "40\n",
    "</details>"
   ]
  },
  {
   "cell_type": "markdown",
   "metadata": {
    "slideshow": {
     "slide_type": "subslide"
    }
   },
   "source": [
    "```python\n",
    "S = \"time to think this over! \"\n",
    "result = \"\"\n",
    "\n",
    "for i in range(len(S)):\n",
    "    if S[i - 1] == \" \":\n",
    "        result += S[i]\n",
    "\n",
    "print(result)\n",
    "```\n",
    "\n",
    "Wat wordt geprint voor `result`?"
   ]
  },
  {
   "cell_type": "markdown",
   "metadata": {
    "slideshow": {
     "slide_type": "subslide"
    }
   },
   "source": [
    "\n",
    "<details>\n",
    "<summary>Oplossing</summary>\n",
    "\n",
    "`'tttto'`\n",
    "\n",
    "| `result` | `S[i - 1]` | `S[i]` | `i` |\n",
    "|----------|------------|--------|-----|\n",
    "| `'t'`    | `' '`      | `'t'`  | `0` |\n",
    "|          | `'t'`      | `'i'`  | `1` |\n",
    "|          | `'i'`      | `'m'`  | `2` |\n",
    "|          | `'m'`      | `'e'`  | `3` |\n",
    "|          | `'e'`      | `' '`  | `4` |\n",
    "| `'tt'`   | `' '`      | `'t'`  | `5` |\n",
    "|          | `'t'`      | `'o'`  | `6` |\n",
    "|          | `'o'`      | `' '`  | `7` |\n",
    "| `'ttt'`  | `' '`      | `'t'`  | `8` |\n",
    "</details>"
   ]
  },
  {
   "cell_type": "markdown",
   "metadata": {
    "slideshow": {
     "slide_type": "slide"
    }
   },
   "source": [
    "## Twee typen `for`\n",
    "\n",
    "Elementen versus index"
   ]
  },
  {
   "cell_type": "markdown",
   "metadata": {
    "slideshow": {
     "slide_type": "subslide"
    }
   },
   "source": [
    "### Op basis van element "
   ]
  },
  {
   "cell_type": "markdown",
   "metadata": {
    "slideshow": {
     "slide_type": "fragment"
    }
   },
   "source": [
    "```python\n",
    "L = [3, 15, 17, 7]\n",
    "\n",
    "for x in L:\n",
    "    print(x)\n",
    "```"
   ]
  },
  {
   "cell_type": "markdown",
   "metadata": {
    "slideshow": {
     "slide_type": "fragment"
    }
   },
   "source": [
    "```python\n",
    "S = \"een fijne lus\"\n",
    "\n",
    "for c in S:\n",
    "    print(c)\n",
    "```"
   ]
  },
  {
   "cell_type": "markdown",
   "metadata": {
    "slideshow": {
     "slide_type": "subslide"
    }
   },
   "source": [
    "### Op basis van index"
   ]
  },
  {
   "cell_type": "markdown",
   "metadata": {
    "slideshow": {
     "slide_type": "fragment"
    }
   },
   "source": [
    "```python\n",
    "L = [3, 15, 17, 7]\n",
    "\n",
    "for i in range(len(L)):\n",
    "    print(L[i])\n",
    "```"
   ]
  },
  {
   "cell_type": "markdown",
   "metadata": {
    "slideshow": {
     "slide_type": "fragment"
    }
   },
   "source": [
    "```python\n",
    "S = \"een fijne lus\"\n",
    "\n",
    "for i in range(len(S)):\n",
    "    print(S[i])\n",
    "```"
   ]
  },
  {
   "cell_type": "markdown",
   "metadata": {
    "slideshow": {
     "slide_type": "notes"
    }
   },
   "source": [
    "Let op, het is niet heel gewoon om in lussen te printen, maar is wel heel nuttig voor debuggen!"
   ]
  },
  {
   "cell_type": "markdown",
   "metadata": {
    "slideshow": {
     "slide_type": "subslide"
    }
   },
   "source": [
    "### Welke van de twee?\n",
    "\n",
    "Elementen: eenvoudiger\n",
    "\n",
    "Indices: flexibeler\n"
   ]
  },
  {
   "cell_type": "markdown",
   "metadata": {
    "slideshow": {
     "slide_type": "notes"
    }
   },
   "source": [
    "Denk aan het \"time to think this over! \" voorbeeld, in de lus kon op basis van de index steeds \"terug\" worden gekeken in de string met `S[i - 1]`!"
   ]
  },
  {
   "cell_type": "markdown",
   "metadata": {
    "slideshow": {
     "slide_type": "slide"
    }
   },
   "source": [
    "## Extreme lussen"
   ]
  },
  {
   "cell_type": "markdown",
   "metadata": {
    "slideshow": {
     "slide_type": "fragment"
    }
   },
   "source": [
    "```python\n",
    "guess = 42\n",
    "\n",
    "print(\"It keeps on\")\n",
    "\n",
    "while guess == 42:\n",
    "    print(\"going and\")\n",
    "\n",
    "print(\"Phew! I'm done!\")\n",
    "```\n",
    "\n",
    "Wat doet deze lus?"
   ]
  },
  {
   "cell_type": "markdown",
   "metadata": {
    "slideshow": {
     "slide_type": "subslide"
    }
   },
   "source": [
    "## `while` lussen"
   ]
  },
  {
   "cell_type": "markdown",
   "metadata": {
    "slideshow": {
     "slide_type": "fragment"
    }
   },
   "source": [
    "Een lus tot een bepaalde **conditie** is bereikt."
   ]
  },
  {
   "cell_type": "markdown",
   "metadata": {
    "slideshow": {
     "slide_type": "fragment"
    }
   },
   "source": [
    "Tests?\n",
    "\n",
    "- `42 == 42`\n",
    "- `guess > 42`\n",
    "- ..."
   ]
  },
  {
   "cell_type": "markdown",
   "metadata": {
    "slideshow": {
     "slide_type": "subslide"
    }
   },
   "source": [
    "### Ontsnappen"
   ]
  },
  {
   "cell_type": "code",
   "execution_count": 23,
   "metadata": {
    "slideshow": {
     "slide_type": "fragment"
    }
   },
   "outputs": [
    {
     "name": "stdout",
     "output_type": "stream",
     "text": [
      "Help! Let me out!\n",
      "Help! Let me out!\n",
      "Help! Let me out!\n",
      "Help! Let me out!\n",
      "At last!\n"
     ]
    }
   ],
   "source": [
    "import random\n",
    "\n",
    "guess = 0  # starting value, not the final or desired value!\n",
    "\n",
    "while guess != 42:  # test to see if we keep looping\n",
    "    print('Help! Let me out!')\n",
    "    guess = random.choice([41, 42, 43])  # watch out for infinite loops!\n",
    "\n",
    "print('At last!')  # after the loop ends"
   ]
  },
  {
   "cell_type": "markdown",
   "metadata": {
    "slideshow": {
     "slide_type": "slide"
    }
   },
   "source": [
    "## Denken in lussen\n",
    "\n"
   ]
  },
  {
   "cell_type": "markdown",
   "metadata": {
    "slideshow": {
     "slide_type": "fragment"
    }
   },
   "source": [
    "`for`\n",
    "\n",
    "```python\n",
    "for x in range(42):\n",
    "    print(x)\n",
    "```"
   ]
  },
  {
   "cell_type": "markdown",
   "metadata": {
    "slideshow": {
     "slide_type": "fragment"
    }
   },
   "source": [
    "`while`\n",
    "\n",
    "```python\n",
    "x = 1\n",
    "\n",
    "while x < 42:\n",
    "    print(x)\n",
    "    x *= 2\n",
    "```"
   ]
  },
  {
   "cell_type": "markdown",
   "metadata": {
    "slideshow": {
     "slide_type": "subslide"
    }
   },
   "source": [
    "### Verschillen\n",
    "\n",
    "Wat zijn de verschillen in ontwerp tussen deze twee Python lussen?"
   ]
  },
  {
   "cell_type": "markdown",
   "metadata": {
    "slideshow": {
     "slide_type": "fragment"
    }
   },
   "source": [
    "`for` &mdash; eindige herhaling\n",
    "\n",
    "Voor een bestaande list of bekend aantal herhalingen\n",
    "\n"
   ]
  },
  {
   "cell_type": "markdown",
   "metadata": {
    "editable": true,
    "slideshow": {
     "slide_type": "fragment"
    },
    "tags": []
   },
   "source": [
    "`while` &mdash; oneindige herhaling\n",
    "\n",
    "Voor een onbekend aantal herhalingen"
   ]
  },
  {
   "cell_type": "markdown",
   "metadata": {
    "editable": true,
    "slideshow": {
     "slide_type": ""
    },
    "tags": []
   },
   "source": [
    "## `continue` en `break`"
   ]
  },
  {
   "cell_type": "markdown",
   "metadata": {
    "editable": true,
    "slideshow": {
     "slide_type": ""
    },
    "tags": []
   },
   "source": [
    "De instructie `break` zal een lus meteen laten stoppen en het programma gaat verder onder de lus.\n",
    "\n",
    "De instructie `continue` gaat naar het einde van de lus en indien nodig wordt de lus herhaald."
   ]
  },
  {
   "cell_type": "markdown",
   "metadata": {},
   "source": [
    "## Opdracht 1"
   ]
  },
  {
   "cell_type": "markdown",
   "metadata": {
    "editable": true,
    "slideshow": {
     "slide_type": ""
    },
    "tags": []
   },
   "source": [
    "a. Wat is de output?"
   ]
  },
  {
   "cell_type": "markdown",
   "metadata": {
    "editable": true,
    "slideshow": {
     "slide_type": ""
    },
    "tags": []
   },
   "source": [
    "```python\n",
    "def fun1B():\n",
    "    for i in range(1, 6):\n",
    "        if i % 2 == 0:\n",
    "            print(\"i is\", i)\n",
    "            return\n",
    "fun1B()\n",
    "```"
   ]
  },
  {
   "cell_type": "code",
   "execution_count": null,
   "metadata": {
    "editable": true,
    "slideshow": {
     "slide_type": ""
    },
    "tags": [
     "skip-execution"
    ]
   },
   "outputs": [],
   "source": [
    "# controleer jouw antwoord"
   ]
  },
  {
   "cell_type": "markdown",
   "metadata": {
    "editable": true,
    "slideshow": {
     "slide_type": ""
    },
    "tags": []
   },
   "source": [
    "b. Wat is de output?"
   ]
  },
  {
   "cell_type": "markdown",
   "metadata": {
    "editable": true,
    "slideshow": {
     "slide_type": ""
    },
    "tags": []
   },
   "source": [
    "```python\n",
    "def fun2B():\n",
    "    for i in range(1, 6):\n",
    "        if i % 2 == 0:\n",
    "            print(\"i is\", i)\n",
    "        return\n",
    "fun2B()\n",
    "```"
   ]
  },
  {
   "cell_type": "code",
   "execution_count": null,
   "metadata": {
    "editable": true,
    "slideshow": {
     "slide_type": ""
    },
    "tags": [
     "skip-execution"
    ]
   },
   "outputs": [],
   "source": [
    "# controleer jouw antwoord"
   ]
  },
  {
   "cell_type": "markdown",
   "metadata": {
    "editable": true,
    "slideshow": {
     "slide_type": ""
    },
    "tags": []
   },
   "source": [
    "c. Wat is de output?"
   ]
  },
  {
   "cell_type": "markdown",
   "metadata": {
    "editable": true,
    "slideshow": {
     "slide_type": ""
    },
    "tags": []
   },
   "source": [
    "```python\n",
    " def fun3B():\n",
    "    for i in range(1,6):\n",
    "        if i % 2 == 0:\n",
    "            print(\"i is\", i)\n",
    "    return\n",
    "fun3B()\n",
    "```"
   ]
  },
  {
   "cell_type": "code",
   "execution_count": null,
   "metadata": {
    "editable": true,
    "slideshow": {
     "slide_type": ""
    },
    "tags": [
     "skip-execution"
    ]
   },
   "outputs": [],
   "source": [
    "# controleer jouw antwoord"
   ]
  },
  {
   "cell_type": "markdown",
   "metadata": {
    "editable": true,
    "slideshow": {
     "slide_type": ""
    },
    "tags": []
   },
   "source": [
    "d. Wat is de output?"
   ]
  },
  {
   "cell_type": "markdown",
   "metadata": {
    "editable": true,
    "slideshow": {
     "slide_type": ""
    },
    "tags": []
   },
   "source": [
    "```python\n",
    "def fun4B():\n",
    "    for i in range(1,6):\n",
    "        if i % 2 == 0:\n",
    "            print(\"i is\", i)\n",
    "return\n",
    "fun4B()\n",
    "```"
   ]
  },
  {
   "cell_type": "code",
   "execution_count": null,
   "metadata": {
    "editable": true,
    "slideshow": {
     "slide_type": ""
    },
    "tags": [
     "skip-execution"
    ]
   },
   "outputs": [],
   "source": [
    "# controleer jouw antwoord"
   ]
  },
  {
   "cell_type": "markdown",
   "metadata": {
    "editable": true,
    "slideshow": {
     "slide_type": ""
    },
    "tags": []
   },
   "source": [
    "## Opdracht 2"
   ]
  },
  {
   "cell_type": "markdown",
   "metadata": {
    "editable": true,
    "slideshow": {
     "slide_type": ""
    },
    "tags": []
   },
   "source": [
    "Wat is de output van het volgende programma?\n",
    "\n",
    "```python\n",
    "def function(L):\n",
    "    result = []\n",
    "    for e in L:\n",
    "        if e < 5:\n",
    "            result +=  [e]\n",
    "    return result\n",
    "\n",
    "print(function([1, 2, 3, 4, 5, 6]))\n",
    "```"
   ]
  },
  {
   "cell_type": "code",
   "execution_count": null,
   "metadata": {
    "editable": true,
    "slideshow": {
     "slide_type": ""
    },
    "tags": [
     "skip-execution"
    ]
   },
   "outputs": [],
   "source": [
    "# controleer jouw antwoord"
   ]
  },
  {
   "cell_type": "markdown",
   "metadata": {
    "editable": true,
    "slideshow": {
     "slide_type": ""
    },
    "tags": []
   },
   "source": [
    "## Opdracht 3"
   ]
  },
  {
   "cell_type": "markdown",
   "metadata": {
    "editable": true,
    "slideshow": {
     "slide_type": ""
    },
    "tags": []
   },
   "source": [
    "Schrijf een functie `factors(n)` die:\n",
    "\n",
    "- Een integer 'n' accepteert\n",
    "- Een *lijst* teruggeeft met alle factoren van 'n'\n",
    "- Gebruik hiervoor een lus\n",
    "- Let goed op hoe in de vorige opgave `result` werd gebruikt, dit idee kan je ook hier gebruiken.\n",
    "\n",
    "```{tip}\n",
    "De modulo-operator (`%`) kan hier heel handig zijn!\n",
    "```\n",
    "\n",
    "Vergeet niet de functie voldoende te testen, bijvoorbeeld:\n",
    "\n",
    "```python\n",
    "assert factors(12) == [1, 2, 3, 4, 6, 12]\n",
    "assert factors(15) == [1, 3, 5, 15]\n",
    "```"
   ]
  },
  {
   "cell_type": "code",
   "execution_count": null,
   "metadata": {
    "editable": true,
    "slideshow": {
     "slide_type": ""
    },
    "tags": [
     "skip-execution"
    ]
   },
   "outputs": [],
   "source": [
    "# jouw oplossing"
   ]
  },
  {
   "cell_type": "markdown",
   "metadata": {
    "editable": true,
    "slideshow": {
     "slide_type": ""
    },
    "tags": []
   },
   "source": [
    "## Opdracht 4"
   ]
  },
  {
   "cell_type": "markdown",
   "metadata": {
    "editable": true,
    "slideshow": {
     "slide_type": ""
    },
    "tags": []
   },
   "source": [
    "Wat is de output van het volgende programma?\n",
    "\n",
    "```python\n",
    "def function(s):\n",
    "    result = ''\n",
    "    for c in s:\n",
    "        result = c + result\n",
    "    return result\n",
    "\n",
    "print(function(\"Hanze\"))\n",
    "```"
   ]
  },
  {
   "cell_type": "code",
   "execution_count": null,
   "metadata": {
    "editable": true,
    "slideshow": {
     "slide_type": ""
    },
    "tags": [
     "skip-execution"
    ]
   },
   "outputs": [],
   "source": [
    "# controleer jouw antwoord"
   ]
  },
  {
   "cell_type": "markdown",
   "metadata": {
    "editable": true,
    "slideshow": {
     "slide_type": ""
    },
    "tags": []
   },
   "source": [
    "## Opdracht 5"
   ]
  },
  {
   "cell_type": "markdown",
   "metadata": {
    "editable": true,
    "slideshow": {
     "slide_type": ""
    },
    "tags": []
   },
   "source": [
    "Schrijf een functie `count_vowels(s)` die:\n",
    "\n",
    "- Een string 's' accepteert\n",
    "- De functie telt alle klinkers in de string en geeft het resultaat terug als integer.\n",
    "- Gebruik een lus voor het tellen van de klinkers\n",
    "- Let goed op hoe in de vorige opgave `result` werd gebruikt, dit idee kan je ook hier gebruiken. \n",
    "\n",
    "Maak zelf een aantal assertions om je functie te testen.\n"
   ]
  },
  {
   "cell_type": "code",
   "execution_count": null,
   "metadata": {
    "editable": true,
    "slideshow": {
     "slide_type": ""
    },
    "tags": [
     "skip-execution"
    ]
   },
   "outputs": [],
   "source": [
    "# jouw oplossing"
   ]
  }
 ],
 "metadata": {
  "kernelspec": {
   "display_name": "Python 3 (ipykernel)",
   "language": "python",
   "name": "python3"
  },
  "language_info": {
   "codemirror_mode": {
    "name": "ipython",
    "version": 3
   },
   "file_extension": ".py",
   "mimetype": "text/x-python",
   "name": "python",
   "nbconvert_exporter": "python",
   "pygments_lexer": "ipython3",
   "version": "3.12.3"
  },
  "vscode": {
   "interpreter": {
    "hash": "7321d1f7eabf315803f0fbeb0be0427ff6d045140e09c9efe7edcc325df00e23"
   }
  }
 },
 "nbformat": 4,
 "nbformat_minor": 4
}
