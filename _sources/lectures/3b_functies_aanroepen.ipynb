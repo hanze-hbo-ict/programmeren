{
 "cells": [
  {
   "attachments": {},
   "cell_type": "markdown",
   "metadata": {
    "editable": true,
    "slideshow": {
     "slide_type": "slide"
    },
    "tags": []
   },
   "source": [
    "# Functies aanroepen"
   ]
  },
  {
   "cell_type": "markdown",
   "metadata": {},
   "source": [
    "## Quiz"
   ]
  },
  {
   "cell_type": "markdown",
   "metadata": {},
   "source": [
    "### Vraag\n",
    "\n",
    "Functies kunnen andere functies aanroepen!\n",
    "\n",
    "```python\n",
    "def demo(x):\n",
    "    y = x / 3\n",
    "    z = g(y)\n",
    "    return z + y + x\n",
    "\n",
    "def g(x):\n",
    "    result = 4*x + 2\n",
    "    return result\n",
    "```\n",
    "\n",
    "Wat is het resultaat van `demo(15)`?"
   ]
  },
  {
   "cell_type": "markdown",
   "metadata": {},
   "source": [
    "Probeer regel voor regel het programma zelf te volgen om tot het antwoord te komen!\n",
    "\n",
    "Bedenk dat `demo` pas een antwoord (een returnwaarde) kan geven nadat het een antwoord van `g` heeft ontvangen. Hier onstaat dus een kleine *wachtrij*, waar de ene functie op de ander moet wachten voordat het weer verder kan. ([book](https://allendowney.github.io/ThinkPython/chap03.html#calling-functions)) Hoe deze wachtrij in een computer werkt ga je zo zien wanneer we het gaan hebben over de *stack*."
   ]
  },
  {
   "cell_type": "markdown",
   "metadata": {},
   "source": [
    "### Antwoord\n",
    "\n",
    "42.0"
   ]
  },
  {
   "cell_type": "markdown",
   "metadata": {},
   "source": [
    "## Hoe functies werken\n",
    "\n",
    "Hoe functies worden uitgevoerd: ze stapelen!"
   ]
  },
  {
   "cell_type": "markdown",
   "metadata": {},
   "source": [
    "Python gebruikt speciaal deel van het geheugen dat de *stack* wordt genoemd waar het voor elke functie de *variabelen* een bijbehorende *waarden* in een *frame* zet (een *stack frame*). Op deze manier stapelen de frames zich op in de stack, traditioneel van onderen naar boven (onhandig als het om een stapel borden zou gaan!)."
   ]
  },
  {
   "cell_type": "markdown",
   "metadata": {},
   "source": [
    "![frame test](images/3/q1/prob_1_step_1a.png)"
   ]
  },
  {
   "cell_type": "markdown",
   "metadata": {},
   "source": [
    "Je herkent hier de vraag van de quiz die we stap voor stap gaan doorlopen. Rechts van de code zie je de stack waar de frames worden geplaatst."
   ]
  },
  {
   "cell_type": "markdown",
   "metadata": {},
   "source": [
    "![frame test](images/3/q1/prob_1_step_3.png)"
   ]
  },
  {
   "cell_type": "markdown",
   "metadata": {},
   "source": [
    "Het programma is nu ingelezen door Python en het eerste (algemene) frame is gezet, dit zijn de namen van de functies (dit zijn uiteindelijk ook variabelen) en een verwijzing naar waar de functies in het geheugen zijn opgeslagen. Dit is overigens een meer algemeen type geheugen dat de *heap* wordt genoemd. Functies moeten eerst geladen zijn voordat ze aangeroepen kunnen worden. Volgorde is dus belangrijk!"
   ]
  },
  {
   "cell_type": "markdown",
   "metadata": {},
   "source": [
    "![frame test](images/3/q1/prob_1_step_6.png)"
   ]
  },
  {
   "cell_type": "markdown",
   "metadata": {},
   "source": [
    "De frame voor de aanroep van `demo` is nu toegevoegd met de variabelen `x` (de waarde die als parameter is meegegeven) en `y`. Maar wat nu te doen met de variabele `z`? De waarde van `z` is pas bekend als de functie `g(y)` een resultaat teruggeeft ... Python plaatst nu een nieuw frame op de stack van precies deze aanroep."
   ]
  },
  {
   "cell_type": "markdown",
   "metadata": {},
   "source": [
    "![frame test](images/3/q1/prob_1_step_9.png)"
   ]
  },
  {
   "cell_type": "markdown",
   "metadata": {},
   "source": [
    "In dit derde frame worden ook de variabelen gezet die horen bij de aanroep van `g(5.0)` en het resultaat zal worden teruggegeven."
   ]
  },
  {
   "cell_type": "markdown",
   "metadata": {},
   "source": [
    "![frame test](images/3/q1/prob_1_step_10a.png)\n"
   ]
  },
  {
   "cell_type": "markdown",
   "metadata": {},
   "source": [
    "`z` is nog niet zichtbaar in het tweede frame (voor de duidelijkheid is dit weggelaten) maar het is er zeker wel als een verwijzing aanwezig naar het de returnwaarde van het volgende frame!"
   ]
  },
  {
   "cell_type": "markdown",
   "metadata": {},
   "source": [
    "![frame test](images/3/q1/prob_1_step_11.png)"
   ]
  },
  {
   "cell_type": "markdown",
   "metadata": {},
   "source": [
    "Het resultaat van het derde frame wordt gezet als waarde van `z` van het tweede frame en het derde frame wordt vervolgens van de stack verwijderd."
   ]
  },
  {
   "cell_type": "markdown",
   "metadata": {},
   "source": [
    "![frame test](images/3/q1/prob_1_step_12.png)"
   ]
  },
  {
   "cell_type": "markdown",
   "metadata": {},
   "source": [
    "Tot slot geeft het tweede frame de returnwaarde terug aan het eerste frame en zal het vervolgens ook van de stack worden verwijderd. Het programma is nu beeindigd en wordt ook het eerste frame van de stack verwijderd zodat we weer terug zijn bij de beginsituatie.\n",
    "\n",
    "Let op, je ziet dat variabele `x` type `int` en `y` en `z` type `float` (decimale getallen) zijn. Python zal altijd kiezen voor het type met de hoogste precisie als type voor het resultaat als het gaat om numerieke waarden (in dit geval de optelling van verschillende typen)."
   ]
  },
  {
   "cell_type": "markdown",
   "metadata": {},
   "source": [
    "Functies kunnen gebruikt worden om code overzichtelijker te maken. Daarnaast zijn funcies herbruikbaar. Ze kunnen zo vaak als we willen aangeroepem worden en zelft hergebruikt worden in andere programma's"
   ]
  },
  {
   "cell_type": "markdown",
   "metadata": {
    "editable": true,
    "slideshow": {
     "slide_type": ""
    },
    "tags": []
   },
   "source": [
    "Een belangrijk functie om code overzichtelijk te houden is de main functie. Onthoud dat een functie eerst geladen moet worden voordat deze uitgevoerd kan worden."
   ]
  },
  {
   "cell_type": "markdown",
   "metadata": {},
   "source": [
    "```python\n",
    "\n",
    "flipside(\"automaat\")\n",
    "flipside(\"huiswerk\")\n",
    "flipside(\"studiemaatje\")\n",
    "\n",
    "def flipside(s):\n",
    "    \"\"\" flipside(s): spiegel s!\n",
    "    input s: een string\n",
    "    \"\"\"\n",
    "    x = len(s) // 2\n",
    "    return s[x:] + s[:x]\n",
    "```"
   ]
  },
  {
   "cell_type": "markdown",
   "metadata": {
    "editable": true,
    "slideshow": {
     "slide_type": ""
    },
    "tags": []
   },
   "source": [
    "De bovenstaande code gaat niet werken, aangezien de functieaanroepen worden gedaan voordat de functie is gedeclareerd. De functie is dus nog niet geladen in het geheugen en geeft een `NameError`. \n",
    "\n",
    "`NameError name 'flipside' is not defined`\n",
    "\n",
    "Deze fout krijg je ook als je probeert een variabele te gebruiken die nog niet bestaat."
   ]
  },
  {
   "cell_type": "markdown",
   "metadata": {},
   "source": [
    "```python\n",
    "\n",
    "def flipside(s):\n",
    "    \"\"\" flipside(s): spiegel s!\n",
    "    input s: een string\n",
    "    \"\"\"\n",
    "    x = len(s) // 2\n",
    "    return s[x:] + s[:x]\n",
    "\n",
    "print(flipside(\"automaat\"))\n",
    "print(flipside(\"huiswerk\"))\n",
    "print(flipside(\"studiemaatje\"))\n",
    "```"
   ]
  },
  {
   "cell_type": "markdown",
   "metadata": {},
   "source": [
    "De functie aanroep moet dus onder de functie zelf staan. Dit geeft wel het nadeel dat als je een heel lang programma hebt met meerdere functies dat de start van het programma helemaal onderaan komt te staan. Dit is niet prettig, daarom gebruiken veel python programmeurs een zogenaamde main functie die helemaal bovenaan komt te staan. In de main functie wordt het programma aangestuurd. "
   ]
  },
  {
   "cell_type": "markdown",
   "metadata": {},
   "source": [
    "```python\n",
    "\n",
    "def main():\n",
    "    print(flipside(\"automaat\"))\n",
    "    print(flipside(\"huiswerk\"))\n",
    "    print(flipside(\"studiemaatje\"))\n",
    "\n",
    "def flipside(s):\n",
    "    \"\"\" flipside(s): spiegel s!\n",
    "    input s: een string\n",
    "    \"\"\"\n",
    "    x = len(s) // 2\n",
    "    return s[x:] + s[:x]\n",
    "\n",
    "main()\n",
    "```"
   ]
  },
  {
   "cell_type": "markdown",
   "metadata": {},
   "source": [
    "Alle functies worden dus eerst geladen, daarna wordt de main functie aangeroepen. De main functie zorgt er voor dat de juiste functies worden aangeroepen en dat het gewenste resultaat wordt geprint."
   ]
  },
  {
   "cell_type": "markdown",
   "metadata": {},
   "source": [
    "### Assertions"
   ]
  },
  {
   "cell_type": "markdown",
   "metadata": {
    "editable": true,
    "slideshow": {
     "slide_type": ""
    },
    "tags": []
   },
   "source": [
    "In plaats van zelf de antwoorden te controleren, kunnen we Python de antwoorden laten controleren. Dit kunnen we doen met behulp van assertions."
   ]
  },
  {
   "cell_type": "markdown",
   "metadata": {
    "editable": true,
    "slideshow": {
     "slide_type": ""
    },
    "tags": []
   },
   "source": [
    "Voeg `assert` statements toe, waar *assert* een aanname betekent. Bijvoorbeeld, lees\n",
    "\n",
    "```python\n",
    "assert flipside('huiswerk') == 'werkhuis'\n",
    "```\n",
    "\n",
    "als \"neem aan dat het resultaat van de aanroep `flipside('huiswerk')` gelijk is aan de string `'werkhuis'`\". Als de aanname fout is (en het verwachte antwoord dus niet klopt) dan geeft Python dit aan. Als er geen fouten zijn, meldt Python niets."
   ]
  },
  {
   "cell_type": "markdown",
   "metadata": {},
   "source": [
    "```python\n",
    "\n",
    "def main():\n",
    "    assert flipside('huiswerk') == 'werkhuis'\n",
    "    assert flipside('automaat') == 'maatauto'\n",
    "    assert flipside('studiemaatje') == 'maatjestudie'\n",
    "\n",
    "def flipside(s):\n",
    "    \"\"\" flipside(s): spiegel s!\n",
    "    input s: een string\n",
    "    \"\"\"\n",
    "    x = len(s) // 2\n",
    "    return s[x:] + s[:x]\n",
    "\n",
    "main()\n",
    "```"
   ]
  },
  {
   "attachments": {},
   "cell_type": "markdown",
   "metadata": {},
   "source": [
    "## Opdracht 1\n",
    "\n"
   ]
  },
  {
   "attachments": {},
   "cell_type": "markdown",
   "metadata": {},
   "source": [
    "```python\n",
    "def main():\n",
    "    \"\"\"\n",
    "    Main functie. Roept de andere functies op om hun werk te doen. \n",
    "    \"\"\"\n",
    "    x = blaat(5) + blaat(3)\n",
    "    print(x)\n",
    "\n",
    "def testing():\n",
    "    \"\"\"\n",
    "    Test functie. Hier staan alle assertions om de functies te testen.\n",
    "    \"\"\"\n",
    "\n",
    "def blaat(x):\n",
    "    l = list(range(x))\n",
    "    return sum(l)\n",
    "\n",
    "main()\n",
    "testing()\n",
    "\n",
    "```"
   ]
  },
  {
   "attachments": {},
   "cell_type": "markdown",
   "metadata": {},
   "source": [
    "a. Wat doet de functie blaat?  \n",
    "b. Wat is de ouput van dit programma?  \n",
    "c. Gebruik de [Python Tutor](http://www.pythontutor.com/visualize.html)  om je antwoord van a en b te controleren.   \n"
   ]
  },
  {
   "attachments": {},
   "cell_type": "markdown",
   "metadata": {},
   "source": [
    "## Opdracht 2"
   ]
  },
  {
   "attachments": {},
   "cell_type": "markdown",
   "metadata": {},
   "source": [
    "a. Kopieer onderstaande code over naar een bestand genaamd 'wk3wc2.py'"
   ]
  },
  {
   "attachments": {},
   "cell_type": "markdown",
   "metadata": {},
   "source": [
    "```python\n",
    "import time\n",
    "from turtle import *\n",
    "from random import *\n",
    "\n",
    "def main():\n",
    "    \"\"\"\n",
    "    Main functie. Roept de andere functies op om hun werk te doen. \n",
    "    \"\"\"\n",
    "    tri()\n",
    "    done() # tell turtle the drawing is done.\n",
    "\n",
    "def testing():\n",
    "    \"\"\"\n",
    "    Test functie. Hier staan alle assertions om de functies te testen.\n",
    "    \"\"\"\n",
    "\n",
    "def tri():\n",
    "    \"\"\"Draws 100-pixel sides of an equilateral triangle.\n",
    "    \"\"\"\n",
    "    width(5)    # width of the line to draw\n",
    "    clr = choice(['darkgreen', 'red', 'blue'])  #choose a random color\n",
    "    color(clr)  # set the color of the line\n",
    "    shape('turtle') # set the shape of the pencil\n",
    "    dot(10, 'red')  # set the endpoints of the lines\n",
    "\n",
    "    forward(100)    #move forward\n",
    "    left(120)       #turn 120 degrees left \n",
    "    forward(100)    #move forward\n",
    "    left(120)       #turn 120 degrees left \n",
    "    forward(100)    #move forward\n",
    "    left(120)       #turn 120 degrees left \n",
    "\n",
    "\n",
    "main()\n",
    "testing()\n",
    "```"
   ]
  },
  {
   "attachments": {},
   "cell_type": "markdown",
   "metadata": {},
   "source": [
    "b. Draai het programma. Als alles goed gaat wordt er in een nieuw scherm een driehoek getekend.   \n",
    "c. Pas de functie `tri()` aan zodat het een parameter accepteert dat de lengte van zijdes van de driehoek aangeeft. Vergeet niet de docstring aan te passen.  "
   ]
  },
  {
   "attachments": {},
   "cell_type": "markdown",
   "metadata": {},
   "source": [
    "d. Gegeven de functie `triRec()`"
   ]
  },
  {
   "attachments": {},
   "cell_type": "markdown",
   "metadata": {},
   "source": [
    "```python\n",
    "def triRec():\n",
    "    \"\"\"Draws 100-pixel sides of an equilateral triangle.\n",
    "    \"\"\"\n",
    "    width(5)    # width of the line to draw\n",
    "    clr = choice(['darkgreen', 'red', 'blue'])  #choose a color\n",
    "    color(clr)  # set the color of the line\n",
    "    shape('turtle') # set the shape of the pencil\n",
    "    dot(10, 'red')  # set the endpoints of the lines\n",
    "\n",
    "    forward(100)    #move forward\n",
    "    left(120)       #turn 120 degrees left \n",
    "    triRec()\n",
    "```"
   ]
  },
  {
   "attachments": {},
   "cell_type": "markdown",
   "metadata": {
    "editable": true,
    "slideshow": {
     "slide_type": ""
    },
    "tags": []
   },
   "source": [
    "Deze functie roept zichzelf op aan het einde. Voorspel wat er gebeurt als je deze functie aanroept."
   ]
  },
  {
   "attachments": {},
   "cell_type": "markdown",
   "metadata": {},
   "source": [
    "e. Voeg de functie toe aan het bestand en pas de main functie aan zodat hij wordt aangeroepen. Check of je voorspelling bij `g.` juist was. "
   ]
  },
  {
   "attachments": {},
   "cell_type": "markdown",
   "metadata": {},
   "source": [
    "## Opdracht 3"
   ]
  },
  {
   "attachments": {},
   "cell_type": "markdown",
   "metadata": {},
   "source": [
    "a. Voorspel wat onderstaande programma zal doen als het uitgevoerd wordt. "
   ]
  },
  {
   "attachments": {},
   "cell_type": "markdown",
   "metadata": {},
   "source": [
    "```python\n",
    "def test(n):\n",
    "    print(n)\n",
    "    test(n-1)\n",
    "\n",
    "test(5)\n",
    "```\n"
   ]
  },
  {
   "attachments": {},
   "cell_type": "markdown",
   "metadata": {},
   "source": [
    "b. Open de [Python Tutor](http://www.pythontutor.com/visualize.html) en kopieer het programma. Test vervolgens of je voorspelling bij `a.` juist was door stap voor stap door het programma te lopen."
   ]
  },
  {
   "attachments": {},
   "cell_type": "markdown",
   "metadata": {},
   "source": [
    "c. Voorspel wat onderstaande programma zal doen als het uitgevoerd wordt. "
   ]
  },
  {
   "attachments": {},
   "cell_type": "markdown",
   "metadata": {},
   "source": [
    "```python\n",
    "def test(n):\n",
    "    print(n)\n",
    "\n",
    "    if n == 0:\n",
    "        return\n",
    "\n",
    "    test(n-1)\n",
    "\n",
    "test(5)\n",
    "```"
   ]
  },
  {
   "attachments": {},
   "cell_type": "markdown",
   "metadata": {},
   "source": [
    "d. Herstart de [Python Tutor](http://www.pythontutor.com/visualize.html) en kopieer het programma. Test vervolgens of je voorspelling bij `c.` juist was door stap voor stap door het programma te lopen."
   ]
  },
  {
   "attachments": {},
   "cell_type": "markdown",
   "metadata": {},
   "source": [
    "In opdracht 3 heb je je eerste recursieve programma geschreven. ([book](https://allendowney.github.io/ThinkPython/chap05.html#recursion))"
   ]
  },
  {
   "attachments": {},
   "cell_type": "markdown",
   "metadata": {},
   "source": [
    "Recursie volgens wikipedia:"
   ]
  },
  {
   "attachments": {},
   "cell_type": "markdown",
   "metadata": {
    "slideshow": {
     "slide_type": "subslide"
    }
   },
   "source": [
    "![Google Recursie](images/3/google_recursie.png)"
   ]
  },
  {
   "attachments": {},
   "cell_type": "markdown",
   "metadata": {},
   "source": [
    "Google geeft een goed voorbeeld van oneindige recursie. Hoe vaak ga je op de suggestie (\"Bedoelde je: ...\") klikken?"
   ]
  },
  {
   "attachments": {},
   "cell_type": "markdown",
   "metadata": {
    "slideshow": {
     "slide_type": "subslide"
    }
   },
   "source": [
    "![Droste cacao](images/3/Droste_cacao.jpg)"
   ]
  },
  {
   "attachments": {},
   "cell_type": "markdown",
   "metadata": {
    "slideshow": {
     "slide_type": "notes"
    }
   },
   "source": [
    "Dit zal waarschijnlijk het meest bekende voorbeeld zijn van een oneindige recursie, ook wel bekend als het [Droste effect](https://nl.wikipedia.org/wiki/Droste-effect). "
   ]
  },
  {
   "attachments": {},
   "cell_type": "markdown",
   "metadata": {},
   "source": [
    "![infinite](images/3/infinite_recursion.jpg)"
   ]
  },
  {
   "attachments": {},
   "cell_type": "markdown",
   "metadata": {},
   "source": [
    "*Ergens* moet de recursie stoppen en hebben we iets van een noodstop (of *noodzakelijke* stop) nodig, het moment dat een recursieve stap niet meer mogelijk is! Dit wordt ook wel de base case genoemd. "
   ]
  },
  {
   "attachments": {},
   "cell_type": "markdown",
   "metadata": {},
   "source": [
    "In opdracht 3 was de basecase `if n == 0` Met andere woorden, als de counter 0 bereikt willen we dat de recursie stopt. De return statement zorgt ervoor dat de functie stopt en dat het dus zichzelf niet meer kan aanroepen."
   ]
  },
  {
   "attachments": {},
   "cell_type": "markdown",
   "metadata": {},
   "source": [
    "```python\n",
    "def test(n):\n",
    "    print(n)\n",
    "\n",
    "    if n == 0:\n",
    "        return\n",
    "\n",
    "    test(n-1)\n",
    "\n",
    "test(5)\n",
    "```"
   ]
  }
 ],
 "metadata": {
  "kernelspec": {
   "display_name": "Python 3 (ipykernel)",
   "language": "python",
   "name": "python3"
  },
  "language_info": {
   "codemirror_mode": {
    "name": "ipython",
    "version": 3
   },
   "file_extension": ".py",
   "mimetype": "text/x-python",
   "name": "python",
   "nbconvert_exporter": "python",
   "pygments_lexer": "ipython3",
   "version": "3.12.3"
  },
  "vscode": {
   "interpreter": {
    "hash": "7321d1f7eabf315803f0fbeb0be0427ff6d045140e09c9efe7edcc325df00e23"
   }
  }
 },
 "nbformat": 4,
 "nbformat_minor": 4
}
