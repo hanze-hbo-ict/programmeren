{
 "cells": [
  {
   "cell_type": "markdown",
   "metadata": {},
   "source": [
    "# picobot"
   ]
  },
  {
   "cell_type": "markdown",
   "metadata": {},
   "source": [
    "Je hebt vast wel eens gehoord van een robotstofzuiger. Dit is een robot die automatisch door de hele kamer overal omheen kan stofzuigen. De meest eenvoudige robotstofzuiger heeft geen geavanceerde sensoren om de hele kamer te scannen. Ze hebben enkel een bumper om te weten of ze ergens tegen aan rijden. Ze zijn dus vrijwel blind en tóch krijgen ze het voor elkaar de hele kamer te stofzuigen."
   ]
  },
  {
   "cell_type": "markdown",
   "metadata": {},
   "source": [
    "Ons doel is om een robot zo te programmeren dat het overal komt in een lege kamer. Het programma dat we hier voor gaan gebruiken is picobot.[www.cs.hmc.edu/picobot](http://www.cs.hmc.edu/picobot). Dit is zeer bijziend robotje en kan dus alleen een obstakel zien dat heel dichtbij is. Het is ook heel voorzichtig en zal per instructie maar 1 stap zetten."
   ]
  },
  {
   "cell_type": "markdown",
   "metadata": {},
   "source": [
    "![Overzicht van Picobot](images/1/pico1.png)"
   ]
  },
  {
   "cell_type": "markdown",
   "metadata": {},
   "source": [
    "## Naar de hoek\n",
    "\n",
    "Een picobot staat op een willekeurige locatie in een lege kamer.\n",
    "\n",
    "![Lege Kamer](images/1/picoLegeKamer.png)\n",
    "\n",
    " Een picobot ziet alleen maar het vakje noord, oost, zuid en west en kan bepalen of daar een obstakel is. \n",
    " \n"
   ]
  },
  {
   "cell_type": "markdown",
   "metadata": {},
   "source": [
    "![NEWS](images/1/picobot_news.png)"
   ]
  },
  {
   "cell_type": "markdown",
   "metadata": {},
   "source": [
    "  Welke set instructies heeft de picobot nodig om de linkerbovenhoek te bereiken? "
   ]
  },
  {
   "cell_type": "markdown",
   "metadata": {},
   "source": [
    "\n",
    "<details>\n",
    "<summary>Oplossing</summary>\n",
    "Rij naar het noorden. <br>\n",
    "Stop als er een obstakel in het noorden ligt.  <br>\n",
    "Rij naar het westen.  <br>\n",
    "Stop als er een obstakel in het westen ligt.   <br> \n",
    "Doel is bereikt.  <br>\n",
    "</details>\n"
   ]
  },
  {
   "cell_type": "markdown",
   "metadata": {},
   "source": [
    "Hoe ziet de beslissingsboom eruit dat bij deze set instructies hoort?"
   ]
  },
  {
   "cell_type": "markdown",
   "metadata": {},
   "source": [
    "<details>\n",
    "<summary>Oplossing</summary>\n",
    "<img src=\"images/1/boom_hoek.png\">\n",
    "</details>\n"
   ]
  },
  {
   "cell_type": "markdown",
   "metadata": {},
   "source": [
    "Na het ontwerpen van een plan, in dit geval beslissingsboom, is de volgende stap om deze daadwerkelijk te programmeren. Picobotjes spreken hun eigen taal. Het doel is dus om de instructies te vertalen zodat picobot ze uit kan voeren."
   ]
  },
  {
   "cell_type": "markdown",
   "metadata": {},
   "source": [
    "## Picotaal"
   ]
  },
  {
   "cell_type": "markdown",
   "metadata": {},
   "source": [
    "Picobot ziet alleen maar ten N, E, W, en S\n",
    "\n",
    "(NOWZ? ... Noord, Oost, West, Zuid!)"
   ]
  },
  {
   "cell_type": "markdown",
   "metadata": {},
   "source": [
    "Picobot kan dus alleen maar ten (N) noorden, (E) oosten, (W) westen en (Z) zuiden kijken, en niet bijvoorbeeld noord-west! We gaan de volgende notatie gebruiken om de omgeving aan te duiden: **`xxxx`**. Als Picobot muren ziet dan zal het in de notatie volgens NEWS worden aangegegven, bijvoorbeeld:"
   ]
  },
  {
   "cell_type": "markdown",
   "metadata": {},
   "source": [
    "![NEWS](images/1/picobot_sample.png)\n",
    "\n",
    "**`NxWx`**"
   ]
  },
  {
   "cell_type": "markdown",
   "metadata": {},
   "source": [
    "In dit geval geven we aan dat ten (N) noorden en (W) westen zich een muur bevindt en ten oosten en zuiden lege ruimte, daar blijft **`x`** staan. De huidige omgeving kan dus worden beschrven door **`NxWx`**."
   ]
  },
  {
   "cell_type": "markdown",
   "metadata": {},
   "source": [
    "![NEWS](images/1/picobot_options.png)"
   ]
  },
  {
   "cell_type": "markdown",
   "metadata": {},
   "source": [
    "### De staat"
   ]
  },
  {
   "cell_type": "markdown",
   "metadata": {},
   "source": [
    "De huidige staat (\"state\") waar Picbot zich in bevindt\n",
    "\n",
    "Picobot's geheugen is een *enkel* getal en start altijd met `0` en dit representeert de huidige staat. *Staat* en *omgeving* is alles wat picobot kent van de wereld!"
   ]
  },
  {
   "cell_type": "markdown",
   "metadata": {},
   "source": [
    "![picobot_state.png](images/1/picobot_state.png)"
   ]
  },
  {
   "cell_type": "markdown",
   "metadata": {},
   "source": [
    "### De regels"
   ]
  },
  {
   "cell_type": "markdown",
   "metadata": {},
   "source": [
    "Het combineren in regels van omgeving en staat om door Picobot te worden uitgevoerd"
   ]
  },
  {
   "cell_type": "markdown",
   "metadata": {},
   "source": [
    "Bijvoorbeeld, twee mogelijke regels:\n",
    "\n",
    "|           | Huidige staat | Omgeving   |   Stap   | Richting | Nieuwe staat |\n",
    "|-----------|---------------|------------|:--------:|----------|--------------|\n",
    "| *regel A* |    **`0`**    | **`Nxxx`** | **`->`** |  **`S`** |    **`0`**   |\n",
    "| *regel B* |    **`0`**    | **`xxxx`** | **`->`** |  **`N`** |    **`0`**   |"
   ]
  },
  {
   "cell_type": "markdown",
   "metadata": {},
   "source": [
    "Lees een regel (bijvoorbeeld regel A) als volgt: *als* de huidige staat van Picobot `0` is en de omgeving gelijk is aan **`Nxxx`**, neem dan één stap richting (S) zuid en zet de *nieuwe* staat op `0`."
   ]
  },
  {
   "cell_type": "markdown",
   "metadata": {},
   "source": [
    "Zoals je straks kunt zien zal je een regel als volgt voor Picobot kunnen schrijven (syntax):\n",
    "\n",
    "**`0 Nxxx -> S 0`**\n",
    "\n",
    "Als Picobot een stap heeft genomen zal het het alle regels weer doornemen tot het een regel ziet die overeenkomt met zijn huidige *staat* en *omgeving* en zal deze vervolgens uitvoeren."
   ]
  },
  {
   "cell_type": "markdown",
   "metadata": {},
   "source": [
    "### Wildcards"
   ]
  },
  {
   "cell_type": "markdown",
   "metadata": {},
   "source": [
    "Een optionele aanduiding van de omgeving\n",
    "\n",
    "|           | Huidige staat | Omgeving   |   Stap   | Richting | Nieuwe staat |\n",
    "|-----------|---------------|------------|:--------:|----------|--------------|\n",
    "| *regel A* |    **`0`**    | **`x***️`** | **`->`** |  **`S`** |    **`0`**   |"
   ]
  },
  {
   "cell_type": "markdown",
   "metadata": {},
   "source": [
    "Met een asterisk (\\*) kan je aangeven dat een bepaalde richting optioneel is. In dit voorbeeld **moet** het (N) noorden leeg zijn, (O) oost, (W) west en (Z) zuid **mogen** zowel leeg als gevuld zijn."
   ]
  },
  {
   "cell_type": "markdown",
   "metadata": {},
   "source": [
    "## De hoek in"
   ]
  },
  {
   "cell_type": "markdown",
   "metadata": {},
   "source": [
    "Doel is om de picobot instructies te geven om zich naar de hoek te begeven. Eerst was er een plan opgesteld:\n",
    "\n",
    "![NEWS](images/1/boom_hoek.png)"
   ]
  },
  {
   "cell_type": "markdown",
   "metadata": {},
   "source": [
    "De picobot begint altijd in state 0"
   ]
  },
  {
   "cell_type": "markdown",
   "metadata": {},
   "source": [
    "Check of er een muur in het noorden is. (**` x*** `** )  \n",
    "Als er geen muur is, doe dan een stap naar het noorden. (**`N 0`**)   \n",
    "**`0 x*** -> N 0 `**"
   ]
  },
  {
   "cell_type": "markdown",
   "metadata": {},
   "source": [
    "Als er wel een muur is (**` N*** `** ), blijf staan en wissel van state.   \n",
    "**`0 N*** -> X 1 `**"
   ]
  },
  {
   "cell_type": "markdown",
   "metadata": {},
   "source": [
    "Check of er een muur in het westen is. (**` **x* `** )  \n",
    "Als er geen muur is, doe dan een stap naar het westen. (**`W 0`**)   \n",
    "**`1 **x* -> W 1 `**"
   ]
  },
  {
   "cell_type": "markdown",
   "metadata": {},
   "source": [
    "Volledige code:  \n",
    "**`0 x*** -> N 0`**  \n",
    "**`0 N*** -> X 1`**  \n",
    "**`1 **x* -> W 1`**  \n"
   ]
  },
  {
   "cell_type": "markdown",
   "metadata": {},
   "source": [
    "In state 0 wordt er naar het noorden gereden. In state 1 wordt er naar het westen gereden. "
   ]
  },
  {
   "cell_type": "markdown",
   "metadata": {},
   "source": [
    "## Opdrachten"
   ]
  },
  {
   "cell_type": "markdown",
   "metadata": {},
   "source": [
    "### Opdracht 1: De lege kamer\n",
    "\n",
    "- **Stap 1: Proberen.** Ga op papier uitzoeken wat een efficiente manier is om een lege kamer in zijn geheel te verkennen.\n",
    "- **Stap 2: Plan.** Maak een beslissingsboom voor het verkennen van een lege kamer. "
   ]
  },
  {
   "cell_type": "markdown",
   "metadata": {},
   "source": [
    "### Opdracht 2: Doolhof\n",
    "\n",
    "- **Stap 1: Proberen.** Ga op papier uitzoeken wat een efficiente manier is om een doolhof te verkennen.\n",
    "- **Stap 2: Plan.** Maak een beslissingsboom om een doolhof te verkennen."
   ]
  },
  {
   "cell_type": "markdown",
   "metadata": {},
   "source": [
    "### Opdracht 3: Picobot  \n",
    "\n",
    "Open picobot simulator: [www.cs.hmc.edu/picobot](http://www.cs.hmc.edu/picobot)   \n",
    "1.  De simulator heeft een voorbeeld code. Teken het pad wat picobot zou lopen  \n",
    "2.  Klik op Go. Klopt jou voorspelling met wat picobot laat zien? Zo niet, waar ging het fout met de voorspelling?  \n",
    "3.  Schrijf een programma zodat picobot naar de linkerboven hoek rijdt.  "
   ]
  }
 ],
 "metadata": {
  "language_info": {
   "name": "python"
  }
 },
 "nbformat": 4,
 "nbformat_minor": 2
}
