{
 "cells": [
  {
   "cell_type": "markdown",
   "metadata": {
    "slideshow": {
     "slide_type": "slide"
    }
   },
   "source": [
    "# Functies\n",
    "\n",
    "Fun met Python functies!"
   ]
  },
  {
   "cell_type": "markdown",
   "metadata": {
    "slideshow": {
     "slide_type": "subslide"
    }
   },
   "source": [
    "## Computing\n",
    "\n",
    "*Berekeningen*, handelingen op data"
   ]
  },
  {
   "attachments": {},
   "cell_type": "markdown",
   "metadata": {
    "slideshow": {
     "slide_type": "notes"
    }
   },
   "source": [
    "Een computer *rekent*, en daarmee voert het handelingen op data uit. Met data heb je kennisgemaakt en hoe dit door de computer wordt opgeslagen (denk aan de \"dozen\" in het geheugen en bits als fundamentele informatie-eenheid). Maar hoe worden *bewerkingen* op deze data uitgevoerd? We gaan kennismaken met een andere bouwsteen om te kunnen handelen: functies! Met een functie vertellen we de computer om een opdracht uit te gaan voeren."
   ]
  },
  {
   "cell_type": "markdown",
   "metadata": {
    "slideshow": {
     "slide_type": "subslide"
    }
   },
   "source": [
    "## Handelen\n",
    "\n",
    "Input en output"
   ]
  },
  {
   "cell_type": "code",
   "execution_count": 1,
   "metadata": {
    "slideshow": {
     "slide_type": "fragment"
    }
   },
   "outputs": [
    {
     "data": {
      "text/plain": [
       "8"
      ]
     },
     "execution_count": 1,
     "metadata": {},
     "output_type": "execute_result"
    }
   ],
   "source": [
    "len(\"huiswerk\")"
   ]
  },
  {
   "cell_type": "markdown",
   "metadata": {
    "slideshow": {
     "slide_type": "notes"
    }
   },
   "source": [
    "Je hebt inmiddels al functies gebruikt, bijvoorbeeld de functie `len(x)`. Deze functie accepteert een *parameter* (een waarde, de *input*) en geeft een resultaat terug (*output*). We weten of zien niet welke handelingen `len(x)` verricht, we weten alleen dat het een waarde terugggeeft. Laten we Python functies eens vergelijken met wat je al kent van andere disciplines, bijvoorbeeld wiskunde."
   ]
  },
  {
   "attachments": {},
   "cell_type": "markdown",
   "metadata": {},
   "source": [
    "![stack plates](images/3/math_function.png)"
   ]
  },
  {
   "attachments": {},
   "cell_type": "markdown",
   "metadata": {},
   "source": [
    "De wiskunde kent namelijk ook functies. In dit voorbeeld is `f` de naam van de functie en de `x` de parameter. Stel we willen `f(2)` uitrekenen dan krijgen we `f(2) = 2 * 2 + 3` De `x` in de berekening wordt dus vervangen met een `2`.  Het antwoord op `f(2)` is `7`. "
   ]
  },
  {
   "cell_type": "markdown",
   "metadata": {
    "slideshow": {
     "slide_type": "subslide"
    }
   },
   "source": [
    "## Structuur versus procedure"
   ]
  },
  {
   "attachments": {},
   "cell_type": "markdown",
   "metadata": {
    "slideshow": {
     "slide_type": "fragment"
    }
   },
   "source": [
    "$$\n",
    "f(x) = 2x + 3\n",
    "$$\n",
    "\n",
    "Definieert een **structuur**: wat het *is* (en wat logischerwijs volgt)"
   ]
  },
  {
   "attachments": {},
   "cell_type": "markdown",
   "metadata": {
    "slideshow": {
     "slide_type": "notes"
    }
   },
   "source": [
    "Dit is de syntax die wiskudigen hebben bedacht om een *structuur* te beschrijven en wat daar logischerwijs uit zou moeten volgen."
   ]
  },
  {
   "attachments": {},
   "cell_type": "markdown",
   "metadata": {
    "slideshow": {
     "slide_type": "fragment"
    }
   },
   "source": [
    "```python\n",
    "def f(x):\n",
    "    return 2 * x + 3\n",
    "```\n",
    "\n",
    "Defineert een **procedure**: wat het *doet* (en wat gedragsmatig volgt)"
   ]
  },
  {
   "attachments": {},
   "cell_type": "markdown",
   "metadata": {
    "slideshow": {
     "slide_type": "notes"
    }
   },
   "source": [
    "Python heeft ook functies. Het heeft de speciale syntax `def` (wat *define* betekent) om te zeggen \"Ik definieer een functie\", in dit geval een functie met de naam `f` die een enkele parameter `x` accepteert. ([book](https://allendowney.github.io/ThinkPython/chap03.html))\n",
    "\n",
    "De combinatie van naam en welke parameters worden geaccepteerd wordt ook de *signatuur* van een functie genoemd, want dit is wat het uniek maakt en onderscheidt van andere functies die we gaan schrijven. Let ook op dat een functie definitie wordt afgesloten met de dubbele punt `:`!\n",
    "\n",
    "Dit is al een stuk concreter, want anders dan de wiskundige beschrijving definiëren we hier een procedure (één of meerdere handelingen die uitgevoerd moeten worden op basis van een mogelijke input) en een resultaat dat mogelijk met het `return` *statement* wordt teruggegeven (output). Let ook op dat alles wat na de dubbele punt volgt moet worden ingesprongen om aan te geven dat het een codeblok is dat onderdeel van de functie is.\n",
    "\n",
    "Syntax check! De dubbele punt geeft aan dat een nieuwe context volgt, je hebt dit bijvoorbeeld ook gezien bij conditionele statements als `if:`. De vuistregel is *altijd inspringen* na een dubbele punt!"
   ]
  },
  {
   "cell_type": "markdown",
   "metadata": {
    "slideshow": {
     "slide_type": "slide"
    }
   },
   "source": [
    "## Binnen een functie"
   ]
  },
  {
   "cell_type": "code",
   "execution_count": 2,
   "metadata": {
    "slideshow": {
     "slide_type": "fragment"
    }
   },
   "outputs": [
    {
     "data": {
      "text/plain": [
       "'maatauto'"
      ]
     },
     "execution_count": 2,
     "metadata": {},
     "output_type": "execute_result"
    }
   ],
   "source": [
    "def flipside(s):\n",
    "    \"\"\" flipside(s): spiegel s!\n",
    "    input s: een string\n",
    "    \"\"\"\n",
    "    x = len(s) // 2\n",
    "    return s[x:] + s[:x]\n",
    "\n",
    "flipside(\"automaat\")"
   ]
  },
  {
   "cell_type": "markdown",
   "metadata": {
    "slideshow": {
     "slide_type": "notes"
    }
   },
   "source": [
    "Laten we gaan kijken naar de binnenkant van functies. We hebben hier een functie `flipside` gedefinieerd die een *string* spiegelt. Je ziet dat functie `len(x)`, *floor division* `//` en string *slicing* wordt gebruikt. Maar je ziet ook andere dingen, bijvoorbeeld binnen de functie een nieuwe variabele `x` en tekst tussen driedubbele aanhalingstekens `\"\"\"`."
   ]
  },
  {
   "cell_type": "markdown",
   "metadata": {
    "slideshow": {
     "slide_type": "subslide"
    }
   },
   "source": [
    "### Docstrings\n",
    "\n",
    "```python\n",
    "def flipside(s):\n",
    "    \"\"\" flipside(s): spiegel s!\n",
    "    input s: een string\n",
    "    \"\"\"\n",
    "```"
   ]
  },
  {
   "attachments": {},
   "cell_type": "markdown",
   "metadata": {
    "slideshow": {
     "slide_type": "notes"
    }
   },
   "source": [
    "Met een string met driedubbele aanhalingstekens direct na de dubbele punt documenteer je de functie (voor jezelf en voor anderen). Je beschrijft in deze *docstring* op de eerste regel kort wat de functie doet en verder andere informatie die nodig is, bijvoorbeeld de typen van parameters. Sommige moderne textverwerkers gebruiken de docstrings om informatie over de functie te laten zien."
   ]
  },
  {
   "cell_type": "markdown",
   "metadata": {
    "slideshow": {
     "slide_type": "subslide"
    }
   },
   "source": [
    "### Gebruik variabelen\n",
    "\n",
    "```python\n",
    "def flipside(s):\n",
    "    x = len(s) // 2\n",
    "    return s[x:] + s[:x]\n",
    "```"
   ]
  },
  {
   "cell_type": "markdown",
   "metadata": {
    "slideshow": {
     "slide_type": "notes"
    }
   },
   "source": [
    "De lengte van de string is nodig om vervolgens met een floor division het aantal karakters tot het middelpunt van de string te bepalen. Dit aantal wordt aan de nieuwe variabele `x` toegekend en deze `x` wordt vervolgens 2 keer gebruikt voor het slicen van de string (de start- en stop waarden). We breken met het zetten van deze variabele `x` ook het probleem in stukjes op, en het scheelt ons typewerk!"
   ]
  },
  {
   "cell_type": "markdown",
   "metadata": {
    "slideshow": {
     "slide_type": "fragment"
    }
   },
   "source": [
    "```python\n",
    "def flipside(s):\n",
    "    return s[len(s) // 2:] + s[:len(s) // 2]\n",
    "```"
   ]
  },
  {
   "cell_type": "markdown",
   "metadata": {
    "slideshow": {
     "slide_type": "notes"
    }
   },
   "source": [
    "Je had de stap van het zetten van een variabele ook kunnnen overslaan en de start- en stop waarde voor het slicen van de string ook als resultaat van `len(s) // 2` kunnen schrijven, maar je merkt al dat het minder goed leesbaar is. Het gebruik van variabelen helpt de leesbaarheid en zelfs de computer vind het prettiger omdat het efficiënter is: er hoeft maar één keer het aantal karakters tot het midden te worden berekend!"
   ]
  },
  {
   "cell_type": "markdown",
   "metadata": {
    "slideshow": {
     "slide_type": "subslide"
    }
   },
   "source": [
    "### Variabelen opnieuw definieren\n",
    "\n",
    "```python\n",
    "def convert_from_seconds(s):\n",
    "    \"\"\"Een getal naar dagen, uren, minuten en seconden\n",
    "    \n",
    "    Zet een getal om naar naar een lijst van\n",
    "    [days, hours, minutes, seconds]\n",
    "    input s: een int\n",
    "    \"\"\"\n",
    "    days = s // (24 * 60 * 60)  # aantal dagen\n",
    "    s = s % (24 * 60 * 60)  # restant s\n",
    "\n",
    "    hours = s // (60 * 60)  # aantal uren\n",
    "    s = s % (60 * 60)  # restant s\n",
    "\n",
    "    minutes = s // 60  # aantal minuten\n",
    "    s = s % 60  # restant s\n",
    "\n",
    "    return [days, hours, minutes, s]\n",
    "```"
   ]
  },
  {
   "cell_type": "markdown",
   "metadata": {
    "slideshow": {
     "slide_type": "notes"
    }
   },
   "source": [
    "Gebruik variabelen en definiereer ze opnieuw als het nodig is! In dit voorbeeld wordt `s` steeds opnieuw gedefineerd op basis van het resultaat van een vorige handeling. Een floor division (`//`) wordt eerst gebruikt om bijvoorbeeld het aantal dagen te vinden en met het restant (`%`) wordt op dezlfde manier het aantal uren weer gevonden. Hetzelfde proces wordt herhaald voor het aantal minuten tot een restant aan aantal seconden overblijft.\n",
    "\n",
    "Naast de *docstring* zie je ook commentaren: alles wat na een `#` volgt slaat Python over, het doet daar niets mee. Het is vooral voor mensen een manier om opmerkingen tussendoor te plaatsen. Let verder ook op het return statement waar de waarden als *list* wordt teruggegeven."
   ]
  },
  {
   "cell_type": "markdown",
   "metadata": {
    "slideshow": {
     "slide_type": "subslide"
    }
   },
   "source": [
    "### Return versus print\n",
    "\n",
    "Wat is het verschil?"
   ]
  },
  {
   "cell_type": "markdown",
   "metadata": {
    "slideshow": {
     "slide_type": "notes"
    }
   },
   "source": [
    "Je hebt eerder kennisgemaakt met `print(x)` en deze functie geeft iets terug, althans zo lijkt het! `return` geeft een resultaat van een functie terug, wat is nu het verschil met `print(x)`?"
   ]
  },
  {
   "cell_type": "code",
   "execution_count": 4,
   "metadata": {
    "slideshow": {
     "slide_type": "subslide"
    }
   },
   "outputs": [],
   "source": [
    "def dbl(x):\n",
    "    \"\"\"verdubbelt x?\n",
    "    \"\"\"\n",
    "    return 2 * x\n",
    "\n",
    "a_dbl = dbl(20) + 20"
   ]
  },
  {
   "cell_type": "markdown",
   "metadata": {
    "slideshow": {
     "slide_type": "notes"
    }
   },
   "source": [
    "Dit is een eenvoudige functie die een waarde verdubbelt en het resultaat teruggeeft met `return`. Nu een variant met `print(x)` in plaats van `return`:"
   ]
  },
  {
   "cell_type": "code",
   "execution_count": 5,
   "metadata": {
    "slideshow": {
     "slide_type": "fragment"
    }
   },
   "outputs": [],
   "source": [
    "def dbl_pr(x):\n",
    "    \"\"\"verdubbelt x?\n",
    "    \"\"\"\n",
    "    print(2 * x)"
   ]
  },
  {
   "cell_type": "markdown",
   "metadata": {
    "slideshow": {
     "slide_type": "fragment"
    }
   },
   "source": [
    "```python\n",
    "a_dbl_pr = dbl_pr(20) + 20\n",
    "```"
   ]
  },
  {
   "cell_type": "markdown",
   "metadata": {
    "slideshow": {
     "slide_type": "fragment"
    }
   },
   "source": [
    "```text\n",
    "---------------------------------------------------------------------------\n",
    "TypeError                                 Traceback (most recent call last)\n",
    "<ipython-input-5-f85fb4a1e955> in <module>\n",
    "      4     print(2 * x)\n",
    "      5 \n",
    "----> 6 a_dbl_pr = dbl_pr(20) + 20\n",
    "\n",
    "TypeError: unsupported operand type(s) for +: 'NoneType' and 'int'\n",
    "```"
   ]
  },
  {
   "cell_type": "markdown",
   "metadata": {
    "slideshow": {
     "slide_type": "notes"
    }
   },
   "source": [
    "Dit geeft een fout op regel 6, waar we bij het resultaat van de functie 20 willen optellen. Waarom deze fout terwijl we wél een resultaat op scherm zien (40)? De verklaring is dat een functie zonder `return` niets teruggeeft en dat \"niets\" (verassend genoeg!) wél een waarde heeft, een waarde `None` (met type `NoneType`). `None` (\"geen\") representeert het niets en Python zegt ons hier dat we 20 *niet* bij niets kunnen optellen!\n",
    "\n",
    "Het *niets* is voor Python blijkbaar wel \"iets\" (`None`)!\n",
    "\n",
    "Als je er bij stilstaat is dit niet zo gek. Wij mensen maken ook een onderscheid tussen iets en niets (en hebben daar woorden voor, *iets* of *niets*) en voor Python is in dit niet(s) anders: het heeft een manier nodig om niets te kunnen representeren en uit te drukken."
   ]
  },
  {
   "attachments": {},
   "cell_type": "markdown",
   "metadata": {},
   "source": [
    "De error `TypeError` krijg je dus als je een bewerking/berekening wil uitvoeren, maar de datatype ondersteunt de bewerking niet. Python is niet in staat om te rekenen met niets. "
   ]
  },
  {
   "cell_type": "markdown",
   "metadata": {
    "slideshow": {
     "slide_type": "subslide"
    }
   },
   "source": [
    "#### Het verschil\n",
    "\n",
    "**print** wijzigt pixels op het scherm\n",
    "\n",
    "**return** geeft resultaat van de functie-aanroep terug"
   ]
  },
  {
   "cell_type": "markdown",
   "metadata": {
    "slideshow": {
     "slide_type": "notes"
    }
   },
   "source": [
    "`return` is de manier hoe software informatie aan functies doorgeeft, waar het resultaat (output) van de een de input kan zijn voor de ander."
   ]
  },
  {
   "cell_type": "markdown",
   "metadata": {
    "slideshow": {
     "slide_type": "subslide"
    }
   },
   "source": [
    "### Testen"
   ]
  },
  {
   "cell_type": "code",
   "execution_count": 6,
   "metadata": {
    "slideshow": {
     "slide_type": "fragment"
    }
   },
   "outputs": [
    {
     "name": "stdout",
     "output_type": "stream",
     "text": [
      " toplap ~ toplap\n"
     ]
    }
   ],
   "source": [
    "# 1: functie definitie\n",
    "\n",
    "def flipside(s):\n",
    "    \"\"\" flipside(s): spiegel s!\n",
    "    input s: een string\n",
    "    \"\"\"\n",
    "    x = len(s) // 2\n",
    "    return s[x:] + s[:x]\n",
    "\n",
    "# 2: Tests\n",
    "\n",
    "assert flipside('huiswerk') == 'werkhuis'\n",
    "assert flipside('popster') == 'sterpop'\n",
    "\n",
    "print(\" toplap ~\", flipside('laptop')) # print het resultaat naar het scherm"
   ]
  },
  {
   "cell_type": "markdown",
   "metadata": {
    "slideshow": {
     "slide_type": "notes"
    }
   },
   "source": [
    "Voeg `assert` statements toe, waar *assert* een aanname betekent. Bijvoorbeeld, lees\n",
    "\n",
    "```python\n",
    "assert flipside('huiswerk') == 'werkhuis'\n",
    "```\n",
    "\n",
    "als \"neem aan dat het resultaat van de aanroep `flipside('huiswerk')` gelijk is aan de string `'werkhuis'`\". Verder kan je natuurlijk altijd print statements gebruiken om waarden naar het scherm te printen!"
   ]
  },
  {
   "cell_type": "markdown",
   "metadata": {
    "slideshow": {
     "slide_type": "subslide"
    }
   },
   "source": [
    "### None?\n",
    "\n",
    "`None` is iets dat *niets* representeert, kan je dit ook testen?"
   ]
  },
  {
   "cell_type": "code",
   "execution_count": 7,
   "metadata": {
    "slideshow": {
     "slide_type": "fragment"
    }
   },
   "outputs": [
    {
     "name": "stdout",
     "output_type": "stream",
     "text": [
      "40\n"
     ]
    }
   ],
   "source": [
    "assert dbl_pr(20) == None"
   ]
  },
  {
   "cell_type": "markdown",
   "metadata": {
    "slideshow": {
     "slide_type": "notes"
    }
   },
   "source": [
    "Je ziet hier alleen 40 (vanwege het `print` statement, pixels op het scherm...) en verder niets en dit is ok! Dit betekent dat de aanname dat de aanroep `dbl_pr(20)` inderdaad `None` teruggeeft."
   ]
  },
  {
   "cell_type": "markdown",
   "metadata": {},
   "source": [
    "## Belangrijke functies\n",
    "\n",
    "* range\n",
    "* sum\n",
    "* choice"
   ]
  },
  {
   "cell_type": "markdown",
   "metadata": {},
   "source": []
  },
  {
   "cell_type": "markdown",
   "metadata": {},
   "source": [
    "### Range\n",
    "\n",
    "`range` geeft een *iterator* met integers terug. Het maakt niet uit als je niet precies weet wat een iterator is, het belangrijkst is dat je ziet dat `list` de iterator omzet naar een *lijst* met integers:"
   ]
  },
  {
   "cell_type": "markdown",
   "metadata": {},
   "source": [
    "```python\n",
    "l = list(range(0, 100))\n",
    "print(l)\n",
    "```\n",
    "\n",
    "ouput: `[0, 1, 2, ..., 99]`"
   ]
  },
  {
   "cell_type": "markdown",
   "metadata": {},
   "source": [
    "### Sum\n",
    "\n",
    "`sum` telt een lijst van getallen op, en `range` maakt een lijst met integers (of eigenlijk een iterator met integers, maar daar kan `sum` ook mee overweg):"
   ]
  },
  {
   "cell_type": "markdown",
   "metadata": {},
   "source": [
    "```python\n",
    "s = sum(range(3,11))\n",
    "print(s)\n",
    "```\n",
    "ouput: `52`\n",
    "\n"
   ]
  },
  {
   "cell_type": "markdown",
   "metadata": {},
   "source": [
    "\n",
    "```python\n",
    "l = list(range(3,11))\n",
    "print(sum(l))\n",
    "```\n",
    "ouput: `52`\n"
   ]
  },
  {
   "cell_type": "markdown",
   "metadata": {},
   "source": [
    "### Choice\n",
    "\n",
    "Choice is een functie dat een random keuze kan maken uit een gegeven lijst. Het is alleen niet standaard beschikbaar zoals de functies `sum` en `range`. Om de functie te kunnen gebruiken moeten we het eerst importeren. "
   ]
  },
  {
   "cell_type": "markdown",
   "metadata": {},
   "source": [
    "```python\n",
    "from random import choice\n",
    "l = list(range(0, 100))\n",
    "rand = choice(l)\n",
    "```"
   ]
  },
  {
   "cell_type": "markdown",
   "metadata": {},
   "source": [
    "## Imports"
   ]
  },
  {
   "cell_type": "markdown",
   "metadata": {},
   "source": [
    "Random is wat we noemen een library. Met het importeren van een library krijg te toegang tot alle functies die in deze library staan."
   ]
  },
  {
   "cell_type": "markdown",
   "metadata": {},
   "source": [
    "### Optie 1: \n",
    "\n",
    "```python\n",
    "import random\n",
    "\n",
    "random.choice(list(range(0, 10)))\n",
    "random.randint(0,9)\n",
    "random.uniform(0,9)\n",
    "```"
   ]
  },
  {
   "cell_type": "markdown",
   "metadata": {},
   "source": [
    "In deze optie wordt de hele library toegevoegd. Om de functies te gebruiken die in deze library staan, noteren we eerst uit welke library ze komen en dan volgt de functie naam. Zo onstaan er geen problemen als er meerdere libraries worden geimporteerd en er functie namen overeenkomen. "
   ]
  },
  {
   "cell_type": "markdown",
   "metadata": {},
   "source": [
    "### Optie 2: \n",
    "\n",
    "```python\n",
    "from random import choice\n",
    "from random import randint\n",
    "from random import uniform\n",
    "\n",
    "choice(list(range(0, 10)))\n",
    "randint(0,9)\n",
    "uniform(0,9)\n",
    "```"
   ]
  },
  {
   "cell_type": "markdown",
   "metadata": {},
   "source": [
    "`from random import choice` importeert een hele specifieke functie uit de library en niet de hele library. Scheelt in de grootte van het programma. Is vooral handig om te gebruiken als je maar een enkele functie uit de libary wilt gebruiken."
   ]
  },
  {
   "cell_type": "markdown",
   "metadata": {},
   "source": [
    "### Optie 3: \n",
    "\n",
    "```python\n",
    "from random import *\n",
    "\n",
    "choice(list(range(0, 10)))\n",
    "randint(0,9)\n",
    "uniform(0,9)\n",
    "```"
   ]
  },
  {
   "cell_type": "markdown",
   "metadata": {},
   "source": [
    "`from random import *` importeert alle functies uit de library. Het is belangrijk om te weten welke functies dit zijn om te voorkomen dat er twee dezelfde functies in het programma staan. Bijvorbeeld van een andere library of in je eigen code. "
   ]
  },
  {
   "cell_type": "markdown",
   "metadata": {},
   "source": [
    "### Handige libraries\n",
    "math\n",
    "* cos()\n",
    "* sin()\n",
    "* tan()\n",
    "* sqrt()\n",
    "* pi\n",
    "\n",
    "random\n",
    "* choice()\n",
    "* randint()\n",
    "* uniform()\n",
    "\n",
    "time\n",
    "* time()\n",
    "* ctime()"
   ]
  },
  {
   "cell_type": "markdown",
   "metadata": {},
   "source": [
    "## Opdracht 1\n"
   ]
  },
  {
   "cell_type": "markdown",
   "metadata": {},
   "source": [
    "Schrijf een functie `maximum()` dat twee integers krijgt als paramaters en vervolgens de grooste integer teruggeeft. Zorg ervoor dat je de functie test met behulp van assertions en voeg een docstring toe. "
   ]
  },
  {
   "cell_type": "markdown",
   "metadata": {},
   "source": [
    "## Opdracht 2"
   ]
  },
  {
   "cell_type": "markdown",
   "metadata": {},
   "source": [
    "Schrijf een functie `minutes()` dat een integer binnen krijgt dat seconden moet voorstellen en vervolgens teruggeeft hoeveel minuten dat zijn. Zorg ervoor dat je de functie test met behulp van assertions en voeg een docstring toe. "
   ]
  },
  {
   "cell_type": "markdown",
   "metadata": {},
   "source": [
    "## Opdracht 3"
   ]
  },
  {
   "cell_type": "markdown",
   "metadata": {},
   "source": [
    "Schrijf een functie `alphabetic()` dat twee string als parameters krijgt en vervolgens de string teruggeeft die op hogere alfabetische volgorde staat. Zorg ervoor dat je de functie test met behulp van assertions en voeg een docstring toe. "
   ]
  }
 ],
 "metadata": {
  "kernelspec": {
   "display_name": "Python 3 (ipykernel)",
   "language": "python",
   "name": "python3"
  },
  "language_info": {
   "codemirror_mode": {
    "name": "ipython",
    "version": 3
   },
   "file_extension": ".py",
   "mimetype": "text/x-python",
   "name": "python",
   "nbconvert_exporter": "python",
   "pygments_lexer": "ipython3",
   "version": "3.9.5"
  }
 },
 "nbformat": 4,
 "nbformat_minor": 4
}
