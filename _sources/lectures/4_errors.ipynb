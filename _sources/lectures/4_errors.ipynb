{
 "cells": [
  {
   "attachments": {},
   "cell_type": "markdown",
   "metadata": {
    "slideshow": {
     "slide_type": "slide"
    }
   },
   "source": [
    "# Errors"
   ]
  },
  {
   "attachments": {},
   "cell_type": "markdown",
   "metadata": {},
   "source": [
    "## IndexError\n",
    "\n"
   ]
  },
  {
   "attachments": {},
   "cell_type": "markdown",
   "metadata": {},
   "source": [
    "\n",
    "\n",
    "```ipython\n",
    "out: IndexError: string index out of range\n",
    "```"
   ]
  },
  {
   "attachments": {},
   "cell_type": "markdown",
   "metadata": {},
   "source": [
    "De functie blaat print de eerste letter van een string en roept zichzelf daarna weer. `s[:1]` geeft aan dat de eerste letter van de string is verwijdert. Als de functie zichzelf vaak genoeg herhaalt zal er uiteindelijk geen letters meer in de string zitten. Als er dan toch gevraagd wordt `s[0]` te printen geeft python een error. `IndexError` geeft aan dat je een lokatie binnen een lijst wil lezen dat niet bestaat. De index is te hoog of te laag. "
   ]
  },
  {
   "attachments": {},
   "cell_type": "markdown",
   "metadata": {},
   "source": [
    "Oplossing is om een base case toe te voegen zodat de functie op tijd stopt. In dit geval willen we stoppen als de string een lengte heeft van 0, met andere woorden, een lege string. "
   ]
  },
  {
   "attachments": {},
   "cell_type": "markdown",
   "metadata": {},
   "source": [
    "\n",
    "\n",
    "```python\n",
    "def blaat(s):\n",
    "    if len(s) == 0:\n",
    "        return\n",
    "    print(s[0])\n",
    "    blaat(s[:1])\n",
    "\n",
    "blaat(\"test\")\n",
    "```\n"
   ]
  },
  {
   "attachments": {},
   "cell_type": "markdown",
   "metadata": {},
   "source": [
    "```ipython\n",
    "out: \"t\"\n",
    "\"e\"\n",
    "\"s\"\n",
    "\"t\"\n",
    "```"
   ]
  },
  {
   "attachments": {},
   "cell_type": "markdown",
   "metadata": {},
   "source": [
    "## RecursionError"
   ]
  },
  {
   "attachments": {},
   "cell_type": "markdown",
   "metadata": {},
   "source": [
    "\n",
    "```python\n",
    "def blaat(s):\n",
    "    print(s)\n",
    "    blaat(s[:1])\n",
    "\n",
    "blaat(\"test\")\n",
    "```"
   ]
  },
  {
   "attachments": {},
   "cell_type": "markdown",
   "metadata": {},
   "source": [
    "`RecursionError: maximum recursion depth exceeded while calling a Python object`"
   ]
  },
  {
   "attachments": {},
   "cell_type": "markdown",
   "metadata": {},
   "source": [
    "`RecursionError` geeft aan dat er teveel functies op de stack liggen. Dit kan veroorzaakt worden als een functie te vaak zichzelf aanroept, er is oneindige loop. Vaak ligt het probleem dan in de base case. In dit voorbeeld is er geen base case en kan de functie zichzelf oneindig aanroepen. "
   ]
  },
  {
   "attachments": {},
   "cell_type": "markdown",
   "metadata": {},
   "source": [
    "Oplossing: Voeg een base case toe. Ook deze functie moet stoppen zodra de string leeg is. "
   ]
  },
  {
   "attachments": {},
   "cell_type": "markdown",
   "metadata": {},
   "source": [
    "```python\n",
    "def blaat(s):\n",
    "    if s  == \"\":\n",
    "        return\n",
    "    print(s)\n",
    "    blaat(s[:1])\n",
    "\n",
    "blaat(\"test\")\n",
    "```\n"
   ]
  },
  {
   "attachments": {},
   "cell_type": "markdown",
   "metadata": {},
   "source": [
    "```ipython\n",
    "out: \"test\"\n",
    "\"est\"\n",
    "\"st\"\n",
    "\"t\"\n",
    "```"
   ]
  },
  {
   "attachments": {},
   "cell_type": "markdown",
   "metadata": {},
   "source": [
    "## TypeError"
   ]
  },
  {
   "attachments": {},
   "cell_type": "markdown",
   "metadata": {},
   "source": [
    "```python\n",
    "def blaat(x, y):\n",
    "    return x + y\n",
    "    \n",
    "\n",
    "blaat(\"test\", 5)\n",
    "```"
   ]
  },
  {
   "attachments": {},
   "cell_type": "markdown",
   "metadata": {},
   "source": [
    "`TypeError: can only concatenate str (not \"int\") to str`"
   ]
  },
  {
   "attachments": {},
   "cell_type": "markdown",
   "metadata": {},
   "source": [
    "De error `TypeError` krijg je als je een bewerking/berekening wil uitvoeren, maar de datatype ondersteunt de bewerking niet. Python geeft vaak aan wat het probleem is. In dit voorbeeld geeft hij aan dat we enkel strings aan elkaar kunnen plakken (concatenate) en niet een string aan een integer. "
   ]
  },
  {
   "attachments": {},
   "cell_type": "markdown",
   "metadata": {},
   "source": [
    "Oplossing: Zorg ervoor dat de juiste datatypes wordt gebruikt. In dit voorbeeld moeten we de funtie aanroepen met of twee string of twee integer en niet twee verschillende datatypes."
   ]
  },
  {
   "attachments": {},
   "cell_type": "markdown",
   "metadata": {},
   "source": [
    "```python\n",
    "def blaat(x, y):\n",
    "    return x + y\n",
    " \n",
    "\n",
    "print(blaat(\"test\", \"hanze\"))\n",
    "```"
   ]
  },
  {
   "attachments": {},
   "cell_type": "markdown",
   "metadata": {},
   "source": [
    "### None\n"
   ]
  },
  {
   "attachments": {},
   "cell_type": "markdown",
   "metadata": {},
   "source": [
    "```python\n",
    "def blaat(x, y):\n",
    "    result =  x + y\n",
    "    \n",
    "\n",
    "print(blaat(\"test\", \"hanze\"))\n",
    "```"
   ]
  },
  {
   "attachments": {},
   "cell_type": "markdown",
   "metadata": {},
   "source": [
    "`out : None`"
   ]
  },
  {
   "attachments": {},
   "cell_type": "markdown",
   "metadata": {},
   "source": [
    "None betekent niets, oftewel lege data. Mocht je None tegenkomen als output (komt vaak voor in combo met de TypeError) dan wordt dit vaak veroorzaakt doordat een functie niks returned. In dit voorbeeld wordt het resultaat wel berekent, maar niet teruggegeven door de functie. "
   ]
  },
  {
   "attachments": {},
   "cell_type": "markdown",
   "metadata": {},
   "source": [
    "Oplossing: return toevoegen zodat het resultaat wordt teruggegeven. "
   ]
  },
  {
   "attachments": {},
   "cell_type": "markdown",
   "metadata": {},
   "source": [
    "```python\n",
    "def blaat(x, y):\n",
    "    result =  x + y\n",
    "    return result\n",
    "    \n",
    "\n",
    "print(blaat(\"test\", \"hanze\"))\n",
    "```"
   ]
  },
  {
   "attachments": {},
   "cell_type": "markdown",
   "metadata": {},
   "source": [
    "## IndentationError"
   ]
  },
  {
   "attachments": {},
   "cell_type": "markdown",
   "metadata": {},
   "source": [
    "```python\n",
    "def blaat(x, y):\n",
    "    result =  x + y\n",
    "     return result\n",
    "    \n",
    "\n",
    "print(blaat(\"test\", \"hanze\"))\n",
    "```"
   ]
  },
  {
   "attachments": {},
   "cell_type": "markdown",
   "metadata": {},
   "source": [
    "`IndentationError: unexpected indent`"
   ]
  },
  {
   "attachments": {},
   "cell_type": "markdown",
   "metadata": {},
   "source": [
    "Python is heel gevoelig als het gaat om het gebruik van spaties en tabs aan het begin van een regel code. `IndentationError` geeft aan dat er een regel code uit lood ligt. In ons voorbeeld heeft de regel `return result` een spatie teveel. "
   ]
  },
  {
   "attachments": {},
   "cell_type": "markdown",
   "metadata": {},
   "source": [
    "Oplossing: Zorg ervoor dat alle code op de juiste lijn liggen. "
   ]
  },
  {
   "attachments": {},
   "cell_type": "markdown",
   "metadata": {},
   "source": [
    "```python\n",
    "def blaat(x, y):\n",
    "    result =  x + y\n",
    "    return result\n",
    "    \n",
    "\n",
    "print(blaat(\"test\", \"hanze\"))\n",
    "```"
   ]
  },
  {
   "attachments": {},
   "cell_type": "markdown",
   "metadata": {},
   "source": [
    "### None"
   ]
  },
  {
   "attachments": {},
   "cell_type": "markdown",
   "metadata": {},
   "source": [
    "```python\n",
    "def blaat(x, y):\n",
    "    if x < y :\n",
    "        z = x + 10\n",
    "    else :\n",
    "        z = y + 10\n",
    "        return z\n",
    "    \n",
    "\n",
    "print(blaat(5, 15))\n",
    "```"
   ]
  },
  {
   "attachments": {},
   "cell_type": "markdown",
   "metadata": {},
   "source": [
    "`Out: None`"
   ]
  },
  {
   "attachments": {},
   "cell_type": "markdown",
   "metadata": {},
   "source": [
    "De functie heeft een return statement en toch is de ouput `None` . De functie returns de waarde van `z` dus niet in dit voorbeeld. Dit wordt veroorzaakt door een indentation probleem. De return statement staat enkel in de else-blok.  "
   ]
  },
  {
   "attachments": {},
   "cell_type": "markdown",
   "metadata": {},
   "source": [
    "Oplossing: De return statement op de juiste lijn plaatsen zodat het buiten de else-blok valt en altijd uitgevoerd wordt aan het einde van de functie."
   ]
  },
  {
   "attachments": {},
   "cell_type": "markdown",
   "metadata": {},
   "source": [
    "```python\n",
    "def blaat(x, y):\n",
    "    if x < y :\n",
    "        z = x + 10\n",
    "    else :\n",
    "        z = y + 10\n",
    "    return z\n",
    "    \n",
    "\n",
    "print(blaat(5, 15))\n",
    "```"
   ]
  },
  {
   "attachments": {},
   "cell_type": "markdown",
   "metadata": {},
   "source": [
    "## Syntax Error"
   ]
  },
  {
   "attachments": {},
   "cell_type": "markdown",
   "metadata": {},
   "source": [
    "```python\n",
    "def blaat(x, y):\n",
    "    if x < y \n",
    "        z = x + 10\n",
    "    else :\n",
    "        z = y + 10\n",
    "    return z\n",
    "    \n",
    "\n",
    "print(blaat(5, 15))\n",
    "```"
   ]
  },
  {
   "attachments": {},
   "cell_type": "markdown",
   "metadata": {},
   "source": [
    "`SyntaxError: expected ':'`"
   ]
  },
  {
   "attachments": {},
   "cell_type": "markdown",
   "metadata": {},
   "source": [
    "`SyntaxError` geeft aan dat er een schrijffout in de code staat. In dit voorbeeld misser er dubbele puntjes bij de if statement. Gelukkig geven moderne code editors dit van te voren al aan met rode lijnen om aan te geven dat er iets mist. "
   ]
  },
  {
   "attachments": {},
   "cell_type": "markdown",
   "metadata": {},
   "source": [
    "Oplossing:  Schrijffouten opzoeken en repareren. In dit geval dus de dubbele puntjes op de juiste plaats zetten. "
   ]
  },
  {
   "attachments": {},
   "cell_type": "markdown",
   "metadata": {},
   "source": [
    "```python\n",
    "def blaat(x, y):\n",
    "    if x < y :\n",
    "        z = x + 10\n",
    "    else :\n",
    "        z = y + 10\n",
    "    return z\n",
    "    \n",
    "\n",
    "print(blaat(5, 15))\n",
    "```"
   ]
  },
  {
   "attachments": {},
   "cell_type": "markdown",
   "metadata": {},
   "source": [
    "## NameError"
   ]
  },
  {
   "attachments": {},
   "cell_type": "markdown",
   "metadata": {},
   "source": [
    "```python\n",
    "def blaat(x, y):\n",
    "    result =  a + b\n",
    "    return result\n",
    "    \n",
    "\n",
    "print(blaat(\"test\", \"hanze\"))\n",
    "```"
   ]
  },
  {
   "attachments": {},
   "cell_type": "markdown",
   "metadata": {},
   "source": [
    "`NameError: name 'a' is not defined`"
   ]
  },
  {
   "attachments": {},
   "cell_type": "markdown",
   "metadata": {},
   "source": [
    "`NameError` geeft aan dat er een variable wordt aangeroepen dat niet bestaat. Computers kunnen slecht omgaan met typefouten en zijn hoofdletter gevoelig als het gaat om namen van functies en variabelen.  Of het kan een functie zijn dat niet is gedefineerd, bijvoorbeeld omdat de functie aanroep boven de functie zelf staat. \n",
    "\n",
    "Moderne code editors geven aan wanneer een gebruikte variabele of functie onbekend is. "
   ]
  },
  {
   "attachments": {},
   "cell_type": "markdown",
   "metadata": {},
   "source": [
    "Oplossing: De `a` en `b` aanpassen naar `x` en `y`"
   ]
  },
  {
   "attachments": {},
   "cell_type": "markdown",
   "metadata": {},
   "source": [
    "```python\n",
    "def blaat(x, y):\n",
    "    result =  x + y\n",
    "    return result\n",
    "    \n",
    "\n",
    "print(blaat(\"test\", \"hanze\"))\n",
    "```"
   ]
  }
 ],
 "metadata": {
  "kernelspec": {
   "display_name": "Python 3 (ipykernel)",
   "language": "python",
   "name": "python3"
  },
  "language_info": {
   "codemirror_mode": {
    "name": "ipython",
    "version": 3
   },
   "file_extension": ".py",
   "mimetype": "text/x-python",
   "name": "python",
   "nbconvert_exporter": "python",
   "pygments_lexer": "ipython3",
   "version": "3.9.5"
  }
 },
 "nbformat": 4,
 "nbformat_minor": 4
}
