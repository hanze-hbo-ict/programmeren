{
 "cells": [
  {
   "cell_type": "markdown",
   "metadata": {
    "slideshow": {
     "slide_type": "slide"
    }
   },
   "source": [
    "# Binaire getallen"
   ]
  },
  {
   "cell_type": "markdown",
   "metadata": {
    "slideshow": {
     "slide_type": "subslide"
    }
   },
   "source": [
    "## Hoe zijn gegevens opgeslagen?\n",
    "\n",
    "![ASCII](images/9/ascii.png)\n",
    "\n",
    "* *Dezelfde* bits kunnen een andere waarde *representeren*, afhankelijk van het *type*!"
   ]
  },
  {
   "cell_type": "markdown",
   "metadata": {
    "slideshow": {
     "slide_type": "notes"
    }
   },
   "source": [
    "Laten we eerst kijken hoe karakters worden gerepresenteerd door een computer. De computer kent alleen maar bytes (8 opeenvolgende bits) dus hoe kan het karakters als A, B en C opslaan? Dit kan een computer niet en er is een vertaaltabel nodig om van bits naar karakters te komen en vice versa. De [ASCII](https://nl.wikipedia.org/wiki/ASCII_(tekenset)) tekenset is zo'n vertaaltabel."
   ]
  },
  {
   "cell_type": "markdown",
   "metadata": {
    "slideshow": {
     "slide_type": "slide"
    }
   },
   "source": [
    "## ASCII\n",
    "\n",
    "American Standard Code for Information Interchange\n",
    "\n",
    "![ASCII](images/7/ascii_0.png)"
   ]
  },
  {
   "cell_type": "markdown",
   "metadata": {
    "slideshow": {
     "slide_type": "notes"
    }
   },
   "source": [
    "Je zult later zien dat je decimale getallen kan omzetten naar een binaire representatie en in dit voorbeeld staat 67 decimaal gelijk aan 1000011 binair (bits!). Het karakter dat volgens de tabel bij deze waarde hoort is het karakter C."
   ]
  },
  {
   "cell_type": "markdown",
   "metadata": {
    "slideshow": {
     "slide_type": "subslide"
    }
   },
   "source": [
    "![ASCII decimal](images/7/ascii_2.png)"
   ]
  },
  {
   "cell_type": "markdown",
   "metadata": {
    "slideshow": {
     "slide_type": "notes"
    }
   },
   "source": [
    "Je ziet dat *dezelfde* bits zowel een integer (decimaal) of string (teken) kunnen representeren, afhankelijk van het *type*: `int` of `str`. Anders gezegd, het type bepaalt of de binaire waarde (de bits) een getal vertegenwoordigen waar bijvoorbeeld mee gerekend kan worden of een karakter dat op scherm kan worden geprint: het type bepaalt de *context* van gebruik."
   ]
  },
  {
   "cell_type": "markdown",
   "metadata": {
    "slideshow": {
     "slide_type": "subslide"
    }
   },
   "source": [
    "![Binary box](images/7/box_binary.png)"
   ]
  },
  {
   "cell_type": "markdown",
   "metadata": {
    "slideshow": {
     "slide_type": "notes"
    }
   },
   "source": [
    "Denk terug aan de \"dozen\" die we hebben gebruikt om een voorstelling te maken van wat zich in het geheugen van een computer afspeelt en met wat we nu weten kunnen we dit beeld gaan aanpassen. De \"inhoud\" van een doos zijn de bits, zoveel is nu wel duidelijk. De inhoud van verschillende dozen kan hetzelfde zijn maar het type bepaalt de representatie, bijvoorbeeld of het integer met waarde 67 of een string met waarde \"C\" is.\n",
    "\n",
    "De naam van een waarde (variabele) maakt dus ook niet uit, je weet inmiddels dat je (bijna) elke naam voor een variabele mag kiezen en het is niets meer dan een verwijzing naar de waarde die voor jou betekenis heeft (en je zult misschien hebben gemerkt dat het kiezen van een betekenisvolle naam niet altijd eenvoudig is!)."
   ]
  },
  {
   "cell_type": "markdown",
   "metadata": {
    "slideshow": {
     "slide_type": "subslide"
    }
   },
   "source": [
    "## Decimale computers\n",
    "\n",
    "* Computers werken op stroom 😱"
   ]
  },
  {
   "cell_type": "markdown",
   "metadata": {
    "slideshow": {
     "slide_type": "fragment"
    }
   },
   "source": [
    "* Dus moet je je getallen *representeren* met voltages."
   ]
  },
  {
   "cell_type": "markdown",
   "metadata": {
    "slideshow": {
     "slide_type": "fragment"
    }
   },
   "source": [
    "![10 voltages](images/9/10colors.png)"
   ]
  },
  {
   "cell_type": "markdown",
   "metadata": {
    "slideshow": {
     "slide_type": "fragment"
    }
   },
   "source": [
    "* Dat is lastig, zeker op schaal: welke waardes zijn dit bijvoorbeeld?\n",
    "\n",
    "![Welke voltages?](images/9/4colors.png)"
   ]
  },
  {
   "cell_type": "markdown",
   "metadata": {
    "slideshow": {
     "slide_type": "subslide"
    }
   },
   "source": [
    "## Binaire computers\n",
    "\n",
    "* Binaire getallen maken dit veel makkelijker:\n",
    "\n",
    "![2 voltages](images/9/2colors.png)"
   ]
  },
  {
   "cell_type": "markdown",
   "metadata": {
    "slideshow": {
     "slide_type": "fragment"
    }
   },
   "source": [
    "* Kijk maar:\n",
    "\n",
    "![Welke voltages?](images/9/2colors-2.png)"
   ]
  },
  {
   "cell_type": "markdown",
   "metadata": {
    "slideshow": {
     "slide_type": "subslide"
    }
   },
   "source": [
    "## Ternaire computers\n",
    "\n",
    "* Ternaire computers hebben ook bestaan!\n",
    "\n",
    "![Setun-computer](images/9/setun.jpg)\n",
    "\n",
    "* Deze maakte gebruik van 'balanced ternary' (zie ook het huiswerk) door negatieve en positieve voltages te onderscheiden."
   ]
  },
  {
   "cell_type": "markdown",
   "metadata": {
    "slideshow": {
     "slide_type": "slide"
    }
   },
   "source": [
    "## Binair stelsel\n",
    "\n",
    "* Van rechts naar links *representeert* elk binair cijfer een steeds grotere macht van 2.\n",
    "\n",
    "![101010](images/9/101010.png)\n",
    "\n",
    "$$101010_2 = 1 \\cdot 32 + 0 \\cdot 16 + 1 \\cdot 8 + 0 \\cdot 4 + 1 \\cdot 2 + 0 \\cdot 1 = 42$$"
   ]
  },
  {
   "cell_type": "markdown",
   "metadata": {
    "slideshow": {
     "slide_type": "subslide"
    }
   },
   "source": [
    "### Binaire \"cijfers\"\n",
    "\n",
    "* In het **decimale** stelsel heten tekens **cijfers** (Engels: **digits**)\n",
    "* Een getal kan meerdere cijfers bevatten."
   ]
  },
  {
   "cell_type": "markdown",
   "metadata": {
    "slideshow": {
     "slide_type": "fragment"
    }
   },
   "source": [
    "* In het **binaire** stelsel heten tekens **bits** (\"binary digits\")\n",
    "* Een getal met 8 bits wordt een **byte** of **octet** genoemd"
   ]
  },
  {
   "cell_type": "markdown",
   "metadata": {
    "slideshow": {
     "slide_type": "fragment"
    }
   },
   "source": [
    "![Binary digit](images/9/bit.png)"
   ]
  },
  {
   "cell_type": "markdown",
   "metadata": {
    "slideshow": {
     "slide_type": "slide"
    },
    "tags": []
   },
   "source": [
    "## Decimale getallen omzetten naar binaire getallen\n",
    "\n",
    "* Stel we willen het getal 141 van decimaal naar binair omzetten\n",
    "* De eerste stap is lastig als we **van links naar rechts** omzetten. *Waarom?*"
   ]
  },
  {
   "cell_type": "markdown",
   "metadata": {
    "slideshow": {
     "slide_type": "fragment"
    }
   },
   "source": [
    "* Omdat we niet weten bij welke macht van twee we moeten beginnen!"
   ]
  },
  {
   "cell_type": "markdown",
   "metadata": {
    "slideshow": {
     "slide_type": "subslide"
    }
   },
   "source": [
    "### Een betere aanpak: van rechts naar links!\n",
    "\n",
    "* Wat zou de meest rechter bit van de binaire versie van 141 zijn?\n",
    "* En de twee meest rechtse bits?"
   ]
  },
  {
   "cell_type": "markdown",
   "metadata": {
    "slideshow": {
     "slide_type": "fragment"
    }
   },
   "source": [
    "* Alle machten van twee, **behalve 1**, zijn **even**! (Waarom?)\n",
    "* 141 is oneven, dus **moet** de laatste bit een 1 zijn! Die stelt immers de eenheden voor."
   ]
  },
  {
   "cell_type": "markdown",
   "metadata": {
    "slideshow": {
     "slide_type": "subslide"
    }
   },
   "source": [
    "### Een algoritme!\n",
    "\n",
    "$$\n",
    "\\begin{aligned}\n",
    "141 &=\\; ... + a_3 \\cdot 8 + a_2 \\cdot 4 + a_1 \\cdot 2 + 1 \\cdot 1 \\\\\n",
    "140 &=\\; ... + a_3 \\cdot 8 + a_2 \\cdot 4 + a_1 \\cdot 2 \\\\\n",
    "70 &=\\; ... + a_3 \\cdot 4 + a_2 \\cdot 2 + a_1 \\cdot 1 \\\\\n",
    "\\end{aligned}\n",
    "$$"
   ]
  },
  {
   "cell_type": "markdown",
   "metadata": {
    "slideshow": {
     "slide_type": "fragment"
    }
   },
   "source": [
    "![Recursie!](images/8/simpsons.gif)"
   ]
  },
  {
   "cell_type": "markdown",
   "metadata": {
    "slideshow": {
     "slide_type": "subslide"
    }
   },
   "source": [
    "### Het algoritme uitwerken\n",
    "\n",
    "* We kunnen dus 141 binair schrijven, *als* we 70 binair kunnen schrijven\n",
    "* Hier zie je het recursieve geval!"
   ]
  },
  {
   "cell_type": "markdown",
   "metadata": {
    "slideshow": {
     "slide_type": "fragment"
    }
   },
   "source": [
    "* Als het getal op 1 eindigt, eindigt het binaire getal ook op 1\n",
    "* Als het getal op 0 eindigt, eindigt het binaire getal ook op 0\n",
    "* En we hebben de binaire versie van het getal **gedeeld door 2** nodig."
   ]
  },
  {
   "cell_type": "markdown",
   "metadata": {
    "slideshow": {
     "slide_type": "fragment"
    }
   },
   "source": [
    "* Wat is nu het basisgeval?\n",
    "* Als we 0 binair willen schrijven, schrijven we het als een lege string"
   ]
  },
  {
   "cell_type": "markdown",
   "metadata": {
    "slideshow": {
     "slide_type": "fragment"
    }
   },
   "source": [
    "* Dit klinkt gek, maar licht ik zo toe!"
   ]
  },
  {
   "cell_type": "markdown",
   "metadata": {
    "slideshow": {
     "slide_type": "subslide"
    }
   },
   "source": [
    "### En nu in code\n",
    "\n",
    "```python\n",
    "def num_to_binary(n):\n",
    "    \"\"\"Converts a value to binary.\"\"\"\n",
    "    if n == 0:\n",
    "        return ...\n",
    "    elif ...:\n",
    "        return ...\n",
    "    else:\n",
    "        return ...\n",
    "```\n",
    "\n",
    "* We hebben een basisgeval nodig, en we moeten een keuze maken: is het getal even of oneven\n",
    "* En wat is in die twee gevallen het resultaat?"
   ]
  },
  {
   "cell_type": "markdown",
   "metadata": {
    "slideshow": {
     "slide_type": "subslide"
    }
   },
   "source": [
    "### Uitgewerkt in code\n",
    "\n",
    "```python\n",
    "def num_to_binary(n):\n",
    "    \"\"\"Converts a value to binary.\"\"\"\n",
    "    if n == 0:\n",
    "        # een lege string als basisgeval\n",
    "        return '' \n",
    "    elif n % 2 == 1: # is n oneven?\n",
    "        # neem dan de binaire waarde van de helft, met een 1 er achter\n",
    "        return num_to_binary(n // 2) + '1'\n",
    "    else:\n",
    "        # neem anders de binaire waarde van de helft, met een 0 er achter\n",
    "        return num_to_binary(n // 2) + '0'\n",
    "```"
   ]
  },
  {
   "cell_type": "markdown",
   "metadata": {
    "slideshow": {
     "slide_type": "fragment"
    }
   },
   "source": [
    "* Dit is overigens één van de practica-opdrachten; you're welcome 🙃\n",
    "* In de herhaling: waarom is het basisgeval een lege string?"
   ]
  },
  {
   "cell_type": "markdown",
   "metadata": {
    "slideshow": {
     "slide_type": "notes"
    }
   },
   "source": [
    "Omdat anders de recursie minder goed werkt: dan zou je altijd een 0 aan het begin van je resultaat krijgen."
   ]
  }
 ],
 "metadata": {
  "kernelspec": {
   "display_name": "Python 3 (ipykernel)",
   "language": "python",
   "name": "python3"
  },
  "language_info": {
   "codemirror_mode": {
    "name": "ipython",
    "version": 3
   },
   "file_extension": ".py",
   "mimetype": "text/x-python",
   "name": "python",
   "nbconvert_exporter": "python",
   "pygments_lexer": "ipython3",
   "version": "3.9.5"
  }
 },
 "nbformat": 4,
 "nbformat_minor": 4
}
