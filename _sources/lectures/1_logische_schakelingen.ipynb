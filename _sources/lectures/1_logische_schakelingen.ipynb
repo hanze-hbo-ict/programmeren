{
 "cells": [
  {
   "attachments": {},
   "cell_type": "markdown",
   "metadata": {
    "editable": true,
    "slideshow": {
     "slide_type": "slide"
    },
    "tags": []
   },
   "source": [
    "# Logische schakelingen "
   ]
  },
  {
   "cell_type": "markdown",
   "metadata": {
    "editable": true,
    "slideshow": {
     "slide_type": "notes"
    },
    "tags": []
   },
   "source": [
    "In werkelijkheid werkt een computer niet met de getallen 1 en 0. Het wordt gebruikt als representatie. De 1 en 0 staat voor aan of uit (stroom), voor wel of geen pit (cd). Dit is wat de computer kan begrijpen en om als mens te laten zien hoe de computer intern werkt, gebruiken we 0-en en 1-en. Om data te kunnen manipuleren en instructies uit te voeren gebruikt een computer elektrische schakelingen. Gezien dit niet de studie electric engineering is, gaan we aan de slag met logische schakelingen. Dit is enkel een representatie hoe de schakelingen van een computer werken op een logische niveau. Op deze manier hoeft er geen rekening mee gehoude worden of de stroomkring wel rond is, waar de batterij is, etc."
   ]
  },
  {
   "attachments": {},
   "cell_type": "markdown",
   "metadata": {
    "editable": true,
    "slideshow": {
     "slide_type": "subslide"
    },
    "tags": []
   },
   "source": [
    "## Drie belangrijke schakelingen.\n",
    "\n",
    "Het ontwerp van fysieke apparaten die altijd werken kan met behulp van maar 3 schakelingen: `and`, `or` en `not`.\n",
    "\n",
    "Wat zijn mogelijke uitkomsten voor `and`, `or` en `not`? Dit kan uitgebeeld worden in waarheidstabellen. In dit soort tabellen wordt aangegeven wat de uitput is bij een gegeven input. "
   ]
  },
  {
   "cell_type": "markdown",
   "metadata": {
    "editable": true,
    "slideshow": {
     "slide_type": "subslide"
    },
    "tags": []
   },
   "source": [
    "### `AND`\n",
    "\n",
    "|       | input | output        |\n",
    "|-------|-------|---------------|\n",
    "| **x** | **y** | **AND(x, y)** |\n",
    "|  `0`  |  `0`  |      `0`      |\n",
    "|  `0`  |  `1`  |      `0`      |\n",
    "|  `1`  |  `0`  |      `0`      |\n",
    "|  `1`  |  `1`  |      `1`      |"
   ]
  },
  {
   "cell_type": "markdown",
   "metadata": {
    "editable": true,
    "slideshow": {
     "slide_type": "fragment"
    },
    "tags": []
   },
   "source": [
    "De output van AND is 1 als ALLE inputs gelijk aan zijn aan 1."
   ]
  },
  {
   "cell_type": "markdown",
   "metadata": {
    "editable": true,
    "slideshow": {
     "slide_type": "fragment"
    },
    "tags": []
   },
   "source": [
    "![AND gate](images/11/AND_gate.png)"
   ]
  },
  {
   "cell_type": "markdown",
   "metadata": {
    "editable": true,
    "slideshow": {
     "slide_type": "subslide"
    },
    "tags": []
   },
   "source": [
    "### ``OR``\n",
    "\n",
    "|       | input | output       |\n",
    "|-------|-------|--------------|\n",
    "| **x** | **y** | **OR(x, y)** |\n",
    "|  `0`  |  `0`  |      `0`     |\n",
    "|  `0`  |  `1`  |      `1`     |\n",
    "|  `1`  |  `0`  |      `1`     |\n",
    "|  `1`  |  `1`  |      `1`     |"
   ]
  },
  {
   "cell_type": "markdown",
   "metadata": {
    "slideshow": {
     "slide_type": "fragment"
    }
   },
   "source": [
    "De output van OR is 1 als MINSTENS één input gelijk is aan 1. "
   ]
  },
  {
   "cell_type": "markdown",
   "metadata": {
    "editable": true,
    "slideshow": {
     "slide_type": "fragment"
    },
    "tags": []
   },
   "source": [
    "![OR gate](images/11/OR_gate.png)"
   ]
  },
  {
   "cell_type": "markdown",
   "metadata": {
    "editable": true,
    "slideshow": {
     "slide_type": "subslide"
    },
    "tags": []
   },
   "source": [
    "### `NOT`\n",
    "\n",
    "| input | output     |\n",
    "|-------|------------|\n",
    "| **x** | **NOT(x)** |\n",
    "|  `0`  |     `1`    |\n",
    "|  `1`  |     `0`    |"
   ]
  },
  {
   "cell_type": "markdown",
   "metadata": {
    "slideshow": {
     "slide_type": "fragment"
    }
   },
   "source": [
    "De output van NOT is de omkering van de input."
   ]
  },
  {
   "cell_type": "markdown",
   "metadata": {
    "editable": true,
    "slideshow": {
     "slide_type": "fragment"
    },
    "tags": []
   },
   "source": [
    "![NOT gate](images/11/NOT_gate.png)"
   ]
  },
  {
   "attachments": {},
   "cell_type": "markdown",
   "metadata": {
    "editable": true,
    "slideshow": {
     "slide_type": "subslide"
    },
    "tags": []
   },
   "source": [
    "## Boolean Logica\n",
    "Bij Booelaanse logica maak je ook gebruik van 3 operatoren genaamd and , or en not en zijn er ook maar twee antwoorden mogelijk namelijk True of False. Dit wordt gebruikt binnen het programmeren om aan de computer uit te leggen welke instructies wel of niet uitgevoerd moeten worden. De and, or en not gaan we nog vaak terugzien. \n"
   ]
  },
  {
   "cell_type": "markdown",
   "metadata": {
    "editable": true,
    "slideshow": {
     "slide_type": "slide"
    },
    "tags": []
   },
   "source": [
    "## Schakelingen\n",
    "\n",
    "Het ontwerp van fysieke apparaten die altijd werken"
   ]
  },
  {
   "cell_type": "markdown",
   "metadata": {
    "editable": true,
    "slideshow": {
     "slide_type": "fragment"
    },
    "tags": []
   },
   "source": [
    "In een computer wordt elk bit gerepresenteerd door een voltage\n",
    "\n",
    "- **1** is 5 volt\n",
    "- **0** is 0 volt"
   ]
  },
  {
   "cell_type": "markdown",
   "metadata": {
    "editable": true,
    "slideshow": {
     "slide_type": "notes"
    },
    "tags": []
   },
   "source": [
    "Berekeningen zijn het *bewust combineren* van deze voltages."
   ]
  },
  {
   "cell_type": "markdown",
   "metadata": {
    "editable": true,
    "slideshow": {
     "slide_type": "subslide"
    },
    "tags": []
   },
   "source": [
    "![ADDER circuit](images/11/adder_circuit.png)"
   ]
  },
  {
   "cell_type": "markdown",
   "metadata": {
    "editable": true,
    "slideshow": {
     "slide_type": "subslide"
    },
    "tags": []
   },
   "source": [
    "## Berekeningen\n",
    "\n",
    "Alle berekeningen zijn functies van bits, of *booleaanse* waarden\n",
    "\n",
    "|       | input | output       |\n",
    "|-------|-------|--------------|\n",
    "| **x** | **y** | **fn(x, y)** |\n",
    "|  `0`  |  `0`  |      `0`     |\n",
    "|  `0`  |  `1`  |      `1`     |\n",
    "|  `1`  |  `0`  |      `1`     |\n",
    "|  `1`  |  `1`  |      `0`     |\n",
    "\n",
    "- Boolean *inputs* x en y kunnen alleen **0** of **1** zijn (`True` of `False`)\n",
    "- Boolean functies kunnen alleen **0** of **1** (`True` of `False`) als *output* hebben"
   ]
  },
  {
   "cell_type": "markdown",
   "metadata": {
    "slideshow": {
     "slide_type": "subslide"
    }
   },
   "source": [
    "### Logisim"
   ]
  },
  {
   "cell_type": "markdown",
   "metadata": {
    "editable": true,
    "slideshow": {
     "slide_type": "subslide"
    },
    "tags": []
   },
   "source": [
    "![Logisim](images/11/logisim_evolution.png)"
   ]
  },
  {
   "attachments": {},
   "cell_type": "markdown",
   "metadata": {
    "editable": true,
    "slideshow": {
     "slide_type": "notes"
    },
    "tags": []
   },
   "source": [
    "- Logisim voor het maken van de logische schakelingen\n",
    "- Moeilijk? Bedenk dat je niet meer dan AND, OR en NOT nodig hebt om alles te kunnen berekenen!"
   ]
  },
  {
   "cell_type": "markdown",
   "metadata": {
    "editable": true,
    "jp-MarkdownHeadingCollapsed": true,
    "slideshow": {
     "slide_type": "subslide"
    },
    "tags": []
   },
   "source": [
    "### Schakelingen en connecties\n",
    "\n",
    "![Logisim plain](images/11/logisim_plain.png)"
   ]
  },
  {
   "cell_type": "markdown",
   "metadata": {},
   "source": [
    "### Rails variant"
   ]
  },
  {
   "cell_type": "markdown",
   "metadata": {
    "editable": true,
    "slideshow": {
     "slide_type": "subslide"
    },
    "tags": []
   },
   "source": [
    "![Logisim rails](images/11/logisim_rails.png)"
   ]
  },
  {
   "cell_type": "markdown",
   "metadata": {
    "slideshow": {
     "slide_type": "slide"
    }
   },
   "source": [
    "## Quiz"
   ]
  },
  {
   "cell_type": "markdown",
   "metadata": {
    "slideshow": {
     "slide_type": "subslide"
    }
   },
   "source": [
    "![Logisim quiz](images/11/logisim_4_and_or.png)"
   ]
  },
  {
   "cell_type": "markdown",
   "metadata": {
    "editable": true,
    "slideshow": {
     "slide_type": "skip"
    },
    "tags": []
   },
   "source": [
    "1.  Dit circuit telt 8 logische schakelingen. Hoeveel schakelingen tel je voor\n",
    "    - AND\n",
    "    - OR\n",
    "    - NOT\n",
    "2.  Volg A omhoog. Voor welke x, y en c bits geeft A als output 1?"
   ]
  },
  {
   "cell_type": "markdown",
   "metadata": {
    "slideshow": {
     "slide_type": "subslide"
    }
   },
   "source": [
    "### Oplossing"
   ]
  },
  {
   "cell_type": "markdown",
   "metadata": {
    "editable": true,
    "slideshow": {
     "slide_type": "subslide"
    },
    "tags": []
   },
   "source": [
    "|       | input |       |            | output   |\n",
    "|-------|-------|-------|------------|----------|\n",
    "| **x** | **y** | **c** | **output** | **gate** |\n",
    "|  `0`  |  `0`  |  `0`  |     `0`    |          |\n",
    "|  `0`  |  `0`  |  `1`  |     `0`    |          |\n",
    "|  `0`  |  `1`  |  `0`  |     `1`    |     A    |\n",
    "|  `0`  |  `1`  |  `1`  |     `1`    |     B    |\n",
    "|  `1`  |  `0`  |  `0`  |     `0`    |          |\n",
    "|  `1`  |  `0`  |  `1`  |     `1`    |     C    |\n",
    "|  `1`  |  `1`  |  `0`  |     `0`    |          |\n",
    "|  `1`  |  `1`  |  `1`  |     `1`    |     D    |"
   ]
  },
  {
   "cell_type": "markdown",
   "metadata": {
    "slideshow": {
     "slide_type": "fragment"
    }
   },
   "source": [
    "1. Het circuit telt 4 AND, 1 OR en 3 NOT schakelingen\n",
    "2. Zie de waarheidstabel voor alle mogelijke uitkomsten"
   ]
  },
  {
   "attachments": {},
   "cell_type": "markdown",
   "metadata": {
    "editable": true,
    "slideshow": {
     "slide_type": "slide"
    },
    "tags": []
   },
   "source": [
    "## Bewering\n",
    "\n",
    "Met de bouwstenen AND, OR en NOT kan *alles* worden berekend!\n"
   ]
  },
  {
   "attachments": {},
   "cell_type": "markdown",
   "metadata": {
    "slideshow": {
     "slide_type": "subslide"
    }
   },
   "source": [
    "**Stap 1: Probeer** \n",
    "\n",
    "Probeer het probleem eerst op te lossen op papier. In het geval van schakelingen kan dit handig in een waarheidstabel. In zo'n tabel wordt voor elke mogelijke input een ouput aangegeven. "
   ]
  },
  {
   "cell_type": "markdown",
   "metadata": {
    "slideshow": {
     "slide_type": "fragment"
    }
   },
   "source": [
    "|   |       | input | output       |\n",
    "|---|-------|-------|--------------|\n",
    "|   | **x** | **y** | **fn(x, y)** |\n",
    "| A |  `0`  |  `0`  |      `0`     |\n",
    "| B |  `0`  |  `1`  |      `1`     |\n",
    "| C |  `1`  |  `0`  |      `1`     |\n",
    "| D |  `1`  |  `1`  |      `0`     |"
   ]
  },
  {
   "attachments": {},
   "cell_type": "markdown",
   "metadata": {
    "slideshow": {
     "slide_type": "subslide"
    }
   },
   "source": [
    "**Stap 2: Plan**\n",
    "\n",
    "Zet de aanpak in papier."
   ]
  },
  {
   "attachments": {},
   "cell_type": "markdown",
   "metadata": {
    "slideshow": {
     "slide_type": "fragment"
    }
   },
   "source": [
    "Maak voor elke rij waar de output gelijk moet zijn aan 1 een AND circuit\n",
    "\n",
    "|   |       | input | output       |\n",
    "|---|-------|-------|--------------|\n",
    "|   | **x** | **y** | **fn(x, y)** |\n",
    "| A |  `0`  |  `0`  |      `0`     |\n",
    "| **B** |  `0`  |  `1`  |      `1`     |\n",
    "| C |  `1`  |  `0`  |      `1`     |\n",
    "| D |  `1`  |  `1`  |      `0`     |\n",
    "\n",
    "**B**: (NOT x) AND y\n",
    "\n",
    "**C**: x AND (NOT y)\n",
    "\n",
    "Combineer daarna expressies met OR\n",
    "\n",
    "((NOT x) AND y) OR (x AND (NOT y))\n"
   ]
  },
  {
   "attachments": {},
   "cell_type": "markdown",
   "metadata": {},
   "source": [
    "**Stap 3: Uitvoeren**\n",
    "\n",
    "Nu er een plan is, kan deze uitgevoerd worden."
   ]
  },
  {
   "attachments": {},
   "cell_type": "markdown",
   "metadata": {
    "slideshow": {
     "slide_type": "subslide"
    }
   },
   "source": [
    "Zet de expressie voor **B** om naar een circuit\n",
    "\n",
    "**B**: (NOT x) AND y\n",
    "\n",
    "\n",
    "![Minterm B](images/11/minterm_and_b.png)"
   ]
  },
  {
   "attachments": {},
   "cell_type": "markdown",
   "metadata": {
    "slideshow": {
     "slide_type": "subslide"
    }
   },
   "source": [
    "Zet de expressie voor **C** om naar een circuit\n",
    "\n",
    "**C**: x AND (NOT y)\n",
    "\n",
    "![Minterm C](images/11/minterm_and_c.png)"
   ]
  },
  {
   "attachments": {},
   "cell_type": "markdown",
   "metadata": {
    "slideshow": {
     "slide_type": "subslide"
    }
   },
   "source": [
    "Combineer de expressies met OR\n",
    "\n",
    "![Minterm OR](images/11/minterm_b_or_c.png)"
   ]
  },
  {
   "attachments": {},
   "cell_type": "markdown",
   "metadata": {
    "slideshow": {
     "slide_type": "subslide"
    }
   },
   "source": [
    "## Bewijs\n",
    "\n",
    "Dit bewijs dat alles met and, or en not berekend kan worden heeft de naam minterm expansion principe. "
   ]
  },
  {
   "attachments": {},
   "cell_type": "markdown",
   "metadata": {},
   "source": [
    "Het creeren van een logische schakeling loopt gelijk aan een methode voor programmeren. Namelijk eerst oplossingen proberen, als de oplossing is gevonden dan deze oplossing omzetten in stappen en vervolgens deze stappen omzetten naar een programmeer taal. Dit kan gezien worden als de drie p's van programmeren. \n",
    "\n",
    "De drie p's van programmeren: \n",
    "- **Probeer**: Probeer het probleem op te lossen op papier.\n",
    "- **Plan**: Noteer de stappen die zijn gebruikt om het probleem op te lossen. \n",
    "- **Programmeer**: Vertaal de stappen naar een programmeer taal. "
   ]
  },
  {
   "cell_type": "markdown",
   "metadata": {
    "slideshow": {
     "slide_type": "slide"
    }
   },
   "source": [
    "## Een concreet voorbeeld\n",
    "\n",
    "Een *less than or equal* circuit `<=`"
   ]
  },
  {
   "cell_type": "markdown",
   "metadata": {
    "slideshow": {
     "slide_type": "fragment"
    }
   },
   "source": [
    "De output van `fn(x,y)` moet 1 zijn indien `x <= y`, anders 0"
   ]
  },
  {
   "attachments": {},
   "cell_type": "markdown",
   "metadata": {
    "slideshow": {
     "slide_type": "subslide"
    }
   },
   "source": [
    "### Stap 1: Proberen\n",
    "\n",
    "Maak een waarheidstabel\n",
    "\n",
    "|   |       | input | output   |\n",
    "|---|-------|-------|----------|\n",
    "|   | **x** | **y** | `x <= y` |\n",
    "| **A** |  `0`  |  `0`  |    `1`   |\n",
    "| **B** |  `0`  |  `1`  |    `1`   |\n",
    "| C |  `1`  |  `0`  |    `0`   |\n",
    "| **D** |  `1`  |  `1`  |    `1`   |"
   ]
  },
  {
   "attachments": {},
   "cell_type": "markdown",
   "metadata": {
    "slideshow": {
     "slide_type": "subslide"
    }
   },
   "source": [
    "### Stap 2: Plan\n",
    "\n",
    "|   |       | input | output   |\n",
    "|---|-------|-------|----------|\n",
    "|   | **x** | **y** | `x <= y` |\n",
    "| **A** |  `0`  |  `0`  |    `1`   |\n",
    "| **B** |  `0`  |  `1`  |    `1`   |\n",
    "| C |  `1`  |  `0`  |    `0`   |\n",
    "| **D** |  `1`  |  `1`  |    `1`   |\n",
    "\n",
    "Op basis van de waarheidstabel kan de volgende expressie worden afgeleid voor **A**, **B** en **D** (de outputs met waarde 1)\n",
    "\n",
    "**A**: (NOT x) AND (NOT y)\n",
    "\n",
    "**B**: (NOT x) AND y\n",
    "\n",
    "**C**: x AND y\n",
    "\n",
    "Combineer daarna expressies met OR\n",
    "\n",
    "((NOT x) AND (NOT y)) OR ((NOT x) AND y) OR (x AND y)"
   ]
  },
  {
   "attachments": {},
   "cell_type": "markdown",
   "metadata": {
    "slideshow": {
     "slide_type": "subslide"
    }
   },
   "source": [
    "### Stap 3: Plan uitvoeren\n",
    "\n",
    "Op basis van de expressie\n",
    "\n",
    "((NOT x) AND (NOT y)) OR ((NOT x) AND y) OR (x AND y)"
   ]
  },
  {
   "cell_type": "markdown",
   "metadata": {
    "slideshow": {
     "slide_type": "fragment"
    }
   },
   "source": [
    "kan het volgende circuit worden opgesteld\n",
    "\n",
    "![Minterm GTE function](images/11/minterm_gte_function.png)"
   ]
  },
  {
   "attachments": {},
   "cell_type": "markdown",
   "metadata": {
    "slideshow": {
     "slide_type": "subslide"
    }
   },
   "source": [
    "## Recept\n",
    "\n",
    "1. Probeer: Check alle inputs en schrijf de uitkomsten in een waarheidstabel\n",
    "2. Plan: Stel de expressie op\n",
    "3. Uitvoeren: Zet de expressie om naar een circuit"
   ]
  }
 ],
 "metadata": {
  "kernelspec": {
   "display_name": "Python 3 (ipykernel)",
   "language": "python",
   "name": "python3"
  },
  "language_info": {
   "codemirror_mode": {
    "name": "ipython",
    "version": 3
   },
   "file_extension": ".py",
   "mimetype": "text/x-python",
   "name": "python",
   "nbconvert_exporter": "python",
   "pygments_lexer": "ipython3",
   "version": "3.11.4"
  }
 },
 "nbformat": 4,
 "nbformat_minor": 4
}
