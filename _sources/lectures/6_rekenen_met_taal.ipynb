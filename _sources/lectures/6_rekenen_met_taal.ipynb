{
 "cells": [
  {
   "cell_type": "markdown",
   "metadata": {
    "slideshow": {
     "slide_type": "slide"
    }
   },
   "source": [
    "# Rekenen met taal"
   ]
  },
  {
   "cell_type": "markdown",
   "metadata": {
    "slideshow": {
     "slide_type": "subslide"
    }
   },
   "source": [
    "## Taal \n",
    "\n",
    "🌍 ideeën, meningen\n",
    "\n",
    "👄 natuurlijke taal, woorden, zinnen\n",
    "\n",
    "🐍 strings (Python)\n",
    "\n",
    "💻 getallen, bits (computer)"
   ]
  },
  {
   "cell_type": "markdown",
   "metadata": {
    "slideshow": {
     "slide_type": "subslide"
    }
   },
   "source": [
    "### Van `str`ings naat bits\n",
    "\n",
    "Van 🐍 strings naar 💻 bits gaan we straks naar kijken"
   ]
  },
  {
   "cell_type": "markdown",
   "metadata": {
    "slideshow": {
     "slide_type": "subslide"
    }
   },
   "source": [
    "### Van `str`ings naar natuurlijk taal\n",
    "\n",
    "Van 🐍 strings naar 👄 natuurlijke taal\n",
    "\n",
    "> kan je bepalen hoe \"Nederlandstalig\" een string is?\n",
    "\n",
    "Natural language processing (NLP)"
   ]
  },
  {
   "cell_type": "markdown",
   "metadata": {
    "slideshow": {
     "slide_type": "notes"
    }
   },
   "source": [
    "We gaan straks zien hoe we *rekenkundig* Nederlandstaligheid kunnen bepalen."
   ]
  },
  {
   "cell_type": "markdown",
   "metadata": {
    "slideshow": {
     "slide_type": "subslide"
    }
   },
   "source": [
    "### En verder\n",
    "\n",
    "Van 🐍 strings naar 👄 natuurlijke taal en 🌍 grote ideeën\n",
    "\n",
    "Openstaande vragen in kunstmatige intelligentie (AI) "
   ]
  },
  {
   "cell_type": "markdown",
   "metadata": {
    "slideshow": {
     "slide_type": "notes"
    }
   },
   "source": [
    "Als we taal rekenkundig kunnen benaderen, wat zijn dan de mogelijkheden? Hiermee komen we op het gebied van bijvoorbeeld kunstmatige intelligentie (AI)."
   ]
  },
  {
   "cell_type": "markdown",
   "metadata": {
    "slideshow": {
     "slide_type": "subslide"
    }
   },
   "source": [
    "![The Guardian GPT3](images/7/guardian_gpt3.png)"
   ]
  },
  {
   "cell_type": "markdown",
   "metadata": {
    "slideshow": {
     "slide_type": "notes"
    }
   },
   "source": [
    "[GPT-3](https://en.wikipedia.org/wiki/GPT-3) is een voolbeeld van een kunstmatige intelligentie. Het volledig door AI geschreven artikel kan je vinden in [The Guardian](https://www.theguardian.com/commentisfree/2020/sep/08/robot-wrote-this-article-gpt-3). Andere GPT-3 voorbeelden kan je zien op [https://gpt3examples.com/](https://gpt3examples.com/)."
   ]
  },
  {
   "cell_type": "markdown",
   "metadata": {
    "slideshow": {
     "slide_type": "slide"
    }
   },
   "source": [
    "## Caesarcijfer\n",
    "\n",
    "![Julius Caesar](images/7/jcaesar-bust.jpg)"
   ]
  },
  {
   "cell_type": "markdown",
   "metadata": {
    "slideshow": {
     "slide_type": "notes"
    }
   },
   "source": [
    "Het [Caesarcijfer](https://nl.wikipedia.org/wiki/Caesarcijfer) is vernoemd naar de Romein Julius Caesar. Hij gebruikte een versleuteling van berichten op basis van een rotatie van karakters. De sleutel is het aantal stappen van de rotatie."
   ]
  },
  {
   "cell_type": "markdown",
   "metadata": {
    "slideshow": {
     "slide_type": "subslide"
    }
   },
   "source": [
    "![Caesar cijfer](images/7/caesar_cipher.png)"
   ]
  },
  {
   "cell_type": "markdown",
   "metadata": {
    "slideshow": {
     "slide_type": "notes"
    }
   },
   "source": [
    "Stel jezelf een dubbele schijf voor met de alle karakters van het alfabet waarbij de middelste schijf kan draaien (roteren)."
   ]
  },
  {
   "cell_type": "markdown",
   "metadata": {
    "slideshow": {
     "slide_type": "subslide"
    }
   },
   "source": [
    "![Caesar encrypt](images/7/caesar_cipher_encipher_3.png)"
   ]
  },
  {
   "cell_type": "markdown",
   "metadata": {
    "slideshow": {
     "slide_type": "notes"
    }
   },
   "source": [
    "De *verzender* kiest een rotatie van 3 en elk karakter is nu 3 posities met de klok mee verschoven. Je ziet bijvoorbeeld dat het oorspronkelijke karakter \"A\" nu gelijk staat aan \"D\"."
   ]
  },
  {
   "cell_type": "markdown",
   "metadata": {
    "slideshow": {
     "slide_type": "fragment"
    }
   },
   "source": [
    "Wat zijn de karakters in het bericht \"HOI\" na een rotatie van 3?"
   ]
  },
  {
   "cell_type": "markdown",
   "metadata": {
    "slideshow": {
     "slide_type": "fragment"
    }
   },
   "source": [
    "KRL"
   ]
  },
  {
   "cell_type": "markdown",
   "metadata": {
    "slideshow": {
     "slide_type": "subslide"
    }
   },
   "source": [
    "![Caesar cijfer](images/7/caesar_cipher.png)"
   ]
  },
  {
   "cell_type": "markdown",
   "metadata": {
    "slideshow": {
     "slide_type": "notes"
    }
   },
   "source": [
    "De *ontvanger* van het versleuteld bericht \"KRL\" heeft dezelfde startpositie. De sleutel (rotatie) is bekend want deze is met de *verzender* afgesproken."
   ]
  },
  {
   "cell_type": "markdown",
   "metadata": {
    "slideshow": {
     "slide_type": "subslide"
    }
   },
   "source": [
    "![Caesar cijfer decrypt](images/7/caesar_cipher_decipher_3.png)"
   ]
  },
  {
   "cell_type": "markdown",
   "metadata": {
    "slideshow": {
     "slide_type": "notes"
    }
   },
   "source": [
    "Hoe kan de ontvanger het bericht nu ontcijferen? Door de rotatie in de omgekeerde richting toe te passen (tegen de klok in)! Kan je het versleuteld bericht \"KRL\" op basis van deze omgekeerde rotatie ontcijferen?"
   ]
  },
  {
   "cell_type": "markdown",
   "metadata": {
    "slideshow": {
     "slide_type": "slide"
    }
   },
   "source": [
    "### `encipher`\n",
    "\n",
    "Versleutelen\n",
    "\n",
    "```python\n",
    "def encipher(s, n):\n",
    "    ...\n",
    "```\n",
    "\n",
    "Verschuif elk **alfabetisch** karakter in string `s` met `n` plaatsen in het alfabet"
   ]
  },
  {
   "cell_type": "markdown",
   "metadata": {
    "slideshow": {
     "slide_type": "fragment"
    }
   },
   "source": [
    "```python\n",
    "encipher(\"I <3 Latijn\", 0)  == \"I <3 Latijn\"\n",
    "encipher(\"I <3 Latijn\", 1)  == \"J <3 Mbujko\"\n",
    "encipher(\"I <3 Latijn\", 2)  == \"K <3 Ncvklp\"\n",
    "encipher(\"I <3 Latijn\", 3)  == \"L <3 Odwlmq\"\n",
    "encipher(\"I <3 Latijn\", 4)  == \"M <3 Pexmnr\"\n",
    "encipher(\"I <3 Latijn\", 5)  == \"N <3 Qfynos\"\n",
    "\n",
    "# ...\n",
    "\n",
    "encipher(\"I <3 Latijn\", 25) == \"H <3 Kzshim\"\n",
    "```"
   ]
  },
  {
   "cell_type": "markdown",
   "metadata": {
    "slideshow": {
     "slide_type": "notes"
    }
   },
   "source": [
    "Met *alfabetisch* karakters bedoelen we \"a\" tot en met \"z\" in hoofd- of kleine letters."
   ]
  },
  {
   "cell_type": "markdown",
   "metadata": {
    "slideshow": {
     "slide_type": "subslide"
    }
   },
   "source": [
    "```ipython\n",
    "In [1]: encipher(\"Bzdrzqbhiedq? Hj gda khdudq Bzdrzqrzkzcd.\", 25)\n",
    "Out[1]: 'Aycqypaghdcp? Gi fcz jgctcp Aycqypqyjybc.'\n",
    "\n",
    "In [2]: encipher(\"Bzdrzqbhiedq? Hj gda khdudq Bzdrzqrzkzcd.\", 15)\n",
    "Out[2]: 'Qosgofqwxtsf? Wy vsp zwsjsf Qosgofgozors.'\n",
    "\n",
    "In [3]: encipher(\"Bzdrzqbhiedq? Hj gda khdudq Bzdrzqrzkzcd.\", 4)\n",
    "Out[3]: 'Fdhvduflmihu? Ln khe olhyhu Fdhvduvdodgh.'\n",
    "\n",
    "In [4]: encipher(\"Bzdrzqbhiedq? Hj gda khdudq Bzdrzqrzkzcd.\", 1)\n",
    "Out[4]: 'Caesarcijfer? Ik heb liever Caesarsalade.'\n",
    "```"
   ]
  },
  {
   "cell_type": "markdown",
   "metadata": {
    "slideshow": {
     "slide_type": "subslide"
    }
   },
   "source": [
    "### `decipher` \n",
    "\n",
    "Ontijferen\n",
    "\n",
    "```python\n",
    "def decipher(s):\n",
    "    ...\n",
    "```"
   ]
  },
  {
   "cell_type": "markdown",
   "metadata": {
    "slideshow": {
     "slide_type": "notes"
    }
   },
   "source": [
    "Ontcijfer een bericht zonder de rotatie te kennen! Wat zou een goede strategie zijn om dit probleem op te lossen? Een mogelijke strategie is om de kijken nar letterfrequenties, hoe vaak worden karakters in een taal gebruikt en hoe *waarschijnlijk* is het dat ze in een bepaalde combinatie worden gebruikt."
   ]
  },
  {
   "cell_type": "markdown",
   "metadata": {
    "slideshow": {
     "slide_type": "fragment"
    }
   },
   "source": [
    "Nederlands\n",
    "\n",
    "```ipython\n",
    "In [5]: decipher(\"Bzdrzqbhiedq? Hj gda khdudq Bzdrzqrzkzcd.\")\n",
    "Out[5]: 'Caesarcijfer? Ik heb liever Caesarsalade.'\n",
    "\n",
    "In [6]: decipher(\"Aadxas ue exqotfe pq haadflqffuzs hmz baxufuqw yqf mzpqdq yuppqxqz.\")\n",
    "Out[6]: 'Oorlog is slechts de voortzetting van politiek met andere middelen.'\n",
    "```"
   ]
  },
  {
   "cell_type": "markdown",
   "metadata": {
    "slideshow": {
     "slide_type": "fragment"
    }
   },
   "source": [
    "Latijn\n",
    "\n",
    "```ipython\n",
    "In [7]: decipher(\"Gv vw, Dtwvg?\")\n",
    "Out[7]: 'Od de, Lbedo?'\n",
    "```"
   ]
  },
  {
   "cell_type": "markdown",
   "metadata": {
    "slideshow": {
     "slide_type": "notes"
    }
   },
   "source": [
    "Een Nederlandse frequentieverdeling is niet gelijk aan Latijn. Wat we hier hadden willen zien was \"Et tu Brute?\", Caesar's beroemde [laatste woorden](https://en.wikipedia.org/wiki/Et_tu,_Brute%3F).\n",
    "\n",
    "Maar dan nog zou het de vraag zijn of het kon worden gevonden, de tekst is wellicht ook te kort."
   ]
  },
  {
   "cell_type": "markdown",
   "metadata": {
    "slideshow": {
     "slide_type": "notes"
    }
   },
   "source": [
    "Denk terug aan de \"dozen\" die we hebben gebruikt om een voorstelling te maken van wat zich in het geheugen van een computer afspeelt en met wat we nu weten kunnen we dit beeld gaan aanpassen. De \"inhoud\" van een doos zijn de bits, zoveel is nu wel duidelijk. De inhoud van verschillende dozen kan hetzelfde zijn maar het type bepaalt de representatie, bijvoorbeeld of het integer met waarde 67 of een string met waarde \"C\" is.\n",
    "\n",
    "De naam van een waarde (variabele) maakt dus ook niet uit, je weet inmiddels dat je (bijna) elke naam voor een variabele mag kiezen en het is niets meer dan een verwijzing naar de waarde die voor jou betekenis heeft (en je zult misschien hebben gemerkt dat het kiezen van een betekenisvolle naam niet altijd eenvoudig is!)."
   ]
  },
  {
   "cell_type": "markdown",
   "metadata": {
    "slideshow": {
     "slide_type": "subslide"
    }
   },
   "source": [
    "### Beperkingen\n",
    "\n",
    "- ASCII 8 bits betekent maximaal 256 mogelijke karakters"
   ]
  },
  {
   "cell_type": "markdown",
   "metadata": {
    "slideshow": {
     "slide_type": "fragment"
    }
   },
   "source": [
    "Maar de 🌍 is groter dan 256 karakters,ñïㅌtwååя?"
   ]
  },
  {
   "cell_type": "markdown",
   "metadata": {
    "slideshow": {
     "slide_type": "notes"
    }
   },
   "source": [
    "Historisch gezien was de byte het aantal bits dat werd gebruikt om een enkel karakter van de tekst in een computer te coderen. Het was begin jaren 60 van de vorige eeuw dat dit werd bepaald en dit zie je in ASCII terug, het is een oude tekenset!"
   ]
  },
  {
   "cell_type": "markdown",
   "metadata": {
    "slideshow": {
     "slide_type": "subslide"
    }
   },
   "source": [
    "### ASCII ⊂ Unicode\n",
    "\n",
    "Een moderne encodering met ASCII als subset"
   ]
  },
  {
   "cell_type": "markdown",
   "metadata": {
    "slideshow": {
     "slide_type": "notes"
    }
   },
   "source": [
    "Tegenwoording wordt van andere tekensets gebruik gemaakt. Unicode is een moderne variant die ASCII als subset heeft. Dit betekent dat 67 nog steeds naar C verwijst, maar 128077 naar 👍. Unicode gebruikt een byte op een veel slimmere manier om optimaal van de mogelijke adresruimte gebruik te maken. De meest gebruikte variant is tegenwoordig [UTF-8](https://nl.wikipedia.org/wiki/UTF-8) hoewel ook [UTF-16](https://nl.wikipedia.org/wiki/UTF-16) en UTF-32 bestaan (16 en 32 bits)."
   ]
  },
  {
   "cell_type": "markdown",
   "metadata": {
    "slideshow": {
     "slide_type": "slide"
    }
   },
   "source": [
    "### `chr` en `ord`"
   ]
  },
  {
   "cell_type": "markdown",
   "metadata": {
    "slideshow": {
     "slide_type": "fragment"
    }
   },
   "source": [
    "Zet een getal om naar een karakter"
   ]
  },
  {
   "cell_type": "code",
   "execution_count": 1,
   "metadata": {
    "slideshow": {
     "slide_type": "fragment"
    }
   },
   "outputs": [
    {
     "data": {
      "text/plain": [
       "'C'"
      ]
     },
     "execution_count": 1,
     "metadata": {},
     "output_type": "execute_result"
    }
   ],
   "source": [
    "chr(67)"
   ]
  },
  {
   "cell_type": "markdown",
   "metadata": {
    "slideshow": {
     "slide_type": "fragment"
    }
   },
   "source": [
    "Zet een karakter om naar een getal"
   ]
  },
  {
   "cell_type": "code",
   "execution_count": 2,
   "metadata": {
    "slideshow": {
     "slide_type": "fragment"
    }
   },
   "outputs": [
    {
     "data": {
      "text/plain": [
       "67"
      ]
     },
     "execution_count": 2,
     "metadata": {},
     "output_type": "execute_result"
    }
   ],
   "source": [
    "ord(\"C\")"
   ]
  },
  {
   "cell_type": "markdown",
   "metadata": {
    "slideshow": {
     "slide_type": "subslide"
    }
   },
   "source": [
    "### Vergelijken"
   ]
  },
  {
   "cell_type": "code",
   "execution_count": 3,
   "metadata": {
    "slideshow": {
     "slide_type": "fragment"
    }
   },
   "outputs": [
    {
     "data": {
      "text/plain": [
       "119"
      ]
     },
     "execution_count": 3,
     "metadata": {},
     "output_type": "execute_result"
    }
   ],
   "source": [
    "ord(\"w\")"
   ]
  },
  {
   "cell_type": "code",
   "execution_count": 4,
   "metadata": {
    "slideshow": {
     "slide_type": "fragment"
    }
   },
   "outputs": [
    {
     "data": {
      "text/plain": [
       "101"
      ]
     },
     "execution_count": 4,
     "metadata": {},
     "output_type": "execute_result"
    }
   ],
   "source": [
    "ord(\"e\")"
   ]
  },
  {
   "cell_type": "code",
   "execution_count": 5,
   "metadata": {
    "slideshow": {
     "slide_type": "fragment"
    }
   },
   "outputs": [
    {
     "data": {
      "text/plain": [
       "True"
      ]
     },
     "execution_count": 5,
     "metadata": {},
     "output_type": "execute_result"
    }
   ],
   "source": [
    "\"w\" > \"e\""
   ]
  },
  {
   "cell_type": "markdown",
   "metadata": {
    "slideshow": {
     "slide_type": "notes"
    }
   },
   "source": [
    "Weet je nog dat Python een mening had? Het is om deze reden dat `w`erk > `e`ten!"
   ]
  },
  {
   "cell_type": "markdown",
   "metadata": {
    "slideshow": {
     "slide_type": "slide"
    }
   },
   "source": [
    "## `decipher`\n",
    "\n",
    "Een bericht ontcijferen *zonder* bekende rotatie\n",
    "\n",
    "```ipython\n",
    "In [10]: decipher(\"Bzdrzqbhiedq? Hj gda khdudq Bzdrzqrzkzcd.\")\n",
    "Out[10]: 'Caesarcijfer? Ik heb liever Caesarsalade.'\n",
    "```"
   ]
  },
  {
   "cell_type": "markdown",
   "metadata": {
    "slideshow": {
     "slide_type": "fragment"
    }
   },
   "source": [
    "Welke *strategie*, welk *algoritme*?"
   ]
  },
  {
   "cell_type": "markdown",
   "metadata": {
    "slideshow": {
     "slide_type": "notes"
    }
   },
   "source": [
    "Encryptie wordt overal toegepast, of het nu gaat om het beschermen van jouw betaalgegevens of om meeluisteren met een chat of gesprek onmogelijk te maken. Toch hoor je vaak over versleutelingen die \"gekraakt\" zijn. Hoe zou je een substitutieversleuteling als een Caesarcijfer kunnen breken? Wat zouden geschikte benaderingen (strategie) en bijbehorende handelingen (algoritme) kunnen zijn om dit probleem op te lossen?"
   ]
  },
  {
   "cell_type": "markdown",
   "metadata": {
    "slideshow": {
     "slide_type": "subslide"
    }
   },
   "source": [
    "### Een bericht\n",
    "\n",
    "```python\n",
    "decipher(\"jgddcp qnnc xqicnc\")\n",
    "```"
   ]
  },
  {
   "cell_type": "markdown",
   "metadata": {
    "slideshow": {
     "slide_type": "notes"
    }
   },
   "source": [
    "We hebben een versleuteld bericht uit het verleden ontvangen maar helaas is de sleutel (de rotatie) niet bekend ... hoe zou je dit bericht geautomatiseerd kunnen ontcijferen? We hebben weinig informatie, laten we aannemen dat het bericht in het Nederlands is opgesteld..."
   ]
  },
  {
   "cell_type": "markdown",
   "metadata": {
    "slideshow": {
     "slide_type": "subslide"
    }
   },
   "source": [
    "### Taalherkenning\n",
    "\n",
    "Welke rotatie is het meest Nederlandstalig?"
   ]
  },
  {
   "cell_type": "markdown",
   "metadata": {
    "slideshow": {
     "slide_type": "subslide"
    }
   },
   "source": [
    "\n",
    "|  rotatie |  |\n",
    "|-------------- | -------------- | \n",
    "| 1 | `grkg ogizg kyz` | \n",
    "| 2 | `hslh phjah lza` | \n",
    "| 3 | `itmi qikbi mab` | \n",
    "| 4 | `junj rjlcj nbc` | \n",
    "| 5 | `kvok skmdk ocd` | \n",
    "| 6 | `lwpl tlnel pde` | \n",
    "| 7 | `mxqm umofm qef` | \n",
    "| 8 | `nyrn vnpgn rfg` | \n",
    "| 9 | `ozso woqho sgh` | \n",
    "| 10 | `patp xprip thi` | \n",
    "| 11 | `qbuq yqsjq uij` | \n",
    "| 12 | `rcvr zrtkr vjk` | \n",
    "| 13 | `sdws asuls wkl` | \n",
    "| 14 | `text btvmt xlm` | \n",
    "| 15 | `ufyu cuwnu ymn` | \n",
    "| 16 | `vgzv dvxov zno` | \n",
    "| 17 | `whaw ewypw aop` | \n",
    "| 18 | `xibx fxzqx bpq` | \n",
    "| 19 | `yjcy gyary cqr` | \n",
    "| 20 | `zkdz hzbsz drs` | \n",
    "| 21 | `alea iacta est` | \n",
    "| 22 | `bmfb jbdub ftu` | \n",
    "| 23 | `cngc kcevc guv` | \n",
    "| 24 | `dohd ldfwd hvw` | \n",
    "| 25 | `epie megxe iwx` | \n",
    "| 26 | `fqjf nfhyf jxy` |\n"
   ]
  },
  {
   "cell_type": "markdown",
   "metadata": {
    "slideshow": {
     "slide_type": "notes"
    }
   },
   "source": [
    "Voor het versleutelde bericht kan je elke rotatie toepassen zodat je tot een lijst van 26 mogelijke ontcijferingen komt. Maar welk element van deze lijst is het meest ... Nederlandstalig?"
   ]
  },
  {
   "cell_type": "markdown",
   "metadata": {
    "slideshow": {
     "slide_type": "subslide"
    }
   },
   "source": [
    "### Nederlandstaligheid meten"
   ]
  },
  {
   "cell_type": "markdown",
   "metadata": {
    "slideshow": {
     "slide_type": "fragment"
    }
   },
   "source": [
    "Hoog\n",
    "\n",
    "> Denkend aan Holland zie ik breede rivieren traag door oneindig laagland gaan."
   ]
  },
  {
   "cell_type": "markdown",
   "metadata": {
    "slideshow": {
     "slide_type": "notes"
    }
   },
   "source": [
    "Je zal hier de eerste strophe van het gedicht \"[Herinnering aan Holland](https://nl.wikipedia.org/wiki/Herinnering_aan_Holland)\" van [Hendrik Marsman](https://nl.wikipedia.org/wiki/Hendrik_Marsman) herkennen. Dit is een voorbeeld van hoge Nederlandtaligheid wat betreft syntax en betekenis (semantiek)."
   ]
  },
  {
   "cell_type": "markdown",
   "metadata": {
    "slideshow": {
     "slide_type": "fragment"
    }
   },
   "source": [
    "Middel\n",
    "\n",
    "> De gostak is die welke de doshes distims"
   ]
  },
  {
   "cell_type": "markdown",
   "metadata": {
    "slideshow": {
     "slide_type": "notes"
    }
   },
   "source": [
    "Je zal nog steeds \"Nederlands\" herkennen, maar heeft het betekenis?"
   ]
  },
  {
   "cell_type": "markdown",
   "metadata": {
    "slideshow": {
     "slide_type": "fragment"
    }
   },
   "source": [
    "Laag\n",
    "\n",
    "> Epadxo, nojarpn, gdxokpw"
   ]
  },
  {
   "cell_type": "markdown",
   "metadata": {
    "slideshow": {
     "slide_type": "notes"
    }
   },
   "source": [
    "Dit lijkt op het bericht dat we hebben ontvangen en heeft niet veel met Nederlands te maken!"
   ]
  },
  {
   "cell_type": "markdown",
   "metadata": {
    "slideshow": {
     "slide_type": "fragment"
    }
   },
   "source": [
    "Voor elke mogelijke rotatie van het versleuteld bericht zal je een maat moeten hebben om te bepalen welke de `max` is, oftwel wat de meest Nederlandstalige ontcijfering is."
   ]
  },
  {
   "cell_type": "markdown",
   "metadata": {
    "slideshow": {
     "slide_type": "subslide"
    }
   },
   "source": [
    "### Aantal klinkers\n",
    "\n",
    "Is dit een mogelijke maat?"
   ]
  },
  {
   "cell_type": "markdown",
   "metadata": {
    "slideshow": {
     "slide_type": "subslide"
    }
   },
   "source": [
    "\n",
    "|  klinkers |  |  |\n",
    "|-------------- | -------------- | -------------- | \n",
    "| 2 | `grkg ogizg kyz` |  | \n",
    "| 2 | `hslh phjah lza` |  | \n",
    "| 5 | `itmi qikbi mab` |  | \n",
    "| 1 | `junj rjlcj nbc` |  | \n",
    "| 2 | `kvok skmdk ocd` |  | \n",
    "| 2 | `lwpl tlnel pde` |  | \n",
    "| 3 | `mxqm umofm qef` |  | \n",
    "| 0 | `nyrn vnpgn rfg` |  | \n",
    "| 4 | `ozso woqho sgh` |  | \n",
    "| 3 | `patp xprip thi` |  | \n",
    "| 3 | `qbuq yqsjq uij` |  | \n",
    "| 0 | `rcvr zrtkr vjk` |  | \n",
    "| 2 | `sdws asuls wkl` |  | \n",
    "| 1 | `text btvmt xlm` |  | \n",
    "| 4 | `ufyu cuwnu ymn` |  | \n",
    "| 2 | `vgzv dvxov zno` |  | \n",
    "| 4 | `whaw ewypw aop` |  | \n",
    "| 1 | `xibx fxzqx bpq` |  | \n",
    "| 1 | `yjcy gyary cqr` |  | \n",
    "| 0 | `zkdz hzbsz drs` |  | \n",
    "| 7 | `alea iacta est` | **`max`**! | \n",
    "| 2 | `bmfb jbdub ftu` |  | \n",
    "| 2 | `cngc kcevc guv` |  | \n",
    "| 1 | `dohd ldfwd hvw` |  | \n",
    "| 6 | `epie megxe iwx` |  | \n",
    "| 0 | `fqjf nfhyf jxy` |  |\n"
   ]
  },
  {
   "cell_type": "markdown",
   "metadata": {
    "slideshow": {
     "slide_type": "notes"
    }
   },
   "source": [
    "Een mogelijke strategie zou het tellen van het aantal klinkers voor elke rotatie kunnen zijn. Dit is misschien een intuïtief ingegeven strategie, het gebruik van klinkers is immers een kenmerk van een taal. In dit geval hebben we een `max` gevonden maar hoe Nederlandstalig is deze `max`? Is dit het oorspronkelijke bericht?\n",
    "\n",
    "Je kan je afvragen in hoeverre dit een goede maat is. Bijvoorbeeld, `aaaa eeeee iii` zou een absolute `max` zijn, maar is het ook betenisvol? Waarschijnlijk niet en daarmee is het een niet heel betrouwbare maat en zullen we op zoek moeten naar iets beters."
   ]
  },
  {
   "cell_type": "markdown",
   "metadata": {
    "slideshow": {
     "slide_type": "subslide"
    }
   },
   "source": [
    "### Letterfrequentie\n",
    "\n",
    "Het *vaak* worden klinkers én medeklinkers in een taal gebruikt?"
   ]
  },
  {
   "cell_type": "markdown",
   "metadata": {
    "slideshow": {
     "slide_type": "notes"
    }
   },
   "source": [
    "Talen verschillen van elkaar en wat is nu één van de kenmerken waar zij zich van elkaar onderscheiden? Syntax! Dit uit zich in het gebruik van klinkers en medeklinkers waar karakters in de ene taal vaker zullen worden gebruikt dan in een andere taal."
   ]
  },
  {
   "cell_type": "markdown",
   "metadata": {
    "slideshow": {
     "slide_type": "subslide"
    }
   },
   "source": [
    "### Kansen\n",
    "\n",
    "De frequentieverdeling van karakters: wat is de kans dat de letter G wordt gebruikt?\n",
    "\n",
    "- Nederlands: 3.17%\n",
    "- Engels:  1.92%\n",
    "- Frans: 0.97%\n",
    "\n",
    "(G als hoofd- of kleine letter)"
   ]
  },
  {
   "cell_type": "markdown",
   "metadata": {
    "slideshow": {
     "slide_type": "notes"
    }
   },
   "source": [
    "Stel dat je een pagina van [NOS](https://nos.nl/), [BBC](https://bbc.com/) of [FRANCE.TV](https://www.france.tv/) op scherm hebt en je zou met de ogen dicht een punt op de pagina aanwijzen, wat is de kans dat je een \"a\", \"i\" of \"g\" aanwijst? Deze kans zal verschillen omdat het gebruik van klinkers en medeklinkers per taal verschilt.\n",
    "\n",
    "Deze letterfrequenties zijn bekend op basis van tellingen van héél veel teksten per taal. Een frequentieverdeling van karakters voor Nederlands kan je bijvoorbeeld vinden op [WordCreator](https://www.sttmedia.com/characterfrequency-nederlands).\n",
    "\n",
    "Het vakgebied dat zich onder andere met deze maten bezig houdt is [*computational linguistics*](https://en.wikipedia.org/wiki/Computational_linguistics) (computationele taalkunde). Dit is een interdisciplinair vakgebied waar de computationele modellering van taalkundige verschijnselen centraal staat."
   ]
  },
  {
   "cell_type": "markdown",
   "metadata": {
    "slideshow": {
     "slide_type": "subslide"
    }
   },
   "source": [
    "### Opeenvolging\n",
    "\n",
    "De kans dat de letter A wordt gebruikt is 7.76% (NL)"
   ]
  },
  {
   "cell_type": "markdown",
   "metadata": {
    "slideshow": {
     "slide_type": "fragment"
    }
   },
   "source": [
    "Wat is de kans dat G (3.17%) wordt opgevolgd door A?"
   ]
  },
  {
   "cell_type": "markdown",
   "metadata": {
    "slideshow": {
     "slide_type": "fragment"
    }
   },
   "source": [
    "$$\n",
    "\\frac{3.17}{100} \\times \\frac{7.76}{100} \\approx 0.025\n",
    "$$"
   ]
  },
  {
   "cell_type": "markdown",
   "metadata": {
    "slideshow": {
     "slide_type": "subslide"
    }
   },
   "source": [
    "\n",
    "|  score |  |  |\n",
    "|-------------- | -------------- | -------------- | \n",
    "| `2.3e-20` | `grkg ogizg kyz` |  | \n",
    "| `1.3e-18` | `hslh phjah lza` |  | \n",
    "| `2.6e-20` | `itmi qikbi mab` |  | \n",
    "| `1.1e-19` | `junj rjlcj nbc` |  | \n",
    "| `1.7e-18` | `kvok skmdk ocd` |  | \n",
    "| `1.0e-16` | `lwpl tlnel pde` |  | \n",
    "| `2.7e-26` | `mxqm umofm qef` |  | \n",
    "| `4.3e-19` | `nyrn vnpgn rfg` |  | \n",
    "| `1.4e-20` | `ozso woqho sgh` |  | \n",
    "| `5.4e-20` | `patp xprip thi` |  | \n",
    "| `2.9e-31` | `qbuq yqsjq uij` |  | \n",
    "| `9.5e-19` | `rcvr zrtkr vjk` |  | \n",
    "| `2.3e-18` | `sdws asuls wkl` |  | \n",
    "| `6.2e-21` | `text btvmt xlm` |  | \n",
    "| `3.0e-23` | `ufyu cuwnu ymn` |  | \n",
    "| `1.8e-20` | `vgzv dvxov zno` |  | \n",
    "| `2.4e-20` | `whaw ewypw aop` |  | \n",
    "| `1.3e-32` | `xibx fxzqx bpq` |  | \n",
    "| `3.0e-28` | `yjcy gyary cqr` |  | \n",
    "| `1.9e-19` | `zkdz hzbsz drs` |  | \n",
    "| `6.3e-15` | `alea iacta est` | **`max`**! | \n",
    "| `1.3e-21` | `bmfb jbdub ftu` |  | \n",
    "| `1.6e-19` | `cngc kcevc guv` |  | \n",
    "| `8.9e-19` | `dohd ldfwd hvw` |  | \n",
    "| `2.7e-19` | `epie megxe iwx` |  | \n",
    "| `5.2e-29` | `fqjf nfhyf jxy` |  |\n"
   ]
  },
  {
   "cell_type": "markdown",
   "metadata": {
    "slideshow": {
     "slide_type": "notes"
    }
   },
   "source": [
    "Deze notatie van getallen zal je misschien vaker zien. Voor decimale getallen zal Python vaak de wetenschappelijke notatie gebruiken om de precicie aan te duiden. In dit geval staat `6.3e-15` gelijk aan $6.3\\cdot{10}^{-15}$."
   ]
  },
  {
   "cell_type": "markdown",
   "metadata": {
    "slideshow": {
     "slide_type": "subslide"
    }
   },
   "source": [
    "### Het `max` bericht\n",
    "\n",
    "> *Alea iacta est*\n",
    ">\n",
    "> --Julius Caesar"
   ]
  },
  {
   "cell_type": "markdown",
   "metadata": {
    "slideshow": {
     "slide_type": "notes"
    }
   },
   "source": [
    "[Alea iacta est](https://onzetaal.nl/schatkamer/lezen/uitdrukkingen/alea-iacta-est-de-teerling-is-geworpen) of \"de teerling is geworpen\" is een uitspraak van Julius Caesar. Het is blijkbaar Nederlandstalig genoeg voor onze strategie! Voor Nedelandstalige teksten zal het preciezer werken en merk daarbij op dat de lengte van een bericht ook van belang is."
   ]
  },
  {
   "cell_type": "markdown",
   "metadata": {
    "slideshow": {
     "slide_type": "subslide"
    }
   },
   "source": [
    "### Strategie en algoritme\n",
    "\n",
    "*Strategie*\n",
    "\n",
    "Letterfrequentie is een goede maat voor Nederlandstaligheid"
   ]
  },
  {
   "cell_type": "markdown",
   "metadata": {
    "slideshow": {
     "slide_type": "fragment"
    }
   },
   "source": [
    "*Algoritme*\n",
    "\n",
    "- doorloop elke rotatie\n",
    "- bepaal op basis van letterfrequenties de kans op de lettercombinatie per rotatie\n",
    "- vind de `max` kans van alle rotaties"
   ]
  }
 ],
 "metadata": {
  "kernelspec": {
   "display_name": "Python 3 (ipykernel)",
   "language": "python",
   "name": "python3"
  },
  "language_info": {
   "codemirror_mode": {
    "name": "ipython",
    "version": 3
   },
   "file_extension": ".py",
   "mimetype": "text/x-python",
   "name": "python",
   "nbconvert_exporter": "python",
   "pygments_lexer": "ipython3",
   "version": "3.10.7"
  }
 },
 "nbformat": 4,
 "nbformat_minor": 4
}
