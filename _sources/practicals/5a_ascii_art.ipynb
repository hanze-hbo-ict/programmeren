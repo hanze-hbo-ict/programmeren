{
 "cells": [
  {
   "cell_type": "markdown",
   "metadata": {},
   "source": [
    "# ASCII Art"
   ]
  },
  {
   "cell_type": "markdown",
   "metadata": {},
   "source": [
    "In deze opgave bekijk je een klassieke kunstvorm: ASCII art!"
   ]
  },
  {
   "cell_type": "markdown",
   "metadata": {},
   "source": [
    "````{warning}\n",
    "\n",
    "Bij de volgende opgaven geldt een belangrijke beperking!\n",
    "\n",
    "In deze opgave mag je de string-vermenigvuldigs- en string-opteloperatoren **niet** gebruiken. Omdat ons doel is om lusconstructies te gebruiken, moet je lussen gebruiken om te herhalen, ook als het met deze operatoren korter zou kunnen. Hier is één uitzondering op, echter; je **mag** string-vermenigvuldiging gebruiken met het spatieteken `\" \"`. Dat wil zeggen, je mag een aantal opeenvolgende spaties maken met constructies als\n",
    "\n",
    "```python\n",
    "\" \"*5\n",
    "```\n",
    "````"
   ]
  },
  {
   "cell_type": "markdown",
   "metadata": {},
   "source": [
    "```{tip}\n",
    "\n",
    "Eerst ontwerpen!\n",
    "\n",
    "De bedoeling van deze opgave is om je redeneervermogen over lussen en geneste lussen verder te vergroten. Voor veel van de opgaves (met name de gestreepte ruit) moet je zorgvuldig nadenken over de waarde van je luscontrolevariabele tijdens het uitvoeren van je lus of lussen. \"Debuggen door willekeurige wijzingingen\"; dat wil zeggen, je luscondities of variabelen willekeurig wijzigen; zal tot veel frustratie leiden. De oplossing is om goed na te denken over je lussen!\n",
    "```"
   ]
  },
  {
   "cell_type": "markdown",
   "metadata": {
    "editable": true,
    "slideshow": {
     "slide_type": ""
    },
    "tags": []
   },
   "source": [
    "## Opgave 1"
   ]
  },
  {
   "cell_type": "markdown",
   "metadata": {
    "editable": true,
    "slideshow": {
     "slide_type": ""
    },
    "tags": []
   },
   "source": [
    "Schrijf een functie `print_rect` die drie argumenten `width`, `height` en `symbol` accepteert, en een rechthoek van `width` bij `height` met `symbol`en afdrukt op het scherm.\n"
   ]
  },
  {
   "cell_type": "markdown",
   "metadata": {},
   "source": [
    "```ipython\n",
    "In [1]: print_rect(4, 6, \"%\")\n",
    "Out:\n",
    "% % % %\n",
    "% % % %\n",
    "% % % %\n",
    "% % % %\n",
    "% % % %\n",
    "% % % %\n",
    "```"
   ]
  },
  {
   "cell_type": "markdown",
   "metadata": {
    "editable": true,
    "slideshow": {
     "slide_type": ""
    },
    "tags": []
   },
   "source": [
    "```{tip}\n",
    "Als je de voorbeelden van geneste lussen bekijkt, zul je zien dat deze opgave daar behandeld wordt! De enige verschillen zijn dat\n",
    "\n",
    "-   De breedte een variabele is, in plaats van een constante\n",
    "-   De hoogte een variabele is, in plaats van een constante\n",
    "-   Het af te drukken teken een variabele is, in plaats van een constante\n",
    "```"
   ]
  },
  {
   "cell_type": "code",
   "execution_count": null,
   "metadata": {
    "editable": true,
    "slideshow": {
     "slide_type": ""
    },
    "tags": [
     "skip-execution"
    ]
   },
   "outputs": [],
   "source": [
    "# jouw oplossing"
   ]
  },
  {
   "cell_type": "markdown",
   "metadata": {
    "editable": true,
    "slideshow": {
     "slide_type": ""
    },
    "tags": []
   },
   "source": [
    "## Opdracht 2"
   ]
  },
  {
   "cell_type": "markdown",
   "metadata": {
    "editable": true,
    "slideshow": {
     "slide_type": ""
    },
    "tags": []
   },
   "source": [
    "Schrijf een functie `print_triangle` die drie argumenten `width`, `symbol` en `right_side_up` accepteert, en een driehoek van symbolen op het scherm afdrukt.\n",
    "\n",
    "`width` is een getal die de breedte van de basis van de driehoek bepaalt en `right_side_up` is een boolean die bepaalt of de driehoek met de punt naar boven (`True`) of naar onder (`False`) moet worden afgedrukt."
   ]
  },
  {
   "cell_type": "markdown",
   "metadata": {
    "editable": true,
    "slideshow": {
     "slide_type": ""
    },
    "tags": []
   },
   "source": [
    "```ipython\n",
    "In [1]: print_triangle(3, \"@\", True)\n",
    "Out:\n",
    "@\n",
    "@ @\n",
    "@ @ @\n",
    "\n",
    "In [2]: print_triangle(3, \"@\", False)\n",
    "Out:\n",
    "@ @ @\n",
    "@ @\n",
    "@\n",
    "```"
   ]
  },
  {
   "cell_type": "code",
   "execution_count": null,
   "metadata": {
    "editable": true,
    "slideshow": {
     "slide_type": ""
    },
    "tags": [
     "skip-execution"
    ]
   },
   "outputs": [],
   "source": [
    "# jouw oplossing"
   ]
  },
  {
   "cell_type": "markdown",
   "metadata": {
    "editable": true,
    "slideshow": {
     "slide_type": ""
    },
    "tags": []
   },
   "source": [
    "## Opdracht 3"
   ]
  },
  {
   "cell_type": "markdown",
   "metadata": {
    "editable": true,
    "slideshow": {
     "slide_type": ""
    },
    "tags": []
   },
   "source": [
    "Gebruik nu jouw functie `print_triangle` om een functie `print_bumps(num, symbol1, symbol2)` te schrijven die het gegeven aantal “heuvels” van twee symbolen afdrukt, waarbij elke heuvel groter is dan de volgende, zoals in het volgende voorbeeld:"
   ]
  },
  {
   "cell_type": "markdown",
   "metadata": {
    "editable": true,
    "slideshow": {
     "slide_type": ""
    },
    "tags": []
   },
   "source": [
    "```ipython\n",
    "In [1]: print_bumps(4, \"%\", \"#\")\n",
    "Out:\n",
    "%\n",
    "#\n",
    "%\n",
    "% %\n",
    "# #\n",
    "#\n",
    "%\n",
    "% %\n",
    "% % %\n",
    "# # #\n",
    "# #\n",
    "#\n",
    "%\n",
    "% %\n",
    "% % %\n",
    "% % % %\n",
    "# # # #\n",
    "# # #\n",
    "# #\n",
    "#\n",
    "```"
   ]
  },
  {
   "cell_type": "code",
   "execution_count": null,
   "metadata": {
    "editable": true,
    "slideshow": {
     "slide_type": ""
    },
    "tags": [
     "skip-execution"
    ]
   },
   "outputs": [],
   "source": [
    "# jouw oplossing"
   ]
  },
  {
   "cell_type": "markdown",
   "metadata": {
    "editable": true,
    "slideshow": {
     "slide_type": ""
    },
    "tags": []
   },
   "source": [
    "## Opdracht 4"
   ]
  },
  {
   "cell_type": "markdown",
   "metadata": {
    "editable": true,
    "slideshow": {
     "slide_type": ""
    },
    "tags": []
   },
   "source": [
    "Voor deze en de volgende “ruit”-functies **mag** je string-vermenigvuldiging gebruiken, maar alleen voor strings van spaties, zoals `\" \" * n` en dergelijke. Elk zichtbaar karakter moet **afzonderlijk** afgedrukt worden, net zoals in de functies van de eerdere opgaven. Het is echter **niet verplicht** om de operator * te gebruiken voor strings van spaties."
   ]
  },
  {
   "cell_type": "markdown",
   "metadata": {
    "editable": true,
    "slideshow": {
     "slide_type": ""
    },
    "tags": []
   },
   "source": [
    "Schrijf een functie `print_diamond(width, symbol)` die een ruit met `symbol`-en afdrukt waarvan de maximale breedte bepaald wordt door `width`."
   ]
  },
  {
   "cell_type": "markdown",
   "metadata": {
    "editable": true,
    "slideshow": {
     "slide_type": ""
    },
    "tags": []
   },
   "source": [
    "```ipython\n",
    "In [1]: print_diamond(3, \"&\")\n",
    "Out:\n",
    "   &\n",
    "  & &\n",
    " & & &\n",
    "  & &\n",
    "   &\n",
    "```"
   ]
  },
  {
   "cell_type": "code",
   "execution_count": null,
   "metadata": {
    "editable": true,
    "slideshow": {
     "slide_type": ""
    },
    "tags": [
     "skip-execution"
    ]
   },
   "outputs": [],
   "source": [
    "# jouw oplossing"
   ]
  },
  {
   "cell_type": "markdown",
   "metadata": {
    "editable": true,
    "slideshow": {
     "slide_type": ""
    },
    "tags": []
   },
   "source": [
    "## Opdracht 5"
   ]
  },
  {
   "cell_type": "markdown",
   "metadata": {
    "editable": true,
    "slideshow": {
     "slide_type": ""
    },
    "tags": []
   },
   "source": [
    "Schrijf nu een functie `print_striped_diamond(width, sym1, sym2)` die een \"gestreepte ruit\" van `sym1` en `sym2` afdrukt.\n",
    "\n",
    "Bijvoorbeeld:"
   ]
  },
  {
   "cell_type": "markdown",
   "metadata": {
    "editable": true,
    "slideshow": {
     "slide_type": ""
    },
    "tags": []
   },
   "source": [
    "```ipython\n",
    "In [1]: print_striped_diamond(7, \".\", \"%\")\n",
    "Out:\n",
    "      .\n",
    "     . %\n",
    "    . % .\n",
    "   . % . %\n",
    "  . % . % .\n",
    " . % . % . %\n",
    ". % . % . % .\n",
    " % . % . % .\n",
    "  . % . % .\n",
    "   % . % .\n",
    "    . % .\n",
    "     % .\n",
    "      .\n",
    "```"
   ]
  },
  {
   "cell_type": "code",
   "execution_count": null,
   "metadata": {
    "editable": true,
    "slideshow": {
     "slide_type": ""
    },
    "tags": [
     "skip-execution"
    ]
   },
   "outputs": [],
   "source": [
    "# jouw oplossing"
   ]
  },
  {
   "cell_type": "markdown",
   "metadata": {
    "editable": true,
    "slideshow": {
     "slide_type": ""
    },
    "tags": []
   },
   "source": [
    "## Opdracht 6"
   ]
  },
  {
   "cell_type": "markdown",
   "metadata": {
    "editable": true,
    "slideshow": {
     "slide_type": ""
    },
    "tags": []
   },
   "source": [
    "Een uitdaging!\n",
    "\n",
    "Schrijf tot slot een functie `print_crazy_striped_diamond(width, sym1, sym2, sym1_width, sym2_width)` die een \"gestreepte ruit\" van `sym1` en `sym2` afdrukt waarbij de strepen verschillende breedtes kunnen hebben.\n",
    "\n",
    "- `sym1_width` bepaalt de breedte van de streep gemaakt van symbool 1\n",
    "- `sym2_width` bepaalt de breedte van de streep gemaakt van symbool 2."
   ]
  },
  {
   "cell_type": "markdown",
   "metadata": {
    "editable": true,
    "slideshow": {
     "slide_type": ""
    },
    "tags": []
   },
   "source": [
    "```ipython\n",
    "In [1]: print_crazy_striped_diamond(7, \".\", \"%\", 2, 1)\n",
    "Out:\n",
    "      .\n",
    "     . .\n",
    "    . . %\n",
    "   . . % .\n",
    "  . . % . .\n",
    " . . % . . %\n",
    ". . % . . % .\n",
    " . % . . % .\n",
    "  % . . % .\n",
    "   . . % .\n",
    "    . % .\n",
    "     % .\n",
    "      .\n",
    "```\n"
   ]
  },
  {
   "cell_type": "code",
   "execution_count": null,
   "metadata": {
    "editable": true,
    "slideshow": {
     "slide_type": ""
    },
    "tags": [
     "skip-execution"
    ]
   },
   "outputs": [],
   "source": [
    "# jouw oplossing"
   ]
  }
 ],
 "metadata": {
  "kernelspec": {
   "display_name": "Python 3 (ipykernel)",
   "language": "python",
   "name": "python3"
  },
  "language_info": {
   "codemirror_mode": {
    "name": "ipython",
    "version": 3
   },
   "file_extension": ".py",
   "mimetype": "text/x-python",
   "name": "python",
   "nbconvert_exporter": "python",
   "pygments_lexer": "ipython3",
   "version": "3.12.3"
  }
 },
 "nbformat": 4,
 "nbformat_minor": 4
}
