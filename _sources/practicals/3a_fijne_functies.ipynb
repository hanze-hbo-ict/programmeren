{
 "cells": [
  {
   "attachments": {},
   "cell_type": "markdown",
   "metadata": {
    "slideshow": {
     "slide_type": "slide"
    }
   },
   "source": [
    "# Fijne functies\n",
    "\n",
    "Met functies worden grote programma's opgedeelt in kleinere eenheden. Dit maakt het programmeren overzichtelijker. Functies die voor het ene programma zijn ontwikkeld, kunnen in andere programma's  gebruikt worden. Een functie beschrijft het rekenproces dat op de parameters van de functie moet worden uitgevoerd. "
   ]
  },
  {
   "attachments": {},
   "cell_type": "markdown",
   "metadata": {},
   "source": [
    "## Belangrijke functies\n",
    "\n",
    "* range\n",
    "* sum\n",
    "* choice"
   ]
  },
  {
   "attachments": {},
   "cell_type": "markdown",
   "metadata": {},
   "source": [
    "### Range\n",
    "\n",
    "`range` geeft een *iterator* met integers terug. Het maakt niet uit als je niet precies weet wat een iterator is, het belangrijkst is dat je ziet dat `list` de iterator omzet naar een *lijst* met integers:"
   ]
  },
  {
   "attachments": {},
   "cell_type": "markdown",
   "metadata": {},
   "source": [
    "```python\n",
    "l = list(range(0, 100))\n",
    "print(l)\n",
    "```\n",
    "\n",
    "ouput: `[0, 1, 2, ..., 99]`"
   ]
  },
  {
   "attachments": {},
   "cell_type": "markdown",
   "metadata": {},
   "source": [
    "### Sum\n",
    "\n",
    "`sum` telt een lijst van getallen op, en `range` maakt een lijst met integers (of eigenlijk een iterator met integers, maar daar kan `sum` ook mee overweg):"
   ]
  },
  {
   "attachments": {},
   "cell_type": "markdown",
   "metadata": {},
   "source": [
    "```python\n",
    "s = sum(range(3,11))\n",
    "print(s)\n",
    "```\n",
    "ouput: `52`\n",
    "\n"
   ]
  },
  {
   "attachments": {},
   "cell_type": "markdown",
   "metadata": {},
   "source": [
    "\n",
    "```python\n",
    "l = list(range(3,11))\n",
    "print(sum(l))\n",
    "```\n",
    "ouput: `52`\n"
   ]
  },
  {
   "attachments": {},
   "cell_type": "markdown",
   "metadata": {},
   "source": [
    "### Choice\n",
    "\n",
    "Choice is een functie dat een random keuze kan maken uit een gegeven lijst. Het is alleen niet standaard beschikbaar zoals de functies `sum` en `range`. Om de functie te kunnen gebruiken moeten we het eerst importeren. "
   ]
  },
  {
   "attachments": {},
   "cell_type": "markdown",
   "metadata": {},
   "source": [
    "```python\n",
    "from random import choice\n",
    "l = list(range(0, 100))\n",
    "rand = choice(l)\n",
    "```"
   ]
  },
  {
   "attachments": {},
   "cell_type": "markdown",
   "metadata": {},
   "source": [
    "## Imports"
   ]
  },
  {
   "attachments": {},
   "cell_type": "markdown",
   "metadata": {},
   "source": [
    "Random is wat we noemen een library. Met het importeren van een library krijg te toegang tot alle functies die in deze library staan."
   ]
  },
  {
   "attachments": {},
   "cell_type": "markdown",
   "metadata": {},
   "source": [
    "### Optie 1: \n",
    "\n",
    "```python\n",
    "import random\n",
    "\n",
    "random.choice(list(range(0, 10))\n",
    "random.randint(0,9)\n",
    "random.uniform(0,9)\n",
    "```"
   ]
  },
  {
   "attachments": {},
   "cell_type": "markdown",
   "metadata": {},
   "source": [
    "In deze optie wordt de hele library toegevoegd. Om de functies te gebruiken die in deze library staan, noteren we eerst uit welke library ze komen en dan volgt de functie naam. Zo onstaan er geen problemen als er meerdere libraries worden geimporteerd en er functie namen overeenkomen. "
   ]
  },
  {
   "attachments": {},
   "cell_type": "markdown",
   "metadata": {},
   "source": [
    "### Optie 2: \n",
    "\n",
    "```python\n",
    "from random import choice\n",
    "from random import randint\n",
    "from random import uniform\n",
    "\n",
    "choice(list(range(0, 10))\n",
    "randint(0,9)\n",
    "uniform(0,9)\n",
    "```"
   ]
  },
  {
   "attachments": {},
   "cell_type": "markdown",
   "metadata": {},
   "source": [
    "`from random import choice` importeert een hele specifieke functie uit de library en niet de hele library. Scheelt in de grootte van het programma. Is vooral handig om te gebruiken als je maar een enkele functie uit de libary wilt gebruiken."
   ]
  },
  {
   "attachments": {},
   "cell_type": "markdown",
   "metadata": {},
   "source": [
    "### Optie 3: \n",
    "\n",
    "```python\n",
    "from random import *\n",
    "\n",
    "choice(list(range(0, 10))\n",
    "randint(0,9)\n",
    "uniform(0,9)\n",
    "```"
   ]
  },
  {
   "attachments": {},
   "cell_type": "markdown",
   "metadata": {},
   "source": [
    "`from random import *` importeert alle functies uit de library. Het is belangrijk om te weten welke functies dit zijn om te voorkomen dat er twee dezelfde functies in het programma staan. Bijvorbeeld van een andere library of in je eigen code. "
   ]
  },
  {
   "attachments": {},
   "cell_type": "markdown",
   "metadata": {},
   "source": [
    "### Handige libraries\n",
    "math\n",
    "* cos()\n",
    "* sin()\n",
    "* tan()\n",
    "* sqrt()\n",
    "* pi\n",
    "\n",
    "random\n",
    "* choice()\n",
    "* randint()\n",
    "* uniform()\n",
    "\n",
    "time\n",
    "* time()\n",
    "* ctime()"
   ]
  },
  {
   "attachments": {},
   "cell_type": "markdown",
   "metadata": {},
   "source": [
    "# Opdracht 1  \n",
    "a. Wat is de ouput van onderstaande programma? \n",
    "\n",
    "\n",
    "\n"
   ]
  },
  {
   "attachments": {},
   "cell_type": "markdown",
   "metadata": {},
   "source": [
    "```python\n",
    "def main():\n",
    "    \"\"\"\n",
    "    Main functie. Roept de andere functies op om hun werk te doen. \n",
    "    \"\"\"\n",
    "    print(dbl(21))\n",
    "    print(dbl(\"wauw!\"))\n",
    "\n",
    "def testing():\n",
    "    \"\"\"\n",
    "    Test functie. Hier staan alle assertions om de functies te testen.\n",
    "    \"\"\"\n",
    "    assert dbl(21) == 42\n",
    "\n",
    "\n",
    "def dbl(x):\n",
    "    \"\"\"\n",
    "    Returns twice the argument\n",
    "    :param x: The value to double\n",
    "    :type x: int, float or string\n",
    "    :rtype: int, float or string\n",
    "    \"\"\"\n",
    "    return 2 * x\n",
    "\n",
    "main()\n",
    "testing()\n",
    "\n",
    "```"
   ]
  },
  {
   "attachments": {},
   "cell_type": "markdown",
   "metadata": {},
   "source": [
    "b. Kopieer bovenstaande code in een nieuw bestand met de naam `wk3wc1.py`. Draai het programma om je antwoord bij `a` te checken. "
   ]
  },
  {
   "attachments": {},
   "cell_type": "markdown",
   "metadata": {},
   "source": [
    "c. Om de functie `dbl()` te testen kunnen we gebruik maken van assertions inplaats van prints. Op deze manier doet python al het testen voor ons. Een voorbeeld van een assertion staat in de functie testing. Voeg zelf nog twee andere assertions toe om de `dbl` functie te testen. "
   ]
  },
  {
   "attachments": {},
   "cell_type": "markdown",
   "metadata": {},
   "source": [
    "Met het gebruik van de main functie en test functie kunnen we de code overzichtelijk houden, vooral als straks het programma langer wordt. Het aansturen van het hele programma staat in de main functie en alle testen staan in de testing functie. "
   ]
  },
  {
   "attachments": {},
   "cell_type": "markdown",
   "metadata": {},
   "source": [
    "## Signature en docstring\n",
    "\n",
    "De eerste regel van een functie wordt de *signature* genoemd. De signature van een functie bevat het keyword `def` (een afkorting van \"define\"), de naam van de functie, en een lijst met argumenten voor de functie tussen haakjes. Let op de *dubbele punt* waar de signature mee wordt afgesloten.\n",
    "\n",
    "Direct onder de signature staat een string tussen drie dubbele aanhalingstekens `\"\"\"`, dit heet een *docstring* (een afkorting van \"documentation string\"). We verwachten dat je in al je functies een docstring schrijft, zelfs in eenvoudige functies zoals `dbl` zodat dit een gewoonte voor jou wordt.\n",
    "\n",
    "Een docstring moet de argumenten van de functie en het resultaat (de returnwaarde) beschrijven. Zoals je hierboven ziet kan je ook andere belangrijke informatie toevoegen. Docstring zijn de manier waarop *jouw* functies onderdeel worden van het ingebouwde hulpsysteem van Python.\n",
    "\n",
    "De eerste driedubbele aanhalingstekens *moeten* ingesprongen worden direct onder de signatuur. De afsluitende driedubbele aanhalingstekens van de docstring springen op hetzelfde niveau en an alle volgende code binnen de functie (de functie \"body\")."
   ]
  },
  {
   "attachments": {},
   "cell_type": "markdown",
   "metadata": {},
   "source": [
    "# Opdracht 2\n",
    "\n",
    "Gegeven de functie `interp(low, hi, fraction)`\n",
    "\n",
    "\n",
    "```python \n",
    "def interp(low, hi, fraction):\n",
    "    return low + (hi - low) * fraction \n",
    "```\n",
    "\n",
    "a. Wat is de doel van deze functie? Gebruik bij het antwoorden van deze vraag geen interpreter.     \n",
    "b. Kopieer deze functie naar je bestand. `wk3wc1.py`. Denk aan de locatie.   \n",
    "c. Voeg assertions toe in onze `testing` functie om je aanname bij `a` te testen.   \n",
    "d. Voeg een doctring toe. \n"
   ]
  },
  {
   "attachments": {},
   "cell_type": "markdown",
   "metadata": {},
   "source": [
    "# Opdracht 3\n",
    "a.  \n",
    "Schrijf een functie `convert_from_seconds(s)` die als argumment een (niet negatieve) integer `s` accepteert en een lijst met *vier* (niet negatieve) integers teruggeeft die het aantal seconden in een meer gebruikelijke vorm beschrijft, zodat:\n",
    "\n",
    "- het eerste element het *aantal dagen* bevat\n",
    "- het tweede element het *aantal uren* bevat\n",
    "- het derde element het *aantal minuten* bevat\n",
    "- het laatste element het *aantal seconden* bevat\n",
    "\n",
    "Je zal op het volgende moeten letten:\n",
    "\n",
    "- 0 ≤ seconden < 60\n",
    "- 0 ≤ minuten < 60\n",
    "- 0 ≤ uren < 24\n",
    "\n",
    "Er is geen limiet op het aantal dagen. Een paar voorbeelden:\n",
    "\n",
    "```ipython\n",
    "In : convert_from_seconds(610)\n",
    "Out: [0, 0, 10, 10]\n",
    "\n",
    "In: convert_from_seconds(100000)\n",
    "Out: [1, 3, 46, 40]\n",
    "```"
   ]
  },
  {
   "attachments": {},
   "cell_type": "markdown",
   "metadata": {},
   "source": [
    "Tips:\n",
    "1. Probeer, plan, programmeer. Voordat je meteen gaat programmeren, bedenk  welke stappen nodig zijn om het probleem op te lossen.\n",
    "2. Zorg voor een docstring!\n",
    "3. Vergeet de assertions niet!"
   ]
  },
  {
   "attachments": {},
   "cell_type": "markdown",
   "metadata": {},
   "source": [
    "b.   \n",
    "Kopieer de volgende regel naar de main functie:\n",
    "```python\n",
    "tijd = convert_from_seconds(100000)\n",
    "````\n",
    "\n",
    "Voeg code toe aan de main functie zodat de dagen, uren, minutes en seconde worden geprint. Voorbeeld output:  \n",
    "\"1 dagen\"  \n",
    "\"3 uren\"  \n",
    "\"46 minuten\"  \n",
    "\"40 seconden\"  \n",
    "\n"
   ]
  },
  {
   "attachments": {},
   "cell_type": "markdown",
   "metadata": {},
   "source": [
    "# Opdracht 4\n",
    "\n",
    "Schrijf een functie `checkends(s)` die als parameter een string `s` accepteert en `True` teruggeeft als het eerste karakter van `s` gelijk is aan het laatste karakter van `s`. Anders zal het `False` teruggeven. De functie `checkends` hoeft niet te werken met een lege string `s` (een string met waarde `\"\"`).\n",
    "\n",
    "De functie moet *geen* strings teruggeven! In plaats daarvan moet het een *boolean* teruggeven, dus `True` of `False`, zonder aanhalingstekens.\n",
    "\n",
    "In de editor zul je zien dat booleans een andere kleur krijgen (in het standaardkleurenschema van VSCode worden ze blauw) om aan te geven dat Python ze herkent als waarden van het type `bool`. Als je er per ongeluk strings van hebt gemaakt (`\"True\"` in plaats van `True`) dan worden ze oranje in VSCode.\n",
    "\n",
    "Voor alle duidelijkheid, booleans en strings zijn twee hele verschillende dingen! Voor `True` en `False` heb je vrijwel altijd de booleans, dus zonder aanhalingstekens, nodig."
   ]
  },
  {
   "attachments": {},
   "cell_type": "markdown",
   "metadata": {},
   "source": [
    "```ipython\n",
    "In: checkends('niet gelijk')  \n",
    "Out: False  \n",
    "\n",
    "In: checkends('kijk! wel gelijk')  \n",
    "Out: True  \n",
    "\n",
    "In: checkends('q')  \n",
    "Out: True  \n",
    "\n",
    "In: checkends(' ')  \n",
    "Out: True \n",
    "```"
   ]
  }
 ],
 "metadata": {
  "kernelspec": {
   "display_name": "Python 3",
   "language": "python",
   "name": "python3"
  },
  "language_info": {
   "codemirror_mode": {
    "name": "ipython",
    "version": 3
   },
   "file_extension": ".py",
   "mimetype": "text/x-python",
   "name": "python",
   "nbconvert_exporter": "python",
   "pygments_lexer": "ipython3",
   "version": "3.11.2 (tags/v3.11.2:878ead1, Feb  7 2023, 16:38:35) [MSC v.1934 64 bit (AMD64)]"
  },
  "vscode": {
   "interpreter": {
    "hash": "7321d1f7eabf315803f0fbeb0be0427ff6d045140e09c9efe7edcc325df00e23"
   }
  }
 },
 "nbformat": 4,
 "nbformat_minor": 4
}
