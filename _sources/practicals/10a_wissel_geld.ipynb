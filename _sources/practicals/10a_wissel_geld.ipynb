{
 "cells": [
  {
   "cell_type": "markdown",
   "metadata": {},
   "source": [
    "# Wisselgeld"
   ]
  },
  {
   "cell_type": "markdown",
   "metadata": {},
   "source": [
    "## Opgave 1\n",
    "\n",
    "Schrijf een functie `wisselgeld(bedrag, munten)` met de integer bedrag dat een hoeveel geld in cent aangeeft en de lijst munten met int waardes dat aangeeft welke munten er zijn. De functie checkt of het bedrag betaald kan worden met de aangegeven munten. Als het betaald kan worden, dan geeft de functie een true terug, anders geeft het een false terug. "
   ]
  },
  {
   "cell_type": "markdown",
   "metadata": {},
   "source": [
    "Voorbeelden:\n",
    "```python\n",
    "assert wisselgeld(100, [5, 5, 5, 10, 10, 25, 50]) == True # 5 + 10 + 10 + 25 + 50\n",
    "assert wisselgeld(120, [5, 5, 5, 10, 10, 25, 50]) == False # 5 + 5 + 5 +10 + 10 + 25 + 50 = 110\n",
    "assert wisselgeld(32, [1, 5, 5, 10, 10, 25, 50]) == False # 25 + 5 + 1 = 31. 32 is niet mogelijk. \n",
    "```"
   ]
  },
  {
   "cell_type": "markdown",
   "metadata": {},
   "source": [
    "## Opgave 2"
   ]
  },
  {
   "cell_type": "markdown",
   "metadata": {},
   "source": [
    "Schrijf een functie `hoeveel_munten(bedrag, munten)` met de integer bedrag dat een hoeveel geld in cent aangeeft en de lijst munten met int waardes dat aangeeft welke munten er zijn. De functie geeft terug hoeveel munten er gebruikt moeten worden om het bedrag te betalen. Als er meerdere opties maakt het niet uit welke optie er wordt teruggegeven. Als het niet mogelijk is om het bedrag te betalen, dan geeft de funtie een -1 terug.  "
   ]
  },
  {
   "cell_type": "markdown",
   "metadata": {},
   "source": [
    "Voorbeelden:\n",
    "```python\n",
    "assert wisselgeld(100, [5, 5, 5, 10, 10, 25, 50]) == 5 # 5 + 10 + 10 + 25 + 50\n",
    "assert wisselgeld(120, [5, 5, 5, 10, 10, 25, 50]) == -1 # 5 + 5 + 5 +10 + 10 + 25 + 50 = 110\n",
    "assert wisselgeld(32, [1, 5, 5, 10, 10, 25, 50]) == -1 # 25 + 5 + 1 = 31. 32 is niet mogelijk. \n",
    "```"
   ]
  },
  {
   "cell_type": "markdown",
   "metadata": {},
   "source": [
    "## Opgave 3"
   ]
  },
  {
   "cell_type": "markdown",
   "metadata": {},
   "source": [
    "Schrijf een functie `minimum_munten(bedrag, munten)` met de integer bedrag dat een hoeveel geld in cent aangeeft en de lijst munten met int waardes dat aangeeft welke munten er zijn. De functie geeft de minimale hoeveelheid munten terug dat er gebruikt moet worden om het bedrag te betalen. Als het niet mogelijk is om het bedrag te betalen, dan geeft de funtie een -1 terug.  "
   ]
  },
  {
   "cell_type": "markdown",
   "metadata": {},
   "source": [
    "Voorbeelden:\n",
    "```python\n",
    "assert wisselgeld(100, [5, 5, 5, 10, 10, 25, 50]) == 5 # 5 + 10 + 10 + 25 + 50\n",
    "assert wisselgeld(120, [5, 5, 5, 10, 10, 25, 50]) == -1 # 5 + 5 + 5 +10 + 10 + 25 + 50 = 110\n",
    "assert wisselgeld(32, [1, 5, 5, 10, 10, 25, 50]) == -1 # 25 + 5 + 1 = 31. 32 is niet mogelijk. \n",
    "```"
   ]
  }
 ],
 "metadata": {
  "language_info": {
   "name": "python"
  }
 },
 "nbformat": 4,
 "nbformat_minor": 2
}
