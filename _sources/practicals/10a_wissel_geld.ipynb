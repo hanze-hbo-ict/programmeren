{
 "cells": [
  {
   "cell_type": "markdown",
   "metadata": {},
   "source": [
    "# Wisselgeld"
   ]
  },
  {
   "cell_type": "markdown",
   "metadata": {},
   "source": [
    "## Opgave 1\n",
    "\n",
    "Schrijf een functie `exact_change(target_amount, L)` die een integer `target_amount` accepteert (een hoeveelheid geld in centen) en een lijst `L` die munten van type `int` (centen) bevat.\n",
    "\n",
    "De functie controleert of het bedrag `target_amount` betaald kan worden met de munten in `L`. Indien het bedrag betaald kan worden geeft de functie `True` terug en anders `False`. "
   ]
  },
  {
   "cell_type": "markdown",
   "metadata": {},
   "source": [
    "Gebruik de volgende assertions om jouw oplossing te controleren:\n",
    "\n",
    "```python\n",
    "assert exact_change(100, [5, 5, 5, 10, 10, 25, 50]) == True # 5 + 10 + 10 + 25 + 50\n",
    "assert exact_change(120, [5, 5, 5, 10, 10, 25, 50]) == False # 5 + 5 + 5 +10 + 10 + 25 + 50 = 110\n",
    "assert exact_change(32, [1, 5, 5, 10, 10, 25, 50]) == False # 25 + 5 + 1 = 31. 32 is niet mogelijk.\n",
    "assert exact_change(42, []) is False # er zijn geen munten ...\n",
    "assert exact_change(0, [5, 5]) is True # er is geen bedrag te betalen ...\n",
    "\n",
    "```"
   ]
  },
  {
   "cell_type": "markdown",
   "metadata": {},
   "source": [
    "## Opgave 2"
   ]
  },
  {
   "cell_type": "markdown",
   "metadata": {},
   "source": [
    "Schrijf een functie `num_coins(target_amount, L)` die een integer `target_amount` accepteert (een hoeveelheid geld in centen) en een lijst `L` die munten van type `int` (centen) bevat.\n",
    "\n",
    "De functie geeft terug hoeveel munten uit `L` gebruikt moeten worden om het bedrag `target_amount` te kunnen betalen. Indien meerdere opties mogelijk zijn dan mag elke willekeurige optie worden teruggegeven. Maar als het niet mogelijk is om het bedrag `target_amount` te betalen met de munten in `L` dan zal de functie 0 moeten teruggeven."
   ]
  },
  {
   "cell_type": "markdown",
   "metadata": {},
   "source": [
    "Voorbeelden:\n",
    "```python\n",
    "assert num_coins(100, [5, 5, 5, 10, 10, 25, 50]) == 5 # 5 + 10 + 10 + 25 + 50\n",
    "assert num_coins(120, [5, 5, 5, 10, 10, 25, 50]) == 0 # 5 + 5 + 5 +10 + 10 + 25 + 50 = 110\n",
    "assert num_coins(32, [1, 5, 5, 10, 10, 25, 50]) == 0 # 25 + 5 + 1 = 31. 32 is niet mogelijk.\n",
    "assert num_coins(0, [5, 5]) == 0\n",
    "assert num_coins(42, []) == 0\n",
    "```"
   ]
  },
  {
   "cell_type": "markdown",
   "metadata": {},
   "source": [
    "## Opgave 3"
   ]
  },
  {
   "cell_type": "markdown",
   "metadata": {},
   "source": [
    "Schrijf een functie `min_coins(target_amount, L)` die een integer `target_amount` accepteert (een hoeveelheid geld in centen) en een lijst `L` die munten van type `int` (centen) bevat.\n",
    "\n",
    "De functie geeft de *minimale* hoeveelheid munten terug die gebruikt moet worden om het bedrag te betalen. Indien het niet mogelijk is om het bedrag te betalen, dan geeft de functie -1 terug."
   ]
  },
  {
   "cell_type": "markdown",
   "metadata": {},
   "source": [
    "Voorbeelden:\n",
    "```python\n",
    "assert min_coins(100, [5, 5, 5, 10, 10, 25, 50]) == 5 # 5 + 10 + 10 + 25 + 50\n",
    "assert min_coins(120, [5, 5, 5, 10, 10, 25, 50]) == -1 # 5 + 5 + 5 +10 + 10 + 25 + 50 = 110\n",
    "assert min_coins(32, [1, 5, 5, 10, 10, 25, 50]) == -1 # 25 + 5 + 1 = 31. 32 is niet mogelijk. \n",
    "```"
   ]
  }
 ],
 "metadata": {
  "language_info": {
   "name": "python"
  }
 },
 "nbformat": 4,
 "nbformat_minor": 2
}
